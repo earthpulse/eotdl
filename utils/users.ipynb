{
 "cells": [
  {
   "cell_type": "code",
   "execution_count": 1,
   "id": "613b47c5",
   "metadata": {},
   "outputs": [],
   "source": [
    "import pandas as pd"
   ]
  },
  {
   "cell_type": "code",
   "execution_count": 10,
   "id": "fb08bf47",
   "metadata": {},
   "outputs": [],
   "source": [
    "users = pd.read_excel('users.xlsx')\n",
    "\n",
    "# users"
   ]
  },
  {
   "cell_type": "code",
   "execution_count": 11,
   "id": "d474bee4",
   "metadata": {},
   "outputs": [],
   "source": [
    "query = {\"email\": {\"$in\": users['Email'].tolist()}}\n",
    "# query"
   ]
  },
  {
   "cell_type": "code",
   "execution_count": 12,
   "id": "cd5ca03c",
   "metadata": {},
   "outputs": [],
   "source": [
    "_users = pd.read_csv('users2.csv')\n",
    "# _users"
   ]
  },
  {
   "cell_type": "code",
   "execution_count": 14,
   "id": "1a2842ed",
   "metadata": {},
   "outputs": [],
   "source": [
    "# Find all users in 'users' not in '_users' by email\n",
    "missing_users = users[~users['Email'].isin(_users['email'])]\n",
    "# missing_users\n"
   ]
  },
  {
   "cell_type": "code",
   "execution_count": 15,
   "id": "3ebcfa8e",
   "metadata": {},
   "outputs": [],
   "source": [
    "missing_users.to_excel('missing_users.xlsx', index=False)"
   ]
  },
  {
   "cell_type": "code",
   "execution_count": 16,
   "id": "064be0fe",
   "metadata": {},
   "outputs": [],
   "source": [
    "# _users.id.values"
   ]
  },
  {
   "cell_type": "code",
   "execution_count": null,
   "id": "0a90db84",
   "metadata": {},
   "outputs": [],
   "source": []
  }
 ],
 "metadata": {
  "kernelspec": {
   "display_name": ".venv",
   "language": "python",
   "name": "python3"
  },
  "language_info": {
   "codemirror_mode": {
    "name": "ipython",
    "version": 3
   },
   "file_extension": ".py",
   "mimetype": "text/x-python",
   "name": "python",
   "nbconvert_exporter": "python",
   "pygments_lexer": "ipython3",
   "version": "3.12.9"
  }
 },
 "nbformat": 4,
 "nbformat_minor": 5
}
