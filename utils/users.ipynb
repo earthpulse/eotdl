{
 "cells": [
  {
   "cell_type": "code",
   "execution_count": 1,
   "id": "613b47c5",
   "metadata": {},
   "outputs": [
    {
     "data": {
      "text/plain": [
       "True"
      ]
     },
     "execution_count": 1,
     "metadata": {},
     "output_type": "execute_result"
    }
   ],
   "source": [
    "import pandas as pd\n",
    "import requests\n",
    "import os\n",
    "from dotenv import load_dotenv\n",
    "from tqdm import tqdm\n",
    "\n",
    "load_dotenv()"
   ]
  },
  {
   "cell_type": "code",
   "execution_count": null,
   "id": "fb08bf47",
   "metadata": {},
   "outputs": [],
   "source": [
    "file = 'users_ai-for-earthquake-response_19.xlsx'\n",
    "users = pd.read_excel(file)\n",
    "\n",
    "# users"
   ]
  },
  {
   "cell_type": "code",
   "execution_count": 3,
   "id": "fda60b7f",
   "metadata": {},
   "outputs": [
    {
     "data": {
      "text/plain": [
       "array(['Yes', 'No'], dtype=object)"
      ]
     },
     "execution_count": 3,
     "metadata": {},
     "output_type": "execute_result"
    }
   ],
   "source": [
    "users['Applicable?'].unique()"
   ]
  },
  {
   "cell_type": "code",
   "execution_count": 4,
   "id": "50f5c3e0",
   "metadata": {},
   "outputs": [
    {
     "data": {
      "text/plain": [
       "(142, 10)"
      ]
     },
     "execution_count": 4,
     "metadata": {},
     "output_type": "execute_result"
    }
   ],
   "source": [
    "valid_users = users[users['Applicable?'] == 'Yes']\n",
    "\n",
    "valid_users.shape"
   ]
  },
  {
   "cell_type": "code",
   "execution_count": 5,
   "id": "4ee381f0",
   "metadata": {},
   "outputs": [
    {
     "data": {
      "text/plain": [
       "(135, 10)"
      ]
     },
     "execution_count": 5,
     "metadata": {},
     "output_type": "execute_result"
    }
   ],
   "source": [
    "invalid_users = users[users['Applicable?'] == 'No']\n",
    "\n",
    "invalid_users.shape"
   ]
  },
  {
   "cell_type": "code",
   "execution_count": 6,
   "id": "51f2ea3e",
   "metadata": {},
   "outputs": [
    {
     "name": "stderr",
     "output_type": "stream",
     "text": [
      "100%|██████████| 277/277 [00:53<00:00,  5.15it/s]\n"
     ]
    }
   ],
   "source": [
    "api_url = 'https://api.eotdl.com'\n",
    "dataset_ids = ['685fdfd4acc05f06ec9919e5', '687b5f9825bb57c11769bb8d'] \n",
    "# ai-for-earthquake-response (slim and full)\n",
    "\n",
    "eotdl_responses_slim, eotdl_responses_full = [], []\n",
    "for _, user in tqdm(users.iterrows(), total=len(users)):\n",
    "    if user['Applicable?'] != 'Yes':\n",
    "        eotdl_responses_slim.append('not added')\n",
    "        eotdl_responses_full.append('not added')        \n",
    "        continue\n",
    "    # print(user.Email)\n",
    "    for ix, dataset_id in enumerate(dataset_ids):\n",
    "        response = requests.patch(\n",
    "            f\"{api_url}/datasets/{dataset_id}/allow-user\", \n",
    "            headers={\"X-API-Key\": os.getenv('KEY')},\n",
    "            json={\"email\": user.Email}\n",
    "        )\n",
    "        # print(response.status_code)\n",
    "        # print(response.json())\n",
    "        if response.status_code == 200:\n",
    "            if ix == 0:\n",
    "                eotdl_responses_slim.append('added')\n",
    "            else:\n",
    "                eotdl_responses_full.append('added')\n",
    "        else:\n",
    "            if ix == 0:\n",
    "                eotdl_responses_slim.append(response.json()['detail'])\n",
    "            else:\n",
    "                eotdl_responses_full.append(response.json()['detail'])\n",
    "    # break"
   ]
  },
  {
   "cell_type": "code",
   "execution_count": 7,
   "id": "b1fc8a5e",
   "metadata": {},
   "outputs": [],
   "source": [
    "users['EOTDL Response (slim)'] = eotdl_responses_slim\n",
    "users['EOTDL Response (full)'] = eotdl_responses_full\n",
    "\n",
    "# users"
   ]
  },
  {
   "cell_type": "code",
   "execution_count": null,
   "id": "80b48ae6",
   "metadata": {},
   "outputs": [],
   "source": [
    "users.to_excel(file.replace('.xlsx', '_eotdl.xlsx'), index=False)"
   ]
  },
  {
   "cell_type": "code",
   "execution_count": null,
   "id": "3aac9c10",
   "metadata": {},
   "outputs": [],
   "source": []
  },
  {
   "cell_type": "code",
   "execution_count": null,
   "id": "244c9e00",
   "metadata": {},
   "outputs": [],
   "source": []
  }
 ],
 "metadata": {
  "kernelspec": {
   "display_name": ".venv",
   "language": "python",
   "name": "python3"
  },
  "language_info": {
   "codemirror_mode": {
    "name": "ipython",
    "version": 3
   },
   "file_extension": ".py",
   "mimetype": "text/x-python",
   "name": "python",
   "nbconvert_exporter": "python",
   "pygments_lexer": "ipython3",
   "version": "3.12.9"
  }
 },
 "nbformat": 4,
 "nbformat_minor": 5
}
