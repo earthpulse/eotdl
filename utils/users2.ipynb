{
 "cells": [
  {
   "cell_type": "code",
   "execution_count": 2,
   "id": "a9582f6e",
   "metadata": {},
   "outputs": [
    {
     "data": {
      "text/plain": [
       "True"
      ]
     },
     "execution_count": 2,
     "metadata": {},
     "output_type": "execute_result"
    }
   ],
   "source": [
    "from dotenv import load_dotenv\n",
    "import requests\n",
    "import os\n",
    "\n",
    "load_dotenv()\n"
   ]
  },
  {
   "cell_type": "code",
   "execution_count": 22,
   "id": "358b9d70",
   "metadata": {},
   "outputs": [],
   "source": [
    "# dataset_id = \"683097e55af2959b15890d3c\" # not exists\n",
    "# dataset_id = \"68308d1475a04ffe00e7a26e\" # public\n",
    "dataset_id = \"6870f8bc7a5da4aa5b27fe02\" # private\n",
    "\n",
    "api_url = \"http://localhost:8000/\"\n",
    "\n",
    "# add_user = \"juan@eotdl.com\" # not exists\n",
    "# add_user = \"juan@earthpulse.es\" \n",
    "add_user = \"it@earthpulse.es\" # owner"
   ]
  },
  {
   "cell_type": "code",
   "execution_count": 23,
   "id": "d819801e",
   "metadata": {},
   "outputs": [
    {
     "name": "stdout",
     "output_type": "stream",
     "text": [
      "409\n",
      "{'detail': 'This user is already allowed to access the dataset'}\n"
     ]
    }
   ],
   "source": [
    "response = requests.patch(\n",
    "    f\"{api_url}/datasets/{dataset_id}/allow-user\", \n",
    "    headers={\"X-API-Key\": os.getenv('KEY')},\n",
    "    json={\"email\": add_user}\n",
    ")\n",
    "\n",
    "print(response.status_code)\n",
    "print(response.json())"
   ]
  },
  {
   "cell_type": "code",
   "execution_count": 24,
   "id": "2ac5552e",
   "metadata": {},
   "outputs": [
    {
     "name": "stdout",
     "output_type": "stream",
     "text": [
      "409\n",
      "{'detail': 'You cannot remove yourself from the dataset'}\n"
     ]
    }
   ],
   "source": [
    "response = requests.patch(\n",
    "    f\"{api_url}/datasets/{dataset_id}/remove-user\", \n",
    "    headers={\"X-API-Key\": os.getenv('KEY')},\n",
    "    json={\"email\": add_user}\n",
    ")\n",
    "\n",
    "print(response.status_code)\n",
    "print(response.json())"
   ]
  }
 ],
 "metadata": {
  "kernelspec": {
   "display_name": ".venv",
   "language": "python",
   "name": "python3"
  },
  "language_info": {
   "codemirror_mode": {
    "name": "ipython",
    "version": 3
   },
   "file_extension": ".py",
   "mimetype": "text/x-python",
   "name": "python",
   "nbconvert_exporter": "python",
   "pygments_lexer": "ipython3",
   "version": "3.12.9"
  }
 },
 "nbformat": 4,
 "nbformat_minor": 5
}
