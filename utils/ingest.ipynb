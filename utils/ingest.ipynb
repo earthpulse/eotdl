{
   "cells": [
      {
         "cell_type": "code",
         "execution_count": 1,
         "metadata": {},
         "outputs": [
            {
               "data": {
                  "text/plain": [
                     "True"
                  ]
               },
               "execution_count": 1,
               "metadata": {},
               "output_type": "execute_result"
            }
         ],
         "source": [
            "from minio import Minio\n",
            "import dotenv\n",
            "import os\n",
            "from glob import glob\n",
            "from tqdm import tqdm\n",
            "from pathlib import Path\n",
            "from datetime import datetime\n",
            "from shapely.geometry import Polygon\n",
            "from pathlib import Path\n",
            "import hashlib\n",
            "import geopandas as gpd\n",
            "\n",
            "dotenv.load_dotenv()"
         ]
      },
      {
         "cell_type": "code",
         "execution_count": 2,
         "metadata": {},
         "outputs": [],
         "source": [
            "client = Minio(\n",
            "\tendpoint=os.environ['S3_ENDPOINT'],\n",
            "\taccess_key=os.environ['ACCESS_KEY_ID'],\n",
            "\tsecret_key=os.environ['SECRET_ACCESS_KEY'],\n",
            "\tsecure=True,\n",
            ")"
         ]
      },
      {
         "cell_type": "code",
         "execution_count": 3,
         "metadata": {},
         "outputs": [],
         "source": [
            "# dataset_id = \"685fdfd4acc05f06ec9919e5\"\n",
            "dataset_id = \"68b957ec9fc8ac5128705dbf\" # phase 2\n",
            "# path = \"/fastdata/charter-slim-dataset/\"\n",
            "path = \"/fastdata/charter-testing-dataset/\""
         ]
      },
      {
         "cell_type": "code",
         "execution_count": null,
         "metadata": {},
         "outputs": [],
         "source": [
            "# # Delete all objects under the prefix, sorting by depth (number of '/' in object_name) descending\n",
            "objects_to_delete = list(client.list_objects(os.environ['BUCKET'], prefix=dataset_id + '/', recursive=True))\n",
            "# # Sort by number of '/' in object_name, descending (deepest first)\n",
            "objects_to_delete.sort(key=lambda obj: obj.object_name.count('/'), reverse=True)\n",
            "for obj in objects_to_delete:\n",
            "    # try:\n",
            "    #     client.remove_object(os.environ['BUCKET'], obj.object_name)\n",
            "    # except Exception as e:\n",
            "    #     print(e)\n",
            "    # print(obj.object_name)"
         ]
      },
      {
         "cell_type": "code",
         "execution_count": 10,
         "metadata": {},
         "outputs": [
            {
               "data": {
                  "text/plain": [
                     "93"
                  ]
               },
               "execution_count": 10,
               "metadata": {},
               "output_type": "execute_result"
            }
         ],
         "source": [
            "files = glob(path + '**/*', recursive=True)\n",
            "len(files)"
         ]
      },
      {
         "cell_type": "code",
         "execution_count": 11,
         "metadata": {},
         "outputs": [
            {
               "name": "stderr",
               "output_type": "stream",
               "text": [
                  "100%|██████████| 93/93 [06:24<00:00,  4.14s/it]\n"
               ]
            }
         ],
         "source": [
            "for file in tqdm(files):\n",
            "    if os.path.isdir(file): continue\n",
            "    object_name = dataset_id + '/' + file.replace(path, '')\n",
            "    # stats = client.stat_object(os.environ['BUCKET'], object_name)\n",
            "    # if stats: continue\n",
            "    client.fput_object(\n",
            "        os.environ['BUCKET'],\n",
            "        object_name,\n",
            "        file,\n",
            "    )"
         ]
      },
      {
         "cell_type": "code",
         "execution_count": 12,
         "metadata": {},
         "outputs": [],
         "source": [
            "def calculate_checksum(file_path):\n",
            "    sha1_hash = hashlib.sha1()\n",
            "    with open(file_path, \"rb\") as file:\n",
            "        for chunk in iter(lambda: file.read(4096), b\"\"):\n",
            "            sha1_hash.update(chunk)\n",
            "    return sha1_hash.hexdigest()\n",
            "\n",
            "def create_stac_item(item_id, asset_href):\n",
            "\treturn {\n",
            "\t\t'type': 'Feature',\n",
            "\t\t'stac_version': '1.0.0',\n",
            "\t\t'stac_extensions': [],\n",
            "\t\t'datetime': datetime.now(),  # must be native timestamp (https://github.com/apache/parquet-format/blob/master/LogicalTypes.md#timestamp)\n",
            "\t\t'id': item_id,\n",
            "\t\t'bbox': {\n",
            "\t\t\t'xmin': 0.0,\n",
            "\t\t\t'ymin': 0.0,\n",
            "\t\t\t'xmax': 0.0,\n",
            "\t\t\t'ymax': 0.0\n",
            "\t\t}, \n",
            "\t\t'geometry': Polygon(), # empty polygon\n",
            "\t\t'assets': { 'asset': { \n",
            "\t\t\t'href': asset_href,\n",
            "\t\t\t'checksum': calculate_checksum(asset_href),\n",
            "\t\t\t'timestamp': datetime.now(),\n",
            "\t\t\t'size': Path(asset_href).stat().st_size,\n",
            "\t\t}},\n",
            "\t\t\"links\": [],\n",
            "\t\t# 'collection': 'source',\n",
            "\t\t# anything below are properties (need at least one!)\n",
            "\t\t'repository': 'eotdl',\t\t\t\t\n",
            "\t}"
         ]
      },
      {
         "cell_type": "code",
         "execution_count": 13,
         "metadata": {},
         "outputs": [
            {
               "name": "stderr",
               "output_type": "stream",
               "text": [
                  "100%|██████████| 92/92 [00:21<00:00,  4.35it/s] \n"
               ]
            }
         ],
         "source": [
            "catalog_path = Path(path + \"catalog.parquet\")\n",
            "files = [f for f in files if f != str(catalog_path)]\n",
            "data = []\n",
            "for file in tqdm(files):\n",
            "    file_path = Path(file)\n",
            "    if file_path.is_file():\n",
            "        relative_path = os.path.relpath(file_path, catalog_path.parent)\n",
            "        absolute_path = str(file_path)\n",
            "        stac_item = create_stac_item(relative_path, absolute_path)\n",
            "        stac_item['assets']['asset']['href'] = f\"https://api.eotdl.com/datasets/{dataset_id}/stage/{relative_path}\"\n",
            "        data.append(stac_item)\n",
            "gdf = gpd.GeoDataFrame(data, geometry='geometry')\n",
            "gdf.to_parquet(catalog_path)"
         ]
      },
      {
         "cell_type": "code",
         "execution_count": 14,
         "metadata": {},
         "outputs": [
            {
               "data": {
                  "text/html": [
                     "<div>\n",
                     "<style scoped>\n",
                     "    .dataframe tbody tr th:only-of-type {\n",
                     "        vertical-align: middle;\n",
                     "    }\n",
                     "\n",
                     "    .dataframe tbody tr th {\n",
                     "        vertical-align: top;\n",
                     "    }\n",
                     "\n",
                     "    .dataframe thead th {\n",
                     "        text-align: right;\n",
                     "    }\n",
                     "</style>\n",
                     "<table border=\"1\" class=\"dataframe\">\n",
                     "  <thead>\n",
                     "    <tr style=\"text-align: right;\">\n",
                     "      <th></th>\n",
                     "      <th>type</th>\n",
                     "      <th>stac_version</th>\n",
                     "      <th>stac_extensions</th>\n",
                     "      <th>datetime</th>\n",
                     "      <th>id</th>\n",
                     "      <th>bbox</th>\n",
                     "      <th>geometry</th>\n",
                     "      <th>assets</th>\n",
                     "      <th>links</th>\n",
                     "      <th>repository</th>\n",
                     "    </tr>\n",
                     "  </thead>\n",
                     "  <tbody>\n",
                     "    <tr>\n",
                     "      <th>0</th>\n",
                     "      <td>Feature</td>\n",
                     "      <td>1.0.0</td>\n",
                     "      <td>[]</td>\n",
                     "      <td>2025-09-04 11:28:56.252078</td>\n",
                     "      <td>catalog.json</td>\n",
                     "      <td>{'xmin': 0.0, 'ymin': 0.0, 'xmax': 0.0, 'ymax'...</td>\n",
                     "      <td>POLYGON EMPTY</td>\n",
                     "      <td>{'asset': {'href': 'https://api.eotdl.com/data...</td>\n",
                     "      <td>[]</td>\n",
                     "      <td>eotdl</td>\n",
                     "    </tr>\n",
                     "    <tr>\n",
                     "      <th>1</th>\n",
                     "      <td>Feature</td>\n",
                     "      <td>1.0.0</td>\n",
                     "      <td>[]</td>\n",
                     "      <td>2025-09-04 11:28:56.252698</td>\n",
                     "      <td>Dataset-details-for-AOI.xlsx</td>\n",
                     "      <td>{'xmin': 0.0, 'ymin': 0.0, 'xmax': 0.0, 'ymax'...</td>\n",
                     "      <td>POLYGON EMPTY</td>\n",
                     "      <td>{'asset': {'href': 'https://api.eotdl.com/data...</td>\n",
                     "      <td>[]</td>\n",
                     "      <td>eotdl</td>\n",
                     "    </tr>\n",
                     "    <tr>\n",
                     "      <th>2</th>\n",
                     "      <td>Feature</td>\n",
                     "      <td>1.0.0</td>\n",
                     "      <td>[]</td>\n",
                     "      <td>2025-09-04 11:28:56.252902</td>\n",
                     "      <td>charter-testing-dataset.structure</td>\n",
                     "      <td>{'xmin': 0.0, 'ymin': 0.0, 'xmax': 0.0, 'ymax'...</td>\n",
                     "      <td>POLYGON EMPTY</td>\n",
                     "      <td>{'asset': {'href': 'https://api.eotdl.com/data...</td>\n",
                     "      <td>[]</td>\n",
                     "      <td>eotdl</td>\n",
                     "    </tr>\n",
                     "    <tr>\n",
                     "      <th>3</th>\n",
                     "      <td>Feature</td>\n",
                     "      <td>1.0.0</td>\n",
                     "      <td>[]</td>\n",
                     "      <td>2025-09-04 11:28:56.253055</td>\n",
                     "      <td>README.md</td>\n",
                     "      <td>{'xmin': 0.0, 'ymin': 0.0, 'xmax': 0.0, 'ymax'...</td>\n",
                     "      <td>POLYGON EMPTY</td>\n",
                     "      <td>{'asset': {'href': 'https://api.eotdl.com/data...</td>\n",
                     "      <td>[]</td>\n",
                     "      <td>eotdl</td>\n",
                     "    </tr>\n",
                     "    <tr>\n",
                     "      <th>4</th>\n",
                     "      <td>Feature</td>\n",
                     "      <td>1.0.0</td>\n",
                     "      <td>[]</td>\n",
                     "      <td>2025-09-04 11:28:56.253234</td>\n",
                     "      <td>charter-testing-dataset.filelist</td>\n",
                     "      <td>{'xmin': 0.0, 'ymin': 0.0, 'xmax': 0.0, 'ymax'...</td>\n",
                     "      <td>POLYGON EMPTY</td>\n",
                     "      <td>{'asset': {'href': 'https://api.eotdl.com/data...</td>\n",
                     "      <td>[]</td>\n",
                     "      <td>eotdl</td>\n",
                     "    </tr>\n",
                     "    <tr>\n",
                     "      <th>...</th>\n",
                     "      <td>...</td>\n",
                     "      <td>...</td>\n",
                     "      <td>...</td>\n",
                     "      <td>...</td>\n",
                     "      <td>...</td>\n",
                     "      <td>...</td>\n",
                     "      <td>...</td>\n",
                     "      <td>...</td>\n",
                     "      <td>...</td>\n",
                     "      <td>...</td>\n",
                     "    </tr>\n",
                     "    <tr>\n",
                     "      <th>63</th>\n",
                     "      <td>Feature</td>\n",
                     "      <td>1.0.0</td>\n",
                     "      <td>[]</td>\n",
                     "      <td>2025-09-04 11:29:15.872850</td>\n",
                     "      <td>Testing/Call_919_Turkey/DS_PHR1B_2020100308420...</td>\n",
                     "      <td>{'xmin': 0.0, 'ymin': 0.0, 'xmax': 0.0, 'ymax'...</td>\n",
                     "      <td>POLYGON EMPTY</td>\n",
                     "      <td>{'asset': {'href': 'https://api.eotdl.com/data...</td>\n",
                     "      <td>[]</td>\n",
                     "      <td>eotdl</td>\n",
                     "    </tr>\n",
                     "    <tr>\n",
                     "      <th>64</th>\n",
                     "      <td>Feature</td>\n",
                     "      <td>1.0.0</td>\n",
                     "      <td>[]</td>\n",
                     "      <td>2025-09-04 11:29:16.091751</td>\n",
                     "      <td>Testing/Call_919_Turkey/DS_PHR1B_2020100308420...</td>\n",
                     "      <td>{'xmin': 0.0, 'ymin': 0.0, 'xmax': 0.0, 'ymax'...</td>\n",
                     "      <td>POLYGON EMPTY</td>\n",
                     "      <td>{'asset': {'href': 'https://api.eotdl.com/data...</td>\n",
                     "      <td>[]</td>\n",
                     "      <td>eotdl</td>\n",
                     "    </tr>\n",
                     "    <tr>\n",
                     "      <th>65</th>\n",
                     "      <td>Feature</td>\n",
                     "      <td>1.0.0</td>\n",
                     "      <td>[]</td>\n",
                     "      <td>2025-09-04 11:29:16.528232</td>\n",
                     "      <td>Testing/Call_919_Turkey/DS_PHR1B_2020100308420...</td>\n",
                     "      <td>{'xmin': 0.0, 'ymin': 0.0, 'xmax': 0.0, 'ymax'...</td>\n",
                     "      <td>POLYGON EMPTY</td>\n",
                     "      <td>{'asset': {'href': 'https://api.eotdl.com/data...</td>\n",
                     "      <td>[]</td>\n",
                     "      <td>eotdl</td>\n",
                     "    </tr>\n",
                     "    <tr>\n",
                     "      <th>66</th>\n",
                     "      <td>Feature</td>\n",
                     "      <td>1.0.0</td>\n",
                     "      <td>[]</td>\n",
                     "      <td>2025-09-04 11:29:16.964728</td>\n",
                     "      <td>Testing/Call_919_Turkey/DS_PHR1B_2020100308420...</td>\n",
                     "      <td>{'xmin': 0.0, 'ymin': 0.0, 'xmax': 0.0, 'ymax'...</td>\n",
                     "      <td>POLYGON EMPTY</td>\n",
                     "      <td>{'asset': {'href': 'https://api.eotdl.com/data...</td>\n",
                     "      <td>[]</td>\n",
                     "      <td>eotdl</td>\n",
                     "    </tr>\n",
                     "    <tr>\n",
                     "      <th>67</th>\n",
                     "      <td>Feature</td>\n",
                     "      <td>1.0.0</td>\n",
                     "      <td>[]</td>\n",
                     "      <td>2025-09-04 11:29:17.184276</td>\n",
                     "      <td>Testing/Call_919_Turkey/DS_PHR1B_2020100308420...</td>\n",
                     "      <td>{'xmin': 0.0, 'ymin': 0.0, 'xmax': 0.0, 'ymax'...</td>\n",
                     "      <td>POLYGON EMPTY</td>\n",
                     "      <td>{'asset': {'href': 'https://api.eotdl.com/data...</td>\n",
                     "      <td>[]</td>\n",
                     "      <td>eotdl</td>\n",
                     "    </tr>\n",
                     "  </tbody>\n",
                     "</table>\n",
                     "<p>68 rows × 10 columns</p>\n",
                     "</div>"
                  ],
                  "text/plain": [
                     "       type stac_version stac_extensions                   datetime  \\\n",
                     "0   Feature        1.0.0              [] 2025-09-04 11:28:56.252078   \n",
                     "1   Feature        1.0.0              [] 2025-09-04 11:28:56.252698   \n",
                     "2   Feature        1.0.0              [] 2025-09-04 11:28:56.252902   \n",
                     "3   Feature        1.0.0              [] 2025-09-04 11:28:56.253055   \n",
                     "4   Feature        1.0.0              [] 2025-09-04 11:28:56.253234   \n",
                     "..      ...          ...             ...                        ...   \n",
                     "63  Feature        1.0.0              [] 2025-09-04 11:29:15.872850   \n",
                     "64  Feature        1.0.0              [] 2025-09-04 11:29:16.091751   \n",
                     "65  Feature        1.0.0              [] 2025-09-04 11:29:16.528232   \n",
                     "66  Feature        1.0.0              [] 2025-09-04 11:29:16.964728   \n",
                     "67  Feature        1.0.0              [] 2025-09-04 11:29:17.184276   \n",
                     "\n",
                     "                                                   id  \\\n",
                     "0                                        catalog.json   \n",
                     "1                        Dataset-details-for-AOI.xlsx   \n",
                     "2                   charter-testing-dataset.structure   \n",
                     "3                                           README.md   \n",
                     "4                    charter-testing-dataset.filelist   \n",
                     "..                                                ...   \n",
                     "63  Testing/Call_919_Turkey/DS_PHR1B_2020100308420...   \n",
                     "64  Testing/Call_919_Turkey/DS_PHR1B_2020100308420...   \n",
                     "65  Testing/Call_919_Turkey/DS_PHR1B_2020100308420...   \n",
                     "66  Testing/Call_919_Turkey/DS_PHR1B_2020100308420...   \n",
                     "67  Testing/Call_919_Turkey/DS_PHR1B_2020100308420...   \n",
                     "\n",
                     "                                                 bbox       geometry  \\\n",
                     "0   {'xmin': 0.0, 'ymin': 0.0, 'xmax': 0.0, 'ymax'...  POLYGON EMPTY   \n",
                     "1   {'xmin': 0.0, 'ymin': 0.0, 'xmax': 0.0, 'ymax'...  POLYGON EMPTY   \n",
                     "2   {'xmin': 0.0, 'ymin': 0.0, 'xmax': 0.0, 'ymax'...  POLYGON EMPTY   \n",
                     "3   {'xmin': 0.0, 'ymin': 0.0, 'xmax': 0.0, 'ymax'...  POLYGON EMPTY   \n",
                     "4   {'xmin': 0.0, 'ymin': 0.0, 'xmax': 0.0, 'ymax'...  POLYGON EMPTY   \n",
                     "..                                                ...            ...   \n",
                     "63  {'xmin': 0.0, 'ymin': 0.0, 'xmax': 0.0, 'ymax'...  POLYGON EMPTY   \n",
                     "64  {'xmin': 0.0, 'ymin': 0.0, 'xmax': 0.0, 'ymax'...  POLYGON EMPTY   \n",
                     "65  {'xmin': 0.0, 'ymin': 0.0, 'xmax': 0.0, 'ymax'...  POLYGON EMPTY   \n",
                     "66  {'xmin': 0.0, 'ymin': 0.0, 'xmax': 0.0, 'ymax'...  POLYGON EMPTY   \n",
                     "67  {'xmin': 0.0, 'ymin': 0.0, 'xmax': 0.0, 'ymax'...  POLYGON EMPTY   \n",
                     "\n",
                     "                                               assets links repository  \n",
                     "0   {'asset': {'href': 'https://api.eotdl.com/data...    []      eotdl  \n",
                     "1   {'asset': {'href': 'https://api.eotdl.com/data...    []      eotdl  \n",
                     "2   {'asset': {'href': 'https://api.eotdl.com/data...    []      eotdl  \n",
                     "3   {'asset': {'href': 'https://api.eotdl.com/data...    []      eotdl  \n",
                     "4   {'asset': {'href': 'https://api.eotdl.com/data...    []      eotdl  \n",
                     "..                                                ...   ...        ...  \n",
                     "63  {'asset': {'href': 'https://api.eotdl.com/data...    []      eotdl  \n",
                     "64  {'asset': {'href': 'https://api.eotdl.com/data...    []      eotdl  \n",
                     "65  {'asset': {'href': 'https://api.eotdl.com/data...    []      eotdl  \n",
                     "66  {'asset': {'href': 'https://api.eotdl.com/data...    []      eotdl  \n",
                     "67  {'asset': {'href': 'https://api.eotdl.com/data...    []      eotdl  \n",
                     "\n",
                     "[68 rows x 10 columns]"
                  ]
               },
               "execution_count": 14,
               "metadata": {},
               "output_type": "execute_result"
            }
         ],
         "source": [
            "gdf"
         ]
      },
      {
         "cell_type": "code",
         "execution_count": 15,
         "metadata": {},
         "outputs": [
            {
               "data": {
                  "text/plain": [
                     "<minio.helpers.ObjectWriteResult at 0x7dda71d86d20>"
                  ]
               },
               "execution_count": 15,
               "metadata": {},
               "output_type": "execute_result"
            }
         ],
         "source": [
            "client.fput_object(\n",
            "    os.environ['BUCKET'],\n",
            "    f'{dataset_id}/catalog.v1.parquet',\n",
            "    catalog_path,\n",
            ")   "
         ]
      },
      {
         "cell_type": "code",
         "execution_count": 16,
         "metadata": {},
         "outputs": [
            {
               "data": {
                  "text/plain": [
                     "26856678502"
                  ]
               },
               "execution_count": 16,
               "metadata": {},
               "output_type": "execute_result"
            }
         ],
         "source": [
            "size = 0\n",
            "for asset in gdf.assets:\n",
            "    size += asset['asset']['size']\n",
            "size"
         ]
      },
      {
         "cell_type": "code",
         "execution_count": 18,
         "metadata": {},
         "outputs": [],
         "source": [
            "gdf = gpd.read_parquet(\"../kk2/charter-eo4ai-etq-challenge-testing/catalog.v1.parquet\")"
         ]
      },
      {
         "cell_type": "code",
         "execution_count": 19,
         "metadata": {},
         "outputs": [
            {
               "data": {
                  "text/plain": [
                     "(68, 10)"
                  ]
               },
               "execution_count": 19,
               "metadata": {},
               "output_type": "execute_result"
            }
         ],
         "source": [
            "gdf.shape"
         ]
      },
      {
         "cell_type": "code",
         "execution_count": 20,
         "metadata": {},
         "outputs": [
            {
               "data": {
                  "text/plain": [
                     "array([{'asset': {'checksum': '4b816935974362125bbe5b59281ababd7198be3e', 'href': 'https://api.eotdl.com/datasets/68b957ec9fc8ac5128705dbf/stage/catalog.json', 'size': 900, 'timestamp': datetime.datetime(2025, 9, 4, 11, 28, 56, 252586)}},\n",
                     "       {'asset': {'checksum': '3b4e221915ab9335ea371f0fc4d6a371021d3df2', 'href': 'https://api.eotdl.com/datasets/68b957ec9fc8ac5128705dbf/stage/Dataset-details-for-AOI.xlsx', 'size': 11640, 'timestamp': datetime.datetime(2025, 9, 4, 11, 28, 56, 252821)}},\n",
                     "       {'asset': {'checksum': '37b8ac203e786221adb58d0072d0eb25e31d5946', 'href': 'https://api.eotdl.com/datasets/68b957ec9fc8ac5128705dbf/stage/charter-testing-dataset.structure', 'size': 1158, 'timestamp': datetime.datetime(2025, 9, 4, 11, 28, 56, 252981)}},\n",
                     "       {'asset': {'checksum': 'b0d8c35662bcd7eb73296a8ffb842efd7282a687', 'href': 'https://api.eotdl.com/datasets/68b957ec9fc8ac5128705dbf/stage/README.md', 'size': 9830, 'timestamp': datetime.datetime(2025, 9, 4, 11, 28, 56, 253163)}},\n",
                     "       {'asset': {'checksum': '69b43fa8c8377bef046a0266e5cca0ac66c15982', 'href': 'https://api.eotdl.com/datasets/68b957ec9fc8ac5128705dbf/stage/charter-testing-dataset.filelist', 'size': 3762, 'timestamp': datetime.datetime(2025, 9, 4, 11, 28, 56, 253315)}},\n",
                     "       {'asset': {'checksum': '976280f5631132aac44c15ec075564ee755f87f6', 'href': 'https://api.eotdl.com/datasets/68b957ec9fc8ac5128705dbf/stage/Testing/testing-dataset.contents', 'size': 7756, 'timestamp': datetime.datetime(2025, 9, 4, 11, 28, 56, 253506)}},\n",
                     "       {'asset': {'checksum': '4868144120b587cbb28297f7fb4e675f51720355', 'href': 'https://api.eotdl.com/datasets/68b957ec9fc8ac5128705dbf/stage/Testing/Annotations/Call_1095_Myanmar/Mandalay_Buildings_for_Participants.gpkg', 'size': 98721792, 'timestamp': datetime.datetime(2025, 9, 4, 11, 28, 56, 394748)}},\n",
                     "       {'asset': {'checksum': '69be3c0b40779155e030081e44db14021e63f3be', 'href': 'https://api.eotdl.com/datasets/68b957ec9fc8ac5128705dbf/stage/Testing/Annotations/Call_919_Turkey/Antakya_WEST_UTM37N_for-Participants.gpkg', 'size': 4415488, 'timestamp': datetime.datetime(2025, 9, 4, 11, 28, 56, 399197)}},\n",
                     "       {'asset': {'checksum': 'f007d4ea45e020dd08cc77a50df23821b5268a35', 'href': 'https://api.eotdl.com/datasets/68b957ec9fc8ac5128705dbf/stage/Testing/Annotations/Call_919_Turkey/Antakya_TESTING-Extent.gpkg', 'size': 106496, 'timestamp': datetime.datetime(2025, 9, 4, 11, 28, 56, 399360)}},\n",
                     "       {'asset': {'checksum': 'e7cc6075ac9feba6835667139e1a9266bc016f08', 'href': 'https://api.eotdl.com/datasets/68b957ec9fc8ac5128705dbf/stage/Testing/Call_1095_Myanmar/collection.json', 'size': 7513, 'timestamp': datetime.datetime(2025, 9, 4, 11, 28, 56, 399464)}},\n",
                     "       {'asset': {'checksum': '4613b1ab9daf69907409a159f114f1e6b2805f4b', 'href': 'https://api.eotdl.com/datasets/68b957ec9fc8ac5128705dbf/stage/Testing/Call_1095_Myanmar/WV02N21_930972E096_0381942025032300000000MS00-calibrated/WV02N21_930972E096_0381942025032300000000MS00-calibrated.json', 'size': 70261, 'timestamp': datetime.datetime(2025, 9, 4, 11, 28, 56, 399594)}},\n",
                     "       {'asset': {'checksum': '094c2b479f3ecae531d4017acc224fa5d37c352e', 'href': 'https://api.eotdl.com/datasets/68b957ec9fc8ac5128705dbf/stage/Testing/Call_1095_Myanmar/WV02N21_930972E096_0381942025032300000000MS00-calibrated/Optical_Calibration/r-green.tif', 'size': 65383888, 'timestamp': datetime.datetime(2025, 9, 4, 11, 28, 56, 450834)}},\n",
                     "       {'asset': {'checksum': '4dc6de53d250210ef41293a97295c8751fbaa520', 'href': 'https://api.eotdl.com/datasets/68b957ec9fc8ac5128705dbf/stage/Testing/Call_1095_Myanmar/WV02N21_930972E096_0381942025032300000000MS00-calibrated/Optical_Calibration/r-yellow.tif', 'size': 75696829, 'timestamp': datetime.datetime(2025, 9, 4, 11, 28, 56, 510280)}},\n",
                     "       {'asset': {'checksum': '0b5159b507c36573dfa633073aebc862362e17c5', 'href': 'https://api.eotdl.com/datasets/68b957ec9fc8ac5128705dbf/stage/Testing/Call_1095_Myanmar/WV02N21_930972E096_0381942025032300000000MS00-calibrated/Optical_Calibration/r-nir08.tif', 'size': 93192658, 'timestamp': datetime.datetime(2025, 9, 4, 11, 28, 56, 584337)}},\n",
                     "       {'asset': {'checksum': 'ca83ed03ea792fd241f1f06257680cb66d831e58', 'href': 'https://api.eotdl.com/datasets/68b957ec9fc8ac5128705dbf/stage/Testing/Call_1095_Myanmar/WV02N21_930972E096_0381942025032300000000MS00-calibrated/Optical_Calibration/r-nir09.tif', 'size': 91571609, 'timestamp': datetime.datetime(2025, 9, 4, 11, 28, 56, 656059)}},\n",
                     "       {'asset': {'checksum': '292cceb2d82dca52835a78057db81786f9c44a91', 'href': 'https://api.eotdl.com/datasets/68b957ec9fc8ac5128705dbf/stage/Testing/Call_1095_Myanmar/WV02N21_930972E096_0381942025032300000000MS00-calibrated/Optical_Calibration/overview-trc.tif', 'size': 114733554, 'timestamp': datetime.datetime(2025, 9, 4, 11, 28, 56, 745929)}},\n",
                     "       {'asset': {'checksum': 'b80450c7b1007aac966737781515e4ed7daf6beb', 'href': 'https://api.eotdl.com/datasets/68b957ec9fc8ac5128705dbf/stage/Testing/Call_1095_Myanmar/WV02N21_930972E096_0381942025032300000000MS00-calibrated/Optical_Calibration/r-blue.tif', 'size': 52615782, 'timestamp': datetime.datetime(2025, 9, 4, 11, 28, 56, 787137)}},\n",
                     "       {'asset': {'checksum': '6948f141070b10c3bf088f1c1d95957cd5db6d7e', 'href': 'https://api.eotdl.com/datasets/68b957ec9fc8ac5128705dbf/stage/Testing/Call_1095_Myanmar/WV02N21_930972E096_0381942025032300000000MS00-calibrated/Optical_Calibration/r-red.tif', 'size': 78374269, 'timestamp': datetime.datetime(2025, 9, 4, 11, 28, 56, 848504)}},\n",
                     "       {'asset': {'checksum': '15a489cb358eca7158ade534381da9a198441c27', 'href': 'https://api.eotdl.com/datasets/68b957ec9fc8ac5128705dbf/stage/Testing/Call_1095_Myanmar/WV02N21_930972E096_0381942025032300000000MS00-calibrated/Optical_Calibration/r-rededge.tif', 'size': 80412560, 'timestamp': datetime.datetime(2025, 9, 4, 11, 28, 56, 911395)}},\n",
                     "       {'asset': {'checksum': '134ecefe1ae0c314ce9b084564daf38dc9ed755b', 'href': 'https://api.eotdl.com/datasets/68b957ec9fc8ac5128705dbf/stage/Testing/Call_1095_Myanmar/WV02N21_930972E096_0381942025032300000000MS00-calibrated/Optical_Calibration/r-coastal.tif', 'size': 49309930, 'timestamp': datetime.datetime(2025, 9, 4, 11, 28, 56, 950003)}},\n",
                     "       {'asset': {'checksum': '3199b6984dc9f96b495f208e4c347382cde0c6fc', 'href': 'https://api.eotdl.com/datasets/68b957ec9fc8ac5128705dbf/stage/Testing/Call_1095_Myanmar/WV02N21_843194E096_0380552025032300000000PN01-calibrated/WV02N21_843194E096_0380552025032300000000PN01-calibrated.json', 'size': 19790, 'timestamp': datetime.datetime(2025, 9, 4, 11, 28, 56, 950091)}},\n",
                     "       {'asset': {'checksum': '8bcecf1861c0f6c6b8a89fb1c8b60128e1e7d8cc', 'href': 'https://api.eotdl.com/datasets/68b957ec9fc8ac5128705dbf/stage/Testing/Call_1095_Myanmar/WV02N21_843194E096_0380552025032300000000PN01-calibrated/Optical_Calibration/overview-pan.tif', 'size': 328467829, 'timestamp': datetime.datetime(2025, 9, 4, 11, 28, 57, 206063)}},\n",
                     "       {'asset': {'checksum': '6e037f69fc689b650d4a17f6103c697467220cfa', 'href': 'https://api.eotdl.com/datasets/68b957ec9fc8ac5128705dbf/stage/Testing/Call_1095_Myanmar/WV02N21_843194E096_0380552025032300000000PN01-calibrated/Optical_Calibration/r-pan.tif', 'size': 873901470, 'timestamp': datetime.datetime(2025, 9, 4, 11, 28, 57, 887409)}},\n",
                     "       {'asset': {'checksum': 'd706258616f89807ebec38c6fa4403c70368ed27', 'href': 'https://api.eotdl.com/datasets/68b957ec9fc8ac5128705dbf/stage/Testing/Call_1095_Myanmar/WV02N21_849583E096_0173612024123000000000PN00-calibrated/WV02N21_849583E096_0173612024123000000000PN00-calibrated.json', 'size': 20540, 'timestamp': datetime.datetime(2025, 9, 4, 11, 28, 57, 888438)}},\n",
                     "       {'asset': {'checksum': 'e4e6164d51cee94e8fd1c9d21a3e58931c46098c', 'href': 'https://api.eotdl.com/datasets/68b957ec9fc8ac5128705dbf/stage/Testing/Call_1095_Myanmar/WV02N21_849583E096_0173612024123000000000PN00-calibrated/Optical_Calibration/overview-pan.tif', 'size': 675369145, 'timestamp': datetime.datetime(2025, 9, 4, 11, 28, 58, 414440)}},\n",
                     "       {'asset': {'checksum': 'bc4952d90414ffa49a9b524b14c4411a1a45de28', 'href': 'https://api.eotdl.com/datasets/68b957ec9fc8ac5128705dbf/stage/Testing/Call_1095_Myanmar/WV02N21_849583E096_0173612024123000000000PN00-calibrated/Optical_Calibration/r-pan.tif', 'size': 1615095541, 'timestamp': datetime.datetime(2025, 9, 4, 11, 28, 59, 673933)}},\n",
                     "       {'asset': {'checksum': 'c38c8ae825429cdce9add7119f4de8dae6571d2e', 'href': 'https://api.eotdl.com/datasets/68b957ec9fc8ac5128705dbf/stage/Testing/Call_1095_Myanmar/WV02N21_849583E096_0173612024123000000000MS00-calibrated/WV02N21_849583E096_0173612024123000000000MS00-calibrated.json', 'size': 73404, 'timestamp': datetime.datetime(2025, 9, 4, 11, 28, 59, 674122)}},\n",
                     "       {'asset': {'checksum': '805c830e7d6092260224da4a25b514d2afadbd65', 'href': 'https://api.eotdl.com/datasets/68b957ec9fc8ac5128705dbf/stage/Testing/Call_1095_Myanmar/WV02N21_849583E096_0173612024123000000000MS00-calibrated/Optical_Calibration/r-green.tif', 'size': 109515865, 'timestamp': datetime.datetime(2025, 9, 4, 11, 28, 59, 762072)}},\n",
                     "       {'asset': {'checksum': '5eff41ca8c551d5cb28678f7850ede56506e219a', 'href': 'https://api.eotdl.com/datasets/68b957ec9fc8ac5128705dbf/stage/Testing/Call_1095_Myanmar/WV02N21_849583E096_0173612024123000000000MS00-calibrated/Optical_Calibration/r-yellow.tif', 'size': 112253355, 'timestamp': datetime.datetime(2025, 9, 4, 11, 28, 59, 853348)}},\n",
                     "       {'asset': {'checksum': '6d23ccea0422c3d677de3c931e7c4eddee63ca6b', 'href': 'https://api.eotdl.com/datasets/68b957ec9fc8ac5128705dbf/stage/Testing/Call_1095_Myanmar/WV02N21_849583E096_0173612024123000000000MS00-calibrated/Optical_Calibration/r-nir08.tif', 'size': 140183978, 'timestamp': datetime.datetime(2025, 9, 4, 11, 28, 59, 969181)}},\n",
                     "       {'asset': {'checksum': 'f5cbf3f22543adfaf17a615ad4a74a3c9a8d106b', 'href': 'https://api.eotdl.com/datasets/68b957ec9fc8ac5128705dbf/stage/Testing/Call_1095_Myanmar/WV02N21_849583E096_0173612024123000000000MS00-calibrated/Optical_Calibration/r-nir09.tif', 'size': 135364239, 'timestamp': datetime.datetime(2025, 9, 4, 11, 29, 0, 78961)}},\n",
                     "       {'asset': {'checksum': 'e88ca7e20a549723d6f667d1025df89b71cacf54', 'href': 'https://api.eotdl.com/datasets/68b957ec9fc8ac5128705dbf/stage/Testing/Call_1095_Myanmar/WV02N21_849583E096_0173612024123000000000MS00-calibrated/Optical_Calibration/overview-trc.tif', 'size': 186529023, 'timestamp': datetime.datetime(2025, 9, 4, 11, 29, 0, 227522)}},\n",
                     "       {'asset': {'checksum': 'b407e133cd785694a3a1de85d9b89e591d9b738f', 'href': 'https://api.eotdl.com/datasets/68b957ec9fc8ac5128705dbf/stage/Testing/Call_1095_Myanmar/WV02N21_849583E096_0173612024123000000000MS00-calibrated/Optical_Calibration/r-blue.tif', 'size': 89074472, 'timestamp': datetime.datetime(2025, 9, 4, 11, 29, 0, 300066)}},\n",
                     "       {'asset': {'checksum': '2593555f192b077da213a7f6c5668833cd98bcfb', 'href': 'https://api.eotdl.com/datasets/68b957ec9fc8ac5128705dbf/stage/Testing/Call_1095_Myanmar/WV02N21_849583E096_0173612024123000000000MS00-calibrated/Optical_Calibration/r-red.tif', 'size': 108122837, 'timestamp': datetime.datetime(2025, 9, 4, 11, 29, 0, 386979)}},\n",
                     "       {'asset': {'checksum': 'af3bd8167e0ed1dc84a1682e13837a0905f9d916', 'href': 'https://api.eotdl.com/datasets/68b957ec9fc8ac5128705dbf/stage/Testing/Call_1095_Myanmar/WV02N21_849583E096_0173612024123000000000MS00-calibrated/Optical_Calibration/r-rededge.tif', 'size': 129874100, 'timestamp': datetime.datetime(2025, 9, 4, 11, 29, 0, 494143)}},\n",
                     "       {'asset': {'checksum': '701fd84f2be746a79091d931b56564d5e93fc856', 'href': 'https://api.eotdl.com/datasets/68b957ec9fc8ac5128705dbf/stage/Testing/Call_1095_Myanmar/WV02N21_849583E096_0173612024123000000000MS00-calibrated/Optical_Calibration/r-coastal.tif', 'size': 77988200, 'timestamp': datetime.datetime(2025, 9, 4, 11, 29, 0, 557634)}},\n",
                     "       {'asset': {'checksum': 'f9f46749aafe742de4b112c5037b84e20ff1adf8', 'href': 'https://api.eotdl.com/datasets/68b957ec9fc8ac5128705dbf/stage/Testing/Call_1095_Myanmar/WV02N21_930972E096_0380552025032300000000PN00-calibrated/WV02N21_930972E096_0380552025032300000000PN00-calibrated.json', 'size': 19799, 'timestamp': datetime.datetime(2025, 9, 4, 11, 29, 0, 557753)}},\n",
                     "       {'asset': {'checksum': '6a38a1c443ff64564d3cacfad6ec60bc6b5b2942', 'href': 'https://api.eotdl.com/datasets/68b957ec9fc8ac5128705dbf/stage/Testing/Call_1095_Myanmar/WV02N21_930972E096_0380552025032300000000PN00-calibrated/Optical_Calibration/overview-pan.tif', 'size': 390658508, 'timestamp': datetime.datetime(2025, 9, 4, 11, 29, 0, 863395)}},\n",
                     "       {'asset': {'checksum': '3987dae0971b56673177c3d514879c0046255e77', 'href': 'https://api.eotdl.com/datasets/68b957ec9fc8ac5128705dbf/stage/Testing/Call_1095_Myanmar/WV02N21_930972E096_0380552025032300000000PN00-calibrated/Optical_Calibration/r-pan.tif', 'size': 1033633115, 'timestamp': datetime.datetime(2025, 9, 4, 11, 29, 1, 672927)}},\n",
                     "       {'asset': {'checksum': 'c5f6efb50ccbaafeff6d86f3180944be3243d286', 'href': 'https://api.eotdl.com/datasets/68b957ec9fc8ac5128705dbf/stage/Testing/Call_1095_Myanmar/DS_PHR1A_202503310423499_FR1_PX_E096N21_0123_02290-calibrated/DS_PHR1A_202503310423499_FR1_PX_E096N21_0123_02290-calibrated.json', 'size': 51986, 'timestamp': datetime.datetime(2025, 9, 4, 11, 29, 1, 673080)}},\n",
                     "       {'asset': {'checksum': 'd028bad6f11bc59d7fe86f2017521ea9337fc83a', 'href': 'https://api.eotdl.com/datasets/68b957ec9fc8ac5128705dbf/stage/Testing/Call_1095_Myanmar/DS_PHR1A_202503310423499_FR1_PX_E096N21_0123_02290-calibrated/Optical_Calibration/r-green.tif', 'size': 2751364812, 'timestamp': datetime.datetime(2025, 9, 4, 11, 29, 3, 834497)}},\n",
                     "       {'asset': {'checksum': 'b9ee9e5281c2b59ae93d185097b0a2e5a6f1a882', 'href': 'https://api.eotdl.com/datasets/68b957ec9fc8ac5128705dbf/stage/Testing/Call_1095_Myanmar/DS_PHR1A_202503310423499_FR1_PX_E096N21_0123_02290-calibrated/Optical_Calibration/r-nir.tif', 'size': 3191733099, 'timestamp': datetime.datetime(2025, 9, 4, 11, 29, 6, 355856)}},\n",
                     "       {'asset': {'checksum': 'ac427a04ede6f2a138829dd17f6a121acf281bff', 'href': 'https://api.eotdl.com/datasets/68b957ec9fc8ac5128705dbf/stage/Testing/Call_1095_Myanmar/DS_PHR1A_202503310423499_FR1_PX_E096N21_0123_02290-calibrated/Optical_Calibration/overview-trc.tif', 'size': 4245271523, 'timestamp': datetime.datetime(2025, 9, 4, 11, 29, 9, 687470)}},\n",
                     "       {'asset': {'checksum': '78233b9f22d0c6250a6c9700b81231b92c212f69', 'href': 'https://api.eotdl.com/datasets/68b957ec9fc8ac5128705dbf/stage/Testing/Call_1095_Myanmar/DS_PHR1A_202503310423499_FR1_PX_E096N21_0123_02290-calibrated/Optical_Calibration/r-blue.tif', 'size': 2790763900, 'timestamp': datetime.datetime(2025, 9, 4, 11, 29, 11, 871667)}},\n",
                     "       {'asset': {'checksum': '7d9419fa3114fc6d2706996622cb00726cc51dbe', 'href': 'https://api.eotdl.com/datasets/68b957ec9fc8ac5128705dbf/stage/Testing/Call_1095_Myanmar/DS_PHR1A_202503310423499_FR1_PX_E096N21_0123_02290-calibrated/Optical_Calibration/r-red.tif', 'size': 2840300335, 'timestamp': datetime.datetime(2025, 9, 4, 11, 29, 14, 96438)}},\n",
                     "       {'asset': {'checksum': '28121a88fe0eca7f34cf874cbe89ef4982b27069', 'href': 'https://api.eotdl.com/datasets/68b957ec9fc8ac5128705dbf/stage/Testing/Call_1095_Myanmar/WV02N21_843194E096_0380552025032300000000MS00-calibrated/WV02N21_843194E096_0380552025032300000000MS00-calibrated.json', 'size': 70111, 'timestamp': datetime.datetime(2025, 9, 4, 11, 29, 14, 97670)}},\n",
                     "       {'asset': {'checksum': '4f6ed48a69a7e85355fe8817ed2f5ac141f664fd', 'href': 'https://api.eotdl.com/datasets/68b957ec9fc8ac5128705dbf/stage/Testing/Call_1095_Myanmar/WV02N21_843194E096_0380552025032300000000MS00-calibrated/Optical_Calibration/r-green.tif', 'size': 53323115, 'timestamp': datetime.datetime(2025, 9, 4, 11, 29, 14, 139439)}},\n",
                     "       {'asset': {'checksum': '6ef6910405d4264cd6f4abc13f3be5fa1048138c', 'href': 'https://api.eotdl.com/datasets/68b957ec9fc8ac5128705dbf/stage/Testing/Call_1095_Myanmar/WV02N21_843194E096_0380552025032300000000MS00-calibrated/Optical_Calibration/r-yellow.tif', 'size': 62928254, 'timestamp': datetime.datetime(2025, 9, 4, 11, 29, 14, 188655)}},\n",
                     "       {'asset': {'checksum': '95bde152755077a2170062ba226d548d58e2b59a', 'href': 'https://api.eotdl.com/datasets/68b957ec9fc8ac5128705dbf/stage/Testing/Call_1095_Myanmar/WV02N21_843194E096_0380552025032300000000MS00-calibrated/Optical_Calibration/r-nir08.tif', 'size': 81033431, 'timestamp': datetime.datetime(2025, 9, 4, 11, 29, 14, 252008)}},\n",
                     "       {'asset': {'checksum': '1b53651b18926c28a9a6b8107130455a16485e1a', 'href': 'https://api.eotdl.com/datasets/68b957ec9fc8ac5128705dbf/stage/Testing/Call_1095_Myanmar/WV02N21_843194E096_0380552025032300000000MS00-calibrated/Optical_Calibration/r-nir09.tif', 'size': 79933788, 'timestamp': datetime.datetime(2025, 9, 4, 11, 29, 14, 315625)}},\n",
                     "       {'asset': {'checksum': '46af2636625a8ca5454dc06c834cc55d59f664f6', 'href': 'https://api.eotdl.com/datasets/68b957ec9fc8ac5128705dbf/stage/Testing/Call_1095_Myanmar/WV02N21_843194E096_0380552025032300000000MS00-calibrated/Optical_Calibration/overview-trc.tif', 'size': 93806121, 'timestamp': datetime.datetime(2025, 9, 4, 11, 29, 14, 389134)}},\n",
                     "       {'asset': {'checksum': '9297653c9c863c95ca6a8ca593f70319294883e0', 'href': 'https://api.eotdl.com/datasets/68b957ec9fc8ac5128705dbf/stage/Testing/Call_1095_Myanmar/WV02N21_843194E096_0380552025032300000000MS00-calibrated/Optical_Calibration/r-blue.tif', 'size': 42300573, 'timestamp': datetime.datetime(2025, 9, 4, 11, 29, 14, 423183)}},\n",
                     "       {'asset': {'checksum': '61c387fd4b0fb767554ec72627ff787f840c08ef', 'href': 'https://api.eotdl.com/datasets/68b957ec9fc8ac5128705dbf/stage/Testing/Call_1095_Myanmar/WV02N21_843194E096_0380552025032300000000MS00-calibrated/Optical_Calibration/r-red.tif', 'size': 65825689, 'timestamp': datetime.datetime(2025, 9, 4, 11, 29, 14, 474749)}},\n",
                     "       {'asset': {'checksum': 'b0e162d689463459acfae60fab05de36786cec38', 'href': 'https://api.eotdl.com/datasets/68b957ec9fc8ac5128705dbf/stage/Testing/Call_1095_Myanmar/WV02N21_843194E096_0380552025032300000000MS00-calibrated/Optical_Calibration/r-rededge.tif', 'size': 68710514, 'timestamp': datetime.datetime(2025, 9, 4, 11, 29, 14, 528456)}},\n",
                     "       {'asset': {'checksum': '9eb700cccd312ddc181e7586c02231e78ea4e294', 'href': 'https://api.eotdl.com/datasets/68b957ec9fc8ac5128705dbf/stage/Testing/Call_1095_Myanmar/WV02N21_843194E096_0380552025032300000000MS00-calibrated/Optical_Calibration/r-coastal.tif', 'size': 39181530, 'timestamp': datetime.datetime(2025, 9, 4, 11, 29, 14, 560037)}},\n",
                     "       {'asset': {'checksum': '431ee7ad800618518607065ab5879acdcddfa22a', 'href': 'https://api.eotdl.com/datasets/68b957ec9fc8ac5128705dbf/stage/Testing/Call_919_Turkey/collection.json', 'size': 5511, 'timestamp': datetime.datetime(2025, 9, 4, 11, 29, 14, 560151)}},\n",
                     "       {'asset': {'checksum': 'b087ca9c6541a3722e22b1785581e9bf1513244b', 'href': 'https://api.eotdl.com/datasets/68b957ec9fc8ac5128705dbf/stage/Testing/Call_919_Turkey/DS_PHR1B_202302070800206_FR1_PX_E036N36_0206_01222_testing-calibrated/DS_PHR1B_202302070800206_FR1_PX_E036N36_0206_01222_testing-calibrated.json', 'size': 52678, 'timestamp': datetime.datetime(2025, 9, 4, 11, 29, 14, 560264)}},\n",
                     "       {'asset': {'checksum': 'fee917dd8e1db5254a024590e5b1baf18910fe48', 'href': 'https://api.eotdl.com/datasets/68b957ec9fc8ac5128705dbf/stage/Testing/Call_919_Turkey/DS_PHR1B_202302070800206_FR1_PX_E036N36_0206_01222_testing-calibrated/Optical_Calibration/r-green.tif', 'size': 279957096, 'timestamp': datetime.datetime(2025, 9, 4, 11, 29, 14, 778735)}},\n",
                     "       {'asset': {'checksum': '13ae035a1bef1032d1b5157726711f89c0ca139d', 'href': 'https://api.eotdl.com/datasets/68b957ec9fc8ac5128705dbf/stage/Testing/Call_919_Turkey/DS_PHR1B_202302070800206_FR1_PX_E036N36_0206_01222_testing-calibrated/Optical_Calibration/r-nir.tif', 'size': 279957096, 'timestamp': datetime.datetime(2025, 9, 4, 11, 29, 14, 997926)}},\n",
                     "       {'asset': {'checksum': 'bd15a1c25f18396996498bba7b97e7f4a6d7efca', 'href': 'https://api.eotdl.com/datasets/68b957ec9fc8ac5128705dbf/stage/Testing/Call_919_Turkey/DS_PHR1B_202302070800206_FR1_PX_E036N36_0206_01222_testing-calibrated/Optical_Calibration/overview-trc.tif', 'size': 559818766, 'timestamp': datetime.datetime(2025, 9, 4, 11, 29, 15, 433971)}},\n",
                     "       {'asset': {'checksum': '889b93759d4fbbb6ffdcf5bcfb54f3326abfa5ea', 'href': 'https://api.eotdl.com/datasets/68b957ec9fc8ac5128705dbf/stage/Testing/Call_919_Turkey/DS_PHR1B_202302070800206_FR1_PX_E036N36_0206_01222_testing-calibrated/Optical_Calibration/r-blue.tif', 'size': 279957096, 'timestamp': datetime.datetime(2025, 9, 4, 11, 29, 15, 653281)}},\n",
                     "       {'asset': {'checksum': '0561339b8e1e0bc71872799291e922657607a5a3', 'href': 'https://api.eotdl.com/datasets/68b957ec9fc8ac5128705dbf/stage/Testing/Call_919_Turkey/DS_PHR1B_202302070800206_FR1_PX_E036N36_0206_01222_testing-calibrated/Optical_Calibration/r-red.tif', 'size': 279957096, 'timestamp': datetime.datetime(2025, 9, 4, 11, 29, 15, 871766)}},\n",
                     "       {'asset': {'checksum': '03232eea8922a1a3894b6659fff90778f1fb06cc', 'href': 'https://api.eotdl.com/datasets/68b957ec9fc8ac5128705dbf/stage/Testing/Call_919_Turkey/DS_PHR1B_202010030842090_FR1_PX_E036N36_0205_01451_testing-calibrated/DS_PHR1B_202010030842090_FR1_PX_E036N36_0205_01451_testing-calibrated.json', 'size': 52677, 'timestamp': datetime.datetime(2025, 9, 4, 11, 29, 15, 872795)}},\n",
                     "       {'asset': {'checksum': '947463fa35a72ede3d8f5c97ca3b9aea61d1ed64', 'href': 'https://api.eotdl.com/datasets/68b957ec9fc8ac5128705dbf/stage/Testing/Call_919_Turkey/DS_PHR1B_202010030842090_FR1_PX_E036N36_0205_01451_testing-calibrated/Optical_Calibration/r-green.tif', 'size': 279957096, 'timestamp': datetime.datetime(2025, 9, 4, 11, 29, 16, 91068)}},\n",
                     "       {'asset': {'checksum': '69b9daba23faec15db81dfc842982c742620a720', 'href': 'https://api.eotdl.com/datasets/68b957ec9fc8ac5128705dbf/stage/Testing/Call_919_Turkey/DS_PHR1B_202010030842090_FR1_PX_E036N36_0205_01451_testing-calibrated/Optical_Calibration/r-nir.tif', 'size': 559818766, 'timestamp': datetime.datetime(2025, 9, 4, 11, 29, 16, 528183)}},\n",
                     "       {'asset': {'checksum': '69b9daba23faec15db81dfc842982c742620a720', 'href': 'https://api.eotdl.com/datasets/68b957ec9fc8ac5128705dbf/stage/Testing/Call_919_Turkey/DS_PHR1B_202010030842090_FR1_PX_E036N36_0205_01451_testing-calibrated/Optical_Calibration/overview-trc.tif', 'size': 559818766, 'timestamp': datetime.datetime(2025, 9, 4, 11, 29, 16, 964032)}},\n",
                     "       {'asset': {'checksum': '4c8bad399fff0fa0804e01d859e9a2f8b4dbb5f9', 'href': 'https://api.eotdl.com/datasets/68b957ec9fc8ac5128705dbf/stage/Testing/Call_919_Turkey/DS_PHR1B_202010030842090_FR1_PX_E036N36_0205_01451_testing-calibrated/Optical_Calibration/r-blue.tif', 'size': 279957096, 'timestamp': datetime.datetime(2025, 9, 4, 11, 29, 17, 183587)}},\n",
                     "       {'asset': {'checksum': 'ea7cb5bd26a710471d2f70b62fa13fe8b09e5fd8', 'href': 'https://api.eotdl.com/datasets/68b957ec9fc8ac5128705dbf/stage/Testing/Call_919_Turkey/DS_PHR1B_202010030842090_FR1_PX_E036N36_0205_01451_testing-calibrated/Optical_Calibration/r-red.tif', 'size': 279957096, 'timestamp': datetime.datetime(2025, 9, 4, 11, 29, 17, 402922)}}],\n",
                     "      dtype=object)"
                  ]
               },
               "execution_count": 20,
               "metadata": {},
               "output_type": "execute_result"
            }
         ],
         "source": [
            "gdf.assets.values"
         ]
      },
      {
         "cell_type": "code",
         "execution_count": 21,
         "metadata": {},
         "outputs": [
            {
               "data": {
                  "text/plain": [
                     "'../kk2/README.md'"
                  ]
               },
               "execution_count": 21,
               "metadata": {},
               "output_type": "execute_result"
            }
         ],
         "source": [
            "from eotdl.datasets import stage_dataset_file\n",
            "\n",
            "stage_dataset_file(\n",
            "    'https://api.eotdl.com/datasets/68b957ec9fc8ac5128705dbf/stage/README.md',\n",
            "    '../kk2',\n",
            ")"
         ]
      },
      {
         "cell_type": "code",
         "execution_count": null,
         "metadata": {},
         "outputs": [],
         "source": []
      }
   ],
   "metadata": {
      "kernelspec": {
         "display_name": ".venv",
         "language": "python",
         "name": "python3"
      },
      "language_info": {
         "codemirror_mode": {
            "name": "ipython",
            "version": 3
         },
         "file_extension": ".py",
         "mimetype": "text/x-python",
         "name": "python",
         "nbconvert_exporter": "python",
         "pygments_lexer": "ipython3",
         "version": "3.12.11"
      }
   },
   "nbformat": 4,
   "nbformat_minor": 2
}
