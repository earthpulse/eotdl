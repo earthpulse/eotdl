{
 "cells": [
  {
   "cell_type": "code",
   "execution_count": 1,
   "metadata": {},
   "outputs": [],
   "source": [
    "%load_ext autoreload\n",
    "%autoreload 2\n",
    "\n",
    "import os\n",
    "os.environ[\"EOTDL_API_URL\"] = \"http://localhost:8001/\"\n"
   ]
  },
  {
   "cell_type": "markdown",
   "metadata": {},
   "source": [
    "# Ingesting a dataset from a folder without a catalog.json"
   ]
  },
  {
   "cell_type": "markdown",
   "metadata": {},
   "source": [
    "If user wants to ingest dataset form folder without STAC metdata, first we read all files in the folder recursively and create a parquet file."
   ]
  },
  {
   "cell_type": "code",
   "execution_count": 2,
   "metadata": {},
   "outputs": [
    {
     "data": {
      "text/plain": [
       "(113,\n",
       " ['data/EuroSAT-RGB-small/catalog.parquet',\n",
       "  'data/EuroSAT-RGB-small/PermanentCrop',\n",
       "  'data/EuroSAT-RGB-small/README.md'])"
      ]
     },
     "execution_count": 2,
     "metadata": {},
     "output_type": "execute_result"
    }
   ],
   "source": [
    "from glob import glob\n",
    "\n",
    "path = 'data/EuroSAT-RGB-small'\n",
    "\n",
    "# retrieve all files in the folder recursively\n",
    "files = glob(path + '/**/*', recursive=True)\n",
    "\n",
    "len(files), files[:3]"
   ]
  },
  {
   "cell_type": "markdown",
   "metadata": {},
   "source": [
    "In order to ingest any dataset to EOTDL, we require a REDME.md file with some mandatory metadata."
   ]
  },
  {
   "cell_type": "code",
   "execution_count": 3,
   "metadata": {},
   "outputs": [],
   "source": [
    "# create README.md\n",
    "\n",
    "text = \"\"\"---\n",
    "name: EuroSAT-RGB-small-prototype\n",
    "authors: \n",
    "  - Juan B. Pedro\n",
    "license: free\n",
    "source: https://github.com/earthpulse/eotdl/blob/develop/tutorials/workshops/philab24/02_prototype_ingesting.ipynb\n",
    "---\n",
    "\n",
    "# EuroSAT-RGB-small-prototype\n",
    "\n",
    "This is a prototype of the EuroSAT dataset.\n",
    "\"\"\"\n",
    "\n",
    "with open(f\"{path}/README.md\", \"w\") as outfile:\n",
    "    outfile.write(text)"
   ]
  },
  {
   "cell_type": "code",
   "execution_count": 7,
   "metadata": {},
   "outputs": [
    {
     "name": "stdout",
     "output_type": "stream",
     "text": [
      "{'name': 'EuroSAT-RGB-small-prototype', 'authors': ['Juan B. Pedro'], 'license': 'free', 'source': 'https://github.com/earthpulse/eotdl/blob/develop/tutorials/workshops/philab24/02_prototype_ingesting.ipynb', 'description': '# EuroSAT-RGB-small-prototype\\n\\nThis is a prototype of the EuroSAT dataset.'}\n",
      "authors=['Juan B. Pedro'] license='free' source='https://github.com/earthpulse/eotdl/blob/develop/tutorials/workshops/philab24/02_prototype_ingesting.ipynb' name='EuroSAT-RGB-small-prototype' thumbnail=''\n"
     ]
    },
    {
     "ename": "AttributeError",
     "evalue": "'Metadata' object has no attribute 'description'",
     "output_type": "error",
     "traceback": [
      "\u001b[0;31m---------------------------------------------------------------------------\u001b[0m",
      "\u001b[0;31mAttributeError\u001b[0m                            Traceback (most recent call last)",
      "Cell \u001b[0;32mIn[7], line 3\u001b[0m\n\u001b[1;32m      1\u001b[0m \u001b[38;5;28;01mfrom\u001b[39;00m\u001b[38;5;250m \u001b[39m\u001b[38;5;21;01meotdl\u001b[39;00m\u001b[38;5;21;01m.\u001b[39;00m\u001b[38;5;21;01mdatasets\u001b[39;00m\u001b[38;5;250m \u001b[39m\u001b[38;5;28;01mimport\u001b[39;00m ingest_dataset\n\u001b[0;32m----> 3\u001b[0m \u001b[43mingest_dataset\u001b[49m\u001b[43m(\u001b[49m\u001b[43mpath\u001b[49m\u001b[43m)\u001b[49m\n",
      "File \u001b[0;32m~/Desktop/eotdl/eotdl/eotdl/datasets/ingest.py:37\u001b[0m, in \u001b[0;36mingest_dataset\u001b[0;34m(path, verbose, logger, force_metadata_update, sync_metadata)\u001b[0m\n\u001b[1;32m     34\u001b[0m     \u001b[38;5;28;01mraise\u001b[39;00m \u001b[38;5;167;01mException\u001b[39;00m(\u001b[38;5;124m\"\u001b[39m\u001b[38;5;124mPath must be a folder\u001b[39m\u001b[38;5;124m\"\u001b[39m)\n\u001b[1;32m     35\u001b[0m \u001b[38;5;66;03m# if \"catalog.json\" in [f.name for f in path.iterdir()]:\u001b[39;00m\n\u001b[1;32m     36\u001b[0m \u001b[38;5;66;03m#     return ingest_stac(path / \"catalog.json\", logger)\u001b[39;00m\n\u001b[0;32m---> 37\u001b[0m \u001b[38;5;28;01mreturn\u001b[39;00m \u001b[43mingest_folder\u001b[49m\u001b[43m(\u001b[49m\u001b[43mpath\u001b[49m\u001b[43m,\u001b[49m\u001b[43m \u001b[49m\u001b[43mverbose\u001b[49m\u001b[43m,\u001b[49m\u001b[43m \u001b[49m\u001b[43mlogger\u001b[49m\u001b[43m,\u001b[49m\u001b[43m \u001b[49m\u001b[43mforce_metadata_update\u001b[49m\u001b[43m,\u001b[49m\u001b[43m \u001b[49m\u001b[43msync_metadata\u001b[49m\u001b[43m)\u001b[49m\n",
      "File \u001b[0;32m~/Desktop/eotdl/eotdl/eotdl/auth/auth.py:61\u001b[0m, in \u001b[0;36mwith_auth.<locals>.wrapper\u001b[0;34m(*args, **kwargs)\u001b[0m\n\u001b[1;32m     59\u001b[0m \u001b[38;5;28;01mdef\u001b[39;00m\u001b[38;5;250m \u001b[39m\u001b[38;5;21mwrapper\u001b[39m(\u001b[38;5;241m*\u001b[39margs, \u001b[38;5;241m*\u001b[39m\u001b[38;5;241m*\u001b[39mkwargs):\n\u001b[1;32m     60\u001b[0m     user \u001b[38;5;241m=\u001b[39m auth()\n\u001b[0;32m---> 61\u001b[0m     \u001b[38;5;28;01mreturn\u001b[39;00m \u001b[43mfunc\u001b[49m\u001b[43m(\u001b[49m\u001b[38;5;241;43m*\u001b[39;49m\u001b[43margs\u001b[49m\u001b[43m,\u001b[49m\u001b[43m \u001b[49m\u001b[38;5;241;43m*\u001b[39;49m\u001b[38;5;241;43m*\u001b[39;49m\u001b[43mkwargs\u001b[49m\u001b[43m,\u001b[49m\u001b[43m \u001b[49m\u001b[43muser\u001b[49m\u001b[38;5;241;43m=\u001b[39;49m\u001b[43muser\u001b[49m\u001b[43m)\u001b[49m\n",
      "File \u001b[0;32m~/Desktop/eotdl/eotdl/eotdl/datasets/ingest.py:88\u001b[0m, in \u001b[0;36mingest_folder\u001b[0;34m(folder, verbose, logger, force_metadata_update, sync_metadata, user)\u001b[0m\n\u001b[1;32m     58\u001b[0m     \u001b[38;5;28;01mraise\u001b[39;00m \u001b[38;5;167;01mException\u001b[39;00m(\u001b[38;5;124m\"\u001b[39m\u001b[38;5;124mError loading metadata\u001b[39m\u001b[38;5;124m\"\u001b[39m)\n\u001b[1;32m     60\u001b[0m \u001b[38;5;66;03m# repo = DatasetsAPIRepo()\u001b[39;00m\n\u001b[1;32m     61\u001b[0m \u001b[38;5;66;03m# # retrieve dataset (create if doesn't exist)\u001b[39;00m\n\u001b[1;32m     62\u001b[0m \u001b[38;5;66;03m# dataset = retrieve_dataset(metadata, user)\u001b[39;00m\n\u001b[0;32m   (...)\u001b[0m\n\u001b[1;32m     85\u001b[0m \u001b[38;5;66;03m# gdf.to_parquet(output_path)\u001b[39;00m\n\u001b[1;32m     86\u001b[0m \u001b[38;5;66;03m# return output_path\u001b[39;00m\n\u001b[0;32m---> 88\u001b[0m catalog \u001b[38;5;241m=\u001b[39m \u001b[43mcreate_stac_catalog_from_folder\u001b[49m\u001b[43m(\u001b[49m\u001b[43mfolder\u001b[49m\u001b[43m,\u001b[49m\u001b[43m \u001b[49m\u001b[43mmetadata\u001b[49m\u001b[43m)\u001b[49m\n\u001b[1;32m     89\u001b[0m \u001b[38;5;28;01mreturn\u001b[39;00m catalog\n",
      "File \u001b[0;32m~/Desktop/eotdl/eotdl/eotdl/curation/stac/create_stac_catalog_from_folder.py:22\u001b[0m, in \u001b[0;36mcreate_stac_catalog_from_folder\u001b[0;34m(folder, metadata)\u001b[0m\n\u001b[1;32m      8\u001b[0m folder \u001b[38;5;241m=\u001b[39m Path(folder)\n\u001b[1;32m     10\u001b[0m \u001b[38;5;66;03m# Create catalog\u001b[39;00m\n\u001b[1;32m     11\u001b[0m catalog \u001b[38;5;241m=\u001b[39m pystac\u001b[38;5;241m.\u001b[39mCatalog(\n\u001b[1;32m     12\u001b[0m \t\u001b[38;5;28mid\u001b[39m\u001b[38;5;241m=\u001b[39mmetadata\u001b[38;5;241m.\u001b[39mname,\n\u001b[1;32m     13\u001b[0m \ttitle\u001b[38;5;241m=\u001b[39mmetadata\u001b[38;5;241m.\u001b[39mname,\n\u001b[1;32m     14\u001b[0m \tdescription\u001b[38;5;241m=\u001b[39m\u001b[38;5;124m\"\u001b[39m\u001b[38;5;124mSTAC catalog\u001b[39m\u001b[38;5;124m\"\u001b[39m,\n\u001b[1;32m     15\u001b[0m \textra_fields\u001b[38;5;241m=\u001b[39m{\n\u001b[1;32m     16\u001b[0m \t\t\u001b[38;5;124m\"\u001b[39m\u001b[38;5;124meotdl\u001b[39m\u001b[38;5;124m\"\u001b[39m: {\n\u001b[1;32m     17\u001b[0m \t\t\t\u001b[38;5;124m\"\u001b[39m\u001b[38;5;124mname\u001b[39m\u001b[38;5;124m\"\u001b[39m: metadata\u001b[38;5;241m.\u001b[39mname,\n\u001b[1;32m     18\u001b[0m \t\t\t\u001b[38;5;124m\"\u001b[39m\u001b[38;5;124mlicense\u001b[39m\u001b[38;5;124m\"\u001b[39m: metadata\u001b[38;5;241m.\u001b[39mlicense,\n\u001b[1;32m     19\u001b[0m \t\t\t\u001b[38;5;124m\"\u001b[39m\u001b[38;5;124msource\u001b[39m\u001b[38;5;124m\"\u001b[39m: metadata\u001b[38;5;241m.\u001b[39msource,\n\u001b[1;32m     20\u001b[0m \t\t\t\u001b[38;5;124m\"\u001b[39m\u001b[38;5;124mthumbnail\u001b[39m\u001b[38;5;124m\"\u001b[39m: metadata\u001b[38;5;241m.\u001b[39mthumbnail,\n\u001b[1;32m     21\u001b[0m \t\t\t\u001b[38;5;124m\"\u001b[39m\u001b[38;5;124mauthors\u001b[39m\u001b[38;5;124m\"\u001b[39m: metadata\u001b[38;5;241m.\u001b[39mauthors,\n\u001b[0;32m---> 22\u001b[0m \t\t\t\u001b[38;5;124m\"\u001b[39m\u001b[38;5;124mdescription\u001b[39m\u001b[38;5;124m\"\u001b[39m: \u001b[43mmetadata\u001b[49m\u001b[38;5;241;43m.\u001b[39;49m\u001b[43mdescription\u001b[49m\n\u001b[1;32m     23\u001b[0m \t\t}\n\u001b[1;32m     24\u001b[0m \t}\n\u001b[1;32m     25\u001b[0m )\n\u001b[1;32m     27\u001b[0m \u001b[38;5;66;03m# Create collection\u001b[39;00m\n\u001b[1;32m     28\u001b[0m collection \u001b[38;5;241m=\u001b[39m pystac\u001b[38;5;241m.\u001b[39mCollection(\n\u001b[1;32m     29\u001b[0m \t\u001b[38;5;28mid\u001b[39m\u001b[38;5;241m=\u001b[39m\u001b[38;5;124mf\u001b[39m\u001b[38;5;124m\"\u001b[39m\u001b[38;5;124mcollection\u001b[39m\u001b[38;5;124m\"\u001b[39m,\n\u001b[1;32m     30\u001b[0m \tdescription\u001b[38;5;241m=\u001b[39m\u001b[38;5;124m\"\u001b[39m\u001b[38;5;124mdescription\u001b[39m\u001b[38;5;124m\"\u001b[39m,\n\u001b[0;32m   (...)\u001b[0m\n\u001b[1;32m     35\u001b[0m \ttitle\u001b[38;5;241m=\u001b[39m\u001b[38;5;124m\"\u001b[39m\u001b[38;5;124mcollection\u001b[39m\u001b[38;5;124m\"\u001b[39m\n\u001b[1;32m     36\u001b[0m )\n",
      "\u001b[0;31mAttributeError\u001b[0m: 'Metadata' object has no attribute 'description'"
     ]
    }
   ],
   "source": [
    "from eotdl.datasets import ingest_dataset\n",
    "\n",
    "ingest_dataset(path)"
   ]
  },
  {
   "cell_type": "code",
   "execution_count": 24,
   "metadata": {},
   "outputs": [
    {
     "data": {
      "text/html": [
       "<div>\n",
       "<style scoped>\n",
       "    .dataframe tbody tr th:only-of-type {\n",
       "        vertical-align: middle;\n",
       "    }\n",
       "\n",
       "    .dataframe tbody tr th {\n",
       "        vertical-align: top;\n",
       "    }\n",
       "\n",
       "    .dataframe thead th {\n",
       "        text-align: right;\n",
       "    }\n",
       "</style>\n",
       "<table border=\"1\" class=\"dataframe\">\n",
       "  <thead>\n",
       "    <tr style=\"text-align: right;\">\n",
       "      <th></th>\n",
       "      <th>path</th>\n",
       "      <th>geometry</th>\n",
       "    </tr>\n",
       "  </thead>\n",
       "  <tbody>\n",
       "    <tr>\n",
       "      <th>0</th>\n",
       "      <td>data/EuroSAT-RGB-small/catalog.parquet</td>\n",
       "      <td>None</td>\n",
       "    </tr>\n",
       "    <tr>\n",
       "      <th>1</th>\n",
       "      <td>data/EuroSAT-RGB-small/PermanentCrop</td>\n",
       "      <td>None</td>\n",
       "    </tr>\n",
       "    <tr>\n",
       "      <th>2</th>\n",
       "      <td>data/EuroSAT-RGB-small/README.md</td>\n",
       "      <td>None</td>\n",
       "    </tr>\n",
       "    <tr>\n",
       "      <th>3</th>\n",
       "      <td>data/EuroSAT-RGB-small/Forest</td>\n",
       "      <td>None</td>\n",
       "    </tr>\n",
       "    <tr>\n",
       "      <th>4</th>\n",
       "      <td>data/EuroSAT-RGB-small/Residential</td>\n",
       "      <td>None</td>\n",
       "    </tr>\n",
       "    <tr>\n",
       "      <th>...</th>\n",
       "      <td>...</td>\n",
       "      <td>...</td>\n",
       "    </tr>\n",
       "    <tr>\n",
       "      <th>108</th>\n",
       "      <td>data/EuroSAT-RGB-small/Industrial/Industrial_2...</td>\n",
       "      <td>None</td>\n",
       "    </tr>\n",
       "    <tr>\n",
       "      <th>109</th>\n",
       "      <td>data/EuroSAT-RGB-small/Industrial/Industrial_2...</td>\n",
       "      <td>None</td>\n",
       "    </tr>\n",
       "    <tr>\n",
       "      <th>110</th>\n",
       "      <td>data/EuroSAT-RGB-small/Industrial/Industrial_4...</td>\n",
       "      <td>None</td>\n",
       "    </tr>\n",
       "    <tr>\n",
       "      <th>111</th>\n",
       "      <td>data/EuroSAT-RGB-small/Industrial/Industrial_1...</td>\n",
       "      <td>None</td>\n",
       "    </tr>\n",
       "    <tr>\n",
       "      <th>112</th>\n",
       "      <td>data/EuroSAT-RGB-small/Industrial/Industrial_1...</td>\n",
       "      <td>None</td>\n",
       "    </tr>\n",
       "  </tbody>\n",
       "</table>\n",
       "<p>113 rows × 2 columns</p>\n",
       "</div>"
      ],
      "text/plain": [
       "                                                  path geometry\n",
       "0               data/EuroSAT-RGB-small/catalog.parquet     None\n",
       "1                 data/EuroSAT-RGB-small/PermanentCrop     None\n",
       "2                     data/EuroSAT-RGB-small/README.md     None\n",
       "3                        data/EuroSAT-RGB-small/Forest     None\n",
       "4                   data/EuroSAT-RGB-small/Residential     None\n",
       "..                                                 ...      ...\n",
       "108  data/EuroSAT-RGB-small/Industrial/Industrial_2...     None\n",
       "109  data/EuroSAT-RGB-small/Industrial/Industrial_2...     None\n",
       "110  data/EuroSAT-RGB-small/Industrial/Industrial_4...     None\n",
       "111  data/EuroSAT-RGB-small/Industrial/Industrial_1...     None\n",
       "112  data/EuroSAT-RGB-small/Industrial/Industrial_1...     None\n",
       "\n",
       "[113 rows x 2 columns]"
      ]
     },
     "execution_count": 24,
     "metadata": {},
     "output_type": "execute_result"
    }
   ],
   "source": [
    "import geopandas as gpd\n",
    "\n",
    "gpd.read_parquet(path + \"/catalog.parquet\")"
   ]
  },
  {
   "cell_type": "code",
   "execution_count": 25,
   "metadata": {},
   "outputs": [
    {
     "ename": "ValueError",
     "evalue": "Expected 4 or 6 fields in bbox struct.",
     "output_type": "error",
     "traceback": [
      "\u001b[0;31m---------------------------------------------------------------------------\u001b[0m",
      "\u001b[0;31mValueError\u001b[0m                                Traceback (most recent call last)",
      "Cell \u001b[0;32mIn[25], line 14\u001b[0m\n\u001b[1;32m     12\u001b[0m \u001b[38;5;66;03m# Convert the Arrow table to a list of STAC item dictionaries\u001b[39;00m\n\u001b[1;32m     13\u001b[0m stac_items \u001b[38;5;241m=\u001b[39m []\n\u001b[0;32m---> 14\u001b[0m \u001b[38;5;28;43;01mfor\u001b[39;49;00m\u001b[43m \u001b[49m\u001b[43mitem_dict\u001b[49m\u001b[43m \u001b[49m\u001b[38;5;129;43;01min\u001b[39;49;00m\u001b[43m \u001b[49m\u001b[43mstac_table_to_items\u001b[49m\u001b[43m(\u001b[49m\u001b[43mtable\u001b[49m\u001b[43m)\u001b[49m\u001b[43m:\u001b[49m\n\u001b[1;32m     15\u001b[0m \u001b[43m\t\u001b[49m\u001b[38;5;28;43mprint\u001b[39;49m\u001b[43m(\u001b[49m\u001b[43mitem_dict\u001b[49m\u001b[43m)\u001b[49m\n\u001b[1;32m     16\u001b[0m     \u001b[38;5;66;03m# # The 'assets' field is typically stored as a JSON string.\u001b[39;00m\n\u001b[1;32m     17\u001b[0m     \u001b[38;5;66;03m# if 'assets' in item_dict:\u001b[39;00m\n\u001b[1;32m     18\u001b[0m     \u001b[38;5;66;03m#     item_dict['assets'] = json.loads(item_dict['assets'])\u001b[39;00m\n\u001b[1;32m     19\u001b[0m     \u001b[38;5;66;03m# # Convert the dictionary to a PySTAC Item\u001b[39;00m\n\u001b[1;32m     20\u001b[0m     \u001b[38;5;66;03m# stac_item = pystac.Item.from_dict(item_dict)\u001b[39;00m\n\u001b[1;32m     21\u001b[0m     \u001b[38;5;66;03m# stac_items.append(stac_item)\u001b[39;00m\n",
      "File \u001b[0;32m~/Desktop/eotdl/.venv/lib/python3.12/site-packages/stac_geoparquet/arrow/_api.py:140\u001b[0m, in \u001b[0;36mstac_table_to_items\u001b[0;34m(table)\u001b[0m\n\u001b[1;32m    138\u001b[0m \u001b[38;5;28;01mfor\u001b[39;00m batch \u001b[38;5;129;01min\u001b[39;00m reader:\n\u001b[1;32m    139\u001b[0m     clean_batch \u001b[38;5;241m=\u001b[39m StacArrowBatch(batch)\n\u001b[0;32m--> 140\u001b[0m     \u001b[38;5;28;01myield from\u001b[39;00m \u001b[43mclean_batch\u001b[49m\u001b[38;5;241;43m.\u001b[39;49m\u001b[43mto_json_batch\u001b[49m\u001b[43m(\u001b[49m\u001b[43m)\u001b[49m\u001b[38;5;241m.\u001b[39miter_dicts()\n",
      "File \u001b[0;32m~/Desktop/eotdl/.venv/lib/python3.12/site-packages/stac_geoparquet/arrow/_batch.py:200\u001b[0m, in \u001b[0;36mStacArrowBatch.to_json_batch\u001b[0;34m(self)\u001b[0m\n\u001b[1;32m    198\u001b[0m batch \u001b[38;5;241m=\u001b[39m convert_timestamp_columns_to_string(batch)\n\u001b[1;32m    199\u001b[0m batch \u001b[38;5;241m=\u001b[39m lower_properties_from_top_level(batch)\n\u001b[0;32m--> 200\u001b[0m batch \u001b[38;5;241m=\u001b[39m \u001b[43mconvert_bbox_to_array\u001b[49m\u001b[43m(\u001b[49m\u001b[43mbatch\u001b[49m\u001b[43m)\u001b[49m\n\u001b[1;32m    202\u001b[0m \u001b[38;5;28;01mreturn\u001b[39;00m StacJsonBatch(batch)\n",
      "File \u001b[0;32m~/Desktop/eotdl/.venv/lib/python3.12/site-packages/stac_geoparquet/arrow/_from_arrow.py:116\u001b[0m, in \u001b[0;36mconvert_bbox_to_array\u001b[0;34m(batch)\u001b[0m\n\u001b[1;32m    113\u001b[0m     list_arr \u001b[38;5;241m=\u001b[39m pa\u001b[38;5;241m.\u001b[39mFixedSizeListArray\u001b[38;5;241m.\u001b[39mfrom_arrays(coords\u001b[38;5;241m.\u001b[39mflatten(\u001b[38;5;124m\"\u001b[39m\u001b[38;5;124mC\u001b[39m\u001b[38;5;124m\"\u001b[39m), \u001b[38;5;241m6\u001b[39m)\n\u001b[1;32m    115\u001b[0m \u001b[38;5;28;01melse\u001b[39;00m:\n\u001b[0;32m--> 116\u001b[0m     \u001b[38;5;28;01mraise\u001b[39;00m \u001b[38;5;167;01mValueError\u001b[39;00m(\u001b[38;5;124m\"\u001b[39m\u001b[38;5;124mExpected 4 or 6 fields in bbox struct.\u001b[39m\u001b[38;5;124m\"\u001b[39m)\n\u001b[1;32m    118\u001b[0m \u001b[38;5;28;01mreturn\u001b[39;00m batch\u001b[38;5;241m.\u001b[39mset_column(bbox_col_idx, \u001b[38;5;124m\"\u001b[39m\u001b[38;5;124mbbox\u001b[39m\u001b[38;5;124m\"\u001b[39m, list_arr)\n",
      "\u001b[0;31mValueError\u001b[0m: Expected 4 or 6 fields in bbox struct."
     ]
    }
   ],
   "source": [
    "import pyarrow.parquet as pq\n",
    "from stac_geoparquet.arrow._api import stac_table_to_items\n",
    "import pystac\n",
    "import json\n",
    "\n",
    "# Path to your GeoParquet file (which should have been created from STAC items)\n",
    "parquet_path = path + \"/catalog.parquet\"\n",
    "\n",
    "# Read the Parquet file into an Arrow table\n",
    "table = pq.read_table(parquet_path)\n",
    "\n",
    "# Convert the Arrow table to a list of STAC item dictionaries\n",
    "stac_items = []\n",
    "for item_dict in stac_table_to_items(table):\n",
    "\tprint(item_dict)\n",
    "    # # The 'assets' field is typically stored as a JSON string.\n",
    "    # if 'assets' in item_dict:\n",
    "    #     item_dict['assets'] = json.loads(item_dict['assets'])\n",
    "    # # Convert the dictionary to a PySTAC Item\n",
    "    # stac_item = pystac.Item.from_dict(item_dict)\n",
    "    # stac_items.append(stac_item)\n",
    "\n",
    "print(f\"Converted {len(stac_items)} STAC items from the Parquet file.\")"
   ]
  },
  {
   "cell_type": "code",
   "execution_count": 22,
   "metadata": {},
   "outputs": [
    {
     "data": {
      "text/html": [
       "<div>\n",
       "<style scoped>\n",
       "    .dataframe tbody tr th:only-of-type {\n",
       "        vertical-align: middle;\n",
       "    }\n",
       "\n",
       "    .dataframe tbody tr th {\n",
       "        vertical-align: top;\n",
       "    }\n",
       "\n",
       "    .dataframe thead th {\n",
       "        text-align: right;\n",
       "    }\n",
       "</style>\n",
       "<table border=\"1\" class=\"dataframe\">\n",
       "  <thead>\n",
       "    <tr style=\"text-align: right;\">\n",
       "      <th></th>\n",
       "      <th>path</th>\n",
       "    </tr>\n",
       "  </thead>\n",
       "  <tbody>\n",
       "    <tr>\n",
       "      <th>0</th>\n",
       "      <td>data/EuroSAT-RGB-small/catalog.parquet</td>\n",
       "    </tr>\n",
       "    <tr>\n",
       "      <th>1</th>\n",
       "      <td>data/EuroSAT-RGB-small/PermanentCrop</td>\n",
       "    </tr>\n",
       "    <tr>\n",
       "      <th>2</th>\n",
       "      <td>data/EuroSAT-RGB-small/README.md</td>\n",
       "    </tr>\n",
       "    <tr>\n",
       "      <th>3</th>\n",
       "      <td>data/EuroSAT-RGB-small/Forest</td>\n",
       "    </tr>\n",
       "    <tr>\n",
       "      <th>4</th>\n",
       "      <td>data/EuroSAT-RGB-small/Residential</td>\n",
       "    </tr>\n",
       "    <tr>\n",
       "      <th>...</th>\n",
       "      <td>...</td>\n",
       "    </tr>\n",
       "    <tr>\n",
       "      <th>108</th>\n",
       "      <td>data/EuroSAT-RGB-small/Industrial/Industrial_2...</td>\n",
       "    </tr>\n",
       "    <tr>\n",
       "      <th>109</th>\n",
       "      <td>data/EuroSAT-RGB-small/Industrial/Industrial_2...</td>\n",
       "    </tr>\n",
       "    <tr>\n",
       "      <th>110</th>\n",
       "      <td>data/EuroSAT-RGB-small/Industrial/Industrial_4...</td>\n",
       "    </tr>\n",
       "    <tr>\n",
       "      <th>111</th>\n",
       "      <td>data/EuroSAT-RGB-small/Industrial/Industrial_1...</td>\n",
       "    </tr>\n",
       "    <tr>\n",
       "      <th>112</th>\n",
       "      <td>data/EuroSAT-RGB-small/Industrial/Industrial_1...</td>\n",
       "    </tr>\n",
       "  </tbody>\n",
       "</table>\n",
       "<p>113 rows × 1 columns</p>\n",
       "</div>"
      ],
      "text/plain": [
       "                                                  path\n",
       "0               data/EuroSAT-RGB-small/catalog.parquet\n",
       "1                 data/EuroSAT-RGB-small/PermanentCrop\n",
       "2                     data/EuroSAT-RGB-small/README.md\n",
       "3                        data/EuroSAT-RGB-small/Forest\n",
       "4                   data/EuroSAT-RGB-small/Residential\n",
       "..                                                 ...\n",
       "108  data/EuroSAT-RGB-small/Industrial/Industrial_2...\n",
       "109  data/EuroSAT-RGB-small/Industrial/Industrial_2...\n",
       "110  data/EuroSAT-RGB-small/Industrial/Industrial_4...\n",
       "111  data/EuroSAT-RGB-small/Industrial/Industrial_1...\n",
       "112  data/EuroSAT-RGB-small/Industrial/Industrial_1...\n",
       "\n",
       "[113 rows x 1 columns]"
      ]
     },
     "execution_count": 22,
     "metadata": {},
     "output_type": "execute_result"
    }
   ],
   "source": [
    "import pandas as pd\n",
    "\n",
    "pd.read_parquet(path + \"/catalog.parquet\")"
   ]
  },
  {
   "cell_type": "markdown",
   "metadata": {},
   "source": [
    "will get all files in the folder recursively, create a simple catalog.json and ingest it into EOTDL."
   ]
  },
  {
   "cell_type": "code",
   "execution_count": 7,
   "metadata": {},
   "outputs": [],
   "source": [
    "!rm -rf data/EuroSAT-RGB-small/catalog.json\n",
    "!rm -rf data/EuroSAT-RGB-small/collection"
   ]
  },
  {
   "cell_type": "markdown",
   "metadata": {},
   "source": [
    "# Example 2 - ingesting a dataset from a list of links"
   ]
  },
  {
   "cell_type": "markdown",
   "metadata": {},
   "source": [
    "We can ingest a new dataset from a list of links (huggingface, s3, etc).\n"
   ]
  },
  {
   "cell_type": "code",
   "execution_count": 9,
   "metadata": {},
   "outputs": [
    {
     "name": "stdout",
     "output_type": "stream",
     "text": [
      "Using EOTDL API URL: http://localhost:8001/\n",
      "Using EOTDL API URL: http://localhost:8001/\n",
      "Loading STAC catalog...\n",
      "Using EOTDL API URL: http://localhost:8001/\n",
      "New version created, version: 1\n"
     ]
    },
    {
     "name": "stderr",
     "output_type": "stream",
     "text": [
      "100%|██████████| 3/3 [00:00<00:00, 7653.84it/s]"
     ]
    },
    {
     "name": "stdout",
     "output_type": "stream",
     "text": [
      "Ingesting STAC catalog...\n",
      "Done\n"
     ]
    },
    {
     "name": "stderr",
     "output_type": "stream",
     "text": [
      "\n"
     ]
    }
   ],
   "source": [
    "links = [\n",
    "\t'https://link1.com',\n",
    "\t'https://link2.com',\n",
    "\t'https://link3.com',\n",
    "]\n",
    "\n",
    "metadata = {\n",
    "\t'name': 'Test-links',\n",
    "\t'authors': ['Juan B. Pedro'],\n",
    "\t'license': 'free',\n",
    "\t'source': 'https://github.com/earthpulse/eotdl/blob/develop/tutorials/workshops/philab24/02_prototype_ingesting.ipynb',\n",
    "\t'description': \"\"\"# Test links\n",
    "\n",
    "Testing the ingestion of a dataset from a list of links.\n",
    "\"\"\"\n",
    "}\n",
    "\n",
    "path = 'data/test-links'\n",
    "\n",
    "ingest_dataset_prototype(path, metadata, links, replicate=False)"
   ]
  },
  {
   "cell_type": "markdown",
   "metadata": {},
   "source": [
    "will create a simple catalog.json with links as items and ingest it into EOTDL. We can choose if we want to replicate the assets in EOTDL or not (use direct sources)."
   ]
  },
  {
   "cell_type": "code",
   "execution_count": 10,
   "metadata": {},
   "outputs": [],
   "source": [
    "!rm -rf data/test-links"
   ]
  },
  {
   "cell_type": "markdown",
   "metadata": {},
   "source": [
    "# Example 3 - ingesting a dataset from a catalog\n"
   ]
  },
  {
   "cell_type": "markdown",
   "metadata": {},
   "source": [
    "If STAC catalog already exists, we can ingest it into EOTDL. In this case, create README.md and place it in the root of the catalog."
   ]
  },
  {
   "cell_type": "code",
   "execution_count": 48,
   "metadata": {},
   "outputs": [],
   "source": [
    "!cp -r data/EuroSAT-RGB-small data/EuroSAT-RGB-small-stac"
   ]
  },
  {
   "cell_type": "code",
   "execution_count": 11,
   "metadata": {},
   "outputs": [
    {
     "name": "stdout",
     "output_type": "stream",
     "text": [
      "{\n",
      "  \"type\": \"Catalog\",\n",
      "  \"id\": \"EuroSAT-RGB-small-prototype\",\n",
      "  \"stac_version\": \"1.0.0\",\n",
      "  \"description\": \"STAC catalog\",\n",
      "  \"links\": [\n",
      "    {\n",
      "      \"rel\": \"root\",\n",
      "      \"href\": \"./catalog.json\",\n",
      "      \"type\": \"application/json\",\n",
      "      \"title\": \"EuroSAT-RGB-small-prototype\"\n",
      "    },\n",
      "    {\n",
      "      \"rel\": \"child\",\n",
      "      \"href\": \"./collection/collection.json\",\n",
      "      \"type\": \"application/json\",\n",
      "      \"title\": \"collection\"\n",
      "    }\n",
      "  ],\n",
      "  \"eotdl\": {\n",
      "    \"name\": \"EuroSAT-RGB-small-catalog-prototype\",\n",
      "    \"license\": \"free\",\n",
      "    \"source\": \"https://github.com/earthpulse/eotdl/blob/develop/tutorials/workshops/philab24/02_prototype_ingesting.ipynb\",\n",
      "    \"thumbnail\": \"\",\n",
      "    \"authors\": [\n",
      "      \"Juan B. Pedro\"\n",
      "    ],\n",
      "    \"description\": \"# EuroSAT-RGB-small-catalog-prototype\\n\\nThis is a prototype of the EuroSAT dataset.\"\n",
      "  },\n",
      "  \"title\": \"EuroSAT-RGB-small-prototype\"\n",
      "}"
     ]
    }
   ],
   "source": [
    "path = 'data/EuroSAT-RGB-small-stac'\n",
    "\n",
    "files = os.listdir(path)\n",
    "assert 'catalog.json' in files, \"catalog.json not found\"\n",
    "\n",
    "!cat data/EuroSAT-RGB-small-stac/catalog.json"
   ]
  },
  {
   "cell_type": "code",
   "execution_count": 14,
   "metadata": {},
   "outputs": [],
   "source": [
    "# create README.md\n",
    "\n",
    "text = \"\"\"---\n",
    "name: EuroSAT-RGB-small-catalog-prototype\n",
    "authors: \n",
    "  - Juan B. Pedro\n",
    "license: free\n",
    "source: https://github.com/earthpulse/eotdl/blob/develop/tutorials/workshops/philab24/02_prototype_ingesting.ipynb\n",
    "---\n",
    "\n",
    "# EuroSAT-RGB-small-catalog-prototype\n",
    "\n",
    "This is a prototype of the EuroSAT dataset.\n",
    "\"\"\"\n",
    "\n",
    "with open(f\"{path}/README.md\", \"w\") as outfile:\n",
    "    outfile.write(text)"
   ]
  },
  {
   "cell_type": "code",
   "execution_count": 15,
   "metadata": {},
   "outputs": [
    {
     "name": "stdout",
     "output_type": "stream",
     "text": [
      "Using EOTDL API URL: http://localhost:8001/\n",
      "Using EOTDL API URL: http://localhost:8001/\n",
      "Loading STAC catalog...\n",
      "Using EOTDL API URL: http://localhost:8001/\n",
      "New version created, version: 1\n"
     ]
    },
    {
     "name": "stderr",
     "output_type": "stream",
     "text": [
      "100%|██████████| 101/101 [00:02<00:00, 46.95it/s]"
     ]
    },
    {
     "name": "stdout",
     "output_type": "stream",
     "text": [
      "Ingesting STAC catalog...\n",
      "Done\n"
     ]
    },
    {
     "name": "stderr",
     "output_type": "stream",
     "text": [
      "\n"
     ]
    }
   ],
   "source": [
    "from eotdl.datasets import ingest_dataset_prototype\n",
    "\n",
    "ingest_dataset_prototype(path, replicate=False)"
   ]
  },
  {
   "cell_type": "code",
   "execution_count": 12,
   "metadata": {},
   "outputs": [],
   "source": [
    "!rm -rf data/EuroSAT-RGB-small-stac/README.md"
   ]
  },
  {
   "cell_type": "markdown",
   "metadata": {},
   "source": [
    "# Staging data"
   ]
  },
  {
   "cell_type": "markdown",
   "metadata": {},
   "source": [
    "At this point, every dataset ingested in EOTDL is STAC compliant, and the hrefs to the assets are links to the EOTDL api.\n",
    "\n",
    "At stage time user can choose to get only the metadata or the metadata and the assets."
   ]
  },
  {
   "cell_type": "code",
   "execution_count": 16,
   "metadata": {},
   "outputs": [],
   "source": [
    "!rm -rf data/output"
   ]
  },
  {
   "cell_type": "code",
   "execution_count": 17,
   "metadata": {},
   "outputs": [
    {
     "name": "stdout",
     "output_type": "stream",
     "text": [
      "Using EOTDL API URL: http://localhost:8001/\n",
      "Using EOTDL API URL: http://localhost:8001/\n",
      "To download assets, set assets=True or -a in the CLI.\n"
     ]
    },
    {
     "data": {
      "text/plain": [
       "'data/output/EuroSAT-RGB-small-catalog-prototype/v1'"
      ]
     },
     "execution_count": 17,
     "metadata": {},
     "output_type": "execute_result"
    }
   ],
   "source": [
    "from eotdl.datasets import download_dataset_prototype\n",
    "\n",
    "path = download_dataset_prototype(dataset_name='EuroSAT-RGB-small-catalog-prototype', path=\"data/output\", force=True)\n",
    "path"
   ]
  },
  {
   "cell_type": "code",
   "execution_count": 18,
   "metadata": {},
   "outputs": [
    {
     "name": "stdout",
     "output_type": "stream",
     "text": [
      "Using EOTDL API URL: http://localhost:8001/\n",
      "Using EOTDL API URL: http://localhost:8001/\n",
      "Using EOTDL API URL: http://localhost:8001/\n"
     ]
    },
    {
     "name": "stderr",
     "output_type": "stream",
     "text": [
      "100%|██████████| 101/101 [00:01<00:00, 77.34it/s]\n"
     ]
    },
    {
     "data": {
      "text/plain": [
       "'data/output/EuroSAT-RGB-small-catalog-prototype/v1'"
      ]
     },
     "execution_count": 18,
     "metadata": {},
     "output_type": "execute_result"
    }
   ],
   "source": [
    "path = download_dataset_prototype(dataset_name='EuroSAT-RGB-small-catalog-prototype', path=\"data/output\", assets=True, force=True)\n",
    "path"
   ]
  },
  {
   "cell_type": "markdown",
   "metadata": {},
   "source": [
    "We can also work on the metadata first (filtering, cleaning, etc) and then download the selected assets."
   ]
  }
 ],
 "metadata": {
  "kernelspec": {
   "display_name": ".venv",
   "language": "python",
   "name": "python3"
  },
  "language_info": {
   "codemirror_mode": {
    "name": "ipython",
    "version": 3
   },
   "file_extension": ".py",
   "mimetype": "text/x-python",
   "name": "python",
   "nbconvert_exporter": "python",
   "pygments_lexer": "ipython3",
   "version": "3.12.7"
  }
 },
 "nbformat": 4,
 "nbformat_minor": 2
}
