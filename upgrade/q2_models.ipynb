{
 "cells": [
  {
   "cell_type": "code",
   "execution_count": 5,
   "metadata": {},
   "outputs": [
    {
     "data": {
      "text/plain": [
       "True"
      ]
     },
     "execution_count": 5,
     "metadata": {},
     "output_type": "execute_result"
    }
   ],
   "source": [
    "from dotenv import load_dotenv\n",
    "import os\n",
    "\n",
    "load_dotenv()"
   ]
  },
  {
   "cell_type": "code",
   "execution_count": 6,
   "metadata": {},
   "outputs": [],
   "source": [
    "from minio import Minio\n",
    "\n",
    "minio_client = Minio(\n",
    "\tendpoint=os.getenv('S3_ENDPOINT'),\n",
    "\taccess_key=os.getenv('ACCESS_KEY_ID'),\n",
    "\tsecret_key=os.getenv('SECRET_ACCESS_KEY'),\n",
    "\tsecure=True,\n",
    ")"
   ]
  },
  {
   "cell_type": "code",
   "execution_count": 34,
   "metadata": {},
   "outputs": [
    {
     "data": {
      "text/plain": [
       "<minio.datatypes.Object at 0x11b245b20>"
      ]
     },
     "execution_count": 34,
     "metadata": {},
     "output_type": "execute_result"
    }
   ],
   "source": [
    "model_id = '66c32647250225d1d36e735e'\n",
    "\n",
    "# minio_client.fget_object(os.getenv('BUCKET'), f\"{model_id}/catalog.v1.parquet.backup\", f\"kk/catalog.v1.parquet\")\n",
    "minio_client.fget_object(os.getenv('BUCKET'), f\"{model_id}/catalog.v1.parquet\", f\"kk/catalog.v1.parquet\")"
   ]
  },
  {
   "cell_type": "code",
   "execution_count": 35,
   "metadata": {},
   "outputs": [
    {
     "data": {
      "text/html": [
       "<div>\n",
       "<style scoped>\n",
       "    .dataframe tbody tr th:only-of-type {\n",
       "        vertical-align: middle;\n",
       "    }\n",
       "\n",
       "    .dataframe tbody tr th {\n",
       "        vertical-align: top;\n",
       "    }\n",
       "\n",
       "    .dataframe thead th {\n",
       "        text-align: right;\n",
       "    }\n",
       "</style>\n",
       "<table border=\"1\" class=\"dataframe\">\n",
       "  <thead>\n",
       "    <tr style=\"text-align: right;\">\n",
       "      <th></th>\n",
       "      <th>type</th>\n",
       "      <th>stac_version</th>\n",
       "      <th>stac_extensions</th>\n",
       "      <th>datetime</th>\n",
       "      <th>id</th>\n",
       "      <th>bbox</th>\n",
       "      <th>geometry</th>\n",
       "      <th>assets</th>\n",
       "      <th>links</th>\n",
       "      <th>repository</th>\n",
       "    </tr>\n",
       "  </thead>\n",
       "  <tbody>\n",
       "    <tr>\n",
       "      <th>0</th>\n",
       "      <td>Feature</td>\n",
       "      <td>1.0.0</td>\n",
       "      <td>[]</td>\n",
       "      <td>2025-03-25 13:50:39.232448</td>\n",
       "      <td>model.onnx</td>\n",
       "      <td>{'xmax': 0.0, 'xmin': 0.0, 'ymax': 0.0, 'ymin'...</td>\n",
       "      <td>POLYGON EMPTY</td>\n",
       "      <td>{'asset': {'checksum': '99581a42cd56f66b1649f5...</td>\n",
       "      <td>[]</td>\n",
       "      <td>eotdl</td>\n",
       "    </tr>\n",
       "  </tbody>\n",
       "</table>\n",
       "</div>"
      ],
      "text/plain": [
       "      type stac_version stac_extensions                   datetime  \\\n",
       "0  Feature        1.0.0              [] 2025-03-25 13:50:39.232448   \n",
       "\n",
       "           id                                               bbox  \\\n",
       "0  model.onnx  {'xmax': 0.0, 'xmin': 0.0, 'ymax': 0.0, 'ymin'...   \n",
       "\n",
       "        geometry                                             assets links  \\\n",
       "0  POLYGON EMPTY  {'asset': {'checksum': '99581a42cd56f66b1649f5...    []   \n",
       "\n",
       "  repository  \n",
       "0      eotdl  "
      ]
     },
     "execution_count": 35,
     "metadata": {},
     "output_type": "execute_result"
    }
   ],
   "source": [
    "import geopandas as gpd\n",
    "\n",
    "df = gpd.read_parquet(\"kk/catalog.v1.parquet\")\n",
    "\n",
    "df"
   ]
  },
  {
   "cell_type": "code",
   "execution_count": 36,
   "metadata": {},
   "outputs": [],
   "source": [
    "properties={ \n",
    "\t\"mlm:name\": \"model.onnx\", # name of the asset ? otherwise, how can we know which asset to use ?\n",
    "\t\"mlm:framework\": \"ONNX\",  # only framework support for now\n",
    "\t\"mlm:architecture\": \"U-Net\",\n",
    "\t\"mlm:tasks\": [\"segmentation\"], # https://github.com/crim-ca/mlm-extension?tab=readme-ov-file#task-enum\n",
    "\t\"mlm:input\": { # https://github.com/crim-ca/mlm-extension?tab=readme-ov-file#model-input-object\n",
    "\t\t\"name\": \"RGB statellite image (HR)\",\n",
    "\t\t\"bands\": [\n",
    "\t\t\t\"red\",\n",
    "\t\t\t\"green\",\n",
    "\t\t\t\"blue\"\n",
    "\t\t],\n",
    "\t\t\"input\": { # https://github.com/crim-ca/mlm-extension?tab=readme-ov-file#input-structure-object\n",
    "\t\t\t\"shape\": [\n",
    "\t\t\t\t-1,\n",
    "\t\t\t\t3,\n",
    "\t\t\t\t-1, # should be divisble by 16\n",
    "\t\t\t\t-1 # should be divisble by 16\n",
    "\t\t\t],\n",
    "\t\t\t\"dim_order\": [\n",
    "\t\t\t\t\"batch\",\n",
    "\t\t\t\t\"channel\",\n",
    "\t\t\t\t\"height\",\n",
    "\t\t\t\t\"width\"\n",
    "\t\t\t],\n",
    "\t\t\t\"data_type\": \"float32\",\n",
    "\t\t\t# we should add here the resize to nearest divisible by 16\n",
    "\t\t\t# \"pre_processing_function\": { # https://github.com/crim-ca/mlm-extension?tab=readme-ov-file#processing-expression\n",
    "\t\t\t# \t\"format\": \n",
    "\t\t\t# \t\"expression\": \n",
    "\t\t\t# }\n",
    "\t\t\t\"description\": \"Model trained with 1024x1024 RGB HR images, but can work with other dimensions as long as they are divisible by 16\"\n",
    "\t\t}\n",
    "\t},\n",
    "\t\"mlm:output\": {\n",
    "\t\t\"name\": \"road binary mask\",\n",
    "\t\t\"tasks\": [\"segmentation\"], # redundant ?\n",
    "\t\t\"result\": { # https://github.com/crim-ca/mlm-extension?tab=readme-ov-file#result-structure-object\n",
    "\t\t\t\"shape\": [-1, 1, -1, -1],\n",
    "\t\t\t\"dim_order\": [\n",
    "\t\t\t\t\"batch\",\n",
    "\t\t\t\t\"channel\",\n",
    "\t\t\t\t\"height\",\n",
    "\t\t\t\t\"width\"\n",
    "\t\t\t],\n",
    "\t\t\t\"data_type\": \"uint8\",\n",
    "\t\t\t\"description\": \"Binary mask of the road segmentation. 1 for road, 0 for background\",\n",
    "\t\t\t# \"post_processing_function\": { # https://github.com/crim-ca/mlm-extension?tab=readme-ov-file#processing-expression\n",
    "\t\t\t# }\n",
    "\t\t},\n",
    "\t},\n",
    "}\n",
    "    \n",
    "stac_extensions=['https://crim-ca.github.io/mlm-extension/v1.2.0/schema.json']"
   ]
  },
  {
   "cell_type": "code",
   "execution_count": 37,
   "metadata": {},
   "outputs": [],
   "source": [
    "# Update the DataFrame in a single operation\n",
    "df.loc[0, 'stac_extensions'] = stac_extensions\n",
    "df.loc[0, 'mlm:name'] = properties['mlm:name']\n",
    "df.loc[0, 'mlm:framework'] = properties['mlm:framework']\n",
    "df.loc[0, 'mlm:architecture'] = properties['mlm:architecture']\n",
    "df.loc[0, 'mlm:tasks'] = properties['mlm:tasks']  \n",
    "df['mlm:input'] = [properties['mlm:input']]\n",
    "df['mlm:output'] = [properties['mlm:output']]"
   ]
  },
  {
   "cell_type": "code",
   "execution_count": 38,
   "metadata": {},
   "outputs": [
    {
     "data": {
      "text/html": [
       "<div>\n",
       "<style scoped>\n",
       "    .dataframe tbody tr th:only-of-type {\n",
       "        vertical-align: middle;\n",
       "    }\n",
       "\n",
       "    .dataframe tbody tr th {\n",
       "        vertical-align: top;\n",
       "    }\n",
       "\n",
       "    .dataframe thead th {\n",
       "        text-align: right;\n",
       "    }\n",
       "</style>\n",
       "<table border=\"1\" class=\"dataframe\">\n",
       "  <thead>\n",
       "    <tr style=\"text-align: right;\">\n",
       "      <th></th>\n",
       "      <th>type</th>\n",
       "      <th>stac_version</th>\n",
       "      <th>stac_extensions</th>\n",
       "      <th>datetime</th>\n",
       "      <th>id</th>\n",
       "      <th>bbox</th>\n",
       "      <th>geometry</th>\n",
       "      <th>assets</th>\n",
       "      <th>links</th>\n",
       "      <th>repository</th>\n",
       "      <th>mlm:name</th>\n",
       "      <th>mlm:framework</th>\n",
       "      <th>mlm:architecture</th>\n",
       "      <th>mlm:tasks</th>\n",
       "      <th>mlm:input</th>\n",
       "      <th>mlm:output</th>\n",
       "    </tr>\n",
       "  </thead>\n",
       "  <tbody>\n",
       "    <tr>\n",
       "      <th>0</th>\n",
       "      <td>Feature</td>\n",
       "      <td>1.0.0</td>\n",
       "      <td>[https://crim-ca.github.io/mlm-extension/v1.2....</td>\n",
       "      <td>2025-03-25 13:50:39.232448</td>\n",
       "      <td>model.onnx</td>\n",
       "      <td>{'xmax': 0.0, 'xmin': 0.0, 'ymax': 0.0, 'ymin'...</td>\n",
       "      <td>POLYGON EMPTY</td>\n",
       "      <td>{'asset': {'checksum': '99581a42cd56f66b1649f5...</td>\n",
       "      <td>[]</td>\n",
       "      <td>eotdl</td>\n",
       "      <td>model.onnx</td>\n",
       "      <td>ONNX</td>\n",
       "      <td>U-Net</td>\n",
       "      <td>[segmentation]</td>\n",
       "      <td>{'name': 'RGB statellite image (HR)', 'bands':...</td>\n",
       "      <td>{'name': 'road binary mask', 'tasks': ['segmen...</td>\n",
       "    </tr>\n",
       "  </tbody>\n",
       "</table>\n",
       "</div>"
      ],
      "text/plain": [
       "      type stac_version                                    stac_extensions  \\\n",
       "0  Feature        1.0.0  [https://crim-ca.github.io/mlm-extension/v1.2....   \n",
       "\n",
       "                    datetime          id  \\\n",
       "0 2025-03-25 13:50:39.232448  model.onnx   \n",
       "\n",
       "                                                bbox       geometry  \\\n",
       "0  {'xmax': 0.0, 'xmin': 0.0, 'ymax': 0.0, 'ymin'...  POLYGON EMPTY   \n",
       "\n",
       "                                              assets links repository  \\\n",
       "0  {'asset': {'checksum': '99581a42cd56f66b1649f5...    []      eotdl   \n",
       "\n",
       "     mlm:name mlm:framework mlm:architecture       mlm:tasks  \\\n",
       "0  model.onnx          ONNX            U-Net  [segmentation]   \n",
       "\n",
       "                                           mlm:input  \\\n",
       "0  {'name': 'RGB statellite image (HR)', 'bands':...   \n",
       "\n",
       "                                          mlm:output  \n",
       "0  {'name': 'road binary mask', 'tasks': ['segmen...  "
      ]
     },
     "execution_count": 38,
     "metadata": {},
     "output_type": "execute_result"
    }
   ],
   "source": [
    "df"
   ]
  },
  {
   "cell_type": "code",
   "execution_count": 40,
   "metadata": {},
   "outputs": [],
   "source": [
    "# minio_client.fput_object(os.getenv('BUCKET'), f\"{model_id}/catalog.v1.parquet.backup\", f\"kk/catalog.v1.parquet\")\n",
    "\n",
    "df.to_parquet(\"kk/catalog.v1.parquet\")"
   ]
  },
  {
   "cell_type": "code",
   "execution_count": 41,
   "metadata": {},
   "outputs": [
    {
     "data": {
      "text/html": [
       "<div>\n",
       "<style scoped>\n",
       "    .dataframe tbody tr th:only-of-type {\n",
       "        vertical-align: middle;\n",
       "    }\n",
       "\n",
       "    .dataframe tbody tr th {\n",
       "        vertical-align: top;\n",
       "    }\n",
       "\n",
       "    .dataframe thead th {\n",
       "        text-align: right;\n",
       "    }\n",
       "</style>\n",
       "<table border=\"1\" class=\"dataframe\">\n",
       "  <thead>\n",
       "    <tr style=\"text-align: right;\">\n",
       "      <th></th>\n",
       "      <th>type</th>\n",
       "      <th>stac_version</th>\n",
       "      <th>stac_extensions</th>\n",
       "      <th>datetime</th>\n",
       "      <th>id</th>\n",
       "      <th>bbox</th>\n",
       "      <th>geometry</th>\n",
       "      <th>assets</th>\n",
       "      <th>links</th>\n",
       "      <th>repository</th>\n",
       "      <th>mlm:name</th>\n",
       "      <th>mlm:framework</th>\n",
       "      <th>mlm:architecture</th>\n",
       "      <th>mlm:tasks</th>\n",
       "      <th>mlm:input</th>\n",
       "      <th>mlm:output</th>\n",
       "    </tr>\n",
       "  </thead>\n",
       "  <tbody>\n",
       "    <tr>\n",
       "      <th>0</th>\n",
       "      <td>Feature</td>\n",
       "      <td>1.0.0</td>\n",
       "      <td>[https://crim-ca.github.io/mlm-extension/v1.2....</td>\n",
       "      <td>2025-03-25 13:50:39.232448</td>\n",
       "      <td>model.onnx</td>\n",
       "      <td>{'xmax': 0.0, 'xmin': 0.0, 'ymax': 0.0, 'ymin'...</td>\n",
       "      <td>POLYGON EMPTY</td>\n",
       "      <td>{'asset': {'checksum': '99581a42cd56f66b1649f5...</td>\n",
       "      <td>[]</td>\n",
       "      <td>eotdl</td>\n",
       "      <td>model.onnx</td>\n",
       "      <td>ONNX</td>\n",
       "      <td>U-Net</td>\n",
       "      <td>[segmentation]</td>\n",
       "      <td>{'bands': ['red', 'green', 'blue'], 'input': {...</td>\n",
       "      <td>{'name': 'road binary mask', 'result': {'data_...</td>\n",
       "    </tr>\n",
       "  </tbody>\n",
       "</table>\n",
       "</div>"
      ],
      "text/plain": [
       "      type stac_version                                    stac_extensions  \\\n",
       "0  Feature        1.0.0  [https://crim-ca.github.io/mlm-extension/v1.2....   \n",
       "\n",
       "                    datetime          id  \\\n",
       "0 2025-03-25 13:50:39.232448  model.onnx   \n",
       "\n",
       "                                                bbox       geometry  \\\n",
       "0  {'xmax': 0.0, 'xmin': 0.0, 'ymax': 0.0, 'ymin'...  POLYGON EMPTY   \n",
       "\n",
       "                                              assets links repository  \\\n",
       "0  {'asset': {'checksum': '99581a42cd56f66b1649f5...    []      eotdl   \n",
       "\n",
       "     mlm:name mlm:framework mlm:architecture       mlm:tasks  \\\n",
       "0  model.onnx          ONNX            U-Net  [segmentation]   \n",
       "\n",
       "                                           mlm:input  \\\n",
       "0  {'bands': ['red', 'green', 'blue'], 'input': {...   \n",
       "\n",
       "                                          mlm:output  \n",
       "0  {'name': 'road binary mask', 'result': {'data_...  "
      ]
     },
     "execution_count": 41,
     "metadata": {},
     "output_type": "execute_result"
    }
   ],
   "source": [
    "df = gpd.read_parquet(\"kk/catalog.v1.parquet\")\n",
    "\n",
    "df"
   ]
  },
  {
   "cell_type": "code",
   "execution_count": 42,
   "metadata": {},
   "outputs": [
    {
     "data": {
      "text/plain": [
       "<minio.helpers.ObjectWriteResult at 0x10bcdc5c0>"
      ]
     },
     "execution_count": 42,
     "metadata": {},
     "output_type": "execute_result"
    }
   ],
   "source": [
    "minio_client.fput_object(os.getenv('BUCKET'), f\"{model_id}/catalog.v1.parquet\", f\"kk/catalog.v1.parquet\")\n"
   ]
  },
  {
   "cell_type": "code",
   "execution_count": null,
   "metadata": {},
   "outputs": [],
   "source": []
  }
 ],
 "metadata": {
  "kernelspec": {
   "display_name": ".venv",
   "language": "python",
   "name": "python3"
  },
  "language_info": {
   "codemirror_mode": {
    "name": "ipython",
    "version": 3
   },
   "file_extension": ".py",
   "mimetype": "text/x-python",
   "name": "python",
   "nbconvert_exporter": "python",
   "pygments_lexer": "ipython3",
   "version": "3.12.9"
  }
 },
 "nbformat": 4,
 "nbformat_minor": 2
}
