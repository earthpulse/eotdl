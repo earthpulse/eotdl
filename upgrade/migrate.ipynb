{
 "cells": [
  {
   "cell_type": "code",
   "execution_count": 1,
   "metadata": {},
   "outputs": [
    {
     "data": {
      "text/plain": [
       "True"
      ]
     },
     "execution_count": 1,
     "metadata": {},
     "output_type": "execute_result"
    }
   ],
   "source": [
    "import pandas as pd\n",
    "from minio import Minio\n",
    "from datetime import datetime\n",
    "import json\n",
    "from dotenv import load_dotenv\n",
    "import os\n",
    "\n",
    "load_dotenv()"
   ]
  },
  {
   "cell_type": "code",
   "execution_count": 2,
   "metadata": {},
   "outputs": [],
   "source": [
    "def parse_with_dates(json_str):\n",
    "    data = json.loads(json_str)\n",
    "    # parse dates if needed\n",
    "    return data\n",
    "\n",
    "df = pd.read_csv(\"models.csv\")\n",
    "\n",
    "df['versions'] = df['versions'].apply(json.loads)\n",
    "df['files'] = df['files'].apply(json.loads)\n",
    "df['folders'] = df['folders'].apply(json.loads)\n",
    "\n",
    "# df"
   ]
  },
  {
   "cell_type": "code",
   "execution_count": 2,
   "metadata": {},
   "outputs": [
    {
     "ename": "TypeError",
     "evalue": "can only concatenate str (not \"NoneType\") to str",
     "output_type": "error",
     "traceback": [
      "\u001b[0;31m---------------------------------------------------------------------------\u001b[0m",
      "\u001b[0;31mTypeError\u001b[0m                                 Traceback (most recent call last)",
      "Cell \u001b[0;32mIn[2], line 1\u001b[0m\n\u001b[0;32m----> 1\u001b[0m minio_client \u001b[38;5;241m=\u001b[39m \u001b[43mMinio\u001b[49m\u001b[43m(\u001b[49m\n\u001b[1;32m      2\u001b[0m \u001b[43m\t\u001b[49m\u001b[43mendpoint\u001b[49m\u001b[38;5;241;43m=\u001b[39;49m\u001b[43mos\u001b[49m\u001b[38;5;241;43m.\u001b[39;49m\u001b[43mgetenv\u001b[49m\u001b[43m(\u001b[49m\u001b[38;5;124;43m'\u001b[39;49m\u001b[38;5;124;43mS3_ENDPOINT\u001b[39;49m\u001b[38;5;124;43m'\u001b[39;49m\u001b[43m)\u001b[49m\u001b[43m,\u001b[49m\n\u001b[1;32m      3\u001b[0m \u001b[43m\t\u001b[49m\u001b[43maccess_key\u001b[49m\u001b[38;5;241;43m=\u001b[39;49m\u001b[43mos\u001b[49m\u001b[38;5;241;43m.\u001b[39;49m\u001b[43mgetenv\u001b[49m\u001b[43m(\u001b[49m\u001b[38;5;124;43m'\u001b[39;49m\u001b[38;5;124;43mACCESS_KEY_ID\u001b[39;49m\u001b[38;5;124;43m'\u001b[39;49m\u001b[43m)\u001b[49m\u001b[43m,\u001b[49m\n\u001b[1;32m      4\u001b[0m \u001b[43m\t\u001b[49m\u001b[43msecret_key\u001b[49m\u001b[38;5;241;43m=\u001b[39;49m\u001b[43mos\u001b[49m\u001b[38;5;241;43m.\u001b[39;49m\u001b[43mgetenv\u001b[49m\u001b[43m(\u001b[49m\u001b[38;5;124;43m'\u001b[39;49m\u001b[38;5;124;43mSECRET_ACCESS_KEY\u001b[39;49m\u001b[38;5;124;43m'\u001b[39;49m\u001b[43m)\u001b[49m\u001b[43m,\u001b[49m\n\u001b[1;32m      5\u001b[0m \u001b[43m\t\u001b[49m\u001b[43msecure\u001b[49m\u001b[38;5;241;43m=\u001b[39;49m\u001b[38;5;28;43;01mTrue\u001b[39;49;00m\u001b[43m,\u001b[49m\n\u001b[1;32m      6\u001b[0m \u001b[43m)\u001b[49m\n\u001b[1;32m      8\u001b[0m old_bucket \u001b[38;5;241m=\u001b[39m os\u001b[38;5;241m.\u001b[39mgetenv(\u001b[38;5;124m'\u001b[39m\u001b[38;5;124mOLD_BUCKET\u001b[39m\u001b[38;5;124m'\u001b[39m)\n\u001b[1;32m      9\u001b[0m new_bucket \u001b[38;5;241m=\u001b[39m os\u001b[38;5;241m.\u001b[39mgetenv(\u001b[38;5;124m'\u001b[39m\u001b[38;5;124mNEW_BUCKET\u001b[39m\u001b[38;5;124m'\u001b[39m)\n",
      "File \u001b[0;32m~/Desktop/eotdl/.venv/lib/python3.12/site-packages/minio/api.py:154\u001b[0m, in \u001b[0;36mMinio.__init__\u001b[0;34m(self, endpoint, access_key, secret_key, session_token, secure, region, http_client, credentials, cert_check)\u001b[0m\n\u001b[1;32m    148\u001b[0m     \u001b[38;5;28;01mraise\u001b[39;00m \u001b[38;5;167;01mValueError\u001b[39;00m(\n\u001b[1;32m    149\u001b[0m         \u001b[38;5;124m\"\u001b[39m\u001b[38;5;124mHTTP client should be instance of `urllib3.PoolManager`\u001b[39m\u001b[38;5;124m\"\u001b[39m\n\u001b[1;32m    150\u001b[0m     )\n\u001b[1;32m    152\u001b[0m \u001b[38;5;28mself\u001b[39m\u001b[38;5;241m.\u001b[39m_region_map \u001b[38;5;241m=\u001b[39m {}\n\u001b[1;32m    153\u001b[0m \u001b[38;5;28mself\u001b[39m\u001b[38;5;241m.\u001b[39m_base_url \u001b[38;5;241m=\u001b[39m BaseURL(\n\u001b[0;32m--> 154\u001b[0m     \u001b[43m(\u001b[49m\u001b[38;5;124;43m\"\u001b[39;49m\u001b[38;5;124;43mhttps://\u001b[39;49m\u001b[38;5;124;43m\"\u001b[39;49m\u001b[43m \u001b[49m\u001b[38;5;28;43;01mif\u001b[39;49;00m\u001b[43m \u001b[49m\u001b[43msecure\u001b[49m\u001b[43m \u001b[49m\u001b[38;5;28;43;01melse\u001b[39;49;00m\u001b[43m \u001b[49m\u001b[38;5;124;43m\"\u001b[39;49m\u001b[38;5;124;43mhttp://\u001b[39;49m\u001b[38;5;124;43m\"\u001b[39;49m\u001b[43m)\u001b[49m\u001b[43m \u001b[49m\u001b[38;5;241;43m+\u001b[39;49m\u001b[43m \u001b[49m\u001b[43mendpoint\u001b[49m,\n\u001b[1;32m    155\u001b[0m     region,\n\u001b[1;32m    156\u001b[0m )\n\u001b[1;32m    157\u001b[0m \u001b[38;5;28mself\u001b[39m\u001b[38;5;241m.\u001b[39m_user_agent \u001b[38;5;241m=\u001b[39m _DEFAULT_USER_AGENT\n\u001b[1;32m    158\u001b[0m \u001b[38;5;28mself\u001b[39m\u001b[38;5;241m.\u001b[39m_trace_stream \u001b[38;5;241m=\u001b[39m \u001b[38;5;28;01mNone\u001b[39;00m\n",
      "\u001b[0;31mTypeError\u001b[0m: can only concatenate str (not \"NoneType\") to str"
     ]
    }
   ],
   "source": [
    "minio_client = Minio(\n",
    "\tendpoint=os.getenv('S3_ENDPOINT'),\n",
    "\taccess_key=os.getenv('ACCESS_KEY_ID'),\n",
    "\tsecret_key=os.getenv('SECRET_ACCESS_KEY'),\n",
    "\tsecure=True,\n",
    ")\n",
    "\n",
    "old_bucket = os.getenv('OLD_BUCKET')\n",
    "new_bucket = os.getenv('NEW_BUCKET')"
   ]
  },
  {
   "cell_type": "code",
   "execution_count": 4,
   "metadata": {},
   "outputs": [],
   "source": [
    "# from tqdm import tqdm\n",
    "\n",
    "# for i, row in tqdm(df.iterrows(), total=len(df)):\n",
    "# \tfiles = minio_client.list_objects(new_bucket, row.id, recursive=True)\n",
    "# \tnames = [file.object_name for file in files]\n",
    "# \ttry:\n",
    "# \t\tassert f'{row.id}/catalog.v1.parquet' in names, f'{row.id} does not have a catalog.v1.parquet file'\n",
    "# \texcept:\n",
    "# \t\tprint(row.id, row.name)\n",
    "\t\t"
   ]
  },
  {
   "cell_type": "code",
   "execution_count": 5,
   "metadata": {},
   "outputs": [
    {
     "name": "stdout",
     "output_type": "stream",
     "text": [
      "{'version_id': 1, 'createdAt': '2023-11-03T16:12:06.732000', 'size': 44718151}\n",
      "{'name': 'model.onnx', 'size': 44717985, 'checksum': '3eec90939be13a739ce2d70424391a5956c54e95', 'version': 1, 'versions': [1], 'createdAt': '2023-11-03T16:12:06.738000'}\n"
     ]
    },
    {
     "name": "stderr",
     "output_type": "stream",
     "text": [
      "/Users/juan/Desktop/eotdl/.venv/lib/python3.12/site-packages/geopandas/array.py:968: RuntimeWarning: All-NaN slice encountered\n",
      "  np.nanmin(b[:, 0]),  # minx\n",
      "/Users/juan/Desktop/eotdl/.venv/lib/python3.12/site-packages/geopandas/array.py:969: RuntimeWarning: All-NaN slice encountered\n",
      "  np.nanmin(b[:, 1]),  # miny\n",
      "/Users/juan/Desktop/eotdl/.venv/lib/python3.12/site-packages/geopandas/array.py:970: RuntimeWarning: All-NaN slice encountered\n",
      "  np.nanmax(b[:, 2]),  # maxx\n",
      "/Users/juan/Desktop/eotdl/.venv/lib/python3.12/site-packages/geopandas/array.py:971: RuntimeWarning: All-NaN slice encountered\n",
      "  np.nanmax(b[:, 3]),  # maxy\n"
     ]
    }
   ],
   "source": [
    "from shapely.geometry import Polygon\n",
    "import geopandas as gpd\n",
    "import random\n",
    "import rasterio as rio\n",
    "\n",
    "files_map = []\n",
    "for row in df.iterrows():\n",
    "\tdataset_id = row[1]['id']\n",
    "\tdataset_name = row[1]['name']\n",
    "\tversions = row[1]['versions']\n",
    "\tfiles = row[1]['files']\n",
    "\tfolders = row[1]['folders']\n",
    "\t# print(dataset_id, dataset_name, versions, files, folders)\n",
    "\t# print(dataset_id, json.loads(files))\n",
    "\t# if len(json.loads(versions)) <= 1:\n",
    "\t# \tcontinue\n",
    "\tfor version in json.loads(versions):\n",
    "\t\tprint(version)\n",
    "\t\tdata = []\n",
    "\t\tfor file in json.loads(files):\n",
    "\t\t\tif not version['version_id'] in file['versions']:\n",
    "\t\t\t\tcontinue\n",
    "\t\t\tprint(file)\n",
    "\t\t\titem_id = file['name']\n",
    "\t\t\tif file['version'] > 1:\n",
    "\t\t\t\t\titem_id = f'{file[\"name\"]}-{random.randint(1, 1000000)}'\n",
    "\t\t\t\t\tprint(file['name'], '->', item_id)\n",
    "\t\t\tstac_item  = {\n",
    "\t\t\t\t'type': 'Feature',\n",
    "\t\t\t\t'stac_version': '1.0.0',\n",
    "\t\t\t\t'stac_extensions': [],\n",
    "\t\t\t\t'datetime': datetime.now(),  # must be native timestamp (https://github.com/apache/parquet-format/blob/master/LogicalTypes.md#timestamp)\n",
    "\t\t\t\t'id': item_id,\n",
    "\t\t\t\t'bbox': {\n",
    "\t\t\t\t\t'xmin': 0.0,\n",
    "\t\t\t\t\t'ymin': 0.0,\n",
    "\t\t\t\t\t'xmax': 0.0,\n",
    "\t\t\t\t\t'ymax': 0.0\n",
    "\t\t\t\t}, # infer from file or from list of geometries\n",
    "\t\t\t\t'geometry': Polygon(), # empty polygon\n",
    "\t\t\t\t'assets': { 'asset': { # STAC needs this to be a Dict[str, Asset], not list !!! use same key or parquet breaks !!!\n",
    "\t\t\t\t\t'href': f'https://dev.api.eotdl.com/models/{dataset_id}/stage/{item_id}', # TODO: change to prod\n",
    "\t\t\t\t\t'checksum': file['checksum'],\n",
    "\t\t\t\t\t'timestamp': file['createdAt'],\n",
    "\t\t\t\t\t'size': file['size'],\n",
    "\t\t\t\t}},\n",
    "\t\t\t\t\"links\": [],\n",
    "\t\t\t\t# 'collection': 'source',\n",
    "\t\t\t\t# anything below are properties (need at least one!)\n",
    "\t\t\t\t'repository': 'eotdl',\t\t\t\t\n",
    "\t\t\t}\n",
    "\t\t\tdata.append(stac_item)\n",
    "\t\t\t# copy file from old bucket to new bucket\n",
    "\t\t\tminio_client.fget_object(\n",
    "\t\t\t\told_bucket,\n",
    "\t\t\t\tf'{dataset_id}/{file['name']}_{file['version']}',\n",
    "\t\t\t\tf'{dataset_id}/{item_id}'\n",
    "\t\t\t)\n",
    "\t\t\tminio_client.fput_object(\n",
    "\t\t\t\tnew_bucket,\n",
    "\t\t\t\tf'{dataset_id}/{item_id}',\n",
    "\t\t\t\tf'{dataset_id}/{item_id}'\n",
    "\t\t\t)\n",
    "\t\t\tfiles_map.append((f'{dataset_id}/{file['name']}_{file['version']}', f'{dataset_id}/{item_id}'))\n",
    "\t\tif data:\n",
    "\t\t\tgdf = gpd.GeoDataFrame(data, geometry='geometry')\n",
    "\t\t\tcatalog_name = f'catalog.v{version[\"version_id\"]}.parquet'\n",
    "\t\t\tgdf.to_parquet(catalog_name)\n",
    "\t\t\t# copy parquet to bucket\n",
    "\t\t\tminio_client.fput_object(\n",
    "\t\t\t\tnew_bucket,\n",
    "\t\t\t\tf'{dataset_id}/{catalog_name}',\n",
    "\t\t\t\tcatalog_name\n",
    "\t\t\t)\n",
    "\tbreak\n",
    "\t\n",
    "_df = pd.DataFrame(files_map, columns=['old_path', 'new_path'])\n",
    "# _df.to_csv('files_map.csv', index=False)"
   ]
  },
  {
   "cell_type": "code",
   "execution_count": 146,
   "metadata": {},
   "outputs": [],
   "source": [
    "_df = pd.read_csv('files_map.csv')\n",
    "# _df\n"
   ]
  },
  {
   "cell_type": "code",
   "execution_count": 141,
   "metadata": {},
   "outputs": [],
   "source": [
    "# data = gpd.read_parquet('catalog.v3.parquet')\n",
    "\n",
    "# data"
   ]
  },
  {
   "cell_type": "code",
   "execution_count": 147,
   "metadata": {},
   "outputs": [],
   "source": [
    "# files = minio_client.list_objects(new_bucket)\n",
    "# for file in files:\n",
    "# \tprint(file.object_name)"
   ]
  },
  {
   "cell_type": "code",
   "execution_count": 8,
   "metadata": {},
   "outputs": [
    {
     "name": "stdout",
     "output_type": "stream",
     "text": [
      "65f407248e68180349152973/\n",
      "65f407248e68180349152973/catalog.v1.parquet\n",
      "65f407248e68180349152973/catalog.v2.parquet\n",
      "65f407248e68180349152973/model.onnx\n",
      "65f407248e68180349152973/unet-resnet50.onnx\n"
     ]
    }
   ],
   "source": [
    "# get all files in bucket/id\n",
    "\n",
    "files = minio_client.list_objects(new_bucket, '65f407248e68180349152973', recursive=True)\n",
    "for file in files:\n",
    "\tprint(file.object_name)\n"
   ]
  },
  {
   "cell_type": "code",
   "execution_count": null,
   "metadata": {},
   "outputs": [],
   "source": []
  }
 ],
 "metadata": {
  "kernelspec": {
   "display_name": ".venv",
   "language": "python",
   "name": "python3"
  },
  "language_info": {
   "codemirror_mode": {
    "name": "ipython",
    "version": 3
   },
   "file_extension": ".py",
   "mimetype": "text/x-python",
   "name": "python",
   "nbconvert_exporter": "python",
   "pygments_lexer": "ipython3",
   "version": "3.12.9"
  }
 },
 "nbformat": 4,
 "nbformat_minor": 2
}
