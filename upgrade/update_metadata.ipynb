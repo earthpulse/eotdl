{
 "cells": [
  {
   "cell_type": "code",
   "execution_count": 1,
   "metadata": {},
   "outputs": [
    {
     "data": {
      "text/plain": [
       "True"
      ]
     },
     "execution_count": 1,
     "metadata": {},
     "output_type": "execute_result"
    }
   ],
   "source": [
    "from dotenv import load_dotenv\n",
    "import os\n",
    "import geopandas as gpd\n",
    "\n",
    "load_dotenv()"
   ]
  },
  {
   "cell_type": "code",
   "execution_count": 2,
   "metadata": {},
   "outputs": [],
   "source": [
    "from minio import Minio\n",
    "\n",
    "minio_client = Minio(\n",
    "\tendpoint=os.getenv('S3_ENDPOINT'),\n",
    "\taccess_key=os.getenv('ACCESS_KEY_ID'),\n",
    "\tsecret_key=os.getenv('SECRET_ACCESS_KEY'),\n",
    "\tsecure=True,\n",
    ")"
   ]
  },
  {
   "cell_type": "code",
   "execution_count": 34,
   "metadata": {},
   "outputs": [
    {
     "data": {
      "text/html": [
       "<div>\n",
       "<style scoped>\n",
       "    .dataframe tbody tr th:only-of-type {\n",
       "        vertical-align: middle;\n",
       "    }\n",
       "\n",
       "    .dataframe tbody tr th {\n",
       "        vertical-align: top;\n",
       "    }\n",
       "\n",
       "    .dataframe thead th {\n",
       "        text-align: right;\n",
       "    }\n",
       "</style>\n",
       "<table border=\"1\" class=\"dataframe\">\n",
       "  <thead>\n",
       "    <tr style=\"text-align: right;\">\n",
       "      <th></th>\n",
       "      <th>type</th>\n",
       "      <th>stac_version</th>\n",
       "      <th>stac_extensions</th>\n",
       "      <th>datetime</th>\n",
       "      <th>id</th>\n",
       "      <th>bbox</th>\n",
       "      <th>geometry</th>\n",
       "      <th>assets</th>\n",
       "      <th>links</th>\n",
       "      <th>repository</th>\n",
       "    </tr>\n",
       "  </thead>\n",
       "  <tbody>\n",
       "    <tr>\n",
       "      <th>0</th>\n",
       "      <td>Feature</td>\n",
       "      <td>1.0.0</td>\n",
       "      <td>[]</td>\n",
       "      <td>2025-05-22 15:55:09.854311</td>\n",
       "      <td>README.md</td>\n",
       "      <td>{'xmax': 0.0, 'xmin': 0.0, 'ymax': 0.0, 'ymin'...</td>\n",
       "      <td>POLYGON EMPTY</td>\n",
       "      <td>{'asset': {'checksum': 'd8623c18250c2458769849...</td>\n",
       "      <td>[]</td>\n",
       "      <td>eotdl</td>\n",
       "    </tr>\n",
       "    <tr>\n",
       "      <th>1</th>\n",
       "      <td>Feature</td>\n",
       "      <td>1.0.0</td>\n",
       "      <td>[]</td>\n",
       "      <td>2025-05-22 15:55:09.854900</td>\n",
       "      <td>eurocrops-all.pmtiles</td>\n",
       "      <td>{'xmax': 0.0, 'xmin': 0.0, 'ymax': 0.0, 'ymin'...</td>\n",
       "      <td>POLYGON EMPTY</td>\n",
       "      <td>{'asset': {'checksum': '4d8d2b4b3c9783a16794fa...</td>\n",
       "      <td>[]</td>\n",
       "      <td>eotdl</td>\n",
       "    </tr>\n",
       "    <tr>\n",
       "      <th>2</th>\n",
       "      <td>Feature</td>\n",
       "      <td>1.0.0</td>\n",
       "      <td>[]</td>\n",
       "      <td>2025-05-22 15:55:12.118027</td>\n",
       "      <td>eurocrops-harmonized-only.fgb</td>\n",
       "      <td>{'xmax': 0.0, 'xmin': 0.0, 'ymax': 0.0, 'ymin'...</td>\n",
       "      <td>POLYGON EMPTY</td>\n",
       "      <td>{'asset': {'checksum': 'ec25c7095771deb1ac0422...</td>\n",
       "      <td>[]</td>\n",
       "      <td>eotdl</td>\n",
       "    </tr>\n",
       "    <tr>\n",
       "      <th>3</th>\n",
       "      <td>Feature</td>\n",
       "      <td>1.0.0</td>\n",
       "      <td>[]</td>\n",
       "      <td>2025-05-22 15:55:26.061822</td>\n",
       "      <td>eurocrops-full.duckdb</td>\n",
       "      <td>{'xmax': 0.0, 'xmin': 0.0, 'ymax': 0.0, 'ymin'...</td>\n",
       "      <td>POLYGON EMPTY</td>\n",
       "      <td>{'asset': {'checksum': '5bb84068d5c0f3c3090af6...</td>\n",
       "      <td>[]</td>\n",
       "      <td>eotdl</td>\n",
       "    </tr>\n",
       "    <tr>\n",
       "      <th>4</th>\n",
       "      <td>Feature</td>\n",
       "      <td>1.0.0</td>\n",
       "      <td>[]</td>\n",
       "      <td>2025-05-22 15:55:38.991824</td>\n",
       "      <td>eurocrops-harmonized-only.parquet</td>\n",
       "      <td>{'xmax': 0.0, 'xmin': 0.0, 'ymax': 0.0, 'ymin'...</td>\n",
       "      <td>POLYGON EMPTY</td>\n",
       "      <td>{'asset': {'checksum': 'b796162c39391107f3bea7...</td>\n",
       "      <td>[]</td>\n",
       "      <td>eotdl</td>\n",
       "    </tr>\n",
       "    <tr>\n",
       "      <th>...</th>\n",
       "      <td>...</td>\n",
       "      <td>...</td>\n",
       "      <td>...</td>\n",
       "      <td>...</td>\n",
       "      <td>...</td>\n",
       "      <td>...</td>\n",
       "      <td>...</td>\n",
       "      <td>...</td>\n",
       "      <td>...</td>\n",
       "      <td>...</td>\n",
       "    </tr>\n",
       "    <tr>\n",
       "      <th>64</th>\n",
       "      <td>Feature</td>\n",
       "      <td>1.0.0</td>\n",
       "      <td>[]</td>\n",
       "      <td>2025-05-22 15:56:37.613855</td>\n",
       "      <td>geoparquet-projected/NL_2020_EC21.parquet</td>\n",
       "      <td>{'xmax': 0.0, 'xmin': 0.0, 'ymax': 0.0, 'ymin'...</td>\n",
       "      <td>POLYGON EMPTY</td>\n",
       "      <td>{'asset': {'checksum': '6a05449d02530b5c93d57f...</td>\n",
       "      <td>[]</td>\n",
       "      <td>eotdl</td>\n",
       "    </tr>\n",
       "    <tr>\n",
       "      <th>65</th>\n",
       "      <td>Feature</td>\n",
       "      <td>1.0.0</td>\n",
       "      <td>[]</td>\n",
       "      <td>2025-05-22 15:56:37.797182</td>\n",
       "      <td>geoparquet-projected/AT_2021_EC21.parquet</td>\n",
       "      <td>{'xmax': 0.0, 'xmin': 0.0, 'ymax': 0.0, 'ymin'...</td>\n",
       "      <td>POLYGON EMPTY</td>\n",
       "      <td>{'asset': {'checksum': 'cbc9a284e224db073d62a9...</td>\n",
       "      <td>[]</td>\n",
       "      <td>eotdl</td>\n",
       "    </tr>\n",
       "    <tr>\n",
       "      <th>66</th>\n",
       "      <td>Feature</td>\n",
       "      <td>1.0.0</td>\n",
       "      <td>[]</td>\n",
       "      <td>2025-05-22 15:56:39.387310</td>\n",
       "      <td>geoparquet-projected/SK_2021_EC21.parquet</td>\n",
       "      <td>{'xmax': 0.0, 'xmin': 0.0, 'ymax': 0.0, 'ymin'...</td>\n",
       "      <td>POLYGON EMPTY</td>\n",
       "      <td>{'asset': {'checksum': '72b7f7495d1213a86b427d...</td>\n",
       "      <td>[]</td>\n",
       "      <td>eotdl</td>\n",
       "    </tr>\n",
       "    <tr>\n",
       "      <th>67</th>\n",
       "      <td>Feature</td>\n",
       "      <td>1.0.0</td>\n",
       "      <td>[]</td>\n",
       "      <td>2025-05-22 15:56:39.493207</td>\n",
       "      <td>geoparquet-projected/LT_2021_EC.parquet</td>\n",
       "      <td>{'xmax': 0.0, 'xmin': 0.0, 'ymax': 0.0, 'ymin'...</td>\n",
       "      <td>POLYGON EMPTY</td>\n",
       "      <td>{'asset': {'checksum': '41440405bc0d0c55d33479...</td>\n",
       "      <td>[]</td>\n",
       "      <td>eotdl</td>\n",
       "    </tr>\n",
       "    <tr>\n",
       "      <th>68</th>\n",
       "      <td>Feature</td>\n",
       "      <td>1.0.0</td>\n",
       "      <td>[]</td>\n",
       "      <td>2025-05-22 15:56:39.761660</td>\n",
       "      <td>geoparquet-projected/LV_2021_EC21.parquet</td>\n",
       "      <td>{'xmax': 0.0, 'xmin': 0.0, 'ymax': 0.0, 'ymin'...</td>\n",
       "      <td>POLYGON EMPTY</td>\n",
       "      <td>{'asset': {'checksum': 'ec757e3fd6c84acc9c5349...</td>\n",
       "      <td>[]</td>\n",
       "      <td>eotdl</td>\n",
       "    </tr>\n",
       "  </tbody>\n",
       "</table>\n",
       "<p>69 rows × 10 columns</p>\n",
       "</div>"
      ],
      "text/plain": [
       "       type stac_version stac_extensions                   datetime  \\\n",
       "0   Feature        1.0.0              [] 2025-05-22 15:55:09.854311   \n",
       "1   Feature        1.0.0              [] 2025-05-22 15:55:09.854900   \n",
       "2   Feature        1.0.0              [] 2025-05-22 15:55:12.118027   \n",
       "3   Feature        1.0.0              [] 2025-05-22 15:55:26.061822   \n",
       "4   Feature        1.0.0              [] 2025-05-22 15:55:38.991824   \n",
       "..      ...          ...             ...                        ...   \n",
       "64  Feature        1.0.0              [] 2025-05-22 15:56:37.613855   \n",
       "65  Feature        1.0.0              [] 2025-05-22 15:56:37.797182   \n",
       "66  Feature        1.0.0              [] 2025-05-22 15:56:39.387310   \n",
       "67  Feature        1.0.0              [] 2025-05-22 15:56:39.493207   \n",
       "68  Feature        1.0.0              [] 2025-05-22 15:56:39.761660   \n",
       "\n",
       "                                           id  \\\n",
       "0                                   README.md   \n",
       "1                       eurocrops-all.pmtiles   \n",
       "2               eurocrops-harmonized-only.fgb   \n",
       "3                       eurocrops-full.duckdb   \n",
       "4           eurocrops-harmonized-only.parquet   \n",
       "..                                        ...   \n",
       "64  geoparquet-projected/NL_2020_EC21.parquet   \n",
       "65  geoparquet-projected/AT_2021_EC21.parquet   \n",
       "66  geoparquet-projected/SK_2021_EC21.parquet   \n",
       "67    geoparquet-projected/LT_2021_EC.parquet   \n",
       "68  geoparquet-projected/LV_2021_EC21.parquet   \n",
       "\n",
       "                                                 bbox       geometry  \\\n",
       "0   {'xmax': 0.0, 'xmin': 0.0, 'ymax': 0.0, 'ymin'...  POLYGON EMPTY   \n",
       "1   {'xmax': 0.0, 'xmin': 0.0, 'ymax': 0.0, 'ymin'...  POLYGON EMPTY   \n",
       "2   {'xmax': 0.0, 'xmin': 0.0, 'ymax': 0.0, 'ymin'...  POLYGON EMPTY   \n",
       "3   {'xmax': 0.0, 'xmin': 0.0, 'ymax': 0.0, 'ymin'...  POLYGON EMPTY   \n",
       "4   {'xmax': 0.0, 'xmin': 0.0, 'ymax': 0.0, 'ymin'...  POLYGON EMPTY   \n",
       "..                                                ...            ...   \n",
       "64  {'xmax': 0.0, 'xmin': 0.0, 'ymax': 0.0, 'ymin'...  POLYGON EMPTY   \n",
       "65  {'xmax': 0.0, 'xmin': 0.0, 'ymax': 0.0, 'ymin'...  POLYGON EMPTY   \n",
       "66  {'xmax': 0.0, 'xmin': 0.0, 'ymax': 0.0, 'ymin'...  POLYGON EMPTY   \n",
       "67  {'xmax': 0.0, 'xmin': 0.0, 'ymax': 0.0, 'ymin'...  POLYGON EMPTY   \n",
       "68  {'xmax': 0.0, 'xmin': 0.0, 'ymax': 0.0, 'ymin'...  POLYGON EMPTY   \n",
       "\n",
       "                                               assets links repository  \n",
       "0   {'asset': {'checksum': 'd8623c18250c2458769849...    []      eotdl  \n",
       "1   {'asset': {'checksum': '4d8d2b4b3c9783a16794fa...    []      eotdl  \n",
       "2   {'asset': {'checksum': 'ec25c7095771deb1ac0422...    []      eotdl  \n",
       "3   {'asset': {'checksum': '5bb84068d5c0f3c3090af6...    []      eotdl  \n",
       "4   {'asset': {'checksum': 'b796162c39391107f3bea7...    []      eotdl  \n",
       "..                                                ...   ...        ...  \n",
       "64  {'asset': {'checksum': '6a05449d02530b5c93d57f...    []      eotdl  \n",
       "65  {'asset': {'checksum': 'cbc9a284e224db073d62a9...    []      eotdl  \n",
       "66  {'asset': {'checksum': '72b7f7495d1213a86b427d...    []      eotdl  \n",
       "67  {'asset': {'checksum': '41440405bc0d0c55d33479...    []      eotdl  \n",
       "68  {'asset': {'checksum': 'ec757e3fd6c84acc9c5349...    []      eotdl  \n",
       "\n",
       "[69 rows x 10 columns]"
      ]
     },
     "execution_count": 34,
     "metadata": {},
     "output_type": "execute_result"
    }
   ],
   "source": [
    "import geopandas as gpd\n",
    "\n",
    "minio_client.fget_object(os.environ['BUCKET'], f'682f2d186a29eac175867330/catalog.v1.parquet', 'kk/catalog.parquet')\n",
    "\n",
    "# gdf = gpd.read_parquet('/fastdata/kk/dataset/catalog.v1.parquet')\n",
    "gdf = gpd.read_parquet('kk/catalog.parquet')\n",
    "\n",
    "gdf"
   ]
  },
  {
   "cell_type": "code",
   "execution_count": 36,
   "metadata": {},
   "outputs": [
    {
     "name": "stdout",
     "output_type": "stream",
     "text": [
      "https://api.eotdl.com/datasets/682f2d186a29eac175867330/stage/README.md\n",
      "https://api.eotdl.com/datasets/682f2d186a29eac175867330/stage/eurocrops-all.pmtiles\n",
      "https://api.eotdl.com/datasets/682f2d186a29eac175867330/stage/eurocrops-harmonized-only.fgb\n",
      "https://api.eotdl.com/datasets/682f2d186a29eac175867330/stage/eurocrops-full.duckdb\n",
      "https://api.eotdl.com/datasets/682f2d186a29eac175867330/stage/eurocrops-harmonized-only.parquet\n",
      "https://api.eotdl.com/datasets/682f2d186a29eac175867330/stage/unprojected/geoparquet/SI_2021_EC21.parquet\n",
      "https://api.eotdl.com/datasets/682f2d186a29eac175867330/stage/unprojected/geoparquet/HR_2020_EC21.parquet\n",
      "https://api.eotdl.com/datasets/682f2d186a29eac175867330/stage/unprojected/geoparquet/DE_NRW_2021_EC21.parquet\n",
      "https://api.eotdl.com/datasets/682f2d186a29eac175867330/stage/unprojected/geoparquet/SE_2021_EC21.parquet\n",
      "https://api.eotdl.com/datasets/682f2d186a29eac175867330/stage/unprojected/geoparquet/EE_2021_EC21.parquet\n",
      "https://api.eotdl.com/datasets/682f2d186a29eac175867330/stage/unprojected/geoparquet/RO_ny_EC21.parquet\n",
      "https://api.eotdl.com/datasets/682f2d186a29eac175867330/stage/unprojected/geoparquet/BE_VLG_2021_EC21.parquet\n",
      "https://api.eotdl.com/datasets/682f2d186a29eac175867330/stage/unprojected/geoparquet/ES_NA_2020_EC21.parquet\n",
      "https://api.eotdl.com/datasets/682f2d186a29eac175867330/stage/unprojected/geoparquet/DE_LS_2021_EC21.parquet\n",
      "https://api.eotdl.com/datasets/682f2d186a29eac175867330/stage/unprojected/geoparquet/DK_2019_EC21.parquet\n",
      "https://api.eotdl.com/datasets/682f2d186a29eac175867330/stage/unprojected/geoparquet/FR_2018_EC21.parquet\n",
      "https://api.eotdl.com/datasets/682f2d186a29eac175867330/stage/unprojected/geoparquet/NL_2020_EC21.parquet\n",
      "https://api.eotdl.com/datasets/682f2d186a29eac175867330/stage/unprojected/geoparquet/AT_2021_EC21.parquet\n",
      "https://api.eotdl.com/datasets/682f2d186a29eac175867330/stage/unprojected/geoparquet/SK_2021_EC21.parquet\n",
      "https://api.eotdl.com/datasets/682f2d186a29eac175867330/stage/unprojected/geoparquet/LT_2021_EC.parquet\n",
      "https://api.eotdl.com/datasets/682f2d186a29eac175867330/stage/unprojected/geoparquet/LV_2021_EC21.parquet\n",
      "https://api.eotdl.com/datasets/682f2d186a29eac175867330/stage/unprojected/shapefiles/EE_2021.zip\n",
      "https://api.eotdl.com/datasets/682f2d186a29eac175867330/stage/unprojected/shapefiles/SI_2021.zip\n",
      "https://api.eotdl.com/datasets/682f2d186a29eac175867330/stage/unprojected/shapefiles/SK_2021.zip\n",
      "https://api.eotdl.com/datasets/682f2d186a29eac175867330/stage/unprojected/shapefiles/DE_NRW_2021.zip\n",
      "https://api.eotdl.com/datasets/682f2d186a29eac175867330/stage/unprojected/shapefiles/AT_2021.zip\n",
      "https://api.eotdl.com/datasets/682f2d186a29eac175867330/stage/unprojected/shapefiles/NL_2020.zip\n",
      "https://api.eotdl.com/datasets/682f2d186a29eac175867330/stage/unprojected/shapefiles/FR_2018.zip\n",
      "https://api.eotdl.com/datasets/682f2d186a29eac175867330/stage/unprojected/shapefiles/LV_2021.zip\n",
      "https://api.eotdl.com/datasets/682f2d186a29eac175867330/stage/unprojected/shapefiles/RO_ny.zip\n",
      "https://api.eotdl.com/datasets/682f2d186a29eac175867330/stage/unprojected/shapefiles/DE_LS_2021.zip\n",
      "https://api.eotdl.com/datasets/682f2d186a29eac175867330/stage/unprojected/shapefiles/ES_NA_2020.zip\n",
      "https://api.eotdl.com/datasets/682f2d186a29eac175867330/stage/unprojected/shapefiles/BE_VLG_2021.zip\n",
      "https://api.eotdl.com/datasets/682f2d186a29eac175867330/stage/unprojected/shapefiles/DK_2019.zip\n",
      "https://api.eotdl.com/datasets/682f2d186a29eac175867330/stage/unprojected/shapefiles/LT_2021.zip\n",
      "https://api.eotdl.com/datasets/682f2d186a29eac175867330/stage/unprojected/shapefiles/SE_2021.zip\n",
      "https://api.eotdl.com/datasets/682f2d186a29eac175867330/stage/unprojected/shapefiles/HR_2020.zip\n",
      "https://api.eotdl.com/datasets/682f2d186a29eac175867330/stage/unprojected/flatgeobuf/BE_VLG_2021_EC21.fgb\n",
      "https://api.eotdl.com/datasets/682f2d186a29eac175867330/stage/unprojected/flatgeobuf/FR_2018_EC21.fgb\n",
      "https://api.eotdl.com/datasets/682f2d186a29eac175867330/stage/unprojected/flatgeobuf/SK_2021_EC21.fgb\n",
      "https://api.eotdl.com/datasets/682f2d186a29eac175867330/stage/unprojected/flatgeobuf/HR_2020_EC21.fgb\n",
      "https://api.eotdl.com/datasets/682f2d186a29eac175867330/stage/unprojected/flatgeobuf/EE_2021_EC21.fgb\n",
      "https://api.eotdl.com/datasets/682f2d186a29eac175867330/stage/unprojected/flatgeobuf/AT_2021_EC21.fgb\n",
      "https://api.eotdl.com/datasets/682f2d186a29eac175867330/stage/unprojected/flatgeobuf/LV_2021_EC21.fgb\n",
      "https://api.eotdl.com/datasets/682f2d186a29eac175867330/stage/unprojected/flatgeobuf/SE_2021_EC21.fgb\n",
      "https://api.eotdl.com/datasets/682f2d186a29eac175867330/stage/unprojected/flatgeobuf/SI_2021_EC21.fgb\n",
      "https://api.eotdl.com/datasets/682f2d186a29eac175867330/stage/unprojected/flatgeobuf/ES_NA_2020_EC21.fgb\n",
      "https://api.eotdl.com/datasets/682f2d186a29eac175867330/stage/unprojected/flatgeobuf/DE_NRW_2021_EC21.fgb\n",
      "https://api.eotdl.com/datasets/682f2d186a29eac175867330/stage/unprojected/flatgeobuf/RO_ny_EC21.fgb\n",
      "https://api.eotdl.com/datasets/682f2d186a29eac175867330/stage/unprojected/flatgeobuf/NL_2020_EC21.fgb\n",
      "https://api.eotdl.com/datasets/682f2d186a29eac175867330/stage/unprojected/flatgeobuf/DK_2019_EC21.fgb\n",
      "https://api.eotdl.com/datasets/682f2d186a29eac175867330/stage/unprojected/flatgeobuf/LT_2021_EC.fgb\n",
      "https://api.eotdl.com/datasets/682f2d186a29eac175867330/stage/unprojected/flatgeobuf/DE_LS_2021_EC21.fgb\n",
      "https://api.eotdl.com/datasets/682f2d186a29eac175867330/stage/geoparquet-projected/SI_2021_EC21.parquet\n",
      "https://api.eotdl.com/datasets/682f2d186a29eac175867330/stage/geoparquet-projected/HR_2020_EC21.parquet\n",
      "https://api.eotdl.com/datasets/682f2d186a29eac175867330/stage/geoparquet-projected/DE_NRW_2021_EC21.parquet\n",
      "https://api.eotdl.com/datasets/682f2d186a29eac175867330/stage/geoparquet-projected/SE_2021_EC21.parquet\n",
      "https://api.eotdl.com/datasets/682f2d186a29eac175867330/stage/geoparquet-projected/EE_2021_EC21.parquet\n",
      "https://api.eotdl.com/datasets/682f2d186a29eac175867330/stage/geoparquet-projected/RO_ny_EC21.parquet\n",
      "https://api.eotdl.com/datasets/682f2d186a29eac175867330/stage/geoparquet-projected/BE_VLG_2021_EC21.parquet\n",
      "https://api.eotdl.com/datasets/682f2d186a29eac175867330/stage/geoparquet-projected/ES_NA_2020_EC21.parquet\n",
      "https://api.eotdl.com/datasets/682f2d186a29eac175867330/stage/geoparquet-projected/DE_LS_2021_EC21.parquet\n",
      "https://api.eotdl.com/datasets/682f2d186a29eac175867330/stage/geoparquet-projected/DK_2019_EC21.parquet\n",
      "https://api.eotdl.com/datasets/682f2d186a29eac175867330/stage/geoparquet-projected/FR_2018_EC21.parquet\n",
      "https://api.eotdl.com/datasets/682f2d186a29eac175867330/stage/geoparquet-projected/NL_2020_EC21.parquet\n",
      "https://api.eotdl.com/datasets/682f2d186a29eac175867330/stage/geoparquet-projected/AT_2021_EC21.parquet\n",
      "https://api.eotdl.com/datasets/682f2d186a29eac175867330/stage/geoparquet-projected/SK_2021_EC21.parquet\n",
      "https://api.eotdl.com/datasets/682f2d186a29eac175867330/stage/geoparquet-projected/LT_2021_EC.parquet\n",
      "https://api.eotdl.com/datasets/682f2d186a29eac175867330/stage/geoparquet-projected/LV_2021_EC21.parquet\n"
     ]
    },
    {
     "data": {
      "text/plain": [
       "0"
      ]
     },
     "execution_count": 36,
     "metadata": {},
     "output_type": "execute_result"
    }
   ],
   "source": [
    "size = 0\n",
    "for index, row in gdf.iterrows():\n",
    "\tfor k, v in row.assets.items():\n",
    "\t\t# if not v['href'].startswith('https://'):\n",
    "\t\t# \tv['href'] = 'https://api.eotdl.com/datasets/682f2d186a29eac175867330/stage/' + v['href']\n",
    "\t\t# v['href'] = v['href'].replace('/fastdata/kk/dataset/', '')\n",
    "\t\tprint(v['href'])\n",
    "\t\t# size += v['size']\n",
    "\n",
    "size"
   ]
  },
  {
   "cell_type": "code",
   "execution_count": 32,
   "metadata": {},
   "outputs": [],
   "source": [
    "gdf.to_parquet(f\"/fastdata/kk/dataset/catalog.v1.parquet\")"
   ]
  },
  {
   "cell_type": "code",
   "execution_count": 33,
   "metadata": {},
   "outputs": [
    {
     "data": {
      "text/plain": [
       "<minio.helpers.ObjectWriteResult at 0x70d5e04469f0>"
      ]
     },
     "execution_count": 33,
     "metadata": {},
     "output_type": "execute_result"
    }
   ],
   "source": [
    "minio_client.fput_object(os.environ['BUCKET'], f'682f2d186a29eac175867330/catalog.v1.parquet', f\"/fastdata/kk/dataset/catalog.v1.parquet\")"
   ]
  },
  {
   "cell_type": "code",
   "execution_count": 10,
   "metadata": {},
   "outputs": [
    {
     "name": "stderr",
     "output_type": "stream",
     "text": [
      "Uploading files:   0%|          | 0/69 [00:00<?, ?it/s]"
     ]
    },
    {
     "name": "stdout",
     "output_type": "stream",
     "text": [
      "README.md\n",
      "eurocrops-all.pmtiles\n"
     ]
    },
    {
     "name": "stderr",
     "output_type": "stream",
     "text": [
      "Uploading files:   3%|▎         | 2/69 [00:37<20:57, 18.77s/it]"
     ]
    },
    {
     "name": "stdout",
     "output_type": "stream",
     "text": [
      "eurocrops-harmonized-only.fgb\n"
     ]
    },
    {
     "name": "stderr",
     "output_type": "stream",
     "text": [
      "Uploading files:   4%|▍         | 3/69 [04:31<1:59:04, 108.26s/it]"
     ]
    },
    {
     "name": "stdout",
     "output_type": "stream",
     "text": [
      "eurocrops-full.duckdb\n"
     ]
    },
    {
     "name": "stderr",
     "output_type": "stream",
     "text": [
      "Uploading files:   6%|▌         | 4/69 [07:36<2:28:25, 137.00s/it]"
     ]
    },
    {
     "name": "stdout",
     "output_type": "stream",
     "text": [
      "eurocrops-harmonized-only.parquet\n"
     ]
    },
    {
     "name": "stderr",
     "output_type": "stream",
     "text": [
      "Uploading files:   7%|▋         | 5/69 [09:41<2:21:33, 132.71s/it]"
     ]
    },
    {
     "name": "stdout",
     "output_type": "stream",
     "text": [
      "unprojected/geoparquet/SI_2021_EC21.parquet\n"
     ]
    },
    {
     "name": "stderr",
     "output_type": "stream",
     "text": [
      "Uploading files:   9%|▊         | 6/69 [09:43<1:33:52, 89.40s/it] "
     ]
    },
    {
     "name": "stdout",
     "output_type": "stream",
     "text": [
      "unprojected/geoparquet/HR_2020_EC21.parquet\n"
     ]
    },
    {
     "name": "stderr",
     "output_type": "stream",
     "text": [
      "Uploading files:  10%|█         | 7/69 [09:47<1:04:00, 61.94s/it]"
     ]
    },
    {
     "name": "stdout",
     "output_type": "stream",
     "text": [
      "unprojected/geoparquet/DE_NRW_2021_EC21.parquet\n"
     ]
    },
    {
     "name": "stderr",
     "output_type": "stream",
     "text": [
      "Uploading files:  12%|█▏        | 8/69 [09:50<44:02, 43.31s/it]  "
     ]
    },
    {
     "name": "stdout",
     "output_type": "stream",
     "text": [
      "unprojected/geoparquet/SE_2021_EC21.parquet\n"
     ]
    },
    {
     "name": "stderr",
     "output_type": "stream",
     "text": [
      "Uploading files:  13%|█▎        | 9/69 [09:55<31:29, 31.49s/it]"
     ]
    },
    {
     "name": "stdout",
     "output_type": "stream",
     "text": [
      "unprojected/geoparquet/EE_2021_EC21.parquet\n"
     ]
    },
    {
     "name": "stderr",
     "output_type": "stream",
     "text": [
      "Uploading files:  14%|█▍        | 10/69 [09:56<21:56, 22.31s/it]"
     ]
    },
    {
     "name": "stdout",
     "output_type": "stream",
     "text": [
      "unprojected/geoparquet/RO_ny_EC21.parquet\n"
     ]
    },
    {
     "name": "stderr",
     "output_type": "stream",
     "text": [
      "Uploading files:  16%|█▌        | 11/69 [09:58<15:30, 16.04s/it]"
     ]
    },
    {
     "name": "stdout",
     "output_type": "stream",
     "text": [
      "unprojected/geoparquet/BE_VLG_2021_EC21.parquet\n"
     ]
    },
    {
     "name": "stderr",
     "output_type": "stream",
     "text": [
      "Uploading files:  17%|█▋        | 12/69 [10:00<11:08, 11.72s/it]"
     ]
    },
    {
     "name": "stdout",
     "output_type": "stream",
     "text": [
      "unprojected/geoparquet/ES_NA_2020_EC21.parquet\n"
     ]
    },
    {
     "name": "stderr",
     "output_type": "stream",
     "text": [
      "Uploading files:  19%|█▉        | 13/69 [10:05<08:58,  9.61s/it]"
     ]
    },
    {
     "name": "stdout",
     "output_type": "stream",
     "text": [
      "unprojected/geoparquet/DE_LS_2021_EC21.parquet\n"
     ]
    },
    {
     "name": "stderr",
     "output_type": "stream",
     "text": [
      "Uploading files:  20%|██        | 14/69 [10:09<07:14,  7.90s/it]"
     ]
    },
    {
     "name": "stdout",
     "output_type": "stream",
     "text": [
      "unprojected/geoparquet/DK_2019_EC21.parquet\n"
     ]
    },
    {
     "name": "stderr",
     "output_type": "stream",
     "text": [
      "Uploading files:  22%|██▏       | 15/69 [10:12<05:53,  6.55s/it]"
     ]
    },
    {
     "name": "stdout",
     "output_type": "stream",
     "text": [
      "unprojected/geoparquet/FR_2018_EC21.parquet\n"
     ]
    },
    {
     "name": "stderr",
     "output_type": "stream",
     "text": [
      "Uploading files:  23%|██▎       | 16/69 [11:27<23:58, 27.15s/it]"
     ]
    },
    {
     "name": "stdout",
     "output_type": "stream",
     "text": [
      "unprojected/geoparquet/NL_2020_EC21.parquet\n"
     ]
    },
    {
     "name": "stderr",
     "output_type": "stream",
     "text": [
      "Uploading files:  25%|██▍       | 17/69 [11:31<17:22, 20.05s/it]"
     ]
    },
    {
     "name": "stdout",
     "output_type": "stream",
     "text": [
      "unprojected/geoparquet/AT_2021_EC21.parquet\n"
     ]
    },
    {
     "name": "stderr",
     "output_type": "stream",
     "text": [
      "Uploading files:  26%|██▌       | 18/69 [11:55<18:06, 21.30s/it]"
     ]
    },
    {
     "name": "stdout",
     "output_type": "stream",
     "text": [
      "unprojected/geoparquet/SK_2021_EC21.parquet\n"
     ]
    },
    {
     "name": "stderr",
     "output_type": "stream",
     "text": [
      "Uploading files:  28%|██▊       | 19/69 [11:57<12:53, 15.47s/it]"
     ]
    },
    {
     "name": "stdout",
     "output_type": "stream",
     "text": [
      "unprojected/geoparquet/LT_2021_EC.parquet\n"
     ]
    },
    {
     "name": "stderr",
     "output_type": "stream",
     "text": [
      "Uploading files:  29%|██▉       | 20/69 [12:01<09:57, 12.20s/it]"
     ]
    },
    {
     "name": "stdout",
     "output_type": "stream",
     "text": [
      "unprojected/geoparquet/LV_2021_EC21.parquet\n"
     ]
    },
    {
     "name": "stderr",
     "output_type": "stream",
     "text": [
      "Uploading files:  30%|███       | 21/69 [12:05<07:41,  9.62s/it]"
     ]
    },
    {
     "name": "stdout",
     "output_type": "stream",
     "text": [
      "unprojected/shapefiles/EE_2021.zip\n"
     ]
    },
    {
     "name": "stderr",
     "output_type": "stream",
     "text": [
      "Uploading files:  32%|███▏      | 22/69 [12:11<06:40,  8.53s/it]"
     ]
    },
    {
     "name": "stdout",
     "output_type": "stream",
     "text": [
      "unprojected/shapefiles/SI_2021.zip\n"
     ]
    },
    {
     "name": "stderr",
     "output_type": "stream",
     "text": [
      "Uploading files:  33%|███▎      | 23/69 [12:15<05:32,  7.24s/it]"
     ]
    },
    {
     "name": "stdout",
     "output_type": "stream",
     "text": [
      "unprojected/shapefiles/SK_2021.zip\n"
     ]
    },
    {
     "name": "stderr",
     "output_type": "stream",
     "text": [
      "Uploading files:  35%|███▍      | 24/69 [12:21<05:07,  6.84s/it]"
     ]
    },
    {
     "name": "stdout",
     "output_type": "stream",
     "text": [
      "unprojected/shapefiles/DE_NRW_2021.zip\n"
     ]
    },
    {
     "name": "stderr",
     "output_type": "stream",
     "text": [
      "Uploading files:  36%|███▌      | 25/69 [12:27<04:48,  6.55s/it]"
     ]
    },
    {
     "name": "stdout",
     "output_type": "stream",
     "text": [
      "unprojected/shapefiles/AT_2021.zip\n"
     ]
    },
    {
     "name": "stderr",
     "output_type": "stream",
     "text": [
      "Uploading files:  38%|███▊      | 26/69 [12:43<06:46,  9.46s/it]"
     ]
    },
    {
     "name": "stdout",
     "output_type": "stream",
     "text": [
      "unprojected/shapefiles/NL_2020.zip\n"
     ]
    },
    {
     "name": "stderr",
     "output_type": "stream",
     "text": [
      "Uploading files:  39%|███▉      | 27/69 [12:48<05:45,  8.22s/it]"
     ]
    },
    {
     "name": "stdout",
     "output_type": "stream",
     "text": [
      "unprojected/shapefiles/FR_2018.zip\n"
     ]
    },
    {
     "name": "stderr",
     "output_type": "stream",
     "text": [
      "Uploading files:  41%|████      | 28/69 [13:40<14:30, 21.24s/it]"
     ]
    },
    {
     "name": "stdout",
     "output_type": "stream",
     "text": [
      "unprojected/shapefiles/LV_2021.zip\n"
     ]
    },
    {
     "name": "stderr",
     "output_type": "stream",
     "text": [
      "Uploading files:  42%|████▏     | 29/69 [13:52<12:18, 18.45s/it]"
     ]
    },
    {
     "name": "stdout",
     "output_type": "stream",
     "text": [
      "unprojected/shapefiles/RO_ny.zip\n"
     ]
    },
    {
     "name": "stderr",
     "output_type": "stream",
     "text": [
      "Uploading files:  43%|████▎     | 30/69 [14:06<11:02, 16.99s/it]"
     ]
    },
    {
     "name": "stdout",
     "output_type": "stream",
     "text": [
      "unprojected/shapefiles/DE_LS_2021.zip\n"
     ]
    },
    {
     "name": "stderr",
     "output_type": "stream",
     "text": [
      "Uploading files:  45%|████▍     | 31/69 [14:10<08:22, 13.23s/it]"
     ]
    },
    {
     "name": "stdout",
     "output_type": "stream",
     "text": [
      "unprojected/shapefiles/ES_NA_2020.zip\n"
     ]
    },
    {
     "name": "stderr",
     "output_type": "stream",
     "text": [
      "Uploading files:  46%|████▋     | 32/69 [14:19<07:22, 11.95s/it]"
     ]
    },
    {
     "name": "stdout",
     "output_type": "stream",
     "text": [
      "unprojected/shapefiles/BE_VLG_2021.zip\n"
     ]
    },
    {
     "name": "stderr",
     "output_type": "stream",
     "text": [
      "Uploading files:  48%|████▊     | 33/69 [14:22<05:34,  9.29s/it]"
     ]
    },
    {
     "name": "stdout",
     "output_type": "stream",
     "text": [
      "unprojected/shapefiles/DK_2019.zip\n"
     ]
    },
    {
     "name": "stderr",
     "output_type": "stream",
     "text": [
      "Uploading files:  49%|████▉     | 34/69 [14:28<04:52,  8.37s/it]"
     ]
    },
    {
     "name": "stdout",
     "output_type": "stream",
     "text": [
      "unprojected/shapefiles/LT_2021.zip\n"
     ]
    },
    {
     "name": "stderr",
     "output_type": "stream",
     "text": [
      "Uploading files:  51%|█████     | 35/69 [14:39<05:07,  9.05s/it]"
     ]
    },
    {
     "name": "stdout",
     "output_type": "stream",
     "text": [
      "unprojected/shapefiles/SE_2021.zip\n"
     ]
    },
    {
     "name": "stderr",
     "output_type": "stream",
     "text": [
      "Uploading files:  52%|█████▏    | 36/69 [14:48<04:56,  9.00s/it]"
     ]
    },
    {
     "name": "stdout",
     "output_type": "stream",
     "text": [
      "unprojected/shapefiles/HR_2020.zip\n"
     ]
    },
    {
     "name": "stderr",
     "output_type": "stream",
     "text": [
      "Uploading files:  54%|█████▎    | 37/69 [14:55<04:32,  8.53s/it]"
     ]
    },
    {
     "name": "stdout",
     "output_type": "stream",
     "text": [
      "unprojected/flatgeobuf/BE_VLG_2021_EC21.fgb\n"
     ]
    },
    {
     "name": "stderr",
     "output_type": "stream",
     "text": [
      "Uploading files:  55%|█████▌    | 38/69 [15:03<04:13,  8.18s/it]"
     ]
    },
    {
     "name": "stdout",
     "output_type": "stream",
     "text": [
      "unprojected/flatgeobuf/FR_2018_EC21.fgb\n"
     ]
    },
    {
     "name": "stderr",
     "output_type": "stream",
     "text": [
      "Uploading files:  57%|█████▋    | 39/69 [17:27<24:28, 48.96s/it]"
     ]
    },
    {
     "name": "stdout",
     "output_type": "stream",
     "text": [
      "unprojected/flatgeobuf/SK_2021_EC21.fgb\n"
     ]
    },
    {
     "name": "stderr",
     "output_type": "stream",
     "text": [
      "Uploading files:  58%|█████▊    | 40/69 [17:30<17:05, 35.36s/it]"
     ]
    },
    {
     "name": "stdout",
     "output_type": "stream",
     "text": [
      "unprojected/flatgeobuf/HR_2020_EC21.fgb\n"
     ]
    },
    {
     "name": "stderr",
     "output_type": "stream",
     "text": [
      "Uploading files:  59%|█████▉    | 41/69 [17:46<13:41, 29.35s/it]"
     ]
    },
    {
     "name": "stdout",
     "output_type": "stream",
     "text": [
      "unprojected/flatgeobuf/EE_2021_EC21.fgb\n"
     ]
    },
    {
     "name": "stderr",
     "output_type": "stream",
     "text": [
      "Uploading files:  61%|██████    | 42/69 [17:49<09:41, 21.54s/it]"
     ]
    },
    {
     "name": "stdout",
     "output_type": "stream",
     "text": [
      "unprojected/flatgeobuf/AT_2021_EC21.fgb\n"
     ]
    },
    {
     "name": "stderr",
     "output_type": "stream",
     "text": [
      "Uploading files:  62%|██████▏   | 43/69 [18:48<14:15, 32.89s/it]"
     ]
    },
    {
     "name": "stdout",
     "output_type": "stream",
     "text": [
      "unprojected/flatgeobuf/LV_2021_EC21.fgb\n"
     ]
    },
    {
     "name": "stderr",
     "output_type": "stream",
     "text": [
      "Uploading files:  64%|██████▍   | 44/69 [18:57<10:44, 25.77s/it]"
     ]
    },
    {
     "name": "stdout",
     "output_type": "stream",
     "text": [
      "unprojected/flatgeobuf/SE_2021_EC21.fgb\n"
     ]
    },
    {
     "name": "stderr",
     "output_type": "stream",
     "text": [
      "Uploading files:  65%|██████▌   | 45/69 [19:17<09:36, 24.02s/it]"
     ]
    },
    {
     "name": "stdout",
     "output_type": "stream",
     "text": [
      "unprojected/flatgeobuf/SI_2021_EC21.fgb\n"
     ]
    },
    {
     "name": "stderr",
     "output_type": "stream",
     "text": [
      "Uploading files:  67%|██████▋   | 46/69 [19:27<07:32, 19.66s/it]"
     ]
    },
    {
     "name": "stdout",
     "output_type": "stream",
     "text": [
      "unprojected/flatgeobuf/ES_NA_2020_EC21.fgb\n"
     ]
    },
    {
     "name": "stderr",
     "output_type": "stream",
     "text": [
      "Uploading files:  68%|██████▊   | 47/69 [19:39<06:20, 17.32s/it]"
     ]
    },
    {
     "name": "stdout",
     "output_type": "stream",
     "text": [
      "unprojected/flatgeobuf/DE_NRW_2021_EC21.fgb\n"
     ]
    },
    {
     "name": "stderr",
     "output_type": "stream",
     "text": [
      "Uploading files:  70%|██████▉   | 48/69 [19:48<05:11, 14.84s/it]"
     ]
    },
    {
     "name": "stdout",
     "output_type": "stream",
     "text": [
      "unprojected/flatgeobuf/RO_ny_EC21.fgb\n"
     ]
    },
    {
     "name": "stderr",
     "output_type": "stream",
     "text": [
      "Uploading files:  71%|███████   | 49/69 [19:58<04:26, 13.30s/it]"
     ]
    },
    {
     "name": "stdout",
     "output_type": "stream",
     "text": [
      "unprojected/flatgeobuf/NL_2020_EC21.fgb\n"
     ]
    },
    {
     "name": "stderr",
     "output_type": "stream",
     "text": [
      "Uploading files:  72%|███████▏  | 50/69 [20:06<03:45, 11.89s/it]"
     ]
    },
    {
     "name": "stdout",
     "output_type": "stream",
     "text": [
      "unprojected/flatgeobuf/DK_2019_EC21.fgb\n"
     ]
    },
    {
     "name": "stderr",
     "output_type": "stream",
     "text": [
      "Uploading files:  74%|███████▍  | 51/69 [20:13<03:08, 10.45s/it]"
     ]
    },
    {
     "name": "stdout",
     "output_type": "stream",
     "text": [
      "unprojected/flatgeobuf/LT_2021_EC.fgb\n"
     ]
    },
    {
     "name": "stderr",
     "output_type": "stream",
     "text": [
      "Uploading files:  75%|███████▌  | 52/69 [20:24<02:59, 10.56s/it]"
     ]
    },
    {
     "name": "stdout",
     "output_type": "stream",
     "text": [
      "unprojected/flatgeobuf/DE_LS_2021_EC21.fgb\n"
     ]
    },
    {
     "name": "stderr",
     "output_type": "stream",
     "text": [
      "Uploading files:  77%|███████▋  | 53/69 [20:33<02:43, 10.20s/it]"
     ]
    },
    {
     "name": "stdout",
     "output_type": "stream",
     "text": [
      "geoparquet-projected/SI_2021_EC21.parquet\n"
     ]
    },
    {
     "name": "stderr",
     "output_type": "stream",
     "text": [
      "Uploading files:  78%|███████▊  | 54/69 [20:36<02:00,  8.06s/it]"
     ]
    },
    {
     "name": "stdout",
     "output_type": "stream",
     "text": [
      "geoparquet-projected/HR_2020_EC21.parquet\n"
     ]
    },
    {
     "name": "stderr",
     "output_type": "stream",
     "text": [
      "Uploading files:  80%|███████▉  | 55/69 [20:42<01:40,  7.21s/it]"
     ]
    },
    {
     "name": "stdout",
     "output_type": "stream",
     "text": [
      "geoparquet-projected/DE_NRW_2021_EC21.parquet\n"
     ]
    },
    {
     "name": "stderr",
     "output_type": "stream",
     "text": [
      "Uploading files:  81%|████████  | 56/69 [20:45<01:18,  6.03s/it]"
     ]
    },
    {
     "name": "stdout",
     "output_type": "stream",
     "text": [
      "geoparquet-projected/SE_2021_EC21.parquet\n"
     ]
    },
    {
     "name": "stderr",
     "output_type": "stream",
     "text": [
      "Uploading files:  83%|████████▎ | 57/69 [20:52<01:14,  6.19s/it]"
     ]
    },
    {
     "name": "stdout",
     "output_type": "stream",
     "text": [
      "geoparquet-projected/EE_2021_EC21.parquet\n"
     ]
    },
    {
     "name": "stderr",
     "output_type": "stream",
     "text": [
      "Uploading files:  84%|████████▍ | 58/69 [20:53<00:53,  4.90s/it]"
     ]
    },
    {
     "name": "stdout",
     "output_type": "stream",
     "text": [
      "geoparquet-projected/RO_ny_EC21.parquet\n"
     ]
    },
    {
     "name": "stderr",
     "output_type": "stream",
     "text": [
      "Uploading files:  86%|████████▌ | 59/69 [20:56<00:41,  4.18s/it]"
     ]
    },
    {
     "name": "stdout",
     "output_type": "stream",
     "text": [
      "geoparquet-projected/BE_VLG_2021_EC21.parquet\n"
     ]
    },
    {
     "name": "stderr",
     "output_type": "stream",
     "text": [
      "Uploading files:  87%|████████▋ | 60/69 [20:59<00:35,  3.94s/it]"
     ]
    },
    {
     "name": "stdout",
     "output_type": "stream",
     "text": [
      "geoparquet-projected/ES_NA_2020_EC21.parquet\n"
     ]
    },
    {
     "name": "stderr",
     "output_type": "stream",
     "text": [
      "Uploading files:  88%|████████▊ | 61/69 [21:04<00:34,  4.31s/it]"
     ]
    },
    {
     "name": "stdout",
     "output_type": "stream",
     "text": [
      "geoparquet-projected/DE_LS_2021_EC21.parquet\n"
     ]
    },
    {
     "name": "stderr",
     "output_type": "stream",
     "text": [
      "Uploading files:  90%|████████▉ | 62/69 [21:07<00:27,  3.90s/it]"
     ]
    },
    {
     "name": "stdout",
     "output_type": "stream",
     "text": [
      "geoparquet-projected/DK_2019_EC21.parquet\n"
     ]
    },
    {
     "name": "stderr",
     "output_type": "stream",
     "text": [
      "Uploading files:  91%|█████████▏| 63/69 [21:11<00:23,  3.93s/it]"
     ]
    },
    {
     "name": "stdout",
     "output_type": "stream",
     "text": [
      "geoparquet-projected/FR_2018_EC21.parquet\n"
     ]
    },
    {
     "name": "stderr",
     "output_type": "stream",
     "text": [
      "Uploading files:  93%|█████████▎| 64/69 [22:41<02:28, 29.62s/it]"
     ]
    },
    {
     "name": "stdout",
     "output_type": "stream",
     "text": [
      "geoparquet-projected/NL_2020_EC21.parquet\n"
     ]
    },
    {
     "name": "stderr",
     "output_type": "stream",
     "text": [
      "Uploading files:  94%|█████████▍| 65/69 [22:44<01:26, 21.62s/it]"
     ]
    },
    {
     "name": "stdout",
     "output_type": "stream",
     "text": [
      "geoparquet-projected/AT_2021_EC21.parquet\n"
     ]
    },
    {
     "name": "stderr",
     "output_type": "stream",
     "text": [
      "Uploading files:  96%|█████████▌| 66/69 [23:13<01:11, 23.74s/it]"
     ]
    },
    {
     "name": "stdout",
     "output_type": "stream",
     "text": [
      "geoparquet-projected/SK_2021_EC21.parquet\n"
     ]
    },
    {
     "name": "stderr",
     "output_type": "stream",
     "text": [
      "Uploading files:  97%|█████████▋| 67/69 [23:15<00:34, 17.34s/it]"
     ]
    },
    {
     "name": "stdout",
     "output_type": "stream",
     "text": [
      "geoparquet-projected/LT_2021_EC.parquet\n"
     ]
    },
    {
     "name": "stderr",
     "output_type": "stream",
     "text": [
      "Uploading files:  99%|█████████▊| 68/69 [23:20<00:13, 13.76s/it]"
     ]
    },
    {
     "name": "stdout",
     "output_type": "stream",
     "text": [
      "geoparquet-projected/LV_2021_EC21.parquet\n"
     ]
    },
    {
     "name": "stderr",
     "output_type": "stream",
     "text": [
      "Uploading files: 100%|██████████| 69/69 [23:24<00:00, 20.36s/it]\n"
     ]
    }
   ],
   "source": [
    "from tqdm import tqdm \n",
    "\n",
    "for ix, row in tqdm(gdf.iterrows(), total=len(gdf), desc=\"Uploading files\"):\n",
    "    tqdm.write(row.id)\n",
    "    minio_client.fput_object(os.environ['BUCKET'], f'682f2d186a29eac175867330/{row.id}', f\"/fastdata/kk/dataset/{row.id}\")"
   ]
  },
  {
   "cell_type": "code",
   "execution_count": 33,
   "metadata": {},
   "outputs": [
    {
     "name": "stdout",
     "output_type": "stream",
     "text": [
      "test.txt (1/94)\n",
      "645a26564d1c8b7b364ee631/ (2/94)\n",
      "645a26564d1c8b7b364ee631/catalog.v1.parquet\n",
      "645d1e4ec3060c653291ce87/ (3/94)\n",
      "645d1e4ec3060c653291ce87/catalog.v1.parquet\n",
      "645dff70c2f02fdd88c47b67/ (4/94)\n",
      "645dff70c2f02fdd88c47b67/catalog.v1.parquet\n",
      "645e0fb2c2f02fdd88c47b70/ (5/94)\n",
      "645e0fb2c2f02fdd88c47b70/catalog.v1.parquet\n",
      "645e3b2dc2f02fdd88c47b77/ (6/94)\n",
      "645e3b2dc2f02fdd88c47b77/catalog.v1.parquet\n",
      "645e3e4fc2f02fdd88c47b7a/ (7/94)\n",
      "645e3e4fc2f02fdd88c47b7a/catalog.v1.parquet\n",
      "64633fdfc2f02fdd88c47b85/ (8/94)\n",
      "64633fdfc2f02fdd88c47b85/catalog.v1.parquet\n",
      "6463589e59028dfdbee33336/ (9/94)\n",
      "6463589e59028dfdbee33336/catalog.v1.parquet\n",
      "6463716b59028dfdbee33338/ (10/94)\n",
      "6463716b59028dfdbee33338/catalog.v1.parquet\n",
      "646477ac59028dfdbee33341/ (11/94)\n",
      "646477ac59028dfdbee33341/catalog.v1.parquet\n",
      "6464899459028dfdbee33344/ (12/94)\n",
      "6464899459028dfdbee33344/catalog.v1.parquet\n",
      "64649f3f59028dfdbee3334a/ (13/94)\n",
      "64649f3f59028dfdbee3334a/catalog.v1.parquet\n",
      "646640b359028dfdbee3335c/ (14/94)\n",
      "646640b359028dfdbee3335c/catalog.v1.parquet\n",
      "646642d659028dfdbee3335e/ (15/94)\n",
      "646642d659028dfdbee3335e/catalog.v1.parquet\n",
      "6467305859028dfdbee33362/ (16/94)\n",
      "6467305859028dfdbee33362/catalog.v1.parquet\n",
      "64674b4459028dfdbee33364/ (17/94)\n",
      "64674b4459028dfdbee33364/catalog.v1.parquet\n",
      "646b3dcd59028dfdbee33372/ (18/94)\n",
      "646b3dcd59028dfdbee33372/catalog.v1.parquet\n",
      "646b448d59028dfdbee33374/ (19/94)\n",
      "646b448d59028dfdbee33374/catalog.v1.parquet\n",
      "646b814559028dfdbee33378/ (20/94)\n",
      "646b814559028dfdbee33378/catalog.v1.parquet\n",
      "646cf14046f51deed53f6d5b/ (21/94)\n",
      "646cf14046f51deed53f6d5b/catalog.v1.parquet\n",
      "646f55c8f11dc70cb67317df/ (22/94)\n",
      "646f55c8f11dc70cb67317df/catalog.v1.parquet\n",
      "6474acf3f11dc70cb67317e9/ (23/94)\n",
      "6474acf3f11dc70cb67317e9/catalog.v1.parquet\n",
      "64776d6898edc5f751083891/ (24/94)\n",
      "64776d6898edc5f751083891/catalog.v1.parquet\n",
      "647860b298edc5f751083893/ (25/94)\n",
      "647860b298edc5f751083893/catalog.v1.parquet\n",
      "6487589b24d9f398bfb7bb18/ (26/94)\n",
      "6487589b24d9f398bfb7bb18/catalog.v1.parquet\n",
      "64888a8e471c3b884b24c022/ (27/94)\n",
      "64888a8e471c3b884b24c022/catalog.v1.parquet\n",
      "64896b59f0d696bce297b36f/ (28/94)\n",
      "64896b59f0d696bce297b36f/catalog.v1.parquet\n",
      "64bfbb6f2a65dcd4ae2ca613/ (29/94)\n",
      "64bfbb6f2a65dcd4ae2ca613/catalog.v1.parquet\n",
      "65006c9a751700cadfbd28fb/ (30/94)\n",
      "65006c9a751700cadfbd28fb/catalog.v1.parquet\n",
      "6501e112751700cadfbd2904/ (31/94)\n",
      "6501e112751700cadfbd2904/catalog.v1.parquet\n",
      "6543ba3f68ea46a6677efec9/ (32/94)\n",
      "6543ba3f68ea46a6677efec9/catalog.v1.parquet\n",
      "6543ba3f68ea46a6677efec9/catalog.v2.parquet\n",
      "6543ba3f68ea46a6677efec9/catalog.v3.parquet\n",
      "654503a3cb330b5a4cc08707/ (33/94)\n",
      "654503a3cb330b5a4cc08707/catalog.v1.parquet\n",
      "65450deefee7bbb3258e2ebd/ (34/94)\n",
      "65450deefee7bbb3258e2ebd/catalog.v1.parquet\n",
      "65451273b6491c0a686d256b/ (35/94)\n",
      "65451273b6491c0a686d256b/catalog.v1.parquet\n",
      "65451273b6491c0a686d256b/catalog.v2.parquet\n",
      "65451273b6491c0a686d256b/catalog.v3.parquet\n",
      "654515c5b6491c0a686d256d/ (36/94)\n",
      "654515c5b6491c0a686d256d/catalog.v1.parquet\n",
      "654515c5b6491c0a686d256d/catalog.v2.parquet\n",
      "654515c5b6491c0a686d256d/catalog.v3.parquet\n",
      "65532f485530e9ec84d88686/ (37/94)\n",
      "65532f485530e9ec84d88686/catalog.v1.parquet\n",
      "65533ead5530e9ec84d88689/ (38/94)\n",
      "65533ead5530e9ec84d88689/catalog.v1.parquet\n",
      "6553640637c9bd6fb3521962/ (39/94)\n",
      "6553640637c9bd6fb3521962/catalog.v1.parquet\n",
      "6553a2ac5530e9ec84d8868f/ (40/94)\n",
      "6553a2ac5530e9ec84d8868f/catalog.v1.parquet\n",
      "655608b25530e9ec84d88691/ (41/94)\n",
      "655608b25530e9ec84d88691/catalog.v1.parquet\n",
      "655610ab12b2396b503570e5/ (42/94)\n",
      "655610ab12b2396b503570e5/catalog.v1.parquet\n",
      "655a5d895530e9ec84d886d3/ (43/94)\n",
      "655a5d895530e9ec84d886d3/catalog.v1.parquet\n",
      "6564654912b2396b503570e9/ (44/94)\n",
      "6583102937c9bd6fb352196e/ (45/94)\n",
      "6583102937c9bd6fb352196e/catalog.v1.parquet\n",
      "65bb5fe737c9bd6fb3521971/ (46/94)\n",
      "65bb5fe737c9bd6fb3521971/catalog.v1.parquet\n",
      "65c5e34b391338cb9eee1660/ (47/94)\n",
      "65c5e34b391338cb9eee1660/catalog.v1.parquet\n",
      "65c9dcae27f96a48ad79a08d/ (48/94)\n",
      "65c9dcae27f96a48ad79a08d/catalog.v1.parquet\n",
      "65ef411a501ea5dc0b448410/ (49/94)\n",
      "65ef411a501ea5dc0b448410/catalog.v1.parquet\n",
      "65f0168b391338cb9eee1678/ (50/94)\n",
      "65f0168b391338cb9eee1678/catalog.v1.parquet\n",
      "65f1878b956a3f84954af83a/ (51/94)\n",
      "65f1878b956a3f84954af83a/catalog.v1.parquet\n",
      "65f1878b956a3f84954af83a/catalog.v2.parquet\n",
      "65f310a91d08cb8a6772f12c/ (52/94)\n",
      "65f310a91d08cb8a6772f12c/catalog.v1.parquet\n",
      "65f3140e8e68180349152970/ (53/94)\n",
      "65f3140e8e68180349152970/catalog.v1.parquet\n",
      "65f407248e68180349152973/ (54/94)\n",
      "65f407248e68180349152973/catalog.v1.parquet\n",
      "65f407248e68180349152973/catalog.v2.parquet\n",
      "660541234b6cf680ff201292/ (55/94)\n",
      "660541234b6cf680ff201292/catalog.v1.parquet\n",
      "6630b98f3a7b02c7f6c45926/ (56/94)\n",
      "6630b98f3a7b02c7f6c45926/catalog.v1.parquet\n",
      "6630b98f3a7b02c7f6c45926/catalog.v2.parquet\n",
      "6630ba3e3a7b02c7f6c45928/ (57/94)\n",
      "6630ba3e3a7b02c7f6c45928/catalog.v1.parquet\n",
      "6630be393a7b02c7f6c4592b/ (58/94)\n",
      "6630be393a7b02c7f6c4592b/catalog.v1.parquet\n",
      "663355aff509f682b4abd420/ (59/94)\n",
      "663355aff509f682b4abd420/catalog.v1.parquet\n",
      "663355aff509f682b4abd420/catalog.v2.parquet\n",
      "66339674acfae349279020bd/ (60/94)\n",
      "66339674acfae349279020bd/catalog.v1.parquet\n",
      "665f0d6964b7d3b8ce16fbb2/ (61/94)\n",
      "665f0d6964b7d3b8ce16fbb2/catalog.v1.parquet\n",
      "6671822275338633317e6926/ (62/94)\n",
      "6671822275338633317e6926/catalog.v1.parquet\n",
      "66718849ca9a032893ca7d43/ (63/94)\n",
      "66718849ca9a032893ca7d43/catalog.v1.parquet\n",
      "66962f2c83a6ba0906a79bc2/ (64/94)\n",
      "66962f2c83a6ba0906a79bc2/catalog.v1.parquet\n",
      "669915efe0c91ac1be34c33b/ (65/94)\n",
      "669915efe0c91ac1be34c33b/catalog.v1.parquet\n",
      "6699163abfcae9c686f203a4/ (66/94)\n",
      "6699163abfcae9c686f203a4/catalog.v1.parquet\n",
      "669916a2e0c91ac1be34c33e/ (67/94)\n",
      "669916a2e0c91ac1be34c33e/catalog.v1.parquet\n",
      "669916b7bfcae9c686f203a7/ (68/94)\n",
      "669916b7bfcae9c686f203a7/catalog.v1.parquet\n",
      "669916d8e0c91ac1be34c341/ (69/94)\n",
      "669916d8e0c91ac1be34c341/catalog.v1.parquet\n",
      "669916eae0c91ac1be34c344/ (70/94)\n",
      "669916eae0c91ac1be34c344/catalog.v1.parquet\n",
      "669fa9a16edc51b826407af0/ (71/94)\n",
      "669fa9a16edc51b826407af0/catalog.v1.parquet\n",
      "669fa9a16edc51b826407af0/catalog.v2.parquet\n",
      "66a0f65357137221b721b24e/ (72/94)\n",
      "66a0f65357137221b721b24e/catalog.v1.parquet\n",
      "66a2108875c11a56f439517a/ (73/94)\n",
      "66a2108875c11a56f439517a/catalog.v1.parquet\n",
      "66c32647250225d1d36e735e/ (74/94)\n",
      "66c32647250225d1d36e735e/catalog.v1.parquet\n",
      "67064e184d1033730868c935/ (75/94)\n",
      "67064e184d1033730868c935/catalog.v1.parquet\n",
      "67079ab54d1033730868c937/ (76/94)\n",
      "6708dc634d1033730868c93e/ (77/94)\n",
      "6708dc634d1033730868c93e/catalog.v1.parquet\n",
      "6708defb4b34c474cf42acd9/ (78/94)\n",
      "6708defb4b34c474cf42acd9/catalog.v1.parquet\n",
      "670cfd4b7a3b51a0ffb3bcc4/ (79/94)\n",
      "670cfd4b7a3b51a0ffb3bcc4/catalog.v1.parquet\n",
      "671a057614392c331f19d197/ (80/94)\n",
      "671a057614392c331f19d197/catalog.v1.parquet\n",
      "6732b6de5d77d8f1eac1133e/ (81/94)\n",
      "6732b6de5d77d8f1eac1133e/catalog.v1.parquet\n",
      "6732b6de5d77d8f1eac1133e/catalog.v2.parquet\n",
      "6732b6de5d77d8f1eac1133e/catalog.v3.parquet\n",
      "6732b6de5d77d8f1eac1133e/catalog.v4.parquet\n",
      "6732bd313ff5c2b24e67edf0/ (82/94)\n",
      "6732bd313ff5c2b24e67edf0/catalog.v1.parquet\n",
      "6732bd313ff5c2b24e67edf0/catalog.v2.parquet\n",
      "6732bd313ff5c2b24e67edf0/catalog.v3.parquet\n",
      "6732bd313ff5c2b24e67edf0/catalog.v4.parquet\n",
      "6732bd313ff5c2b24e67edf0/catalog.v5.parquet\n",
      "6732bd313ff5c2b24e67edf0/catalog.v6.parquet\n",
      "6732bd313ff5c2b24e67edf0/catalog.v7.parquet\n",
      "6732bd313ff5c2b24e67edf0/catalog.v8.parquet\n",
      "6732bd313ff5c2b24e67edf0/catalog.v9.parquet\n",
      "6732bd313ff5c2b24e67edf0/catalog.v10.parquet\n",
      "6732bd313ff5c2b24e67edf0/catalog.v11.parquet\n",
      "6732bd313ff5c2b24e67edf0/catalog.v12.parquet\n",
      "6732bd313ff5c2b24e67edf0/catalog.v13.parquet\n",
      "6732bd313ff5c2b24e67edf0/catalog.v14.parquet\n",
      "6732bd313ff5c2b24e67edf0/catalog.v15.parquet\n",
      "6732bd313ff5c2b24e67edf0/catalog.v16.parquet\n",
      "6732bd313ff5c2b24e67edf0/catalog.v17.parquet\n",
      "6732bd313ff5c2b24e67edf0/catalog.v18.parquet\n",
      "6732bd313ff5c2b24e67edf0/catalog.v19.parquet\n",
      "6732bd313ff5c2b24e67edf0/catalog.v20.parquet\n",
      "673f1a733ff5c2b24e67edf2/ (83/94)\n",
      "673f1a733ff5c2b24e67edf2/catalog.v1.parquet\n",
      "673f5cee5d77d8f1eac11340/ (84/94)\n",
      "673f5cee5d77d8f1eac11340/catalog.v1.parquet\n",
      "673f60d75d77d8f1eac11342/ (85/94)\n",
      "673f60d75d77d8f1eac11342/catalog.v1.parquet\n",
      "67486e6eeefc0b4b19963970/ (86/94)\n",
      "67486e6eeefc0b4b19963970/catalog.v1.parquet\n",
      "679b8bbe53ddefe736314444/ (87/94)\n",
      "679b8bbe53ddefe736314444/catalog.v1.parquet\n",
      "679cd15153ddefe736314448/ (88/94)\n",
      "679cd15153ddefe736314448/catalog.v1.parquet\n",
      "67ab1b179f39cb7e0f5a17e6/ (89/94)\n",
      "67d180436b11605729a2e8ea/ (90/94)\n",
      "67d180436b11605729a2e8ea/catalog.v1.parquet\n",
      "67d181e14c972c6dc536249a/ (91/94)\n",
      "67d181e14c972c6dc536249a/catalog.v1.parquet\n",
      "67d182a43926af70561e6d36/ (92/94)\n",
      "67d182a43926af70561e6d36/catalog.v1.parquet\n",
      "67d182a43926af70561e6d36/catalog.v2.parquet\n",
      "67d1a13482ec193cb1942a4b/ (93/94)\n",
      "67d1a16a82ec193cb1942a4d/ (94/94)\n"
     ]
    }
   ],
   "source": [
    "# list all objects in the bucket\n",
    "\n",
    "collections = list(minio_client.list_objects(os.getenv('BUCKET')))\n",
    "\n",
    "count = 1\n",
    "for collection in collections:\n",
    "\tprint(collection.object_name, f\"({count}/{len(collections)})\")\n",
    "\tversion = 1\n",
    "\twhile True:\n",
    "\t\t# look for catalog.v{version}.parquet in bucket/collection\n",
    "\t\tobject_name = f\"{collection.object_name}catalog.v{version}.parquet\"\n",
    "\t\ttry:\n",
    "\t\t\tminio_client.stat_object(os.getenv('BUCKET'), object_name)\n",
    "\t\t\tprint(object_name)\n",
    "\t\t\t# download the catalog\n",
    "\t\t\tminio_client.fget_object(os.getenv('BUCKET'), object_name, f\"kk/{object_name}\")\n",
    "\t\t\t# backup the catalog\n",
    "\t\t\t# minio_client.fput_object(os.getenv('BUCKET'), f\"{object_name}.backup\", f\"kk/{object_name}\")\n",
    "\t\t\t# read the catalog\n",
    "\t\t\tdf = gpd.read_parquet(f\"kk/{object_name}\")\n",
    "\t\t\t# update the metadata\n",
    "\t\t\tfor index, row in df.iterrows():\n",
    "\t\t\t\tfor k, v in row.assets.items():\n",
    "\t\t\t\t\tv['href'] = v['href'].replace('//dev.api.eotdl.com', '//api.eotdl.com')\n",
    "\t\t\t\t\t# print(k, v)\n",
    "\t\t\t\tbreak\n",
    "\t\t\t# save the catalog\n",
    "\t\t\tdf.to_parquet(f\"kk/{object_name}\")\n",
    "\t\t\t# upload the catalog\n",
    "\t\t\tminio_client.fput_object(os.getenv('BUCKET'), object_name, f\"kk/{object_name}\")\n",
    "\t\t\tversion += 1\n",
    "\t\texcept:\n",
    "\t\t\t# print(f\"No {object_name} found\")\n",
    "\t\t\tbreak\n",
    "\tcount += 1\n",
    "\t# if count > 2:\n",
    "\t# \tbreak\n",
    "\t\t\n",
    "\n"
   ]
  },
  {
   "cell_type": "code",
   "execution_count": 3,
   "metadata": {},
   "outputs": [
    {
     "data": {
      "text/plain": [
       "<minio.datatypes.Object at 0x1681ad700>"
      ]
     },
     "execution_count": 3,
     "metadata": {},
     "output_type": "execute_result"
    }
   ],
   "source": [
    "minio_client.fget_object(os.getenv('BUCKET'), \"68074b43c8575682bb134c3e/catalog.v2.parquet\", f\"kk/backup.parquet\")"
   ]
  },
  {
   "cell_type": "code",
   "execution_count": 4,
   "metadata": {},
   "outputs": [
    {
     "data": {
      "text/html": [
       "<div>\n",
       "<style scoped>\n",
       "    .dataframe tbody tr th:only-of-type {\n",
       "        vertical-align: middle;\n",
       "    }\n",
       "\n",
       "    .dataframe tbody tr th {\n",
       "        vertical-align: top;\n",
       "    }\n",
       "\n",
       "    .dataframe thead th {\n",
       "        text-align: right;\n",
       "    }\n",
       "</style>\n",
       "<table border=\"1\" class=\"dataframe\">\n",
       "  <thead>\n",
       "    <tr style=\"text-align: right;\">\n",
       "      <th></th>\n",
       "      <th>type</th>\n",
       "      <th>stac_version</th>\n",
       "      <th>stac_extensions</th>\n",
       "      <th>datetime</th>\n",
       "      <th>id</th>\n",
       "      <th>bbox</th>\n",
       "      <th>geometry</th>\n",
       "      <th>assets</th>\n",
       "      <th>links</th>\n",
       "      <th>repository</th>\n",
       "    </tr>\n",
       "  </thead>\n",
       "  <tbody>\n",
       "    <tr>\n",
       "      <th>0</th>\n",
       "      <td>Feature</td>\n",
       "      <td>1.0.0</td>\n",
       "      <td>[]</td>\n",
       "      <td>2025-05-22 09:22:11.643191</td>\n",
       "      <td>wavelengths.json</td>\n",
       "      <td>{'xmax': 0.0, 'xmin': 0.0, 'ymax': 0.0, 'ymin'...</td>\n",
       "      <td>POLYGON EMPTY</td>\n",
       "      <td>{'asset': {'checksum': '29853bdb7d1c6533bd49fc...</td>\n",
       "      <td>[]</td>\n",
       "      <td>eotdl</td>\n",
       "    </tr>\n",
       "    <tr>\n",
       "      <th>1</th>\n",
       "      <td>Feature</td>\n",
       "      <td>1.0.0</td>\n",
       "      <td>[]</td>\n",
       "      <td>2025-05-22 09:22:11.644079</td>\n",
       "      <td>train_gt.csv</td>\n",
       "      <td>{'xmax': 0.0, 'xmin': 0.0, 'ymax': 0.0, 'ymin'...</td>\n",
       "      <td>POLYGON EMPTY</td>\n",
       "      <td>{'asset': {'checksum': '6908af454be9118afdb7de...</td>\n",
       "      <td>[]</td>\n",
       "      <td>eotdl</td>\n",
       "    </tr>\n",
       "    <tr>\n",
       "      <th>2</th>\n",
       "      <td>Feature</td>\n",
       "      <td>1.0.0</td>\n",
       "      <td>[]</td>\n",
       "      <td>2025-05-22 09:22:11.644707</td>\n",
       "      <td>submission.csv</td>\n",
       "      <td>{'xmax': 0.0, 'xmin': 0.0, 'ymax': 0.0, 'ymin'...</td>\n",
       "      <td>POLYGON EMPTY</td>\n",
       "      <td>{'asset': {'checksum': '5d9d8c1eee93a0c3be7264...</td>\n",
       "      <td>[]</td>\n",
       "      <td>eotdl</td>\n",
       "    </tr>\n",
       "    <tr>\n",
       "      <th>3</th>\n",
       "      <td>Feature</td>\n",
       "      <td>1.0.0</td>\n",
       "      <td>[]</td>\n",
       "      <td>2025-05-22 09:22:11.645436</td>\n",
       "      <td>README.md-71197</td>\n",
       "      <td>{'xmax': 0.0, 'xmin': 0.0, 'ymax': 0.0, 'ymin'...</td>\n",
       "      <td>POLYGON EMPTY</td>\n",
       "      <td>{'asset': {'checksum': 'aa70af75ad12323ee6ef8f...</td>\n",
       "      <td>[]</td>\n",
       "      <td>eotdl</td>\n",
       "    </tr>\n",
       "    <tr>\n",
       "      <th>4</th>\n",
       "      <td>Feature</td>\n",
       "      <td>1.0.0</td>\n",
       "      <td>[]</td>\n",
       "      <td>2025-05-22 09:22:11.645487</td>\n",
       "      <td>starter_pack.py</td>\n",
       "      <td>{'xmax': 0.0, 'xmin': 0.0, 'ymax': 0.0, 'ymin'...</td>\n",
       "      <td>POLYGON EMPTY</td>\n",
       "      <td>{'asset': {'checksum': '6800e14da5656f5c4e91b8...</td>\n",
       "      <td>[]</td>\n",
       "      <td>eotdl</td>\n",
       "    </tr>\n",
       "    <tr>\n",
       "      <th>...</th>\n",
       "      <td>...</td>\n",
       "      <td>...</td>\n",
       "      <td>...</td>\n",
       "      <td>...</td>\n",
       "      <td>...</td>\n",
       "      <td>...</td>\n",
       "      <td>...</td>\n",
       "      <td>...</td>\n",
       "      <td>...</td>\n",
       "      <td>...</td>\n",
       "    </tr>\n",
       "    <tr>\n",
       "      <th>9404</th>\n",
       "      <td>Feature</td>\n",
       "      <td>1.0.0</td>\n",
       "      <td>[]</td>\n",
       "      <td>2025-05-22 09:22:12.277250</td>\n",
       "      <td>train/msi_satellite/0068.npz</td>\n",
       "      <td>{'xmax': 0.0, 'xmin': 0.0, 'ymax': 0.0, 'ymin'...</td>\n",
       "      <td>POLYGON EMPTY</td>\n",
       "      <td>{'asset': {'checksum': 'e0f51b6be90ef1163ffa31...</td>\n",
       "      <td>[]</td>\n",
       "      <td>eotdl</td>\n",
       "    </tr>\n",
       "    <tr>\n",
       "      <th>9405</th>\n",
       "      <td>Feature</td>\n",
       "      <td>1.0.0</td>\n",
       "      <td>[]</td>\n",
       "      <td>2025-05-22 09:22:12.277300</td>\n",
       "      <td>train/msi_satellite/1376.npz</td>\n",
       "      <td>{'xmax': 0.0, 'xmin': 0.0, 'ymax': 0.0, 'ymin'...</td>\n",
       "      <td>POLYGON EMPTY</td>\n",
       "      <td>{'asset': {'checksum': 'c06d13dac2f14d0739ae60...</td>\n",
       "      <td>[]</td>\n",
       "      <td>eotdl</td>\n",
       "    </tr>\n",
       "    <tr>\n",
       "      <th>9406</th>\n",
       "      <td>Feature</td>\n",
       "      <td>1.0.0</td>\n",
       "      <td>[]</td>\n",
       "      <td>2025-05-22 09:22:12.277347</td>\n",
       "      <td>train/msi_satellite/1410.npz</td>\n",
       "      <td>{'xmax': 0.0, 'xmin': 0.0, 'ymax': 0.0, 'ymin'...</td>\n",
       "      <td>POLYGON EMPTY</td>\n",
       "      <td>{'asset': {'checksum': '834c01160f43072b21629c...</td>\n",
       "      <td>[]</td>\n",
       "      <td>eotdl</td>\n",
       "    </tr>\n",
       "    <tr>\n",
       "      <th>9407</th>\n",
       "      <td>Feature</td>\n",
       "      <td>1.0.0</td>\n",
       "      <td>[]</td>\n",
       "      <td>2025-05-22 09:22:12.277400</td>\n",
       "      <td>train/msi_satellite/1404.npz</td>\n",
       "      <td>{'xmax': 0.0, 'xmin': 0.0, 'ymax': 0.0, 'ymin'...</td>\n",
       "      <td>POLYGON EMPTY</td>\n",
       "      <td>{'asset': {'checksum': '3d6f9cc642b20aa939a34b...</td>\n",
       "      <td>[]</td>\n",
       "      <td>eotdl</td>\n",
       "    </tr>\n",
       "    <tr>\n",
       "      <th>9408</th>\n",
       "      <td>Feature</td>\n",
       "      <td>1.0.0</td>\n",
       "      <td>[]</td>\n",
       "      <td>2025-05-22 09:22:12.277451</td>\n",
       "      <td>train/msi_satellite/1362.npz</td>\n",
       "      <td>{'xmax': 0.0, 'xmin': 0.0, 'ymax': 0.0, 'ymin'...</td>\n",
       "      <td>POLYGON EMPTY</td>\n",
       "      <td>{'asset': {'checksum': 'a0610f15d61cdb5d9b41bf...</td>\n",
       "      <td>[]</td>\n",
       "      <td>eotdl</td>\n",
       "    </tr>\n",
       "  </tbody>\n",
       "</table>\n",
       "<p>9409 rows × 10 columns</p>\n",
       "</div>"
      ],
      "text/plain": [
       "         type stac_version stac_extensions                   datetime  \\\n",
       "0     Feature        1.0.0              [] 2025-05-22 09:22:11.643191   \n",
       "1     Feature        1.0.0              [] 2025-05-22 09:22:11.644079   \n",
       "2     Feature        1.0.0              [] 2025-05-22 09:22:11.644707   \n",
       "3     Feature        1.0.0              [] 2025-05-22 09:22:11.645436   \n",
       "4     Feature        1.0.0              [] 2025-05-22 09:22:11.645487   \n",
       "...       ...          ...             ...                        ...   \n",
       "9404  Feature        1.0.0              [] 2025-05-22 09:22:12.277250   \n",
       "9405  Feature        1.0.0              [] 2025-05-22 09:22:12.277300   \n",
       "9406  Feature        1.0.0              [] 2025-05-22 09:22:12.277347   \n",
       "9407  Feature        1.0.0              [] 2025-05-22 09:22:12.277400   \n",
       "9408  Feature        1.0.0              [] 2025-05-22 09:22:12.277451   \n",
       "\n",
       "                                id  \\\n",
       "0                 wavelengths.json   \n",
       "1                     train_gt.csv   \n",
       "2                   submission.csv   \n",
       "3                  README.md-71197   \n",
       "4                  starter_pack.py   \n",
       "...                            ...   \n",
       "9404  train/msi_satellite/0068.npz   \n",
       "9405  train/msi_satellite/1376.npz   \n",
       "9406  train/msi_satellite/1410.npz   \n",
       "9407  train/msi_satellite/1404.npz   \n",
       "9408  train/msi_satellite/1362.npz   \n",
       "\n",
       "                                                   bbox       geometry  \\\n",
       "0     {'xmax': 0.0, 'xmin': 0.0, 'ymax': 0.0, 'ymin'...  POLYGON EMPTY   \n",
       "1     {'xmax': 0.0, 'xmin': 0.0, 'ymax': 0.0, 'ymin'...  POLYGON EMPTY   \n",
       "2     {'xmax': 0.0, 'xmin': 0.0, 'ymax': 0.0, 'ymin'...  POLYGON EMPTY   \n",
       "3     {'xmax': 0.0, 'xmin': 0.0, 'ymax': 0.0, 'ymin'...  POLYGON EMPTY   \n",
       "4     {'xmax': 0.0, 'xmin': 0.0, 'ymax': 0.0, 'ymin'...  POLYGON EMPTY   \n",
       "...                                                 ...            ...   \n",
       "9404  {'xmax': 0.0, 'xmin': 0.0, 'ymax': 0.0, 'ymin'...  POLYGON EMPTY   \n",
       "9405  {'xmax': 0.0, 'xmin': 0.0, 'ymax': 0.0, 'ymin'...  POLYGON EMPTY   \n",
       "9406  {'xmax': 0.0, 'xmin': 0.0, 'ymax': 0.0, 'ymin'...  POLYGON EMPTY   \n",
       "9407  {'xmax': 0.0, 'xmin': 0.0, 'ymax': 0.0, 'ymin'...  POLYGON EMPTY   \n",
       "9408  {'xmax': 0.0, 'xmin': 0.0, 'ymax': 0.0, 'ymin'...  POLYGON EMPTY   \n",
       "\n",
       "                                                 assets links repository  \n",
       "0     {'asset': {'checksum': '29853bdb7d1c6533bd49fc...    []      eotdl  \n",
       "1     {'asset': {'checksum': '6908af454be9118afdb7de...    []      eotdl  \n",
       "2     {'asset': {'checksum': '5d9d8c1eee93a0c3be7264...    []      eotdl  \n",
       "3     {'asset': {'checksum': 'aa70af75ad12323ee6ef8f...    []      eotdl  \n",
       "4     {'asset': {'checksum': '6800e14da5656f5c4e91b8...    []      eotdl  \n",
       "...                                                 ...   ...        ...  \n",
       "9404  {'asset': {'checksum': 'e0f51b6be90ef1163ffa31...    []      eotdl  \n",
       "9405  {'asset': {'checksum': 'c06d13dac2f14d0739ae60...    []      eotdl  \n",
       "9406  {'asset': {'checksum': '834c01160f43072b21629c...    []      eotdl  \n",
       "9407  {'asset': {'checksum': '3d6f9cc642b20aa939a34b...    []      eotdl  \n",
       "9408  {'asset': {'checksum': 'a0610f15d61cdb5d9b41bf...    []      eotdl  \n",
       "\n",
       "[9409 rows x 10 columns]"
      ]
     },
     "execution_count": 4,
     "metadata": {},
     "output_type": "execute_result"
    }
   ],
   "source": [
    "df = gpd.read_parquet(f\"kk/backup.parquet\")\n",
    "# df = gpd.read_parquet(f\"~/Desktop/kk/HYPERVIEW2/catalog.v2.parquet\")\n",
    "df"
   ]
  },
  {
   "cell_type": "code",
   "execution_count": 5,
   "metadata": {},
   "outputs": [
    {
     "ename": "S3Error",
     "evalue": "S3 operation failed; code: NoSuchKey, message: Object does not exist, resource: /eotdl-data/68074b43c8575682bb134c3e/test/hsi_satellite/0967.npz, request_id: 00000196F7752BC6C1C66984C8055F5C, host_id: 32AAAQAAEAABAAAQAAEAABAAAQAAEAABCSAAAAAAAAAAAAAAAAAAAAAAAAAAAAAA, bucket_name: eotdl-data, object_name: 68074b43c8575682bb134c3e/test/hsi_satellite/0967.npz",
     "output_type": "error",
     "traceback": [
      "\u001b[31m---------------------------------------------------------------------------\u001b[39m",
      "\u001b[31mS3Error\u001b[39m                                   Traceback (most recent call last)",
      "\u001b[36mCell\u001b[39m\u001b[36m \u001b[39m\u001b[32mIn[5]\u001b[39m\u001b[32m, line 1\u001b[39m\n\u001b[32m----> \u001b[39m\u001b[32m1\u001b[39m \u001b[43mminio_client\u001b[49m\u001b[43m.\u001b[49m\u001b[43mstat_object\u001b[49m\u001b[43m(\u001b[49m\u001b[43mos\u001b[49m\u001b[43m.\u001b[49m\u001b[43mgetenv\u001b[49m\u001b[43m(\u001b[49m\u001b[33;43m'\u001b[39;49m\u001b[33;43mBUCKET\u001b[39;49m\u001b[33;43m'\u001b[39;49m\u001b[43m)\u001b[49m\u001b[43m,\u001b[49m\u001b[43m \u001b[49m\u001b[33;43mf\u001b[39;49m\u001b[33;43m\"\u001b[39;49m\u001b[33;43m68074b43c8575682bb134c3e/test/hsi_satellite/0967.npz\u001b[39;49m\u001b[33;43m\"\u001b[39;49m\u001b[43m)\u001b[49m\n",
      "\u001b[36mFile \u001b[39m\u001b[32m~/Desktop/eotdl/.venv/lib/python3.12/site-packages/minio/api.py:2123\u001b[39m, in \u001b[36mMinio.stat_object\u001b[39m\u001b[34m(self, bucket_name, object_name, ssec, version_id, extra_headers, extra_query_params)\u001b[39m\n\u001b[32m   2121\u001b[39m query_params = extra_query_params \u001b[38;5;129;01mor\u001b[39;00m {}\n\u001b[32m   2122\u001b[39m query_params.update({\u001b[33m\"\u001b[39m\u001b[33mversionId\u001b[39m\u001b[33m\"\u001b[39m: version_id} \u001b[38;5;28;01mif\u001b[39;00m version_id \u001b[38;5;28;01melse\u001b[39;00m {})\n\u001b[32m-> \u001b[39m\u001b[32m2123\u001b[39m response = \u001b[38;5;28;43mself\u001b[39;49m\u001b[43m.\u001b[49m\u001b[43m_execute\u001b[49m\u001b[43m(\u001b[49m\n\u001b[32m   2124\u001b[39m \u001b[43m    \u001b[49m\u001b[33;43m\"\u001b[39;49m\u001b[33;43mHEAD\u001b[39;49m\u001b[33;43m\"\u001b[39;49m\u001b[43m,\u001b[49m\n\u001b[32m   2125\u001b[39m \u001b[43m    \u001b[49m\u001b[43mbucket_name\u001b[49m\u001b[43m,\u001b[49m\n\u001b[32m   2126\u001b[39m \u001b[43m    \u001b[49m\u001b[43mobject_name\u001b[49m\u001b[43m,\u001b[49m\n\u001b[32m   2127\u001b[39m \u001b[43m    \u001b[49m\u001b[43mheaders\u001b[49m\u001b[43m=\u001b[49m\u001b[43mheaders\u001b[49m\u001b[43m,\u001b[49m\n\u001b[32m   2128\u001b[39m \u001b[43m    \u001b[49m\u001b[43mquery_params\u001b[49m\u001b[43m=\u001b[49m\u001b[43mquery_params\u001b[49m\u001b[43m,\u001b[49m\n\u001b[32m   2129\u001b[39m \u001b[43m\u001b[49m\u001b[43m)\u001b[49m\n\u001b[32m   2131\u001b[39m value = response.headers.get(\u001b[33m\"\u001b[39m\u001b[33mlast-modified\u001b[39m\u001b[33m\"\u001b[39m)\n\u001b[32m   2132\u001b[39m \u001b[38;5;28;01mif\u001b[39;00m value \u001b[38;5;129;01mis\u001b[39;00m \u001b[38;5;129;01mnot\u001b[39;00m \u001b[38;5;28;01mNone\u001b[39;00m:\n",
      "\u001b[36mFile \u001b[39m\u001b[32m~/Desktop/eotdl/.venv/lib/python3.12/site-packages/minio/api.py:441\u001b[39m, in \u001b[36mMinio._execute\u001b[39m\u001b[34m(self, method, bucket_name, object_name, body, headers, query_params, preload_content, no_body_trace)\u001b[39m\n\u001b[32m    438\u001b[39m region = \u001b[38;5;28mself\u001b[39m._get_region(bucket_name)\n\u001b[32m    440\u001b[39m \u001b[38;5;28;01mtry\u001b[39;00m:\n\u001b[32m--> \u001b[39m\u001b[32m441\u001b[39m     \u001b[38;5;28;01mreturn\u001b[39;00m \u001b[38;5;28;43mself\u001b[39;49m\u001b[43m.\u001b[49m\u001b[43m_url_open\u001b[49m\u001b[43m(\u001b[49m\n\u001b[32m    442\u001b[39m \u001b[43m        \u001b[49m\u001b[43mmethod\u001b[49m\u001b[43m,\u001b[49m\n\u001b[32m    443\u001b[39m \u001b[43m        \u001b[49m\u001b[43mregion\u001b[49m\u001b[43m,\u001b[49m\n\u001b[32m    444\u001b[39m \u001b[43m        \u001b[49m\u001b[43mbucket_name\u001b[49m\u001b[43m=\u001b[49m\u001b[43mbucket_name\u001b[49m\u001b[43m,\u001b[49m\n\u001b[32m    445\u001b[39m \u001b[43m        \u001b[49m\u001b[43mobject_name\u001b[49m\u001b[43m=\u001b[49m\u001b[43mobject_name\u001b[49m\u001b[43m,\u001b[49m\n\u001b[32m    446\u001b[39m \u001b[43m        \u001b[49m\u001b[43mbody\u001b[49m\u001b[43m=\u001b[49m\u001b[43mbody\u001b[49m\u001b[43m,\u001b[49m\n\u001b[32m    447\u001b[39m \u001b[43m        \u001b[49m\u001b[43mheaders\u001b[49m\u001b[43m=\u001b[49m\u001b[43mheaders\u001b[49m\u001b[43m,\u001b[49m\n\u001b[32m    448\u001b[39m \u001b[43m        \u001b[49m\u001b[43mquery_params\u001b[49m\u001b[43m=\u001b[49m\u001b[43mquery_params\u001b[49m\u001b[43m,\u001b[49m\n\u001b[32m    449\u001b[39m \u001b[43m        \u001b[49m\u001b[43mpreload_content\u001b[49m\u001b[43m=\u001b[49m\u001b[43mpreload_content\u001b[49m\u001b[43m,\u001b[49m\n\u001b[32m    450\u001b[39m \u001b[43m        \u001b[49m\u001b[43mno_body_trace\u001b[49m\u001b[43m=\u001b[49m\u001b[43mno_body_trace\u001b[49m\u001b[43m,\u001b[49m\n\u001b[32m    451\u001b[39m \u001b[43m    \u001b[49m\u001b[43m)\u001b[49m\n\u001b[32m    452\u001b[39m \u001b[38;5;28;01mexcept\u001b[39;00m S3Error \u001b[38;5;28;01mas\u001b[39;00m exc:\n\u001b[32m    453\u001b[39m     \u001b[38;5;28;01mif\u001b[39;00m exc.code != \u001b[33m\"\u001b[39m\u001b[33mRetryHead\u001b[39m\u001b[33m\"\u001b[39m:\n",
      "\u001b[36mFile \u001b[39m\u001b[32m~/Desktop/eotdl/.venv/lib/python3.12/site-packages/minio/api.py:424\u001b[39m, in \u001b[36mMinio._url_open\u001b[39m\u001b[34m(self, method, region, bucket_name, object_name, body, headers, query_params, preload_content, no_body_trace)\u001b[39m\n\u001b[32m    421\u001b[39m     \u001b[38;5;28;01mif\u001b[39;00m bucket_name \u001b[38;5;129;01mis\u001b[39;00m \u001b[38;5;129;01mnot\u001b[39;00m \u001b[38;5;28;01mNone\u001b[39;00m:\n\u001b[32m    422\u001b[39m         \u001b[38;5;28mself\u001b[39m._region_map.pop(bucket_name, \u001b[38;5;28;01mNone\u001b[39;00m)\n\u001b[32m--> \u001b[39m\u001b[32m424\u001b[39m \u001b[38;5;28;01mraise\u001b[39;00m response_error\n",
      "\u001b[31mS3Error\u001b[39m: S3 operation failed; code: NoSuchKey, message: Object does not exist, resource: /eotdl-data/68074b43c8575682bb134c3e/test/hsi_satellite/0967.npz, request_id: 00000196F7752BC6C1C66984C8055F5C, host_id: 32AAAQAAEAABAAAQAAEAABAAAQAAEAABCSAAAAAAAAAAAAAAAAAAAAAAAAAAAAAA, bucket_name: eotdl-data, object_name: 68074b43c8575682bb134c3e/test/hsi_satellite/0967.npz"
     ]
    }
   ],
   "source": [
    "minio_client.stat_object(os.getenv('BUCKET'), f\"68074b43c8575682bb134c3e/test/hsi_satellite/0967.npz\")"
   ]
  },
  {
   "cell_type": "code",
   "execution_count": 14,
   "metadata": {},
   "outputs": [
    {
     "name": "stderr",
     "output_type": "stream",
     "text": [
      "100%|██████████| 8351/8351 [08:53<00:00, 15.66it/s]\n"
     ]
    }
   ],
   "source": [
    "for m in tqdm(missing):\n",
    "    path = f'../kk/prepared_dataset_for_users/{m}'\n",
    "    minio_client.fput_object(os.getenv('BUCKET'), f\"68074b43c8575682bb134c3e/{m}\", path)"
   ]
  },
  {
   "cell_type": "code",
   "execution_count": 15,
   "metadata": {},
   "outputs": [
    {
     "name": "stderr",
     "output_type": "stream",
     "text": [
      "100%|██████████| 9409/9409 [08:02<00:00, 19.50it/s]\n"
     ]
    }
   ],
   "source": [
    "from tqdm import tqdm\n",
    "\n",
    "missing = []\n",
    "for index, row in tqdm(df.iterrows(), total=len(df)):\n",
    "\t# print(row.id)\n",
    "\ttry:\n",
    "\t\tminio_client.stat_object(os.getenv('BUCKET'), f\"68074b43c8575682bb134c3e/{row.id}\")\n",
    "\texcept:\n",
    "\t\tmissing.append(row.id)\n",
    "\t\tprint(row.id, len(missing))\n",
    "\t# for k, v in row.assets.items():\n",
    "\t# \t# v['href'] = v['href'].replace('http://api.eotdl.com', 'https://api.eotdl.com')\n",
    "\t# \t# if not v['href'].startswith('https://api.eotdl.com/datasets'): print(k, v)\n",
    "\t# \tprint(k, v)\n",
    "# save the catalog\n",
    "# df.to_parquet(f\"kk/catalog.v2.parquet\")"
   ]
  },
  {
   "cell_type": "code",
   "execution_count": 16,
   "metadata": {},
   "outputs": [
    {
     "data": {
      "text/plain": [
       "0"
      ]
     },
     "execution_count": 16,
     "metadata": {},
     "output_type": "execute_result"
    }
   ],
   "source": [
    "len(missing)"
   ]
  },
  {
   "cell_type": "code",
   "execution_count": 18,
   "metadata": {},
   "outputs": [],
   "source": [
    "stats = minio_client.stat_object(os.getenv('BUCKET'), '68074b43c8575682bb134c3e/test/hsi_satellite/0515.npz')"
   ]
  },
  {
   "cell_type": "code",
   "execution_count": 19,
   "metadata": {},
   "outputs": [
    {
     "data": {
      "text/plain": [
       "'68074b43c8575682bb134c3e/test/hsi_satellite/0515.npz'"
      ]
     },
     "execution_count": 19,
     "metadata": {},
     "output_type": "execute_result"
    }
   ],
   "source": [
    "stats.object_name"
   ]
  },
  {
   "cell_type": "code",
   "execution_count": 7,
   "metadata": {},
   "outputs": [
    {
     "data": {
      "text/html": [
       "<div>\n",
       "<style scoped>\n",
       "    .dataframe tbody tr th:only-of-type {\n",
       "        vertical-align: middle;\n",
       "    }\n",
       "\n",
       "    .dataframe tbody tr th {\n",
       "        vertical-align: top;\n",
       "    }\n",
       "\n",
       "    .dataframe thead th {\n",
       "        text-align: right;\n",
       "    }\n",
       "</style>\n",
       "<table border=\"1\" class=\"dataframe\">\n",
       "  <thead>\n",
       "    <tr style=\"text-align: right;\">\n",
       "      <th></th>\n",
       "      <th>type</th>\n",
       "      <th>stac_version</th>\n",
       "      <th>stac_extensions</th>\n",
       "      <th>datetime</th>\n",
       "      <th>id</th>\n",
       "      <th>bbox</th>\n",
       "      <th>geometry</th>\n",
       "      <th>assets</th>\n",
       "      <th>links</th>\n",
       "      <th>repository</th>\n",
       "    </tr>\n",
       "  </thead>\n",
       "  <tbody>\n",
       "    <tr>\n",
       "      <th>0</th>\n",
       "      <td>Feature</td>\n",
       "      <td>1.0.0</td>\n",
       "      <td>[]</td>\n",
       "      <td>2025-04-02 10:34:58.331558</td>\n",
       "      <td>starter_pack.ipynb</td>\n",
       "      <td>{'xmax': 0.0, 'xmin': 0.0, 'ymax': 0.0, 'ymin'...</td>\n",
       "      <td>POLYGON EMPTY</td>\n",
       "      <td>{'asset': {'checksum': 'a9d1a60e15beced36f24e7...</td>\n",
       "      <td>[]</td>\n",
       "      <td>eotdl</td>\n",
       "    </tr>\n",
       "    <tr>\n",
       "      <th>1</th>\n",
       "      <td>Feature</td>\n",
       "      <td>1.0.0</td>\n",
       "      <td>[]</td>\n",
       "      <td>2025-04-02 10:34:58.332442</td>\n",
       "      <td>README.md</td>\n",
       "      <td>{'xmax': 0.0, 'xmin': 0.0, 'ymax': 0.0, 'ymin'...</td>\n",
       "      <td>POLYGON EMPTY</td>\n",
       "      <td>{'asset': {'checksum': 'aa05385abe52ccd2eeffd9...</td>\n",
       "      <td>[]</td>\n",
       "      <td>eotdl</td>\n",
       "    </tr>\n",
       "    <tr>\n",
       "      <th>2</th>\n",
       "      <td>Feature</td>\n",
       "      <td>1.0.0</td>\n",
       "      <td>[]</td>\n",
       "      <td>2025-04-02 10:34:58.332511</td>\n",
       "      <td>starter_pack.pdf</td>\n",
       "      <td>{'xmax': 0.0, 'xmin': 0.0, 'ymax': 0.0, 'ymin'...</td>\n",
       "      <td>POLYGON EMPTY</td>\n",
       "      <td>{'asset': {'checksum': '28c813f9a0b62213548222...</td>\n",
       "      <td>[]</td>\n",
       "      <td>eotdl</td>\n",
       "    </tr>\n",
       "    <tr>\n",
       "      <th>3</th>\n",
       "      <td>Feature</td>\n",
       "      <td>1.0.0</td>\n",
       "      <td>[]</td>\n",
       "      <td>2025-04-02 10:34:58.332669</td>\n",
       "      <td>catalog.v1.parquet</td>\n",
       "      <td>{'xmax': 0.0, 'xmin': 0.0, 'ymax': 0.0, 'ymin'...</td>\n",
       "      <td>POLYGON EMPTY</td>\n",
       "      <td>{'asset': {'checksum': 'c3038a3d6fa00ad3133779...</td>\n",
       "      <td>[]</td>\n",
       "      <td>eotdl</td>\n",
       "    </tr>\n",
       "    <tr>\n",
       "      <th>4</th>\n",
       "      <td>Feature</td>\n",
       "      <td>1.0.0</td>\n",
       "      <td>[]</td>\n",
       "      <td>2025-04-02 10:34:58.332868</td>\n",
       "      <td>test_data/77.npz</td>\n",
       "      <td>{'xmax': 0.0, 'xmin': 0.0, 'ymax': 0.0, 'ymin'...</td>\n",
       "      <td>POLYGON EMPTY</td>\n",
       "      <td>{'asset': {'checksum': '743561ae45eab04e8418e3...</td>\n",
       "      <td>[]</td>\n",
       "      <td>eotdl</td>\n",
       "    </tr>\n",
       "    <tr>\n",
       "      <th>...</th>\n",
       "      <td>...</td>\n",
       "      <td>...</td>\n",
       "      <td>...</td>\n",
       "      <td>...</td>\n",
       "      <td>...</td>\n",
       "      <td>...</td>\n",
       "      <td>...</td>\n",
       "      <td>...</td>\n",
       "      <td>...</td>\n",
       "      <td>...</td>\n",
       "    </tr>\n",
       "    <tr>\n",
       "      <th>2887</th>\n",
       "      <td>Feature</td>\n",
       "      <td>1.0.0</td>\n",
       "      <td>[]</td>\n",
       "      <td>2025-04-02 10:35:01.933934</td>\n",
       "      <td>train_data/train_data/1410.npz</td>\n",
       "      <td>{'xmax': 0.0, 'xmin': 0.0, 'ymax': 0.0, 'ymin'...</td>\n",
       "      <td>POLYGON EMPTY</td>\n",
       "      <td>{'asset': {'checksum': 'ea5cd6770fe8a287255cac...</td>\n",
       "      <td>[]</td>\n",
       "      <td>eotdl</td>\n",
       "    </tr>\n",
       "    <tr>\n",
       "      <th>2888</th>\n",
       "      <td>Feature</td>\n",
       "      <td>1.0.0</td>\n",
       "      <td>[]</td>\n",
       "      <td>2025-04-02 10:35:01.936311</td>\n",
       "      <td>train_data/train_data/184.npz</td>\n",
       "      <td>{'xmax': 0.0, 'xmin': 0.0, 'ymax': 0.0, 'ymin'...</td>\n",
       "      <td>POLYGON EMPTY</td>\n",
       "      <td>{'asset': {'checksum': '02557206016e4fe875da88...</td>\n",
       "      <td>[]</td>\n",
       "      <td>eotdl</td>\n",
       "    </tr>\n",
       "    <tr>\n",
       "      <th>2889</th>\n",
       "      <td>Feature</td>\n",
       "      <td>1.0.0</td>\n",
       "      <td>[]</td>\n",
       "      <td>2025-04-02 10:35:01.936512</td>\n",
       "      <td>train_data/train_data/190.npz</td>\n",
       "      <td>{'xmax': 0.0, 'xmin': 0.0, 'ymax': 0.0, 'ymin'...</td>\n",
       "      <td>POLYGON EMPTY</td>\n",
       "      <td>{'asset': {'checksum': '7f3bd6e3be91a19c8cfa74...</td>\n",
       "      <td>[]</td>\n",
       "      <td>eotdl</td>\n",
       "    </tr>\n",
       "    <tr>\n",
       "      <th>2890</th>\n",
       "      <td>Feature</td>\n",
       "      <td>1.0.0</td>\n",
       "      <td>[]</td>\n",
       "      <td>2025-04-02 10:35:01.936718</td>\n",
       "      <td>train_data/train_data/1404.npz</td>\n",
       "      <td>{'xmax': 0.0, 'xmin': 0.0, 'ymax': 0.0, 'ymin'...</td>\n",
       "      <td>POLYGON EMPTY</td>\n",
       "      <td>{'asset': {'checksum': '247252e3d357cbed7a6453...</td>\n",
       "      <td>[]</td>\n",
       "      <td>eotdl</td>\n",
       "    </tr>\n",
       "    <tr>\n",
       "      <th>2891</th>\n",
       "      <td>Feature</td>\n",
       "      <td>1.0.0</td>\n",
       "      <td>[]</td>\n",
       "      <td>2025-04-02 10:35:01.939036</td>\n",
       "      <td>train_data/train_data/1362.npz</td>\n",
       "      <td>{'xmax': 0.0, 'xmin': 0.0, 'ymax': 0.0, 'ymin'...</td>\n",
       "      <td>POLYGON EMPTY</td>\n",
       "      <td>{'asset': {'checksum': 'd00134047f0b1004906bad...</td>\n",
       "      <td>[]</td>\n",
       "      <td>eotdl</td>\n",
       "    </tr>\n",
       "  </tbody>\n",
       "</table>\n",
       "<p>2892 rows × 10 columns</p>\n",
       "</div>"
      ],
      "text/plain": [
       "         type stac_version stac_extensions                   datetime  \\\n",
       "0     Feature        1.0.0              [] 2025-04-02 10:34:58.331558   \n",
       "1     Feature        1.0.0              [] 2025-04-02 10:34:58.332442   \n",
       "2     Feature        1.0.0              [] 2025-04-02 10:34:58.332511   \n",
       "3     Feature        1.0.0              [] 2025-04-02 10:34:58.332669   \n",
       "4     Feature        1.0.0              [] 2025-04-02 10:34:58.332868   \n",
       "...       ...          ...             ...                        ...   \n",
       "2887  Feature        1.0.0              [] 2025-04-02 10:35:01.933934   \n",
       "2888  Feature        1.0.0              [] 2025-04-02 10:35:01.936311   \n",
       "2889  Feature        1.0.0              [] 2025-04-02 10:35:01.936512   \n",
       "2890  Feature        1.0.0              [] 2025-04-02 10:35:01.936718   \n",
       "2891  Feature        1.0.0              [] 2025-04-02 10:35:01.939036   \n",
       "\n",
       "                                  id  \\\n",
       "0                 starter_pack.ipynb   \n",
       "1                          README.md   \n",
       "2                   starter_pack.pdf   \n",
       "3                 catalog.v1.parquet   \n",
       "4                   test_data/77.npz   \n",
       "...                              ...   \n",
       "2887  train_data/train_data/1410.npz   \n",
       "2888   train_data/train_data/184.npz   \n",
       "2889   train_data/train_data/190.npz   \n",
       "2890  train_data/train_data/1404.npz   \n",
       "2891  train_data/train_data/1362.npz   \n",
       "\n",
       "                                                   bbox       geometry  \\\n",
       "0     {'xmax': 0.0, 'xmin': 0.0, 'ymax': 0.0, 'ymin'...  POLYGON EMPTY   \n",
       "1     {'xmax': 0.0, 'xmin': 0.0, 'ymax': 0.0, 'ymin'...  POLYGON EMPTY   \n",
       "2     {'xmax': 0.0, 'xmin': 0.0, 'ymax': 0.0, 'ymin'...  POLYGON EMPTY   \n",
       "3     {'xmax': 0.0, 'xmin': 0.0, 'ymax': 0.0, 'ymin'...  POLYGON EMPTY   \n",
       "4     {'xmax': 0.0, 'xmin': 0.0, 'ymax': 0.0, 'ymin'...  POLYGON EMPTY   \n",
       "...                                                 ...            ...   \n",
       "2887  {'xmax': 0.0, 'xmin': 0.0, 'ymax': 0.0, 'ymin'...  POLYGON EMPTY   \n",
       "2888  {'xmax': 0.0, 'xmin': 0.0, 'ymax': 0.0, 'ymin'...  POLYGON EMPTY   \n",
       "2889  {'xmax': 0.0, 'xmin': 0.0, 'ymax': 0.0, 'ymin'...  POLYGON EMPTY   \n",
       "2890  {'xmax': 0.0, 'xmin': 0.0, 'ymax': 0.0, 'ymin'...  POLYGON EMPTY   \n",
       "2891  {'xmax': 0.0, 'xmin': 0.0, 'ymax': 0.0, 'ymin'...  POLYGON EMPTY   \n",
       "\n",
       "                                                 assets links repository  \n",
       "0     {'asset': {'checksum': 'a9d1a60e15beced36f24e7...    []      eotdl  \n",
       "1     {'asset': {'checksum': 'aa05385abe52ccd2eeffd9...    []      eotdl  \n",
       "2     {'asset': {'checksum': '28c813f9a0b62213548222...    []      eotdl  \n",
       "3     {'asset': {'checksum': 'c3038a3d6fa00ad3133779...    []      eotdl  \n",
       "4     {'asset': {'checksum': '743561ae45eab04e8418e3...    []      eotdl  \n",
       "...                                                 ...   ...        ...  \n",
       "2887  {'asset': {'checksum': 'ea5cd6770fe8a287255cac...    []      eotdl  \n",
       "2888  {'asset': {'checksum': '02557206016e4fe875da88...    []      eotdl  \n",
       "2889  {'asset': {'checksum': '7f3bd6e3be91a19c8cfa74...    []      eotdl  \n",
       "2890  {'asset': {'checksum': '247252e3d357cbed7a6453...    []      eotdl  \n",
       "2891  {'asset': {'checksum': 'd00134047f0b1004906bad...    []      eotdl  \n",
       "\n",
       "[2892 rows x 10 columns]"
      ]
     },
     "execution_count": 7,
     "metadata": {},
     "output_type": "execute_result"
    }
   ],
   "source": [
    "df = gpd.read_parquet(f\"kk/catalog.v2.parquet\")\n",
    "df"
   ]
  },
  {
   "cell_type": "code",
   "execution_count": 8,
   "metadata": {},
   "outputs": [
    {
     "data": {
      "text/plain": [
       "{'asset': {'checksum': 'db1a64b0b52e3693a09509e46cf6ed445ee031cc',\n",
       "  'href': 'https://api.eotdl.com/datasets/67d182a43926af70561e6d36/stage/test_data/819.npz',\n",
       "  'size': 3220482,\n",
       "  'timestamp': datetime.datetime(2025, 4, 2, 10, 34, 58, 522841)}}"
      ]
     },
     "execution_count": 8,
     "metadata": {},
     "output_type": "execute_result"
    }
   ],
   "source": [
    "df.assets.sample(1).iloc[0]"
   ]
  },
  {
   "cell_type": "code",
   "execution_count": 9,
   "metadata": {},
   "outputs": [
    {
     "data": {
      "text/plain": [
       "<minio.helpers.ObjectWriteResult at 0x150ae8320>"
      ]
     },
     "execution_count": 9,
     "metadata": {},
     "output_type": "execute_result"
    }
   ],
   "source": [
    "minio_client.fput_object(os.getenv('BUCKET'), \"67d182a43926af70561e6d36/catalog.v2.parquet\", f\"kk/catalog.v2.parquet\")"
   ]
  },
  {
   "cell_type": "code",
   "execution_count": 45,
   "metadata": {},
   "outputs": [
    {
     "data": {
      "text/plain": [
       "<minio.datatypes.Object at 0x12828c410>"
      ]
     },
     "execution_count": 45,
     "metadata": {},
     "output_type": "execute_result"
    }
   ],
   "source": [
    "minio_client.fget_object(os.getenv('BUCKET'), \"65f407248e68180349152973/catalog.v2.parquet\", f\"kk/backup.parquet\")"
   ]
  },
  {
   "cell_type": "code",
   "execution_count": 46,
   "metadata": {},
   "outputs": [
    {
     "data": {
      "text/html": [
       "<div>\n",
       "<style scoped>\n",
       "    .dataframe tbody tr th:only-of-type {\n",
       "        vertical-align: middle;\n",
       "    }\n",
       "\n",
       "    .dataframe tbody tr th {\n",
       "        vertical-align: top;\n",
       "    }\n",
       "\n",
       "    .dataframe thead th {\n",
       "        text-align: right;\n",
       "    }\n",
       "</style>\n",
       "<table border=\"1\" class=\"dataframe\">\n",
       "  <thead>\n",
       "    <tr style=\"text-align: right;\">\n",
       "      <th></th>\n",
       "      <th>type</th>\n",
       "      <th>stac_version</th>\n",
       "      <th>stac_extensions</th>\n",
       "      <th>datetime</th>\n",
       "      <th>id</th>\n",
       "      <th>bbox</th>\n",
       "      <th>geometry</th>\n",
       "      <th>assets</th>\n",
       "      <th>links</th>\n",
       "      <th>repository</th>\n",
       "    </tr>\n",
       "  </thead>\n",
       "  <tbody>\n",
       "    <tr>\n",
       "      <th>0</th>\n",
       "      <td>Feature</td>\n",
       "      <td>1.0.0</td>\n",
       "      <td>[]</td>\n",
       "      <td>2025-03-25 13:49:59.589565</td>\n",
       "      <td>model.onnx</td>\n",
       "      <td>{'xmax': 0.0, 'xmin': 0.0, 'ymax': 0.0, 'ymin'...</td>\n",
       "      <td>POLYGON EMPTY</td>\n",
       "      <td>{'asset': {'checksum': '99581a42cd56f66b1649f5...</td>\n",
       "      <td>[]</td>\n",
       "      <td>eotdl</td>\n",
       "    </tr>\n",
       "  </tbody>\n",
       "</table>\n",
       "</div>"
      ],
      "text/plain": [
       "      type stac_version stac_extensions                   datetime  \\\n",
       "0  Feature        1.0.0              [] 2025-03-25 13:49:59.589565   \n",
       "\n",
       "           id                                               bbox  \\\n",
       "0  model.onnx  {'xmax': 0.0, 'xmin': 0.0, 'ymax': 0.0, 'ymin'...   \n",
       "\n",
       "        geometry                                             assets links  \\\n",
       "0  POLYGON EMPTY  {'asset': {'checksum': '99581a42cd56f66b1649f5...    []   \n",
       "\n",
       "  repository  \n",
       "0      eotdl  "
      ]
     },
     "execution_count": 46,
     "metadata": {},
     "output_type": "execute_result"
    }
   ],
   "source": [
    "df = gpd.read_parquet(f\"kk/backup.parquet\")\n",
    "df"
   ]
  },
  {
   "cell_type": "code",
   "execution_count": 47,
   "metadata": {},
   "outputs": [
    {
     "data": {
      "text/plain": [
       "{'asset': {'checksum': '99581a42cd56f66b1649f5246663cea7633a1007',\n",
       "  'href': 'https://api.eotdl.com/models/65f407248e68180349152973/stage/model.onnx',\n",
       "  'size': 130011868,\n",
       "  'timestamp': '2024-05-30T17:14:39.987000'}}"
      ]
     },
     "execution_count": 47,
     "metadata": {},
     "output_type": "execute_result"
    }
   ],
   "source": [
    "df.assets.sample(1).iloc[0]"
   ]
  }
 ],
 "metadata": {
  "kernelspec": {
   "display_name": ".venv",
   "language": "python",
   "name": "python3"
  },
  "language_info": {
   "codemirror_mode": {
    "name": "ipython",
    "version": 3
   },
   "file_extension": ".py",
   "mimetype": "text/x-python",
   "name": "python",
   "nbconvert_exporter": "python",
   "pygments_lexer": "ipython3",
   "version": "3.12.9"
  }
 },
 "nbformat": 4,
 "nbformat_minor": 2
}
