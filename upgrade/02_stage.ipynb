{
 "cells": [
  {
   "cell_type": "code",
   "execution_count": 1,
   "metadata": {},
   "outputs": [],
   "source": [
    "%load_ext autoreload\n",
    "%autoreload 2\n",
    "\n",
    "import os\n",
    "os.environ[\"EOTDL_API_URL\"] = \"http://localhost:8000/\""
   ]
  },
  {
   "cell_type": "markdown",
   "metadata": {},
   "source": [
    "When staging a dataset, the metadata is first staged.\n",
    "\n",
    "Users can retreive assets individually afterwards."
   ]
  },
  {
   "cell_type": "code",
   "execution_count": 2,
   "metadata": {},
   "outputs": [
    {
     "data": {
      "text/plain": [
       "['Test-links', 'EuroSAT-small', 'EuroSAT-RGB-small', 'EuroSAT-RGB']"
      ]
     },
     "execution_count": 2,
     "metadata": {},
     "output_type": "execute_result"
    }
   ],
   "source": [
    "from eotdl.datasets import retrieve_datasets\n",
    "\n",
    "retrieve_datasets()"
   ]
  },
  {
   "cell_type": "code",
   "execution_count": 3,
   "metadata": {},
   "outputs": [
    {
     "data": {
      "text/plain": [
       "'/home/juan/.cache/eotdl/datasets/EuroSAT-RGB-small'"
      ]
     },
     "execution_count": 3,
     "metadata": {},
     "output_type": "execute_result"
    }
   ],
   "source": [
    "from eotdl.datasets import stage_dataset\n",
    "\n",
    "stage_dataset(\"EuroSAT-RGB-small\", force=True)"
   ]
  },
  {
   "cell_type": "code",
   "execution_count": 4,
   "metadata": {},
   "outputs": [
    {
     "data": {
      "text/plain": [
       "['Industrial',\n",
       " 'Forest',\n",
       " 'HerbaceousVegetation',\n",
       " 'PermanentCrop',\n",
       " 'Highway',\n",
       " 'catalog.parquet',\n",
       " 'Residential',\n",
       " 'README.md',\n",
       " 'SeaLake',\n",
       " 'River',\n",
       " 'AnnualCrop',\n",
       " 'Pasture']"
      ]
     },
     "execution_count": 4,
     "metadata": {},
     "output_type": "execute_result"
    }
   ],
   "source": [
    "os.listdir(os.path.expanduser('~/.cache/eotdl/datasets/EuroSAT-RGB-small'))"
   ]
  },
  {
   "cell_type": "code",
   "execution_count": 5,
   "metadata": {},
   "outputs": [
    {
     "data": {
      "text/html": [
       "<div>\n",
       "<style scoped>\n",
       "    .dataframe tbody tr th:only-of-type {\n",
       "        vertical-align: middle;\n",
       "    }\n",
       "\n",
       "    .dataframe tbody tr th {\n",
       "        vertical-align: top;\n",
       "    }\n",
       "\n",
       "    .dataframe thead th {\n",
       "        text-align: right;\n",
       "    }\n",
       "</style>\n",
       "<table border=\"1\" class=\"dataframe\">\n",
       "  <thead>\n",
       "    <tr style=\"text-align: right;\">\n",
       "      <th></th>\n",
       "      <th>stac_extensions</th>\n",
       "      <th>id</th>\n",
       "      <th>bbox</th>\n",
       "      <th>geometry</th>\n",
       "      <th>assets</th>\n",
       "      <th>links</th>\n",
       "      <th>collection</th>\n",
       "      <th>abc</th>\n",
       "      <th>123</th>\n",
       "    </tr>\n",
       "  </thead>\n",
       "  <tbody>\n",
       "    <tr>\n",
       "      <th>0</th>\n",
       "      <td>[]</td>\n",
       "      <td>catalog.parquet</td>\n",
       "      <td>{'xmax': 0.0, 'xmin': 0.0, 'ymax': 0.0, 'ymin'...</td>\n",
       "      <td>POLYGON EMPTY</td>\n",
       "      <td>[{'href': 'http://localhost:8000/datasets/67a3...</td>\n",
       "      <td>[]</td>\n",
       "      <td>EuroSAT-RGB-small</td>\n",
       "      <td>[]</td>\n",
       "      <td>{'asfhjk': [1, 2, 3]}</td>\n",
       "    </tr>\n",
       "    <tr>\n",
       "      <th>1</th>\n",
       "      <td>[]</td>\n",
       "      <td>README.md</td>\n",
       "      <td>{'xmax': 0.0, 'xmin': 0.0, 'ymax': 0.0, 'ymin'...</td>\n",
       "      <td>POLYGON EMPTY</td>\n",
       "      <td>[{'href': 'http://localhost:8000/datasets/67a3...</td>\n",
       "      <td>[]</td>\n",
       "      <td>EuroSAT-RGB-small</td>\n",
       "      <td>[]</td>\n",
       "      <td>{'asfhjk': [1, 2, 3]}</td>\n",
       "    </tr>\n",
       "    <tr>\n",
       "      <th>2</th>\n",
       "      <td>[]</td>\n",
       "      <td>Industrial/Industrial_1743.jpg</td>\n",
       "      <td>{'xmax': 0.0, 'xmin': 0.0, 'ymax': 0.0, 'ymin'...</td>\n",
       "      <td>POLYGON EMPTY</td>\n",
       "      <td>[{'href': 'http://localhost:8000/datasets/67a3...</td>\n",
       "      <td>[]</td>\n",
       "      <td>EuroSAT-RGB-small</td>\n",
       "      <td>[]</td>\n",
       "      <td>{'asfhjk': [1, 2, 3]}</td>\n",
       "    </tr>\n",
       "    <tr>\n",
       "      <th>3</th>\n",
       "      <td>[]</td>\n",
       "      <td>Industrial/Industrial_1273.jpg</td>\n",
       "      <td>{'xmax': 0.0, 'xmin': 0.0, 'ymax': 0.0, 'ymin'...</td>\n",
       "      <td>POLYGON EMPTY</td>\n",
       "      <td>[{'href': 'http://localhost:8000/datasets/67a3...</td>\n",
       "      <td>[]</td>\n",
       "      <td>EuroSAT-RGB-small</td>\n",
       "      <td>[]</td>\n",
       "      <td>{'asfhjk': [1, 2, 3]}</td>\n",
       "    </tr>\n",
       "    <tr>\n",
       "      <th>4</th>\n",
       "      <td>[]</td>\n",
       "      <td>Industrial/Industrial_1117.jpg</td>\n",
       "      <td>{'xmax': 0.0, 'xmin': 0.0, 'ymax': 0.0, 'ymin'...</td>\n",
       "      <td>POLYGON EMPTY</td>\n",
       "      <td>[{'href': 'http://localhost:8000/datasets/67a3...</td>\n",
       "      <td>[]</td>\n",
       "      <td>EuroSAT-RGB-small</td>\n",
       "      <td>[]</td>\n",
       "      <td>{'asfhjk': [1, 2, 3]}</td>\n",
       "    </tr>\n",
       "  </tbody>\n",
       "</table>\n",
       "</div>"
      ],
      "text/plain": [
       "  stac_extensions                              id  \\\n",
       "0              []                 catalog.parquet   \n",
       "1              []                       README.md   \n",
       "2              []  Industrial/Industrial_1743.jpg   \n",
       "3              []  Industrial/Industrial_1273.jpg   \n",
       "4              []  Industrial/Industrial_1117.jpg   \n",
       "\n",
       "                                                bbox       geometry  \\\n",
       "0  {'xmax': 0.0, 'xmin': 0.0, 'ymax': 0.0, 'ymin'...  POLYGON EMPTY   \n",
       "1  {'xmax': 0.0, 'xmin': 0.0, 'ymax': 0.0, 'ymin'...  POLYGON EMPTY   \n",
       "2  {'xmax': 0.0, 'xmin': 0.0, 'ymax': 0.0, 'ymin'...  POLYGON EMPTY   \n",
       "3  {'xmax': 0.0, 'xmin': 0.0, 'ymax': 0.0, 'ymin'...  POLYGON EMPTY   \n",
       "4  {'xmax': 0.0, 'xmin': 0.0, 'ymax': 0.0, 'ymin'...  POLYGON EMPTY   \n",
       "\n",
       "                                              assets links         collection  \\\n",
       "0  [{'href': 'http://localhost:8000/datasets/67a3...    []  EuroSAT-RGB-small   \n",
       "1  [{'href': 'http://localhost:8000/datasets/67a3...    []  EuroSAT-RGB-small   \n",
       "2  [{'href': 'http://localhost:8000/datasets/67a3...    []  EuroSAT-RGB-small   \n",
       "3  [{'href': 'http://localhost:8000/datasets/67a3...    []  EuroSAT-RGB-small   \n",
       "4  [{'href': 'http://localhost:8000/datasets/67a3...    []  EuroSAT-RGB-small   \n",
       "\n",
       "  abc                    123  \n",
       "0  []  {'asfhjk': [1, 2, 3]}  \n",
       "1  []  {'asfhjk': [1, 2, 3]}  \n",
       "2  []  {'asfhjk': [1, 2, 3]}  \n",
       "3  []  {'asfhjk': [1, 2, 3]}  \n",
       "4  []  {'asfhjk': [1, 2, 3]}  "
      ]
     },
     "execution_count": 5,
     "metadata": {},
     "output_type": "execute_result"
    }
   ],
   "source": [
    "import geopandas as gpd\n",
    "\n",
    "gdf = gpd.read_parquet(\"~/.cache/eotdl/datasets/EuroSAT-RGB-small/catalog.parquet\")\n",
    "gdf.head()"
   ]
  },
  {
   "cell_type": "code",
   "execution_count": 6,
   "metadata": {},
   "outputs": [
    {
     "name": "stdout",
     "output_type": "stream",
     "text": [
      "data/outputs/Industrial/Industrial_1273.jpg\n",
      "data/outputs/catalog.parquet\n",
      "data/outputs/AnnualCrop/AnnualCrop_2942.jpg\n"
     ]
    }
   ],
   "source": [
    "from eotdl.datasets import stage_dataset_file\n",
    "\n",
    "for _, row in gdf.sample(3).iterrows():\n",
    "    assets = row['assets']\n",
    "    for asset in assets:\n",
    "        # print(asset['href'])\n",
    "        path = stage_dataset_file(asset['href'], \"data/outputs\")\n",
    "        print(path)\n",
    "\t# stage_dataset_file(row[\"id\"], row[\"assets\"][0][\"href\"], user)\n"
   ]
  },
  {
   "cell_type": "markdown",
   "metadata": {},
   "source": [
    "Or stage everything at once"
   ]
  },
  {
   "cell_type": "code",
   "execution_count": 7,
   "metadata": {},
   "outputs": [
    {
     "name": "stderr",
     "output_type": "stream",
     "text": [
      "Staging assets: 100%|██████████| 102/102 [00:00<00:00, 102.83it/s]\n"
     ]
    },
    {
     "data": {
      "text/plain": [
       "'/home/juan/.cache/eotdl/datasets/EuroSAT-RGB-small'"
      ]
     },
     "execution_count": 7,
     "metadata": {},
     "output_type": "execute_result"
    }
   ],
   "source": [
    "from eotdl.datasets import stage_dataset\n",
    "\n",
    "dst_path = stage_dataset(\"EuroSAT-RGB-small\", assets=True, force=True)\n",
    "dst_path"
   ]
  },
  {
   "cell_type": "code",
   "execution_count": null,
   "metadata": {},
   "outputs": [
    {
     "data": {
      "text/plain": [
       "(100,\n",
       " ['/home/juan/.cache/eotdl/datasets/EuroSAT-RGB-small/Industrial/Industrial_1743.jpg',\n",
       "  '/home/juan/.cache/eotdl/datasets/EuroSAT-RGB-small/Industrial/Industrial_1273.jpg',\n",
       "  '/home/juan/.cache/eotdl/datasets/EuroSAT-RGB-small/Industrial/Industrial_1117.jpg',\n",
       "  '/home/juan/.cache/eotdl/datasets/EuroSAT-RGB-small/Industrial/Industrial_1121.jpg',\n",
       "  '/home/juan/.cache/eotdl/datasets/EuroSAT-RGB-small/Industrial/Industrial_1641.jpg',\n",
       "  '/home/juan/.cache/eotdl/datasets/EuroSAT-RGB-small/Industrial/Industrial_259.jpg',\n",
       "  '/home/juan/.cache/eotdl/datasets/EuroSAT-RGB-small/Industrial/Industrial_435.jpg',\n",
       "  '/home/juan/.cache/eotdl/datasets/EuroSAT-RGB-small/Industrial/Industrial_674.jpg',\n",
       "  '/home/juan/.cache/eotdl/datasets/EuroSAT-RGB-small/Industrial/Industrial_905.jpg',\n",
       "  '/home/juan/.cache/eotdl/datasets/EuroSAT-RGB-small/Industrial/Industrial_238.jpg'])"
      ]
     },
     "execution_count": 8,
     "metadata": {},
     "output_type": "execute_result"
    }
   ],
   "source": [
    "from glob import glob\n",
    "\n",
    "files = glob(str(dst_path) + '/**/*.jpg', recursive=True)\n",
    "len(files), files[:10]"
   ]
  },
  {
   "cell_type": "markdown",
   "metadata": {},
   "source": [
    "Staging virutal dataset"
   ]
  },
  {
   "cell_type": "code",
   "execution_count": 9,
   "metadata": {},
   "outputs": [
    {
     "data": {
      "text/plain": [
       "'/home/juan/.cache/eotdl/datasets/Test-links'"
      ]
     },
     "execution_count": 9,
     "metadata": {},
     "output_type": "execute_result"
    }
   ],
   "source": [
    "dst_path = stage_dataset(\"Test-links\", force=True)\n",
    "dst_path"
   ]
  },
  {
   "cell_type": "code",
   "execution_count": 10,
   "metadata": {},
   "outputs": [
    {
     "data": {
      "text/html": [
       "<div>\n",
       "<style scoped>\n",
       "    .dataframe tbody tr th:only-of-type {\n",
       "        vertical-align: middle;\n",
       "    }\n",
       "\n",
       "    .dataframe tbody tr th {\n",
       "        vertical-align: top;\n",
       "    }\n",
       "\n",
       "    .dataframe thead th {\n",
       "        text-align: right;\n",
       "    }\n",
       "</style>\n",
       "<table border=\"1\" class=\"dataframe\">\n",
       "  <thead>\n",
       "    <tr style=\"text-align: right;\">\n",
       "      <th></th>\n",
       "      <th>stac_extensions</th>\n",
       "      <th>id</th>\n",
       "      <th>bbox</th>\n",
       "      <th>geometry</th>\n",
       "      <th>assets</th>\n",
       "      <th>links</th>\n",
       "      <th>collection</th>\n",
       "      <th>abc</th>\n",
       "      <th>123</th>\n",
       "    </tr>\n",
       "  </thead>\n",
       "  <tbody>\n",
       "    <tr>\n",
       "      <th>0</th>\n",
       "      <td>[]</td>\n",
       "      <td>https://link1.com</td>\n",
       "      <td>{'xmax': 0.0, 'xmin': 0.0, 'ymax': 0.0, 'ymin'...</td>\n",
       "      <td>POLYGON EMPTY</td>\n",
       "      <td>[{'href': 'https://link1.com'}]</td>\n",
       "      <td>[]</td>\n",
       "      <td>Test-links</td>\n",
       "      <td>[]</td>\n",
       "      <td>{'asfhjk': [1, 2, 3]}</td>\n",
       "    </tr>\n",
       "    <tr>\n",
       "      <th>1</th>\n",
       "      <td>[]</td>\n",
       "      <td>https://link2.com</td>\n",
       "      <td>{'xmax': 0.0, 'xmin': 0.0, 'ymax': 0.0, 'ymin'...</td>\n",
       "      <td>POLYGON EMPTY</td>\n",
       "      <td>[{'href': 'https://link2.com'}]</td>\n",
       "      <td>[]</td>\n",
       "      <td>Test-links</td>\n",
       "      <td>[]</td>\n",
       "      <td>{'asfhjk': [1, 2, 3]}</td>\n",
       "    </tr>\n",
       "    <tr>\n",
       "      <th>2</th>\n",
       "      <td>[]</td>\n",
       "      <td>https://link3.com</td>\n",
       "      <td>{'xmax': 0.0, 'xmin': 0.0, 'ymax': 0.0, 'ymin'...</td>\n",
       "      <td>POLYGON EMPTY</td>\n",
       "      <td>[{'href': 'https://link3.com'}]</td>\n",
       "      <td>[]</td>\n",
       "      <td>Test-links</td>\n",
       "      <td>[]</td>\n",
       "      <td>{'asfhjk': [1, 2, 3]}</td>\n",
       "    </tr>\n",
       "  </tbody>\n",
       "</table>\n",
       "</div>"
      ],
      "text/plain": [
       "  stac_extensions                 id  \\\n",
       "0              []  https://link1.com   \n",
       "1              []  https://link2.com   \n",
       "2              []  https://link3.com   \n",
       "\n",
       "                                                bbox       geometry  \\\n",
       "0  {'xmax': 0.0, 'xmin': 0.0, 'ymax': 0.0, 'ymin'...  POLYGON EMPTY   \n",
       "1  {'xmax': 0.0, 'xmin': 0.0, 'ymax': 0.0, 'ymin'...  POLYGON EMPTY   \n",
       "2  {'xmax': 0.0, 'xmin': 0.0, 'ymax': 0.0, 'ymin'...  POLYGON EMPTY   \n",
       "\n",
       "                            assets links  collection abc  \\\n",
       "0  [{'href': 'https://link1.com'}]    []  Test-links  []   \n",
       "1  [{'href': 'https://link2.com'}]    []  Test-links  []   \n",
       "2  [{'href': 'https://link3.com'}]    []  Test-links  []   \n",
       "\n",
       "                     123  \n",
       "0  {'asfhjk': [1, 2, 3]}  \n",
       "1  {'asfhjk': [1, 2, 3]}  \n",
       "2  {'asfhjk': [1, 2, 3]}  "
      ]
     },
     "execution_count": 10,
     "metadata": {},
     "output_type": "execute_result"
    }
   ],
   "source": [
    "gdf = gpd.read_parquet(f\"{dst_path}/catalog.parquet\")\n",
    "gdf.head()"
   ]
  },
  {
   "cell_type": "code",
   "execution_count": 11,
   "metadata": {},
   "outputs": [
    {
     "name": "stderr",
     "output_type": "stream",
     "text": [
      "Staging assets:   0%|          | 0/3 [00:00<?, ?it/s]"
     ]
    },
    {
     "name": "stderr",
     "output_type": "stream",
     "text": [
      "Staging assets: 100%|██████████| 3/3 [00:01<00:00,  1.93it/s]\n"
     ]
    },
    {
     "data": {
      "text/plain": [
       "'/home/juan/.cache/eotdl/datasets/Test-links'"
      ]
     },
     "execution_count": 11,
     "metadata": {},
     "output_type": "execute_result"
    }
   ],
   "source": [
    "dst_path = stage_dataset(\"Test-links\", assets=True, force=True)\n",
    "dst_path"
   ]
  }
 ],
 "metadata": {
  "kernelspec": {
   "display_name": ".venv",
   "language": "python",
   "name": "python3"
  },
  "language_info": {
   "codemirror_mode": {
    "name": "ipython",
    "version": 3
   },
   "file_extension": ".py",
   "mimetype": "text/x-python",
   "name": "python",
   "nbconvert_exporter": "python",
   "pygments_lexer": "ipython3",
   "version": "3.12.8"
  }
 },
 "nbformat": 4,
 "nbformat_minor": 2
}
