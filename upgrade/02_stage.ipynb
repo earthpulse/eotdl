{
 "cells": [
  {
   "cell_type": "code",
   "execution_count": 13,
   "metadata": {},
   "outputs": [
    {
     "name": "stdout",
     "output_type": "stream",
     "text": [
      "The autoreload extension is already loaded. To reload it, use:\n",
      "  %reload_ext autoreload\n"
     ]
    }
   ],
   "source": [
    "%load_ext autoreload\n",
    "%autoreload 2\n",
    "\n",
    "import os\n",
    "os.environ[\"EOTDL_API_URL\"] = \"http://localhost:8000/\""
   ]
  },
  {
   "cell_type": "markdown",
   "metadata": {},
   "source": [
    "When staging a dataset, the metadata is first staged.\n",
    "\n",
    "Users can retreive assets individually afterwards."
   ]
  },
  {
   "cell_type": "code",
   "execution_count": 14,
   "metadata": {},
   "outputs": [
    {
     "data": {
      "text/plain": [
       "['EuroSAT-RGB-small']"
      ]
     },
     "execution_count": 14,
     "metadata": {},
     "output_type": "execute_result"
    }
   ],
   "source": [
    "from eotdl.datasets import retrieve_datasets\n",
    "\n",
    "retrieve_datasets()"
   ]
  },
  {
   "cell_type": "code",
   "execution_count": 15,
   "metadata": {},
   "outputs": [
    {
     "data": {
      "text/plain": [
       "'/home/juan/.cache/eotdl/datasets/EuroSAT-RGB-small'"
      ]
     },
     "execution_count": 15,
     "metadata": {},
     "output_type": "execute_result"
    }
   ],
   "source": [
    "from eotdl.datasets import stage_dataset\n",
    "\n",
    "stage_dataset(\"EuroSAT-RGB-small\", version=2, force=True)"
   ]
  },
  {
   "cell_type": "code",
   "execution_count": 16,
   "metadata": {},
   "outputs": [
    {
     "data": {
      "text/plain": [
       "['catalog.v2.parquet']"
      ]
     },
     "execution_count": 16,
     "metadata": {},
     "output_type": "execute_result"
    }
   ],
   "source": [
    "os.listdir(os.path.expanduser('~/.cache/eotdl/datasets/EuroSAT-RGB-small'))"
   ]
  },
  {
   "cell_type": "code",
   "execution_count": 17,
   "metadata": {},
   "outputs": [
    {
     "data": {
      "text/html": [
       "<div>\n",
       "<style scoped>\n",
       "    .dataframe tbody tr th:only-of-type {\n",
       "        vertical-align: middle;\n",
       "    }\n",
       "\n",
       "    .dataframe tbody tr th {\n",
       "        vertical-align: top;\n",
       "    }\n",
       "\n",
       "    .dataframe thead th {\n",
       "        text-align: right;\n",
       "    }\n",
       "</style>\n",
       "<table border=\"1\" class=\"dataframe\">\n",
       "  <thead>\n",
       "    <tr style=\"text-align: right;\">\n",
       "      <th></th>\n",
       "      <th>type</th>\n",
       "      <th>stac_version</th>\n",
       "      <th>stac_extensions</th>\n",
       "      <th>datetime</th>\n",
       "      <th>id</th>\n",
       "      <th>bbox</th>\n",
       "      <th>geometry</th>\n",
       "      <th>assets</th>\n",
       "      <th>links</th>\n",
       "      <th>repository</th>\n",
       "    </tr>\n",
       "  </thead>\n",
       "  <tbody>\n",
       "    <tr>\n",
       "      <th>0</th>\n",
       "      <td>Feature</td>\n",
       "      <td>1.0.0</td>\n",
       "      <td>[]</td>\n",
       "      <td>2025-02-06 14:42:04.051302</td>\n",
       "      <td>test.txt</td>\n",
       "      <td>{'xmax': 0.0, 'xmin': 0.0, 'ymax': 0.0, 'ymin'...</td>\n",
       "      <td>POLYGON EMPTY</td>\n",
       "      <td>{'asset': {'checksum': '3da541559918a808c2402b...</td>\n",
       "      <td>[]</td>\n",
       "      <td>eotdl</td>\n",
       "    </tr>\n",
       "    <tr>\n",
       "      <th>1</th>\n",
       "      <td>Feature</td>\n",
       "      <td>1.0.0</td>\n",
       "      <td>[]</td>\n",
       "      <td>2025-02-06 14:42:04.051459</td>\n",
       "      <td>README.md-781854</td>\n",
       "      <td>{'xmax': 0.0, 'xmin': 0.0, 'ymax': 0.0, 'ymin'...</td>\n",
       "      <td>POLYGON EMPTY</td>\n",
       "      <td>{'asset': {'checksum': 'ca77bb578863ff62c1343b...</td>\n",
       "      <td>[]</td>\n",
       "      <td>eotdl</td>\n",
       "    </tr>\n",
       "    <tr>\n",
       "      <th>2</th>\n",
       "      <td>Feature</td>\n",
       "      <td>1.0.0</td>\n",
       "      <td>[]</td>\n",
       "      <td>2025-02-06 14:42:04.051546</td>\n",
       "      <td>Industrial/Industrial_1743.jpg</td>\n",
       "      <td>{'xmax': 0.0, 'xmin': 0.0, 'ymax': 0.0, 'ymin'...</td>\n",
       "      <td>POLYGON EMPTY</td>\n",
       "      <td>{'asset': {'checksum': '582fb1e054885a609c1e25...</td>\n",
       "      <td>[]</td>\n",
       "      <td>eotdl</td>\n",
       "    </tr>\n",
       "    <tr>\n",
       "      <th>3</th>\n",
       "      <td>Feature</td>\n",
       "      <td>1.0.0</td>\n",
       "      <td>[]</td>\n",
       "      <td>2025-02-06 14:42:04.051608</td>\n",
       "      <td>Industrial/Industrial_1273.jpg</td>\n",
       "      <td>{'xmax': 0.0, 'xmin': 0.0, 'ymax': 0.0, 'ymin'...</td>\n",
       "      <td>POLYGON EMPTY</td>\n",
       "      <td>{'asset': {'checksum': '2d267caf0ef060780fec89...</td>\n",
       "      <td>[]</td>\n",
       "      <td>eotdl</td>\n",
       "    </tr>\n",
       "    <tr>\n",
       "      <th>4</th>\n",
       "      <td>Feature</td>\n",
       "      <td>1.0.0</td>\n",
       "      <td>[]</td>\n",
       "      <td>2025-02-06 14:42:04.051665</td>\n",
       "      <td>Industrial/Industrial_1117.jpg</td>\n",
       "      <td>{'xmax': 0.0, 'xmin': 0.0, 'ymax': 0.0, 'ymin'...</td>\n",
       "      <td>POLYGON EMPTY</td>\n",
       "      <td>{'asset': {'checksum': '0204dd4a3296ea8be3b388...</td>\n",
       "      <td>[]</td>\n",
       "      <td>eotdl</td>\n",
       "    </tr>\n",
       "  </tbody>\n",
       "</table>\n",
       "</div>"
      ],
      "text/plain": [
       "      type stac_version stac_extensions                   datetime  \\\n",
       "0  Feature        1.0.0              [] 2025-02-06 14:42:04.051302   \n",
       "1  Feature        1.0.0              [] 2025-02-06 14:42:04.051459   \n",
       "2  Feature        1.0.0              [] 2025-02-06 14:42:04.051546   \n",
       "3  Feature        1.0.0              [] 2025-02-06 14:42:04.051608   \n",
       "4  Feature        1.0.0              [] 2025-02-06 14:42:04.051665   \n",
       "\n",
       "                               id  \\\n",
       "0                        test.txt   \n",
       "1                README.md-781854   \n",
       "2  Industrial/Industrial_1743.jpg   \n",
       "3  Industrial/Industrial_1273.jpg   \n",
       "4  Industrial/Industrial_1117.jpg   \n",
       "\n",
       "                                                bbox       geometry  \\\n",
       "0  {'xmax': 0.0, 'xmin': 0.0, 'ymax': 0.0, 'ymin'...  POLYGON EMPTY   \n",
       "1  {'xmax': 0.0, 'xmin': 0.0, 'ymax': 0.0, 'ymin'...  POLYGON EMPTY   \n",
       "2  {'xmax': 0.0, 'xmin': 0.0, 'ymax': 0.0, 'ymin'...  POLYGON EMPTY   \n",
       "3  {'xmax': 0.0, 'xmin': 0.0, 'ymax': 0.0, 'ymin'...  POLYGON EMPTY   \n",
       "4  {'xmax': 0.0, 'xmin': 0.0, 'ymax': 0.0, 'ymin'...  POLYGON EMPTY   \n",
       "\n",
       "                                              assets links repository  \n",
       "0  {'asset': {'checksum': '3da541559918a808c2402b...    []      eotdl  \n",
       "1  {'asset': {'checksum': 'ca77bb578863ff62c1343b...    []      eotdl  \n",
       "2  {'asset': {'checksum': '582fb1e054885a609c1e25...    []      eotdl  \n",
       "3  {'asset': {'checksum': '2d267caf0ef060780fec89...    []      eotdl  \n",
       "4  {'asset': {'checksum': '0204dd4a3296ea8be3b388...    []      eotdl  "
      ]
     },
     "execution_count": 17,
     "metadata": {},
     "output_type": "execute_result"
    }
   ],
   "source": [
    "import geopandas as gpd\n",
    "\n",
    "gdf = gpd.read_parquet(\"~/.cache/eotdl/datasets/EuroSAT-RGB-small/catalog.v2.parquet\")\n",
    "gdf.head()"
   ]
  },
  {
   "cell_type": "code",
   "execution_count": 23,
   "metadata": {},
   "outputs": [
    {
     "data": {
      "text/plain": [
       "{'asset': {'checksum': 'ca77bb578863ff62c1343bc8df6aadee9ee559ec',\n",
       "  'href': 'http://localhost:8000/datasets/67a4a528bf61748ac9d2cea4/stage/README.md-781854',\n",
       "  'timestamp': datetime.datetime(2025, 2, 6, 14, 42, 4, 51489)}}"
      ]
     },
     "execution_count": 23,
     "metadata": {},
     "output_type": "execute_result"
    }
   ],
   "source": [
    "gdf.assets[1]"
   ]
  },
  {
   "cell_type": "code",
   "execution_count": 19,
   "metadata": {},
   "outputs": [
    {
     "name": "stdout",
     "output_type": "stream",
     "text": [
      "data/outputs/AnnualCrop/AnnualCrop_1142.jpg\n",
      "data/outputs/PermanentCrop/PermanentCrop_1470.jpg\n",
      "data/outputs/Forest/Forest_841.jpg\n"
     ]
    }
   ],
   "source": [
    "from eotdl.datasets import stage_dataset_file\n",
    "\n",
    "for _, row in gdf.sample(3).iterrows():\n",
    "    for k, v in row['assets'].items():\n",
    "        # print(asset['href'])\n",
    "        path = stage_dataset_file(v['href'], \"data/outputs\")\n",
    "        print(path)\n",
    "\t# stage_dataset_file(row[\"id\"], row[\"assets\"][0][\"href\"], user)\n"
   ]
  },
  {
   "cell_type": "markdown",
   "metadata": {},
   "source": [
    "Or stage everything at once"
   ]
  },
  {
   "cell_type": "code",
   "execution_count": 26,
   "metadata": {},
   "outputs": [],
   "source": [
    "!rm -rf data/outputs/*"
   ]
  },
  {
   "cell_type": "code",
   "execution_count": 27,
   "metadata": {},
   "outputs": [
    {
     "name": "stderr",
     "output_type": "stream",
     "text": [
      "Staging assets: 100%|██████████| 102/102 [00:01<00:00, 91.88it/s]\n"
     ]
    },
    {
     "data": {
      "text/plain": [
       "'data/outputs/EuroSAT-RGB-small'"
      ]
     },
     "execution_count": 27,
     "metadata": {},
     "output_type": "execute_result"
    }
   ],
   "source": [
    "from eotdl.datasets import stage_dataset\n",
    "\n",
    "dst_path = stage_dataset(\"EuroSAT-RGB-small\", path=\"data/outputs\", assets=True, version=2, force=True)\n",
    "dst_path"
   ]
  },
  {
   "cell_type": "code",
   "execution_count": 28,
   "metadata": {},
   "outputs": [
    {
     "data": {
      "text/plain": [
       "(100,\n",
       " ['data/outputs/EuroSAT-RGB-small/Industrial/Industrial_1743.jpg',\n",
       "  'data/outputs/EuroSAT-RGB-small/Industrial/Industrial_1273.jpg',\n",
       "  'data/outputs/EuroSAT-RGB-small/Industrial/Industrial_1117.jpg',\n",
       "  'data/outputs/EuroSAT-RGB-small/Industrial/Industrial_1121.jpg',\n",
       "  'data/outputs/EuroSAT-RGB-small/Industrial/Industrial_1641.jpg',\n",
       "  'data/outputs/EuroSAT-RGB-small/Industrial/Industrial_259.jpg',\n",
       "  'data/outputs/EuroSAT-RGB-small/Industrial/Industrial_435.jpg',\n",
       "  'data/outputs/EuroSAT-RGB-small/Industrial/Industrial_674.jpg',\n",
       "  'data/outputs/EuroSAT-RGB-small/Industrial/Industrial_905.jpg',\n",
       "  'data/outputs/EuroSAT-RGB-small/Industrial/Industrial_238.jpg'])"
      ]
     },
     "execution_count": 28,
     "metadata": {},
     "output_type": "execute_result"
    }
   ],
   "source": [
    "from glob import glob\n",
    "\n",
    "files = glob(str(dst_path) + '/**/*.jpg', recursive=True)\n",
    "len(files), files[:10]"
   ]
  },
  {
   "cell_type": "markdown",
   "metadata": {},
   "source": [
    "Staging virutal dataset"
   ]
  },
  {
   "cell_type": "code",
   "execution_count": 9,
   "metadata": {},
   "outputs": [
    {
     "data": {
      "text/plain": [
       "'/home/juan/.cache/eotdl/datasets/Test-links'"
      ]
     },
     "execution_count": 9,
     "metadata": {},
     "output_type": "execute_result"
    }
   ],
   "source": [
    "dst_path = stage_dataset(\"Test-links\", force=True)\n",
    "dst_path"
   ]
  },
  {
   "cell_type": "code",
   "execution_count": 10,
   "metadata": {},
   "outputs": [
    {
     "data": {
      "text/html": [
       "<div>\n",
       "<style scoped>\n",
       "    .dataframe tbody tr th:only-of-type {\n",
       "        vertical-align: middle;\n",
       "    }\n",
       "\n",
       "    .dataframe tbody tr th {\n",
       "        vertical-align: top;\n",
       "    }\n",
       "\n",
       "    .dataframe thead th {\n",
       "        text-align: right;\n",
       "    }\n",
       "</style>\n",
       "<table border=\"1\" class=\"dataframe\">\n",
       "  <thead>\n",
       "    <tr style=\"text-align: right;\">\n",
       "      <th></th>\n",
       "      <th>stac_extensions</th>\n",
       "      <th>id</th>\n",
       "      <th>bbox</th>\n",
       "      <th>geometry</th>\n",
       "      <th>assets</th>\n",
       "      <th>links</th>\n",
       "      <th>collection</th>\n",
       "      <th>abc</th>\n",
       "      <th>123</th>\n",
       "    </tr>\n",
       "  </thead>\n",
       "  <tbody>\n",
       "    <tr>\n",
       "      <th>0</th>\n",
       "      <td>[]</td>\n",
       "      <td>https://link1.com</td>\n",
       "      <td>{'xmax': 0.0, 'xmin': 0.0, 'ymax': 0.0, 'ymin'...</td>\n",
       "      <td>POLYGON EMPTY</td>\n",
       "      <td>[{'href': 'https://link1.com'}]</td>\n",
       "      <td>[]</td>\n",
       "      <td>Test-links</td>\n",
       "      <td>[]</td>\n",
       "      <td>{'asfhjk': [1, 2, 3]}</td>\n",
       "    </tr>\n",
       "    <tr>\n",
       "      <th>1</th>\n",
       "      <td>[]</td>\n",
       "      <td>https://link2.com</td>\n",
       "      <td>{'xmax': 0.0, 'xmin': 0.0, 'ymax': 0.0, 'ymin'...</td>\n",
       "      <td>POLYGON EMPTY</td>\n",
       "      <td>[{'href': 'https://link2.com'}]</td>\n",
       "      <td>[]</td>\n",
       "      <td>Test-links</td>\n",
       "      <td>[]</td>\n",
       "      <td>{'asfhjk': [1, 2, 3]}</td>\n",
       "    </tr>\n",
       "    <tr>\n",
       "      <th>2</th>\n",
       "      <td>[]</td>\n",
       "      <td>https://link3.com</td>\n",
       "      <td>{'xmax': 0.0, 'xmin': 0.0, 'ymax': 0.0, 'ymin'...</td>\n",
       "      <td>POLYGON EMPTY</td>\n",
       "      <td>[{'href': 'https://link3.com'}]</td>\n",
       "      <td>[]</td>\n",
       "      <td>Test-links</td>\n",
       "      <td>[]</td>\n",
       "      <td>{'asfhjk': [1, 2, 3]}</td>\n",
       "    </tr>\n",
       "  </tbody>\n",
       "</table>\n",
       "</div>"
      ],
      "text/plain": [
       "  stac_extensions                 id  \\\n",
       "0              []  https://link1.com   \n",
       "1              []  https://link2.com   \n",
       "2              []  https://link3.com   \n",
       "\n",
       "                                                bbox       geometry  \\\n",
       "0  {'xmax': 0.0, 'xmin': 0.0, 'ymax': 0.0, 'ymin'...  POLYGON EMPTY   \n",
       "1  {'xmax': 0.0, 'xmin': 0.0, 'ymax': 0.0, 'ymin'...  POLYGON EMPTY   \n",
       "2  {'xmax': 0.0, 'xmin': 0.0, 'ymax': 0.0, 'ymin'...  POLYGON EMPTY   \n",
       "\n",
       "                            assets links  collection abc  \\\n",
       "0  [{'href': 'https://link1.com'}]    []  Test-links  []   \n",
       "1  [{'href': 'https://link2.com'}]    []  Test-links  []   \n",
       "2  [{'href': 'https://link3.com'}]    []  Test-links  []   \n",
       "\n",
       "                     123  \n",
       "0  {'asfhjk': [1, 2, 3]}  \n",
       "1  {'asfhjk': [1, 2, 3]}  \n",
       "2  {'asfhjk': [1, 2, 3]}  "
      ]
     },
     "execution_count": 10,
     "metadata": {},
     "output_type": "execute_result"
    }
   ],
   "source": [
    "gdf = gpd.read_parquet(f\"{dst_path}/catalog.parquet\")\n",
    "gdf.head()"
   ]
  },
  {
   "cell_type": "code",
   "execution_count": 11,
   "metadata": {},
   "outputs": [
    {
     "name": "stderr",
     "output_type": "stream",
     "text": [
      "Staging assets:   0%|          | 0/3 [00:00<?, ?it/s]"
     ]
    },
    {
     "name": "stderr",
     "output_type": "stream",
     "text": [
      "Staging assets: 100%|██████████| 3/3 [00:01<00:00,  1.93it/s]\n"
     ]
    },
    {
     "data": {
      "text/plain": [
       "'/home/juan/.cache/eotdl/datasets/Test-links'"
      ]
     },
     "execution_count": 11,
     "metadata": {},
     "output_type": "execute_result"
    }
   ],
   "source": [
    "dst_path = stage_dataset(\"Test-links\", assets=True, force=True)\n",
    "dst_path"
   ]
  }
 ],
 "metadata": {
  "kernelspec": {
   "display_name": ".venv",
   "language": "python",
   "name": "python3"
  },
  "language_info": {
   "codemirror_mode": {
    "name": "ipython",
    "version": 3
   },
   "file_extension": ".py",
   "mimetype": "text/x-python",
   "name": "python",
   "nbconvert_exporter": "python",
   "pygments_lexer": "ipython3",
   "version": "3.12.8"
  }
 },
 "nbformat": 4,
 "nbformat_minor": 2
}
