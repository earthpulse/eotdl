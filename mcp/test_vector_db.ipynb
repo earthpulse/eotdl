{
 "cells": [
  {
   "cell_type": "markdown",
   "id": "861478d5",
   "metadata": {},
   "source": [
    "In this notebook we populate a vector db with the title, description and tags of all datasets, models and pipelines from EOTDL."
   ]
  },
  {
   "cell_type": "code",
   "execution_count": 5,
   "id": "73ed8b79",
   "metadata": {},
   "outputs": [
    {
     "data": {
      "text/plain": [
       "True"
      ]
     },
     "execution_count": 5,
     "metadata": {},
     "output_type": "execute_result"
    }
   ],
   "source": [
    "import os\n",
    "from dotenv import load_dotenv\n",
    "from qdrant_client import QdrantClient\n",
    "from langchain_community.embeddings import HuggingFaceEmbeddings\n",
    "\n",
    "load_dotenv()"
   ]
  },
  {
   "cell_type": "code",
   "execution_count": 6,
   "id": "95a4b4f4",
   "metadata": {},
   "outputs": [
    {
     "name": "stdout",
     "output_type": "stream",
     "text": [
      "Connecting to Qdrant at: http://localhost:6333\n",
      "✅ Successfully connected to Qdrant!\n",
      "Existing collections: []\n"
     ]
    }
   ],
   "source": [
    "# Setup Qdrant client\n",
    "qdrant_url = os.getenv('QDRANT_URL', 'http://localhost:6333')\n",
    "qdrant_api_key = os.getenv('QDRANT_API_KEY', '')\n",
    "\n",
    "print(f\"Connecting to Qdrant at: {qdrant_url}\")\n",
    "try:\n",
    "    if qdrant_api_key:\n",
    "        qdrant_client = QdrantClient(url=qdrant_url, api_key=qdrant_api_key)\n",
    "    else:\n",
    "        qdrant_client = QdrantClient(url=qdrant_url)\n",
    "    \n",
    "    # Test connection\n",
    "    collections = qdrant_client.get_collections()\n",
    "    print(\"✅ Successfully connected to Qdrant!\")\n",
    "    print(f\"Existing collections: {[c.name for c in collections.collections]}\")\n",
    "except Exception as e:\n",
    "    print(f\"❌ Failed to connect to Qdrant: {e}\")\n",
    "    print(\"Make sure Qdrant is running: docker-compose up -d eotdl-qdrant\")\n"
   ]
  },
  {
   "cell_type": "code",
   "execution_count": 7,
   "id": "792f9368",
   "metadata": {},
   "outputs": [
    {
     "name": "stdout",
     "output_type": "stream",
     "text": [
      "Loading embedding model: nasa-impact/nasa-smd-ibm-st-v2\n",
      "✅ Embedding model loaded successfully!\n"
     ]
    }
   ],
   "source": [
    "# Setup embeddings model (same as in your MCP server)\n",
    "model_name = \"nasa-impact/nasa-smd-ibm-st-v2\"\n",
    "encode_kwargs = {\"normalize_embeddings\": True}\n",
    "\n",
    "print(f\"Loading embedding model: {model_name}\")\n",
    "try:\n",
    "    embeddings = HuggingFaceEmbeddings(\n",
    "        model_name=model_name,\n",
    "        encode_kwargs=encode_kwargs\n",
    "    )\n",
    "    print(\"✅ Embedding model loaded successfully!\")\n",
    "except Exception as e:\n",
    "    print(f\"❌ Failed to load embedding model: {e}\")\n",
    "    print(\"Make sure you have the required dependencies installed\")\n"
   ]
  },
  {
   "cell_type": "code",
   "execution_count": 12,
   "id": "358bf529",
   "metadata": {},
   "outputs": [
    {
     "name": "stdout",
     "output_type": "stream",
     "text": [
      "\n",
      "🔍 Testing vector search with query: 'satellite imagery'\n",
      "Found 3 results:\n",
      "\n",
      "--- Result 1 (Score: 0.5056) ---\n",
      "Type: dataset\n",
      "Name: EuroSAT-RGB\n",
      "Description: <h1><strong>EuroSAT: A land use and land cover classification dataset based on Sentinel-2 satellite images.</strong></h1><p><br></p><p><a href=\"https://arxiv.org/abs/1709.00029\" rel=\"noopener noreferr...\n",
      "Tags: []\n",
      "\n",
      "--- Result 2 (Score: 0.4124) ---\n",
      "Type: dataset\n",
      "Name: EuroSAT-small\n",
      "Description: # EuroSAT-small\n",
      "\n",
      "This is a small subet of the EuroSAT dataset....\n",
      "Tags: []\n",
      "\n",
      "--- Result 3 (Score: 0.3795) ---\n",
      "Type: pipeline\n",
      "Name: EuroCropsPipeline\n",
      "Description: # EuroCropsPipeline\n",
      "\n",
      "This pipeline will extract features from a S1 and S2 time series for a given set of parcels in the EuroCrops dataset....\n",
      "Tags: []\n",
      "\n",
      "==================================================\n",
      "\n",
      "🔍 Testing vector search with query: 'machine learning model'\n",
      "Found 3 results:\n",
      "\n",
      "--- Result 1 (Score: 0.4598) ---\n",
      "Type: pipeline\n",
      "Name: EuroCropsPipeline\n",
      "Description: # EuroCropsPipeline\n",
      "\n",
      "This pipeline will extract features from a S1 and S2 time series for a given set of parcels in the EuroCrops dataset....\n",
      "Tags: []\n",
      "\n",
      "--- Result 2 (Score: 0.4547) ---\n",
      "Type: dataset\n",
      "Name: EuroSAT-small\n",
      "Description: # EuroSAT-small\n",
      "\n",
      "This is a small subet of the EuroSAT dataset....\n",
      "Tags: []\n",
      "\n",
      "--- Result 3 (Score: 0.3858) ---\n",
      "Type: dataset\n",
      "Name: EuroSAT-RGB\n",
      "Description: <h1><strong>EuroSAT: A land use and land cover classification dataset based on Sentinel-2 satellite images.</strong></h1><p><br></p><p><a href=\"https://arxiv.org/abs/1709.00029\" rel=\"noopener noreferr...\n",
      "Tags: []\n",
      "\n",
      "==================================================\n",
      "\n",
      "🔍 Testing vector search with query: 'earth observation data'\n",
      "Found 3 results:\n",
      "\n",
      "--- Result 1 (Score: 0.5822) ---\n",
      "Type: dataset\n",
      "Name: EuroSAT-RGB\n",
      "Description: <h1><strong>EuroSAT: A land use and land cover classification dataset based on Sentinel-2 satellite images.</strong></h1><p><br></p><p><a href=\"https://arxiv.org/abs/1709.00029\" rel=\"noopener noreferr...\n",
      "Tags: []\n",
      "\n",
      "--- Result 2 (Score: 0.5363) ---\n",
      "Type: pipeline\n",
      "Name: EuroCropsPipeline\n",
      "Description: # EuroCropsPipeline\n",
      "\n",
      "This pipeline will extract features from a S1 and S2 time series for a given set of parcels in the EuroCrops dataset....\n",
      "Tags: []\n",
      "\n",
      "--- Result 3 (Score: 0.5250) ---\n",
      "Type: dataset\n",
      "Name: EuroSAT-small\n",
      "Description: # EuroSAT-small\n",
      "\n",
      "This is a small subet of the EuroSAT dataset....\n",
      "Tags: []\n",
      "\n",
      "==================================================\n",
      "\n",
      "🔍 Testing vector search with query: 'remote sensing pipeline'\n",
      "Found 3 results:\n",
      "\n",
      "--- Result 1 (Score: 0.6091) ---\n",
      "Type: pipeline\n",
      "Name: EuroCropsPipeline\n",
      "Description: # EuroCropsPipeline\n",
      "\n",
      "This pipeline will extract features from a S1 and S2 time series for a given set of parcels in the EuroCrops dataset....\n",
      "Tags: []\n",
      "\n",
      "--- Result 2 (Score: 0.4816) ---\n",
      "Type: dataset\n",
      "Name: EuroSAT-RGB\n",
      "Description: <h1><strong>EuroSAT: A land use and land cover classification dataset based on Sentinel-2 satellite images.</strong></h1><p><br></p><p><a href=\"https://arxiv.org/abs/1709.00029\" rel=\"noopener noreferr...\n",
      "Tags: []\n",
      "\n",
      "--- Result 3 (Score: 0.3920) ---\n",
      "Type: dataset\n",
      "Name: EuroSAT-small\n",
      "Description: # EuroSAT-small\n",
      "\n",
      "This is a small subet of the EuroSAT dataset....\n",
      "Tags: []\n",
      "\n",
      "==================================================\n"
     ]
    },
    {
     "name": "stderr",
     "output_type": "stream",
     "text": [
      "/var/folders/m8/fqkdzsbx43l48py68ynvj5v40000gn/T/ipykernel_26326/2079865429.py:14: DeprecationWarning: `search` method is deprecated and will be removed in the future. Use `query_points` instead.\n",
      "  search_results = qdrant_client.search(\n"
     ]
    }
   ],
   "source": [
    "collection_name = \"EOTDL\"\n",
    "\n",
    "# Test the vector database with a sample query\n",
    "def test_vector_search(query: str, k: int = 3):\n",
    "    \"\"\"Test the vector database with a sample query\"\"\"\n",
    "    \n",
    "    print(f\"\\n🔍 Testing vector search with query: '{query}'\")\n",
    "    \n",
    "    try:\n",
    "        # Generate embedding for the query\n",
    "        query_embedding = embeddings.embed_query(query)\n",
    "        \n",
    "        # Search in Qdrant\n",
    "        search_results = qdrant_client.search(\n",
    "            collection_name=collection_name,\n",
    "            query_vector=query_embedding,\n",
    "            limit=k\n",
    "        )\n",
    "        \n",
    "        print(f\"Found {len(search_results)} results:\")\n",
    "        \n",
    "        for i, result in enumerate(search_results, 1):\n",
    "            print(f\"\\n--- Result {i} (Score: {result.score:.4f}) ---\")\n",
    "            print(f\"Type: {result.payload.get('type', 'Unknown')}\")\n",
    "            print(f\"Name: {result.payload.get('name', 'No Name')}\")\n",
    "            print(f\"Description: {result.payload.get('description', 'No description')[:200]}...\")\n",
    "            print(f\"Tags: {result.payload.get('tags', 'No tags')}\")\n",
    "            \n",
    "    except Exception as e:\n",
    "        print(f\"❌ Error during search: {e}\")\n",
    "\n",
    "# Test with some sample queries\n",
    "test_queries = [\n",
    "    \"satellite imagery\",\n",
    "    \"machine learning model\",\n",
    "    \"earth observation data\",\n",
    "    \"remote sensing pipeline\"\n",
    "]\n",
    "\n",
    "for query in test_queries:\n",
    "    test_vector_search(query)\n",
    "    print(\"\\n\" + \"=\"*50)\n"
   ]
  }
 ],
 "metadata": {
  "kernelspec": {
   "display_name": ".venv",
   "language": "python",
   "name": "python3"
  },
  "language_info": {
   "codemirror_mode": {
    "name": "ipython",
    "version": 3
   },
   "file_extension": ".py",
   "mimetype": "text/x-python",
   "name": "python",
   "nbconvert_exporter": "python",
   "pygments_lexer": "ipython3",
   "version": "3.12.9"
  }
 },
 "nbformat": 4,
 "nbformat_minor": 5
}
