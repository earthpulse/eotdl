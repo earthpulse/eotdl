{
 "cells": [
  {
   "cell_type": "markdown",
   "metadata": {},
   "source": [
    "This notebook was automatically tested on the EOTDL platform with kernel **eotdl-2023.10**\n",
    "<details>\n",
    "    \n",
    "```\n",
    "    channels:\n",
    "    - conda-forge\n",
    "    dependencies:\n",
    "    - python=3.9\n",
    "    - ipykernel\n",
    "    - geojson\n",
    "    - ipyleaflet\n",
    "    - ipywidgets\n",
    "    - jupyterlab_widgets\n",
    "    - jupyterlab-geojson\n",
    "    - libgcc\n",
    "    - papermill\n",
    "    - timm\n",
    "    - geomet\n",
    "    - matplotlib\n",
    "    - lightning\n",
    "    - rioxarray\n",
    "    - pystac\n",
    "    - pyproj\n",
    "    - mlflow\n",
    "    - pip:\n",
    "      - pytorch-eo==2023.7.21\n",
    "      - eotdl==2023.9.14.post4\n",
    "    description: ''\n",
    "    name: eotdl-2023.10\n",
    "    prefix: null\n",
    "```\n",
    "</details>"
   ]
  },
  {
   "cell_type": "markdown",
   "metadata": {},
   "source": [
    "# STAC EuroSAT"
   ]
  },
  {
   "cell_type": "markdown",
   "metadata": {},
   "source": [
    "In this demo we generate STAC metadata for the [EuroSAT](https://github.com/phelber/EuroSAT) dataset."
   ]
  },
  {
   "cell_type": "code",
   "execution_count": 1,
   "metadata": {
    "tags": []
   },
   "outputs": [],
   "source": [
    "import os\n",
    "from pathlib import Path\n",
    "path = Path(os.environ.get('EOTDL_DOWNLOAD_PATH'), 'EuroSAT')\n",
    "assert(path.exists) "
   ]
  },
  {
   "cell_type": "markdown",
   "metadata": {},
   "source": [
    "> ***Note:*** the hosted [EOTDL](https://eotdl.com) platform ensures that onboarded training datasets are readily available, to access the datasets from your local machine or other platforms please check the corresponding [tutorial notebooks](https://notebooks.api.eotdl.com/?search=offline)!"
   ]
  },
  {
   "cell_type": "code",
   "execution_count": 2,
   "metadata": {
    "tags": []
   },
   "outputs": [],
   "source": [
    "import pandas \n",
    "from glob import glob \n",
    "from random import sample"
   ]
  },
  {
   "cell_type": "markdown",
   "metadata": {},
   "source": [
    "The EuroSAT dataset consists of 2700 Sentinel 2 images with one label per image for scene classification. There are 10 different categories in total. We use 100 samples for fast prototyping."
   ]
  },
  {
   "cell_type": "code",
   "execution_count": 3,
   "metadata": {
    "tags": []
   },
   "outputs": [
    {
     "data": {
      "text/html": [
       "<div>\n",
       "<style scoped>\n",
       "    .dataframe tbody tr th:only-of-type {\n",
       "        vertical-align: middle;\n",
       "    }\n",
       "\n",
       "    .dataframe tbody tr th {\n",
       "        vertical-align: top;\n",
       "    }\n",
       "\n",
       "    .dataframe thead th {\n",
       "        text-align: right;\n",
       "    }\n",
       "</style>\n",
       "<table border=\"1\" class=\"dataframe\">\n",
       "  <thead>\n",
       "    <tr style=\"text-align: right;\">\n",
       "      <th></th>\n",
       "      <th>image</th>\n",
       "      <th>label</th>\n",
       "      <th>ix</th>\n",
       "    </tr>\n",
       "  </thead>\n",
       "  <tbody>\n",
       "    <tr>\n",
       "      <th>0</th>\n",
       "      <td>/cache/datasets/EuroSAT/ds/images/remote_sensi...</td>\n",
       "      <td>Residential</td>\n",
       "      <td>7</td>\n",
       "    </tr>\n",
       "    <tr>\n",
       "      <th>1</th>\n",
       "      <td>/cache/datasets/EuroSAT/ds/images/remote_sensi...</td>\n",
       "      <td>SeaLake</td>\n",
       "      <td>9</td>\n",
       "    </tr>\n",
       "    <tr>\n",
       "      <th>2</th>\n",
       "      <td>/cache/datasets/EuroSAT/ds/images/remote_sensi...</td>\n",
       "      <td>AnnualCrop</td>\n",
       "      <td>0</td>\n",
       "    </tr>\n",
       "    <tr>\n",
       "      <th>3</th>\n",
       "      <td>/cache/datasets/EuroSAT/ds/images/remote_sensi...</td>\n",
       "      <td>Forest</td>\n",
       "      <td>1</td>\n",
       "    </tr>\n",
       "    <tr>\n",
       "      <th>4</th>\n",
       "      <td>/cache/datasets/EuroSAT/ds/images/remote_sensi...</td>\n",
       "      <td>HerbaceousVegetation</td>\n",
       "      <td>2</td>\n",
       "    </tr>\n",
       "    <tr>\n",
       "      <th>...</th>\n",
       "      <td>...</td>\n",
       "      <td>...</td>\n",
       "      <td>...</td>\n",
       "    </tr>\n",
       "    <tr>\n",
       "      <th>95</th>\n",
       "      <td>/cache/datasets/EuroSAT/ds/images/remote_sensi...</td>\n",
       "      <td>HerbaceousVegetation</td>\n",
       "      <td>2</td>\n",
       "    </tr>\n",
       "    <tr>\n",
       "      <th>96</th>\n",
       "      <td>/cache/datasets/EuroSAT/ds/images/remote_sensi...</td>\n",
       "      <td>PermanentCrop</td>\n",
       "      <td>6</td>\n",
       "    </tr>\n",
       "    <tr>\n",
       "      <th>97</th>\n",
       "      <td>/cache/datasets/EuroSAT/ds/images/remote_sensi...</td>\n",
       "      <td>Residential</td>\n",
       "      <td>7</td>\n",
       "    </tr>\n",
       "    <tr>\n",
       "      <th>98</th>\n",
       "      <td>/cache/datasets/EuroSAT/ds/images/remote_sensi...</td>\n",
       "      <td>HerbaceousVegetation</td>\n",
       "      <td>2</td>\n",
       "    </tr>\n",
       "    <tr>\n",
       "      <th>99</th>\n",
       "      <td>/cache/datasets/EuroSAT/ds/images/remote_sensi...</td>\n",
       "      <td>River</td>\n",
       "      <td>8</td>\n",
       "    </tr>\n",
       "  </tbody>\n",
       "</table>\n",
       "<p>100 rows × 3 columns</p>\n",
       "</div>"
      ],
      "text/plain": [
       "                                                image                 label  \\\n",
       "0   /cache/datasets/EuroSAT/ds/images/remote_sensi...           Residential   \n",
       "1   /cache/datasets/EuroSAT/ds/images/remote_sensi...               SeaLake   \n",
       "2   /cache/datasets/EuroSAT/ds/images/remote_sensi...            AnnualCrop   \n",
       "3   /cache/datasets/EuroSAT/ds/images/remote_sensi...                Forest   \n",
       "4   /cache/datasets/EuroSAT/ds/images/remote_sensi...  HerbaceousVegetation   \n",
       "..                                                ...                   ...   \n",
       "95  /cache/datasets/EuroSAT/ds/images/remote_sensi...  HerbaceousVegetation   \n",
       "96  /cache/datasets/EuroSAT/ds/images/remote_sensi...         PermanentCrop   \n",
       "97  /cache/datasets/EuroSAT/ds/images/remote_sensi...           Residential   \n",
       "98  /cache/datasets/EuroSAT/ds/images/remote_sensi...  HerbaceousVegetation   \n",
       "99  /cache/datasets/EuroSAT/ds/images/remote_sensi...                 River   \n",
       "\n",
       "    ix  \n",
       "0    7  \n",
       "1    9  \n",
       "2    0  \n",
       "3    1  \n",
       "4    2  \n",
       "..  ..  \n",
       "95   2  \n",
       "96   6  \n",
       "97   7  \n",
       "98   2  \n",
       "99   8  \n",
       "\n",
       "[100 rows x 3 columns]"
      ]
     },
     "execution_count": 3,
     "metadata": {},
     "output_type": "execute_result"
    }
   ],
   "source": [
    "images = glob(str(path) + '/ds/**/*.tif', recursive=True)\n",
    "images = sample(images, 100)\n",
    "labels = [x.split('/')[-1].split('_')[0] for x in images]\n",
    "cats = sorted(os.listdir(path / 'ds/images/remote_sensing/otherDatasets/sentinel_2/tif'))\n",
    "ixs = [cats.index(x) for x in labels]\n",
    "\n",
    "df = pandas.DataFrame({'image': images, 'label': labels, 'ix': ixs})\n",
    "df"
   ]
  },
  {
   "cell_type": "code",
   "execution_count": 4,
   "metadata": {
    "tags": []
   },
   "outputs": [
    {
     "data": {
      "text/plain": [
       "array([7, 9, 0, 1, 2, 3, 8, 4, 6, 5])"
      ]
     },
     "execution_count": 4,
     "metadata": {},
     "output_type": "execute_result"
    }
   ],
   "source": [
    "df.ix.unique()"
   ]
  },
  {
   "cell_type": "markdown",
   "metadata": {},
   "source": [
    "We start by generating STAC metadata following the core STAC specification. \n",
    "\n",
    "- We generate a STAC item for every image in the datasets\n",
    "- a STAC collection to represent the images collection\n",
    "- a STAC catalog to represent the final dataset (which will include also the annotations).\n",
    "\n",
    "https://pystac.readthedocs.io/en/stable/"
   ]
  },
  {
   "cell_type": "code",
   "execution_count": 5,
   "metadata": {
    "tags": []
   },
   "outputs": [],
   "source": [
    "import pystac\n",
    "from datetime import datetime\n",
    "import rasterio as rio\n",
    "import uuid\n",
    "from shapely.geometry import GeometryCollection, Polygon, box, shape, mapping\n",
    "from tqdm import tqdm"
   ]
  },
  {
   "cell_type": "code",
   "execution_count": 6,
   "metadata": {
    "tags": []
   },
   "outputs": [
    {
     "data": {
      "text/html": [
       "\n",
       "\n",
       "<style>\n",
       ".pystac-summary {\n",
       "    cursor: pointer;\n",
       "    display:list-item;\n",
       "}\n",
       ".pystac-key {\n",
       "    color: rgb(0, 128, 0);\n",
       "    font-weight: 700;\n",
       "}\n",
       ".pystac-key-value {\n",
       "    display: inline-block;\n",
       "    margin: 0px 0.5em 0px 0px;\n",
       "}\n",
       "</style>\n",
       "<div class=\"jp-RenderedJSON jp-mod-trusted jp-OutputArea-output\">\n",
       "    <div class=\"container\" style=\"line-height: normal;\">\n",
       "        <ul style=\"padding: 0px; margin: 0px; list-style: none; display: block;\">\n",
       "            \n",
       "                \n",
       "                    \n",
       "        <li style=\"overflow-wrap: break-word; padding-left: 2.125em; text-indent: -0.5em;\">\n",
       "            <span class=\"pystac-key pystac-key-value\">type</span>\n",
       "            <span style=\"color: rgb(186, 33, 33);\">\"Catalog\"</span>\n",
       "        </li>\n",
       "    \n",
       "                \n",
       "            \n",
       "                \n",
       "                    \n",
       "        <li style=\"overflow-wrap: break-word; padding-left: 2.125em; text-indent: -0.5em;\">\n",
       "            <span class=\"pystac-key pystac-key-value\">id</span>\n",
       "            <span style=\"color: rgb(186, 33, 33);\">\"eurosat\"</span>\n",
       "        </li>\n",
       "    \n",
       "                \n",
       "            \n",
       "                \n",
       "                    \n",
       "        <li style=\"overflow-wrap: break-word; padding-left: 2.125em; text-indent: -0.5em;\">\n",
       "            <span class=\"pystac-key pystac-key-value\">stac_version</span>\n",
       "            <span style=\"color: rgb(186, 33, 33);\">\"1.0.0\"</span>\n",
       "        </li>\n",
       "    \n",
       "                \n",
       "            \n",
       "                \n",
       "                    \n",
       "        <li style=\"overflow-wrap: break-word; padding-left: 2.125em; text-indent: -0.5em;\">\n",
       "            <span class=\"pystac-key pystac-key-value\">description</span>\n",
       "            <span style=\"color: rgb(186, 33, 33);\">\"EuroSAT dataset\"</span>\n",
       "        </li>\n",
       "    \n",
       "                \n",
       "            \n",
       "                \n",
       "                    <li><details>\n",
       "        <summary class=\"pystac-summary\">\n",
       "            <span class=\"pystac-key\">links</span>\n",
       "            <span style=\"padding-left: 0.5em; color: rgb(64, 128, 128); font-style: italic;\">[] 0 items</span>\n",
       "        </summary>\n",
       "        \n",
       "    </details></li>\n",
       "                \n",
       "            \n",
       "        </ul>\n",
       "    </div>\n",
       "</div>"
      ],
      "text/plain": [
       "<Catalog id=eurosat>"
      ]
     },
     "execution_count": 6,
     "metadata": {},
     "output_type": "execute_result"
    }
   ],
   "source": [
    "# create empty catalog\n",
    "\n",
    "eurosat = pystac.Catalog(id=\"eurosat\", description=\"EuroSAT dataset\")\n",
    "eurosat"
   ]
  },
  {
   "cell_type": "code",
   "execution_count": 7,
   "metadata": {
    "tags": []
   },
   "outputs": [
    {
     "data": {
      "text/html": [
       "\n",
       "\n",
       "<style>\n",
       ".pystac-summary {\n",
       "    cursor: pointer;\n",
       "    display:list-item;\n",
       "}\n",
       ".pystac-key {\n",
       "    color: rgb(0, 128, 0);\n",
       "    font-weight: 700;\n",
       "}\n",
       ".pystac-key-value {\n",
       "    display: inline-block;\n",
       "    margin: 0px 0.5em 0px 0px;\n",
       "}\n",
       "</style>\n",
       "<div class=\"jp-RenderedJSON jp-mod-trusted jp-OutputArea-output\">\n",
       "    <div class=\"container\" style=\"line-height: normal;\">\n",
       "        <ul style=\"padding: 0px; margin: 0px; list-style: none; display: block;\">\n",
       "            \n",
       "                \n",
       "                    \n",
       "        <li style=\"overflow-wrap: break-word; padding-left: 2.125em; text-indent: -0.5em;\">\n",
       "            <span class=\"pystac-key pystac-key-value\">type</span>\n",
       "            <span style=\"color: rgb(186, 33, 33);\">\"Catalog\"</span>\n",
       "        </li>\n",
       "    \n",
       "                \n",
       "            \n",
       "                \n",
       "                    \n",
       "        <li style=\"overflow-wrap: break-word; padding-left: 2.125em; text-indent: -0.5em;\">\n",
       "            <span class=\"pystac-key pystac-key-value\">id</span>\n",
       "            <span style=\"color: rgb(186, 33, 33);\">\"eurosat\"</span>\n",
       "        </li>\n",
       "    \n",
       "                \n",
       "            \n",
       "                \n",
       "                    \n",
       "        <li style=\"overflow-wrap: break-word; padding-left: 2.125em; text-indent: -0.5em;\">\n",
       "            <span class=\"pystac-key pystac-key-value\">stac_version</span>\n",
       "            <span style=\"color: rgb(186, 33, 33);\">\"1.0.0\"</span>\n",
       "        </li>\n",
       "    \n",
       "                \n",
       "            \n",
       "                \n",
       "                    \n",
       "        <li style=\"overflow-wrap: break-word; padding-left: 2.125em; text-indent: -0.5em;\">\n",
       "            <span class=\"pystac-key pystac-key-value\">description</span>\n",
       "            <span style=\"color: rgb(186, 33, 33);\">\"EuroSAT dataset\"</span>\n",
       "        </li>\n",
       "    \n",
       "                \n",
       "            \n",
       "                \n",
       "                    <li><details>\n",
       "        <summary class=\"pystac-summary\">\n",
       "            <span class=\"pystac-key\">links</span>\n",
       "            <span style=\"padding-left: 0.5em; color: rgb(64, 128, 128); font-style: italic;\">[] 1 items</span>\n",
       "        </summary>\n",
       "        \n",
       "            <ul style=\"margin: 0px; padding: 0px 0px 0px 1.75em; list-style: none; display: block;\">\n",
       "        \n",
       "            \n",
       "                \n",
       "        <li><details>\n",
       "            <summary class=\"pystac-summary\"><span class=\"pystac-key\">0</span></summary>\n",
       "            <ul style=\"margin: 0px; padding: 0px 0px 0px 1.75em; list-style: none; display: block;\">\n",
       "        \n",
       "            \n",
       "                \n",
       "        <li style=\"overflow-wrap: break-word; padding-left: 2.125em; text-indent: -0.5em;\">\n",
       "            <span class=\"pystac-key pystac-key-value\">rel</span>\n",
       "            <span style=\"color: rgb(186, 33, 33);\">\"child\"</span>\n",
       "        </li>\n",
       "    \n",
       "            \n",
       "        \n",
       "            \n",
       "                \n",
       "        <li style=\"overflow-wrap: break-word; padding-left: 2.125em; text-indent: -0.5em;\">\n",
       "            <span class=\"pystac-key pystac-key-value\">href</span>\n",
       "            <span style=\"color: rgb(186, 33, 33);\">None</span>\n",
       "        </li>\n",
       "    \n",
       "            \n",
       "        \n",
       "            \n",
       "                \n",
       "        <li style=\"overflow-wrap: break-word; padding-left: 2.125em; text-indent: -0.5em;\">\n",
       "            <span class=\"pystac-key pystac-key-value\">type</span>\n",
       "            <span style=\"color: rgb(186, 33, 33);\">\"application/json\"</span>\n",
       "        </li>\n",
       "    \n",
       "            \n",
       "        \n",
       "    </ul>\n",
       "        </details></li>\n",
       "    \n",
       "            \n",
       "        \n",
       "    </ul>\n",
       "        \n",
       "    </details></li>\n",
       "                \n",
       "            \n",
       "        </ul>\n",
       "    </div>\n",
       "</div>"
      ],
      "text/plain": [
       "<Catalog id=eurosat>"
      ]
     },
     "execution_count": 7,
     "metadata": {},
     "output_type": "execute_result"
    }
   ],
   "source": [
    "# create collection\n",
    "\n",
    "# # spatial extent (should compute from images)\n",
    "sp_extent = pystac.SpatialExtent([None,None,None,None])\n",
    "\n",
    "# temporal extent (should compute from images or given by authors)\n",
    "from_date = datetime.strptime('2015-10-22', '%Y-%m-%d') # unknown\n",
    "to_date = datetime.strptime('2019-10-22', '%Y-%m-%d') # unknown\n",
    "tmp_extent = pystac.TemporalExtent([(from_date, to_date)])\n",
    "\n",
    "extent = pystac.Extent(sp_extent, tmp_extent)\n",
    "\n",
    "sentinel = pystac.Collection(id='sentinel2', description = 'EuroSAT Sentinel 2 dataset', extent = extent)\n",
    "eurosat.add_child(sentinel)\n",
    "\n",
    "eurosat"
   ]
  },
  {
   "cell_type": "code",
   "execution_count": 8,
   "metadata": {
    "tags": []
   },
   "outputs": [],
   "source": [
    "# creating items\n",
    "\n",
    "dst_path = path / 'eurosat'\n",
    "os.makedirs(dst_path, exist_ok=True)\n",
    "\n",
    "def create_item(image):\n",
    "    params = {}\n",
    "    params['id'] = image.split('/')[-1].split('.')[0] # use original name\n",
    "    params['datetime'] = from_date # unknown\n",
    "    params['properties'] = {}\n",
    "    with rio.open(image) as src:\n",
    "        params['bbox'] = list(src.bounds)\n",
    "        params['geometry'] = mapping(box(*params['bbox']))\n",
    "        i = pystac.Item(**params)\n",
    "        image_dst_path = dst_path / f\"{params['id']}.tif\"\n",
    "        for band in src.indexes:\n",
    "            image_dst_path = dst_path / f\"{params['id']}_B{band}.tif\"\n",
    "            out_meta = src.meta.copy()\n",
    "            out_meta.update({\"count\": 1})\n",
    "            with rio.open(image_dst_path, \"w\", **out_meta) as dest:\n",
    "                dest.write(src.read(band), 1)\n",
    "            i.add_asset(key=f'B{band}', asset=pystac.Asset(href=str(image_dst_path), title='Geotiff', media_type=pystac.MediaType.GEOTIFF))\n",
    "    return i"
   ]
  },
  {
   "cell_type": "code",
   "execution_count": 9,
   "metadata": {
    "tags": []
   },
   "outputs": [
    {
     "name": "stderr",
     "output_type": "stream",
     "text": [
      "100%|██████████| 100/100 [05:37<00:00,  3.38s/it]\n",
      "100%|██████████| 100/100 [00:00<00:00, 46015.40it/s]\n"
     ]
    }
   ],
   "source": [
    "# import multiprocessing\n",
    "# from concurrent.futures import ProcessPoolExecutor\n",
    "\n",
    "# num_cores = multiprocessing.cpu_count()\n",
    "# with ProcessPoolExecutor(max_workers=num_cores) as pool:\n",
    "#     with tqdm(total=len(images)) as rm-rprogress:\n",
    "#         futures = []\n",
    "#         for image in df.image:\n",
    "#             future = pool.submit(create_item, image) \n",
    "#             future.add_done_callback(lambda p: progress.update())\n",
    "#             futures.append(future)\n",
    "#         items = []\n",
    "#         for future in futures:\n",
    "#             result = future.result()\n",
    "#             items.append(result)\n",
    "\n",
    "items = [create_item(image) for image in tqdm(df.image)]\n",
    "            \n",
    "for item in tqdm(items):\n",
    "  sentinel.add_item(item)"
   ]
  },
  {
   "cell_type": "code",
   "execution_count": 10,
   "metadata": {
    "tags": []
   },
   "outputs": [],
   "source": [
    "# reset spatial extent\n",
    "\n",
    "bounds = [list(GeometryCollection([shape(s.geometry) for s in eurosat.get_all_items()]).bounds)]\n",
    "sentinel.extent.spatial = pystac.SpatialExtent(bounds)"
   ]
  },
  {
   "cell_type": "code",
   "execution_count": 11,
   "metadata": {
    "tags": []
   },
   "outputs": [],
   "source": [
    "eurosat.normalize_hrefs('eurosat-stac')"
   ]
  },
  {
   "cell_type": "code",
   "execution_count": 12,
   "metadata": {
    "tags": []
   },
   "outputs": [],
   "source": [
    "# eurosat.validate_all()"
   ]
  },
  {
   "cell_type": "code",
   "execution_count": 13,
   "metadata": {
    "tags": []
   },
   "outputs": [],
   "source": [
    "eurosat.save(catalog_type=pystac.CatalogType.SELF_CONTAINED)"
   ]
  },
  {
   "cell_type": "markdown",
   "metadata": {},
   "source": [
    "We have created a STAC Catalog for our dataset !"
   ]
  },
  {
   "cell_type": "code",
   "execution_count": 14,
   "metadata": {
    "tags": []
   },
   "outputs": [
    {
     "data": {
      "text/html": [
       "\n",
       "\n",
       "<style>\n",
       ".pystac-summary {\n",
       "    cursor: pointer;\n",
       "    display:list-item;\n",
       "}\n",
       ".pystac-key {\n",
       "    color: rgb(0, 128, 0);\n",
       "    font-weight: 700;\n",
       "}\n",
       ".pystac-key-value {\n",
       "    display: inline-block;\n",
       "    margin: 0px 0.5em 0px 0px;\n",
       "}\n",
       "</style>\n",
       "<div class=\"jp-RenderedJSON jp-mod-trusted jp-OutputArea-output\">\n",
       "    <div class=\"container\" style=\"line-height: normal;\">\n",
       "        <ul style=\"padding: 0px; margin: 0px; list-style: none; display: block;\">\n",
       "            \n",
       "                \n",
       "                    \n",
       "        <li style=\"overflow-wrap: break-word; padding-left: 2.125em; text-indent: -0.5em;\">\n",
       "            <span class=\"pystac-key pystac-key-value\">type</span>\n",
       "            <span style=\"color: rgb(186, 33, 33);\">\"Catalog\"</span>\n",
       "        </li>\n",
       "    \n",
       "                \n",
       "            \n",
       "                \n",
       "                    \n",
       "        <li style=\"overflow-wrap: break-word; padding-left: 2.125em; text-indent: -0.5em;\">\n",
       "            <span class=\"pystac-key pystac-key-value\">id</span>\n",
       "            <span style=\"color: rgb(186, 33, 33);\">\"eurosat\"</span>\n",
       "        </li>\n",
       "    \n",
       "                \n",
       "            \n",
       "                \n",
       "                    \n",
       "        <li style=\"overflow-wrap: break-word; padding-left: 2.125em; text-indent: -0.5em;\">\n",
       "            <span class=\"pystac-key pystac-key-value\">stac_version</span>\n",
       "            <span style=\"color: rgb(186, 33, 33);\">\"1.0.0\"</span>\n",
       "        </li>\n",
       "    \n",
       "                \n",
       "            \n",
       "                \n",
       "                    \n",
       "        <li style=\"overflow-wrap: break-word; padding-left: 2.125em; text-indent: -0.5em;\">\n",
       "            <span class=\"pystac-key pystac-key-value\">description</span>\n",
       "            <span style=\"color: rgb(186, 33, 33);\">\"EuroSAT dataset\"</span>\n",
       "        </li>\n",
       "    \n",
       "                \n",
       "            \n",
       "                \n",
       "                    <li><details>\n",
       "        <summary class=\"pystac-summary\">\n",
       "            <span class=\"pystac-key\">links</span>\n",
       "            <span style=\"padding-left: 0.5em; color: rgb(64, 128, 128); font-style: italic;\">[] 3 items</span>\n",
       "        </summary>\n",
       "        \n",
       "            <ul style=\"margin: 0px; padding: 0px 0px 0px 1.75em; list-style: none; display: block;\">\n",
       "        \n",
       "            \n",
       "                \n",
       "        <li><details>\n",
       "            <summary class=\"pystac-summary\"><span class=\"pystac-key\">0</span></summary>\n",
       "            <ul style=\"margin: 0px; padding: 0px 0px 0px 1.75em; list-style: none; display: block;\">\n",
       "        \n",
       "            \n",
       "                \n",
       "        <li style=\"overflow-wrap: break-word; padding-left: 2.125em; text-indent: -0.5em;\">\n",
       "            <span class=\"pystac-key pystac-key-value\">rel</span>\n",
       "            <span style=\"color: rgb(186, 33, 33);\">\"self\"</span>\n",
       "        </li>\n",
       "    \n",
       "            \n",
       "        \n",
       "            \n",
       "                \n",
       "        <li style=\"overflow-wrap: break-word; padding-left: 2.125em; text-indent: -0.5em;\">\n",
       "            <span class=\"pystac-key pystac-key-value\">href</span>\n",
       "            <span style=\"color: rgb(186, 33, 33);\">\"/shared/eotdl/notebooks/eotdl/tutorials/eurosat-stac/catalog.json\"</span>\n",
       "        </li>\n",
       "    \n",
       "            \n",
       "        \n",
       "            \n",
       "                \n",
       "        <li style=\"overflow-wrap: break-word; padding-left: 2.125em; text-indent: -0.5em;\">\n",
       "            <span class=\"pystac-key pystac-key-value\">type</span>\n",
       "            <span style=\"color: rgb(186, 33, 33);\">\"application/json\"</span>\n",
       "        </li>\n",
       "    \n",
       "            \n",
       "        \n",
       "    </ul>\n",
       "        </details></li>\n",
       "    \n",
       "            \n",
       "        \n",
       "    </ul>\n",
       "        \n",
       "            <ul style=\"margin: 0px; padding: 0px 0px 0px 1.75em; list-style: none; display: block;\">\n",
       "        \n",
       "            \n",
       "                \n",
       "        <li><details>\n",
       "            <summary class=\"pystac-summary\"><span class=\"pystac-key\">1</span></summary>\n",
       "            <ul style=\"margin: 0px; padding: 0px 0px 0px 1.75em; list-style: none; display: block;\">\n",
       "        \n",
       "            \n",
       "                \n",
       "        <li style=\"overflow-wrap: break-word; padding-left: 2.125em; text-indent: -0.5em;\">\n",
       "            <span class=\"pystac-key pystac-key-value\">rel</span>\n",
       "            <span style=\"color: rgb(186, 33, 33);\">\"root\"</span>\n",
       "        </li>\n",
       "    \n",
       "            \n",
       "        \n",
       "            \n",
       "                \n",
       "        <li style=\"overflow-wrap: break-word; padding-left: 2.125em; text-indent: -0.5em;\">\n",
       "            <span class=\"pystac-key pystac-key-value\">href</span>\n",
       "            <span style=\"color: rgb(186, 33, 33);\">\"/shared/eotdl/notebooks/eotdl/tutorials/eurosat-stac/catalog.json\"</span>\n",
       "        </li>\n",
       "    \n",
       "            \n",
       "        \n",
       "            \n",
       "                \n",
       "        <li style=\"overflow-wrap: break-word; padding-left: 2.125em; text-indent: -0.5em;\">\n",
       "            <span class=\"pystac-key pystac-key-value\">type</span>\n",
       "            <span style=\"color: rgb(186, 33, 33);\">\"application/json\"</span>\n",
       "        </li>\n",
       "    \n",
       "            \n",
       "        \n",
       "    </ul>\n",
       "        </details></li>\n",
       "    \n",
       "            \n",
       "        \n",
       "    </ul>\n",
       "        \n",
       "            <ul style=\"margin: 0px; padding: 0px 0px 0px 1.75em; list-style: none; display: block;\">\n",
       "        \n",
       "            \n",
       "                \n",
       "        <li><details>\n",
       "            <summary class=\"pystac-summary\"><span class=\"pystac-key\">2</span></summary>\n",
       "            <ul style=\"margin: 0px; padding: 0px 0px 0px 1.75em; list-style: none; display: block;\">\n",
       "        \n",
       "            \n",
       "                \n",
       "        <li style=\"overflow-wrap: break-word; padding-left: 2.125em; text-indent: -0.5em;\">\n",
       "            <span class=\"pystac-key pystac-key-value\">rel</span>\n",
       "            <span style=\"color: rgb(186, 33, 33);\">\"child\"</span>\n",
       "        </li>\n",
       "    \n",
       "            \n",
       "        \n",
       "            \n",
       "                \n",
       "        <li style=\"overflow-wrap: break-word; padding-left: 2.125em; text-indent: -0.5em;\">\n",
       "            <span class=\"pystac-key pystac-key-value\">href</span>\n",
       "            <span style=\"color: rgb(186, 33, 33);\">\"./sentinel2/collection.json\"</span>\n",
       "        </li>\n",
       "    \n",
       "            \n",
       "        \n",
       "            \n",
       "                \n",
       "        <li style=\"overflow-wrap: break-word; padding-left: 2.125em; text-indent: -0.5em;\">\n",
       "            <span class=\"pystac-key pystac-key-value\">type</span>\n",
       "            <span style=\"color: rgb(186, 33, 33);\">\"application/json\"</span>\n",
       "        </li>\n",
       "    \n",
       "            \n",
       "        \n",
       "    </ul>\n",
       "        </details></li>\n",
       "    \n",
       "            \n",
       "        \n",
       "    </ul>\n",
       "        \n",
       "    </details></li>\n",
       "                \n",
       "            \n",
       "        </ul>\n",
       "    </div>\n",
       "</div>"
      ],
      "text/plain": [
       "<Catalog id=eurosat>"
      ]
     },
     "execution_count": 14,
     "metadata": {},
     "output_type": "execute_result"
    }
   ],
   "source": [
    "eurosat = pystac.Catalog.from_file('eurosat-stac/catalog.json')\n",
    "eurosat"
   ]
  }
 ],
 "metadata": {
  "kernelspec": {
   "display_name": "users-eotdl-2023.10",
   "language": "python",
   "name": "conda-env-users-eotdl-2023.10-py"
  },
  "language_info": {
   "codemirror_mode": {
    "name": "ipython",
    "version": 3
   },
   "file_extension": ".py",
   "mimetype": "text/x-python",
   "name": "python",
   "nbconvert_exporter": "python",
   "pygments_lexer": "ipython3",
   "version": "3.9.18"
  },
  "properties": {
   "authors": [
    "The EOTDL consortium"
   ],
   "description": "Generate STAC metadata for the EuroSAT dataset",
   "name": "STAC EuroSAT",
   "tags": [
    "EuroSAT",
    "STAC",
    "datasets"
   ],
   "version": "0.0.1"
  },
  "vscode": {
   "interpreter": {
    "hash": "74dbfc52f168b3071122cf9c0781887d6121c12f9c1b29bca56ce221bccb2a07"
   }
  }
 },
 "nbformat": 4,
 "nbformat_minor": 4
}
