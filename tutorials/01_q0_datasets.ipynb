{
 "cells": [
  {
   "cell_type": "code",
   "execution_count": 1,
   "metadata": {},
   "outputs": [],
   "source": [
    "%load_ext autoreload\n",
    "%autoreload 2"
   ]
  },
  {
   "cell_type": "markdown",
   "metadata": {},
   "source": [
    "# Q0 Training Datasets"
   ]
  },
  {
   "cell_type": "markdown",
   "metadata": {},
   "source": [
    "Training Datasets (TDS) in EOTDL are categorized into different [quality levels](/docs/datasets/quality), which in trun will impact on the range of functionality that will be available for each dataset.\n",
    "\n",
    "In this post you will learn about Q0 datsets, the lowest quality level. Q0 datasets are raw datasets in the form of a compressed archive without any metadata. This level is ideal for easy and fast upload/download of small datasets."
   ]
  },
  {
   "cell_type": "markdown",
   "metadata": {},
   "source": [
    "##  Explore datasets"
   ]
  },
  {
   "cell_type": "markdown",
   "metadata": {},
   "source": [
    "On of the first things that you may want to do within EOTDL is to explore the available datasets. You can do this at all accesibility layers.\n",
    "\n",
    "In the user interface, visit [datasets](/datasets) to explore all the available datasets. You can click on a dataset card to see more information about it, download it, etc.\n",
    "\n",
    "You can also explore datasets using the API, CLI and library, which will give you more flexibility and control over the results. Check the [documentation](/docs/datasets/explore) to learn more."
   ]
  },
  {
   "cell_type": "code",
   "execution_count": 2,
   "metadata": {},
   "outputs": [],
   "source": [
    "from eotdl.datasets import list_datasets"
   ]
  },
  {
   "cell_type": "code",
   "execution_count": 3,
   "metadata": {},
   "outputs": [
    {
     "data": {
      "text/plain": [
       "['BigEarthNet',\n",
       " 'xview2',\n",
       " 'LandcoverAI',\n",
       " 'open-cities-tt2-source',\n",
       " 'open-cities-tt1-source',\n",
       " 'open-cities-test',\n",
       " 'PASTIS-R',\n",
       " 'EuroCrops',\n",
       " 'SloveniaLandCover',\n",
       " 'ISPRS-Potsdam2D',\n",
       " 'SEN12-FLOOD',\n",
       " 'Urban3dChallenge',\n",
       " 'tropical-cyclone-dataset',\n",
       " 'Vessel-detection',\n",
       " 'Airplanes-detection',\n",
       " 'S2-SHIPS',\n",
       " 'SpaceNet-7',\n",
       " 'Sentinel-2-Cloud-Mask',\n",
       " 'PASTIS',\n",
       " 'FlodNet',\n",
       " 'SeCo100k',\n",
       " 'SeCo',\n",
       " 'AirbusAircraftDetection',\n",
       " 'AirbusWindTurbinesPatches',\n",
       " 'RoadNet',\n",
       " 'EuroSAT',\n",
       " 'UCMerced',\n",
       " 'EuroSAT-RGB']"
      ]
     },
     "execution_count": 3,
     "metadata": {},
     "output_type": "execute_result"
    }
   ],
   "source": [
    "datasets = list_datasets()\n",
    "datasets"
   ]
  },
  {
   "cell_type": "markdown",
   "metadata": {},
   "source": [
    "##  Download datasets"
   ]
  },
  {
   "cell_type": "markdown",
   "metadata": {},
   "source": [
    "Once you find a suitable dataset you can download it for training your models.\n",
    "\n",
    "In the user interface, click on the `DOWNLOAD` button in the dataset page. You’ll need to be logged in to download datasets.\n",
    "\n",
    "You can also download datasets using the API, CLI and library, check the [documentation](/docs/datasets/download) to learn more."
   ]
  },
  {
   "cell_type": "code",
   "execution_count": 4,
   "metadata": {},
   "outputs": [],
   "source": [
    "from eotdl.datasets import download_dataset"
   ]
  },
  {
   "cell_type": "code",
   "execution_count": 8,
   "metadata": {},
   "outputs": [
    {
     "name": "stderr",
     "output_type": "stream",
     "text": [
      "\n",
      "  0%|          | 0.00/89.9M [00:00<?, ?iB/s]\u001b[A\n",
      " 11%|█         | 10.0M/89.9M [00:01<00:13, 6.15MiB/s]\u001b[A\n",
      " 22%|██▏       | 20.0M/89.9M [00:02<00:10, 7.27MiB/s]\u001b[A\n",
      " 33%|███▎      | 30.0M/89.9M [00:04<00:07, 7.86MiB/s]\u001b[A\n",
      " 44%|████▍     | 40.0M/89.9M [00:05<00:06, 8.37MiB/s]\u001b[A\n",
      " 56%|█████▌    | 50.0M/89.9M [00:06<00:04, 8.77MiB/s]\u001b[A\n",
      " 67%|██████▋   | 60.0M/89.9M [00:07<00:03, 9.37MiB/s]\u001b[A\n",
      " 78%|███████▊  | 70.0M/89.9M [00:08<00:02, 10.2MiB/s]\u001b[A\n",
      " 89%|████████▉ | 80.0M/89.9M [00:08<00:00, 11.2MiB/s]\u001b[A\n",
      "100%|██████████| 89.9M/89.9M [00:09<00:00, 9.80MiB/s]\u001b[A"
     ]
    },
    {
     "name": "stdout",
     "output_type": "stream",
     "text": [
      "Checksum: c8fa014336c82ac7804f0398fcb19387\n"
     ]
    },
    {
     "name": "stderr",
     "output_type": "stream",
     "text": [
      "\n"
     ]
    },
    {
     "data": {
      "text/plain": [
       "'/root/.eotdl/datasets/EuroSAT-RGB.zip'"
      ]
     },
     "execution_count": 8,
     "metadata": {},
     "output_type": "execute_result"
    }
   ],
   "source": [
    "dst_path = download_dataset('EuroSAT-RGB')\n",
    "dst_path"
   ]
  },
  {
   "cell_type": "markdown",
   "metadata": {},
   "source": [
    "## Ingest datasets"
   ]
  },
  {
   "cell_type": "markdown",
   "metadata": {},
   "source": [
    "Additionally, you can ingest your own datasets into EOTDL. This will allow you to use them in your own projects and share them with other users. Remember that Q0 datasets are raw `.zip` files, so make sure to include metadata or any other required information about them.\n",
    "\n",
    "In the user interface, visit [datasets](/datasets) and click on the `INGEST` button. You’ll need to be logged in to ingest datasets.\n",
    "\n",
    "You can also ingest datasets using the API, CLI and library (CLI recommended), check the [documentation](/docs/datasets/ingest) to learn more."
   ]
  },
  {
   "cell_type": "code",
   "execution_count": 9,
   "metadata": {},
   "outputs": [],
   "source": [
    "from eotdl.datasets import ingest_q0"
   ]
  },
  {
   "cell_type": "code",
   "execution_count": 10,
   "metadata": {},
   "outputs": [
    {
     "ename": "Exception",
     "evalue": "Dataset already exists",
     "output_type": "error",
     "traceback": [
      "\u001b[0;31m---------------------------------------------------------------------------\u001b[0m",
      "\u001b[0;31mException\u001b[0m                                 Traceback (most recent call last)",
      "Cell \u001b[0;32mIn[10], line 1\u001b[0m\n\u001b[0;32m----> 1\u001b[0m \u001b[43mingest_q0\u001b[49m\u001b[43m(\u001b[49m\u001b[38;5;124;43m'\u001b[39;49m\u001b[38;5;124;43mEuroSAT-RGB\u001b[39;49m\u001b[38;5;124;43m'\u001b[39;49m\u001b[43m,\u001b[49m\u001b[43m \u001b[49m\u001b[43mdst_path\u001b[49m\u001b[43m)\u001b[49m\n",
      "File \u001b[0;32m/ipynbs/eotdl/datasets/ingest.py:27\u001b[0m, in \u001b[0;36mingest_q0\u001b[0;34m(dataset, path)\u001b[0m\n\u001b[1;32m     26\u001b[0m \u001b[38;5;28;01mdef\u001b[39;00m \u001b[38;5;21mingest_q0\u001b[39m(dataset, path):\n\u001b[0;32m---> 27\u001b[0m     \u001b[38;5;28;01mreturn\u001b[39;00m \u001b[43mingest_large_dataset\u001b[49m\u001b[43m(\u001b[49m\u001b[43mdataset\u001b[49m\u001b[43m,\u001b[49m\u001b[43m \u001b[49m\u001b[43mpath\u001b[49m\u001b[43m)\u001b[49m\n",
      "File \u001b[0;32m/ipynbs/eotdl/auth/main.py:38\u001b[0m, in \u001b[0;36mwith_auth.<locals>.wrapper\u001b[0;34m(*args, **kwargs)\u001b[0m\n\u001b[1;32m     36\u001b[0m \u001b[38;5;28;01mdef\u001b[39;00m \u001b[38;5;21mwrapper\u001b[39m(\u001b[38;5;241m*\u001b[39margs, \u001b[38;5;241m*\u001b[39m\u001b[38;5;241m*\u001b[39mkwargs):\n\u001b[1;32m     37\u001b[0m     user \u001b[38;5;241m=\u001b[39m auth()\n\u001b[0;32m---> 38\u001b[0m     \u001b[38;5;28;01mreturn\u001b[39;00m \u001b[43mfunc\u001b[49m\u001b[43m(\u001b[49m\u001b[38;5;241;43m*\u001b[39;49m\u001b[43margs\u001b[49m\u001b[43m,\u001b[49m\u001b[43m \u001b[49m\u001b[38;5;241;43m*\u001b[39;49m\u001b[38;5;241;43m*\u001b[39;49m\u001b[43mkwargs\u001b[49m\u001b[43m,\u001b[49m\u001b[43m \u001b[49m\u001b[43muser\u001b[49m\u001b[38;5;241;43m=\u001b[39;49m\u001b[43muser\u001b[49m\u001b[43m)\u001b[49m\n",
      "File \u001b[0;32m/ipynbs/eotdl/datasets/ingest.py:22\u001b[0m, in \u001b[0;36mingest_large_dataset\u001b[0;34m(name, path, logger, user)\u001b[0m\n\u001b[1;32m     20\u001b[0m ingest \u001b[38;5;241m=\u001b[39m IngestLargeDataset(api_repo, logger)\n\u001b[1;32m     21\u001b[0m inputs \u001b[38;5;241m=\u001b[39m ingest\u001b[38;5;241m.\u001b[39mInputs(name\u001b[38;5;241m=\u001b[39mname, path\u001b[38;5;241m=\u001b[39mpath, user\u001b[38;5;241m=\u001b[39muser)\n\u001b[0;32m---> 22\u001b[0m outputs \u001b[38;5;241m=\u001b[39m \u001b[43mingest\u001b[49m\u001b[43m(\u001b[49m\u001b[43minputs\u001b[49m\u001b[43m)\u001b[49m\n\u001b[1;32m     23\u001b[0m \u001b[38;5;28;01mreturn\u001b[39;00m outputs\u001b[38;5;241m.\u001b[39mdataset\n",
      "File \u001b[0;32m/ipynbs/eotdl/src/usecases/datasets/IngestLargeDataset.py:21\u001b[0m, in \u001b[0;36mIngestLargeDataset.__call__\u001b[0;34m(self, inputs)\u001b[0m\n\u001b[1;32m     19\u001b[0m data, error \u001b[38;5;241m=\u001b[39m \u001b[38;5;28mself\u001b[39m\u001b[38;5;241m.\u001b[39mrepo\u001b[38;5;241m.\u001b[39mretrieve_dataset(inputs\u001b[38;5;241m.\u001b[39mname)\n\u001b[1;32m     20\u001b[0m \u001b[38;5;28;01mif\u001b[39;00m data:\n\u001b[0;32m---> 21\u001b[0m     \u001b[38;5;28;01mraise\u001b[39;00m \u001b[38;5;167;01mException\u001b[39;00m(\u001b[38;5;124m\"\u001b[39m\u001b[38;5;124mDataset already exists\u001b[39m\u001b[38;5;124m\"\u001b[39m)\n\u001b[1;32m     22\u001b[0m \u001b[38;5;66;03m# allow only zip files\u001b[39;00m\n\u001b[1;32m     23\u001b[0m \u001b[38;5;28;01mif\u001b[39;00m \u001b[38;5;129;01mnot\u001b[39;00m inputs\u001b[38;5;241m.\u001b[39mpath\u001b[38;5;241m.\u001b[39mendswith(\u001b[38;5;124m\"\u001b[39m\u001b[38;5;124m.zip\u001b[39m\u001b[38;5;124m\"\u001b[39m):\n",
      "\u001b[0;31mException\u001b[0m: Dataset already exists"
     ]
    }
   ],
   "source": [
    "ingest_q0('EuroSAT-RGB', dst_path)"
   ]
  },
  {
   "cell_type": "markdown",
   "metadata": {},
   "source": [
    "> Here we are failing on purpose to avoid overpopulating the repository, but just change the dataset name to make it work."
   ]
  }
 ],
 "metadata": {
  "kernelspec": {
   "display_name": "Python 3 (ipykernel)",
   "language": "python",
   "name": "python3"
  },
  "language_info": {
   "codemirror_mode": {
    "name": "ipython",
    "version": 3
   },
   "file_extension": ".py",
   "mimetype": "text/x-python",
   "name": "python",
   "nbconvert_exporter": "python",
   "pygments_lexer": "ipython3",
   "version": "3.10.11"
  }
 },
 "nbformat": 4,
 "nbformat_minor": 2
}
