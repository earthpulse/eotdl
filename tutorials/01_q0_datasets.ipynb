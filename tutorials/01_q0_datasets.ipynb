{
 "cells": [
  {
   "attachments": {},
   "cell_type": "markdown",
   "metadata": {},
   "source": [
    "# Q0 Training Datasets"
   ]
  },
  {
   "attachments": {},
   "cell_type": "markdown",
   "metadata": {},
   "source": [
    "Training Datasets (TDS) in EOTDL are categorized into different [quality levels](/docs/datasets/quality), which in trun will impact on the range of functionality that will be available for each dataset.\n",
    "\n",
    "In this post you will learn about Q0 datsets, the lowest quality level. Q0 datasets are raw datasets in the form of a compressed archive without any metadata. This level is ideal for easy and fast upload/download of small datasets."
   ]
  },
  {
   "attachments": {},
   "cell_type": "markdown",
   "metadata": {},
   "source": [
    "##  Explore datasets"
   ]
  },
  {
   "attachments": {},
   "cell_type": "markdown",
   "metadata": {},
   "source": [
    "On of the first things that you may want to do within EOTDL is to explore the available datasets. You can do this at all accesibilit layers.\n",
    "\n",
    "In the user interface, visit [datasets](/datasets) to explore all the available datasets. You can click on a dataset card to see more information about it, download it, etc.\n",
    "\n",
    "You can also explore datasets using the API or the CLI, which will give you more flexibility and control over the results. Check the [documentation](/docs/datasets/explore) to learn more."
   ]
  },
  {
   "attachments": {},
   "cell_type": "markdown",
   "metadata": {},
   "source": [
    "##  Download datasets"
   ]
  },
  {
   "attachments": {},
   "cell_type": "markdown",
   "metadata": {},
   "source": [
    "Once you find a suitable dataset you can download it for training your models.\n",
    "\n",
    "In the user interface, click on the `DOWNLOAD` button in the dataset page. You’ll need to be logged in to download datasets.\n",
    "\n",
    "You can also download datasets using the API or the CLI, check the [documentation](/docs/datasets/download) to learn more."
   ]
  },
  {
   "attachments": {},
   "cell_type": "markdown",
   "metadata": {},
   "source": [
    "## Ingest datasets"
   ]
  },
  {
   "attachments": {},
   "cell_type": "markdown",
   "metadata": {},
   "source": [
    "Additionally, you can ingest your own datasets into EOTDL. This will allow you to use them in your own projects and share them with other users. Remember that Q0 datasets are raw datasets without any metadata, so you will need to provide some information about them.\n",
    "\n",
    "In the user interface, visit [datasets](/datasets) and click on the `INGEST` button. You’ll need to be logged in to ingest datasets.\n",
    "\n",
    "You can also ingest datasets using the API or the CLI, check the [documentation](/docs/datasets/ingest) to learn more."
   ]
  }
 ],
 "metadata": {
  "kernelspec": {
   "display_name": "base",
   "language": "python",
   "name": "python3"
  },
  "language_info": {
   "name": "python",
   "version": "3.8.10"
  },
  "orig_nbformat": 4
 },
 "nbformat": 4,
 "nbformat_minor": 2
}
