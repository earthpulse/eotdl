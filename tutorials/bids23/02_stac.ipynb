{
 "cells": [
  {
   "cell_type": "code",
   "execution_count": 2,
   "metadata": {},
   "outputs": [],
   "source": [
    "%load_ext autoreload\n",
    "%autoreload 2\n",
    "\n",
    "%load_ext dotenv\n",
    "%dotenv"
   ]
  },
  {
   "cell_type": "markdown",
   "metadata": {},
   "source": [
    "# STAC metadata generation"
   ]
  },
  {
   "cell_type": "markdown",
   "metadata": {},
   "source": [
    "In this notebook we are going to generate the STAC metadata of our dataset, converting it from a Q0 dataset to a [Q1 dataset](../00_eotdl.ipynb). \n",
    "\n",
    "The [STAC](https://stacspec.org/en) specification is a common language to describe geospatial information, so it can more easily be worked with, indexed, and discovered. Is a standarized way to expose, host, ingest and access geospatial collections that has been adopted as the EOTDL standard metadata format. For further information, check their [website](https://stacspec.org/en)."
   ]
  },
  {
   "cell_type": "markdown",
   "metadata": {},
   "source": [
    "In order to facilitate the STAC generation, which can be painful and time-expensive, the EOTDL environment has several open source tools that make the process much more straightforward. Let's dive into them!\n",
    "\n",
    "The first thing we have to understand is that the process starts with a `STACDataFrame`. This `STACDataFrame` is an interface between the images and the STAC catalogs and collections, with some variables that we can define and customise to ensure that the STAC metadata has the information we want, like `extensions`, which defines the [STAC extensions](https://stac-extensions.github.io/) that the image must have, or `bands`, with the bands we want to get from the image, if any.\n",
    "\n",
    "Let's see the example below."
   ]
  },
  {
   "cell_type": "code",
   "execution_count": 9,
   "metadata": {},
   "outputs": [
    {
     "data": {
      "text/html": [
       "<div>\n",
       "<style scoped>\n",
       "    .dataframe tbody tr th:only-of-type {\n",
       "        vertical-align: middle;\n",
       "    }\n",
       "\n",
       "    .dataframe tbody tr th {\n",
       "        vertical-align: top;\n",
       "    }\n",
       "\n",
       "    .dataframe thead th {\n",
       "        text-align: right;\n",
       "    }\n",
       "</style>\n",
       "<table border=\"1\" class=\"dataframe\">\n",
       "  <thead>\n",
       "    <tr style=\"text-align: right;\">\n",
       "      <th></th>\n",
       "      <th>image</th>\n",
       "      <th>label</th>\n",
       "      <th>ix</th>\n",
       "      <th>collection</th>\n",
       "      <th>extensions</th>\n",
       "      <th>bands</th>\n",
       "    </tr>\n",
       "  </thead>\n",
       "  <tbody>\n",
       "    <tr>\n",
       "      <th>0</th>\n",
       "      <td>data/sentinel_2/Boadella_2019-06-07/sentinel-2...</td>\n",
       "      <td>sentinel-2-l2a</td>\n",
       "      <td>0</td>\n",
       "      <td>data/sentinel_2/source</td>\n",
       "      <td>('proj', 'raster')</td>\n",
       "      <td>('B01', 'B02', 'B03', 'B04', 'B05', 'B06', 'B0...</td>\n",
       "    </tr>\n",
       "    <tr>\n",
       "      <th>1</th>\n",
       "      <td>data/sentinel_2/Boadella_2019-06-02/sentinel-2...</td>\n",
       "      <td>sentinel-2-l2a</td>\n",
       "      <td>0</td>\n",
       "      <td>data/sentinel_2/source</td>\n",
       "      <td>('proj', 'raster')</td>\n",
       "      <td>('B01', 'B02', 'B03', 'B04', 'B05', 'B06', 'B0...</td>\n",
       "    </tr>\n",
       "    <tr>\n",
       "      <th>2</th>\n",
       "      <td>data/sentinel_2/Boadella_2019-07-02/sentinel-2...</td>\n",
       "      <td>sentinel-2-l2a</td>\n",
       "      <td>0</td>\n",
       "      <td>data/sentinel_2/source</td>\n",
       "      <td>('proj', 'raster')</td>\n",
       "      <td>('B01', 'B02', 'B03', 'B04', 'B05', 'B06', 'B0...</td>\n",
       "    </tr>\n",
       "    <tr>\n",
       "      <th>3</th>\n",
       "      <td>data/sentinel_2/Boadella_2019-06-17/sentinel-2...</td>\n",
       "      <td>sentinel-2-l2a</td>\n",
       "      <td>0</td>\n",
       "      <td>data/sentinel_2/source</td>\n",
       "      <td>('proj', 'raster')</td>\n",
       "      <td>('B01', 'B02', 'B03', 'B04', 'B05', 'B06', 'B0...</td>\n",
       "    </tr>\n",
       "    <tr>\n",
       "      <th>4</th>\n",
       "      <td>data/sentinel_2/Boadella_2019-06-27/sentinel-2...</td>\n",
       "      <td>sentinel-2-l2a</td>\n",
       "      <td>0</td>\n",
       "      <td>data/sentinel_2/source</td>\n",
       "      <td>('proj', 'raster')</td>\n",
       "      <td>('B01', 'B02', 'B03', 'B04', 'B05', 'B06', 'B0...</td>\n",
       "    </tr>\n",
       "  </tbody>\n",
       "</table>\n",
       "</div>"
      ],
      "text/plain": [
       "                                               image           label  ix  \\\n",
       "0  data/sentinel_2/Boadella_2019-06-07/sentinel-2...  sentinel-2-l2a   0   \n",
       "1  data/sentinel_2/Boadella_2019-06-02/sentinel-2...  sentinel-2-l2a   0   \n",
       "2  data/sentinel_2/Boadella_2019-07-02/sentinel-2...  sentinel-2-l2a   0   \n",
       "3  data/sentinel_2/Boadella_2019-06-17/sentinel-2...  sentinel-2-l2a   0   \n",
       "4  data/sentinel_2/Boadella_2019-06-27/sentinel-2...  sentinel-2-l2a   0   \n",
       "\n",
       "               collection          extensions  \\\n",
       "0  data/sentinel_2/source  ('proj', 'raster')   \n",
       "1  data/sentinel_2/source  ('proj', 'raster')   \n",
       "2  data/sentinel_2/source  ('proj', 'raster')   \n",
       "3  data/sentinel_2/source  ('proj', 'raster')   \n",
       "4  data/sentinel_2/source  ('proj', 'raster')   \n",
       "\n",
       "                                               bands  \n",
       "0  ('B01', 'B02', 'B03', 'B04', 'B05', 'B06', 'B0...  \n",
       "1  ('B01', 'B02', 'B03', 'B04', 'B05', 'B06', 'B0...  \n",
       "2  ('B01', 'B02', 'B03', 'B04', 'B05', 'B06', 'B0...  \n",
       "3  ('B01', 'B02', 'B03', 'B04', 'B05', 'B06', 'B0...  \n",
       "4  ('B01', 'B02', 'B03', 'B04', 'B05', 'B06', 'B0...  "
      ]
     },
     "execution_count": 9,
     "metadata": {},
     "output_type": "execute_result"
    }
   ],
   "source": [
    "import pandas as pd\n",
    "\n",
    "sample_df = pd.read_csv('data/sample_stacdataframe.csv')\n",
    "sample_df"
   ]
  },
  {
   "cell_type": "markdown",
   "metadata": {},
   "source": [
    "This is a sample `STACDataFrame` already generated for our workshop. Here we can see a lot of information:\n",
    "- image: the path to every image.\n",
    "- label: the label assigned to every image. \n",
    "- ix: the index of the label.\n",
    "- collection: the collection which the image belongs to. \n",
    "- extensions: a list with the STAC extensions we want the image STAC item to have.\n",
    "- bands: a list of band we want the image STAC item to have.\n",
    "\n",
    "Now we have seen this, let's generate the STAC metadata for our dataset. Don't worry, we are going to explain it step by step!"
   ]
  },
  {
   "cell_type": "markdown",
   "metadata": {},
   "source": [
    "First of all, we need to import the `STACGenerator` class."
   ]
  },
  {
   "cell_type": "code",
   "execution_count": 10,
   "metadata": {},
   "outputs": [],
   "source": [
    "from eotdl.curation.stac.stac import STACGenerator"
   ]
  },
  {
   "cell_type": "markdown",
   "metadata": {},
   "source": [
    "The `STACGenerator` class is the entry point and the STAC generation class, where magic happens. Before we declare it, we need to understand the parameters we can give to it:\n",
    "- image_format: the extension of the images. Could be `png`, `jpg` and so on. By default is `tiff`.\n",
    "- catalog_type: the STAC Catalog type. It is a specification defined [here](https://pystac.readthedocs.io/en/0.4/concepts.html#catalog-types). By default is `SELF_CONTAINED`. \n",
    "- item_parser\n",
    "- assets_generator"
   ]
  },
  {
   "cell_type": "markdown",
   "metadata": {},
   "source": [
    "A key feature is the `label` column. Using the label of every image we are going to assign parameters like the STAC extensions that this image are going to have or the bands we want to extract."
   ]
  },
  {
   "cell_type": "code",
   "execution_count": 3,
   "metadata": {},
   "outputs": [
    {
     "data": {
      "text/html": [
       "<div>\n",
       "<style scoped>\n",
       "    .dataframe tbody tr th:only-of-type {\n",
       "        vertical-align: middle;\n",
       "    }\n",
       "\n",
       "    .dataframe tbody tr th {\n",
       "        vertical-align: top;\n",
       "    }\n",
       "\n",
       "    .dataframe thead th {\n",
       "        text-align: right;\n",
       "    }\n",
       "</style>\n",
       "<table border=\"1\" class=\"dataframe\">\n",
       "  <thead>\n",
       "    <tr style=\"text-align: right;\">\n",
       "      <th></th>\n",
       "      <th>image</th>\n",
       "      <th>label</th>\n",
       "      <th>ix</th>\n",
       "      <th>collection</th>\n",
       "      <th>extensions</th>\n",
       "      <th>bands</th>\n",
       "    </tr>\n",
       "  </thead>\n",
       "  <tbody>\n",
       "    <tr>\n",
       "      <th>0</th>\n",
       "      <td>data/sentinel_2/Boadella_2019-06-07/sentinel-2...</td>\n",
       "      <td>sentinel-2-l2a</td>\n",
       "      <td>0</td>\n",
       "      <td>data/sentinel_2/source</td>\n",
       "      <td>(proj, raster)</td>\n",
       "      <td>(B01, B02, B03, B04, B05, B06, B07, B08, B09, ...</td>\n",
       "    </tr>\n",
       "    <tr>\n",
       "      <th>1</th>\n",
       "      <td>data/sentinel_2/Boadella_2019-06-02/sentinel-2...</td>\n",
       "      <td>sentinel-2-l2a</td>\n",
       "      <td>0</td>\n",
       "      <td>data/sentinel_2/source</td>\n",
       "      <td>(proj, raster)</td>\n",
       "      <td>(B01, B02, B03, B04, B05, B06, B07, B08, B09, ...</td>\n",
       "    </tr>\n",
       "    <tr>\n",
       "      <th>2</th>\n",
       "      <td>data/sentinel_2/Boadella_2019-07-02/sentinel-2...</td>\n",
       "      <td>sentinel-2-l2a</td>\n",
       "      <td>0</td>\n",
       "      <td>data/sentinel_2/source</td>\n",
       "      <td>(proj, raster)</td>\n",
       "      <td>(B01, B02, B03, B04, B05, B06, B07, B08, B09, ...</td>\n",
       "    </tr>\n",
       "    <tr>\n",
       "      <th>3</th>\n",
       "      <td>data/sentinel_2/Boadella_2019-06-17/sentinel-2...</td>\n",
       "      <td>sentinel-2-l2a</td>\n",
       "      <td>0</td>\n",
       "      <td>data/sentinel_2/source</td>\n",
       "      <td>(proj, raster)</td>\n",
       "      <td>(B01, B02, B03, B04, B05, B06, B07, B08, B09, ...</td>\n",
       "    </tr>\n",
       "    <tr>\n",
       "      <th>4</th>\n",
       "      <td>data/sentinel_2/Boadella_2019-06-27/sentinel-2...</td>\n",
       "      <td>sentinel-2-l2a</td>\n",
       "      <td>0</td>\n",
       "      <td>data/sentinel_2/source</td>\n",
       "      <td>(proj, raster)</td>\n",
       "      <td>(B01, B02, B03, B04, B05, B06, B07, B08, B09, ...</td>\n",
       "    </tr>\n",
       "  </tbody>\n",
       "</table>\n",
       "</div>"
      ],
      "text/plain": [
       "                                               image           label  ix  \\\n",
       "0  data/sentinel_2/Boadella_2019-06-07/sentinel-2...  sentinel-2-l2a   0   \n",
       "1  data/sentinel_2/Boadella_2019-06-02/sentinel-2...  sentinel-2-l2a   0   \n",
       "2  data/sentinel_2/Boadella_2019-07-02/sentinel-2...  sentinel-2-l2a   0   \n",
       "3  data/sentinel_2/Boadella_2019-06-17/sentinel-2...  sentinel-2-l2a   0   \n",
       "4  data/sentinel_2/Boadella_2019-06-27/sentinel-2...  sentinel-2-l2a   0   \n",
       "\n",
       "               collection      extensions  \\\n",
       "0  data/sentinel_2/source  (proj, raster)   \n",
       "1  data/sentinel_2/source  (proj, raster)   \n",
       "2  data/sentinel_2/source  (proj, raster)   \n",
       "3  data/sentinel_2/source  (proj, raster)   \n",
       "4  data/sentinel_2/source  (proj, raster)   \n",
       "\n",
       "                                               bands  \n",
       "0  (B01, B02, B03, B04, B05, B06, B07, B08, B09, ...  \n",
       "1  (B01, B02, B03, B04, B05, B06, B07, B08, B09, ...  \n",
       "2  (B01, B02, B03, B04, B05, B06, B07, B08, B09, ...  \n",
       "3  (B01, B02, B03, B04, B05, B06, B07, B08, B09, ...  \n",
       "4  (B01, B02, B03, B04, B05, B06, B07, B08, B09, ...  "
      ]
     },
     "execution_count": 3,
     "metadata": {},
     "output_type": "execute_result"
    }
   ],
   "source": [
    "from eotdl.curation.stac.stac import STACGenerator\n",
    "from eotdl.curation.stac.assets import BandsAssetGenerator\n",
    "\n",
    "stac_generator = STACGenerator(assets_generator=BandsAssetGenerator)\n",
    "\n",
    "extensions = {'sentinel-2-l2a': ('proj', 'raster')}\n",
    "bands = {'sentinel-2-l2a': ('B01', 'B02', 'B03', 'B04', 'B05', 'B06', 'B07', 'B08', 'B09', 'B11', 'B12')}\n",
    "\n",
    "df = stac_generator.get_stac_dataframe('data/sentinel_2', bands=bands, extensions=extensions)\n",
    "df.head()"
   ]
  },
  {
   "cell_type": "code",
   "execution_count": 4,
   "metadata": {},
   "outputs": [
    {
     "name": "stdout",
     "output_type": "stream",
     "text": [
      "Generating source collection...\n"
     ]
    },
    {
     "name": "stderr",
     "output_type": "stream",
     "text": [
      "100%|██████████| 5/5 [00:00<00:00, 22.21it/s]"
     ]
    },
    {
     "name": "stdout",
     "output_type": "stream",
     "text": [
      "Validating and saving catalog...\n",
      "Success!\n"
     ]
    },
    {
     "name": "stderr",
     "output_type": "stream",
     "text": [
      "\n"
     ]
    }
   ],
   "source": [
    "stac_generator.generate_stac_metadata(id='boadella-dataset',\n",
    "                                      description='Boadella dataset',\n",
    "                                      output_folder='data/sentinel_2_stac')"
   ]
  }
 ],
 "metadata": {
  "kernelspec": {
   "display_name": "sen12floods",
   "language": "python",
   "name": "python3"
  },
  "language_info": {
   "codemirror_mode": {
    "name": "ipython",
    "version": 3
   },
   "file_extension": ".py",
   "mimetype": "text/x-python",
   "name": "python",
   "nbconvert_exporter": "python",
   "pygments_lexer": "ipython3",
   "version": "3.11.3"
  },
  "orig_nbformat": 4
 },
 "nbformat": 4,
 "nbformat_minor": 2
}
