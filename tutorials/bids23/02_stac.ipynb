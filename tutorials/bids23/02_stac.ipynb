{
 "cells": [
  {
   "cell_type": "markdown",
   "metadata": {},
   "source": [
    "# Generate STAC metadata"
   ]
  },
  {
   "cell_type": "markdown",
   "metadata": {},
   "source": [
    "In this notebook..."
   ]
  },
  {
   "cell_type": "code",
   "execution_count": 2,
   "metadata": {},
   "outputs": [],
   "source": [
    "%load_ext autoreload\n",
    "%autoreload 2\n",
    "\n",
    "%load_ext dotenv\n",
    "%dotenv"
   ]
  },
  {
   "cell_type": "code",
   "execution_count": 3,
   "metadata": {},
   "outputs": [],
   "source": [
    "from eotdl.curation.stac.stac import STACGenerator\n",
    "from eotdl.curation.stac.assets import BandsAssetGenerator"
   ]
  },
  {
   "cell_type": "code",
   "execution_count": 6,
   "metadata": {},
   "outputs": [
    {
     "data": {
      "text/html": [
       "<div>\n",
       "<style scoped>\n",
       "    .dataframe tbody tr th:only-of-type {\n",
       "        vertical-align: middle;\n",
       "    }\n",
       "\n",
       "    .dataframe tbody tr th {\n",
       "        vertical-align: top;\n",
       "    }\n",
       "\n",
       "    .dataframe thead th {\n",
       "        text-align: right;\n",
       "    }\n",
       "</style>\n",
       "<table border=\"1\" class=\"dataframe\">\n",
       "  <thead>\n",
       "    <tr style=\"text-align: right;\">\n",
       "      <th></th>\n",
       "      <th>image</th>\n",
       "      <th>label</th>\n",
       "      <th>ix</th>\n",
       "      <th>collection</th>\n",
       "      <th>extensions</th>\n",
       "      <th>bands</th>\n",
       "    </tr>\n",
       "  </thead>\n",
       "  <tbody>\n",
       "    <tr>\n",
       "      <th>0</th>\n",
       "      <td>data/sentinel_2/sentinel-2-l2a_Boadella_2019-0...</td>\n",
       "      <td>response</td>\n",
       "      <td>0</td>\n",
       "      <td>data/sentinel_2/source</td>\n",
       "      <td>None</td>\n",
       "      <td>None</td>\n",
       "    </tr>\n",
       "    <tr>\n",
       "      <th>1</th>\n",
       "      <td>data/sentinel_2/sentinel-2-l2a_Boadella_2019-0...</td>\n",
       "      <td>response</td>\n",
       "      <td>0</td>\n",
       "      <td>data/sentinel_2/source</td>\n",
       "      <td>None</td>\n",
       "      <td>None</td>\n",
       "    </tr>\n",
       "    <tr>\n",
       "      <th>2</th>\n",
       "      <td>data/sentinel_2/sentinel-2-l2a_Boadella_2019-0...</td>\n",
       "      <td>response</td>\n",
       "      <td>0</td>\n",
       "      <td>data/sentinel_2/source</td>\n",
       "      <td>None</td>\n",
       "      <td>None</td>\n",
       "    </tr>\n",
       "    <tr>\n",
       "      <th>3</th>\n",
       "      <td>data/sentinel_2/sentinel-2-l2a_Boadella_2019-0...</td>\n",
       "      <td>response</td>\n",
       "      <td>0</td>\n",
       "      <td>data/sentinel_2/source</td>\n",
       "      <td>None</td>\n",
       "      <td>None</td>\n",
       "    </tr>\n",
       "    <tr>\n",
       "      <th>4</th>\n",
       "      <td>data/sentinel_2/sentinel-2-l2a_Boadella_2019-0...</td>\n",
       "      <td>response</td>\n",
       "      <td>0</td>\n",
       "      <td>data/sentinel_2/source</td>\n",
       "      <td>None</td>\n",
       "      <td>None</td>\n",
       "    </tr>\n",
       "  </tbody>\n",
       "</table>\n",
       "</div>"
      ],
      "text/plain": [
       "                                               image     label  ix  \\\n",
       "0  data/sentinel_2/sentinel-2-l2a_Boadella_2019-0...  response   0   \n",
       "1  data/sentinel_2/sentinel-2-l2a_Boadella_2019-0...  response   0   \n",
       "2  data/sentinel_2/sentinel-2-l2a_Boadella_2019-0...  response   0   \n",
       "3  data/sentinel_2/sentinel-2-l2a_Boadella_2019-0...  response   0   \n",
       "4  data/sentinel_2/sentinel-2-l2a_Boadella_2019-0...  response   0   \n",
       "\n",
       "               collection extensions bands  \n",
       "0  data/sentinel_2/source       None  None  \n",
       "1  data/sentinel_2/source       None  None  \n",
       "2  data/sentinel_2/source       None  None  \n",
       "3  data/sentinel_2/source       None  None  \n",
       "4  data/sentinel_2/source       None  None  "
      ]
     },
     "execution_count": 6,
     "metadata": {},
     "output_type": "execute_result"
    }
   ],
   "source": [
    "stac_generator = STACGenerator(assets_generator=BandsAssetGenerator)\n",
    "\n",
    "extensions = {'SAR': ('sar', 'proj', 'raster'), 'SENTINEL-2': ('eo', 'proj', 'raster'), 'DEM': ('proj', 'raster')}\n",
    "bands = {'SAR': ('VV', 'VH'), 'SENTINEL-2': ('B01', 'B02', 'B03', 'B04', 'B05', 'B06', 'B07', 'B08', 'B09', 'B11', 'B12')}\n",
    "\n",
    "df = stac_generator.get_stac_dataframe('data/sentinel_2', bands=bands, extensions=extensions)\n",
    "df.head()"
   ]
  },
  {
   "cell_type": "code",
   "execution_count": null,
   "metadata": {},
   "outputs": [],
   "source": [
    "stac_generator.generate_stac_metadata(id='sen12-floods-eotdl',\n",
    "                                      description='SEN12 FLOODS EO-TDL dataset',\n",
    "                                      output_folder='data/sentinel_2_stac')"
   ]
  }
 ],
 "metadata": {
  "kernelspec": {
   "display_name": "sen12floods",
   "language": "python",
   "name": "python3"
  },
  "language_info": {
   "codemirror_mode": {
    "name": "ipython",
    "version": 3
   },
   "file_extension": ".py",
   "mimetype": "text/x-python",
   "name": "python",
   "nbconvert_exporter": "python",
   "pygments_lexer": "ipython3",
   "version": "3.11.3"
  },
  "orig_nbformat": 4
 },
 "nbformat": 4,
 "nbformat_minor": 2
}
