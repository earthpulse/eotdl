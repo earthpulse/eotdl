{
 "cells": [
  {
   "cell_type": "code",
   "execution_count": null,
   "metadata": {},
   "outputs": [],
   "source": [
    "%load_ext autoreload\n",
    "%autoreload 2\n",
    "\n",
    "%load_ext dotenv\n",
    "%dotenv"
   ]
  },
  {
   "cell_type": "markdown",
   "metadata": {},
   "source": [
    "# Label the dataset"
   ]
  },
  {
   "cell_type": "markdown",
   "metadata": {},
   "source": [
    "In this notebook we are going to label the images of our dataset using SCANEO. SCANEO is a labelling web application that allows tagging satellite images (to identify, e.g., objects present, terrain types, etc.) in an easy and fast way. The service provided by SCANEO is vital since it is necessary to prepare the satellite data so that it can be processed by neural networks, enabling active learning. \n",
    "\n",
    "Before running the web interface, we need to make sure we have the `scaneo` package installed in our machine and, if not, install it."
   ]
  },
  {
   "cell_type": "code",
   "execution_count": 8,
   "metadata": {},
   "outputs": [],
   "source": [
    "# !pip install scaneo   # uncomment to install scaneo"
   ]
  },
  {
   "cell_type": "markdown",
   "metadata": {},
   "source": [
    "Now we are sure we have `scaneo` installed in our computer, let's check what we can do with it."
   ]
  },
  {
   "cell_type": "code",
   "execution_count": 9,
   "metadata": {},
   "outputs": [
    {
     "name": "stdout",
     "output_type": "stream",
     "text": [
      "\u001b[1m                                                                                \u001b[0m\n",
      "\u001b[1m \u001b[0m\u001b[1;33mUsage: \u001b[0m\u001b[1mscaneo [OPTIONS]\u001b[0m\u001b[1m                                                       \u001b[0m\u001b[1m \u001b[0m\n",
      "\u001b[1m                                                                                \u001b[0m\n",
      "\u001b[2m╭─\u001b[0m\u001b[2m Options \u001b[0m\u001b[2m───────────────────────────────────────────────────────────────────\u001b[0m\u001b[2m─╮\u001b[0m\n",
      "\u001b[2m│\u001b[0m \u001b[1;36m-\u001b[0m\u001b[1;36m-port\u001b[0m                                   \u001b[1;33mINTEGER\u001b[0m  Port to run the server on  \u001b[2m│\u001b[0m\n",
      "\u001b[2m│\u001b[0m                                                   \u001b[2m[default: 8000]          \u001b[0m  \u001b[2m│\u001b[0m\n",
      "\u001b[2m│\u001b[0m \u001b[1;36m-\u001b[0m\u001b[1;36m-reload\u001b[0m                  \u001b[1;35m-\u001b[0m\u001b[1;35m-no\u001b[0m\u001b[1;35m-reload\u001b[0m    \u001b[1;33m       \u001b[0m  Reload the server when     \u001b[2m│\u001b[0m\n",
      "\u001b[2m│\u001b[0m                                                   files change               \u001b[2m│\u001b[0m\n",
      "\u001b[2m│\u001b[0m                                                   \u001b[2m[default: reload]         \u001b[0m \u001b[2m│\u001b[0m\n",
      "\u001b[2m│\u001b[0m \u001b[1;36m-\u001b[0m\u001b[1;36m-host\u001b[0m                                   \u001b[1;33mTEXT   \u001b[0m  Host to run the server on  \u001b[2m│\u001b[0m\n",
      "\u001b[2m│\u001b[0m                                                   \u001b[2m[default: localhost]     \u001b[0m  \u001b[2m│\u001b[0m\n",
      "\u001b[2m│\u001b[0m \u001b[1;36m-\u001b[0m\u001b[1;36m-data\u001b[0m                \u001b[1;32m-d\u001b[0m                 \u001b[1;33mPATH   \u001b[0m  Path to data directory     \u001b[2m│\u001b[0m\n",
      "\u001b[2m│\u001b[0m                                                   \u001b[2m[default: None]       \u001b[0m     \u001b[2m│\u001b[0m\n",
      "\u001b[2m│\u001b[0m \u001b[1;36m-\u001b[0m\u001b[1;36m-image\u001b[0m                                  \u001b[1;33mPATH   \u001b[0m  Save masks as vector or    \u001b[2m│\u001b[0m\n",
      "\u001b[2m│\u001b[0m                                                   raster                     \u001b[2m│\u001b[0m\n",
      "\u001b[2m│\u001b[0m                                                   \u001b[2m[default: vector]         \u001b[0m \u001b[2m│\u001b[0m\n",
      "\u001b[2m│\u001b[0m \u001b[1;36m-\u001b[0m\u001b[1;36m-env\u001b[0m                                    \u001b[1;33mPATH   \u001b[0m  Path to environment file   \u001b[2m│\u001b[0m\n",
      "\u001b[2m│\u001b[0m                                                   with credentials to cloud  \u001b[2m│\u001b[0m\n",
      "\u001b[2m│\u001b[0m                                                   bucket: URL, ACCESS_KEY,   \u001b[2m│\u001b[0m\n",
      "\u001b[2m│\u001b[0m                                                   SECRET_KEY, BUCKET, REGION \u001b[2m│\u001b[0m\n",
      "\u001b[2m│\u001b[0m                                                   \u001b[2m[default: .env]           \u001b[0m \u001b[2m│\u001b[0m\n",
      "\u001b[2m│\u001b[0m \u001b[1;36m-\u001b[0m\u001b[1;36m-install\u001b[0m\u001b[1;36m-completion\u001b[0m                     \u001b[1;33m       \u001b[0m  Install completion for the \u001b[2m│\u001b[0m\n",
      "\u001b[2m│\u001b[0m                                                   current shell.             \u001b[2m│\u001b[0m\n",
      "\u001b[2m│\u001b[0m \u001b[1;36m-\u001b[0m\u001b[1;36m-show\u001b[0m\u001b[1;36m-completion\u001b[0m                        \u001b[1;33m       \u001b[0m  Show completion for the    \u001b[2m│\u001b[0m\n",
      "\u001b[2m│\u001b[0m                                                   current shell, to copy it  \u001b[2m│\u001b[0m\n",
      "\u001b[2m│\u001b[0m                                                   or customize the           \u001b[2m│\u001b[0m\n",
      "\u001b[2m│\u001b[0m                                                   installation.              \u001b[2m│\u001b[0m\n",
      "\u001b[2m│\u001b[0m \u001b[1;36m-\u001b[0m\u001b[1;36m-help\u001b[0m                                   \u001b[1;33m       \u001b[0m  Show this message and      \u001b[2m│\u001b[0m\n",
      "\u001b[2m│\u001b[0m                                                   exit.                      \u001b[2m│\u001b[0m\n",
      "\u001b[2m╰──────────────────────────────────────────────────────────────────────────────╯\u001b[0m\n",
      "\n"
     ]
    }
   ],
   "source": [
    "!scaneo --help"
   ]
  },
  {
   "cell_type": "markdown",
   "metadata": {},
   "source": [
    "As seen, we have several options in `scaneo` usage, such as selecting the default port to run the server, the host, environment parameters, and so on. In this workshop, what we need is as simple as give the path of our dataset."
   ]
  },
  {
   "cell_type": "code",
   "execution_count": null,
   "metadata": {},
   "outputs": [],
   "source": [
    "!scaneo --data data/sentinel_2   # TODO revise"
   ]
  },
  {
   "cell_type": "markdown",
   "metadata": {},
   "source": [
    "And voilà, SCANEO is running! Now just open your browser, go to [adf](https://localhost:8000) and let's start labeling!"
   ]
  },
  {
   "cell_type": "markdown",
   "metadata": {},
   "source": [
    "![scaneo](./images/scaneo.png)"
   ]
  },
  {
   "cell_type": "markdown",
   "metadata": {},
   "source": [
    "To sum up this section, we have learned how to install and run SCANEO, our tool to easily label satellite imagery datasets, and we have use it to label our dataset and extract the water masks from the images.\n",
    "\n",
    "Let's continue to the [03_ingest_stac](./03_ingest_stac.ipynb) notebook. We almost have our own dataset!"
   ]
  }
 ],
 "metadata": {
  "kernelspec": {
   "display_name": "sen12floods",
   "language": "python",
   "name": "python3"
  },
  "language_info": {
   "codemirror_mode": {
    "name": "ipython",
    "version": 3
   },
   "file_extension": ".py",
   "mimetype": "text/x-python",
   "name": "python",
   "nbconvert_exporter": "python",
   "pygments_lexer": "ipython3",
   "version": "3.11.3"
  },
  "orig_nbformat": 4
 },
 "nbformat": 4,
 "nbformat_minor": 2
}
