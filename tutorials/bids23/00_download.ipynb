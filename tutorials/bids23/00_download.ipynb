{
 "cells": [
  {
   "cell_type": "markdown",
   "metadata": {},
   "source": [
    "# Exploration and download"
   ]
  },
  {
   "cell_type": "markdown",
   "metadata": {},
   "source": [
    "In this notebook we are going to explore the area of interest and download Sentinel-2 images in a defined time interval, using the EO-TDL library."
   ]
  },
  {
   "cell_type": "code",
   "execution_count": 1,
   "metadata": {},
   "outputs": [],
   "source": [
    "%load_ext autoreload\n",
    "%autoreload 2\n",
    "\n",
    "%load_ext dotenv\n",
    "%dotenv"
   ]
  },
  {
   "cell_type": "markdown",
   "metadata": {},
   "source": [
    "## Explore the AoI"
   ]
  },
  {
   "cell_type": "markdown",
   "metadata": {},
   "source": [
    "First of all, let's explore the area of interest of this workshop. In this case we have chosen the [Boadella reservoir](https://es.wikipedia.org/wiki/Embalse_de_Darnius_Boadella) in Catalonia, Spain, which geometry is in the data folder as `data/boadella.geojson`. \n",
    "\n",
    "To do the exploration we are going to use [leafmap](https://leafmap.org/). As we want to make the first zoom to our AoI we need the centroid of the geoJSON file, which will also help us later to extract the bounding box of the images to download."
   ]
  },
  {
   "cell_type": "code",
   "execution_count": 25,
   "metadata": {},
   "outputs": [
    {
     "data": {
      "application/vnd.jupyter.widget-view+json": {
       "model_id": "778ceb16ee3e47d3b63b70c9ab2332cc",
       "version_major": 2,
       "version_minor": 0
      },
      "text/plain": [
       "Map(center=[42.347577325903515, 2.815024677909404], controls=(ZoomControl(options=['position', 'zoom_in_text',…"
      ]
     },
     "execution_count": 25,
     "metadata": {},
     "output_type": "execute_result"
    }
   ],
   "source": [
    "import leafmap\n",
    "import geopandas as gpd\n",
    "\n",
    "in_geojson = 'data/boadella.geojson'\n",
    "gdf = gpd.read_file(in_geojson)\n",
    "\n",
    "centroid_coords = gdf['geometry'].centroid\n",
    "centroid = [centroid_coords.y.values[0], centroid_coords.x.values[0]]   # We are going to use the centroid later\n",
    "\n",
    "m = leafmap.Map(center=centroid, zoom=13)\n",
    "m.add_geojson(in_geojson, layer_name=\"Boadella reservoir\")\n",
    "m"
   ]
  },
  {
   "cell_type": "markdown",
   "metadata": {},
   "source": [
    "## Download data throug Sentinel Hub"
   ]
  },
  {
   "cell_type": "code",
   "execution_count": 3,
   "metadata": {},
   "outputs": [],
   "source": [
    "from os import getenv\n",
    "from eotdl.access import SHClient\n",
    "\n",
    "sh_client_id = getenv('SH_CLIENT_ID')\n",
    "sh_client_secret = getenv('SH_CLIENT_SECRET')\n",
    "\n",
    "client = SHClient(sh_client_id=sh_client_id, \n",
    "                  sh_client_secret=sh_client_secret)"
   ]
  },
  {
   "cell_type": "markdown",
   "metadata": {},
   "source": [
    "Note: If you already had a Sentinel HUB account before accepting the Terms and Conditions, your SH credentials will NOT appear here (you can retrieve them from you Sentinel HUB dashboard)."
   ]
  }
 ],
 "metadata": {
  "kernelspec": {
   "display_name": "Python 3",
   "language": "python",
   "name": "python3"
  },
  "language_info": {
   "codemirror_mode": {
    "name": "ipython",
    "version": 3
   },
   "file_extension": ".py",
   "mimetype": "text/x-python",
   "name": "python",
   "nbconvert_exporter": "python",
   "pygments_lexer": "ipython3",
   "version": "3.11.3"
  },
  "orig_nbformat": 4
 },
 "nbformat": 4,
 "nbformat_minor": 2
}
