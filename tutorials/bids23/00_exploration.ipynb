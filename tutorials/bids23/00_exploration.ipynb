{
 "cells": [
  {
   "cell_type": "markdown",
   "metadata": {},
   "source": [
    "# Exploration and download"
   ]
  },
  {
   "cell_type": "markdown",
   "metadata": {},
   "source": [
    "In this notebook we are going to explore the area of interest and download Sentinel-2 images in a defined time interval, using the EO-TDL library."
   ]
  },
  {
   "cell_type": "code",
   "execution_count": 1,
   "metadata": {},
   "outputs": [],
   "source": [
    "%load_ext autoreload\n",
    "%autoreload 2\n",
    "\n",
    "%load_ext dotenv\n",
    "%dotenv"
   ]
  },
  {
   "cell_type": "markdown",
   "metadata": {},
   "source": [
    "## Explore the AoI"
   ]
  },
  {
   "cell_type": "markdown",
   "metadata": {},
   "source": [
    "First of all, let's explore the area of interest of this workshop. In this case we have chosen the [Boadella reservoir](https://es.wikipedia.org/wiki/Embalse_de_Darnius_Boadella) in Catalonia, Spain, which geometry is in the data folder as `data/boadella.geojson`. \n",
    "\n",
    "To do the exploration we are going to use [leafmap](https://leafmap.org/). As we want to make the first zoom to our AoI we need the centroid of the geoJSON file, which will also help us later to extract the bounding box of the images to download."
   ]
  },
  {
   "cell_type": "code",
   "execution_count": 2,
   "metadata": {},
   "outputs": [
    {
     "data": {
      "application/vnd.jupyter.widget-view+json": {
       "model_id": "594db2ddba9f42bd8c7b2a26ce78152d",
       "version_major": 2,
       "version_minor": 0
      },
      "text/plain": [
       "Map(center=[42.347577325903515, 2.815024677909404], controls=(ZoomControl(options=['position', 'zoom_in_text',…"
      ]
     },
     "execution_count": 2,
     "metadata": {},
     "output_type": "execute_result"
    }
   ],
   "source": [
    "import leafmap\n",
    "import geopandas as gpd\n",
    "\n",
    "in_geojson = 'data/boadella.geojson'\n",
    "gdf = gpd.read_file(in_geojson)\n",
    "\n",
    "centroid_coords = gdf['geometry'].centroid\n",
    "centroid = [centroid_coords.y.values[0], centroid_coords.x.values[0]]   # We are going to use the centroid later\n",
    "\n",
    "m = leafmap.Map(center=centroid, zoom=13)\n",
    "m.add_geojson(in_geojson, layer_name=\"Boadella reservoir\")\n",
    "m"
   ]
  },
  {
   "cell_type": "markdown",
   "metadata": {},
   "source": [
    "## Create bounding box"
   ]
  },
  {
   "cell_type": "markdown",
   "metadata": {},
   "source": [
    "Images 512x512 10m"
   ]
  },
  {
   "cell_type": "code",
   "execution_count": 3,
   "metadata": {},
   "outputs": [],
   "source": [
    "from eotdl.tools.tools import bbox_from_centroid\n",
    "\n",
    "boadella_bbox = bbox_from_centroid(x=centroid[0], y=centroid[1], pixel_size=10, width=512, height=512)"
   ]
  },
  {
   "cell_type": "markdown",
   "metadata": {},
   "source": [
    "Visualize bounding box"
   ]
  },
  {
   "cell_type": "code",
   "execution_count": 4,
   "metadata": {},
   "outputs": [
    {
     "data": {
      "application/vnd.jupyter.widget-view+json": {
       "model_id": "594db2ddba9f42bd8c7b2a26ce78152d",
       "version_major": 2,
       "version_minor": 0
      },
      "text/plain": [
       "Map(center=[42.347577325903515, 2.815024677909404], controls=(ZoomControl(options=['position', 'zoom_in_text',…"
      ]
     },
     "execution_count": 4,
     "metadata": {},
     "output_type": "execute_result"
    }
   ],
   "source": [
    "from eotdl.tools.tools import bbox_to_polygon\n",
    "\n",
    "boadella_polygon = bbox_to_polygon(boadella_bbox)\n",
    "# comment...\n",
    "gdf = gpd.GeoDataFrame(geometry=[boadella_polygon])\n",
    "# comment...\n",
    "# gdf.to_file('data/boadella_bbox.geojson', driver='GeoJSON')   # Uncomment to save the bbox as a GeoJSON file\n",
    "\n",
    "m.add_geojson('data/boadella_bbox.geojson', layer_name=\"Boadella bbox\")\n",
    "m"
   ]
  },
  {
   "cell_type": "markdown",
   "metadata": {},
   "source": [
    "## Explore Sentinel-2 available data"
   ]
  },
  {
   "cell_type": "code",
   "execution_count": 5,
   "metadata": {},
   "outputs": [],
   "source": [
    "from os import getenv\n",
    "from eotdl.access import SHClient\n",
    "\n",
    "sh_client_id = getenv('SH_CLIENT_ID')\n",
    "sh_client_secret = getenv('SH_CLIENT_SECRET')\n",
    "\n",
    "client = SHClient(sh_client_id=sh_client_id, \n",
    "                  sh_client_secret=sh_client_secret)"
   ]
  },
  {
   "cell_type": "markdown",
   "metadata": {},
   "source": [
    "> Note: If you already had a Sentinel HUB account before accepting the Terms and Conditions, your SH credentials will NOT appear here (you can retrieve them from you Sentinel HUB dashboard)."
   ]
  },
  {
   "cell_type": "markdown",
   "metadata": {},
   "source": [
    "Range of dates (see archive `data/dates.csv` ...)"
   ]
  },
  {
   "cell_type": "code",
   "execution_count": 15,
   "metadata": {},
   "outputs": [
    {
     "name": "stdout",
     "output_type": "stream",
     "text": [
      "['2019-06-02', '2019-06-07', '2019-06-17', '2019-06-27', '2019-07-02', '2019-07-12', '2019-07-17', '2019-07-22', '2019-08-01', '2019-08-11', '2019-08-16', '2019-08-21', '2019-08-26', '2019-08-31', '2019-09-05', '2019-09-15', '2019-09-30', '2019-10-15', '2019-10-25', '2019-10-30', '2019-11-04', '2019-11-09', '2019-11-24', '2019-11-29', '2019-12-09', '2020-01-13', '2020-01-28', '2020-02-02', '2020-02-17', '2020-02-22', '2020-03-08', '2020-05-07', '2020-05-22', '2020-05-27', '2020-06-21', '2020-07-01', '2020-07-06', '2020-07-11', '2020-07-21', '2020-07-26', '2020-07-31', '2020-08-05', '2020-08-10', '2020-08-15', '2020-08-20', '2020-08-25', '2020-08-30', '2020-09-04', '2020-09-09', '2020-09-14', '2020-10-19', '2020-10-24', '2020-10-29', '2020-11-08', '2020-11-18', '2020-11-23', '2020-12-03', '2020-12-28', '2021-01-12', '2021-01-27', '2021-02-26', '2021-03-18', '2021-03-23', '2021-03-28', '2021-04-02', '2021-04-07', '2021-04-12', '2021-05-12', '2021-05-27', '2021-06-21', '2021-06-26', '2021-07-01', '2021-07-16', '2021-07-21', '2021-07-26', '2021-08-05', '2021-08-15', '2021-08-20', '2021-10-14', '2021-10-19', '2021-10-29', '2021-11-13', '2021-11-18', '2021-12-03', '2021-12-18', '2022-01-07', '2022-01-12', '2022-01-17', '2022-01-22', '2022-01-27', '2022-02-01', '2022-02-06', '2022-02-21', '2022-02-26', '2022-03-03', '2022-03-08', '2022-04-02', '2022-04-22', '2022-05-12', '2022-05-17', '2022-05-22', '2022-06-01', '2022-06-06', '2022-06-11', '2022-06-16', '2022-07-01', '2022-07-11', '2022-07-16', '2022-07-21', '2022-07-31', '2022-08-05', '2022-08-10', '2022-08-20', '2022-08-25', '2022-08-30', '2022-09-04', '2022-09-19', '2022-10-04', '2022-10-09', '2022-10-24', '2022-12-03', '2022-12-18', '2022-12-23', '2022-12-28', '2023-01-07', '2023-01-17', '2023-01-22', '2023-02-01', '2023-02-11', '2023-02-16', '2023-03-03', '2023-03-08', '2023-03-13', '2023-03-18', '2023-03-23', '2023-03-28', '2023-04-02', '2023-04-07', '2023-04-12', '2023-04-17', '2023-05-02', '2023-05-17', '2023-05-27', '2023-06-06', '2023-06-16', '2023-06-26', '2023-07-21', '2023-07-31', '2023-08-05', '2023-08-10', '2023-08-15', '2023-08-20', '2023-08-25', '2023-08-30', '2023-09-04', '2023-09-09', '2023-09-19']\n"
     ]
    }
   ],
   "source": [
    "import csv\n",
    "\n",
    "dates = []\n",
    "with open(\"data/dates.csv\", \"r\") as file:\n",
    "    reader = csv.reader(file)\n",
    "    for row in reader:\n",
    "        dates.append(row[0])\n",
    "dates.sort()\n",
    "\n",
    "print(dates)"
   ]
  },
  {
   "cell_type": "markdown",
   "metadata": {},
   "source": [
    "We need a dict with format ...\n",
    "Although we have the dates, we are going to search for the entire time interval ..."
   ]
  },
  {
   "cell_type": "code",
   "execution_count": 16,
   "metadata": {},
   "outputs": [],
   "source": [
    "from eotdl.tools import get_available_data_by_location\n",
    "\n",
    "boadella_search_dict = {\n",
    "    'Boadella': {\n",
    "        'bounding_box': boadella_bbox,\n",
    "        'time_interval': (dates[0], dates[-1])\n",
    "    }\n",
    "}\n",
    "\n",
    "boadella_available_data, boadella_not_available_data = get_available_data_by_location(boadella_search_dict, \n",
    "                                                         eotdl_client=client,\n",
    "                                                         sentinel_mission='sentinel-2')"
   ]
  },
  {
   "cell_type": "markdown",
   "metadata": {},
   "source": [
    "The result is a dict with a list of dates with available images (...)"
   ]
  },
  {
   "cell_type": "code",
   "execution_count": 17,
   "metadata": {},
   "outputs": [
    {
     "name": "stdout",
     "output_type": "stream",
     "text": [
      "2023-09-19\n",
      "2023-09-14\n",
      "2023-09-09\n",
      "2023-09-04\n",
      "2023-08-30\n"
     ]
    }
   ],
   "source": [
    "dates = boadella_available_data['Boadella']['time_interval']\n",
    "dates[:5]"
   ]
  },
  {
   "cell_type": "code",
   "execution_count": null,
   "metadata": {},
   "outputs": [],
   "source": [
    "print(len(dates))"
   ]
  },
  {
   "cell_type": "markdown",
   "metadata": {},
   "source": [
    "We got a list with dates with available Sentinel-2 images for our AoI. Eventhough we can use it, we already have a list of dates with available data we know is usable for the workshop (no cloud, etc) (...). \n",
    "\n",
    "Let's continue in the `01_download` notebook and download the images!"
   ]
  }
 ],
 "metadata": {
  "kernelspec": {
   "display_name": "Python 3",
   "language": "python",
   "name": "python3"
  },
  "language_info": {
   "codemirror_mode": {
    "name": "ipython",
    "version": 3
   },
   "file_extension": ".py",
   "mimetype": "text/x-python",
   "name": "python",
   "nbconvert_exporter": "python",
   "pygments_lexer": "ipython3",
   "version": "3.11.3"
  },
  "orig_nbformat": 4
 },
 "nbformat": 4,
 "nbformat_minor": 2
}
