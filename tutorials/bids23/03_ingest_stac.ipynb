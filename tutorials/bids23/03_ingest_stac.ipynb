{
 "cells": [
  {
   "cell_type": "code",
   "execution_count": 2,
   "metadata": {},
   "outputs": [],
   "source": [
    "%load_ext autoreload\n",
    "%autoreload 2\n",
    "\n",
    "%load_ext dotenv\n",
    "%dotenv"
   ]
  },
  {
   "cell_type": "markdown",
   "metadata": {},
   "source": [
    "# Dataset ingestion and STAC metadata generation"
   ]
  },
  {
   "cell_type": "markdown",
   "metadata": {},
   "source": [
    "In this notebook we are going to ingest and generate the STAC metadata of our dataset, converting it from a Q0 dataset to a [Q2 dataset](../00_eotdl.ipynb). "
   ]
  },
  {
   "cell_type": "markdown",
   "metadata": {},
   "source": [
    "## Dataset Q0 ingestion"
   ]
  },
  {
   "cell_type": "markdown",
   "metadata": {},
   "source": [
    "As a logged EOTDL user, you can ingest your own datasets into EOTDL. This will allow you to use them in your own projects and share them with other users. This can be done both in the user interface, visitting [datasets](https://www.eotdl.com/datasets) and clicking on the `INGEST` button, or using the API, CLI and library, which we recommend to use the CLI. We encourage you to check the [documentation](/docs/datasets/ingest) to learn more.\n",
    "\n",
    "In this workshop, we are going to ingest our very own dataset using the library. So, let's get started!"
   ]
  },
  {
   "cell_type": "markdown",
   "metadata": {},
   "source": [
    "In order to ingest a Q0 dataset we will need two things:\n",
    "1. Obviously, the folder with the data that we want to upload, which in our case is `data/sentinel_2`. Is must be compressed in a `zip` file.\n",
    "2. A `metadata.yml` file, required with the following structure:\n",
    "\n",
    "```yaml\n",
    "name: dataset-name\n",
    "authors: \n",
    "  - author 1\n",
    "  - author 2\n",
    "license: dataset-license\n",
    "source: http://link-to-source\n",
    "```"
   ]
  },
  {
   "cell_type": "markdown",
   "metadata": {},
   "source": [
    "Let's generate the required files in a new folder, which we can name `data/sentinel_2_q0`. Here we must put our zipped dataset, which can be named `boadella.zip`, and a `metadata.yml`, which can be as follows. Feel free to edit at your own."
   ]
  },
  {
   "cell_type": "markdown",
   "metadata": {},
   "source": [
    "```yaml\n",
    "name: my-own-dataset   # Change as you wish\n",
    "authors: \n",
    "  - Juan B. Pedro      # Put your name here\n",
    "license: MIT\n",
    "source: https://www.eotdl.com/\n",
    "```"
   ]
  },
  {
   "cell_type": "code",
   "execution_count": 3,
   "metadata": {},
   "outputs": [
    {
     "data": {
      "text/plain": [
       "['.DS_Store', 'boadella.zip', 'metadata.yml']"
      ]
     },
     "execution_count": 3,
     "metadata": {},
     "output_type": "execute_result"
    }
   ],
   "source": [
    "import os \n",
    "\n",
    "os.listdir('data/sentinel_2_q0')"
   ]
  },
  {
   "cell_type": "markdown",
   "metadata": {},
   "source": [
    "Now we have the required files, let's ingest our Q0 dataset!"
   ]
  },
  {
   "cell_type": "code",
   "execution_count": 5,
   "metadata": {},
   "outputs": [
    {
     "name": "stdout",
     "output_type": "stream",
     "text": [
      "Uploading directory (only files, not recursive)\n"
     ]
    },
    {
     "ename": "Exception",
     "evalue": "[{'type': 'missing', 'loc': ['body', 'file'], 'msg': 'Field required', 'input': None, 'url': 'https://errors.pydantic.dev/2.4/v/missing'}]",
     "output_type": "error",
     "traceback": [
      "\u001b[0;31m---------------------------------------------------------------------------\u001b[0m",
      "\u001b[0;31mException\u001b[0m                                 Traceback (most recent call last)",
      "\u001b[1;32m/Users/fran/Documents/Projects/eotdl/tutorials/bids23/03_ingest_stac.ipynb Cell 11\u001b[0m line \u001b[0;36m3\n\u001b[1;32m      <a href='vscode-notebook-cell:/Users/fran/Documents/Projects/eotdl/tutorials/bids23/03_ingest_stac.ipynb#X46sZmlsZQ%3D%3D?line=0'>1</a>\u001b[0m \u001b[39mfrom\u001b[39;00m \u001b[39meotdl\u001b[39;00m\u001b[39m.\u001b[39;00m\u001b[39mdatasets\u001b[39;00m \u001b[39mimport\u001b[39;00m ingest_dataset\n\u001b[0;32m----> <a href='vscode-notebook-cell:/Users/fran/Documents/Projects/eotdl/tutorials/bids23/03_ingest_stac.ipynb#X46sZmlsZQ%3D%3D?line=2'>3</a>\u001b[0m ingest_dataset(\u001b[39m'\u001b[39m\u001b[39mdata/sentinel_2_q0\u001b[39m\u001b[39m'\u001b[39m)\n",
      "File \u001b[0;32m~/Documents/Projects/eotdl/tutorials/bids23/eotdl/datasets/ingest.py:28\u001b[0m, in \u001b[0;36mingest_dataset\u001b[0;34m(path, f, d, logger)\u001b[0m\n\u001b[1;32m     26\u001b[0m \u001b[39mif\u001b[39;00m \u001b[39m\"\u001b[39m\u001b[39mcatalog.json\u001b[39m\u001b[39m\"\u001b[39m \u001b[39min\u001b[39;00m [f\u001b[39m.\u001b[39mname \u001b[39mfor\u001b[39;00m f \u001b[39min\u001b[39;00m path\u001b[39m.\u001b[39miterdir()]:\n\u001b[1;32m     27\u001b[0m     \u001b[39mreturn\u001b[39;00m ingest_stac(path \u001b[39m/\u001b[39m \u001b[39m\"\u001b[39m\u001b[39mcatalog.json\u001b[39m\u001b[39m\"\u001b[39m, logger)\n\u001b[0;32m---> 28\u001b[0m \u001b[39mreturn\u001b[39;00m ingest_folder(path, f, d, logger)\n",
      "File \u001b[0;32m~/Documents/Projects/eotdl/tutorials/bids23/eotdl/auth/main.py:38\u001b[0m, in \u001b[0;36mwith_auth.<locals>.wrapper\u001b[0;34m(*args, **kwargs)\u001b[0m\n\u001b[1;32m     36\u001b[0m \u001b[39mdef\u001b[39;00m \u001b[39mwrapper\u001b[39m(\u001b[39m*\u001b[39margs, \u001b[39m*\u001b[39m\u001b[39m*\u001b[39mkwargs):\n\u001b[1;32m     37\u001b[0m     user \u001b[39m=\u001b[39m auth()\n\u001b[0;32m---> 38\u001b[0m     \u001b[39mreturn\u001b[39;00m func(\u001b[39m*\u001b[39margs, \u001b[39m*\u001b[39m\u001b[39m*\u001b[39mkwargs, user\u001b[39m=\u001b[39muser)\n",
      "File \u001b[0;32m~/Documents/Projects/eotdl/tutorials/bids23/eotdl/datasets/ingest.py:53\u001b[0m, in \u001b[0;36mingest_folder\u001b[0;34m(folder, force, delete, logger, user)\u001b[0m\n\u001b[1;32m     51\u001b[0m ingest \u001b[39m=\u001b[39m IngestFolder(api_repo, ingest_file, allowed_extensions, logger)\n\u001b[1;32m     52\u001b[0m inputs \u001b[39m=\u001b[39m ingest\u001b[39m.\u001b[39mInputs(folder\u001b[39m=\u001b[39mfolder, user\u001b[39m=\u001b[39muser, force\u001b[39m=\u001b[39mforce, delete\u001b[39m=\u001b[39mdelete)\n\u001b[0;32m---> 53\u001b[0m outputs \u001b[39m=\u001b[39m ingest(inputs)\n\u001b[1;32m     54\u001b[0m \u001b[39mreturn\u001b[39;00m outputs\u001b[39m.\u001b[39mdataset\n",
      "File \u001b[0;32m~/Documents/Projects/eotdl/tutorials/bids23/eotdl/src/usecases/datasets/IngestFolder.py:54\u001b[0m, in \u001b[0;36mIngestFolder.__call__\u001b[0;34m(self, inputs)\u001b[0m\n\u001b[1;32m     52\u001b[0m data, error2 \u001b[39m=\u001b[39m \u001b[39mself\u001b[39m\u001b[39m.\u001b[39mrepo\u001b[39m.\u001b[39mretrieve_dataset(metadata\u001b[39m.\u001b[39mname)\n\u001b[1;32m     53\u001b[0m \u001b[39mif\u001b[39;00m error2:\n\u001b[0;32m---> 54\u001b[0m     \u001b[39mraise\u001b[39;00m \u001b[39mException\u001b[39;00m(error)\n\u001b[1;32m     55\u001b[0m \u001b[39mif\u001b[39;00m data[\u001b[39m\"\u001b[39m\u001b[39muid\u001b[39m\u001b[39m\"\u001b[39m] \u001b[39m!=\u001b[39m inputs\u001b[39m.\u001b[39muser[\u001b[39m\"\u001b[39m\u001b[39msub\u001b[39m\u001b[39m\"\u001b[39m]:\n\u001b[1;32m     56\u001b[0m     \u001b[39mraise\u001b[39;00m \u001b[39mException\u001b[39;00m(\u001b[39m\"\u001b[39m\u001b[39mDataset already exists.\u001b[39m\u001b[39m\"\u001b[39m)\n",
      "\u001b[0;31mException\u001b[0m: [{'type': 'missing', 'loc': ['body', 'file'], 'msg': 'Field required', 'input': None, 'url': 'https://errors.pydantic.dev/2.4/v/missing'}]"
     ]
    }
   ],
   "source": [
    "from eotdl.datasets import ingest_dataset\n",
    "\n",
    "ingest_dataset('data/sentinel_2_q0')"
   ]
  },
  {
   "cell_type": "markdown",
   "metadata": {},
   "source": [
    "## STAC generation"
   ]
  },
  {
   "cell_type": "markdown",
   "metadata": {},
   "source": [
    "The [STAC](https://stacspec.org/en) specification is a common language to describe geospatial information, so it can more easily be worked with, indexed, and discovered. Is a standarized way to expose, host, ingest and access geospatial collections that has been adopted as the EOTDL standard metadata format. For further information, check their [website](https://stacspec.org/en).\n",
    "\n",
    "In order to facilitate the STAC generation, which can be painful and time-expensive, the EOTDL environment has several open source tools that make the process much more straightforward. Let's dive into them!\n",
    "\n",
    "The first thing we have to understand is that the process starts with a `STACDataFrame`. This `STACDataFrame` is an interface between the images and the STAC catalogs and collections, with some variables that we can define and customise to ensure that the STAC metadata has the information we want, like `extensions`, which defines the [STAC extensions](https://stac-extensions.github.io/) that the image must have, or `bands`, with the bands we want to get from the image, if any.\n",
    "\n",
    "Let's see the example below."
   ]
  },
  {
   "cell_type": "code",
   "execution_count": 2,
   "metadata": {},
   "outputs": [
    {
     "data": {
      "text/html": [
       "<div>\n",
       "<style scoped>\n",
       "    .dataframe tbody tr th:only-of-type {\n",
       "        vertical-align: middle;\n",
       "    }\n",
       "\n",
       "    .dataframe tbody tr th {\n",
       "        vertical-align: top;\n",
       "    }\n",
       "\n",
       "    .dataframe thead th {\n",
       "        text-align: right;\n",
       "    }\n",
       "</style>\n",
       "<table border=\"1\" class=\"dataframe\">\n",
       "  <thead>\n",
       "    <tr style=\"text-align: right;\">\n",
       "      <th></th>\n",
       "      <th>image</th>\n",
       "      <th>label</th>\n",
       "      <th>ix</th>\n",
       "      <th>collection</th>\n",
       "      <th>extensions</th>\n",
       "      <th>bands</th>\n",
       "    </tr>\n",
       "  </thead>\n",
       "  <tbody>\n",
       "    <tr>\n",
       "      <th>0</th>\n",
       "      <td>data/sentinel_2/Boadella_2019-06-07/sentinel-2...</td>\n",
       "      <td>sentinel-2-l2a</td>\n",
       "      <td>0</td>\n",
       "      <td>data/sentinel_2/source</td>\n",
       "      <td>('proj', 'raster')</td>\n",
       "      <td>('B01', 'B02', 'B03', 'B04', 'B05', 'B06', 'B0...</td>\n",
       "    </tr>\n",
       "    <tr>\n",
       "      <th>1</th>\n",
       "      <td>data/sentinel_2/Boadella_2019-06-02/sentinel-2...</td>\n",
       "      <td>sentinel-2-l2a</td>\n",
       "      <td>0</td>\n",
       "      <td>data/sentinel_2/source</td>\n",
       "      <td>('proj', 'raster')</td>\n",
       "      <td>('B01', 'B02', 'B03', 'B04', 'B05', 'B06', 'B0...</td>\n",
       "    </tr>\n",
       "    <tr>\n",
       "      <th>2</th>\n",
       "      <td>data/sentinel_2/Boadella_2019-07-02/sentinel-2...</td>\n",
       "      <td>sentinel-2-l2a</td>\n",
       "      <td>0</td>\n",
       "      <td>data/sentinel_2/source</td>\n",
       "      <td>('proj', 'raster')</td>\n",
       "      <td>('B01', 'B02', 'B03', 'B04', 'B05', 'B06', 'B0...</td>\n",
       "    </tr>\n",
       "    <tr>\n",
       "      <th>3</th>\n",
       "      <td>data/sentinel_2/Boadella_2019-06-17/sentinel-2...</td>\n",
       "      <td>sentinel-2-l2a</td>\n",
       "      <td>0</td>\n",
       "      <td>data/sentinel_2/source</td>\n",
       "      <td>('proj', 'raster')</td>\n",
       "      <td>('B01', 'B02', 'B03', 'B04', 'B05', 'B06', 'B0...</td>\n",
       "    </tr>\n",
       "    <tr>\n",
       "      <th>4</th>\n",
       "      <td>data/sentinel_2/Boadella_2019-06-27/sentinel-2...</td>\n",
       "      <td>sentinel-2-l2a</td>\n",
       "      <td>0</td>\n",
       "      <td>data/sentinel_2/source</td>\n",
       "      <td>('proj', 'raster')</td>\n",
       "      <td>('B01', 'B02', 'B03', 'B04', 'B05', 'B06', 'B0...</td>\n",
       "    </tr>\n",
       "  </tbody>\n",
       "</table>\n",
       "</div>"
      ],
      "text/plain": [
       "                                               image           label  ix  \\\n",
       "0  data/sentinel_2/Boadella_2019-06-07/sentinel-2...  sentinel-2-l2a   0   \n",
       "1  data/sentinel_2/Boadella_2019-06-02/sentinel-2...  sentinel-2-l2a   0   \n",
       "2  data/sentinel_2/Boadella_2019-07-02/sentinel-2...  sentinel-2-l2a   0   \n",
       "3  data/sentinel_2/Boadella_2019-06-17/sentinel-2...  sentinel-2-l2a   0   \n",
       "4  data/sentinel_2/Boadella_2019-06-27/sentinel-2...  sentinel-2-l2a   0   \n",
       "\n",
       "               collection          extensions  \\\n",
       "0  data/sentinel_2/source  ('proj', 'raster')   \n",
       "1  data/sentinel_2/source  ('proj', 'raster')   \n",
       "2  data/sentinel_2/source  ('proj', 'raster')   \n",
       "3  data/sentinel_2/source  ('proj', 'raster')   \n",
       "4  data/sentinel_2/source  ('proj', 'raster')   \n",
       "\n",
       "                                               bands  \n",
       "0  ('B01', 'B02', 'B03', 'B04', 'B05', 'B06', 'B0...  \n",
       "1  ('B01', 'B02', 'B03', 'B04', 'B05', 'B06', 'B0...  \n",
       "2  ('B01', 'B02', 'B03', 'B04', 'B05', 'B06', 'B0...  \n",
       "3  ('B01', 'B02', 'B03', 'B04', 'B05', 'B06', 'B0...  \n",
       "4  ('B01', 'B02', 'B03', 'B04', 'B05', 'B06', 'B0...  "
      ]
     },
     "execution_count": 2,
     "metadata": {},
     "output_type": "execute_result"
    }
   ],
   "source": [
    "import pandas as pd\n",
    "\n",
    "sample_df = pd.read_csv('data/sample_stacdataframe.csv')\n",
    "sample_df"
   ]
  },
  {
   "cell_type": "markdown",
   "metadata": {},
   "source": [
    "This is a sample `STACDataFrame` already generated for our workshop. Here we can see a lot of information:\n",
    "- image: the path to every image.\n",
    "- label: the label assigned to every image. \n",
    "- ix: the index of the label.\n",
    "- collection: the collection which the image belongs to. \n",
    "- extensions: a list with the STAC extensions we want the image STAC item to have.\n",
    "- bands: a list of band we want the image STAC item to have.\n",
    "\n",
    "Now we have seen this, let's generate the STAC metadata for our dataset. Don't worry, we are going to explain it step by step!"
   ]
  },
  {
   "cell_type": "markdown",
   "metadata": {},
   "source": [
    "First of all, we need to import the `STACGenerator` class."
   ]
  },
  {
   "cell_type": "code",
   "execution_count": 6,
   "metadata": {},
   "outputs": [],
   "source": [
    "from eotdl.curation.stac.stac import STACGenerator"
   ]
  },
  {
   "cell_type": "markdown",
   "metadata": {},
   "source": [
    "The `STACGenerator` class is the entry point and the STAC generation class, where magic happens. Before we declare it, we need to understand the parameters we can give to it:\n",
    "- `image_format`: the extension of the images. Could be `png`, `jpg` and so on. By default is `tiff`.\n",
    "- `catalog_type`: the STAC Catalog type. It is a specification defined [here](https://pystac.readthedocs.io/en/0.4/concepts.html#catalog-types). By default is `SELF_CONTAINED`. \n",
    "- `item_parser`: the item_parser defines the strategy that must be followed to search for satellite images within the folder. We have defined 2 item_parser strategies, and new ones can be added as needed. The strategies that are implemented right now are the following.\n",
    "    - `StructuredParser`: this strategy is used when the images are each contained within a folder, so that the name of the item will be the name of the folder.\n",
    "    \n",
    "    <p align=\"center\">\n",
    "        <img src=\"images/structured_parser.png\" alt=\"Structured parser typical folder structure\" style=\"height:170px; width:200px;\"/>\n",
    "    </p>\n",
    "    \n",
    "    - `UnestructuredParser`: this strategy is used when there are multiple images contained in the same folder. We will use this strategy when using the EOTDL to download the dataset images, as it will always format the folder structure the same way. As this is what we have done, it is the strategy that we will use for the use case of this workshop, as all the images are in the same folder.\n",
    "\n",
    "    <p align=\"center\">\n",
    "        <img src=\"images/unestructured_parser.png\" alt=\"Structured parser typical folder structure\" style=\"height:200px; width:200px;\"/>\n",
    "    </p>\n",
    "    \n",
    "- `assets_generator`: the assets_generator parameter defines the strategy to follow with the generation of assets from each image. In this way, it could be the case that from a Sentinel-2 image we want to extract all its bands as assets, or simply extract the RGB bands, or not extract any as assets. By default, three strategies have been established, which can be expanded according to needs.\n",
    "\n",
    "    - `STACAssetGenerator`: does not extract new assets from the image bands, so a single asset is generated for the image.\n",
    "    - `BandsAssetGenerator`: from the original image it creates a new file for each band established in the 'bands` column, deleting the original file. An asset is added to the STAC item for each band.\n",
    "    - `ExtractedAssets`: indicates that the bands of an image have already been extracted as independent files, so it creates an item for each image taking the files as assets.\n",
    "    \n",
    "\n",
    "- `labeling_strategy`: the `labeling_strategy` parameter defines the strategy to extract a label from the filename of an image, to assign a label to it. By default, we have implemented 2 strategies:\n",
    "\n",
    "    - `UnlabeledStrategy`: we will use it when the images do not have a label that identifies them or that has been placed on purpose. It is the one we will use in our case, since the filename is simply the name of the constellation, and it is the default option.\n",
    "    - `LabeledStrategy`: we will use it when the images are labeled with labels in their filenames. An example would be that in a folder the images were called, for example, River_1.png, River_2.png, River_3.png, and so on. The file name must be the pattern <label>_<number>. This is the option we are going to use in the workshop, as all the images filenames are `boadella_<id>`.\n",
    "\n",
    "\n",
    "For the specific case of our workshop, we will take into account the following:\n",
    "- The images have been downloaded using the EOTDL and are each in the same folder, so as `item_parser` we will use `UnestructuredParser`.\n",
    "- In this case we do not want to extract bands from the image as assets, so as `asset_generator` we will use `STACAssetGenerator`, which is the default option.\n",
    "- As said, although the images do not have labels in their filenames we can use the `LabeledStrategy`, as all the images filenames are `boadella_<id>`."
   ]
  },
  {
   "cell_type": "code",
   "execution_count": 9,
   "metadata": {},
   "outputs": [],
   "source": [
    "from eotdl.curation.stac.stac import STACGenerator\n",
    "from eotdl.curation.stac.assets import STACAssetGenerator\n",
    "from eotdl.curation.stac.parsers import UnestructuredParser\n",
    "from eotdl.curation.stac.labeling import LabeledStrategy\n",
    "\n",
    "stac_generator = STACGenerator(item_parser=UnestructuredParser, \n",
    "                               assets_generator=STACAssetGenerator, \n",
    "                               labeling_strategy=LabeledStrategy,\n",
    "                               image_format='tif'\n",
    "                               )"
   ]
  },
  {
   "cell_type": "markdown",
   "metadata": {},
   "source": [
    "If we now decide to generate a `STACDataFrame` from the folder with the images it will do fine, but it will be incomplete."
   ]
  },
  {
   "cell_type": "code",
   "execution_count": 10,
   "metadata": {},
   "outputs": [
    {
     "data": {
      "text/html": [
       "<div>\n",
       "<style scoped>\n",
       "    .dataframe tbody tr th:only-of-type {\n",
       "        vertical-align: middle;\n",
       "    }\n",
       "\n",
       "    .dataframe tbody tr th {\n",
       "        vertical-align: top;\n",
       "    }\n",
       "\n",
       "    .dataframe thead th {\n",
       "        text-align: right;\n",
       "    }\n",
       "</style>\n",
       "<table border=\"1\" class=\"dataframe\">\n",
       "  <thead>\n",
       "    <tr style=\"text-align: right;\">\n",
       "      <th></th>\n",
       "      <th>image</th>\n",
       "      <th>label</th>\n",
       "      <th>ix</th>\n",
       "      <th>collection</th>\n",
       "      <th>extensions</th>\n",
       "      <th>bands</th>\n",
       "    </tr>\n",
       "  </thead>\n",
       "  <tbody>\n",
       "    <tr>\n",
       "      <th>0</th>\n",
       "      <td>data/sentinel_2/Boadella_2.tif</td>\n",
       "      <td>Boadella</td>\n",
       "      <td>0</td>\n",
       "      <td>data/sentinel_2/source</td>\n",
       "      <td>None</td>\n",
       "      <td>None</td>\n",
       "    </tr>\n",
       "    <tr>\n",
       "      <th>1</th>\n",
       "      <td>data/sentinel_2/Boadella_3.tif</td>\n",
       "      <td>Boadella</td>\n",
       "      <td>0</td>\n",
       "      <td>data/sentinel_2/source</td>\n",
       "      <td>None</td>\n",
       "      <td>None</td>\n",
       "    </tr>\n",
       "    <tr>\n",
       "      <th>2</th>\n",
       "      <td>data/sentinel_2/Boadella_1.tif</td>\n",
       "      <td>Boadella</td>\n",
       "      <td>0</td>\n",
       "      <td>data/sentinel_2/source</td>\n",
       "      <td>None</td>\n",
       "      <td>None</td>\n",
       "    </tr>\n",
       "    <tr>\n",
       "      <th>3</th>\n",
       "      <td>data/sentinel_2/Boadella_4.tif</td>\n",
       "      <td>Boadella</td>\n",
       "      <td>0</td>\n",
       "      <td>data/sentinel_2/source</td>\n",
       "      <td>None</td>\n",
       "      <td>None</td>\n",
       "    </tr>\n",
       "    <tr>\n",
       "      <th>4</th>\n",
       "      <td>data/sentinel_2/Boadella_5.tif</td>\n",
       "      <td>Boadella</td>\n",
       "      <td>0</td>\n",
       "      <td>data/sentinel_2/source</td>\n",
       "      <td>None</td>\n",
       "      <td>None</td>\n",
       "    </tr>\n",
       "  </tbody>\n",
       "</table>\n",
       "</div>"
      ],
      "text/plain": [
       "                            image     label  ix              collection  \\\n",
       "0  data/sentinel_2/Boadella_2.tif  Boadella   0  data/sentinel_2/source   \n",
       "1  data/sentinel_2/Boadella_3.tif  Boadella   0  data/sentinel_2/source   \n",
       "2  data/sentinel_2/Boadella_1.tif  Boadella   0  data/sentinel_2/source   \n",
       "3  data/sentinel_2/Boadella_4.tif  Boadella   0  data/sentinel_2/source   \n",
       "4  data/sentinel_2/Boadella_5.tif  Boadella   0  data/sentinel_2/source   \n",
       "\n",
       "  extensions bands  \n",
       "0       None  None  \n",
       "1       None  None  \n",
       "2       None  None  \n",
       "3       None  None  \n",
       "4       None  None  "
      ]
     },
     "execution_count": 10,
     "metadata": {},
     "output_type": "execute_result"
    }
   ],
   "source": [
    "df = stac_generator.get_stac_dataframe('data/sentinel_2')\n",
    "df.head()"
   ]
  },
  {
   "cell_type": "markdown",
   "metadata": {},
   "source": [
    "A key feature is the `label` column. Using the label of every image we are going to assign parameters like the STAC extensions that this image's item is going to have, or the bands we want to extract using the `BandsAssetGenerator`. We can obtain the existing labels in the STACDataFrame before adding new information."
   ]
  },
  {
   "cell_type": "code",
   "execution_count": 11,
   "metadata": {},
   "outputs": [
    {
     "data": {
      "text/plain": [
       "['Boadella']"
      ]
     },
     "execution_count": 11,
     "metadata": {},
     "output_type": "execute_result"
    }
   ],
   "source": [
    "labels = df.label.unique().tolist()\n",
    "labels"
   ]
  },
  {
   "cell_type": "markdown",
   "metadata": {},
   "source": [
    "Starting from the `Boadella` label we are going to define the STAC extensions. As STAC extensions we are going to implement the [proj](https://github.com/stac-extensions/projection), [raster](https://github.com/stac-extensions/raster) and [eo](https://github.com/stac-extensions/eo) STAC extensions. Note: the supported extensiones are `('eo', 'sar', 'proj', 'raster')`.\n",
    "\n",
    "To define these parameters for each label, we simply have to declare a dictionary."
   ]
  },
  {
   "cell_type": "code",
   "execution_count": 18,
   "metadata": {},
   "outputs": [],
   "source": [
    "extensions = {'Boadella': ('proj', 'raster', 'eo')}"
   ]
  },
  {
   "cell_type": "markdown",
   "metadata": {},
   "source": [
    "> Note: if we wanted to extract the bands as assets, we should create a dict following the same convention, just as follows. As said it is not required for this workshop, but could be useful for other use cases.\n",
    "\n",
    "```\n",
    "bands = {'sentinel-2-l2a': ('B01', 'B02', 'B03', 'B04', 'B05', 'B06', 'B07', 'B08', 'B09', 'B11', 'B12')}\n",
    "```"
   ]
  },
  {
   "cell_type": "markdown",
   "metadata": {},
   "source": [
    "Now we are ready to generate a `STACDataFrame` with relevant information. Some extra parameters to take into account:\n",
    "- `path`: is the root path where the images are located at. In our case is `data/sentinel_2`.\n",
    "- `collections`: we can use this parameter to define the STAC collection to which we want each item with a specific label to go. There are several options:\n",
    "    - The default option puts all the STAC items in a single collection called `source`.\n",
    "    - The `*` option will consider folders located directly under the root folder as collections, so it will create a collection for each of them.\n",
    "\n",
    "    <p align=\"center\">\n",
    "        <img src=\"images/collection.png\" alt=\"* collection\" style=\"height:170px; width:200px;\"/>\n",
    "    </p>\n",
    "\n",
    "    - You can decide the collection you want an image to go to through its label, as we have seen in the case of extensions and bands. To give an example, we are going to define it like this."
   ]
  },
  {
   "cell_type": "code",
   "execution_count": 16,
   "metadata": {},
   "outputs": [],
   "source": [
    "collection = {'Boadella': 'boadella-sentinel-2'}"
   ]
  },
  {
   "cell_type": "markdown",
   "metadata": {},
   "source": [
    "Let's generate the complete STACDataFrame!"
   ]
  },
  {
   "cell_type": "code",
   "execution_count": 19,
   "metadata": {},
   "outputs": [
    {
     "data": {
      "text/html": [
       "<div>\n",
       "<style scoped>\n",
       "    .dataframe tbody tr th:only-of-type {\n",
       "        vertical-align: middle;\n",
       "    }\n",
       "\n",
       "    .dataframe tbody tr th {\n",
       "        vertical-align: top;\n",
       "    }\n",
       "\n",
       "    .dataframe thead th {\n",
       "        text-align: right;\n",
       "    }\n",
       "</style>\n",
       "<table border=\"1\" class=\"dataframe\">\n",
       "  <thead>\n",
       "    <tr style=\"text-align: right;\">\n",
       "      <th></th>\n",
       "      <th>image</th>\n",
       "      <th>label</th>\n",
       "      <th>ix</th>\n",
       "      <th>collection</th>\n",
       "      <th>extensions</th>\n",
       "      <th>bands</th>\n",
       "    </tr>\n",
       "  </thead>\n",
       "  <tbody>\n",
       "    <tr>\n",
       "      <th>0</th>\n",
       "      <td>data/sentinel_2/Boadella_2.tif</td>\n",
       "      <td>Boadella</td>\n",
       "      <td>0</td>\n",
       "      <td>data/sentinel_2/boadella-sentinel-2</td>\n",
       "      <td>(proj, raster, eo)</td>\n",
       "      <td>None</td>\n",
       "    </tr>\n",
       "    <tr>\n",
       "      <th>1</th>\n",
       "      <td>data/sentinel_2/Boadella_3.tif</td>\n",
       "      <td>Boadella</td>\n",
       "      <td>0</td>\n",
       "      <td>data/sentinel_2/boadella-sentinel-2</td>\n",
       "      <td>(proj, raster, eo)</td>\n",
       "      <td>None</td>\n",
       "    </tr>\n",
       "    <tr>\n",
       "      <th>2</th>\n",
       "      <td>data/sentinel_2/Boadella_1.tif</td>\n",
       "      <td>Boadella</td>\n",
       "      <td>0</td>\n",
       "      <td>data/sentinel_2/boadella-sentinel-2</td>\n",
       "      <td>(proj, raster, eo)</td>\n",
       "      <td>None</td>\n",
       "    </tr>\n",
       "    <tr>\n",
       "      <th>3</th>\n",
       "      <td>data/sentinel_2/Boadella_4.tif</td>\n",
       "      <td>Boadella</td>\n",
       "      <td>0</td>\n",
       "      <td>data/sentinel_2/boadella-sentinel-2</td>\n",
       "      <td>(proj, raster, eo)</td>\n",
       "      <td>None</td>\n",
       "    </tr>\n",
       "    <tr>\n",
       "      <th>4</th>\n",
       "      <td>data/sentinel_2/Boadella_5.tif</td>\n",
       "      <td>Boadella</td>\n",
       "      <td>0</td>\n",
       "      <td>data/sentinel_2/boadella-sentinel-2</td>\n",
       "      <td>(proj, raster, eo)</td>\n",
       "      <td>None</td>\n",
       "    </tr>\n",
       "  </tbody>\n",
       "</table>\n",
       "</div>"
      ],
      "text/plain": [
       "                            image     label  ix  \\\n",
       "0  data/sentinel_2/Boadella_2.tif  Boadella   0   \n",
       "1  data/sentinel_2/Boadella_3.tif  Boadella   0   \n",
       "2  data/sentinel_2/Boadella_1.tif  Boadella   0   \n",
       "3  data/sentinel_2/Boadella_4.tif  Boadella   0   \n",
       "4  data/sentinel_2/Boadella_5.tif  Boadella   0   \n",
       "\n",
       "                            collection          extensions bands  \n",
       "0  data/sentinel_2/boadella-sentinel-2  (proj, raster, eo)  None  \n",
       "1  data/sentinel_2/boadella-sentinel-2  (proj, raster, eo)  None  \n",
       "2  data/sentinel_2/boadella-sentinel-2  (proj, raster, eo)  None  \n",
       "3  data/sentinel_2/boadella-sentinel-2  (proj, raster, eo)  None  \n",
       "4  data/sentinel_2/boadella-sentinel-2  (proj, raster, eo)  None  "
      ]
     },
     "execution_count": 19,
     "metadata": {},
     "output_type": "execute_result"
    }
   ],
   "source": [
    "df = stac_generator.get_stac_dataframe('data/sentinel_2', collections=collection, extensions=extensions)\n",
    "df.head()"
   ]
  },
  {
   "cell_type": "markdown",
   "metadata": {},
   "source": [
    "It looks good! We have all we need to generate the STAC metadata. We only have to give the catalog an `id`, a `description` and an `output_folder`!"
   ]
  },
  {
   "cell_type": "code",
   "execution_count": 10,
   "metadata": {},
   "outputs": [
    {
     "name": "stdout",
     "output_type": "stream",
     "text": [
      "Generating boadella-sentinel-2 collection...\n"
     ]
    },
    {
     "name": "stderr",
     "output_type": "stream",
     "text": [
      "100%|██████████| 5/5 [00:00<00:00, 47.99it/s]"
     ]
    },
    {
     "name": "stdout",
     "output_type": "stream",
     "text": [
      "Validating and saving catalog...\n",
      "Success!\n"
     ]
    },
    {
     "name": "stderr",
     "output_type": "stream",
     "text": [
      "\n"
     ]
    }
   ],
   "source": [
    "stac_generator.generate_stac_metadata(id='boadella-dataset',\n",
    "                                      description='Boadella dataset',\n",
    "                                      output_folder='data/sentinel_2_stac')"
   ]
  },
  {
   "cell_type": "markdown",
   "metadata": {},
   "source": [
    "explicar..."
   ]
  },
  {
   "cell_type": "code",
   "execution_count": 1,
   "metadata": {},
   "outputs": [
    {
     "name": "stdout",
     "output_type": "stream",
     "text": [
      "Generating labels collection...\n"
     ]
    },
    {
     "name": "stderr",
     "output_type": "stream",
     "text": [
      "5it [00:00, 677.97it/s]\n"
     ]
    }
   ],
   "source": [
    "from eotdl.curation.stac.extensions import ScaneoLabeler\n",
    "\n",
    "labeler = ScaneoLabeler()\n",
    "\n",
    "catalog = 'data/sentinel_2_stac/catalog.json'\n",
    "labeler.generate_stac_labels(\n",
    "    catalog=catalog,\n",
    "    root_folder='data/sentinel_2',\n",
    "    collection='boadella-sentinel-2'\n",
    ")"
   ]
  },
  {
   "cell_type": "markdown",
   "metadata": {},
   "source": [
    "Voilà! We have generated the STAC metadata from our Q0 dataset, converting it into a Q1 dataset!"
   ]
  }
 ],
 "metadata": {
  "kernelspec": {
   "display_name": "sen12floods",
   "language": "python",
   "name": "python3"
  },
  "language_info": {
   "codemirror_mode": {
    "name": "ipython",
    "version": 3
   },
   "file_extension": ".py",
   "mimetype": "text/x-python",
   "name": "python",
   "nbconvert_exporter": "python",
   "pygments_lexer": "ipython3",
   "version": "3.11.3"
  },
  "orig_nbformat": 4
 },
 "nbformat": 4,
 "nbformat_minor": 2
}
