{
 "cells": [
  {
   "cell_type": "code",
   "execution_count": 1,
   "metadata": {},
   "outputs": [],
   "source": [
    "%load_ext autoreload\n",
    "%autoreload 2\n",
    "\n",
    "%load_ext dotenv\n",
    "%dotenv"
   ]
  },
  {
   "cell_type": "markdown",
   "metadata": {},
   "source": [
    "# STAC metadata generation"
   ]
  },
  {
   "cell_type": "markdown",
   "metadata": {},
   "source": [
    "In this notebook we are going to generate the STAC metadata of our dataset, converting it from a Q0 dataset to a [Q1 dataset](../00_eotdl.ipynb). \n",
    "\n",
    "The [STAC](https://stacspec.org/en) specification is a common language to describe geospatial information, so it can more easily be worked with, indexed, and discovered. Is a standarized way to expose, host, ingest and access geospatial collections that has been adopted as the EOTDL standard metadata format. For further information, check their [website](https://stacspec.org/en)."
   ]
  },
  {
   "cell_type": "markdown",
   "metadata": {},
   "source": [
    "In order to facilitate the STAC generation, which can be painful and time-expensive, the EOTDL environment has several open source tools that make the process much more straightforward. Let's dive into them!\n",
    "\n",
    "The first thing we have to understand is that the process starts with a `STACDataFrame`. This `STACDataFrame` is an interface between the images and the STAC catalogs and collections, with some variables that we can define and customise to ensure that the STAC metadata has the information we want, like `extensions`, which defines the [STAC extensions](https://stac-extensions.github.io/) that the image must have, or `bands`, with the bands we want to get from the image, if any.\n",
    "\n",
    "Let's see the example below."
   ]
  },
  {
   "cell_type": "code",
   "execution_count": 2,
   "metadata": {},
   "outputs": [
    {
     "data": {
      "text/html": [
       "<div>\n",
       "<style scoped>\n",
       "    .dataframe tbody tr th:only-of-type {\n",
       "        vertical-align: middle;\n",
       "    }\n",
       "\n",
       "    .dataframe tbody tr th {\n",
       "        vertical-align: top;\n",
       "    }\n",
       "\n",
       "    .dataframe thead th {\n",
       "        text-align: right;\n",
       "    }\n",
       "</style>\n",
       "<table border=\"1\" class=\"dataframe\">\n",
       "  <thead>\n",
       "    <tr style=\"text-align: right;\">\n",
       "      <th></th>\n",
       "      <th>image</th>\n",
       "      <th>label</th>\n",
       "      <th>ix</th>\n",
       "      <th>collection</th>\n",
       "      <th>extensions</th>\n",
       "      <th>bands</th>\n",
       "    </tr>\n",
       "  </thead>\n",
       "  <tbody>\n",
       "    <tr>\n",
       "      <th>0</th>\n",
       "      <td>data/sentinel_2/Boadella_2019-06-07/sentinel-2...</td>\n",
       "      <td>sentinel-2-l2a</td>\n",
       "      <td>0</td>\n",
       "      <td>data/sentinel_2/source</td>\n",
       "      <td>('proj', 'raster')</td>\n",
       "      <td>('B01', 'B02', 'B03', 'B04', 'B05', 'B06', 'B0...</td>\n",
       "    </tr>\n",
       "    <tr>\n",
       "      <th>1</th>\n",
       "      <td>data/sentinel_2/Boadella_2019-06-02/sentinel-2...</td>\n",
       "      <td>sentinel-2-l2a</td>\n",
       "      <td>0</td>\n",
       "      <td>data/sentinel_2/source</td>\n",
       "      <td>('proj', 'raster')</td>\n",
       "      <td>('B01', 'B02', 'B03', 'B04', 'B05', 'B06', 'B0...</td>\n",
       "    </tr>\n",
       "    <tr>\n",
       "      <th>2</th>\n",
       "      <td>data/sentinel_2/Boadella_2019-07-02/sentinel-2...</td>\n",
       "      <td>sentinel-2-l2a</td>\n",
       "      <td>0</td>\n",
       "      <td>data/sentinel_2/source</td>\n",
       "      <td>('proj', 'raster')</td>\n",
       "      <td>('B01', 'B02', 'B03', 'B04', 'B05', 'B06', 'B0...</td>\n",
       "    </tr>\n",
       "    <tr>\n",
       "      <th>3</th>\n",
       "      <td>data/sentinel_2/Boadella_2019-06-17/sentinel-2...</td>\n",
       "      <td>sentinel-2-l2a</td>\n",
       "      <td>0</td>\n",
       "      <td>data/sentinel_2/source</td>\n",
       "      <td>('proj', 'raster')</td>\n",
       "      <td>('B01', 'B02', 'B03', 'B04', 'B05', 'B06', 'B0...</td>\n",
       "    </tr>\n",
       "    <tr>\n",
       "      <th>4</th>\n",
       "      <td>data/sentinel_2/Boadella_2019-06-27/sentinel-2...</td>\n",
       "      <td>sentinel-2-l2a</td>\n",
       "      <td>0</td>\n",
       "      <td>data/sentinel_2/source</td>\n",
       "      <td>('proj', 'raster')</td>\n",
       "      <td>('B01', 'B02', 'B03', 'B04', 'B05', 'B06', 'B0...</td>\n",
       "    </tr>\n",
       "  </tbody>\n",
       "</table>\n",
       "</div>"
      ],
      "text/plain": [
       "                                               image           label  ix  \\\n",
       "0  data/sentinel_2/Boadella_2019-06-07/sentinel-2...  sentinel-2-l2a   0   \n",
       "1  data/sentinel_2/Boadella_2019-06-02/sentinel-2...  sentinel-2-l2a   0   \n",
       "2  data/sentinel_2/Boadella_2019-07-02/sentinel-2...  sentinel-2-l2a   0   \n",
       "3  data/sentinel_2/Boadella_2019-06-17/sentinel-2...  sentinel-2-l2a   0   \n",
       "4  data/sentinel_2/Boadella_2019-06-27/sentinel-2...  sentinel-2-l2a   0   \n",
       "\n",
       "               collection          extensions  \\\n",
       "0  data/sentinel_2/source  ('proj', 'raster')   \n",
       "1  data/sentinel_2/source  ('proj', 'raster')   \n",
       "2  data/sentinel_2/source  ('proj', 'raster')   \n",
       "3  data/sentinel_2/source  ('proj', 'raster')   \n",
       "4  data/sentinel_2/source  ('proj', 'raster')   \n",
       "\n",
       "                                               bands  \n",
       "0  ('B01', 'B02', 'B03', 'B04', 'B05', 'B06', 'B0...  \n",
       "1  ('B01', 'B02', 'B03', 'B04', 'B05', 'B06', 'B0...  \n",
       "2  ('B01', 'B02', 'B03', 'B04', 'B05', 'B06', 'B0...  \n",
       "3  ('B01', 'B02', 'B03', 'B04', 'B05', 'B06', 'B0...  \n",
       "4  ('B01', 'B02', 'B03', 'B04', 'B05', 'B06', 'B0...  "
      ]
     },
     "execution_count": 2,
     "metadata": {},
     "output_type": "execute_result"
    }
   ],
   "source": [
    "import pandas as pd\n",
    "\n",
    "sample_df = pd.read_csv('data/sample_stacdataframe.csv')\n",
    "sample_df"
   ]
  },
  {
   "cell_type": "markdown",
   "metadata": {},
   "source": [
    "This is a sample `STACDataFrame` already generated for our workshop. Here we can see a lot of information:\n",
    "- image: the path to every image.\n",
    "- label: the label assigned to every image. \n",
    "- ix: the index of the label.\n",
    "- collection: the collection which the image belongs to. \n",
    "- extensions: a list with the STAC extensions we want the image STAC item to have.\n",
    "- bands: a list of band we want the image STAC item to have.\n",
    "\n",
    "Now we have seen this, let's generate the STAC metadata for our dataset. Don't worry, we are going to explain it step by step!"
   ]
  },
  {
   "cell_type": "markdown",
   "metadata": {},
   "source": [
    "First of all, we need to import the `STACGenerator` class."
   ]
  },
  {
   "cell_type": "code",
   "execution_count": 3,
   "metadata": {},
   "outputs": [],
   "source": [
    "from eotdl.curation.stac.stac import STACGenerator"
   ]
  },
  {
   "cell_type": "markdown",
   "metadata": {},
   "source": [
    "The `STACGenerator` class is the entry point and the STAC generation class, where magic happens. Before we declare it, we need to understand the parameters we can give to it:\n",
    "- `image_format`: the extension of the images. Could be `png`, `jpg` and so on. By default is `tiff`.\n",
    "- `catalog_type`: the STAC Catalog type. It is a specification defined [here](https://pystac.readthedocs.io/en/0.4/concepts.html#catalog-types). By default is `SELF_CONTAINED`. \n",
    "- `item_parser`: the item_parser defines the strategy that must be followed to search for satellite images within the folder. We have defined 2 item_parser strategies, and new ones can be added as needed. The strategies that are implemented right now are the following.\n",
    "    - `StructuredParser`: this strategy is used when the images are each contained within a folder, so that the name of the item will be the name of the folder. We will use this strategy when using the EOTDL to download the dataset images, as it will always format the folder structure the same way. As this is what we have done, it is the strategy that we will use for the use case of this workshop, as every folder contains a single image.\n",
    "    \n",
    "    <p align=\"center\">\n",
    "        <img src=\"images/structured_parser.png\" alt=\"Structured parser typical folder structure\" style=\"height:170px; width:200px;\"/>\n",
    "    </p>\n",
    "    \n",
    "    - `UnestructuredParser`: this strategy is used when there are multiple images contained in the same folder.\n",
    "\n",
    "    <p align=\"center\">\n",
    "        <img src=\"images/unestructured_parser.png\" alt=\"Structured parser typical folder structure\" style=\"height:200px; width:200px;\"/>\n",
    "    </p>\n",
    "    \n",
    "- `assets_generator`: the assets_generator parameter defines the strategy to follow with the generation of assets from each image. In this way, it could be the case that from a Sentinel-2 image we want to extract all its bands as assets, or simply extract the RGB bands, or not extract any as assets. By default, three strategies have been established, which can be expanded according to needs.\n",
    "\n",
    "    - `STACAssetGenerator`: does not extract new assets from the image bands, so a single asset is generated for the image.\n",
    "    - `BandsAssetGenerator`: from the original image it creates a new file for each band established in the 'bands` column, deleting the original file. An asset is added to the STAC item for each band.\n",
    "    - `ExtractedAssets`: indicates that the bands of an image have already been extracted as independent files, so it creates an item for each image taking the files as assets.\n",
    "    \n",
    "\n",
    "- `labeling_strategy`: the `labeling_strategy` parameter defines the strategy to extract a label from the filename of an image, to assign a label to it. By default, we have implemented 2 strategies:\n",
    "\n",
    "    - `UnlabeledStrategy`: we will use it when the images do not have a label that identifies them or that has been placed on purpose. It is the one we will use in our case, since the filename is simply the name of the constellation, and it is the default option.\n",
    "    - `LabeledStrategy`: we will use it when the images are labeled with labels in their filenames. An example would be that in a folder the images were called, for example, River_1.png, River_2.png, River_3.png, and so on. The file name must be the pattern <label>_<number>.\n",
    "\n",
    "\n",
    "For the specific case of our workshop, we will take into account the following:\n",
    "- The images have been downloaded using the EOTDL and are each in a folder, so as `item_parser` we will use `StructuredParser`.\n",
    "- In this case we will extract all the bands from the image as assets, so as `asset_generator` we will use `BandsAssetGenerator`, which is the default option.\n",
    "- The images do not have labels, so we will use the default option, `UnlabeledStrategy`."
   ]
  },
  {
   "cell_type": "code",
   "execution_count": 3,
   "metadata": {},
   "outputs": [],
   "source": [
    "from eotdl.curation.stac.stac import STACGenerator\n",
    "from eotdl.curation.stac.assets import BandsAssetGenerator\n",
    "from eotdl.curation.stac.parsers import StructuredParser\n",
    "from eotdl.curation.stac.labeling import UnlabeledStrategy\n",
    "\n",
    "stac_generator = STACGenerator(item_parser=StructuredParser, \n",
    "                               assets_generator=BandsAssetGenerator, \n",
    "                               labeling_strategy=UnlabeledStrategy\n",
    "                               )"
   ]
  },
  {
   "cell_type": "markdown",
   "metadata": {},
   "source": [
    "If we now decide to generate a `STACDataFrame` from the folder with the images it will do fine, but it will be incomplete."
   ]
  },
  {
   "cell_type": "code",
   "execution_count": 4,
   "metadata": {},
   "outputs": [
    {
     "data": {
      "text/html": [
       "<div>\n",
       "<style scoped>\n",
       "    .dataframe tbody tr th:only-of-type {\n",
       "        vertical-align: middle;\n",
       "    }\n",
       "\n",
       "    .dataframe tbody tr th {\n",
       "        vertical-align: top;\n",
       "    }\n",
       "\n",
       "    .dataframe thead th {\n",
       "        text-align: right;\n",
       "    }\n",
       "</style>\n",
       "<table border=\"1\" class=\"dataframe\">\n",
       "  <thead>\n",
       "    <tr style=\"text-align: right;\">\n",
       "      <th></th>\n",
       "      <th>image</th>\n",
       "      <th>label</th>\n",
       "      <th>ix</th>\n",
       "      <th>collection</th>\n",
       "      <th>extensions</th>\n",
       "      <th>bands</th>\n",
       "    </tr>\n",
       "  </thead>\n",
       "  <tbody>\n",
       "    <tr>\n",
       "      <th>0</th>\n",
       "      <td>data/sentinel_2/Boadella_2019-06-07/sentinel-2...</td>\n",
       "      <td>sentinel-2-l2a</td>\n",
       "      <td>0</td>\n",
       "      <td>data/sentinel_2/source</td>\n",
       "      <td>None</td>\n",
       "      <td>None</td>\n",
       "    </tr>\n",
       "    <tr>\n",
       "      <th>1</th>\n",
       "      <td>data/sentinel_2/Boadella_2019-06-02/sentinel-2...</td>\n",
       "      <td>sentinel-2-l2a</td>\n",
       "      <td>0</td>\n",
       "      <td>data/sentinel_2/source</td>\n",
       "      <td>None</td>\n",
       "      <td>None</td>\n",
       "    </tr>\n",
       "    <tr>\n",
       "      <th>2</th>\n",
       "      <td>data/sentinel_2/Boadella_2019-07-02/sentinel-2...</td>\n",
       "      <td>sentinel-2-l2a</td>\n",
       "      <td>0</td>\n",
       "      <td>data/sentinel_2/source</td>\n",
       "      <td>None</td>\n",
       "      <td>None</td>\n",
       "    </tr>\n",
       "    <tr>\n",
       "      <th>3</th>\n",
       "      <td>data/sentinel_2/Boadella_2019-06-17/sentinel-2...</td>\n",
       "      <td>sentinel-2-l2a</td>\n",
       "      <td>0</td>\n",
       "      <td>data/sentinel_2/source</td>\n",
       "      <td>None</td>\n",
       "      <td>None</td>\n",
       "    </tr>\n",
       "    <tr>\n",
       "      <th>4</th>\n",
       "      <td>data/sentinel_2/Boadella_2019-06-27/sentinel-2...</td>\n",
       "      <td>sentinel-2-l2a</td>\n",
       "      <td>0</td>\n",
       "      <td>data/sentinel_2/source</td>\n",
       "      <td>None</td>\n",
       "      <td>None</td>\n",
       "    </tr>\n",
       "  </tbody>\n",
       "</table>\n",
       "</div>"
      ],
      "text/plain": [
       "                                               image  ... bands\n",
       "0  data/sentinel_2/Boadella_2019-06-07/sentinel-2...  ...  None\n",
       "1  data/sentinel_2/Boadella_2019-06-02/sentinel-2...  ...  None\n",
       "2  data/sentinel_2/Boadella_2019-07-02/sentinel-2...  ...  None\n",
       "3  data/sentinel_2/Boadella_2019-06-17/sentinel-2...  ...  None\n",
       "4  data/sentinel_2/Boadella_2019-06-27/sentinel-2...  ...  None\n",
       "\n",
       "[5 rows x 6 columns]"
      ]
     },
     "execution_count": 4,
     "metadata": {},
     "output_type": "execute_result"
    }
   ],
   "source": [
    "df = stac_generator.get_stac_dataframe('data/sentinel_2')\n",
    "df.head()"
   ]
  },
  {
   "cell_type": "markdown",
   "metadata": {},
   "source": [
    "A key feature is the `label` column. Using the label of every image we are going to assign parameters like the STAC extensions that this image's item is going to have, or the bands we want to extract using the `BandsAssetGenerator`. We can obtain the existing labels in the STACDataFrame before adding new information."
   ]
  },
  {
   "cell_type": "code",
   "execution_count": 5,
   "metadata": {},
   "outputs": [
    {
     "data": {
      "text/plain": [
       "['sentinel-2-l2a']"
      ]
     },
     "execution_count": 5,
     "metadata": {},
     "output_type": "execute_result"
    }
   ],
   "source": [
    "labels = df.label.unique().tolist()\n",
    "labels"
   ]
  },
  {
   "cell_type": "markdown",
   "metadata": {},
   "source": [
    "Starting from the `sentinel-2-l2a` label we are going to define several parameters:\n",
    "\n",
    "- As STAC extensions we are going to implement the [proj](https://github.com/stac-extensions/projection), [raster](https://github.com/stac-extensions/raster) and [eo](https://github.com/stac-extensions/eo) STAC extensions. Note: the supported extensiones are `('eo', 'sar', 'proj', 'raster')`.\n",
    "- As bands to extract from the Sentinel-2 image, we are going to extract all of them except B10.\n",
    "\n",
    "To define these parameters for each label, we simply have to declare a dictionary."
   ]
  },
  {
   "cell_type": "code",
   "execution_count": 8,
   "metadata": {},
   "outputs": [],
   "source": [
    "extensions = {'sentinel-2-l2a': ('proj', 'raster', 'eo')}\n",
    "bands = {'sentinel-2-l2a': ('B01', 'B02', 'B03', 'B04', 'B05', 'B06', 'B07', 'B08', 'B09', 'B11', 'B12')}"
   ]
  },
  {
   "cell_type": "markdown",
   "metadata": {},
   "source": [
    "Now we are ready to generate a `STACDataFrame` with relevant information. Some extra parameters to take into account:\n",
    "- `path`: is the root path where the images are located at. In our case is `data/sentinel_2`.\n",
    "- `collections`: we can use this parameter to define the STAC collection to which we want each item with a specific label to go. There are several options:\n",
    "    - The default option puts all the STAC items in a single collection called `source`.\n",
    "    - The `*` option will consider folders located directly under the root folder as collections, so it will create a collection for each of them.\n",
    "\n",
    "    <p align=\"center\">\n",
    "        <img src=\"images/collection.png\" alt=\"* collection\" style=\"height:170px; width:200px;\"/>\n",
    "    </p>\n",
    "\n",
    "    - You can decide the collection you want an image to go to through its label, as we have seen in the case of extensions and bands. To give an example, we are going to define it like this."
   ]
  },
  {
   "cell_type": "code",
   "execution_count": 6,
   "metadata": {},
   "outputs": [],
   "source": [
    "collection = {'sentinel-2-l2a': 'boadella-sentinel-2'}"
   ]
  },
  {
   "cell_type": "markdown",
   "metadata": {},
   "source": [
    "Let's generate the complete STACDataFrame!"
   ]
  },
  {
   "cell_type": "code",
   "execution_count": 9,
   "metadata": {},
   "outputs": [
    {
     "data": {
      "text/html": [
       "<div>\n",
       "<style scoped>\n",
       "    .dataframe tbody tr th:only-of-type {\n",
       "        vertical-align: middle;\n",
       "    }\n",
       "\n",
       "    .dataframe tbody tr th {\n",
       "        vertical-align: top;\n",
       "    }\n",
       "\n",
       "    .dataframe thead th {\n",
       "        text-align: right;\n",
       "    }\n",
       "</style>\n",
       "<table border=\"1\" class=\"dataframe\">\n",
       "  <thead>\n",
       "    <tr style=\"text-align: right;\">\n",
       "      <th></th>\n",
       "      <th>image</th>\n",
       "      <th>label</th>\n",
       "      <th>ix</th>\n",
       "      <th>collection</th>\n",
       "      <th>extensions</th>\n",
       "      <th>bands</th>\n",
       "    </tr>\n",
       "  </thead>\n",
       "  <tbody>\n",
       "    <tr>\n",
       "      <th>0</th>\n",
       "      <td>data/sentinel_2/Boadella_2019-06-07/sentinel-2...</td>\n",
       "      <td>sentinel-2-l2a</td>\n",
       "      <td>0</td>\n",
       "      <td>data/sentinel_2/boadella-sentinel-2</td>\n",
       "      <td>(proj, raster, eo)</td>\n",
       "      <td>(B01, B02, B03, B04, B05, B06, B07, B08, B09, ...</td>\n",
       "    </tr>\n",
       "    <tr>\n",
       "      <th>1</th>\n",
       "      <td>data/sentinel_2/Boadella_2019-06-02/sentinel-2...</td>\n",
       "      <td>sentinel-2-l2a</td>\n",
       "      <td>0</td>\n",
       "      <td>data/sentinel_2/boadella-sentinel-2</td>\n",
       "      <td>(proj, raster, eo)</td>\n",
       "      <td>(B01, B02, B03, B04, B05, B06, B07, B08, B09, ...</td>\n",
       "    </tr>\n",
       "    <tr>\n",
       "      <th>2</th>\n",
       "      <td>data/sentinel_2/Boadella_2019-07-02/sentinel-2...</td>\n",
       "      <td>sentinel-2-l2a</td>\n",
       "      <td>0</td>\n",
       "      <td>data/sentinel_2/boadella-sentinel-2</td>\n",
       "      <td>(proj, raster, eo)</td>\n",
       "      <td>(B01, B02, B03, B04, B05, B06, B07, B08, B09, ...</td>\n",
       "    </tr>\n",
       "    <tr>\n",
       "      <th>3</th>\n",
       "      <td>data/sentinel_2/Boadella_2019-06-17/sentinel-2...</td>\n",
       "      <td>sentinel-2-l2a</td>\n",
       "      <td>0</td>\n",
       "      <td>data/sentinel_2/boadella-sentinel-2</td>\n",
       "      <td>(proj, raster, eo)</td>\n",
       "      <td>(B01, B02, B03, B04, B05, B06, B07, B08, B09, ...</td>\n",
       "    </tr>\n",
       "    <tr>\n",
       "      <th>4</th>\n",
       "      <td>data/sentinel_2/Boadella_2019-06-27/sentinel-2...</td>\n",
       "      <td>sentinel-2-l2a</td>\n",
       "      <td>0</td>\n",
       "      <td>data/sentinel_2/boadella-sentinel-2</td>\n",
       "      <td>(proj, raster, eo)</td>\n",
       "      <td>(B01, B02, B03, B04, B05, B06, B07, B08, B09, ...</td>\n",
       "    </tr>\n",
       "  </tbody>\n",
       "</table>\n",
       "</div>"
      ],
      "text/plain": [
       "                                               image  ...                                              bands\n",
       "0  data/sentinel_2/Boadella_2019-06-07/sentinel-2...  ...  (B01, B02, B03, B04, B05, B06, B07, B08, B09, ...\n",
       "1  data/sentinel_2/Boadella_2019-06-02/sentinel-2...  ...  (B01, B02, B03, B04, B05, B06, B07, B08, B09, ...\n",
       "2  data/sentinel_2/Boadella_2019-07-02/sentinel-2...  ...  (B01, B02, B03, B04, B05, B06, B07, B08, B09, ...\n",
       "3  data/sentinel_2/Boadella_2019-06-17/sentinel-2...  ...  (B01, B02, B03, B04, B05, B06, B07, B08, B09, ...\n",
       "4  data/sentinel_2/Boadella_2019-06-27/sentinel-2...  ...  (B01, B02, B03, B04, B05, B06, B07, B08, B09, ...\n",
       "\n",
       "[5 rows x 6 columns]"
      ]
     },
     "execution_count": 9,
     "metadata": {},
     "output_type": "execute_result"
    }
   ],
   "source": [
    "df = stac_generator.get_stac_dataframe('data/sentinel_2', collections=collection, bands=bands, extensions=extensions)\n",
    "df.head()"
   ]
  },
  {
   "cell_type": "markdown",
   "metadata": {},
   "source": [
    "It looks good! We have all we need to generate the STAC metadata. We only have to give the catalog an `id`, a `description` and an `output_folder`!"
   ]
  },
  {
   "cell_type": "code",
   "execution_count": 10,
   "metadata": {},
   "outputs": [
    {
     "name": "stdout",
     "output_type": "stream",
     "text": [
      "Generating boadella-sentinel-2 collection...\n"
     ]
    },
    {
     "name": "stderr",
     "output_type": "stream",
     "text": [
      "100%|██████████| 5/5 [00:00<00:00, 47.99it/s]"
     ]
    },
    {
     "name": "stdout",
     "output_type": "stream",
     "text": [
      "Validating and saving catalog...\n",
      "Success!\n"
     ]
    },
    {
     "name": "stderr",
     "output_type": "stream",
     "text": [
      "\n"
     ]
    }
   ],
   "source": [
    "stac_generator.generate_stac_metadata(id='boadella-dataset',\n",
    "                                      description='Boadella dataset',\n",
    "                                      output_folder='data/sentinel_2_stac')"
   ]
  },
  {
   "cell_type": "markdown",
   "metadata": {},
   "source": [
    "Voilà! We have generated the STAC metadata from our Q0 dataset, converting it into a Q1 dataset!\n",
    "\n",
    "To sum up this section, we have learned the different parameters we need to know and understand to generate STAC metadata from a dataset in a easy way.\n",
    "\n",
    "Let's continue in the `zz_notebook` notebook!"
   ]
  }
 ],
 "metadata": {
  "kernelspec": {
   "display_name": "sen12floods",
   "language": "python",
   "name": "python3"
  },
  "language_info": {
   "codemirror_mode": {
    "name": "ipython",
    "version": 3
   },
   "file_extension": ".py",
   "mimetype": "text/x-python",
   "name": "python",
   "nbconvert_exporter": "python",
   "pygments_lexer": "ipython3",
   "version": "3.11.3"
  },
  "orig_nbformat": 4
 },
 "nbformat": 4,
 "nbformat_minor": 2
}
