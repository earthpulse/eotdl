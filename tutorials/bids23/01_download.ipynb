{
 "cells": [
  {
   "cell_type": "code",
   "execution_count": 2,
   "metadata": {},
   "outputs": [],
   "source": [
    "%load_ext autoreload\n",
    "%autoreload 2\n",
    "\n",
    "%load_ext dotenv\n",
    "%dotenv"
   ]
  },
  {
   "cell_type": "markdown",
   "metadata": {},
   "source": [
    "# Download Sentinel-2 data"
   ]
  },
  {
   "cell_type": "markdown",
   "metadata": {},
   "source": [
    "In this notebook we are going to use the EOTDL environment to download the Sentinel-2 imagery that will conform our dataset.\n",
    "\n",
    "First of all, wee need our AoI bounding box and time interval in which download images. If you missed how we obtained them, go to the [00_exploration](00_exploration.ipynb) notebook.\n",
    "\n",
    "Let's load the AoI bounding box."
   ]
  },
  {
   "cell_type": "code",
   "execution_count": 3,
   "metadata": {},
   "outputs": [
    {
     "data": {
      "text/plain": [
       "[2.792027806635944, 42.33057868499878, 2.838021549182864, 42.36457137143556]"
      ]
     },
     "execution_count": 3,
     "metadata": {},
     "output_type": "execute_result"
    }
   ],
   "source": [
    "import geopandas as gpd\n",
    "\n",
    "boadella_bbox_gdf = gpd.read_file('data/boadella_bbox.geojson', crs='EPSG:4326')\n",
    "\n",
    "boadella_bbox = list(boadella_bbox_gdf.geometry.total_bounds)\n",
    "boadella_bbox"
   ]
  },
  {
   "cell_type": "markdown",
   "metadata": {},
   "source": [
    "And the range of dates."
   ]
  },
  {
   "cell_type": "code",
   "execution_count": 4,
   "metadata": {},
   "outputs": [
    {
     "data": {
      "text/plain": [
       "['2019-06-02', '2019-06-07', '2019-06-17', '2019-06-27', '2019-07-02']"
      ]
     },
     "execution_count": 4,
     "metadata": {},
     "output_type": "execute_result"
    }
   ],
   "source": [
    "import csv\n",
    "\n",
    "dates = []\n",
    "with open(\"data/dates.csv\", \"r\") as file:\n",
    "    reader = csv.reader(file)\n",
    "    for row in reader:\n",
    "        dates.append(row[0])\n",
    "dates.sort()\n",
    "\n",
    "dates[:5]"
   ]
  },
  {
   "cell_type": "markdown",
   "metadata": {},
   "source": [
    "As we have seen in the previous section, we need a Python dictionary with some parameters in order to download the imagery, such as the bounding box or the time interval. The fact is that we have the dates with available images as single days, and wee need them in a list as `(day, day)`."
   ]
  },
  {
   "cell_type": "code",
   "execution_count": 5,
   "metadata": {},
   "outputs": [
    {
     "data": {
      "text/plain": [
       "[('2019-06-02', '2019-06-02'),\n",
       " ('2019-06-07', '2019-06-07'),\n",
       " ('2019-06-17', '2019-06-17'),\n",
       " ('2019-06-27', '2019-06-27'),\n",
       " ('2019-07-02', '2019-07-02')]"
      ]
     },
     "execution_count": 5,
     "metadata": {},
     "output_type": "execute_result"
    }
   ],
   "source": [
    "time_interval = [(date, date) for date in dates[:5]]\n",
    "time_interval[:5]"
   ]
  },
  {
   "cell_type": "markdown",
   "metadata": {},
   "source": [
    "Now we have it, we can create the parameters dict as we have seen."
   ]
  },
  {
   "cell_type": "code",
   "execution_count": 6,
   "metadata": {},
   "outputs": [],
   "source": [
    "boadella_download_dict = {\n",
    "    'Boadella': {\n",
    "        'bounding_box': boadella_bbox,\n",
    "        'time_interval': time_interval\n",
    "    }\n",
    "}"
   ]
  },
  {
   "cell_type": "markdown",
   "metadata": {},
   "source": [
    "We must connect to the [Sentinel Hub](https://www.sentinel-hub.com/) platform through the EOTDL client."
   ]
  },
  {
   "cell_type": "code",
   "execution_count": 7,
   "metadata": {},
   "outputs": [],
   "source": [
    "from os import getenv\n",
    "from eotdl.access import SHClient\n",
    "\n",
    "sh_client_id = getenv('SH_CLIENT_ID')\n",
    "sh_client_secret = getenv('SH_CLIENT_SECRET')\n",
    "\n",
    "client = SHClient(sh_client_id=sh_client_id, \n",
    "                  sh_client_secret=sh_client_secret)"
   ]
  },
  {
   "cell_type": "markdown",
   "metadata": {},
   "source": [
    "Now, let's download the imagery!\n",
    "\n",
    "Some explanation about the following code block. In order to download imagery through the Sentinel Hub API, we need to define some parameters, such as the Data Collection (in this workshop, `sentinel-2-l2a`), the EvalScript, the resolution and so on. In order to avoid this time-expensive definition, we have wrapped those parameters in a Python class like `sentinel_2_download_parameters`. With that, we just have to give the download dict with the bounding box and time interval and the folder where we want to download the data. And voilà! All it's managed by the EOTDL environment."
   ]
  },
  {
   "cell_type": "code",
   "execution_count": 8,
   "metadata": {},
   "outputs": [],
   "source": [
    "from eotdl.access import sentinel_2_download_parameters\n",
    "\n",
    "sentinel_2_download_parameters.data_to_download = boadella_download_dict   # Give the dictionary with the data to download\n",
    "sentinel_2_download_parameters.data_folder = 'data/sentinel_2'             # Give the folder where the data will be downloaded\n",
    "\n",
    "process_requests = client.request_bulk_data(sentinel_2_download_parameters)"
   ]
  },
  {
   "cell_type": "code",
   "execution_count": 9,
   "metadata": {},
   "outputs": [
    {
     "name": "stdout",
     "output_type": "stream",
     "text": [
      "CPU times: user 218 ms, sys: 55.8 ms, total: 274 ms\n",
      "Wall time: 2.6 s\n"
     ]
    }
   ],
   "source": [
    "%%time\n",
    "\n",
    "data = client.download_data(process_requests[0:5])"
   ]
  },
  {
   "cell_type": "markdown",
   "metadata": {},
   "source": [
    "That's all! We have downloaded the images for our dataset. Let's check them!"
   ]
  },
  {
   "cell_type": "code",
   "execution_count": 10,
   "metadata": {},
   "outputs": [
    {
     "data": {
      "text/plain": [
       "['data/sentinel_2/Boadella_2019-06-07/c683a3f4a3b44370f92eb429e4f9b360/response.tiff',\n",
       " 'data/sentinel_2/Boadella_2019-06-02/04330190c27e652e90eff55478216284/response.tiff',\n",
       " 'data/sentinel_2/Boadella_2019-07-02/c5c5de3805e60500896130e0d20074bb/response.tiff',\n",
       " 'data/sentinel_2/Boadella_2019-06-17/30a11380945c2f31c584d537d122a8b3/response.tiff',\n",
       " 'data/sentinel_2/Boadella_2019-06-27/a1f198f9a6e07728e72be39bd8c277f3/response.tiff']"
      ]
     },
     "execution_count": 10,
     "metadata": {},
     "output_type": "execute_result"
    }
   ],
   "source": [
    "from glob import glob\n",
    "\n",
    "rasters = glob('data/sentinel_2/*/*/*.tiff')\n",
    "rasters[:5]"
   ]
  },
  {
   "cell_type": "markdown",
   "metadata": {},
   "source": [
    "It looks good!"
   ]
  },
  {
   "cell_type": "markdown",
   "metadata": {},
   "source": [
    "## Format downloaded data"
   ]
  },
  {
   "cell_type": "markdown",
   "metadata": {},
   "source": [
    "When we download imagery through the Sentinel Hub client, by default the EOTDL enviroment makes that every image is downloaded in a folder with nomenclature `<id>_<date>/<request_id>`. If we get one of the downloaded rasters path we can see it."
   ]
  },
  {
   "cell_type": "code",
   "execution_count": 11,
   "metadata": {},
   "outputs": [
    {
     "data": {
      "text/plain": [
       "'data/sentinel_2/Boadella_2019-06-07/c683a3f4a3b44370f92eb429e4f9b360/response.tiff'"
      ]
     },
     "execution_count": 11,
     "metadata": {},
     "output_type": "execute_result"
    }
   ],
   "source": [
    "rasters[0]"
   ]
  },
  {
   "cell_type": "markdown",
   "metadata": {},
   "source": [
    "In order to maintain a logic structure and ensure that the dataset is diregible by the EO-TDL environment, we must make sure that the project structure is compatible and every image has an associated metadata file with necessary info about the image, which will be used later by the STAC generation and the labeling with SCANEO. \n",
    "\n",
    "To do so, the EOTDL environment has a `Folder Formatter` that does exactly that: extracts the images to a more human-readable folder structure, which also is necessary if we want to label those images using SCANEO. What we need is a unique folder containing all the images, with associated `json` files with necessary metadata of every image such as the acquisiton date of the image, the type, the bounding box, and so on.\n",
    "\n",
    "Let's format the folder structure. We can choose between `structured_format_folders`, which will allocate every image in a single directory, or `unestructured_format_folders`, which will allocate all the images in a given directory. This is the method we are going to use, as we need all the images in a single directory to label them using SCANEO."
   ]
  },
  {
   "cell_type": "code",
   "execution_count": 12,
   "metadata": {},
   "outputs": [],
   "source": [
    "from eotdl.curation import SHFolderFormatter\n",
    "\n",
    "formatter = SHFolderFormatter('data/sentinel_2')\n",
    "formatter.root\n",
    "\n",
    "formatter.unestructured_format_folders()   # By default, it uses the path given in the constructor"
   ]
  },
  {
   "cell_type": "markdown",
   "metadata": {},
   "source": [
    "Now, if we look again for the rasters paths, we will see that the folder structure is much more readable and nice."
   ]
  },
  {
   "cell_type": "code",
   "execution_count": 13,
   "metadata": {},
   "outputs": [
    {
     "data": {
      "text/plain": [
       "['data/sentinel_2/Boadella_2.tif',\n",
       " 'data/sentinel_2/Boadella_3.tif',\n",
       " 'data/sentinel_2/Boadella_1.tif',\n",
       " 'data/sentinel_2/Boadella_4.tif',\n",
       " 'data/sentinel_2/Boadella_5.tif']"
      ]
     },
     "execution_count": 13,
     "metadata": {},
     "output_type": "execute_result"
    }
   ],
   "source": [
    "rasters = glob('data/sentinel_2/*.tif')\n",
    "rasters[:5]"
   ]
  },
  {
   "cell_type": "markdown",
   "metadata": {},
   "source": [
    "We can look for them metadata files, too."
   ]
  },
  {
   "cell_type": "code",
   "execution_count": 14,
   "metadata": {},
   "outputs": [
    {
     "data": {
      "text/plain": [
       "['data/sentinel_2/Boadella_2.json',\n",
       " 'data/sentinel_2/Boadella_3.json',\n",
       " 'data/sentinel_2/Boadella_4.json',\n",
       " 'data/sentinel_2/Boadella_5.json',\n",
       " 'data/sentinel_2/Boadella_1.json']"
      ]
     },
     "execution_count": 14,
     "metadata": {},
     "output_type": "execute_result"
    }
   ],
   "source": [
    "jsons = glob('data/sentinel_2/*.json')\n",
    "jsons[:5]"
   ]
  },
  {
   "cell_type": "markdown",
   "metadata": {},
   "source": [
    "To sum up this section, we have downloaded the Sentinel-2 images that will conform our dataset through the Sentinel Hub client and have formated the folder structure to a way that will allow us both to label our dataset using SCANEO and generate STAC metadata. With this, we have our [Q0 dataset](../00_eotdl.ipynb)!\n",
    "\n",
    "Let's continue to the [02_labeling](./02_labeling.ipynb) notebook and label our dataset!"
   ]
  }
 ],
 "metadata": {
  "kernelspec": {
   "display_name": "Python 3",
   "language": "python",
   "name": "python3"
  },
  "language_info": {
   "codemirror_mode": {
    "name": "ipython",
    "version": 3
   },
   "file_extension": ".py",
   "mimetype": "text/x-python",
   "name": "python",
   "nbconvert_exporter": "python",
   "pygments_lexer": "ipython3",
   "version": "3.11.3"
  },
  "orig_nbformat": 4
 },
 "nbformat": 4,
 "nbformat_minor": 2
}
