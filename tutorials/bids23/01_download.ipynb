{
 "cells": [
  {
   "cell_type": "markdown",
   "metadata": {},
   "source": [
    "# Download Sentinel-2 data"
   ]
  },
  {
   "cell_type": "markdown",
   "metadata": {},
   "source": [
    "In this notebook we are going to download data (...)."
   ]
  },
  {
   "cell_type": "code",
   "execution_count": 1,
   "metadata": {},
   "outputs": [],
   "source": [
    "%load_ext autoreload\n",
    "%autoreload 2\n",
    "\n",
    "%load_ext dotenv\n",
    "%dotenv"
   ]
  },
  {
   "cell_type": "markdown",
   "metadata": {},
   "source": [
    "Load the bounding box"
   ]
  },
  {
   "cell_type": "code",
   "execution_count": 2,
   "metadata": {},
   "outputs": [
    {
     "data": {
      "text/plain": [
       "[2.792027806635944, 42.33057868499878, 2.838021549182864, 42.36457137143556]"
      ]
     },
     "execution_count": 2,
     "metadata": {},
     "output_type": "execute_result"
    }
   ],
   "source": [
    "import geopandas as gpd\n",
    "\n",
    "boadella_bbox_gdf = gpd.read_file('data/boadella_bbox.geojson', crs='EPSG:4326')\n",
    "\n",
    "boadella_bbox = list(boadella_bbox_gdf.geometry.total_bounds)\n",
    "boadella_bbox"
   ]
  },
  {
   "cell_type": "markdown",
   "metadata": {},
   "source": [
    "Load the dates"
   ]
  },
  {
   "cell_type": "code",
   "execution_count": 10,
   "metadata": {},
   "outputs": [
    {
     "data": {
      "text/plain": [
       "['2019-06-02', '2019-06-07', '2019-06-17', '2019-06-27', '2019-07-02']"
      ]
     },
     "execution_count": 10,
     "metadata": {},
     "output_type": "execute_result"
    }
   ],
   "source": [
    "import csv\n",
    "\n",
    "dates = []\n",
    "with open(\"data/dates.csv\", \"r\") as file:\n",
    "    reader = csv.reader(file)\n",
    "    for row in reader:\n",
    "        dates.append(row[0])\n",
    "dates.sort()\n",
    "\n",
    "dates[:5]"
   ]
  },
  {
   "cell_type": "markdown",
   "metadata": {},
   "source": [
    "We have the dates of available images as single days and we need them in format day, day (...)"
   ]
  },
  {
   "cell_type": "code",
   "execution_count": 11,
   "metadata": {},
   "outputs": [
    {
     "data": {
      "text/plain": [
       "[('2019-06-02', '2019-06-02'),\n",
       " ('2019-06-07', '2019-06-07'),\n",
       " ('2019-06-17', '2019-06-17'),\n",
       " ('2019-06-27', '2019-06-27'),\n",
       " ('2019-07-02', '2019-07-02')]"
      ]
     },
     "execution_count": 11,
     "metadata": {},
     "output_type": "execute_result"
    }
   ],
   "source": [
    "time_interval = [(date, date) for date in dates[:5]]   # TODO put all dates\n",
    "time_interval"
   ]
  },
  {
   "cell_type": "code",
   "execution_count": 12,
   "metadata": {},
   "outputs": [],
   "source": [
    "boadella_download_dict = {\n",
    "    'Boadella': {\n",
    "        'bounding_box': boadella_bbox,\n",
    "        'time_interval': time_interval\n",
    "    }\n",
    "}"
   ]
  },
  {
   "cell_type": "markdown",
   "metadata": {},
   "source": [
    "Connect to SH client (...)"
   ]
  },
  {
   "cell_type": "code",
   "execution_count": 13,
   "metadata": {},
   "outputs": [],
   "source": [
    "from os import getenv\n",
    "from eotdl.access import SHClient\n",
    "\n",
    "sh_client_id = getenv('SH_CLIENT_ID')\n",
    "sh_client_secret = getenv('SH_CLIENT_SECRET')\n",
    "\n",
    "client = SHClient(sh_client_id=sh_client_id, \n",
    "                  sh_client_secret=sh_client_secret)"
   ]
  },
  {
   "cell_type": "markdown",
   "metadata": {},
   "source": [
    "Let's download!"
   ]
  },
  {
   "cell_type": "code",
   "execution_count": 14,
   "metadata": {},
   "outputs": [],
   "source": [
    "from eotdl.access import sentinel_2_download_parameters\n",
    "\n",
    "sentinel_2_download_parameters.data_to_download = boadella_download_dict\n",
    "sentinel_2_download_parameters.data_folder = 'data/sentinel_2'\n",
    "\n",
    "process_requests = client.request_bulk_data(sentinel_2_download_parameters)"
   ]
  },
  {
   "cell_type": "code",
   "execution_count": 15,
   "metadata": {},
   "outputs": [
    {
     "name": "stdout",
     "output_type": "stream",
     "text": [
      "CPU times: user 208 ms, sys: 87.2 ms, total: 295 ms\n",
      "Wall time: 13.6 s\n"
     ]
    }
   ],
   "source": [
    "%%time\n",
    "\n",
    "data = client.download_data(process_requests)"
   ]
  },
  {
   "cell_type": "markdown",
   "metadata": {},
   "source": [
    "Let's check the downloaded files"
   ]
  },
  {
   "cell_type": "code",
   "execution_count": 23,
   "metadata": {},
   "outputs": [
    {
     "data": {
      "text/plain": [
       "['data/sentinel_2/sentinel-2-l2a_Boadella_2019-06-07/90839abb69fd0df08bcc798c4b210006/response.tiff',\n",
       " 'data/sentinel_2/sentinel-2-l2a_Boadella_2019-06-02/31065f0313941942895ce53ab4f9a2a3/response.tiff',\n",
       " 'data/sentinel_2/sentinel-2-l2a_Boadella_2019-07-02/073923a2d94447815cf3099b06816205/response.tiff',\n",
       " 'data/sentinel_2/sentinel-2-l2a_Boadella_2019-06-17/7aff418802685f538f0daab8ec5ef9b0/response.tiff',\n",
       " 'data/sentinel_2/sentinel-2-l2a_Boadella_2019-06-27/219cbe573a0e901311771f20bbe1c050/response.tiff']"
      ]
     },
     "execution_count": 23,
     "metadata": {},
     "output_type": "execute_result"
    }
   ],
   "source": [
    "from glob import glob\n",
    "\n",
    "rasters = glob('data/sentinel_2/*/*/*.tiff')\n",
    "rasters[:5]"
   ]
  },
  {
   "cell_type": "markdown",
   "metadata": {},
   "source": [
    "## Format downloaded data"
   ]
  },
  {
   "cell_type": "markdown",
   "metadata": {},
   "source": [
    "In order to maintain a logic structure and ensure that the set is diregible by the EO-TDL environment, we must make sure that the project structure is compatible with the `STAC` convention, as we are going to generate the metadata of every downloaded item and collection."
   ]
  },
  {
   "cell_type": "code",
   "execution_count": 1,
   "metadata": {},
   "outputs": [
    {
     "name": "stdout",
     "output_type": "stream",
     "text": [
      "['data/sentinel_2/sentinel-2-l2a_Boadella_2019-06-07/90839abb69fd0df08bcc798c4b210006/response.tiff']\n",
      "['data/sentinel_2/sentinel-2-l2a_Boadella_2019-06-02/31065f0313941942895ce53ab4f9a2a3/response.tiff']\n",
      "['data/sentinel_2/sentinel-2-l2a_Boadella_2019-07-02/073923a2d94447815cf3099b06816205/response.tiff']\n",
      "['data/sentinel_2/sentinel-2-l2a_Boadella_2019-06-17/7aff418802685f538f0daab8ec5ef9b0/response.tiff']\n",
      "['data/sentinel_2/sentinel-2-l2a_Boadella_2019-06-27/219cbe573a0e901311771f20bbe1c050/response.tiff']\n"
     ]
    }
   ],
   "source": [
    "from eotdl.curation import SHFolderFormatter\n",
    "\n",
    "formatter = SHFolderFormatter('data/sentinel_2')\n",
    "formatter.root\n",
    "\n",
    "formatter.format_folders()"
   ]
  }
 ],
 "metadata": {
  "kernelspec": {
   "display_name": "Python 3",
   "language": "python",
   "name": "python3"
  },
  "language_info": {
   "codemirror_mode": {
    "name": "ipython",
    "version": 3
   },
   "file_extension": ".py",
   "mimetype": "text/x-python",
   "name": "python",
   "nbconvert_exporter": "python",
   "pygments_lexer": "ipython3",
   "version": "3.11.3"
  },
  "orig_nbformat": 4
 },
 "nbformat": 4,
 "nbformat_minor": 2
}
