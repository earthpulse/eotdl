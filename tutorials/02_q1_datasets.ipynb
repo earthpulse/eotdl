{
 "cells": [
  {
   "cell_type": "code",
   "execution_count": 3,
   "metadata": {},
   "outputs": [
    {
     "name": "stdout",
     "output_type": "stream",
     "text": [
      "The autoreload extension is already loaded. To reload it, use:\n",
      "  %reload_ext autoreload\n"
     ]
    }
   ],
   "source": [
    "%load_ext autoreload\n",
    "%autoreload 2"
   ]
  },
  {
   "attachments": {},
   "cell_type": "markdown",
   "metadata": {},
   "source": [
    "# Q1 Training Datasets"
   ]
  },
  {
   "attachments": {},
   "cell_type": "markdown",
   "metadata": {},
   "source": [
    "Training Datasets (TDS) in EOTDL are categorized into different [quality levels](/docs/datasets/quality), which in turn will impact the range of functionality that will be available for each dataset.\n",
    "\n",
    "In this post you will learn about Q1 datsets, datasets with STAC metadata. "
   ]
  },
  {
   "attachments": {},
   "cell_type": "markdown",
   "metadata": {},
   "source": [
    "## Ingesting Q1 datasets"
   ]
  },
  {
   "attachments": {},
   "cell_type": "markdown",
   "metadata": {},
   "source": [
    "To ingest a Q1 datasets you will need its STAC metadata.\n",
    "\n",
    "### Datasets with STAC metadata\n",
    "\n",
    "Some datasets already have STAC metadata, and can be ingested directly into EOTDL. For example, the [AgriFieldNet Competition Dataset\n",
    "](https://mlhub.earth/data/ref_agrifieldnet_competition_v1) dataset is available on Radiant MLHub. To follow with this tutorial, please download the dataset and extract it in the `data` folder."
   ]
  },
  {
   "cell_type": "code",
   "execution_count": 5,
   "metadata": {},
   "outputs": [
    {
     "data": {
      "text/plain": [
       "['ref_agrifieldnet_competition_v1_source',\n",
       " 'ref_agrifieldnet_competition_v1_labels_test',\n",
       " 'ref_agrifieldnet_competition_v1_labels_train',\n",
       " 'ref_agrifieldnet_competition_v1']"
      ]
     },
     "execution_count": 5,
     "metadata": {},
     "output_type": "execute_result"
    }
   ],
   "source": [
    "import os \n",
    "\n",
    "os.listdir('data')"
   ]
  },
  {
   "attachments": {},
   "cell_type": "markdown",
   "metadata": {},
   "source": [
    "You can use the eotdl library to ingest the dataset.\n",
    "\n",
    "> Alternatively, you can use the CLI. Check the docs to learn more."
   ]
  },
  {
   "cell_type": "code",
   "execution_count": 7,
   "metadata": {},
   "outputs": [
    {
     "ename": "ImportError",
     "evalue": "cannot import name 'ingest_q1' from 'eotdl.datasets' (/Users/sensio/miniconda3/lib/python3.9/site-packages/eotdl/datasets/__init__.py)",
     "output_type": "error",
     "traceback": [
      "\u001b[0;31m---------------------------------------------------------------------------\u001b[0m",
      "\u001b[0;31mImportError\u001b[0m                               Traceback (most recent call last)",
      "\u001b[1;32m/Users/sensio/Desktop/eotdl/tutorials/02_q1_datasets.ipynb Cell 8\u001b[0m in \u001b[0;36m1\n\u001b[0;32m----> <a href='vscode-notebook-cell:/Users/sensio/Desktop/eotdl/tutorials/02_q1_datasets.ipynb#X10sZmlsZQ%3D%3D?line=0'>1</a>\u001b[0m \u001b[39mfrom\u001b[39;00m \u001b[39meotdl\u001b[39;00m\u001b[39m.\u001b[39;00m\u001b[39mdatasets\u001b[39;00m \u001b[39mimport\u001b[39;00m ingest_q1\n",
      "\u001b[0;31mImportError\u001b[0m: cannot import name 'ingest_q1' from 'eotdl.datasets' (/Users/sensio/miniconda3/lib/python3.9/site-packages/eotdl/datasets/__init__.py)"
     ]
    }
   ],
   "source": [
    "from eotdl.datasets import ingest_q1"
   ]
  },
  {
   "cell_type": "code",
   "execution_count": 4,
   "metadata": {},
   "outputs": [
    {
     "name": "stdout",
     "output_type": "stream",
     "text": [
      "holas\n"
     ]
    }
   ],
   "source": [
    "ingest_q1('agrifieldnet', 'data/ref_agrifieldnet_competition_v1/catalog.json')"
   ]
  },
  {
   "attachments": {},
   "cell_type": "markdown",
   "metadata": {},
   "source": [
    "### Creating STAC metadata"
   ]
  },
  {
   "cell_type": "code",
   "execution_count": null,
   "metadata": {},
   "outputs": [],
   "source": []
  }
 ],
 "metadata": {
  "kernelspec": {
   "display_name": "Python 3 (ipykernel)",
   "language": "python",
   "name": "python3"
  },
  "language_info": {
   "codemirror_mode": {
    "name": "ipython",
    "version": 3
   },
   "file_extension": ".py",
   "mimetype": "text/x-python",
   "name": "python",
   "nbconvert_exporter": "python",
   "pygments_lexer": "ipython3",
   "version": "3.9.13"
  }
 },
 "nbformat": 4,
 "nbformat_minor": 2
}
