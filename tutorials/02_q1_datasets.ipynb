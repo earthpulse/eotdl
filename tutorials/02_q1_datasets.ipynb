{
 "cells": [
  {
   "cell_type": "code",
   "execution_count": 1,
   "metadata": {},
   "outputs": [],
   "source": [
    "%load_ext autoreload\n",
    "%autoreload 2"
   ]
  },
  {
   "attachments": {},
   "cell_type": "markdown",
   "metadata": {},
   "source": [
    "# Q1 Training Datasets"
   ]
  },
  {
   "attachments": {},
   "cell_type": "markdown",
   "metadata": {},
   "source": [
    "Training Datasets (TDS) in EOTDL are categorized into different [quality levels](https://eotdl.com/docs/datasets/quality), which in turn will impact the range of functionality that will be available for each dataset.\n",
    "\n",
    "In this tutorial you will learn about Q1 datsets, datasets with STAC metadata. "
   ]
  },
  {
   "attachments": {},
   "cell_type": "markdown",
   "metadata": {},
   "source": [
    "## Ingesting Q1 datasets"
   ]
  },
  {
   "attachments": {},
   "cell_type": "markdown",
   "metadata": {},
   "source": [
    "To ingest a Q1 datasets you will need its STAC metadata.\n"
   ]
  },
  {
   "cell_type": "markdown",
   "metadata": {},
   "source": [
    "Some datasets already have STAC metadata, and can be ingested directly into EOTDL. However, in case that your dataset does not have STAC metadata but you want to ingest it as a Q1 dataset, the EOTDL library also offers functionality to create the metadata. Let's see an example using the EuroSAT dataset. You can download the dataset [here](https://www.eotdl.com/datasets/EuroSAT-RGB). Then, extract it and put it in the `data` folder."
   ]
  },
  {
   "cell_type": "code",
   "execution_count": 2,
   "metadata": {},
   "outputs": [
    {
     "data": {
      "text/plain": [
       "['.DS_Store', 'Eurosat', 'EuroSAT-STAC', 'EuroSAT-Q2']"
      ]
     },
     "execution_count": 2,
     "metadata": {},
     "output_type": "execute_result"
    }
   ],
   "source": [
    "import os \n",
    "\n",
    "os.listdir('data')"
   ]
  },
  {
   "cell_type": "markdown",
   "metadata": {},
   "source": [
    "The EuroSAT dataset contains satellite images for classification, i.e. each image has one label associated. In this case, the label can be extracted from the folder structure."
   ]
  },
  {
   "cell_type": "code",
   "execution_count": 10,
   "metadata": {},
   "outputs": [
    {
     "data": {
      "text/plain": [
       "['Forest',\n",
       " 'River',\n",
       " 'Highway',\n",
       " 'AnnualCrop',\n",
       " 'SeaLake',\n",
       " 'HerbaceousVegetation',\n",
       " 'Industrial',\n",
       " 'Residential',\n",
       " 'PermanentCrop',\n",
       " 'Pasture']"
      ]
     },
     "execution_count": 10,
     "metadata": {},
     "output_type": "execute_result"
    }
   ],
   "source": [
    "labels = os.listdir('data/EuroSAT/2750')\n",
    "labels"
   ]
  },
  {
   "cell_type": "markdown",
   "metadata": {},
   "source": [
    "For faster processing, we will generate a copy of the dataset with only 10 images per class."
   ]
  },
  {
   "cell_type": "code",
   "execution_count": 11,
   "metadata": {},
   "outputs": [],
   "source": [
    "import shutil \n",
    "\n",
    "os.makedirs('data/EuroSAT-small/', exist_ok=True)\n",
    "for label in labels:\n",
    "    os.makedirs('data/EuroSAT-small/' + label, exist_ok=True)\n",
    "    images = os.listdir('data/EuroSAT/2750/' + label)[:10]\n",
    "    for image in images:\n",
    "        shutil.copy('data/EuroSAT/2750/' + label + '/' + image, 'data/EuroSAT-small/' + label + '/' + image)"
   ]
  },
  {
   "cell_type": "markdown",
   "metadata": {},
   "source": [
    "You can use the `STACGenerator` to create the STAC metadata for your dataset in the form of a dataframe. The item parser will depend on the structure of your dataset. We offer some predefined parsers for common datasets, but you can also create your own parser."
   ]
  },
  {
   "cell_type": "markdown",
   "metadata": {},
   "source": [
    "> TODO: How to create a parser."
   ]
  },
  {
   "cell_type": "code",
   "execution_count": 4,
   "metadata": {},
   "outputs": [
    {
     "data": {
      "text/html": [
       "<div>\n",
       "<style scoped>\n",
       "    .dataframe tbody tr th:only-of-type {\n",
       "        vertical-align: middle;\n",
       "    }\n",
       "\n",
       "    .dataframe tbody tr th {\n",
       "        vertical-align: top;\n",
       "    }\n",
       "\n",
       "    .dataframe thead th {\n",
       "        text-align: right;\n",
       "    }\n",
       "</style>\n",
       "<table border=\"1\" class=\"dataframe\">\n",
       "  <thead>\n",
       "    <tr style=\"text-align: right;\">\n",
       "      <th></th>\n",
       "      <th>image</th>\n",
       "      <th>label</th>\n",
       "      <th>ix</th>\n",
       "      <th>collection</th>\n",
       "      <th>extensions</th>\n",
       "      <th>bands</th>\n",
       "    </tr>\n",
       "  </thead>\n",
       "  <tbody>\n",
       "    <tr>\n",
       "      <th>0</th>\n",
       "      <td>data/EuroSAT-small/Forest/Forest_864.jpg</td>\n",
       "      <td>Forest</td>\n",
       "      <td>0</td>\n",
       "      <td>data/EuroSAT-small/source</td>\n",
       "      <td>None</td>\n",
       "      <td>None</td>\n",
       "    </tr>\n",
       "    <tr>\n",
       "      <th>1</th>\n",
       "      <td>data/EuroSAT-small/Forest/Forest_2917.jpg</td>\n",
       "      <td>Forest</td>\n",
       "      <td>0</td>\n",
       "      <td>data/EuroSAT-small/source</td>\n",
       "      <td>None</td>\n",
       "      <td>None</td>\n",
       "    </tr>\n",
       "    <tr>\n",
       "      <th>2</th>\n",
       "      <td>data/EuroSAT-small/Forest/Forest_2903.jpg</td>\n",
       "      <td>Forest</td>\n",
       "      <td>0</td>\n",
       "      <td>data/EuroSAT-small/source</td>\n",
       "      <td>None</td>\n",
       "      <td>None</td>\n",
       "    </tr>\n",
       "    <tr>\n",
       "      <th>3</th>\n",
       "      <td>data/EuroSAT-small/Forest/Forest_870.jpg</td>\n",
       "      <td>Forest</td>\n",
       "      <td>0</td>\n",
       "      <td>data/EuroSAT-small/source</td>\n",
       "      <td>None</td>\n",
       "      <td>None</td>\n",
       "    </tr>\n",
       "    <tr>\n",
       "      <th>4</th>\n",
       "      <td>data/EuroSAT-small/Forest/Forest_680.jpg</td>\n",
       "      <td>Forest</td>\n",
       "      <td>0</td>\n",
       "      <td>data/EuroSAT-small/source</td>\n",
       "      <td>None</td>\n",
       "      <td>None</td>\n",
       "    </tr>\n",
       "  </tbody>\n",
       "</table>\n",
       "</div>"
      ],
      "text/plain": [
       "                                       image   label  ix  \\\n",
       "0   data/EuroSAT-small/Forest/Forest_864.jpg  Forest   0   \n",
       "1  data/EuroSAT-small/Forest/Forest_2917.jpg  Forest   0   \n",
       "2  data/EuroSAT-small/Forest/Forest_2903.jpg  Forest   0   \n",
       "3   data/EuroSAT-small/Forest/Forest_870.jpg  Forest   0   \n",
       "4   data/EuroSAT-small/Forest/Forest_680.jpg  Forest   0   \n",
       "\n",
       "                  collection extensions bands  \n",
       "0  data/EuroSAT-small/source       None  None  \n",
       "1  data/EuroSAT-small/source       None  None  \n",
       "2  data/EuroSAT-small/source       None  None  \n",
       "3  data/EuroSAT-small/source       None  None  \n",
       "4  data/EuroSAT-small/source       None  None  "
      ]
     },
     "execution_count": 4,
     "metadata": {},
     "output_type": "execute_result"
    }
   ],
   "source": [
    "from eotdl.curation.stac.parsers import UnestructuredParser\n",
    "from eotdl.curation.stac.stac import STACGenerator\n",
    "from eotdl.curation.stac.dataframe_labeling import LabeledStrategy\n",
    "\n",
    "stac_generator = STACGenerator(image_format='jpg', item_parser=UnestructuredParser, labeling_strategy=LabeledStrategy)\n",
    "\n",
    "df = stac_generator.get_stac_dataframe('data/EuroSAT-small')\n",
    "df.head()\n"
   ]
  },
  {
   "cell_type": "markdown",
   "metadata": {},
   "source": [
    "Now we save the STAC metadata. The `id` given to the STAC catalog will be used as the name of the dataset in EOTDL (which has the same requirements than can be found in the [documentation](/docs/datasets/ingest))."
   ]
  },
  {
   "cell_type": "code",
   "execution_count": 5,
   "metadata": {},
   "outputs": [
    {
     "name": "stderr",
     "output_type": "stream",
     "text": [
      "/Users/fran/miniconda3/envs/sen12floods/lib/python3.11/site-packages/rasterio/__init__.py:304: NotGeoreferencedWarning: Dataset has no geotransform, gcps, or rpcs. The identity matrix will be returned.\n",
      "  dataset = DatasetReader(path, driver=driver, sharing=sharing, **kwargs)\n"
     ]
    },
    {
     "name": "stdout",
     "output_type": "stream",
     "text": [
      "Generating source collection...\n"
     ]
    },
    {
     "name": "stderr",
     "output_type": "stream",
     "text": [
      "  0%|          | 0/100 [00:00<?, ?it/s]"
     ]
    },
    {
     "name": "stderr",
     "output_type": "stream",
     "text": [
      "/Users/fran/miniconda3/envs/sen12floods/lib/python3.11/site-packages/rasterio/__init__.py:304: NotGeoreferencedWarning: Dataset has no geotransform, gcps, or rpcs. The identity matrix will be returned.\n",
      "  dataset = DatasetReader(path, driver=driver, sharing=sharing, **kwargs)\n",
      "100%|██████████| 100/100 [00:00<00:00, 784.62it/s]"
     ]
    },
    {
     "name": "stdout",
     "output_type": "stream",
     "text": [
      "Validating and saving catalog...\n",
      "Success!\n"
     ]
    },
    {
     "name": "stderr",
     "output_type": "stream",
     "text": [
      "\n"
     ]
    }
   ],
   "source": [
    "output = 'data/EuroSAT-STAC'\n",
    "stac_generator.generate_stac_metadata(id='eurosat-rgb', description='EuroSAT-RGB dataset', stac_dataframe=df, output_folder=output)"
   ]
  },
  {
   "cell_type": "markdown",
   "metadata": {},
   "source": [
    "And, optionally, the labels using the labels extension."
   ]
  },
  {
   "cell_type": "code",
   "execution_count": null,
   "metadata": {},
   "outputs": [],
   "source": [
    "from eotdl.curation.stac.extensions.label import ImageNameLabeler\n",
    "\n",
    "catalog = output + '/catalog.json'\n",
    "labels_extra_properties = {'label_properties': [\"label\"],\n",
    "                          'label_methods': [\"manual\"],\n",
    "                          'label_tasks': [\"classification\"]}\n",
    "\n",
    "labeler = ImageNameLabeler()\n",
    "labeler.generate_stac_labels(catalog, stac_dataframe=df, **labels_extra_properties)"
   ]
  },
  {
   "cell_type": "markdown",
   "metadata": {},
   "source": [
    "Once the STAC metadata is generated, we can ingest the dataset into EOTDL."
   ]
  },
  {
   "cell_type": "code",
   "execution_count": 1,
   "metadata": {},
   "outputs": [
    {
     "name": "stdout",
     "output_type": "stream",
     "text": [
      "Loading STAC catalog...\n",
      "Uploading assets...\n"
     ]
    },
    {
     "name": "stderr",
     "output_type": "stream",
     "text": [
      "100%|██████████| 200/200 [00:10<00:00, 18.29it/s]\n"
     ]
    },
    {
     "name": "stdout",
     "output_type": "stream",
     "text": [
      "Ingesting STAC catalog...\n",
      "Done\n"
     ]
    },
    {
     "data": {
      "text/plain": [
       "{'uid': 'auth0|642adbfdb3da3ab51492d60a',\n",
       " 'id': '651a8cbb98ed69fa11fec60d',\n",
       " 'name': 'eurosat-rgb',\n",
       " 'description': '',\n",
       " 'tags': [],\n",
       " 'createdAt': '2023-10-02T11:24:48.008000',\n",
       " 'updatedAt': '2023-10-02T11:26:29.981000',\n",
       " 'likes': 0,\n",
       " 'downloads': 0,\n",
       " 'quality': 1,\n",
       " 'size': 355176,\n",
       " 'catalog': {'type': 'Catalog',\n",
       "  'id': 'eurosat-rgb',\n",
       "  'stac_version': '1.0.0',\n",
       "  'description': 'EuroSAT-RGB dataset',\n",
       "  'links': [{'rel': 'self',\n",
       "    'href': '/Users/fran/Documents/Projects/eotdl/tutorials/data/EuroSAT-STAC/catalog.json',\n",
       "    'type': 'application/json'},\n",
       "   {'rel': 'root', 'href': './catalog.json', 'type': 'application/json'},\n",
       "   {'rel': 'child',\n",
       "    'href': './source/collection.json',\n",
       "    'type': 'application/json'},\n",
       "   {'rel': 'child',\n",
       "    'href': './labels/collection.json',\n",
       "    'type': 'application/json'}],\n",
       "  'extent': None,\n",
       "  'license': None,\n",
       "  'stac_extensions': None,\n",
       "  'summaries': None,\n",
       "  'properties': None,\n",
       "  'assets': None,\n",
       "  'bbox': None,\n",
       "  'collection': None}}"
      ]
     },
     "execution_count": 1,
     "metadata": {},
     "output_type": "execute_result"
    }
   ],
   "source": [
    "from eotdl.datasets import ingest_dataset\n",
    "\n",
    "ingest_dataset('data/EuroSAT-STAC')"
   ]
  },
  {
   "cell_type": "markdown",
   "metadata": {},
   "source": [
    "After the ingestion, you can explore and download your dataset like shown in the previous tutorial."
   ]
  },
  {
   "cell_type": "code",
   "execution_count": 2,
   "metadata": {},
   "outputs": [
    {
     "data": {
      "text/plain": [
       "['eurosat-rgb', 'asd']"
      ]
     },
     "execution_count": 2,
     "metadata": {},
     "output_type": "execute_result"
    }
   ],
   "source": [
    "from eotdl.datasets import list_datasets\n",
    "\n",
    "datasets = list_datasets()\n",
    "datasets"
   ]
  },
  {
   "cell_type": "code",
   "execution_count": 18,
   "metadata": {},
   "outputs": [
    {
     "name": "stdout",
     "output_type": "stream",
     "text": [
      "Downloading STAC metadata...\n",
      "To download assets, set assets=True or -a in the CLI.\n"
     ]
    },
    {
     "data": {
      "text/plain": [
       "'/home/juan/.cache/eotdl/datasets/eurosat-rgb'"
      ]
     },
     "execution_count": 18,
     "metadata": {},
     "output_type": "execute_result"
    }
   ],
   "source": [
    "from eotdl.datasets import download_dataset\n",
    "\n",
    "dst_path = download_dataset('eurosat-rgb')\n",
    "dst_path"
   ]
  },
  {
   "cell_type": "markdown",
   "metadata": {},
   "source": [
    "By default it will only download the STAC metadata. In case you also want to download the actual data, you can use the `assets` parameter. "
   ]
  },
  {
   "cell_type": "markdown",
   "metadata": {},
   "source": [
    "> The `force` parameter will overwrite the dataset if it already exists."
   ]
  },
  {
   "cell_type": "code",
   "execution_count": 20,
   "metadata": {},
   "outputs": [
    {
     "name": "stdout",
     "output_type": "stream",
     "text": [
      "Downloading STAC metadata...\n",
      "Downloading assets...\n"
     ]
    },
    {
     "name": "stderr",
     "output_type": "stream",
     "text": [
      "100%|██████████| 200/200 [00:34<00:00,  5.85it/s]\n"
     ]
    },
    {
     "data": {
      "text/plain": [
       "'/home/juan/.cache/eotdl/datasets/eurosat-rgb'"
      ]
     },
     "execution_count": 20,
     "metadata": {},
     "output_type": "execute_result"
    }
   ],
   "source": [
    "from eotdl.datasets import download_dataset\n",
    "\n",
    "dst_path = download_dataset('eurosat-rgb', force=True, assets=True)\n",
    "dst_path"
   ]
  },
  {
   "cell_type": "markdown",
   "metadata": {},
   "source": [
    "You will find the data in  the `assets` subfolder, where a subfolder for each items with its `id` will contain all the assets for that item."
   ]
  },
  {
   "cell_type": "code",
   "execution_count": 25,
   "metadata": {},
   "outputs": [
    {
     "data": {
      "text/plain": [
       "['/home/juan/.cache/eotdl/datasets/eurosat-rgb/assets/River_1655/River_1655.jpg',\n",
       " '/home/juan/.cache/eotdl/datasets/eurosat-rgb/assets/AnnualCrop_1142/AnnualCrop_1142.jpg',\n",
       " '/home/juan/.cache/eotdl/datasets/eurosat-rgb/assets/Industrial_435/Industrial_435.jpg']"
      ]
     },
     "execution_count": 25,
     "metadata": {},
     "output_type": "execute_result"
    }
   ],
   "source": [
    "from glob import glob\n",
    "\n",
    "glob(dst_path + '/assets/**/*.jpg')[:3]"
   ]
  },
  {
   "cell_type": "markdown",
   "metadata": {},
   "source": [
    "Alternatively, you can download an asset using its url."
   ]
  },
  {
   "cell_type": "code",
   "execution_count": 27,
   "metadata": {},
   "outputs": [
    {
     "data": {
      "text/plain": [
       "{'Highway_594': {'href': 'https://api.eotdl.com/datasets/6503f8a3d05a1b62cc273ea4/download/Highway_594.jpg',\n",
       "  'type': 'image/jpeg',\n",
       "  'title': 'Highway_594',\n",
       "  'roles': ['data']}}"
      ]
     },
     "execution_count": 27,
     "metadata": {},
     "output_type": "execute_result"
    }
   ],
   "source": [
    "import json\n",
    "\n",
    "with open(dst_path + '/eurosat-rgb/source/Highway_594/Highway_594.json', 'r') as f:\n",
    "\tdata = json.load(f)\n",
    "\n",
    "data['assets']"
   ]
  },
  {
   "cell_type": "code",
   "execution_count": 28,
   "metadata": {},
   "outputs": [
    {
     "name": "stderr",
     "output_type": "stream",
     "text": [
      "100%|██████████| 4.07k/4.07k [00:00<00:00, 743kiB/s]\n"
     ]
    },
    {
     "data": {
      "text/plain": [
       "'data/Highway_594.jpg'"
      ]
     },
     "execution_count": 28,
     "metadata": {},
     "output_type": "execute_result"
    }
   ],
   "source": [
    "from eotdl.datasets import download_file_url\n",
    "\n",
    "url = data['assets']['Highway_594']['href']\n",
    "download_file_url(url, 'data')"
   ]
  }
 ],
 "metadata": {
  "kernelspec": {
   "display_name": "Python 3 (ipykernel)",
   "language": "python",
   "name": "python3"
  },
  "language_info": {
   "codemirror_mode": {
    "name": "ipython",
    "version": 3
   },
   "file_extension": ".py",
   "mimetype": "text/x-python",
   "name": "python",
   "nbconvert_exporter": "python",
   "pygments_lexer": "ipython3",
   "version": "3.11.3"
  }
 },
 "nbformat": 4,
 "nbformat_minor": 2
}
