{
 "cells": [
  {
   "cell_type": "code",
   "execution_count": 1,
   "metadata": {},
   "outputs": [],
   "source": [
    "%load_ext autoreload\n",
    "%autoreload 2"
   ]
  },
  {
   "attachments": {},
   "cell_type": "markdown",
   "metadata": {},
   "source": [
    "# Q1 Training Datasets"
   ]
  },
  {
   "attachments": {},
   "cell_type": "markdown",
   "metadata": {},
   "source": [
    "Training Datasets (TDS) in EOTDL are categorized into different [quality levels](https://eotdl.com/docs/datasets/quality), which in turn will impact the range of functionality that will be available for each dataset.\n",
    "\n",
    "In this tutorial you will learn about Q1 datsets, datasets with STAC metadata. "
   ]
  },
  {
   "attachments": {},
   "cell_type": "markdown",
   "metadata": {},
   "source": [
    "## Ingesting Q1 datasets"
   ]
  },
  {
   "attachments": {},
   "cell_type": "markdown",
   "metadata": {},
   "source": [
    "To ingest a Q1 datasets you will need its STAC metadata.\n",
    "\n",
    "### Datasets with STAC metadata\n",
    "\n",
    "Some datasets already have STAC metadata, and can be ingested directly into EOTDL. For example, the [AgriFieldNet Competition Dataset\n",
    "](https://mlhub.earth/data/ref_agrifieldnet_competition_v1) dataset is available on Radiant MLHub. To follow with this tutorial, please download the dataset and extract it in the `data` folder."
   ]
  },
  {
   "cell_type": "code",
   "execution_count": 2,
   "metadata": {},
   "outputs": [
    {
     "data": {
      "text/plain": [
       "['ref_agrifieldnet_competition_v1']"
      ]
     },
     "execution_count": 2,
     "metadata": {},
     "output_type": "execute_result"
    }
   ],
   "source": [
    "import os \n",
    "\n",
    "os.listdir('data')"
   ]
  },
  {
   "cell_type": "markdown",
   "metadata": {},
   "source": [
    "Optionally, keep only a small number of items for faster testing."
   ]
  },
  {
   "cell_type": "code",
   "execution_count": 3,
   "metadata": {},
   "outputs": [
    {
     "data": {
      "text/plain": [
       "['data/ref_agrifieldnet_competition_v1/ref_agrifieldnet_competition_v1_labels_train/collection.json',\n",
       " 'data/ref_agrifieldnet_competition_v1/ref_agrifieldnet_competition_v1_labels_test/collection.json',\n",
       " 'data/ref_agrifieldnet_competition_v1/ref_agrifieldnet_competition_v1_source/collection.json']"
      ]
     },
     "execution_count": 3,
     "metadata": {},
     "output_type": "execute_result"
    }
   ],
   "source": [
    "import shutil \n",
    "from glob import glob \n",
    "import json\n",
    "\n",
    "def limit_items_in_collection(collection, limit=10):\n",
    "\tshutil.copyfile(collection, collection + \"-bck\")\n",
    "\twith open(collection, \"r\") as f:\n",
    "\t\tdata = json.load(f)\n",
    "\tdata[\"links\"] = data[\"links\"][:limit]\n",
    "\twith open(collection, \"w\") as f:\n",
    "\t\tjson.dump(data, f)\n",
    "\n",
    "collections = glob(\"data/ref_agrifieldnet_competition_v1/*/collection.json\")\n",
    "for collection in collections:\n",
    "\tlimit_items_in_collection(collection)\n",
    "\n",
    "collections"
   ]
  },
  {
   "cell_type": "markdown",
   "metadata": {},
   "source": [
    "Ingest the dataset passing the path to the root folder that contains the `catalog.json`. This will ingest the metadata as well as all the assets."
   ]
  },
  {
   "cell_type": "code",
   "execution_count": 10,
   "metadata": {},
   "outputs": [
    {
     "name": "stdout",
     "output_type": "stream",
     "text": [
      "Loading STAC catalog...\n",
      "Uploading assets...\n"
     ]
    },
    {
     "name": "stderr",
     "output_type": "stream",
     "text": [
      "100%|██████████| 20/20 [00:20<00:00,  1.05s/it]\n"
     ]
    },
    {
     "name": "stdout",
     "output_type": "stream",
     "text": [
      "Ingesting STAC catalog...\n",
      "Done\n"
     ]
    }
   ],
   "source": [
    "from eotdl.datasets import ingest_dataset\n",
    "\n",
    "df = ingest_dataset('data/ref_agrifieldnet_competition_v1/')\n"
   ]
  },
  {
   "cell_type": "markdown",
   "metadata": {},
   "source": [
    "After the ingestion, you can download your dataset like any other dataset."
   ]
  },
  {
   "cell_type": "code",
   "execution_count": 11,
   "metadata": {},
   "outputs": [
    {
     "name": "stdout",
     "output_type": "stream",
     "text": [
      "Downloading STAC metadata...\n",
      "To download assets, set assets=True\n"
     ]
    },
    {
     "data": {
      "text/plain": [
       "'/home/juan/.eotdl/datasets/ref_agrifieldnet_competition_v1'"
      ]
     },
     "execution_count": 11,
     "metadata": {},
     "output_type": "execute_result"
    }
   ],
   "source": [
    "from eotdl.datasets import download_dataset\n",
    "\n",
    "dst_path = download_dataset('ref_agrifieldnet_competition_v1')\n",
    "dst_path"
   ]
  },
  {
   "cell_type": "markdown",
   "metadata": {},
   "source": [
    "By default it will only download the STAC metadata. In case you also want to download the actual data, you can use the `assets` parameter. "
   ]
  },
  {
   "cell_type": "code",
   "execution_count": 2,
   "metadata": {},
   "outputs": [
    {
     "name": "stdout",
     "output_type": "stream",
     "text": [
      "Downloading STAC metadata...\n",
      "Downloading assets...\n"
     ]
    },
    {
     "name": "stderr",
     "output_type": "stream",
     "text": [
      "100%|██████████| 20/20 [00:01<00:00, 17.40it/s]\n"
     ]
    },
    {
     "data": {
      "text/plain": [
       "'/home/juan/.eotdl/datasets/ref_agrifieldnet_competition_v1'"
      ]
     },
     "execution_count": 2,
     "metadata": {},
     "output_type": "execute_result"
    }
   ],
   "source": [
    "from eotdl.datasets import download_dataset\n",
    "\n",
    "dst_path = download_dataset('ref_agrifieldnet_competition_v1', assets=True)\n",
    "dst_path"
   ]
  },
  {
   "cell_type": "markdown",
   "metadata": {},
   "source": [
    "You will find the data in `dst_path/assets`, where a subfolder for each items with its `id` will contain all the assets for that item."
   ]
  },
  {
   "cell_type": "code",
   "execution_count": 19,
   "metadata": {},
   "outputs": [
    {
     "data": {
      "text/plain": [
       "['/home/juan/.eotdl/datasets/ref_agrifieldnet_competition_v1/assets/ref_agrifieldnet_competition_v1_labels_train/Documentation.pdf',\n",
       " '/home/juan/.eotdl/datasets/ref_agrifieldnet_competition_v1/assets/ref_agrifieldnet_competition_v1_labels_test/Documentation.pdf']"
      ]
     },
     "execution_count": 19,
     "metadata": {},
     "output_type": "execute_result"
    }
   ],
   "source": [
    "glob(dst_path + '/assets/*/*.pdf')"
   ]
  },
  {
   "cell_type": "code",
   "execution_count": 20,
   "metadata": {},
   "outputs": [
    {
     "data": {
      "text/plain": [
       "['/home/juan/.eotdl/datasets/ref_agrifieldnet_competition_v1/assets/ref_agrifieldnet_competition_v1_source_73e8a/ref_agrifieldnet_competition_v1_source_73e8a_B09_10m.tif',\n",
       " '/home/juan/.eotdl/datasets/ref_agrifieldnet_competition_v1/assets/ref_agrifieldnet_competition_v1_source_73e8a/ref_agrifieldnet_competition_v1_source_73e8a_B12_10m.tif',\n",
       " '/home/juan/.eotdl/datasets/ref_agrifieldnet_competition_v1/assets/ref_agrifieldnet_competition_v1_source_73e8a/ref_agrifieldnet_competition_v1_source_73e8a_B04_10m.tif',\n",
       " '/home/juan/.eotdl/datasets/ref_agrifieldnet_competition_v1/assets/ref_agrifieldnet_competition_v1_source_73e8a/ref_agrifieldnet_competition_v1_source_73e8a_B02_10m.tif',\n",
       " '/home/juan/.eotdl/datasets/ref_agrifieldnet_competition_v1/assets/ref_agrifieldnet_competition_v1_source_73e8a/ref_agrifieldnet_competition_v1_source_73e8a_B11_10m.tif',\n",
       " '/home/juan/.eotdl/datasets/ref_agrifieldnet_competition_v1/assets/ref_agrifieldnet_competition_v1_source_73e8a/ref_agrifieldnet_competition_v1_source_73e8a_B8A_10m.tif',\n",
       " '/home/juan/.eotdl/datasets/ref_agrifieldnet_competition_v1/assets/ref_agrifieldnet_competition_v1_source_73e8a/ref_agrifieldnet_competition_v1_source_73e8a_B05_10m.tif',\n",
       " '/home/juan/.eotdl/datasets/ref_agrifieldnet_competition_v1/assets/ref_agrifieldnet_competition_v1_source_73e8a/ref_agrifieldnet_competition_v1_source_73e8a_B08_10m.tif',\n",
       " '/home/juan/.eotdl/datasets/ref_agrifieldnet_competition_v1/assets/ref_agrifieldnet_competition_v1_source_73e8a/ref_agrifieldnet_competition_v1_source_73e8a_B01_10m.tif',\n",
       " '/home/juan/.eotdl/datasets/ref_agrifieldnet_competition_v1/assets/ref_agrifieldnet_competition_v1_source_73e8a/ref_agrifieldnet_competition_v1_source_73e8a_B03_10m.tif']"
      ]
     },
     "execution_count": 20,
     "metadata": {},
     "output_type": "execute_result"
    }
   ],
   "source": [
    "glob(dst_path + '/assets/*/*.tif')[:10]"
   ]
  },
  {
   "cell_type": "markdown",
   "metadata": {},
   "source": [
    "Alternatively, you can download an asset using its url."
   ]
  },
  {
   "cell_type": "code",
   "execution_count": 3,
   "metadata": {},
   "outputs": [
    {
     "data": {
      "text/plain": [
       "'http://localhost:8010/datasets/64d21c7a352af6840dc0a864/download/ref_agrifieldnet_competition_v1_source_73e8a_B01_10m.tif'"
      ]
     },
     "execution_count": 3,
     "metadata": {},
     "output_type": "execute_result"
    }
   ],
   "source": [
    "import json\n",
    "\n",
    "with open(dst_path + '/ref_agrifieldnet_competition_v1/ref_agrifieldnet_competition_v1_source/ref_agrifieldnet_competition_v1_source_73e8a/ref_agrifieldnet_competition_v1_source_73e8a.json', 'r') as f:\n",
    "\tdata = json.load(f)\n",
    "\n",
    "url = data['assets']['B01']['href']\n",
    "url"
   ]
  },
  {
   "cell_type": "code",
   "execution_count": 4,
   "metadata": {},
   "outputs": [
    {
     "name": "stderr",
     "output_type": "stream",
     "text": [
      "100%|██████████| 6.47k/6.47k [00:00<00:00, 5.86MiB/s]\n"
     ]
    },
    {
     "data": {
      "text/plain": [
       "'data/ref_agrifieldnet_competition_v1_source_73e8a_B01_10m.tif'"
      ]
     },
     "execution_count": 4,
     "metadata": {},
     "output_type": "execute_result"
    }
   ],
   "source": [
    "from eotdl.datasets import download_file_url\n",
    "\n",
    "download_file_url(url, 'data')"
   ]
  },
  {
   "cell_type": "code",
   "execution_count": 13,
   "metadata": {},
   "outputs": [
    {
     "data": {
      "image/png": "[encoded data removed]",
      "text/plain": [
       "<Figure size 432x288 with 1 Axes>"
      ]
     },
     "metadata": {
      "needs_background": "light"
     },
     "output_type": "display_data"
    }
   ],
   "source": [
    "from rasterio.plot import show\n",
    "import matplotlib.pyplot as plt\n",
    "\n",
    "ds = rio.open('data/ref_agrifieldnet_competition_v1_source_73e8a_B01_10m.tif')\n",
    "x = ds.read(1)\n",
    "\n",
    "plt.imshow(x)\n",
    "plt.axis('off')\n",
    "plt.show()"
   ]
  },
  {
   "attachments": {},
   "cell_type": "markdown",
   "metadata": {},
   "source": [
    "### Creating STAC metadata"
   ]
  },
  {
   "cell_type": "markdown",
   "metadata": {},
   "source": [
    "The EOTDL library also offers functionality in case that your dataset does not have STAC metadata but you want to ingest it as a Q1 dataset to leverage other EOTDL functionalities. Let's see an example using the EuroSAT dataset. You can download the dataset [here](https://www.eotdl.com/datasets/EuroSAT-RGB). Then, extract it and put it in the `data` folder."
   ]
  },
  {
   "cell_type": "code",
   "execution_count": 1,
   "metadata": {},
   "outputs": [
    {
     "data": {
      "text/plain": [
       "['ref_agrifieldnet_competition_v1',\n",
       " 'ref_agrifieldnet_competition_v1_source_73e8a_B01_10m.tif',\n",
       " 'EuroSAT']"
      ]
     },
     "execution_count": 1,
     "metadata": {},
     "output_type": "execute_result"
    }
   ],
   "source": [
    "import os \n",
    "\n",
    "os.listdir('data')"
   ]
  },
  {
   "cell_type": "markdown",
   "metadata": {},
   "source": [
    "The EuroSAT dataset contains satellite images for classification, i.e. each image has one label associated. In this case, the label can be extracted from the folder structure."
   ]
  },
  {
   "cell_type": "code",
   "execution_count": 2,
   "metadata": {},
   "outputs": [
    {
     "data": {
      "text/plain": [
       "['Industrial',\n",
       " 'Forest',\n",
       " 'HerbaceousVegetation',\n",
       " 'PermanentCrop',\n",
       " 'Highway',\n",
       " 'Residential',\n",
       " 'SeaLake',\n",
       " 'River',\n",
       " 'AnnualCrop',\n",
       " 'Pasture']"
      ]
     },
     "execution_count": 2,
     "metadata": {},
     "output_type": "execute_result"
    }
   ],
   "source": [
    "labels = os.listdir('data/EuroSAT/2750')\n",
    "labels"
   ]
  },
  {
   "cell_type": "code",
   "execution_count": 3,
   "metadata": {},
   "outputs": [
    {
     "ename": "TypeError",
     "evalue": "'type' object is not subscriptable",
     "output_type": "error",
     "traceback": [
      "\u001b[0;31m---------------------------------------------------------------------------\u001b[0m",
      "\u001b[0;31mTypeError\u001b[0m                                 Traceback (most recent call last)",
      "\u001b[1;32m/home/juan/Desktop/eotdl/tutorials/02_q1_datasets.ipynb Cell 27\u001b[0m in \u001b[0;36m<cell line: 2>\u001b[0;34m()\u001b[0m\n\u001b[1;32m      <a href='vscode-notebook-cell://ssh-remote%2Bharley/home/juan/Desktop/eotdl/tutorials/02_q1_datasets.ipynb#X60sdnNjb2RlLXJlbW90ZQ%3D%3D?line=0'>1</a>\u001b[0m \u001b[39mfrom\u001b[39;00m \u001b[39meotdl\u001b[39;00m\u001b[39m.\u001b[39;00m\u001b[39mcuration\u001b[39;00m\u001b[39m.\u001b[39;00m\u001b[39mstac\u001b[39;00m\u001b[39m.\u001b[39;00m\u001b[39mparsers\u001b[39;00m \u001b[39mimport\u001b[39;00m UnestructuredParser\n\u001b[0;32m----> <a href='vscode-notebook-cell://ssh-remote%2Bharley/home/juan/Desktop/eotdl/tutorials/02_q1_datasets.ipynb#X60sdnNjb2RlLXJlbW90ZQ%3D%3D?line=1'>2</a>\u001b[0m \u001b[39mfrom\u001b[39;00m \u001b[39meotdl\u001b[39;00m\u001b[39m.\u001b[39;00m\u001b[39mcuration\u001b[39;00m\u001b[39m.\u001b[39;00m\u001b[39mstac\u001b[39;00m\u001b[39m.\u001b[39;00m\u001b[39mstac\u001b[39;00m \u001b[39mimport\u001b[39;00m STACGenerator\n\u001b[1;32m      <a href='vscode-notebook-cell://ssh-remote%2Bharley/home/juan/Desktop/eotdl/tutorials/02_q1_datasets.ipynb#X60sdnNjb2RlLXJlbW90ZQ%3D%3D?line=3'>4</a>\u001b[0m stac_generator \u001b[39m=\u001b[39m STACGenerator(image_format\u001b[39m=\u001b[39m\u001b[39m'\u001b[39m\u001b[39mjpg\u001b[39m\u001b[39m'\u001b[39m, item_parser\u001b[39m=\u001b[39mUnestructuredParser)\n\u001b[1;32m      <a href='vscode-notebook-cell://ssh-remote%2Bharley/home/juan/Desktop/eotdl/tutorials/02_q1_datasets.ipynb#X60sdnNjb2RlLXJlbW90ZQ%3D%3D?line=5'>6</a>\u001b[0m df \u001b[39m=\u001b[39m stac_generator\u001b[39m.\u001b[39mget_stac_dataframe(\u001b[39m'\u001b[39m\u001b[39mdata/EuroSAT/2750\u001b[39m\u001b[39m'\u001b[39m)\n",
      "File \u001b[0;32m~/Desktop/eotdl/tutorials/eotdl/curation/stac/stac.py:25\u001b[0m, in \u001b[0;36m<module>\u001b[0;34m\u001b[0m\n\u001b[1;32m     23\u001b[0m \u001b[39mfrom\u001b[39;00m \u001b[39m.\u001b[39;00m\u001b[39massets\u001b[39;00m \u001b[39mimport\u001b[39;00m STACAssetGenerator\n\u001b[1;32m     24\u001b[0m \u001b[39mfrom\u001b[39;00m \u001b[39m.\u001b[39;00m\u001b[39mutils\u001b[39;00m \u001b[39mimport\u001b[39;00m format_time_acquired, count_ocurrences\n\u001b[0;32m---> 25\u001b[0m \u001b[39mfrom\u001b[39;00m \u001b[39m.\u001b[39;00m\u001b[39mextensions\u001b[39;00m \u001b[39mimport\u001b[39;00m (\n\u001b[1;32m     26\u001b[0m     type_stac_extensions_dict,\n\u001b[1;32m     27\u001b[0m     SUPPORTED_EXTENSIONS,\n\u001b[1;32m     28\u001b[0m     LabelExtensionObject,\n\u001b[1;32m     29\u001b[0m )\n\u001b[1;32m     32\u001b[0m \u001b[39mclass\u001b[39;00m \u001b[39mSTACGenerator\u001b[39;00m:\n\u001b[1;32m     33\u001b[0m     \u001b[39mdef\u001b[39;00m \u001b[39m__init__\u001b[39m(\n\u001b[1;32m     34\u001b[0m         \u001b[39mself\u001b[39m,\n\u001b[1;32m     35\u001b[0m         image_format: \u001b[39mstr\u001b[39m \u001b[39m=\u001b[39m \u001b[39m\"\u001b[39m\u001b[39mtiff\u001b[39m\u001b[39m\"\u001b[39m,\n\u001b[0;32m   (...)\u001b[0m\n\u001b[1;32m     38\u001b[0m         assets_generator: STACAssetGenerator \u001b[39m=\u001b[39m STACAssetGenerator,\n\u001b[1;32m     39\u001b[0m     ) \u001b[39m-\u001b[39m\u001b[39m>\u001b[39m \u001b[39mNone\u001b[39;00m:\n",
      "File \u001b[0;32m~/Desktop/eotdl/tutorials/eotdl/curation/stac/extensions.py:181\u001b[0m, in \u001b[0;36m<module>\u001b[0;34m\u001b[0m\n\u001b[1;32m    177\u001b[0m     \u001b[39mdef\u001b[39;00m \u001b[39m__init__\u001b[39m(\u001b[39mself\u001b[39m) \u001b[39m-\u001b[39m\u001b[39m>\u001b[39m \u001b[39mNone\u001b[39;00m:\n\u001b[1;32m    178\u001b[0m         \u001b[39msuper\u001b[39m()\u001b[39m.\u001b[39m\u001b[39m__init__\u001b[39m()\n\u001b[0;32m--> 181\u001b[0m \u001b[39mclass\u001b[39;00m \u001b[39mLabelExtensionObject\u001b[39;00m(STACExtensionObject):\n\u001b[1;32m    182\u001b[0m     \u001b[39mdef\u001b[39;00m \u001b[39m__init__\u001b[39m(\u001b[39mself\u001b[39m) \u001b[39m-\u001b[39m\u001b[39m>\u001b[39m \u001b[39mNone\u001b[39;00m:\n\u001b[1;32m    183\u001b[0m         \u001b[39msuper\u001b[39m()\u001b[39m.\u001b[39m\u001b[39m__init__\u001b[39m()\n",
      "File \u001b[0;32m~/Desktop/eotdl/tutorials/eotdl/curation/stac/extensions.py:190\u001b[0m, in \u001b[0;36mLabelExtensionObject\u001b[0;34m()\u001b[0m\n\u001b[1;32m    182\u001b[0m \u001b[39mdef\u001b[39;00m \u001b[39m__init__\u001b[39m(\u001b[39mself\u001b[39m) \u001b[39m-\u001b[39m\u001b[39m>\u001b[39m \u001b[39mNone\u001b[39;00m:\n\u001b[1;32m    183\u001b[0m     \u001b[39msuper\u001b[39m()\u001b[39m.\u001b[39m\u001b[39m__init__\u001b[39m()\n\u001b[1;32m    185\u001b[0m \u001b[39m@classmethod\u001b[39m\n\u001b[1;32m    186\u001b[0m \u001b[39mdef\u001b[39;00m \u001b[39madd_extension_to_item\u001b[39m(\n\u001b[1;32m    187\u001b[0m     \u001b[39mself\u001b[39m, \n\u001b[1;32m    188\u001b[0m     obj: pystac\u001b[39m.\u001b[39mItem,\n\u001b[1;32m    189\u001b[0m     href: \u001b[39mstr\u001b[39m,\n\u001b[0;32m--> 190\u001b[0m     label_names: \u001b[39mlist\u001b[39;49m[\u001b[39mstr\u001b[39;49m],\n\u001b[1;32m    191\u001b[0m     label_classes: \u001b[39mlist\u001b[39m[\u001b[39mstr\u001b[39m],\n\u001b[1;32m    192\u001b[0m     label_properties: \u001b[39mlist\u001b[39m,\n\u001b[1;32m    193\u001b[0m     label_description: \u001b[39mstr\u001b[39m,\n\u001b[1;32m    194\u001b[0m     label_methods: \u001b[39mlist\u001b[39m,\n\u001b[1;32m    195\u001b[0m     label_tasks: \u001b[39mlist\u001b[39m[\u001b[39mstr\u001b[39m],\n\u001b[1;32m    196\u001b[0m     label_type: \u001b[39mstr\u001b[39m\n\u001b[1;32m    197\u001b[0m ) \u001b[39m-\u001b[39m\u001b[39m>\u001b[39m Union[pystac\u001b[39m.\u001b[39mItem, pystac\u001b[39m.\u001b[39mAsset]:\n\u001b[1;32m    198\u001b[0m     \u001b[39m\"\"\"\u001b[39;00m\n\u001b[1;32m    199\u001b[0m \u001b[39m    Add the extension to the given object\u001b[39;00m\n\u001b[1;32m    200\u001b[0m \n\u001b[1;32m    201\u001b[0m \u001b[39m    :param obj: object to add the extension\u001b[39;00m\n\u001b[1;32m    202\u001b[0m \u001b[39m    \"\"\"\u001b[39;00m\n\u001b[1;32m    203\u001b[0m     label_item \u001b[39m=\u001b[39m pystac\u001b[39m.\u001b[39mItem(\u001b[39mid\u001b[39m\u001b[39m=\u001b[39mobj\u001b[39m.\u001b[39mid,\n\u001b[1;32m    204\u001b[0m                                  geometry\u001b[39m=\u001b[39mobj\u001b[39m.\u001b[39mgeometry,\n\u001b[1;32m    205\u001b[0m                                  bbox\u001b[39m=\u001b[39mobj\u001b[39m.\u001b[39mbbox,\n\u001b[1;32m    206\u001b[0m                                  properties\u001b[39m=\u001b[39m\u001b[39mdict\u001b[39m(),\n\u001b[1;32m    207\u001b[0m                                  datetime\u001b[39m=\u001b[39mobj\u001b[39m.\u001b[39mdatetime\n\u001b[1;32m    208\u001b[0m                                 )\n",
      "\u001b[0;31mTypeError\u001b[0m: 'type' object is not subscriptable"
     ]
    }
   ],
   "source": [
    "from eotdl.curation.stac.parsers import UnestructuredParser\n",
    "from eotdl.curation.stac.stac import STACGenerator\n",
    "\n",
    "stac_generator = STACGenerator(image_format='jpg', item_parser=UnestructuredParser)\n",
    "\n",
    "df = stac_generator.get_stac_dataframe('data/EuroSAT/2750')\n",
    "df.head()\n"
   ]
  },
  {
   "cell_type": "code",
   "execution_count": null,
   "metadata": {},
   "outputs": [],
   "source": []
  }
 ],
 "metadata": {
  "kernelspec": {
   "display_name": "Python 3 (ipykernel)",
   "language": "python",
   "name": "python3"
  },
  "language_info": {
   "codemirror_mode": {
    "name": "ipython",
    "version": 3
   },
   "file_extension": ".py",
   "mimetype": "text/x-python",
   "name": "python",
   "nbconvert_exporter": "python",
   "pygments_lexer": "ipython3",
   "version": "3.8.10"
  }
 },
 "nbformat": 4,
 "nbformat_minor": 2
}
