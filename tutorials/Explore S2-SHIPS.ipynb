{
 "cells": [
  {
   "cell_type": "markdown",
   "metadata": {},
   "source": [
    "This notebook was automatically tested on the EOTDL platform with kernel **eotdl-1-2023.10**\n",
    "<details>\n",
    "    \n",
    "```\n",
    "    channels:\n",
    "    - conda-forge\n",
    "    dependencies:\n",
    "    - python=3.10\n",
    "    - ipykernel\n",
    "    - geojson\n",
    "    - ipyleaflet\n",
    "    - ipywidgets<8.0.0\n",
    "    - jupyterlab_widgets<2.0.0\n",
    "    - jupyterlab-geojson\n",
    "    - libgcc\n",
    "    - libpng\n",
    "    - papermill\n",
    "    - timm\n",
    "    - geomet\n",
    "    - matplotlib\n",
    "    - lightning\n",
    "    - rioxarray\n",
    "    - pystac\n",
    "    - pyproj\n",
    "    - mlflow\n",
    "    - pip:\n",
    "      - pytorch-eo==2023.7.21\n",
    "      - eotdl==2023.9.14.post4\n",
    "    description: ''\n",
    "    name: eotdl-1-2023.10\n",
    "    prefix: null\n",
    "\n",
    "```\n",
    "</details>"
   ]
  },
  {
   "cell_type": "markdown",
   "metadata": {
    "tags": []
   },
   "source": [
    "# Explore the S2-SHIPS dataset"
   ]
  },
  {
   "cell_type": "markdown",
   "metadata": {
    "tags": []
   },
   "source": [
    "In this example we are going to explore the [S2-SHIPS](https://github.com/alina2204/contrastive_SSL_ship_detection) dataset."
   ]
  },
  {
   "cell_type": "code",
   "execution_count": 1,
   "metadata": {
    "tags": []
   },
   "outputs": [],
   "source": [
    "import os\n",
    "from pathlib import Path\n",
    "path = Path(os.environ.get('EOTDL_DOWNLOAD_PATH'), 'S2-SHIPS')\n",
    "assert(path.exists) "
   ]
  },
  {
   "cell_type": "markdown",
   "metadata": {},
   "source": [
    "## The dataset"
   ]
  },
  {
   "cell_type": "markdown",
   "metadata": {
    "tags": []
   },
   "source": [
    "This dataset contains the COCO annotations files, the 12 spectral bands for each S2-SHIPS tile in a tif or numpy array version, the S2-SHIPS segmentation masks, the water masks and some pretrained backbones."
   ]
  },
  {
   "cell_type": "code",
   "execution_count": 2,
   "metadata": {
    "tags": []
   },
   "outputs": [
    {
     "name": "stdout",
     "output_type": "stream",
     "text": [
      "S2SHIPS.tar.xz\t\t     dataset_npy\t   s2ships_labels_mask\n",
      "coco-1622202804.029818.json  dataset_tif\t   water_mask\n",
      "coco-s2ships.json\t     pretrained_backbones\n"
     ]
    }
   ],
   "source": [
    "!ls {path}/S2SHIPS"
   ]
  },
  {
   "cell_type": "code",
   "execution_count": 3,
   "metadata": {
    "tags": []
   },
   "outputs": [],
   "source": [
    "import pandas as pd \n",
    "images = [img for img in os.listdir(str(path) + '/S2SHIPS/dataset_tif')]\n",
    "df = pd.DataFrame({'image': images})"
   ]
  },
  {
   "cell_type": "code",
   "execution_count": 4,
   "metadata": {
    "tags": []
   },
   "outputs": [
    {
     "data": {
      "text/html": [
       "<div>\n",
       "<style scoped>\n",
       "    .dataframe tbody tr th:only-of-type {\n",
       "        vertical-align: middle;\n",
       "    }\n",
       "\n",
       "    .dataframe tbody tr th {\n",
       "        vertical-align: top;\n",
       "    }\n",
       "\n",
       "    .dataframe thead th {\n",
       "        text-align: right;\n",
       "    }\n",
       "</style>\n",
       "<table border=\"1\" class=\"dataframe\">\n",
       "  <thead>\n",
       "    <tr style=\"text-align: right;\">\n",
       "      <th></th>\n",
       "      <th>image</th>\n",
       "    </tr>\n",
       "  </thead>\n",
       "  <tbody>\n",
       "    <tr>\n",
       "      <th>0</th>\n",
       "      <td>brest1</td>\n",
       "    </tr>\n",
       "    <tr>\n",
       "      <th>1</th>\n",
       "      <td>marseille</td>\n",
       "    </tr>\n",
       "    <tr>\n",
       "      <th>2</th>\n",
       "      <td>panama</td>\n",
       "    </tr>\n",
       "    <tr>\n",
       "      <th>3</th>\n",
       "      <td>portsmouth</td>\n",
       "    </tr>\n",
       "    <tr>\n",
       "      <th>4</th>\n",
       "      <td>rome</td>\n",
       "    </tr>\n",
       "    <tr>\n",
       "      <th>5</th>\n",
       "      <td>rotterdam1</td>\n",
       "    </tr>\n",
       "    <tr>\n",
       "      <th>6</th>\n",
       "      <td>rotterdam2</td>\n",
       "    </tr>\n",
       "    <tr>\n",
       "      <th>7</th>\n",
       "      <td>rotterdam3</td>\n",
       "    </tr>\n",
       "    <tr>\n",
       "      <th>8</th>\n",
       "      <td>southampton</td>\n",
       "    </tr>\n",
       "    <tr>\n",
       "      <th>9</th>\n",
       "      <td>suez1</td>\n",
       "    </tr>\n",
       "    <tr>\n",
       "      <th>10</th>\n",
       "      <td>suez2</td>\n",
       "    </tr>\n",
       "    <tr>\n",
       "      <th>11</th>\n",
       "      <td>suez3</td>\n",
       "    </tr>\n",
       "    <tr>\n",
       "      <th>12</th>\n",
       "      <td>suez4</td>\n",
       "    </tr>\n",
       "    <tr>\n",
       "      <th>13</th>\n",
       "      <td>suez5</td>\n",
       "    </tr>\n",
       "    <tr>\n",
       "      <th>14</th>\n",
       "      <td>suez6</td>\n",
       "    </tr>\n",
       "    <tr>\n",
       "      <th>15</th>\n",
       "      <td>toulon</td>\n",
       "    </tr>\n",
       "  </tbody>\n",
       "</table>\n",
       "</div>"
      ],
      "text/plain": [
       "          image\n",
       "0        brest1\n",
       "1     marseille\n",
       "2        panama\n",
       "3    portsmouth\n",
       "4          rome\n",
       "5    rotterdam1\n",
       "6    rotterdam2\n",
       "7    rotterdam3\n",
       "8   southampton\n",
       "9         suez1\n",
       "10        suez2\n",
       "11        suez3\n",
       "12        suez4\n",
       "13        suez5\n",
       "14        suez6\n",
       "15       toulon"
      ]
     },
     "execution_count": 4,
     "metadata": {},
     "output_type": "execute_result"
    }
   ],
   "source": [
    "df"
   ]
  }
 ],
 "metadata": {
  "interpreter": {
   "hash": "dd3c0ff7553675f8399160a12fbc0c6054e9524c8e841ec60a211865d03cacc2"
  },
  "kernelspec": {
   "display_name": "users-eotdl-1-2023.10",
   "language": "python",
   "name": "conda-env-users-eotdl-1-2023.10-py"
  },
  "language_info": {
   "codemirror_mode": {
    "name": "ipython",
    "version": 3
   },
   "file_extension": ".py",
   "mimetype": "text/x-python",
   "name": "python",
   "nbconvert_exporter": "python",
   "pygments_lexer": "ipython3",
   "version": "3.10.12"
  }
 },
 "nbformat": 4,
 "nbformat_minor": 4
}
