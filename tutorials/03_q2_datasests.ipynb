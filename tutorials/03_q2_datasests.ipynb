{
 "cells": [
  {
   "cell_type": "code",
   "execution_count": 1,
   "metadata": {},
   "outputs": [],
   "source": [
    "%load_ext autoreload\n",
    "%autoreload 2"
   ]
  },
  {
   "cell_type": "markdown",
   "metadata": {},
   "source": [
    "# Q2 Training Datasets"
   ]
  },
  {
   "cell_type": "markdown",
   "metadata": {},
   "source": [
    "Training Datasets (TDS) in EOTDL are categorized into different [quality levels](https://eotdl.com/docs/datasets/quality), which in turn will impact the range of functionality that will be available for each dataset.\n",
    "\n",
    "In this tutorial you will learn about Q2 datsets, datasets with STAC metadata and EOTDL's custom STAC extensions. "
   ]
  },
  {
   "cell_type": "markdown",
   "metadata": {},
   "source": [
    "## The ML-Dataset Extension"
   ]
  },
  {
   "cell_type": "markdown",
   "metadata": {},
   "source": [
    "The main extension used by EOTDL for Q2 datasets is the ML-Dataset extension. It enhances the STAC metadata of a dataset including information such as data splits (train, validation, test), quality metrics, etc.\n",
    "\n",
    "Let's see how to generate a Q2 dataset using the EOTDL library for the EuroSAT dataset. Q2 datasets are generated from Q1 datasets, datasets with STAC metadata. We already showed how to generate a Q1 dataset in the previous tutorial."
   ]
  },
  {
   "cell_type": "code",
   "execution_count": 1,
   "metadata": {},
   "outputs": [
    {
     "data": {
      "text/plain": [
       "['sen12floods-use-case',\n",
       " 'EuroSAT-Q2',\n",
       " 'sen12floods-eotdl',\n",
       " 'EuroSAT',\n",
       " 'EuroSAT-STAC',\n",
       " 'sen12floods.zip']"
      ]
     },
     "execution_count": 1,
     "metadata": {},
     "output_type": "execute_result"
    }
   ],
   "source": [
    "import os \n",
    "\n",
    "os.listdir('data')"
   ]
  },
  {
   "cell_type": "code",
   "execution_count": 13,
   "metadata": {},
   "outputs": [
    {
     "name": "stdout",
     "output_type": "stream",
     "text": [
      "Generating splits...\n",
      "Total size: 99\n",
      "Train size: 79\n",
      "Test size: 9\n",
      "Validation size: 9\n",
      "Generating Training split...\n"
     ]
    },
    {
     "name": "stderr",
     "output_type": "stream",
     "text": [
      "  0%|          | 0/79 [00:00<?, ?it/s]"
     ]
    },
    {
     "name": "stderr",
     "output_type": "stream",
     "text": [
      "100%|██████████| 79/79 [00:00<00:00, 4887.60it/s]\n"
     ]
    },
    {
     "name": "stdout",
     "output_type": "stream",
     "text": [
      "Generating Validation split...\n"
     ]
    },
    {
     "name": "stderr",
     "output_type": "stream",
     "text": [
      "100%|██████████| 9/9 [00:00<00:00, 3773.74it/s]\n"
     ]
    },
    {
     "name": "stdout",
     "output_type": "stream",
     "text": [
      "Generating Test split...\n"
     ]
    },
    {
     "name": "stderr",
     "output_type": "stream",
     "text": [
      "100%|██████████| 9/9 [00:00<00:00, 4846.42it/s]"
     ]
    },
    {
     "name": "stdout",
     "output_type": "stream",
     "text": [
      "Success on splits generation!\n",
      "Validating and saving...\n",
      "Success!\n"
     ]
    },
    {
     "name": "stderr",
     "output_type": "stream",
     "text": [
      "\n"
     ]
    }
   ],
   "source": [
    "from eotdl.curation.stac.ml_dataset import add_ml_extension\n",
    "\n",
    "catalog = 'data/EuroSAT-STAC/catalog.json'\n",
    "\n",
    "add_ml_extension(\n",
    "\tcatalog,\n",
    "\tdestination='data/EuroSAT-Q2',\n",
    "\tsplits=True,\n",
    "\tsplits_collection_id=\"labels\",\n",
    "\tname='EuroSAT Q2 Dataset',\n",
    "\ttasks=['image classification'],\n",
    "\tinputs_type=['satellite imagery'],\n",
    "\tannotations_type='raster',\n",
    "\tversion='0.1.0'\n",
    ")"
   ]
  },
  {
   "cell_type": "markdown",
   "metadata": {},
   "source": [
    "When ingesting a Q2 dataset, EOTDL will automatically compute quality metrics on your dataset, that will be reported in the metadata. Optionally, you can compute them to analyse your dataset before ingesting it."
   ]
  },
  {
   "cell_type": "code",
   "execution_count": 14,
   "metadata": {},
   "outputs": [
    {
     "name": "stdout",
     "output_type": "stream",
     "text": [
      "Looking for spatial duplicates...\n"
     ]
    },
    {
     "name": "stderr",
     "output_type": "stream",
     "text": [
      "0it [00:00, ?it/s]"
     ]
    },
    {
     "name": "stderr",
     "output_type": "stream",
     "text": [
      "198it [00:00, 3601.09it/s]\n"
     ]
    },
    {
     "name": "stdout",
     "output_type": "stream",
     "text": [
      "Calculating classes balance...\n"
     ]
    },
    {
     "name": "stderr",
     "output_type": "stream",
     "text": [
      "198it [00:00, 201424.25it/s]"
     ]
    },
    {
     "name": "stdout",
     "output_type": "stream",
     "text": [
      "Validating and saving...\n",
      "Success!\n"
     ]
    },
    {
     "name": "stderr",
     "output_type": "stream",
     "text": [
      "\n"
     ]
    }
   ],
   "source": [
    "from eotdl.curation.stac.ml_dataset import MLDatasetQualityMetrics\n",
    "\n",
    "catalog = 'data/EuroSAT-Q2/catalog.json'\n",
    "\n",
    "MLDatasetQualityMetrics.calculate(catalog)"
   ]
  },
  {
   "cell_type": "markdown",
   "metadata": {},
   "source": [
    "Remember, however, that the metrics will be computed automatically when ingesting the dataset, so you don't need to do it yourself. These metrics incude aspects such as the number of samples, duplicates, missing values, class imbalance, etc."
   ]
  },
  {
   "cell_type": "markdown",
   "metadata": {},
   "source": [
    "## Ingesting Q2 datasets"
   ]
  },
  {
   "cell_type": "markdown",
   "metadata": {},
   "source": [
    "Once the metadata has been generated, you can ingest, explore and download a Q2 dataset as any other dataset."
   ]
  },
  {
   "cell_type": "code",
   "execution_count": 3,
   "metadata": {},
   "outputs": [
    {
     "name": "stdout",
     "output_type": "stream",
     "text": [
      "Loading STAC catalog...\n",
      "Uploading assets...\n"
     ]
    },
    {
     "name": "stderr",
     "output_type": "stream",
     "text": [
      " 50%|█████     | 99/198 [00:27<00:27,  3.58it/s]\n"
     ]
    },
    {
     "name": "stdout",
     "output_type": "stream",
     "text": [
      "Error uploading asset 102: [Errno 2] No such file or directory: '/home/juan/Desktop/eotdl/tutorials/data/EuroSAT-Q2/labels/Industrial_1743/vector_labels.geojson'\n",
      "Ingesting STAC catalog...\n",
      "Done\n"
     ]
    },
    {
     "data": {
      "text/plain": [
       "{'uid': 'auth0|616b0057af0c7500691a026e',\n",
       " 'id': '6503f994d05a1b62cc273fdd',\n",
       " 'name': 'eurosat-rgb-q2',\n",
       " 'description': '',\n",
       " 'tags': [],\n",
       " 'createdAt': '2023-09-15T06:10:21.544',\n",
       " 'updatedAt': '2023-09-15T08:29:04.656',\n",
       " 'likes': 0,\n",
       " 'downloads': 0,\n",
       " 'quality': 2,\n",
       " 'size': 453353,\n",
       " 'catalog': {'type': 'Catalog',\n",
       "  'id': 'eurosat-rgb-q2',\n",
       "  'stac_version': '1.0.0',\n",
       "  'description': 'EuroSAT-RGB dataset',\n",
       "  'links': [{'rel': 'self',\n",
       "    'href': '/home/juan/Desktop/eotdl/tutorials/data/EuroSAT-Q2/catalog.json',\n",
       "    'type': 'application/json'},\n",
       "   {'rel': 'root', 'href': './catalog.json', 'type': 'application/json'},\n",
       "   {'rel': 'child',\n",
       "    'href': './source/collection.json',\n",
       "    'type': 'application/json'},\n",
       "   {'rel': 'child',\n",
       "    'href': './labels/collection.json',\n",
       "    'type': 'application/json'}],\n",
       "  'stac_extensions': ['https://raw.githubusercontent.com/earthpulse/ml-dataset/main/json-schema/schema.json'],\n",
       "  'ml-dataset:name': 'EuroSAT Q2 Dataset',\n",
       "  'ml-dataset:tasks': ['image classification'],\n",
       "  'ml-dataset:inputs-type': ['satellite imagery'],\n",
       "  'ml-dataset:annotations-type': 'raster',\n",
       "  'ml-dataset:version': '0.1.0',\n",
       "  'ml-dataset:splits': ['Training', 'Validation', 'Test'],\n",
       "  'ml-dataset:quality-metrics': [{'name': 'spatial-duplicates',\n",
       "    'values': [{'item': 'Industrial_1273', 'duplicate': 'Industrial_1743'},\n",
       "     {'item': 'Industrial_1117', 'duplicate': 'Industrial_1743'},\n",
       "     {'item': 'Industrial_1121', 'duplicate': 'Industrial_1743'},\n",
       "     {'item': 'Industrial_1641', 'duplicate': 'Industrial_1743'},\n",
       "     {'item': 'Industrial_259', 'duplicate': 'Industrial_1743'},\n",
       "     {'item': 'Industrial_435', 'duplicate': 'Industrial_1743'},\n",
       "     {'item': 'Industrial_674', 'duplicate': 'Industrial_1743'},\n",
       "     {'item': 'Industrial_905', 'duplicate': 'Industrial_1743'},\n",
       "     {'item': 'Industrial_238', 'duplicate': 'Industrial_1743'},\n",
       "     {'item': 'Industrial_631', 'duplicate': 'Industrial_1743'},\n",
       "     {'item': 'Industrial_2292', 'duplicate': 'Industrial_1743'},\n",
       "     {'item': 'Industrial_1952', 'duplicate': 'Industrial_1743'},\n",
       "     {'item': 'Industrial_1980', 'duplicate': 'Industrial_1743'},\n",
       "     {'item': 'Industrial_524', 'duplicate': 'Industrial_1743'},\n",
       "     {'item': 'Industrial_689', 'duplicate': 'Industrial_1743'},\n",
       "     {'item': 'Industrial_1967', 'duplicate': 'Industrial_1743'},\n",
       "     {'item': 'Industrial_305', 'duplicate': 'Industrial_1743'},\n",
       "     {'item': 'Industrial_1184', 'duplicate': 'Industrial_1743'},\n",
       "     {'item': 'Industrial_2193', 'duplicate': 'Industrial_1743'},\n",
       "     {'item': 'Industrial_1015', 'duplicate': 'Industrial_1743'},\n",
       "     {'item': 'Industrial_1532', 'duplicate': 'Industrial_1743'},\n",
       "     {'item': 'Industrial_146', 'duplicate': 'Industrial_1743'},\n",
       "     {'item': 'Industrial_962', 'duplicate': 'Industrial_1743'},\n",
       "     {'item': 'Industrial_1543', 'duplicate': 'Industrial_1743'},\n",
       "     {'item': 'Industrial_1328', 'duplicate': 'Industrial_1743'},\n",
       "     {'item': 'Industrial_1721', 'duplicate': 'Industrial_1743'},\n",
       "     {'item': 'Industrial_2024', 'duplicate': 'Industrial_1743'},\n",
       "     {'item': 'Industrial_1233', 'duplicate': 'Industrial_1743'},\n",
       "     {'item': 'Industrial_94', 'duplicate': 'Industrial_1743'},\n",
       "     {'item': 'Industrial_910', 'duplicate': 'Industrial_1743'},\n",
       "     {'item': 'Industrial_364', 'duplicate': 'Industrial_1743'},\n",
       "     {'item': 'Industrial_1096', 'duplicate': 'Industrial_1743'},\n",
       "     {'item': 'Industrial_512', 'duplicate': 'Industrial_1743'},\n",
       "     {'item': 'Industrial_1291', 'duplicate': 'Industrial_1743'},\n",
       "     {'item': 'Industrial_59', 'duplicate': 'Industrial_1743'},\n",
       "     {'item': 'Industrial_124', 'duplicate': 'Industrial_1743'},\n",
       "     {'item': 'Industrial_1899', 'duplicate': 'Industrial_1743'},\n",
       "     {'item': 'Industrial_78', 'duplicate': 'Industrial_1743'},\n",
       "     {'item': 'Industrial_448', 'duplicate': 'Industrial_1743'},\n",
       "     {'item': 'Industrial_1920', 'duplicate': 'Industrial_1743'},\n",
       "     {'item': 'Industrial_1434', 'duplicate': 'Industrial_1743'},\n",
       "     {'item': 'Industrial_421', 'duplicate': 'Industrial_1743'},\n",
       "     {'item': 'Industrial_125', 'duplicate': 'Industrial_1743'},\n",
       "     {'item': 'Industrial_2216', 'duplicate': 'Industrial_1743'},\n",
       "     {'item': 'Industrial_265', 'duplicate': 'Industrial_1743'},\n",
       "     {'item': 'Industrial_354', 'duplicate': 'Industrial_1743'},\n",
       "     {'item': 'Industrial_1327', 'duplicate': 'Industrial_1743'},\n",
       "     {'item': 'Industrial_1104', 'duplicate': 'Industrial_1743'},\n",
       "     {'item': 'Industrial_1923', 'duplicate': 'Industrial_1743'},\n",
       "     {'item': 'Industrial_1312', 'duplicate': 'Industrial_1743'},\n",
       "     {'item': 'Industrial_2486', 'duplicate': 'Industrial_1743'},\n",
       "     {'item': 'Industrial_239', 'duplicate': 'Industrial_1743'},\n",
       "     {'item': 'Industrial_212', 'duplicate': 'Industrial_1743'},\n",
       "     {'item': 'Industrial_1978', 'duplicate': 'Industrial_1743'},\n",
       "     {'item': 'Industrial_1378', 'duplicate': 'Industrial_1743'},\n",
       "     {'item': 'Industrial_1535', 'duplicate': 'Industrial_1743'},\n",
       "     {'item': 'Industrial_2037', 'duplicate': 'Industrial_1743'},\n",
       "     {'item': 'Industrial_1881', 'duplicate': 'Industrial_1743'},\n",
       "     {'item': 'Industrial_1797', 'duplicate': 'Industrial_1743'},\n",
       "     {'item': 'Industrial_1739', 'duplicate': 'Industrial_1743'},\n",
       "     {'item': 'Industrial_1225', 'duplicate': 'Industrial_1743'},\n",
       "     {'item': 'Industrial_665', 'duplicate': 'Industrial_1743'},\n",
       "     {'item': 'Industrial_1710', 'duplicate': 'Industrial_1743'},\n",
       "     {'item': 'Industrial_1708', 'duplicate': 'Industrial_1743'},\n",
       "     {'item': 'Industrial_253', 'duplicate': 'Industrial_1743'},\n",
       "     {'item': 'Industrial_1754', 'duplicate': 'Industrial_1743'},\n",
       "     {'item': 'Industrial_2359', 'duplicate': 'Industrial_1743'},\n",
       "     {'item': 'Industrial_40', 'duplicate': 'Industrial_1743'},\n",
       "     {'item': 'Industrial_1491', 'duplicate': 'Industrial_1743'},\n",
       "     {'item': 'Industrial_2281', 'duplicate': 'Industrial_1743'},\n",
       "     {'item': 'Industrial_2471', 'duplicate': 'Industrial_1743'},\n",
       "     {'item': 'Industrial_767', 'duplicate': 'Industrial_1743'},\n",
       "     {'item': 'Industrial_496', 'duplicate': 'Industrial_1743'},\n",
       "     {'item': 'Industrial_1049', 'duplicate': 'Industrial_1743'},\n",
       "     {'item': 'Industrial_807', 'duplicate': 'Industrial_1743'},\n",
       "     {'item': 'Industrial_1376', 'duplicate': 'Industrial_1743'},\n",
       "     {'item': 'Industrial_2479', 'duplicate': 'Industrial_1743'},\n",
       "     {'item': 'Industrial_850', 'duplicate': 'Industrial_1743'},\n",
       "     {'item': 'Industrial_1124', 'duplicate': 'Industrial_1743'},\n",
       "     {'item': 'Industrial_1955', 'duplicate': 'Industrial_1743'},\n",
       "     {'item': 'Industrial_594', 'duplicate': 'Industrial_1743'},\n",
       "     {'item': 'Industrial_1469', 'duplicate': 'Industrial_1743'},\n",
       "     {'item': 'Industrial_1073', 'duplicate': 'Industrial_1743'},\n",
       "     {'item': 'Industrial_299', 'duplicate': 'Industrial_1743'},\n",
       "     {'item': 'Industrial_2367', 'duplicate': 'Industrial_1743'},\n",
       "     {'item': 'Industrial_153', 'duplicate': 'Industrial_1743'},\n",
       "     {'item': 'Industrial_1959', 'duplicate': 'Industrial_1743'},\n",
       "     {'item': 'Industrial_1522', 'duplicate': 'Industrial_1743'},\n",
       "     {'item': 'Industrial_1694', 'duplicate': 'Industrial_1743'},\n",
       "     {'item': 'Industrial_419', 'duplicate': 'Industrial_1743'},\n",
       "     {'item': 'Industrial_882', 'duplicate': 'Industrial_1743'},\n",
       "     {'item': 'Industrial_1215', 'duplicate': 'Industrial_1743'},\n",
       "     {'item': 'Industrial_2062', 'duplicate': 'Industrial_1743'},\n",
       "     {'item': 'Industrial_233', 'duplicate': 'Industrial_1743'},\n",
       "     {'item': 'Industrial_2063', 'duplicate': 'Industrial_1743'},\n",
       "     {'item': 'Industrial_2394', 'duplicate': 'Industrial_1743'},\n",
       "     {'item': 'Industrial_412', 'duplicate': 'Industrial_1743'},\n",
       "     {'item': 'Industrial_702', 'duplicate': 'Industrial_1743'}],\n",
       "    'total': 98},\n",
       "   {'name': 'classes-balance',\n",
       "    'values': [{'class': 'Industrial', 'total': 99, 'percentage': 10},\n",
       "     {'class': 'Forest', 'total': 99, 'percentage': 10},\n",
       "     {'class': 'HerbaceousVegetation', 'total': 99, 'percentage': 10},\n",
       "     {'class': 'PermanentCrop', 'total': 99, 'percentage': 10},\n",
       "     {'class': 'Highway', 'total': 99, 'percentage': 10},\n",
       "     {'class': 'Residential', 'total': 99, 'percentage': 10},\n",
       "     {'class': 'SeaLake', 'total': 99, 'percentage': 10},\n",
       "     {'class': 'River', 'total': 99, 'percentage': 10},\n",
       "     {'class': 'AnnualCrop', 'total': 99, 'percentage': 10},\n",
       "     {'class': 'Pasture', 'total': 99, 'percentage': 10}]}],\n",
       "  'extent': None,\n",
       "  'license': None,\n",
       "  'ml-dataset:split-items': None,\n",
       "  'summaries': None,\n",
       "  'properties': None,\n",
       "  'assets': None,\n",
       "  'bbox': None,\n",
       "  'collection': None}}"
      ]
     },
     "execution_count": 3,
     "metadata": {},
     "output_type": "execute_result"
    }
   ],
   "source": [
    "from eotdl.datasets import ingest_dataset\n",
    "\n",
    "ingest_dataset('data/EuroSAT-Q2')"
   ]
  }
 ],
 "metadata": {
  "kernelspec": {
   "display_name": "Python 3 (ipykernel)",
   "language": "python",
   "name": "python3"
  },
  "language_info": {
   "codemirror_mode": {
    "name": "ipython",
    "version": 3
   },
   "file_extension": ".py",
   "mimetype": "text/x-python",
   "name": "python",
   "nbconvert_exporter": "python",
   "pygments_lexer": "ipython3",
   "version": "3.8.18"
  }
 },
 "nbformat": 4,
 "nbformat_minor": 4
}
