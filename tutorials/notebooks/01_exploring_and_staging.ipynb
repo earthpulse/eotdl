{
 "cells": [
  {
   "cell_type": "code",
   "execution_count": 41,
   "metadata": {},
   "outputs": [
    {
     "name": "stdout",
     "output_type": "stream",
     "text": [
      "The autoreload extension is already loaded. To reload it, use:\n",
      "  %reload_ext autoreload\n"
     ]
    }
   ],
   "source": [
    "%load_ext autoreload\n",
    "%autoreload 2\n",
    "\n",
    "import os\n",
    "os.environ[\"EOTDL_API_URL\"] = \"http://localhost:8000/\""
   ]
  },
  {
   "cell_type": "markdown",
   "metadata": {},
   "source": [
    "# Exploring and Staging Datasets and Models"
   ]
  },
  {
   "cell_type": "markdown",
   "metadata": {},
   "source": [
    "Let's start by exploring the repository of datasets and models. \n",
    "\n",
    "You can do that at the different accessibility layers of EOTDL: the user interface, the API, the command line interface (CLI) and the Python library."
   ]
  },
  {
   "cell_type": "markdown",
   "metadata": {},
   "source": [
    "## The User Interface"
   ]
  },
  {
   "cell_type": "markdown",
   "metadata": {},
   "source": [
    "The easiest way to get started with EOTDL is by exploring the user interface: [https://eotdl.com/](https://www.eotdl.com/). Through the UI you will be able to:\n",
    "\n",
    "- Explore the datasets and models available in the repository (filtering by name, tags and liked)\n",
    "- Edit your own datasets and models information.\n",
    "- Read the tutorials on the blog.\n",
    "- Read the documentation.\n",
    "- Find useful links to other resources (GitHub, Discord, ...)"
   ]
  },
  {
   "cell_type": "markdown",
   "metadata": {},
   "source": [
    "## The Command Line Interface"
   ]
  },
  {
   "cell_type": "markdown",
   "metadata": {},
   "source": [
    "Even though the UI is the easiest way to get started, it is not the most convenient for actually working with the datasets and models. For that we recommend installing the CLI.\n",
    "\n",
    "If you are running this notebook locally, consider creating a virtual environment before installing the CLI to avoid conflicts with other packages.\n",
    "\n",
    "For example, with UV:\n",
    "\n",
    "```bash\n",
    "uv venv \n",
    "source .venv/bin/activate\n",
    "```\n",
    "\n",
    "> Learn how to install and work with uv at https://docs.astral.sh/uv/getting-started/installation/#__tabbed_1_1\n",
    "\n",
    "You may also have to install Jupyter on the new environment and restart the notebook.\n",
    "\n",
    "Then, you can install the CLI with pip:"
   ]
  },
  {
   "cell_type": "code",
   "execution_count": 42,
   "metadata": {},
   "outputs": [],
   "source": [
    "# uncomment to install\n",
    "\n",
    "# !pip install eotdl"
   ]
  },
  {
   "cell_type": "markdown",
   "metadata": {},
   "source": [
    "Once installed, you can execute the CLI with different commands. "
   ]
  },
  {
   "cell_type": "code",
   "execution_count": 43,
   "metadata": {},
   "outputs": [
    {
     "name": "stdout",
     "output_type": "stream",
     "text": [
      "\u001b[1m                                                                                \u001b[0m\n",
      "\u001b[1m \u001b[0m\u001b[1;33mUsage: \u001b[0m\u001b[1meotdl [OPTIONS] COMMAND [ARGS]...\u001b[0m\u001b[1m                                      \u001b[0m\u001b[1m \u001b[0m\n",
      "\u001b[1m                                                                                \u001b[0m\n",
      " Welcome to EOTDL. Learn more at https://www.eotdl.com/                         \n",
      "                                                                                \n",
      "\u001b[2m╭─\u001b[0m\u001b[2m Options \u001b[0m\u001b[2m───────────────────────────────────────────────────────────────────\u001b[0m\u001b[2m─╮\u001b[0m\n",
      "\u001b[2m│\u001b[0m \u001b[1;36m-\u001b[0m\u001b[1;36m-install\u001b[0m\u001b[1;36m-completion\u001b[0m          Install completion for the current shell.      \u001b[2m│\u001b[0m\n",
      "\u001b[2m│\u001b[0m \u001b[1;36m-\u001b[0m\u001b[1;36m-show\u001b[0m\u001b[1;36m-completion\u001b[0m             Show completion for the current shell, to copy \u001b[2m│\u001b[0m\n",
      "\u001b[2m│\u001b[0m                               it or customize the installation.              \u001b[2m│\u001b[0m\n",
      "\u001b[2m│\u001b[0m \u001b[1;36m-\u001b[0m\u001b[1;36m-help\u001b[0m                        Show this message and exit.                    \u001b[2m│\u001b[0m\n",
      "\u001b[2m╰──────────────────────────────────────────────────────────────────────────────╯\u001b[0m\n",
      "\u001b[2m╭─\u001b[0m\u001b[2m Commands \u001b[0m\u001b[2m──────────────────────────────────────────────────────────────────\u001b[0m\u001b[2m─╮\u001b[0m\n",
      "\u001b[2m│\u001b[0m \u001b[1;36mapi        \u001b[0m\u001b[1;36m \u001b[0m Get EOTDL API URL and info.                                     \u001b[2m│\u001b[0m\n",
      "\u001b[2m│\u001b[0m \u001b[1;36mauth       \u001b[0m\u001b[1;36m \u001b[0m Login to EOTDL.                                                 \u001b[2m│\u001b[0m\n",
      "\u001b[2m│\u001b[0m \u001b[1;36mdatasets   \u001b[0m\u001b[1;36m \u001b[0m Explore, ingest and download training datasets.                 \u001b[2m│\u001b[0m\n",
      "\u001b[2m│\u001b[0m \u001b[1;36mmodels     \u001b[0m\u001b[1;36m \u001b[0m Explore, ingest and download ML models.                         \u001b[2m│\u001b[0m\n",
      "\u001b[2m│\u001b[0m \u001b[1;36mstac       \u001b[0m\u001b[1;36m \u001b[0m EOTDL STAC API                                                  \u001b[2m│\u001b[0m\n",
      "\u001b[2m│\u001b[0m \u001b[1;36mversion    \u001b[0m\u001b[1;36m \u001b[0m Get EOTDL version.                                              \u001b[2m│\u001b[0m\n",
      "\u001b[2m╰──────────────────────────────────────────────────────────────────────────────╯\u001b[0m\n",
      "\n"
     ]
    }
   ],
   "source": [
    "!eotdl --help"
   ]
  },
  {
   "cell_type": "code",
   "execution_count": 44,
   "metadata": {},
   "outputs": [
    {
     "name": "stdout",
     "output_type": "stream",
     "text": [
      "EOTDL Version: 2025.03.25\n"
     ]
    }
   ],
   "source": [
    "!eotdl version"
   ]
  },
  {
   "cell_type": "code",
   "execution_count": 45,
   "metadata": {},
   "outputs": [
    {
     "name": "stdout",
     "output_type": "stream",
     "text": [
      "\u001b[1m                                                                                \u001b[0m\n",
      "\u001b[1m \u001b[0m\u001b[1;33mUsage: \u001b[0m\u001b[1meotdl datasets [OPTIONS] COMMAND [ARGS]...\u001b[0m\u001b[1m                             \u001b[0m\u001b[1m \u001b[0m\n",
      "\u001b[1m                                                                                \u001b[0m\n",
      " Explore, ingest and download training datasets.                                \n",
      "                                                                                \n",
      "\u001b[2m╭─\u001b[0m\u001b[2m Options \u001b[0m\u001b[2m───────────────────────────────────────────────────────────────────\u001b[0m\u001b[2m─╮\u001b[0m\n",
      "\u001b[2m│\u001b[0m \u001b[1;36m-\u001b[0m\u001b[1;36m-help\u001b[0m          Show this message and exit.                                  \u001b[2m│\u001b[0m\n",
      "\u001b[2m╰──────────────────────────────────────────────────────────────────────────────╯\u001b[0m\n",
      "\u001b[2m╭─\u001b[0m\u001b[2m Commands \u001b[0m\u001b[2m──────────────────────────────────────────────────────────────────\u001b[0m\u001b[2m─╮\u001b[0m\n",
      "\u001b[2m│\u001b[0m \u001b[1;36mget      \u001b[0m\u001b[1;36m \u001b[0m Download a dataset from the EOTDL.                                \u001b[2m│\u001b[0m\n",
      "\u001b[2m│\u001b[0m \u001b[1;36mingest   \u001b[0m\u001b[1;36m \u001b[0m Ingest a dataset to the EOTDL.asdf                                \u001b[2m│\u001b[0m\n",
      "\u001b[2m│\u001b[0m \u001b[1;36mlist     \u001b[0m\u001b[1;36m \u001b[0m Retrieve a list with all the datasets in the EOTDL.               \u001b[2m│\u001b[0m\n",
      "\u001b[2m╰──────────────────────────────────────────────────────────────────────────────╯\u001b[0m\n",
      "\n"
     ]
    }
   ],
   "source": [
    "!eotdl datasets --help"
   ]
  },
  {
   "cell_type": "markdown",
   "metadata": {},
   "source": [
    "You can explore datasets with the following command:"
   ]
  },
  {
   "cell_type": "code",
   "execution_count": 46,
   "metadata": {},
   "outputs": [
    {
     "name": "stdout",
     "output_type": "stream",
     "text": [
      "['Test-links', 'EuroSAT-RGB-small-STAC', 'EuroSAT-small']\n"
     ]
    }
   ],
   "source": [
    "!eotdl datasets list "
   ]
  },
  {
   "cell_type": "code",
   "execution_count": 47,
   "metadata": {},
   "outputs": [
    {
     "name": "stdout",
     "output_type": "stream",
     "text": [
      "\u001b[1m                                                                                \u001b[0m\n",
      "\u001b[1m \u001b[0m\u001b[1;33mUsage: \u001b[0m\u001b[1meotdl datasets list [OPTIONS]\u001b[0m\u001b[1m                                          \u001b[0m\u001b[1m \u001b[0m\n",
      "\u001b[1m                                                                                \u001b[0m\n",
      " Retrieve a list with all the datasets in the EOTDL.                            \n",
      " \u001b[2mIf using \u001b[0m\u001b[1;2;36m-\u001b[0m\u001b[1;2;36m-name\u001b[0m\u001b[2m, it will filter the results by name. If no name is provided, \u001b[0m  \n",
      " \u001b[2mit will return all the datasets.\u001b[0m                                               \n",
      " \u001b[2mIf using \u001b[0m\u001b[1;2;36m-\u001b[0m\u001b[1;2;36m-limit\u001b[0m\u001b[2m, it will limit the number of results. If no limit is \u001b[0m         \n",
      " \u001b[2mprovided, it will return all the datasets.\u001b[0m                                     \n",
      "                                                                                \n",
      " \u001b[2mExamples\u001b[0m                                                                       \n",
      " \u001b[1;2;36m--------\u001b[0m                                                                       \n",
      " \u001b[2m$ eotdl datasets list\u001b[0m                                                          \n",
      " \u001b[2m$ eotdl datasets list \u001b[0m\u001b[1;2;36m-\u001b[0m\u001b[1;2;36m-name\u001b[0m\u001b[2m YourModel \u001b[0m\u001b[1;2;36m-\u001b[0m\u001b[1;2;36m-limit\u001b[0m\u001b[2m 5\u001b[0m                               \n",
      "                                                                                \n",
      "\u001b[2m╭─\u001b[0m\u001b[2m Options \u001b[0m\u001b[2m───────────────────────────────────────────────────────────────────\u001b[0m\u001b[2m─╮\u001b[0m\n",
      "\u001b[2m│\u001b[0m \u001b[1;36m-\u001b[0m\u001b[1;36m-name\u001b[0m   \u001b[1;32m-n\u001b[0m      \u001b[1;33mTEXT   \u001b[0m  Filter the returned datasets by name               \u001b[2m│\u001b[0m\n",
      "\u001b[2m│\u001b[0m                           \u001b[2m[default: None]                     \u001b[0m               \u001b[2m│\u001b[0m\n",
      "\u001b[2m│\u001b[0m \u001b[1;36m-\u001b[0m\u001b[1;36m-limit\u001b[0m  \u001b[1;32m-l\u001b[0m      \u001b[1;33mINTEGER\u001b[0m  Limit the number of returned results               \u001b[2m│\u001b[0m\n",
      "\u001b[2m│\u001b[0m                           \u001b[2m[default: None]                     \u001b[0m               \u001b[2m│\u001b[0m\n",
      "\u001b[2m│\u001b[0m \u001b[1;36m-\u001b[0m\u001b[1;36m-help\u001b[0m           \u001b[1;33m       \u001b[0m  Show this message and exit.                        \u001b[2m│\u001b[0m\n",
      "\u001b[2m╰──────────────────────────────────────────────────────────────────────────────╯\u001b[0m\n",
      "\n"
     ]
    }
   ],
   "source": [
    "!eotdl datasets list --help"
   ]
  },
  {
   "cell_type": "code",
   "execution_count": 48,
   "metadata": {},
   "outputs": [
    {
     "name": "stdout",
     "output_type": "stream",
     "text": [
      "['EuroSAT-RGB-small-STAC', 'EuroSAT-small']\n"
     ]
    }
   ],
   "source": [
    "!eotdl datasets list -n eurosat"
   ]
  },
  {
   "cell_type": "markdown",
   "metadata": {},
   "source": [
    "As you may have guessed, you can stage a dataset with the following command:"
   ]
  },
  {
   "cell_type": "code",
   "execution_count": 49,
   "metadata": {},
   "outputs": [
    {
     "name": "stdout",
     "output_type": "stream",
     "text": [
      "Data available at /Users/juan/.cache/eotdl/datasets/EuroSAT-small\n"
     ]
    }
   ],
   "source": [
    "!eotdl datasets get EuroSAT-small -f"
   ]
  },
  {
   "cell_type": "markdown",
   "metadata": {},
   "source": [
    "The first time you run the command, you will be asked to login (which will require you to create an account if you haven't already). You can also login with the command"
   ]
  },
  {
   "cell_type": "code",
   "execution_count": 11,
   "metadata": {},
   "outputs": [
    {
     "name": "stdout",
     "output_type": "stream",
     "text": [
      "You are logged in as it@earthpulse.es\n"
     ]
    }
   ],
   "source": [
    "!eotdl auth login"
   ]
  },
  {
   "cell_type": "code",
   "execution_count": 12,
   "metadata": {},
   "outputs": [
    {
     "name": "stdout",
     "output_type": "stream",
     "text": [
      "\u001b[1m                                                                                \u001b[0m\n",
      "\u001b[1m \u001b[0m\u001b[1;33mUsage: \u001b[0m\u001b[1meotdl auth [OPTIONS] COMMAND [ARGS]...\u001b[0m\u001b[1m                                 \u001b[0m\u001b[1m \u001b[0m\n",
      "\u001b[1m                                                                                \u001b[0m\n",
      " Login to EOTDL.                                                                \n",
      "                                                                                \n",
      "\u001b[2m╭─\u001b[0m\u001b[2m Options \u001b[0m\u001b[2m───────────────────────────────────────────────────────────────────\u001b[0m\u001b[2m─╮\u001b[0m\n",
      "\u001b[2m│\u001b[0m \u001b[1;36m-\u001b[0m\u001b[1;36m-help\u001b[0m          Show this message and exit.                                  \u001b[2m│\u001b[0m\n",
      "\u001b[2m╰──────────────────────────────────────────────────────────────────────────────╯\u001b[0m\n",
      "\u001b[2m╭─\u001b[0m\u001b[2m Commands \u001b[0m\u001b[2m──────────────────────────────────────────────────────────────────\u001b[0m\u001b[2m─╮\u001b[0m\n",
      "\u001b[2m│\u001b[0m \u001b[1;36mlogin            \u001b[0m\u001b[1;36m \u001b[0m Login to the EOTDL.                                       \u001b[2m│\u001b[0m\n",
      "\u001b[2m│\u001b[0m \u001b[1;36mlogout           \u001b[0m\u001b[1;36m \u001b[0m Logout from the EOTDL.                                    \u001b[2m│\u001b[0m\n",
      "\u001b[2m╰──────────────────────────────────────────────────────────────────────────────╯\u001b[0m\n",
      "\n"
     ]
    }
   ],
   "source": [
    "!eotdl auth --help"
   ]
  },
  {
   "cell_type": "code",
   "execution_count": 13,
   "metadata": {},
   "outputs": [
    {
     "name": "stdout",
     "output_type": "stream",
     "text": [
      "\u001b[1m                                                                                \u001b[0m\n",
      "\u001b[1m \u001b[0m\u001b[1;33mUsage: \u001b[0m\u001b[1meotdl datasets get [OPTIONS] [DATASET]\u001b[0m\u001b[1m                                 \u001b[0m\u001b[1m \u001b[0m\n",
      "\u001b[1m                                                                                \u001b[0m\n",
      " Download a dataset from the EOTDL.                                             \n",
      " \u001b[2mIf using \u001b[0m\u001b[1;2;36m-\u001b[0m\u001b[1;2;36m-path\u001b[0m\u001b[2m, it will download the dataset to the specified path. If no \u001b[0m    \n",
      " \u001b[2mpath is provided, it will download to ~/.eotdl/datasets.\u001b[0m                       \n",
      " \u001b[2mIf using \u001b[0m\u001b[1;2;36m-\u001b[0m\u001b[1;2;36m-file\u001b[0m\u001b[2m, it will download the specified file. If no file is provided, \u001b[0m \n",
      " \u001b[2mit will download the entire dataset.\u001b[0m                                           \n",
      " \u001b[2mIf using \u001b[0m\u001b[1;2;36m-\u001b[0m\u001b[1;2;36m-version\u001b[0m\u001b[2m, it will download the specified version. If no version is \u001b[0m  \n",
      " \u001b[2mprovided, it will download the latest version.\u001b[0m                                 \n",
      " \u001b[2mIf using \u001b[0m\u001b[1;2;36m-\u001b[0m\u001b[1;2;36m-assets\u001b[0m\u001b[2m when the dataset is STAC, it will also download the STAC \u001b[0m    \n",
      " \u001b[2massets of the dataset. If not provided, it will only download the STAC \u001b[0m        \n",
      " \u001b[2mmetadata.\u001b[0m                                                                      \n",
      " \u001b[2mIf using \u001b[0m\u001b[1;2;36m-\u001b[0m\u001b[1;2;36m-force\u001b[0m\u001b[2m, it will download the dataset even if the file already \u001b[0m       \n",
      " \u001b[2mexists.\u001b[0m                                                                        \n",
      " \u001b[2mIf using \u001b[0m\u001b[1;2;36m-\u001b[0m\u001b[1;2;36m-verbose\u001b[0m\u001b[2m, it will print the progress of the download.\u001b[0m                \n",
      "                                                                                \n",
      " \u001b[2mExamples\u001b[0m                                                                       \n",
      " \u001b[1;2;36m--------\u001b[0m                                                                       \n",
      " \u001b[2m$ eotdl dataset get YourDataset\u001b[0m                                                \n",
      " \u001b[2m$ eotdl dataset get YourDataset \u001b[0m\u001b[1;2;36m-\u001b[0m\u001b[1;2;36m-path\u001b[0m\u001b[2m /path/to/download \u001b[0m\u001b[1;2;36m-\u001b[0m\u001b[1;2;36m-file\u001b[0m\u001b[2m dataset.zip \u001b[0m   \n",
      " \u001b[1;2;36m-\u001b[0m\u001b[1;2;36m-version\u001b[0m\u001b[2m 1 \u001b[0m\u001b[1;2;36m-\u001b[0m\u001b[1;2;36m-assets\u001b[0m\u001b[2m True \u001b[0m\u001b[1;2;36m-\u001b[0m\u001b[1;2;36m-force\u001b[0m\u001b[2m True \u001b[0m\u001b[1;2;36m-\u001b[0m\u001b[1;2;36m-verbose\u001b[0m\u001b[2m True\u001b[0m                          \n",
      "                                                                                \n",
      "\u001b[2m╭─\u001b[0m\u001b[2m Arguments \u001b[0m\u001b[2m─────────────────────────────────────────────────────────────────\u001b[0m\u001b[2m─╮\u001b[0m\n",
      "\u001b[2m│\u001b[0m   dataset      \u001b[1;2;33m[\u001b[0m\u001b[1;33mDATASET\u001b[0m\u001b[1;2;33m]\u001b[0m  Name of the dataset to download \u001b[2m[default: None]\u001b[0m    \u001b[2m│\u001b[0m\n",
      "\u001b[2m╰──────────────────────────────────────────────────────────────────────────────╯\u001b[0m\n",
      "\u001b[2m╭─\u001b[0m\u001b[2m Options \u001b[0m\u001b[2m───────────────────────────────────────────────────────────────────\u001b[0m\u001b[2m─╮\u001b[0m\n",
      "\u001b[2m│\u001b[0m \u001b[1;36m-\u001b[0m\u001b[1;36m-path\u001b[0m     \u001b[1;32m-p\u001b[0m      \u001b[1;33mTEXT   \u001b[0m  Download the dataset to a specific output path   \u001b[2m│\u001b[0m\n",
      "\u001b[2m│\u001b[0m                             \u001b[2m[default: None]                               \u001b[0m   \u001b[2m│\u001b[0m\n",
      "\u001b[2m│\u001b[0m \u001b[1;36m-\u001b[0m\u001b[1;36m-file\u001b[0m     \u001b[1;32m-f\u001b[0m      \u001b[1;33mTEXT   \u001b[0m  Download a specific file from the dataset        \u001b[2m│\u001b[0m\n",
      "\u001b[2m│\u001b[0m                             \u001b[2m[default: None]                          \u001b[0m        \u001b[2m│\u001b[0m\n",
      "\u001b[2m│\u001b[0m \u001b[1;36m-\u001b[0m\u001b[1;36m-version\u001b[0m  \u001b[1;32m-v\u001b[0m      \u001b[1;33mINTEGER\u001b[0m  Dataset version \u001b[2m[default: None]\u001b[0m                  \u001b[2m│\u001b[0m\n",
      "\u001b[2m│\u001b[0m \u001b[1;36m-\u001b[0m\u001b[1;36m-assets\u001b[0m   \u001b[1;32m-a\u001b[0m      \u001b[1;33m       \u001b[0m  Download STAC assets from the dataset            \u001b[2m│\u001b[0m\n",
      "\u001b[2m│\u001b[0m \u001b[1;36m-\u001b[0m\u001b[1;36m-force\u001b[0m    \u001b[1;32m-f\u001b[0m      \u001b[1;33m       \u001b[0m  Force download even if file exists               \u001b[2m│\u001b[0m\n",
      "\u001b[2m│\u001b[0m \u001b[1;36m-\u001b[0m\u001b[1;36m-verbose\u001b[0m          \u001b[1;33m       \u001b[0m  Verbose output. This will print the progress of  \u001b[2m│\u001b[0m\n",
      "\u001b[2m│\u001b[0m                             the download                                     \u001b[2m│\u001b[0m\n",
      "\u001b[2m│\u001b[0m \u001b[1;36m-\u001b[0m\u001b[1;36m-help\u001b[0m             \u001b[1;33m       \u001b[0m  Show this message and exit.                      \u001b[2m│\u001b[0m\n",
      "\u001b[2m╰──────────────────────────────────────────────────────────────────────────────╯\u001b[0m\n",
      "\n"
     ]
    }
   ],
   "source": [
    "!eotdl datasets get --help"
   ]
  },
  {
   "cell_type": "markdown",
   "metadata": {},
   "source": [
    "By default, datasets will be staged to your `$HOME/.cache/eotdl/datasets` folder or the path in the `EOTDL_DOWNLOAD_PATH` environment variable. You can change this with the `--path` argument."
   ]
  },
  {
   "cell_type": "code",
   "execution_count": 14,
   "metadata": {},
   "outputs": [
    {
     "name": "stdout",
     "output_type": "stream",
     "text": [
      "Data available at data/EuroSAT-small\n"
     ]
    }
   ],
   "source": [
    "!eotdl datasets get EuroSAT-small -p data -f"
   ]
  },
  {
   "cell_type": "markdown",
   "metadata": {},
   "source": [
    "You can choose a particular version to download with the `--version` argument. If you don't specify a version, the latest version will be downloaded."
   ]
  },
  {
   "cell_type": "code",
   "execution_count": 16,
   "metadata": {},
   "outputs": [
    {
     "name": "stdout",
     "output_type": "stream",
     "text": [
      "Data available at data/EuroSAT-small\n"
     ]
    }
   ],
   "source": [
    "!eotdl datasets get EuroSAT-small -p data -v 1 -f"
   ]
  },
  {
   "cell_type": "code",
   "execution_count": 17,
   "metadata": {},
   "outputs": [
    {
     "name": "stdout",
     "output_type": "stream",
     "text": [
      "Data available at data/EuroSAT-small\n"
     ]
    }
   ],
   "source": [
    "!eotdl datasets get EuroSAT-small -p data -v 2 -f"
   ]
  },
  {
   "cell_type": "markdown",
   "metadata": {},
   "source": [
    "If you try to re-download a datasets, the CLI will complain. You can force a re-download with the `--force` argument."
   ]
  },
  {
   "cell_type": "code",
   "execution_count": 18,
   "metadata": {},
   "outputs": [
    {
     "name": "stdout",
     "output_type": "stream",
     "text": [
      "Dataset `EuroSAT-small` already exists at data/EuroSAT-small. To force download, use force=True or -f in the CLI.\n"
     ]
    }
   ],
   "source": [
    "!eotdl datasets get EuroSAT-small -p data"
   ]
  },
  {
   "cell_type": "code",
   "execution_count": 19,
   "metadata": {},
   "outputs": [
    {
     "name": "stdout",
     "output_type": "stream",
     "text": [
      "Data available at data/EuroSAT-small\n"
     ]
    }
   ],
   "source": [
    "!eotdl datasets get EuroSAT-small -p data -f"
   ]
  },
  {
   "cell_type": "markdown",
   "metadata": {},
   "source": [
    "By default, the `get` command will only stage the dataset metadata."
   ]
  },
  {
   "cell_type": "code",
   "execution_count": 20,
   "metadata": {},
   "outputs": [
    {
     "data": {
      "text/plain": [
       "['catalog.v1.parquet', 'catalog.v2.parquet']"
      ]
     },
     "execution_count": 20,
     "metadata": {},
     "output_type": "execute_result"
    }
   ],
   "source": [
    "os.listdir(\"data/EuroSAT-small\")"
   ]
  },
  {
   "cell_type": "markdown",
   "metadata": {},
   "source": [
    "Inside the metadata you will find the links to all the assets, so you can download them individually (maybe after some filtering or processing using only the metadata). "
   ]
  },
  {
   "cell_type": "code",
   "execution_count": 21,
   "metadata": {},
   "outputs": [
    {
     "data": {
      "text/html": [
       "<div>\n",
       "<style scoped>\n",
       "    .dataframe tbody tr th:only-of-type {\n",
       "        vertical-align: middle;\n",
       "    }\n",
       "\n",
       "    .dataframe tbody tr th {\n",
       "        vertical-align: top;\n",
       "    }\n",
       "\n",
       "    .dataframe thead th {\n",
       "        text-align: right;\n",
       "    }\n",
       "</style>\n",
       "<table border=\"1\" class=\"dataframe\">\n",
       "  <thead>\n",
       "    <tr style=\"text-align: right;\">\n",
       "      <th></th>\n",
       "      <th>type</th>\n",
       "      <th>stac_version</th>\n",
       "      <th>stac_extensions</th>\n",
       "      <th>datetime</th>\n",
       "      <th>id</th>\n",
       "      <th>bbox</th>\n",
       "      <th>geometry</th>\n",
       "      <th>assets</th>\n",
       "      <th>links</th>\n",
       "      <th>repository</th>\n",
       "    </tr>\n",
       "  </thead>\n",
       "  <tbody>\n",
       "    <tr>\n",
       "      <th>0</th>\n",
       "      <td>Feature</td>\n",
       "      <td>1.0.0</td>\n",
       "      <td>[]</td>\n",
       "      <td>2025-03-25 15:32:28.130806</td>\n",
       "      <td>README.md</td>\n",
       "      <td>{'xmax': 0.0, 'xmin': 0.0, 'ymax': 0.0, 'ymin'...</td>\n",
       "      <td>POLYGON EMPTY</td>\n",
       "      <td>{'asset': {'checksum': 'a6bb30a57d0f5ff0aaa65b...</td>\n",
       "      <td>[]</td>\n",
       "      <td>eotdl</td>\n",
       "    </tr>\n",
       "    <tr>\n",
       "      <th>1</th>\n",
       "      <td>Feature</td>\n",
       "      <td>1.0.0</td>\n",
       "      <td>[]</td>\n",
       "      <td>2025-03-25 15:32:28.130935</td>\n",
       "      <td>Forest/Forest_1.tif</td>\n",
       "      <td>{'xmax': 0.0, 'xmin': 0.0, 'ymax': 0.0, 'ymin'...</td>\n",
       "      <td>POLYGON EMPTY</td>\n",
       "      <td>{'asset': {'checksum': 'f3b8b9fef6b2df6f24792e...</td>\n",
       "      <td>[]</td>\n",
       "      <td>eotdl</td>\n",
       "    </tr>\n",
       "    <tr>\n",
       "      <th>2</th>\n",
       "      <td>Feature</td>\n",
       "      <td>1.0.0</td>\n",
       "      <td>[]</td>\n",
       "      <td>2025-03-25 15:32:28.131050</td>\n",
       "      <td>Forest/Forest_2.tif</td>\n",
       "      <td>{'xmax': 0.0, 'xmin': 0.0, 'ymax': 0.0, 'ymin'...</td>\n",
       "      <td>POLYGON EMPTY</td>\n",
       "      <td>{'asset': {'checksum': '2e38dab64435bfbab25bab...</td>\n",
       "      <td>[]</td>\n",
       "      <td>eotdl</td>\n",
       "    </tr>\n",
       "    <tr>\n",
       "      <th>3</th>\n",
       "      <td>Feature</td>\n",
       "      <td>1.0.0</td>\n",
       "      <td>[]</td>\n",
       "      <td>2025-03-25 15:32:28.131141</td>\n",
       "      <td>Forest/Forest_3.tif</td>\n",
       "      <td>{'xmax': 0.0, 'xmin': 0.0, 'ymax': 0.0, 'ymin'...</td>\n",
       "      <td>POLYGON EMPTY</td>\n",
       "      <td>{'asset': {'checksum': '3e7bb982f9db5f7dabc556...</td>\n",
       "      <td>[]</td>\n",
       "      <td>eotdl</td>\n",
       "    </tr>\n",
       "    <tr>\n",
       "      <th>4</th>\n",
       "      <td>Feature</td>\n",
       "      <td>1.0.0</td>\n",
       "      <td>[]</td>\n",
       "      <td>2025-03-25 15:32:28.131231</td>\n",
       "      <td>AnnualCrop/AnnualCrop_2.tif</td>\n",
       "      <td>{'xmax': 0.0, 'xmin': 0.0, 'ymax': 0.0, 'ymin'...</td>\n",
       "      <td>POLYGON EMPTY</td>\n",
       "      <td>{'asset': {'checksum': 'c406cb8920858b98898b9e...</td>\n",
       "      <td>[]</td>\n",
       "      <td>eotdl</td>\n",
       "    </tr>\n",
       "  </tbody>\n",
       "</table>\n",
       "</div>"
      ],
      "text/plain": [
       "      type stac_version stac_extensions                   datetime  \\\n",
       "0  Feature        1.0.0              [] 2025-03-25 15:32:28.130806   \n",
       "1  Feature        1.0.0              [] 2025-03-25 15:32:28.130935   \n",
       "2  Feature        1.0.0              [] 2025-03-25 15:32:28.131050   \n",
       "3  Feature        1.0.0              [] 2025-03-25 15:32:28.131141   \n",
       "4  Feature        1.0.0              [] 2025-03-25 15:32:28.131231   \n",
       "\n",
       "                            id  \\\n",
       "0                    README.md   \n",
       "1          Forest/Forest_1.tif   \n",
       "2          Forest/Forest_2.tif   \n",
       "3          Forest/Forest_3.tif   \n",
       "4  AnnualCrop/AnnualCrop_2.tif   \n",
       "\n",
       "                                                bbox       geometry  \\\n",
       "0  {'xmax': 0.0, 'xmin': 0.0, 'ymax': 0.0, 'ymin'...  POLYGON EMPTY   \n",
       "1  {'xmax': 0.0, 'xmin': 0.0, 'ymax': 0.0, 'ymin'...  POLYGON EMPTY   \n",
       "2  {'xmax': 0.0, 'xmin': 0.0, 'ymax': 0.0, 'ymin'...  POLYGON EMPTY   \n",
       "3  {'xmax': 0.0, 'xmin': 0.0, 'ymax': 0.0, 'ymin'...  POLYGON EMPTY   \n",
       "4  {'xmax': 0.0, 'xmin': 0.0, 'ymax': 0.0, 'ymin'...  POLYGON EMPTY   \n",
       "\n",
       "                                              assets links repository  \n",
       "0  {'asset': {'checksum': 'a6bb30a57d0f5ff0aaa65b...    []      eotdl  \n",
       "1  {'asset': {'checksum': 'f3b8b9fef6b2df6f24792e...    []      eotdl  \n",
       "2  {'asset': {'checksum': '2e38dab64435bfbab25bab...    []      eotdl  \n",
       "3  {'asset': {'checksum': '3e7bb982f9db5f7dabc556...    []      eotdl  \n",
       "4  {'asset': {'checksum': 'c406cb8920858b98898b9e...    []      eotdl  "
      ]
     },
     "execution_count": 21,
     "metadata": {},
     "output_type": "execute_result"
    }
   ],
   "source": [
    "import geopandas as gpd\n",
    "\n",
    "gdf = gpd.read_parquet(\"data/EuroSAT-small/catalog.v1.parquet\")\n",
    "gdf.head()"
   ]
  },
  {
   "cell_type": "code",
   "execution_count": 22,
   "metadata": {},
   "outputs": [
    {
     "name": "stdout",
     "output_type": "stream",
     "text": [
      "data/outputs/AnnualCrop/AnnualCrop_3.tif\n",
      "data/outputs/README.md\n",
      "data/outputs/AnnualCrop/AnnualCrop_1.tif\n"
     ]
    }
   ],
   "source": [
    "from eotdl.datasets import stage_dataset_file\n",
    "\n",
    "for _, row in gdf.sample(3).iterrows(): # or do some filtering\n",
    "    for k, v in row['assets'].items():\n",
    "        path = stage_dataset_file(v['href'], \"data/outputs\")\n",
    "        print(path)"
   ]
  },
  {
   "cell_type": "markdown",
   "metadata": {},
   "source": [
    "However, you can stage all the assets with the command:"
   ]
  },
  {
   "cell_type": "code",
   "execution_count": 23,
   "metadata": {},
   "outputs": [
    {
     "name": "stdout",
     "output_type": "stream",
     "text": [
      "Staging assets: 100%|█████████████████████████████| 8/8 [00:00<00:00, 82.43it/s]\n",
      "Data available at data/EuroSAT-small\n"
     ]
    }
   ],
   "source": [
    "!eotdl datasets get EuroSAT-small -p data -a -f"
   ]
  },
  {
   "cell_type": "code",
   "execution_count": 24,
   "metadata": {},
   "outputs": [
    {
     "data": {
      "text/plain": [
       "(10,\n",
       " ['data/EuroSAT-small/README.md',\n",
       "  'data/EuroSAT-small/catalog.v1.parquet',\n",
       "  'data/EuroSAT-small/test.txt',\n",
       "  'data/EuroSAT-small/catalog.v2.parquet',\n",
       "  'data/EuroSAT-small/Forest/Forest_1.tif'])"
      ]
     },
     "execution_count": 24,
     "metadata": {},
     "output_type": "execute_result"
    }
   ],
   "source": [
    "from glob import glob\n",
    "from pathlib import Path\n",
    "\n",
    "files = glob(\"data/EuroSAT-small/**/*\", recursive=True)\n",
    "files = [file for file in files if Path(file).is_file()]\n",
    "len(files), files[:5]"
   ]
  },
  {
   "cell_type": "markdown",
   "metadata": {},
   "source": [
    "Working with models is very much the same at this point."
   ]
  },
  {
   "cell_type": "code",
   "execution_count": 25,
   "metadata": {},
   "outputs": [
    {
     "name": "stdout",
     "output_type": "stream",
     "text": [
      "\u001b[1m                                                                                \u001b[0m\n",
      "\u001b[1m \u001b[0m\u001b[1;33mUsage: \u001b[0m\u001b[1meotdl models [OPTIONS] COMMAND [ARGS]...\u001b[0m\u001b[1m                               \u001b[0m\u001b[1m \u001b[0m\n",
      "\u001b[1m                                                                                \u001b[0m\n",
      " Explore, ingest and download ML models.                                        \n",
      "                                                                                \n",
      "\u001b[2m╭─\u001b[0m\u001b[2m Options \u001b[0m\u001b[2m───────────────────────────────────────────────────────────────────\u001b[0m\u001b[2m─╮\u001b[0m\n",
      "\u001b[2m│\u001b[0m \u001b[1;36m-\u001b[0m\u001b[1;36m-help\u001b[0m          Show this message and exit.                                  \u001b[2m│\u001b[0m\n",
      "\u001b[2m╰──────────────────────────────────────────────────────────────────────────────╯\u001b[0m\n",
      "\u001b[2m╭─\u001b[0m\u001b[2m Commands \u001b[0m\u001b[2m──────────────────────────────────────────────────────────────────\u001b[0m\u001b[2m─╮\u001b[0m\n",
      "\u001b[2m│\u001b[0m \u001b[1;36mget      \u001b[0m\u001b[1;36m \u001b[0m Download a model from the EOTDL.                                  \u001b[2m│\u001b[0m\n",
      "\u001b[2m│\u001b[0m \u001b[1;36mingest   \u001b[0m\u001b[1;36m \u001b[0m Ingest a model to the EOTDL.                                      \u001b[2m│\u001b[0m\n",
      "\u001b[2m│\u001b[0m \u001b[1;36mlist     \u001b[0m\u001b[1;36m \u001b[0m Retrieve a list with all the models in the EOTDL.                 \u001b[2m│\u001b[0m\n",
      "\u001b[2m╰──────────────────────────────────────────────────────────────────────────────╯\u001b[0m\n",
      "\n"
     ]
    }
   ],
   "source": [
    "!eotdl models --help"
   ]
  },
  {
   "cell_type": "code",
   "execution_count": 26,
   "metadata": {},
   "outputs": [
    {
     "name": "stdout",
     "output_type": "stream",
     "text": [
      "['RoadSegmentation']\n"
     ]
    }
   ],
   "source": [
    "!eotdl models list"
   ]
  },
  {
   "cell_type": "code",
   "execution_count": 27,
   "metadata": {},
   "outputs": [
    {
     "name": "stdout",
     "output_type": "stream",
     "text": [
      "\u001b[1m                                                                                \u001b[0m\n",
      "\u001b[1m \u001b[0m\u001b[1;33mUsage: \u001b[0m\u001b[1meotdl models list [OPTIONS]\u001b[0m\u001b[1m                                            \u001b[0m\u001b[1m \u001b[0m\n",
      "\u001b[1m                                                                                \u001b[0m\n",
      " Retrieve a list with all the models in the EOTDL.                              \n",
      " \u001b[2mIf using \u001b[0m\u001b[1;2;36m-\u001b[0m\u001b[1;2;36m-name\u001b[0m\u001b[2m, it will filter the results by name. If no name is provided, \u001b[0m  \n",
      " \u001b[2mit will return all the models.\u001b[0m                                                 \n",
      " \u001b[2mIf using \u001b[0m\u001b[1;2;36m-\u001b[0m\u001b[1;2;36m-limit\u001b[0m\u001b[2m, it will limit the number of results. If no limit is \u001b[0m         \n",
      " \u001b[2mprovided, it will return all the models.\u001b[0m                                       \n",
      "                                                                                \n",
      " \u001b[2mExamples\u001b[0m                                                                       \n",
      " \u001b[1;2;36m--------\u001b[0m                                                                       \n",
      " \u001b[2m$ eotdl models list\u001b[0m                                                            \n",
      " \u001b[2m$ eotdl models list \u001b[0m\u001b[1;2;36m-\u001b[0m\u001b[1;2;36m-name\u001b[0m\u001b[2m YourModel \u001b[0m\u001b[1;2;36m-\u001b[0m\u001b[1;2;36m-limit\u001b[0m\u001b[2m 5\u001b[0m                                 \n",
      "                                                                                \n",
      "\u001b[2m╭─\u001b[0m\u001b[2m Options \u001b[0m\u001b[2m───────────────────────────────────────────────────────────────────\u001b[0m\u001b[2m─╮\u001b[0m\n",
      "\u001b[2m│\u001b[0m \u001b[1;36m-\u001b[0m\u001b[1;36m-name\u001b[0m   \u001b[1;32m-n\u001b[0m      \u001b[1;33mTEXT   \u001b[0m  Filter the returned models by name \u001b[2m[default: None]\u001b[0m \u001b[2m│\u001b[0m\n",
      "\u001b[2m│\u001b[0m \u001b[1;36m-\u001b[0m\u001b[1;36m-limit\u001b[0m  \u001b[1;32m-l\u001b[0m      \u001b[1;33mINTEGER\u001b[0m  Limit the number of returned results               \u001b[2m│\u001b[0m\n",
      "\u001b[2m│\u001b[0m                           \u001b[2m[default: None]                     \u001b[0m               \u001b[2m│\u001b[0m\n",
      "\u001b[2m│\u001b[0m \u001b[1;36m-\u001b[0m\u001b[1;36m-help\u001b[0m           \u001b[1;33m       \u001b[0m  Show this message and exit.                        \u001b[2m│\u001b[0m\n",
      "\u001b[2m╰──────────────────────────────────────────────────────────────────────────────╯\u001b[0m\n",
      "\n"
     ]
    }
   ],
   "source": [
    "!eotdl models list --help"
   ]
  },
  {
   "cell_type": "code",
   "execution_count": 28,
   "metadata": {},
   "outputs": [
    {
     "name": "stdout",
     "output_type": "stream",
     "text": [
      "Data available at /Users/juan/.cache/eotdl/models/RoadSegmentation\n"
     ]
    }
   ],
   "source": [
    "!eotdl models get RoadSegmentation"
   ]
  },
  {
   "cell_type": "code",
   "execution_count": 29,
   "metadata": {},
   "outputs": [
    {
     "name": "stdout",
     "output_type": "stream",
     "text": [
      "\u001b[1m                                                                                \u001b[0m\n",
      "\u001b[1m \u001b[0m\u001b[1;33mUsage: \u001b[0m\u001b[1meotdl models get [OPTIONS] [MODEL]\u001b[0m\u001b[1m                                     \u001b[0m\u001b[1m \u001b[0m\n",
      "\u001b[1m                                                                                \u001b[0m\n",
      " Download a model from the EOTDL.                                               \n",
      " \u001b[2mIf using \u001b[0m\u001b[1;2;36m-\u001b[0m\u001b[1;2;36m-path\u001b[0m\u001b[2m, it will download the model to the specified path. If no path \u001b[0m \n",
      " \u001b[2mis provided, it will download to ~/.eotdl/models.\u001b[0m                              \n",
      " \u001b[2mIf using \u001b[0m\u001b[1;2;36m-\u001b[0m\u001b[1;2;36m-file\u001b[0m\u001b[2m, it will download the specified file. If no file is provided, \u001b[0m \n",
      " \u001b[2mit will download the entire model.\u001b[0m                                             \n",
      " \u001b[2mIf using \u001b[0m\u001b[1;2;36m-\u001b[0m\u001b[1;2;36m-version\u001b[0m\u001b[2m, it will download the specified version. If no version is \u001b[0m  \n",
      " \u001b[2mprovided, it will download the latest version.\u001b[0m                                 \n",
      " \u001b[2mIf using \u001b[0m\u001b[1;2;36m-\u001b[0m\u001b[1;2;36m-assets\u001b[0m\u001b[2m when the model is STAC, it will also download the STAC \u001b[0m      \n",
      " \u001b[2massets of the model. If not provided, it will only download the STAC metadata.\u001b[0m \n",
      " \u001b[2mIf using \u001b[0m\u001b[1;2;36m-\u001b[0m\u001b[1;2;36m-force\u001b[0m\u001b[2m, it will download the model even if the file already exists.\u001b[0m  \n",
      " \u001b[2mIf using \u001b[0m\u001b[1;2;36m-\u001b[0m\u001b[1;2;36m-verbose\u001b[0m\u001b[2m, it will print the progress of the download.\u001b[0m                \n",
      "                                                                                \n",
      " \u001b[2mExamples\u001b[0m                                                                       \n",
      " \u001b[1;2;36m--------\u001b[0m                                                                       \n",
      " \u001b[2m$ eotdl models get YourModel\u001b[0m                                                   \n",
      " \u001b[2m$ eotdl models get YourModel \u001b[0m\u001b[1;2;36m-\u001b[0m\u001b[1;2;36m-path\u001b[0m\u001b[2m /path/to/download \u001b[0m\u001b[1;2;36m-\u001b[0m\u001b[1;2;36m-file\u001b[0m\u001b[2m model.zip \u001b[0m        \n",
      " \u001b[1;2;36m-\u001b[0m\u001b[1;2;36m-version\u001b[0m\u001b[2m 1 \u001b[0m\u001b[1;2;36m-\u001b[0m\u001b[1;2;36m-assets\u001b[0m\u001b[2m True \u001b[0m\u001b[1;2;36m-\u001b[0m\u001b[1;2;36m-force\u001b[0m\u001b[2m True \u001b[0m\u001b[1;2;36m-\u001b[0m\u001b[1;2;36m-verbose\u001b[0m\u001b[2m True\u001b[0m                          \n",
      "                                                                                \n",
      "\u001b[2m╭─\u001b[0m\u001b[2m Arguments \u001b[0m\u001b[2m─────────────────────────────────────────────────────────────────\u001b[0m\u001b[2m─╮\u001b[0m\n",
      "\u001b[2m│\u001b[0m   model      \u001b[1;2;33m[\u001b[0m\u001b[1;33mMODEL\u001b[0m\u001b[1;2;33m]\u001b[0m  Name of the model to download \u001b[2m[default: None]\u001b[0m          \u001b[2m│\u001b[0m\n",
      "\u001b[2m╰──────────────────────────────────────────────────────────────────────────────╯\u001b[0m\n",
      "\u001b[2m╭─\u001b[0m\u001b[2m Options \u001b[0m\u001b[2m───────────────────────────────────────────────────────────────────\u001b[0m\u001b[2m─╮\u001b[0m\n",
      "\u001b[2m│\u001b[0m \u001b[1;36m-\u001b[0m\u001b[1;36m-path\u001b[0m     \u001b[1;32m-p\u001b[0m      \u001b[1;33mTEXT   \u001b[0m  Download the model to a specific output path     \u001b[2m│\u001b[0m\n",
      "\u001b[2m│\u001b[0m                             \u001b[2m[default: None]                             \u001b[0m     \u001b[2m│\u001b[0m\n",
      "\u001b[2m│\u001b[0m \u001b[1;36m-\u001b[0m\u001b[1;36m-file\u001b[0m     \u001b[1;32m-f\u001b[0m      \u001b[1;33mTEXT   \u001b[0m  Download a specific file from the model          \u001b[2m│\u001b[0m\n",
      "\u001b[2m│\u001b[0m                             \u001b[2m[default: None]                        \u001b[0m          \u001b[2m│\u001b[0m\n",
      "\u001b[2m│\u001b[0m \u001b[1;36m-\u001b[0m\u001b[1;36m-version\u001b[0m  \u001b[1;32m-v\u001b[0m      \u001b[1;33mINTEGER\u001b[0m  Model version \u001b[2m[default: None]\u001b[0m                    \u001b[2m│\u001b[0m\n",
      "\u001b[2m│\u001b[0m \u001b[1;36m-\u001b[0m\u001b[1;36m-assets\u001b[0m   \u001b[1;32m-a\u001b[0m      \u001b[1;33m       \u001b[0m  Download STAC assets from the model              \u001b[2m│\u001b[0m\n",
      "\u001b[2m│\u001b[0m \u001b[1;36m-\u001b[0m\u001b[1;36m-force\u001b[0m    \u001b[1;32m-f\u001b[0m      \u001b[1;33m       \u001b[0m  Force download even if file exists               \u001b[2m│\u001b[0m\n",
      "\u001b[2m│\u001b[0m \u001b[1;36m-\u001b[0m\u001b[1;36m-verbose\u001b[0m          \u001b[1;33m       \u001b[0m  Verbose output. This will print the progress of  \u001b[2m│\u001b[0m\n",
      "\u001b[2m│\u001b[0m                             the download                                     \u001b[2m│\u001b[0m\n",
      "\u001b[2m│\u001b[0m \u001b[1;36m-\u001b[0m\u001b[1;36m-help\u001b[0m             \u001b[1;33m       \u001b[0m  Show this message and exit.                      \u001b[2m│\u001b[0m\n",
      "\u001b[2m╰──────────────────────────────────────────────────────────────────────────────╯\u001b[0m\n",
      "\n"
     ]
    }
   ],
   "source": [
    "!eotdl models get --help"
   ]
  },
  {
   "cell_type": "markdown",
   "metadata": {},
   "source": [
    "We will explore how to ingest datasets and models in the next tutorials."
   ]
  },
  {
   "cell_type": "markdown",
   "metadata": {},
   "source": [
    "## The Library"
   ]
  },
  {
   "cell_type": "markdown",
   "metadata": {},
   "source": [
    "Everything that we have done so far with the CLI is also enabled through the Python library. When installing the CLI, the library is automatically installed as well."
   ]
  },
  {
   "cell_type": "code",
   "execution_count": 30,
   "metadata": {},
   "outputs": [
    {
     "data": {
      "text/plain": [
       "'2025.03.25'"
      ]
     },
     "execution_count": 30,
     "metadata": {},
     "output_type": "execute_result"
    }
   ],
   "source": [
    "import eotdl\n",
    "\n",
    "eotdl.__version__"
   ]
  },
  {
   "cell_type": "code",
   "execution_count": 31,
   "metadata": {},
   "outputs": [
    {
     "data": {
      "text/plain": [
       "3"
      ]
     },
     "execution_count": 31,
     "metadata": {},
     "output_type": "execute_result"
    }
   ],
   "source": [
    "from eotdl.datasets import retrieve_datasets\n",
    "\n",
    "datasets = retrieve_datasets()\n",
    "len(datasets)"
   ]
  },
  {
   "cell_type": "code",
   "execution_count": 32,
   "metadata": {},
   "outputs": [
    {
     "data": {
      "text/plain": [
       "['EuroSAT-RGB-small-STAC', 'EuroSAT-small']"
      ]
     },
     "execution_count": 32,
     "metadata": {},
     "output_type": "execute_result"
    }
   ],
   "source": [
    "retrieve_datasets(\"eurosat\")"
   ]
  },
  {
   "cell_type": "markdown",
   "metadata": {},
   "source": [
    "With the library, you have full control over the datasets and models."
   ]
  },
  {
   "cell_type": "code",
   "execution_count": 33,
   "metadata": {},
   "outputs": [
    {
     "data": {
      "text/plain": [
       "['EuroSAT-RGB-small-STAC', 'EuroSAT-small']"
      ]
     },
     "execution_count": 33,
     "metadata": {},
     "output_type": "execute_result"
    }
   ],
   "source": [
    "[d for d in datasets if \"small\" in d.lower()]"
   ]
  },
  {
   "cell_type": "markdown",
   "metadata": {},
   "source": [
    "You can stage datasets as well, but now you will have to manage potential errors."
   ]
  },
  {
   "cell_type": "code",
   "execution_count": 34,
   "metadata": {},
   "outputs": [
    {
     "name": "stdout",
     "output_type": "stream",
     "text": [
      "ERROR\n",
      "Dataset `EuroSAT-small` already exists at /Users/juan/.cache/eotdl/datasets/EuroSAT-small. To force download, use force=True or -f in the CLI.\n"
     ]
    }
   ],
   "source": [
    "from eotdl.datasets import stage_dataset\n",
    "\n",
    "try:\n",
    "\tstage_dataset(\"EuroSAT-small\")\n",
    "except Exception as e:\n",
    "\tprint(\"ERROR\")\n",
    "\tprint(e)\n"
   ]
  },
  {
   "cell_type": "code",
   "execution_count": 35,
   "metadata": {},
   "outputs": [
    {
     "data": {
      "text/plain": [
       "'/Users/juan/.cache/eotdl/datasets/EuroSAT-small'"
      ]
     },
     "execution_count": 35,
     "metadata": {},
     "output_type": "execute_result"
    }
   ],
   "source": [
    "stage_dataset(\"EuroSAT-small\", force=True)"
   ]
  },
  {
   "cell_type": "code",
   "execution_count": 36,
   "metadata": {},
   "outputs": [
    {
     "data": {
      "text/plain": [
       "'data/EuroSAT-small'"
      ]
     },
     "execution_count": 36,
     "metadata": {},
     "output_type": "execute_result"
    }
   ],
   "source": [
    "stage_dataset(\"EuroSAT-small\", force=True, path=\"data\")"
   ]
  },
  {
   "cell_type": "code",
   "execution_count": 37,
   "metadata": {},
   "outputs": [
    {
     "data": {
      "text/plain": [
       "'data/EuroSAT-small'"
      ]
     },
     "execution_count": 37,
     "metadata": {},
     "output_type": "execute_result"
    }
   ],
   "source": [
    "stage_dataset(\"EuroSAT-small\", force=True, path=\"data\", version=1)"
   ]
  },
  {
   "cell_type": "code",
   "execution_count": 38,
   "metadata": {},
   "outputs": [
    {
     "name": "stderr",
     "output_type": "stream",
     "text": [
      "Staging assets: 100%|██████████| 8/8 [00:00<00:00, 82.33it/s]\n"
     ]
    },
    {
     "data": {
      "text/plain": [
       "'data/EuroSAT-small'"
      ]
     },
     "execution_count": 38,
     "metadata": {},
     "output_type": "execute_result"
    }
   ],
   "source": [
    "stage_dataset(\"EuroSAT-small\", force=True, path=\"data\", assets=True)"
   ]
  },
  {
   "cell_type": "markdown",
   "metadata": {},
   "source": [
    "In fact, the CLI is built on top of the library."
   ]
  },
  {
   "cell_type": "markdown",
   "metadata": {},
   "source": [
    "And the same for the models"
   ]
  },
  {
   "cell_type": "code",
   "execution_count": 39,
   "metadata": {},
   "outputs": [
    {
     "data": {
      "text/plain": [
       "['RoadSegmentation']"
      ]
     },
     "execution_count": 39,
     "metadata": {},
     "output_type": "execute_result"
    }
   ],
   "source": [
    "from eotdl.models import retrieve_models\n",
    "\n",
    "retrieve_models()"
   ]
  },
  {
   "cell_type": "code",
   "execution_count": 40,
   "metadata": {},
   "outputs": [
    {
     "data": {
      "text/plain": [
       "'/Users/juan/.cache/eotdl/models/RoadSegmentation'"
      ]
     },
     "execution_count": 40,
     "metadata": {},
     "output_type": "execute_result"
    }
   ],
   "source": [
    "from eotdl.models import stage_model\n",
    "\n",
    "path = stage_model(\"RoadSegmentation\", force=True)\n",
    "path"
   ]
  }
 ],
 "metadata": {
  "kernelspec": {
   "display_name": ".venv",
   "language": "python",
   "name": "python3"
  },
  "language_info": {
   "codemirror_mode": {
    "name": "ipython",
    "version": 3
   },
   "file_extension": ".py",
   "mimetype": "text/x-python",
   "name": "python",
   "nbconvert_exporter": "python",
   "pygments_lexer": "ipython3",
   "version": "3.12.9"
  }
 },
 "nbformat": 4,
 "nbformat_minor": 2
}
