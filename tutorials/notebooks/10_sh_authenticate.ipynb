{
 "cells": [
  {
   "cell_type": "markdown",
   "metadata": {},
   "source": [
    "# Sentinel Hub authentication"
   ]
  },
  {
   "cell_type": "markdown",
   "metadata": {},
   "source": [
    "When a new user signs in, the EOTDL environment automatically receives credentials for Sentinel Hub, so you do not have to worry about them as they are managed by the EOTDL tools. Despite this, if you already had a Sentinel Hub account before accepting the EOTDL Terms and Conditions your Sentinel Hub credentials will NOT appear there, so you must retrieve them from you [Sentinel HUB dashboard](https://www.sentinel-hub.com/develop/dashboard/)."
   ]
  },
  {
   "cell_type": "markdown",
   "metadata": {},
   "source": [
    "Uncomment the following line to install eotdl if needed."
   ]
  },
  {
   "cell_type": "code",
   "execution_count": null,
   "metadata": {},
   "outputs": [],
   "source": [
    "# !pip install eotdl"
   ]
  },
  {
   "cell_type": "markdown",
   "metadata": {},
   "source": [
    "We can connect to the [Sentinel Hub](https://www.sentinel-hub.com/) platform through the EOTDL client. Run the proper cell, depending on if you already had a Sentinel Hub account or not."
   ]
  },
  {
   "cell_type": "code",
   "execution_count": 1,
   "metadata": {},
   "outputs": [],
   "source": [
    "from eotdl.access import SHClient\n",
    "\n",
    "client = SHClient()"
   ]
  },
  {
   "cell_type": "markdown",
   "metadata": {},
   "source": [
    "If we already had an account, we can save the SH credentials in our `.env` file or insert them here directly. If you prefer, you can algo set your SH credentials from your EOTDL [profile](https://www.eotdl.com/profile)."
   ]
  },
  {
   "cell_type": "code",
   "execution_count": 2,
   "metadata": {},
   "outputs": [],
   "source": [
    "from os import getenv\n",
    "from eotdl.access import SHClient\n",
    "\n",
    "sh_client_id = getenv('SH_CLIENT_ID')\n",
    "sh_client_secret = getenv('SH_CLIENT_SECRET')\n",
    "\n",
    "client = SHClient(sh_client_id=sh_client_id, \n",
    "                  sh_client_secret=sh_client_secret)"
   ]
  }
 ],
 "metadata": {
  "kernelspec": {
   "display_name": "sen12floods",
   "language": "python",
   "name": "python3"
  },
  "language_info": {
   "codemirror_mode": {
    "name": "ipython",
    "version": 3
   },
   "file_extension": ".py",
   "mimetype": "text/x-python",
   "name": "python",
   "nbconvert_exporter": "python",
   "pygments_lexer": "ipython3",
   "version": "3.11.3"
  }
 },
 "nbformat": 4,
 "nbformat_minor": 2
}
