{
 "cells": [
  {
   "cell_type": "markdown",
   "metadata": {},
   "source": [
    "# STAC to GeoDataFrame"
   ]
  },
  {
   "cell_type": "markdown",
   "metadata": {},
   "source": [
    "Since STAC items are `.json` files they could be converted directly into a `GeoPandas` `GeoDataFrame`. However, this way you lose data outside the `properties` field of the STAC item, such as `assets` or `links`. To avoid this, the EOTDL can be used.\n",
    "\n",
    "Uncomment the following line to install eotdl if needed."
   ]
  },
  {
   "cell_type": "code",
   "execution_count": null,
   "metadata": {},
   "outputs": [],
   "source": [
    "# !pip install eotdl"
   ]
  },
  {
   "cell_type": "code",
   "execution_count": null,
   "metadata": {},
   "outputs": [],
   "source": [
    "from pystac import Catalog\n",
    "from eotdl.tools import stac_items_to_gdf\n",
    "\n",
    "catalog = Catalog.from_file('catalog.json')\n",
    "collection = catalog.get_child('sen12floods_s1_source')\n",
    "\n",
    "items = collection.get_all_items()\n",
    "gdf = stac_items_to_gdf(items)\n",
    "\n",
    "gdf.head()"
   ]
  }
 ],
 "metadata": {
  "language_info": {
   "name": "python"
  }
 },
 "nbformat": 4,
 "nbformat_minor": 2
}
