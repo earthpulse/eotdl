{
 "cells": [
  {
   "cell_type": "markdown",
   "metadata": {},
   "source": [
    "# Sentinel Hub parameters"
   ]
  },
  {
   "cell_type": "markdown",
   "metadata": {},
   "source": [
    "Uncomment the following line to install eotdl if needed."
   ]
  },
  {
   "cell_type": "code",
   "execution_count": null,
   "metadata": {},
   "outputs": [],
   "source": [
    "# !pip install eotdl"
   ]
  },
  {
   "cell_type": "markdown",
   "metadata": {},
   "source": [
    "In order to search or download imagery through the Sentinel Hub API, we need to define some parameters, such as the Data Collection (`sentinel-1-grd`, `sentinel-2-l2a` ...), the EvalScript, the resolution and so on. In order to facilitate the definition of these parameters and abstract them from the sentinelhub library, the EOTDL has a class called `SHParametersFeature`, which is simply a Python dictionary with the variables that we want to define. It is almost identical to the `search` parameters that can be used in the sentinelhub Python library, but it is an abstraction from it."
   ]
  },
  {
   "cell_type": "code",
   "execution_count": 1,
   "metadata": {},
   "outputs": [],
   "source": [
    "from eotdl.access import SHParametersFeature"
   ]
  },
  {
   "cell_type": "markdown",
   "metadata": {},
   "source": [
    "By default, we have wrapped those parameters in several Python class like `sentinel_2_l2a_download_parameters` or `sentinel_1_search_parameters`. With that, we just have to give the download dict with the bounding box and time interval and the folder where we want to download the data. And voilà! All it's managed by the EOTDL environment. For further information about the download or search dict, check this [notebook](11_sh_search.ipynb).\n",
    "\n",
    "\n",
    "As said, we can import several wrapped parameters."
   ]
  },
  {
   "cell_type": "code",
   "execution_count": 9,
   "metadata": {},
   "outputs": [],
   "source": [
    "from eotdl.access.sentinelhub.parameters import sentinel_1_search_parameters, sentinel_2_l2a_download_parameters\n"
   ]
  },
  {
   "cell_type": "markdown",
   "metadata": {},
   "source": [
    "And get the defined parameters."
   ]
  },
  {
   "cell_type": "code",
   "execution_count": 10,
   "metadata": {},
   "outputs": [
    {
     "name": "stdout",
     "output_type": "stream",
     "text": [
      "Sentinel-1 search parameters:\n",
      "DataCollection.SENTINEL1\n",
      "{'include': ['id', 'properties.datetime', 'sar:instrument_mode', 's1:polarization', 'sat:orbit_state', 's1:resolution', 's1:timeliness'], 'exclude': []}\n",
      "\n",
      "Sentinel-2 L2A download parameters:\n",
      "DataCollection.SENTINEL2_L2A\n",
      "(10, 10)\n"
     ]
    }
   ],
   "source": [
    "print('Sentinel-1 search parameters:')\n",
    "print(sentinel_1_search_parameters.data_collection)\n",
    "print(sentinel_1_search_parameters.fields)\n",
    "print('')\n",
    "print('Sentinel-2 L2A download parameters:')\n",
    "print(sentinel_2_l2a_download_parameters.data_collection)\n",
    "print(sentinel_2_l2a_download_parameters.resolution)"
   ]
  },
  {
   "cell_type": "markdown",
   "metadata": {},
   "source": [
    "But the power behind this is that we can create our own `SHParametersFeature`, depending on our needs. The parameters that can be defined are the following:\n",
    "- `data_collection`: sentinelhub.DataCollection object with the desired data collection to search or download.\n",
    "- `data_to_download`: dict with the unique ID and bounding box of every location to request sentinel data from.\n",
    "- `bbox`: list with the bounding box of the location.\n",
    "- `time_interval`: list with the time interval stablished.\n",
    "- `resolution`: resolution of the image to download.\n",
    "- `data_folder`: location of the directory where the fetched data will be saved.\n",
    "- `fields`: dict with the fields desired to include or exclude. It must follow the format:\n",
    "    {\n",
    "    \"include\": list of fields to include, \n",
    "    \"exclude\": list of fields to exclude\n",
    "    }\n",
    "- `filter`: string with the filter to apply, if needed.\n",
    "- `evalscript`: is a piece of Javascript code which defines how the satellite data shall be \n",
    "processed by Sentinel Hub and what values the service shall return. For further information,\n",
    "go [here](https://docs.sentinel-hub.com/api/latest/evalscript/). Some default evalscripts have been defined.\n",
    "- `mosaicking_order`: sentinelhub.MosaickingOrder object with the desired mosaicking order.\n",
    "\n",
    "Now let's image we want to create our own `SHParametersFeature` to search for `sentinel-2-l2a` imagery with a cloud filter. As easy as follows."
   ]
  },
  {
   "cell_type": "code",
   "execution_count": null,
   "metadata": {},
   "outputs": [],
   "source": [
    "from sentinelhub import DataCollection\n",
    "\n",
    "options = {\n",
    "        'data_collection': DataCollection.SENTINEL2_L2A,\n",
    "        'fields': {\"include\": [\"id\", \n",
    "                               \"properties.datetime\",\n",
    "                               \"properties.eo:cloud_cover\"],\n",
    "            \"exclude\": [],\n",
    "        'filter': \"eo:cloud_cover < 5\"\n",
    "        }\n",
    "    }\n",
    "new_search_parameters = SHParametersFeature(options)"
   ]
  },
  {
   "cell_type": "markdown",
   "metadata": {},
   "source": [
    "Or maybe we want to download `sentinel-2-l2a` imagery."
   ]
  },
  {
   "cell_type": "code",
   "execution_count": null,
   "metadata": {},
   "outputs": [],
   "source": [
    "from sentinelhub import MosaickingOrder\n",
    "from eotdl.access.sentinelhub.evalscripts import EvalScripts   # Already defined EvalScripts\n",
    "\n",
    "options = {\n",
    "        'data_collection': DataCollection.SENTINEL2_L2A,\n",
    "        'resolution': (10, 10),\n",
    "        'mosaicking_order': MosaickingOrder.LEAST_CC,\n",
    "        'evalscript': EvalScripts.SENTINEL_2,\n",
    "        'fields': {\"include\": [\"id\", \n",
    "                               \"properties.datetime\",\n",
    "                               \"properties.eo:cloud_cover\"],\n",
    "            \"exclude\": [],\n",
    "        'filter': \"eo:cloud_cover < 5\"\n",
    "        }\n",
    "    }\n",
    "new_download_parameters = SHParametersFeature(options)"
   ]
  },
  {
   "cell_type": "markdown",
   "metadata": {},
   "source": [
    "And what if we want to use our new parameters feature to search or download imagery? We first need to define our AoI and time interval. We can define them in the `SHParametersFeature` both givin a search or download dict or giving them directly."
   ]
  },
  {
   "cell_type": "code",
   "execution_count": 12,
   "metadata": {},
   "outputs": [],
   "source": [
    "dates = ('2020-01-01', '2020-01-10')\n",
    "jaca_bounding_box = (-0.557034,42.569409,-0.547706,42.57571)"
   ]
  },
  {
   "cell_type": "markdown",
   "metadata": {},
   "source": [
    "Give them as a dict."
   ]
  },
  {
   "cell_type": "code",
   "execution_count": null,
   "metadata": {},
   "outputs": [],
   "source": [
    "search_dict = {\n",
    "    'Jaca': {\n",
    "        'bounding_box': jaca_bounding_box,\n",
    "        'time_interval': dates\n",
    "    }\n",
    "}\n",
    "\n",
    "new_download_parameters.data_to_download = search_dict"
   ]
  },
  {
   "cell_type": "markdown",
   "metadata": {},
   "source": [
    "Or give them directly."
   ]
  },
  {
   "cell_type": "code",
   "execution_count": null,
   "metadata": {},
   "outputs": [],
   "source": [
    "new_search_parameters.bounding_box = jaca_bounding_box\n",
    "new_search_parameters.time_interval = dates"
   ]
  }
 ],
 "metadata": {
  "kernelspec": {
   "display_name": "sen12floods",
   "language": "python",
   "name": "python3"
  },
  "language_info": {
   "codemirror_mode": {
    "name": "ipython",
    "version": 3
   },
   "file_extension": ".py",
   "mimetype": "text/x-python",
   "name": "python",
   "nbconvert_exporter": "python",
   "pygments_lexer": "ipython3",
   "version": "3.11.3"
  }
 },
 "nbformat": 4,
 "nbformat_minor": 2
}
