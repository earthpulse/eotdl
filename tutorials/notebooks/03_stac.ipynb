{
   "cells": [
      {
         "attachments": {},
         "cell_type": "markdown",
         "metadata": {},
         "source": [
            "# STAC"
         ]
      },
      {
         "cell_type": "markdown",
         "metadata": {},
         "source": [
            "1. how to create STAC metadata from `catalog.parquet`\n",
            "2. how to query using STAC API"
         ]
      },
      {
         "cell_type": "markdown",
         "metadata": {},
         "source": []
      }
   ],
   "metadata": {
      "kernelspec": {
         "display_name": "Python 3 (ipykernel)",
         "language": "python",
         "name": "python3"
      },
      "language_info": {
         "codemirror_mode": {
            "name": "ipython",
            "version": 3
         },
         "file_extension": ".py",
         "mimetype": "text/x-python",
         "name": "python",
         "nbconvert_exporter": "python",
         "pygments_lexer": "ipython3",
         "version": "3.8.19"
      }
   },
   "nbformat": 4,
   "nbformat_minor": 2
}
