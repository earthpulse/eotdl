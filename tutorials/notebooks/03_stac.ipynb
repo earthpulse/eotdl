{
   "cells": [
      {
         "cell_type": "code",
         "execution_count": 1,
         "metadata": {},
         "outputs": [],
         "source": [
            "%load_ext autoreload\n",
            "%autoreload 2\n",
            "\n",
            "import os\n",
            "os.environ[\"EOTDL_API_URL\"] = \"https://api.eotdl.com/\""
         ]
      },
      {
         "attachments": {},
         "cell_type": "markdown",
         "metadata": {},
         "source": [
            "# STAC"
         ]
      },
      {
         "cell_type": "markdown",
         "metadata": {},
         "source": [
            "When you ingest a dataset to the EOTDL, a `catalog.parquet` file is created with the metadata of the dataset. This metadata is STAC-compliant, so it can be used to query the dataset using the STAC API and generate STAC catalogs."
         ]
      },
      {
         "cell_type": "markdown",
         "metadata": {},
         "source": [
            "# STAC Catalogs"
         ]
      },
      {
         "cell_type": "markdown",
         "metadata": {},
         "source": [
            "The following code will ingest a dataset to the EOTDL and create a `catalog.parquet` file with the metadata of the dataset."
         ]
      },
      {
         "cell_type": "code",
         "execution_count": 2,
         "metadata": {},
         "outputs": [
            {
               "name": "stdout",
               "output_type": "stream",
               "text": [
                  "Ingesting directory: example_data/EuroSAT-small\n"
               ]
            },
            {
               "name": "stderr",
               "output_type": "stream",
               "text": [
                  "Ingesting files: 100%|██████████| 7/7 [00:01<00:00,  5.04it/s]\n"
               ]
            },
            {
               "name": "stdout",
               "output_type": "stream",
               "text": [
                  "No new version was created, your dataset has not changed.\n"
               ]
            }
         ],
         "source": [
            "from eotdl.datasets import ingest_dataset\n",
            "\n",
            "path = \"example_data/EuroSAT-small\"\n",
            "ingest_dataset(path)"
         ]
      },
      {
         "cell_type": "code",
         "execution_count": 3,
         "metadata": {},
         "outputs": [
            {
               "data": {
                  "text/html": [
                     "<div>\n",
                     "<style scoped>\n",
                     "    .dataframe tbody tr th:only-of-type {\n",
                     "        vertical-align: middle;\n",
                     "    }\n",
                     "\n",
                     "    .dataframe tbody tr th {\n",
                     "        vertical-align: top;\n",
                     "    }\n",
                     "\n",
                     "    .dataframe thead th {\n",
                     "        text-align: right;\n",
                     "    }\n",
                     "</style>\n",
                     "<table border=\"1\" class=\"dataframe\">\n",
                     "  <thead>\n",
                     "    <tr style=\"text-align: right;\">\n",
                     "      <th></th>\n",
                     "      <th>type</th>\n",
                     "      <th>stac_version</th>\n",
                     "      <th>stac_extensions</th>\n",
                     "      <th>datetime</th>\n",
                     "      <th>id</th>\n",
                     "      <th>bbox</th>\n",
                     "      <th>geometry</th>\n",
                     "      <th>assets</th>\n",
                     "      <th>links</th>\n",
                     "      <th>repository</th>\n",
                     "    </tr>\n",
                     "  </thead>\n",
                     "  <tbody>\n",
                     "    <tr>\n",
                     "      <th>0</th>\n",
                     "      <td>Feature</td>\n",
                     "      <td>1.0.0</td>\n",
                     "      <td>[]</td>\n",
                     "      <td>2025-05-26 12:22:59.615086</td>\n",
                     "      <td>README.md</td>\n",
                     "      <td>{'xmax': 0.0, 'xmin': 0.0, 'ymax': 0.0, 'ymin'...</td>\n",
                     "      <td>POLYGON EMPTY</td>\n",
                     "      <td>{'asset': {'checksum': 'a6bb30a57d0f5ff0aaa65b...</td>\n",
                     "      <td>[]</td>\n",
                     "      <td>eotdl</td>\n",
                     "    </tr>\n",
                     "    <tr>\n",
                     "      <th>1</th>\n",
                     "      <td>Feature</td>\n",
                     "      <td>1.0.0</td>\n",
                     "      <td>[]</td>\n",
                     "      <td>2025-05-26 12:22:59.615246</td>\n",
                     "      <td>Forest/Forest_1.tif</td>\n",
                     "      <td>{'xmax': 0.0, 'xmin': 0.0, 'ymax': 0.0, 'ymin'...</td>\n",
                     "      <td>POLYGON EMPTY</td>\n",
                     "      <td>{'asset': {'checksum': 'f3b8b9fef6b2df6f24792e...</td>\n",
                     "      <td>[]</td>\n",
                     "      <td>eotdl</td>\n",
                     "    </tr>\n",
                     "    <tr>\n",
                     "      <th>2</th>\n",
                     "      <td>Feature</td>\n",
                     "      <td>1.0.0</td>\n",
                     "      <td>[]</td>\n",
                     "      <td>2025-05-26 12:22:59.615871</td>\n",
                     "      <td>Forest/Forest_2.tif</td>\n",
                     "      <td>{'xmax': 0.0, 'xmin': 0.0, 'ymax': 0.0, 'ymin'...</td>\n",
                     "      <td>POLYGON EMPTY</td>\n",
                     "      <td>{'asset': {'checksum': '2e38dab64435bfbab25bab...</td>\n",
                     "      <td>[]</td>\n",
                     "      <td>eotdl</td>\n",
                     "    </tr>\n",
                     "    <tr>\n",
                     "      <th>3</th>\n",
                     "      <td>Feature</td>\n",
                     "      <td>1.0.0</td>\n",
                     "      <td>[]</td>\n",
                     "      <td>2025-05-26 12:22:59.616104</td>\n",
                     "      <td>Forest/Forest_3.tif</td>\n",
                     "      <td>{'xmax': 0.0, 'xmin': 0.0, 'ymax': 0.0, 'ymin'...</td>\n",
                     "      <td>POLYGON EMPTY</td>\n",
                     "      <td>{'asset': {'checksum': '3e7bb982f9db5f7dabc556...</td>\n",
                     "      <td>[]</td>\n",
                     "      <td>eotdl</td>\n",
                     "    </tr>\n",
                     "    <tr>\n",
                     "      <th>4</th>\n",
                     "      <td>Feature</td>\n",
                     "      <td>1.0.0</td>\n",
                     "      <td>[]</td>\n",
                     "      <td>2025-05-26 12:22:59.616305</td>\n",
                     "      <td>AnnualCrop/AnnualCrop_2.tif</td>\n",
                     "      <td>{'xmax': 0.0, 'xmin': 0.0, 'ymax': 0.0, 'ymin'...</td>\n",
                     "      <td>POLYGON EMPTY</td>\n",
                     "      <td>{'asset': {'checksum': 'c406cb8920858b98898b9e...</td>\n",
                     "      <td>[]</td>\n",
                     "      <td>eotdl</td>\n",
                     "    </tr>\n",
                     "  </tbody>\n",
                     "</table>\n",
                     "</div>"
                  ],
                  "text/plain": [
                     "      type stac_version stac_extensions                   datetime  \\\n",
                     "0  Feature        1.0.0              [] 2025-05-26 12:22:59.615086   \n",
                     "1  Feature        1.0.0              [] 2025-05-26 12:22:59.615246   \n",
                     "2  Feature        1.0.0              [] 2025-05-26 12:22:59.615871   \n",
                     "3  Feature        1.0.0              [] 2025-05-26 12:22:59.616104   \n",
                     "4  Feature        1.0.0              [] 2025-05-26 12:22:59.616305   \n",
                     "\n",
                     "                            id  \\\n",
                     "0                    README.md   \n",
                     "1          Forest/Forest_1.tif   \n",
                     "2          Forest/Forest_2.tif   \n",
                     "3          Forest/Forest_3.tif   \n",
                     "4  AnnualCrop/AnnualCrop_2.tif   \n",
                     "\n",
                     "                                                bbox       geometry  \\\n",
                     "0  {'xmax': 0.0, 'xmin': 0.0, 'ymax': 0.0, 'ymin'...  POLYGON EMPTY   \n",
                     "1  {'xmax': 0.0, 'xmin': 0.0, 'ymax': 0.0, 'ymin'...  POLYGON EMPTY   \n",
                     "2  {'xmax': 0.0, 'xmin': 0.0, 'ymax': 0.0, 'ymin'...  POLYGON EMPTY   \n",
                     "3  {'xmax': 0.0, 'xmin': 0.0, 'ymax': 0.0, 'ymin'...  POLYGON EMPTY   \n",
                     "4  {'xmax': 0.0, 'xmin': 0.0, 'ymax': 0.0, 'ymin'...  POLYGON EMPTY   \n",
                     "\n",
                     "                                              assets links repository  \n",
                     "0  {'asset': {'checksum': 'a6bb30a57d0f5ff0aaa65b...    []      eotdl  \n",
                     "1  {'asset': {'checksum': 'f3b8b9fef6b2df6f24792e...    []      eotdl  \n",
                     "2  {'asset': {'checksum': '2e38dab64435bfbab25bab...    []      eotdl  \n",
                     "3  {'asset': {'checksum': '3e7bb982f9db5f7dabc556...    []      eotdl  \n",
                     "4  {'asset': {'checksum': 'c406cb8920858b98898b9e...    []      eotdl  "
                  ]
               },
               "execution_count": 3,
               "metadata": {},
               "output_type": "execute_result"
            }
         ],
         "source": [
            "import geopandas as gpd\n",
            "\n",
            "catalog = f\"{path}/catalog.parquet\"\n",
            "\n",
            "gdf = gpd.read_parquet(catalog)\n",
            "gdf.head()"
         ]
      },
      {
         "cell_type": "markdown",
         "metadata": {},
         "source": [
            "Since the metadata generated by the EOTDL is STAC-compliant, it can be used to automatically generate STAC catalogs."
         ]
      },
      {
         "cell_type": "code",
         "execution_count": 4,
         "metadata": {},
         "outputs": [
            {
               "name": "stderr",
               "output_type": "stream",
               "text": [
                  "  0%|          | 0/7 [00:00<?, ?it/s]"
               ]
            },
            {
               "name": "stderr",
               "output_type": "stream",
               "text": [
                  "100%|██████████| 7/7 [00:00<00:00, 388.61it/s]\n"
               ]
            },
            {
               "data": {
                  "text/plain": [
                     "[<Item id=README.md>,\n",
                     " <Item id=Forest/Forest_1.tif>,\n",
                     " <Item id=Forest/Forest_2.tif>,\n",
                     " <Item id=Forest/Forest_3.tif>,\n",
                     " <Item id=AnnualCrop/AnnualCrop_2.tif>,\n",
                     " <Item id=AnnualCrop/AnnualCrop_3.tif>,\n",
                     " <Item id=AnnualCrop/AnnualCrop_1.tif>]"
                  ]
               },
               "execution_count": 4,
               "metadata": {},
               "output_type": "execute_result"
            }
         ],
         "source": [
            "from eotdl.curation.stac import create_stac_catalog\n",
            "\n",
            "items = create_stac_catalog(catalog)\n",
            "\n",
            "items"
         ]
      },
      {
         "cell_type": "markdown",
         "metadata": {},
         "source": [
            "Optionally, you can create a STAC catalog / collection and link the items to it."
         ]
      },
      {
         "cell_type": "code",
         "execution_count": 5,
         "metadata": {},
         "outputs": [
            {
               "name": "stderr",
               "output_type": "stream",
               "text": [
                  "  0%|          | 0/7 [00:00<?, ?it/s]"
               ]
            },
            {
               "name": "stderr",
               "output_type": "stream",
               "text": [
                  "100%|██████████| 7/7 [00:00<00:00, 3600.70it/s]\n"
               ]
            },
            {
               "data": {
                  "text/html": [
                     "\n",
                     "\n",
                     "<style>\n",
                     ".pystac-summary {\n",
                     "    cursor: pointer;\n",
                     "    display: list-item;\n",
                     "    list-style: revert;\n",
                     "    margin-bottom: 0 !important;\n",
                     "\n",
                     "    .pystac-l {\n",
                     "        padding-left: 0.5em;\n",
                     "        color: rgb(64, 128, 128);\n",
                     "        font-style: italic;\n",
                     "    }\n",
                     "}\n",
                     ".pystac-row {\n",
                     "    overflow-wrap: break-word;\n",
                     "    padding-left: .825em;\n",
                     "\n",
                     "    .pystac-k {\n",
                     "        display: inline-block;\n",
                     "        margin: 0px 0.5em 0px 0px;\n",
                     "    }\n",
                     "    .pystac-v {\n",
                     "        color: rgb(186, 33, 33);\n",
                     "    }\n",
                     "}\n",
                     ".pystac-k {\n",
                     "    color: rgb(0, 128, 0);\n",
                     "    font-weight: 700;\n",
                     "}\n",
                     "</style>\n",
                     "<div class=\"jp-RenderedJSON jp-mod-trusted jp-OutputArea-output\">\n",
                     "    <div class=\"container\" style=\"line-height: normal;\">\n",
                     "        <ul style=\"padding: 0px; margin: 0px; list-style: none; display: block;\">\n",
                     "            \n",
                     "                \n",
                     "                    \n",
                     "        <li class=\"pystac-row\">\n",
                     "            <span class=\"pystac-k\">type</span>\n",
                     "            <span class=\"pystac-v\">\"Catalog\"</span>\n",
                     "        </li>\n",
                     "    \n",
                     "                \n",
                     "            \n",
                     "                \n",
                     "                    \n",
                     "        <li class=\"pystac-row\">\n",
                     "            <span class=\"pystac-k\">id</span>\n",
                     "            <span class=\"pystac-v\">\"eotdl-catalog\"</span>\n",
                     "        </li>\n",
                     "    \n",
                     "                \n",
                     "            \n",
                     "                \n",
                     "                    \n",
                     "        <li class=\"pystac-row\">\n",
                     "            <span class=\"pystac-k\">stac_version</span>\n",
                     "            <span class=\"pystac-v\">\"1.1.0\"</span>\n",
                     "        </li>\n",
                     "    \n",
                     "                \n",
                     "            \n",
                     "                \n",
                     "                    \n",
                     "        <li class=\"pystac-row\">\n",
                     "            <span class=\"pystac-k\">description</span>\n",
                     "            <span class=\"pystac-v\">\"EOTDL Catalog\"</span>\n",
                     "        </li>\n",
                     "    \n",
                     "                \n",
                     "            \n",
                     "                \n",
                     "                    <li><details>\n",
                     "        <summary class=\"pystac-summary\"><span class=\"pystac-k\">links</span><span class=\"pystac-l\">[] 7 items</span></summary>\n",
                     "        \n",
                     "            <ul style=\"margin: 0px; padding: 0px 0px 0px 1.75em; list-style: none; display: block;\">\n",
                     "        \n",
                     "            \n",
                     "                \n",
                     "        <li><details>\n",
                     "            <summary class=\"pystac-summary\"><span class=\"pystac-k\">0</span></summary>\n",
                     "            <ul style=\"margin: 0px; padding: 0px 0px 0px 1.75em; list-style: none; display: block;\">\n",
                     "        \n",
                     "            \n",
                     "                \n",
                     "        <li class=\"pystac-row\">\n",
                     "            <span class=\"pystac-k\">rel</span>\n",
                     "            <span class=\"pystac-v\">\"item\"</span>\n",
                     "        </li>\n",
                     "    \n",
                     "            \n",
                     "        \n",
                     "            \n",
                     "                \n",
                     "        <li class=\"pystac-row\">\n",
                     "            <span class=\"pystac-k\">href</span>\n",
                     "            <span class=\"pystac-v\">None</span>\n",
                     "        </li>\n",
                     "    \n",
                     "            \n",
                     "        \n",
                     "            \n",
                     "                \n",
                     "        <li class=\"pystac-row\">\n",
                     "            <span class=\"pystac-k\">type</span>\n",
                     "            <span class=\"pystac-v\">\"application/geo+json\"</span>\n",
                     "        </li>\n",
                     "    \n",
                     "            \n",
                     "        \n",
                     "    </ul>\n",
                     "        </details></li>\n",
                     "    \n",
                     "            \n",
                     "        \n",
                     "    </ul>\n",
                     "        \n",
                     "            <ul style=\"margin: 0px; padding: 0px 0px 0px 1.75em; list-style: none; display: block;\">\n",
                     "        \n",
                     "            \n",
                     "                \n",
                     "        <li><details>\n",
                     "            <summary class=\"pystac-summary\"><span class=\"pystac-k\">1</span></summary>\n",
                     "            <ul style=\"margin: 0px; padding: 0px 0px 0px 1.75em; list-style: none; display: block;\">\n",
                     "        \n",
                     "            \n",
                     "                \n",
                     "        <li class=\"pystac-row\">\n",
                     "            <span class=\"pystac-k\">rel</span>\n",
                     "            <span class=\"pystac-v\">\"item\"</span>\n",
                     "        </li>\n",
                     "    \n",
                     "            \n",
                     "        \n",
                     "            \n",
                     "                \n",
                     "        <li class=\"pystac-row\">\n",
                     "            <span class=\"pystac-k\">href</span>\n",
                     "            <span class=\"pystac-v\">None</span>\n",
                     "        </li>\n",
                     "    \n",
                     "            \n",
                     "        \n",
                     "            \n",
                     "                \n",
                     "        <li class=\"pystac-row\">\n",
                     "            <span class=\"pystac-k\">type</span>\n",
                     "            <span class=\"pystac-v\">\"application/geo+json\"</span>\n",
                     "        </li>\n",
                     "    \n",
                     "            \n",
                     "        \n",
                     "    </ul>\n",
                     "        </details></li>\n",
                     "    \n",
                     "            \n",
                     "        \n",
                     "    </ul>\n",
                     "        \n",
                     "            <ul style=\"margin: 0px; padding: 0px 0px 0px 1.75em; list-style: none; display: block;\">\n",
                     "        \n",
                     "            \n",
                     "                \n",
                     "        <li><details>\n",
                     "            <summary class=\"pystac-summary\"><span class=\"pystac-k\">2</span></summary>\n",
                     "            <ul style=\"margin: 0px; padding: 0px 0px 0px 1.75em; list-style: none; display: block;\">\n",
                     "        \n",
                     "            \n",
                     "                \n",
                     "        <li class=\"pystac-row\">\n",
                     "            <span class=\"pystac-k\">rel</span>\n",
                     "            <span class=\"pystac-v\">\"item\"</span>\n",
                     "        </li>\n",
                     "    \n",
                     "            \n",
                     "        \n",
                     "            \n",
                     "                \n",
                     "        <li class=\"pystac-row\">\n",
                     "            <span class=\"pystac-k\">href</span>\n",
                     "            <span class=\"pystac-v\">None</span>\n",
                     "        </li>\n",
                     "    \n",
                     "            \n",
                     "        \n",
                     "            \n",
                     "                \n",
                     "        <li class=\"pystac-row\">\n",
                     "            <span class=\"pystac-k\">type</span>\n",
                     "            <span class=\"pystac-v\">\"application/geo+json\"</span>\n",
                     "        </li>\n",
                     "    \n",
                     "            \n",
                     "        \n",
                     "    </ul>\n",
                     "        </details></li>\n",
                     "    \n",
                     "            \n",
                     "        \n",
                     "    </ul>\n",
                     "        \n",
                     "            <ul style=\"margin: 0px; padding: 0px 0px 0px 1.75em; list-style: none; display: block;\">\n",
                     "        \n",
                     "            \n",
                     "                \n",
                     "        <li><details>\n",
                     "            <summary class=\"pystac-summary\"><span class=\"pystac-k\">3</span></summary>\n",
                     "            <ul style=\"margin: 0px; padding: 0px 0px 0px 1.75em; list-style: none; display: block;\">\n",
                     "        \n",
                     "            \n",
                     "                \n",
                     "        <li class=\"pystac-row\">\n",
                     "            <span class=\"pystac-k\">rel</span>\n",
                     "            <span class=\"pystac-v\">\"item\"</span>\n",
                     "        </li>\n",
                     "    \n",
                     "            \n",
                     "        \n",
                     "            \n",
                     "                \n",
                     "        <li class=\"pystac-row\">\n",
                     "            <span class=\"pystac-k\">href</span>\n",
                     "            <span class=\"pystac-v\">None</span>\n",
                     "        </li>\n",
                     "    \n",
                     "            \n",
                     "        \n",
                     "            \n",
                     "                \n",
                     "        <li class=\"pystac-row\">\n",
                     "            <span class=\"pystac-k\">type</span>\n",
                     "            <span class=\"pystac-v\">\"application/geo+json\"</span>\n",
                     "        </li>\n",
                     "    \n",
                     "            \n",
                     "        \n",
                     "    </ul>\n",
                     "        </details></li>\n",
                     "    \n",
                     "            \n",
                     "        \n",
                     "    </ul>\n",
                     "        \n",
                     "            <ul style=\"margin: 0px; padding: 0px 0px 0px 1.75em; list-style: none; display: block;\">\n",
                     "        \n",
                     "            \n",
                     "                \n",
                     "        <li><details>\n",
                     "            <summary class=\"pystac-summary\"><span class=\"pystac-k\">4</span></summary>\n",
                     "            <ul style=\"margin: 0px; padding: 0px 0px 0px 1.75em; list-style: none; display: block;\">\n",
                     "        \n",
                     "            \n",
                     "                \n",
                     "        <li class=\"pystac-row\">\n",
                     "            <span class=\"pystac-k\">rel</span>\n",
                     "            <span class=\"pystac-v\">\"item\"</span>\n",
                     "        </li>\n",
                     "    \n",
                     "            \n",
                     "        \n",
                     "            \n",
                     "                \n",
                     "        <li class=\"pystac-row\">\n",
                     "            <span class=\"pystac-k\">href</span>\n",
                     "            <span class=\"pystac-v\">None</span>\n",
                     "        </li>\n",
                     "    \n",
                     "            \n",
                     "        \n",
                     "            \n",
                     "                \n",
                     "        <li class=\"pystac-row\">\n",
                     "            <span class=\"pystac-k\">type</span>\n",
                     "            <span class=\"pystac-v\">\"application/geo+json\"</span>\n",
                     "        </li>\n",
                     "    \n",
                     "            \n",
                     "        \n",
                     "    </ul>\n",
                     "        </details></li>\n",
                     "    \n",
                     "            \n",
                     "        \n",
                     "    </ul>\n",
                     "        \n",
                     "            <ul style=\"margin: 0px; padding: 0px 0px 0px 1.75em; list-style: none; display: block;\">\n",
                     "        \n",
                     "            \n",
                     "                \n",
                     "        <li><details>\n",
                     "            <summary class=\"pystac-summary\"><span class=\"pystac-k\">5</span></summary>\n",
                     "            <ul style=\"margin: 0px; padding: 0px 0px 0px 1.75em; list-style: none; display: block;\">\n",
                     "        \n",
                     "            \n",
                     "                \n",
                     "        <li class=\"pystac-row\">\n",
                     "            <span class=\"pystac-k\">rel</span>\n",
                     "            <span class=\"pystac-v\">\"item\"</span>\n",
                     "        </li>\n",
                     "    \n",
                     "            \n",
                     "        \n",
                     "            \n",
                     "                \n",
                     "        <li class=\"pystac-row\">\n",
                     "            <span class=\"pystac-k\">href</span>\n",
                     "            <span class=\"pystac-v\">None</span>\n",
                     "        </li>\n",
                     "    \n",
                     "            \n",
                     "        \n",
                     "            \n",
                     "                \n",
                     "        <li class=\"pystac-row\">\n",
                     "            <span class=\"pystac-k\">type</span>\n",
                     "            <span class=\"pystac-v\">\"application/geo+json\"</span>\n",
                     "        </li>\n",
                     "    \n",
                     "            \n",
                     "        \n",
                     "    </ul>\n",
                     "        </details></li>\n",
                     "    \n",
                     "            \n",
                     "        \n",
                     "    </ul>\n",
                     "        \n",
                     "            <ul style=\"margin: 0px; padding: 0px 0px 0px 1.75em; list-style: none; display: block;\">\n",
                     "        \n",
                     "            \n",
                     "                \n",
                     "        <li><details>\n",
                     "            <summary class=\"pystac-summary\"><span class=\"pystac-k\">6</span></summary>\n",
                     "            <ul style=\"margin: 0px; padding: 0px 0px 0px 1.75em; list-style: none; display: block;\">\n",
                     "        \n",
                     "            \n",
                     "                \n",
                     "        <li class=\"pystac-row\">\n",
                     "            <span class=\"pystac-k\">rel</span>\n",
                     "            <span class=\"pystac-v\">\"item\"</span>\n",
                     "        </li>\n",
                     "    \n",
                     "            \n",
                     "        \n",
                     "            \n",
                     "                \n",
                     "        <li class=\"pystac-row\">\n",
                     "            <span class=\"pystac-k\">href</span>\n",
                     "            <span class=\"pystac-v\">None</span>\n",
                     "        </li>\n",
                     "    \n",
                     "            \n",
                     "        \n",
                     "            \n",
                     "                \n",
                     "        <li class=\"pystac-row\">\n",
                     "            <span class=\"pystac-k\">type</span>\n",
                     "            <span class=\"pystac-v\">\"application/geo+json\"</span>\n",
                     "        </li>\n",
                     "    \n",
                     "            \n",
                     "        \n",
                     "    </ul>\n",
                     "        </details></li>\n",
                     "    \n",
                     "            \n",
                     "        \n",
                     "    </ul>\n",
                     "        \n",
                     "    </details></li>\n",
                     "                \n",
                     "            \n",
                     "                \n",
                     "                    \n",
                     "        <li class=\"pystac-row\">\n",
                     "            <span class=\"pystac-k\">title</span>\n",
                     "            <span class=\"pystac-v\">\"EOTDL Catalog\"</span>\n",
                     "        </li>\n",
                     "    \n",
                     "                \n",
                     "            \n",
                     "        </ul>\n",
                     "    </div>\n",
                     "</div>"
                  ],
                  "text/plain": [
                     "<Catalog id=eotdl-catalog>"
                  ]
               },
               "execution_count": 5,
               "metadata": {},
               "output_type": "execute_result"
            }
         ],
         "source": [
            "from eotdl.curation.stac import create_stac_catalog\n",
            "import pystac\n",
            "\n",
            "stac_catalog = pystac.Catalog(\n",
            "\tid = \"eotdl-catalog\",\n",
            "\tdescription = \"EOTDL Catalog\",\n",
            "\ttitle = \"EOTDL Catalog\",\n",
            "\tstac_extensions = [],\n",
            "\textra_fields = {},\n",
            ")\n",
            "\n",
            "stac_catalog = create_stac_catalog(catalog, stac_catalog)\n",
            "\n",
            "stac_catalog"
         ]
      },
      {
         "cell_type": "markdown",
         "metadata": {},
         "source": [
            "Either way, once the STAC metadata is generated, can be saved to disk."
         ]
      },
      {
         "cell_type": "code",
         "execution_count": 6,
         "metadata": {},
         "outputs": [],
         "source": [
            "stac_catalog.normalize_and_save(\n",
            "\troot_href='data/stac',\n",
            "\tcatalog_type=pystac.CatalogType.SELF_CONTAINED\n",
            ")"
         ]
      },
      {
         "cell_type": "markdown",
         "metadata": {},
         "source": [
            "Keep in mind that if the original dataset already has STAC metadata, it will be overwritten."
         ]
      },
      {
         "cell_type": "markdown",
         "metadata": {},
         "source": [
            "# STAC API"
         ]
      },
      {
         "cell_type": "markdown",
         "metadata": {},
         "source": [
            "You can interact with EOTDL via its STAC API, both with the `eotdl` CLI and the Python API."
         ]
      },
      {
         "cell_type": "code",
         "execution_count": 7,
         "metadata": {},
         "outputs": [
            {
               "name": "stdout",
               "output_type": "stream",
               "text": [
                  "{'message': 'Welcome to the STAC API'}\n"
               ]
            }
         ],
         "source": [
            "!eotdl stac status"
         ]
      },
      {
         "cell_type": "markdown",
         "metadata": {},
         "source": [
            "Explore collections"
         ]
      },
      {
         "cell_type": "code",
         "execution_count": 8,
         "metadata": {},
         "outputs": [
            {
               "name": "stdout",
               "output_type": "stream",
               "text": [
                  "[{'name': 'Test-links', 'id': '683440d487f8a6eed16b57fa'}, {'name': 'EuroSAT-RGB-small-STAC', 'id': '6834407a57638bef53669578'}, {'name': 'EuroSAT-small', 'id': '68343e3157638bef53669577'}, {'name': 'EuroCropsCloudNative', 'id': '682f2d186a29eac175867330'}, {'name': 'MSC-France', 'id': '682731d2180d79b848ab04f2'}, {'name': 'ESAWAAI', 'id': '6826ee856a29eac175867327'}, {'name': 'international-charter-earthquake-eo-data', 'id': '68260de258344526e140a298'}, {'name': 'JPL-CH4-detection', 'id': '680760267b05622170bef9ff'}, {'name': 'HYPERVIEW2', 'id': '68074b43c8575682bb134c3e'}, {'name': 'PASTIS-HD', 'id': '6800bb5bc8575682bb134c38'}, {'name': 'xView2', 'id': '67f65bc18940e45fe460232b'}, {'name': 'crop-type-mapping-south-sudan', 'id': '67f637f7c8575682bb134c37'}, {'name': 'Five-Billion-Pixels', 'id': '67f539a5c8575682bb134c36'}, {'name': 'CROPGRIDS', 'id': '67f535be7b05622170bef9f9'}, {'name': 'DynamicEarthNet', 'id': '67f44098c8575682bb134c35'}, {'name': 'sen1floods11', 'id': '67f3ceb38940e45fe460232a'}, {'name': 'SpaceNet7', 'id': '67f39558c8575682bb134c34'}, {'name': 'ai4smallfarms', 'id': '67f394257b05622170bef9f7'}, {'name': 'HLS-Burn-Scars', 'id': '67f38fddc8575682bb134c33'}, {'name': 'MADOS-Marine-Debris-Oil-Spill', 'id': '67efe5dcc8575682bb134c32'}, {'name': 'SeeingBeyondTheVisible', 'id': '67d182a43926af70561e6d36'}, {'name': 'OrbitalAI', 'id': '67d1a13482ec193cb1942a4b'}, {'name': 'IMAGINe', 'id': '67d1a16a82ec193cb1942a4d'}, {'name': 'EnhancedS2Agriculture', 'id': '67d181e14c972c6dc536249a'}, {'name': 'AirQualityAndHealth', 'id': '67d180436b11605729a2e8ea'}, {'name': 'AI4Sen2Cor-Datasets', 'id': '679cd15153ddefe736314448'}, {'name': 'SatellogicDataset', 'id': '679b8bbe53ddefe736314444'}, {'name': 'EuroSAT-Q1-small', 'id': '67486e6eeefc0b4b19963970'}, {'name': 'UrbanSARFloods', 'id': '673f60d75d77d8f1eac11342'}, {'name': 'MMFlood', 'id': '673f5cee5d77d8f1eac11340'}, {'name': 'Sen1Floods11', 'id': '673f1a733ff5c2b24e67edf2'}, {'name': 'ship-segmentation-dataset', 'id': '6732bd313ff5c2b24e67edf0'}, {'name': 'Sentinel-2-Ships', 'id': '6732b6de5d77d8f1eac1133e'}, {'name': 'CloudSEN12', 'id': '670cfd4b7a3b51a0ffb3bcc4'}, {'name': 'TAIGA', 'id': '6708defb4b34c474cf42acd9'}, {'name': 'GlobalInventorySolarPhotovoltaic', 'id': '6708dc634d1033730868c93e'}, {'name': 'AirbusShipDetection', 'id': '67079ab54d1033730868c937'}, {'name': 'xview3', 'id': '67064e184d1033730868c935'}, {'name': 'ai4arctic-sea-ice-challenge-raw', 'id': '66a2108875c11a56f439517a'}, {'name': 'ai4arctic-sea-ice-challenge-ready-to-train', 'id': '669fa9a16edc51b826407af0'}, {'name': 'AERONET', 'id': '66962f2c83a6ba0906a79bc2'}, {'name': 'EuroSAT-RGB-small', 'id': '66339674acfae349279020bd'}, {'name': 'Boadella-PhiLab24', 'id': '6630be393a7b02c7f6c4592b'}, {'name': 'SEN12MS-CR', 'id': '660541234b6cf680ff201292'}, {'name': 'DeepGlobeRoadExtraction', 'id': '65f310a91d08cb8a6772f12c'}, {'name': 'MassachusettsRoadsDataset', 'id': '65f3140e8e68180349152970'}, {'name': 'OpenEarthMap', 'id': '65c9dcae27f96a48ad79a08d'}, {'name': 'ESA-Worldcover', 'id': '65ef411a501ea5dc0b448410'}, {'name': 'AlignSAR-Groningen-Sentinel1-Q0', 'id': '65c5e34b391338cb9eee1660'}, {'name': 'AI4EO-MapYourCity', 'id': '65f0168b391338cb9eee1678'}, {'name': 'Enhanced-Sentinel-2-Agriculture', 'id': '65532f485530e9ec84d88686'}, {'name': 'WorldStrat', 'id': '65533ead5530e9ec84d88689'}, {'name': 'SEN2Venus', 'id': '6553a2ac5530e9ec84d8868f'}, {'name': 'AlignSAR-Groningen-Sentinel1-Q1', 'id': '655a5d895530e9ec84d886d3'}, {'name': 'SEN12MS', 'id': '6553640637c9bd6fb3521962'}, {'name': 'AlignSAR-Chennai-OilSpill-Sentinel1-Q0', 'id': '6583102937c9bd6fb352196e'}, {'name': 'PhilEO-downstream', 'id': '65bb5fe737c9bd6fb3521971'}, {'name': 'Alignsar', 'id': '6564654912b2396b503570e9'}, {'name': 'boadella-dataset', 'id': '65451273b6491c0a686d256b'}, {'name': 'EuroSAT-RGB', 'id': '654515c5b6491c0a686d256d'}, {'name': 'EuroSAT-RGB-Q2', 'id': '654503a3cb330b5a4cc08707'}, {'name': 'Boadella-BiDS23', 'id': '6543ba3f68ea46a6677efec9'}, {'name': 'COWC', 'id': '65006c9a751700cadfbd28fb'}, {'name': 'Stanford-Drone-dataset', 'id': '6501e112751700cadfbd2904'}, {'name': 'EuroSAT-RGB-STAC', 'id': '64bfbb6f2a65dcd4ae2ca613'}, {'name': 'BigEarthNet', 'id': '64896b59f0d696bce297b36f'}, {'name': 'xview2', 'id': '64888a8e471c3b884b24c022'}, {'name': 'LandcoverAI', 'id': '6487589b24d9f398bfb7bb18'}, {'name': 'open-cities-tt2-source', 'id': '647860b298edc5f751083893'}, {'name': 'open-cities-tt1-source', 'id': '64776d6898edc5f751083891'}, {'name': 'open-cities-test', 'id': '646f55c8f11dc70cb67317df'}, {'name': 'PASTIS-R', 'id': '6474acf3f11dc70cb67317e9'}, {'name': 'EuroCrops', 'id': '646cf14046f51deed53f6d5b'}, {'name': 'SloveniaLandCover', 'id': '6463589e59028dfdbee33336'}, {'name': 'ISPRS-Potsdam2D', 'id': '6463716b59028dfdbee33338'}, {'name': 'SEN12-FLOOD', 'id': '646477ac59028dfdbee33341'}, {'name': 'Urban3dChallenge', 'id': '6464899459028dfdbee33344'}, {'name': 'tropical-cyclone-dataset', 'id': '64649f3f59028dfdbee3334a'}, {'name': 'Vessel-detection', 'id': '646640b359028dfdbee3335c'}, {'name': 'Airplanes-detection', 'id': '646642d659028dfdbee3335e'}, {'name': 'S2-SHIPS', 'id': '6467305859028dfdbee33362'}, {'name': 'SpaceNet-7', 'id': '64674b4459028dfdbee33364'}, {'name': 'Sentinel-2-Cloud-Mask', 'id': '646b3dcd59028dfdbee33372'}, {'name': 'PASTIS', 'id': '646b448d59028dfdbee33374'}, {'name': 'FlodNet', 'id': '646b814559028dfdbee33378'}, {'name': 'SeCo100k', 'id': '645dff70c2f02fdd88c47b67'}, {'name': 'SeCo', 'id': '645e0fb2c2f02fdd88c47b70'}, {'name': 'AirbusAircraftDetection', 'id': '645e3b2dc2f02fdd88c47b77'}, {'name': 'AirbusWindTurbinesPatches', 'id': '645e3e4fc2f02fdd88c47b7a'}, {'name': 'RoadNet', 'id': '64633fdfc2f02fdd88c47b85'}, {'name': 'EuroSAT', 'id': '645d1e4ec3060c653291ce87'}, {'name': 'UCMerced', 'id': '645a26564d1c8b7b364ee631'}, {'name': 'SSL4EO-S12', 'id': '68028d7dc8575682bb134c3c'}, {'name': 'SpectralGPT', 'id': '68028d47c8575682bb134c3b'}, {'name': 'Scale-MAE', 'id': '68028cc37b05622170bef9fe'}, {'name': 'RemoteCLIP', 'id': '68028ca6c8575682bb134c3a'}, {'name': 'Prithvi', 'id': '68028c937b05622170bef9fd'}, {'name': 'GFM-Swin', 'id': '68028c648940e45fe4602330'}, {'name': 'DOFA', 'id': '68028c30c8575682bb134c39'}, {'name': 'CROMA', 'id': '68028be48940e45fe460232f'}, {'name': 'CloudSEN12L2A', 'id': '671a057614392c331f19d197'}, {'name': 'RoadSegmentationQ2', 'id': '66c32647250225d1d36e735e'}, {'name': 'TropicalCyclonesWindSpeed', 'id': '66a0f65357137221b721b24e'}, {'name': 'BigEarthNet-S2-Resnet50', 'id': '669916eae0c91ac1be34c344'}, {'name': 'BigEarthNet-S2-Resnet34', 'id': '669916d8e0c91ac1be34c341'}, {'name': 'BigEarthNet-S1-Resnet50', 'id': '669916b7bfcae9c686f203a7'}, {'name': 'BigEarthNet-S1-Resnet34', 'id': '669916a2e0c91ac1be34c33e'}, {'name': 'BigEarthNet-S1S2-Resnet50', 'id': '6699163abfcae9c686f203a4'}, {'name': 'BigEarthNet-S1S2-Resnet34', 'id': '669915efe0c91ac1be34c33b'}, {'name': 'EuroSAT-RGB-Q2', 'id': '66718849ca9a032893ca7d43'}, {'name': 'EuroSAT-RGB', 'id': '6671822275338633317e6926'}, {'name': 'forest-map', 'id': '665f0d6964b7d3b8ce16fbb2'}, {'name': 'EuroSAT-RGB-PhiLab24', 'id': '6630ba3e3a7b02c7f6c45928'}, {'name': 'RoadSegmentation', 'id': '65f407248e68180349152973'}, {'name': 'EuroSAT-RGB-BiDS23-Q1', 'id': '65f1878b956a3f84954af83a'}, {'name': 'MAVERICC', 'id': '655608b25530e9ec84d88691'}, {'name': 'WALDO25', 'id': '655610ab12b2396b503570e5'}, {'name': 'EuroSAT-RGB-BiDS23', 'id': '65450deefee7bbb3258e2ebd'}, {'name': 'EuroCropsPipeline', 'id': '68306c8ee2cef594e0c0ef07'}]\n"
               ]
            }
         ],
         "source": [
            "!eotdl stac collections"
         ]
      },
      {
         "cell_type": "code",
         "execution_count": 9,
         "metadata": {},
         "outputs": [
            {
               "data": {
                  "text/plain": [
                     "[{'name': 'Test-links', 'id': '683440d487f8a6eed16b57fa'},\n",
                     " {'name': 'EuroSAT-RGB-small-STAC', 'id': '6834407a57638bef53669578'},\n",
                     " {'name': 'EuroSAT-small', 'id': '68343e3157638bef53669577'},\n",
                     " {'name': 'EuroCropsCloudNative', 'id': '682f2d186a29eac175867330'},\n",
                     " {'name': 'MSC-France', 'id': '682731d2180d79b848ab04f2'},\n",
                     " {'name': 'ESAWAAI', 'id': '6826ee856a29eac175867327'},\n",
                     " {'name': 'international-charter-earthquake-eo-data',\n",
                     "  'id': '68260de258344526e140a298'},\n",
                     " {'name': 'JPL-CH4-detection', 'id': '680760267b05622170bef9ff'},\n",
                     " {'name': 'HYPERVIEW2', 'id': '68074b43c8575682bb134c3e'},\n",
                     " {'name': 'PASTIS-HD', 'id': '6800bb5bc8575682bb134c38'},\n",
                     " {'name': 'xView2', 'id': '67f65bc18940e45fe460232b'},\n",
                     " {'name': 'crop-type-mapping-south-sudan', 'id': '67f637f7c8575682bb134c37'},\n",
                     " {'name': 'Five-Billion-Pixels', 'id': '67f539a5c8575682bb134c36'},\n",
                     " {'name': 'CROPGRIDS', 'id': '67f535be7b05622170bef9f9'},\n",
                     " {'name': 'DynamicEarthNet', 'id': '67f44098c8575682bb134c35'},\n",
                     " {'name': 'sen1floods11', 'id': '67f3ceb38940e45fe460232a'},\n",
                     " {'name': 'SpaceNet7', 'id': '67f39558c8575682bb134c34'},\n",
                     " {'name': 'ai4smallfarms', 'id': '67f394257b05622170bef9f7'},\n",
                     " {'name': 'HLS-Burn-Scars', 'id': '67f38fddc8575682bb134c33'},\n",
                     " {'name': 'MADOS-Marine-Debris-Oil-Spill', 'id': '67efe5dcc8575682bb134c32'},\n",
                     " {'name': 'SeeingBeyondTheVisible', 'id': '67d182a43926af70561e6d36'},\n",
                     " {'name': 'OrbitalAI', 'id': '67d1a13482ec193cb1942a4b'},\n",
                     " {'name': 'IMAGINe', 'id': '67d1a16a82ec193cb1942a4d'},\n",
                     " {'name': 'EnhancedS2Agriculture', 'id': '67d181e14c972c6dc536249a'},\n",
                     " {'name': 'AirQualityAndHealth', 'id': '67d180436b11605729a2e8ea'},\n",
                     " {'name': 'AI4Sen2Cor-Datasets', 'id': '679cd15153ddefe736314448'},\n",
                     " {'name': 'SatellogicDataset', 'id': '679b8bbe53ddefe736314444'},\n",
                     " {'name': 'EuroSAT-Q1-small', 'id': '67486e6eeefc0b4b19963970'},\n",
                     " {'name': 'UrbanSARFloods', 'id': '673f60d75d77d8f1eac11342'},\n",
                     " {'name': 'MMFlood', 'id': '673f5cee5d77d8f1eac11340'},\n",
                     " {'name': 'Sen1Floods11', 'id': '673f1a733ff5c2b24e67edf2'},\n",
                     " {'name': 'ship-segmentation-dataset', 'id': '6732bd313ff5c2b24e67edf0'},\n",
                     " {'name': 'Sentinel-2-Ships', 'id': '6732b6de5d77d8f1eac1133e'},\n",
                     " {'name': 'CloudSEN12', 'id': '670cfd4b7a3b51a0ffb3bcc4'},\n",
                     " {'name': 'TAIGA', 'id': '6708defb4b34c474cf42acd9'},\n",
                     " {'name': 'GlobalInventorySolarPhotovoltaic',\n",
                     "  'id': '6708dc634d1033730868c93e'},\n",
                     " {'name': 'AirbusShipDetection', 'id': '67079ab54d1033730868c937'},\n",
                     " {'name': 'xview3', 'id': '67064e184d1033730868c935'},\n",
                     " {'name': 'ai4arctic-sea-ice-challenge-raw', 'id': '66a2108875c11a56f439517a'},\n",
                     " {'name': 'ai4arctic-sea-ice-challenge-ready-to-train',\n",
                     "  'id': '669fa9a16edc51b826407af0'},\n",
                     " {'name': 'AERONET', 'id': '66962f2c83a6ba0906a79bc2'},\n",
                     " {'name': 'EuroSAT-RGB-small', 'id': '66339674acfae349279020bd'},\n",
                     " {'name': 'Boadella-PhiLab24', 'id': '6630be393a7b02c7f6c4592b'},\n",
                     " {'name': 'SEN12MS-CR', 'id': '660541234b6cf680ff201292'},\n",
                     " {'name': 'DeepGlobeRoadExtraction', 'id': '65f310a91d08cb8a6772f12c'},\n",
                     " {'name': 'MassachusettsRoadsDataset', 'id': '65f3140e8e68180349152970'},\n",
                     " {'name': 'OpenEarthMap', 'id': '65c9dcae27f96a48ad79a08d'},\n",
                     " {'name': 'ESA-Worldcover', 'id': '65ef411a501ea5dc0b448410'},\n",
                     " {'name': 'AlignSAR-Groningen-Sentinel1-Q0', 'id': '65c5e34b391338cb9eee1660'},\n",
                     " {'name': 'AI4EO-MapYourCity', 'id': '65f0168b391338cb9eee1678'},\n",
                     " {'name': 'Enhanced-Sentinel-2-Agriculture', 'id': '65532f485530e9ec84d88686'},\n",
                     " {'name': 'WorldStrat', 'id': '65533ead5530e9ec84d88689'},\n",
                     " {'name': 'SEN2Venus', 'id': '6553a2ac5530e9ec84d8868f'},\n",
                     " {'name': 'AlignSAR-Groningen-Sentinel1-Q1', 'id': '655a5d895530e9ec84d886d3'},\n",
                     " {'name': 'SEN12MS', 'id': '6553640637c9bd6fb3521962'},\n",
                     " {'name': 'AlignSAR-Chennai-OilSpill-Sentinel1-Q0',\n",
                     "  'id': '6583102937c9bd6fb352196e'},\n",
                     " {'name': 'PhilEO-downstream', 'id': '65bb5fe737c9bd6fb3521971'},\n",
                     " {'name': 'Alignsar', 'id': '6564654912b2396b503570e9'},\n",
                     " {'name': 'boadella-dataset', 'id': '65451273b6491c0a686d256b'},\n",
                     " {'name': 'EuroSAT-RGB', 'id': '654515c5b6491c0a686d256d'},\n",
                     " {'name': 'EuroSAT-RGB-Q2', 'id': '654503a3cb330b5a4cc08707'},\n",
                     " {'name': 'Boadella-BiDS23', 'id': '6543ba3f68ea46a6677efec9'},\n",
                     " {'name': 'COWC', 'id': '65006c9a751700cadfbd28fb'},\n",
                     " {'name': 'Stanford-Drone-dataset', 'id': '6501e112751700cadfbd2904'},\n",
                     " {'name': 'EuroSAT-RGB-STAC', 'id': '64bfbb6f2a65dcd4ae2ca613'},\n",
                     " {'name': 'BigEarthNet', 'id': '64896b59f0d696bce297b36f'},\n",
                     " {'name': 'xview2', 'id': '64888a8e471c3b884b24c022'},\n",
                     " {'name': 'LandcoverAI', 'id': '6487589b24d9f398bfb7bb18'},\n",
                     " {'name': 'open-cities-tt2-source', 'id': '647860b298edc5f751083893'},\n",
                     " {'name': 'open-cities-tt1-source', 'id': '64776d6898edc5f751083891'},\n",
                     " {'name': 'open-cities-test', 'id': '646f55c8f11dc70cb67317df'},\n",
                     " {'name': 'PASTIS-R', 'id': '6474acf3f11dc70cb67317e9'},\n",
                     " {'name': 'EuroCrops', 'id': '646cf14046f51deed53f6d5b'},\n",
                     " {'name': 'SloveniaLandCover', 'id': '6463589e59028dfdbee33336'},\n",
                     " {'name': 'ISPRS-Potsdam2D', 'id': '6463716b59028dfdbee33338'},\n",
                     " {'name': 'SEN12-FLOOD', 'id': '646477ac59028dfdbee33341'},\n",
                     " {'name': 'Urban3dChallenge', 'id': '6464899459028dfdbee33344'},\n",
                     " {'name': 'tropical-cyclone-dataset', 'id': '64649f3f59028dfdbee3334a'},\n",
                     " {'name': 'Vessel-detection', 'id': '646640b359028dfdbee3335c'},\n",
                     " {'name': 'Airplanes-detection', 'id': '646642d659028dfdbee3335e'},\n",
                     " {'name': 'S2-SHIPS', 'id': '6467305859028dfdbee33362'},\n",
                     " {'name': 'SpaceNet-7', 'id': '64674b4459028dfdbee33364'},\n",
                     " {'name': 'Sentinel-2-Cloud-Mask', 'id': '646b3dcd59028dfdbee33372'},\n",
                     " {'name': 'PASTIS', 'id': '646b448d59028dfdbee33374'},\n",
                     " {'name': 'FlodNet', 'id': '646b814559028dfdbee33378'},\n",
                     " {'name': 'SeCo100k', 'id': '645dff70c2f02fdd88c47b67'},\n",
                     " {'name': 'SeCo', 'id': '645e0fb2c2f02fdd88c47b70'},\n",
                     " {'name': 'AirbusAircraftDetection', 'id': '645e3b2dc2f02fdd88c47b77'},\n",
                     " {'name': 'AirbusWindTurbinesPatches', 'id': '645e3e4fc2f02fdd88c47b7a'},\n",
                     " {'name': 'RoadNet', 'id': '64633fdfc2f02fdd88c47b85'},\n",
                     " {'name': 'EuroSAT', 'id': '645d1e4ec3060c653291ce87'},\n",
                     " {'name': 'UCMerced', 'id': '645a26564d1c8b7b364ee631'},\n",
                     " {'name': 'SSL4EO-S12', 'id': '68028d7dc8575682bb134c3c'},\n",
                     " {'name': 'SpectralGPT', 'id': '68028d47c8575682bb134c3b'},\n",
                     " {'name': 'Scale-MAE', 'id': '68028cc37b05622170bef9fe'},\n",
                     " {'name': 'RemoteCLIP', 'id': '68028ca6c8575682bb134c3a'},\n",
                     " {'name': 'Prithvi', 'id': '68028c937b05622170bef9fd'},\n",
                     " {'name': 'GFM-Swin', 'id': '68028c648940e45fe4602330'},\n",
                     " {'name': 'DOFA', 'id': '68028c30c8575682bb134c39'},\n",
                     " {'name': 'CROMA', 'id': '68028be48940e45fe460232f'},\n",
                     " {'name': 'CloudSEN12L2A', 'id': '671a057614392c331f19d197'},\n",
                     " {'name': 'RoadSegmentationQ2', 'id': '66c32647250225d1d36e735e'},\n",
                     " {'name': 'TropicalCyclonesWindSpeed', 'id': '66a0f65357137221b721b24e'},\n",
                     " {'name': 'BigEarthNet-S2-Resnet50', 'id': '669916eae0c91ac1be34c344'},\n",
                     " {'name': 'BigEarthNet-S2-Resnet34', 'id': '669916d8e0c91ac1be34c341'},\n",
                     " {'name': 'BigEarthNet-S1-Resnet50', 'id': '669916b7bfcae9c686f203a7'},\n",
                     " {'name': 'BigEarthNet-S1-Resnet34', 'id': '669916a2e0c91ac1be34c33e'},\n",
                     " {'name': 'BigEarthNet-S1S2-Resnet50', 'id': '6699163abfcae9c686f203a4'},\n",
                     " {'name': 'BigEarthNet-S1S2-Resnet34', 'id': '669915efe0c91ac1be34c33b'},\n",
                     " {'name': 'EuroSAT-RGB-Q2', 'id': '66718849ca9a032893ca7d43'},\n",
                     " {'name': 'EuroSAT-RGB', 'id': '6671822275338633317e6926'},\n",
                     " {'name': 'forest-map', 'id': '665f0d6964b7d3b8ce16fbb2'},\n",
                     " {'name': 'EuroSAT-RGB-PhiLab24', 'id': '6630ba3e3a7b02c7f6c45928'},\n",
                     " {'name': 'RoadSegmentation', 'id': '65f407248e68180349152973'},\n",
                     " {'name': 'EuroSAT-RGB-BiDS23-Q1', 'id': '65f1878b956a3f84954af83a'},\n",
                     " {'name': 'MAVERICC', 'id': '655608b25530e9ec84d88691'},\n",
                     " {'name': 'WALDO25', 'id': '655610ab12b2396b503570e5'},\n",
                     " {'name': 'EuroSAT-RGB-BiDS23', 'id': '65450deefee7bbb3258e2ebd'},\n",
                     " {'name': 'EuroCropsPipeline', 'id': '68306c8ee2cef594e0c0ef07'}]"
                  ]
               },
               "execution_count": 9,
               "metadata": {},
               "output_type": "execute_result"
            }
         ],
         "source": [
            "from eotdl.curation.stac.api import retrieve_stac_collections\n",
            "\n",
            "retrieve_stac_collections()"
         ]
      },
      {
         "cell_type": "markdown",
         "metadata": {},
         "source": [
            "Retrieve one collection"
         ]
      },
      {
         "cell_type": "code",
         "execution_count": 10,
         "metadata": {},
         "outputs": [
            {
               "name": "stdout",
               "output_type": "stream",
               "text": [
                  "{'uid': 'auth0|616b0057af0c7500691a026e', 'id': '68343e3157638bef53669577', 'name': 'EuroSAT-small', 'metadata': {'authors': ['Juan B. Pedro'], 'license': 'free', 'source': 'https://github.com/earthpulse/eotdl/blob/main/tutorials/notebooks/02_ingesting.ipynb', 'description': '# EuroSAT-small\\n\\nThis is a small subet of the EuroSAT dataset.', 'thumbnail': 'https://images.unsplash.com/photo-1658763440438-2391eba32774?q=80&w=2065&auto=format&fit=crop&ixlib=rb-4.0.3&ixid=M3wxMjA3fDB8MHxwaG90by1wYWdlfHx8fGVufDB8fHx8fA%3D%3D'}, 'versions': [{'version_id': 1, 'createdAt': '2025-05-26T10:15:31.216000', 'size': 643691}, {'version_id': 2, 'createdAt': '2025-05-26T12:22:36.231000', 'size': 643710}], 'tags': [], 'createdAt': '2025-05-26T12:10:57.377000', 'updatedAt': '2025-05-26T12:10:57.377000', 'likes': 0, 'downloads': 0, 'quality': 0, 'active': True, 'allowed_users': [], 'benchmark': None, 'visibility': 'public'}\n"
               ]
            }
         ],
         "source": [
            "!eotdl stac collection EuroSAT-small"
         ]
      },
      {
         "cell_type": "code",
         "execution_count": 11,
         "metadata": {},
         "outputs": [
            {
               "data": {
                  "text/plain": [
                     "{'uid': 'auth0|616b0057af0c7500691a026e',\n",
                     " 'id': '68343e3157638bef53669577',\n",
                     " 'name': 'EuroSAT-small',\n",
                     " 'metadata': {'authors': ['Juan B. Pedro'],\n",
                     "  'license': 'free',\n",
                     "  'source': 'https://github.com/earthpulse/eotdl/blob/main/tutorials/notebooks/02_ingesting.ipynb',\n",
                     "  'description': '# EuroSAT-small\\n\\nThis is a small subet of the EuroSAT dataset.',\n",
                     "  'thumbnail': 'https://images.unsplash.com/photo-1658763440438-2391eba32774?q=80&w=2065&auto=format&fit=crop&ixlib=rb-4.0.3&ixid=M3wxMjA3fDB8MHxwaG90by1wYWdlfHx8fGVufDB8fHx8fA%3D%3D'},\n",
                     " 'versions': [{'version_id': 1,\n",
                     "   'createdAt': '2025-05-26T10:15:31.216000',\n",
                     "   'size': 643691},\n",
                     "  {'version_id': 2,\n",
                     "   'createdAt': '2025-05-26T12:22:36.231000',\n",
                     "   'size': 643710}],\n",
                     " 'tags': [],\n",
                     " 'createdAt': '2025-05-26T12:10:57.377000',\n",
                     " 'updatedAt': '2025-05-26T12:10:57.377000',\n",
                     " 'likes': 0,\n",
                     " 'downloads': 0,\n",
                     " 'quality': 0,\n",
                     " 'active': True,\n",
                     " 'allowed_users': [],\n",
                     " 'benchmark': None,\n",
                     " 'visibility': 'public'}"
                  ]
               },
               "execution_count": 11,
               "metadata": {},
               "output_type": "execute_result"
            }
         ],
         "source": [
            "from eotdl.curation.stac.api import retrieve_stac_collection\n",
            "\n",
            "retrieve_stac_collection(\"EuroSAT-small\")"
         ]
      },
      {
         "cell_type": "markdown",
         "metadata": {},
         "source": [
            "Retrieve items"
         ]
      },
      {
         "cell_type": "code",
         "execution_count": 12,
         "metadata": {},
         "outputs": [
            {
               "name": "stdout",
               "output_type": "stream",
               "text": [
                  "[{'id': 'README.md', 'assets': {'asset': {'checksum': 'a6bb30a57d0f5ff0aaa65b46d7c1eb16cbced43c', 'href': 'https://api.eotdl.com/datasets/68343e3157638bef53669577/stage/README.md', 'size': 227, 'timestamp': '2025-05-26T12:10:57.099646'}}}, {'id': 'Forest/Forest_1.tif', 'assets': {'asset': {'checksum': 'f3b8b9fef6b2df6f24792ead860616186fe5efe0', 'href': 'https://api.eotdl.com/datasets/68343e3157638bef53669577/stage/Forest/Forest_1.tif', 'size': 107244, 'timestamp': '2025-05-26T12:10:57.100192'}}}, {'id': 'Forest/Forest_2.tif', 'assets': {'asset': {'checksum': '2e38dab64435bfbab25bab8c779ecad6c0764677', 'href': 'https://api.eotdl.com/datasets/68343e3157638bef53669577/stage/Forest/Forest_2.tif', 'size': 107244, 'timestamp': '2025-05-26T12:10:57.100401'}}}, {'id': 'Forest/Forest_3.tif', 'assets': {'asset': {'checksum': '3e7bb982f9db5f7dabc556016c3d081dfb1fb73d', 'href': 'https://api.eotdl.com/datasets/68343e3157638bef53669577/stage/Forest/Forest_3.tif', 'size': 107244, 'timestamp': '2025-05-26T12:10:57.100623'}}}, {'id': 'AnnualCrop/AnnualCrop_2.tif', 'assets': {'asset': {'checksum': 'c406cb8920858b98898b9edd34f1901462425cf0', 'href': 'https://api.eotdl.com/datasets/68343e3157638bef53669577/stage/AnnualCrop/AnnualCrop_2.tif', 'size': 107244, 'timestamp': '2025-05-26T12:10:57.101297'}}}, {'id': 'AnnualCrop/AnnualCrop_3.tif', 'assets': {'asset': {'checksum': '59330fce6d0bf01078db3d89e5710d7e85e707e9', 'href': 'https://api.eotdl.com/datasets/68343e3157638bef53669577/stage/AnnualCrop/AnnualCrop_3.tif', 'size': 107244, 'timestamp': '2025-05-26T12:10:57.101626'}}}, {'id': 'AnnualCrop/AnnualCrop_1.tif', 'assets': {'asset': {'checksum': '63bf72ad806aa6ae313eafd57498468af5822e32', 'href': 'https://api.eotdl.com/datasets/68343e3157638bef53669577/stage/AnnualCrop/AnnualCrop_1.tif', 'size': 107244, 'timestamp': '2025-05-26T12:10:57.101823'}}}]\n"
               ]
            }
         ],
         "source": [
            "!eotdl stac items EuroSAT-small"
         ]
      },
      {
         "cell_type": "code",
         "execution_count": 13,
         "metadata": {},
         "outputs": [
            {
               "data": {
                  "text/plain": [
                     "[{'id': 'README.md',\n",
                     "  'assets': {'asset': {'checksum': 'a6bb30a57d0f5ff0aaa65b46d7c1eb16cbced43c',\n",
                     "    'href': 'https://api.eotdl.com/datasets/68343e3157638bef53669577/stage/README.md',\n",
                     "    'size': 227,\n",
                     "    'timestamp': '2025-05-26T12:10:57.099646'}}},\n",
                     " {'id': 'Forest/Forest_1.tif',\n",
                     "  'assets': {'asset': {'checksum': 'f3b8b9fef6b2df6f24792ead860616186fe5efe0',\n",
                     "    'href': 'https://api.eotdl.com/datasets/68343e3157638bef53669577/stage/Forest/Forest_1.tif',\n",
                     "    'size': 107244,\n",
                     "    'timestamp': '2025-05-26T12:10:57.100192'}}},\n",
                     " {'id': 'Forest/Forest_2.tif',\n",
                     "  'assets': {'asset': {'checksum': '2e38dab64435bfbab25bab8c779ecad6c0764677',\n",
                     "    'href': 'https://api.eotdl.com/datasets/68343e3157638bef53669577/stage/Forest/Forest_2.tif',\n",
                     "    'size': 107244,\n",
                     "    'timestamp': '2025-05-26T12:10:57.100401'}}},\n",
                     " {'id': 'Forest/Forest_3.tif',\n",
                     "  'assets': {'asset': {'checksum': '3e7bb982f9db5f7dabc556016c3d081dfb1fb73d',\n",
                     "    'href': 'https://api.eotdl.com/datasets/68343e3157638bef53669577/stage/Forest/Forest_3.tif',\n",
                     "    'size': 107244,\n",
                     "    'timestamp': '2025-05-26T12:10:57.100623'}}},\n",
                     " {'id': 'AnnualCrop/AnnualCrop_2.tif',\n",
                     "  'assets': {'asset': {'checksum': 'c406cb8920858b98898b9edd34f1901462425cf0',\n",
                     "    'href': 'https://api.eotdl.com/datasets/68343e3157638bef53669577/stage/AnnualCrop/AnnualCrop_2.tif',\n",
                     "    'size': 107244,\n",
                     "    'timestamp': '2025-05-26T12:10:57.101297'}}},\n",
                     " {'id': 'AnnualCrop/AnnualCrop_3.tif',\n",
                     "  'assets': {'asset': {'checksum': '59330fce6d0bf01078db3d89e5710d7e85e707e9',\n",
                     "    'href': 'https://api.eotdl.com/datasets/68343e3157638bef53669577/stage/AnnualCrop/AnnualCrop_3.tif',\n",
                     "    'size': 107244,\n",
                     "    'timestamp': '2025-05-26T12:10:57.101626'}}},\n",
                     " {'id': 'AnnualCrop/AnnualCrop_1.tif',\n",
                     "  'assets': {'asset': {'checksum': '63bf72ad806aa6ae313eafd57498468af5822e32',\n",
                     "    'href': 'https://api.eotdl.com/datasets/68343e3157638bef53669577/stage/AnnualCrop/AnnualCrop_1.tif',\n",
                     "    'size': 107244,\n",
                     "    'timestamp': '2025-05-26T12:10:57.101823'}}}]"
                  ]
               },
               "execution_count": 13,
               "metadata": {},
               "output_type": "execute_result"
            }
         ],
         "source": [
            "from eotdl.curation.stac.api import retrieve_stac_items\n",
            "\n",
            "retrieve_stac_items(\"EuroSAT-small\")"
         ]
      },
      {
         "cell_type": "markdown",
         "metadata": {},
         "source": [
            "Retrieve one item"
         ]
      },
      {
         "cell_type": "code",
         "execution_count": 14,
         "metadata": {},
         "outputs": [
            {
               "name": "stdout",
               "output_type": "stream",
               "text": [
                  "{'type': 'Feature', 'stac_version': '1.0.0', 'stac_extensions': {}, 'datetime': '2025-05-26T12:10:57.099531', 'id': 'README.md', 'bbox': {'xmax': 0.0, 'xmin': 0.0, 'ymax': 0.0, 'ymin': 0.0}, 'geometry': '\\x01\\x03\\x00\\x00\\x00\\x00\\x00\\x00\\x00', 'assets': {'asset': {'checksum': 'a6bb30a57d0f5ff0aaa65b46d7c1eb16cbced43c', 'href': 'https://api.eotdl.com/datasets/68343e3157638bef53669577/stage/README.md', 'size': 227, 'timestamp': '2025-05-26T12:10:57.099646'}}, 'links': {}, 'repository': 'eotdl'}\n"
               ]
            }
         ],
         "source": [
            "!eotdl stac item EuroSAT-small README.md"
         ]
      },
      {
         "cell_type": "code",
         "execution_count": 15,
         "metadata": {},
         "outputs": [
            {
               "data": {
                  "text/plain": [
                     "{'type': 'Feature',\n",
                     " 'stac_version': '1.0.0',\n",
                     " 'stac_extensions': {},\n",
                     " 'datetime': '2025-05-26T12:10:57.099531',\n",
                     " 'id': 'README.md',\n",
                     " 'bbox': {'xmax': 0.0, 'xmin': 0.0, 'ymax': 0.0, 'ymin': 0.0},\n",
                     " 'geometry': '\\x01\\x03\\x00\\x00\\x00\\x00\\x00\\x00\\x00',\n",
                     " 'assets': {'asset': {'checksum': 'a6bb30a57d0f5ff0aaa65b46d7c1eb16cbced43c',\n",
                     "   'href': 'https://api.eotdl.com/datasets/68343e3157638bef53669577/stage/README.md',\n",
                     "   'size': 227,\n",
                     "   'timestamp': '2025-05-26T12:10:57.099646'}},\n",
                     " 'links': {},\n",
                     " 'repository': 'eotdl'}"
                  ]
               },
               "execution_count": 15,
               "metadata": {},
               "output_type": "execute_result"
            }
         ],
         "source": [
            "from eotdl.curation.stac.api import retrieve_stac_item\n",
            "\n",
            "retrieve_stac_item(\"EuroSAT-small\", \"README.md\")"
         ]
      },
      {
         "cell_type": "markdown",
         "metadata": {},
         "source": [
            "Search items using SQL queries (duckdb)"
         ]
      },
      {
         "cell_type": "code",
         "execution_count": 16,
         "metadata": {},
         "outputs": [
            {
               "name": "stdout",
               "output_type": "stream",
               "text": [
                  "[{'type': 'Feature', 'stac_version': '1.0.0', 'stac_extensions': [], 'datetime': 1748261457099, 'id': 'README.md', 'bbox': {'xmax': 0.0, 'xmin': 0.0, 'ymax': 0.0, 'ymin': 0.0}, 'geometry': {}, 'assets': {'asset': {'checksum': 'a6bb30a57d0f5ff0aaa65b46d7c1eb16cbced43c', 'href': 'https://api.eotdl.com/datasets/68343e3157638bef53669577/stage/README.md', 'size': 227, 'timestamp': 1748261457099}}, 'links': [], 'repository': 'eotdl'}, {'type': 'Feature', 'stac_version': '1.0.0', 'stac_extensions': [], 'datetime': 1748261457100, 'id': 'Forest/Forest_3.tif', 'bbox': {'xmax': 0.0, 'xmin': 0.0, 'ymax': 0.0, 'ymin': 0.0}, 'geometry': {}, 'assets': {'asset': {'checksum': '3e7bb982f9db5f7dabc556016c3d081dfb1fb73d', 'href': 'https://api.eotdl.com/datasets/68343e3157638bef53669577/stage/Forest/Forest_3.tif', 'size': 107244, 'timestamp': 1748261457100}}, 'links': [], 'repository': 'eotdl'}]\n"
               ]
            }
         ],
         "source": [
            "!eotdl stac search EuroSAT-small --query \"id IN ('README.md', 'Forest/Forest_3.tif')\""
         ]
      },
      {
         "cell_type": "code",
         "execution_count": 17,
         "metadata": {},
         "outputs": [
            {
               "data": {
                  "text/plain": [
                     "[{'type': 'Feature',\n",
                     "  'stac_version': '1.0.0',\n",
                     "  'stac_extensions': [],\n",
                     "  'datetime': 1748261457099,\n",
                     "  'id': 'README.md',\n",
                     "  'bbox': {'xmax': 0.0, 'xmin': 0.0, 'ymax': 0.0, 'ymin': 0.0},\n",
                     "  'geometry': {},\n",
                     "  'assets': {'asset': {'checksum': 'a6bb30a57d0f5ff0aaa65b46d7c1eb16cbced43c',\n",
                     "    'href': 'https://api.eotdl.com/datasets/68343e3157638bef53669577/stage/README.md',\n",
                     "    'size': 227,\n",
                     "    'timestamp': 1748261457099}},\n",
                     "  'links': [],\n",
                     "  'repository': 'eotdl'},\n",
                     " {'type': 'Feature',\n",
                     "  'stac_version': '1.0.0',\n",
                     "  'stac_extensions': [],\n",
                     "  'datetime': 1748261457100,\n",
                     "  'id': 'Forest/Forest_3.tif',\n",
                     "  'bbox': {'xmax': 0.0, 'xmin': 0.0, 'ymax': 0.0, 'ymin': 0.0},\n",
                     "  'geometry': {},\n",
                     "  'assets': {'asset': {'checksum': '3e7bb982f9db5f7dabc556016c3d081dfb1fb73d',\n",
                     "    'href': 'https://api.eotdl.com/datasets/68343e3157638bef53669577/stage/Forest/Forest_3.tif',\n",
                     "    'size': 107244,\n",
                     "    'timestamp': 1748261457100}},\n",
                     "  'links': [],\n",
                     "  'repository': 'eotdl'}]"
                  ]
               },
               "execution_count": 17,
               "metadata": {},
               "output_type": "execute_result"
            }
         ],
         "source": [
            "from eotdl.curation.stac.api import search_stac_items\n",
            "\n",
            "query = \"id IN ('README.md', 'Forest/Forest_3.tif')\"\n",
            "\n",
            "search_stac_items(\"EuroSAT-small\", query)"
         ]
      },
      {
         "cell_type": "markdown",
         "metadata": {},
         "source": [
            "You can retrieve a list of fields available for a search query"
         ]
      },
      {
         "cell_type": "code",
         "execution_count": 18,
         "metadata": {},
         "outputs": [
            {
               "name": "stdout",
               "output_type": "stream",
               "text": [
                  "{'schema': None, 'type': 'BYTE_ARRAY', 'stac_version': 'BYTE_ARRAY', 'stac_extensions': None, 'list': None, 'element': 'INT32', 'datetime': 'INT64', 'id': 'BYTE_ARRAY', 'bbox': None, 'xmax': 'DOUBLE', 'xmin': 'DOUBLE', 'ymax': 'DOUBLE', 'ymin': 'DOUBLE', 'geometry': 'BYTE_ARRAY', 'assets': None, 'asset': None, 'checksum': 'BYTE_ARRAY', 'href': 'BYTE_ARRAY', 'size': 'INT64', 'timestamp': 'INT64', 'links': None, 'repository': 'BYTE_ARRAY'}\n"
               ]
            }
         ],
         "source": [
            "!eotdl stac search EuroSAT-small"
         ]
      },
      {
         "cell_type": "code",
         "execution_count": 19,
         "metadata": {},
         "outputs": [
            {
               "data": {
                  "text/plain": [
                     "{'schema': None,\n",
                     " 'type': 'BYTE_ARRAY',\n",
                     " 'stac_version': 'BYTE_ARRAY',\n",
                     " 'stac_extensions': None,\n",
                     " 'list': None,\n",
                     " 'element': 'INT32',\n",
                     " 'datetime': 'INT64',\n",
                     " 'id': 'BYTE_ARRAY',\n",
                     " 'bbox': None,\n",
                     " 'xmax': 'DOUBLE',\n",
                     " 'xmin': 'DOUBLE',\n",
                     " 'ymax': 'DOUBLE',\n",
                     " 'ymin': 'DOUBLE',\n",
                     " 'geometry': 'BYTE_ARRAY',\n",
                     " 'assets': None,\n",
                     " 'asset': None,\n",
                     " 'checksum': 'BYTE_ARRAY',\n",
                     " 'href': 'BYTE_ARRAY',\n",
                     " 'size': 'INT64',\n",
                     " 'timestamp': 'INT64',\n",
                     " 'links': None,\n",
                     " 'repository': 'BYTE_ARRAY'}"
                  ]
               },
               "execution_count": 19,
               "metadata": {},
               "output_type": "execute_result"
            }
         ],
         "source": [
            "search_stac_items(\"EuroSAT-small\")"
         ]
      },
      {
         "cell_type": "markdown",
         "metadata": {},
         "source": [
            "TODO: make spatial queries work"
         ]
      },
      {
         "cell_type": "code",
         "execution_count": 20,
         "metadata": {},
         "outputs": [
            {
               "ename": "Exception",
               "evalue": "Binder Error: No function matches the given name and argument types 'ST_MakeEnvelope(DECIMAL(4,1), DECIMAL(3,1), DECIMAL(4,1), DECIMAL(3,1), INTEGER_LITERAL)'. You might need to add explicit type casts.\n\tCandidate functions:\n\tST_MakeEnvelope(DOUBLE, DOUBLE, DOUBLE, DOUBLE) -> GEOMETRY\n\n\nLINE 4: ...    WHERE ST_Intersects(geometry, ST_GeomFromWKB(ST_Envelope(ST_MakeEnvelope(-122.5, 37.7, -122.3, 37.9, 4326))))\n                                                                        ^",
               "output_type": "error",
               "traceback": [
                  "\u001b[31m---------------------------------------------------------------------------\u001b[39m",
                  "\u001b[31mException\u001b[39m                                 Traceback (most recent call last)",
                  "\u001b[36mCell\u001b[39m\u001b[36m \u001b[39m\u001b[32mIn[20]\u001b[39m\u001b[32m, line 6\u001b[39m\n\u001b[32m      2\u001b[39m bbox = [-\u001b[32m122.5\u001b[39m, \u001b[32m37.7\u001b[39m, -\u001b[32m122.3\u001b[39m, \u001b[32m37.9\u001b[39m]\n\u001b[32m      4\u001b[39m query = \u001b[33mf\u001b[39m\u001b[33m\"\u001b[39m\u001b[33mST_Intersects(geometry, ST_GeomFromWKB(ST_Envelope(ST_MakeEnvelope(\u001b[39m\u001b[38;5;132;01m{\u001b[39;00mbbox[\u001b[32m0\u001b[39m]\u001b[38;5;132;01m}\u001b[39;00m\u001b[33m, \u001b[39m\u001b[38;5;132;01m{\u001b[39;00mbbox[\u001b[32m1\u001b[39m]\u001b[38;5;132;01m}\u001b[39;00m\u001b[33m, \u001b[39m\u001b[38;5;132;01m{\u001b[39;00mbbox[\u001b[32m2\u001b[39m]\u001b[38;5;132;01m}\u001b[39;00m\u001b[33m, \u001b[39m\u001b[38;5;132;01m{\u001b[39;00mbbox[\u001b[32m3\u001b[39m]\u001b[38;5;132;01m}\u001b[39;00m\u001b[33m, 4326))))\u001b[39m\u001b[33m\"\u001b[39m\n\u001b[32m----> \u001b[39m\u001b[32m6\u001b[39m \u001b[43msearch_stac_items\u001b[49m\u001b[43m(\u001b[49m\u001b[33;43m\"\u001b[39;49m\u001b[33;43mEuroSAT-small\u001b[39;49m\u001b[33;43m\"\u001b[39;49m\u001b[43m,\u001b[49m\u001b[43m \u001b[49m\u001b[43mquery\u001b[49m\u001b[43m)\u001b[49m\n",
                  "\u001b[36mFile \u001b[39m\u001b[32m~/Desktop/eotdl/eotdl/eotdl/curation/stac/api.py:49\u001b[39m, in \u001b[36msearch_stac_items\u001b[39m\u001b[34m(collection_id, query)\u001b[39m\n\u001b[32m     47\u001b[39m data, error = repo.search(collection_id, \u001b[38;5;28mstr\u001b[39m(query))\n\u001b[32m     48\u001b[39m \u001b[38;5;28;01mif\u001b[39;00m error:\n\u001b[32m---> \u001b[39m\u001b[32m49\u001b[39m     \u001b[38;5;28;01mraise\u001b[39;00m \u001b[38;5;167;01mException\u001b[39;00m(error)\n\u001b[32m     50\u001b[39m \u001b[38;5;28;01mreturn\u001b[39;00m json.loads(data)\n",
                  "\u001b[31mException\u001b[39m: Binder Error: No function matches the given name and argument types 'ST_MakeEnvelope(DECIMAL(4,1), DECIMAL(3,1), DECIMAL(4,1), DECIMAL(3,1), INTEGER_LITERAL)'. You might need to add explicit type casts.\n\tCandidate functions:\n\tST_MakeEnvelope(DOUBLE, DOUBLE, DOUBLE, DOUBLE) -> GEOMETRY\n\n\nLINE 4: ...    WHERE ST_Intersects(geometry, ST_GeomFromWKB(ST_Envelope(ST_MakeEnvelope(-122.5, 37.7, -122.3, 37.9, 4326))))\n                                                                        ^"
               ]
            }
         ],
         "source": [
            "# Example bbox query (minx, miny, maxx, maxy)\n",
            "bbox = [-122.5, 37.7, -122.3, 37.9]\n",
            "\n",
            "query = f\"ST_Intersects(geometry, ST_GeomFromWKB(ST_Envelope(ST_MakeEnvelope({bbox[0]}, {bbox[1]}, {bbox[2]}, {bbox[3]}, 4326))))\"\n",
            "\n",
            "search_stac_items(\"EuroSAT-small\", query)"
         ]
      },
      {
         "cell_type": "code",
         "execution_count": 63,
         "metadata": {},
         "outputs": [
            {
               "ename": "Exception",
               "evalue": "Binder Error: No function matches the given name and argument types 'ST_MakeEnvelope(DECIMAL(4,1), DECIMAL(3,1), DECIMAL(4,1), DECIMAL(3,1), INTEGER_LITERAL)'. You might need to add explicit type casts.\n\tCandidate functions:\n\tST_MakeEnvelope(DOUBLE, DOUBLE, DOUBLE, DOUBLE) -> GEOMETRY\n\n\nLINE 4: ...    WHERE ST_Intersects(geometry, ST_GeomFromWKB(ST_Envelope(ST_MakeEnvelope(-122.5, 37.7, -122.3, 37.9, 4326)))) AND...\n                                                                        ^",
               "output_type": "error",
               "traceback": [
                  "\u001b[0;31m---------------------------------------------------------------------------\u001b[0m",
                  "\u001b[0;31mException\u001b[0m                                 Traceback (most recent call last)",
                  "Cell \u001b[0;32mIn[63], line 4\u001b[0m\n\u001b[1;32m      1\u001b[0m \u001b[38;5;66;03m# Combine with other filters\u001b[39;00m\n\u001b[1;32m      2\u001b[0m query \u001b[38;5;241m=\u001b[39m \u001b[38;5;124mf\u001b[39m\u001b[38;5;124m\"\u001b[39m\u001b[38;5;124mST_Intersects(geometry, ST_GeomFromWKB(ST_Envelope(ST_MakeEnvelope(\u001b[39m\u001b[38;5;132;01m{\u001b[39;00mbbox[\u001b[38;5;241m0\u001b[39m]\u001b[38;5;132;01m}\u001b[39;00m\u001b[38;5;124m, \u001b[39m\u001b[38;5;132;01m{\u001b[39;00mbbox[\u001b[38;5;241m1\u001b[39m]\u001b[38;5;132;01m}\u001b[39;00m\u001b[38;5;124m, \u001b[39m\u001b[38;5;132;01m{\u001b[39;00mbbox[\u001b[38;5;241m2\u001b[39m]\u001b[38;5;132;01m}\u001b[39;00m\u001b[38;5;124m, \u001b[39m\u001b[38;5;132;01m{\u001b[39;00mbbox[\u001b[38;5;241m3\u001b[39m]\u001b[38;5;132;01m}\u001b[39;00m\u001b[38;5;124m, 4326)))) AND datetime > \u001b[39m\u001b[38;5;124m'\u001b[39m\u001b[38;5;124m2023-01-01\u001b[39m\u001b[38;5;124m'\u001b[39m\u001b[38;5;124m\"\u001b[39m\n\u001b[0;32m----> 4\u001b[0m \u001b[43msearch_stac_items\u001b[49m\u001b[43m(\u001b[49m\u001b[38;5;124;43m\"\u001b[39;49m\u001b[38;5;124;43mEuroSAT-RGBa123123\u001b[39;49m\u001b[38;5;124;43m\"\u001b[39;49m\u001b[43m,\u001b[49m\u001b[43m \u001b[49m\u001b[43mquery\u001b[49m\u001b[43m)\u001b[49m\n",
                  "File \u001b[0;32m~/Desktop/eotdl/eotdl/eotdl/curation/stac/api.py:49\u001b[0m, in \u001b[0;36msearch_stac_items\u001b[0;34m(collection_id, query)\u001b[0m\n\u001b[1;32m     47\u001b[0m data, error \u001b[38;5;241m=\u001b[39m repo\u001b[38;5;241m.\u001b[39msearch(collection_id, \u001b[38;5;28mstr\u001b[39m(query))\n\u001b[1;32m     48\u001b[0m \u001b[38;5;28;01mif\u001b[39;00m error:\n\u001b[0;32m---> 49\u001b[0m     \u001b[38;5;28;01mraise\u001b[39;00m \u001b[38;5;167;01mException\u001b[39;00m(error)\n\u001b[1;32m     50\u001b[0m \u001b[38;5;28;01mreturn\u001b[39;00m json\u001b[38;5;241m.\u001b[39mloads(data)\n",
                  "\u001b[0;31mException\u001b[0m: Binder Error: No function matches the given name and argument types 'ST_MakeEnvelope(DECIMAL(4,1), DECIMAL(3,1), DECIMAL(4,1), DECIMAL(3,1), INTEGER_LITERAL)'. You might need to add explicit type casts.\n\tCandidate functions:\n\tST_MakeEnvelope(DOUBLE, DOUBLE, DOUBLE, DOUBLE) -> GEOMETRY\n\n\nLINE 4: ...    WHERE ST_Intersects(geometry, ST_GeomFromWKB(ST_Envelope(ST_MakeEnvelope(-122.5, 37.7, -122.3, 37.9, 4326)))) AND...\n                                                                        ^"
               ]
            }
         ],
         "source": [
            "# Combine with other filters\n",
            "query = f\"ST_Intersects(geometry, ST_GeomFromWKB(ST_Envelope(ST_MakeEnvelope({bbox[0]}, {bbox[1]}, {bbox[2]}, {bbox[3]}, 4326)))) AND datetime > '2023-01-01'\"\n",
            "\n",
            "search_stac_items(\"EuroSAT-RGBa123123\", query)"
         ]
      },
      {
         "cell_type": "code",
         "execution_count": null,
         "metadata": {},
         "outputs": [],
         "source": []
      }
   ],
   "metadata": {
      "kernelspec": {
         "display_name": ".venv",
         "language": "python",
         "name": "python3"
      },
      "language_info": {
         "codemirror_mode": {
            "name": "ipython",
            "version": 3
         },
         "file_extension": ".py",
         "mimetype": "text/x-python",
         "name": "python",
         "nbconvert_exporter": "python",
         "pygments_lexer": "ipython3",
         "version": "3.12.9"
      }
   },
   "nbformat": 4,
   "nbformat_minor": 2
}
