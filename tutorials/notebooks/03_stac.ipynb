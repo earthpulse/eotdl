{
   "cells": [
      {
         "cell_type": "code",
         "execution_count": 1,
         "metadata": {},
         "outputs": [],
         "source": [
            "%load_ext autoreload\n",
            "%autoreload 2\n",
            "\n",
            "# import os\n",
            "# os.environ[\"EOTDL_API_URL\"] = \"http://localhost:8000/\""
         ]
      },
      {
         "attachments": {},
         "cell_type": "markdown",
         "metadata": {},
         "source": [
            "# STAC"
         ]
      },
      {
         "cell_type": "markdown",
         "metadata": {},
         "source": [
            "When you ingest a dataset to the EOTDL, a `catalog.parquet` file is created with the metadata of the dataset. This metadata is STAC-compliant, so it can be used to query the dataset using the STAC API and generate STAC catalogs."
         ]
      },
      {
         "cell_type": "markdown",
         "metadata": {},
         "source": [
            "# STAC Catalogs"
         ]
      },
      {
         "cell_type": "markdown",
         "metadata": {},
         "source": [
            "The following code will ingest a dataset to the EOTDL and create a `catalog.parquet` file with the metadata of the dataset."
         ]
      },
      {
         "cell_type": "code",
         "execution_count": 2,
         "metadata": {},
         "outputs": [
            {
               "name": "stdout",
               "output_type": "stream",
               "text": [
                  "Ingesting directory: example_data/EuroSAT-small\n"
               ]
            },
            {
               "name": "stderr",
               "output_type": "stream",
               "text": [
                  "Ingesting files: 100%|██████████| 7/7 [00:02<00:00,  2.70it/s]"
               ]
            },
            {
               "name": "stdout",
               "output_type": "stream",
               "text": [
                  "No new version was created, your dataset has not changed.\n"
               ]
            },
            {
               "name": "stderr",
               "output_type": "stream",
               "text": [
                  "\n"
               ]
            }
         ],
         "source": [
            "from eotdl.datasets import ingest_dataset\n",
            "\n",
            "path = \"example_data/EuroSAT-small\"\n",
            "ingest_dataset(path)"
         ]
      },
      {
         "cell_type": "code",
         "execution_count": 3,
         "metadata": {},
         "outputs": [
            {
               "data": {
                  "text/html": [
                     "<div>\n",
                     "<style scoped>\n",
                     "    .dataframe tbody tr th:only-of-type {\n",
                     "        vertical-align: middle;\n",
                     "    }\n",
                     "\n",
                     "    .dataframe tbody tr th {\n",
                     "        vertical-align: top;\n",
                     "    }\n",
                     "\n",
                     "    .dataframe thead th {\n",
                     "        text-align: right;\n",
                     "    }\n",
                     "</style>\n",
                     "<table border=\"1\" class=\"dataframe\">\n",
                     "  <thead>\n",
                     "    <tr style=\"text-align: right;\">\n",
                     "      <th></th>\n",
                     "      <th>type</th>\n",
                     "      <th>stac_version</th>\n",
                     "      <th>stac_extensions</th>\n",
                     "      <th>datetime</th>\n",
                     "      <th>id</th>\n",
                     "      <th>bbox</th>\n",
                     "      <th>geometry</th>\n",
                     "      <th>assets</th>\n",
                     "      <th>links</th>\n",
                     "      <th>repository</th>\n",
                     "    </tr>\n",
                     "  </thead>\n",
                     "  <tbody>\n",
                     "    <tr>\n",
                     "      <th>0</th>\n",
                     "      <td>Feature</td>\n",
                     "      <td>1.0.0</td>\n",
                     "      <td>[]</td>\n",
                     "      <td>2025-04-02 16:00:51.782652</td>\n",
                     "      <td>README.md</td>\n",
                     "      <td>{'xmax': 0.0, 'xmin': 0.0, 'ymax': 0.0, 'ymin'...</td>\n",
                     "      <td>POLYGON EMPTY</td>\n",
                     "      <td>{'asset': {'checksum': 'a6bb30a57d0f5ff0aaa65b...</td>\n",
                     "      <td>[]</td>\n",
                     "      <td>eotdl</td>\n",
                     "    </tr>\n",
                     "    <tr>\n",
                     "      <th>1</th>\n",
                     "      <td>Feature</td>\n",
                     "      <td>1.0.0</td>\n",
                     "      <td>[]</td>\n",
                     "      <td>2025-04-02 16:00:51.782784</td>\n",
                     "      <td>Forest/Forest_1.tif</td>\n",
                     "      <td>{'xmax': 0.0, 'xmin': 0.0, 'ymax': 0.0, 'ymin'...</td>\n",
                     "      <td>POLYGON EMPTY</td>\n",
                     "      <td>{'asset': {'checksum': 'f3b8b9fef6b2df6f24792e...</td>\n",
                     "      <td>[]</td>\n",
                     "      <td>eotdl</td>\n",
                     "    </tr>\n",
                     "    <tr>\n",
                     "      <th>2</th>\n",
                     "      <td>Feature</td>\n",
                     "      <td>1.0.0</td>\n",
                     "      <td>[]</td>\n",
                     "      <td>2025-04-02 16:00:51.782900</td>\n",
                     "      <td>Forest/Forest_2.tif</td>\n",
                     "      <td>{'xmax': 0.0, 'xmin': 0.0, 'ymax': 0.0, 'ymin'...</td>\n",
                     "      <td>POLYGON EMPTY</td>\n",
                     "      <td>{'asset': {'checksum': '2e38dab64435bfbab25bab...</td>\n",
                     "      <td>[]</td>\n",
                     "      <td>eotdl</td>\n",
                     "    </tr>\n",
                     "    <tr>\n",
                     "      <th>3</th>\n",
                     "      <td>Feature</td>\n",
                     "      <td>1.0.0</td>\n",
                     "      <td>[]</td>\n",
                     "      <td>2025-04-02 16:00:51.783005</td>\n",
                     "      <td>Forest/Forest_3.tif</td>\n",
                     "      <td>{'xmax': 0.0, 'xmin': 0.0, 'ymax': 0.0, 'ymin'...</td>\n",
                     "      <td>POLYGON EMPTY</td>\n",
                     "      <td>{'asset': {'checksum': '3e7bb982f9db5f7dabc556...</td>\n",
                     "      <td>[]</td>\n",
                     "      <td>eotdl</td>\n",
                     "    </tr>\n",
                     "    <tr>\n",
                     "      <th>4</th>\n",
                     "      <td>Feature</td>\n",
                     "      <td>1.0.0</td>\n",
                     "      <td>[]</td>\n",
                     "      <td>2025-04-02 16:00:51.783106</td>\n",
                     "      <td>AnnualCrop/AnnualCrop_2.tif</td>\n",
                     "      <td>{'xmax': 0.0, 'xmin': 0.0, 'ymax': 0.0, 'ymin'...</td>\n",
                     "      <td>POLYGON EMPTY</td>\n",
                     "      <td>{'asset': {'checksum': 'c406cb8920858b98898b9e...</td>\n",
                     "      <td>[]</td>\n",
                     "      <td>eotdl</td>\n",
                     "    </tr>\n",
                     "  </tbody>\n",
                     "</table>\n",
                     "</div>"
                  ],
                  "text/plain": [
                     "      type stac_version stac_extensions                   datetime  \\\n",
                     "0  Feature        1.0.0              [] 2025-04-02 16:00:51.782652   \n",
                     "1  Feature        1.0.0              [] 2025-04-02 16:00:51.782784   \n",
                     "2  Feature        1.0.0              [] 2025-04-02 16:00:51.782900   \n",
                     "3  Feature        1.0.0              [] 2025-04-02 16:00:51.783005   \n",
                     "4  Feature        1.0.0              [] 2025-04-02 16:00:51.783106   \n",
                     "\n",
                     "                            id  \\\n",
                     "0                    README.md   \n",
                     "1          Forest/Forest_1.tif   \n",
                     "2          Forest/Forest_2.tif   \n",
                     "3          Forest/Forest_3.tif   \n",
                     "4  AnnualCrop/AnnualCrop_2.tif   \n",
                     "\n",
                     "                                                bbox       geometry  \\\n",
                     "0  {'xmax': 0.0, 'xmin': 0.0, 'ymax': 0.0, 'ymin'...  POLYGON EMPTY   \n",
                     "1  {'xmax': 0.0, 'xmin': 0.0, 'ymax': 0.0, 'ymin'...  POLYGON EMPTY   \n",
                     "2  {'xmax': 0.0, 'xmin': 0.0, 'ymax': 0.0, 'ymin'...  POLYGON EMPTY   \n",
                     "3  {'xmax': 0.0, 'xmin': 0.0, 'ymax': 0.0, 'ymin'...  POLYGON EMPTY   \n",
                     "4  {'xmax': 0.0, 'xmin': 0.0, 'ymax': 0.0, 'ymin'...  POLYGON EMPTY   \n",
                     "\n",
                     "                                              assets links repository  \n",
                     "0  {'asset': {'checksum': 'a6bb30a57d0f5ff0aaa65b...    []      eotdl  \n",
                     "1  {'asset': {'checksum': 'f3b8b9fef6b2df6f24792e...    []      eotdl  \n",
                     "2  {'asset': {'checksum': '2e38dab64435bfbab25bab...    []      eotdl  \n",
                     "3  {'asset': {'checksum': '3e7bb982f9db5f7dabc556...    []      eotdl  \n",
                     "4  {'asset': {'checksum': 'c406cb8920858b98898b9e...    []      eotdl  "
                  ]
               },
               "execution_count": 3,
               "metadata": {},
               "output_type": "execute_result"
            }
         ],
         "source": [
            "import geopandas as gpd\n",
            "\n",
            "catalog = f\"{path}/catalog.parquet\"\n",
            "\n",
            "gdf = gpd.read_parquet(catalog)\n",
            "gdf.head()"
         ]
      },
      {
         "cell_type": "markdown",
         "metadata": {},
         "source": [
            "Since the metadata generated by the EOTDL is STAC-compliant, it can be used to automatically generate STAC catalogs."
         ]
      },
      {
         "cell_type": "code",
         "execution_count": 4,
         "metadata": {},
         "outputs": [
            {
               "name": "stderr",
               "output_type": "stream",
               "text": [
                  "  0%|          | 0/7 [00:00<?, ?it/s]"
               ]
            },
            {
               "name": "stderr",
               "output_type": "stream",
               "text": [
                  "100%|██████████| 7/7 [00:00<00:00, 229.49it/s]\n"
               ]
            },
            {
               "data": {
                  "text/plain": [
                     "[<Item id=README.md>,\n",
                     " <Item id=Forest/Forest_1.tif>,\n",
                     " <Item id=Forest/Forest_2.tif>,\n",
                     " <Item id=Forest/Forest_3.tif>,\n",
                     " <Item id=AnnualCrop/AnnualCrop_2.tif>,\n",
                     " <Item id=AnnualCrop/AnnualCrop_3.tif>,\n",
                     " <Item id=AnnualCrop/AnnualCrop_1.tif>]"
                  ]
               },
               "execution_count": 4,
               "metadata": {},
               "output_type": "execute_result"
            }
         ],
         "source": [
            "from eotdl.curation.stac import create_stac_catalog\n",
            "\n",
            "items = create_stac_catalog(catalog)\n",
            "\n",
            "items"
         ]
      },
      {
         "cell_type": "markdown",
         "metadata": {},
         "source": [
            "Optionally, you can create a STAC catalog / collection and link the items to it."
         ]
      },
      {
         "cell_type": "code",
         "execution_count": 5,
         "metadata": {},
         "outputs": [
            {
               "name": "stderr",
               "output_type": "stream",
               "text": [
                  "100%|██████████| 7/7 [00:00<00:00, 3785.47it/s]\n"
               ]
            },
            {
               "data": {
                  "text/html": [
                     "\n",
                     "\n",
                     "<style>\n",
                     ".pystac-summary {\n",
                     "    cursor: pointer;\n",
                     "    display: list-item;\n",
                     "    list-style: revert;\n",
                     "    margin-bottom: 0 !important;\n",
                     "\n",
                     "    .pystac-l {\n",
                     "        padding-left: 0.5em;\n",
                     "        color: rgb(64, 128, 128);\n",
                     "        font-style: italic;\n",
                     "    }\n",
                     "}\n",
                     ".pystac-row {\n",
                     "    overflow-wrap: break-word;\n",
                     "    padding-left: .825em;\n",
                     "\n",
                     "    .pystac-k {\n",
                     "        display: inline-block;\n",
                     "        margin: 0px 0.5em 0px 0px;\n",
                     "    }\n",
                     "    .pystac-v {\n",
                     "        color: rgb(186, 33, 33);\n",
                     "    }\n",
                     "}\n",
                     ".pystac-k {\n",
                     "    color: rgb(0, 128, 0);\n",
                     "    font-weight: 700;\n",
                     "}\n",
                     "</style>\n",
                     "<div class=\"jp-RenderedJSON jp-mod-trusted jp-OutputArea-output\">\n",
                     "    <div class=\"container\" style=\"line-height: normal;\">\n",
                     "        <ul style=\"padding: 0px; margin: 0px; list-style: none; display: block;\">\n",
                     "            \n",
                     "                \n",
                     "                    \n",
                     "        <li class=\"pystac-row\">\n",
                     "            <span class=\"pystac-k\">type</span>\n",
                     "            <span class=\"pystac-v\">\"Catalog\"</span>\n",
                     "        </li>\n",
                     "    \n",
                     "                \n",
                     "            \n",
                     "                \n",
                     "                    \n",
                     "        <li class=\"pystac-row\">\n",
                     "            <span class=\"pystac-k\">id</span>\n",
                     "            <span class=\"pystac-v\">\"eotdl-catalog\"</span>\n",
                     "        </li>\n",
                     "    \n",
                     "                \n",
                     "            \n",
                     "                \n",
                     "                    \n",
                     "        <li class=\"pystac-row\">\n",
                     "            <span class=\"pystac-k\">stac_version</span>\n",
                     "            <span class=\"pystac-v\">\"1.1.0\"</span>\n",
                     "        </li>\n",
                     "    \n",
                     "                \n",
                     "            \n",
                     "                \n",
                     "                    \n",
                     "        <li class=\"pystac-row\">\n",
                     "            <span class=\"pystac-k\">description</span>\n",
                     "            <span class=\"pystac-v\">\"EOTDL Catalog\"</span>\n",
                     "        </li>\n",
                     "    \n",
                     "                \n",
                     "            \n",
                     "                \n",
                     "                    <li><details>\n",
                     "        <summary class=\"pystac-summary\"><span class=\"pystac-k\">links</span><span class=\"pystac-l\">[] 7 items</span></summary>\n",
                     "        \n",
                     "            <ul style=\"margin: 0px; padding: 0px 0px 0px 1.75em; list-style: none; display: block;\">\n",
                     "        \n",
                     "            \n",
                     "                \n",
                     "        <li><details>\n",
                     "            <summary class=\"pystac-summary\"><span class=\"pystac-k\">0</span></summary>\n",
                     "            <ul style=\"margin: 0px; padding: 0px 0px 0px 1.75em; list-style: none; display: block;\">\n",
                     "        \n",
                     "            \n",
                     "                \n",
                     "        <li class=\"pystac-row\">\n",
                     "            <span class=\"pystac-k\">rel</span>\n",
                     "            <span class=\"pystac-v\">\"item\"</span>\n",
                     "        </li>\n",
                     "    \n",
                     "            \n",
                     "        \n",
                     "            \n",
                     "                \n",
                     "        <li class=\"pystac-row\">\n",
                     "            <span class=\"pystac-k\">href</span>\n",
                     "            <span class=\"pystac-v\">None</span>\n",
                     "        </li>\n",
                     "    \n",
                     "            \n",
                     "        \n",
                     "            \n",
                     "                \n",
                     "        <li class=\"pystac-row\">\n",
                     "            <span class=\"pystac-k\">type</span>\n",
                     "            <span class=\"pystac-v\">\"application/geo+json\"</span>\n",
                     "        </li>\n",
                     "    \n",
                     "            \n",
                     "        \n",
                     "    </ul>\n",
                     "        </details></li>\n",
                     "    \n",
                     "            \n",
                     "        \n",
                     "    </ul>\n",
                     "        \n",
                     "            <ul style=\"margin: 0px; padding: 0px 0px 0px 1.75em; list-style: none; display: block;\">\n",
                     "        \n",
                     "            \n",
                     "                \n",
                     "        <li><details>\n",
                     "            <summary class=\"pystac-summary\"><span class=\"pystac-k\">1</span></summary>\n",
                     "            <ul style=\"margin: 0px; padding: 0px 0px 0px 1.75em; list-style: none; display: block;\">\n",
                     "        \n",
                     "            \n",
                     "                \n",
                     "        <li class=\"pystac-row\">\n",
                     "            <span class=\"pystac-k\">rel</span>\n",
                     "            <span class=\"pystac-v\">\"item\"</span>\n",
                     "        </li>\n",
                     "    \n",
                     "            \n",
                     "        \n",
                     "            \n",
                     "                \n",
                     "        <li class=\"pystac-row\">\n",
                     "            <span class=\"pystac-k\">href</span>\n",
                     "            <span class=\"pystac-v\">None</span>\n",
                     "        </li>\n",
                     "    \n",
                     "            \n",
                     "        \n",
                     "            \n",
                     "                \n",
                     "        <li class=\"pystac-row\">\n",
                     "            <span class=\"pystac-k\">type</span>\n",
                     "            <span class=\"pystac-v\">\"application/geo+json\"</span>\n",
                     "        </li>\n",
                     "    \n",
                     "            \n",
                     "        \n",
                     "    </ul>\n",
                     "        </details></li>\n",
                     "    \n",
                     "            \n",
                     "        \n",
                     "    </ul>\n",
                     "        \n",
                     "            <ul style=\"margin: 0px; padding: 0px 0px 0px 1.75em; list-style: none; display: block;\">\n",
                     "        \n",
                     "            \n",
                     "                \n",
                     "        <li><details>\n",
                     "            <summary class=\"pystac-summary\"><span class=\"pystac-k\">2</span></summary>\n",
                     "            <ul style=\"margin: 0px; padding: 0px 0px 0px 1.75em; list-style: none; display: block;\">\n",
                     "        \n",
                     "            \n",
                     "                \n",
                     "        <li class=\"pystac-row\">\n",
                     "            <span class=\"pystac-k\">rel</span>\n",
                     "            <span class=\"pystac-v\">\"item\"</span>\n",
                     "        </li>\n",
                     "    \n",
                     "            \n",
                     "        \n",
                     "            \n",
                     "                \n",
                     "        <li class=\"pystac-row\">\n",
                     "            <span class=\"pystac-k\">href</span>\n",
                     "            <span class=\"pystac-v\">None</span>\n",
                     "        </li>\n",
                     "    \n",
                     "            \n",
                     "        \n",
                     "            \n",
                     "                \n",
                     "        <li class=\"pystac-row\">\n",
                     "            <span class=\"pystac-k\">type</span>\n",
                     "            <span class=\"pystac-v\">\"application/geo+json\"</span>\n",
                     "        </li>\n",
                     "    \n",
                     "            \n",
                     "        \n",
                     "    </ul>\n",
                     "        </details></li>\n",
                     "    \n",
                     "            \n",
                     "        \n",
                     "    </ul>\n",
                     "        \n",
                     "            <ul style=\"margin: 0px; padding: 0px 0px 0px 1.75em; list-style: none; display: block;\">\n",
                     "        \n",
                     "            \n",
                     "                \n",
                     "        <li><details>\n",
                     "            <summary class=\"pystac-summary\"><span class=\"pystac-k\">3</span></summary>\n",
                     "            <ul style=\"margin: 0px; padding: 0px 0px 0px 1.75em; list-style: none; display: block;\">\n",
                     "        \n",
                     "            \n",
                     "                \n",
                     "        <li class=\"pystac-row\">\n",
                     "            <span class=\"pystac-k\">rel</span>\n",
                     "            <span class=\"pystac-v\">\"item\"</span>\n",
                     "        </li>\n",
                     "    \n",
                     "            \n",
                     "        \n",
                     "            \n",
                     "                \n",
                     "        <li class=\"pystac-row\">\n",
                     "            <span class=\"pystac-k\">href</span>\n",
                     "            <span class=\"pystac-v\">None</span>\n",
                     "        </li>\n",
                     "    \n",
                     "            \n",
                     "        \n",
                     "            \n",
                     "                \n",
                     "        <li class=\"pystac-row\">\n",
                     "            <span class=\"pystac-k\">type</span>\n",
                     "            <span class=\"pystac-v\">\"application/geo+json\"</span>\n",
                     "        </li>\n",
                     "    \n",
                     "            \n",
                     "        \n",
                     "    </ul>\n",
                     "        </details></li>\n",
                     "    \n",
                     "            \n",
                     "        \n",
                     "    </ul>\n",
                     "        \n",
                     "            <ul style=\"margin: 0px; padding: 0px 0px 0px 1.75em; list-style: none; display: block;\">\n",
                     "        \n",
                     "            \n",
                     "                \n",
                     "        <li><details>\n",
                     "            <summary class=\"pystac-summary\"><span class=\"pystac-k\">4</span></summary>\n",
                     "            <ul style=\"margin: 0px; padding: 0px 0px 0px 1.75em; list-style: none; display: block;\">\n",
                     "        \n",
                     "            \n",
                     "                \n",
                     "        <li class=\"pystac-row\">\n",
                     "            <span class=\"pystac-k\">rel</span>\n",
                     "            <span class=\"pystac-v\">\"item\"</span>\n",
                     "        </li>\n",
                     "    \n",
                     "            \n",
                     "        \n",
                     "            \n",
                     "                \n",
                     "        <li class=\"pystac-row\">\n",
                     "            <span class=\"pystac-k\">href</span>\n",
                     "            <span class=\"pystac-v\">None</span>\n",
                     "        </li>\n",
                     "    \n",
                     "            \n",
                     "        \n",
                     "            \n",
                     "                \n",
                     "        <li class=\"pystac-row\">\n",
                     "            <span class=\"pystac-k\">type</span>\n",
                     "            <span class=\"pystac-v\">\"application/geo+json\"</span>\n",
                     "        </li>\n",
                     "    \n",
                     "            \n",
                     "        \n",
                     "    </ul>\n",
                     "        </details></li>\n",
                     "    \n",
                     "            \n",
                     "        \n",
                     "    </ul>\n",
                     "        \n",
                     "            <ul style=\"margin: 0px; padding: 0px 0px 0px 1.75em; list-style: none; display: block;\">\n",
                     "        \n",
                     "            \n",
                     "                \n",
                     "        <li><details>\n",
                     "            <summary class=\"pystac-summary\"><span class=\"pystac-k\">5</span></summary>\n",
                     "            <ul style=\"margin: 0px; padding: 0px 0px 0px 1.75em; list-style: none; display: block;\">\n",
                     "        \n",
                     "            \n",
                     "                \n",
                     "        <li class=\"pystac-row\">\n",
                     "            <span class=\"pystac-k\">rel</span>\n",
                     "            <span class=\"pystac-v\">\"item\"</span>\n",
                     "        </li>\n",
                     "    \n",
                     "            \n",
                     "        \n",
                     "            \n",
                     "                \n",
                     "        <li class=\"pystac-row\">\n",
                     "            <span class=\"pystac-k\">href</span>\n",
                     "            <span class=\"pystac-v\">None</span>\n",
                     "        </li>\n",
                     "    \n",
                     "            \n",
                     "        \n",
                     "            \n",
                     "                \n",
                     "        <li class=\"pystac-row\">\n",
                     "            <span class=\"pystac-k\">type</span>\n",
                     "            <span class=\"pystac-v\">\"application/geo+json\"</span>\n",
                     "        </li>\n",
                     "    \n",
                     "            \n",
                     "        \n",
                     "    </ul>\n",
                     "        </details></li>\n",
                     "    \n",
                     "            \n",
                     "        \n",
                     "    </ul>\n",
                     "        \n",
                     "            <ul style=\"margin: 0px; padding: 0px 0px 0px 1.75em; list-style: none; display: block;\">\n",
                     "        \n",
                     "            \n",
                     "                \n",
                     "        <li><details>\n",
                     "            <summary class=\"pystac-summary\"><span class=\"pystac-k\">6</span></summary>\n",
                     "            <ul style=\"margin: 0px; padding: 0px 0px 0px 1.75em; list-style: none; display: block;\">\n",
                     "        \n",
                     "            \n",
                     "                \n",
                     "        <li class=\"pystac-row\">\n",
                     "            <span class=\"pystac-k\">rel</span>\n",
                     "            <span class=\"pystac-v\">\"item\"</span>\n",
                     "        </li>\n",
                     "    \n",
                     "            \n",
                     "        \n",
                     "            \n",
                     "                \n",
                     "        <li class=\"pystac-row\">\n",
                     "            <span class=\"pystac-k\">href</span>\n",
                     "            <span class=\"pystac-v\">None</span>\n",
                     "        </li>\n",
                     "    \n",
                     "            \n",
                     "        \n",
                     "            \n",
                     "                \n",
                     "        <li class=\"pystac-row\">\n",
                     "            <span class=\"pystac-k\">type</span>\n",
                     "            <span class=\"pystac-v\">\"application/geo+json\"</span>\n",
                     "        </li>\n",
                     "    \n",
                     "            \n",
                     "        \n",
                     "    </ul>\n",
                     "        </details></li>\n",
                     "    \n",
                     "            \n",
                     "        \n",
                     "    </ul>\n",
                     "        \n",
                     "    </details></li>\n",
                     "                \n",
                     "            \n",
                     "                \n",
                     "                    \n",
                     "        <li class=\"pystac-row\">\n",
                     "            <span class=\"pystac-k\">title</span>\n",
                     "            <span class=\"pystac-v\">\"EOTDL Catalog\"</span>\n",
                     "        </li>\n",
                     "    \n",
                     "                \n",
                     "            \n",
                     "        </ul>\n",
                     "    </div>\n",
                     "</div>"
                  ],
                  "text/plain": [
                     "<Catalog id=eotdl-catalog>"
                  ]
               },
               "execution_count": 5,
               "metadata": {},
               "output_type": "execute_result"
            }
         ],
         "source": [
            "from eotdl.curation.stac import create_stac_catalog\n",
            "import pystac\n",
            "\n",
            "stac_catalog = pystac.Catalog(\n",
            "\tid = \"eotdl-catalog\",\n",
            "\tdescription = \"EOTDL Catalog\",\n",
            "\ttitle = \"EOTDL Catalog\",\n",
            "\tstac_extensions = [],\n",
            "\textra_fields = {},\n",
            ")\n",
            "\n",
            "stac_catalog = create_stac_catalog(catalog, stac_catalog)\n",
            "\n",
            "stac_catalog"
         ]
      },
      {
         "cell_type": "markdown",
         "metadata": {},
         "source": [
            "Either way, once the STAC metadata is generated, can be saved to disk."
         ]
      },
      {
         "cell_type": "code",
         "execution_count": 6,
         "metadata": {},
         "outputs": [],
         "source": [
            "stac_catalog.normalize_and_save(\n",
            "\troot_href='data/stac',\n",
            "\tcatalog_type=pystac.CatalogType.SELF_CONTAINED\n",
            ")"
         ]
      },
      {
         "cell_type": "markdown",
         "metadata": {},
         "source": [
            "Keep in mind that if the original dataset already has STAC metadata, it will be overwritten."
         ]
      },
      {
         "cell_type": "markdown",
         "metadata": {},
         "source": [
            "# STAC API"
         ]
      },
      {
         "cell_type": "markdown",
         "metadata": {},
         "source": [
            "You can interact with EOTDL via its STAC API, both with the `eotdl` CLI and the Python API."
         ]
      },
      {
         "cell_type": "code",
         "execution_count": 8,
         "metadata": {},
         "outputs": [
            {
               "name": "stdout",
               "output_type": "stream",
               "text": [
                  "{'message': 'Welcome to the STAC API'}\n"
               ]
            }
         ],
         "source": [
            "!eotdl stac status"
         ]
      },
      {
         "cell_type": "markdown",
         "metadata": {},
         "source": [
            "Explore collections"
         ]
      },
      {
         "cell_type": "code",
         "execution_count": 9,
         "metadata": {},
         "outputs": [
            {
               "name": "stdout",
               "output_type": "stream",
               "text": [
                  "['Test-links', 'EuroSAT-RGB-small-STAC', 'EuroSAT-small']\n"
               ]
            }
         ],
         "source": [
            "!eotdl stac collections"
         ]
      },
      {
         "cell_type": "code",
         "execution_count": 10,
         "metadata": {},
         "outputs": [
            {
               "data": {
                  "text/plain": [
                     "['Test-links', 'EuroSAT-RGB-small-STAC', 'EuroSAT-small']"
                  ]
               },
               "execution_count": 10,
               "metadata": {},
               "output_type": "execute_result"
            }
         ],
         "source": [
            "from eotdl.curation.stac.api import retrieve_stac_collections\n",
            "\n",
            "retrieve_stac_collections()"
         ]
      },
      {
         "cell_type": "markdown",
         "metadata": {},
         "source": [
            "Retrieve one collection"
         ]
      },
      {
         "cell_type": "code",
         "execution_count": 11,
         "metadata": {},
         "outputs": [
            {
               "name": "stdout",
               "output_type": "stream",
               "text": [
                  "{'uid': 'auth0|616b0057af0c7500691a026e', 'id': '67e2be7c27175b2e6770a02f', 'name': 'EuroSAT-small', 'metadata': {'authors': ['Juan B. Pedro'], 'license': 'free', 'source': 'https://github.com/earthpulse/eotdl/blob/main/tutorials/notebooks/02_ingesting.ipynb', 'description': '# EuroSAT-small\\n\\nThis is a small subet of the EuroSAT dataset.', 'thumbnail': ''}, 'versions': [{'version_id': 1, 'createdAt': '2025-03-25T15:31:29.364000', 'size': 643691}, {'version_id': 2, 'createdAt': '2025-03-25T16:28:11.657000', 'size': 643710}], 'tags': [], 'createdAt': '2025-03-25T15:32:28.164000', 'updatedAt': '2025-03-25T15:32:28.164000', 'likes': 0, 'downloads': 0, 'quality': 0}\n"
               ]
            }
         ],
         "source": [
            "!eotdl stac collection EuroSAT-small"
         ]
      },
      {
         "cell_type": "code",
         "execution_count": 12,
         "metadata": {},
         "outputs": [
            {
               "data": {
                  "text/plain": [
                     "{'uid': 'auth0|616b0057af0c7500691a026e',\n",
                     " 'id': '67e2be7c27175b2e6770a02f',\n",
                     " 'name': 'EuroSAT-small',\n",
                     " 'metadata': {'authors': ['Juan B. Pedro'],\n",
                     "  'license': 'free',\n",
                     "  'source': 'https://github.com/earthpulse/eotdl/blob/main/tutorials/notebooks/02_ingesting.ipynb',\n",
                     "  'description': '# EuroSAT-small\\n\\nThis is a small subet of the EuroSAT dataset.',\n",
                     "  'thumbnail': ''},\n",
                     " 'versions': [{'version_id': 1,\n",
                     "   'createdAt': '2025-03-25T15:31:29.364000',\n",
                     "   'size': 643691},\n",
                     "  {'version_id': 2,\n",
                     "   'createdAt': '2025-03-25T16:28:11.657000',\n",
                     "   'size': 643710}],\n",
                     " 'tags': [],\n",
                     " 'createdAt': '2025-03-25T15:32:28.164000',\n",
                     " 'updatedAt': '2025-03-25T15:32:28.164000',\n",
                     " 'likes': 0,\n",
                     " 'downloads': 0,\n",
                     " 'quality': 0}"
                  ]
               },
               "execution_count": 12,
               "metadata": {},
               "output_type": "execute_result"
            }
         ],
         "source": [
            "from eotdl.curation.stac.api import retrieve_stac_collection\n",
            "\n",
            "retrieve_stac_collection(\"EuroSAT-small\")"
         ]
      },
      {
         "cell_type": "markdown",
         "metadata": {},
         "source": [
            "Retrieve items"
         ]
      },
      {
         "cell_type": "code",
         "execution_count": 13,
         "metadata": {},
         "outputs": [
            {
               "name": "stdout",
               "output_type": "stream",
               "text": [
                  "['README.md', 'Forest/Forest_1.tif', 'Forest/Forest_2.tif', 'Forest/Forest_3.tif', 'AnnualCrop/AnnualCrop_2.tif', 'AnnualCrop/AnnualCrop_3.tif', 'AnnualCrop/AnnualCrop_1.tif']\n"
               ]
            }
         ],
         "source": [
            "!eotdl stac items EuroSAT-small"
         ]
      },
      {
         "cell_type": "code",
         "execution_count": 14,
         "metadata": {},
         "outputs": [
            {
               "data": {
                  "text/plain": [
                     "['README.md',\n",
                     " 'Forest/Forest_1.tif',\n",
                     " 'Forest/Forest_2.tif',\n",
                     " 'Forest/Forest_3.tif',\n",
                     " 'AnnualCrop/AnnualCrop_2.tif',\n",
                     " 'AnnualCrop/AnnualCrop_3.tif',\n",
                     " 'AnnualCrop/AnnualCrop_1.tif']"
                  ]
               },
               "execution_count": 14,
               "metadata": {},
               "output_type": "execute_result"
            }
         ],
         "source": [
            "from eotdl.curation.stac.api import retrieve_stac_items\n",
            "\n",
            "retrieve_stac_items(\"EuroSAT-small\")"
         ]
      },
      {
         "cell_type": "markdown",
         "metadata": {},
         "source": [
            "Retrieve one item"
         ]
      },
      {
         "cell_type": "code",
         "execution_count": 15,
         "metadata": {},
         "outputs": [
            {
               "name": "stdout",
               "output_type": "stream",
               "text": [
                  "{'type': 'Feature', 'stac_version': '1.0.0', 'stac_extensions': {}, 'datetime': '2025-03-25T15:32:28.130806', 'id': 'README.md', 'bbox': {'xmax': 0.0, 'xmin': 0.0, 'ymax': 0.0, 'ymin': 0.0}, 'geometry': '\\x01\\x03\\x00\\x00\\x00\\x00\\x00\\x00\\x00', 'assets': {'asset': {'checksum': 'a6bb30a57d0f5ff0aaa65b46d7c1eb16cbced43c', 'href': 'http://localhost:8000/datasets/67e2be7c27175b2e6770a02f/stage/README.md', 'size': 227, 'timestamp': '2025-03-25T15:32:28.130902'}}, 'links': {}, 'repository': 'eotdl'}\n"
               ]
            }
         ],
         "source": [
            "!eotdl stac item EuroSAT-small README.md"
         ]
      },
      {
         "cell_type": "code",
         "execution_count": 16,
         "metadata": {},
         "outputs": [
            {
               "data": {
                  "text/plain": [
                     "{'type': 'Feature',\n",
                     " 'stac_version': '1.0.0',\n",
                     " 'stac_extensions': {},\n",
                     " 'datetime': '2025-03-25T15:32:28.130806',\n",
                     " 'id': 'README.md',\n",
                     " 'bbox': {'xmax': 0.0, 'xmin': 0.0, 'ymax': 0.0, 'ymin': 0.0},\n",
                     " 'geometry': '\\x01\\x03\\x00\\x00\\x00\\x00\\x00\\x00\\x00',\n",
                     " 'assets': {'asset': {'checksum': 'a6bb30a57d0f5ff0aaa65b46d7c1eb16cbced43c',\n",
                     "   'href': 'http://localhost:8000/datasets/67e2be7c27175b2e6770a02f/stage/README.md',\n",
                     "   'size': 227,\n",
                     "   'timestamp': '2025-03-25T15:32:28.130902'}},\n",
                     " 'links': {},\n",
                     " 'repository': 'eotdl'}"
                  ]
               },
               "execution_count": 16,
               "metadata": {},
               "output_type": "execute_result"
            }
         ],
         "source": [
            "from eotdl.curation.stac.api import retrieve_stac_item\n",
            "\n",
            "retrieve_stac_item(\"EuroSAT-small\", \"README.md\")"
         ]
      },
      {
         "cell_type": "markdown",
         "metadata": {},
         "source": [
            "Search items using SQL queries (duckdb)"
         ]
      },
      {
         "cell_type": "code",
         "execution_count": 28,
         "metadata": {},
         "outputs": [
            {
               "name": "stdout",
               "output_type": "stream",
               "text": [
                  "[{'type': 'Feature', 'stac_version': '1.0.0', 'stac_extensions': [], 'datetime': 1742916748130, 'id': 'README.md', 'bbox': {'xmax': 0.0, 'xmin': 0.0, 'ymax': 0.0, 'ymin': 0.0}, 'geometry': {}, 'assets': {'asset': {'checksum': 'a6bb30a57d0f5ff0aaa65b46d7c1eb16cbced43c', 'href': 'http://localhost:8000/datasets/67e2be7c27175b2e6770a02f/stage/README.md', 'size': 227, 'timestamp': 1742916748130}}, 'links': [], 'repository': 'eotdl'}, {'type': 'Feature', 'stac_version': '1.0.0', 'stac_extensions': [], 'datetime': 1742916748131, 'id': 'Forest/Forest_3.tif', 'bbox': {'xmax': 0.0, 'xmin': 0.0, 'ymax': 0.0, 'ymin': 0.0}, 'geometry': {}, 'assets': {'asset': {'checksum': '3e7bb982f9db5f7dabc556016c3d081dfb1fb73d', 'href': 'http://localhost:8000/datasets/67e2be7c27175b2e6770a02f/stage/Forest/Forest_3.tif', 'size': 107244, 'timestamp': 1742916748131}}, 'links': [], 'repository': 'eotdl'}]\n"
               ]
            }
         ],
         "source": [
            "!eotdl stac search EuroSAT-small --query \"id IN ('README.md', 'Forest/Forest_3.tif')\""
         ]
      },
      {
         "cell_type": "code",
         "execution_count": 29,
         "metadata": {},
         "outputs": [
            {
               "data": {
                  "text/plain": [
                     "[{'type': 'Feature',\n",
                     "  'stac_version': '1.0.0',\n",
                     "  'stac_extensions': [],\n",
                     "  'datetime': 1742916748130,\n",
                     "  'id': 'README.md',\n",
                     "  'bbox': {'xmax': 0.0, 'xmin': 0.0, 'ymax': 0.0, 'ymin': 0.0},\n",
                     "  'geometry': {},\n",
                     "  'assets': {'asset': {'checksum': 'a6bb30a57d0f5ff0aaa65b46d7c1eb16cbced43c',\n",
                     "    'href': 'http://localhost:8000/datasets/67e2be7c27175b2e6770a02f/stage/README.md',\n",
                     "    'size': 227,\n",
                     "    'timestamp': 1742916748130}},\n",
                     "  'links': [],\n",
                     "  'repository': 'eotdl'},\n",
                     " {'type': 'Feature',\n",
                     "  'stac_version': '1.0.0',\n",
                     "  'stac_extensions': [],\n",
                     "  'datetime': 1742916748131,\n",
                     "  'id': 'Forest/Forest_3.tif',\n",
                     "  'bbox': {'xmax': 0.0, 'xmin': 0.0, 'ymax': 0.0, 'ymin': 0.0},\n",
                     "  'geometry': {},\n",
                     "  'assets': {'asset': {'checksum': '3e7bb982f9db5f7dabc556016c3d081dfb1fb73d',\n",
                     "    'href': 'http://localhost:8000/datasets/67e2be7c27175b2e6770a02f/stage/Forest/Forest_3.tif',\n",
                     "    'size': 107244,\n",
                     "    'timestamp': 1742916748131}},\n",
                     "  'links': [],\n",
                     "  'repository': 'eotdl'}]"
                  ]
               },
               "execution_count": 29,
               "metadata": {},
               "output_type": "execute_result"
            }
         ],
         "source": [
            "from eotdl.curation.stac.api import search_stac_items\n",
            "\n",
            "query = \"id IN ('README.md', 'Forest/Forest_3.tif')\"\n",
            "\n",
            "search_stac_items(\"EuroSAT-small\", query)"
         ]
      },
      {
         "cell_type": "markdown",
         "metadata": {},
         "source": [
            "You can retrieve a list of fields available for a search query"
         ]
      },
      {
         "cell_type": "code",
         "execution_count": 31,
         "metadata": {},
         "outputs": [
            {
               "name": "stdout",
               "output_type": "stream",
               "text": [
                  "{'schema': None, 'type': 'BYTE_ARRAY', 'stac_version': 'BYTE_ARRAY', 'stac_extensions': None, 'list': None, 'element': 'INT32', 'datetime': 'INT64', 'id': 'BYTE_ARRAY', 'bbox': None, 'xmax': 'DOUBLE', 'xmin': 'DOUBLE', 'ymax': 'DOUBLE', 'ymin': 'DOUBLE', 'geometry': 'BYTE_ARRAY', 'assets': None, 'asset': None, 'checksum': 'BYTE_ARRAY', 'href': 'BYTE_ARRAY', 'size': 'INT64', 'timestamp': 'INT64', 'links': None, 'repository': 'BYTE_ARRAY'}\n"
               ]
            }
         ],
         "source": [
            "!eotdl stac search EuroSAT-small"
         ]
      },
      {
         "cell_type": "code",
         "execution_count": 32,
         "metadata": {},
         "outputs": [
            {
               "data": {
                  "text/plain": [
                     "{'schema': None,\n",
                     " 'type': 'BYTE_ARRAY',\n",
                     " 'stac_version': 'BYTE_ARRAY',\n",
                     " 'stac_extensions': None,\n",
                     " 'list': None,\n",
                     " 'element': 'INT32',\n",
                     " 'datetime': 'INT64',\n",
                     " 'id': 'BYTE_ARRAY',\n",
                     " 'bbox': None,\n",
                     " 'xmax': 'DOUBLE',\n",
                     " 'xmin': 'DOUBLE',\n",
                     " 'ymax': 'DOUBLE',\n",
                     " 'ymin': 'DOUBLE',\n",
                     " 'geometry': 'BYTE_ARRAY',\n",
                     " 'assets': None,\n",
                     " 'asset': None,\n",
                     " 'checksum': 'BYTE_ARRAY',\n",
                     " 'href': 'BYTE_ARRAY',\n",
                     " 'size': 'INT64',\n",
                     " 'timestamp': 'INT64',\n",
                     " 'links': None,\n",
                     " 'repository': 'BYTE_ARRAY'}"
                  ]
               },
               "execution_count": 32,
               "metadata": {},
               "output_type": "execute_result"
            }
         ],
         "source": [
            "search_stac_items(\"EuroSAT-small\")"
         ]
      },
      {
         "cell_type": "markdown",
         "metadata": {},
         "source": [
            "TODO: make spatial queries work"
         ]
      },
      {
         "cell_type": "code",
         "execution_count": 33,
         "metadata": {},
         "outputs": [
            {
               "ename": "Exception",
               "evalue": "Binder Error: No function matches the given name and argument types 'ST_MakeEnvelope(DECIMAL(4,1), DECIMAL(3,1), DECIMAL(4,1), DECIMAL(3,1), INTEGER_LITERAL)'. You might need to add explicit type casts.\n\tCandidate functions:\n\tST_MakeEnvelope(DOUBLE, DOUBLE, DOUBLE, DOUBLE) -> GEOMETRY\n\n\nLINE 4: ...    WHERE ST_Intersects(geometry, ST_GeomFromWKB(ST_Envelope(ST_MakeEnvelope(-122.5, 37.7, -122.3, 37.9, 4326))))\n                                                                        ^",
               "output_type": "error",
               "traceback": [
                  "\u001b[0;31m---------------------------------------------------------------------------\u001b[0m",
                  "\u001b[0;31mException\u001b[0m                                 Traceback (most recent call last)",
                  "Cell \u001b[0;32mIn[33], line 6\u001b[0m\n\u001b[1;32m      2\u001b[0m bbox \u001b[38;5;241m=\u001b[39m [\u001b[38;5;241m-\u001b[39m\u001b[38;5;241m122.5\u001b[39m, \u001b[38;5;241m37.7\u001b[39m, \u001b[38;5;241m-\u001b[39m\u001b[38;5;241m122.3\u001b[39m, \u001b[38;5;241m37.9\u001b[39m]\n\u001b[1;32m      4\u001b[0m query \u001b[38;5;241m=\u001b[39m \u001b[38;5;124mf\u001b[39m\u001b[38;5;124m\"\u001b[39m\u001b[38;5;124mST_Intersects(geometry, ST_GeomFromWKB(ST_Envelope(ST_MakeEnvelope(\u001b[39m\u001b[38;5;132;01m{\u001b[39;00mbbox[\u001b[38;5;241m0\u001b[39m]\u001b[38;5;132;01m}\u001b[39;00m\u001b[38;5;124m, \u001b[39m\u001b[38;5;132;01m{\u001b[39;00mbbox[\u001b[38;5;241m1\u001b[39m]\u001b[38;5;132;01m}\u001b[39;00m\u001b[38;5;124m, \u001b[39m\u001b[38;5;132;01m{\u001b[39;00mbbox[\u001b[38;5;241m2\u001b[39m]\u001b[38;5;132;01m}\u001b[39;00m\u001b[38;5;124m, \u001b[39m\u001b[38;5;132;01m{\u001b[39;00mbbox[\u001b[38;5;241m3\u001b[39m]\u001b[38;5;132;01m}\u001b[39;00m\u001b[38;5;124m, 4326))))\u001b[39m\u001b[38;5;124m\"\u001b[39m\n\u001b[0;32m----> 6\u001b[0m \u001b[43msearch_stac_items\u001b[49m\u001b[43m(\u001b[49m\u001b[38;5;124;43m\"\u001b[39;49m\u001b[38;5;124;43mEuroSAT-small\u001b[39;49m\u001b[38;5;124;43m\"\u001b[39;49m\u001b[43m,\u001b[49m\u001b[43m \u001b[49m\u001b[43mquery\u001b[49m\u001b[43m)\u001b[49m\n",
                  "File \u001b[0;32m~/Desktop/eotdl/eotdl/eotdl/curation/stac/api.py:49\u001b[0m, in \u001b[0;36msearch_stac_items\u001b[0;34m(collection_id, query)\u001b[0m\n\u001b[1;32m     47\u001b[0m data, error \u001b[38;5;241m=\u001b[39m repo\u001b[38;5;241m.\u001b[39msearch(collection_id, \u001b[38;5;28mstr\u001b[39m(query))\n\u001b[1;32m     48\u001b[0m \u001b[38;5;28;01mif\u001b[39;00m error:\n\u001b[0;32m---> 49\u001b[0m     \u001b[38;5;28;01mraise\u001b[39;00m \u001b[38;5;167;01mException\u001b[39;00m(error)\n\u001b[1;32m     50\u001b[0m \u001b[38;5;28;01mreturn\u001b[39;00m json\u001b[38;5;241m.\u001b[39mloads(data)\n",
                  "\u001b[0;31mException\u001b[0m: Binder Error: No function matches the given name and argument types 'ST_MakeEnvelope(DECIMAL(4,1), DECIMAL(3,1), DECIMAL(4,1), DECIMAL(3,1), INTEGER_LITERAL)'. You might need to add explicit type casts.\n\tCandidate functions:\n\tST_MakeEnvelope(DOUBLE, DOUBLE, DOUBLE, DOUBLE) -> GEOMETRY\n\n\nLINE 4: ...    WHERE ST_Intersects(geometry, ST_GeomFromWKB(ST_Envelope(ST_MakeEnvelope(-122.5, 37.7, -122.3, 37.9, 4326))))\n                                                                        ^"
               ]
            }
         ],
         "source": [
            "# Example bbox query (minx, miny, maxx, maxy)\n",
            "bbox = [-122.5, 37.7, -122.3, 37.9]\n",
            "\n",
            "query = f\"ST_Intersects(geometry, ST_GeomFromWKB(ST_Envelope(ST_MakeEnvelope({bbox[0]}, {bbox[1]}, {bbox[2]}, {bbox[3]}, 4326))))\"\n",
            "\n",
            "search_stac_items(\"EuroSAT-small\", query)"
         ]
      },
      {
         "cell_type": "code",
         "execution_count": 63,
         "metadata": {},
         "outputs": [
            {
               "ename": "Exception",
               "evalue": "Binder Error: No function matches the given name and argument types 'ST_MakeEnvelope(DECIMAL(4,1), DECIMAL(3,1), DECIMAL(4,1), DECIMAL(3,1), INTEGER_LITERAL)'. You might need to add explicit type casts.\n\tCandidate functions:\n\tST_MakeEnvelope(DOUBLE, DOUBLE, DOUBLE, DOUBLE) -> GEOMETRY\n\n\nLINE 4: ...    WHERE ST_Intersects(geometry, ST_GeomFromWKB(ST_Envelope(ST_MakeEnvelope(-122.5, 37.7, -122.3, 37.9, 4326)))) AND...\n                                                                        ^",
               "output_type": "error",
               "traceback": [
                  "\u001b[0;31m---------------------------------------------------------------------------\u001b[0m",
                  "\u001b[0;31mException\u001b[0m                                 Traceback (most recent call last)",
                  "Cell \u001b[0;32mIn[63], line 4\u001b[0m\n\u001b[1;32m      1\u001b[0m \u001b[38;5;66;03m# Combine with other filters\u001b[39;00m\n\u001b[1;32m      2\u001b[0m query \u001b[38;5;241m=\u001b[39m \u001b[38;5;124mf\u001b[39m\u001b[38;5;124m\"\u001b[39m\u001b[38;5;124mST_Intersects(geometry, ST_GeomFromWKB(ST_Envelope(ST_MakeEnvelope(\u001b[39m\u001b[38;5;132;01m{\u001b[39;00mbbox[\u001b[38;5;241m0\u001b[39m]\u001b[38;5;132;01m}\u001b[39;00m\u001b[38;5;124m, \u001b[39m\u001b[38;5;132;01m{\u001b[39;00mbbox[\u001b[38;5;241m1\u001b[39m]\u001b[38;5;132;01m}\u001b[39;00m\u001b[38;5;124m, \u001b[39m\u001b[38;5;132;01m{\u001b[39;00mbbox[\u001b[38;5;241m2\u001b[39m]\u001b[38;5;132;01m}\u001b[39;00m\u001b[38;5;124m, \u001b[39m\u001b[38;5;132;01m{\u001b[39;00mbbox[\u001b[38;5;241m3\u001b[39m]\u001b[38;5;132;01m}\u001b[39;00m\u001b[38;5;124m, 4326)))) AND datetime > \u001b[39m\u001b[38;5;124m'\u001b[39m\u001b[38;5;124m2023-01-01\u001b[39m\u001b[38;5;124m'\u001b[39m\u001b[38;5;124m\"\u001b[39m\n\u001b[0;32m----> 4\u001b[0m \u001b[43msearch_stac_items\u001b[49m\u001b[43m(\u001b[49m\u001b[38;5;124;43m\"\u001b[39;49m\u001b[38;5;124;43mEuroSAT-RGBa123123\u001b[39;49m\u001b[38;5;124;43m\"\u001b[39;49m\u001b[43m,\u001b[49m\u001b[43m \u001b[49m\u001b[43mquery\u001b[49m\u001b[43m)\u001b[49m\n",
                  "File \u001b[0;32m~/Desktop/eotdl/eotdl/eotdl/curation/stac/api.py:49\u001b[0m, in \u001b[0;36msearch_stac_items\u001b[0;34m(collection_id, query)\u001b[0m\n\u001b[1;32m     47\u001b[0m data, error \u001b[38;5;241m=\u001b[39m repo\u001b[38;5;241m.\u001b[39msearch(collection_id, \u001b[38;5;28mstr\u001b[39m(query))\n\u001b[1;32m     48\u001b[0m \u001b[38;5;28;01mif\u001b[39;00m error:\n\u001b[0;32m---> 49\u001b[0m     \u001b[38;5;28;01mraise\u001b[39;00m \u001b[38;5;167;01mException\u001b[39;00m(error)\n\u001b[1;32m     50\u001b[0m \u001b[38;5;28;01mreturn\u001b[39;00m json\u001b[38;5;241m.\u001b[39mloads(data)\n",
                  "\u001b[0;31mException\u001b[0m: Binder Error: No function matches the given name and argument types 'ST_MakeEnvelope(DECIMAL(4,1), DECIMAL(3,1), DECIMAL(4,1), DECIMAL(3,1), INTEGER_LITERAL)'. You might need to add explicit type casts.\n\tCandidate functions:\n\tST_MakeEnvelope(DOUBLE, DOUBLE, DOUBLE, DOUBLE) -> GEOMETRY\n\n\nLINE 4: ...    WHERE ST_Intersects(geometry, ST_GeomFromWKB(ST_Envelope(ST_MakeEnvelope(-122.5, 37.7, -122.3, 37.9, 4326)))) AND...\n                                                                        ^"
               ]
            }
         ],
         "source": [
            "# Combine with other filters\n",
            "query = f\"ST_Intersects(geometry, ST_GeomFromWKB(ST_Envelope(ST_MakeEnvelope({bbox[0]}, {bbox[1]}, {bbox[2]}, {bbox[3]}, 4326)))) AND datetime > '2023-01-01'\"\n",
            "\n",
            "search_stac_items(\"EuroSAT-RGBa123123\", query)"
         ]
      }
   ],
   "metadata": {
      "kernelspec": {
         "display_name": ".venv",
         "language": "python",
         "name": "python3"
      },
      "language_info": {
         "codemirror_mode": {
            "name": "ipython",
            "version": 3
         },
         "file_extension": ".py",
         "mimetype": "text/x-python",
         "name": "python",
         "nbconvert_exporter": "python",
         "pygments_lexer": "ipython3",
         "version": "3.12.9"
      }
   },
   "nbformat": 4,
   "nbformat_minor": 2
}
