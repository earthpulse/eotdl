{
 "cells": [
  {
   "cell_type": "code",
   "execution_count": 4,
   "metadata": {},
   "outputs": [
    {
     "name": "stdout",
     "output_type": "stream",
     "text": [
      "The autoreload extension is already loaded. To reload it, use:\n",
      "  %reload_ext autoreload\n"
     ]
    }
   ],
   "source": [
    "%load_ext autoreload\n",
    "%autoreload 2"
   ]
  },
  {
   "cell_type": "markdown",
   "metadata": {},
   "source": [
    "# Q0 Training Datasets"
   ]
  },
  {
   "cell_type": "markdown",
   "metadata": {},
   "source": [
    "Training Datasets (TDS) in EOTDL are categorized into different [quality levels](https://eotdl.com/docs/datasets/quality), which in trun will impact on the range of functionality that will be available for each dataset.\n",
    "\n",
    "In this tutorial you will learn about Q0 datsets, the lowest quality level. Q0 datasets are datasets with minimal standardized metadata. This level is ideal for easy and fast upload/download of small datasets."
   ]
  },
  {
   "cell_type": "markdown",
   "metadata": {},
   "source": [
    "##  Explore datasets"
   ]
  },
  {
   "cell_type": "markdown",
   "metadata": {},
   "source": [
    "One of the first things that you may want to do within EOTDL is to explore the available datasets. You can do this at all accesibility layers.\n",
    "\n",
    "In the user interface, visit [datasets](/datasets) to explore all the available datasets. You can click on a dataset card to see more information about it, download it, etc.\n",
    "\n",
    "You can also explore datasets using the API, CLI and library, which will give you more flexibility and control over the results. Check the [documentation](/docs/datasets/explore) to learn more."
   ]
  },
  {
   "cell_type": "code",
   "execution_count": 12,
   "metadata": {},
   "outputs": [],
   "source": [
    "from eotdl.datasets import retrieve_datasets"
   ]
  },
  {
   "cell_type": "code",
   "execution_count": 13,
   "metadata": {},
   "outputs": [
    {
     "data": {
      "text/plain": [
       "0"
      ]
     },
     "execution_count": 13,
     "metadata": {},
     "output_type": "execute_result"
    }
   ],
   "source": [
    "datasets = retrieve_datasets()\n",
    "len(datasets)"
   ]
  },
  {
   "cell_type": "markdown",
   "metadata": {},
   "source": [
    "You will receive an object with the names of the datasets as keys and the list of files associated to the dataset as values. You can filter datasets by name."
   ]
  },
  {
   "cell_type": "code",
   "execution_count": 7,
   "metadata": {},
   "outputs": [
    {
     "data": {
      "text/plain": [
       "['EuroSAT-RGB',\n",
       " 'EuroSAT',\n",
       " 'EuroSAT-RGB-STAC',\n",
       " 'EuroSAT-STAC',\n",
       " 'eurosat-rgb',\n",
       " 'eurosat-rgb-q2',\n",
       " 'EuroSAT-small']"
      ]
     },
     "execution_count": 7,
     "metadata": {},
     "output_type": "execute_result"
    }
   ],
   "source": [
    "datasets = retrieve_datasets(\"eurosat\")\n",
    "datasets"
   ]
  },
  {
   "cell_type": "markdown",
   "metadata": {},
   "source": [
    "##  Download datasets"
   ]
  },
  {
   "cell_type": "markdown",
   "metadata": {},
   "source": [
    "Once you find a suitable dataset you can download it for training your models.\n",
    "\n",
    "In the user interface, click on the `DOWNLOAD` button in the dataset page. You’ll need to be logged in to download datasets.\n",
    "\n",
    "You can also download datasets using the API, CLI and library, check the [documentation](/docs/datasets/download) to learn more."
   ]
  },
  {
   "cell_type": "code",
   "execution_count": 8,
   "metadata": {},
   "outputs": [],
   "source": [
    "from eotdl.datasets import download_dataset"
   ]
  },
  {
   "cell_type": "code",
   "execution_count": null,
   "metadata": {},
   "outputs": [],
   "source": [
    "dst_path = download_dataset('EuroSAT-RGB')\n",
    "dst_path"
   ]
  },
  {
   "cell_type": "markdown",
   "metadata": {},
   "source": [
    "By default, all the files in the dataset are downloaded to the directory ~/.eotdl/datasets. You can change the default directory or download a single file."
   ]
  },
  {
   "cell_type": "code",
   "execution_count": null,
   "metadata": {},
   "outputs": [],
   "source": [
    "dst_path = download_dataset('EuroSAT-RGB', file='EuroSAT-RGB.zip', path='example_data')\n",
    "dst_path"
   ]
  },
  {
   "cell_type": "markdown",
   "metadata": {},
   "source": [
    "## Ingest datasets"
   ]
  },
  {
   "cell_type": "markdown",
   "metadata": {},
   "source": [
    "Additionally, you can ingest your own datasets into EOTDL. This will allow you to use them in your own projects and share them with other users. \n",
    "\n",
    "In the user interface, visit [datasets](/datasets) and click on the `INGEST` button. You’ll need to be logged in to ingest datasets.\n",
    "\n",
    "You can also ingest datasets using the API, CLI and library (CLI recommended), check the [documentation](/docs/datasets/ingest) to learn more."
   ]
  },
  {
   "cell_type": "code",
   "execution_count": null,
   "metadata": {},
   "outputs": [],
   "source": [
    "from eotdl.datasets import ingest_dataset"
   ]
  },
  {
   "cell_type": "markdown",
   "metadata": {},
   "source": [
    "In order to ingest a Q0 dataset you will have to create a folder with the data that you want to upload. Additionally, a `metadata.yml` file is required with the following structure:\n",
    "\n",
    "```yaml\n",
    "name: dataset-name\n",
    "authors: \n",
    "  - author 1\n",
    "  - author 2\n",
    "license: dataset-license\n",
    "source: http://link-to-source\n",
    "```"
   ]
  },
  {
   "cell_type": "code",
   "execution_count": null,
   "metadata": {},
   "outputs": [
    {
     "data": {
      "text/plain": [
       "['EuroSAT-RGB.zip', 'metadata.yml', 'README.md']"
      ]
     },
     "execution_count": 10,
     "metadata": {},
     "output_type": "execute_result"
    }
   ],
   "source": [
    "import os \n",
    "\n",
    "os.listdir('data/EuroSAT2')"
   ]
  },
  {
   "cell_type": "code",
   "execution_count": null,
   "metadata": {},
   "outputs": [
    {
     "name": "stdout",
     "output_type": "stream",
     "text": [
      "Uploading directory (only files, not recursive)\n",
      "The following files will be uploaded:\n",
      "EuroSAT-RGB.zip\n",
      "README.md\n",
      "Uploading file data/EuroSAT2/EuroSAT-RGB.zip...\n",
      "Computing checksum...\n",
      "de4455c5f375f3509f0f7144d3be3927b495b707\n",
      "Ingesting file...\n"
     ]
    },
    {
     "name": "stderr",
     "output_type": "stream",
     "text": [
      "89.91/89.91 MB: : 9it [00:07,  1.16it/s]                     \n"
     ]
    },
    {
     "name": "stdout",
     "output_type": "stream",
     "text": [
      "\n",
      "Completing upload...\n",
      "Done\n",
      "Uploading file data/EuroSAT2/README.md...\n",
      "Computing checksum...\n",
      "dd5034ce10edabb9de02a171fc2b1f6a0f80852b\n",
      "Ingesting file...\n",
      "Done\n"
     ]
    },
    {
     "data": {
      "text/plain": [
       "{'dataset_id': '64c7be7c2a65dcd4ae2ca630',\n",
       " 'dataset_name': 'EuroSAT2',\n",
       " 'file_name': 'README.md'}"
      ]
     },
     "execution_count": 11,
     "metadata": {},
     "output_type": "execute_result"
    }
   ],
   "source": [
    "ingest_dataset('data/EuroSAT2')"
   ]
  },
  {
   "cell_type": "markdown",
   "metadata": {},
   "source": [
    "You can re-upload new versions of existing files, as well as delete files in the repository if they no longer exist in your local folder"
   ]
  },
  {
   "cell_type": "code",
   "execution_count": null,
   "metadata": {},
   "outputs": [
    {
     "data": {
      "text/plain": [
       "['EuroSAT-RGB.zip', 'metadata.yml']"
      ]
     },
     "execution_count": 16,
     "metadata": {},
     "output_type": "execute_result"
    }
   ],
   "source": [
    "os.remove('data/EuroSAT2/README.md')\n",
    "os.listdir('data/EuroSAT2')"
   ]
  },
  {
   "cell_type": "code",
   "execution_count": null,
   "metadata": {},
   "outputs": [
    {
     "name": "stdout",
     "output_type": "stream",
     "text": [
      "Uploading directory (only files, not recursive)\n",
      "The following files are no longer in your dataset (use --d to delete):\n",
      "README.md\n",
      "Deleting file README.md...\n",
      "Done\n",
      "The following files will be uploaded:\n",
      "EuroSAT-RGB.zip\n",
      "Uploading file data/EuroSAT2/EuroSAT-RGB.zip...\n",
      "Computing checksum...\n",
      "de4455c5f375f3509f0f7144d3be3927b495b707\n",
      "Ingesting file...\n"
     ]
    },
    {
     "name": "stderr",
     "output_type": "stream",
     "text": [
      "89.91/89.91 MB: : 9it [00:08,  1.11it/s]                     \n"
     ]
    },
    {
     "name": "stdout",
     "output_type": "stream",
     "text": [
      "\n",
      "Completing upload...\n",
      "Done\n"
     ]
    },
    {
     "data": {
      "text/plain": [
       "{'dataset': {'uid': 'auth0|616b019942cfbe00690b958a',\n",
       "  'id': '64c7be7c2a65dcd4ae2ca630',\n",
       "  'name': 'EuroSAT2',\n",
       "  'authors': ['Patrick Helber'],\n",
       "  'source': 'http://madm.dfki.de/downloads',\n",
       "  'license': '-',\n",
       "  'size': 188561134,\n",
       "  'files': [{'name': 'EuroSAT-RGB.zip',\n",
       "    'size': 94280567,\n",
       "    'checksum': 'de4455c5f375f3509f0f7144d3be3927b495b707'}],\n",
       "  'description': '',\n",
       "  'tags': [],\n",
       "  'createdAt': '2023-07-19T13:19:12.136',\n",
       "  'updatedAt': '2023-07-31T16:03:16.204662',\n",
       "  'likes': 0,\n",
       "  'downloads': 0,\n",
       "  'quality': 0}}"
      ]
     },
     "execution_count": 17,
     "metadata": {},
     "output_type": "execute_result"
    }
   ],
   "source": [
    "ingest_dataset(\n",
    "    'data/EuroSAT2',\n",
    "    f=True, # force re-upload of existing files\n",
    "    d=True, # delete files not in the dataset\n",
    ")"
   ]
  },
  {
   "cell_type": "markdown",
   "metadata": {},
   "source": [
    "From now on, your dataset will be available in EOTDL."
   ]
  },
  {
   "cell_type": "code",
   "execution_count": null,
   "metadata": {},
   "outputs": [
    {
     "data": {
      "text/plain": [
       "{'EuroSAT-RGB-STAC': ['EuroSAT-RGB-STAC.zip'],\n",
       " 'EuroSAT-STAC': ['EuroSAT-STAC.zip'],\n",
       " 'EuroSAT2': ['EuroSAT-RGB.zip'],\n",
       " 'EuroSAT': ['EuroSAT.zip'],\n",
       " 'EuroSAT-RGB': ['EuroSAT-RGB.zip']}"
      ]
     },
     "execution_count": 18,
     "metadata": {},
     "output_type": "execute_result"
    }
   ],
   "source": [
    "retrieve_datasets(\"eurosat\")"
   ]
  },
  {
   "cell_type": "code",
   "execution_count": null,
   "metadata": {},
   "outputs": [
    {
     "name": "stdout",
     "output_type": "stream",
     "text": [
      "Downloading EuroSAT-RGB.zip\n"
     ]
    },
    {
     "name": "stderr",
     "output_type": "stream",
     "text": [
      "100%|██████████| 89.9M/89.9M [00:01<00:00, 50.9MiB/s]\n"
     ]
    },
    {
     "name": "stdout",
     "output_type": "stream",
     "text": [
      "Done\n"
     ]
    },
    {
     "data": {
      "text/plain": [
       "'/home/juan/.eotdl/datasets/EuroSAT2'"
      ]
     },
     "execution_count": 21,
     "metadata": {},
     "output_type": "execute_result"
    }
   ],
   "source": [
    "download_dataset('EuroSAT2')"
   ]
  }
 ],
 "metadata": {
  "kernelspec": {
   "display_name": "Python 3 (ipykernel)",
   "language": "python",
   "name": "python3"
  },
  "language_info": {
   "codemirror_mode": {
    "name": "ipython",
    "version": 3
   },
   "file_extension": ".py",
   "mimetype": "text/x-python",
   "name": "python",
   "nbconvert_exporter": "python",
   "pygments_lexer": "ipython3",
   "version": "3.11.3"
  }
 },
 "nbformat": 4,
 "nbformat_minor": 2
}
