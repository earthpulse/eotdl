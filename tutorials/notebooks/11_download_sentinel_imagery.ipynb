{
 "cells": [
  {
   "cell_type": "markdown",
   "metadata": {},
   "source": [
    "# Download Sentinel imagery"
   ]
  },
  {
   "cell_type": "markdown",
   "metadata": {},
   "source": [
    "We can download Sentinel imagery through the EOTDL."
   ]
  },
  {
   "cell_type": "markdown",
   "metadata": {},
   "source": [
    "Uncomment the following line to install eotdl if needed."
   ]
  },
  {
   "cell_type": "code",
   "execution_count": 2,
   "metadata": {},
   "outputs": [],
   "source": [
    "# !pip install eotdl"
   ]
  },
  {
   "cell_type": "markdown",
   "metadata": {},
   "source": [
    "First, we can look for which Sentinel sensors are supported in the EOTDL"
   ]
  },
  {
   "cell_type": "code",
   "execution_count": 1,
   "metadata": {},
   "outputs": [
    {
     "data": {
      "text/plain": [
       "('sentinel-1-grd', 'sentinel-2-l1c', 'sentinel-2-l2a', 'dem')"
      ]
     },
     "execution_count": 1,
     "metadata": {},
     "output_type": "execute_result"
    }
   ],
   "source": [
    "from eotdl.access import SUPPORTED_SENSORS\n",
    "\n",
    "SUPPORTED_SENSORS"
   ]
  },
  {
   "cell_type": "markdown",
   "metadata": {},
   "source": [
    "Now, we can search for available Sentinel-2-L2A imagery in Jaca, Spain, between 1 to 10 January, 2020, as seen in the previous [notebook](10_search_sentinel_imagery.ipynb)."
   ]
  },
  {
   "cell_type": "code",
   "execution_count": 2,
   "metadata": {},
   "outputs": [],
   "source": [
    "dates = ('2020-01-01', '2020-01-10')\n",
    "jaca_bounding_box = (-0.557034,42.569409,-0.547706,42.57571)"
   ]
  },
  {
   "cell_type": "code",
   "execution_count": 3,
   "metadata": {},
   "outputs": [
    {
     "data": {
      "text/plain": [
       "[{'id': 'S2B_MSIL2A_20200109T110329_N0213_R094_T30TXN_20200109T121919',\n",
       "  'properties': {'datetime': '2020-01-09T11:09:11Z', 'eo:cloud_cover': 17.46}},\n",
       " {'id': 'S2B_MSIL2A_20200109T110329_N0213_R094_T30TYN_20200109T121919',\n",
       "  'properties': {'datetime': '2020-01-09T11:09:07Z', 'eo:cloud_cover': 0.01}},\n",
       " {'id': 'S2B_MSIL2A_20200106T105339_N0213_R051_T30TXN_20200106T121433',\n",
       "  'properties': {'datetime': '2020-01-06T10:59:14Z', 'eo:cloud_cover': 0.95}},\n",
       " {'id': 'S2B_MSIL2A_20200106T105339_N0213_R051_T30TYN_20200106T121433',\n",
       "  'properties': {'datetime': '2020-01-06T10:59:11Z', 'eo:cloud_cover': 0.08}},\n",
       " {'id': 'S2A_MSIL2A_20200104T110441_N0213_R094_T30TXN_20200104T122020',\n",
       "  'properties': {'datetime': '2020-01-04T11:09:11Z', 'eo:cloud_cover': 63.34}},\n",
       " {'id': 'S2A_MSIL2A_20200104T110441_N0213_R094_T30TYN_20200104T122020',\n",
       "  'properties': {'datetime': '2020-01-04T11:09:07Z', 'eo:cloud_cover': 48.07}},\n",
       " {'id': 'S2A_MSIL2A_20200101T105441_N0213_R051_T30TXN_20200101T121106',\n",
       "  'properties': {'datetime': '2020-01-01T10:59:13Z', 'eo:cloud_cover': 5.73}},\n",
       " {'id': 'S2A_MSIL2A_20200101T105441_N0213_R051_T30TYN_20200101T121106',\n",
       "  'properties': {'datetime': '2020-01-01T10:59:11Z', 'eo:cloud_cover': 4.89}}]"
      ]
     },
     "execution_count": 3,
     "metadata": {},
     "output_type": "execute_result"
    }
   ],
   "source": [
    "from eotdl.access import search_sentinel_imagery\n",
    "\n",
    "r = search_sentinel_imagery(dates, jaca_bounding_box, 'sentinel-2-l2a')\n",
    "list(r)"
   ]
  },
  {
   "cell_type": "markdown",
   "metadata": {},
   "source": [
    "> Note: DEM data is quite especial, as it is static and we can not search for available data. If we do, we will find that the collection does not exists. On the other hand, if we want to download DEM data it is not necessary to give a time interval neither."
   ]
  },
  {
   "cell_type": "markdown",
   "metadata": {},
   "source": [
    "As seen, we have several available images. Let's download the first of them, from the 2020-01-04."
   ]
  },
  {
   "cell_type": "code",
   "execution_count": 4,
   "metadata": {},
   "outputs": [],
   "source": [
    "from eotdl.access import download_sentinel_imagery\n",
    "\n",
    "date = '2020-01-04'\n",
    "\n",
    "download_sentinel_imagery('data/jaca', date, jaca_bounding_box, 'sentinel-2-l2a')"
   ]
  },
  {
   "cell_type": "markdown",
   "metadata": {},
   "source": [
    "As easy as that! Let's take a look on the image!"
   ]
  },
  {
   "cell_type": "code",
   "execution_count": 5,
   "metadata": {},
   "outputs": [
    {
     "data": {
      "text/plain": [
       "'data/jaca/sentinel-2-l2a_2020-01-04.tif'"
      ]
     },
     "execution_count": 5,
     "metadata": {},
     "output_type": "execute_result"
    }
   ],
   "source": [
    "from glob import glob\n",
    "\n",
    "raster = glob('data/jaca/*.tif')[0]\n",
    "raster"
   ]
  },
  {
   "cell_type": "code",
   "execution_count": 6,
   "metadata": {},
   "outputs": [
    {
     "name": "stderr",
     "output_type": "stream",
     "text": [
      "Warning 1: TIFFReadDirectory:Sum of Photometric type-related color channels and ExtraSamples doesn't match SamplesPerPixel. Defining non-color channels as ExtraSamples.\n",
      "Warning 1: TIFFReadDirectory:Sum of Photometric type-related color channels and ExtraSamples doesn't match SamplesPerPixel. Defining non-color channels as ExtraSamples.\n",
      "Warning 1: TIFFReadDirectory:Sum of Photometric type-related color channels and ExtraSamples doesn't match SamplesPerPixel. Defining non-color channels as ExtraSamples.\n",
      "Warning 1: TIFFReadDirectory:Sum of Photometric type-related color channels and ExtraSamples doesn't match SamplesPerPixel. Defining non-color channels as ExtraSamples.\n"
     ]
    },
    {
     "data": {
      "application/vnd.jupyter.widget-view+json": {
       "model_id": "5dc7e1e90e24468382c8dd596d852d54",
       "version_major": 2,
       "version_minor": 0
      },
      "text/plain": [
       "Map(center=[20, 0], controls=(ZoomControl(options=['position', 'zoom_in_text', 'zoom_in_title', 'zoom_out_text…"
      ]
     },
     "execution_count": 6,
     "metadata": {},
     "output_type": "execute_result"
    }
   ],
   "source": [
    "import leafmap.leafmap as leafmap\n",
    "\n",
    "m = leafmap.Map()\n",
    "m.add_raster(raster, bands=[5, 4, 3], layer_name='Raster')\n",
    "m"
   ]
  },
  {
   "cell_type": "markdown",
   "metadata": {},
   "source": [
    "On the other hand, we may want to download all the available images within a time interval. This can also be handled by the EODL."
   ]
  },
  {
   "cell_type": "code",
   "execution_count": 7,
   "metadata": {},
   "outputs": [],
   "source": [
    "from eotdl.access import search_and_download_sentinel_imagery\n",
    "\n",
    "search_and_download_sentinel_imagery(\n",
    "    output='data/jaca_bulk',\n",
    "    time_interval=dates,\n",
    "    bounding_box=jaca_bounding_box,\n",
    "    sensor='sentinel-2-l2a'\n",
    ")"
   ]
  },
  {
   "cell_type": "markdown",
   "metadata": {},
   "source": [
    "What if we want to see a random image? We can display it and explore it interactively using [leafmap](https://leafmap.org/)."
   ]
  },
  {
   "cell_type": "code",
   "execution_count": 8,
   "metadata": {},
   "outputs": [
    {
     "data": {
      "text/plain": [
       "['data/jaca_bulk/sentinel-2-l2a_2020-01-04.tif',\n",
       " 'data/jaca_bulk/sentinel-2-l2a_2020-01-06.tif',\n",
       " 'data/jaca_bulk/sentinel-2-l2a_2020-01-01.tif',\n",
       " 'data/jaca_bulk/sentinel-2-l2a_2020-01-09.tif']"
      ]
     },
     "execution_count": 8,
     "metadata": {},
     "output_type": "execute_result"
    }
   ],
   "source": [
    "from glob import glob\n",
    "\n",
    "rasters = glob('data/jaca_bulk/*.tif')\n",
    "rasters"
   ]
  },
  {
   "cell_type": "code",
   "execution_count": 9,
   "metadata": {},
   "outputs": [
    {
     "name": "stderr",
     "output_type": "stream",
     "text": [
      "Warning 1: TIFFReadDirectory:Sum of Photometric type-related color channels and ExtraSamples doesn't match SamplesPerPixel. Defining non-color channels as ExtraSamples.\n",
      "Warning 1: TIFFReadDirectory:Sum of Photometric type-related color channels and ExtraSamples doesn't match SamplesPerPixel. Defining non-color channels as ExtraSamples.\n",
      "Warning 1: TIFFReadDirectory:Sum of Photometric type-related color channels and ExtraSamples doesn't match SamplesPerPixel. Defining non-color channels as ExtraSamples.\n",
      "Warning 1: TIFFReadDirectory:Sum of Photometric type-related color channels and ExtraSamples doesn't match SamplesPerPixel. Defining non-color channels as ExtraSamples.\n"
     ]
    },
    {
     "data": {
      "application/vnd.jupyter.widget-view+json": {
       "model_id": "84f38bd47e66479b91489cb445960fce",
       "version_major": 2,
       "version_minor": 0
      },
      "text/plain": [
       "Map(center=[20, 0], controls=(ZoomControl(options=['position', 'zoom_in_text', 'zoom_in_title', 'zoom_out_text…"
      ]
     },
     "execution_count": 9,
     "metadata": {},
     "output_type": "execute_result"
    }
   ],
   "source": [
    "import leafmap.leafmap as leafmap\n",
    "from random import choice\n",
    "\n",
    "m = leafmap.Map()\n",
    "raster = choice(rasters)\n",
    "m.add_raster(raster, bands=[5, 4, 3], layer_name='Raster')\n",
    "m"
   ]
  }
 ],
 "metadata": {
  "kernelspec": {
   "display_name": "sen12floods",
   "language": "python",
   "name": "python3"
  },
  "language_info": {
   "codemirror_mode": {
    "name": "ipython",
    "version": 3
   },
   "file_extension": ".py",
   "mimetype": "text/x-python",
   "name": "python",
   "nbconvert_exporter": "python",
   "pygments_lexer": "ipython3",
   "version": "3.11.3"
  }
 },
 "nbformat": 4,
 "nbformat_minor": 2
}
