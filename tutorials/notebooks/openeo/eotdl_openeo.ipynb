{
 "cells": [
  {
   "cell_type": "markdown",
   "metadata": {},
   "source": [
    "Step 1: download the data from eotdl"
   ]
  },
  {
   "cell_type": "code",
   "execution_count": null,
   "metadata": {},
   "outputs": [],
   "source": [
    "import os\n",
    "import zipfile\n",
    "import eotdl\n",
    "from eotdl.datasets import download_dataset\n",
    "\n",
    "download_dataset(\"EuroSAT\", version=1, path=\"data\", force=True)\n",
    "\n",
    "os.makedirs(\"data/EuroSAT\", exist_ok=True)\n",
    "\n",
    "with zipfile.ZipFile(\"data/EuroSAT/v1/EuroSAT.zip\", 'r') as zip_ref:\n",
    "    zip_ref.extractall(\"data/EuroSAT\")"
   ]
  },
  {
   "cell_type": "markdown",
   "metadata": {},
   "source": [
    "Step 2: Make a random selection of labelled data for which we want to extract EO data, from the images we can readily extract their geospatial bounding box. We append this information into a dataframe which will lateron be used to orchestrate the EO data extraction."
   ]
  },
  {
   "cell_type": "code",
   "execution_count": 2,
   "metadata": {},
   "outputs": [
    {
     "name": "stderr",
     "output_type": "stream",
     "text": [
      "c:\\Users\\VROMPAYH\\AppData\\Local\\anaconda3\\envs\\eotdl_openeo_env\\lib\\site-packages\\openeo_gfmap\\manager\\job_splitters.py:80: UserWarning: Geometry is in a geographic CRS. Results from 'centroid' are likely incorrect. Use 'GeoSeries.to_crs()' to re-project geometries to a projected CRS before this operation.\n",
      "\n",
      "  polygons[\"centroid\"] = polygons.geometry.centroid\n",
      "c:\\Users\\VROMPAYH\\AppData\\Local\\anaconda3\\envs\\eotdl_openeo_env\\lib\\site-packages\\openeo_gfmap\\manager\\job_splitters.py:84: UserWarning: Geometry is in a geographic CRS. Results from 'centroid' are likely incorrect. Use 'GeoSeries.to_crs()' to re-project geometries to a projected CRS before this operation.\n",
      "\n",
      "  s2_grid[\"geometry\"] = s2_grid.geometry.centroid\n",
      "c:\\Users\\VROMPAYH\\AppData\\Local\\anaconda3\\envs\\eotdl_openeo_env\\lib\\site-packages\\geopandas\\array.py:403: UserWarning: Geometry is in a geographic CRS. Results from 'sjoin_nearest' are likely incorrect. Use 'GeoSeries.to_crs()' to re-project geometries to a projected CRS before this operation.\n",
      "\n",
      "  warnings.warn(\n",
      "c:\\Users\\VROMPAYH\\AppData\\Local\\anaconda3\\envs\\eotdl_openeo_env\\lib\\site-packages\\openeo_gfmap\\manager\\job_splitters.py:80: UserWarning: Geometry is in a geographic CRS. Results from 'centroid' are likely incorrect. Use 'GeoSeries.to_crs()' to re-project geometries to a projected CRS before this operation.\n",
      "\n",
      "  polygons[\"centroid\"] = polygons.geometry.centroid\n",
      "c:\\Users\\VROMPAYH\\AppData\\Local\\anaconda3\\envs\\eotdl_openeo_env\\lib\\site-packages\\openeo_gfmap\\manager\\job_splitters.py:84: UserWarning: Geometry is in a geographic CRS. Results from 'centroid' are likely incorrect. Use 'GeoSeries.to_crs()' to re-project geometries to a projected CRS before this operation.\n",
      "\n",
      "  s2_grid[\"geometry\"] = s2_grid.geometry.centroid\n",
      "c:\\Users\\VROMPAYH\\AppData\\Local\\anaconda3\\envs\\eotdl_openeo_env\\lib\\site-packages\\geopandas\\array.py:403: UserWarning: Geometry is in a geographic CRS. Results from 'sjoin_nearest' are likely incorrect. Use 'GeoSeries.to_crs()' to re-project geometries to a projected CRS before this operation.\n",
      "\n",
      "  warnings.warn(\n",
      "c:\\Users\\VROMPAYH\\AppData\\Local\\anaconda3\\envs\\eotdl_openeo_env\\lib\\site-packages\\openeo_gfmap\\manager\\job_splitters.py:80: UserWarning: Geometry is in a geographic CRS. Results from 'centroid' are likely incorrect. Use 'GeoSeries.to_crs()' to re-project geometries to a projected CRS before this operation.\n",
      "\n",
      "  polygons[\"centroid\"] = polygons.geometry.centroid\n",
      "c:\\Users\\VROMPAYH\\AppData\\Local\\anaconda3\\envs\\eotdl_openeo_env\\lib\\site-packages\\openeo_gfmap\\manager\\job_splitters.py:84: UserWarning: Geometry is in a geographic CRS. Results from 'centroid' are likely incorrect. Use 'GeoSeries.to_crs()' to re-project geometries to a projected CRS before this operation.\n",
      "\n",
      "  s2_grid[\"geometry\"] = s2_grid.geometry.centroid\n",
      "c:\\Users\\VROMPAYH\\AppData\\Local\\anaconda3\\envs\\eotdl_openeo_env\\lib\\site-packages\\geopandas\\array.py:403: UserWarning: Geometry is in a geographic CRS. Results from 'sjoin_nearest' are likely incorrect. Use 'GeoSeries.to_crs()' to re-project geometries to a projected CRS before this operation.\n",
      "\n",
      "  warnings.warn(\n",
      "c:\\Users\\VROMPAYH\\AppData\\Local\\anaconda3\\envs\\eotdl_openeo_env\\lib\\site-packages\\openeo_gfmap\\manager\\job_splitters.py:80: UserWarning: Geometry is in a geographic CRS. Results from 'centroid' are likely incorrect. Use 'GeoSeries.to_crs()' to re-project geometries to a projected CRS before this operation.\n",
      "\n",
      "  polygons[\"centroid\"] = polygons.geometry.centroid\n",
      "c:\\Users\\VROMPAYH\\AppData\\Local\\anaconda3\\envs\\eotdl_openeo_env\\lib\\site-packages\\openeo_gfmap\\manager\\job_splitters.py:84: UserWarning: Geometry is in a geographic CRS. Results from 'centroid' are likely incorrect. Use 'GeoSeries.to_crs()' to re-project geometries to a projected CRS before this operation.\n",
      "\n",
      "  s2_grid[\"geometry\"] = s2_grid.geometry.centroid\n",
      "c:\\Users\\VROMPAYH\\AppData\\Local\\anaconda3\\envs\\eotdl_openeo_env\\lib\\site-packages\\geopandas\\array.py:403: UserWarning: Geometry is in a geographic CRS. Results from 'sjoin_nearest' are likely incorrect. Use 'GeoSeries.to_crs()' to re-project geometries to a projected CRS before this operation.\n",
      "\n",
      "  warnings.warn(\n",
      "c:\\Users\\VROMPAYH\\AppData\\Local\\anaconda3\\envs\\eotdl_openeo_env\\lib\\site-packages\\openeo_gfmap\\manager\\job_splitters.py:80: UserWarning: Geometry is in a geographic CRS. Results from 'centroid' are likely incorrect. Use 'GeoSeries.to_crs()' to re-project geometries to a projected CRS before this operation.\n",
      "\n",
      "  polygons[\"centroid\"] = polygons.geometry.centroid\n",
      "c:\\Users\\VROMPAYH\\AppData\\Local\\anaconda3\\envs\\eotdl_openeo_env\\lib\\site-packages\\openeo_gfmap\\manager\\job_splitters.py:84: UserWarning: Geometry is in a geographic CRS. Results from 'centroid' are likely incorrect. Use 'GeoSeries.to_crs()' to re-project geometries to a projected CRS before this operation.\n",
      "\n",
      "  s2_grid[\"geometry\"] = s2_grid.geometry.centroid\n",
      "c:\\Users\\VROMPAYH\\AppData\\Local\\anaconda3\\envs\\eotdl_openeo_env\\lib\\site-packages\\geopandas\\array.py:403: UserWarning: Geometry is in a geographic CRS. Results from 'sjoin_nearest' are likely incorrect. Use 'GeoSeries.to_crs()' to re-project geometries to a projected CRS before this operation.\n",
      "\n",
      "  warnings.warn(\n",
      "c:\\Users\\VROMPAYH\\AppData\\Local\\anaconda3\\envs\\eotdl_openeo_env\\lib\\site-packages\\openeo_gfmap\\manager\\job_splitters.py:80: UserWarning: Geometry is in a geographic CRS. Results from 'centroid' are likely incorrect. Use 'GeoSeries.to_crs()' to re-project geometries to a projected CRS before this operation.\n",
      "\n",
      "  polygons[\"centroid\"] = polygons.geometry.centroid\n",
      "c:\\Users\\VROMPAYH\\AppData\\Local\\anaconda3\\envs\\eotdl_openeo_env\\lib\\site-packages\\openeo_gfmap\\manager\\job_splitters.py:84: UserWarning: Geometry is in a geographic CRS. Results from 'centroid' are likely incorrect. Use 'GeoSeries.to_crs()' to re-project geometries to a projected CRS before this operation.\n",
      "\n",
      "  s2_grid[\"geometry\"] = s2_grid.geometry.centroid\n",
      "c:\\Users\\VROMPAYH\\AppData\\Local\\anaconda3\\envs\\eotdl_openeo_env\\lib\\site-packages\\geopandas\\array.py:403: UserWarning: Geometry is in a geographic CRS. Results from 'sjoin_nearest' are likely incorrect. Use 'GeoSeries.to_crs()' to re-project geometries to a projected CRS before this operation.\n",
      "\n",
      "  warnings.warn(\n",
      "c:\\Users\\VROMPAYH\\AppData\\Local\\anaconda3\\envs\\eotdl_openeo_env\\lib\\site-packages\\openeo_gfmap\\manager\\job_splitters.py:80: UserWarning: Geometry is in a geographic CRS. Results from 'centroid' are likely incorrect. Use 'GeoSeries.to_crs()' to re-project geometries to a projected CRS before this operation.\n",
      "\n",
      "  polygons[\"centroid\"] = polygons.geometry.centroid\n",
      "c:\\Users\\VROMPAYH\\AppData\\Local\\anaconda3\\envs\\eotdl_openeo_env\\lib\\site-packages\\openeo_gfmap\\manager\\job_splitters.py:84: UserWarning: Geometry is in a geographic CRS. Results from 'centroid' are likely incorrect. Use 'GeoSeries.to_crs()' to re-project geometries to a projected CRS before this operation.\n",
      "\n",
      "  s2_grid[\"geometry\"] = s2_grid.geometry.centroid\n",
      "c:\\Users\\VROMPAYH\\AppData\\Local\\anaconda3\\envs\\eotdl_openeo_env\\lib\\site-packages\\geopandas\\array.py:403: UserWarning: Geometry is in a geographic CRS. Results from 'sjoin_nearest' are likely incorrect. Use 'GeoSeries.to_crs()' to re-project geometries to a projected CRS before this operation.\n",
      "\n",
      "  warnings.warn(\n",
      "c:\\Users\\VROMPAYH\\AppData\\Local\\anaconda3\\envs\\eotdl_openeo_env\\lib\\site-packages\\openeo_gfmap\\manager\\job_splitters.py:80: UserWarning: Geometry is in a geographic CRS. Results from 'centroid' are likely incorrect. Use 'GeoSeries.to_crs()' to re-project geometries to a projected CRS before this operation.\n",
      "\n",
      "  polygons[\"centroid\"] = polygons.geometry.centroid\n",
      "c:\\Users\\VROMPAYH\\AppData\\Local\\anaconda3\\envs\\eotdl_openeo_env\\lib\\site-packages\\openeo_gfmap\\manager\\job_splitters.py:84: UserWarning: Geometry is in a geographic CRS. Results from 'centroid' are likely incorrect. Use 'GeoSeries.to_crs()' to re-project geometries to a projected CRS before this operation.\n",
      "\n",
      "  s2_grid[\"geometry\"] = s2_grid.geometry.centroid\n",
      "c:\\Users\\VROMPAYH\\AppData\\Local\\anaconda3\\envs\\eotdl_openeo_env\\lib\\site-packages\\geopandas\\array.py:403: UserWarning: Geometry is in a geographic CRS. Results from 'sjoin_nearest' are likely incorrect. Use 'GeoSeries.to_crs()' to re-project geometries to a projected CRS before this operation.\n",
      "\n",
      "  warnings.warn(\n"
     ]
    }
   ],
   "source": [
    "from dataframe_utils import *\n",
    "\n",
    "# Constants\n",
    "src_dir = r\"C:\\Git_projects\\eotdl_wip\\data\\EuroSAT\\ds\\images\\remote_sensing\"\n",
    "num_files = 100 #number of images we wish to process\n",
    "\n",
    "start_date = \"2020-01-01\"\n",
    "nb_months = 3\n",
    "\n",
    "distance_m = 320  # Buffer distance in meters\n",
    "resolution = 20.0  # Grid resolution in meters\n",
    "\n",
    "tif_files = get_tif_files(src_dir)\n",
    "selected_files = random.sample(tif_files, num_files)\n",
    "\n",
    "base_df = generate_geodataframe_pet_utm(selected_files, start_date, nb_months, distance_m, resolution)\n",
    "split_df = process_split_jobs(base_df, 10)\n",
    "job_df = create_job_dataframe_s2(split_df)\n"
   ]
  },
  {
   "cell_type": "markdown",
   "metadata": {},
   "source": [
    "Subselection for quick testing"
   ]
  },
  {
   "cell_type": "code",
   "execution_count": 1,
   "metadata": {},
   "outputs": [
    {
     "ename": "NameError",
     "evalue": "name 'job_df' is not defined",
     "output_type": "error",
     "traceback": [
      "\u001b[1;31m---------------------------------------------------------------------------\u001b[0m",
      "\u001b[1;31mNameError\u001b[0m                                 Traceback (most recent call last)",
      "Cell \u001b[1;32mIn[1], line 2\u001b[0m\n\u001b[0;32m      1\u001b[0m \u001b[38;5;66;03m# TODO; remove: for testing\u001b[39;00m\n\u001b[1;32m----> 2\u001b[0m job_df \u001b[38;5;241m=\u001b[39m \u001b[43mjob_df\u001b[49m[job_df[\u001b[38;5;124m'\u001b[39m\u001b[38;5;124mfeature_count\u001b[39m\u001b[38;5;124m'\u001b[39m] \u001b[38;5;241m>\u001b[39m \u001b[38;5;241m1\u001b[39m][\u001b[38;5;241m0\u001b[39m:\u001b[38;5;241m1\u001b[39m]\n\u001b[0;32m      3\u001b[0m job_df\n",
      "\u001b[1;31mNameError\u001b[0m: name 'job_df' is not defined"
     ]
    }
   ],
   "source": [
    "# TODO; remove: for testing\n",
    "job_df = job_df[job_df['feature_count'] > 1][0:1]\n",
    "job_df"
   ]
  },
  {
   "cell_type": "markdown",
   "metadata": {},
   "source": [
    "Step 3: set up a job manager"
   ]
  },
  {
   "cell_type": "markdown",
   "metadata": {},
   "source": [
    "job_df"
   ]
  },
  {
   "cell_type": "code",
   "execution_count": 61,
   "metadata": {},
   "outputs": [
    {
     "name": "stdout",
     "output_type": "stream",
     "text": [
      "Authenticated using refresh token.\n"
     ]
    }
   ],
   "source": [
    "import openeo\n",
    "from openeo.extra.job_management import MultiBackendJobManager, CsvJobDatabase\n",
    "\n",
    "# Authenticate and add the backend\n",
    "connection = openeo.connect(url=\"openeo.dataspace.copernicus.eu\").authenticate_oidc()\n",
    "\n",
    "# initialize the job manager\n",
    "manager = MultiBackendJobManager()\n",
    "manager.add_backend(\"cdse\", connection=connection, parallel_jobs=2)\n",
    "\n",
    "job_tracker = 'job_tracker.csv'\n",
    "job_db = CsvJobDatabase(path=job_tracker)\n",
    "if not job_db.exists():\n",
    "    df = manager._normalize_df(job_df)\n",
    "    job_db.persist(df)\n",
    "\n",
    "    "
   ]
  },
  {
   "cell_type": "markdown",
   "metadata": {},
   "source": [
    "fire up the manager"
   ]
  },
  {
   "cell_type": "markdown",
   "metadata": {},
   "source": [
    "Code when moving towards UDP based manager"
   ]
  },
  {
   "cell_type": "code",
   "execution_count": null,
   "metadata": {},
   "outputs": [],
   "source": [
    "import openeo\n",
    "from openeo.extra.job_management import (\n",
    "        create_job_db,\n",
    "        ProcessBasedJobCreator,\n",
    "    )\n",
    "\n",
    "job_db = create_job_db(\"jobs.csv\", job_df)\n",
    "\n",
    "process_graph_url = \"https://github.com/earthpulse/eotdl/blob/69d17e834d71c05253f3b4d8c8127a3c166192be/tutorials/notebooks/openeo/s1_weekly_statistics.json\"\n",
    "\n",
    "#Make use of the Best Available Pixel openeo Process to obtain Sentinel 2 composites\n",
    "job_starter = ProcessBasedJobCreator(\n",
    "        namespace=process_graph_url,\n",
    "        parameter_defaults={},\n",
    "    )\n"
   ]
  },
  {
   "cell_type": "code",
   "execution_count": null,
   "metadata": {},
   "outputs": [],
   "source": [
    "from openeo.extra.job_management import MultiBackendJobManager\n",
    "\n",
    "# Initiate MultiBackendJobManager \n",
    "job_manager = MultiBackendJobManager()  \n",
    "connection = openeo.connect(url=\"openeo.dataspace.copernicus.eu\").authenticate_oidc()\n",
    "job_manager.add_backend(\"cdse\", connection=connection, parallel_jobs=10)\n",
    "\n",
    "\n",
    "job_manager.run_jobs(job_db=job_db, start_job=job_starter)\n"
   ]
  },
  {
   "cell_type": "code",
   "execution_count": null,
   "metadata": {},
   "outputs": [],
   "source": [
    "import xarray as xr\n",
    "import matplotlib.pyplot as plt\n",
    "\n",
    "# Load the dataset\n",
    "test = xr.open_dataset('test.nc')\n",
    "\n",
    "# Select a specific time slice for plotting, e.g., the first time point\n",
    "time_index = 1\n",
    "b04 = test['B04'].isel(t=time_index)\n",
    "\n",
    "# Create a figure to plot 4 subplots\n",
    "fig, axs = plt.subplots(2, 2, figsize=(12, 10))\n",
    "\n",
    "# Plot each variable in a different subplot\n",
    "im1 = axs[0, 0].imshow(b04, cmap='viridis', origin='lower')\n",
    "axs[0, 0].set_title('B04_P10')\n",
    "fig.colorbar(im1, ax=axs[0, 0])\n",
    "\n",
    "\n"
   ]
  },
  {
   "cell_type": "markdown",
   "metadata": {},
   "source": [
    "TODO:\n",
    "\n",
    "\n",
    "- Scale up (saving data, improve efficiency, ...)\n",
    "\n"
   ]
  }
 ],
 "metadata": {
  "kernelspec": {
   "display_name": "eotdl_openeo_env",
   "language": "python",
   "name": "python3"
  },
  "language_info": {
   "codemirror_mode": {
    "name": "ipython",
    "version": 3
   },
   "file_extension": ".py",
   "mimetype": "text/x-python",
   "name": "python",
   "nbconvert_exporter": "python",
   "pygments_lexer": "ipython3",
   "version": "3.9.20"
  }
 },
 "nbformat": 4,
 "nbformat_minor": 2
}
