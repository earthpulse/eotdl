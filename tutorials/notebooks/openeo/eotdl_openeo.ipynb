{
 "cells": [
  {
   "cell_type": "markdown",
   "metadata": {},
   "source": [
    "## EO Data Extraction Workflow\n",
    "This notebook demonstrates a streamlined workflow for extracting and processing Earth Observation (EO) data \n",
    "using the **openEO** Python client. \n",
    "\n",
    "### Key Steps:\n",
    "1. Load and align input data (shapefile).\n",
    "2. Transform GeoDataFrame for MultiBackendJobManager\n",
    "3. Run the extraction process using openEO backends.\n",
    "4. View and analyze the outputs (e.g., NetCDF files).\n",
    "\n",
    "### Required Libraries:\n",
    "- `openeo` for interacting with EO backends.\n",
    "- `openeo-gfmap` for handling geospatial data.\n",
    "\n",
    "### Step 1: load in the shapefile"
   ]
  },
  {
   "cell_type": "code",
   "execution_count": null,
   "metadata": {},
   "outputs": [
    {
     "name": "stderr",
     "output_type": "stream",
     "text": [
      "c:\\Users\\VROMPAYH\\AppData\\Local\\anaconda3\\envs\\eotdl_openeo_env\\lib\\site-packages\\tqdm\\auto.py:21: TqdmWarning: IProgress not found. Please update jupyter and ipywidgets. See https://ipywidgets.readthedocs.io/en/stable/user_install.html\n",
      "  from .autonotebook import tqdm as notebook_tqdm\n",
      "100%|██████████| 7.91G/7.91G [18:58<00:00, 7.46MiB/s]\n",
      "100%|██████████| 1/1 [18:58<00:00, 1138.85s/file]\n"
     ]
    }
   ],
   "source": [
    "import os\n",
    "import zipfile\n",
    "import eotdl\n",
    "from eotdl.datasets import download_dataset\n",
    "\n",
    "download_dataset(\"EuroCrops\", version=1, path=\"data\", force=True)\n",
    "\n",
    "os.makedirs(\"data/EuroCrops\", exist_ok=True)\n",
    "\n",
    "with zipfile.ZipFile(\"./data/EuroCrops/v1/EuroCrops.zip\", 'r') as zip_ref:\n",
    "    zip_ref.extractall(\"data/EuroCrops\")\n"
   ]
  },
  {
   "cell_type": "markdown",
   "metadata": {},
   "source": [
    "## Extract the desired geodataframe"
   ]
  },
  {
   "cell_type": "code",
   "execution_count": 1,
   "metadata": {},
   "outputs": [],
   "source": [
    "import geopandas as gpd\n",
    "\n",
    "# Define the file path\n",
    "file_path = r\"C:\\Git_projects\\eotdl\\tutorials\\notebooks\\openeo\\data\\EuroCrops\\BE_VLG_2021\\BE_VLG_2021_EC21.shp\"\n",
    "\n",
    "# Load the shapefile\n",
    "gdf = gpd.read_file(file_path)\n"
   ]
  },
  {
   "cell_type": "markdown",
   "metadata": {},
   "source": [
    "## Subset the dataset for testing purposes"
   ]
  },
  {
   "cell_type": "code",
   "execution_count": 3,
   "metadata": {},
   "outputs": [
    {
     "data": {
      "text/html": [
       "<div>\n",
       "<style scoped>\n",
       "    .dataframe tbody tr th:only-of-type {\n",
       "        vertical-align: middle;\n",
       "    }\n",
       "\n",
       "    .dataframe tbody tr th {\n",
       "        vertical-align: top;\n",
       "    }\n",
       "\n",
       "    .dataframe thead th {\n",
       "        text-align: right;\n",
       "    }\n",
       "</style>\n",
       "<table border=\"1\" class=\"dataframe\">\n",
       "  <thead>\n",
       "    <tr style=\"text-align: right;\">\n",
       "      <th></th>\n",
       "      <th>fid</th>\n",
       "      <th>GRAF_OPP</th>\n",
       "      <th>REF_ID</th>\n",
       "      <th>GWSCOD_V</th>\n",
       "      <th>GWSNAM_V</th>\n",
       "      <th>GWSCOD_H</th>\n",
       "      <th>GWSNAM_H</th>\n",
       "      <th>GWSGRP_H</th>\n",
       "      <th>GWSGRPH_LB</th>\n",
       "      <th>GWSCOD_N</th>\n",
       "      <th>...</th>\n",
       "      <th>PRC_NIS</th>\n",
       "      <th>X_REF</th>\n",
       "      <th>Y_REF</th>\n",
       "      <th>WGS84_LG</th>\n",
       "      <th>WGS84_BG</th>\n",
       "      <th>EC_NUTS3</th>\n",
       "      <th>EC_trans_n</th>\n",
       "      <th>EC_hcat_n</th>\n",
       "      <th>EC_hcat_c</th>\n",
       "      <th>geometry</th>\n",
       "    </tr>\n",
       "  </thead>\n",
       "  <tbody>\n",
       "    <tr>\n",
       "      <th>0</th>\n",
       "      <td>56.0</td>\n",
       "      <td>1.0038</td>\n",
       "      <td>2.195943e+09</td>\n",
       "      <td>None</td>\n",
       "      <td>None</td>\n",
       "      <td>898</td>\n",
       "      <td>Permacultuur</td>\n",
       "      <td>Andere subsidiabele gewassen groenten - gebrui...</td>\n",
       "      <td>Overige gewassen</td>\n",
       "      <td>None</td>\n",
       "      <td>...</td>\n",
       "      <td>31033</td>\n",
       "      <td>59203.23</td>\n",
       "      <td>191139.13</td>\n",
       "      <td>3°4'28\"</td>\n",
       "      <td>51°1'24\"</td>\n",
       "      <td>BE251</td>\n",
       "      <td>permaculture</td>\n",
       "      <td>permanent_crops_perennial</td>\n",
       "      <td>3303000000</td>\n",
       "      <td>POLYGON ((59139.6 191171.57, 59230.75 191204.2...</td>\n",
       "    </tr>\n",
       "    <tr>\n",
       "      <th>1</th>\n",
       "      <td>72.0</td>\n",
       "      <td>1.7600</td>\n",
       "      <td>2.192143e+09</td>\n",
       "      <td>None</td>\n",
       "      <td>None</td>\n",
       "      <td>898</td>\n",
       "      <td>Permacultuur</td>\n",
       "      <td>Andere subsidiabele gewassen groenten - gebrui...</td>\n",
       "      <td>Overige gewassen</td>\n",
       "      <td>None</td>\n",
       "      <td>...</td>\n",
       "      <td>31040</td>\n",
       "      <td>66180.66</td>\n",
       "      <td>206540.11</td>\n",
       "      <td>3°10'13\"</td>\n",
       "      <td>51°9'46\"</td>\n",
       "      <td>BE251</td>\n",
       "      <td>permaculture</td>\n",
       "      <td>permanent_crops_perennial</td>\n",
       "      <td>3303000000</td>\n",
       "      <td>POLYGON ((66098.5 206582.75, 66141.25 206653.7...</td>\n",
       "    </tr>\n",
       "  </tbody>\n",
       "</table>\n",
       "<p>2 rows × 31 columns</p>\n",
       "</div>"
      ],
      "text/plain": [
       "    fid  GRAF_OPP        REF_ID GWSCOD_V GWSNAM_V GWSCOD_H      GWSNAM_H  \\\n",
       "0  56.0    1.0038  2.195943e+09     None     None      898  Permacultuur   \n",
       "1  72.0    1.7600  2.192143e+09     None     None      898  Permacultuur   \n",
       "\n",
       "                                            GWSGRP_H        GWSGRPH_LB  \\\n",
       "0  Andere subsidiabele gewassen groenten - gebrui...  Overige gewassen   \n",
       "1  Andere subsidiabele gewassen groenten - gebrui...  Overige gewassen   \n",
       "\n",
       "  GWSCOD_N  ... PRC_NIS     X_REF      Y_REF  WGS84_LG  WGS84_BG EC_NUTS3  \\\n",
       "0     None  ...   31033  59203.23  191139.13   3°4'28\"  51°1'24\"    BE251   \n",
       "1     None  ...   31040  66180.66  206540.11  3°10'13\"  51°9'46\"    BE251   \n",
       "\n",
       "     EC_trans_n                  EC_hcat_n   EC_hcat_c  \\\n",
       "0  permaculture  permanent_crops_perennial  3303000000   \n",
       "1  permaculture  permanent_crops_perennial  3303000000   \n",
       "\n",
       "                                            geometry  \n",
       "0  POLYGON ((59139.6 191171.57, 59230.75 191204.2...  \n",
       "1  POLYGON ((66098.5 206582.75, 66141.25 206653.7...  \n",
       "\n",
       "[2 rows x 31 columns]"
      ]
     },
     "execution_count": 3,
     "metadata": {},
     "output_type": "execute_result"
    }
   ],
   "source": [
    "gdf = gdf[0:2]\n",
    "gdf"
   ]
  },
  {
   "cell_type": "markdown",
   "metadata": {},
   "source": [
    "# Transform GeoDataFrame for MultiBackendJobManager\n",
    "\n",
    "This function processes an input GeoDataFrame and prepares it for use with openEO's **MultiBackendJobManager**. The job manager enables launching and tracking multiple openEO jobs simultaneously, which is essential for large-scale data extractions. \n",
    "\n",
    "### Example Use Case\n",
    "The function creates patches (e.g., 64x64 pixels) around polygon centers. These patches are suitable for machine learning applications, such as training convolutional neural networks (CNNs).  \n",
    "By combining patches into Sentinel-2 grid collections, the workflow ensures cost efficiency and optimized data extraction.\n",
    "\n",
    "### Workflow\n",
    "\n",
    "1. **Process the GeoDataFrame**  \n",
    "   - Create patches with a fixed size around the center of polygon geometries.  \n",
    "   - Calculate temporal extents for each geometry.  \n",
    "\n",
    "2. **Combine Features Using Sentinel-2 Tiling**  \n",
    "   - Group buffered geometries into collections based on the Sentinel-2 tiling grid.  \n",
    "   - Minimize redundant openEO cost.  \n",
    "\n",
    "3. **Generate Job Metadata DataFrame**  \n",
    "   - Convert processed data into a DataFrame, ready for the MultiBackendJobManager.\n",
    "\n",
    "### Parameters\n",
    "\n",
    "#### Spatial Parameters:\n",
    "- **Buffer Distance:** Buffer size (e.g., 320 meters for a 64x64 patch around polygon centers).  \n",
    "- **Resolution:** Spatial alignment resolution in meters.\n",
    "\n",
    "#### Temporal Parameters:\n",
    "- **Start Date:** Start of the temporal extent (e.g., `\"2020-01-01\"`).  \n",
    "- **Number of Months:** Duration of the temporal extent in months.\n",
    "\n",
    "#### Job Splitting Parameters:\n",
    "- **Max Points Per Job:** Maximum number of features per job batch.\n"
   ]
  },
  {
   "cell_type": "code",
   "execution_count": 4,
   "metadata": {},
   "outputs": [
    {
     "name": "stderr",
     "output_type": "stream",
     "text": [
      "c:\\Users\\VROMPAYH\\AppData\\Local\\anaconda3\\envs\\eotdl_openeo_env\\lib\\site-packages\\openeo_gfmap\\manager\\job_splitters.py:80: UserWarning: Geometry is in a geographic CRS. Results from 'centroid' are likely incorrect. Use 'GeoSeries.to_crs()' to re-project geometries to a projected CRS before this operation.\n",
      "\n",
      "  polygons[\"centroid\"] = polygons.geometry.centroid\n",
      "c:\\Users\\VROMPAYH\\AppData\\Local\\anaconda3\\envs\\eotdl_openeo_env\\lib\\site-packages\\openeo_gfmap\\manager\\job_splitters.py:84: UserWarning: Geometry is in a geographic CRS. Results from 'centroid' are likely incorrect. Use 'GeoSeries.to_crs()' to re-project geometries to a projected CRS before this operation.\n",
      "\n",
      "  s2_grid[\"geometry\"] = s2_grid.geometry.centroid\n",
      "c:\\Users\\VROMPAYH\\AppData\\Local\\anaconda3\\envs\\eotdl_openeo_env\\lib\\site-packages\\geopandas\\array.py:403: UserWarning: Geometry is in a geographic CRS. Results from 'sjoin_nearest' are likely incorrect. Use 'GeoSeries.to_crs()' to re-project geometries to a projected CRS before this operation.\n",
      "\n",
      "  warnings.warn(\n"
     ]
    },
    {
     "data": {
      "text/html": [
       "<div>\n",
       "<style scoped>\n",
       "    .dataframe tbody tr th:only-of-type {\n",
       "        vertical-align: middle;\n",
       "    }\n",
       "\n",
       "    .dataframe tbody tr th {\n",
       "        vertical-align: top;\n",
       "    }\n",
       "\n",
       "    .dataframe thead th {\n",
       "        text-align: right;\n",
       "    }\n",
       "</style>\n",
       "<table border=\"1\" class=\"dataframe\">\n",
       "  <thead>\n",
       "    <tr style=\"text-align: right;\">\n",
       "      <th></th>\n",
       "      <th>temporal_extent</th>\n",
       "      <th>geometry</th>\n",
       "      <th>s2_tile</th>\n",
       "      <th>h3index</th>\n",
       "      <th>crs</th>\n",
       "      <th>feature_count</th>\n",
       "    </tr>\n",
       "  </thead>\n",
       "  <tbody>\n",
       "    <tr>\n",
       "      <th>0</th>\n",
       "      <td>[2020-01-01, 2020-04-01]</td>\n",
       "      <td>{\"type\": \"FeatureCollection\", \"features\": [{\"i...</td>\n",
       "      <td>31UES</td>\n",
       "      <td>83194dfffffffff</td>\n",
       "      <td>EPSG:32631</td>\n",
       "      <td>1</td>\n",
       "    </tr>\n",
       "    <tr>\n",
       "      <th>1</th>\n",
       "      <td>[2020-01-01, 2020-04-01]</td>\n",
       "      <td>{\"type\": \"FeatureCollection\", \"features\": [{\"i...</td>\n",
       "      <td>31UES</td>\n",
       "      <td>83194dfffffffff</td>\n",
       "      <td>EPSG:32631</td>\n",
       "      <td>1</td>\n",
       "    </tr>\n",
       "  </tbody>\n",
       "</table>\n",
       "</div>"
      ],
      "text/plain": [
       "            temporal_extent  \\\n",
       "0  [2020-01-01, 2020-04-01]   \n",
       "1  [2020-01-01, 2020-04-01]   \n",
       "\n",
       "                                            geometry s2_tile          h3index  \\\n",
       "0  {\"type\": \"FeatureCollection\", \"features\": [{\"i...   31UES  83194dfffffffff   \n",
       "1  {\"type\": \"FeatureCollection\", \"features\": [{\"i...   31UES  83194dfffffffff   \n",
       "\n",
       "          crs  feature_count  \n",
       "0  EPSG:32631              1  \n",
       "1  EPSG:32631              1  "
      ]
     },
     "execution_count": 4,
     "metadata": {},
     "output_type": "execute_result"
    }
   ],
   "source": [
    "from dataframe_utils import *\n",
    "\n",
    "# Constants\n",
    "start_date = \"2020-01-01\"\n",
    "nb_months = 3\n",
    "\n",
    "pixel_size = 64  # Buffer distance in meters\n",
    "resolution = 10\n",
    "\n",
    "job_df = process_and_create_jobs(\n",
    "    gdf, start_date, nb_months, pixel_size, resolution, max_points=1)\n",
    "\n",
    "job_df"
   ]
  },
  {
   "cell_type": "code",
   "execution_count": 5,
   "metadata": {},
   "outputs": [
    {
     "data": {
      "text/plain": [
       "'{\"type\": \"FeatureCollection\", \"features\": [{\"id\": \"0\", \"type\": \"Feature\", \"properties\": {\"fid\": 56.0, \"crs\": \"EPSG:32631\", \"temporal_extent\": [\"2020-01-01\", \"2020-04-01\"], \"h3index\": \"83194dfffffffff\", \"tile\": \"31UES\"}, \"geometry\": {\"type\": \"Polygon\", \"coordinates\": [[[505550.0, 5652740.0], [505550.0, 5652099.999999999], [504910.0, 5652100.0], [504909.99999999994, 5652740.0], [505550.0, 5652740.0]]]}}], \"crs\": {\"type\": \"name\", \"properties\": {\"name\": \"urn:ogc:def:crs:EPSG::32631\"}}}'"
      ]
     },
     "execution_count": 5,
     "metadata": {},
     "output_type": "execute_result"
    }
   ],
   "source": [
    "job_df.geometry.iloc[0]"
   ]
  },
  {
   "cell_type": "markdown",
   "metadata": {},
   "source": [
    "# Start Job with Standardized UDPs and Feature Collection Filtering\n",
    "\n",
    "This function initializes an openEO batch job using standardized **User-Defined Processes (UDPs)** for Sentinel-1 and Sentinel-2 data processing. It employs a spatial filter designed for non-lat/lon feature collections to ensure precise patch sizes in UTM coordinates.\n",
    "\n",
    "### Key Features\n",
    "\n",
    "1. **Use of Standardized UDPs**  \n",
    "   - **S1 Weekly Statistics:** Computes weekly statistics from Sentinel-1 data.  \n",
    "   - **S2 Weekly Statistics:** Computes weekly statistics from Sentinel-2 data.  \n",
    "   - UDPs are defined in external JSON files.\n",
    "\n",
    "2. **Spatial Filtering with `load_url`**  \n",
    "   - Accepts feature collections in **UTM coordinates** to guarantee patches with exact dimensions (e.g., 64x64 meters).  \n",
    "   - Features are uploaded as a GeoParquet file to an creodias S3 bucket, enabling spatial filtering directly on the server.\n",
    "\n",
    "3. **Cube Merging**  \n",
    "   - Merges Sentinel-1 and Sentinel-2 datacubes for combined analysis.\n",
    "\n",
    "4. **Job Configuration**  \n",
    "   - Saves each feature in the collection as a separate file.  \n",
    "   - Outputs results in **NetCDF** format with filenames derived"
   ]
  },
  {
   "cell_type": "code",
   "execution_count": null,
   "metadata": {},
   "outputs": [],
   "source": [
    "import geojson\n",
    "import openeo\n",
    "from s3proxy_utils import upload_geoparquet_file\n",
    "\n",
    "def start_job(row: pd.Series, connection: openeo.Connection, **kwargs) -> openeo.BatchJob:\n",
    "\n",
    "        temporal_extent = row[\"temporal_extent\"]\n",
    "        crs = row['crs']\n",
    "\n",
    "        # set up load url in order to allow non-latlon feature collections for spatial filtering\n",
    "        geometry = geojson.loads(row[\"geometry\"])\n",
    "        features = gpd.GeoDataFrame.from_features(geometry).set_crs(crs)\n",
    "        url = upload_geoparquet_file(features,connection)\n",
    "\n",
    "        #run the s1 and s2 udp\n",
    "        s1 = connection.datacube_from_process(\n",
    "                \"s1_weekly_statistics\",\n",
    "                namespace=\"https://raw.githubusercontent.com/earthpulse/eotdl/refs/heads/hv_openeoexample/tutorials/notebooks/openeo/s1_weekly_statistics.json\",\n",
    "                temporal_extent=temporal_extent,\n",
    "                )\n",
    "        \n",
    "        s2 = connection.datacube_from_process(\n",
    "                \"s2_weekly_statistics\",\n",
    "                namespace=\"https://raw.githubusercontent.com/earthpulse/eotdl/refs/heads/hv_openeoexample/tutorials/notebooks/openeo/s2_weekly_statistics.json\",\n",
    "                temporal_extent=temporal_extent,\n",
    "                )\n",
    "        \n",
    "        #merge both cubes and filter across the feature collection\n",
    "        merged = s2.merge_cubes(s1)\n",
    "        result = merged.filter_spatial(connection.load_url(url, format=\"Parquet\"))\n",
    "        \n",
    "        #dedicated job settings to save the individual features within a collection seperately\n",
    "        job = result.create_job(\n",
    "                out_format=\"NetCDF\",\n",
    "                sample_by_feature = True,\n",
    "                feature_id_property = \"fid\",\n",
    "                filename_prefix = \"eotdl\"\n",
    "        )\n",
    "\n",
    "        return job"
   ]
  },
  {
   "cell_type": "markdown",
   "metadata": {},
   "source": [
    "### Submit Extraction Jobs\n",
    "\n",
    "Using the openEO backend, we authenticate and submit the jobs to process the EO data. \n",
    "Each job extracts Sentinel 1 and Sentinel 2 training features."
   ]
  },
  {
   "cell_type": "code",
   "execution_count": 7,
   "metadata": {},
   "outputs": [
    {
     "name": "stdout",
     "output_type": "stream",
     "text": [
      "Authenticated using refresh token.\n"
     ]
    },
    {
     "name": "stderr",
     "output_type": "stream",
     "text": [
      "c:\\Users\\VROMPAYH\\AppData\\Local\\anaconda3\\envs\\eotdl_openeo_env\\lib\\site-packages\\openeo\\extra\\job_management.py:394: FutureWarning: Setting an item of incompatible dtype is deprecated and will raise an error in a future version of pandas. Value 'cdse' has dtype incompatible with float64, please explicitly cast to a compatible dtype first.\n",
      "  df.loc[i, \"backend_name\"] = backend_name\n",
      "c:\\Users\\VROMPAYH\\AppData\\Local\\anaconda3\\envs\\eotdl_openeo_env\\lib\\site-packages\\openeo\\extra\\job_management.py:410: FutureWarning: Setting an item of incompatible dtype is deprecated and will raise an error in a future version of pandas. Value '2024-12-04T23:09:27.260305' has dtype incompatible with float64, please explicitly cast to a compatible dtype first.\n",
      "  df.loc[i, \"start_time\"] = datetime.datetime.now().isoformat()\n",
      "c:\\Users\\VROMPAYH\\AppData\\Local\\anaconda3\\envs\\eotdl_openeo_env\\lib\\site-packages\\openeo\\extra\\job_management.py:412: FutureWarning: Setting an item of incompatible dtype is deprecated and will raise an error in a future version of pandas. Value 'j-2412040c0885416f8becec2d22b979f5' has dtype incompatible with float64, please explicitly cast to a compatible dtype first.\n",
      "  df.loc[i, \"id\"] = job.job_id\n",
      "c:\\Users\\VROMPAYH\\AppData\\Local\\anaconda3\\envs\\eotdl_openeo_env\\lib\\site-packages\\openeo\\extra\\job_management.py:510: FutureWarning: Setting an item of incompatible dtype is deprecated and will raise an error in a future version of pandas. Value '723.7824054600001 cpu-seconds' has dtype incompatible with float64, please explicitly cast to a compatible dtype first.\n",
      "  df.loc[i, key] = _format_usage_stat(job_metadata, key)\n",
      "c:\\Users\\VROMPAYH\\AppData\\Local\\anaconda3\\envs\\eotdl_openeo_env\\lib\\site-packages\\openeo\\extra\\job_management.py:510: FutureWarning: Setting an item of incompatible dtype is deprecated and will raise an error in a future version of pandas. Value '210 seconds' has dtype incompatible with float64, please explicitly cast to a compatible dtype first.\n",
      "  df.loc[i, key] = _format_usage_stat(job_metadata, key)\n",
      "c:\\Users\\VROMPAYH\\AppData\\Local\\anaconda3\\envs\\eotdl_openeo_env\\lib\\site-packages\\openeo\\extra\\job_management.py:510: FutureWarning: Setting an item of incompatible dtype is deprecated and will raise an error in a future version of pandas. Value '5359289.003906251 mb-seconds' has dtype incompatible with float64, please explicitly cast to a compatible dtype first.\n",
      "  df.loc[i, key] = _format_usage_stat(job_metadata, key)\n"
     ]
    }
   ],
   "source": [
    "import openeo\n",
    "from openeo.extra.job_management import MultiBackendJobManager, CsvJobDatabase\n",
    "\n",
    "# Authenticate and add the backend\n",
    "connection = openeo.connect(url=\"openeo.dataspace.copernicus.eu\").authenticate_oidc()\n",
    "\n",
    "# initialize the job manager\n",
    "manager = MultiBackendJobManager()\n",
    "manager.add_backend(\"cdse\", connection=connection, parallel_jobs=2)\n",
    "\n",
    "job_tracker = 'jobs.csv'\n",
    "job_db = CsvJobDatabase(path=job_tracker)\n",
    "if not job_db.exists():\n",
    "    df = manager._normalize_df(job_df)\n",
    "    job_db.persist(df)\n",
    "\n",
    "manager.run_jobs(df = job_df, start_job=start_job, job_db=job_db)\n",
    "\n"
   ]
  },
  {
   "cell_type": "markdown",
   "metadata": {},
   "source": [
    "Step 4: We run the various openEO Jobs. Note all data will be locally downloaded as netcdfs named after the file_name property within the individual features (see process_file)"
   ]
  },
  {
   "cell_type": "markdown",
   "metadata": {},
   "source": [
    "TODO;\n",
    "1) simplified example. (non cost efficient)\n",
    "--> point extraction (parcel averaged)\n",
    "2) integrate with eotdl example\n",
    "3) export workspace\n",
    "4) advanced patch extraction\n",
    "5) signed URL"
   ]
  }
 ],
 "metadata": {
  "kernelspec": {
   "display_name": "eotdl_openeo_env",
   "language": "python",
   "name": "python3"
  },
  "language_info": {
   "codemirror_mode": {
    "name": "ipython",
    "version": 3
   },
   "file_extension": ".py",
   "mimetype": "text/x-python",
   "name": "python",
   "nbconvert_exporter": "python",
   "pygments_lexer": "ipython3",
   "version": "3.9.20"
  }
 },
 "nbformat": 4,
 "nbformat_minor": 2
}
