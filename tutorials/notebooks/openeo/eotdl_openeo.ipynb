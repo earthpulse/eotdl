{
 "cells": [
  {
   "cell_type": "markdown",
   "metadata": {},
   "source": [
    "Step 1: download the data from eotdl"
   ]
  },
  {
   "cell_type": "code",
   "execution_count": null,
   "metadata": {},
   "outputs": [],
   "source": [
    "import os\n",
    "import zipfile\n",
    "import eotdl\n",
    "from eotdl.datasets import download_dataset\n",
    "\n",
    "download_dataset(\"EuroSAT\", version=1, path=\"data\", force=True)\n",
    "\n",
    "os.makedirs(\"data/EuroSAT\", exist_ok=True)\n",
    "\n",
    "with zipfile.ZipFile(\"data/EuroSAT/v1/EuroSAT.zip\", 'r') as zip_ref:\n",
    "    zip_ref.extractall(\"data/EuroSAT\")"
   ]
  },
  {
   "cell_type": "markdown",
   "metadata": {},
   "source": [
    "Step 2: Make a random selection of labelled data for which we want to extract EO data, from the images we can readily extract their geospatial bounding box. We append this information into a dataframe which will lateron be used to orchestrate the EO data extraction."
   ]
  },
  {
   "cell_type": "code",
   "execution_count": 16,
   "metadata": {},
   "outputs": [
    {
     "name": "stderr",
     "output_type": "stream",
     "text": [
      "c:\\Users\\VROMPAYH\\AppData\\Local\\anaconda3\\envs\\eotdl_openeo_env\\lib\\site-packages\\openeo_gfmap\\manager\\job_splitters.py:80: UserWarning: Geometry is in a geographic CRS. Results from 'centroid' are likely incorrect. Use 'GeoSeries.to_crs()' to re-project geometries to a projected CRS before this operation.\n",
      "\n",
      "  polygons[\"centroid\"] = polygons.geometry.centroid\n",
      "c:\\Users\\VROMPAYH\\AppData\\Local\\anaconda3\\envs\\eotdl_openeo_env\\lib\\site-packages\\openeo_gfmap\\manager\\job_splitters.py:84: UserWarning: Geometry is in a geographic CRS. Results from 'centroid' are likely incorrect. Use 'GeoSeries.to_crs()' to re-project geometries to a projected CRS before this operation.\n",
      "\n",
      "  s2_grid[\"geometry\"] = s2_grid.geometry.centroid\n",
      "c:\\Users\\VROMPAYH\\AppData\\Local\\anaconda3\\envs\\eotdl_openeo_env\\lib\\site-packages\\geopandas\\array.py:403: UserWarning: Geometry is in a geographic CRS. Results from 'sjoin_nearest' are likely incorrect. Use 'GeoSeries.to_crs()' to re-project geometries to a projected CRS before this operation.\n",
      "\n",
      "  warnings.warn(\n",
      "c:\\Users\\VROMPAYH\\AppData\\Local\\anaconda3\\envs\\eotdl_openeo_env\\lib\\site-packages\\openeo_gfmap\\manager\\job_splitters.py:80: UserWarning: Geometry is in a geographic CRS. Results from 'centroid' are likely incorrect. Use 'GeoSeries.to_crs()' to re-project geometries to a projected CRS before this operation.\n",
      "\n",
      "  polygons[\"centroid\"] = polygons.geometry.centroid\n",
      "c:\\Users\\VROMPAYH\\AppData\\Local\\anaconda3\\envs\\eotdl_openeo_env\\lib\\site-packages\\openeo_gfmap\\manager\\job_splitters.py:84: UserWarning: Geometry is in a geographic CRS. Results from 'centroid' are likely incorrect. Use 'GeoSeries.to_crs()' to re-project geometries to a projected CRS before this operation.\n",
      "\n",
      "  s2_grid[\"geometry\"] = s2_grid.geometry.centroid\n",
      "c:\\Users\\VROMPAYH\\AppData\\Local\\anaconda3\\envs\\eotdl_openeo_env\\lib\\site-packages\\geopandas\\array.py:403: UserWarning: Geometry is in a geographic CRS. Results from 'sjoin_nearest' are likely incorrect. Use 'GeoSeries.to_crs()' to re-project geometries to a projected CRS before this operation.\n",
      "\n",
      "  warnings.warn(\n",
      "c:\\Users\\VROMPAYH\\AppData\\Local\\anaconda3\\envs\\eotdl_openeo_env\\lib\\site-packages\\openeo_gfmap\\manager\\job_splitters.py:80: UserWarning: Geometry is in a geographic CRS. Results from 'centroid' are likely incorrect. Use 'GeoSeries.to_crs()' to re-project geometries to a projected CRS before this operation.\n",
      "\n",
      "  polygons[\"centroid\"] = polygons.geometry.centroid\n",
      "c:\\Users\\VROMPAYH\\AppData\\Local\\anaconda3\\envs\\eotdl_openeo_env\\lib\\site-packages\\openeo_gfmap\\manager\\job_splitters.py:84: UserWarning: Geometry is in a geographic CRS. Results from 'centroid' are likely incorrect. Use 'GeoSeries.to_crs()' to re-project geometries to a projected CRS before this operation.\n",
      "\n",
      "  s2_grid[\"geometry\"] = s2_grid.geometry.centroid\n",
      "c:\\Users\\VROMPAYH\\AppData\\Local\\anaconda3\\envs\\eotdl_openeo_env\\lib\\site-packages\\geopandas\\array.py:403: UserWarning: Geometry is in a geographic CRS. Results from 'sjoin_nearest' are likely incorrect. Use 'GeoSeries.to_crs()' to re-project geometries to a projected CRS before this operation.\n",
      "\n",
      "  warnings.warn(\n",
      "c:\\Users\\VROMPAYH\\AppData\\Local\\anaconda3\\envs\\eotdl_openeo_env\\lib\\site-packages\\openeo_gfmap\\manager\\job_splitters.py:80: UserWarning: Geometry is in a geographic CRS. Results from 'centroid' are likely incorrect. Use 'GeoSeries.to_crs()' to re-project geometries to a projected CRS before this operation.\n",
      "\n",
      "  polygons[\"centroid\"] = polygons.geometry.centroid\n",
      "c:\\Users\\VROMPAYH\\AppData\\Local\\anaconda3\\envs\\eotdl_openeo_env\\lib\\site-packages\\openeo_gfmap\\manager\\job_splitters.py:84: UserWarning: Geometry is in a geographic CRS. Results from 'centroid' are likely incorrect. Use 'GeoSeries.to_crs()' to re-project geometries to a projected CRS before this operation.\n",
      "\n",
      "  s2_grid[\"geometry\"] = s2_grid.geometry.centroid\n",
      "c:\\Users\\VROMPAYH\\AppData\\Local\\anaconda3\\envs\\eotdl_openeo_env\\lib\\site-packages\\geopandas\\array.py:403: UserWarning: Geometry is in a geographic CRS. Results from 'sjoin_nearest' are likely incorrect. Use 'GeoSeries.to_crs()' to re-project geometries to a projected CRS before this operation.\n",
      "\n",
      "  warnings.warn(\n",
      "c:\\Users\\VROMPAYH\\AppData\\Local\\anaconda3\\envs\\eotdl_openeo_env\\lib\\site-packages\\openeo_gfmap\\manager\\job_splitters.py:80: UserWarning: Geometry is in a geographic CRS. Results from 'centroid' are likely incorrect. Use 'GeoSeries.to_crs()' to re-project geometries to a projected CRS before this operation.\n",
      "\n",
      "  polygons[\"centroid\"] = polygons.geometry.centroid\n",
      "c:\\Users\\VROMPAYH\\AppData\\Local\\anaconda3\\envs\\eotdl_openeo_env\\lib\\site-packages\\openeo_gfmap\\manager\\job_splitters.py:84: UserWarning: Geometry is in a geographic CRS. Results from 'centroid' are likely incorrect. Use 'GeoSeries.to_crs()' to re-project geometries to a projected CRS before this operation.\n",
      "\n",
      "  s2_grid[\"geometry\"] = s2_grid.geometry.centroid\n",
      "c:\\Users\\VROMPAYH\\AppData\\Local\\anaconda3\\envs\\eotdl_openeo_env\\lib\\site-packages\\geopandas\\array.py:403: UserWarning: Geometry is in a geographic CRS. Results from 'sjoin_nearest' are likely incorrect. Use 'GeoSeries.to_crs()' to re-project geometries to a projected CRS before this operation.\n",
      "\n",
      "  warnings.warn(\n",
      "c:\\Users\\VROMPAYH\\AppData\\Local\\anaconda3\\envs\\eotdl_openeo_env\\lib\\site-packages\\openeo_gfmap\\manager\\job_splitters.py:80: UserWarning: Geometry is in a geographic CRS. Results from 'centroid' are likely incorrect. Use 'GeoSeries.to_crs()' to re-project geometries to a projected CRS before this operation.\n",
      "\n",
      "  polygons[\"centroid\"] = polygons.geometry.centroid\n",
      "c:\\Users\\VROMPAYH\\AppData\\Local\\anaconda3\\envs\\eotdl_openeo_env\\lib\\site-packages\\openeo_gfmap\\manager\\job_splitters.py:84: UserWarning: Geometry is in a geographic CRS. Results from 'centroid' are likely incorrect. Use 'GeoSeries.to_crs()' to re-project geometries to a projected CRS before this operation.\n",
      "\n",
      "  s2_grid[\"geometry\"] = s2_grid.geometry.centroid\n",
      "c:\\Users\\VROMPAYH\\AppData\\Local\\anaconda3\\envs\\eotdl_openeo_env\\lib\\site-packages\\geopandas\\array.py:403: UserWarning: Geometry is in a geographic CRS. Results from 'sjoin_nearest' are likely incorrect. Use 'GeoSeries.to_crs()' to re-project geometries to a projected CRS before this operation.\n",
      "\n",
      "  warnings.warn(\n",
      "c:\\Users\\VROMPAYH\\AppData\\Local\\anaconda3\\envs\\eotdl_openeo_env\\lib\\site-packages\\openeo_gfmap\\manager\\job_splitters.py:80: UserWarning: Geometry is in a geographic CRS. Results from 'centroid' are likely incorrect. Use 'GeoSeries.to_crs()' to re-project geometries to a projected CRS before this operation.\n",
      "\n",
      "  polygons[\"centroid\"] = polygons.geometry.centroid\n",
      "c:\\Users\\VROMPAYH\\AppData\\Local\\anaconda3\\envs\\eotdl_openeo_env\\lib\\site-packages\\openeo_gfmap\\manager\\job_splitters.py:84: UserWarning: Geometry is in a geographic CRS. Results from 'centroid' are likely incorrect. Use 'GeoSeries.to_crs()' to re-project geometries to a projected CRS before this operation.\n",
      "\n",
      "  s2_grid[\"geometry\"] = s2_grid.geometry.centroid\n",
      "c:\\Users\\VROMPAYH\\AppData\\Local\\anaconda3\\envs\\eotdl_openeo_env\\lib\\site-packages\\geopandas\\array.py:403: UserWarning: Geometry is in a geographic CRS. Results from 'sjoin_nearest' are likely incorrect. Use 'GeoSeries.to_crs()' to re-project geometries to a projected CRS before this operation.\n",
      "\n",
      "  warnings.warn(\n",
      "c:\\Users\\VROMPAYH\\AppData\\Local\\anaconda3\\envs\\eotdl_openeo_env\\lib\\site-packages\\openeo_gfmap\\manager\\job_splitters.py:80: UserWarning: Geometry is in a geographic CRS. Results from 'centroid' are likely incorrect. Use 'GeoSeries.to_crs()' to re-project geometries to a projected CRS before this operation.\n",
      "\n",
      "  polygons[\"centroid\"] = polygons.geometry.centroid\n",
      "c:\\Users\\VROMPAYH\\AppData\\Local\\anaconda3\\envs\\eotdl_openeo_env\\lib\\site-packages\\openeo_gfmap\\manager\\job_splitters.py:84: UserWarning: Geometry is in a geographic CRS. Results from 'centroid' are likely incorrect. Use 'GeoSeries.to_crs()' to re-project geometries to a projected CRS before this operation.\n",
      "\n",
      "  s2_grid[\"geometry\"] = s2_grid.geometry.centroid\n",
      "c:\\Users\\VROMPAYH\\AppData\\Local\\anaconda3\\envs\\eotdl_openeo_env\\lib\\site-packages\\geopandas\\array.py:403: UserWarning: Geometry is in a geographic CRS. Results from 'sjoin_nearest' are likely incorrect. Use 'GeoSeries.to_crs()' to re-project geometries to a projected CRS before this operation.\n",
      "\n",
      "  warnings.warn(\n"
     ]
    }
   ],
   "source": [
    "from dataframe_utils import *\n",
    "\n",
    "# Constants\n",
    "src_dir = r\"C:\\Git_projects\\eotdl_wip\\data\\EuroSAT\\ds\\images\\remote_sensing\"\n",
    "num_files = 100 #number of images we wish to process\n",
    "\n",
    "start_date = \"2020-01-01\"\n",
    "nb_months = 3\n",
    "\n",
    "distance_m = 320  # Buffer distance in meters\n",
    "resolution = 20.0  # Grid resolution in meters\n",
    "\n",
    "tif_files = get_tif_files(src_dir)\n",
    "selected_files = random.sample(tif_files, num_files)\n",
    "\n",
    "base_df = generate_geodataframe_per_utm(selected_files, start_date, nb_months, distance_m, resolution)\n",
    "split_df = process_split_jobs(base_df, 10)\n",
    "job_df = create_job_dataframe_s2(split_df)\n"
   ]
  },
  {
   "cell_type": "markdown",
   "metadata": {},
   "source": [
    "Subselection for quick testing"
   ]
  },
  {
   "cell_type": "code",
   "execution_count": 17,
   "metadata": {},
   "outputs": [
    {
     "data": {
      "text/html": [
       "<div>\n",
       "<style scoped>\n",
       "    .dataframe tbody tr th:only-of-type {\n",
       "        vertical-align: middle;\n",
       "    }\n",
       "\n",
       "    .dataframe tbody tr th {\n",
       "        vertical-align: top;\n",
       "    }\n",
       "\n",
       "    .dataframe thead th {\n",
       "        text-align: right;\n",
       "    }\n",
       "</style>\n",
       "<table border=\"1\" class=\"dataframe\">\n",
       "  <thead>\n",
       "    <tr style=\"text-align: right;\">\n",
       "      <th></th>\n",
       "      <th>temporal_extent</th>\n",
       "      <th>geometry</th>\n",
       "      <th>s2_tile</th>\n",
       "      <th>h3index</th>\n",
       "      <th>crs</th>\n",
       "      <th>feature_count</th>\n",
       "    </tr>\n",
       "  </thead>\n",
       "  <tbody>\n",
       "    <tr>\n",
       "      <th>4</th>\n",
       "      <td>[2020-01-01, 2020-04-01]</td>\n",
       "      <td>{\"type\": \"FeatureCollection\", \"features\": [{\"i...</td>\n",
       "      <td>33TXF</td>\n",
       "      <td>831e88fffffffff</td>\n",
       "      <td>EPSG:32633</td>\n",
       "      <td>4</td>\n",
       "    </tr>\n",
       "    <tr>\n",
       "      <th>7</th>\n",
       "      <td>[2020-01-01, 2020-04-01]</td>\n",
       "      <td>{\"type\": \"FeatureCollection\", \"features\": [{\"i...</td>\n",
       "      <td>33UXA</td>\n",
       "      <td>831f0dfffffffff</td>\n",
       "      <td>EPSG:32633</td>\n",
       "      <td>3</td>\n",
       "    </tr>\n",
       "  </tbody>\n",
       "</table>\n",
       "</div>"
      ],
      "text/plain": [
       "            temporal_extent  \\\n",
       "4  [2020-01-01, 2020-04-01]   \n",
       "7  [2020-01-01, 2020-04-01]   \n",
       "\n",
       "                                            geometry s2_tile          h3index  \\\n",
       "4  {\"type\": \"FeatureCollection\", \"features\": [{\"i...   33TXF  831e88fffffffff   \n",
       "7  {\"type\": \"FeatureCollection\", \"features\": [{\"i...   33UXA  831f0dfffffffff   \n",
       "\n",
       "          crs  feature_count  \n",
       "4  EPSG:32633              4  \n",
       "7  EPSG:32633              3  "
      ]
     },
     "execution_count": 17,
     "metadata": {},
     "output_type": "execute_result"
    }
   ],
   "source": [
    "# TODO; remove: for testing\n",
    "job_df = job_df[job_df['feature_count'] > 1][0:2]\n",
    "job_df"
   ]
  },
  {
   "cell_type": "code",
   "execution_count": 20,
   "metadata": {},
   "outputs": [
    {
     "name": "stdout",
     "output_type": "stream",
     "text": [
      "Authenticated using refresh token.\n"
     ]
    }
   ],
   "source": [
    "import openeo\n",
    "from openeo.extra.job_management import MultiBackendJobManager, CsvJobDatabase\n",
    "\n",
    "# Authenticate and add the backend\n",
    "connection = openeo.connect(url=\"openeo.dataspace.copernicus.eu\").authenticate_oidc()\n",
    "\n",
    "# initialize the job manager\n",
    "manager = MultiBackendJobManager()\n",
    "manager.add_backend(\"cdse\", connection=connection, parallel_jobs=2)\n",
    "\n",
    "job_tracker = 'jobs.csv'\n",
    "job_db = CsvJobDatabase(path=job_tracker)\n",
    "if not job_db.exists():\n",
    "    df = manager._normalize_df(job_df)\n",
    "    job_db.persist(df)\n",
    "\n"
   ]
  },
  {
   "cell_type": "code",
   "execution_count": null,
   "metadata": {},
   "outputs": [
    {
     "name": "stderr",
     "output_type": "stream",
     "text": [
      "Preflight process graph validation raised: [Internal] 'NoneType' object is not iterable\n",
      "Exception in thread Thread-30:\n",
      "Traceback (most recent call last):\n",
      "  File \"c:\\Users\\VROMPAYH\\AppData\\Local\\anaconda3\\envs\\eotdl_openeo_env\\lib\\site-packages\\requests\\adapters.py\", line 667, in send\n",
      "    resp = conn.urlopen(\n",
      "  File \"c:\\Users\\VROMPAYH\\AppData\\Local\\anaconda3\\envs\\eotdl_openeo_env\\lib\\site-packages\\urllib3\\connectionpool.py\", line 897, in urlopen\n",
      "    return self.urlopen(\n",
      "  File \"c:\\Users\\VROMPAYH\\AppData\\Local\\anaconda3\\envs\\eotdl_openeo_env\\lib\\site-packages\\urllib3\\connectionpool.py\", line 897, in urlopen\n",
      "    return self.urlopen(\n",
      "  File \"c:\\Users\\VROMPAYH\\AppData\\Local\\anaconda3\\envs\\eotdl_openeo_env\\lib\\site-packages\\urllib3\\connectionpool.py\", line 897, in urlopen\n",
      "    return self.urlopen(\n",
      "  [Previous line repeated 2 more times]\n",
      "  File \"c:\\Users\\VROMPAYH\\AppData\\Local\\anaconda3\\envs\\eotdl_openeo_env\\lib\\site-packages\\urllib3\\connectionpool.py\", line 887, in urlopen\n",
      "    retries = retries.increment(method, url, response=response, _pool=self)\n",
      "  File \"c:\\Users\\VROMPAYH\\AppData\\Local\\anaconda3\\envs\\eotdl_openeo_env\\lib\\site-packages\\urllib3\\util\\retry.py\", line 594, in increment\n",
      "    raise MaxRetryError(_pool, url, error or ResponseError(cause))\n",
      "urllib3.exceptions.MaxRetryError: HTTPSConnectionPool(host='openeo.dataspace.copernicus.eu', port=443): Max retries exceeded with url: /openeo/1.2/jobs/j-241119cca6e941a299bf7884c9f8dbf8/results (Caused by ResponseError('too many 500 error responses'))\n",
      "\n",
      "During handling of the above exception, another exception occurred:\n",
      "\n",
      "Traceback (most recent call last):\n",
      "  File \"c:\\Users\\VROMPAYH\\AppData\\Local\\anaconda3\\envs\\eotdl_openeo_env\\lib\\threading.py\", line 980, in _bootstrap_inner\n",
      "    self.run()\n",
      "  File \"c:\\Users\\VROMPAYH\\AppData\\Local\\anaconda3\\envs\\eotdl_openeo_env\\lib\\site-packages\\ipykernel\\ipkernel.py\", line 766, in run_closure\n",
      "    _threading_Thread_run(self)\n",
      "  File \"c:\\Users\\VROMPAYH\\AppData\\Local\\anaconda3\\envs\\eotdl_openeo_env\\lib\\threading.py\", line 917, in run\n",
      "    self._target(*self._args, **self._kwargs)\n",
      "  File \"c:\\Users\\VROMPAYH\\AppData\\Local\\anaconda3\\envs\\eotdl_openeo_env\\lib\\site-packages\\openeo\\extra\\job_management.py\", line 351, in run_loop\n",
      "    self._job_update_loop(job_db=job_db, start_job=start_job)\n",
      "  File \"c:\\Users\\VROMPAYH\\AppData\\Local\\anaconda3\\envs\\eotdl_openeo_env\\lib\\site-packages\\openeo\\extra\\job_management.py\", line 508, in _job_update_loop\n",
      "    self._launch_job(start_job, df=not_started, i=i, backend_name=backend_name, stats=stats)\n",
      "  File \"c:\\Users\\VROMPAYH\\AppData\\Local\\anaconda3\\envs\\eotdl_openeo_env\\lib\\site-packages\\openeo\\extra\\job_management.py\", line 567, in _launch_job\n",
      "    job.start()\n",
      "  File \"c:\\Users\\VROMPAYH\\AppData\\Local\\anaconda3\\envs\\eotdl_openeo_env\\lib\\site-packages\\openeo\\rest\\job.py\", line 122, in start\n",
      "    self.connection.post(f\"/jobs/{self.job_id}/results\", expected_status=202)\n",
      "  File \"c:\\Users\\VROMPAYH\\AppData\\Local\\anaconda3\\envs\\eotdl_openeo_env\\lib\\site-packages\\openeo\\rest\\connection.py\", line 248, in post\n",
      "    return self.request(\"post\", path=path, json=json, allow_redirects=False, **kwargs)\n",
      "  File \"c:\\Users\\VROMPAYH\\AppData\\Local\\anaconda3\\envs\\eotdl_openeo_env\\lib\\site-packages\\openeo\\rest\\connection.py\", line 830, in request\n",
      "    return _request()\n",
      "  File \"c:\\Users\\VROMPAYH\\AppData\\Local\\anaconda3\\envs\\eotdl_openeo_env\\lib\\site-packages\\openeo\\rest\\connection.py\", line 823, in _request\n",
      "    return super(Connection, self).request(\n",
      "  File \"c:\\Users\\VROMPAYH\\AppData\\Local\\anaconda3\\envs\\eotdl_openeo_env\\lib\\site-packages\\openeo\\rest\\connection.py\", line 165, in request\n",
      "    resp = self.session.request(\n",
      "  File \"c:\\Users\\VROMPAYH\\AppData\\Local\\anaconda3\\envs\\eotdl_openeo_env\\lib\\site-packages\\requests\\sessions.py\", line 589, in request\n",
      "    resp = self.send(prep, **send_kwargs)\n",
      "  File \"c:\\Users\\VROMPAYH\\AppData\\Local\\anaconda3\\envs\\eotdl_openeo_env\\lib\\site-packages\\requests\\sessions.py\", line 703, in send\n",
      "    r = adapter.send(request, **kwargs)\n",
      "  File \"c:\\Users\\VROMPAYH\\AppData\\Local\\anaconda3\\envs\\eotdl_openeo_env\\lib\\site-packages\\requests\\adapters.py\", line 691, in send\n",
      "    raise RetryError(e, request=request)\n",
      "requests.exceptions.RetryError: HTTPSConnectionPool(host='openeo.dataspace.copernicus.eu', port=443): Max retries exceeded with url: /openeo/1.2/jobs/j-241119cca6e941a299bf7884c9f8dbf8/results (Caused by ResponseError('too many 500 error responses'))\n"
     ]
    }
   ],
   "source": [
    "import geojson\n",
    "from s3proxy_utils import upload_geoparquet_file\n",
    "\n",
    "def start_job(row: pd.Series, connection: openeo.Connection, **kwargs) -> openeo.BatchJob:\n",
    "\n",
    "        temporal_extent = row[\"temporal_extent\"]\n",
    "        geom_geojson = geojson.loads(row[\"geometry\"])\n",
    "\n",
    "        features = gpd.GeoDataFrame.from_features(geom_geojson).set_crs(row.crs)\n",
    "        url = upload_geoparquet_file(features,connection)\n",
    "\n",
    "        s1 = connection.datacube_from_process(\n",
    "                \"s1_weekly_statistics\",\n",
    "                namespace=\"https://raw.githubusercontent.com/earthpulse/eotdl/refs/heads/hv_openeoexample/tutorials/notebooks/openeo/s1_weekly_statistics.json\",\n",
    "                temporal_extent=temporal_extent,\n",
    "                )\n",
    "        \n",
    "        s2 = connection.datacube_from_process(\n",
    "                \"s2_weekly_statistics\",\n",
    "                namespace=\"https://raw.githubusercontent.com/earthpulse/eotdl/refs/heads/hv_openeoexample/tutorials/notebooks/openeo/s2_weekly_statistics.json\",\n",
    "                temporal_extent=temporal_extent,\n",
    "                )\n",
    "        \n",
    "        #merged = s2.merge_cubes(s1)\n",
    "\n",
    "        result = s1.filter_spatial(connection.load_url(url, format=\"Parquet\"))\n",
    "        result = result.save_result( format= 'NetCDF')\n",
    "        \n",
    "        job = result.create_job(\n",
    "                sample_by_feature = True,\n",
    "                feature_id_property = \"file_name\",\n",
    "                filename_prefix = \"eotdl\"\n",
    "        )\n",
    "\n",
    "        return job\n",
    "\n",
    "manager.start_job_thread(start_job=start_job, job_db=job_db)\n"
   ]
  },
  {
   "cell_type": "code",
   "execution_count": null,
   "metadata": {},
   "outputs": [
    {
     "name": "stdout",
     "output_type": "stream",
     "text": [
      "Authenticated using refresh token.\n",
      "{}\n"
     ]
    },
    {
     "data": {
      "text/plain": [
       "'\\nfeature_crs  = row[\\'geometry\\'].get(\"features\", {})[0].get(\"properties\", {})[\\'crs\\']\\nfeatures = gpd.GeoDataFrame.from_features(row[\\'geometry\\']).set_crs(feature_crs)\\n\\ncube = connection.load_collection(\\n    \"SENTINEL2_L2A\",\\n    temporal_extent=[\\'2020-01-01\\', \\'2020-05-01\\'],\\n    bands=[\"B02\"], \\n    max_cloud_cover=70)\\n\\ncube.filter_spatial(features)\\n\\njob = cube.create_job()\\n\\njob.excecute_batch()\\n'"
      ]
     },
     "execution_count": 15,
     "metadata": {},
     "output_type": "execute_result"
    }
   ],
   "source": [
    "import openeo\n",
    "connection = openeo.connect(url=\"openeo.dataspace.copernicus.eu\").authenticate_oidc()\n",
    "row = job_df[0:1]\n",
    "\n",
    "geom_geojson = geojson.loads(row.geometry)\n",
    "features = gpd.GeoDataFrame.from_features(geom_geojson).set_crs(row.crs)\n",
    "\n",
    "\n",
    "\n",
    "\"\"\"\n",
    "feature_crs  = row['geometry'].get(\"features\", {})[0].get(\"properties\", {})['crs']\n",
    "features = gpd.GeoDataFrame.from_features(row['geometry']).set_crs(feature_crs)\n",
    "\n",
    "cube = connection.load_collection(\n",
    "    \"SENTINEL2_L2A\",\n",
    "    temporal_extent=['2020-01-01', '2020-05-01'],\n",
    "    bands=[\"B02\"], \n",
    "    max_cloud_cover=70)\n",
    "\n",
    "cube.filter_spatial(features)\n",
    "\n",
    "job = cube.create_job()\n",
    "\n",
    "job.excecute_batch()\n",
    "\"\"\""
   ]
  },
  {
   "cell_type": "markdown",
   "metadata": {},
   "source": [
    "Step 3: set up a job manager"
   ]
  },
  {
   "cell_type": "code",
   "execution_count": 31,
   "metadata": {},
   "outputs": [
    {
     "name": "stdout",
     "output_type": "stream",
     "text": [
      "Authenticated using refresh token.\n"
     ]
    },
    {
     "name": "stderr",
     "output_type": "stream",
     "text": [
      "Preflight process graph validation raised: [Internal] filter_spatial does not support '{\"type\": \"FeatureCollection\", \"features\": [{\"id\": \"0\", \"type\": \"Feature\", \"properties\": {\"file_name\": \"SeaLake_2067\", \"crs\": \"EPSG:32633\", \"temporal_extent\": [\"2020-01-01\", \"2020-04-01\"], \"h3index\": \"831e02fffffffff\", \"tile\": \"33UXP\"}, \"geometry\": {\"type\": \"Polygon\", \"coordinates\": [[[665860.0000000002, 5324720.0], [665860.0000000001, 5324079.999999999], [665220.0000000001, 5324079.999999998], [665220.0, 5324720.0], [665860.0000000002, 5324720.0]]]}}, {\"id\": \"1\", \"type\": \"Feature\", \"properties\": {\"file_name\": \"Forest_1192\", \"crs\": \"EPSG:32633\", \"temporal_extent\": [\"2020-01-01\", \"2020-04-01\"], \"h3index\": \"831e06fffffffff\", \"tile\": \"33UXP\"}, \"geometry\": {\"type\": \"Polygon\", \"coordinates\": [[[669840.0, 5382379.999999999], [669840.0000000001, 5381739.999999999], [669199.9999999998, 5381740.0], [669200.0000000001, 5382379.999999999], [669840.0, 5382379.999999999]]]}}, {\"id\": \"2\", \"type\": \"Feature\", \"properties\": {\"file_name\": \"Highway_1135\", \"crs\": \"EPSG:32633\", \"temporal_extent\": [\"2020-01-01\", \"2020-04-01\"], \"h3index\": \"831e15fffffffff\", \"tile\": \"33UXP\"}, \"geometry\": {\"type\": \"Polygon\", \"coordinates\": [[[607899.9999999999, 5300040.0], [607900.0000000001, 5299400.0], [607260.0, 5299400.000000001], [607260.0, 5300040.0], [607899.9999999999, 5300040.0]]]}}], \"crs\": {\"type\": \"name\", \"properties\": {\"name\": \"urn:ogc:def:crs:EPSG::32633\"}}}'\n"
     ]
    },
    {
     "ename": "RetryError",
     "evalue": "HTTPSConnectionPool(host='openeo.dataspace.copernicus.eu', port=443): Max retries exceeded with url: /openeo/1.2/jobs/j-241118f9a55147c59c9fcd3065e62f1e/results (Caused by ResponseError('too many 500 error responses'))",
     "output_type": "error",
     "traceback": [
      "\u001b[1;31m---------------------------------------------------------------------------\u001b[0m",
      "\u001b[1;31mMaxRetryError\u001b[0m                             Traceback (most recent call last)",
      "File \u001b[1;32mc:\\Users\\VROMPAYH\\AppData\\Local\\anaconda3\\envs\\eotdl_openeo_env\\lib\\site-packages\\requests\\adapters.py:667\u001b[0m, in \u001b[0;36mHTTPAdapter.send\u001b[1;34m(self, request, stream, timeout, verify, cert, proxies)\u001b[0m\n\u001b[0;32m    666\u001b[0m \u001b[38;5;28;01mtry\u001b[39;00m:\n\u001b[1;32m--> 667\u001b[0m     resp \u001b[38;5;241m=\u001b[39m \u001b[43mconn\u001b[49m\u001b[38;5;241;43m.\u001b[39;49m\u001b[43murlopen\u001b[49m\u001b[43m(\u001b[49m\n\u001b[0;32m    668\u001b[0m \u001b[43m        \u001b[49m\u001b[43mmethod\u001b[49m\u001b[38;5;241;43m=\u001b[39;49m\u001b[43mrequest\u001b[49m\u001b[38;5;241;43m.\u001b[39;49m\u001b[43mmethod\u001b[49m\u001b[43m,\u001b[49m\n\u001b[0;32m    669\u001b[0m \u001b[43m        \u001b[49m\u001b[43murl\u001b[49m\u001b[38;5;241;43m=\u001b[39;49m\u001b[43murl\u001b[49m\u001b[43m,\u001b[49m\n\u001b[0;32m    670\u001b[0m \u001b[43m        \u001b[49m\u001b[43mbody\u001b[49m\u001b[38;5;241;43m=\u001b[39;49m\u001b[43mrequest\u001b[49m\u001b[38;5;241;43m.\u001b[39;49m\u001b[43mbody\u001b[49m\u001b[43m,\u001b[49m\n\u001b[0;32m    671\u001b[0m \u001b[43m        \u001b[49m\u001b[43mheaders\u001b[49m\u001b[38;5;241;43m=\u001b[39;49m\u001b[43mrequest\u001b[49m\u001b[38;5;241;43m.\u001b[39;49m\u001b[43mheaders\u001b[49m\u001b[43m,\u001b[49m\n\u001b[0;32m    672\u001b[0m \u001b[43m        \u001b[49m\u001b[43mredirect\u001b[49m\u001b[38;5;241;43m=\u001b[39;49m\u001b[38;5;28;43;01mFalse\u001b[39;49;00m\u001b[43m,\u001b[49m\n\u001b[0;32m    673\u001b[0m \u001b[43m        \u001b[49m\u001b[43massert_same_host\u001b[49m\u001b[38;5;241;43m=\u001b[39;49m\u001b[38;5;28;43;01mFalse\u001b[39;49;00m\u001b[43m,\u001b[49m\n\u001b[0;32m    674\u001b[0m \u001b[43m        \u001b[49m\u001b[43mpreload_content\u001b[49m\u001b[38;5;241;43m=\u001b[39;49m\u001b[38;5;28;43;01mFalse\u001b[39;49;00m\u001b[43m,\u001b[49m\n\u001b[0;32m    675\u001b[0m \u001b[43m        \u001b[49m\u001b[43mdecode_content\u001b[49m\u001b[38;5;241;43m=\u001b[39;49m\u001b[38;5;28;43;01mFalse\u001b[39;49;00m\u001b[43m,\u001b[49m\n\u001b[0;32m    676\u001b[0m \u001b[43m        \u001b[49m\u001b[43mretries\u001b[49m\u001b[38;5;241;43m=\u001b[39;49m\u001b[38;5;28;43mself\u001b[39;49m\u001b[38;5;241;43m.\u001b[39;49m\u001b[43mmax_retries\u001b[49m\u001b[43m,\u001b[49m\n\u001b[0;32m    677\u001b[0m \u001b[43m        \u001b[49m\u001b[43mtimeout\u001b[49m\u001b[38;5;241;43m=\u001b[39;49m\u001b[43mtimeout\u001b[49m\u001b[43m,\u001b[49m\n\u001b[0;32m    678\u001b[0m \u001b[43m        \u001b[49m\u001b[43mchunked\u001b[49m\u001b[38;5;241;43m=\u001b[39;49m\u001b[43mchunked\u001b[49m\u001b[43m,\u001b[49m\n\u001b[0;32m    679\u001b[0m \u001b[43m    \u001b[49m\u001b[43m)\u001b[49m\n\u001b[0;32m    681\u001b[0m \u001b[38;5;28;01mexcept\u001b[39;00m (ProtocolError, \u001b[38;5;167;01mOSError\u001b[39;00m) \u001b[38;5;28;01mas\u001b[39;00m err:\n",
      "File \u001b[1;32mc:\\Users\\VROMPAYH\\AppData\\Local\\anaconda3\\envs\\eotdl_openeo_env\\lib\\site-packages\\urllib3\\connectionpool.py:897\u001b[0m, in \u001b[0;36mHTTPConnectionPool.urlopen\u001b[1;34m(self, method, url, body, headers, retries, redirect, assert_same_host, timeout, pool_timeout, release_conn, chunked, body_pos, **response_kw)\u001b[0m\n\u001b[0;32m    896\u001b[0m     log\u001b[38;5;241m.\u001b[39mdebug(\u001b[38;5;124m\"\u001b[39m\u001b[38;5;124mRetry: \u001b[39m\u001b[38;5;132;01m%s\u001b[39;00m\u001b[38;5;124m\"\u001b[39m, url)\n\u001b[1;32m--> 897\u001b[0m     \u001b[38;5;28;01mreturn\u001b[39;00m \u001b[38;5;28mself\u001b[39m\u001b[38;5;241m.\u001b[39murlopen(\n\u001b[0;32m    898\u001b[0m         method,\n\u001b[0;32m    899\u001b[0m         url,\n\u001b[0;32m    900\u001b[0m         body,\n\u001b[0;32m    901\u001b[0m         headers,\n\u001b[0;32m    902\u001b[0m         retries\u001b[38;5;241m=\u001b[39mretries,\n\u001b[0;32m    903\u001b[0m         redirect\u001b[38;5;241m=\u001b[39mredirect,\n\u001b[0;32m    904\u001b[0m         assert_same_host\u001b[38;5;241m=\u001b[39massert_same_host,\n\u001b[0;32m    905\u001b[0m         timeout\u001b[38;5;241m=\u001b[39mtimeout,\n\u001b[0;32m    906\u001b[0m         pool_timeout\u001b[38;5;241m=\u001b[39mpool_timeout,\n\u001b[0;32m    907\u001b[0m         release_conn\u001b[38;5;241m=\u001b[39mrelease_conn,\n\u001b[0;32m    908\u001b[0m         chunked\u001b[38;5;241m=\u001b[39mchunked,\n\u001b[0;32m    909\u001b[0m         body_pos\u001b[38;5;241m=\u001b[39mbody_pos,\n\u001b[0;32m    910\u001b[0m         \u001b[38;5;241m*\u001b[39m\u001b[38;5;241m*\u001b[39mresponse_kw\n\u001b[0;32m    911\u001b[0m     )\n\u001b[0;32m    913\u001b[0m \u001b[38;5;28;01mreturn\u001b[39;00m response\n",
      "File \u001b[1;32mc:\\Users\\VROMPAYH\\AppData\\Local\\anaconda3\\envs\\eotdl_openeo_env\\lib\\site-packages\\urllib3\\connectionpool.py:897\u001b[0m, in \u001b[0;36mHTTPConnectionPool.urlopen\u001b[1;34m(self, method, url, body, headers, retries, redirect, assert_same_host, timeout, pool_timeout, release_conn, chunked, body_pos, **response_kw)\u001b[0m\n\u001b[0;32m    896\u001b[0m     log\u001b[38;5;241m.\u001b[39mdebug(\u001b[38;5;124m\"\u001b[39m\u001b[38;5;124mRetry: \u001b[39m\u001b[38;5;132;01m%s\u001b[39;00m\u001b[38;5;124m\"\u001b[39m, url)\n\u001b[1;32m--> 897\u001b[0m     \u001b[38;5;28;01mreturn\u001b[39;00m \u001b[38;5;28mself\u001b[39m\u001b[38;5;241m.\u001b[39murlopen(\n\u001b[0;32m    898\u001b[0m         method,\n\u001b[0;32m    899\u001b[0m         url,\n\u001b[0;32m    900\u001b[0m         body,\n\u001b[0;32m    901\u001b[0m         headers,\n\u001b[0;32m    902\u001b[0m         retries\u001b[38;5;241m=\u001b[39mretries,\n\u001b[0;32m    903\u001b[0m         redirect\u001b[38;5;241m=\u001b[39mredirect,\n\u001b[0;32m    904\u001b[0m         assert_same_host\u001b[38;5;241m=\u001b[39massert_same_host,\n\u001b[0;32m    905\u001b[0m         timeout\u001b[38;5;241m=\u001b[39mtimeout,\n\u001b[0;32m    906\u001b[0m         pool_timeout\u001b[38;5;241m=\u001b[39mpool_timeout,\n\u001b[0;32m    907\u001b[0m         release_conn\u001b[38;5;241m=\u001b[39mrelease_conn,\n\u001b[0;32m    908\u001b[0m         chunked\u001b[38;5;241m=\u001b[39mchunked,\n\u001b[0;32m    909\u001b[0m         body_pos\u001b[38;5;241m=\u001b[39mbody_pos,\n\u001b[0;32m    910\u001b[0m         \u001b[38;5;241m*\u001b[39m\u001b[38;5;241m*\u001b[39mresponse_kw\n\u001b[0;32m    911\u001b[0m     )\n\u001b[0;32m    913\u001b[0m \u001b[38;5;28;01mreturn\u001b[39;00m response\n",
      "    \u001b[1;31m[... skipping similar frames: HTTPConnectionPool.urlopen at line 897 (2 times)]\u001b[0m\n",
      "File \u001b[1;32mc:\\Users\\VROMPAYH\\AppData\\Local\\anaconda3\\envs\\eotdl_openeo_env\\lib\\site-packages\\urllib3\\connectionpool.py:897\u001b[0m, in \u001b[0;36mHTTPConnectionPool.urlopen\u001b[1;34m(self, method, url, body, headers, retries, redirect, assert_same_host, timeout, pool_timeout, release_conn, chunked, body_pos, **response_kw)\u001b[0m\n\u001b[0;32m    896\u001b[0m     log\u001b[38;5;241m.\u001b[39mdebug(\u001b[38;5;124m\"\u001b[39m\u001b[38;5;124mRetry: \u001b[39m\u001b[38;5;132;01m%s\u001b[39;00m\u001b[38;5;124m\"\u001b[39m, url)\n\u001b[1;32m--> 897\u001b[0m     \u001b[38;5;28;01mreturn\u001b[39;00m \u001b[38;5;28mself\u001b[39m\u001b[38;5;241m.\u001b[39murlopen(\n\u001b[0;32m    898\u001b[0m         method,\n\u001b[0;32m    899\u001b[0m         url,\n\u001b[0;32m    900\u001b[0m         body,\n\u001b[0;32m    901\u001b[0m         headers,\n\u001b[0;32m    902\u001b[0m         retries\u001b[38;5;241m=\u001b[39mretries,\n\u001b[0;32m    903\u001b[0m         redirect\u001b[38;5;241m=\u001b[39mredirect,\n\u001b[0;32m    904\u001b[0m         assert_same_host\u001b[38;5;241m=\u001b[39massert_same_host,\n\u001b[0;32m    905\u001b[0m         timeout\u001b[38;5;241m=\u001b[39mtimeout,\n\u001b[0;32m    906\u001b[0m         pool_timeout\u001b[38;5;241m=\u001b[39mpool_timeout,\n\u001b[0;32m    907\u001b[0m         release_conn\u001b[38;5;241m=\u001b[39mrelease_conn,\n\u001b[0;32m    908\u001b[0m         chunked\u001b[38;5;241m=\u001b[39mchunked,\n\u001b[0;32m    909\u001b[0m         body_pos\u001b[38;5;241m=\u001b[39mbody_pos,\n\u001b[0;32m    910\u001b[0m         \u001b[38;5;241m*\u001b[39m\u001b[38;5;241m*\u001b[39mresponse_kw\n\u001b[0;32m    911\u001b[0m     )\n\u001b[0;32m    913\u001b[0m \u001b[38;5;28;01mreturn\u001b[39;00m response\n",
      "File \u001b[1;32mc:\\Users\\VROMPAYH\\AppData\\Local\\anaconda3\\envs\\eotdl_openeo_env\\lib\\site-packages\\urllib3\\connectionpool.py:887\u001b[0m, in \u001b[0;36mHTTPConnectionPool.urlopen\u001b[1;34m(self, method, url, body, headers, retries, redirect, assert_same_host, timeout, pool_timeout, release_conn, chunked, body_pos, **response_kw)\u001b[0m\n\u001b[0;32m    886\u001b[0m \u001b[38;5;28;01mtry\u001b[39;00m:\n\u001b[1;32m--> 887\u001b[0m     retries \u001b[38;5;241m=\u001b[39m \u001b[43mretries\u001b[49m\u001b[38;5;241;43m.\u001b[39;49m\u001b[43mincrement\u001b[49m\u001b[43m(\u001b[49m\u001b[43mmethod\u001b[49m\u001b[43m,\u001b[49m\u001b[43m \u001b[49m\u001b[43murl\u001b[49m\u001b[43m,\u001b[49m\u001b[43m \u001b[49m\u001b[43mresponse\u001b[49m\u001b[38;5;241;43m=\u001b[39;49m\u001b[43mresponse\u001b[49m\u001b[43m,\u001b[49m\u001b[43m \u001b[49m\u001b[43m_pool\u001b[49m\u001b[38;5;241;43m=\u001b[39;49m\u001b[38;5;28;43mself\u001b[39;49m\u001b[43m)\u001b[49m\n\u001b[0;32m    888\u001b[0m \u001b[38;5;28;01mexcept\u001b[39;00m MaxRetryError:\n",
      "File \u001b[1;32mc:\\Users\\VROMPAYH\\AppData\\Local\\anaconda3\\envs\\eotdl_openeo_env\\lib\\site-packages\\urllib3\\util\\retry.py:594\u001b[0m, in \u001b[0;36mRetry.increment\u001b[1;34m(self, method, url, response, error, _pool, _stacktrace)\u001b[0m\n\u001b[0;32m    593\u001b[0m \u001b[38;5;28;01mif\u001b[39;00m new_retry\u001b[38;5;241m.\u001b[39mis_exhausted():\n\u001b[1;32m--> 594\u001b[0m     \u001b[38;5;28;01mraise\u001b[39;00m MaxRetryError(_pool, url, error \u001b[38;5;129;01mor\u001b[39;00m ResponseError(cause))\n\u001b[0;32m    596\u001b[0m log\u001b[38;5;241m.\u001b[39mdebug(\u001b[38;5;124m\"\u001b[39m\u001b[38;5;124mIncremented Retry for (url=\u001b[39m\u001b[38;5;124m'\u001b[39m\u001b[38;5;132;01m%s\u001b[39;00m\u001b[38;5;124m'\u001b[39m\u001b[38;5;124m): \u001b[39m\u001b[38;5;132;01m%r\u001b[39;00m\u001b[38;5;124m\"\u001b[39m, url, new_retry)\n",
      "\u001b[1;31mMaxRetryError\u001b[0m: HTTPSConnectionPool(host='openeo.dataspace.copernicus.eu', port=443): Max retries exceeded with url: /openeo/1.2/jobs/j-241118f9a55147c59c9fcd3065e62f1e/results (Caused by ResponseError('too many 500 error responses'))",
      "\nDuring handling of the above exception, another exception occurred:\n",
      "\u001b[1;31mRetryError\u001b[0m                                Traceback (most recent call last)",
      "Cell \u001b[1;32mIn[31], line 8\u001b[0m\n\u001b[0;32m      5\u001b[0m connection \u001b[38;5;241m=\u001b[39m openeo\u001b[38;5;241m.\u001b[39mconnect(url\u001b[38;5;241m=\u001b[39m\u001b[38;5;124m\"\u001b[39m\u001b[38;5;124mopeneo.dataspace.copernicus.eu\u001b[39m\u001b[38;5;124m\"\u001b[39m)\u001b[38;5;241m.\u001b[39mauthenticate_oidc()\n\u001b[0;32m      6\u001b[0m job_manager\u001b[38;5;241m.\u001b[39madd_backend(\u001b[38;5;124m\"\u001b[39m\u001b[38;5;124mcdse\u001b[39m\u001b[38;5;124m\"\u001b[39m, connection\u001b[38;5;241m=\u001b[39mconnection, parallel_jobs\u001b[38;5;241m=\u001b[39m\u001b[38;5;241m10\u001b[39m)\n\u001b[1;32m----> 8\u001b[0m \u001b[43mjob_manager\u001b[49m\u001b[38;5;241;43m.\u001b[39;49m\u001b[43mrun_jobs\u001b[49m\u001b[43m(\u001b[49m\u001b[43mjob_db\u001b[49m\u001b[38;5;241;43m=\u001b[39;49m\u001b[43mjob_db\u001b[49m\u001b[43m,\u001b[49m\u001b[43m \u001b[49m\u001b[43mstart_job\u001b[49m\u001b[38;5;241;43m=\u001b[39;49m\u001b[43mjob_starter\u001b[49m\u001b[43m)\u001b[49m\n",
      "File \u001b[1;32mc:\\Users\\VROMPAYH\\AppData\\Local\\anaconda3\\envs\\eotdl_openeo_env\\lib\\site-packages\\openeo\\extra\\job_management.py:474\u001b[0m, in \u001b[0;36mMultiBackendJobManager.run_jobs\u001b[1;34m(self, df, start_job, job_db, **kwargs)\u001b[0m\n\u001b[0;32m    472\u001b[0m stats \u001b[38;5;241m=\u001b[39m collections\u001b[38;5;241m.\u001b[39mdefaultdict(\u001b[38;5;28mint\u001b[39m)\n\u001b[0;32m    473\u001b[0m \u001b[38;5;28;01mwhile\u001b[39;00m \u001b[38;5;28msum\u001b[39m(job_db\u001b[38;5;241m.\u001b[39mcount_by_status(statuses\u001b[38;5;241m=\u001b[39m[\u001b[38;5;124m\"\u001b[39m\u001b[38;5;124mnot_started\u001b[39m\u001b[38;5;124m\"\u001b[39m, \u001b[38;5;124m\"\u001b[39m\u001b[38;5;124mcreated\u001b[39m\u001b[38;5;124m\"\u001b[39m, \u001b[38;5;124m\"\u001b[39m\u001b[38;5;124mqueued\u001b[39m\u001b[38;5;124m\"\u001b[39m, \u001b[38;5;124m\"\u001b[39m\u001b[38;5;124mrunning\u001b[39m\u001b[38;5;124m\"\u001b[39m])\u001b[38;5;241m.\u001b[39mvalues()) \u001b[38;5;241m>\u001b[39m \u001b[38;5;241m0\u001b[39m:\n\u001b[1;32m--> 474\u001b[0m     \u001b[38;5;28;43mself\u001b[39;49m\u001b[38;5;241;43m.\u001b[39;49m\u001b[43m_job_update_loop\u001b[49m\u001b[43m(\u001b[49m\u001b[43mjob_db\u001b[49m\u001b[38;5;241;43m=\u001b[39;49m\u001b[43mjob_db\u001b[49m\u001b[43m,\u001b[49m\u001b[43m \u001b[49m\u001b[43mstart_job\u001b[49m\u001b[38;5;241;43m=\u001b[39;49m\u001b[43mstart_job\u001b[49m\u001b[43m,\u001b[49m\u001b[43m \u001b[49m\u001b[43mstats\u001b[49m\u001b[38;5;241;43m=\u001b[39;49m\u001b[43mstats\u001b[49m\u001b[43m)\u001b[49m\n\u001b[0;32m    475\u001b[0m     stats[\u001b[38;5;124m\"\u001b[39m\u001b[38;5;124mrun_jobs loop\u001b[39m\u001b[38;5;124m\"\u001b[39m] \u001b[38;5;241m+\u001b[39m\u001b[38;5;241m=\u001b[39m \u001b[38;5;241m1\u001b[39m\n\u001b[0;32m    477\u001b[0m     time\u001b[38;5;241m.\u001b[39msleep(\u001b[38;5;28mself\u001b[39m\u001b[38;5;241m.\u001b[39mpoll_sleep)\n",
      "File \u001b[1;32mc:\\Users\\VROMPAYH\\AppData\\Local\\anaconda3\\envs\\eotdl_openeo_env\\lib\\site-packages\\openeo\\extra\\job_management.py:508\u001b[0m, in \u001b[0;36mMultiBackendJobManager._job_update_loop\u001b[1;34m(self, job_db, start_job, stats)\u001b[0m\n\u001b[0;32m    506\u001b[0m to_add \u001b[38;5;241m=\u001b[39m \u001b[38;5;28mself\u001b[39m\u001b[38;5;241m.\u001b[39mbackends[backend_name]\u001b[38;5;241m.\u001b[39mparallel_jobs \u001b[38;5;241m-\u001b[39m backend_load\n\u001b[0;32m    507\u001b[0m \u001b[38;5;28;01mfor\u001b[39;00m i \u001b[38;5;129;01min\u001b[39;00m not_started\u001b[38;5;241m.\u001b[39mindex[\u001b[38;5;241m0\u001b[39m:to_add]:\n\u001b[1;32m--> 508\u001b[0m     \u001b[38;5;28;43mself\u001b[39;49m\u001b[38;5;241;43m.\u001b[39;49m\u001b[43m_launch_job\u001b[49m\u001b[43m(\u001b[49m\u001b[43mstart_job\u001b[49m\u001b[43m,\u001b[49m\u001b[43m \u001b[49m\u001b[43mdf\u001b[49m\u001b[38;5;241;43m=\u001b[39;49m\u001b[43mnot_started\u001b[49m\u001b[43m,\u001b[49m\u001b[43m \u001b[49m\u001b[43mi\u001b[49m\u001b[38;5;241;43m=\u001b[39;49m\u001b[43mi\u001b[49m\u001b[43m,\u001b[49m\u001b[43m \u001b[49m\u001b[43mbackend_name\u001b[49m\u001b[38;5;241;43m=\u001b[39;49m\u001b[43mbackend_name\u001b[49m\u001b[43m,\u001b[49m\u001b[43m \u001b[49m\u001b[43mstats\u001b[49m\u001b[38;5;241;43m=\u001b[39;49m\u001b[43mstats\u001b[49m\u001b[43m)\u001b[49m\n\u001b[0;32m    509\u001b[0m     stats[\u001b[38;5;124m\"\u001b[39m\u001b[38;5;124mjob launch\u001b[39m\u001b[38;5;124m\"\u001b[39m] \u001b[38;5;241m+\u001b[39m\u001b[38;5;241m=\u001b[39m \u001b[38;5;241m1\u001b[39m\n\u001b[0;32m    511\u001b[0m     job_db\u001b[38;5;241m.\u001b[39mpersist(not_started\u001b[38;5;241m.\u001b[39mloc[i : i \u001b[38;5;241m+\u001b[39m \u001b[38;5;241m1\u001b[39m])\n",
      "File \u001b[1;32mc:\\Users\\VROMPAYH\\AppData\\Local\\anaconda3\\envs\\eotdl_openeo_env\\lib\\site-packages\\openeo\\extra\\job_management.py:567\u001b[0m, in \u001b[0;36mMultiBackendJobManager._launch_job\u001b[1;34m(self, start_job, df, i, backend_name, stats)\u001b[0m\n\u001b[0;32m    564\u001b[0m \u001b[38;5;28;01mif\u001b[39;00m status \u001b[38;5;241m==\u001b[39m \u001b[38;5;124m\"\u001b[39m\u001b[38;5;124mcreated\u001b[39m\u001b[38;5;124m\"\u001b[39m:\n\u001b[0;32m    565\u001b[0m     \u001b[38;5;66;03m# start job if not yet done by callback\u001b[39;00m\n\u001b[0;32m    566\u001b[0m     \u001b[38;5;28;01mtry\u001b[39;00m:\n\u001b[1;32m--> 567\u001b[0m         \u001b[43mjob\u001b[49m\u001b[38;5;241;43m.\u001b[39;49m\u001b[43mstart\u001b[49m\u001b[43m(\u001b[49m\u001b[43m)\u001b[49m\n\u001b[0;32m    568\u001b[0m         stats[\u001b[38;5;124m\"\u001b[39m\u001b[38;5;124mjob start\u001b[39m\u001b[38;5;124m\"\u001b[39m] \u001b[38;5;241m+\u001b[39m\u001b[38;5;241m=\u001b[39m \u001b[38;5;241m1\u001b[39m\n\u001b[0;32m    569\u001b[0m         df\u001b[38;5;241m.\u001b[39mloc[i, \u001b[38;5;124m\"\u001b[39m\u001b[38;5;124mstatus\u001b[39m\u001b[38;5;124m\"\u001b[39m] \u001b[38;5;241m=\u001b[39m job\u001b[38;5;241m.\u001b[39mstatus()\n",
      "File \u001b[1;32mc:\\Users\\VROMPAYH\\AppData\\Local\\anaconda3\\envs\\eotdl_openeo_env\\lib\\site-packages\\openeo\\rest\\job.py:122\u001b[0m, in \u001b[0;36mBatchJob.start\u001b[1;34m(self)\u001b[0m\n\u001b[0;32m    112\u001b[0m \u001b[38;5;129m@openeo_endpoint\u001b[39m(\u001b[38;5;124m\"\u001b[39m\u001b[38;5;124mPOST /jobs/\u001b[39m\u001b[38;5;132;01m{job_id}\u001b[39;00m\u001b[38;5;124m/results\u001b[39m\u001b[38;5;124m\"\u001b[39m)\n\u001b[0;32m    113\u001b[0m \u001b[38;5;28;01mdef\u001b[39;00m \u001b[38;5;21mstart\u001b[39m(\u001b[38;5;28mself\u001b[39m) \u001b[38;5;241m-\u001b[39m\u001b[38;5;241m>\u001b[39m BatchJob:\n\u001b[0;32m    114\u001b[0m \u001b[38;5;250m    \u001b[39m\u001b[38;5;124;03m\"\"\"\u001b[39;00m\n\u001b[0;32m    115\u001b[0m \u001b[38;5;124;03m    Start this batch job.\u001b[39;00m\n\u001b[0;32m    116\u001b[0m \n\u001b[1;32m   (...)\u001b[0m\n\u001b[0;32m    120\u001b[0m \u001b[38;5;124;03m        This method was previously called :py:meth:`start_job`.\u001b[39;00m\n\u001b[0;32m    121\u001b[0m \u001b[38;5;124;03m    \"\"\"\u001b[39;00m\n\u001b[1;32m--> 122\u001b[0m     \u001b[38;5;28;43mself\u001b[39;49m\u001b[38;5;241;43m.\u001b[39;49m\u001b[43mconnection\u001b[49m\u001b[38;5;241;43m.\u001b[39;49m\u001b[43mpost\u001b[49m\u001b[43m(\u001b[49m\u001b[38;5;124;43mf\u001b[39;49m\u001b[38;5;124;43m\"\u001b[39;49m\u001b[38;5;124;43m/jobs/\u001b[39;49m\u001b[38;5;132;43;01m{\u001b[39;49;00m\u001b[38;5;28;43mself\u001b[39;49m\u001b[38;5;241;43m.\u001b[39;49m\u001b[43mjob_id\u001b[49m\u001b[38;5;132;43;01m}\u001b[39;49;00m\u001b[38;5;124;43m/results\u001b[39;49m\u001b[38;5;124;43m\"\u001b[39;49m\u001b[43m,\u001b[49m\u001b[43m \u001b[49m\u001b[43mexpected_status\u001b[49m\u001b[38;5;241;43m=\u001b[39;49m\u001b[38;5;241;43m202\u001b[39;49m\u001b[43m)\u001b[49m\n\u001b[0;32m    123\u001b[0m     \u001b[38;5;28;01mreturn\u001b[39;00m \u001b[38;5;28mself\u001b[39m\n",
      "File \u001b[1;32mc:\\Users\\VROMPAYH\\AppData\\Local\\anaconda3\\envs\\eotdl_openeo_env\\lib\\site-packages\\openeo\\rest\\connection.py:248\u001b[0m, in \u001b[0;36mRestApiConnection.post\u001b[1;34m(self, path, json, **kwargs)\u001b[0m\n\u001b[0;32m    240\u001b[0m \u001b[38;5;28;01mdef\u001b[39;00m \u001b[38;5;21mpost\u001b[39m(\u001b[38;5;28mself\u001b[39m, path: \u001b[38;5;28mstr\u001b[39m, json: Optional[\u001b[38;5;28mdict\u001b[39m] \u001b[38;5;241m=\u001b[39m \u001b[38;5;28;01mNone\u001b[39;00m, \u001b[38;5;241m*\u001b[39m\u001b[38;5;241m*\u001b[39mkwargs) \u001b[38;5;241m-\u001b[39m\u001b[38;5;241m>\u001b[39m Response:\n\u001b[0;32m    241\u001b[0m \u001b[38;5;250m    \u001b[39m\u001b[38;5;124;03m\"\"\"\u001b[39;00m\n\u001b[0;32m    242\u001b[0m \u001b[38;5;124;03m    Do POST request to REST API.\u001b[39;00m\n\u001b[0;32m    243\u001b[0m \n\u001b[1;32m   (...)\u001b[0m\n\u001b[0;32m    246\u001b[0m \u001b[38;5;124;03m    :return: response: Response\u001b[39;00m\n\u001b[0;32m    247\u001b[0m \u001b[38;5;124;03m    \"\"\"\u001b[39;00m\n\u001b[1;32m--> 248\u001b[0m     \u001b[38;5;28;01mreturn\u001b[39;00m \u001b[38;5;28mself\u001b[39m\u001b[38;5;241m.\u001b[39mrequest(\u001b[38;5;124m\"\u001b[39m\u001b[38;5;124mpost\u001b[39m\u001b[38;5;124m\"\u001b[39m, path\u001b[38;5;241m=\u001b[39mpath, json\u001b[38;5;241m=\u001b[39mjson, allow_redirects\u001b[38;5;241m=\u001b[39m\u001b[38;5;28;01mFalse\u001b[39;00m, \u001b[38;5;241m*\u001b[39m\u001b[38;5;241m*\u001b[39mkwargs)\n",
      "File \u001b[1;32mc:\\Users\\VROMPAYH\\AppData\\Local\\anaconda3\\envs\\eotdl_openeo_env\\lib\\site-packages\\openeo\\rest\\connection.py:830\u001b[0m, in \u001b[0;36mConnection.request\u001b[1;34m(self, method, path, headers, auth, check_error, expected_status, **kwargs)\u001b[0m\n\u001b[0;32m    823\u001b[0m     \u001b[38;5;28;01mreturn\u001b[39;00m \u001b[38;5;28msuper\u001b[39m(Connection, \u001b[38;5;28mself\u001b[39m)\u001b[38;5;241m.\u001b[39mrequest(\n\u001b[0;32m    824\u001b[0m         method\u001b[38;5;241m=\u001b[39mmethod, path\u001b[38;5;241m=\u001b[39mpath, headers\u001b[38;5;241m=\u001b[39mheaders, auth\u001b[38;5;241m=\u001b[39mauth,\n\u001b[0;32m    825\u001b[0m         check_error\u001b[38;5;241m=\u001b[39mcheck_error, expected_status\u001b[38;5;241m=\u001b[39mexpected_status, \u001b[38;5;241m*\u001b[39m\u001b[38;5;241m*\u001b[39mkwargs,\n\u001b[0;32m    826\u001b[0m     )\n\u001b[0;32m    828\u001b[0m \u001b[38;5;28;01mtry\u001b[39;00m:\n\u001b[0;32m    829\u001b[0m     \u001b[38;5;66;03m# Initial request attempt\u001b[39;00m\n\u001b[1;32m--> 830\u001b[0m     \u001b[38;5;28;01mreturn\u001b[39;00m \u001b[43m_request\u001b[49m\u001b[43m(\u001b[49m\u001b[43m)\u001b[49m\n\u001b[0;32m    831\u001b[0m \u001b[38;5;28;01mexcept\u001b[39;00m OpenEoApiError \u001b[38;5;28;01mas\u001b[39;00m api_exc:\n\u001b[0;32m    832\u001b[0m     \u001b[38;5;28;01mif\u001b[39;00m api_exc\u001b[38;5;241m.\u001b[39mhttp_status_code \u001b[38;5;129;01min\u001b[39;00m {\u001b[38;5;241m401\u001b[39m, \u001b[38;5;241m403\u001b[39m} \u001b[38;5;129;01mand\u001b[39;00m api_exc\u001b[38;5;241m.\u001b[39mcode \u001b[38;5;241m==\u001b[39m \u001b[38;5;124m\"\u001b[39m\u001b[38;5;124mTokenInvalid\u001b[39m\u001b[38;5;124m\"\u001b[39m:\n\u001b[0;32m    833\u001b[0m         \u001b[38;5;66;03m# Auth token expired: can we refresh?\u001b[39;00m\n",
      "File \u001b[1;32mc:\\Users\\VROMPAYH\\AppData\\Local\\anaconda3\\envs\\eotdl_openeo_env\\lib\\site-packages\\openeo\\rest\\connection.py:823\u001b[0m, in \u001b[0;36mConnection.request.<locals>._request\u001b[1;34m()\u001b[0m\n\u001b[0;32m    822\u001b[0m \u001b[38;5;28;01mdef\u001b[39;00m \u001b[38;5;21m_request\u001b[39m():\n\u001b[1;32m--> 823\u001b[0m     \u001b[38;5;28;01mreturn\u001b[39;00m \u001b[38;5;28msuper\u001b[39m(Connection, \u001b[38;5;28mself\u001b[39m)\u001b[38;5;241m.\u001b[39mrequest(\n\u001b[0;32m    824\u001b[0m         method\u001b[38;5;241m=\u001b[39mmethod, path\u001b[38;5;241m=\u001b[39mpath, headers\u001b[38;5;241m=\u001b[39mheaders, auth\u001b[38;5;241m=\u001b[39mauth,\n\u001b[0;32m    825\u001b[0m         check_error\u001b[38;5;241m=\u001b[39mcheck_error, expected_status\u001b[38;5;241m=\u001b[39mexpected_status, \u001b[38;5;241m*\u001b[39m\u001b[38;5;241m*\u001b[39mkwargs,\n\u001b[0;32m    826\u001b[0m     )\n",
      "File \u001b[1;32mc:\\Users\\VROMPAYH\\AppData\\Local\\anaconda3\\envs\\eotdl_openeo_env\\lib\\site-packages\\openeo\\rest\\connection.py:165\u001b[0m, in \u001b[0;36mRestApiConnection.request\u001b[1;34m(self, method, path, headers, auth, check_error, expected_status, **kwargs)\u001b[0m\n\u001b[0;32m    161\u001b[0m     _log\u001b[38;5;241m.\u001b[39mdebug(\u001b[38;5;124m\"\u001b[39m\u001b[38;5;124mRequest `\u001b[39m\u001b[38;5;132;01m{m}\u001b[39;00m\u001b[38;5;124m \u001b[39m\u001b[38;5;132;01m{u}\u001b[39;00m\u001b[38;5;124m` with headers \u001b[39m\u001b[38;5;132;01m{h}\u001b[39;00m\u001b[38;5;124m, auth \u001b[39m\u001b[38;5;132;01m{a}\u001b[39;00m\u001b[38;5;124m, kwargs \u001b[39m\u001b[38;5;132;01m{k}\u001b[39;00m\u001b[38;5;124m\"\u001b[39m\u001b[38;5;241m.\u001b[39mformat(\n\u001b[0;32m    162\u001b[0m         m\u001b[38;5;241m=\u001b[39mmethod\u001b[38;5;241m.\u001b[39mupper(), u\u001b[38;5;241m=\u001b[39murl, h\u001b[38;5;241m=\u001b[39mheaders \u001b[38;5;129;01mand\u001b[39;00m headers\u001b[38;5;241m.\u001b[39mkeys(), a\u001b[38;5;241m=\u001b[39m\u001b[38;5;28mtype\u001b[39m(auth)\u001b[38;5;241m.\u001b[39m\u001b[38;5;18m__name__\u001b[39m, k\u001b[38;5;241m=\u001b[39m\u001b[38;5;28mlist\u001b[39m(kwargs\u001b[38;5;241m.\u001b[39mkeys()))\n\u001b[0;32m    163\u001b[0m     )\n\u001b[0;32m    164\u001b[0m \u001b[38;5;28;01mwith\u001b[39;00m ContextTimer() \u001b[38;5;28;01mas\u001b[39;00m timer:\n\u001b[1;32m--> 165\u001b[0m     resp \u001b[38;5;241m=\u001b[39m \u001b[38;5;28mself\u001b[39m\u001b[38;5;241m.\u001b[39msession\u001b[38;5;241m.\u001b[39mrequest(\n\u001b[0;32m    166\u001b[0m         method\u001b[38;5;241m=\u001b[39mmethod,\n\u001b[0;32m    167\u001b[0m         url\u001b[38;5;241m=\u001b[39murl,\n\u001b[0;32m    168\u001b[0m         headers\u001b[38;5;241m=\u001b[39m\u001b[38;5;28mself\u001b[39m\u001b[38;5;241m.\u001b[39m_merged_headers(headers),\n\u001b[0;32m    169\u001b[0m         auth\u001b[38;5;241m=\u001b[39mauth,\n\u001b[0;32m    170\u001b[0m         timeout\u001b[38;5;241m=\u001b[39mkwargs\u001b[38;5;241m.\u001b[39mpop(\u001b[38;5;124m\"\u001b[39m\u001b[38;5;124mtimeout\u001b[39m\u001b[38;5;124m\"\u001b[39m, \u001b[38;5;28mself\u001b[39m\u001b[38;5;241m.\u001b[39mdefault_timeout),\n\u001b[0;32m    171\u001b[0m         \u001b[38;5;241m*\u001b[39m\u001b[38;5;241m*\u001b[39mkwargs\n\u001b[0;32m    172\u001b[0m     )\n\u001b[0;32m    173\u001b[0m \u001b[38;5;28;01mif\u001b[39;00m slow_response_threshold \u001b[38;5;129;01mand\u001b[39;00m timer\u001b[38;5;241m.\u001b[39melapsed() \u001b[38;5;241m>\u001b[39m slow_response_threshold:\n\u001b[0;32m    174\u001b[0m     _log\u001b[38;5;241m.\u001b[39mwarning(\u001b[38;5;124m\"\u001b[39m\u001b[38;5;124mSlow response: `\u001b[39m\u001b[38;5;132;01m{m}\u001b[39;00m\u001b[38;5;124m \u001b[39m\u001b[38;5;132;01m{u}\u001b[39;00m\u001b[38;5;124m` took \u001b[39m\u001b[38;5;132;01m{e:.2f}\u001b[39;00m\u001b[38;5;124ms (>\u001b[39m\u001b[38;5;132;01m{t:.2f}\u001b[39;00m\u001b[38;5;124ms)\u001b[39m\u001b[38;5;124m\"\u001b[39m\u001b[38;5;241m.\u001b[39mformat(\n\u001b[0;32m    175\u001b[0m         m\u001b[38;5;241m=\u001b[39mmethod\u001b[38;5;241m.\u001b[39mupper(), u\u001b[38;5;241m=\u001b[39mstr_truncate(url, width\u001b[38;5;241m=\u001b[39m\u001b[38;5;241m64\u001b[39m),\n\u001b[0;32m    176\u001b[0m         e\u001b[38;5;241m=\u001b[39mtimer\u001b[38;5;241m.\u001b[39melapsed(), t\u001b[38;5;241m=\u001b[39mslow_response_threshold\n\u001b[0;32m    177\u001b[0m     ))\n",
      "File \u001b[1;32mc:\\Users\\VROMPAYH\\AppData\\Local\\anaconda3\\envs\\eotdl_openeo_env\\lib\\site-packages\\requests\\sessions.py:589\u001b[0m, in \u001b[0;36mSession.request\u001b[1;34m(self, method, url, params, data, headers, cookies, files, auth, timeout, allow_redirects, proxies, hooks, stream, verify, cert, json)\u001b[0m\n\u001b[0;32m    584\u001b[0m send_kwargs \u001b[38;5;241m=\u001b[39m {\n\u001b[0;32m    585\u001b[0m     \u001b[38;5;124m\"\u001b[39m\u001b[38;5;124mtimeout\u001b[39m\u001b[38;5;124m\"\u001b[39m: timeout,\n\u001b[0;32m    586\u001b[0m     \u001b[38;5;124m\"\u001b[39m\u001b[38;5;124mallow_redirects\u001b[39m\u001b[38;5;124m\"\u001b[39m: allow_redirects,\n\u001b[0;32m    587\u001b[0m }\n\u001b[0;32m    588\u001b[0m send_kwargs\u001b[38;5;241m.\u001b[39mupdate(settings)\n\u001b[1;32m--> 589\u001b[0m resp \u001b[38;5;241m=\u001b[39m \u001b[38;5;28mself\u001b[39m\u001b[38;5;241m.\u001b[39msend(prep, \u001b[38;5;241m*\u001b[39m\u001b[38;5;241m*\u001b[39msend_kwargs)\n\u001b[0;32m    591\u001b[0m \u001b[38;5;28;01mreturn\u001b[39;00m resp\n",
      "File \u001b[1;32mc:\\Users\\VROMPAYH\\AppData\\Local\\anaconda3\\envs\\eotdl_openeo_env\\lib\\site-packages\\requests\\sessions.py:703\u001b[0m, in \u001b[0;36mSession.send\u001b[1;34m(self, request, **kwargs)\u001b[0m\n\u001b[0;32m    700\u001b[0m start \u001b[38;5;241m=\u001b[39m preferred_clock()\n\u001b[0;32m    702\u001b[0m \u001b[38;5;66;03m# Send the request\u001b[39;00m\n\u001b[1;32m--> 703\u001b[0m r \u001b[38;5;241m=\u001b[39m adapter\u001b[38;5;241m.\u001b[39msend(request, \u001b[38;5;241m*\u001b[39m\u001b[38;5;241m*\u001b[39mkwargs)\n\u001b[0;32m    705\u001b[0m \u001b[38;5;66;03m# Total elapsed time of the request (approximately)\u001b[39;00m\n\u001b[0;32m    706\u001b[0m elapsed \u001b[38;5;241m=\u001b[39m preferred_clock() \u001b[38;5;241m-\u001b[39m start\n",
      "File \u001b[1;32mc:\\Users\\VROMPAYH\\AppData\\Local\\anaconda3\\envs\\eotdl_openeo_env\\lib\\site-packages\\requests\\adapters.py:691\u001b[0m, in \u001b[0;36mHTTPAdapter.send\u001b[1;34m(self, request, stream, timeout, verify, cert, proxies)\u001b[0m\n\u001b[0;32m    688\u001b[0m         \u001b[38;5;28;01mraise\u001b[39;00m ConnectTimeout(e, request\u001b[38;5;241m=\u001b[39mrequest)\n\u001b[0;32m    690\u001b[0m \u001b[38;5;28;01mif\u001b[39;00m \u001b[38;5;28misinstance\u001b[39m(e\u001b[38;5;241m.\u001b[39mreason, ResponseError):\n\u001b[1;32m--> 691\u001b[0m     \u001b[38;5;28;01mraise\u001b[39;00m RetryError(e, request\u001b[38;5;241m=\u001b[39mrequest)\n\u001b[0;32m    693\u001b[0m \u001b[38;5;28;01mif\u001b[39;00m \u001b[38;5;28misinstance\u001b[39m(e\u001b[38;5;241m.\u001b[39mreason, _ProxyError):\n\u001b[0;32m    694\u001b[0m     \u001b[38;5;28;01mraise\u001b[39;00m ProxyError(e, request\u001b[38;5;241m=\u001b[39mrequest)\n",
      "\u001b[1;31mRetryError\u001b[0m: HTTPSConnectionPool(host='openeo.dataspace.copernicus.eu', port=443): Max retries exceeded with url: /openeo/1.2/jobs/j-241118f9a55147c59c9fcd3065e62f1e/results (Caused by ResponseError('too many 500 error responses'))"
     ]
    }
   ],
   "source": [
    "from openeo.extra.job_management import MultiBackendJobManager\n",
    "\n",
    "# Initiate MultiBackendJobManager \n",
    "job_manager = MultiBackendJobManager()  \n",
    "connection = openeo.connect(url=\"openeo.dataspace.copernicus.eu\").authenticate_oidc()\n",
    "job_manager.add_backend(\"cdse\", connection=connection, parallel_jobs=10)\n",
    "\n",
    "job_manager.run_jobs(job_db=job_db, start_job=job_starter)\n"
   ]
  },
  {
   "cell_type": "code",
   "execution_count": null,
   "metadata": {},
   "outputs": [],
   "source": [
    "import xarray as xr\n",
    "import matplotlib.pyplot as plt\n",
    "\n",
    "# Load the dataset\n",
    "test = xr.open_dataset('test.nc')\n",
    "\n",
    "# Select a specific time slice for plotting, e.g., the first time point\n",
    "time_index = 1\n",
    "b04 = test['B04'].isel(t=time_index)\n",
    "\n",
    "# Create a figure to plot 4 subplots\n",
    "fig, axs = plt.subplots(2, 2, figsize=(12, 10))\n",
    "\n",
    "# Plot each variable in a different subplot\n",
    "im1 = axs[0, 0].imshow(b04, cmap='viridis', origin='lower')\n",
    "axs[0, 0].set_title('B04_P10')\n",
    "fig.colorbar(im1, ax=axs[0, 0])\n",
    "\n",
    "\n"
   ]
  },
  {
   "cell_type": "code",
   "execution_count": null,
   "metadata": {},
   "outputs": [],
   "source": []
  },
  {
   "cell_type": "markdown",
   "metadata": {},
   "source": [
    "TODO:\n",
    "\n",
    "\n",
    "- Scale up (saving data, improve efficiency, ...)\n",
    "\n"
   ]
  }
 ],
 "metadata": {
  "kernelspec": {
   "display_name": "eotdl_openeo_env",
   "language": "python",
   "name": "python3"
  },
  "language_info": {
   "codemirror_mode": {
    "name": "ipython",
    "version": 3
   },
   "file_extension": ".py",
   "mimetype": "text/x-python",
   "name": "python",
   "nbconvert_exporter": "python",
   "pygments_lexer": "ipython3",
   "version": "3.9.20"
  }
 },
 "nbformat": 4,
 "nbformat_minor": 2
}
