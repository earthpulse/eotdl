{
 "cells": [
  {
   "cell_type": "markdown",
   "metadata": {},
   "source": [
    "# Search satellite imagery"
   ]
  },
  {
   "cell_type": "markdown",
   "metadata": {},
   "source": [
    "We can search for satellite imagery through the EOTDL."
   ]
  },
  {
   "cell_type": "markdown",
   "metadata": {},
   "source": [
    "Uncomment the following line to install eotdl if needed."
   ]
  },
  {
   "cell_type": "code",
   "execution_count": null,
   "metadata": {},
   "outputs": [],
   "source": [
    "# !pip install eotdl"
   ]
  },
  {
   "cell_type": "markdown",
   "metadata": {},
   "source": [
    "First, we can check which data collections are supported in the EOTDL."
   ]
  },
  {
   "cell_type": "code",
   "execution_count": 2,
   "metadata": {},
   "outputs": [
    {
     "data": {
      "text/plain": [
       "['sentinel-1-grd',\n",
       " 'sentinel-2-l1c',\n",
       " 'sentinel-2-l2a',\n",
       " 'dem',\n",
       " 'hls',\n",
       " 'landsat-ot-l2']"
      ]
     },
     "execution_count": 1,
     "metadata": {},
     "output_type": "execute_result"
    }
   ],
   "source": [
    "from eotdl.access import SUPPORTED_COLLECTION_IDS\n",
    "\n",
    "SUPPORTED_COLLECTION_IDS"
   ]
  },
  {
   "cell_type": "markdown",
   "metadata": {},
   "source": [
    "Let's search for available Sentinel-2-L2A imagery in Jaca, Spain, between 1 to 10 January, 2020."
   ]
  },
  {
   "cell_type": "code",
   "execution_count": 3,
   "metadata": {},
   "outputs": [],
   "source": [
    "dates = ('2020-01-01', '2020-01-10')\n",
    "jaca_bounding_box = (-0.557034,42.569409,-0.547706,42.57571)"
   ]
  },
  {
   "cell_type": "markdown",
   "metadata": {},
   "source": [
    "Let's search for available data."
   ]
  },
  {
   "cell_type": "code",
   "execution_count": 4,
   "metadata": {},
   "outputs": [
    {
     "data": {
      "text/plain": [
       "[{'id': 'S2B_MSIL2A_20200109T110329_N0213_R094_T30TXN_20200109T121919',\n",
       "  'properties': {'datetime': '2020-01-09T11:09:11Z', 'eo:cloud_cover': 17.46}},\n",
       " {'id': 'S2B_MSIL2A_20200109T110329_N0213_R094_T30TYN_20200109T121919',\n",
       "  'properties': {'datetime': '2020-01-09T11:09:07Z', 'eo:cloud_cover': 0.01}},\n",
       " {'id': 'S2B_MSIL2A_20200106T105339_N0213_R051_T30TXN_20200106T121433',\n",
       "  'properties': {'datetime': '2020-01-06T10:59:14Z', 'eo:cloud_cover': 0.95}},\n",
       " {'id': 'S2B_MSIL2A_20200106T105339_N0213_R051_T30TYN_20200106T121433',\n",
       "  'properties': {'datetime': '2020-01-06T10:59:11Z', 'eo:cloud_cover': 0.08}},\n",
       " {'id': 'S2A_MSIL2A_20200104T110441_N0213_R094_T30TXN_20200104T122020',\n",
       "  'properties': {'datetime': '2020-01-04T11:09:11Z', 'eo:cloud_cover': 63.34}},\n",
       " {'id': 'S2A_MSIL2A_20200104T110441_N0213_R094_T30TYN_20200104T122020',\n",
       "  'properties': {'datetime': '2020-01-04T11:09:07Z', 'eo:cloud_cover': 48.07}},\n",
       " {'id': 'S2A_MSIL2A_20200101T105441_N0213_R051_T30TXN_20200101T121106',\n",
       "  'properties': {'datetime': '2020-01-01T10:59:13Z', 'eo:cloud_cover': 5.73}},\n",
       " {'id': 'S2A_MSIL2A_20200101T105441_N0213_R051_T30TYN_20200101T121106',\n",
       "  'properties': {'datetime': '2020-01-01T10:59:11Z', 'eo:cloud_cover': 4.89}}]"
      ]
     },
     "execution_count": 4,
     "metadata": {},
     "output_type": "execute_result"
    }
   ],
   "source": [
    "from eotdl.access import search_sentinel_imagery, DATA_COLLECTION_ID\n",
    "\n",
    "r = search_sentinel_imagery(dates, jaca_bounding_box, DATA_COLLECTION_ID.SENTINEL_2_L2A)\n",
    "list(r)"
   ]
  },
  {
   "cell_type": "markdown",
   "metadata": {},
   "source": [
    "To limit the search by maximum cloud coverage, default search parameters for the selected collection can be generated, allowing the maximum cloud coverage parameter to be set and used in the advanced search."
   ]
  },
  {
   "cell_type": "code",
   "execution_count": 18,
   "metadata": {},
   "outputs": [
    {
     "data": {
      "text/plain": [
       "[{'id': 'S2B_MSIL2A_20200109T110329_N0213_R094_T30TXN_20200109T121919',\n",
       "  'properties': {'datetime': '2020-01-09T11:09:11Z', 'eo:cloud_cover': 17.46}},\n",
       " {'id': 'S2B_MSIL2A_20200109T110329_N0213_R094_T30TYN_20200109T121919',\n",
       "  'properties': {'datetime': '2020-01-09T11:09:07Z', 'eo:cloud_cover': 0.01}},\n",
       " {'id': 'S2B_MSIL2A_20200106T105339_N0213_R051_T30TXN_20200106T121433',\n",
       "  'properties': {'datetime': '2020-01-06T10:59:14Z', 'eo:cloud_cover': 0.95}},\n",
       " {'id': 'S2B_MSIL2A_20200106T105339_N0213_R051_T30TYN_20200106T121433',\n",
       "  'properties': {'datetime': '2020-01-06T10:59:11Z', 'eo:cloud_cover': 0.08}},\n",
       " {'id': 'S2A_MSIL2A_20200101T105441_N0213_R051_T30TXN_20200101T121106',\n",
       "  'properties': {'datetime': '2020-01-01T10:59:13Z', 'eo:cloud_cover': 5.73}},\n",
       " {'id': 'S2A_MSIL2A_20200101T105441_N0213_R051_T30TYN_20200101T121106',\n",
       "  'properties': {'datetime': '2020-01-01T10:59:11Z', 'eo:cloud_cover': 4.89}}]"
      ]
     },
     "execution_count": 18,
     "metadata": {},
     "output_type": "execute_result"
    }
   ],
   "source": [
    "from eotdl.access import (advanced_imagery_search, get_default_parameters)\n",
    "\n",
    "parameters = get_default_parameters(DATA_COLLECTION_ID.SENTINEL_2_L2A)\n",
    "parameters.MAX_CLOUD_COVERAGE = 30\n",
    "\n",
    "results = advanced_imagery_search(dates, jaca_bounding_box, parameters)\n",
    "list(results)"
   ]
  },
  {
   "cell_type": "markdown",
   "metadata": {},
   "source": [
    "As a final step, let's check the number of dates with available images."
   ]
  },
  {
   "cell_type": "code",
   "execution_count": 5,
   "metadata": {},
   "outputs": [
    {
     "name": "stdout",
     "output_type": "stream",
     "text": [
      "6\n"
     ]
    }
   ],
   "source": [
    "print(len(list(results)))"
   ]
  }
 ],
 "metadata": {
  "kernelspec": {
   "display_name": "eotdl",
   "language": "python",
   "name": "python3"
  },
  "language_info": {
   "codemirror_mode": {
    "name": "ipython",
    "version": 3
   },
   "file_extension": ".py",
   "mimetype": "text/x-python",
   "name": "python",
   "nbconvert_exporter": "python",
   "pygments_lexer": "ipython3",
   "version": "3.8.19"
  }
 },
 "nbformat": 4,
 "nbformat_minor": 2
}
