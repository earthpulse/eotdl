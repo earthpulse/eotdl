{
 "cells": [
  {
   "cell_type": "code",
   "execution_count": 1,
   "metadata": {},
   "outputs": [],
   "source": [
    "%load_ext autoreload\n",
    "%autoreload 2\n",
    "\n",
    "import os\n",
    "os.environ[\"EOTDL_API_URL\"] = \"https://api.eotdl.com/\""
   ]
  },
  {
   "cell_type": "code",
   "execution_count": 2,
   "metadata": {},
   "outputs": [
    {
     "name": "stdout",
     "output_type": "stream",
     "text": [
      "You are logged in as it@earthpulse.es\n",
      "You are logged out.\n",
      "If you want to login with a different account, visit https://earthpulse.eu.auth0.com/v2/logout?cliend_id=sC5WflzmPoj058FJYL2ckENutxJL4PTW&returnTo=http://api.eotdl.com/auth/callback and login again.\n"
     ]
    }
   ],
   "source": [
    "!eotdl auth logout -y"
   ]
  },
  {
   "cell_type": "markdown",
   "metadata": {},
   "source": [
    "# Private datasets"
   ]
  },
  {
   "cell_type": "markdown",
   "metadata": {},
   "source": [
    "By default, all the datasets and models in EOTDL are public. However, you can create private datasets and models that only you (and other allowed users) can access.\n",
    "\n",
    "At ingestion time, you can specify if a dataset should be private or not by using the appropriate function from the library or command on the CLI."
   ]
  },
  {
   "cell_type": "code",
   "execution_count": 3,
   "metadata": {},
   "outputs": [],
   "source": [
    "# create README.md\n",
    "\n",
    "text = \"\"\"---\n",
    "name: EuroSAT-small-private\n",
    "authors: \n",
    "  - Juan B. Pedro\n",
    "license: free\n",
    "source: https://github.com/earthpulse/eotdl/blob/main/tutorials/notebooks/02_ingesting.ipynb\n",
    "---\n",
    "\n",
    "# EuroSAT-small-private\n",
    "\n",
    "This is a private small subet of the EuroSAT dataset.\n",
    "\"\"\"\n",
    "\n",
    "path = \"example_data/EuroSAT-small-private\"\n",
    "\n",
    "with open(f\"{path}/README.md\", \"w\") as outfile:\n",
    "    outfile.write(text)"
   ]
  },
  {
   "cell_type": "code",
   "execution_count": 8,
   "metadata": {},
   "outputs": [
    {
     "name": "stdout",
     "output_type": "stream",
     "text": [
      "Ingesting private dataset\n",
      "Ingesting directory: example_data/EuroSAT-small-private\n"
     ]
    },
    {
     "name": "stderr",
     "output_type": "stream",
     "text": [
      "Ingesting files: 100%|██████████| 7/7 [00:01<00:00,  4.34it/s]"
     ]
    },
    {
     "name": "stdout",
     "output_type": "stream",
     "text": [
      "No new version was created, your dataset has not changed.\n"
     ]
    },
    {
     "name": "stderr",
     "output_type": "stream",
     "text": [
      "\n"
     ]
    }
   ],
   "source": [
    "from eotdl.datasets import ingest_dataset\n",
    "\n",
    "ingest_dataset(path, private=True)\n"
   ]
  },
  {
   "cell_type": "code",
   "execution_count": 7,
   "metadata": {},
   "outputs": [
    {
     "name": "stdout",
     "output_type": "stream",
     "text": [
      "Ingesting private dataset\n",
      "Ingesting directory: example_data/EuroSAT-small-private\n",
      "Ingesting files: 100%|████████████████████████████| 7/7 [00:01<00:00,  4.11it/s]\n",
      "No new version was created, your dataset has not changed.\n"
     ]
    }
   ],
   "source": [
    "!eotdl datasets ingest -p example_data/EuroSAT-small-private -pr"
   ]
  },
  {
   "cell_type": "markdown",
   "metadata": {},
   "source": [
    "In order to retrieve private datasets, you need to be authenticated and user the appropriate function or command."
   ]
  },
  {
   "cell_type": "code",
   "execution_count": 10,
   "metadata": {},
   "outputs": [
    {
     "data": {
      "text/plain": [
       "False"
      ]
     },
     "execution_count": 10,
     "metadata": {},
     "output_type": "execute_result"
    }
   ],
   "source": [
    "from eotdl.datasets import retrieve_datasets\n",
    "\n",
    "'EuroSAT-small-private' in retrieve_datasets()"
   ]
  },
  {
   "cell_type": "code",
   "execution_count": 11,
   "metadata": {},
   "outputs": [
    {
     "data": {
      "text/plain": [
       "['EuroSAT-small-private']"
      ]
     },
     "execution_count": 11,
     "metadata": {},
     "output_type": "execute_result"
    }
   ],
   "source": [
    "from eotdl.datasets import retrieve_private_datasets\n",
    "\n",
    "retrieve_private_datasets()"
   ]
  },
  {
   "cell_type": "code",
   "execution_count": 12,
   "metadata": {},
   "outputs": [
    {
     "name": "stdout",
     "output_type": "stream",
     "text": [
      "['Test-links', 'EuroSAT-RGB-small-STAC', 'EuroSAT-small', 'EuroCropsCloudNative', 'MSC-France', 'ESAWAAI', 'international-charter-earthquake-eo-data', 'JPL-CH4-detection', 'HYPERVIEW2', 'PASTIS-HD', 'xView2', 'crop-type-mapping-south-sudan', 'Five-Billion-Pixels', 'CROPGRIDS', 'DynamicEarthNet', 'sen1floods11', 'SpaceNet7', 'ai4smallfarms', 'HLS-Burn-Scars', 'MADOS-Marine-Debris-Oil-Spill', 'SeeingBeyondTheVisible', 'OrbitalAI', 'IMAGINe', 'EnhancedS2Agriculture', 'AirQualityAndHealth', 'AI4Sen2Cor-Datasets', 'SatellogicDataset', 'EuroSAT-Q1-small', 'UrbanSARFloods', 'MMFlood', 'Sen1Floods11', 'ship-segmentation-dataset', 'Sentinel-2-Ships', 'CloudSEN12', 'TAIGA', 'GlobalInventorySolarPhotovoltaic', 'AirbusShipDetection', 'xview3', 'ai4arctic-sea-ice-challenge-raw', 'ai4arctic-sea-ice-challenge-ready-to-train', 'AERONET', 'EuroSAT-RGB-small', 'Boadella-PhiLab24', 'SEN12MS-CR', 'DeepGlobeRoadExtraction', 'MassachusettsRoadsDataset', 'OpenEarthMap', 'ESA-Worldcover', 'AlignSAR-Groningen-Sentinel1-Q0', 'AI4EO-MapYourCity', 'Enhanced-Sentinel-2-Agriculture', 'WorldStrat', 'SEN2Venus', 'AlignSAR-Groningen-Sentinel1-Q1', 'SEN12MS', 'AlignSAR-Chennai-OilSpill-Sentinel1-Q0', 'PhilEO-downstream', 'Alignsar', 'boadella-dataset', 'EuroSAT-RGB', 'EuroSAT-RGB-Q2', 'Boadella-BiDS23', 'COWC', 'Stanford-Drone-dataset', 'EuroSAT-RGB-STAC', 'BigEarthNet', 'xview2', 'LandcoverAI', 'open-cities-tt2-source', 'open-cities-tt1-source', 'open-cities-test', 'PASTIS-R', 'EuroCrops', 'SloveniaLandCover', 'ISPRS-Potsdam2D', 'SEN12-FLOOD', 'Urban3dChallenge', 'tropical-cyclone-dataset', 'Vessel-detection', 'Airplanes-detection', 'S2-SHIPS', 'SpaceNet-7', 'Sentinel-2-Cloud-Mask', 'PASTIS', 'FlodNet', 'SeCo100k', 'SeCo', 'AirbusAircraftDetection', 'AirbusWindTurbinesPatches', 'RoadNet', 'EuroSAT', 'UCMerced']\n"
     ]
    }
   ],
   "source": [
    "!eotdl datasets list"
   ]
  },
  {
   "cell_type": "code",
   "execution_count": 13,
   "metadata": {},
   "outputs": [
    {
     "name": "stdout",
     "output_type": "stream",
     "text": [
      "['EuroSAT-small-private']\n"
     ]
    }
   ],
   "source": [
    "!eotdl datasets list --private"
   ]
  },
  {
   "cell_type": "markdown",
   "metadata": {},
   "source": [
    "And the same applies to stage the dataset."
   ]
  },
  {
   "cell_type": "code",
   "execution_count": 14,
   "metadata": {},
   "outputs": [
    {
     "data": {
      "text/plain": [
       "'data/outputs/EuroSAT-small-private'"
      ]
     },
     "execution_count": 14,
     "metadata": {},
     "output_type": "execute_result"
    }
   ],
   "source": [
    "from eotdl.datasets import stage_dataset\n",
    "\n",
    "stage_dataset('EuroSAT-small-private', path='data/outputs', force=True)"
   ]
  },
  {
   "cell_type": "code",
   "execution_count": 15,
   "metadata": {},
   "outputs": [
    {
     "name": "stdout",
     "output_type": "stream",
     "text": [
      "Staging assets: 100%|█████████████████████████████| 7/7 [00:03<00:00,  2.21it/s]\n",
      "Data available at data/outputs/EuroSAT-small-private\n"
     ]
    }
   ],
   "source": [
    "!eotdl datasets get EuroSAT-small-private -p data/outputs -f -a"
   ]
  },
  {
   "cell_type": "markdown",
   "metadata": {},
   "source": [
    "Other users should not be able to access the dataset."
   ]
  },
  {
   "cell_type": "code",
   "execution_count": 16,
   "metadata": {},
   "outputs": [
    {
     "name": "stdout",
     "output_type": "stream",
     "text": [
      "You are logged in as it@earthpulse.es\n",
      "You are logged out.\n",
      "If you want to login with a different account, visit https://earthpulse.eu.auth0.com/v2/logout?cliend_id=sC5WflzmPoj058FJYL2ckENutxJL4PTW&returnTo=http://api.eotdl.com/auth/callback and login again.\n"
     ]
    }
   ],
   "source": [
    "!eotdl auth logout -y"
   ]
  },
  {
   "cell_type": "code",
   "execution_count": 17,
   "metadata": {},
   "outputs": [
    {
     "name": "stdout",
     "output_type": "stream",
     "text": [
      "['Test-links', 'EuroSAT-RGB-small-STAC', 'EuroSAT-small', 'EuroCropsCloudNative', 'MSC-France', 'ESAWAAI', 'international-charter-earthquake-eo-data', 'JPL-CH4-detection', 'HYPERVIEW2', 'PASTIS-HD', 'xView2', 'crop-type-mapping-south-sudan', 'Five-Billion-Pixels', 'CROPGRIDS', 'DynamicEarthNet', 'sen1floods11', 'SpaceNet7', 'ai4smallfarms', 'HLS-Burn-Scars', 'MADOS-Marine-Debris-Oil-Spill', 'SeeingBeyondTheVisible', 'OrbitalAI', 'IMAGINe', 'EnhancedS2Agriculture', 'AirQualityAndHealth', 'AI4Sen2Cor-Datasets', 'SatellogicDataset', 'EuroSAT-Q1-small', 'UrbanSARFloods', 'MMFlood', 'Sen1Floods11', 'ship-segmentation-dataset', 'Sentinel-2-Ships', 'CloudSEN12', 'TAIGA', 'GlobalInventorySolarPhotovoltaic', 'AirbusShipDetection', 'xview3', 'ai4arctic-sea-ice-challenge-raw', 'ai4arctic-sea-ice-challenge-ready-to-train', 'AERONET', 'EuroSAT-RGB-small', 'Boadella-PhiLab24', 'SEN12MS-CR', 'DeepGlobeRoadExtraction', 'MassachusettsRoadsDataset', 'OpenEarthMap', 'ESA-Worldcover', 'AlignSAR-Groningen-Sentinel1-Q0', 'AI4EO-MapYourCity', 'Enhanced-Sentinel-2-Agriculture', 'WorldStrat', 'SEN2Venus', 'AlignSAR-Groningen-Sentinel1-Q1', 'SEN12MS', 'AlignSAR-Chennai-OilSpill-Sentinel1-Q0', 'PhilEO-downstream', 'Alignsar', 'boadella-dataset', 'EuroSAT-RGB', 'EuroSAT-RGB-Q2', 'Boadella-BiDS23', 'COWC', 'Stanford-Drone-dataset', 'EuroSAT-RGB-STAC', 'BigEarthNet', 'xview2', 'LandcoverAI', 'open-cities-tt2-source', 'open-cities-tt1-source', 'open-cities-test', 'PASTIS-R', 'EuroCrops', 'SloveniaLandCover', 'ISPRS-Potsdam2D', 'SEN12-FLOOD', 'Urban3dChallenge', 'tropical-cyclone-dataset', 'Vessel-detection', 'Airplanes-detection', 'S2-SHIPS', 'SpaceNet-7', 'Sentinel-2-Cloud-Mask', 'PASTIS', 'FlodNet', 'SeCo100k', 'SeCo', 'AirbusAircraftDetection', 'AirbusWindTurbinesPatches', 'RoadNet', 'EuroSAT', 'UCMerced']\n"
     ]
    }
   ],
   "source": [
    "!eotdl datasets list"
   ]
  },
  {
   "cell_type": "markdown",
   "metadata": {},
   "source": [
    "> Login with a different account to check the rest of the notebook"
   ]
  },
  {
   "cell_type": "code",
   "execution_count": 18,
   "metadata": {},
   "outputs": [
    {
     "name": "stdout",
     "output_type": "stream",
     "text": [
      "On your computer or mobile device navigate to:  https://earthpulse.eu.auth0.com/activate?user_code=JDDT-DGCT\n",
      "Authenticated!\n",
      "- Id Token: eyJhbGciOi...\n",
      "Saved credentials to:  /Users/juan/.cache/eotdl/creds.json\n",
      "[]\n"
     ]
    }
   ],
   "source": [
    "!eotdl datasets list --private"
   ]
  },
  {
   "cell_type": "markdown",
   "metadata": {},
   "source": [
    "And if we try to create a new dataset with the same name, it should fail. Unique names are enforced, even for private datasets."
   ]
  },
  {
   "cell_type": "code",
   "execution_count": 19,
   "metadata": {},
   "outputs": [
    {
     "name": "stdout",
     "output_type": "stream",
     "text": [
      "Ingesting directory: example_data/EuroSAT-small-private\n",
      "Dataset already exists.\n"
     ]
    }
   ],
   "source": [
    "!eotdl datasets ingest -p example_data/EuroSAT-small-private"
   ]
  },
  {
   "cell_type": "code",
   "execution_count": 20,
   "metadata": {},
   "outputs": [
    {
     "name": "stdout",
     "output_type": "stream",
     "text": [
      "NoAccessToPrivateError\n"
     ]
    }
   ],
   "source": [
    "!eotdl datasets get EuroSAT-small-private -p data/outputs -f -a"
   ]
  },
  {
   "cell_type": "markdown",
   "metadata": {},
   "source": [
    "## Access control"
   ]
  },
  {
   "cell_type": "markdown",
   "metadata": {},
   "source": [
    "TODO:\n",
    "\n",
    "- [ ] Add a new user to the allowed_users list\n",
    "- [ ] Remove a user from the allowed_users list"
   ]
  }
 ],
 "metadata": {
  "kernelspec": {
   "display_name": ".venv",
   "language": "python",
   "name": "python3"
  },
  "language_info": {
   "codemirror_mode": {
    "name": "ipython",
    "version": 3
   },
   "file_extension": ".py",
   "mimetype": "text/x-python",
   "name": "python",
   "nbconvert_exporter": "python",
   "pygments_lexer": "ipython3",
   "version": "3.12.9"
  }
 },
 "nbformat": 4,
 "nbformat_minor": 2
}
