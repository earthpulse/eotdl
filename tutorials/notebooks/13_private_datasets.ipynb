{
 "cells": [
  {
   "cell_type": "code",
   "execution_count": 75,
   "metadata": {},
   "outputs": [
    {
     "name": "stdout",
     "output_type": "stream",
     "text": [
      "The autoreload extension is already loaded. To reload it, use:\n",
      "  %reload_ext autoreload\n"
     ]
    }
   ],
   "source": [
    "%load_ext autoreload\n",
    "%autoreload 2\n",
    "\n",
    "import os\n",
    "os.environ[\"EOTDL_API_URL\"] = \"http://localhost:8000/\""
   ]
  },
  {
   "cell_type": "code",
   "execution_count": 76,
   "metadata": {},
   "outputs": [
    {
     "name": "stdout",
     "output_type": "stream",
     "text": [
      "You are logged in as it@earthpulse.es\n",
      "You are logged out.\n",
      "If you want to login with a different account, visit https://earthpulse.eu.auth0.com/v2/logout?cliend_id=sC5WflzmPoj058FJYL2ckENutxJL4PTW&returnTo=http://localhost:8000/auth/callback and login again.\n"
     ]
    }
   ],
   "source": [
    "!eotdl auth logout -y"
   ]
  },
  {
   "cell_type": "markdown",
   "metadata": {},
   "source": [
    "# Private datasets"
   ]
  },
  {
   "cell_type": "markdown",
   "metadata": {},
   "source": [
    "By default, all the datasets and models in EOTDL are public. However, you can create private datasets and models that only you (and other allowed users) can access.\n",
    "\n",
    "At ingestion time, you can specify if a dataset should be private or not by using the appropriate function from the library or command on the CLI."
   ]
  },
  {
   "cell_type": "code",
   "execution_count": 77,
   "metadata": {},
   "outputs": [],
   "source": [
    "# create README.md\n",
    "\n",
    "text = \"\"\"---\n",
    "name: EuroSAT-small-private\n",
    "authors: \n",
    "  - Juan B. Pedro\n",
    "license: free\n",
    "source: https://github.com/earthpulse/eotdl/blob/main/tutorials/notebooks/02_ingesting.ipynb\n",
    "---\n",
    "\n",
    "# EuroSAT-small-private\n",
    "\n",
    "This is a private small subet of the EuroSAT dataset.\n",
    "\"\"\"\n",
    "\n",
    "path = \"example_data/EuroSAT-small-private\"\n",
    "\n",
    "with open(f\"{path}/README.md\", \"w\") as outfile:\n",
    "    outfile.write(text)"
   ]
  },
  {
   "cell_type": "code",
   "execution_count": 78,
   "metadata": {},
   "outputs": [
    {
     "name": "stdout",
     "output_type": "stream",
     "text": [
      "Ingesting directory: example_data/EuroSAT-small-private\n",
      "On your computer or mobile device navigate to:  https://earthpulse.eu.auth0.com/activate?user_code=FFGC-ZQHG\n",
      "Authenticated!\n",
      "- Id Token: eyJhbGciOi...\n",
      "Saved credentials to:  /Users/juan/.cache/eotdl/creds.json\n"
     ]
    },
    {
     "name": "stderr",
     "output_type": "stream",
     "text": [
      "Ingesting files: 100%|██████████| 7/7 [00:00<00:00, 73.53it/s]\n"
     ]
    },
    {
     "data": {
      "text/plain": [
       "PosixPath('example_data/EuroSAT-small-private/catalog.parquet')"
      ]
     },
     "execution_count": 78,
     "metadata": {},
     "output_type": "execute_result"
    }
   ],
   "source": [
    "from eotdl.datasets import ingest_dataset\n",
    "\n",
    "ingest_dataset(path, private=True)\n"
   ]
  },
  {
   "cell_type": "code",
   "execution_count": 79,
   "metadata": {},
   "outputs": [
    {
     "name": "stdout",
     "output_type": "stream",
     "text": [
      "Ingesting directory: example_data/EuroSAT-small-private\n",
      "Ingesting files: 100%|███████████████████████████| 7/7 [00:00<00:00, 187.24it/s]\n",
      "No new version was created, your dataset has not changed.\n"
     ]
    }
   ],
   "source": [
    "!eotdl datasets ingest -p example_data/EuroSAT-small-private"
   ]
  },
  {
   "cell_type": "markdown",
   "metadata": {},
   "source": [
    "In order to retrieve private datasets, you need to be authenticated and user the appropriate function or command."
   ]
  },
  {
   "cell_type": "code",
   "execution_count": 80,
   "metadata": {},
   "outputs": [
    {
     "data": {
      "text/plain": [
       "['EuroSAT-small']"
      ]
     },
     "execution_count": 80,
     "metadata": {},
     "output_type": "execute_result"
    }
   ],
   "source": [
    "from eotdl.datasets import retrieve_datasets\n",
    "\n",
    "retrieve_datasets()"
   ]
  },
  {
   "cell_type": "code",
   "execution_count": 81,
   "metadata": {},
   "outputs": [
    {
     "data": {
      "text/plain": [
       "['EuroSAT-small', 'EuroSAT-small-private']"
      ]
     },
     "execution_count": 81,
     "metadata": {},
     "output_type": "execute_result"
    }
   ],
   "source": [
    "from eotdl.datasets import retrieve_private_datasets\n",
    "\n",
    "retrieve_private_datasets()"
   ]
  },
  {
   "cell_type": "code",
   "execution_count": 66,
   "metadata": {},
   "outputs": [
    {
     "name": "stdout",
     "output_type": "stream",
     "text": [
      "[]\n"
     ]
    }
   ],
   "source": [
    "!eotdl datasets list"
   ]
  },
  {
   "cell_type": "code",
   "execution_count": 67,
   "metadata": {},
   "outputs": [
    {
     "name": "stdout",
     "output_type": "stream",
     "text": [
      "['EuroSAT-small-private']\n"
     ]
    }
   ],
   "source": [
    "!eotdl datasets list --private"
   ]
  },
  {
   "cell_type": "markdown",
   "metadata": {},
   "source": [
    "And the same applied to stage the dataset."
   ]
  },
  {
   "cell_type": "code",
   "execution_count": 68,
   "metadata": {},
   "outputs": [
    {
     "data": {
      "text/plain": [
       "'data/outputs/EuroSAT-small-private'"
      ]
     },
     "execution_count": 68,
     "metadata": {},
     "output_type": "execute_result"
    }
   ],
   "source": [
    "from eotdl.datasets import stage_dataset\n",
    "\n",
    "stage_dataset('EuroSAT-small-private', path='data/outputs', force=True)"
   ]
  },
  {
   "cell_type": "code",
   "execution_count": 69,
   "metadata": {},
   "outputs": [
    {
     "name": "stdout",
     "output_type": "stream",
     "text": [
      "Staging assets: 100%|█████████████████████████████| 7/7 [00:00<00:00, 84.94it/s]\n",
      "Data available at data/outputs/EuroSAT-small-private\n"
     ]
    }
   ],
   "source": [
    "!eotdl datasets get EuroSAT-small-private -p data/outputs -f -a"
   ]
  },
  {
   "cell_type": "markdown",
   "metadata": {},
   "source": [
    "Other users should not be able to access the dataset."
   ]
  },
  {
   "cell_type": "code",
   "execution_count": 70,
   "metadata": {},
   "outputs": [
    {
     "name": "stdout",
     "output_type": "stream",
     "text": [
      "You are logged in as juan@earthpulse.es\n",
      "You are logged out.\n",
      "If you want to login with a different account, visit https://earthpulse.eu.auth0.com/v2/logout?cliend_id=sC5WflzmPoj058FJYL2ckENutxJL4PTW&returnTo=http://localhost:8000/auth/callback and login again.\n"
     ]
    }
   ],
   "source": [
    "!eotdl auth logout -y"
   ]
  },
  {
   "cell_type": "code",
   "execution_count": 71,
   "metadata": {},
   "outputs": [
    {
     "name": "stdout",
     "output_type": "stream",
     "text": [
      "[]\n"
     ]
    }
   ],
   "source": [
    "!eotdl datasets list"
   ]
  },
  {
   "cell_type": "markdown",
   "metadata": {},
   "source": [
    "> Login with a different account to check the rest of the notebook"
   ]
  },
  {
   "cell_type": "code",
   "execution_count": 72,
   "metadata": {},
   "outputs": [
    {
     "name": "stdout",
     "output_type": "stream",
     "text": [
      "On your computer or mobile device navigate to:  https://earthpulse.eu.auth0.com/activate?user_code=DCLX-KKVD\n",
      "Authenticated!\n",
      "- Id Token: eyJhbGciOi...\n",
      "Saved credentials to:  /Users/juan/.cache/eotdl/creds.json\n",
      "[]\n"
     ]
    }
   ],
   "source": [
    "!eotdl datasets list --private"
   ]
  },
  {
   "cell_type": "markdown",
   "metadata": {},
   "source": [
    "And if we try to create a new dataset with the same name, it should fail. Unique names are enforced, even for private datasets."
   ]
  },
  {
   "cell_type": "code",
   "execution_count": 73,
   "metadata": {},
   "outputs": [
    {
     "name": "stdout",
     "output_type": "stream",
     "text": [
      "Ingesting directory: example_data/EuroSAT-small-private\n",
      "Dataset already exists.\n"
     ]
    }
   ],
   "source": [
    "!eotdl datasets ingest -p example_data/EuroSAT-small-private"
   ]
  },
  {
   "cell_type": "code",
   "execution_count": 74,
   "metadata": {},
   "outputs": [
    {
     "name": "stdout",
     "output_type": "stream",
     "text": [
      "NoAccessToPrivateError\n"
     ]
    }
   ],
   "source": [
    "!eotdl datasets get EuroSAT-small-private -p data/outputs -f -a"
   ]
  },
  {
   "cell_type": "markdown",
   "metadata": {},
   "source": [
    "## Access control"
   ]
  },
  {
   "cell_type": "markdown",
   "metadata": {},
   "source": [
    "TODO:\n",
    "\n",
    "- [ ] Add a new user to the allowed_users list\n",
    "- [ ] Remove a user from the allowed_users list"
   ]
  }
 ],
 "metadata": {
  "kernelspec": {
   "display_name": ".venv",
   "language": "python",
   "name": "python3"
  },
  "language_info": {
   "codemirror_mode": {
    "name": "ipython",
    "version": 3
   },
   "file_extension": ".py",
   "mimetype": "text/x-python",
   "name": "python",
   "nbconvert_exporter": "python",
   "pygments_lexer": "ipython3",
   "version": "3.12.9"
  }
 },
 "nbformat": 4,
 "nbformat_minor": 2
}
