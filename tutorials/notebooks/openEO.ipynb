{
 "cells": [
  {
   "cell_type": "markdown",
   "id": "14e99b6d-8e6b-44bd-9abf-e44037fb966c",
   "metadata": {},
   "source": [
    "# OpenEO"
   ]
  },
  {
   "cell_type": "markdown",
   "id": "a451164a-d9a9-4ac5-9262-dbc05ef76ad4",
   "metadata": {},
   "source": [
    "For this tutorial we will use the openEO instance of Copernicus Data Space Ecosystem. You will need a CDSE account to use this tutorial. Account can be created at [CDSE](https://dataspace.copernicus.eu/) free of charge. \n",
    "Note that the code snippets in this guide work the same way for the other back-ends listed in the [openEO Hub](https://hub.openeo.org/). \n",
    "Just the collection identifier and band names might differ.\n",
    "\n",
    "Establish a connection to the back-end. "
   ]
  },
  {
   "cell_type": "code",
   "execution_count": null,
   "id": "eedb91e7-4695-43cf-b5c4-f7e10f5bc6c2",
   "metadata": {
    "tags": []
   },
   "outputs": [],
   "source": [
    "import openeo\n",
    "\n",
    "connection = openeo.connect(\"https://openeo.dataspace.copernicus.eu/openeo/1.2\").authenticate_oidc()"
   ]
  },
  {
   "cell_type": "markdown",
   "id": "683b51d1-e773-4637-bcf1-1dce54ea26a9",
   "metadata": {},
   "source": [
    "## Creating a datacube"
   ]
  },
  {
   "cell_type": "markdown",
   "id": "cdc39cbb-a1ee-4ca6-863c-0f9706b753fc",
   "metadata": {},
   "source": [
    "First we need to define a slice of a data collection we want to use. Then we can manipulate the datacube by applying openEO processes and save the result at the end. By applying an openEO process on a datacube, we create a new datacube object that represents the manipulated data. "
   ]
  },
  {
   "cell_type": "code",
   "execution_count": null,
   "id": "29c88504-8f33-42e0-86a9-cac5cd031410",
   "metadata": {
    "tags": []
   },
   "outputs": [],
   "source": [
    "datacube = connection.load_collection(\n",
    "    \"SENTINEL2_L2A\",\n",
    "    spatial_extent={\"west\": 10.05, \"south\": 55.21, \"east\": 10.1, \"north\": 55.23},\n",
    "    temporal_extent=[\"2024-05-01\", \"2024-05-30\"],\n",
    "    bands=['B02', 'B03', 'B04', 'B08'],\n",
    ")\n",
    "\n",
    "red = datacube.band('B04')\n",
    "nir = datacube.band(\"B08\")\n",
    "# perform operation using feature variables (e.g. calculation of NDVI (normalized difference vegetation index))\n",
    "datacube = (nir - red) / (nir + red)\n",
    "# reduce on temporal dimension with max operator\n",
    "datacube = datacube.max_time()\n",
    "# provide result as geotiff image\n",
    "datacube = datacube.save_result(format=\"gtiff\")\n",
    "print(datacube.to_json())"
   ]
  },
  {
   "cell_type": "markdown",
   "id": "9e066490-f916-4fcc-94f0-2637ea64bd21",
   "metadata": {},
   "source": [
    "It's important to note that all the datacube processes we applied up to this point are not actually executed yet, neither locally nor remotely on the back-end. We just built an abstract representation of the algorithm (input data and processing chain), encapsulated in a local Datacube object. To trigger an actual execution (on the back-end) we have to explicitly send this representation to the back-end."
   ]
  },
  {
   "cell_type": "code",
   "execution_count": null,
   "id": "253e0b14-e7ef-427e-b6d6-6597f55a349e",
   "metadata": {},
   "outputs": [],
   "source": [
    "job = datacube.create_job()"
   ]
  },
  {
   "cell_type": "markdown",
   "id": "789fe424-043e-46a9-afc7-87afbea3632d",
   "metadata": {},
   "source": [
    "Launch processing of submitted batch job"
   ]
  },
  {
   "cell_type": "code",
   "execution_count": null,
   "id": "e3c26ec7-5c56-4806-8556-066983dbc202",
   "metadata": {
    "tags": []
   },
   "outputs": [],
   "source": [
    "\n",
    "if job.job_id:\n",
    "    print(job.job_id)\n",
    "    print(job.start_and_wait())\n",
    "    print (job.describe_job())\n",
    "else:\n",
    "    print(\"Job ID is None\")"
   ]
  },
  {
   "cell_type": "markdown",
   "id": "2bf0ddb8-fdba-4c91-90d2-e3a8eaa8cdc1",
   "metadata": {},
   "source": [
    "To obtain results and download files"
   ]
  },
  {
   "cell_type": "code",
   "execution_count": null,
   "id": "d540afbf-c907-41f1-9892-c1957d272b17",
   "metadata": {
    "tags": []
   },
   "outputs": [],
   "source": [
    "if job.job_id:\n",
    "    job.get_results().download_files(\"output\")"
   ]
  },
  {
   "cell_type": "markdown",
   "id": "da139562-56b2-4c64-9c84-855fc4d91d96",
   "metadata": {},
   "source": [
    "Visualize your result"
   ]
  },
  {
   "cell_type": "code",
   "execution_count": null,
   "id": "248d81ce-1fe6-4c49-8af4-f43e4bc7030a",
   "metadata": {
    "tags": []
   },
   "outputs": [],
   "source": [
    "import openeo\n",
    "import rasterio\n",
    "import matplotlib.pyplot as plt\n",
    "\n",
    "%matplotlib inline\n",
    "\n",
    "\n",
    "with rasterio.open(\"output/openEO.tif\") as ds:\n",
    "    data = ds.read(1)\n",
    "\n",
    "fig, (ax1, ax2) = plt.subplots(ncols=2, figsize=(14, 6))\n",
    "im = ax1.imshow(data, vmin=0, vmax=1)\n",
    "plt.colorbar(im, ax=ax1, orientation=\"horizontal\")\n",
    "ax1.set_title(\"NDVI Map\")\n",
    "ax2.hist(data.flat, bins=32)\n",
    "ax2.set_title(\"NDVI Histogram\")\n",
    "ax2.set_xlabel(\"NDVI value\")\n",
    "ax2.set_ylabel(\"frequency\");"
   ]
  }
 ],
 "metadata": {
  "kernelspec": {
   "display_name": "users-eotdl-2024.5.2",
   "language": "python",
   "name": "conda-env-users-eotdl-2024.5.2-py"
  },
  "language_info": {
   "codemirror_mode": {
    "name": "ipython",
    "version": 3
   },
   "file_extension": ".py",
   "mimetype": "text/x-python",
   "name": "python",
   "nbconvert_exporter": "python",
   "pygments_lexer": "ipython3",
   "version": "3.10.14"
  }
 },
 "nbformat": 4,
 "nbformat_minor": 5
}
