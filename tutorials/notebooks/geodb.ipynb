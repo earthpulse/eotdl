{
 "cells": [
  {
   "cell_type": "code",
   "metadata": {},
   "source": [
    "%load_ext autoreload\n",
    "%autoreload 2"
   ],
   "outputs": [],
   "execution_count": null
  },
  {
   "cell_type": "code",
   "metadata": {},
   "source": [
    "from xcube_geodb.core.geodb import GeoDBClient\n",
    "import math\n",
    "import os\n",
    "import dotenv\n",
    "import json\n",
    "from tqdm import tqdm\n",
    "\n",
    "dotenv.load_dotenv()\n",
    "\n",
    "# load server information and credentials from environment\n",
    "geodb = GeoDBClient()\n"
   ],
   "outputs": [],
   "execution_count": null
  },
  {
   "cell_type": "code",
   "metadata": {},
   "source": "geodb.whoami",
   "outputs": [],
   "execution_count": null
  },
  {
   "cell_type": "code",
   "metadata": {},
   "source": [
    "geodb.get_my_collections()"
   ],
   "outputs": [],
   "execution_count": null
  },
  {
   "cell_type": "code",
   "metadata": {},
   "source": "geodb.get_my_collections(database='eotdl')",
   "outputs": [],
   "execution_count": null
  },
  {
   "metadata": {},
   "cell_type": "code",
   "source": "",
   "outputs": [],
   "execution_count": null
  },
  {
   "cell_type": "code",
   "metadata": {},
   "source": [
    "from eotdl.curation.stac import STACDataFrame\n",
    "\n",
    "stac_file = 'example_data/EuroSAT-RGB-small-STAC/catalog.json'\n",
    "\n",
    "gdf = STACDataFrame.from_stac_file(stac_file)\n",
    "gdf"
   ],
   "outputs": [],
   "execution_count": null
  },
  {
   "metadata": {},
   "cell_type": "code",
   "source": "gdf = gdf.convert_dtypes()",
   "outputs": [],
   "execution_count": null
  },
  {
   "cell_type": "code",
   "metadata": {},
   "source": [
    "# keep only the features which id starts with 'AnnualCrop'\n",
    "filtered_gdf = gdf[gdf['id'].str.startswith('AnnualCrop')]\n",
    "filtered_gdf.head()\n",
    "\n"
   ],
   "outputs": [],
   "execution_count": null
  },
  {
   "cell_type": "code",
   "metadata": {},
   "source": [
    "# keep only the labels\n",
    "labels = gdf[gdf['collection'] == 'labels']\n",
    "labels.head()\n"
   ],
   "outputs": [],
   "execution_count": null
  },
  {
   "metadata": {},
   "cell_type": "code",
   "source": [
    "def translate(o):\n",
    "\tif o == 'object' or str(o) == \"string\":\n",
    "\t\treturn 'varchar'\n",
    "\telif o == 'int64' or o == 'int32':\n",
    "\t\treturn 'integer'\n",
    "\telif o == 'float64' or o == 'float32':\n",
    "\t\treturn 'float'\n",
    "\treturn None\n",
    "\n",
    "def translate_properties(gdf):\n",
    "\tproperties = {}\n",
    "\tfor k in gdf.dtypes.keys():\n",
    "\t\tif translate(gdf.dtypes[k]):\n",
    "\t\t\tproperties[k] = translate(gdf.dtypes[k])\n",
    "\treturn properties"
   ],
   "outputs": [],
   "execution_count": null
  },
  {
   "metadata": {},
   "cell_type": "code",
   "source": "",
   "outputs": [],
   "execution_count": null
  },
  {
   "cell_type": "code",
   "metadata": {},
   "source": [
    "database = 'eotdl' # cannot use a different name for the database (try create database first)\n",
    "collection_name = 'eurosat-test'\n",
    "\n",
    "gdf = gdf.replace(math.nan, None)\n",
    "\n",
    "# rename id for geodb\n",
    "gdf.rename(columns={\"id\": \"stac_id\"}, inplace=True)\n"
   ],
   "outputs": [],
   "execution_count": null
  },
  {
   "metadata": {},
   "cell_type": "code",
   "source": [
    "if not geodb.database_exists(database):\n",
    "    geodb.create_database(database)\n",
    "if geodb.collection_exists(collection_name, database=database):\n",
    "\tgeodb.drop_collection(collection_name, database=database)\n",
    "\n",
    "geodb.create_collection(collection_name, translate_properties(gdf), database=database)\n",
    "\n",
    "geodb.insert_into_collection(collection_name, values=gdf, database=database)"
   ],
   "outputs": [],
   "execution_count": null
  },
  {
   "cell_type": "code",
   "metadata": {},
   "source": [
    "geodb.get_collection(collection_name, database=database)"
   ],
   "outputs": [],
   "execution_count": null
  },
  {
   "cell_type": "code",
   "metadata": {},
   "source": [
    "geodb.get_collection(collection_name, database=database, query=\"type=eq.Feature\")"
   ],
   "outputs": [],
   "execution_count": null
  },
  {
   "cell_type": "code",
   "metadata": {},
   "source": [
    "geodb.get_properties(collection_name, database=database)"
   ],
   "outputs": [],
   "execution_count": null
  },
  {
   "cell_type": "markdown",
   "metadata": {},
   "source": [
    "Questions:\n",
    "\n",
    "- Can we query if all the columns are of type json?\n",
    "\t- is technically possible, but not recommended (better to use the actual types or strings)\n",
    "- Can we query with nested dicts?\n",
    "\t- we can store the nested dicts as strings and query them as such\n",
    "- Can we do spatial queries using geometry?\n",
    "\t- `geodb.get_collection_by_bbox` (for arbitrary shapes, get the bbox first)\n",
    "- How does the STAC API work?\n",
    "\t- every entry in a database, is a STAC item (feature), with its columns being the properties\n",
    "\t- catalogs / collections are built around them\n",
    "\t- We cannot use geodb STAC API, we need to enable an endppoint on eotdl API (stac compliant)\n",
    "\n",
    "Actions:\n",
    "\n",
    "- We should define the types of the columns in the metadata properly (for example, read some or all the data to infer the types)\n",
    "- Explore querying the json format\n",
    "- Add STAC API endpoint to eotdl API (instead of proxy the geodb STAC API)\n",
    "\n",
    "Otherwise, we load the data into a pandas dataframe and query there."
   ]
  },
  {
   "cell_type": "code",
   "metadata": {},
   "source": [
    "from eotdl.datasets import download_dataset\n",
    "\n",
    "# download dataset\n",
    "\n",
    "download_dataset('EuroSAT-Q1-small', path='data/output')\n"
   ],
   "outputs": [],
   "execution_count": null
  },
  {
   "cell_type": "code",
   "metadata": {},
   "source": [
    "from eotdl.curation.stac import STACDataFrame\n",
    "\n",
    "# load metadata\n",
    "\n",
    "stac_file = 'data/output/EuroSAT-Q1-small/v1/EuroSAT-Q1-small/catalog.json'\n",
    "\n",
    "gdf = STACDataFrame.from_stac_file(stac_file)\n",
    "gdf\n"
   ],
   "outputs": [],
   "execution_count": null
  },
  {
   "cell_type": "code",
   "metadata": {},
   "source": [
    "# filter metadata locally\n",
    "\n",
    "filtered_gdf = gdf[gdf['id'].str.startswith('AnnualCrop')]\n",
    "filtered_gdf"
   ],
   "outputs": [],
   "execution_count": null
  },
  {
   "cell_type": "code",
   "metadata": {},
   "source": [
    "from eotdl.datasets import download_file_url\n",
    "\n",
    "# download only filtered assets\n",
    "\n",
    "for asset in tqdm(filtered_gdf['assets'], desc='Downloading assets'):\n",
    "\tfor k, v in asset.items():\n",
    "\t\t# print(k, v['href'])\n",
    "\t\tdownload_file_url(v['href'], 'data/output/EuroSAT-Q1-small/v1') # will store in path / assets"
   ],
   "outputs": [],
   "execution_count": null
  },
  {
   "cell_type": "code",
   "metadata": {},
   "source": [
    "!rm -rf data/output/EuroSAT-Q1-small/v1/assets"
   ],
   "outputs": [],
   "execution_count": null
  },
  {
   "cell_type": "code",
   "metadata": {},
   "source": [
    "labels = gdf[gdf['collection'] == 'labels']\n",
    "labels.head()"
   ],
   "outputs": [],
   "execution_count": null
  },
  {
   "cell_type": "code",
   "metadata": {},
   "source": [
    "for asset in tqdm(labels['assets'], desc='Downloading labels'):\n",
    "\tfor k, v in asset.items():\n",
    "\t\t# print(k, v['href'])\n",
    "\t\tdownload_file_url(v['href'], 'data/output/EuroSAT-Q1-small/v1') "
   ],
   "outputs": [],
   "execution_count": null
  },
  {
   "cell_type": "code",
   "metadata": {},
   "source": [
    "# in order to filter by a particular label, we need to read the label item's assets...\n",
    "\n",
    "label_assets = os.listdir('data/output/EuroSAT-Q1-small/v1/assets')\n",
    "filtered_label_assets = []\n",
    "for asset in tqdm(label_assets, desc='Downloading label assets'):\n",
    "\ttry:\n",
    "\t\tdata = json.load(open(f'data/output/EuroSAT-Q1-small/v1/assets/{asset}'))\n",
    "\t\tlabel = data['features'][0]['properties']['label']\n",
    "\t\tif label == 'AnnualCrop':\n",
    "\t\t\tfiltered_label_assets.append(asset)\n",
    "\texcept Exception as e:\n",
    "\t\tprint('error in ', asset)\n",
    "\t\tcontinue\n",
    "\n",
    "filtered_label_assets"
   ],
   "outputs": [],
   "execution_count": null
  }
 ],
 "metadata": {
  "kernelspec": {
   "display_name": ".venv",
   "language": "python",
   "name": "python3"
  },
  "language_info": {
   "codemirror_mode": {
    "name": "ipython",
    "version": 3
   },
   "file_extension": ".py",
   "mimetype": "text/x-python",
   "name": "python",
   "nbconvert_exporter": "python",
   "pygments_lexer": "ipython3",
   "version": "3.12.8"
  }
 },
 "nbformat": 4,
 "nbformat_minor": 2
}
