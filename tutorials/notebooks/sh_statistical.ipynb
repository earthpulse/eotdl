{
 "cells": [
  {
   "cell_type": "markdown",
   "id": "1edfdb10-cdcb-4a71-89d2-1ba9407d2feb",
   "metadata": {},
   "source": [
    "# Sentinel Hub Statistical API\n",
    "\n",
    "**The Statistical API** enables you to get statistics calculated based on satellite imagery without having to download images. In your Statistical API request, you can specify your area of interest, time period, evalscript and which statistical measures should be calculated. \n",
    "The requested statistics are returned in the API response."
   ]
  },
  {
   "cell_type": "code",
   "execution_count": null,
   "id": "d096a5a7-24f7-4d89-8f74-94ef058ae997",
   "metadata": {
    "tags": []
   },
   "outputs": [],
   "source": [
    "%matplotlib inline\n",
    "\n",
    "import geopandas as gpd\n",
    "import matplotlib.pyplot as plt\n",
    "import numpy as np\n",
    "import pandas as pd\n",
    "\n",
    "from sentinelhub import (\n",
    "    CRS,\n",
    "    BBox,\n",
    "    DataCollection,\n",
    "    Geometry,\n",
    "    SentinelHubStatistical,\n",
    "    SentinelHubStatisticalDownloadClient,\n",
    "    SHConfig,\n",
    "    parse_time,\n",
    ")"
   ]
  },
  {
   "cell_type": "code",
   "execution_count": null,
   "id": "69a088d8-dc10-4edb-baa6-23af1a67eee3",
   "metadata": {
    "tags": []
   },
   "outputs": [],
   "source": [
    "config = SHConfig()\n",
    "\n",
    "if not config.sh_client_id or not config.sh_client_secret:\n",
    "    print(\"Warning! To use Statistical API, please provide the credentials (OAuth client ID and client secret).\")"
   ]
  },
  {
   "cell_type": "markdown",
   "id": "348d73ce-3d02-4efb-a0c8-2620049ce1e1",
   "metadata": {},
   "source": [
    "Function that will transform Statistical API response into a pandas.DataFrame"
   ]
  },
  {
   "cell_type": "code",
   "execution_count": null,
   "id": "f2acf997-473e-436b-a1b0-46dd7ba29caf",
   "metadata": {
    "tags": []
   },
   "outputs": [],
   "source": [
    "def stats_to_df(stats_data):\n",
    "    df_data = []\n",
    "\n",
    "    for single_data in stats_data[\"data\"]:\n",
    "        df_entry = {}\n",
    "        is_valid_entry = True\n",
    "\n",
    "        df_entry[\"interval_from\"] = parse_time(single_data[\"interval\"][\"from\"]).date()\n",
    "        df_entry[\"interval_to\"] = parse_time(single_data[\"interval\"][\"to\"]).date()\n",
    "\n",
    "        for output_name, output_data in single_data[\"outputs\"].items():\n",
    "            for band_name, band_values in output_data[\"bands\"].items():\n",
    "                band_stats = band_values[\"stats\"]\n",
    "                if band_stats[\"sampleCount\"] == band_stats[\"noDataCount\"]:\n",
    "                    is_valid_entry = False\n",
    "                    break\n",
    "\n",
    "                for stat_name, value in band_stats.items():\n",
    "                    col_name = f\"{output_name}_{band_name}_{stat_name}\"\n",
    "                    if stat_name == \"percentiles\":\n",
    "                        for perc, perc_val in value.items():\n",
    "                            perc_col_name = f\"{col_name}_{perc}\"\n",
    "                            df_entry[perc_col_name] = perc_val\n",
    "                    else:\n",
    "                        df_entry[col_name] = value\n",
    "\n",
    "        if is_valid_entry:\n",
    "            df_data.append(df_entry)\n",
    "\n",
    "    return pd.DataFrame(df_data)"
   ]
  },
  {
   "cell_type": "markdown",
   "id": "fc1e0b20-291a-4ded-828c-0ed41e49174a",
   "metadata": {},
   "source": [
    "# Make a Statistical API request\n",
    "\n",
    "The results of Statistical API are aggregated statistical values of satellite data instead of entire images. In many use cases, such values are all that we need. By using Statistical API we can avoid downloading and processing large amounts of satellite data."
   ]
  },
  {
   "cell_type": "code",
   "execution_count": null,
   "id": "4b9bb38e-d558-42a2-8c60-af448ff9715f",
   "metadata": {
    "tags": []
   },
   "outputs": [],
   "source": [
    "example_bbox = BBox((46.16, -16.15, 46.51, -15.58), CRS.WGS84)\n",
    "\n",
    "rgb_evalscript = \"\"\"\n",
    "//VERSION=3\n",
    "\n",
    "function setup() {\n",
    "  return {\n",
    "    input: [\n",
    "      {\n",
    "        bands: [\n",
    "          \"B02\",\n",
    "          \"B03\",\n",
    "          \"B04\",\n",
    "          \"dataMask\"\n",
    "        ]\n",
    "      }\n",
    "    ],\n",
    "    output: [\n",
    "      {\n",
    "        id: \"rgb\",\n",
    "        bands: [\"R\", \"G\", \"B\"]\n",
    "      },\n",
    "      {\n",
    "        id: \"dataMask\",\n",
    "        bands: 1\n",
    "      }\n",
    "    ]\n",
    "  }\n",
    "}\n",
    "\n",
    "function evaluatePixel(samples) {\n",
    "    return {\n",
    "      rgb: [samples.B04, samples.B03, samples.B02],\n",
    "      dataMask: [samples.dataMask]\n",
    "    };\n",
    "}\n",
    "\"\"\"\n",
    "\n",
    "rgb_request = SentinelHubStatistical(\n",
    "    aggregation=SentinelHubStatistical.aggregation(\n",
    "        evalscript=rgb_evalscript,\n",
    "        time_interval=(\"2024-06-11\", \"2024-06-17\"),\n",
    "        aggregation_interval=\"P1D\",\n",
    "        size=(631, 1047),\n",
    "    ),\n",
    "    input_data=[\n",
    "        SentinelHubStatistical.input_data(\n",
    "            data_collection=DataCollection.SENTINEL2_L1C, maxcc=0.8\n",
    "        )\n",
    "    ],\n",
    "    bbox=example_bbox,\n",
    "    config=config,\n",
    ")"
   ]
  },
  {
   "cell_type": "markdown",
   "id": "2fea7973-9543-4c1b-a2f3-80e4128f2e17",
   "metadata": {},
   "source": [
    "The following will send the request to Sentinel Hub service and obtain results."
   ]
  },
  {
   "cell_type": "code",
   "execution_count": null,
   "id": "6dc6d763-0192-4ff2-aebf-4d4509a3b3fa",
   "metadata": {
    "tags": []
   },
   "outputs": [],
   "source": [
    "%%time\n",
    "\n",
    "rgb_stats = rgb_request.get_data()[0]\n",
    "\n",
    "rgb_stats"
   ]
  },
  {
   "cell_type": "markdown",
   "id": "2117ae41-d5e0-4fc9-a052-6c3970ad5fa5",
   "metadata": {},
   "source": [
    "We obtained statistical data for pixels for each band and for both available acquisition dates."
   ]
  }
 ],
 "metadata": {
  "kernelspec": {
   "display_name": "users-eotdl-2024.5.2",
   "language": "python",
   "name": "conda-env-users-eotdl-2024.5.2-py"
  },
  "language_info": {
   "codemirror_mode": {
    "name": "ipython",
    "version": 3
   },
   "file_extension": ".py",
   "mimetype": "text/x-python",
   "name": "python",
   "nbconvert_exporter": "python",
   "pygments_lexer": "ipython3",
   "version": "3.10.14"
  }
 },
 "nbformat": 4,
 "nbformat_minor": 5
}
