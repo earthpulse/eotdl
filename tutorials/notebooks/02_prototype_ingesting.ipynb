{
 "cells": [
  {
   "cell_type": "code",
   "execution_count": 7,
   "metadata": {},
   "outputs": [],
   "source": [
    "%load_ext autoreload\n",
    "%autoreload 2\n",
    "\n",
    "import os\n",
    "os.environ[\"EOTDL_API_URL\"] = \"http://localhost:8001/\"\n"
   ]
  },
  {
   "cell_type": "markdown",
   "metadata": {},
   "source": [
    "Experiment on new way to ingest data.\n",
    "\n",
    "At this moment, users can ingest a folder with some data. If there is no `catalog.json` file, the data will be ingested as a `Q0` dataset using metadata from a `README.md` file. Otherwise, the data will be ingested as a `Q1` or `Q2` dataset depending on the metadata.\n",
    "\n",
    "The new proposed way is similar, but if there is no `catalog.json` file, it will be created so all datasets in EOTDL are STAC compliant. Also, the `README.md` file will be required for all datasets. This pseudo-catalogs can be generated from filesystem for local datasets of from a list of links to host only metadata.\n",
    "\n",
    "In this way, we can make quality as a spectrum instead of discrete, depending on the metadata.\n",
    "\n",
    "Also, it enables wiki-style metadata management, where users can add metadata to a dataset that was ingested by another user."
   ]
  },
  {
   "cell_type": "markdown",
   "metadata": {},
   "source": [
    "# Example 1 - ingesting a dataset from a folder without a catalog.json"
   ]
  },
  {
   "cell_type": "markdown",
   "metadata": {},
   "source": [
    "a subsample of theEuroSAT dataset"
   ]
  },
  {
   "cell_type": "code",
   "execution_count": 65,
   "metadata": {},
   "outputs": [],
   "source": [
    "from glob import glob\n",
    "\n",
    "path = 'data/EuroSAT-RGB-small'\n",
    "\n",
    "# # retrieve all files in the folder recursively\n",
    "# files = glob(path + '/**/*', recursive=True)\n",
    "\n",
    "# files\n",
    "\n"
   ]
  },
  {
   "cell_type": "code",
   "execution_count": 12,
   "metadata": {},
   "outputs": [],
   "source": [
    "# create README.md\n",
    "\n",
    "text = \"\"\"---\n",
    "name: EuroSAT-RGB-small-prototype\n",
    "authors: \n",
    "  - Juan B. Pedro\n",
    "license: free\n",
    "source: https://github.com/earthpulse/eotdl/blob/develop/tutorials/workshops/philab24/02_prototype_ingesting.ipynb\n",
    "---\n",
    "\n",
    "# EuroSAT-RGB-small-prototype\n",
    "\n",
    "This is a prototype of the EuroSAT dataset.\n",
    "\"\"\"\n",
    "\n",
    "with open(f\"{path}/README.md\", \"w\") as outfile:\n",
    "    outfile.write(text)"
   ]
  },
  {
   "cell_type": "code",
   "execution_count": 45,
   "metadata": {},
   "outputs": [
    {
     "name": "stdout",
     "output_type": "stream",
     "text": [
      "Using EOTDL API URL: http://localhost:8001/\n",
      "Using EOTDL API URL: http://localhost:8001/\n",
      "Loading STAC catalog...\n",
      "Using EOTDL API URL: http://localhost:8001/\n",
      "New version created, version: 3\n"
     ]
    },
    {
     "name": "stderr",
     "output_type": "stream",
     "text": [
      "100%|██████████| 101/101 [00:01<00:00, 82.34it/s]"
     ]
    },
    {
     "name": "stdout",
     "output_type": "stream",
     "text": [
      "Ingesting STAC catalog...\n",
      "Done\n"
     ]
    },
    {
     "name": "stderr",
     "output_type": "stream",
     "text": [
      "\n"
     ]
    }
   ],
   "source": [
    "from eotdl.datasets import ingest_dataset_prototype\n",
    "\n",
    "ingest_dataset_prototype(path)"
   ]
  },
  {
   "cell_type": "markdown",
   "metadata": {},
   "source": [
    "will get all files in the folder recursively, create a simple catalog.json and ingest it into EOTDL."
   ]
  },
  {
   "cell_type": "code",
   "execution_count": 16,
   "metadata": {},
   "outputs": [],
   "source": [
    "!rm -rf data/EuroSAT-RGB-small/catalog.json\n",
    "!rm -rf data/EuroSAT-RGB-small/collection"
   ]
  },
  {
   "cell_type": "markdown",
   "metadata": {},
   "source": [
    "# Example 2 - ingesting a dataset from a list of links"
   ]
  },
  {
   "cell_type": "markdown",
   "metadata": {},
   "source": [
    "We can ingest a new dataset from a list of links."
   ]
  },
  {
   "cell_type": "code",
   "execution_count": 40,
   "metadata": {},
   "outputs": [
    {
     "name": "stdout",
     "output_type": "stream",
     "text": [
      "Using EOTDL API URL: http://localhost:8001/\n",
      "Using EOTDL API URL: http://localhost:8001/\n",
      "Loading STAC catalog...\n",
      "Using EOTDL API URL: http://localhost:8001/\n",
      "New version created, version: 1\n"
     ]
    },
    {
     "name": "stderr",
     "output_type": "stream",
     "text": [
      "100%|██████████| 3/3 [00:00<00:00, 7543.71it/s]"
     ]
    },
    {
     "name": "stdout",
     "output_type": "stream",
     "text": [
      "Ingesting STAC catalog...\n",
      "Done\n"
     ]
    },
    {
     "name": "stderr",
     "output_type": "stream",
     "text": [
      "\n"
     ]
    }
   ],
   "source": [
    "links = [\n",
    "\t'https://link1.com',\n",
    "\t'https://link2.com',\n",
    "\t'https://link3.com',\n",
    "]\n",
    "\n",
    "metadata = {\n",
    "\t'name': 'Test-links',\n",
    "\t'authors': ['Juan B. Pedro'],\n",
    "\t'license': 'free',\n",
    "\t'source': 'https://github.com/earthpulse/eotdl/blob/develop/tutorials/workshops/philab24/02_prototype_ingesting.ipynb',\n",
    "\t'description': \"\"\"# Test links\n",
    "\n",
    "Testing the ingestion of a dataset from a list of links.\n",
    "\"\"\"\n",
    "}\n",
    "\n",
    "path = 'data/test-links'\n",
    "\n",
    "ingest_dataset_prototype(path, metadata, links, replicate=False)"
   ]
  },
  {
   "cell_type": "markdown",
   "metadata": {},
   "source": [
    "will create a simple catalog.json with links as items and ingest it into EOTDL. We can choose if we want to replicate the assets in EOTDL or not (use direct sources)."
   ]
  },
  {
   "cell_type": "code",
   "execution_count": 39,
   "metadata": {},
   "outputs": [],
   "source": [
    "!rm -rf data/test-links"
   ]
  },
  {
   "cell_type": "markdown",
   "metadata": {},
   "source": [
    "# Example 3 - ingesting a dataset from a catalog\n"
   ]
  },
  {
   "cell_type": "markdown",
   "metadata": {},
   "source": [
    "If STAC catalog already exists, we can ingest it into EOTDL. In this case, create README.md and place it in the root of the catalog."
   ]
  },
  {
   "cell_type": "code",
   "execution_count": 48,
   "metadata": {},
   "outputs": [],
   "source": [
    "!cp -r data/EuroSAT-RGB-small data/EuroSAT-RGB-small-stac"
   ]
  },
  {
   "cell_type": "code",
   "execution_count": 50,
   "metadata": {},
   "outputs": [
    {
     "name": "stdout",
     "output_type": "stream",
     "text": [
      "{\n",
      "  \"type\": \"Catalog\",\n",
      "  \"id\": \"EuroSAT-RGB-small-prototype\",\n",
      "  \"stac_version\": \"1.0.0\",\n",
      "  \"description\": \"STAC catalog\",\n",
      "  \"links\": [\n",
      "    {\n",
      "      \"rel\": \"root\",\n",
      "      \"href\": \"./catalog.json\",\n",
      "      \"type\": \"application/json\",\n",
      "      \"title\": \"EuroSAT-RGB-small-prototype\"\n",
      "    },\n",
      "    {\n",
      "      \"rel\": \"child\",\n",
      "      \"href\": \"./collection/collection.json\",\n",
      "      \"type\": \"application/json\",\n",
      "      \"title\": \"collection\"\n",
      "    }\n",
      "  ],\n",
      "  \"eotdl\": {\n",
      "    \"name\": \"EuroSAT-RGB-small-prototype\",\n",
      "    \"license\": \"free\",\n",
      "    \"source\": \"https://github.com/earthpulse/eotdl/blob/develop/tutorials/workshops/philab24/02_prototype_ingesting.ipynb\",\n",
      "    \"thumbnail\": \"\",\n",
      "    \"authors\": [\n",
      "      \"Juan B. Pedro\"\n",
      "    ],\n",
      "    \"description\": \"# EuroSAT-RGB-small-prototype\\n\\nThis is a prototype of the EuroSAT dataset.\"\n",
      "  },\n",
      "  \"title\": \"EuroSAT-RGB-small-prototype\"\n",
      "}"
     ]
    }
   ],
   "source": [
    "path = 'data/EuroSAT-RGB-small-stac'\n",
    "\n",
    "files = os.listdir(path)\n",
    "assert 'catalog.json' in files, \"catalog.json not found\"\n",
    "\n",
    "!cat data/EuroSAT-RGB-small-stac/catalog.json"
   ]
  },
  {
   "cell_type": "code",
   "execution_count": 57,
   "metadata": {},
   "outputs": [],
   "source": [
    "# create README.md\n",
    "\n",
    "text = \"\"\"---\n",
    "name: EuroSAT-RGB-small-catalog-prototype\n",
    "authors: \n",
    "  - Juan B. Pedro\n",
    "license: free\n",
    "source: https://github.com/earthpulse/eotdl/blob/develop/tutorials/workshops/philab24/02_prototype_ingesting.ipynb\n",
    "---\n",
    "\n",
    "# EuroSAT-RGB-small-catalog-prototype\n",
    "\n",
    "This is a prototype of the EuroSAT dataset.\n",
    "\"\"\"\n",
    "\n",
    "with open(f\"{path}/README.md\", \"w\") as outfile:\n",
    "    outfile.write(text)"
   ]
  },
  {
   "cell_type": "code",
   "execution_count": 64,
   "metadata": {},
   "outputs": [
    {
     "name": "stdout",
     "output_type": "stream",
     "text": [
      "Using EOTDL API URL: http://localhost:8001/\n",
      "Using EOTDL API URL: http://localhost:8001/\n",
      "Loading STAC catalog...\n",
      "Using EOTDL API URL: http://localhost:8001/\n",
      "New version created, version: 1\n"
     ]
    },
    {
     "name": "stderr",
     "output_type": "stream",
     "text": [
      "100%|██████████| 101/101 [00:03<00:00, 29.18it/s]"
     ]
    },
    {
     "name": "stdout",
     "output_type": "stream",
     "text": [
      "Ingesting STAC catalog...\n",
      "Done\n"
     ]
    },
    {
     "name": "stderr",
     "output_type": "stream",
     "text": [
      "\n"
     ]
    }
   ],
   "source": [
    "ingest_dataset_prototype(path, replicate=False)"
   ]
  }
 ],
 "metadata": {
  "kernelspec": {
   "display_name": ".venv",
   "language": "python",
   "name": "python3"
  },
  "language_info": {
   "codemirror_mode": {
    "name": "ipython",
    "version": 3
   },
   "file_extension": ".py",
   "mimetype": "text/x-python",
   "name": "python",
   "nbconvert_exporter": "python",
   "pygments_lexer": "ipython3",
   "version": "3.12.8"
  }
 },
 "nbformat": 4,
 "nbformat_minor": 2
}
