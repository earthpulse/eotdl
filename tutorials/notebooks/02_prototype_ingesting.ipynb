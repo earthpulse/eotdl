{
 "cells": [
  {
   "cell_type": "code",
   "execution_count": 5,
   "metadata": {},
   "outputs": [
    {
     "name": "stdout",
     "output_type": "stream",
     "text": [
      "The autoreload extension is already loaded. To reload it, use:\n",
      "  %reload_ext autoreload\n"
     ]
    }
   ],
   "source": [
    "%load_ext autoreload\n",
    "%autoreload 2\n",
    "\n",
    "import os\n",
    "os.environ[\"EOTDL_API_URL\"] = \"http://localhost:8001/\"\n"
   ]
  },
  {
   "cell_type": "markdown",
   "metadata": {},
   "source": [
    "Experiment on new way to ingest data.\n",
    "\n",
    "At this moment, users can ingest a folder with some data. If there is no `catalog.json` file, the data will be ingested as a `Q0` dataset using metadata from a `README.md` file. Otherwise, the data will be ingested as a `Q1` or `Q2` dataset depending on the metadata.\n",
    "\n",
    "The new proposed way is similar, but if there is no `catalog.json` file, it will be created so all datasets in EOTDL are STAC compliant. Also, the `README.md` file will be required for all datasets. This pseudo-catalogs can be generated from filesystem for local datasets of from a list of links to host only metadata.\n",
    "\n",
    "In this way, we can make quality as a spectrum instead of discrete, depending on the metadata.\n",
    "\n",
    "Also, it enables wiki-style metadata management, where users can add metadata to a dataset that was ingested by another user."
   ]
  },
  {
   "cell_type": "markdown",
   "metadata": {},
   "source": [
    "# Example 1 - ingesting a dataset from a folder without a catalog.json"
   ]
  },
  {
   "cell_type": "markdown",
   "metadata": {},
   "source": [
    "a subsample of theEuroSAT dataset"
   ]
  },
  {
   "cell_type": "code",
   "execution_count": 2,
   "metadata": {},
   "outputs": [],
   "source": [
    "from glob import glob\n",
    "\n",
    "path = 'data/EuroSAT-RGB-small'\n",
    "\n",
    "# # retrieve all files in the folder recursively\n",
    "# files = glob(path + '/**/*', recursive=True)\n",
    "\n",
    "# files\n",
    "\n"
   ]
  },
  {
   "cell_type": "code",
   "execution_count": 12,
   "metadata": {},
   "outputs": [],
   "source": [
    "# create README.md\n",
    "\n",
    "text = \"\"\"---\n",
    "name: EuroSAT-RGB-small-prototype\n",
    "authors: \n",
    "  - Juan B. Pedro\n",
    "license: free\n",
    "source: https://github.com/earthpulse/eotdl/blob/develop/tutorials/workshops/philab24/02_prototype_ingesting.ipynb\n",
    "---\n",
    "\n",
    "# EuroSAT-RGB-small-prototype\n",
    "\n",
    "This is a prototype of the EuroSAT dataset.\n",
    "\"\"\"\n",
    "\n",
    "with open(f\"{path}/README.md\", \"w\") as outfile:\n",
    "    outfile.write(text)"
   ]
  },
  {
   "cell_type": "code",
   "execution_count": 6,
   "metadata": {},
   "outputs": [
    {
     "name": "stdout",
     "output_type": "stream",
     "text": [
      "Using EOTDL API URL: http://localhost:8001/\n",
      "Using EOTDL API URL: http://localhost:8001/\n",
      "Loading STAC catalog...\n",
      "Using EOTDL API URL: http://localhost:8001/\n",
      "New version created, version: 1\n"
     ]
    },
    {
     "name": "stderr",
     "output_type": "stream",
     "text": [
      "100%|██████████| 101/101 [00:02<00:00, 45.18it/s]\n"
     ]
    },
    {
     "name": "stdout",
     "output_type": "stream",
     "text": [
      "Ingesting STAC catalog...\n",
      "Done\n"
     ]
    }
   ],
   "source": [
    "from eotdl.datasets import ingest_dataset_prototype\n",
    "\n",
    "ingest_dataset_prototype(path)"
   ]
  },
  {
   "cell_type": "markdown",
   "metadata": {},
   "source": [
    "will get all files in the folder recursively, create a simple catalog.json and ingest it into EOTDL."
   ]
  },
  {
   "cell_type": "code",
   "execution_count": 7,
   "metadata": {},
   "outputs": [],
   "source": [
    "!rm -rf data/EuroSAT-RGB-small/catalog.json\n",
    "!rm -rf data/EuroSAT-RGB-small/collection"
   ]
  },
  {
   "cell_type": "markdown",
   "metadata": {},
   "source": [
    "# Example 2 - ingesting a dataset from a list of links"
   ]
  },
  {
   "cell_type": "markdown",
   "metadata": {},
   "source": [
    "We can ingest a new dataset from a list of links (huggingface, s3, etc).\n"
   ]
  },
  {
   "cell_type": "code",
   "execution_count": 9,
   "metadata": {},
   "outputs": [
    {
     "name": "stdout",
     "output_type": "stream",
     "text": [
      "Using EOTDL API URL: http://localhost:8001/\n",
      "Using EOTDL API URL: http://localhost:8001/\n",
      "Loading STAC catalog...\n",
      "Using EOTDL API URL: http://localhost:8001/\n",
      "New version created, version: 1\n"
     ]
    },
    {
     "name": "stderr",
     "output_type": "stream",
     "text": [
      "100%|██████████| 3/3 [00:00<00:00, 7653.84it/s]"
     ]
    },
    {
     "name": "stdout",
     "output_type": "stream",
     "text": [
      "Ingesting STAC catalog...\n",
      "Done\n"
     ]
    },
    {
     "name": "stderr",
     "output_type": "stream",
     "text": [
      "\n"
     ]
    }
   ],
   "source": [
    "links = [\n",
    "\t'https://link1.com',\n",
    "\t'https://link2.com',\n",
    "\t'https://link3.com',\n",
    "]\n",
    "\n",
    "metadata = {\n",
    "\t'name': 'Test-links',\n",
    "\t'authors': ['Juan B. Pedro'],\n",
    "\t'license': 'free',\n",
    "\t'source': 'https://github.com/earthpulse/eotdl/blob/develop/tutorials/workshops/philab24/02_prototype_ingesting.ipynb',\n",
    "\t'description': \"\"\"# Test links\n",
    "\n",
    "Testing the ingestion of a dataset from a list of links.\n",
    "\"\"\"\n",
    "}\n",
    "\n",
    "path = 'data/test-links'\n",
    "\n",
    "ingest_dataset_prototype(path, metadata, links, replicate=False)"
   ]
  },
  {
   "cell_type": "markdown",
   "metadata": {},
   "source": [
    "will create a simple catalog.json with links as items and ingest it into EOTDL. We can choose if we want to replicate the assets in EOTDL or not (use direct sources)."
   ]
  },
  {
   "cell_type": "code",
   "execution_count": 10,
   "metadata": {},
   "outputs": [],
   "source": [
    "!rm -rf data/test-links"
   ]
  },
  {
   "cell_type": "markdown",
   "metadata": {},
   "source": [
    "# Example 3 - ingesting a dataset from a catalog\n"
   ]
  },
  {
   "cell_type": "markdown",
   "metadata": {},
   "source": [
    "If STAC catalog already exists, we can ingest it into EOTDL. In this case, create README.md and place it in the root of the catalog."
   ]
  },
  {
   "cell_type": "code",
   "execution_count": 48,
   "metadata": {},
   "outputs": [],
   "source": [
    "!cp -r data/EuroSAT-RGB-small data/EuroSAT-RGB-small-stac"
   ]
  },
  {
   "cell_type": "code",
   "execution_count": 11,
   "metadata": {},
   "outputs": [
    {
     "name": "stdout",
     "output_type": "stream",
     "text": [
      "{\n",
      "  \"type\": \"Catalog\",\n",
      "  \"id\": \"EuroSAT-RGB-small-prototype\",\n",
      "  \"stac_version\": \"1.0.0\",\n",
      "  \"description\": \"STAC catalog\",\n",
      "  \"links\": [\n",
      "    {\n",
      "      \"rel\": \"root\",\n",
      "      \"href\": \"./catalog.json\",\n",
      "      \"type\": \"application/json\",\n",
      "      \"title\": \"EuroSAT-RGB-small-prototype\"\n",
      "    },\n",
      "    {\n",
      "      \"rel\": \"child\",\n",
      "      \"href\": \"./collection/collection.json\",\n",
      "      \"type\": \"application/json\",\n",
      "      \"title\": \"collection\"\n",
      "    }\n",
      "  ],\n",
      "  \"eotdl\": {\n",
      "    \"name\": \"EuroSAT-RGB-small-catalog-prototype\",\n",
      "    \"license\": \"free\",\n",
      "    \"source\": \"https://github.com/earthpulse/eotdl/blob/develop/tutorials/workshops/philab24/02_prototype_ingesting.ipynb\",\n",
      "    \"thumbnail\": \"\",\n",
      "    \"authors\": [\n",
      "      \"Juan B. Pedro\"\n",
      "    ],\n",
      "    \"description\": \"# EuroSAT-RGB-small-catalog-prototype\\n\\nThis is a prototype of the EuroSAT dataset.\"\n",
      "  },\n",
      "  \"title\": \"EuroSAT-RGB-small-prototype\"\n",
      "}"
     ]
    }
   ],
   "source": [
    "path = 'data/EuroSAT-RGB-small-stac'\n",
    "\n",
    "files = os.listdir(path)\n",
    "assert 'catalog.json' in files, \"catalog.json not found\"\n",
    "\n",
    "!cat data/EuroSAT-RGB-small-stac/catalog.json"
   ]
  },
  {
   "cell_type": "code",
   "execution_count": 14,
   "metadata": {},
   "outputs": [],
   "source": [
    "# create README.md\n",
    "\n",
    "text = \"\"\"---\n",
    "name: EuroSAT-RGB-small-catalog-prototype\n",
    "authors: \n",
    "  - Juan B. Pedro\n",
    "license: free\n",
    "source: https://github.com/earthpulse/eotdl/blob/develop/tutorials/workshops/philab24/02_prototype_ingesting.ipynb\n",
    "---\n",
    "\n",
    "# EuroSAT-RGB-small-catalog-prototype\n",
    "\n",
    "This is a prototype of the EuroSAT dataset.\n",
    "\"\"\"\n",
    "\n",
    "with open(f\"{path}/README.md\", \"w\") as outfile:\n",
    "    outfile.write(text)"
   ]
  },
  {
   "cell_type": "code",
   "execution_count": 15,
   "metadata": {},
   "outputs": [
    {
     "name": "stdout",
     "output_type": "stream",
     "text": [
      "Using EOTDL API URL: http://localhost:8001/\n",
      "Using EOTDL API URL: http://localhost:8001/\n",
      "Loading STAC catalog...\n",
      "Using EOTDL API URL: http://localhost:8001/\n",
      "New version created, version: 1\n"
     ]
    },
    {
     "name": "stderr",
     "output_type": "stream",
     "text": [
      "100%|██████████| 101/101 [00:02<00:00, 46.95it/s]"
     ]
    },
    {
     "name": "stdout",
     "output_type": "stream",
     "text": [
      "Ingesting STAC catalog...\n",
      "Done\n"
     ]
    },
    {
     "name": "stderr",
     "output_type": "stream",
     "text": [
      "\n"
     ]
    }
   ],
   "source": [
    "from eotdl.datasets import ingest_dataset_prototype\n",
    "\n",
    "ingest_dataset_prototype(path, replicate=False)"
   ]
  },
  {
   "cell_type": "code",
   "execution_count": 12,
   "metadata": {},
   "outputs": [],
   "source": [
    "!rm -rf data/EuroSAT-RGB-small-stac/README.md"
   ]
  },
  {
   "cell_type": "markdown",
   "metadata": {},
   "source": [
    "# Staging data"
   ]
  },
  {
   "cell_type": "markdown",
   "metadata": {},
   "source": [
    "At this point, every dataset ingested in EOTDL is STAC compliant, and the hrefs to the assets are links to the EOTDL api.\n",
    "\n",
    "At stage time user can choose to get only the metadata or the metadata and the assets."
   ]
  },
  {
   "cell_type": "code",
   "execution_count": 16,
   "metadata": {},
   "outputs": [],
   "source": [
    "!rm -rf data/output"
   ]
  },
  {
   "cell_type": "code",
   "execution_count": 17,
   "metadata": {},
   "outputs": [
    {
     "name": "stdout",
     "output_type": "stream",
     "text": [
      "Using EOTDL API URL: http://localhost:8001/\n",
      "Using EOTDL API URL: http://localhost:8001/\n",
      "To download assets, set assets=True or -a in the CLI.\n"
     ]
    },
    {
     "data": {
      "text/plain": [
       "'data/output/EuroSAT-RGB-small-catalog-prototype/v1'"
      ]
     },
     "execution_count": 17,
     "metadata": {},
     "output_type": "execute_result"
    }
   ],
   "source": [
    "from eotdl.datasets import download_dataset_prototype\n",
    "\n",
    "path = download_dataset_prototype(dataset_name='EuroSAT-RGB-small-catalog-prototype', path=\"data/output\", force=True)\n",
    "path"
   ]
  },
  {
   "cell_type": "code",
   "execution_count": 18,
   "metadata": {},
   "outputs": [
    {
     "name": "stdout",
     "output_type": "stream",
     "text": [
      "Using EOTDL API URL: http://localhost:8001/\n",
      "Using EOTDL API URL: http://localhost:8001/\n",
      "Using EOTDL API URL: http://localhost:8001/\n"
     ]
    },
    {
     "name": "stderr",
     "output_type": "stream",
     "text": [
      "100%|██████████| 101/101 [00:01<00:00, 77.34it/s]\n"
     ]
    },
    {
     "data": {
      "text/plain": [
       "'data/output/EuroSAT-RGB-small-catalog-prototype/v1'"
      ]
     },
     "execution_count": 18,
     "metadata": {},
     "output_type": "execute_result"
    }
   ],
   "source": [
    "path = download_dataset_prototype(dataset_name='EuroSAT-RGB-small-catalog-prototype', path=\"data/output\", assets=True, force=True)\n",
    "path"
   ]
  },
  {
   "cell_type": "markdown",
   "metadata": {},
   "source": [
    "We can also work on the metadata first (filtering, cleaning, etc) and then download the selected assets."
   ]
  }
 ],
 "metadata": {
  "kernelspec": {
   "display_name": ".venv",
   "language": "python",
   "name": "python3"
  },
  "language_info": {
   "codemirror_mode": {
    "name": "ipython",
    "version": 3
   },
   "file_extension": ".py",
   "mimetype": "text/x-python",
   "name": "python",
   "nbconvert_exporter": "python",
   "pygments_lexer": "ipython3",
   "version": "3.12.8"
  }
 },
 "nbformat": 4,
 "nbformat_minor": 2
}
