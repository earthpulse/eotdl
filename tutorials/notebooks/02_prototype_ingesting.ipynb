{
 "cells": [
  {
   "cell_type": "code",
   "execution_count": 1,
   "metadata": {},
   "outputs": [],
   "source": [
    "%load_ext autoreload\n",
    "%autoreload 2"
   ]
  },
  {
   "cell_type": "markdown",
   "metadata": {},
   "source": [
    "Experiment on new way to ingest data.\n",
    "\n",
    "At this moment, users can ingest a folder with some data. If there is no `catalog.json` file, the data will be ingested as a `Q0` dataset using metadata from a `README.md` file. Otherwise, the data will be ingested as a `Q1` or `Q2` dataset depending on the metadata.\n",
    "\n",
    "The new proposed way is similar, but if there is no `catalog.json` file, it will be created so all datasets in EOTDL are STAC compliant. Also, the `README.md` file will be required for all datasets. This pseudo-catalogs can be generated from filesystem for local datasets of from a list of links to host only metadata.\n",
    "\n",
    "In this way, we can make quality as a spectrum instead of discrete, depending on the metadata.\n",
    "\n",
    "Also, it enables wiki-style metadata management, where users can add metadata to a dataset that was ingested by another user."
   ]
  },
  {
   "cell_type": "markdown",
   "metadata": {},
   "source": [
    "# Example 1 - ingesting a dataset from a folder without a catalog.json"
   ]
  },
  {
   "cell_type": "markdown",
   "metadata": {},
   "source": [
    "a subsample of theEuroSAT dataset"
   ]
  },
  {
   "cell_type": "code",
   "execution_count": 2,
   "metadata": {},
   "outputs": [
    {
     "data": {
      "text/plain": [
       "['data/EuroSAT-small/River',\n",
       " 'data/EuroSAT-small/Residential',\n",
       " 'data/EuroSAT-small/HerbaceousVegetation',\n",
       " 'data/EuroSAT-small/PermanentCrop',\n",
       " 'data/EuroSAT-small/Forest',\n",
       " 'data/EuroSAT-small/SeaLake',\n",
       " 'data/EuroSAT-small/Industrial',\n",
       " 'data/EuroSAT-small/Highway',\n",
       " 'data/EuroSAT-small/Pasture',\n",
       " 'data/EuroSAT-small/AnnualCrop',\n",
       " 'data/EuroSAT-small/River/River_1005.tif',\n",
       " 'data/EuroSAT-small/River/River_1002.tif',\n",
       " 'data/EuroSAT-small/River/River_1001.tif',\n",
       " 'data/EuroSAT-small/River/River_1003.tif',\n",
       " 'data/EuroSAT-small/River/River_1004.tif',\n",
       " 'data/EuroSAT-small/River/River_1.tif',\n",
       " 'data/EuroSAT-small/River/River_10.tif',\n",
       " 'data/EuroSAT-small/River/River_1000.tif',\n",
       " 'data/EuroSAT-small/River/River_100.tif',\n",
       " 'data/EuroSAT-small/River/River_1006.tif',\n",
       " 'data/EuroSAT-small/Residential/Residential_1004.tif',\n",
       " 'data/EuroSAT-small/Residential/Residential_1003.tif',\n",
       " 'data/EuroSAT-small/Residential/Residential_1001.tif',\n",
       " 'data/EuroSAT-small/Residential/Residential_1.tif',\n",
       " 'data/EuroSAT-small/Residential/Residential_10.tif',\n",
       " 'data/EuroSAT-small/Residential/Residential_1000.tif',\n",
       " 'data/EuroSAT-small/Residential/Residential_1002.tif',\n",
       " 'data/EuroSAT-small/Residential/Residential_1006.tif',\n",
       " 'data/EuroSAT-small/Residential/Residential_100.tif',\n",
       " 'data/EuroSAT-small/Residential/Residential_1005.tif',\n",
       " 'data/EuroSAT-small/HerbaceousVegetation/HerbaceousVegetation_1001.tif',\n",
       " 'data/EuroSAT-small/HerbaceousVegetation/HerbaceousVegetation_1.tif',\n",
       " 'data/EuroSAT-small/HerbaceousVegetation/HerbaceousVegetation_1006.tif',\n",
       " 'data/EuroSAT-small/HerbaceousVegetation/HerbaceousVegetation_1002.tif',\n",
       " 'data/EuroSAT-small/HerbaceousVegetation/HerbaceousVegetation_1004.tif',\n",
       " 'data/EuroSAT-small/HerbaceousVegetation/HerbaceousVegetation_1000.tif',\n",
       " 'data/EuroSAT-small/HerbaceousVegetation/HerbaceousVegetation_100.tif',\n",
       " 'data/EuroSAT-small/HerbaceousVegetation/HerbaceousVegetation_1005.tif',\n",
       " 'data/EuroSAT-small/HerbaceousVegetation/HerbaceousVegetation_10.tif',\n",
       " 'data/EuroSAT-small/HerbaceousVegetation/HerbaceousVegetation_1003.tif',\n",
       " 'data/EuroSAT-small/PermanentCrop/PermanentCrop_1004.tif',\n",
       " 'data/EuroSAT-small/PermanentCrop/PermanentCrop_100.tif',\n",
       " 'data/EuroSAT-small/PermanentCrop/PermanentCrop_1001.tif',\n",
       " 'data/EuroSAT-small/PermanentCrop/PermanentCrop_1005.tif',\n",
       " 'data/EuroSAT-small/PermanentCrop/PermanentCrop_10.tif',\n",
       " 'data/EuroSAT-small/PermanentCrop/PermanentCrop_1003.tif',\n",
       " 'data/EuroSAT-small/PermanentCrop/PermanentCrop_1000.tif',\n",
       " 'data/EuroSAT-small/PermanentCrop/PermanentCrop_1006.tif',\n",
       " 'data/EuroSAT-small/PermanentCrop/PermanentCrop_1002.tif',\n",
       " 'data/EuroSAT-small/PermanentCrop/PermanentCrop_1.tif',\n",
       " 'data/EuroSAT-small/Forest/Forest_1.tif',\n",
       " 'data/EuroSAT-small/Forest/Forest_1006.tif',\n",
       " 'data/EuroSAT-small/Forest/Forest_100.tif',\n",
       " 'data/EuroSAT-small/Forest/Forest_1002.tif',\n",
       " 'data/EuroSAT-small/Forest/Forest_10.tif',\n",
       " 'data/EuroSAT-small/Forest/Forest_1000.tif',\n",
       " 'data/EuroSAT-small/Forest/Forest_1001.tif',\n",
       " 'data/EuroSAT-small/Forest/Forest_1005.tif',\n",
       " 'data/EuroSAT-small/Forest/Forest_1004.tif',\n",
       " 'data/EuroSAT-small/Forest/Forest_1003.tif',\n",
       " 'data/EuroSAT-small/SeaLake/SeaLake_1004.tif',\n",
       " 'data/EuroSAT-small/SeaLake/SeaLake_1001.tif',\n",
       " 'data/EuroSAT-small/SeaLake/SeaLake_1003.tif',\n",
       " 'data/EuroSAT-small/SeaLake/SeaLake_100.tif',\n",
       " 'data/EuroSAT-small/SeaLake/SeaLake_1006.tif',\n",
       " 'data/EuroSAT-small/SeaLake/SeaLake_1005.tif',\n",
       " 'data/EuroSAT-small/SeaLake/SeaLake_1000.tif',\n",
       " 'data/EuroSAT-small/SeaLake/SeaLake_1002.tif',\n",
       " 'data/EuroSAT-small/SeaLake/SeaLake_1.tif',\n",
       " 'data/EuroSAT-small/SeaLake/SeaLake_10.tif',\n",
       " 'data/EuroSAT-small/Industrial/Industrial_1000.tif',\n",
       " 'data/EuroSAT-small/Industrial/Industrial_10.tif',\n",
       " 'data/EuroSAT-small/Industrial/Industrial_1002.tif',\n",
       " 'data/EuroSAT-small/Industrial/Industrial_1005.tif',\n",
       " 'data/EuroSAT-small/Industrial/Industrial_1.tif',\n",
       " 'data/EuroSAT-small/Industrial/Industrial_1004.tif',\n",
       " 'data/EuroSAT-small/Industrial/Industrial_1003.tif',\n",
       " 'data/EuroSAT-small/Industrial/Industrial_1001.tif',\n",
       " 'data/EuroSAT-small/Industrial/Industrial_100.tif',\n",
       " 'data/EuroSAT-small/Industrial/Industrial_1006.tif',\n",
       " 'data/EuroSAT-small/Highway/Highway_1.tif',\n",
       " 'data/EuroSAT-small/Highway/Highway_1002.tif',\n",
       " 'data/EuroSAT-small/Highway/Highway_1006.tif',\n",
       " 'data/EuroSAT-small/Highway/Highway_1001.tif',\n",
       " 'data/EuroSAT-small/Highway/Highway_1004.tif',\n",
       " 'data/EuroSAT-small/Highway/Highway_100.tif',\n",
       " 'data/EuroSAT-small/Highway/Highway_1003.tif',\n",
       " 'data/EuroSAT-small/Highway/Highway_1000.tif',\n",
       " 'data/EuroSAT-small/Highway/Highway_1005.tif',\n",
       " 'data/EuroSAT-small/Highway/Highway_10.tif',\n",
       " 'data/EuroSAT-small/Pasture/Pasture_1.tif',\n",
       " 'data/EuroSAT-small/Pasture/Pasture_10.tif',\n",
       " 'data/EuroSAT-small/Pasture/Pasture_1000.tif',\n",
       " 'data/EuroSAT-small/Pasture/Pasture_1003.tif',\n",
       " 'data/EuroSAT-small/Pasture/Pasture_100.tif',\n",
       " 'data/EuroSAT-small/Pasture/Pasture_1005.tif',\n",
       " 'data/EuroSAT-small/Pasture/Pasture_1004.tif',\n",
       " 'data/EuroSAT-small/Pasture/Pasture_1006.tif',\n",
       " 'data/EuroSAT-small/Pasture/Pasture_1002.tif',\n",
       " 'data/EuroSAT-small/Pasture/Pasture_1001.tif',\n",
       " 'data/EuroSAT-small/AnnualCrop/AnnualCrop_1.tif',\n",
       " 'data/EuroSAT-small/AnnualCrop/AnnualCrop_1006.tif',\n",
       " 'data/EuroSAT-small/AnnualCrop/AnnualCrop_1001.tif',\n",
       " 'data/EuroSAT-small/AnnualCrop/AnnualCrop_1003.tif',\n",
       " 'data/EuroSAT-small/AnnualCrop/AnnualCrop_1005.tif',\n",
       " 'data/EuroSAT-small/AnnualCrop/AnnualCrop_100.tif',\n",
       " 'data/EuroSAT-small/AnnualCrop/AnnualCrop_1002.tif',\n",
       " 'data/EuroSAT-small/AnnualCrop/AnnualCrop_1000.tif',\n",
       " 'data/EuroSAT-small/AnnualCrop/AnnualCrop_10.tif',\n",
       " 'data/EuroSAT-small/AnnualCrop/AnnualCrop_1004.tif']"
      ]
     },
     "execution_count": 2,
     "metadata": {},
     "output_type": "execute_result"
    }
   ],
   "source": [
    "from glob import glob\n",
    "\n",
    "path = 'data/EuroSAT-small'\n",
    "\n",
    "# retrieve all files in the folder recursively\n",
    "files = glob(path + '/**/*', recursive=True)\n",
    "\n",
    "files\n",
    "\n"
   ]
  },
  {
   "cell_type": "code",
   "execution_count": 14,
   "metadata": {},
   "outputs": [],
   "source": [
    "# create README.md\n",
    "\n",
    "text = \"\"\"---\n",
    "name: EuroSAT-small-prototype\n",
    "authors: \n",
    "  - Juan B. Pedro\n",
    "license: free\n",
    "source: https://github.com/earthpulse/eotdl/blob/develop/tutorials/workshops/philab24/02_prototype_ingesting.ipynb\n",
    "---\n",
    "\n",
    "# EuroSAT-small-prototype\n",
    "\n",
    "This is a prototype of the EuroSAT dataset.\n",
    "\"\"\"\n",
    "\n",
    "with open(f\"{path}/README.md\", \"w\") as outfile:\n",
    "    outfile.write(text)"
   ]
  },
  {
   "cell_type": "code",
   "execution_count": 44,
   "metadata": {},
   "outputs": [],
   "source": [
    "from eotdl.datasets import ingest_dataset_prototype\n",
    "\n",
    "ingest_dataset_prototype(path)"
   ]
  },
  {
   "cell_type": "code",
   "execution_count": 43,
   "metadata": {},
   "outputs": [],
   "source": [
    "!rm -rf data/EuroSAT-small/catalog.json\n",
    "!rm -rf data/EuroSAT-small/collection"
   ]
  },
  {
   "cell_type": "code",
   "execution_count": null,
   "metadata": {},
   "outputs": [],
   "source": []
  }
 ],
 "metadata": {
  "kernelspec": {
   "display_name": ".venv",
   "language": "python",
   "name": "python3"
  },
  "language_info": {
   "codemirror_mode": {
    "name": "ipython",
    "version": 3
   },
   "file_extension": ".py",
   "mimetype": "text/x-python",
   "name": "python",
   "nbconvert_exporter": "python",
   "pygments_lexer": "ipython3",
   "version": "3.12.7"
  }
 },
 "nbformat": 4,
 "nbformat_minor": 2
}
