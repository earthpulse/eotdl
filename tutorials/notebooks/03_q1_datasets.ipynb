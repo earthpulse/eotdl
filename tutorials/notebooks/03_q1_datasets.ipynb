{
 "cells": [
  {
   "cell_type": "code",
   "execution_count": 4,
   "metadata": {},
   "outputs": [
    {
     "name": "stdout",
     "output_type": "stream",
     "text": [
      "The autoreload extension is already loaded. To reload it, use:\n",
      "  %reload_ext autoreload\n"
     ]
    }
   ],
   "source": [
    "%load_ext autoreload\n",
    "%autoreload 2"
   ]
  },
  {
   "attachments": {},
   "cell_type": "markdown",
   "metadata": {},
   "source": [
    "# Q1 Training Datasets"
   ]
  },
  {
   "attachments": {},
   "cell_type": "markdown",
   "metadata": {},
   "source": [
    "Training Datasets (TDS) in EOTDL are categorized into different [quality levels](https://eotdl.com/docs/datasets/quality), which in turn will impact the range of functionality that will be available for each dataset.\n",
    "\n",
    "In this tutorial you will learn about Q1 datsets, datasets with STAC metadata. "
   ]
  },
  {
   "cell_type": "markdown",
   "metadata": {},
   "source": [
    "To ingest a Q1 datasets you will need its STAC metadata.\n",
    "\n",
    "Some datasets already have STAC metadata, and can be ingested directly into EOTDL. However, in case that your dataset does not have STAC metadata but you want to ingest it as a Q1 dataset, the EOTDL library also offers functionality to create the metadata. Let's see an example using the EuroSAT dataset. "
   ]
  },
  {
   "cell_type": "code",
   "execution_count": 5,
   "metadata": {},
   "outputs": [
    {
     "ename": "Exception",
     "evalue": "Dataset `EuroSAT-RGB v1` already exists at data/EuroSAT-RGB/v1. To force download, use force=True or -f in the CLI.",
     "output_type": "error",
     "traceback": [
      "\u001b[0;31m---------------------------------------------------------------------------\u001b[0m",
      "\u001b[0;31mException\u001b[0m                                 Traceback (most recent call last)",
      "\u001b[1;32m/home/juan/Desktop/eotdl/tutorials/notebooks/03_q1_datasets.ipynb Cell 5\u001b[0m line \u001b[0;36m3\n\u001b[1;32m      <a href='vscode-notebook-cell://ssh-remote%2Bharley/home/juan/Desktop/eotdl/tutorials/notebooks/03_q1_datasets.ipynb#W4sdnNjb2RlLXJlbW90ZQ%3D%3D?line=0'>1</a>\u001b[0m \u001b[39mfrom\u001b[39;00m \u001b[39meotdl\u001b[39;00m\u001b[39m.\u001b[39;00m\u001b[39mdatasets\u001b[39;00m \u001b[39mimport\u001b[39;00m download_dataset\n\u001b[0;32m----> <a href='vscode-notebook-cell://ssh-remote%2Bharley/home/juan/Desktop/eotdl/tutorials/notebooks/03_q1_datasets.ipynb#W4sdnNjb2RlLXJlbW90ZQ%3D%3D?line=2'>3</a>\u001b[0m download_dataset(\u001b[39m\"\u001b[39;49m\u001b[39mEuroSAT-RGB\u001b[39;49m\u001b[39m\"\u001b[39;49m, version\u001b[39m=\u001b[39;49m\u001b[39m1\u001b[39;49m, path\u001b[39m=\u001b[39;49m\u001b[39m\"\u001b[39;49m\u001b[39mdata\u001b[39;49m\u001b[39m\"\u001b[39;49m)\n",
      "File \u001b[0;32m~/Desktop/eotdl/tutorials/notebooks/eotdl/auth/auth.py:47\u001b[0m, in \u001b[0;36mwith_auth.<locals>.wrapper\u001b[0;34m(*args, **kwargs)\u001b[0m\n\u001b[1;32m     45\u001b[0m \u001b[39mdef\u001b[39;00m \u001b[39mwrapper\u001b[39m(\u001b[39m*\u001b[39margs, \u001b[39m*\u001b[39m\u001b[39m*\u001b[39mkwargs):\n\u001b[1;32m     46\u001b[0m     user \u001b[39m=\u001b[39m auth()\n\u001b[0;32m---> 47\u001b[0m     \u001b[39mreturn\u001b[39;00m func(\u001b[39m*\u001b[39;49margs, \u001b[39m*\u001b[39;49m\u001b[39m*\u001b[39;49mkwargs, user\u001b[39m=\u001b[39;49muser)\n",
      "File \u001b[0;32m~/Desktop/eotdl/tutorials/notebooks/eotdl/datasets/download.py:42\u001b[0m, in \u001b[0;36mdownload_dataset\u001b[0;34m(dataset_name, version, path, logger, assets, force, verbose, user, file)\u001b[0m\n\u001b[1;32m     40\u001b[0m \u001b[39mif\u001b[39;00m os\u001b[39m.\u001b[39mpath\u001b[39m.\u001b[39mexists(download_path) \u001b[39mand\u001b[39;00m \u001b[39mnot\u001b[39;00m force:\n\u001b[1;32m     41\u001b[0m     os\u001b[39m.\u001b[39mmakedirs(download_path, exist_ok\u001b[39m=\u001b[39m\u001b[39mTrue\u001b[39;00m)\n\u001b[0;32m---> 42\u001b[0m     \u001b[39mraise\u001b[39;00m \u001b[39mException\u001b[39;00m(\n\u001b[1;32m     43\u001b[0m         \u001b[39mf\u001b[39m\u001b[39m\"\u001b[39m\u001b[39mDataset `\u001b[39m\u001b[39m{\u001b[39;00mdataset[\u001b[39m'\u001b[39m\u001b[39mname\u001b[39m\u001b[39m'\u001b[39m]\u001b[39m}\u001b[39;00m\u001b[39m v\u001b[39m\u001b[39m{\u001b[39;00m\u001b[39mstr\u001b[39m(version)\u001b[39m}\u001b[39;00m\u001b[39m` already exists at \u001b[39m\u001b[39m{\u001b[39;00mdownload_path\u001b[39m}\u001b[39;00m\u001b[39m. To force download, use force=True or -f in the CLI.\u001b[39m\u001b[39m\"\u001b[39m\n\u001b[1;32m     44\u001b[0m     )\n\u001b[1;32m     45\u001b[0m \u001b[39mif\u001b[39;00m dataset[\u001b[39m\"\u001b[39m\u001b[39mquality\u001b[39m\u001b[39m\"\u001b[39m] \u001b[39m==\u001b[39m \u001b[39m0\u001b[39m:\n\u001b[1;32m     46\u001b[0m     \u001b[39mif\u001b[39;00m file:\n",
      "\u001b[0;31mException\u001b[0m: Dataset `EuroSAT-RGB v1` already exists at data/EuroSAT-RGB/v1. To force download, use force=True or -f in the CLI."
     ]
    }
   ],
   "source": [
    "from eotdl.datasets import download_dataset\n",
    "\n",
    "download_dataset(\"EuroSAT-RGB\", version=1, path=\"data\")"
   ]
  },
  {
   "cell_type": "code",
   "execution_count": 2,
   "metadata": {},
   "outputs": [
    {
     "name": "stdout",
     "output_type": "stream",
     "text": [
      "EuroSAT-RGB.zip\n"
     ]
    }
   ],
   "source": [
    "!ls data/EuroSAT-RGB/v1"
   ]
  },
  {
   "cell_type": "code",
   "execution_count": 4,
   "metadata": {},
   "outputs": [],
   "source": [
    "!unzip -q data/EuroSAT-RGB/v1/EuroSAT-RGB.zip -d data/EuroSAT-RGB"
   ]
  },
  {
   "cell_type": "markdown",
   "metadata": {},
   "source": [
    "The EuroSAT dataset contains satellite images for classification, i.e. each image has one label associated. In this case, the label can be extracted from the folder structure."
   ]
  },
  {
   "cell_type": "code",
   "execution_count": 6,
   "metadata": {},
   "outputs": [
    {
     "data": {
      "text/plain": [
       "['Industrial',\n",
       " 'Forest',\n",
       " 'HerbaceousVegetation',\n",
       " 'PermanentCrop',\n",
       " 'Highway',\n",
       " 'Residential',\n",
       " 'SeaLake',\n",
       " 'River',\n",
       " 'AnnualCrop',\n",
       " 'Pasture']"
      ]
     },
     "execution_count": 6,
     "metadata": {},
     "output_type": "execute_result"
    }
   ],
   "source": [
    "import os \n",
    "\n",
    "labels = os.listdir('data/EuroSAT-RGB/2750')\n",
    "labels"
   ]
  },
  {
   "cell_type": "markdown",
   "metadata": {},
   "source": [
    "For faster processing, we will generate a copy of the dataset with only 10 images per class."
   ]
  },
  {
   "cell_type": "code",
   "execution_count": 7,
   "metadata": {},
   "outputs": [],
   "source": [
    "import shutil \n",
    "\n",
    "os.makedirs('data/EuroSAT-RGB-small/', exist_ok=True)\n",
    "for label in labels:\n",
    "    os.makedirs('data/EuroSAT-RGB-small/' + label, exist_ok=True)\n",
    "    images = os.listdir('data/EuroSAT-RGB/2750/' + label)[:10]\n",
    "    for image in images:\n",
    "        shutil.copy('data/EuroSAT-RGB/2750/' + label + '/' + image, 'data/EuroSAT-RGB-small/' + label + '/' + image)"
   ]
  },
  {
   "cell_type": "markdown",
   "metadata": {},
   "source": [
    "You can use the `STACGenerator` to create the STAC metadata for your dataset in the form of a dataframe. The item parser will depend on the structure of your dataset. We offer some predefined parsers for common datasets, but you can also create your own parser."
   ]
  },
  {
   "cell_type": "code",
   "execution_count": 8,
   "metadata": {},
   "outputs": [
    {
     "data": {
      "text/html": [
       "<div>\n",
       "<style scoped>\n",
       "    .dataframe tbody tr th:only-of-type {\n",
       "        vertical-align: middle;\n",
       "    }\n",
       "\n",
       "    .dataframe tbody tr th {\n",
       "        vertical-align: top;\n",
       "    }\n",
       "\n",
       "    .dataframe thead th {\n",
       "        text-align: right;\n",
       "    }\n",
       "</style>\n",
       "<table border=\"1\" class=\"dataframe\">\n",
       "  <thead>\n",
       "    <tr style=\"text-align: right;\">\n",
       "      <th></th>\n",
       "      <th>image</th>\n",
       "      <th>label</th>\n",
       "      <th>ix</th>\n",
       "      <th>collection</th>\n",
       "      <th>extensions</th>\n",
       "      <th>bands</th>\n",
       "    </tr>\n",
       "  </thead>\n",
       "  <tbody>\n",
       "    <tr>\n",
       "      <th>0</th>\n",
       "      <td>data/EuroSAT-RGB-small/Industrial/Industrial_1...</td>\n",
       "      <td>Industrial</td>\n",
       "      <td>0</td>\n",
       "      <td>data/EuroSAT-RGB-small/source</td>\n",
       "      <td>None</td>\n",
       "      <td>None</td>\n",
       "    </tr>\n",
       "    <tr>\n",
       "      <th>1</th>\n",
       "      <td>data/EuroSAT-RGB-small/Industrial/Industrial_1...</td>\n",
       "      <td>Industrial</td>\n",
       "      <td>0</td>\n",
       "      <td>data/EuroSAT-RGB-small/source</td>\n",
       "      <td>None</td>\n",
       "      <td>None</td>\n",
       "    </tr>\n",
       "    <tr>\n",
       "      <th>2</th>\n",
       "      <td>data/EuroSAT-RGB-small/Industrial/Industrial_1...</td>\n",
       "      <td>Industrial</td>\n",
       "      <td>0</td>\n",
       "      <td>data/EuroSAT-RGB-small/source</td>\n",
       "      <td>None</td>\n",
       "      <td>None</td>\n",
       "    </tr>\n",
       "    <tr>\n",
       "      <th>3</th>\n",
       "      <td>data/EuroSAT-RGB-small/Industrial/Industrial_1...</td>\n",
       "      <td>Industrial</td>\n",
       "      <td>0</td>\n",
       "      <td>data/EuroSAT-RGB-small/source</td>\n",
       "      <td>None</td>\n",
       "      <td>None</td>\n",
       "    </tr>\n",
       "    <tr>\n",
       "      <th>4</th>\n",
       "      <td>data/EuroSAT-RGB-small/Industrial/Industrial_1...</td>\n",
       "      <td>Industrial</td>\n",
       "      <td>0</td>\n",
       "      <td>data/EuroSAT-RGB-small/source</td>\n",
       "      <td>None</td>\n",
       "      <td>None</td>\n",
       "    </tr>\n",
       "  </tbody>\n",
       "</table>\n",
       "</div>"
      ],
      "text/plain": [
       "                                               image       label  ix  \\\n",
       "0  data/EuroSAT-RGB-small/Industrial/Industrial_1...  Industrial   0   \n",
       "1  data/EuroSAT-RGB-small/Industrial/Industrial_1...  Industrial   0   \n",
       "2  data/EuroSAT-RGB-small/Industrial/Industrial_1...  Industrial   0   \n",
       "3  data/EuroSAT-RGB-small/Industrial/Industrial_1...  Industrial   0   \n",
       "4  data/EuroSAT-RGB-small/Industrial/Industrial_1...  Industrial   0   \n",
       "\n",
       "                      collection extensions bands  \n",
       "0  data/EuroSAT-RGB-small/source       None  None  \n",
       "1  data/EuroSAT-RGB-small/source       None  None  \n",
       "2  data/EuroSAT-RGB-small/source       None  None  \n",
       "3  data/EuroSAT-RGB-small/source       None  None  \n",
       "4  data/EuroSAT-RGB-small/source       None  None  "
      ]
     },
     "execution_count": 8,
     "metadata": {},
     "output_type": "execute_result"
    }
   ],
   "source": [
    "from eotdl.curation.stac.parsers import UnestructuredParser\n",
    "from eotdl.curation.stac.stac import STACGenerator\n",
    "from eotdl.curation.stac.dataframe_labeling import LabeledStrategy\n",
    "\n",
    "stac_generator = STACGenerator(image_format='jpg', item_parser=UnestructuredParser, labeling_strategy=LabeledStrategy)\n",
    "\n",
    "df = stac_generator.get_stac_dataframe('data/EuroSAT-RGB-small')\n",
    "df.head()\n"
   ]
  },
  {
   "cell_type": "markdown",
   "metadata": {},
   "source": [
    "Now we save the STAC metadata. The `id` given to the STAC catalog will be used as the name of the dataset in EOTDL (which has the same requirements than can be found in the [documentation](/docs/datasets/ingest))."
   ]
  },
  {
   "cell_type": "code",
   "execution_count": 9,
   "metadata": {},
   "outputs": [
    {
     "name": "stderr",
     "output_type": "stream",
     "text": [
      "/home/juan/miniconda3/envs/eotdl/lib/python3.8/site-packages/rasterio/__init__.py:304: NotGeoreferencedWarning: Dataset has no geotransform, gcps, or rpcs. The identity matrix will be returned.\n",
      "  dataset = DatasetReader(path, driver=driver, sharing=sharing, **kwargs)\n"
     ]
    },
    {
     "name": "stdout",
     "output_type": "stream",
     "text": [
      "Generating source collection...\n"
     ]
    },
    {
     "name": "stderr",
     "output_type": "stream",
     "text": [
      "  0%|          | 0/100 [00:00<?, ?it/s]/home/juan/miniconda3/envs/eotdl/lib/python3.8/site-packages/rasterio/__init__.py:304: NotGeoreferencedWarning: Dataset has no geotransform, gcps, or rpcs. The identity matrix will be returned.\n",
      "  dataset = DatasetReader(path, driver=driver, sharing=sharing, **kwargs)\n",
      "100%|██████████| 100/100 [00:00<00:00, 971.84it/s]\n",
      "Exception while validating Catalog href: /home/juan/Desktop/eotdl/tutorials/notebooks/data/EuroSAT-RGB-small-STAC/catalog.json\n",
      "__init__() got an unexpected keyword argument 'registry'\n",
      "Traceback (most recent call last):\n",
      "  File \"/home/juan/miniconda3/envs/eotdl/lib/python3.8/site-packages/pystac/validation/stac_validator.py\", line 197, in _validate_from_uri\n",
      "    validator = cls(schema, registry=self.registry)\n",
      "TypeError: __init__() got an unexpected keyword argument 'registry'\n"
     ]
    },
    {
     "name": "stdout",
     "output_type": "stream",
     "text": [
      "Validating and saving catalog...\n"
     ]
    },
    {
     "ename": "TypeError",
     "evalue": "__init__() got an unexpected keyword argument 'registry'",
     "output_type": "error",
     "traceback": [
      "\u001b[0;31m---------------------------------------------------------------------------\u001b[0m",
      "\u001b[0;31mTypeError\u001b[0m                                 Traceback (most recent call last)",
      "\u001b[1;32m/home/juan/Desktop/eotdl/tutorials/notebooks/03_q1_datasets.ipynb Cell 16\u001b[0m line \u001b[0;36m2\n\u001b[1;32m      <a href='vscode-notebook-cell://ssh-remote%2Bharley/home/juan/Desktop/eotdl/tutorials/notebooks/03_q1_datasets.ipynb#X20sdnNjb2RlLXJlbW90ZQ%3D%3D?line=0'>1</a>\u001b[0m output \u001b[39m=\u001b[39m \u001b[39m'\u001b[39m\u001b[39mdata/EuroSAT-RGB-small-STAC\u001b[39m\u001b[39m'\u001b[39m\n\u001b[0;32m----> <a href='vscode-notebook-cell://ssh-remote%2Bharley/home/juan/Desktop/eotdl/tutorials/notebooks/03_q1_datasets.ipynb#X20sdnNjb2RlLXJlbW90ZQ%3D%3D?line=1'>2</a>\u001b[0m stac_generator\u001b[39m.\u001b[39;49mgenerate_stac_metadata(\u001b[39mid\u001b[39;49m\u001b[39m=\u001b[39;49m\u001b[39m'\u001b[39;49m\u001b[39meurosat-rgb\u001b[39;49m\u001b[39m'\u001b[39;49m, description\u001b[39m=\u001b[39;49m\u001b[39m'\u001b[39;49m\u001b[39mEuroSAT-RGB dataset\u001b[39;49m\u001b[39m'\u001b[39;49m, stac_dataframe\u001b[39m=\u001b[39;49mdf, output_folder\u001b[39m=\u001b[39;49moutput)\n",
      "File \u001b[0;32m~/miniconda3/envs/eotdl/lib/python3.8/site-packages/eotdl/curation/stac/stac.py:113\u001b[0m, in \u001b[0;36mSTACGenerator.generate_stac_metadata\u001b[0;34m(self, id, description, stac_dataframe, output_folder, **kwargs)\u001b[0m\n\u001b[1;32m    111\u001b[0m \u001b[39mprint\u001b[39m(\u001b[39m\"\u001b[39m\u001b[39mValidating and saving catalog...\u001b[39m\u001b[39m\"\u001b[39m)\n\u001b[1;32m    112\u001b[0m \u001b[39mtry\u001b[39;00m:\n\u001b[0;32m--> 113\u001b[0m     pystac\u001b[39m.\u001b[39;49mvalidation\u001b[39m.\u001b[39;49mvalidate(catalog)\n\u001b[1;32m    114\u001b[0m     catalog\u001b[39m.\u001b[39msave(catalog_type\u001b[39m=\u001b[39m\u001b[39mself\u001b[39m\u001b[39m.\u001b[39m_catalog_type)\n\u001b[1;32m    115\u001b[0m     \u001b[39mprint\u001b[39m(\u001b[39m\"\u001b[39m\u001b[39mSuccess!\u001b[39m\u001b[39m\"\u001b[39m)\n",
      "File \u001b[0;32m~/miniconda3/envs/eotdl/lib/python3.8/site-packages/pystac/validation/__init__.py:33\u001b[0m, in \u001b[0;36mvalidate\u001b[0;34m(stac_object)\u001b[0m\n\u001b[1;32m     19\u001b[0m \u001b[39mdef\u001b[39;00m \u001b[39mvalidate\u001b[39m(stac_object: STACObject) \u001b[39m-\u001b[39m\u001b[39m>\u001b[39m List[Any]:\n\u001b[1;32m     20\u001b[0m \u001b[39m    \u001b[39m\u001b[39m\"\"\"Validates a :class:`~pystac.STACObject`.\u001b[39;00m\n\u001b[1;32m     21\u001b[0m \n\u001b[1;32m     22\u001b[0m \u001b[39m    Args:\u001b[39;00m\n\u001b[0;32m   (...)\u001b[0m\n\u001b[1;32m     31\u001b[0m \u001b[39m        STACValidationError\u001b[39;00m\n\u001b[1;32m     32\u001b[0m \u001b[39m    \"\"\"\u001b[39;00m\n\u001b[0;32m---> 33\u001b[0m     \u001b[39mreturn\u001b[39;00m validate_dict(\n\u001b[1;32m     34\u001b[0m         stac_dict\u001b[39m=\u001b[39;49mstac_object\u001b[39m.\u001b[39;49mto_dict(),\n\u001b[1;32m     35\u001b[0m         stac_object_type\u001b[39m=\u001b[39;49mstac_object\u001b[39m.\u001b[39;49mSTAC_OBJECT_TYPE,\n\u001b[1;32m     36\u001b[0m         stac_version\u001b[39m=\u001b[39;49mpystac\u001b[39m.\u001b[39;49mget_stac_version(),\n\u001b[1;32m     37\u001b[0m         extensions\u001b[39m=\u001b[39;49mstac_object\u001b[39m.\u001b[39;49mstac_extensions,\n\u001b[1;32m     38\u001b[0m         href\u001b[39m=\u001b[39;49mstac_object\u001b[39m.\u001b[39;49mget_self_href(),\n\u001b[1;32m     39\u001b[0m     )\n",
      "File \u001b[0;32m~/miniconda3/envs/eotdl/lib/python3.8/site-packages/pystac/validation/__init__.py:104\u001b[0m, in \u001b[0;36mvalidate_dict\u001b[0;34m(stac_dict, stac_object_type, stac_version, extensions, href)\u001b[0m\n\u001b[1;32m     96\u001b[0m         \u001b[39mreturn\u001b[39;00m OldExtensionSchemaUriMap\u001b[39m.\u001b[39mget_extension_schema_uri(\n\u001b[1;32m     97\u001b[0m             ext,\n\u001b[1;32m     98\u001b[0m             stac_object_type,\n\u001b[1;32m     99\u001b[0m             stac_version_id,\n\u001b[1;32m    100\u001b[0m         )\n\u001b[1;32m    102\u001b[0m     extensions \u001b[39m=\u001b[39m [uri \u001b[39mfor\u001b[39;00m uri \u001b[39min\u001b[39;00m \u001b[39mmap\u001b[39m(_get_uri, extensions) \u001b[39mif\u001b[39;00m uri \u001b[39mis\u001b[39;00m \u001b[39mnot\u001b[39;00m \u001b[39mNone\u001b[39;00m]\n\u001b[0;32m--> 104\u001b[0m \u001b[39mreturn\u001b[39;00m RegisteredValidator\u001b[39m.\u001b[39;49mget_validator()\u001b[39m.\u001b[39;49mvalidate(\n\u001b[1;32m    105\u001b[0m     stac_dict, stac_object_type, stac_version, extensions, href\n\u001b[1;32m    106\u001b[0m )\n",
      "File \u001b[0;32m~/miniconda3/envs/eotdl/lib/python3.8/site-packages/pystac/validation/stac_validator.py:109\u001b[0m, in \u001b[0;36mSTACValidator.validate\u001b[0;34m(self, stac_dict, stac_object_type, stac_version, extensions, href)\u001b[0m\n\u001b[1;32m    105\u001b[0m \u001b[39m# Pass the dict through JSON serialization and parsing, otherwise\u001b[39;00m\n\u001b[1;32m    106\u001b[0m \u001b[39m# some valid properties can be marked as invalid (e.g. tuples in\u001b[39;00m\n\u001b[1;32m    107\u001b[0m \u001b[39m# coordinate sequences for geometries).\u001b[39;00m\n\u001b[1;32m    108\u001b[0m json_dict \u001b[39m=\u001b[39m json\u001b[39m.\u001b[39mloads(json\u001b[39m.\u001b[39mdumps(stac_dict))\n\u001b[0;32m--> 109\u001b[0m core_result \u001b[39m=\u001b[39m \u001b[39mself\u001b[39;49m\u001b[39m.\u001b[39;49mvalidate_core(\n\u001b[1;32m    110\u001b[0m     json_dict, stac_object_type, stac_version, href\n\u001b[1;32m    111\u001b[0m )\n\u001b[1;32m    112\u001b[0m \u001b[39mif\u001b[39;00m core_result \u001b[39mis\u001b[39;00m \u001b[39mnot\u001b[39;00m \u001b[39mNone\u001b[39;00m:\n\u001b[1;32m    113\u001b[0m     results\u001b[39m.\u001b[39mappend(core_result)\n",
      "File \u001b[0;32m~/miniconda3/envs/eotdl/lib/python3.8/site-packages/pystac/validation/stac_validator.py:250\u001b[0m, in \u001b[0;36mJsonSchemaSTACValidator.validate_core\u001b[0;34m(self, stac_dict, stac_object_type, stac_version, href)\u001b[0m\n\u001b[1;32m    247\u001b[0m \u001b[39mif\u001b[39;00m schema_uri \u001b[39mis\u001b[39;00m \u001b[39mNone\u001b[39;00m:\n\u001b[1;32m    248\u001b[0m     \u001b[39mreturn\u001b[39;00m \u001b[39mNone\u001b[39;00m\n\u001b[0;32m--> 250\u001b[0m \u001b[39mself\u001b[39;49m\u001b[39m.\u001b[39;49m_validate_from_uri(stac_dict, stac_object_type, schema_uri, href\u001b[39m=\u001b[39;49mhref)\n\u001b[1;32m    252\u001b[0m \u001b[39mreturn\u001b[39;00m schema_uri\n",
      "File \u001b[0;32m~/miniconda3/envs/eotdl/lib/python3.8/site-packages/pystac/validation/stac_validator.py:197\u001b[0m, in \u001b[0;36mJsonSchemaSTACValidator._validate_from_uri\u001b[0;34m(self, stac_dict, stac_object_type, schema_uri, href)\u001b[0m\n\u001b[1;32m    195\u001b[0m     \u001b[39mcls\u001b[39m \u001b[39m=\u001b[39m jsonschema\u001b[39m.\u001b[39mvalidators\u001b[39m.\u001b[39mvalidator_for(schema)\n\u001b[1;32m    196\u001b[0m     \u001b[39mcls\u001b[39m\u001b[39m.\u001b[39mcheck_schema(schema)\n\u001b[0;32m--> 197\u001b[0m     validator \u001b[39m=\u001b[39m \u001b[39mcls\u001b[39;49m(schema, registry\u001b[39m=\u001b[39;49m\u001b[39mself\u001b[39;49m\u001b[39m.\u001b[39;49mregistry)\n\u001b[1;32m    198\u001b[0m     errors \u001b[39m=\u001b[39m \u001b[39mlist\u001b[39m(validator\u001b[39m.\u001b[39miter_errors(stac_dict))\n\u001b[1;32m    199\u001b[0m \u001b[39mexcept\u001b[39;00m \u001b[39mException\u001b[39;00m \u001b[39mas\u001b[39;00m e:\n",
      "\u001b[0;31mTypeError\u001b[0m: __init__() got an unexpected keyword argument 'registry'"
     ]
    }
   ],
   "source": [
    "output = 'data/EuroSAT-RGB-small-STAC'\n",
    "stac_generator.generate_stac_metadata(id='eurosat-rgb', description='EuroSAT-RGB dataset', stac_dataframe=df, output_folder=output)"
   ]
  },
  {
   "cell_type": "markdown",
   "metadata": {},
   "source": [
    "And, optionally, the labels using the labels extension."
   ]
  },
  {
   "cell_type": "code",
   "execution_count": null,
   "metadata": {},
   "outputs": [],
   "source": [
    "from eotdl.curation.stac.extensions.label import ImageNameLabeler\n",
    "\n",
    "catalog = output + '/catalog.json'\n",
    "labels_extra_properties = {'label_properties': [\"label\"],\n",
    "                          'label_methods': [\"manual\"],\n",
    "                          'label_tasks': [\"classification\"]}\n",
    "\n",
    "labeler = ImageNameLabeler()\n",
    "labeler.generate_stac_labels(catalog, stac_dataframe=df, **labels_extra_properties)"
   ]
  },
  {
   "cell_type": "markdown",
   "metadata": {},
   "source": [
    "Once the STAC metadata is generated, we can ingest the dataset into EOTDL."
   ]
  },
  {
   "cell_type": "code",
   "execution_count": 1,
   "metadata": {},
   "outputs": [
    {
     "name": "stdout",
     "output_type": "stream",
     "text": [
      "Loading STAC catalog...\n",
      "Uploading assets...\n"
     ]
    },
    {
     "name": "stderr",
     "output_type": "stream",
     "text": [
      "100%|██████████| 200/200 [00:10<00:00, 18.29it/s]\n"
     ]
    },
    {
     "name": "stdout",
     "output_type": "stream",
     "text": [
      "Ingesting STAC catalog...\n",
      "Done\n"
     ]
    },
    {
     "data": {
      "text/plain": [
       "{'uid': 'auth0|642adbfdb3da3ab51492d60a',\n",
       " 'id': '651a8cbb98ed69fa11fec60d',\n",
       " 'name': 'eurosat-rgb',\n",
       " 'description': '',\n",
       " 'tags': [],\n",
       " 'createdAt': '2023-10-02T11:24:48.008000',\n",
       " 'updatedAt': '2023-10-02T11:26:29.981000',\n",
       " 'likes': 0,\n",
       " 'downloads': 0,\n",
       " 'quality': 1,\n",
       " 'size': 355176,\n",
       " 'catalog': {'type': 'Catalog',\n",
       "  'id': 'eurosat-rgb',\n",
       "  'stac_version': '1.0.0',\n",
       "  'description': 'EuroSAT-RGB dataset',\n",
       "  'links': [{'rel': 'self',\n",
       "    'href': '/Users/fran/Documents/Projects/eotdl/tutorials/data/EuroSAT-STAC/catalog.json',\n",
       "    'type': 'application/json'},\n",
       "   {'rel': 'root', 'href': './catalog.json', 'type': 'application/json'},\n",
       "   {'rel': 'child',\n",
       "    'href': './source/collection.json',\n",
       "    'type': 'application/json'},\n",
       "   {'rel': 'child',\n",
       "    'href': './labels/collection.json',\n",
       "    'type': 'application/json'}],\n",
       "  'extent': None,\n",
       "  'license': None,\n",
       "  'stac_extensions': None,\n",
       "  'summaries': None,\n",
       "  'properties': None,\n",
       "  'assets': None,\n",
       "  'bbox': None,\n",
       "  'collection': None}}"
      ]
     },
     "execution_count": 1,
     "metadata": {},
     "output_type": "execute_result"
    }
   ],
   "source": [
    "from eotdl.datasets import ingest_dataset\n",
    "\n",
    "ingest_dataset('data/EuroSAT-STAC')"
   ]
  },
  {
   "cell_type": "markdown",
   "metadata": {},
   "source": [
    "After the ingestion, you can explore and download your dataset like shown in the previous tutorial."
   ]
  },
  {
   "cell_type": "code",
   "execution_count": 2,
   "metadata": {},
   "outputs": [
    {
     "data": {
      "text/plain": [
       "['eurosat-rgb', 'asd']"
      ]
     },
     "execution_count": 2,
     "metadata": {},
     "output_type": "execute_result"
    }
   ],
   "source": [
    "from eotdl.datasets import list_datasets\n",
    "\n",
    "datasets = list_datasets()\n",
    "datasets"
   ]
  },
  {
   "cell_type": "code",
   "execution_count": 18,
   "metadata": {},
   "outputs": [
    {
     "name": "stdout",
     "output_type": "stream",
     "text": [
      "Downloading STAC metadata...\n",
      "To download assets, set assets=True or -a in the CLI.\n"
     ]
    },
    {
     "data": {
      "text/plain": [
       "'/home/juan/.cache/eotdl/datasets/eurosat-rgb'"
      ]
     },
     "execution_count": 18,
     "metadata": {},
     "output_type": "execute_result"
    }
   ],
   "source": [
    "from eotdl.datasets import download_dataset\n",
    "\n",
    "dst_path = download_dataset('eurosat-rgb')\n",
    "dst_path"
   ]
  },
  {
   "cell_type": "markdown",
   "metadata": {},
   "source": [
    "By default it will only download the STAC metadata. In case you also want to download the actual data, you can use the `assets` parameter. "
   ]
  },
  {
   "cell_type": "markdown",
   "metadata": {},
   "source": [
    "> The `force` parameter will overwrite the dataset if it already exists."
   ]
  },
  {
   "cell_type": "code",
   "execution_count": 20,
   "metadata": {},
   "outputs": [
    {
     "name": "stdout",
     "output_type": "stream",
     "text": [
      "Downloading STAC metadata...\n",
      "Downloading assets...\n"
     ]
    },
    {
     "name": "stderr",
     "output_type": "stream",
     "text": [
      "100%|██████████| 200/200 [00:34<00:00,  5.85it/s]\n"
     ]
    },
    {
     "data": {
      "text/plain": [
       "'/home/juan/.cache/eotdl/datasets/eurosat-rgb'"
      ]
     },
     "execution_count": 20,
     "metadata": {},
     "output_type": "execute_result"
    }
   ],
   "source": [
    "from eotdl.datasets import download_dataset\n",
    "\n",
    "dst_path = download_dataset('eurosat-rgb', force=True, assets=True)\n",
    "dst_path"
   ]
  },
  {
   "cell_type": "markdown",
   "metadata": {},
   "source": [
    "You will find the data in  the `assets` subfolder, where a subfolder for each items with its `id` will contain all the assets for that item."
   ]
  },
  {
   "cell_type": "code",
   "execution_count": 25,
   "metadata": {},
   "outputs": [
    {
     "data": {
      "text/plain": [
       "['/home/juan/.cache/eotdl/datasets/eurosat-rgb/assets/River_1655/River_1655.jpg',\n",
       " '/home/juan/.cache/eotdl/datasets/eurosat-rgb/assets/AnnualCrop_1142/AnnualCrop_1142.jpg',\n",
       " '/home/juan/.cache/eotdl/datasets/eurosat-rgb/assets/Industrial_435/Industrial_435.jpg']"
      ]
     },
     "execution_count": 25,
     "metadata": {},
     "output_type": "execute_result"
    }
   ],
   "source": [
    "from glob import glob\n",
    "\n",
    "glob(dst_path + '/assets/**/*.jpg')[:3]"
   ]
  },
  {
   "cell_type": "markdown",
   "metadata": {},
   "source": [
    "Alternatively, you can download an asset using its url."
   ]
  },
  {
   "cell_type": "code",
   "execution_count": 27,
   "metadata": {},
   "outputs": [
    {
     "data": {
      "text/plain": [
       "{'Highway_594': {'href': 'https://api.eotdl.com/datasets/6503f8a3d05a1b62cc273ea4/download/Highway_594.jpg',\n",
       "  'type': 'image/jpeg',\n",
       "  'title': 'Highway_594',\n",
       "  'roles': ['data']}}"
      ]
     },
     "execution_count": 27,
     "metadata": {},
     "output_type": "execute_result"
    }
   ],
   "source": [
    "import json\n",
    "\n",
    "with open(dst_path + '/eurosat-rgb/source/Highway_594/Highway_594.json', 'r') as f:\n",
    "\tdata = json.load(f)\n",
    "\n",
    "data['assets']"
   ]
  },
  {
   "cell_type": "code",
   "execution_count": 28,
   "metadata": {},
   "outputs": [
    {
     "name": "stderr",
     "output_type": "stream",
     "text": [
      "100%|██████████| 4.07k/4.07k [00:00<00:00, 743kiB/s]\n"
     ]
    },
    {
     "data": {
      "text/plain": [
       "'data/Highway_594.jpg'"
      ]
     },
     "execution_count": 28,
     "metadata": {},
     "output_type": "execute_result"
    }
   ],
   "source": [
    "from eotdl.datasets import download_file_url\n",
    "\n",
    "url = data['assets']['Highway_594']['href']\n",
    "download_file_url(url, 'data')"
   ]
  }
 ],
 "metadata": {
  "kernelspec": {
   "display_name": "Python 3 (ipykernel)",
   "language": "python",
   "name": "python3"
  },
  "language_info": {
   "codemirror_mode": {
    "name": "ipython",
    "version": 3
   },
   "file_extension": ".py",
   "mimetype": "text/x-python",
   "name": "python",
   "nbconvert_exporter": "python",
   "pygments_lexer": "ipython3",
   "version": "3.8.18"
  }
 },
 "nbformat": 4,
 "nbformat_minor": 2
}
