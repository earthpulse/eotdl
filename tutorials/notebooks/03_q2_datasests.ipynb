{
 "cells": [
  {
   "cell_type": "code",
   "execution_count": 1,
   "metadata": {},
   "outputs": [],
   "source": [
    "%load_ext autoreload\n",
    "%autoreload 2"
   ]
  },
  {
   "cell_type": "markdown",
   "metadata": {},
   "source": [
    "# Q2 Training Datasets"
   ]
  },
  {
   "cell_type": "markdown",
   "metadata": {},
   "source": [
    "Training Datasets (TDS) in EOTDL are categorized into different [quality levels](https://eotdl.com/docs/datasets/quality), which in turn will impact the range of functionality that will be available for each dataset.\n",
    "\n",
    "In this tutorial you will learn about Q2 datsets, datasets with STAC metadata and EOTDL's custom STAC extensions. "
   ]
  },
  {
   "cell_type": "markdown",
   "metadata": {},
   "source": [
    "## The ML-Dataset Extension"
   ]
  },
  {
   "cell_type": "markdown",
   "metadata": {},
   "source": [
    "The main extension used by EOTDL for Q2 datasets is the ML-Dataset extension. It enhances the STAC metadata of a dataset including information such as data splits (train, validation, test), quality metrics, etc.\n",
    "\n",
    "Let's see how to generate a Q2 dataset using the EOTDL library for the EuroSAT dataset. Q2 datasets are generated from Q1 datasets, datasets with STAC metadata. We already showed how to generate a Q1 dataset in the previous tutorial."
   ]
  },
  {
   "cell_type": "code",
   "execution_count": 1,
   "metadata": {},
   "outputs": [
    {
     "data": {
      "text/plain": [
       "['sen12floods-use-case',\n",
       " 'EuroSAT-Q2',\n",
       " 'sen12floods-eotdl',\n",
       " 'EuroSAT',\n",
       " 'EuroSAT-STAC',\n",
       " 'sen12floods.zip']"
      ]
     },
     "execution_count": 1,
     "metadata": {},
     "output_type": "execute_result"
    }
   ],
   "source": [
    "import os \n",
    "\n",
    "os.listdir('data')"
   ]
  },
  {
   "cell_type": "code",
   "execution_count": 2,
   "metadata": {},
   "outputs": [
    {
     "name": "stdout",
     "output_type": "stream",
     "text": [
      "Generating splits...\n",
      "Total size: 100\n",
      "Train size: 80\n",
      "Test size: 10\n",
      "Validation size: 10\n",
      "Generating Training split...\n"
     ]
    },
    {
     "name": "stderr",
     "output_type": "stream",
     "text": [
      "100%|██████████| 80/80 [00:00<00:00, 7062.75it/s]\n"
     ]
    },
    {
     "name": "stdout",
     "output_type": "stream",
     "text": [
      "Generating Validation split...\n"
     ]
    },
    {
     "name": "stderr",
     "output_type": "stream",
     "text": [
      "100%|██████████| 10/10 [00:00<00:00, 4237.95it/s]\n"
     ]
    },
    {
     "name": "stdout",
     "output_type": "stream",
     "text": [
      "Generating Test split...\n"
     ]
    },
    {
     "name": "stderr",
     "output_type": "stream",
     "text": [
      "100%|██████████| 10/10 [00:00<00:00, 5921.65it/s]"
     ]
    },
    {
     "name": "stdout",
     "output_type": "stream",
     "text": [
      "Success on splits generation!\n",
      "Validating and saving...\n"
     ]
    },
    {
     "name": "stderr",
     "output_type": "stream",
     "text": [
      "\n"
     ]
    },
    {
     "name": "stdout",
     "output_type": "stream",
     "text": [
      "Success!\n"
     ]
    }
   ],
   "source": [
    "from eotdl.curation.stac.extensions import add_ml_extension\n",
    "\n",
    "catalog = 'data/EuroSAT-STAC/catalog.json'\n",
    "\n",
    "add_ml_extension(\n",
    "\tcatalog,\n",
    "\tdestination='data/EuroSAT-Q2',\n",
    "\tsplits=True,\n",
    "\tsplits_collection_id=\"labels\",\n",
    "\tname='EuroSAT Q2 Dataset',\n",
    "\ttasks=['image classification'],\n",
    "\tinputs_type=['satellite imagery'],\n",
    "\tannotations_type='raster',\n",
    "\tversion='0.1.0'\n",
    ")"
   ]
  },
  {
   "cell_type": "markdown",
   "metadata": {},
   "source": [
    "When ingesting a Q2 dataset, EOTDL will automatically compute quality metrics on your dataset, that will be reported in the metadata. Optionally, you can compute them to analyse your dataset before ingesting it."
   ]
  },
  {
   "cell_type": "code",
   "execution_count": 1,
   "metadata": {},
   "outputs": [
    {
     "name": "stdout",
     "output_type": "stream",
     "text": [
      "Looking for spatial duplicates...\n"
     ]
    },
    {
     "name": "stderr",
     "output_type": "stream",
     "text": [
      "400it [00:00, 136968.05it/s]\n"
     ]
    },
    {
     "name": "stdout",
     "output_type": "stream",
     "text": [
      "Calculating classes balance...\n"
     ]
    },
    {
     "name": "stderr",
     "output_type": "stream",
     "text": [
      "400it [00:00, 121213.90it/s]"
     ]
    },
    {
     "name": "stdout",
     "output_type": "stream",
     "text": [
      "Validating and saving...\n"
     ]
    },
    {
     "name": "stderr",
     "output_type": "stream",
     "text": [
      "\n"
     ]
    },
    {
     "name": "stdout",
     "output_type": "stream",
     "text": [
      "Success!\n"
     ]
    }
   ],
   "source": [
    "from eotdl.curation.stac.extensions import MLDatasetQualityMetrics\n",
    "\n",
    "catalog = 'data/EuroSAT-Q2/catalog.json'\n",
    "\n",
    "MLDatasetQualityMetrics.calculate(catalog)"
   ]
  },
  {
   "cell_type": "markdown",
   "metadata": {},
   "source": [
    "Remember, however, that the metrics will be computed automatically when ingesting the dataset, so you don't need to do it yourself. These metrics incude aspects such as the number of samples, duplicates, missing values, class imbalance, etc."
   ]
  },
  {
   "cell_type": "markdown",
   "metadata": {},
   "source": [
    "## Ingesting Q2 datasets"
   ]
  },
  {
   "cell_type": "markdown",
   "metadata": {},
   "source": [
    "Once the metadata has been generated, you can ingest, explore and download a Q2 dataset as any other dataset."
   ]
  },
  {
   "cell_type": "code",
   "execution_count": 2,
   "metadata": {},
   "outputs": [
    {
     "name": "stdout",
     "output_type": "stream",
     "text": [
      "Loading STAC catalog...\n",
      "Uploading assets...\n"
     ]
    },
    {
     "name": "stderr",
     "output_type": "stream",
     "text": [
      "100%|██████████| 400/400 [00:24<00:00, 16.31it/s]\n"
     ]
    },
    {
     "name": "stdout",
     "output_type": "stream",
     "text": [
      "Ingesting STAC catalog...\n",
      "Done\n"
     ]
    },
    {
     "data": {
      "text/plain": [
       "{'uid': 'auth0|642adbfdb3da3ab51492d60a',\n",
       " 'id': '651a8cbb98ed69fa11fec60d',\n",
       " 'name': 'eurosat-rgb',\n",
       " 'description': '',\n",
       " 'tags': [],\n",
       " 'createdAt': '2023-10-02T11:24:48.008000',\n",
       " 'updatedAt': '2023-10-02T11:31:40.611000',\n",
       " 'likes': 0,\n",
       " 'downloads': 0,\n",
       " 'quality': 2,\n",
       " 'size': 1065528,\n",
       " 'catalog': {'type': 'Catalog',\n",
       "  'id': 'eurosat-rgb',\n",
       "  'stac_version': '1.0.0',\n",
       "  'description': 'EuroSAT-RGB dataset',\n",
       "  'links': [{'rel': 'self',\n",
       "    'href': '/Users/fran/Documents/Projects/eotdl/tutorials/data/EuroSAT-Q2/catalog.json',\n",
       "    'type': 'application/json'},\n",
       "   {'rel': 'root', 'href': './catalog.json', 'type': 'application/json'},\n",
       "   {'rel': 'child',\n",
       "    'href': './source/collection.json',\n",
       "    'type': 'application/json'},\n",
       "   {'rel': 'child',\n",
       "    'href': './labels/collection.json',\n",
       "    'type': 'application/json'}],\n",
       "  'stac_extensions': ['https://raw.githubusercontent.com/earthpulse/ml-dataset/main/json-schema/schema.json'],\n",
       "  'ml-dataset:name': 'EuroSAT Q2 Dataset',\n",
       "  'ml-dataset:tasks': ['image classification'],\n",
       "  'ml-dataset:inputs-type': ['satellite imagery'],\n",
       "  'ml-dataset:annotations-type': 'raster',\n",
       "  'ml-dataset:version': '0.1.0',\n",
       "  'ml-dataset:splits': ['Training', 'Validation', 'Test'],\n",
       "  'ml-dataset:quality-metrics': [{'name': 'spatial-duplicates',\n",
       "    'values': [{'item': 'AnnualCrop_1643', 'duplicate': 'AnnualCrop_1026'},\n",
       "     {'item': 'AnnualCrop_1872', 'duplicate': 'AnnualCrop_1026'},\n",
       "     {'item': 'AnnualCrop_1152', 'duplicate': 'AnnualCrop_1026'},\n",
       "     {'item': 'AnnualCrop_1224', 'duplicate': 'AnnualCrop_1026'},\n",
       "     {'item': 'AnnualCrop_2377', 'duplicate': 'AnnualCrop_1026'},\n",
       "     {'item': 'AnnualCrop_1573', 'duplicate': 'AnnualCrop_1026'},\n",
       "     {'item': 'AnnualCrop_4', 'duplicate': 'AnnualCrop_1026'},\n",
       "     {'item': 'AnnualCrop_1909', 'duplicate': 'AnnualCrop_1026'},\n",
       "     {'item': 'AnnualCrop_2941', 'duplicate': 'AnnualCrop_1026'},\n",
       "     {'item': 'AnnualCrop_1330', 'duplicate': 'AnnualCrop_1026'},\n",
       "     {'item': 'AnnualCrop_1994', 'duplicate': 'AnnualCrop_1026'},\n",
       "     {'item': 'AnnualCrop_2303', 'duplicate': 'AnnualCrop_1026'},\n",
       "     {'item': 'AnnualCrop_2632', 'duplicate': 'AnnualCrop_1026'},\n",
       "     {'item': 'AnnualCrop_2076', 'duplicate': 'AnnualCrop_1026'},\n",
       "     {'item': 'AnnualCrop_171', 'duplicate': 'AnnualCrop_1026'},\n",
       "     {'item': 'AnnualCrop_1431', 'duplicate': 'AnnualCrop_1026'},\n",
       "     {'item': 'AnnualCrop_2132', 'duplicate': 'AnnualCrop_1026'},\n",
       "     {'item': 'AnnualCrop_756', 'duplicate': 'AnnualCrop_1026'},\n",
       "     {'item': 'AnnualCrop_1674', 'duplicate': 'AnnualCrop_1026'},\n",
       "     {'item': 'AnnualCrop_923', 'duplicate': 'AnnualCrop_1026'},\n",
       "     {'item': 'AnnualCrop_2763', 'duplicate': 'AnnualCrop_1026'},\n",
       "     {'item': 'AnnualCrop_2959', 'duplicate': 'AnnualCrop_1026'},\n",
       "     {'item': 'AnnualCrop_1812', 'duplicate': 'AnnualCrop_1026'},\n",
       "     {'item': 'AnnualCrop_2059', 'duplicate': 'AnnualCrop_1026'},\n",
       "     {'item': 'AnnualCrop_337', 'duplicate': 'AnnualCrop_1026'},\n",
       "     {'item': 'AnnualCrop_728', 'duplicate': 'AnnualCrop_1026'},\n",
       "     {'item': 'AnnualCrop_625', 'duplicate': 'AnnualCrop_1026'},\n",
       "     {'item': 'AnnualCrop_534', 'duplicate': 'AnnualCrop_1026'},\n",
       "     {'item': 'AnnualCrop_2747', 'duplicate': 'AnnualCrop_1026'},\n",
       "     {'item': 'AnnualCrop_768', 'duplicate': 'AnnualCrop_1026'},\n",
       "     {'item': 'AnnualCrop_2559', 'duplicate': 'AnnualCrop_1026'},\n",
       "     {'item': 'AnnualCrop_211', 'duplicate': 'AnnualCrop_1026'},\n",
       "     {'item': 'AnnualCrop_1590', 'duplicate': 'AnnualCrop_1026'},\n",
       "     {'item': 'AnnualCrop_2722', 'duplicate': 'AnnualCrop_1026'},\n",
       "     {'item': 'AnnualCrop_1700', 'duplicate': 'AnnualCrop_1026'},\n",
       "     {'item': 'AnnualCrop_2189', 'duplicate': 'AnnualCrop_1026'},\n",
       "     {'item': 'AnnualCrop_1069', 'duplicate': 'AnnualCrop_1026'},\n",
       "     {'item': 'AnnualCrop_239', 'duplicate': 'AnnualCrop_1026'},\n",
       "     {'item': 'AnnualCrop_1837', 'duplicate': 'AnnualCrop_1026'},\n",
       "     {'item': 'AnnualCrop_1656', 'duplicate': 'AnnualCrop_1026'},\n",
       "     {'item': 'AnnualCrop_1302', 'duplicate': 'AnnualCrop_1026'},\n",
       "     {'item': 'AnnualCrop_2937', 'duplicate': 'AnnualCrop_1026'},\n",
       "     {'item': 'AnnualCrop_823', 'duplicate': 'AnnualCrop_1026'},\n",
       "     {'item': 'AnnualCrop_2658', 'duplicate': 'AnnualCrop_1026'},\n",
       "     {'item': 'AnnualCrop_1918', 'duplicate': 'AnnualCrop_1026'},\n",
       "     {'item': 'AnnualCrop_989', 'duplicate': 'AnnualCrop_1026'},\n",
       "     {'item': 'AnnualCrop_627', 'duplicate': 'AnnualCrop_1026'},\n",
       "     {'item': 'AnnualCrop_1893', 'duplicate': 'AnnualCrop_1026'},\n",
       "     {'item': 'AnnualCrop_1269', 'duplicate': 'AnnualCrop_1026'},\n",
       "     {'item': 'AnnualCrop_102', 'duplicate': 'AnnualCrop_1026'},\n",
       "     {'item': 'AnnualCrop_1372', 'duplicate': 'AnnualCrop_1026'},\n",
       "     {'item': 'AnnualCrop_1340', 'duplicate': 'AnnualCrop_1026'},\n",
       "     {'item': 'AnnualCrop_1150', 'duplicate': 'AnnualCrop_1026'},\n",
       "     {'item': 'AnnualCrop_2326', 'duplicate': 'AnnualCrop_1026'},\n",
       "     {'item': 'AnnualCrop_1121', 'duplicate': 'AnnualCrop_1026'},\n",
       "     {'item': 'AnnualCrop_1345', 'duplicate': 'AnnualCrop_1026'},\n",
       "     {'item': 'AnnualCrop_675', 'duplicate': 'AnnualCrop_1026'},\n",
       "     {'item': 'AnnualCrop_169', 'duplicate': 'AnnualCrop_1026'},\n",
       "     {'item': 'AnnualCrop_1246', 'duplicate': 'AnnualCrop_1026'},\n",
       "     {'item': 'AnnualCrop_633', 'duplicate': 'AnnualCrop_1026'},\n",
       "     {'item': 'AnnualCrop_2978', 'duplicate': 'AnnualCrop_1026'},\n",
       "     {'item': 'AnnualCrop_828', 'duplicate': 'AnnualCrop_1026'},\n",
       "     {'item': 'AnnualCrop_114', 'duplicate': 'AnnualCrop_1026'},\n",
       "     {'item': 'AnnualCrop_1020', 'duplicate': 'AnnualCrop_1026'},\n",
       "     {'item': 'AnnualCrop_2732', 'duplicate': 'AnnualCrop_1026'},\n",
       "     {'item': 'AnnualCrop_2587', 'duplicate': 'AnnualCrop_1026'},\n",
       "     {'item': 'AnnualCrop_1614', 'duplicate': 'AnnualCrop_1026'},\n",
       "     {'item': 'AnnualCrop_1859', 'duplicate': 'AnnualCrop_1026'},\n",
       "     {'item': 'AnnualCrop_881', 'duplicate': 'AnnualCrop_1026'},\n",
       "     {'item': 'AnnualCrop_2780', 'duplicate': 'AnnualCrop_1026'},\n",
       "     {'item': 'AnnualCrop_1191', 'duplicate': 'AnnualCrop_1026'},\n",
       "     {'item': 'AnnualCrop_1445', 'duplicate': 'AnnualCrop_1026'},\n",
       "     {'item': 'AnnualCrop_2423', 'duplicate': 'AnnualCrop_1026'},\n",
       "     {'item': 'AnnualCrop_564', 'duplicate': 'AnnualCrop_1026'},\n",
       "     {'item': 'AnnualCrop_1817', 'duplicate': 'AnnualCrop_1026'},\n",
       "     {'item': 'AnnualCrop_346', 'duplicate': 'AnnualCrop_1026'},\n",
       "     {'item': 'AnnualCrop_50', 'duplicate': 'AnnualCrop_1026'},\n",
       "     {'item': 'AnnualCrop_2145', 'duplicate': 'AnnualCrop_1026'},\n",
       "     {'item': 'AnnualCrop_2868', 'duplicate': 'AnnualCrop_1026'},\n",
       "     {'item': 'AnnualCrop_1461', 'duplicate': 'AnnualCrop_1026'},\n",
       "     {'item': 'AnnualCrop_479', 'duplicate': 'AnnualCrop_1026'},\n",
       "     {'item': 'AnnualCrop_573', 'duplicate': 'AnnualCrop_1026'},\n",
       "     {'item': 'AnnualCrop_2841', 'duplicate': 'AnnualCrop_1026'},\n",
       "     {'item': 'AnnualCrop_1074', 'duplicate': 'AnnualCrop_1026'},\n",
       "     {'item': 'AnnualCrop_2853', 'duplicate': 'AnnualCrop_1026'},\n",
       "     {'item': 'AnnualCrop_2729', 'duplicate': 'AnnualCrop_1026'},\n",
       "     {'item': 'AnnualCrop_717', 'duplicate': 'AnnualCrop_1026'},\n",
       "     {'item': 'AnnualCrop_222', 'duplicate': 'AnnualCrop_1026'},\n",
       "     {'item': 'AnnualCrop_2263', 'duplicate': 'AnnualCrop_1026'},\n",
       "     {'item': 'AnnualCrop_2989', 'duplicate': 'AnnualCrop_1026'},\n",
       "     {'item': 'AnnualCrop_172', 'duplicate': 'AnnualCrop_1026'},\n",
       "     {'item': 'AnnualCrop_2520', 'duplicate': 'AnnualCrop_1026'},\n",
       "     {'item': 'AnnualCrop_788', 'duplicate': 'AnnualCrop_1026'},\n",
       "     {'item': 'AnnualCrop_1169', 'duplicate': 'AnnualCrop_1026'},\n",
       "     {'item': 'AnnualCrop_2362', 'duplicate': 'AnnualCrop_1026'},\n",
       "     {'item': 'AnnualCrop_1125', 'duplicate': 'AnnualCrop_1026'},\n",
       "     {'item': 'AnnualCrop_2081', 'duplicate': 'AnnualCrop_1026'},\n",
       "     {'item': 'AnnualCrop_2240', 'duplicate': 'AnnualCrop_1026'},\n",
       "     {'item': 'AnnualCrop_38', 'duplicate': 'AnnualCrop_1026'}],\n",
       "    'total': 99},\n",
       "   {'name': 'classes-balance',\n",
       "    'values': [{'name': 'label',\n",
       "      'values': [{'class': 'AnnualCrop', 'total': 100, 'percentage': 100}]}]}],\n",
       "  'extent': None,\n",
       "  'license': None,\n",
       "  'ml-dataset:split-items': None,\n",
       "  'summaries': None,\n",
       "  'properties': None,\n",
       "  'assets': None,\n",
       "  'bbox': None,\n",
       "  'collection': None}}"
      ]
     },
     "execution_count": 2,
     "metadata": {},
     "output_type": "execute_result"
    }
   ],
   "source": [
    "from eotdl.datasets import ingest_dataset\n",
    "\n",
    "ingest_dataset('data/EuroSAT-Q2')"
   ]
  }
 ],
 "metadata": {
  "kernelspec": {
   "display_name": "Python 3 (ipykernel)",
   "language": "python",
   "name": "python3"
  },
  "language_info": {
   "codemirror_mode": {
    "name": "ipython",
    "version": 3
   },
   "file_extension": ".py",
   "mimetype": "text/x-python",
   "name": "python",
   "nbconvert_exporter": "python",
   "pygments_lexer": "ipython3",
   "version": "3.11.3"
  }
 },
 "nbformat": 4,
 "nbformat_minor": 4
}
