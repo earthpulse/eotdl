{
 "cells": [
  {
   "cell_type": "markdown",
   "metadata": {},
   "source": [
    "# Sentinel Hub data download"
   ]
  },
  {
   "cell_type": "markdown",
   "metadata": {},
   "source": [
    "We can download imagery data in Sentinel Hub through the EOTDL client."
   ]
  },
  {
   "cell_type": "markdown",
   "metadata": {},
   "source": [
    "Uncomment the following line to install eotdl if needed."
   ]
  },
  {
   "cell_type": "code",
   "execution_count": null,
   "metadata": {},
   "outputs": [],
   "source": [
    "# !pip install eotdl"
   ]
  },
  {
   "cell_type": "markdown",
   "metadata": {},
   "source": [
    "Initialize the SH client."
   ]
  },
  {
   "cell_type": "code",
   "execution_count": null,
   "metadata": {},
   "outputs": [],
   "source": [
    "from eotdl.access import SHClient\n",
    "\n",
    "client = SHClient()"
   ]
  },
  {
   "cell_type": "markdown",
   "metadata": {},
   "source": [
    "Let's download Sentinel-2 imagery in Jaca, Spain, between 1 to 10 January, 2020."
   ]
  },
  {
   "cell_type": "code",
   "execution_count": null,
   "metadata": {},
   "outputs": [],
   "source": [
    "dates = ('2020-01-01', '2020-01-10')\n",
    "jaca_bounding_box = (-0.581743,42.556061,-0.516539,42.587458)"
   ]
  },
  {
   "cell_type": "code",
   "execution_count": null,
   "metadata": {},
   "outputs": [],
   "source": [
    "search_dict = {\n",
    "    'Jaca': {\n",
    "        'bounding_box': jaca_bounding_box,\n",
    "        'time_interval': (dates[0], dates[-1])\n",
    "    }\n",
    "}"
   ]
  },
  {
   "cell_type": "markdown",
   "metadata": {},
   "source": [
    "Some explanation about the following code block. In order to download imagery through the Sentinel Hub API, we need to define some parameters, such as the Data Collection (in this workshop, `sentinel-2-l2a`), the EvalScript, the resolution and so on. In order to avoid this time-expensive definition, we have wrapped those parameters in a Python class like `sentinel_2_download_parameters`. With that, we just have to give the download dict with the bounding box and time interval and the folder where we want to download the data. And voilà! All it's managed by the EOTDL environment."
   ]
  },
  {
   "cell_type": "code",
   "execution_count": null,
   "metadata": {},
   "outputs": [],
   "source": [
    "from eotdl.access import sentinel_2_download_parameters\n",
    "\n",
    "sentinel_2_download_parameters.data_to_download = search_dict   # Give the dictionary with the data to download\n",
    "sentinel_2_download_parameters.data_folder = 'data/sentinel_2'  # Give the folder where the data will be downloaded\n",
    "\n",
    "process_requests = client.request_bulk_data(sentinel_2_download_parameters)"
   ]
  },
  {
   "cell_type": "code",
   "execution_count": null,
   "metadata": {},
   "outputs": [],
   "source": [
    "%%time\n",
    "\n",
    "data = client.download_data(process_requests[0:5])"
   ]
  },
  {
   "cell_type": "markdown",
   "metadata": {},
   "source": [
    "That's all! We have downloaded the images for our dataset. Let's check them!"
   ]
  },
  {
   "cell_type": "code",
   "execution_count": null,
   "metadata": {},
   "outputs": [],
   "source": [
    "from glob import glob\n",
    "\n",
    "rasters = glob('data/sentinel_2/*/*/*.tiff')\n",
    "rasters[:5]"
   ]
  }
 ],
 "metadata": {
  "language_info": {
   "name": "python"
  }
 },
 "nbformat": 4,
 "nbformat_minor": 2
}
