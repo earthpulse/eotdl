{
 "cells": [
  {
   "cell_type": "markdown",
   "metadata": {},
   "source": [
    "# Sentinel Hub data download"
   ]
  },
  {
   "cell_type": "markdown",
   "metadata": {},
   "source": [
    "We can download imagery data in Sentinel Hub through the EOTDL client."
   ]
  },
  {
   "cell_type": "markdown",
   "metadata": {},
   "source": [
    "Uncomment the following line to install eotdl if needed."
   ]
  },
  {
   "cell_type": "code",
   "execution_count": 9,
   "metadata": {},
   "outputs": [],
   "source": [
    "# !pip install eotdl"
   ]
  },
  {
   "cell_type": "markdown",
   "metadata": {},
   "source": [
    "Initialize the SH client."
   ]
  },
  {
   "cell_type": "code",
   "execution_count": 18,
   "metadata": {},
   "outputs": [
    {
     "name": "stdout",
     "output_type": "stream",
     "text": [
      "The autoreload extension is already loaded. To reload it, use:\n",
      "  %reload_ext autoreload\n",
      "The dotenv extension is already loaded. To reload it, use:\n",
      "  %reload_ext dotenv\n"
     ]
    }
   ],
   "source": [
    "%load_ext autoreload\n",
    "%autoreload 2\n",
    "\n",
    "%load_ext dotenv\n",
    "%dotenv"
   ]
  },
  {
   "cell_type": "code",
   "execution_count": 19,
   "metadata": {},
   "outputs": [],
   "source": [
    "from eotdl.access.sentinelhub.client import SHClient\n",
    "\n",
    "client = SHClient()"
   ]
  },
  {
   "cell_type": "markdown",
   "metadata": {},
   "source": [
    "Let's download Sentinel-2 imagery in Jaca, Spain, between 1 to 10 January, 2020."
   ]
  },
  {
   "cell_type": "code",
   "execution_count": 20,
   "metadata": {},
   "outputs": [],
   "source": [
    "dates = ('2020-01-01', '2020-01-10')\n",
    "jaca_bounding_box = (-0.557034,42.569409,-0.547706,42.57571)"
   ]
  },
  {
   "cell_type": "code",
   "execution_count": 21,
   "metadata": {},
   "outputs": [],
   "source": [
    "search_dict = {\n",
    "    'Jaca': {\n",
    "        'bounding_box': jaca_bounding_box,\n",
    "        'time_interval': dates\n",
    "    }\n",
    "}"
   ]
  },
  {
   "cell_type": "markdown",
   "metadata": {},
   "source": [
    "Some explanation about the following code block. In order to download imagery through the Sentinel Hub API, we need to define some parameters, such as the Data Collection (in this workshop, `sentinel-2-l2a`), the EvalScript, the resolution and so on. In order to avoid this time-expensive definition, we have wrapped those parameters in a Python class like `sentinel_2_l2a_download_parameters`. With that, we just have to give the download dict with the bounding box and time interval and the folder where we want to download the data. And voilà! All it's managed by the EOTDL environment.\n",
    "\n",
    "Arrived to this point, and as we have seen in the [previous notebook](11_sh_search.ipynb), we can pass a simple search dictionary, so that all images available in the date range will be downloaded, or the dictionary returned from the `get_available_data_by_location` function, so that the images of the indicated dates will be downloaded.\n",
    "\n",
    "In this case, we will let the EOTDL look and download for all the available images."
   ]
  },
  {
   "cell_type": "code",
   "execution_count": 22,
   "metadata": {},
   "outputs": [],
   "source": [
    "from eotdl.access import sentinel_2_l2a_download_parameters\n",
    "\n",
    "sentinel_2_l2a_download_parameters.data_to_download = search_dict   # Give the dictionary with the data to download\n",
    "sentinel_2_l2a_download_parameters.data_folder = 'data/sentinel_2'  # Give the folder where the data will be downloaded\n",
    "\n",
    "process_requests = client.request_bulk_data(sentinel_2_l2a_download_parameters)"
   ]
  },
  {
   "cell_type": "code",
   "execution_count": 23,
   "metadata": {},
   "outputs": [
    {
     "name": "stdout",
     "output_type": "stream",
     "text": [
      "CPU times: user 69.3 ms, sys: 15.3 ms, total: 84.6 ms\n",
      "Wall time: 831 ms\n"
     ]
    }
   ],
   "source": [
    "%%time\n",
    "\n",
    "data = client.download_data(process_requests)"
   ]
  },
  {
   "cell_type": "markdown",
   "metadata": {},
   "source": [
    "That's all! We have downloaded the images for our dataset. Let's check them!"
   ]
  },
  {
   "cell_type": "code",
   "execution_count": 24,
   "metadata": {},
   "outputs": [
    {
     "data": {
      "text/plain": [
       "['data/sentinel_2/Jaca_2020-01-09/3edb5693f0d781595997bffd04b92a67/response.tiff',\n",
       " 'data/sentinel_2/Jaca_2020-01-01/154f85cf8673b548ddbf1f2eb1860754/response.tiff',\n",
       " 'data/sentinel_2/Jaca_2020-01-06/c95084396569cc69f4673e178f8cc8bf/response.tiff',\n",
       " 'data/sentinel_2/Jaca_2020-01-04/81126e4ec8a68f126c48c3fea527071b/response.tiff']"
      ]
     },
     "execution_count": 24,
     "metadata": {},
     "output_type": "execute_result"
    }
   ],
   "source": [
    "from glob import glob\n",
    "\n",
    "rasters = glob('data/sentinel_2/*/*/*.tiff')\n",
    "rasters"
   ]
  },
  {
   "cell_type": "markdown",
   "metadata": {},
   "source": [
    "What if we want to see a random image? We can display it and explore it interactively using [leafmap](https://leafmap.org/)."
   ]
  },
  {
   "cell_type": "code",
   "execution_count": 25,
   "metadata": {},
   "outputs": [
    {
     "data": {
      "application/vnd.jupyter.widget-view+json": {
       "model_id": "b738996e3de3433f964055cda29ea107",
       "version_major": 2,
       "version_minor": 0
      },
      "text/plain": [
       "Map(center=[20, 0], controls=(ZoomControl(options=['position', 'zoom_in_text', 'zoom_in_title', 'zoom_out_text…"
      ]
     },
     "execution_count": 25,
     "metadata": {},
     "output_type": "execute_result"
    }
   ],
   "source": [
    "import leafmap.leafmap as leafmap\n",
    "from random import choice\n",
    "\n",
    "m = leafmap.Map()\n",
    "raster = choice(rasters)\n",
    "m.add_raster(raster, bands=[5, 4, 3], layer_name='Raster')\n",
    "m"
   ]
  }
 ],
 "metadata": {
  "kernelspec": {
   "display_name": "sen12floods",
   "language": "python",
   "name": "python3"
  },
  "language_info": {
   "codemirror_mode": {
    "name": "ipython",
    "version": 3
   },
   "file_extension": ".py",
   "mimetype": "text/x-python",
   "name": "python",
   "nbconvert_exporter": "python",
   "pygments_lexer": "ipython3",
   "version": "3.11.3"
  }
 },
 "nbformat": 4,
 "nbformat_minor": 2
}
