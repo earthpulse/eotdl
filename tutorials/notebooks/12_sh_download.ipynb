{
 "cells": [
  {
   "cell_type": "markdown",
   "metadata": {},
   "source": [
    "# Sentinel Hub data download"
   ]
  },
  {
   "cell_type": "markdown",
   "metadata": {},
   "source": [
    "We can download imagery data in Sentinel Hub through the EOTDL client."
   ]
  },
  {
   "cell_type": "markdown",
   "metadata": {},
   "source": [
    "Uncomment the following line to install eotdl if needed."
   ]
  },
  {
   "cell_type": "code",
   "execution_count": 2,
   "metadata": {},
   "outputs": [],
   "source": [
    "# !pip install eotdl"
   ]
  },
  {
   "cell_type": "markdown",
   "metadata": {},
   "source": [
    "Let's download Sentinel-2 imagery in Jaca, Spain, between 1 to 10 January, 2020."
   ]
  },
  {
   "cell_type": "code",
   "execution_count": 3,
   "metadata": {},
   "outputs": [],
   "source": [
    "dates = ('2020-01-01', '2020-01-05')\n",
    "jaca_bounding_box = (-0.557034,42.569409,-0.547706,42.57571)"
   ]
  },
  {
   "cell_type": "code",
   "execution_count": 4,
   "metadata": {},
   "outputs": [],
   "source": [
    "from eotdl.access import search_and_download_sentinel_imagery\n",
    "\n",
    "search_and_download_sentinel_imagery(\n",
    "    output='data/sentinel_2',\n",
    "    time_interval=dates,\n",
    "    bounding_box=jaca_bounding_box,\n",
    "    sensor='sentinel-2-l2a'\n",
    ")"
   ]
  },
  {
   "cell_type": "markdown",
   "metadata": {},
   "source": [
    "What if we want to see a random image? We can display it and explore it interactively using [leafmap](https://leafmap.org/)."
   ]
  },
  {
   "cell_type": "code",
   "execution_count": 5,
   "metadata": {},
   "outputs": [
    {
     "data": {
      "text/plain": [
       "['data/sentinel_2/sentinel-2-l2a_2020-01-04.tif',\n",
       " 'data/sentinel_2/sentinel-2-l2a_2020-01-01.tif']"
      ]
     },
     "execution_count": 5,
     "metadata": {},
     "output_type": "execute_result"
    }
   ],
   "source": [
    "from glob import glob\n",
    "\n",
    "rasters = glob('data/sentinel_2/*.tif')\n",
    "rasters"
   ]
  },
  {
   "cell_type": "code",
   "execution_count": 6,
   "metadata": {},
   "outputs": [
    {
     "data": {
      "application/vnd.jupyter.widget-view+json": {
       "model_id": "49f65d3dfb8a49a19c7da24c77f47e20",
       "version_major": 2,
       "version_minor": 0
      },
      "text/plain": [
       "Map(center=[20, 0], controls=(ZoomControl(options=['position', 'zoom_in_text', 'zoom_in_title', 'zoom_out_text…"
      ]
     },
     "execution_count": 6,
     "metadata": {},
     "output_type": "execute_result"
    }
   ],
   "source": [
    "import leafmap.leafmap as leafmap\n",
    "from random import choice\n",
    "\n",
    "m = leafmap.Map()\n",
    "raster = choice(rasters)\n",
    "m.add_raster(raster, bands=[5, 4, 3], layer_name='Raster')\n",
    "m"
   ]
  }
 ],
 "metadata": {
  "kernelspec": {
   "display_name": "sen12floods",
   "language": "python",
   "name": "python3"
  },
  "language_info": {
   "codemirror_mode": {
    "name": "ipython",
    "version": 3
   },
   "file_extension": ".py",
   "mimetype": "text/x-python",
   "name": "python",
   "nbconvert_exporter": "python",
   "pygments_lexer": "ipython3",
   "version": "3.11.3"
  }
 },
 "nbformat": 4,
 "nbformat_minor": 2
}
