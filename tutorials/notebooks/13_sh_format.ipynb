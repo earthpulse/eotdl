{
 "cells": [
  {
   "cell_type": "markdown",
   "metadata": {},
   "source": [
    "# Sentinel Hub folder format"
   ]
  },
  {
   "cell_type": "markdown",
   "metadata": {},
   "source": [
    "Uncomment the following line to install eotdl if needed."
   ]
  },
  {
   "cell_type": "code",
   "execution_count": null,
   "metadata": {},
   "outputs": [],
   "source": [
    "# !pip install eotdl"
   ]
  },
  {
   "cell_type": "markdown",
   "metadata": {},
   "source": [
    "When we download imagery through the Sentinel Hub client, by default the EOTDL enviroment makes that every image is downloaded in a folder with nomenclature `<id>_<date>/<request_id>`. If we get one of the downloaded rasters path we can see it. If you missed how to download imagery from Sentinel Hub, see the [previous notebook](12_sh_download.ipynb)."
   ]
  },
  {
   "cell_type": "code",
   "execution_count": 1,
   "metadata": {},
   "outputs": [
    {
     "data": {
      "text/plain": [
       "'data/sentinel_2/Jaca_0/8d9bb70e5c3bbff2894bd71eb77f6c9e/response.tiff'"
      ]
     },
     "execution_count": 1,
     "metadata": {},
     "output_type": "execute_result"
    }
   ],
   "source": [
    "from glob import glob\n",
    "\n",
    "rasters = glob('data/sentinel_2/*/*/*.tiff')\n",
    "rasters[0]"
   ]
  },
  {
   "cell_type": "markdown",
   "metadata": {},
   "source": [
    "In order to maintain a logic structure and ensure that the dataset is diregible by the EO-TDL environment, we must make sure that the project structure is compatible and every image has an associated metadata file with necessary info about the image, which will be used later by the STAC generation and the labeling with SCANEO. \n",
    "\n",
    "To do so, the EOTDL environment has a `Folder Formatter` that does exactly that: extracts the images to a more human-readable folder structure, which also is necessary if we want to label those images using SCANEO. What we need is a unique folder containing all the images, with associated `json` files with necessary metadata of every image such as the acquisiton date of the image, the type, the bounding box, and so on.\n",
    "\n",
    "Let's format the folder structure. We can choose between `structured_format_folders`, which will allocate every image in a single directory, or `unestructured_format_folders`, which will allocate all the images in a given directory. This is the method we are going to use, as we need all the images in a single directory to label them using SCANEO."
   ]
  },
  {
   "cell_type": "code",
   "execution_count": 2,
   "metadata": {},
   "outputs": [
    {
     "ename": "FileNotFoundError",
     "evalue": "[Errno 2] No such file or directory: 'data/sentinel_2/Jaca_0/3cab5ae8704042381c13dad0c373e09e/request.json'",
     "output_type": "error",
     "traceback": [
      "\u001b[0;31m---------------------------------------------------------------------------\u001b[0m",
      "\u001b[0;31mFileNotFoundError\u001b[0m                         Traceback (most recent call last)",
      "\u001b[1;32m/Users/fran/Documents/Projects/eotdl/tutorials/notebooks/13_sh_format.ipynb Cell 7\u001b[0m line \u001b[0;36m6\n\u001b[1;32m      <a href='vscode-notebook-cell:/Users/fran/Documents/Projects/eotdl/tutorials/notebooks/13_sh_format.ipynb#X10sZmlsZQ%3D%3D?line=2'>3</a>\u001b[0m formatter \u001b[39m=\u001b[39m SHFolderFormatter(\u001b[39m'\u001b[39m\u001b[39mdata/sentinel_2\u001b[39m\u001b[39m'\u001b[39m)\n\u001b[1;32m      <a href='vscode-notebook-cell:/Users/fran/Documents/Projects/eotdl/tutorials/notebooks/13_sh_format.ipynb#X10sZmlsZQ%3D%3D?line=3'>4</a>\u001b[0m formatter\u001b[39m.\u001b[39mroot\n\u001b[0;32m----> <a href='vscode-notebook-cell:/Users/fran/Documents/Projects/eotdl/tutorials/notebooks/13_sh_format.ipynb#X10sZmlsZQ%3D%3D?line=5'>6</a>\u001b[0m formatter\u001b[39m.\u001b[39munestructured_format_folders()\n",
      "File \u001b[0;32m~/Documents/Projects/eotdl/tutorials/notebooks/eotdl/curation/folder_formatters/sentinel_hub.py:79\u001b[0m, in \u001b[0;36mSHFolderFormatter.unestructured_format_folders\u001b[0;34m(self, output_folder)\u001b[0m\n\u001b[1;32m     77\u001b[0m \u001b[39m# Get the request.json file with the request parameters\u001b[39;00m\n\u001b[1;32m     78\u001b[0m request_file \u001b[39m=\u001b[39m join(image_dir, \u001b[39m'\u001b[39m\u001b[39mrequest.json\u001b[39m\u001b[39m'\u001b[39m)\n\u001b[0;32m---> 79\u001b[0m request_json \u001b[39m=\u001b[39m json\u001b[39m.\u001b[39mload(\u001b[39mopen\u001b[39m(request_file))\n\u001b[1;32m     80\u001b[0m \u001b[39m# Generate a metadata.json file of the raster in the destination folder\u001b[39;00m\n\u001b[1;32m     81\u001b[0m \u001b[39m# It will extract some needed parameters, which will be used later \u001b[39;00m\n\u001b[1;32m     82\u001b[0m \u001b[39m# for the STAC generation\u001b[39;00m\n\u001b[1;32m     83\u001b[0m \u001b[39m# As file name, we give the same name as de image, which is <id>_<n>\u001b[39;00m\n\u001b[1;32m     84\u001b[0m n \u001b[39m+\u001b[39m\u001b[39m=\u001b[39m \u001b[39m1\u001b[39m\n",
      "\u001b[0;31mFileNotFoundError\u001b[0m: [Errno 2] No such file or directory: 'data/sentinel_2/Jaca_0/3cab5ae8704042381c13dad0c373e09e/request.json'"
     ]
    }
   ],
   "source": [
    "from eotdl.curation.folder_formatters import SHFolderFormatter\n",
    "\n",
    "formatter = SHFolderFormatter('data/sentinel_2')\n",
    "formatter.root\n",
    "\n",
    "formatter.unestructured_format_folders()   # By default, it uses the path given in the constructor"
   ]
  },
  {
   "cell_type": "markdown",
   "metadata": {},
   "source": [
    "Now, if we look again for the rasters paths, we will see that the folder structure is much more readable and nice."
   ]
  },
  {
   "cell_type": "code",
   "execution_count": null,
   "metadata": {},
   "outputs": [],
   "source": [
    "rasters = glob('data/sentinel_2/*.tif')\n",
    "rasters[:5]"
   ]
  },
  {
   "cell_type": "markdown",
   "metadata": {},
   "source": [
    "We can look for them metadata files, too."
   ]
  },
  {
   "cell_type": "code",
   "execution_count": null,
   "metadata": {},
   "outputs": [],
   "source": [
    "jsons = glob('data/sentinel_2/*.json')\n",
    "jsons[:5]"
   ]
  }
 ],
 "metadata": {
  "kernelspec": {
   "display_name": "sen12floods",
   "language": "python",
   "name": "python3"
  },
  "language_info": {
   "codemirror_mode": {
    "name": "ipython",
    "version": 3
   },
   "file_extension": ".py",
   "mimetype": "text/x-python",
   "name": "python",
   "nbconvert_exporter": "python",
   "pygments_lexer": "ipython3",
   "version": "3.11.3"
  }
 },
 "nbformat": 4,
 "nbformat_minor": 2
}
