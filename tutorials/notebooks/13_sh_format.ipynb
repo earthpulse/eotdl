{
 "cells": [
  {
   "cell_type": "markdown",
   "metadata": {},
   "source": [
    "# Sentinel Hub folder format"
   ]
  },
  {
   "cell_type": "markdown",
   "metadata": {},
   "source": [
    "Uncomment the following line to install eotdl if needed."
   ]
  },
  {
   "cell_type": "code",
   "execution_count": null,
   "metadata": {},
   "outputs": [],
   "source": [
    "# !pip install eotdl"
   ]
  },
  {
   "cell_type": "markdown",
   "metadata": {},
   "source": [
    "When we download imagery through the Sentinel Hub client, by default the EOTDL enviroment makes that every image is downloaded in a folder with nomenclature `<id>_<date>/<request_id>`. If we get one of the downloaded rasters path we can see it. If you missed how to download imagery from Sentinel Hub, see the [previous notebook](12_sh_download.ipynb)."
   ]
  },
  {
   "cell_type": "code",
   "execution_count": 13,
   "metadata": {},
   "outputs": [
    {
     "data": {
      "text/plain": [
       "'data/sentinel_2/Jaca_2020-01-09/3edb5693f0d781595997bffd04b92a67/response.tiff'"
      ]
     },
     "execution_count": 13,
     "metadata": {},
     "output_type": "execute_result"
    }
   ],
   "source": [
    "from glob import glob\n",
    "\n",
    "rasters = glob('data/sentinel_2/*/*/*.tiff')\n",
    "rasters[0]"
   ]
  },
  {
   "cell_type": "markdown",
   "metadata": {},
   "source": [
    "In order to maintain a logic structure and ensure that the dataset is diregible by the EO-TDL environment, we must make sure that the project structure is compatible and every image has an associated metadata file with necessary info about the image, which will be used later by the STAC generation and the labeling with SCANEO. \n",
    "\n",
    "To do so, the EOTDL environment has a `Folder Formatter` that does exactly that: extracts the images to a more human-readable folder structure, which also is necessary if we want to label those images using SCANEO. What we need is a unique folder containing all the images, with associated `json` files with necessary metadata of every image such as the acquisiton date of the image, the type, the bounding box, and so on.\n",
    "\n",
    "Let's format the folder structure. We can choose between `structured_format_folders`, which will allocate every image in a single directory, or `unestructured_format_folders`, which will allocate all the images in a given directory. This is the method we are going to use, as we need all the images in a single directory to label them using SCANEO."
   ]
  },
  {
   "cell_type": "code",
   "execution_count": 14,
   "metadata": {},
   "outputs": [],
   "source": [
    "from eotdl.curation.folder_formatters import SHFolderFormatter\n",
    "\n",
    "formatter = SHFolderFormatter('data/sentinel_2')\n",
    "formatter.root\n",
    "\n",
    "formatter.unestructured_format_folders()   # By default, it uses the path given in the constructor"
   ]
  },
  {
   "cell_type": "markdown",
   "metadata": {},
   "source": [
    "Now, if we look again for the rasters paths, we will see that the folder structure is much more readable and nice."
   ]
  },
  {
   "cell_type": "code",
   "execution_count": 18,
   "metadata": {},
   "outputs": [
    {
     "data": {
      "text/plain": [
       "['data/sentinel_2/Jaca_1.tif',\n",
       " 'data/sentinel_2/Jaca_2.tif',\n",
       " 'data/sentinel_2/Jaca_3.tif',\n",
       " 'data/sentinel_2/Jaca_4.tif']"
      ]
     },
     "execution_count": 18,
     "metadata": {},
     "output_type": "execute_result"
    }
   ],
   "source": [
    "rasters = glob('data/sentinel_2/*.tif')\n",
    "rasters[:5]"
   ]
  },
  {
   "cell_type": "markdown",
   "metadata": {},
   "source": [
    "We can look for them metadata files, too."
   ]
  },
  {
   "cell_type": "code",
   "execution_count": 16,
   "metadata": {},
   "outputs": [
    {
     "data": {
      "text/plain": [
       "['data/sentinel_2/Jaca_4.json',\n",
       " 'data/sentinel_2/Jaca_2.json',\n",
       " 'data/sentinel_2/Jaca_3.json',\n",
       " 'data/sentinel_2/Jaca_1.json']"
      ]
     },
     "execution_count": 16,
     "metadata": {},
     "output_type": "execute_result"
    }
   ],
   "source": [
    "jsons = glob('data/sentinel_2/*.json')\n",
    "jsons[:5]"
   ]
  },
  {
   "cell_type": "markdown",
   "metadata": {},
   "source": [
    "What if we want to see a random image? We can display it and explore it interactively using [leafmap](https://leafmap.org/)."
   ]
  },
  {
   "cell_type": "code",
   "execution_count": 19,
   "metadata": {},
   "outputs": [
    {
     "data": {
      "application/vnd.jupyter.widget-view+json": {
       "model_id": "66b16f7386544759b362d1e53d23794e",
       "version_major": 2,
       "version_minor": 0
      },
      "text/plain": [
       "Map(center=[20, 0], controls=(ZoomControl(options=['position', 'zoom_in_text', 'zoom_in_title', 'zoom_out_text…"
      ]
     },
     "execution_count": 19,
     "metadata": {},
     "output_type": "execute_result"
    }
   ],
   "source": [
    "import leafmap.leafmap as leafmap\n",
    "from random import choice\n",
    "\n",
    "m = leafmap.Map()\n",
    "raster = choice(rasters)\n",
    "m.add_raster(raster, bands=[5, 4, 3], layer_name='Raster')\n",
    "m"
   ]
  }
 ],
 "metadata": {
  "kernelspec": {
   "display_name": "sen12floods",
   "language": "python",
   "name": "python3"
  },
  "language_info": {
   "codemirror_mode": {
    "name": "ipython",
    "version": 3
   },
   "file_extension": ".py",
   "mimetype": "text/x-python",
   "name": "python",
   "nbconvert_exporter": "python",
   "pygments_lexer": "ipython3",
   "version": "3.11.3"
  }
 },
 "nbformat": 4,
 "nbformat_minor": 2
}
