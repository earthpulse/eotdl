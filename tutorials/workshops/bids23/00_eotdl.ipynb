{
 "cells": [
  {
   "cell_type": "markdown",
   "metadata": {},
   "source": [
    "# The Earth Observation Training Data Lab"
   ]
  },
  {
   "cell_type": "markdown",
   "metadata": {},
   "source": [
    "## Background"
   ]
  },
  {
   "cell_type": "markdown",
   "metadata": {},
   "source": [
    "One of the most limiting factors of AI for EO applications is the scarcity of suitable and accessible **Training Datasets** (TDS). As the name suggests, TDS are used to train an AI model to perform a specific task. Currently, the main barrier is that gathering and labelling EO data is a convoluted process. Some techniques exist that can help alleviate this issue, for example transfer learning or unsupervised learning, but annotated data is always required for fine-tuning and final validation of AI models.\n",
    " \n",
    "Generating TDS is time consuming and expensive. Data access is usually limited and costly, especially for Very High Resolution (VHR) images that allow objects like trees to be clearly identified. In some cases, domain experts or even in-person (in-situ) trips are required to manually confirm the objects in a satellite image are correctly annotated with a high degree of quality. This results in the field of AI for EO applications lagging when compared to other fields, impeding the development of new applications and limiting the full potential of AI in EO."
   ]
  },
  {
   "cell_type": "markdown",
   "metadata": {},
   "source": [
    "## EOTDL"
   ]
  },
  {
   "cell_type": "markdown",
   "metadata": {},
   "source": [
    "The Earth Observation Training Data Lab (EOTDL) address these limitations and gaps for working with Machine Learning (ML) training data in EO by providing, one one hand, a set of open-source tools to create, share, and improve datasets as well as training ML algorithms in the cloud. On the other hand, EOTDL will is also an online repository where datasets and models can be explored and downloaded.\n",
    "\n",
    "EOTDL is a project funded by [ESA](https://www.esa.int/), and developed by [Earthpulse](https://earthpulse.ai/) (project lead), [EOX](https://eox.at/), [Brockmann Consult](https://www.brockmann-consult.de/), [Sinergise](https://www.sinergise.com/) and [SpaceTec Partners](https://www.spacetec.partners/).\n",
    "\n",
    "![](images/timeline.png)"
   ]
  },
  {
   "cell_type": "markdown",
   "metadata": {},
   "source": [
    "We are releasing EOTDL v1 today! "
   ]
  },
  {
   "cell_type": "markdown",
   "metadata": {},
   "source": [
    "## Ecosystem"
   ]
  },
  {
   "cell_type": "markdown",
   "metadata": {},
   "source": [
    "- EOTDL is built on top of OS software, and it is also OS [https://github.com/earthpulse/eotdl](https://github.com/earthpulse/eotdl)\n",
    "- Users can access (Sentinel) data for dataset creation, selecting datas source, time range and areas of interest.\n",
    "- Metadata for data curation and quality assurance is generated following the STAC specification. Automatic QA mechanisms and versioning is applied during the process of dataset ingestion.\n",
    "- Engineering tools enable reproducible feature engineering, labelling, bias discoverability, etc. Training ML models in the cloud with multi-GPU machines is transparently enabled.\n",
    "- The EOTDL is accessible at multiple levels: user interfaces, web APIs, CLI and Python library (+ wrappers).\n"
   ]
  },
  {
   "cell_type": "markdown",
   "metadata": {},
   "source": [
    "![](images/eotdl.drawio.png)"
   ]
  },
  {
   "cell_type": "markdown",
   "metadata": {},
   "source": [
    "We will explore everything during this tutorial session!"
   ]
  },
  {
   "cell_type": "markdown",
   "metadata": {},
   "source": [
    "## Who is this for?"
   ]
  },
  {
   "cell_type": "markdown",
   "metadata": {},
   "source": [
    "The EOTDL is available to **everyone** and free to use.\n",
    "\n",
    "You may find it interesting if:\n",
    "\n",
    "- You are a data scientist or ML engineer working with EO data: you can use the EOTDL to create and share datasets, and train models in the cloud.\n",
    "- You are a domain expert (e.g. forestry, agriculture, etc.) and want to explore the potential of AI for your field: you can explore, try and download the hosted models.\n",
    "- You are a developer and want to contribute to the project: you can contribute to the open-source codebase, documentation, datasets and models.\n",
    "- You are a student or researcher and want to learn about AI for EO: you can use the EOTDL to download datasets and train your models.\n",
    "- And many more!\n",
    "\n",
    "> Slido: What is your background?\n",
    "\n",
    "> Slido: What are your expectations for this session?"
   ]
  },
  {
   "cell_type": "markdown",
   "metadata": {},
   "source": [
    "## Community"
   ]
  },
  {
   "cell_type": "markdown",
   "metadata": {},
   "source": [
    "EOTDL is open source and community driven. We welcome contributions from everyone!\n",
    "\n",
    "- Github: [https://github.com/earthpulse/eotdl](https://github.com/earthpulse/eotdl)\n",
    "- Discord: [https://discord.gg/hYxc5AJB92](https://discord.gg/hYxc5AJB92)\n",
    "\n",
    "We encourage you to join the Discord server now if you haven't already. We will be there to answer any questions you may have during the tutorial session, as well as after the event. You will also get updates on the project and be able to interact with other users, as well as provide feedback and suggestions and get involved in the evolution of the platform for the coming years."
   ]
  },
  {
   "cell_type": "markdown",
   "metadata": {},
   "source": [
    "## Let's start!"
   ]
  },
  {
   "cell_type": "markdown",
   "metadata": {},
   "source": [
    "This is the scheduled agenda for the tutorial session:\n",
    "\n",
    "- [Explore and stage datasets and models](01_exploring.ipynb)\n",
    "- [Train models (locally or in the cloud)](02_training.ipynb)\n",
    "- [Ingest datasets and models](03_ingesting.ipynb)\n",
    "- [Create your own datasets](04_creating.ipynb)\n",
    "- [Data curation with STAC metadata](05_stac.ipynb)\n",
    "- [Getting involved and Contributing to the EOTDL](06_contributing.ipynb)\n",
    "\n",
    "There are multiple ways to follow this session:\n",
    "\n",
    "1. Just pay attention to the live demos, and run the notebooks later at your own pace.\n",
    "\n",
    "2. Follow live demos on your own computer (need a Python development environment with Jupyter notebook installed).\n",
    "\n",
    "```\n",
    "git clone https://github.com/earthpulse/eotdl\n",
    "cd eotdl/tutorials/workshops/bids23\n",
    "jupyter notebook\n",
    "```\n",
    "\n",
    "3. Follow live demos on your cloud workspace \n",
    "\t- Go to [https://www.eotdl.com/](https://www.eotdl.com/) and create an account, then accept T&Cs on your profile.\n",
    "\t- Go to [https://hub.api.eotdl.com/](https://hub.api.eotdl.com/) and login with your account\n",
    "\t- Open a terminal and run `cp ~/.shared/eotdl/notebooks/eotdl/tutorials/workshops/bids23/ ~ -R -n`.\n",
    "\t- Navigate to the `bids23` folder and follow the demos.\n",
    "\n",
    "Feel free to give us your feedback live during the session, or on Discord.\n",
    "\n",
    "Questions? Are you ready? Let's start with the first notebook: [01_exploring.ipynb](01_exploring.ipynb)"
   ]
  },
  {
   "cell_type": "markdown",
   "metadata": {},
   "source": []
  }
 ],
 "metadata": {
  "kernelspec": {
   "display_name": "eotdl",
   "language": "python",
   "name": "python3"
  },
  "language_info": {
   "name": "python",
   "version": "3.8.18"
  }
 },
 "nbformat": 4,
 "nbformat_minor": 2
}
