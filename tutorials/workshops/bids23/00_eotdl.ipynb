{
 "cells": [
  {
   "cell_type": "markdown",
   "metadata": {},
   "source": [
    "# The Earth Observation Training Data Lab"
   ]
  },
  {
   "cell_type": "markdown",
   "metadata": {},
   "source": [
    "## Background"
   ]
  },
  {
   "cell_type": "markdown",
   "metadata": {},
   "source": [
    "One of the most limiting factors of AI for EO applications is the scarcity of suitable and accessible **Training Datasets** (TDS). As the name suggests, TDS are used to train an AI model to perform a specific task. Currently, the main barrier is that gathering and labelling EO data is a convoluted process. Some techniques exist that can help alleviate this issue, for example transfer learning or unsupervised learning, but annotated data is always required for fine-tuning and final validation of AI models.\n",
    " \n",
    "Generating TDS is time consuming and expensive. Data access is usually limited and costly, especially for Very High Resolution (VHR) images that allow objects like trees to be clearly identified. In some cases, domain experts or even in-person (in-situ) trips are required to manually confirm the objects in a satellite image are correctly annotated with a high degree of quality. This results in the field of AI for EO applications lagging when compared to other fields, impeding the development of new applications and limiting the full potential of AI in EO."
   ]
  },
  {
   "cell_type": "markdown",
   "metadata": {},
   "source": [
    "## EOTDL"
   ]
  },
  {
   "cell_type": "markdown",
   "metadata": {},
   "source": [
    "The Earth Observation Training Data Lab (EOTDL) address these limitations and gaps for working with Machine Learning (ML) training data in EO by providing, one one hand, a set of open-source tools to create, share, and improve datasets as well as training ML algorithms in the cloud. On the other hand, EOTDL will is also an online repository where datasets and models can be explored and downloaded.\n",
    "\n",
    "EOTDL is a project funded by [ESA](https://www.esa.int/), and developed by [Earthpulse](https://earthpulse.ai/) (project lead), [EOX](https://eox.at/), [Brockmann Consult](https://www.brockmann-consult.de/), [Sinergise](https://www.sinergise.com/) and [SpaceTec Partners](https://www.spacetec.partners/).\n",
    "\n",
    "![](images/timeline.png)"
   ]
  },
  {
   "cell_type": "markdown",
   "metadata": {},
   "source": [
    "## Ecosystem"
   ]
  },
  {
   "cell_type": "markdown",
   "metadata": {},
   "source": [
    "- EOTDL is built on top of OS software, and it is also OS [https://github.com/earthpulse/eotdl](https://github.com/earthpulse/eotdl)\n",
    "- Users can access (Sentinel) data for dataset creation, selecting datas source, time range and areas of interest.\n",
    "- Metadata for data curation and quality assurance is generated following the STAC specification. Automatic QA mechanisms and versioning is applied during the process of dataset ingestion.\n",
    "- Engineering tools enable reproducible feature engineering, labelling, bias discoverability, etc. Training ML models in the cloud with multi-GPU machines is transparently enabled.\n",
    "- The EOTDL is accessible at multiple levels: user interfaces, web APIs, CLI and Python library (+ wrappers).\n"
   ]
  },
  {
   "cell_type": "markdown",
   "metadata": {},
   "source": [
    "![](images/eotdl.drawio.png)"
   ]
  },
  {
   "cell_type": "markdown",
   "metadata": {},
   "source": [
    "We will explore everything during this tutorial session!"
   ]
  },
  {
   "cell_type": "markdown",
   "metadata": {},
   "source": [
    "## Who is this for?"
   ]
  },
  {
   "cell_type": "markdown",
   "metadata": {},
   "source": [
    "The EOTDL is available to **everyone** and free to use (for now).\n",
    "\n",
    "You may find it interesting if:\n",
    "\n",
    "- You are a data scientist or ML engineer working with EO data: you can use the EOTDL to create and share datasets, and train models in the cloud.\n",
    "- You are a domain expert (e.g. forestry, agriculture, etc.) and want to explore the potential of AI for your field: you can explore, try and download the hosted models.\n",
    "- You are a developer and want to contribute to the project: you can contribute to the open-source codebase, documentation, datasets and models.\n",
    "- You are a data student and want to learn about AI for EO: you can use the EOTDL to download datasets and train your models.\n",
    "- And many more!"
   ]
  },
  {
   "cell_type": "markdown",
   "metadata": {},
   "source": [
    "## Community"
   ]
  },
  {
   "cell_type": "markdown",
   "metadata": {},
   "source": [
    "EOTDL is open source and community driven. We welcome contributions from everyone!\n",
    "\n",
    "- Github: [https://github.com/earthpulse/eotdl](https://github.com/earthpulse/eotdl)\n",
    "- Discord: [https://discord.gg/hYxc5AJB92](https://discord.gg/hYxc5AJB92)"
   ]
  },
  {
   "cell_type": "markdown",
   "metadata": {},
   "source": [
    "## Let's start!"
   ]
  },
  {
   "cell_type": "markdown",
   "metadata": {},
   "source": [
    "Questions? \n",
    "\n",
    "Let's start with the first notebook: [01_exploring_datasets_and_models.ipynb](01_exploring_datasets_and_models.ipynb)"
   ]
  }
 ],
 "metadata": {
  "language_info": {
   "name": "python"
  }
 },
 "nbformat": 4,
 "nbformat_minor": 2
}
