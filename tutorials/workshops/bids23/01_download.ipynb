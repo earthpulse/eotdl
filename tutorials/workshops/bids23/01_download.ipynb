{
 "cells": [
  {
   "cell_type": "code",
   "execution_count": 2,
   "metadata": {},
   "outputs": [],
   "source": [
    "%load_ext autoreload\n",
    "%autoreload 2\n",
    "\n",
    "%load_ext dotenv\n",
    "%dotenv"
   ]
  },
  {
   "cell_type": "markdown",
   "metadata": {},
   "source": [
    "# Download Sentinel-2 data"
   ]
  },
  {
   "cell_type": "markdown",
   "metadata": {},
   "source": [
    "In this notebook we are going to use the EOTDL environment to download the Sentinel-2 imagery that will conform our dataset.\n",
    "\n",
    "First of all, wee need our AoI bounding box and time interval in which download images. If you missed how we obtained them, go to the [00_exploration](00_exploration.ipynb) notebook.\n",
    "\n",
    "Let's load the AoI bounding box."
   ]
  },
  {
   "cell_type": "code",
   "execution_count": 3,
   "metadata": {},
   "outputs": [
    {
     "data": {
      "text/plain": [
       "[2.792027806635944, 42.33057868499878, 2.838021549182864, 42.36457137143556]"
      ]
     },
     "execution_count": 3,
     "metadata": {},
     "output_type": "execute_result"
    }
   ],
   "source": [
    "import geopandas as gpd\n",
    "\n",
    "boadella_bbox_gdf = gpd.read_file('workshop_data/boadella_bbox.geojson', crs='EPSG:4326')\n",
    "\n",
    "boadella_bbox = list(boadella_bbox_gdf.geometry.total_bounds)\n",
    "boadella_bbox"
   ]
  },
  {
   "cell_type": "markdown",
   "metadata": {},
   "source": [
    "And the range of dates."
   ]
  },
  {
   "cell_type": "code",
   "execution_count": 4,
   "metadata": {},
   "outputs": [
    {
     "data": {
      "text/plain": [
       "['2020-01-13', '2020-01-28', '2020-02-02', '2020-06-21', '2020-09-14']"
      ]
     },
     "execution_count": 4,
     "metadata": {},
     "output_type": "execute_result"
    }
   ],
   "source": [
    "import csv\n",
    "\n",
    "dates = []\n",
    "with open(\"workshop_data/dates.csv\", \"r\") as file:\n",
    "    reader = csv.reader(file)\n",
    "    for row in reader:\n",
    "        dates.append(row[0])\n",
    "dates.sort()\n",
    "\n",
    "dates[:5]"
   ]
  },
  {
   "cell_type": "markdown",
   "metadata": {},
   "source": [
    "As seen in the previous [notebook](00_exploration.ipynb), we have several available images for the given time interval. Let's download all of them! This is something that we can do in several ways. On the one hand, we can download image by image, as follows."
   ]
  },
  {
   "cell_type": "code",
   "execution_count": 5,
   "metadata": {},
   "outputs": [],
   "source": [
    "from eotdl.access import download_sentinel_imagery\n",
    "\n",
    "first_date = dates[0]\n",
    "\n",
    "# Uncomment to demonstrate\n",
    "# download_sentinel_imagery('workshop_data/sentinel_2', first_date, boadella_bbox, 'sentinel-2-l2a')"
   ]
  },
  {
   "cell_type": "markdown",
   "metadata": {},
   "source": [
    "On the other hand, we can search and download all available images within a time interval, as follows. This is the recommended way for a bulk download, but it has the drawback that we cannot control the quality of the images, as for example know their cloud cover."
   ]
  },
  {
   "cell_type": "code",
   "execution_count": 6,
   "metadata": {},
   "outputs": [],
   "source": [
    "from eotdl.access import search_and_download_sentinel_imagery\n",
    "\n",
    "# Uncomment to demonstrate\n",
    "# search_and_download_sentinel_imagery(\n",
    "#     output='workshop_data/sentinel_2',\n",
    "#     time_interval=dates[:3],\n",
    "#     bounding_box=boadella_bbox,\n",
    "#     sensor='sentinel-2-l2a'\n",
    "# )"
   ]
  },
  {
   "cell_type": "markdown",
   "metadata": {},
   "source": [
    "Despite what we have seen, in the `workshop_data/dates.csv` file we already have a list with the acquisition dates of valid, cloud-free and good quality images. This is a slower but safer solution. So, let's download them!"
   ]
  },
  {
   "cell_type": "code",
   "execution_count": 7,
   "metadata": {},
   "outputs": [],
   "source": [
    "for date in dates:\n",
    "    download_sentinel_imagery('workshop_data/sentinel_2', date, boadella_bbox, 'sentinel-2-l2a')"
   ]
  },
  {
   "cell_type": "markdown",
   "metadata": {},
   "source": [
    "That's all! We have downloaded the images for our dataset. Let's check them!"
   ]
  },
  {
   "cell_type": "code",
   "execution_count": 8,
   "metadata": {},
   "outputs": [
    {
     "data": {
      "text/plain": [
       "['workshop_data/sentinel_2/sentinel-2-l2a_2022-03-08.tif',\n",
       " 'workshop_data/sentinel_2/sentinel-2-l2a_2020-09-14.tif',\n",
       " 'workshop_data/sentinel_2/sentinel-2-l2a_2021-06-26.tif',\n",
       " 'workshop_data/sentinel_2/sentinel-2-l2a_2022-06-01.tif',\n",
       " 'workshop_data/sentinel_2/sentinel-2-l2a_2020-01-13.tif']"
      ]
     },
     "execution_count": 8,
     "metadata": {},
     "output_type": "execute_result"
    }
   ],
   "source": [
    "from glob import glob\n",
    "\n",
    "rasters = glob('workshop_data/sentinel_2/*.tif')\n",
    "rasters[:5]"
   ]
  },
  {
   "cell_type": "markdown",
   "metadata": {},
   "source": [
    "We can look for them metadata files, too."
   ]
  },
  {
   "cell_type": "code",
   "execution_count": 9,
   "metadata": {},
   "outputs": [
    {
     "data": {
      "text/plain": [
       "['workshop_data/sentinel_2/sentinel-2-l2a_2020-09-14.json',\n",
       " 'workshop_data/sentinel_2/sentinel-2-l2a_2022-06-01.json',\n",
       " 'workshop_data/sentinel_2/sentinel-2-l2a_2020-01-13.json',\n",
       " 'workshop_data/sentinel_2/sentinel-2-l2a_2022-03-08.json',\n",
       " 'workshop_data/sentinel_2/sentinel-2-l2a_2020-06-21.json']"
      ]
     },
     "execution_count": 9,
     "metadata": {},
     "output_type": "execute_result"
    }
   ],
   "source": [
    "jsons = glob('workshop_data/sentinel_2/*.json')\n",
    "jsons[:5]"
   ]
  },
  {
   "cell_type": "markdown",
   "metadata": {},
   "source": [
    "It looks amazing! One last step, in order to kind of \"label\" the downloaded images to be easily ingested by the EOTDL and generate STAC metadata in next steps could be to rename the images, maintaining the acquisiton date but replacing the sensor type in the filename by `Boadella`. This is not mandatory, but it will be useful for our usecase."
   ]
  },
  {
   "cell_type": "code",
   "execution_count": 11,
   "metadata": {},
   "outputs": [],
   "source": [
    "files = glob('workshop_data/sentinel_2/*')\n",
    "for file in files:\n",
    "    new_file_name = file.replace('sentinel-2-l2a', 'Boadella')\n",
    "    ! mv $file $new_file_name"
   ]
  },
  {
   "cell_type": "markdown",
   "metadata": {},
   "source": [
    "To sum up this section, we have downloaded the Sentinel-2 images that will conform our dataset through the Sentinel Hub client and have formated the folder structure to a way that will allow us both to label our dataset using SCANEO and generate STAC metadata. With this, we have our [Q0 dataset](../00_eotdl.ipynb)!\n",
    "\n",
    "Let's continue to the [02_labeling](./02_labeling.ipynb) notebook and label our dataset!"
   ]
  }
 ],
 "metadata": {
  "kernelspec": {
   "display_name": "Python 3",
   "language": "python",
   "name": "python3"
  },
  "language_info": {
   "codemirror_mode": {
    "name": "ipython",
    "version": 3
   },
   "file_extension": ".py",
   "mimetype": "text/x-python",
   "name": "python",
   "nbconvert_exporter": "python",
   "pygments_lexer": "ipython3",
   "version": "3.11.3"
  },
  "orig_nbformat": 4
 },
 "nbformat": 4,
 "nbformat_minor": 2
}
