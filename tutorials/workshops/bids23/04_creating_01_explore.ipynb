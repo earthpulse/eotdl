{
 "cells": [
  {
   "cell_type": "code",
   "execution_count": 1,
   "metadata": {},
   "outputs": [],
   "source": [
    "%load_ext autoreload\n",
    "%autoreload 2\n",
    "\n",
    "%load_ext dotenv\n",
    "%dotenv"
   ]
  },
  {
   "cell_type": "markdown",
   "metadata": {},
   "source": [
    "# Exploration"
   ]
  },
  {
   "cell_type": "markdown",
   "metadata": {},
   "source": [
    "In this first notebook we are going to explore the area of interest (AoI) we have selected for the workshop. Having our AoI, and within a range of dates we have defined, we are going to look for available Sentinel-2 imagery on the AoI through the [Sentinel Hub](https://www.sentinel-hub.com/) platform."
   ]
  },
  {
   "cell_type": "markdown",
   "metadata": {},
   "source": [
    "## Explore the AoI"
   ]
  },
  {
   "cell_type": "markdown",
   "metadata": {},
   "source": [
    "First of all, let's explore the area of interest of this workshop. In this case we have chosen the [Boadella reservoir](https://es.wikipedia.org/wiki/Embalse_de_Darnius_Boadella) in Catalonia, Spain, which geometry is in the data folder as `data/boadella.geojson`. \n",
    "\n",
    "To do the exploration we are going to use [leafmap](https://leafmap.org/). As we want to make the first zoom to our AoI we need the centroid of the geoJSON file, which will also help us later to extract the bounding box of the images to download."
   ]
  },
  {
   "cell_type": "code",
   "execution_count": 11,
   "metadata": {},
   "outputs": [
    {
     "data": {
      "application/vnd.jupyter.widget-view+json": {
       "model_id": "03d4f56b94fa41f4bf76a252edd0db29",
       "version_major": 2,
       "version_minor": 0
      },
      "text/plain": [
       "Map(center=[42.347577325903515, 2.815024677909404], controls=(ZoomControl(options=['position', 'zoom_in_text',…"
      ]
     },
     "execution_count": 11,
     "metadata": {},
     "output_type": "execute_result"
    }
   ],
   "source": [
    "import leafmap\n",
    "import geopandas as gpd\n",
    "\n",
    "in_geojson = 'workshop_data/boadella.geojson'\n",
    "gdf = gpd.read_file(in_geojson)\n",
    "\n",
    "centroid_coords = gdf['geometry'].centroid\n",
    "centroid = [centroid_coords.y.values[0], centroid_coords.x.values[0]]   # We are going to use the centroid later\n",
    "\n",
    "m = leafmap.Map(center=centroid, zoom=13)\n",
    "m.add_geojson(in_geojson, layer_name=\"Boadella reservoir\")\n",
    "m"
   ]
  },
  {
   "cell_type": "markdown",
   "metadata": {},
   "source": [
    "## Create bounding box"
   ]
  },
  {
   "cell_type": "markdown",
   "metadata": {},
   "source": [
    "With the aim that all the images in the dataset have the same dimensions (512x512 pixels) we are going to use the centroid that we extracted before from the geoJSON and we are going to generate a bounding box of 512x512 pixels at 10m per pixel."
   ]
  },
  {
   "cell_type": "code",
   "execution_count": 12,
   "metadata": {},
   "outputs": [],
   "source": [
    "from eotdl.tools import bbox_from_centroid\n",
    "\n",
    "boadella_bbox = bbox_from_centroid(x=centroid[0], y=centroid[1], pixel_size=10, width=512, height=512)"
   ]
  },
  {
   "cell_type": "markdown",
   "metadata": {},
   "source": [
    "Let's visualize the bounding box on a map!"
   ]
  },
  {
   "cell_type": "code",
   "execution_count": 13,
   "metadata": {},
   "outputs": [
    {
     "data": {
      "application/vnd.jupyter.widget-view+json": {
       "model_id": "03d4f56b94fa41f4bf76a252edd0db29",
       "version_major": 2,
       "version_minor": 0
      },
      "text/plain": [
       "Map(center=[42.347577325903515, 2.815024677909404], controls=(ZoomControl(options=['position', 'zoom_in_text',…"
      ]
     },
     "execution_count": 13,
     "metadata": {},
     "output_type": "execute_result"
    }
   ],
   "source": [
    "from eotdl.tools import bbox_to_polygon\n",
    "\n",
    "# Create a polygon from the bbox\n",
    "boadella_polygon = bbox_to_polygon(boadella_bbox)\n",
    "# Create a GeoDataFrame from the polygon\n",
    "gdf = gpd.GeoDataFrame(geometry=[boadella_polygon])\n",
    "# Save the bounding box as a geoJSON file, if needed\n",
    "gdf.to_file('workshop_data/boadella_bbox.geojson', driver='GeoJSON')   # Uncomment to save the bbox as a GeoJSON file\n",
    "\n",
    "m.add_geojson('workshop_data/boadella_bbox.geojson', layer_name=\"Boadella bbox\")\n",
    "m"
   ]
  },
  {
   "cell_type": "markdown",
   "metadata": {},
   "source": [
    "## Explore Sentinel-2 imagery"
   ]
  },
  {
   "cell_type": "markdown",
   "metadata": {},
   "source": [
    "Now that he have our desired bounding box we can look for available Sentinel-2 imagery on it. This can be done through the EOTDL. \n",
    "\n",
    "First, we can look for which Sentinel sensors are supported in the EOTDL"
   ]
  },
  {
   "cell_type": "code",
   "execution_count": 14,
   "metadata": {},
   "outputs": [
    {
     "data": {
      "text/plain": [
       "('sentinel-1-grd', 'sentinel-2-l1c', 'sentinel-2-l2a', 'dem')"
      ]
     },
     "execution_count": 14,
     "metadata": {},
     "output_type": "execute_result"
    }
   ],
   "source": [
    "from eotdl.access import SUPPORTED_SENSORS\n",
    "\n",
    "SUPPORTED_SENSORS"
   ]
  },
  {
   "cell_type": "markdown",
   "metadata": {},
   "source": [
    "If we want to look for available Sentinel-2 imagery in our AoI, we must define a range of dates in which to search for the images. We have already defined a time interval for this workshop, which is in the `data/dates.csv` file."
   ]
  },
  {
   "cell_type": "code",
   "execution_count": 15,
   "metadata": {},
   "outputs": [
    {
     "data": {
      "text/plain": [
       "['2020-01-13', '2020-01-28', '2020-02-02', '2020-06-21', '2020-09-14']"
      ]
     },
     "execution_count": 15,
     "metadata": {},
     "output_type": "execute_result"
    }
   ],
   "source": [
    "import csv\n",
    "\n",
    "dates = list()\n",
    "with open(\"workshop_data/dates.csv\", \"r\") as file:\n",
    "    reader = csv.reader(file)\n",
    "    for row in reader:\n",
    "        dates.append(row[0])\n",
    "dates.sort()\n",
    "\n",
    "dates[:5]"
   ]
  },
  {
   "cell_type": "markdown",
   "metadata": {},
   "source": [
    "Although we have the specific dates, we are going to search for the entire time interval, just as a demonstrator."
   ]
  },
  {
   "cell_type": "code",
   "execution_count": 16,
   "metadata": {},
   "outputs": [
    {
     "name": "stdout",
     "output_type": "stream",
     "text": [
      "('2020-01-13', '2022-06-01')\n"
     ]
    },
    {
     "data": {
      "text/plain": [
       "[{'id': 'S2B_MSIL2A_20220601T103629_N0400_R008_T31TDG_20220601T135543',\n",
       "  'properties': {'datetime': '2022-06-01T10:49:26Z', 'eo:cloud_cover': 0.23}},\n",
       " {'id': 'S2B_MSIL2A_20220601T103629_N0400_R008_T31TDH_20220601T135543',\n",
       "  'properties': {'datetime': '2022-06-01T10:49:14Z', 'eo:cloud_cover': 12.82}},\n",
       " {'id': 'S2A_MSIL2A_20220527T103631_N0400_R008_T31TDG_20220527T183616',\n",
       "  'properties': {'datetime': '2022-05-27T10:49:34Z', 'eo:cloud_cover': 85.6}},\n",
       " {'id': 'S2A_MSIL2A_20220527T103631_N0400_R008_T31TDH_20220527T183616',\n",
       "  'properties': {'datetime': '2022-05-27T10:49:19Z', 'eo:cloud_cover': 30.42}},\n",
       " {'id': 'S2B_MSIL2A_20220522T103629_N0400_R008_T31TDG_20220522T124154',\n",
       "  'properties': {'datetime': '2022-05-22T10:49:27Z', 'eo:cloud_cover': 12.99}}]"
      ]
     },
     "execution_count": 16,
     "metadata": {},
     "output_type": "execute_result"
    }
   ],
   "source": [
    "from eotdl.access import search_sentinel_imagery\n",
    "\n",
    "time_interval = (dates[0], dates[-1])\n",
    "\n",
    "r = search_sentinel_imagery(time_interval, boadella_bbox, 'sentinel-2-l2a')\n",
    "response = list(r)\n",
    "response[:5]"
   ]
  },
  {
   "cell_type": "markdown",
   "metadata": {},
   "source": [
    "They make sense, as the [revisit time](https://docs.sentinel-hub.com/api/latest/data/sentinel-2-l2a/#basic-facts) for Sentinel-2 is 5 days.\n",
    "\n",
    "As a final step, let's check the number of dates with available images."
   ]
  },
  {
   "cell_type": "code",
   "execution_count": 17,
   "metadata": {},
   "outputs": [
    {
     "name": "stdout",
     "output_type": "stream",
     "text": [
      "342\n"
     ]
    }
   ],
   "source": [
    "print(len(response))"
   ]
  },
  {
   "cell_type": "markdown",
   "metadata": {},
   "source": [
    "To sum up this section, we have explored our AoI, generated a bounding box and a time interval in which to look for imagery and searched for Sentinel-2 imagery.\n",
    "\n",
    "Let's continue in the [01_download](./01_download.ipynb) notebook and download the images!"
   ]
  }
 ],
 "metadata": {
  "kernelspec": {
   "display_name": "Python 3",
   "language": "python",
   "name": "python3"
  },
  "language_info": {
   "codemirror_mode": {
    "name": "ipython",
    "version": 3
   },
   "file_extension": ".py",
   "mimetype": "text/x-python",
   "name": "python",
   "nbconvert_exporter": "python",
   "pygments_lexer": "ipython3",
   "version": "3.11.3"
  },
  "orig_nbformat": 4
 },
 "nbformat": 4,
 "nbformat_minor": 2
}
