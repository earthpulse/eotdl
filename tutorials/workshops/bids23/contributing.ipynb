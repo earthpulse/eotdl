{
 "cells": [
  {
   "cell_type": "markdown",
   "metadata": {},
   "source": [
    "method:\n",
    "\n",
    "- discord\n",
    "- github (isuess + likes + comments)\n",
    "\n",
    "\n",
    "developing\n",
    "\n",
    "- library\n",
    "- cli (export URL)\n",
    "- api (docker compose up, env vars)\n",
    "- ui "
   ]
  }
 ],
 "metadata": {
  "language_info": {
   "name": "python"
  }
 },
 "nbformat": 4,
 "nbformat_minor": 2
}
