{
 "cells": [
  {
   "cell_type": "markdown",
   "metadata": {},
   "source": [
    "- library\n",
    "- cli (export URL)\n",
    "- api \n",
    "- ui \n",
    "\n",
    "method:\n",
    "\n",
    "- discord\n",
    "- github (isuess + likes + comments)"
   ]
  }
 ],
 "metadata": {
  "language_info": {
   "name": "python"
  }
 },
 "nbformat": 4,
 "nbformat_minor": 2
}
