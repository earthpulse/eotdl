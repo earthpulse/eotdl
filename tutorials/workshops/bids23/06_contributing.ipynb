{
 "cells": [
  {
   "cell_type": "markdown",
   "metadata": {},
   "source": [
    "# Getting Involved"
   ]
  },
  {
   "cell_type": "markdown",
   "metadata": {},
   "source": [
    "If you want to get involved in the project we recommend to:\n",
    "\n",
    "1. Join the Discord server: [https://discord.gg/hYxc5AJB92](https://discord.gg/hYxc5AJB92)\n",
    "\n",
    "Here is where we will manage all the communications regarding EOTDL as well as provide support to users and developers.\n",
    "\n",
    "2. Engage in GitHub [https://github.com/earthpulse/eotdl](https://github.com/earthpulse/eotdl) with issues.\n",
    "\n",
    "Features to be implemented will be posted as issues in the GitHub repository. You can comment on them, propose alternative solutions, or even propose new features. The most liked features will have priority in the development roadmap."
   ]
  },
  {
   "cell_type": "markdown",
   "metadata": {},
   "source": [
    "## Contributing"
   ]
  },
  {
   "cell_type": "markdown",
   "metadata": {},
   "source": [
    "developing\n",
    "\n",
    "- library\n",
    "- cli (export URL)\n",
    "- api (docker compose up, env vars)\n",
    "- ui "
   ]
  },
  {
   "cell_type": "markdown",
   "metadata": {},
   "source": [
    "## Datasets and Models"
   ]
  },
  {
   "cell_type": "markdown",
   "metadata": {},
   "source": [
    "The most straightforward way to contribute to EOTDL is with datasets and models. \n",
    "\n",
    "Feel free to upload your own datasets and models and share them with the community.\n",
    "\n",
    "Otherwise, pick a dataset or model from the list of issues in GitHub: [https://github.com/earthpulse/eotdl/issues](https://github.com/earthpulse/eotdl/issues)"
   ]
  },
  {
   "cell_type": "markdown",
   "metadata": {},
   "source": [
    "## Codebase"
   ]
  },
  {
   "cell_type": "markdown",
   "metadata": {},
   "source": [
    "Contributing to the codebase is a bit more complex. However, if you are determined to do so, you should follow these steps:\n",
    "\n",
    "1. Join the [Discord](https://discord.gg/hYxc5AJB92) server and request the `devleoper` status. This will grant you access to the private channels where we discuss the development of EOTDL.\n",
    "2. Attend feature planning meetings. These are held periodically (and will be announced in Discod). Here we discuss the features to be implemented in the next release, who will be in charge of each feature, and the deadline for each release.\n",
    "3. Fork the repository and create a new branch for each feature you are working on.\n",
    "4. Once you have finished the feature, create a pull request to the `develop` branch of the main repository.\n",
    "5. The pull request will be reviewed by the maintainers and, if everything is correct, it will be merged into the `develop` branch.\n",
    "\n",
    "Once the `develop` branch has enough features to be released, a new release will be created and merged into the `main` branch."
   ]
  },
  {
   "cell_type": "markdown",
   "metadata": {},
   "source": [
    "### Running EOTDL locally"
   ]
  },
  {
   "cell_type": "markdown",
   "metadata": {},
   "source": []
  }
 ],
 "metadata": {
  "language_info": {
   "name": "python"
  }
 },
 "nbformat": 4,
 "nbformat_minor": 2
}
