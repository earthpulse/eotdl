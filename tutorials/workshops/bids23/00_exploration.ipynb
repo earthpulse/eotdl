{
 "cells": [
  {
   "cell_type": "code",
   "execution_count": 1,
   "metadata": {},
   "outputs": [],
   "source": [
    "%load_ext autoreload\n",
    "%autoreload 2\n",
    "\n",
    "%load_ext dotenv\n",
    "%dotenv"
   ]
  },
  {
   "cell_type": "markdown",
   "metadata": {},
   "source": [
    "# Exploration"
   ]
  },
  {
   "cell_type": "markdown",
   "metadata": {},
   "source": [
    "In this first notebook we are going to explore the area of interest (AoI) we have selected for the workshop. Having our AoI, and within a range of dates we have defined, we are going to look for available Sentinel-2 imagery on the AoI through the [Sentinel Hub](https://www.sentinel-hub.com/) platform."
   ]
  },
  {
   "cell_type": "markdown",
   "metadata": {},
   "source": [
    "## Explore the AoI"
   ]
  },
  {
   "cell_type": "markdown",
   "metadata": {},
   "source": [
    "First of all, let's explore the area of interest of this workshop. In this case we have chosen the [Boadella reservoir](https://es.wikipedia.org/wiki/Embalse_de_Darnius_Boadella) in Catalonia, Spain, which geometry is in the data folder as `data/boadella.geojson`. \n",
    "\n",
    "To do the exploration we are going to use [leafmap](https://leafmap.org/). As we want to make the first zoom to our AoI we need the centroid of the geoJSON file, which will also help us later to extract the bounding box of the images to download."
   ]
  },
  {
   "cell_type": "code",
   "execution_count": 2,
   "metadata": {},
   "outputs": [
    {
     "data": {
      "application/vnd.jupyter.widget-view+json": {
       "model_id": "5d63159398d74658aa9ff6d7afeee333",
       "version_major": 2,
       "version_minor": 0
      },
      "text/plain": [
       "Map(center=[42.347577325903515, 2.815024677909404], controls=(ZoomControl(options=['position', 'zoom_in_text',…"
      ]
     },
     "execution_count": 2,
     "metadata": {},
     "output_type": "execute_result"
    }
   ],
   "source": [
    "import leafmap\n",
    "import geopandas as gpd\n",
    "\n",
    "in_geojson = 'data/boadella.geojson'\n",
    "gdf = gpd.read_file(in_geojson)\n",
    "\n",
    "centroid_coords = gdf['geometry'].centroid\n",
    "centroid = [centroid_coords.y.values[0], centroid_coords.x.values[0]]   # We are going to use the centroid later\n",
    "\n",
    "m = leafmap.Map(center=centroid, zoom=13)\n",
    "m.add_geojson(in_geojson, layer_name=\"Boadella reservoir\")\n",
    "m"
   ]
  },
  {
   "cell_type": "markdown",
   "metadata": {},
   "source": [
    "## Create bounding box"
   ]
  },
  {
   "cell_type": "markdown",
   "metadata": {},
   "source": [
    "With the aim that all the images in the dataset have the same dimensions (512x512 pixels) we are going to use the centroid that we extracted before from the geoJSON and we are going to generate a bounding box of 512x512 pixels at 10m per pixel."
   ]
  },
  {
   "cell_type": "code",
   "execution_count": 3,
   "metadata": {},
   "outputs": [],
   "source": [
    "from eotdl.tools.tools import bbox_from_centroid\n",
    "\n",
    "boadella_bbox = bbox_from_centroid(x=centroid[0], y=centroid[1], pixel_size=10, width=512, height=512)"
   ]
  },
  {
   "cell_type": "markdown",
   "metadata": {},
   "source": [
    "Let's visualize the bounding box on a map!"
   ]
  },
  {
   "cell_type": "code",
   "execution_count": 4,
   "metadata": {},
   "outputs": [
    {
     "data": {
      "application/vnd.jupyter.widget-view+json": {
       "model_id": "5d63159398d74658aa9ff6d7afeee333",
       "version_major": 2,
       "version_minor": 0
      },
      "text/plain": [
       "Map(center=[42.347577325903515, 2.815024677909404], controls=(ZoomControl(options=['position', 'zoom_in_text',…"
      ]
     },
     "execution_count": 4,
     "metadata": {},
     "output_type": "execute_result"
    }
   ],
   "source": [
    "from eotdl.tools.tools import bbox_to_polygon\n",
    "\n",
    "# Create a polygon from the bbox\n",
    "boadella_polygon = bbox_to_polygon(boadella_bbox)\n",
    "# Create a GeoDataFrame from the polygon\n",
    "gdf = gpd.GeoDataFrame(geometry=[boadella_polygon])\n",
    "# Save the bounding box as a geoJSON file, if needed\n",
    "# gdf.to_file('data/boadella_bbox.geojson', driver='GeoJSON')   # Uncomment to save the bbox as a GeoJSON file\n",
    "\n",
    "m.add_geojson('data/boadella_bbox.geojson', layer_name=\"Boadella bbox\")\n",
    "m"
   ]
  },
  {
   "cell_type": "markdown",
   "metadata": {},
   "source": [
    "## Explore Sentinel-2 available imagery"
   ]
  },
  {
   "cell_type": "markdown",
   "metadata": {},
   "source": [
    "### Sentinel Hub authentication"
   ]
  },
  {
   "cell_type": "markdown",
   "metadata": {},
   "source": [
    "Now that he have our desired bounding box we can look for available Sentinel-2 imagery on it. As we are going to do it through the [Sentinel Hub](https://www.sentinel-hub.com/) platform, we need first to authenticate with our credentials. \n",
    "\n",
    "When a new user signs in, the EOTDL environment automatically receives credentials for Sentinel Hub, so you do not have to worry about them as they are managed by the EOTDL tools. Despite this, if you already had a Sentinel Hub account before accepting the EOTDL Terms and Conditions your Sentinel Hub credentials will NOT appear there, so you must retrieve them from you [Sentinel HUB dashboard](https://www.sentinel-hub.com/develop/dashboard/).\n",
    "\n",
    "Knowing this, we can log in with our SH client in two ways."
   ]
  },
  {
   "cell_type": "markdown",
   "metadata": {},
   "source": [
    "If we did not already have an SH account, we can let the EOTDL take care of everything"
   ]
  },
  {
   "cell_type": "code",
   "execution_count": 1,
   "metadata": {},
   "outputs": [],
   "source": [
    "from eotdl.access import SHClient\n",
    "\n",
    "client = SHClient()"
   ]
  },
  {
   "cell_type": "markdown",
   "metadata": {},
   "source": [
    "If we already had an account, we can save the SH credentials in our `.env` file or insert them here directly. If you prefer, you can algo set your SH credentials from your EOTDL [profile](https://www.eotdl.com/profile)."
   ]
  },
  {
   "cell_type": "code",
   "execution_count": null,
   "metadata": {},
   "outputs": [],
   "source": [
    "from os import getenv\n",
    "from eotdl.access import SHClient\n",
    "\n",
    "sh_client_id = getenv('SH_CLIENT_ID')\n",
    "sh_client_secret = getenv('SH_CLIENT_SECRET')\n",
    "\n",
    "client = SHClient(sh_client_id=sh_client_id, \n",
    "                  sh_client_secret=sh_client_secret)"
   ]
  },
  {
   "cell_type": "markdown",
   "metadata": {},
   "source": [
    "### Look for Sentinel-2 imagery"
   ]
  },
  {
   "cell_type": "markdown",
   "metadata": {},
   "source": [
    "If we want to look for available Sentinel-2 imagery in our AoI, we must define a range of dates in which to search for the images. We have already defined a time interval for this workshop, which is in the `data/dates.csv` file."
   ]
  },
  {
   "cell_type": "code",
   "execution_count": 6,
   "metadata": {},
   "outputs": [
    {
     "data": {
      "text/plain": [
       "['2019-06-02', '2019-06-07', '2019-06-17', '2019-06-27', '2019-07-02']"
      ]
     },
     "execution_count": 6,
     "metadata": {},
     "output_type": "execute_result"
    }
   ],
   "source": [
    "import csv\n",
    "\n",
    "dates = list()\n",
    "with open(\"data/dates.csv\", \"r\") as file:\n",
    "    reader = csv.reader(file)\n",
    "    for row in reader:\n",
    "        dates.append(row[0])\n",
    "dates.sort()\n",
    "\n",
    "dates[:5]"
   ]
  },
  {
   "cell_type": "markdown",
   "metadata": {},
   "source": [
    "Now we have a bounding box and a range of dates in which to search for available imagery, we have to transform them in a digestible format for the EOTDL environment. \n",
    "\n",
    "In this way, the platform simply needs a Python dictionary with format `'id': {'bounding_box': <bounding_box>, 'time_inverval': <time_interval>}` to be able not only to search for available data but also to download it. Being said that, let's create the dict."
   ]
  },
  {
   "cell_type": "markdown",
   "metadata": {},
   "source": [
    "> Although we have the specific dates, we are going to search for the entire time interval, just a demonstrator"
   ]
  },
  {
   "cell_type": "code",
   "execution_count": 9,
   "metadata": {},
   "outputs": [],
   "source": [
    "boadella_search_dict = {\n",
    "    'Boadella': {\n",
    "        'bounding_box': boadella_bbox,\n",
    "        'time_interval': (dates[0], dates[-1])\n",
    "    }\n",
    "}\n",
    "\n",
    "boadella_available_data, boadella_not_available_data = client.get_available_data_by_location(boadella_search_dict,\n",
    "                                                         sentinel_mission='sentinel-2')"
   ]
  },
  {
   "cell_type": "markdown",
   "metadata": {},
   "source": [
    "The result is two Python dicts with the same format as the parameters dict: one with a list of dates with available imagery for the requested constellation and one dict with a list of dates without available imagery.\n",
    "\n",
    "Let's check for some dates"
   ]
  },
  {
   "cell_type": "code",
   "execution_count": 10,
   "metadata": {},
   "outputs": [
    {
     "data": {
      "text/plain": [
       "[('2023-09-19', '2023-09-19'),\n",
       " ('2023-09-14', '2023-09-14'),\n",
       " ('2023-09-09', '2023-09-09'),\n",
       " ('2023-09-04', '2023-09-04'),\n",
       " ('2023-08-30', '2023-08-30')]"
      ]
     },
     "execution_count": 10,
     "metadata": {},
     "output_type": "execute_result"
    }
   ],
   "source": [
    "dates = boadella_available_data['Boadella']['time_interval']\n",
    "dates[:5]"
   ]
  },
  {
   "cell_type": "markdown",
   "metadata": {},
   "source": [
    "They make sense, as the [revisit time](https://docs.sentinel-hub.com/api/latest/data/sentinel-2-l2a/#basic-facts) for Sentinel-2 is 5 days.\n",
    "\n",
    "As a final step, let's check the number of dates with available images."
   ]
  },
  {
   "cell_type": "code",
   "execution_count": 11,
   "metadata": {},
   "outputs": [
    {
     "name": "stdout",
     "output_type": "stream",
     "text": [
      "294\n"
     ]
    }
   ],
   "source": [
    "print(len(dates))"
   ]
  },
  {
   "cell_type": "markdown",
   "metadata": {},
   "source": [
    "> Eventhough we can use the returned dict with dates for the download section, we already have a list of dates with available data we know is usable for the workshop, like imagery with no clouds, good conditions, and so on."
   ]
  },
  {
   "cell_type": "markdown",
   "metadata": {},
   "source": [
    "To sum up this section, we have explored our AoI, generated a bounding box and a time interval in which to look for imagery and searched for Sentinel-2 imagery.\n",
    "\n",
    "Let's continue in the [01_download](./01_download.ipynb) notebook and download the images!"
   ]
  }
 ],
 "metadata": {
  "kernelspec": {
   "display_name": "Python 3",
   "language": "python",
   "name": "python3"
  },
  "language_info": {
   "codemirror_mode": {
    "name": "ipython",
    "version": 3
   },
   "file_extension": ".py",
   "mimetype": "text/x-python",
   "name": "python",
   "nbconvert_exporter": "python",
   "pygments_lexer": "ipython3",
   "version": "3.11.3"
  },
  "orig_nbformat": 4
 },
 "nbformat": 4,
 "nbformat_minor": 2
}
