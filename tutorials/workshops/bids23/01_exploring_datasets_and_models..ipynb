{
 "cells": [
  {
   "cell_type": "markdown",
   "metadata": {},
   "source": [
    "TODO:\n",
    "- fix cli download path\n",
    "- enable file level access"
   ]
  },
  {
   "cell_type": "markdown",
   "metadata": {},
   "source": [
    "# Exploring datasets and models"
   ]
  },
  {
   "cell_type": "markdown",
   "metadata": {},
   "source": [
    "Let's start by exploring the repository of datasets and models. "
   ]
  },
  {
   "cell_type": "markdown",
   "metadata": {},
   "source": [
    "## The User Interface"
   ]
  },
  {
   "cell_type": "markdown",
   "metadata": {},
   "source": [
    "The easiest way to get started with EOTDL is by exploring the user interface: [https://eotdl.com/](https://www.eotdl.com/). Through the UI you will be able to:\n",
    "\n",
    "- Explore the datasets and models available in the repository.\n",
    "- Edit your own datasets and models information.\n",
    "- Read the tutorials on the blog.\n",
    "- Read the documentation.\n",
    "- Find useful links to other resources (GitHub, Discord, ...)\n",
    "\n",
    "![web](images/web.png)"
   ]
  },
  {
   "cell_type": "markdown",
   "metadata": {},
   "source": [
    "## Quality levels"
   ]
  },
  {
   "cell_type": "markdown",
   "metadata": {},
   "source": [
    "Datasets and models in EOTDL are categorized into quality levels. The quality levels are:\n",
    "\n",
    "- Q0: datasets in the form of an archive with arbitary files without curation. This level is ideal for easy and fast upload/download of small datasets.\n",
    "- Q1: datasets with STAC metadata and cloud-optimized data but no QA. These datasets can leverage a limited set of EOTDL features.\n",
    "- Q2: datasets with STAC metadata with the EOTDL custom extensions and automated QA. These datasets can leverage the full potential of the EOTDL.\n",
    "- Q3: Q2 datasets that are manually curated. These datasets are the most reliable and can be used as benchmark datasets.\n",
    "\n",
    "You will learn more about the quality levels in the next tutorials."
   ]
  },
  {
   "cell_type": "markdown",
   "metadata": {},
   "source": [
    "## The Command Line Interface"
   ]
  },
  {
   "cell_type": "markdown",
   "metadata": {},
   "source": [
    "Even though the UI is the easiest way to get started, it is not the most convenient for actually working with the datasets and models. For that we recommend installing the CLI."
   ]
  },
  {
   "cell_type": "markdown",
   "metadata": {},
   "source": [
    "Consider creating a virtual environment before installing the CLI to avoid conflicts with other packages (EOTDL has heavy dependencies at the moment, we will work on relaxing these constrains in the future).\n",
    "\n",
    "With conda:\n",
    "\n",
    "```bash\n",
    "conda create -n eotdl python=3.8\n",
    "conda activate eotdl\n",
    "```\n",
    "\n",
    "With python: \n",
    "\n",
    "```bash\n",
    "python -m venv eotdl\n",
    "source eotdl/bin/activate\n",
    "```\n",
    "\n",
    "If you are following the tutorial, you may have to install Jupyter on the new environment and restart the kernel."
   ]
  },
  {
   "cell_type": "code",
   "execution_count": 1,
   "metadata": {},
   "outputs": [
    {
     "name": "stdout",
     "output_type": "stream",
     "text": [
      "Requirement already satisfied: eotdl in /home/juan/miniconda3/envs/eotdl/lib/python3.8/site-packages (2023.10.24.post4)\n",
      "Requirement already satisfied: geomet<2.0.0,>=1.0.0 in /home/juan/.local/lib/python3.8/site-packages (from eotdl) (1.0.0)\n",
      "Requirement already satisfied: geopandas<0.14.0,>=0.13.2 in /home/juan/miniconda3/envs/eotdl/lib/python3.8/site-packages (from eotdl) (0.13.2)\n",
      "Requirement already satisfied: pydantic<2.0.0,>=1.10.6 in /home/juan/miniconda3/envs/eotdl/lib/python3.8/site-packages (from eotdl) (1.10.13)\n",
      "Requirement already satisfied: pyjwt<3.0.0,>=2.6.0 in /home/juan/miniconda3/envs/eotdl/lib/python3.8/site-packages (from eotdl) (2.8.0)\n",
      "Requirement already satisfied: pystac<2.0.0,>=1.8.2 in /home/juan/.local/lib/python3.8/site-packages (from eotdl) (1.8.3)\n",
      "Requirement already satisfied: pyyaml<7.0.0,>=6.0.1 in /home/juan/miniconda3/envs/eotdl/lib/python3.8/site-packages (from eotdl) (6.0.1)\n",
      "Requirement already satisfied: rasterio<2.0.0,>=1.3.9 in /home/juan/miniconda3/envs/eotdl/lib/python3.8/site-packages (from eotdl) (1.3.9)\n",
      "Requirement already satisfied: requests<3.0.0,>=2.28.2 in /home/juan/miniconda3/envs/eotdl/lib/python3.8/site-packages (from eotdl) (2.31.0)\n",
      "Requirement already satisfied: sentinelhub<4.0.0,>=3.9.1 in /home/juan/miniconda3/envs/eotdl/lib/python3.8/site-packages (from eotdl) (3.9.1)\n",
      "Requirement already satisfied: tqdm<5.0.0,>=4.65.0 in /home/juan/miniconda3/envs/eotdl/lib/python3.8/site-packages (from eotdl) (4.66.1)\n",
      "Requirement already satisfied: typer[all]<0.10.0,>=0.9.0 in /home/juan/miniconda3/envs/eotdl/lib/python3.8/site-packages (from eotdl) (0.9.0)\n",
      "Requirement already satisfied: click in /home/juan/miniconda3/envs/eotdl/lib/python3.8/site-packages (from geomet<2.0.0,>=1.0.0->eotdl) (8.1.7)\n",
      "Requirement already satisfied: six in /home/juan/miniconda3/envs/eotdl/lib/python3.8/site-packages (from geomet<2.0.0,>=1.0.0->eotdl) (1.16.0)\n",
      "Requirement already satisfied: fiona>=1.8.19 in /home/juan/miniconda3/envs/eotdl/lib/python3.8/site-packages (from geopandas<0.14.0,>=0.13.2->eotdl) (1.9.5)\n",
      "Requirement already satisfied: packaging in /home/juan/miniconda3/envs/eotdl/lib/python3.8/site-packages (from geopandas<0.14.0,>=0.13.2->eotdl) (23.2)\n",
      "Requirement already satisfied: pandas>=1.1.0 in /home/juan/miniconda3/envs/eotdl/lib/python3.8/site-packages (from geopandas<0.14.0,>=0.13.2->eotdl) (2.0.3)\n",
      "Requirement already satisfied: pyproj>=3.0.1 in /home/juan/miniconda3/envs/eotdl/lib/python3.8/site-packages (from geopandas<0.14.0,>=0.13.2->eotdl) (3.5.0)\n",
      "Requirement already satisfied: shapely>=1.7.1 in /home/juan/miniconda3/envs/eotdl/lib/python3.8/site-packages (from geopandas<0.14.0,>=0.13.2->eotdl) (2.0.2)\n",
      "Requirement already satisfied: typing-extensions>=4.2.0 in /home/juan/miniconda3/envs/eotdl/lib/python3.8/site-packages (from pydantic<2.0.0,>=1.10.6->eotdl) (4.8.0)\n",
      "Requirement already satisfied: python-dateutil>=2.7.0 in /home/juan/miniconda3/envs/eotdl/lib/python3.8/site-packages (from pystac<2.0.0,>=1.8.2->eotdl) (2.8.2)\n",
      "Requirement already satisfied: importlib-resources>=5.12.0 in /home/juan/miniconda3/envs/eotdl/lib/python3.8/site-packages (from pystac<2.0.0,>=1.8.2->eotdl) (6.1.0)\n",
      "Requirement already satisfied: affine in /home/juan/miniconda3/envs/eotdl/lib/python3.8/site-packages (from rasterio<2.0.0,>=1.3.9->eotdl) (2.4.0)\n",
      "Requirement already satisfied: attrs in /home/juan/miniconda3/envs/eotdl/lib/python3.8/site-packages (from rasterio<2.0.0,>=1.3.9->eotdl) (23.1.0)\n",
      "Requirement already satisfied: certifi in /home/juan/miniconda3/envs/eotdl/lib/python3.8/site-packages (from rasterio<2.0.0,>=1.3.9->eotdl) (2023.7.22)\n",
      "Requirement already satisfied: cligj>=0.5 in /home/juan/miniconda3/envs/eotdl/lib/python3.8/site-packages (from rasterio<2.0.0,>=1.3.9->eotdl) (0.7.2)\n",
      "Requirement already satisfied: numpy in /home/juan/miniconda3/envs/eotdl/lib/python3.8/site-packages (from rasterio<2.0.0,>=1.3.9->eotdl) (1.24.4)\n",
      "Requirement already satisfied: snuggs>=1.4.1 in /home/juan/miniconda3/envs/eotdl/lib/python3.8/site-packages (from rasterio<2.0.0,>=1.3.9->eotdl) (1.4.7)\n",
      "Requirement already satisfied: click-plugins in /home/juan/.local/lib/python3.8/site-packages (from rasterio<2.0.0,>=1.3.9->eotdl) (1.1.1)\n",
      "Requirement already satisfied: setuptools in /home/juan/miniconda3/envs/eotdl/lib/python3.8/site-packages (from rasterio<2.0.0,>=1.3.9->eotdl) (68.2.2)\n",
      "Requirement already satisfied: charset-normalizer<4,>=2 in /home/juan/miniconda3/envs/eotdl/lib/python3.8/site-packages (from requests<3.0.0,>=2.28.2->eotdl) (3.3.1)\n",
      "Requirement already satisfied: idna<4,>=2.5 in /home/juan/miniconda3/envs/eotdl/lib/python3.8/site-packages (from requests<3.0.0,>=2.28.2->eotdl) (3.4)\n",
      "Requirement already satisfied: urllib3<3,>=1.21.1 in /home/juan/miniconda3/envs/eotdl/lib/python3.8/site-packages (from requests<3.0.0,>=2.28.2->eotdl) (2.0.7)\n",
      "Requirement already satisfied: aenum>=2.1.4 in /home/juan/miniconda3/envs/eotdl/lib/python3.8/site-packages (from sentinelhub<4.0.0,>=3.9.1->eotdl) (3.1.15)\n",
      "Requirement already satisfied: dataclasses-json in /home/juan/miniconda3/envs/eotdl/lib/python3.8/site-packages (from sentinelhub<4.0.0,>=3.9.1->eotdl) (0.6.1)\n",
      "Requirement already satisfied: oauthlib in /home/juan/miniconda3/envs/eotdl/lib/python3.8/site-packages (from sentinelhub<4.0.0,>=3.9.1->eotdl) (3.2.2)\n",
      "Requirement already satisfied: pillow>=9.2.0 in /home/juan/miniconda3/envs/eotdl/lib/python3.8/site-packages (from sentinelhub<4.0.0,>=3.9.1->eotdl) (10.1.0)\n",
      "Requirement already satisfied: requests-oauthlib>=1.0.0 in /home/juan/miniconda3/envs/eotdl/lib/python3.8/site-packages (from sentinelhub<4.0.0,>=3.9.1->eotdl) (1.3.1)\n",
      "Requirement already satisfied: tifffile>=2020.9.30 in /home/juan/miniconda3/envs/eotdl/lib/python3.8/site-packages (from sentinelhub<4.0.0,>=3.9.1->eotdl) (2023.7.10)\n",
      "Requirement already satisfied: tomli in /home/juan/miniconda3/envs/eotdl/lib/python3.8/site-packages (from sentinelhub<4.0.0,>=3.9.1->eotdl) (2.0.1)\n",
      "Requirement already satisfied: tomli-w in /home/juan/miniconda3/envs/eotdl/lib/python3.8/site-packages (from sentinelhub<4.0.0,>=3.9.1->eotdl) (1.0.0)\n",
      "Requirement already satisfied: utm in /home/juan/miniconda3/envs/eotdl/lib/python3.8/site-packages (from sentinelhub<4.0.0,>=3.9.1->eotdl) (0.7.0)\n",
      "Requirement already satisfied: colorama<0.5.0,>=0.4.3 in /home/juan/miniconda3/envs/eotdl/lib/python3.8/site-packages (from typer[all]<0.10.0,>=0.9.0->eotdl) (0.4.6)\n",
      "Requirement already satisfied: shellingham<2.0.0,>=1.3.0 in /home/juan/miniconda3/envs/eotdl/lib/python3.8/site-packages (from typer[all]<0.10.0,>=0.9.0->eotdl) (1.5.4)\n",
      "Requirement already satisfied: rich<14.0.0,>=10.11.0 in /home/juan/.local/lib/python3.8/site-packages (from typer[all]<0.10.0,>=0.9.0->eotdl) (12.6.0)\n",
      "Requirement already satisfied: importlib-metadata in /home/juan/miniconda3/envs/eotdl/lib/python3.8/site-packages (from fiona>=1.8.19->geopandas<0.14.0,>=0.13.2->eotdl) (6.8.0)\n",
      "Requirement already satisfied: zipp>=3.1.0 in /home/juan/miniconda3/envs/eotdl/lib/python3.8/site-packages (from importlib-resources>=5.12.0->pystac<2.0.0,>=1.8.2->eotdl) (3.17.0)\n",
      "Requirement already satisfied: pytz>=2020.1 in /home/juan/miniconda3/envs/eotdl/lib/python3.8/site-packages (from pandas>=1.1.0->geopandas<0.14.0,>=0.13.2->eotdl) (2023.3.post1)\n",
      "Requirement already satisfied: tzdata>=2022.1 in /home/juan/miniconda3/envs/eotdl/lib/python3.8/site-packages (from pandas>=1.1.0->geopandas<0.14.0,>=0.13.2->eotdl) (2023.3)\n",
      "Requirement already satisfied: commonmark<0.10.0,>=0.9.0 in /home/juan/.local/lib/python3.8/site-packages (from rich<14.0.0,>=10.11.0->typer[all]<0.10.0,>=0.9.0->eotdl) (0.9.1)\n",
      "Requirement already satisfied: pygments<3.0.0,>=2.6.0 in /home/juan/miniconda3/envs/eotdl/lib/python3.8/site-packages (from rich<14.0.0,>=10.11.0->typer[all]<0.10.0,>=0.9.0->eotdl) (2.16.1)\n",
      "Requirement already satisfied: pyparsing>=2.1.6 in /home/juan/miniconda3/envs/eotdl/lib/python3.8/site-packages (from snuggs>=1.4.1->rasterio<2.0.0,>=1.3.9->eotdl) (3.1.1)\n",
      "Requirement already satisfied: marshmallow<4.0.0,>=3.18.0 in /home/juan/miniconda3/envs/eotdl/lib/python3.8/site-packages (from dataclasses-json->sentinelhub<4.0.0,>=3.9.1->eotdl) (3.20.1)\n",
      "Requirement already satisfied: typing-inspect<1,>=0.4.0 in /home/juan/miniconda3/envs/eotdl/lib/python3.8/site-packages (from dataclasses-json->sentinelhub<4.0.0,>=3.9.1->eotdl) (0.9.0)\n",
      "Requirement already satisfied: mypy-extensions>=0.3.0 in /home/juan/miniconda3/envs/eotdl/lib/python3.8/site-packages (from typing-inspect<1,>=0.4.0->dataclasses-json->sentinelhub<4.0.0,>=3.9.1->eotdl) (1.0.0)\n"
     ]
    }
   ],
   "source": [
    "!pip install eotdl"
   ]
  },
  {
   "cell_type": "code",
   "execution_count": 2,
   "metadata": {},
   "outputs": [
    {
     "name": "stdout",
     "output_type": "stream",
     "text": [
      "\u001b[1m                                                                                \u001b[0m\n",
      "\u001b[1m \u001b[0m\u001b[1;33mUsage: \u001b[0m\u001b[1meotdl [OPTIONS] COMMAND [ARGS]...\u001b[0m\u001b[1m                                      \u001b[0m\u001b[1m \u001b[0m\n",
      "\u001b[1m                                                                                \u001b[0m\n",
      "\u001b[2m╭─\u001b[0m\u001b[2m Options \u001b[0m\u001b[2m───────────────────────────────────────────────────────────────────\u001b[0m\u001b[2m─╮\u001b[0m\n",
      "\u001b[2m│\u001b[0m \u001b[1;36m-\u001b[0m\u001b[1;36m-install\u001b[0m\u001b[1;36m-completion\u001b[0m          Install completion for the current shell.      \u001b[2m│\u001b[0m\n",
      "\u001b[2m│\u001b[0m \u001b[1;36m-\u001b[0m\u001b[1;36m-show\u001b[0m\u001b[1;36m-completion\u001b[0m             Show completion for the current shell, to copy \u001b[2m│\u001b[0m\n",
      "\u001b[2m│\u001b[0m                               it or customize the installation.              \u001b[2m│\u001b[0m\n",
      "\u001b[2m│\u001b[0m \u001b[1;36m-\u001b[0m\u001b[1;36m-help\u001b[0m                        Show this message and exit.                    \u001b[2m│\u001b[0m\n",
      "\u001b[2m╰──────────────────────────────────────────────────────────────────────────────╯\u001b[0m\n",
      "\u001b[2m╭─\u001b[0m\u001b[2m Commands \u001b[0m\u001b[2m──────────────────────────────────────────────────────────────────\u001b[0m\u001b[2m─╮\u001b[0m\n",
      "\u001b[2m│\u001b[0m \u001b[1;36mauth                                                                \u001b[0m\u001b[1;36m \u001b[0m        \u001b[2m│\u001b[0m\n",
      "\u001b[2m│\u001b[0m \u001b[1;36mdatasets                                                            \u001b[0m\u001b[1;36m \u001b[0m        \u001b[2m│\u001b[0m\n",
      "\u001b[2m│\u001b[0m \u001b[1;36mversion                                                             \u001b[0m\u001b[1;36m \u001b[0m        \u001b[2m│\u001b[0m\n",
      "\u001b[2m╰──────────────────────────────────────────────────────────────────────────────╯\u001b[0m\n",
      "\n"
     ]
    }
   ],
   "source": [
    "!eotdl --help"
   ]
  },
  {
   "cell_type": "code",
   "execution_count": 3,
   "metadata": {},
   "outputs": [
    {
     "name": "stdout",
     "output_type": "stream",
     "text": [
      "EOTDL Version: 2023.10.24-4\n"
     ]
    }
   ],
   "source": [
    "!eotdl version"
   ]
  },
  {
   "cell_type": "code",
   "execution_count": 4,
   "metadata": {},
   "outputs": [
    {
     "name": "stdout",
     "output_type": "stream",
     "text": [
      "\u001b[1m                                                                                \u001b[0m\n",
      "\u001b[1m \u001b[0m\u001b[1;33mUsage: \u001b[0m\u001b[1meotdl datasets [OPTIONS] COMMAND [ARGS]...\u001b[0m\u001b[1m                             \u001b[0m\u001b[1m \u001b[0m\n",
      "\u001b[1m                                                                                \u001b[0m\n",
      "\u001b[2m╭─\u001b[0m\u001b[2m Options \u001b[0m\u001b[2m───────────────────────────────────────────────────────────────────\u001b[0m\u001b[2m─╮\u001b[0m\n",
      "\u001b[2m│\u001b[0m \u001b[1;36m-\u001b[0m\u001b[1;36m-help\u001b[0m          Show this message and exit.                                  \u001b[2m│\u001b[0m\n",
      "\u001b[2m╰──────────────────────────────────────────────────────────────────────────────╯\u001b[0m\n",
      "\u001b[2m╭─\u001b[0m\u001b[2m Commands \u001b[0m\u001b[2m──────────────────────────────────────────────────────────────────\u001b[0m\u001b[2m─╮\u001b[0m\n",
      "\u001b[2m│\u001b[0m \u001b[1;36mget                                                               \u001b[0m\u001b[1;36m \u001b[0m          \u001b[2m│\u001b[0m\n",
      "\u001b[2m│\u001b[0m \u001b[1;36mingest                                                            \u001b[0m\u001b[1;36m \u001b[0m          \u001b[2m│\u001b[0m\n",
      "\u001b[2m│\u001b[0m \u001b[1;36mlist                                                              \u001b[0m\u001b[1;36m \u001b[0m          \u001b[2m│\u001b[0m\n",
      "\u001b[2m╰──────────────────────────────────────────────────────────────────────────────╯\u001b[0m\n",
      "\n"
     ]
    }
   ],
   "source": [
    "!eotdl datasets --help"
   ]
  },
  {
   "cell_type": "markdown",
   "metadata": {},
   "source": [
    "You can explore datasets with the following command:"
   ]
  },
  {
   "cell_type": "code",
   "execution_count": 5,
   "metadata": {},
   "outputs": [
    {
     "name": "stdout",
     "output_type": "stream",
     "text": [
      "['EuroSAT-RGB', 'UCMerced', 'EuroSAT', 'SeCo100k', 'SeCo', 'AirbusAircraftDetection', 'AirbusWindTurbinesPatches', 'RoadNet', 'SloveniaLandCover', 'ISPRS-Potsdam2D', 'SEN12-FLOOD', 'Urban3dChallenge', 'tropical-cyclone-dataset', 'Vessel-detection', 'Airplanes-detection', 'S2-SHIPS', 'SpaceNet-7', 'Sentinel-2-Cloud-Mask', 'PASTIS', 'FlodNet', 'EuroCrops', 'open-cities-test', 'PASTIS-R', 'open-cities-tt1-source', 'open-cities-tt2-source', 'LandcoverAI', 'xview2', 'BigEarthNet', 'EuroSAT-RGB-STAC', 'EuroSAT-STAC', 'COWC', 'Stanford-Drone-dataset', 'eurosat-rgb', 'eurosat-rgb-q2', 'EuroSAT-small']\n"
     ]
    }
   ],
   "source": [
    "!eotdl datasets list "
   ]
  },
  {
   "cell_type": "code",
   "execution_count": 6,
   "metadata": {},
   "outputs": [
    {
     "name": "stdout",
     "output_type": "stream",
     "text": [
      "\u001b[1m                                                                                \u001b[0m\n",
      "\u001b[1m \u001b[0m\u001b[1;33mUsage: \u001b[0m\u001b[1meotdl datasets list [OPTIONS]\u001b[0m\u001b[1m                                          \u001b[0m\u001b[1m \u001b[0m\n",
      "\u001b[1m                                                                                \u001b[0m\n",
      "\u001b[2m╭─\u001b[0m\u001b[2m Options \u001b[0m\u001b[2m───────────────────────────────────────────────────────────────────\u001b[0m\u001b[2m─╮\u001b[0m\n",
      "\u001b[2m│\u001b[0m \u001b[1;36m-\u001b[0m\u001b[1;36m-name\u001b[0m   \u001b[1;32m-n\u001b[0m      \u001b[1;33mTEXT   \u001b[0m  Filter by name \u001b[2m[default: None]\u001b[0m                     \u001b[2m│\u001b[0m\n",
      "\u001b[2m│\u001b[0m \u001b[1;36m-\u001b[0m\u001b[1;36m-limit\u001b[0m  \u001b[1;32m-l\u001b[0m      \u001b[1;33mINTEGER\u001b[0m  Limit number of results \u001b[2m[default: None]\u001b[0m            \u001b[2m│\u001b[0m\n",
      "\u001b[2m│\u001b[0m \u001b[1;36m-\u001b[0m\u001b[1;36m-help\u001b[0m           \u001b[1;33m       \u001b[0m  Show this message and exit.                        \u001b[2m│\u001b[0m\n",
      "\u001b[2m╰──────────────────────────────────────────────────────────────────────────────╯\u001b[0m\n",
      "\n"
     ]
    }
   ],
   "source": [
    "!eotdl datasets list --help"
   ]
  },
  {
   "cell_type": "code",
   "execution_count": 7,
   "metadata": {},
   "outputs": [
    {
     "name": "stdout",
     "output_type": "stream",
     "text": [
      "['EuroSAT-RGB', 'EuroSAT', 'EuroSAT-RGB-STAC', 'EuroSAT-STAC', 'eurosat-rgb', 'eurosat-rgb-q2', 'EuroSAT-small']\n"
     ]
    }
   ],
   "source": [
    "!eotdl datasets list -n eurosat"
   ]
  },
  {
   "cell_type": "markdown",
   "metadata": {},
   "source": [
    "As may have guessed, you can download a dataset with the following command:"
   ]
  },
  {
   "cell_type": "code",
   "execution_count": 8,
   "metadata": {},
   "outputs": [
    {
     "name": "stdout",
     "output_type": "stream",
     "text": [
      "Dataset `EuroSAT-small v2` already exists at /home/juan/.cache/eotdl/datasets/EuroSAT-small/v2. To force download, use force=True or -f in the CLI.\n"
     ]
    }
   ],
   "source": [
    "!eotdl datasets get EuroSAT-small"
   ]
  },
  {
   "cell_type": "code",
   "execution_count": 9,
   "metadata": {},
   "outputs": [
    {
     "name": "stdout",
     "output_type": "stream",
     "text": [
      "\u001b[1m                                                                                \u001b[0m\n",
      "\u001b[1m \u001b[0m\u001b[1;33mUsage: \u001b[0m\u001b[1meotdl datasets get [OPTIONS] DATASET\u001b[0m\u001b[1m                                   \u001b[0m\u001b[1m \u001b[0m\n",
      "\u001b[1m                                                                                \u001b[0m\n",
      "\u001b[2m╭─\u001b[0m\u001b[2m Arguments \u001b[0m\u001b[2m─────────────────────────────────────────────────────────────────\u001b[0m\u001b[2m─╮\u001b[0m\n",
      "\u001b[2m│\u001b[0m \u001b[31m*\u001b[0m    dataset      \u001b[1;33mTEXT\u001b[0m  \u001b[2m[default: None]\u001b[0m \u001b[2;31m[required]\u001b[0m                           \u001b[2m│\u001b[0m\n",
      "\u001b[2m╰──────────────────────────────────────────────────────────────────────────────╯\u001b[0m\n",
      "\u001b[2m╭─\u001b[0m\u001b[2m Options \u001b[0m\u001b[2m───────────────────────────────────────────────────────────────────\u001b[0m\u001b[2m─╮\u001b[0m\n",
      "\u001b[2m│\u001b[0m \u001b[1;36m-\u001b[0m\u001b[1;36m-path\u001b[0m     \u001b[1;32m-p\u001b[0m      \u001b[1;33mTEXT   \u001b[0m  Download to a specific path \u001b[2m[default: None]\u001b[0m      \u001b[2m│\u001b[0m\n",
      "\u001b[2m│\u001b[0m \u001b[1;36m-\u001b[0m\u001b[1;36m-file\u001b[0m     \u001b[1;32m-f\u001b[0m      \u001b[1;33mTEXT   \u001b[0m  Download a specific file \u001b[2m[default: None]\u001b[0m         \u001b[2m│\u001b[0m\n",
      "\u001b[2m│\u001b[0m \u001b[1;36m-\u001b[0m\u001b[1;36m-version\u001b[0m  \u001b[1;32m-v\u001b[0m      \u001b[1;33mINTEGER\u001b[0m  Dataset version \u001b[2m[default: None]\u001b[0m                  \u001b[2m│\u001b[0m\n",
      "\u001b[2m│\u001b[0m \u001b[1;36m-\u001b[0m\u001b[1;36m-assets\u001b[0m   \u001b[1;32m-a\u001b[0m      \u001b[1;33m       \u001b[0m  Download assets                                  \u001b[2m│\u001b[0m\n",
      "\u001b[2m│\u001b[0m \u001b[1;36m-\u001b[0m\u001b[1;36m-force\u001b[0m    \u001b[1;32m-f\u001b[0m      \u001b[1;33m       \u001b[0m  Force download even if file exists               \u001b[2m│\u001b[0m\n",
      "\u001b[2m│\u001b[0m \u001b[1;36m-\u001b[0m\u001b[1;36m-verbose\u001b[0m          \u001b[1;33m       \u001b[0m  Verbose output                                   \u001b[2m│\u001b[0m\n",
      "\u001b[2m│\u001b[0m \u001b[1;36m-\u001b[0m\u001b[1;36m-help\u001b[0m             \u001b[1;33m       \u001b[0m  Show this message and exit.                      \u001b[2m│\u001b[0m\n",
      "\u001b[2m╰──────────────────────────────────────────────────────────────────────────────╯\u001b[0m\n",
      "\n"
     ]
    }
   ],
   "source": [
    "!eotdl datasets get --help"
   ]
  },
  {
   "cell_type": "markdown",
   "metadata": {},
   "source": [
    "By default, datasets will be downloaded at your `$HOME/.cache/eotdl/datasets` folder. You can change this with the `--path` argument."
   ]
  },
  {
   "cell_type": "code",
   "execution_count": 10,
   "metadata": {},
   "outputs": [
    {
     "name": "stdout",
     "output_type": "stream",
     "text": [
      "Dataset `EuroSAT-small v2` already exists at ./EuroSAT-small/v2. To force download, use force=True or -f in the CLI.\n"
     ]
    }
   ],
   "source": [
    "!eotdl datasets get EuroSAT-small -p ."
   ]
  },
  {
   "cell_type": "markdown",
   "metadata": {},
   "source": [
    "You can choose a particular version to download with the `--version` argument. If you don't specify a version, the latest version will be downloaded."
   ]
  },
  {
   "cell_type": "code",
   "execution_count": 11,
   "metadata": {},
   "outputs": [
    {
     "name": "stdout",
     "output_type": "stream",
     "text": [
      "Dataset `EuroSAT-small v1` already exists at ./EuroSAT-small/v1. To force download, use force=True or -f in the CLI.\n"
     ]
    }
   ],
   "source": [
    "!eotdl datasets get EuroSAT-small -p . -v 1"
   ]
  },
  {
   "cell_type": "markdown",
   "metadata": {},
   "source": [
    "The version number will be used to create a folder with the same name inside the path you specified. Inside this folder you will find the dataset files.\n",
    "\n",
    "If you try to re-download a datasets, the CLI will complain. You can force a re-download with the `--force` argument."
   ]
  },
  {
   "cell_type": "code",
   "execution_count": 12,
   "metadata": {},
   "outputs": [
    {
     "name": "stdout",
     "output_type": "stream",
     "text": [
      "Dataset `EuroSAT-small v1` already exists at ./EuroSAT-small/v1. To force download, use force=True or -f in the CLI.\n"
     ]
    }
   ],
   "source": [
    "!eotdl datasets get EuroSAT-small -p . -v 1"
   ]
  },
  {
   "cell_type": "code",
   "execution_count": 13,
   "metadata": {},
   "outputs": [
    {
     "name": "stdout",
     "output_type": "stream",
     "text": [
      "100%|███████████████████████████████████████████| 6/6 [00:01<00:00,  3.42file/s]\n",
      "Data available at ./EuroSAT-small/v1/AnnualCrop\n"
     ]
    }
   ],
   "source": [
    "!eotdl datasets get EuroSAT-small -p . -v 1 -f"
   ]
  },
  {
   "cell_type": "markdown",
   "metadata": {},
   "source": [
    "We will explore the rest of the options when working with Q1+ datasets."
   ]
  },
  {
   "cell_type": "markdown",
   "metadata": {},
   "source": [
    "## The Library"
   ]
  },
  {
   "cell_type": "markdown",
   "metadata": {},
   "source": [
    "Everything that we have done so far with the CLI is also enabled through the Python library. When installing the CLI, the library is automatically installed as well."
   ]
  },
  {
   "cell_type": "code",
   "execution_count": 14,
   "metadata": {},
   "outputs": [
    {
     "data": {
      "text/plain": [
       "'2023.10.24-4'"
      ]
     },
     "execution_count": 14,
     "metadata": {},
     "output_type": "execute_result"
    }
   ],
   "source": [
    "import eotdl\n",
    "\n",
    "eotdl.__version__"
   ]
  },
  {
   "cell_type": "code",
   "execution_count": 17,
   "metadata": {},
   "outputs": [
    {
     "data": {
      "text/plain": [
       "35"
      ]
     },
     "execution_count": 17,
     "metadata": {},
     "output_type": "execute_result"
    }
   ],
   "source": [
    "from eotdl.datasets import retrieve_datasets\n",
    "\n",
    "datasets = retrieve_datasets()\n",
    "len(datasets)"
   ]
  },
  {
   "cell_type": "code",
   "execution_count": 18,
   "metadata": {},
   "outputs": [
    {
     "data": {
      "text/plain": [
       "['EuroSAT-RGB',\n",
       " 'EuroSAT',\n",
       " 'EuroSAT-RGB-STAC',\n",
       " 'EuroSAT-STAC',\n",
       " 'eurosat-rgb',\n",
       " 'eurosat-rgb-q2',\n",
       " 'EuroSAT-small']"
      ]
     },
     "execution_count": 18,
     "metadata": {},
     "output_type": "execute_result"
    }
   ],
   "source": [
    "retrieve_datasets(\"eurosat\")"
   ]
  },
  {
   "cell_type": "markdown",
   "metadata": {},
   "source": [
    "With the library, you have full control over the datasets and models."
   ]
  },
  {
   "cell_type": "code",
   "execution_count": 23,
   "metadata": {},
   "outputs": [
    {
     "data": {
      "text/plain": [
       "['EuroSAT-RGB',\n",
       " 'EuroSAT',\n",
       " 'EuroSAT-RGB-STAC',\n",
       " 'EuroSAT-STAC',\n",
       " 'eurosat-rgb',\n",
       " 'eurosat-rgb-q2',\n",
       " 'EuroSAT-small']"
      ]
     },
     "execution_count": 23,
     "metadata": {},
     "output_type": "execute_result"
    }
   ],
   "source": [
    "[d for d in datasets if \"eurosat\" in d.lower()]"
   ]
  },
  {
   "cell_type": "markdown",
   "metadata": {},
   "source": [
    "You can download datasets as well, but now you will have to manage potential errors."
   ]
  },
  {
   "cell_type": "code",
   "execution_count": 24,
   "metadata": {},
   "outputs": [
    {
     "ename": "Exception",
     "evalue": "Dataset `EuroSAT-small v2` already exists at /home/juan/.cache/eotdl/datasets/EuroSAT-small/v2. To force download, use force=True or -f in the CLI.",
     "output_type": "error",
     "traceback": [
      "\u001b[0;31m---------------------------------------------------------------------------\u001b[0m",
      "\u001b[0;31mException\u001b[0m                                 Traceback (most recent call last)",
      "\u001b[1;32m/home/juan/Desktop/eotdl/tutorials/workshops/bids23/01_exploring_datasets_and_models..ipynb Cell 37\u001b[0m line \u001b[0;36m3\n\u001b[1;32m      <a href='vscode-notebook-cell://ssh-remote%2Bharley/home/juan/Desktop/eotdl/tutorials/workshops/bids23/01_exploring_datasets_and_models..ipynb#Y113sdnNjb2RlLXJlbW90ZQ%3D%3D?line=0'>1</a>\u001b[0m \u001b[39mfrom\u001b[39;00m \u001b[39meotdl\u001b[39;00m\u001b[39m.\u001b[39;00m\u001b[39mdatasets\u001b[39;00m \u001b[39mimport\u001b[39;00m download_dataset\n\u001b[0;32m----> <a href='vscode-notebook-cell://ssh-remote%2Bharley/home/juan/Desktop/eotdl/tutorials/workshops/bids23/01_exploring_datasets_and_models..ipynb#Y113sdnNjb2RlLXJlbW90ZQ%3D%3D?line=2'>3</a>\u001b[0m download_dataset(\u001b[39m\"\u001b[39;49m\u001b[39mEuroSAT-small\u001b[39;49m\u001b[39m\"\u001b[39;49m)\n",
      "File \u001b[0;32m~/miniconda3/envs/eotdl/lib/python3.8/site-packages/eotdl/auth/auth.py:46\u001b[0m, in \u001b[0;36mwith_auth.<locals>.wrapper\u001b[0;34m(*args, **kwargs)\u001b[0m\n\u001b[1;32m     44\u001b[0m \u001b[39mdef\u001b[39;00m \u001b[39mwrapper\u001b[39m(\u001b[39m*\u001b[39margs, \u001b[39m*\u001b[39m\u001b[39m*\u001b[39mkwargs):\n\u001b[1;32m     45\u001b[0m     user \u001b[39m=\u001b[39m auth()\n\u001b[0;32m---> 46\u001b[0m     \u001b[39mreturn\u001b[39;00m func(\u001b[39m*\u001b[39;49margs, \u001b[39m*\u001b[39;49m\u001b[39m*\u001b[39;49mkwargs, user\u001b[39m=\u001b[39;49muser)\n",
      "File \u001b[0;32m~/miniconda3/envs/eotdl/lib/python3.8/site-packages/eotdl/datasets/download.py:42\u001b[0m, in \u001b[0;36mdownload_dataset\u001b[0;34m(dataset_name, version, path, file, logger, assets, force, verbose, user)\u001b[0m\n\u001b[1;32m     40\u001b[0m \u001b[39mif\u001b[39;00m os\u001b[39m.\u001b[39mpath\u001b[39m.\u001b[39mexists(download_path) \u001b[39mand\u001b[39;00m \u001b[39mnot\u001b[39;00m force:\n\u001b[1;32m     41\u001b[0m     os\u001b[39m.\u001b[39mmakedirs(download_path, exist_ok\u001b[39m=\u001b[39m\u001b[39mTrue\u001b[39;00m)\n\u001b[0;32m---> 42\u001b[0m     \u001b[39mraise\u001b[39;00m \u001b[39mException\u001b[39;00m(\n\u001b[1;32m     43\u001b[0m         \u001b[39mf\u001b[39m\u001b[39m\"\u001b[39m\u001b[39mDataset `\u001b[39m\u001b[39m{\u001b[39;00mdataset[\u001b[39m'\u001b[39m\u001b[39mname\u001b[39m\u001b[39m'\u001b[39m]\u001b[39m}\u001b[39;00m\u001b[39m v\u001b[39m\u001b[39m{\u001b[39;00m\u001b[39mstr\u001b[39m(version)\u001b[39m}\u001b[39;00m\u001b[39m` already exists at \u001b[39m\u001b[39m{\u001b[39;00mdownload_path\u001b[39m}\u001b[39;00m\u001b[39m. To force download, use force=True or -f in the CLI.\u001b[39m\u001b[39m\"\u001b[39m\n\u001b[1;32m     44\u001b[0m     )\n\u001b[1;32m     45\u001b[0m \u001b[39mif\u001b[39;00m dataset[\u001b[39m\"\u001b[39m\u001b[39mquality\u001b[39m\u001b[39m\"\u001b[39m] \u001b[39m==\u001b[39m \u001b[39m0\u001b[39m:\n\u001b[1;32m     46\u001b[0m     \u001b[39mif\u001b[39;00m file:\n",
      "\u001b[0;31mException\u001b[0m: Dataset `EuroSAT-small v2` already exists at /home/juan/.cache/eotdl/datasets/EuroSAT-small/v2. To force download, use force=True or -f in the CLI."
     ]
    }
   ],
   "source": [
    "from eotdl.datasets import download_dataset\n",
    "\n",
    "download_dataset(\"EuroSAT-small\")"
   ]
  },
  {
   "cell_type": "code",
   "execution_count": 25,
   "metadata": {},
   "outputs": [
    {
     "name": "stderr",
     "output_type": "stream",
     "text": [
      "100%|██████████| 6/6 [00:01<00:00,  3.74file/s]\n"
     ]
    },
    {
     "data": {
      "text/plain": [
       "'/home/juan/.cache/eotdl/datasets/EuroSAT-small/v2/AnnualCrop'"
      ]
     },
     "execution_count": 25,
     "metadata": {},
     "output_type": "execute_result"
    }
   ],
   "source": [
    "download_dataset(\"EuroSAT-small\", force=True)"
   ]
  },
  {
   "cell_type": "markdown",
   "metadata": {},
   "source": [
    "In fact, the CLI is built on top of the library."
   ]
  },
  {
   "cell_type": "markdown",
   "metadata": {},
   "source": [
    "## The API"
   ]
  },
  {
   "cell_type": "markdown",
   "metadata": {},
   "source": []
  }
 ],
 "metadata": {
  "kernelspec": {
   "display_name": "eotdl",
   "language": "python",
   "name": "python3"
  },
  "language_info": {
   "codemirror_mode": {
    "name": "ipython",
    "version": 3
   },
   "file_extension": ".py",
   "mimetype": "text/x-python",
   "name": "python",
   "nbconvert_exporter": "python",
   "pygments_lexer": "ipython3",
   "version": "3.8.18"
  }
 },
 "nbformat": 4,
 "nbformat_minor": 2
}
