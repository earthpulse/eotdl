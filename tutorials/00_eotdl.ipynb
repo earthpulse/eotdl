{
 "cells": [
  {
   "attachments": {},
   "cell_type": "markdown",
   "metadata": {},
   "source": [
    "# Welcome to EOTDL"
   ]
  },
  {
   "attachments": {},
   "cell_type": "markdown",
   "metadata": {},
   "source": [
    "Welcome to the **Earth Observation Training Data Lab** (EOTDL), a complete environment that allows you, among other things, to:\n",
    "\n",
    "- Explore and download Training Datasets (TDS) for Earth Observation (EO) applications.\n",
    "- Create and upload your own TDS by combining and annotating EO data from different sources.\n",
    "- Train Machine Learning (ML) models using the hosted TDS in the cloud with multi-GPU machines.\n",
    "- Explore and download pre-trianed ML models for EO applications.\n",
    "\n",
    "In our blog you will find tutorials to learn how leverage the EOTDL to create and use TDS and ML models for your own EO applications."
   ]
  },
  {
   "attachments": {},
   "cell_type": "markdown",
   "metadata": {},
   "source": [
    "## Why EOTDL ?"
   ]
  },
  {
   "attachments": {},
   "cell_type": "markdown",
   "metadata": {},
   "source": [
    "One of the most limiting factors of AI for EO applications is the scarcity of suitable and accessible Training Datasets (TDS). As the name suggests, TDS are used to train an AI model to perform a specific task. Currently, the main barrier is that gathering and labelling EO data is a convoluted process. Some techniques exist that can help alleviate this issue, for example transfer learning or unsupervised learning, but annotated data is always required for fine-tuning and final validation of AI models.\n",
    "\n",
    "Generating TDS is time consuming and expensive. Data access is usually limited and costly, especially for Very High Resolution (VHR) images that allow objects like trees to be clearly identified. In some cases, domain experts or even in-person (in-situ) trips are required to manually confirm the objects in a satellite image are correctly annotated with a high degree of quality. This results in the field of AI for EO applications lagging when compared to other fields, impeding the development of new applications and limiting the full potential of AI in EO.\n",
    "\n",
    "The European Space Agency (ESA) Earth Observation Training Data Lab (EOTDL) will address key limitations and capability gaps for working with Machine Learning (ML) training data in EO by providing a set of open-source tools to create, share, and improve datasets as well as training ML algorithms in the cloud. EOTDL will also offer an online repository where datasets and models can be explored and accessed."
   ]
  },
  {
   "attachments": {},
   "cell_type": "markdown",
   "metadata": {},
   "source": [
    "## Getting involved"
   ]
  },
  {
   "attachments": {},
   "cell_type": "markdown",
   "metadata": {},
   "source": [
    "### Github repository\n",
    "\n",
    "EOTDL is an open-source project. You can find the code in our [Github](https://github.com/earthpulse/eotdl) repository. There you will be able to track the progress and instructions for [Contributing](https://github.com/earthpulse/eotdl/blob/main/CONTRIBUTING.md)."
   ]
  },
  {
   "attachments": {},
   "cell_type": "markdown",
   "metadata": {},
   "source": [
    "### Discord server"
   ]
  },
  {
   "attachments": {},
   "cell_type": "markdown",
   "metadata": {},
   "source": [
    "To get in touch with the team and other users, join our [Discord](https://discord.gg/hYxc5AJB92) server. There you will be able to ask questions, share your feedback and get involved in the platform evolution."
   ]
  },
  {
   "attachments": {},
   "cell_type": "markdown",
   "metadata": {},
   "source": [
    "## Getting started"
   ]
  },
  {
   "attachments": {},
   "cell_type": "markdown",
   "metadata": {},
   "source": [
    "In this section you will learn the basics of EOTDL and how to install the different components. To know more, check the [documentation](/docs)."
   ]
  },
  {
   "attachments": {},
   "cell_type": "markdown",
   "metadata": {},
   "source": [
    "### The EOTDL ecosystem"
   ]
  },
  {
   "attachments": {},
   "cell_type": "markdown",
   "metadata": {},
   "source": [
    "The EOTDL is composed by a set of libraries, user interfaces, command line tools, and APIs. \n",
    "\n",
    "You can install the CLI using pip.\n",
    "\n",
    "```\n",
    "pip install eotdl-cli\n",
    "````\n",
    "\n",
    "To verify the installation you can run the help command, which will give you a list of all the available commands in the CLI.\n",
    "\n",
    "```\n",
    "eotdl-cli --help\n",
    "```\n",
    "\n",
    "You can install the library using pip.\n",
    "\n",
    "```\n",
    "pip install eotdl\n",
    "```\n",
    "\n",
    "You don’t have to install anything to interact with user interfaces or the API.\n",
    "\n",
    "Our API offers an interactive [documentation](https://api.eotdl.com/docs) that can be used to explore the different endpoints and test them."
   ]
  },
  {
   "attachments": {},
   "cell_type": "markdown",
   "metadata": {},
   "source": [
    "### Authenticate"
   ]
  },
  {
   "attachments": {},
   "cell_type": "markdown",
   "metadata": {},
   "source": [
    "Some of the operations within EOTDL require authentication. Learn how to authenticate in the [documentation](/docs/getting-started/authenticate).\n",
    "\n"
   ]
  },
  {
   "attachments": {},
   "cell_type": "markdown",
   "metadata": {},
   "source": [
    "### Training Datasets"
   ]
  },
  {
   "attachments": {},
   "cell_type": "markdown",
   "metadata": {},
   "source": [
    "The main feature that EOTDL offers is a repository of Training Datasets (TDS). Users can explore available datasets and download them for training ML models, for example."
   ]
  },
  {
   "attachments": {},
   "cell_type": "markdown",
   "metadata": {},
   "source": [
    "### Quality Levels"
   ]
  },
  {
   "attachments": {},
   "cell_type": "markdown",
   "metadata": {},
   "source": [
    "The datasets hosted on the EOTDL are categorized into for quality levels:\n",
    "\n",
    "- **Q0**: raw datasets in the form of a compressed archive without any metadata. This level is ideal for easy and fast upload/download of small datasets.\n",
    "- **Q1**: datasets with STAC metadata and cloud-optimized data and no QA. These datasets can leverage a limited set of EOTDL features.\n",
    "- **Q2**: datasets with STAC metadata with the EOTDL custom extensions and automated QA. These datasets can leverage the full potential of the EOTDL.\n",
    "- **Q3**: Q2 datasets that are manually curated. These datasets are the most reliable and can be used as benchmark datasets for training machine learning models.\n",
    "\n",
    "EOTDL offers functionality to easily create datasets and perform automated quality checks on Q1+ datasets, which metrics are reported in the STAC metadata."
   ]
  },
  {
   "attachments": {},
   "cell_type": "markdown",
   "metadata": {},
   "source": [
    "## Next steps"
   ]
  },
  {
   "attachments": {},
   "cell_type": "markdown",
   "metadata": {},
   "source": [
    "Check our next post to start working with Q0 datasets."
   ]
  }
 ],
 "metadata": {
  "language_info": {
   "name": "python"
  },
  "orig_nbformat": 4
 },
 "nbformat": 4,
 "nbformat_minor": 2
}
