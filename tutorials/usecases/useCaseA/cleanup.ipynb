{
 "cells": [
  {
   "cell_type": "code",
   "execution_count": 2,
   "metadata": {},
   "outputs": [
    {
     "data": {
      "text/plain": [
       "298376"
      ]
     },
     "execution_count": 2,
     "metadata": {},
     "output_type": "execute_result"
    }
   ],
   "source": [
    "from glob import glob\n",
    "\n",
    "path = '/fastdata/Satellogic/data/tifs/satellogic'\n",
    "\n",
    "images = glob(f'{path}/*.tif')\n",
    "\n",
    "len(images)"
   ]
  },
  {
   "cell_type": "code",
   "execution_count": 3,
   "metadata": {},
   "outputs": [
    {
     "name": "stderr",
     "output_type": "stream",
     "text": [
      "100%|██████████| 298376/298376 [05:32<00:00, 898.53it/s]\n"
     ]
    },
    {
     "data": {
      "text/plain": [
       "8"
      ]
     },
     "execution_count": 3,
     "metadata": {},
     "output_type": "execute_result"
    }
   ],
   "source": [
    "from tqdm import tqdm\n",
    "import rasterio as rio\n",
    "from concurrent.futures import ProcessPoolExecutor, as_completed\n",
    "\n",
    "def check_image(image):\n",
    "    try:\n",
    "        rio.open(image).read((1,2,3))\n",
    "        return None\n",
    "    except Exception as e:\n",
    "        return image\n",
    "\n",
    "errors = []\n",
    "with ProcessPoolExecutor(max_workers=10) as executor:\n",
    "    # Submit all tasks\n",
    "    future_to_image = {executor.submit(check_image, image): image for image in images}\n",
    "    \n",
    "    # Process completed tasks with progress bar\n",
    "    for future in tqdm(as_completed(future_to_image), total=len(images)):\n",
    "        result = future.result()\n",
    "        if result is not None:\n",
    "            errors.append(result)\n",
    "\n",
    "len(errors)\n"
   ]
  },
  {
   "cell_type": "code",
   "execution_count": 5,
   "metadata": {},
   "outputs": [
    {
     "data": {
      "text/plain": [
       "['/fastdata/Satellogic/data/tifs/satellogic/20221028_183042_SN18_11N_389109_3758823_TOA.tif',\n",
       " '/fastdata/Satellogic/data/tifs/satellogic/20221103_182524_SN9_11N_399093_3746151_TOA.tif',\n",
       " '/fastdata/Satellogic/data/tifs/satellogic/20220925_185425_SN24_11N_493044_3632196_TOA.tif',\n",
       " '/fastdata/Satellogic/data/tifs/satellogic/20220823_222648_SN20_11N_387573_3734247_TOA.tif',\n",
       " '/fastdata/Satellogic/data/tifs/satellogic/20220707_184429_SN16_11N_314898_4523501_TOA.tif',\n",
       " '/fastdata/Satellogic/data/tifs/satellogic/20220826_222628_SN20_11N_387189_3743079_TOA.tif',\n",
       " '/fastdata/Satellogic/data/tifs/satellogic/20220809_181857_SN9_11N_389627_3740498_TOA.tif',\n",
       " '/fastdata/Satellogic/data/tifs/satellogic/20221106_191522_SN24_11N_380795_3786578_TOA.tif']"
      ]
     },
     "execution_count": 5,
     "metadata": {},
     "output_type": "execute_result"
    }
   ],
   "source": [
    "errors"
   ]
  },
  {
   "cell_type": "code",
   "execution_count": 7,
   "metadata": {},
   "outputs": [],
   "source": [
    "import os\n",
    "import shutil\n",
    "\n",
    "os.makedirs('/fastdata/Satellogic/data/tifs/satellogic_errors', exist_ok=True)\n",
    "\n",
    "for error in errors:\n",
    "    shutil.move(error, f'/fastdata/Satellogic/data/tifs/satellogic_errors/{error.split(\"/\")[-1]}')"
   ]
  }
 ],
 "metadata": {
  "kernelspec": {
   "display_name": ".venv",
   "language": "python",
   "name": "python3"
  },
  "language_info": {
   "codemirror_mode": {
    "name": "ipython",
    "version": 3
   },
   "file_extension": ".py",
   "mimetype": "text/x-python",
   "name": "python",
   "nbconvert_exporter": "python",
   "pygments_lexer": "ipython3",
   "version": "3.12.7"
  }
 },
 "nbformat": 4,
 "nbformat_minor": 2
}
