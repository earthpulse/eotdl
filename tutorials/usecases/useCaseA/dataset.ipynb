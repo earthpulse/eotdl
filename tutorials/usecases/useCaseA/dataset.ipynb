{
 "cells": [
  {
   "cell_type": "raw",
   "metadata": {},
   "source": [
    "%load_ext autoreload\n",
    "%autoreload 2"
   ]
  },
  {
   "cell_type": "code",
   "metadata": {
    "ExecuteTime": {
     "end_time": "2025-05-21T13:09:03.754888Z",
     "start_time": "2025-05-21T13:09:03.750444Z"
    }
   },
   "source": "import eotdl\n",
   "outputs": [],
   "execution_count": 2
  },
  {
   "cell_type": "markdown",
   "metadata": {},
   "source": [
    "In this notebook we generate the dataset for the use case\n",
    "\n",
    "1. Generate list of Satellogic images to be used (containing bb and acquisition time)\n",
    "2. Explore available S1/S2 images with different criteria\n",
    "\t- bounding box overlap\n",
    "\t- acquisition time overlap\n",
    "3. Download matching S1/S2 at given resolution\n",
    "4. Generate metadata and ingest to EOTDL "
   ]
  },
  {
   "cell_type": "code",
   "metadata": {
    "ExecuteTime": {
     "end_time": "2025-05-21T13:09:36.164559Z",
     "start_time": "2025-05-21T13:09:36.087933Z"
    }
   },
   "source": [
    "import geopandas as gpd\n",
    "\n",
    "# gdf = gpd.read_parquet('/fastdata/Satellogic/data/satellogic-earthview-items.parquet')\n",
    "gdf = gpd.read_parquet('~/DeLocal_Data/satellogic-earthview-items-with-matches.parquet')\n",
    "# json_path, zone, region, date, geometry, matches\n",
    "# json_path, zone, region, date, geometry\n",
    "gdf.head()\n"
   ],
   "outputs": [
    {
     "ename": "FileNotFoundError",
     "evalue": "[Errno 2] Failed to open local file '/Users/benastahl/DeLocal_Data/satellogic-earthview-items-with-matches.parquet'. Detail: [errno 2] No such file or directory",
     "output_type": "error",
     "traceback": [
      "\u001B[31m---------------------------------------------------------------------------\u001B[39m",
      "\u001B[31mFileNotFoundError\u001B[39m                         Traceback (most recent call last)",
      "\u001B[36mFile \u001B[39m\u001B[32m~/PycharmProjects/EarthPulse/eotdl/.venv/lib/python3.13/site-packages/geopandas/io/arrow.py:653\u001B[39m, in \u001B[36m_read_parquet_schema_and_metadata\u001B[39m\u001B[34m(path, filesystem)\u001B[39m\n\u001B[32m    652\u001B[39m \u001B[38;5;28;01mtry\u001B[39;00m:\n\u001B[32m--> \u001B[39m\u001B[32m653\u001B[39m     schema = \u001B[43mparquet\u001B[49m\u001B[43m.\u001B[49m\u001B[43mParquetDataset\u001B[49m\u001B[43m(\u001B[49m\u001B[43mpath\u001B[49m\u001B[43m,\u001B[49m\u001B[43m \u001B[49m\u001B[43mfilesystem\u001B[49m\u001B[43m=\u001B[49m\u001B[43mfilesystem\u001B[49m\u001B[43m,\u001B[49m\u001B[43m \u001B[49m\u001B[43m*\u001B[49m\u001B[43m*\u001B[49m\u001B[43mkwargs\u001B[49m\u001B[43m)\u001B[49m.schema\n\u001B[32m    654\u001B[39m \u001B[38;5;28;01mexcept\u001B[39;00m \u001B[38;5;167;01mException\u001B[39;00m:\n",
      "\u001B[36mFile \u001B[39m\u001B[32m~/PycharmProjects/EarthPulse/eotdl/.venv/lib/python3.13/site-packages/pyarrow/parquet/core.py:1361\u001B[39m, in \u001B[36mParquetDataset.__init__\u001B[39m\u001B[34m(self, path_or_paths, filesystem, schema, filters, read_dictionary, memory_map, buffer_size, partitioning, ignore_prefixes, pre_buffer, coerce_int96_timestamp_unit, decryption_properties, thrift_string_size_limit, thrift_container_size_limit, page_checksum_verification)\u001B[39m\n\u001B[32m   1358\u001B[39m     partitioning = ds.HivePartitioning.discover(\n\u001B[32m   1359\u001B[39m         infer_dictionary=\u001B[38;5;28;01mTrue\u001B[39;00m)\n\u001B[32m-> \u001B[39m\u001B[32m1361\u001B[39m \u001B[38;5;28mself\u001B[39m._dataset = \u001B[43mds\u001B[49m\u001B[43m.\u001B[49m\u001B[43mdataset\u001B[49m\u001B[43m(\u001B[49m\u001B[43mpath_or_paths\u001B[49m\u001B[43m,\u001B[49m\u001B[43m \u001B[49m\u001B[43mfilesystem\u001B[49m\u001B[43m=\u001B[49m\u001B[43mfilesystem\u001B[49m\u001B[43m,\u001B[49m\n\u001B[32m   1362\u001B[39m \u001B[43m                           \u001B[49m\u001B[43mschema\u001B[49m\u001B[43m=\u001B[49m\u001B[43mschema\u001B[49m\u001B[43m,\u001B[49m\u001B[43m \u001B[49m\u001B[38;5;28;43mformat\u001B[39;49m\u001B[43m=\u001B[49m\u001B[43mparquet_format\u001B[49m\u001B[43m,\u001B[49m\n\u001B[32m   1363\u001B[39m \u001B[43m                           \u001B[49m\u001B[43mpartitioning\u001B[49m\u001B[43m=\u001B[49m\u001B[43mpartitioning\u001B[49m\u001B[43m,\u001B[49m\n\u001B[32m   1364\u001B[39m \u001B[43m                           \u001B[49m\u001B[43mignore_prefixes\u001B[49m\u001B[43m=\u001B[49m\u001B[43mignore_prefixes\u001B[49m\u001B[43m)\u001B[49m\n",
      "\u001B[36mFile \u001B[39m\u001B[32m~/PycharmProjects/EarthPulse/eotdl/.venv/lib/python3.13/site-packages/pyarrow/dataset.py:794\u001B[39m, in \u001B[36mdataset\u001B[39m\u001B[34m(source, schema, format, filesystem, partitioning, partition_base_dir, exclude_invalid_files, ignore_prefixes)\u001B[39m\n\u001B[32m    793\u001B[39m \u001B[38;5;28;01mif\u001B[39;00m _is_path_like(source):\n\u001B[32m--> \u001B[39m\u001B[32m794\u001B[39m     \u001B[38;5;28;01mreturn\u001B[39;00m \u001B[43m_filesystem_dataset\u001B[49m\u001B[43m(\u001B[49m\u001B[43msource\u001B[49m\u001B[43m,\u001B[49m\u001B[43m \u001B[49m\u001B[43m*\u001B[49m\u001B[43m*\u001B[49m\u001B[43mkwargs\u001B[49m\u001B[43m)\u001B[49m\n\u001B[32m    795\u001B[39m \u001B[38;5;28;01melif\u001B[39;00m \u001B[38;5;28misinstance\u001B[39m(source, (\u001B[38;5;28mtuple\u001B[39m, \u001B[38;5;28mlist\u001B[39m)):\n",
      "\u001B[36mFile \u001B[39m\u001B[32m~/PycharmProjects/EarthPulse/eotdl/.venv/lib/python3.13/site-packages/pyarrow/dataset.py:476\u001B[39m, in \u001B[36m_filesystem_dataset\u001B[39m\u001B[34m(source, schema, filesystem, partitioning, format, partition_base_dir, exclude_invalid_files, selector_ignore_prefixes)\u001B[39m\n\u001B[32m    475\u001B[39m \u001B[38;5;28;01melse\u001B[39;00m:\n\u001B[32m--> \u001B[39m\u001B[32m476\u001B[39m     fs, paths_or_selector = \u001B[43m_ensure_single_source\u001B[49m\u001B[43m(\u001B[49m\u001B[43msource\u001B[49m\u001B[43m,\u001B[49m\u001B[43m \u001B[49m\u001B[43mfilesystem\u001B[49m\u001B[43m)\u001B[49m\n\u001B[32m    478\u001B[39m options = FileSystemFactoryOptions(\n\u001B[32m    479\u001B[39m     partitioning=partitioning,\n\u001B[32m    480\u001B[39m     partition_base_dir=partition_base_dir,\n\u001B[32m    481\u001B[39m     exclude_invalid_files=exclude_invalid_files,\n\u001B[32m    482\u001B[39m     selector_ignore_prefixes=selector_ignore_prefixes\n\u001B[32m    483\u001B[39m )\n",
      "\u001B[36mFile \u001B[39m\u001B[32m~/PycharmProjects/EarthPulse/eotdl/.venv/lib/python3.13/site-packages/pyarrow/dataset.py:441\u001B[39m, in \u001B[36m_ensure_single_source\u001B[39m\u001B[34m(path, filesystem)\u001B[39m\n\u001B[32m    440\u001B[39m \u001B[38;5;28;01melse\u001B[39;00m:\n\u001B[32m--> \u001B[39m\u001B[32m441\u001B[39m     \u001B[38;5;28;01mraise\u001B[39;00m \u001B[38;5;167;01mFileNotFoundError\u001B[39;00m(path)\n\u001B[32m    443\u001B[39m \u001B[38;5;28;01mreturn\u001B[39;00m filesystem, paths_or_selector\n",
      "\u001B[31mFileNotFoundError\u001B[39m: /Users/benastahl/DeLocal_Data/satellogic-earthview-items-with-matches.parquet",
      "\nDuring handling of the above exception, another exception occurred:\n",
      "\u001B[31mFileNotFoundError\u001B[39m                         Traceback (most recent call last)",
      "\u001B[36mCell\u001B[39m\u001B[36m \u001B[39m\u001B[32mIn[3]\u001B[39m\u001B[32m, line 4\u001B[39m\n\u001B[32m      1\u001B[39m \u001B[38;5;28;01mimport\u001B[39;00m\u001B[38;5;250m \u001B[39m\u001B[34;01mgeopandas\u001B[39;00m\u001B[38;5;250m \u001B[39m\u001B[38;5;28;01mas\u001B[39;00m\u001B[38;5;250m \u001B[39m\u001B[34;01mgpd\u001B[39;00m\n\u001B[32m      3\u001B[39m \u001B[38;5;66;03m# gdf = gpd.read_parquet('/fastdata/Satellogic/data/satellogic-earthview-items.parquet')\u001B[39;00m\n\u001B[32m----> \u001B[39m\u001B[32m4\u001B[39m gdf = \u001B[43mgpd\u001B[49m\u001B[43m.\u001B[49m\u001B[43mread_parquet\u001B[49m\u001B[43m(\u001B[49m\u001B[33;43m'\u001B[39;49m\u001B[33;43m~/DeLocal_Data/satellogic-earthview-items-with-matches.parquet\u001B[39;49m\u001B[33;43m'\u001B[39;49m\u001B[43m)\u001B[49m\n\u001B[32m      5\u001B[39m \u001B[38;5;66;03m# json_path, zone, region, date, geometry, matches\u001B[39;00m\n\u001B[32m      6\u001B[39m \u001B[38;5;66;03m# json_path, zone, region, date, geometry\u001B[39;00m\n\u001B[32m      7\u001B[39m gdf.head()\n",
      "\u001B[36mFile \u001B[39m\u001B[32m~/PycharmProjects/EarthPulse/eotdl/.venv/lib/python3.13/site-packages/geopandas/io/arrow.py:751\u001B[39m, in \u001B[36m_read_parquet\u001B[39m\u001B[34m(path, columns, storage_options, bbox, **kwargs)\u001B[39m\n\u001B[32m    747\u001B[39m filesystem, path = _get_filesystem_path(\n\u001B[32m    748\u001B[39m     path, filesystem=filesystem, storage_options=storage_options\n\u001B[32m    749\u001B[39m )\n\u001B[32m    750\u001B[39m path = _expand_user(path)\n\u001B[32m--> \u001B[39m\u001B[32m751\u001B[39m schema, metadata = \u001B[43m_read_parquet_schema_and_metadata\u001B[49m\u001B[43m(\u001B[49m\u001B[43mpath\u001B[49m\u001B[43m,\u001B[49m\u001B[43m \u001B[49m\u001B[43mfilesystem\u001B[49m\u001B[43m)\u001B[49m\n\u001B[32m    753\u001B[39m geo_metadata = _validate_and_decode_metadata(metadata)\n\u001B[32m    755\u001B[39m bbox_filter = (\n\u001B[32m    756\u001B[39m     _get_parquet_bbox_filter(geo_metadata, bbox) \u001B[38;5;28;01mif\u001B[39;00m bbox \u001B[38;5;129;01mis\u001B[39;00m \u001B[38;5;129;01mnot\u001B[39;00m \u001B[38;5;28;01mNone\u001B[39;00m \u001B[38;5;28;01melse\u001B[39;00m \u001B[38;5;28;01mNone\u001B[39;00m\n\u001B[32m    757\u001B[39m )\n",
      "\u001B[36mFile \u001B[39m\u001B[32m~/PycharmProjects/EarthPulse/eotdl/.venv/lib/python3.13/site-packages/geopandas/io/arrow.py:655\u001B[39m, in \u001B[36m_read_parquet_schema_and_metadata\u001B[39m\u001B[34m(path, filesystem)\u001B[39m\n\u001B[32m    653\u001B[39m     schema = parquet.ParquetDataset(path, filesystem=filesystem, **kwargs).schema\n\u001B[32m    654\u001B[39m \u001B[38;5;28;01mexcept\u001B[39;00m \u001B[38;5;167;01mException\u001B[39;00m:\n\u001B[32m--> \u001B[39m\u001B[32m655\u001B[39m     schema = \u001B[43mparquet\u001B[49m\u001B[43m.\u001B[49m\u001B[43mread_schema\u001B[49m\u001B[43m(\u001B[49m\u001B[43mpath\u001B[49m\u001B[43m,\u001B[49m\u001B[43m \u001B[49m\u001B[43mfilesystem\u001B[49m\u001B[43m=\u001B[49m\u001B[43mfilesystem\u001B[49m\u001B[43m)\u001B[49m\n\u001B[32m    657\u001B[39m metadata = schema.metadata\n\u001B[32m    659\u001B[39m \u001B[38;5;66;03m# read metadata separately to get the raw Parquet FileMetaData metadata\u001B[39;00m\n\u001B[32m    660\u001B[39m \u001B[38;5;66;03m# (pyarrow doesn't properly exposes those in schema.metadata for files\u001B[39;00m\n\u001B[32m    661\u001B[39m \u001B[38;5;66;03m# created by GDAL - https://issues.apache.org/jira/browse/ARROW-16688)\u001B[39;00m\n",
      "\u001B[36mFile \u001B[39m\u001B[32m~/PycharmProjects/EarthPulse/eotdl/.venv/lib/python3.13/site-packages/pyarrow/parquet/core.py:2314\u001B[39m, in \u001B[36mread_schema\u001B[39m\u001B[34m(where, memory_map, decryption_properties, filesystem)\u001B[39m\n\u001B[32m   2312\u001B[39m file_ctx = nullcontext()\n\u001B[32m   2313\u001B[39m \u001B[38;5;28;01mif\u001B[39;00m filesystem \u001B[38;5;129;01mis\u001B[39;00m \u001B[38;5;129;01mnot\u001B[39;00m \u001B[38;5;28;01mNone\u001B[39;00m:\n\u001B[32m-> \u001B[39m\u001B[32m2314\u001B[39m     file_ctx = where = \u001B[43mfilesystem\u001B[49m\u001B[43m.\u001B[49m\u001B[43mopen_input_file\u001B[49m\u001B[43m(\u001B[49m\u001B[43mwhere\u001B[49m\u001B[43m)\u001B[49m\n\u001B[32m   2316\u001B[39m \u001B[38;5;28;01mwith\u001B[39;00m file_ctx:\n\u001B[32m   2317\u001B[39m     file = ParquetFile(\n\u001B[32m   2318\u001B[39m         where, memory_map=memory_map,\n\u001B[32m   2319\u001B[39m         decryption_properties=decryption_properties)\n",
      "\u001B[36mFile \u001B[39m\u001B[32m~/PycharmProjects/EarthPulse/eotdl/.venv/lib/python3.13/site-packages/pyarrow/_fs.pyx:787\u001B[39m, in \u001B[36mpyarrow._fs.FileSystem.open_input_file\u001B[39m\u001B[34m()\u001B[39m\n",
      "\u001B[36mFile \u001B[39m\u001B[32m~/PycharmProjects/EarthPulse/eotdl/.venv/lib/python3.13/site-packages/pyarrow/error.pxi:155\u001B[39m, in \u001B[36mpyarrow.lib.pyarrow_internal_check_status\u001B[39m\u001B[34m()\u001B[39m\n",
      "\u001B[36mFile \u001B[39m\u001B[32m~/PycharmProjects/EarthPulse/eotdl/.venv/lib/python3.13/site-packages/pyarrow/error.pxi:92\u001B[39m, in \u001B[36mpyarrow.lib.check_status\u001B[39m\u001B[34m()\u001B[39m\n",
      "\u001B[31mFileNotFoundError\u001B[39m: [Errno 2] Failed to open local file '/Users/benastahl/DeLocal_Data/satellogic-earthview-items-with-matches.parquet'. Detail: [errno 2] No such file or directory"
     ]
    }
   ],
   "execution_count": 3
  },
  {
   "cell_type": "code",
   "metadata": {
    "ExecuteTime": {
     "end_time": "2025-05-21T13:09:41.300012Z",
     "start_time": "2025-05-21T13:09:41.284005Z"
    }
   },
   "source": [
    "gdf.shape"
   ],
   "outputs": [
    {
     "ename": "NameError",
     "evalue": "name 'gdf' is not defined",
     "output_type": "error",
     "traceback": [
      "\u001B[31m---------------------------------------------------------------------------\u001B[39m",
      "\u001B[31mNameError\u001B[39m                                 Traceback (most recent call last)",
      "\u001B[36mCell\u001B[39m\u001B[36m \u001B[39m\u001B[32mIn[4]\u001B[39m\u001B[32m, line 1\u001B[39m\n\u001B[32m----> \u001B[39m\u001B[32m1\u001B[39m \u001B[43mgdf\u001B[49m.shape\n",
      "\u001B[31mNameError\u001B[39m: name 'gdf' is not defined"
     ]
    }
   ],
   "execution_count": 4
  },
  {
   "cell_type": "code",
   "metadata": {
    "ExecuteTime": {
     "end_time": "2025-05-21T13:09:41.805029Z",
     "start_time": "2025-05-21T13:09:41.788118Z"
    }
   },
   "source": [
    "gdf['num_matches'] = gdf.matches.apply(len)\n",
    "gdf['num_matches'].value_counts()"
   ],
   "outputs": [
    {
     "ename": "NameError",
     "evalue": "name 'gdf' is not defined",
     "output_type": "error",
     "traceback": [
      "\u001B[31m---------------------------------------------------------------------------\u001B[39m",
      "\u001B[31mNameError\u001B[39m                                 Traceback (most recent call last)",
      "\u001B[36mCell\u001B[39m\u001B[36m \u001B[39m\u001B[32mIn[5]\u001B[39m\u001B[32m, line 1\u001B[39m\n\u001B[32m----> \u001B[39m\u001B[32m1\u001B[39m gdf[\u001B[33m'\u001B[39m\u001B[33mnum_matches\u001B[39m\u001B[33m'\u001B[39m] = \u001B[43mgdf\u001B[49m.matches.apply(\u001B[38;5;28mlen\u001B[39m)\n\u001B[32m      2\u001B[39m gdf[\u001B[33m'\u001B[39m\u001B[33mnum_matches\u001B[39m\u001B[33m'\u001B[39m].value_counts()\n",
      "\u001B[31mNameError\u001B[39m: name 'gdf' is not defined"
     ]
    }
   ],
   "execution_count": 5
  },
  {
   "cell_type": "code",
   "metadata": {
    "ExecuteTime": {
     "end_time": "2025-05-21T13:09:43.290347Z",
     "start_time": "2025-05-21T13:09:43.272691Z"
    }
   },
   "source": [
    "gdf['matches'].sample(1).values"
   ],
   "outputs": [
    {
     "ename": "NameError",
     "evalue": "name 'gdf' is not defined",
     "output_type": "error",
     "traceback": [
      "\u001B[31m---------------------------------------------------------------------------\u001B[39m",
      "\u001B[31mNameError\u001B[39m                                 Traceback (most recent call last)",
      "\u001B[36mCell\u001B[39m\u001B[36m \u001B[39m\u001B[32mIn[6]\u001B[39m\u001B[32m, line 1\u001B[39m\n\u001B[32m----> \u001B[39m\u001B[32m1\u001B[39m \u001B[43mgdf\u001B[49m[\u001B[33m'\u001B[39m\u001B[33mmatches\u001B[39m\u001B[33m'\u001B[39m].sample(\u001B[32m1\u001B[39m).values\n",
      "\u001B[31mNameError\u001B[39m: name 'gdf' is not defined"
     ]
    }
   ],
   "execution_count": 6
  },
  {
   "cell_type": "code",
   "metadata": {
    "ExecuteTime": {
     "end_time": "2025-05-21T13:09:44.041300Z",
     "start_time": "2025-05-21T13:09:44.020068Z"
    }
   },
   "source": [
    "sample =  gdf.sample(1)\n",
    "\n",
    "results = sample.matches.values\n",
    "\n",
    "print(results[0])"
   ],
   "outputs": [
    {
     "ename": "NameError",
     "evalue": "name 'gdf' is not defined",
     "output_type": "error",
     "traceback": [
      "\u001B[31m---------------------------------------------------------------------------\u001B[39m",
      "\u001B[31mNameError\u001B[39m                                 Traceback (most recent call last)",
      "\u001B[36mCell\u001B[39m\u001B[36m \u001B[39m\u001B[32mIn[7]\u001B[39m\u001B[32m, line 1\u001B[39m\n\u001B[32m----> \u001B[39m\u001B[32m1\u001B[39m sample =  \u001B[43mgdf\u001B[49m.sample(\u001B[32m1\u001B[39m)\n\u001B[32m      3\u001B[39m results = sample.matches.values\n\u001B[32m      5\u001B[39m \u001B[38;5;28mprint\u001B[39m(results[\u001B[32m0\u001B[39m])\n",
      "\u001B[31mNameError\u001B[39m: name 'gdf' is not defined"
     ]
    }
   ],
   "execution_count": 7
  },
  {
   "cell_type": "code",
   "metadata": {
    "ExecuteTime": {
     "end_time": "2025-05-21T13:10:30.771971Z",
     "start_time": "2025-05-21T13:10:30.688068Z"
    }
   },
   "source": [
    "from datetime import datetime\n",
    "import json\n",
    "from pathlib import Path\n",
    "import requests\n",
    "from eotdl.tools import bbox_from_centroid\n",
    "from eotdl.access import download_sentinel_imagery\n",
    "from dataset import download_images, get_closest_match\n",
    "from download_images import download_sat_image, download_sentinel_image\n",
    "import shutil\n",
    "import os\n",
    "\n",
    "WIDTH = 38\n",
    "HEIGHT = 38\n",
    "\n",
    "shutil.rmtree('sample')\n",
    "os.makedirs('sample', exist_ok=True)\n",
    "\n",
    "\n",
    "# starting from HR data (Satellogic), find available S1/S2 that matches in time/area\n",
    "# take all matches, remove ones with >= 10% cloud cover,\n",
    "\n",
    "print(\"collecting...\")\n",
    "\n",
    "# in short, satellogic segment downloads from url using metadata, and saves in chunks to local sample dir\n",
    "# the sentinal 2 segment downloads image from local path (/fastdata/Satellogic/data/),\n",
    "\n",
    "# sat (hr) image is huge. sample var is the details of the sat image, including its metadata and where to download it.\n",
    "# we download the sent2 image of a small box.\n",
    "\n",
    "# satellogic (HR DATA)\n",
    "\n",
    "\"\"\"\n",
    "# satellogic (HR DATA)\n",
    "\n",
    "# get path to metadata file\n",
    "json_path = sample.json_path.iloc[0]  #\n",
    "json_path = json_path.replace('data/', '/fastdata/Satellogic/data/')  #\n",
    "with open(json_path, 'r') as f:\n",
    "\tmetadata = json.load(f)\n",
    "\n",
    "# get download link from metadata\n",
    "url = metadata['assets']['analytic']['href']\n",
    "\n",
    "# make path where the sat (hr) image will be saved. download, and then write in chunks to that location.\n",
    "output_path = Path(\"sample/satellogic\") / url.split('/')[-1]\n",
    "output_path.parent.mkdir(parents=True, exist_ok=True)\n",
    "response = requests.get(url, stream=True)\n",
    "response.raise_for_status()\n",
    "with open(output_path, 'wb') as f:\n",
    "\tfor chunk in response.iter_content(chunk_size=8192):\n",
    "\t\tf.write(chunk)\n",
    "\"\"\"\n",
    "\n",
    "print(\"downloading sat (hr) image...\")\n",
    "date = sample.date.iloc[0]\n",
    "closest_match = get_closest_match(results, date)  # get\n",
    "json_path = sample.json_path.iloc[0]  #\n",
    "centroid = sample.geometry.iloc[0].centroid  # get centroid/center point of sat image.\n",
    "\n",
    "download_sat_image(json_path, output_path=\"sample/satellogic\")\n",
    "\n",
    "\n",
    "# sentinel data\n",
    "custom_bbox = bbox_from_centroid(x=centroid.y, y=centroid.x, pixel_size=10, width=WIDTH, height=HEIGHT)\n",
    "\n",
    "print(\"downloading S1...\")\n",
    "sent1_name = json_path.split('/')[-1].replace('_metadata.json', '_S1GRD')\n",
    "download_sentinel_imagery(\n",
    "\toutput=\"sample/sentinel1\",\n",
    "\ttime_interval=closest_match[\"properties\"][\"datetime\"],\n",
    "\tbounding_box=custom_bbox,\n",
    "\tcollection_id=\"sentinel-1-grd\",\n",
    "\tname=sent1_name\n",
    ")\n",
    "# download_sentinel_image(closest_match,\n",
    "# \t\t\t\t\t\tname=sent1_name,\n",
    "# \t\t\t\t\t\tcentroid=centroid,\n",
    "# \t\t\t\t\t\toutput_path=dst_path_sentinel1,\n",
    "# \t\t\t\t\t\tcollection_id=\"sentinal-1-grd\"\n",
    "# \t\t\t\t\t\t)\n",
    "\n",
    "print(\"downloading S2...\")\n",
    "sent2_name = json_path.split('/')[-1].replace('_metadata.json', '_S2L2A')\n",
    "\n",
    "# download sentinal 2\n",
    "download_sentinel_imagery(output=\"sample/sentinel2\",\n",
    "\t\t\t\t\t\t  time_interval=closest_match[\"properties\"][\"datetime\"],\n",
    "\t\t\t\t\t\t  bounding_box=custom_bbox,\n",
    "\t\t\t\t\t\t  collection_id=\"sentinal-2-l2a\",\n",
    "\t\t\t\t\t\t  name=sent2_name\n",
    "\t\t\t\t\t\t  )\n",
    "\n",
    "    "
   ],
   "outputs": [
    {
     "ename": "ModuleNotFoundError",
     "evalue": "No module named 'sentinelhub'",
     "output_type": "error",
     "traceback": [
      "\u001B[31m---------------------------------------------------------------------------\u001B[39m",
      "\u001B[31mModuleNotFoundError\u001B[39m                       Traceback (most recent call last)",
      "\u001B[36mCell\u001B[39m\u001B[36m \u001B[39m\u001B[32mIn[9]\u001B[39m\u001B[32m, line 5\u001B[39m\n\u001B[32m      3\u001B[39m \u001B[38;5;28;01mfrom\u001B[39;00m\u001B[38;5;250m \u001B[39m\u001B[34;01mpathlib\u001B[39;00m\u001B[38;5;250m \u001B[39m\u001B[38;5;28;01mimport\u001B[39;00m Path\n\u001B[32m      4\u001B[39m \u001B[38;5;28;01mimport\u001B[39;00m\u001B[38;5;250m \u001B[39m\u001B[34;01mrequests\u001B[39;00m\n\u001B[32m----> \u001B[39m\u001B[32m5\u001B[39m \u001B[38;5;28;01mfrom\u001B[39;00m\u001B[38;5;250m \u001B[39m\u001B[34;01meotdl\u001B[39;00m\u001B[34;01m.\u001B[39;00m\u001B[34;01mtools\u001B[39;00m\u001B[38;5;250m \u001B[39m\u001B[38;5;28;01mimport\u001B[39;00m bbox_from_centroid\n\u001B[32m      6\u001B[39m \u001B[38;5;28;01mfrom\u001B[39;00m\u001B[38;5;250m \u001B[39m\u001B[34;01meotdl\u001B[39;00m\u001B[34;01m.\u001B[39;00m\u001B[34;01maccess\u001B[39;00m\u001B[38;5;250m \u001B[39m\u001B[38;5;28;01mimport\u001B[39;00m download_sentinel_imagery\n\u001B[32m      7\u001B[39m \u001B[38;5;28;01mimport\u001B[39;00m\u001B[38;5;250m \u001B[39m\u001B[34;01mshutil\u001B[39;00m\n",
      "\u001B[36mFile \u001B[39m\u001B[32m~/PycharmProjects/EarthPulse/eotdl/.venv/lib/python3.13/site-packages/eotdl/tools/__init__.py:6\u001B[39m\n\u001B[32m      1\u001B[39m \u001B[33;03m\"\"\"\u001B[39;00m\n\u001B[32m      2\u001B[39m \u001B[33;03mTools module for eotdl package.\u001B[39;00m\n\u001B[32m      3\u001B[39m \u001B[33;03m\"\"\"\u001B[39;00m\n\u001B[32m      5\u001B[39m \u001B[38;5;28;01mfrom\u001B[39;00m\u001B[38;5;250m \u001B[39m\u001B[34;01m.\u001B[39;00m\u001B[34;01mstac\u001B[39;00m\u001B[38;5;250m \u001B[39m\u001B[38;5;28;01mimport\u001B[39;00m *\n\u001B[32m----> \u001B[39m\u001B[32m6\u001B[39m \u001B[38;5;28;01mfrom\u001B[39;00m\u001B[38;5;250m \u001B[39m\u001B[34;01m.\u001B[39;00m\u001B[34;01mtools\u001B[39;00m\u001B[38;5;250m \u001B[39m\u001B[38;5;28;01mimport\u001B[39;00m *\n\u001B[32m      7\u001B[39m \u001B[38;5;28;01mfrom\u001B[39;00m\u001B[38;5;250m \u001B[39m\u001B[34;01m.\u001B[39;00m\u001B[34;01mgeo_utils\u001B[39;00m\u001B[38;5;250m \u001B[39m\u001B[38;5;28;01mimport\u001B[39;00m *\n\u001B[32m      8\u001B[39m \u001B[38;5;28;01mfrom\u001B[39;00m\u001B[38;5;250m \u001B[39m\u001B[34;01m.\u001B[39;00m\u001B[34;01mtime_utils\u001B[39;00m\u001B[38;5;250m \u001B[39m\u001B[38;5;28;01mimport\u001B[39;00m *\n",
      "\u001B[36mFile \u001B[39m\u001B[32m~/PycharmProjects/EarthPulse/eotdl/.venv/lib/python3.13/site-packages/eotdl/tools/tools.py:15\u001B[39m\n\u001B[32m     12\u001B[39m \u001B[38;5;28;01mimport\u001B[39;00m\u001B[38;5;250m \u001B[39m\u001B[34;01mpandas\u001B[39;00m\u001B[38;5;250m \u001B[39m\u001B[38;5;28;01mas\u001B[39;00m\u001B[38;5;250m \u001B[39m\u001B[34;01mpd\u001B[39;00m\n\u001B[32m     14\u001B[39m \u001B[38;5;28;01mfrom\u001B[39;00m\u001B[38;5;250m \u001B[39m\u001B[34;01mshapely\u001B[39;00m\u001B[34;01m.\u001B[39;00m\u001B[34;01mgeometry\u001B[39;00m\u001B[38;5;250m \u001B[39m\u001B[38;5;28;01mimport\u001B[39;00m box\n\u001B[32m---> \u001B[39m\u001B[32m15\u001B[39m \u001B[38;5;28;01mfrom\u001B[39;00m\u001B[38;5;250m \u001B[39m\u001B[34;01m.\u001B[39;00m\u001B[34;01mgeo_utils\u001B[39;00m\u001B[38;5;250m \u001B[39m\u001B[38;5;28;01mimport\u001B[39;00m get_image_bbox\n\u001B[32m     18\u001B[39m \u001B[38;5;28;01mdef\u001B[39;00m\u001B[38;5;250m \u001B[39m\u001B[34mget_images_by_location\u001B[39m(gdf: gpd.GeoDataFrame, column: \u001B[38;5;28mstr\u001B[39m) -> pd.DataFrame:\n\u001B[32m     19\u001B[39m \u001B[38;5;250m    \u001B[39m\u001B[33;03m\"\"\"\u001B[39;00m\n\u001B[32m     20\u001B[39m \u001B[33;03m    Generate a GeoDataFrame with the available images for each location in the dataset.\u001B[39;00m\n\u001B[32m     21\u001B[39m \n\u001B[32m   (...)\u001B[39m\u001B[32m     28\u001B[39m \u001B[33;03m                - images_dates: list with the dates of the available images of each location.\u001B[39;00m\n\u001B[32m     29\u001B[39m \u001B[33;03m    \"\"\"\u001B[39;00m\n",
      "\u001B[36mFile \u001B[39m\u001B[32m~/PycharmProjects/EarthPulse/eotdl/.venv/lib/python3.13/site-packages/eotdl/tools/geo_utils.py:16\u001B[39m\n\u001B[32m     14\u001B[39m \u001B[38;5;28;01mfrom\u001B[39;00m\u001B[38;5;250m \u001B[39m\u001B[34;01mshapely\u001B[39;00m\u001B[34;01m.\u001B[39;00m\u001B[34;01mgeometry\u001B[39;00m\u001B[38;5;250m \u001B[39m\u001B[38;5;28;01mimport\u001B[39;00m box, Polygon, shape\n\u001B[32m     15\u001B[39m \u001B[38;5;28;01mfrom\u001B[39;00m\u001B[38;5;250m \u001B[39m\u001B[34;01mpyproj\u001B[39;00m\u001B[38;5;250m \u001B[39m\u001B[38;5;28;01mimport\u001B[39;00m Transformer\n\u001B[32m---> \u001B[39m\u001B[32m16\u001B[39m \u001B[38;5;28;01mfrom\u001B[39;00m\u001B[38;5;250m \u001B[39m\u001B[34;01msentinelhub\u001B[39;00m\u001B[38;5;250m \u001B[39m\u001B[38;5;28;01mimport\u001B[39;00m BBox, CRS, bbox_to_dimensions\n\u001B[32m     17\u001B[39m \u001B[38;5;28;01mfrom\u001B[39;00m\u001B[38;5;250m \u001B[39m\u001B[34;01mpandas\u001B[39;00m\u001B[38;5;250m \u001B[39m\u001B[38;5;28;01mimport\u001B[39;00m isna\n\u001B[32m     20\u001B[39m \u001B[38;5;28;01mdef\u001B[39;00m\u001B[38;5;250m \u001B[39m\u001B[34mis_bounding_box\u001B[39m(bbox: \u001B[38;5;28mlist\u001B[39m) -> \u001B[38;5;28mbool\u001B[39m:\n",
      "\u001B[31mModuleNotFoundError\u001B[39m: No module named 'sentinelhub'"
     ]
    }
   ],
   "execution_count": 9
  },
  {
   "cell_type": "code",
   "execution_count": 25,
   "metadata": {
    "ExecuteTime": {
     "end_time": "2025-05-21T09:56:08.228942288Z",
     "start_time": "2025-05-20T13:57:47.777358Z"
    }
   },
   "outputs": [
    {
     "ename": "ValueError",
     "evalue": "Key backend: 'module://matplotlib_inline.backend_inline' is not a valid value for backend; supported values are ['gtk3agg', 'gtk3cairo', 'gtk4agg', 'gtk4cairo', 'macosx', 'nbagg', 'notebook', 'qtagg', 'qtcairo', 'qt5agg', 'qt5cairo', 'tkagg', 'tkcairo', 'webagg', 'wx', 'wxagg', 'wxcairo', 'agg', 'cairo', 'pdf', 'pgf', 'ps', 'svg', 'template']",
     "output_type": "error",
     "traceback": [
      "\u001B[0;31m---------------------------------------------------------------------------\u001B[0m",
      "\u001B[0;31mValueError\u001B[0m                                Traceback (most recent call last)",
      "Cell \u001B[0;32mIn[25], line 1\u001B[0m\n\u001B[0;32m----> 1\u001B[0m \u001B[38;5;28;01mimport\u001B[39;00m\u001B[38;5;250m \u001B[39m\u001B[38;5;21;01mmatplotlib\u001B[39;00m\u001B[38;5;21;01m.\u001B[39;00m\u001B[38;5;21;01mpyplot\u001B[39;00m\u001B[38;5;250m \u001B[39m\u001B[38;5;28;01mas\u001B[39;00m\u001B[38;5;250m \u001B[39m\u001B[38;5;21;01mplt\u001B[39;00m\n\u001B[1;32m      2\u001B[0m \u001B[38;5;28;01mimport\u001B[39;00m\u001B[38;5;250m \u001B[39m\u001B[38;5;21;01mrasterio\u001B[39;00m\u001B[38;5;250m \u001B[39m\u001B[38;5;28;01mas\u001B[39;00m\u001B[38;5;250m \u001B[39m\u001B[38;5;21;01mrio\u001B[39;00m\n\u001B[1;32m      4\u001B[0m fig, axs \u001B[38;5;241m=\u001B[39m plt\u001B[38;5;241m.\u001B[39msubplots(\u001B[38;5;241m1\u001B[39m, \u001B[38;5;241m2\u001B[39m, figsize\u001B[38;5;241m=\u001B[39m(\u001B[38;5;241m5\u001B[39m, \u001B[38;5;241m3\u001B[39m))\n",
      "File \u001B[0;32m~/venv/lib/python3.10/site-packages/matplotlib/__init__.py:1296\u001B[0m\n\u001B[1;32m   1292\u001B[0m     rcParams[\u001B[38;5;124m'\u001B[39m\u001B[38;5;124mbackend_fallback\u001B[39m\u001B[38;5;124m'\u001B[39m] \u001B[38;5;241m=\u001B[39m \u001B[38;5;28;01mFalse\u001B[39;00m\n\u001B[1;32m   1295\u001B[0m \u001B[38;5;28;01mif\u001B[39;00m os\u001B[38;5;241m.\u001B[39menviron\u001B[38;5;241m.\u001B[39mget(\u001B[38;5;124m'\u001B[39m\u001B[38;5;124mMPLBACKEND\u001B[39m\u001B[38;5;124m'\u001B[39m):\n\u001B[0;32m-> 1296\u001B[0m     \u001B[43mrcParams\u001B[49m\u001B[43m[\u001B[49m\u001B[38;5;124;43m'\u001B[39;49m\u001B[38;5;124;43mbackend\u001B[39;49m\u001B[38;5;124;43m'\u001B[39;49m\u001B[43m]\u001B[49m \u001B[38;5;241m=\u001B[39m os\u001B[38;5;241m.\u001B[39menviron\u001B[38;5;241m.\u001B[39mget(\u001B[38;5;124m'\u001B[39m\u001B[38;5;124mMPLBACKEND\u001B[39m\u001B[38;5;124m'\u001B[39m)\n\u001B[1;32m   1299\u001B[0m \u001B[38;5;28;01mdef\u001B[39;00m\u001B[38;5;250m \u001B[39m\u001B[38;5;21mget_backend\u001B[39m(\u001B[38;5;241m*\u001B[39m, auto_select\u001B[38;5;241m=\u001B[39m\u001B[38;5;28;01mTrue\u001B[39;00m):\n\u001B[1;32m   1300\u001B[0m \u001B[38;5;250m    \u001B[39m\u001B[38;5;124;03m\"\"\"\u001B[39;00m\n\u001B[1;32m   1301\u001B[0m \u001B[38;5;124;03m    Return the name of the current backend.\u001B[39;00m\n\u001B[1;32m   1302\u001B[0m \n\u001B[0;32m   (...)\u001B[0m\n\u001B[1;32m   1320\u001B[0m \u001B[38;5;124;03m    matplotlib.use\u001B[39;00m\n\u001B[1;32m   1321\u001B[0m \u001B[38;5;124;03m    \"\"\"\u001B[39;00m\n",
      "File \u001B[0;32m~/venv/lib/python3.10/site-packages/matplotlib/__init__.py:771\u001B[0m, in \u001B[0;36mRcParams.__setitem__\u001B[0;34m(self, key, val)\u001B[0m\n\u001B[1;32m    769\u001B[0m         cval \u001B[38;5;241m=\u001B[39m \u001B[38;5;28mself\u001B[39m\u001B[38;5;241m.\u001B[39mvalidate[key](val)\n\u001B[1;32m    770\u001B[0m     \u001B[38;5;28;01mexcept\u001B[39;00m \u001B[38;5;167;01mValueError\u001B[39;00m \u001B[38;5;28;01mas\u001B[39;00m ve:\n\u001B[0;32m--> 771\u001B[0m         \u001B[38;5;28;01mraise\u001B[39;00m \u001B[38;5;167;01mValueError\u001B[39;00m(\u001B[38;5;124mf\u001B[39m\u001B[38;5;124m\"\u001B[39m\u001B[38;5;124mKey \u001B[39m\u001B[38;5;132;01m{\u001B[39;00mkey\u001B[38;5;132;01m}\u001B[39;00m\u001B[38;5;124m: \u001B[39m\u001B[38;5;132;01m{\u001B[39;00mve\u001B[38;5;132;01m}\u001B[39;00m\u001B[38;5;124m\"\u001B[39m) \u001B[38;5;28;01mfrom\u001B[39;00m\u001B[38;5;250m \u001B[39m\u001B[38;5;28;01mNone\u001B[39;00m\n\u001B[1;32m    772\u001B[0m     \u001B[38;5;28mself\u001B[39m\u001B[38;5;241m.\u001B[39m_set(key, cval)\n\u001B[1;32m    773\u001B[0m \u001B[38;5;28;01mexcept\u001B[39;00m \u001B[38;5;167;01mKeyError\u001B[39;00m \u001B[38;5;28;01mas\u001B[39;00m err:\n",
      "\u001B[0;31mValueError\u001B[0m: Key backend: 'module://matplotlib_inline.backend_inline' is not a valid value for backend; supported values are ['gtk3agg', 'gtk3cairo', 'gtk4agg', 'gtk4cairo', 'macosx', 'nbagg', 'notebook', 'qtagg', 'qtcairo', 'qt5agg', 'qt5cairo', 'tkagg', 'tkcairo', 'webagg', 'wx', 'wxagg', 'wxcairo', 'agg', 'cairo', 'pdf', 'pgf', 'ps', 'svg', 'template']"
     ]
    }
   ],
   "source": [
    "import matplotlib.pyplot as plt\n",
    "import rasterio as rio\n",
    "\n",
    "fig, axs = plt.subplots(1, 2, figsize=(5, 3))\n",
    "axs[0].imshow((rio.open(output_path).read()[:3,...].transpose(1, 2, 0) / 3000).clip(0, 1))\n",
    "axs[0].axis('off')\n",
    "axs[1].imshow((rio.open(dst_path_sentinel).read()[(3,2,1),...].transpose(1, 2, 0) / 3000).clip(0, 1))\n",
    "axs[1].axis('off')\n",
    "plt.show()"
   ]
  },
  {
   "cell_type": "code",
   "execution_count": 29,
   "metadata": {
    "ExecuteTime": {
     "end_time": "2025-05-21T09:56:08.229137426Z",
     "start_time": "2025-05-20T13:39:47.887351Z"
    }
   },
   "outputs": [
    {
     "ename": "ModuleNotFoundError",
     "evalue": "No module named 'matplotlib'",
     "output_type": "error",
     "traceback": [
      "\u001B[0;31m---------------------------------------------------------------------------\u001B[0m",
      "\u001B[0;31mModuleNotFoundError\u001B[0m                       Traceback (most recent call last)",
      "Cell \u001B[0;32mIn[29], line 1\u001B[0m\n\u001B[0;32m----> 1\u001B[0m \u001B[38;5;28;01mimport\u001B[39;00m\u001B[38;5;250m \u001B[39m\u001B[38;5;21;01mmatplotlib\u001B[39;00m\u001B[38;5;21;01m.\u001B[39;00m\u001B[38;5;21;01mpyplot\u001B[39;00m\u001B[38;5;250m \u001B[39m\u001B[38;5;28;01mas\u001B[39;00m\u001B[38;5;250m \u001B[39m\u001B[38;5;21;01mplt\u001B[39;00m\n\u001B[1;32m      3\u001B[0m \u001B[38;5;66;03m# plot histogram with number of images per zone\u001B[39;00m\n\u001B[1;32m      4\u001B[0m fig \u001B[38;5;241m=\u001B[39m plt\u001B[38;5;241m.\u001B[39mfigure(figsize\u001B[38;5;241m=\u001B[39m(\u001B[38;5;241m15\u001B[39m, \u001B[38;5;241m3\u001B[39m))\n",
      "\u001B[0;31mModuleNotFoundError\u001B[0m: No module named 'matplotlib'"
     ]
    }
   ],
   "source": [
    "import matplotlib.pyplot as plt\n",
    "\n",
    "\n",
    "# plot histogram with number of images per zone\n",
    "fig = plt.figure(figsize=(15, 3))\n",
    "gdf['zone'].value_counts().plot(kind='bar', ax=fig.gca(), grid=True)\n",
    "plt.show()\n"
   ]
  },
  {
   "cell_type": "code",
   "execution_count": null,
   "metadata": {},
   "outputs": [],
   "source": [
    "len(gdf['zone'].unique()), len(gdf['region'].unique())"
   ]
  },
  {
   "cell_type": "code",
   "execution_count": null,
   "metadata": {},
   "outputs": [],
   "source": [
    "gdf['zone'].value_counts().min()"
   ]
  },
  {
   "cell_type": "code",
   "execution_count": null,
   "metadata": {},
   "outputs": [],
   "source": [
    "# plot histogram with number of images per month (all images are from 2022)\n",
    "fig = plt.figure(figsize=(15, 3))\n",
    "gdf['date'].dt.month.value_counts().plot(kind='bar', ax=fig.gca(), grid=True)\n",
    "plt.show()\n"
   ]
  },
  {
   "cell_type": "code",
   "execution_count": null,
   "metadata": {},
   "outputs": [],
   "source": [
    "zones = sorted(gdf['zone'].unique())\n",
    "zone_gdf = gdf[gdf['zone'] == zones[4]]\n",
    "sample = zone_gdf.sample(5, random_state=2025)\n",
    "sample"
   ]
  },
  {
   "cell_type": "markdown",
   "metadata": {},
   "source": [
    "Download the images"
   ]
  },
  {
   "cell_type": "code",
   "execution_count": 7,
   "metadata": {
    "ExecuteTime": {
     "end_time": "2025-05-21T09:56:08.229527746Z",
     "start_time": "2025-05-21T08:25:12.356448Z"
    }
   },
   "outputs": [
    {
     "name": "stdout",
     "output_type": "stream",
     "text": [
      "/bin/bash: line 1: /usr/bin/rm: Argument list too long\r\n",
      "/bin/bash: line 1: /usr/bin/rm: Argument list too long\r\n"
     ]
    }
   ],
   "source": [
    "!rm -rf /fastdata/Satellogic/data/tifs/satellogic/*\n",
    "!rm -rf /fastdata/Satellogic/data/tifs/sentinel2/*"
   ]
  },
  {
   "metadata": {},
   "cell_type": "code",
   "outputs": [],
   "execution_count": null,
   "source": [
    "from dataset import find_sentinel_matches\n",
    "\n",
    "# now supports S2 + S1\n",
    "matches = []\n",
    "for row, item in sample.iterrows():\n",
    "\tprint(item.json_path)\n",
    "\tsent1_matches = find_sentinel_matches(item.date, item.geometry.bounds, item.json_path, item.centroid, collection_id=\"sentinal-1-grd\")\n",
    "\tsent2_matches = find_sentinel_matches(item.date, item.geometry.bounds, item.json_path, item.centroid, collection_id=\"sentinal-2-l2a\")\n",
    "\n",
    "\tmatches.append(sent1_matches + sent2_matches)"
   ]
  },
  {
   "cell_type": "code",
   "execution_count": null,
   "metadata": {},
   "outputs": [],
   "source": [
    "matches"
   ]
  },
  {
   "cell_type": "code",
   "execution_count": null,
   "metadata": {},
   "outputs": [],
   "source": [
    "import rasterio as rio\n",
    "\n",
    "for match in matches:\n",
    "\tif match is None: continue\n",
    "\ts2_image, sat_image = match\n",
    "\tfig, axs = plt.subplots(1, 2, figsize=(5, 3))\n",
    "\taxs[0].imshow((rio.open(sat_image).read()[:3,...].transpose(1, 2, 0) / 4000).clip(0, 1))\n",
    "\taxs[0].axis('off')\n",
    "\taxs[1].imshow((rio.open(s2_image).read()[(3,2,1),...].transpose(1, 2, 0) / 4000).clip(0, 1))\n",
    "\taxs[1].axis('off')\n",
    "\tplt.show()\n",
    "\n"
   ]
  },
  {
   "cell_type": "code",
   "execution_count": null,
   "metadata": {},
   "outputs": [],
   "source": []
  }
 ],
 "metadata": {
  "kernelspec": {
   "display_name": "Python 3 (ipykernel)",
   "language": "python",
   "name": "python3"
  },
  "language_info": {
   "codemirror_mode": {
    "name": "ipython",
    "version": 3
   },
   "file_extension": ".py",
   "mimetype": "text/x-python",
   "name": "python",
   "nbconvert_exporter": "python",
   "pygments_lexer": "ipython3",
   "version": "3.10.12"
  }
 },
 "nbformat": 4,
 "nbformat_minor": 4
}
