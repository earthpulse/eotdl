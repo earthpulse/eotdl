{
 "cells": [
  {
   "cell_type": "raw",
   "metadata": {},
   "source": [
    "%load_ext autoreload\n",
    "%autoreload 2"
   ]
  },
  {
   "cell_type": "code",
   "metadata": {
    "ExecuteTime": {
     "end_time": "2025-05-21T13:09:03.754888Z",
     "start_time": "2025-05-21T13:09:03.750444Z"
    }
   },
   "source": "import eotdl\n",
   "outputs": [],
   "execution_count": 2
  },
  {
   "cell_type": "markdown",
   "metadata": {},
   "source": [
    "In this notebook we generate the dataset for the use case\n",
    "\n",
    "1. Generate list of Satellogic images to be used (containing bb and acquisition time)\n",
    "2. Explore available S1/S2 images with different criteria\n",
    "\t- bounding box overlap\n",
    "\t- acquisition time overlap\n",
    "3. Download matching S1/S2 at given resolution\n",
    "4. Generate metadata and ingest to EOTDL "
   ]
  },
  {
   "cell_type": "code",
   "metadata": {
    "ExecuteTime": {
     "end_time": "2025-05-22T10:43:05.915044Z",
     "start_time": "2025-05-22T10:42:59.594120Z"
    }
   },
   "source": [
    "import geopandas as gpd\n",
    "\n",
    "gdf = gpd.read_parquet('~/Desktop/EarthPulse_Local_Data/satellogic-earthview-items.parquet')\n",
    "# gdf = gpd.read_parquet('~/DeLocal_Data/satellogic-earthview-items-with-matches.parquet')\n",
    "# json_path, zone, region, date, geometry, matches\n",
    "# json_path, zone, region, date, geometry\n",
    "gdf.head()\n"
   ],
   "outputs": [
    {
     "data": {
      "text/plain": [
       "                                           json_path zone          region  \\\n",
       "0  data/json/zone=04N/region=603411_2346301/date=...  04N  603411_2346301   \n",
       "1  data/json/zone=04N/region=603411_2346685/date=...  04N  603411_2346685   \n",
       "2  data/json/zone=04N/region=603411_2347069/date=...  04N  603411_2347069   \n",
       "3  data/json/zone=04N/region=603411_2347453/date=...  04N  603411_2347453   \n",
       "4  data/json/zone=04N/region=603411_2347837/date=...  04N  603411_2347837   \n",
       "\n",
       "        date                                           geometry  \n",
       "0 2022-09-15  POLYGON ((-157.99991 21.21181, -157.99988 21.2...  \n",
       "1 2022-09-15  POLYGON ((-157.99988 21.21528, -157.99986 21.2...  \n",
       "2 2022-09-15  POLYGON ((-157.99986 21.21875, -157.99984 21.2...  \n",
       "3 2022-09-15  POLYGON ((-157.99984 21.22221, -157.99981 21.2...  \n",
       "4 2022-09-15  POLYGON ((-157.99981 21.22568, -157.99979 21.2...  "
      ],
      "text/html": [
       "<div>\n",
       "<style scoped>\n",
       "    .dataframe tbody tr th:only-of-type {\n",
       "        vertical-align: middle;\n",
       "    }\n",
       "\n",
       "    .dataframe tbody tr th {\n",
       "        vertical-align: top;\n",
       "    }\n",
       "\n",
       "    .dataframe thead th {\n",
       "        text-align: right;\n",
       "    }\n",
       "</style>\n",
       "<table border=\"1\" class=\"dataframe\">\n",
       "  <thead>\n",
       "    <tr style=\"text-align: right;\">\n",
       "      <th></th>\n",
       "      <th>json_path</th>\n",
       "      <th>zone</th>\n",
       "      <th>region</th>\n",
       "      <th>date</th>\n",
       "      <th>geometry</th>\n",
       "    </tr>\n",
       "  </thead>\n",
       "  <tbody>\n",
       "    <tr>\n",
       "      <th>0</th>\n",
       "      <td>data/json/zone=04N/region=603411_2346301/date=...</td>\n",
       "      <td>04N</td>\n",
       "      <td>603411_2346301</td>\n",
       "      <td>2022-09-15</td>\n",
       "      <td>POLYGON ((-157.99991 21.21181, -157.99988 21.2...</td>\n",
       "    </tr>\n",
       "    <tr>\n",
       "      <th>1</th>\n",
       "      <td>data/json/zone=04N/region=603411_2346685/date=...</td>\n",
       "      <td>04N</td>\n",
       "      <td>603411_2346685</td>\n",
       "      <td>2022-09-15</td>\n",
       "      <td>POLYGON ((-157.99988 21.21528, -157.99986 21.2...</td>\n",
       "    </tr>\n",
       "    <tr>\n",
       "      <th>2</th>\n",
       "      <td>data/json/zone=04N/region=603411_2347069/date=...</td>\n",
       "      <td>04N</td>\n",
       "      <td>603411_2347069</td>\n",
       "      <td>2022-09-15</td>\n",
       "      <td>POLYGON ((-157.99986 21.21875, -157.99984 21.2...</td>\n",
       "    </tr>\n",
       "    <tr>\n",
       "      <th>3</th>\n",
       "      <td>data/json/zone=04N/region=603411_2347453/date=...</td>\n",
       "      <td>04N</td>\n",
       "      <td>603411_2347453</td>\n",
       "      <td>2022-09-15</td>\n",
       "      <td>POLYGON ((-157.99984 21.22221, -157.99981 21.2...</td>\n",
       "    </tr>\n",
       "    <tr>\n",
       "      <th>4</th>\n",
       "      <td>data/json/zone=04N/region=603411_2347837/date=...</td>\n",
       "      <td>04N</td>\n",
       "      <td>603411_2347837</td>\n",
       "      <td>2022-09-15</td>\n",
       "      <td>POLYGON ((-157.99981 21.22568, -157.99979 21.2...</td>\n",
       "    </tr>\n",
       "  </tbody>\n",
       "</table>\n",
       "</div>"
      ]
     },
     "execution_count": 10,
     "metadata": {},
     "output_type": "execute_result"
    }
   ],
   "execution_count": 10
  },
  {
   "cell_type": "code",
   "metadata": {
    "ExecuteTime": {
     "end_time": "2025-05-21T13:09:41.300012Z",
     "start_time": "2025-05-21T13:09:41.284005Z"
    }
   },
   "source": [
    "gdf.shape"
   ],
   "outputs": [
    {
     "ename": "NameError",
     "evalue": "name 'gdf' is not defined",
     "output_type": "error",
     "traceback": [
      "\u001B[31m---------------------------------------------------------------------------\u001B[39m",
      "\u001B[31mNameError\u001B[39m                                 Traceback (most recent call last)",
      "\u001B[36mCell\u001B[39m\u001B[36m \u001B[39m\u001B[32mIn[4]\u001B[39m\u001B[32m, line 1\u001B[39m\n\u001B[32m----> \u001B[39m\u001B[32m1\u001B[39m \u001B[43mgdf\u001B[49m.shape\n",
      "\u001B[31mNameError\u001B[39m: name 'gdf' is not defined"
     ]
    }
   ],
   "execution_count": 4
  },
  {
   "cell_type": "code",
   "metadata": {
    "ExecuteTime": {
     "end_time": "2025-05-21T13:09:41.805029Z",
     "start_time": "2025-05-21T13:09:41.788118Z"
    }
   },
   "source": [
    "gdf['num_matches'] = gdf.matches.apply(len)\n",
    "gdf['num_matches'].value_counts()"
   ],
   "outputs": [
    {
     "ename": "NameError",
     "evalue": "name 'gdf' is not defined",
     "output_type": "error",
     "traceback": [
      "\u001B[31m---------------------------------------------------------------------------\u001B[39m",
      "\u001B[31mNameError\u001B[39m                                 Traceback (most recent call last)",
      "\u001B[36mCell\u001B[39m\u001B[36m \u001B[39m\u001B[32mIn[5]\u001B[39m\u001B[32m, line 1\u001B[39m\n\u001B[32m----> \u001B[39m\u001B[32m1\u001B[39m gdf[\u001B[33m'\u001B[39m\u001B[33mnum_matches\u001B[39m\u001B[33m'\u001B[39m] = \u001B[43mgdf\u001B[49m.matches.apply(\u001B[38;5;28mlen\u001B[39m)\n\u001B[32m      2\u001B[39m gdf[\u001B[33m'\u001B[39m\u001B[33mnum_matches\u001B[39m\u001B[33m'\u001B[39m].value_counts()\n",
      "\u001B[31mNameError\u001B[39m: name 'gdf' is not defined"
     ]
    }
   ],
   "execution_count": 5
  },
  {
   "cell_type": "code",
   "metadata": {
    "ExecuteTime": {
     "end_time": "2025-05-21T13:09:43.290347Z",
     "start_time": "2025-05-21T13:09:43.272691Z"
    }
   },
   "source": [
    "gdf['matches'].sample(1).values"
   ],
   "outputs": [
    {
     "ename": "NameError",
     "evalue": "name 'gdf' is not defined",
     "output_type": "error",
     "traceback": [
      "\u001B[31m---------------------------------------------------------------------------\u001B[39m",
      "\u001B[31mNameError\u001B[39m                                 Traceback (most recent call last)",
      "\u001B[36mCell\u001B[39m\u001B[36m \u001B[39m\u001B[32mIn[6]\u001B[39m\u001B[32m, line 1\u001B[39m\n\u001B[32m----> \u001B[39m\u001B[32m1\u001B[39m \u001B[43mgdf\u001B[49m[\u001B[33m'\u001B[39m\u001B[33mmatches\u001B[39m\u001B[33m'\u001B[39m].sample(\u001B[32m1\u001B[39m).values\n",
      "\u001B[31mNameError\u001B[39m: name 'gdf' is not defined"
     ]
    }
   ],
   "execution_count": 6
  },
  {
   "cell_type": "code",
   "metadata": {
    "ExecuteTime": {
     "end_time": "2025-05-21T13:09:44.041300Z",
     "start_time": "2025-05-21T13:09:44.020068Z"
    }
   },
   "source": [
    "sample =  gdf.sample(1)\n",
    "\n",
    "s1_matches = sample.s1_matches.values\n",
    "s2_matches = sample.s2_matches.values\n",
    "\n",
    "print(f\"s1_matches: {s1_matches}\\n\")\n",
    "print(s1_matches)\n",
    "print(f\"s2_matches {s2_matches}\\n\")\n",
    "print(s2_matches)"
   ],
   "outputs": [
    {
     "ename": "NameError",
     "evalue": "name 'gdf' is not defined",
     "output_type": "error",
     "traceback": [
      "\u001B[31m---------------------------------------------------------------------------\u001B[39m",
      "\u001B[31mNameError\u001B[39m                                 Traceback (most recent call last)",
      "\u001B[36mCell\u001B[39m\u001B[36m \u001B[39m\u001B[32mIn[7]\u001B[39m\u001B[32m, line 1\u001B[39m\n\u001B[32m----> \u001B[39m\u001B[32m1\u001B[39m sample =  \u001B[43mgdf\u001B[49m.sample(\u001B[32m1\u001B[39m)\n\u001B[32m      3\u001B[39m results = sample.matches.values\n\u001B[32m      5\u001B[39m \u001B[38;5;28mprint\u001B[39m(results[\u001B[32m0\u001B[39m])\n",
      "\u001B[31mNameError\u001B[39m: name 'gdf' is not defined"
     ]
    }
   ],
   "execution_count": 7
  },
  {
   "cell_type": "code",
   "metadata": {
    "ExecuteTime": {
     "end_time": "2025-05-21T13:10:30.771971Z",
     "start_time": "2025-05-21T13:10:30.688068Z"
    }
   },
   "source": [
    "from eotdl.tools import bbox_from_centroid\n",
    "from eotdl.access import download_sentinel_imagery\n",
    "from download_images import download_sat_image, filter_matches\n",
    "import shutil\n",
    "import os\n",
    "\n",
    "WIDTH = 38\n",
    "HEIGHT = 38\n",
    "\n",
    "shutil.rmtree('sample')\n",
    "os.makedirs('sample', exist_ok=True)\n",
    "\n",
    "\n",
    "# starting from HR data (Satellogic), find available S1/S2 that matches in time/area\n",
    "# take all matches, remove ones with >= 10% cloud cover,\n",
    "\n",
    "print(\"collecting...\")\n",
    "\n",
    "# in short, satellogic segment downloads from url using metadata, and saves in chunks to local sample dir\n",
    "# the sentinal 2 segment downloads image from local path (/fastdata/Satellogic/data/),\n",
    "\n",
    "# sat (hr) image is huge. sample var is the details of the sat image, including its metadata and where to download it.\n",
    "# we download the sent2 image of a small box.\n",
    "\n",
    "# satellogic (HR DATA)\n",
    "\n",
    "print(\"downloading sat (hr) image...\")\n",
    "date = sample.date.iloc[0]\n",
    "json_path = sample.json_path.iloc[0]  #\n",
    "centroid = sample.geometry.iloc[0].centroid  # get centroid/center point of sat image.\n",
    "\n",
    "# only downloads if doesn't exist in fastdata\n",
    "dst_path_sat = download_sat_image(json_path=json_path, output_path=\"sample/satellogic\")  # todo: copy instead of download\n",
    "\n",
    "# get best fit match by filtering clouds and date.\n",
    "s1_match = filter_matches(matches=s1_matches, date=date)\n",
    "s2_match = filter_matches(matches=s2_matches, date=date)\n",
    "\n",
    "\n",
    "# sentinel data\n",
    "custom_bbox = bbox_from_centroid(x=centroid.y, y=centroid.x, pixel_size=10, width=WIDTH, height=HEIGHT)\n",
    "sent1_name = json_path.split('/')[-1].replace('_metadata.json', '_S1GRD')\n",
    "sent2_name = json_path.split('/')[-1].replace('_metadata.json', '_S2L2A')\n",
    "\n",
    "print(\"downloading S1 match...\")\n",
    "download_sentinel_imagery(output=\"sample/sentinel1\",\n",
    "\t\t\t\t\t\t  time_interval=sent1_match[\"properties\"][\"datetime\"],\n",
    "\t\t\t\t\t\t  bounding_box=custom_bbox,\n",
    "\t\t\t\t\t\t  collection_id=\"sentinel-1-grd\",\n",
    "\t\t\t\t\t\t  name=sent1_name\n",
    ")\n",
    "\n",
    "print(\"downloading S2 match...\")\n",
    "download_sentinel_imagery(output=\"sample/sentinel2\",\n",
    "\t\t\t\t\t\t  time_interval=sent2_match[\"properties\"][\"datetime\"],\n",
    "\t\t\t\t\t\t  bounding_box=custom_bbox,\n",
    "\t\t\t\t\t\t  collection_id=\"sentinal-2-l2a\",\n",
    "\t\t\t\t\t\t  name=sent2_name\n",
    "\t\t\t\t\t\t  )\n",
    "shutil.copy2(\"\", \"\")\n",
    "dst_path_sentinel1 = \"sample/sentinel1/\" + sent1_name + '.tif'\n",
    "dst_path_sentinel2 = \"sample/sentinel2/\" + sent2_name + '.tif'\n",
    "\n",
    "# todo: add checking for sentinel file already in fast data before downloading.\n",
    "    "
   ],
   "outputs": [
    {
     "ename": "ModuleNotFoundError",
     "evalue": "No module named 'sentinelhub'",
     "output_type": "error",
     "traceback": [
      "\u001B[31m---------------------------------------------------------------------------\u001B[39m",
      "\u001B[31mModuleNotFoundError\u001B[39m                       Traceback (most recent call last)",
      "\u001B[36mCell\u001B[39m\u001B[36m \u001B[39m\u001B[32mIn[9]\u001B[39m\u001B[32m, line 5\u001B[39m\n\u001B[32m      3\u001B[39m \u001B[38;5;28;01mfrom\u001B[39;00m\u001B[38;5;250m \u001B[39m\u001B[34;01mpathlib\u001B[39;00m\u001B[38;5;250m \u001B[39m\u001B[38;5;28;01mimport\u001B[39;00m Path\n\u001B[32m      4\u001B[39m \u001B[38;5;28;01mimport\u001B[39;00m\u001B[38;5;250m \u001B[39m\u001B[34;01mrequests\u001B[39;00m\n\u001B[32m----> \u001B[39m\u001B[32m5\u001B[39m \u001B[38;5;28;01mfrom\u001B[39;00m\u001B[38;5;250m \u001B[39m\u001B[34;01meotdl\u001B[39;00m\u001B[34;01m.\u001B[39;00m\u001B[34;01mtools\u001B[39;00m\u001B[38;5;250m \u001B[39m\u001B[38;5;28;01mimport\u001B[39;00m bbox_from_centroid\n\u001B[32m      6\u001B[39m \u001B[38;5;28;01mfrom\u001B[39;00m\u001B[38;5;250m \u001B[39m\u001B[34;01meotdl\u001B[39;00m\u001B[34;01m.\u001B[39;00m\u001B[34;01maccess\u001B[39;00m\u001B[38;5;250m \u001B[39m\u001B[38;5;28;01mimport\u001B[39;00m download_sentinel_imagery\n\u001B[32m      7\u001B[39m \u001B[38;5;28;01mimport\u001B[39;00m\u001B[38;5;250m \u001B[39m\u001B[34;01mshutil\u001B[39;00m\n",
      "\u001B[36mFile \u001B[39m\u001B[32m~/PycharmProjects/EarthPulse/eotdl/.venv/lib/python3.13/site-packages/eotdl/tools/__init__.py:6\u001B[39m\n\u001B[32m      1\u001B[39m \u001B[33;03m\"\"\"\u001B[39;00m\n\u001B[32m      2\u001B[39m \u001B[33;03mTools module for eotdl package.\u001B[39;00m\n\u001B[32m      3\u001B[39m \u001B[33;03m\"\"\"\u001B[39;00m\n\u001B[32m      5\u001B[39m \u001B[38;5;28;01mfrom\u001B[39;00m\u001B[38;5;250m \u001B[39m\u001B[34;01m.\u001B[39;00m\u001B[34;01mstac\u001B[39;00m\u001B[38;5;250m \u001B[39m\u001B[38;5;28;01mimport\u001B[39;00m *\n\u001B[32m----> \u001B[39m\u001B[32m6\u001B[39m \u001B[38;5;28;01mfrom\u001B[39;00m\u001B[38;5;250m \u001B[39m\u001B[34;01m.\u001B[39;00m\u001B[34;01mtools\u001B[39;00m\u001B[38;5;250m \u001B[39m\u001B[38;5;28;01mimport\u001B[39;00m *\n\u001B[32m      7\u001B[39m \u001B[38;5;28;01mfrom\u001B[39;00m\u001B[38;5;250m \u001B[39m\u001B[34;01m.\u001B[39;00m\u001B[34;01mgeo_utils\u001B[39;00m\u001B[38;5;250m \u001B[39m\u001B[38;5;28;01mimport\u001B[39;00m *\n\u001B[32m      8\u001B[39m \u001B[38;5;28;01mfrom\u001B[39;00m\u001B[38;5;250m \u001B[39m\u001B[34;01m.\u001B[39;00m\u001B[34;01mtime_utils\u001B[39;00m\u001B[38;5;250m \u001B[39m\u001B[38;5;28;01mimport\u001B[39;00m *\n",
      "\u001B[36mFile \u001B[39m\u001B[32m~/PycharmProjects/EarthPulse/eotdl/.venv/lib/python3.13/site-packages/eotdl/tools/tools.py:15\u001B[39m\n\u001B[32m     12\u001B[39m \u001B[38;5;28;01mimport\u001B[39;00m\u001B[38;5;250m \u001B[39m\u001B[34;01mpandas\u001B[39;00m\u001B[38;5;250m \u001B[39m\u001B[38;5;28;01mas\u001B[39;00m\u001B[38;5;250m \u001B[39m\u001B[34;01mpd\u001B[39;00m\n\u001B[32m     14\u001B[39m \u001B[38;5;28;01mfrom\u001B[39;00m\u001B[38;5;250m \u001B[39m\u001B[34;01mshapely\u001B[39;00m\u001B[34;01m.\u001B[39;00m\u001B[34;01mgeometry\u001B[39;00m\u001B[38;5;250m \u001B[39m\u001B[38;5;28;01mimport\u001B[39;00m box\n\u001B[32m---> \u001B[39m\u001B[32m15\u001B[39m \u001B[38;5;28;01mfrom\u001B[39;00m\u001B[38;5;250m \u001B[39m\u001B[34;01m.\u001B[39;00m\u001B[34;01mgeo_utils\u001B[39;00m\u001B[38;5;250m \u001B[39m\u001B[38;5;28;01mimport\u001B[39;00m get_image_bbox\n\u001B[32m     18\u001B[39m \u001B[38;5;28;01mdef\u001B[39;00m\u001B[38;5;250m \u001B[39m\u001B[34mget_images_by_location\u001B[39m(gdf: gpd.GeoDataFrame, column: \u001B[38;5;28mstr\u001B[39m) -> pd.DataFrame:\n\u001B[32m     19\u001B[39m \u001B[38;5;250m    \u001B[39m\u001B[33;03m\"\"\"\u001B[39;00m\n\u001B[32m     20\u001B[39m \u001B[33;03m    Generate a GeoDataFrame with the available images for each location in the dataset.\u001B[39;00m\n\u001B[32m     21\u001B[39m \n\u001B[32m   (...)\u001B[39m\u001B[32m     28\u001B[39m \u001B[33;03m                - images_dates: list with the dates of the available images of each location.\u001B[39;00m\n\u001B[32m     29\u001B[39m \u001B[33;03m    \"\"\"\u001B[39;00m\n",
      "\u001B[36mFile \u001B[39m\u001B[32m~/PycharmProjects/EarthPulse/eotdl/.venv/lib/python3.13/site-packages/eotdl/tools/geo_utils.py:16\u001B[39m\n\u001B[32m     14\u001B[39m \u001B[38;5;28;01mfrom\u001B[39;00m\u001B[38;5;250m \u001B[39m\u001B[34;01mshapely\u001B[39;00m\u001B[34;01m.\u001B[39;00m\u001B[34;01mgeometry\u001B[39;00m\u001B[38;5;250m \u001B[39m\u001B[38;5;28;01mimport\u001B[39;00m box, Polygon, shape\n\u001B[32m     15\u001B[39m \u001B[38;5;28;01mfrom\u001B[39;00m\u001B[38;5;250m \u001B[39m\u001B[34;01mpyproj\u001B[39;00m\u001B[38;5;250m \u001B[39m\u001B[38;5;28;01mimport\u001B[39;00m Transformer\n\u001B[32m---> \u001B[39m\u001B[32m16\u001B[39m \u001B[38;5;28;01mfrom\u001B[39;00m\u001B[38;5;250m \u001B[39m\u001B[34;01msentinelhub\u001B[39;00m\u001B[38;5;250m \u001B[39m\u001B[38;5;28;01mimport\u001B[39;00m BBox, CRS, bbox_to_dimensions\n\u001B[32m     17\u001B[39m \u001B[38;5;28;01mfrom\u001B[39;00m\u001B[38;5;250m \u001B[39m\u001B[34;01mpandas\u001B[39;00m\u001B[38;5;250m \u001B[39m\u001B[38;5;28;01mimport\u001B[39;00m isna\n\u001B[32m     20\u001B[39m \u001B[38;5;28;01mdef\u001B[39;00m\u001B[38;5;250m \u001B[39m\u001B[34mis_bounding_box\u001B[39m(bbox: \u001B[38;5;28mlist\u001B[39m) -> \u001B[38;5;28mbool\u001B[39m:\n",
      "\u001B[31mModuleNotFoundError\u001B[39m: No module named 'sentinelhub'"
     ]
    }
   ],
   "execution_count": 9
  },
  {
   "cell_type": "code",
   "execution_count": 25,
   "metadata": {
    "ExecuteTime": {
     "end_time": "2025-05-21T09:56:08.228942288Z",
     "start_time": "2025-05-20T13:57:47.777358Z"
    }
   },
   "outputs": [
    {
     "ename": "ValueError",
     "evalue": "Key backend: 'module://matplotlib_inline.backend_inline' is not a valid value for backend; supported values are ['gtk3agg', 'gtk3cairo', 'gtk4agg', 'gtk4cairo', 'macosx', 'nbagg', 'notebook', 'qtagg', 'qtcairo', 'qt5agg', 'qt5cairo', 'tkagg', 'tkcairo', 'webagg', 'wx', 'wxagg', 'wxcairo', 'agg', 'cairo', 'pdf', 'pgf', 'ps', 'svg', 'template']",
     "output_type": "error",
     "traceback": [
      "\u001B[0;31m---------------------------------------------------------------------------\u001B[0m",
      "\u001B[0;31mValueError\u001B[0m                                Traceback (most recent call last)",
      "Cell \u001B[0;32mIn[25], line 1\u001B[0m\n\u001B[0;32m----> 1\u001B[0m \u001B[38;5;28;01mimport\u001B[39;00m\u001B[38;5;250m \u001B[39m\u001B[38;5;21;01mmatplotlib\u001B[39;00m\u001B[38;5;21;01m.\u001B[39;00m\u001B[38;5;21;01mpyplot\u001B[39;00m\u001B[38;5;250m \u001B[39m\u001B[38;5;28;01mas\u001B[39;00m\u001B[38;5;250m \u001B[39m\u001B[38;5;21;01mplt\u001B[39;00m\n\u001B[1;32m      2\u001B[0m \u001B[38;5;28;01mimport\u001B[39;00m\u001B[38;5;250m \u001B[39m\u001B[38;5;21;01mrasterio\u001B[39;00m\u001B[38;5;250m \u001B[39m\u001B[38;5;28;01mas\u001B[39;00m\u001B[38;5;250m \u001B[39m\u001B[38;5;21;01mrio\u001B[39;00m\n\u001B[1;32m      4\u001B[0m fig, axs \u001B[38;5;241m=\u001B[39m plt\u001B[38;5;241m.\u001B[39msubplots(\u001B[38;5;241m1\u001B[39m, \u001B[38;5;241m2\u001B[39m, figsize\u001B[38;5;241m=\u001B[39m(\u001B[38;5;241m5\u001B[39m, \u001B[38;5;241m3\u001B[39m))\n",
      "File \u001B[0;32m~/venv/lib/python3.10/site-packages/matplotlib/__init__.py:1296\u001B[0m\n\u001B[1;32m   1292\u001B[0m     rcParams[\u001B[38;5;124m'\u001B[39m\u001B[38;5;124mbackend_fallback\u001B[39m\u001B[38;5;124m'\u001B[39m] \u001B[38;5;241m=\u001B[39m \u001B[38;5;28;01mFalse\u001B[39;00m\n\u001B[1;32m   1295\u001B[0m \u001B[38;5;28;01mif\u001B[39;00m os\u001B[38;5;241m.\u001B[39menviron\u001B[38;5;241m.\u001B[39mget(\u001B[38;5;124m'\u001B[39m\u001B[38;5;124mMPLBACKEND\u001B[39m\u001B[38;5;124m'\u001B[39m):\n\u001B[0;32m-> 1296\u001B[0m     \u001B[43mrcParams\u001B[49m\u001B[43m[\u001B[49m\u001B[38;5;124;43m'\u001B[39;49m\u001B[38;5;124;43mbackend\u001B[39;49m\u001B[38;5;124;43m'\u001B[39;49m\u001B[43m]\u001B[49m \u001B[38;5;241m=\u001B[39m os\u001B[38;5;241m.\u001B[39menviron\u001B[38;5;241m.\u001B[39mget(\u001B[38;5;124m'\u001B[39m\u001B[38;5;124mMPLBACKEND\u001B[39m\u001B[38;5;124m'\u001B[39m)\n\u001B[1;32m   1299\u001B[0m \u001B[38;5;28;01mdef\u001B[39;00m\u001B[38;5;250m \u001B[39m\u001B[38;5;21mget_backend\u001B[39m(\u001B[38;5;241m*\u001B[39m, auto_select\u001B[38;5;241m=\u001B[39m\u001B[38;5;28;01mTrue\u001B[39;00m):\n\u001B[1;32m   1300\u001B[0m \u001B[38;5;250m    \u001B[39m\u001B[38;5;124;03m\"\"\"\u001B[39;00m\n\u001B[1;32m   1301\u001B[0m \u001B[38;5;124;03m    Return the name of the current backend.\u001B[39;00m\n\u001B[1;32m   1302\u001B[0m \n\u001B[0;32m   (...)\u001B[0m\n\u001B[1;32m   1320\u001B[0m \u001B[38;5;124;03m    matplotlib.use\u001B[39;00m\n\u001B[1;32m   1321\u001B[0m \u001B[38;5;124;03m    \"\"\"\u001B[39;00m\n",
      "File \u001B[0;32m~/venv/lib/python3.10/site-packages/matplotlib/__init__.py:771\u001B[0m, in \u001B[0;36mRcParams.__setitem__\u001B[0;34m(self, key, val)\u001B[0m\n\u001B[1;32m    769\u001B[0m         cval \u001B[38;5;241m=\u001B[39m \u001B[38;5;28mself\u001B[39m\u001B[38;5;241m.\u001B[39mvalidate[key](val)\n\u001B[1;32m    770\u001B[0m     \u001B[38;5;28;01mexcept\u001B[39;00m \u001B[38;5;167;01mValueError\u001B[39;00m \u001B[38;5;28;01mas\u001B[39;00m ve:\n\u001B[0;32m--> 771\u001B[0m         \u001B[38;5;28;01mraise\u001B[39;00m \u001B[38;5;167;01mValueError\u001B[39;00m(\u001B[38;5;124mf\u001B[39m\u001B[38;5;124m\"\u001B[39m\u001B[38;5;124mKey \u001B[39m\u001B[38;5;132;01m{\u001B[39;00mkey\u001B[38;5;132;01m}\u001B[39;00m\u001B[38;5;124m: \u001B[39m\u001B[38;5;132;01m{\u001B[39;00mve\u001B[38;5;132;01m}\u001B[39;00m\u001B[38;5;124m\"\u001B[39m) \u001B[38;5;28;01mfrom\u001B[39;00m\u001B[38;5;250m \u001B[39m\u001B[38;5;28;01mNone\u001B[39;00m\n\u001B[1;32m    772\u001B[0m     \u001B[38;5;28mself\u001B[39m\u001B[38;5;241m.\u001B[39m_set(key, cval)\n\u001B[1;32m    773\u001B[0m \u001B[38;5;28;01mexcept\u001B[39;00m \u001B[38;5;167;01mKeyError\u001B[39;00m \u001B[38;5;28;01mas\u001B[39;00m err:\n",
      "\u001B[0;31mValueError\u001B[0m: Key backend: 'module://matplotlib_inline.backend_inline' is not a valid value for backend; supported values are ['gtk3agg', 'gtk3cairo', 'gtk4agg', 'gtk4cairo', 'macosx', 'nbagg', 'notebook', 'qtagg', 'qtcairo', 'qt5agg', 'qt5cairo', 'tkagg', 'tkcairo', 'webagg', 'wx', 'wxagg', 'wxcairo', 'agg', 'cairo', 'pdf', 'pgf', 'ps', 'svg', 'template']"
     ]
    }
   ],
   "source": [
    "import matplotlib.pyplot as plt\n",
    "import rasterio as rio\n",
    "\n",
    "fig, axs = plt.subplots(1, 3, figsize=(12, 4))\n",
    "\n",
    "# Satellogic (HR)\n",
    "axs[0].imshow((rio.open(dst_path_sat).read()[:3, ...].transpose(1, 2, 0) / 3000).clip(0, 1))\n",
    "axs[0].set_title(\"Satellogic (HR)\")\n",
    "axs[0].axis('off')\n",
    "\n",
    "# Sentinel-1 (bands 3, 2, 1 if available; fallback to band 1 grayscale)\n",
    "try:\n",
    "\taxs[1].imshow((rio.open(dst_path_sentinel1).read()[(3, 2, 1), ...].transpose(1, 2, 0) / 3000).clip(0, 1))\n",
    "except Exception as e:\n",
    "\tprint(f\"s1 image loading error: {e}\")\n",
    "\taxs[1].imshow(rio.open(dst_path_sentinel1).read(1), cmap='gray')\n",
    "axs[1].set_title(\"Sentinel-1\")\n",
    "axs[1].axis('off')\n",
    "\n",
    "# Sentinel-2 (RGB: bands 4, 3, 2)\n",
    "axs[2].imshow((rio.open(dst_path_sentinel2).read()[(3, 2, 1), ...].transpose(1, 2, 0) / 3000).clip(0, 1))\n",
    "axs[2].set_title(\"Sentinel-2 (RGB)\")\n",
    "axs[2].axis('off')\n",
    "\n",
    "plt.tight_layout()\n",
    "plt.show()\n"
   ]
  },
  {
   "cell_type": "code",
   "execution_count": 29,
   "metadata": {
    "ExecuteTime": {
     "end_time": "2025-05-21T09:56:08.229137426Z",
     "start_time": "2025-05-20T13:39:47.887351Z"
    }
   },
   "outputs": [
    {
     "ename": "ModuleNotFoundError",
     "evalue": "No module named 'matplotlib'",
     "output_type": "error",
     "traceback": [
      "\u001B[0;31m---------------------------------------------------------------------------\u001B[0m",
      "\u001B[0;31mModuleNotFoundError\u001B[0m                       Traceback (most recent call last)",
      "Cell \u001B[0;32mIn[29], line 1\u001B[0m\n\u001B[0;32m----> 1\u001B[0m \u001B[38;5;28;01mimport\u001B[39;00m\u001B[38;5;250m \u001B[39m\u001B[38;5;21;01mmatplotlib\u001B[39;00m\u001B[38;5;21;01m.\u001B[39;00m\u001B[38;5;21;01mpyplot\u001B[39;00m\u001B[38;5;250m \u001B[39m\u001B[38;5;28;01mas\u001B[39;00m\u001B[38;5;250m \u001B[39m\u001B[38;5;21;01mplt\u001B[39;00m\n\u001B[1;32m      3\u001B[0m \u001B[38;5;66;03m# plot histogram with number of images per zone\u001B[39;00m\n\u001B[1;32m      4\u001B[0m fig \u001B[38;5;241m=\u001B[39m plt\u001B[38;5;241m.\u001B[39mfigure(figsize\u001B[38;5;241m=\u001B[39m(\u001B[38;5;241m15\u001B[39m, \u001B[38;5;241m3\u001B[39m))\n",
      "\u001B[0;31mModuleNotFoundError\u001B[0m: No module named 'matplotlib'"
     ]
    }
   ],
   "source": [
    "import matplotlib.pyplot as plt\n",
    "\n",
    "\n",
    "# plot histogram with number of images per zone\n",
    "fig = plt.figure(figsize=(15, 3))\n",
    "gdf['zone'].value_counts().plot(kind='bar', ax=fig.gca(), grid=True)\n",
    "plt.show()\n"
   ]
  },
  {
   "cell_type": "code",
   "execution_count": null,
   "metadata": {},
   "outputs": [],
   "source": [
    "len(gdf['zone'].unique()), len(gdf['region'].unique())"
   ]
  },
  {
   "cell_type": "code",
   "execution_count": null,
   "metadata": {},
   "outputs": [],
   "source": [
    "gdf['zone'].value_counts().min()"
   ]
  },
  {
   "cell_type": "code",
   "execution_count": null,
   "metadata": {},
   "outputs": [],
   "source": [
    "# plot histogram with number of images per month (all images are from 2022)\n",
    "fig = plt.figure(figsize=(15, 3))\n",
    "gdf['date'].dt.month.value_counts().plot(kind='bar', ax=fig.gca(), grid=True)\n",
    "plt.show()\n"
   ]
  },
  {
   "cell_type": "code",
   "execution_count": null,
   "metadata": {},
   "outputs": [],
   "source": [
    "zones = sorted(gdf['zone'].unique())\n",
    "zone_gdf = gdf[gdf['zone'] == zones[4]]\n",
    "sample = zone_gdf.sample(5, random_state=2025)\n",
    "sample"
   ]
  },
  {
   "cell_type": "markdown",
   "metadata": {},
   "source": [
    "Download the images"
   ]
  },
  {
   "cell_type": "code",
   "execution_count": 7,
   "metadata": {
    "ExecuteTime": {
     "end_time": "2025-05-21T09:56:08.229527746Z",
     "start_time": "2025-05-21T08:25:12.356448Z"
    }
   },
   "outputs": [
    {
     "name": "stdout",
     "output_type": "stream",
     "text": [
      "/bin/bash: line 1: /usr/bin/rm: Argument list too long\r\n",
      "/bin/bash: line 1: /usr/bin/rm: Argument list too long\r\n"
     ]
    }
   ],
   "source": [
    "!rm -rf /fastdata/Satellogic/data/tifs/satellogic/*\n",
    "!rm -rf /fastdata/Satellogic/data/tifs/sentinel2/*"
   ]
  },
  {
   "metadata": {},
   "cell_type": "code",
   "outputs": [],
   "execution_count": null,
   "source": [
    "from download_images import download_matches\n",
    "\n",
    "# now supports S2 + S1\n",
    "matches = []\n",
    "for row, item in sample.iterrows():\n",
    "\tprint(item.json_path)\n",
    "\n",
    "\tsent1_path, sent2_path, sat_path = download_matches((item.matches, item.date, item.json_path, item.geometry.centroid))\n",
    "\n",
    "\tmatches.append((sent1_path, sent2_path, sat_path))"
   ]
  },
  {
   "cell_type": "code",
   "execution_count": null,
   "metadata": {},
   "outputs": [],
   "source": [
    "matches"
   ]
  },
  {
   "cell_type": "code",
   "execution_count": null,
   "metadata": {},
   "outputs": [],
   "source": [
    "import rasterio as rio\n",
    "\n",
    "for match in matches:\n",
    "\tif match is None: continue\n",
    "\n",
    "\ts1_path, s2_path, sat_path = match\n",
    "\n",
    "\tfig, axs = plt.subplots(1, 3, figsize=(12, 4))\n",
    "\n",
    "\t# Satellogic (HR image)\n",
    "\taxs[0].imshow((rio.open(sat_path).read()[:3, ...].transpose(1, 2, 0) / 4000).clip(0, 1))\n",
    "\taxs[0].set_title(\"Satellogic\")\n",
    "\taxs[0].axis('off')\n",
    "\n",
    "\t# Sentinel-1 (Visualize bands 4,3,2 if available, or grayscale fallback)\n",
    "\ttry:\n",
    "\t\taxs[1].imshow((rio.open(s1_path).read()[(3, 2, 1), ...].transpose(1, 2, 0) / 4000).clip(0, 1))\n",
    "\texcept Exception as e:\n",
    "\t\tprint(f\"s1 image loading error: {e}\")\n",
    "\t\taxs[1].imshow(rio.open(s1_path).read(1), cmap='gray')\n",
    "\taxs[1].set_title(\"Sentinel-1\")\n",
    "\taxs[1].axis('off')\n",
    "\n",
    "\t# Sentinel-2 (Bands 4,3,2 — RGB)\n",
    "\taxs[2].imshow((rio.open(s2_path).read()[(3, 2, 1), ...].transpose(1, 2, 0) / 4000).clip(0, 1))\n",
    "\taxs[2].set_title(\"Sentinel-2\")\n",
    "\taxs[2].axis('off')\n",
    "\tplt.show()\n",
    "\n"
   ]
  },
  {
   "cell_type": "code",
   "execution_count": null,
   "metadata": {},
   "outputs": [],
   "source": []
  }
 ],
 "metadata": {
  "kernelspec": {
   "display_name": "Python 3 (ipykernel)",
   "language": "python",
   "name": "python3"
  },
  "language_info": {
   "codemirror_mode": {
    "name": "ipython",
    "version": 3
   },
   "file_extension": ".py",
   "mimetype": "text/x-python",
   "name": "python",
   "nbconvert_exporter": "python",
   "pygments_lexer": "ipython3",
   "version": "3.10.12"
  }
 },
 "nbformat": 4,
 "nbformat_minor": 4
}
