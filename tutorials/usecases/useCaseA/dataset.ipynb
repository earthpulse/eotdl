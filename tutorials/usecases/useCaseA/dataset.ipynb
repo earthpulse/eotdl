{
 "cells": [
  {
   "cell_type": "raw",
   "metadata": {},
   "source": [
    "%load_ext autoreload\n",
    "%autoreload 2"
   ]
  },
  {
   "cell_type": "code",
   "execution_count": 1,
   "metadata": {
    "ExecuteTime": {
     "end_time": "2025-05-21T09:54:30.456382Z",
     "start_time": "2025-05-21T09:54:30.450239Z"
    }
   },
   "outputs": [],
   "source": [
    "import eotdl\n",
    "\n",
    "from eotdl.tutorials.usecases.useCaseA.find_matches import find_sentinel_matches\n"
   ]
  },
  {
   "cell_type": "markdown",
   "metadata": {},
   "source": [
    "In this notebook we generate the dataset for the use case\n",
    "\n",
    "1. Generate list of Satellogic images to be used (containing bb and acquisition time)\n",
    "2. Explore available S1/S2 images with different criteria\n",
    "\t- bounding box overlap\n",
    "\t- acquisition time overlap\n",
    "3. Download matching S1/S2 at given resolution\n",
    "4. Generate metadata and ingest to EOTDL "
   ]
  },
  {
   "cell_type": "code",
   "execution_count": 2,
   "metadata": {},
   "outputs": [
    {
     "data": {
      "text/html": [
       "<div>\n",
       "<style scoped>\n",
       "    .dataframe tbody tr th:only-of-type {\n",
       "        vertical-align: middle;\n",
       "    }\n",
       "\n",
       "    .dataframe tbody tr th {\n",
       "        vertical-align: top;\n",
       "    }\n",
       "\n",
       "    .dataframe thead th {\n",
       "        text-align: right;\n",
       "    }\n",
       "</style>\n",
       "<table border=\"1\" class=\"dataframe\">\n",
       "  <thead>\n",
       "    <tr style=\"text-align: right;\">\n",
       "      <th></th>\n",
       "      <th>json_path</th>\n",
       "      <th>zone</th>\n",
       "      <th>region</th>\n",
       "      <th>date</th>\n",
       "      <th>geometry</th>\n",
       "      <th>matches</th>\n",
       "    </tr>\n",
       "  </thead>\n",
       "  <tbody>\n",
       "    <tr>\n",
       "      <th>0</th>\n",
       "      <td>data/json/zone=51S/region=357067_6579845/date=...</td>\n",
       "      <td>51S</td>\n",
       "      <td>357067_6579845</td>\n",
       "      <td>2022-10-26</td>\n",
       "      <td>POLYGON ((121.50829 -30.90962, 121.50835 -30.9...</td>\n",
       "      <td>[{'id': 'S2B_MSIL2A_20221027T015619_N0400_R117...</td>\n",
       "    </tr>\n",
       "    <tr>\n",
       "      <th>1</th>\n",
       "      <td>data/json/zone=46N/region=374867_2457086/date=...</td>\n",
       "      <td>46N</td>\n",
       "      <td>374867_2457086</td>\n",
       "      <td>2022-12-25</td>\n",
       "      <td>POLYGON ((91.7897 22.2112, 91.78967 22.21467, ...</td>\n",
       "      <td>[{'id': 'S2B_MSIL2A_20221227T043209_N0509_R133...</td>\n",
       "    </tr>\n",
       "    <tr>\n",
       "      <th>2</th>\n",
       "      <td>data/json/zone=38N/region=601805_4299370/date=...</td>\n",
       "      <td>38N</td>\n",
       "      <td>601805_4299370</td>\n",
       "      <td>2022-10-05</td>\n",
       "      <td>POLYGON ((46.17736 38.83375, 46.17741 38.83721...</td>\n",
       "      <td>[{'id': 'S2B_MSIL2A_20221008T074809_N0400_R135...</td>\n",
       "    </tr>\n",
       "    <tr>\n",
       "      <th>3</th>\n",
       "      <td>data/json/zone=20S/region=598796_7170926/date=...</td>\n",
       "      <td>20S</td>\n",
       "      <td>598796_7170926</td>\n",
       "      <td>2022-09-03</td>\n",
       "      <td>POLYGON ((-62.01249 -25.57924, -62.01252 -25.5...</td>\n",
       "      <td>[{'id': 'S2B_MSIL2A_20220906T140709_N0400_R110...</td>\n",
       "    </tr>\n",
       "    <tr>\n",
       "      <th>4</th>\n",
       "      <td>data/json/zone=50N/region=698978_4416263/date=...</td>\n",
       "      <td>50N</td>\n",
       "      <td>698978_4416263</td>\n",
       "      <td>2022-09-04</td>\n",
       "      <td>POLYGON ((119.33101 39.86955, 119.33112 39.873...</td>\n",
       "      <td>[{'id': 'S2A_MSIL2A_20220906T025541_N0400_R032...</td>\n",
       "    </tr>\n",
       "  </tbody>\n",
       "</table>\n",
       "</div>"
      ],
      "text/plain": [
       "                                           json_path zone          region  \\\n",
       "0  data/json/zone=51S/region=357067_6579845/date=...  51S  357067_6579845   \n",
       "1  data/json/zone=46N/region=374867_2457086/date=...  46N  374867_2457086   \n",
       "2  data/json/zone=38N/region=601805_4299370/date=...  38N  601805_4299370   \n",
       "3  data/json/zone=20S/region=598796_7170926/date=...  20S  598796_7170926   \n",
       "4  data/json/zone=50N/region=698978_4416263/date=...  50N  698978_4416263   \n",
       "\n",
       "        date                                           geometry  \\\n",
       "0 2022-10-26  POLYGON ((121.50829 -30.90962, 121.50835 -30.9...   \n",
       "1 2022-12-25  POLYGON ((91.7897 22.2112, 91.78967 22.21467, ...   \n",
       "2 2022-10-05  POLYGON ((46.17736 38.83375, 46.17741 38.83721...   \n",
       "3 2022-09-03  POLYGON ((-62.01249 -25.57924, -62.01252 -25.5...   \n",
       "4 2022-09-04  POLYGON ((119.33101 39.86955, 119.33112 39.873...   \n",
       "\n",
       "                                             matches  \n",
       "0  [{'id': 'S2B_MSIL2A_20221027T015619_N0400_R117...  \n",
       "1  [{'id': 'S2B_MSIL2A_20221227T043209_N0509_R133...  \n",
       "2  [{'id': 'S2B_MSIL2A_20221008T074809_N0400_R135...  \n",
       "3  [{'id': 'S2B_MSIL2A_20220906T140709_N0400_R110...  \n",
       "4  [{'id': 'S2A_MSIL2A_20220906T025541_N0400_R032...  "
      ]
     },
     "execution_count": 2,
     "metadata": {},
     "output_type": "execute_result"
    }
   ],
   "source": [
    "import geopandas as gpd\n",
    "\n",
    "# gdf = gpd.read_parquet('/fastdata/Satellogic/data/satellogic-earthview-items.parquet')\n",
    "gdf = gpd.read_parquet('/fastdata/Satellogic/data/satellogic-earthview-items-with-matches.parquet')\n",
    "# json_path, zone, region, date, geometry, matches\n",
    "# json_path, zone, region, date, geometry\n",
    "gdf.head()\n"
   ]
  },
  {
   "cell_type": "code",
   "execution_count": 3,
   "metadata": {},
   "outputs": [
    {
     "data": {
      "text/plain": [
       "(1000000, 6)"
      ]
     },
     "execution_count": 3,
     "metadata": {},
     "output_type": "execute_result"
    }
   ],
   "source": [
    "gdf.shape"
   ]
  },
  {
   "cell_type": "code",
   "execution_count": 4,
   "metadata": {
    "ExecuteTime": {
     "end_time": "2025-05-21T09:56:08.226595969Z",
     "start_time": "2025-05-21T07:48:15.802568Z"
    }
   },
   "outputs": [
    {
     "data": {
      "text/plain": [
       "num_matches\n",
       "2     342069\n",
       "1     284880\n",
       "3     168153\n",
       "4     104093\n",
       "6      75391\n",
       "8       7456\n",
       "0       4926\n",
       "12      4115\n",
       "9       3116\n",
       "5       2010\n",
       "11      1322\n",
       "10      1273\n",
       "7        963\n",
       "15       233\n",
       "Name: count, dtype: int64"
      ]
     },
     "execution_count": 4,
     "metadata": {},
     "output_type": "execute_result"
    }
   ],
   "source": [
    "gdf['num_matches'] = gdf.matches.apply(len)\n",
    "gdf['num_matches'].value_counts()"
   ]
  },
  {
   "cell_type": "code",
   "execution_count": 5,
   "metadata": {
    "ExecuteTime": {
     "end_time": "2025-05-21T09:56:08.227148687Z",
     "start_time": "2025-05-20T13:57:47.616876Z"
    }
   },
   "outputs": [
    {
     "data": {
      "text/plain": [
       "array([array([{'id': 'S2B_MSIL2A_20221211T173729_N0509_R055_T13QDD_20221211T202142', 'properties': {'datetime': '2022-12-11T17:48:04Z', 'eo:cloud_cover': 0.89}}],\n",
       "             dtype=object)                                                                                                                                        ],\n",
       "      dtype=object)"
      ]
     },
     "execution_count": 5,
     "metadata": {},
     "output_type": "execute_result"
    }
   ],
   "source": [
    "gdf['matches'].sample(1).values"
   ]
  },
  {
   "cell_type": "code",
   "execution_count": 6,
   "metadata": {
    "ExecuteTime": {
     "end_time": "2025-05-21T09:56:08.227428178Z",
     "start_time": "2025-05-20T13:57:47.675007Z"
    }
   },
   "outputs": [
    {
     "name": "stdout",
     "output_type": "stream",
     "text": [
      "[{'id': 'S2B_MSIL2A_20220815T062629_N0400_R077_T41SMS_20220815T081541', 'properties': {'datetime': '2022-08-15T06:40:18Z', 'eo:cloud_cover': 0.0}}\n",
      " {'id': 'S2B_MSIL2A_20220815T062629_N0400_R077_T41SMT_20220815T081541', 'properties': {'datetime': '2022-08-15T06:40:04Z', 'eo:cloud_cover': 0.0}}\n",
      " {'id': 'S2A_MSIL2A_20220813T063641_N0400_R120_T41SMS_20220813T103103', 'properties': {'datetime': '2022-08-13T06:50:22Z', 'eo:cloud_cover': 0.0}}\n",
      " {'id': 'S2A_MSIL2A_20220813T063641_N0400_R120_T41SMT_20220813T103103', 'properties': {'datetime': '2022-08-13T06:50:09Z', 'eo:cloud_cover': 7.0}}\n",
      " {'id': 'S2A_MSIL2A_20220810T062641_N0400_R077_T41SMS_20220810T110156', 'properties': {'datetime': '2022-08-10T06:40:27Z', 'eo:cloud_cover': 0.0}}\n",
      " {'id': 'S2A_MSIL2A_20220810T062641_N0400_R077_T41SMT_20220810T110156', 'properties': {'datetime': '2022-08-10T06:40:13Z', 'eo:cloud_cover': 0.0}}]\n"
     ]
    }
   ],
   "source": [
    "sample =  gdf.sample(1)\n",
    "\n",
    "results = sample.matches.values\n",
    "\n",
    "print(results[0])"
   ]
  },
  {
   "cell_type": "code",
   "execution_count": 7,
   "metadata": {
    "ExecuteTime": {
     "end_time": "2025-05-21T09:56:13.249141Z",
     "start_time": "2025-05-21T09:56:12.923250Z"
    }
   },
   "outputs": [
    {
     "name": "stderr",
     "output_type": "stream",
     "text": [
      "/home/ben/venv/lib/python3.10/site-packages/tqdm/auto.py:21: TqdmWarning: IProgress not found. Please update jupyter and ipywidgets. See https://ipywidgets.readthedocs.io/en/stable/user_install.html\n",
      "  from .autonotebook import tqdm as notebook_tqdm\n"
     ]
    },
    {
     "name": "stdout",
     "output_type": "stream",
     "text": [
      "collecting...\n",
      "{'id': 'S2B_MSIL2A_20220815T062629_N0400_R077_T41SMS_20220815T081541', 'properties': {'datetime': '2022-08-15T06:40:18Z', 'eo:cloud_cover': 0.0}}\n",
      "{'id': 'S2B_MSIL2A_20220815T062629_N0400_R077_T41SMT_20220815T081541', 'properties': {'datetime': '2022-08-15T06:40:04Z', 'eo:cloud_cover': 0.0}}\n",
      "{'id': 'S2A_MSIL2A_20220813T063641_N0400_R120_T41SMS_20220813T103103', 'properties': {'datetime': '2022-08-13T06:50:22Z', 'eo:cloud_cover': 0.0}}\n",
      "{'id': 'S2A_MSIL2A_20220813T063641_N0400_R120_T41SMT_20220813T103103', 'properties': {'datetime': '2022-08-13T06:50:09Z', 'eo:cloud_cover': 7.0}}\n",
      "{'id': 'S2A_MSIL2A_20220810T062641_N0400_R077_T41SMS_20220810T110156', 'properties': {'datetime': '2022-08-10T06:40:27Z', 'eo:cloud_cover': 0.0}}\n",
      "{'id': 'S2A_MSIL2A_20220810T062641_N0400_R077_T41SMT_20220810T110156', 'properties': {'datetime': '2022-08-10T06:40:13Z', 'eo:cloud_cover': 0.0}}\n",
      "[62.24540369593239, 33.406532003378786, 62.24946054567369, 33.409984012515494] 2022-08-13\n"
     ]
    },
    {
     "ename": "ValueError",
     "evalue": "Your are not logged in and have not provided Sentinel Hub credentials. Please, crete a .env file with your SH_CLIENT_ID and SH_CLIENT_SECRET, or login",
     "output_type": "error",
     "traceback": [
      "\u001B[0;31m---------------------------------------------------------------------------\u001B[0m",
      "\u001B[0;31mValueError\u001B[0m                                Traceback (most recent call last)",
      "Cell \u001B[0;32mIn[7], line 83\u001B[0m\n\u001B[1;32m     80\u001B[0m \t\t\u001B[38;5;28mprint\u001B[39m(custom_bbox, closest_match[\u001B[38;5;124m'\u001B[39m\u001B[38;5;124mproperties\u001B[39m\u001B[38;5;124m'\u001B[39m][\u001B[38;5;124m'\u001B[39m\u001B[38;5;124mdatetime\u001B[39m\u001B[38;5;124m'\u001B[39m]\u001B[38;5;241m.\u001B[39msplit(\u001B[38;5;124m'\u001B[39m\u001B[38;5;124mT\u001B[39m\u001B[38;5;124m'\u001B[39m)[\u001B[38;5;241m0\u001B[39m])\n\u001B[1;32m     82\u001B[0m         \u001B[38;5;66;03m# download the sat image with those bounds.\u001B[39;00m\n\u001B[0;32m---> 83\u001B[0m \t\t\u001B[43mdownload_sentinel_imagery\u001B[49m\u001B[43m(\u001B[49m\u001B[38;5;124;43m\"\u001B[39;49m\u001B[38;5;124;43msample/sentinel2\u001B[39;49m\u001B[38;5;124;43m\"\u001B[39;49m\u001B[43m,\u001B[49m\u001B[43m \u001B[49m\u001B[43mclosest_match\u001B[49m\u001B[43m[\u001B[49m\u001B[38;5;124;43m'\u001B[39;49m\u001B[38;5;124;43mproperties\u001B[39;49m\u001B[38;5;124;43m'\u001B[39;49m\u001B[43m]\u001B[49m\u001B[43m[\u001B[49m\u001B[38;5;124;43m'\u001B[39;49m\u001B[38;5;124;43mdatetime\u001B[39;49m\u001B[38;5;124;43m'\u001B[39;49m\u001B[43m]\u001B[49m\u001B[43m,\u001B[49m\u001B[43m \u001B[49m\u001B[43mcustom_bbox\u001B[49m\u001B[43m,\u001B[49m\u001B[43m \u001B[49m\u001B[38;5;124;43m\"\u001B[39;49m\u001B[38;5;124;43msentinel-2-l2a\u001B[39;49m\u001B[38;5;124;43m\"\u001B[39;49m\u001B[43m,\u001B[49m\u001B[43m \u001B[49m\u001B[43mname\u001B[49m\u001B[38;5;241;43m=\u001B[39;49m\u001B[43mname\u001B[49m\u001B[43m)\u001B[49m\n\u001B[1;32m     84\u001B[0m \t\t\u001B[38;5;66;03m# Path(str(dst_path_sentinel).replace('.tif', '.json')).unlink(missing_ok=True)\u001B[39;00m\n",
      "File \u001B[0;32m~/venv/lib/python3.10/site-packages/eotdl/access/download.py:31\u001B[0m, in \u001B[0;36mdownload_sentinel_imagery\u001B[0;34m(output, time_interval, bounding_box, collection_id, name)\u001B[0m\n\u001B[1;32m     29\u001B[0m evaluate_sentinel_parameters(time_interval, bounding_box, collection_id, output)\n\u001B[1;32m     30\u001B[0m parameters \u001B[38;5;241m=\u001B[39m get_default_parameters(collection_id)\n\u001B[0;32m---> 31\u001B[0m \u001B[38;5;28;01mreturn\u001B[39;00m \u001B[43madvanced_imagery_download\u001B[49m\u001B[43m(\u001B[49m\n\u001B[1;32m     32\u001B[0m \u001B[43m    \u001B[49m\u001B[43moutput\u001B[49m\u001B[43m,\u001B[49m\u001B[43m \u001B[49m\u001B[43mtime_interval\u001B[49m\u001B[43m,\u001B[49m\u001B[43m \u001B[49m\u001B[43mbounding_box\u001B[49m\u001B[43m,\u001B[49m\u001B[43m \u001B[49m\u001B[43mparameters\u001B[49m\u001B[43m,\u001B[49m\u001B[43m \u001B[49m\u001B[43mname\u001B[49m\n\u001B[1;32m     33\u001B[0m \u001B[43m\u001B[49m\u001B[43m)\u001B[49m\n",
      "File \u001B[0;32m~/venv/lib/python3.10/site-packages/eotdl/access/download.py:49\u001B[0m, in \u001B[0;36madvanced_imagery_download\u001B[0;34m(output, time_interval, bounding_box, parameters, name)\u001B[0m\n\u001B[1;32m     43\u001B[0m \u001B[38;5;250m\u001B[39m\u001B[38;5;124;03m\"\"\"\u001B[39;00m\n\u001B[1;32m     44\u001B[0m \u001B[38;5;124;03mAdvanced imagery download\u001B[39;00m\n\u001B[1;32m     45\u001B[0m \u001B[38;5;124;03m\"\"\"\u001B[39;00m\n\u001B[1;32m     46\u001B[0m evaluate_sentinel_parameters(\n\u001B[1;32m     47\u001B[0m     time_interval, bounding_box, output\u001B[38;5;241m=\u001B[39moutput, parameters\u001B[38;5;241m=\u001B[39mparameters\n\u001B[1;32m     48\u001B[0m )\n\u001B[0;32m---> 49\u001B[0m client \u001B[38;5;241m=\u001B[39m \u001B[43mSHClient\u001B[49m\u001B[43m(\u001B[49m\u001B[43mparameters\u001B[49m\u001B[38;5;241;43m.\u001B[39;49m\u001B[43mBASE_URL\u001B[49m\u001B[43m)\u001B[49m\n\u001B[1;32m     51\u001B[0m results \u001B[38;5;241m=\u001B[39m advanced_imagery_search(time_interval, bounding_box, parameters)\n\u001B[1;32m     52\u001B[0m timestamps \u001B[38;5;241m=\u001B[39m results\u001B[38;5;241m.\u001B[39mget_timestamps()\n",
      "File \u001B[0;32m~/venv/lib/python3.10/site-packages/eotdl/access/sentinelhub/client.py:43\u001B[0m, in \u001B[0;36mSHClient.__init__\u001B[0;34m(self, base_url)\u001B[0m\n\u001B[1;32m     41\u001B[0m creds_file \u001B[38;5;241m=\u001B[39m auth_repo\u001B[38;5;241m.\u001B[39mcreds_path\n\u001B[1;32m     42\u001B[0m \u001B[38;5;28;01mif\u001B[39;00m \u001B[38;5;129;01mnot\u001B[39;00m exists(creds_file):\n\u001B[0;32m---> 43\u001B[0m     \u001B[38;5;28;01mraise\u001B[39;00m \u001B[38;5;167;01mValueError\u001B[39;00m(\n\u001B[1;32m     44\u001B[0m         \u001B[38;5;124m\"\u001B[39m\u001B[38;5;124mYour are not logged in and have not provided Sentinel Hub credentials. Please, crete a .env file with your SH_CLIENT_ID and SH_CLIENT_SECRET, or login\u001B[39m\u001B[38;5;124m\"\u001B[39m\n\u001B[1;32m     45\u001B[0m     )\n\u001B[1;32m     46\u001B[0m \u001B[38;5;28;01melse\u001B[39;00m:\n\u001B[1;32m     47\u001B[0m     \u001B[38;5;28;01mwith\u001B[39;00m \u001B[38;5;28mopen\u001B[39m(creds_file, \u001B[38;5;124m\"\u001B[39m\u001B[38;5;124mr\u001B[39m\u001B[38;5;124m\"\u001B[39m, encoding\u001B[38;5;241m=\u001B[39m\u001B[38;5;124m\"\u001B[39m\u001B[38;5;124mutf-8\u001B[39m\u001B[38;5;124m\"\u001B[39m) \u001B[38;5;28;01mas\u001B[39;00m f:\n",
      "\u001B[0;31mValueError\u001B[0m: Your are not logged in and have not provided Sentinel Hub credentials. Please, crete a .env file with your SH_CLIENT_ID and SH_CLIENT_SECRET, or login"
     ]
    }
   ],
   "source": [
    "from datetime import datetime\n",
    "import json\n",
    "from pathlib import Path\n",
    "import requests\n",
    "from eotdl.tools import bbox_from_centroid\n",
    "from eotdl.access import download_sentinel_imagery\n",
    "import shutil\n",
    "import os\n",
    "\n",
    "CLOUD_COVER_THRESHOLD = 0.1\n",
    "WIDTH = 38\n",
    "HEIGHT = 38\n",
    "\n",
    "shutil.rmtree('sample')\n",
    "os.makedirs('sample', exist_ok=True)\n",
    "\n",
    "\n",
    "# starting from HR data (Satellogic), find available S1/S2 that matches in time/area\n",
    "# take all matches, remove ones with >= 10% cloud cover,\n",
    "\n",
    "print(\"collecting...\")\n",
    "\n",
    "if len(results[0]) > 0:\n",
    "\t\n",
    "\tsamp_results = results[0]\n",
    "\t\n",
    "\t# filter by cloud cover\n",
    "\tresults_filtered = [\n",
    "\t\tr for r in samp_results\n",
    "\t\tif r['properties']['eo:cloud_cover'] <= CLOUD_COVER_THRESHOLD\n",
    "\t]\n",
    "\n",
    "\tfor r in samp_results:\n",
    "\t\tprint(r)\n",
    "\n",
    "\tif len(results_filtered) > 0:\n",
    "        \n",
    "\t\t# Find sat image and sent2 image that are closest in time\n",
    "\t\tdate = sample.date.iloc[0]\n",
    "\t\tclosest_match = min(results_filtered, key=lambda x: abs(datetime.fromisoformat(x['properties']['datetime'].replace('Z','')) - date))\n",
    "\t\t\n",
    "\t\t# in short, satellogic segment downloads from url using metadata, and saves in chunks to local sample dir\n",
    "        # the sentinal 2 segment downloads image from local path (/fastdata/Satellogic/data/), \n",
    "        \n",
    "        # sat (hr) image is huge. sample var is the details of the sat image, including its metadata and where to download it. \n",
    "        # we download the sent2 image of a small box.\n",
    "\t\t\n",
    "\t\t# satellogic (HR DATA)\n",
    "        \n",
    "\t\t# get path to metadata file\n",
    "\t\tjson_path = sample.json_path.iloc[0]  #\n",
    "\t\tjson_path = json_path.replace('data/', '/fastdata/Satellogic/data/')  #\n",
    "\t\twith open(json_path, 'r') as f:\n",
    "\t\t\tmetadata = json.load(f)\n",
    "            \n",
    "        # get download link from metadata    \n",
    "\t\turl = metadata['assets']['analytic']['href']\n",
    "        \n",
    "        # make path where the sat (hr) image will be saved. download, and then write in chunks to that location. \n",
    "\t\toutput_path = Path(\"sample/satellogic\") / url.split('/')[-1]\n",
    "\t\toutput_path.parent.mkdir(parents=True, exist_ok=True)\n",
    "\t\tresponse = requests.get(url, stream=True)\n",
    "\t\tresponse.raise_for_status()\n",
    "\t\twith open(output_path, 'wb') as f:\n",
    "\t\t\tfor chunk in response.iter_content(chunk_size=8192):\n",
    "\t\t\t\tf.write(chunk)\n",
    "\t\t\n",
    "\t\t# sentinel 1\n",
    "        \n",
    "\t\t# get sentinal 2 image path by simply replacing json path ending with .tif ending.\n",
    "\t\tprint(\"downloading S1...\")\n",
    "\t\tname = json_path.split('/')[-1].replace('_metadata.json', '_S1GRD')\n",
    "\t\tdst_path_sentinel = \"sample/sentinel1/\" + name + '.tif'\n",
    "\n",
    "\t\t# get centroid/center point of sat image.\n",
    "\t\tcentroid = sample.geometry.iloc[0].centroid\n",
    "\n",
    "\t\t# declare bounds/little square of the close up of the sat image that you want. \n",
    "\t\tcustom_bbox = bbox_from_centroid(x=centroid.y, y=centroid.x, pixel_size=10, width=WIDTH, height=HEIGHT)\n",
    "\t\t# print(sample.geometry.iloc[0].bounds)\n",
    "\t\tprint(custom_bbox, closest_match['properties']['datetime'].split('T')[0])\n",
    "\n",
    "\t\t# download the sat image with those bounds.\n",
    "\t\tdownload_sentinel_imagery(\"sample/sentinel1\", closest_match['properties']['datetime'], custom_bbox, \"sentinel-1-grd\", name=name)\n",
    "\t\t# Path(str(dst_path_sentinel).replace('.tif', '.json')).unlink(missing_ok=True)\n",
    "        \n",
    "\t\t\n",
    "\t\t# sentinel 2\n",
    "\n",
    "\t\t# get sentinal 2 image path by simply replacing json path ending with .tif ending.\n",
    "\t\tprint(\"downloading S2...\")\n",
    "\t\tname = json_path.split('/')[-1].replace('_metadata.json', '_S2L2A')\n",
    "\t\tdst_path_sentinel = \"sample/sentinel2/\" + name + '.tif'\n",
    "        \n",
    "        # get centroid/center point of sat image.\n",
    "\t\tcentroid = sample.geometry.iloc[0].centroid\n",
    "        \n",
    "        # declare bounds/little square of the close up of the sat image that you want. \n",
    "\t\tcustom_bbox = bbox_from_centroid(x=centroid.y, y=centroid.x, pixel_size=10, width=WIDTH, height=HEIGHT)\n",
    "\t\t# print(sample.geometry.iloc[0].bounds)\n",
    "\t\tprint(custom_bbox, closest_match['properties']['datetime'].split('T')[0])\n",
    "        \n",
    "        # download the sat image with those bounds.\n",
    "\t\tdownload_sentinel_imagery(\"sample/sentinel2\", closest_match['properties']['datetime'], custom_bbox, \"sentinel-2-l2a\", name=name)\n",
    "\t\t# Path(str(dst_path_sentinel).replace('.tif', '.json')).unlink(missing_ok=True)\n",
    "\n",
    "    "
   ]
  },
  {
   "cell_type": "code",
   "execution_count": 25,
   "metadata": {
    "ExecuteTime": {
     "end_time": "2025-05-21T09:56:08.228942288Z",
     "start_time": "2025-05-20T13:57:47.777358Z"
    }
   },
   "outputs": [
    {
     "ename": "ValueError",
     "evalue": "Key backend: 'module://matplotlib_inline.backend_inline' is not a valid value for backend; supported values are ['gtk3agg', 'gtk3cairo', 'gtk4agg', 'gtk4cairo', 'macosx', 'nbagg', 'notebook', 'qtagg', 'qtcairo', 'qt5agg', 'qt5cairo', 'tkagg', 'tkcairo', 'webagg', 'wx', 'wxagg', 'wxcairo', 'agg', 'cairo', 'pdf', 'pgf', 'ps', 'svg', 'template']",
     "output_type": "error",
     "traceback": [
      "\u001B[0;31m---------------------------------------------------------------------------\u001B[0m",
      "\u001B[0;31mValueError\u001B[0m                                Traceback (most recent call last)",
      "Cell \u001B[0;32mIn[25], line 1\u001B[0m\n\u001B[0;32m----> 1\u001B[0m \u001B[38;5;28;01mimport\u001B[39;00m\u001B[38;5;250m \u001B[39m\u001B[38;5;21;01mmatplotlib\u001B[39;00m\u001B[38;5;21;01m.\u001B[39;00m\u001B[38;5;21;01mpyplot\u001B[39;00m\u001B[38;5;250m \u001B[39m\u001B[38;5;28;01mas\u001B[39;00m\u001B[38;5;250m \u001B[39m\u001B[38;5;21;01mplt\u001B[39;00m\n\u001B[1;32m      2\u001B[0m \u001B[38;5;28;01mimport\u001B[39;00m\u001B[38;5;250m \u001B[39m\u001B[38;5;21;01mrasterio\u001B[39;00m\u001B[38;5;250m \u001B[39m\u001B[38;5;28;01mas\u001B[39;00m\u001B[38;5;250m \u001B[39m\u001B[38;5;21;01mrio\u001B[39;00m\n\u001B[1;32m      4\u001B[0m fig, axs \u001B[38;5;241m=\u001B[39m plt\u001B[38;5;241m.\u001B[39msubplots(\u001B[38;5;241m1\u001B[39m, \u001B[38;5;241m2\u001B[39m, figsize\u001B[38;5;241m=\u001B[39m(\u001B[38;5;241m5\u001B[39m, \u001B[38;5;241m3\u001B[39m))\n",
      "File \u001B[0;32m~/venv/lib/python3.10/site-packages/matplotlib/__init__.py:1296\u001B[0m\n\u001B[1;32m   1292\u001B[0m     rcParams[\u001B[38;5;124m'\u001B[39m\u001B[38;5;124mbackend_fallback\u001B[39m\u001B[38;5;124m'\u001B[39m] \u001B[38;5;241m=\u001B[39m \u001B[38;5;28;01mFalse\u001B[39;00m\n\u001B[1;32m   1295\u001B[0m \u001B[38;5;28;01mif\u001B[39;00m os\u001B[38;5;241m.\u001B[39menviron\u001B[38;5;241m.\u001B[39mget(\u001B[38;5;124m'\u001B[39m\u001B[38;5;124mMPLBACKEND\u001B[39m\u001B[38;5;124m'\u001B[39m):\n\u001B[0;32m-> 1296\u001B[0m     \u001B[43mrcParams\u001B[49m\u001B[43m[\u001B[49m\u001B[38;5;124;43m'\u001B[39;49m\u001B[38;5;124;43mbackend\u001B[39;49m\u001B[38;5;124;43m'\u001B[39;49m\u001B[43m]\u001B[49m \u001B[38;5;241m=\u001B[39m os\u001B[38;5;241m.\u001B[39menviron\u001B[38;5;241m.\u001B[39mget(\u001B[38;5;124m'\u001B[39m\u001B[38;5;124mMPLBACKEND\u001B[39m\u001B[38;5;124m'\u001B[39m)\n\u001B[1;32m   1299\u001B[0m \u001B[38;5;28;01mdef\u001B[39;00m\u001B[38;5;250m \u001B[39m\u001B[38;5;21mget_backend\u001B[39m(\u001B[38;5;241m*\u001B[39m, auto_select\u001B[38;5;241m=\u001B[39m\u001B[38;5;28;01mTrue\u001B[39;00m):\n\u001B[1;32m   1300\u001B[0m \u001B[38;5;250m    \u001B[39m\u001B[38;5;124;03m\"\"\"\u001B[39;00m\n\u001B[1;32m   1301\u001B[0m \u001B[38;5;124;03m    Return the name of the current backend.\u001B[39;00m\n\u001B[1;32m   1302\u001B[0m \n\u001B[0;32m   (...)\u001B[0m\n\u001B[1;32m   1320\u001B[0m \u001B[38;5;124;03m    matplotlib.use\u001B[39;00m\n\u001B[1;32m   1321\u001B[0m \u001B[38;5;124;03m    \"\"\"\u001B[39;00m\n",
      "File \u001B[0;32m~/venv/lib/python3.10/site-packages/matplotlib/__init__.py:771\u001B[0m, in \u001B[0;36mRcParams.__setitem__\u001B[0;34m(self, key, val)\u001B[0m\n\u001B[1;32m    769\u001B[0m         cval \u001B[38;5;241m=\u001B[39m \u001B[38;5;28mself\u001B[39m\u001B[38;5;241m.\u001B[39mvalidate[key](val)\n\u001B[1;32m    770\u001B[0m     \u001B[38;5;28;01mexcept\u001B[39;00m \u001B[38;5;167;01mValueError\u001B[39;00m \u001B[38;5;28;01mas\u001B[39;00m ve:\n\u001B[0;32m--> 771\u001B[0m         \u001B[38;5;28;01mraise\u001B[39;00m \u001B[38;5;167;01mValueError\u001B[39;00m(\u001B[38;5;124mf\u001B[39m\u001B[38;5;124m\"\u001B[39m\u001B[38;5;124mKey \u001B[39m\u001B[38;5;132;01m{\u001B[39;00mkey\u001B[38;5;132;01m}\u001B[39;00m\u001B[38;5;124m: \u001B[39m\u001B[38;5;132;01m{\u001B[39;00mve\u001B[38;5;132;01m}\u001B[39;00m\u001B[38;5;124m\"\u001B[39m) \u001B[38;5;28;01mfrom\u001B[39;00m\u001B[38;5;250m \u001B[39m\u001B[38;5;28;01mNone\u001B[39;00m\n\u001B[1;32m    772\u001B[0m     \u001B[38;5;28mself\u001B[39m\u001B[38;5;241m.\u001B[39m_set(key, cval)\n\u001B[1;32m    773\u001B[0m \u001B[38;5;28;01mexcept\u001B[39;00m \u001B[38;5;167;01mKeyError\u001B[39;00m \u001B[38;5;28;01mas\u001B[39;00m err:\n",
      "\u001B[0;31mValueError\u001B[0m: Key backend: 'module://matplotlib_inline.backend_inline' is not a valid value for backend; supported values are ['gtk3agg', 'gtk3cairo', 'gtk4agg', 'gtk4cairo', 'macosx', 'nbagg', 'notebook', 'qtagg', 'qtcairo', 'qt5agg', 'qt5cairo', 'tkagg', 'tkcairo', 'webagg', 'wx', 'wxagg', 'wxcairo', 'agg', 'cairo', 'pdf', 'pgf', 'ps', 'svg', 'template']"
     ]
    }
   ],
   "source": [
    "import matplotlib.pyplot as plt\n",
    "import rasterio as rio\n",
    "\n",
    "fig, axs = plt.subplots(1, 2, figsize=(5, 3))\n",
    "axs[0].imshow((rio.open(output_path).read()[:3,...].transpose(1, 2, 0) / 3000).clip(0, 1))\n",
    "axs[0].axis('off')\n",
    "axs[1].imshow((rio.open(dst_path_sentinel).read()[(3,2,1),...].transpose(1, 2, 0) / 3000).clip(0, 1))\n",
    "axs[1].axis('off')\n",
    "plt.show()"
   ]
  },
  {
   "cell_type": "code",
   "execution_count": 29,
   "metadata": {
    "ExecuteTime": {
     "end_time": "2025-05-21T09:56:08.229137426Z",
     "start_time": "2025-05-20T13:39:47.887351Z"
    }
   },
   "outputs": [
    {
     "ename": "ModuleNotFoundError",
     "evalue": "No module named 'matplotlib'",
     "output_type": "error",
     "traceback": [
      "\u001B[0;31m---------------------------------------------------------------------------\u001B[0m",
      "\u001B[0;31mModuleNotFoundError\u001B[0m                       Traceback (most recent call last)",
      "Cell \u001B[0;32mIn[29], line 1\u001B[0m\n\u001B[0;32m----> 1\u001B[0m \u001B[38;5;28;01mimport\u001B[39;00m\u001B[38;5;250m \u001B[39m\u001B[38;5;21;01mmatplotlib\u001B[39;00m\u001B[38;5;21;01m.\u001B[39;00m\u001B[38;5;21;01mpyplot\u001B[39;00m\u001B[38;5;250m \u001B[39m\u001B[38;5;28;01mas\u001B[39;00m\u001B[38;5;250m \u001B[39m\u001B[38;5;21;01mplt\u001B[39;00m\n\u001B[1;32m      3\u001B[0m \u001B[38;5;66;03m# plot histogram with number of images per zone\u001B[39;00m\n\u001B[1;32m      4\u001B[0m fig \u001B[38;5;241m=\u001B[39m plt\u001B[38;5;241m.\u001B[39mfigure(figsize\u001B[38;5;241m=\u001B[39m(\u001B[38;5;241m15\u001B[39m, \u001B[38;5;241m3\u001B[39m))\n",
      "\u001B[0;31mModuleNotFoundError\u001B[0m: No module named 'matplotlib'"
     ]
    }
   ],
   "source": [
    "import matplotlib.pyplot as plt\n",
    "\n",
    "\n",
    "# plot histogram with number of images per zone\n",
    "fig = plt.figure(figsize=(15, 3))\n",
    "gdf['zone'].value_counts().plot(kind='bar', ax=fig.gca(), grid=True)\n",
    "plt.show()\n"
   ]
  },
  {
   "cell_type": "code",
   "execution_count": null,
   "metadata": {},
   "outputs": [],
   "source": [
    "len(gdf['zone'].unique()), len(gdf['region'].unique())"
   ]
  },
  {
   "cell_type": "code",
   "execution_count": null,
   "metadata": {},
   "outputs": [],
   "source": [
    "gdf['zone'].value_counts().min()"
   ]
  },
  {
   "cell_type": "code",
   "execution_count": null,
   "metadata": {},
   "outputs": [],
   "source": [
    "# plot histogram with number of images per month (all images are from 2022)\n",
    "fig = plt.figure(figsize=(15, 3))\n",
    "gdf['date'].dt.month.value_counts().plot(kind='bar', ax=fig.gca(), grid=True)\n",
    "plt.show()\n"
   ]
  },
  {
   "cell_type": "code",
   "execution_count": null,
   "metadata": {},
   "outputs": [],
   "source": [
    "zones = sorted(gdf['zone'].unique())\n",
    "zone_gdf = gdf[gdf['zone'] == zones[4]]\n",
    "sample = zone_gdf.sample(5, random_state=2025)\n",
    "sample"
   ]
  },
  {
   "cell_type": "markdown",
   "metadata": {},
   "source": [
    "Download the images"
   ]
  },
  {
   "cell_type": "code",
   "execution_count": 7,
   "metadata": {
    "ExecuteTime": {
     "end_time": "2025-05-21T09:56:08.229527746Z",
     "start_time": "2025-05-21T08:25:12.356448Z"
    }
   },
   "outputs": [
    {
     "name": "stdout",
     "output_type": "stream",
     "text": [
      "/bin/bash: line 1: /usr/bin/rm: Argument list too long\r\n",
      "/bin/bash: line 1: /usr/bin/rm: Argument list too long\r\n"
     ]
    }
   ],
   "source": [
    "!rm -rf /fastdata/Satellogic/data/tifs/satellogic/*\n",
    "!rm -rf /fastdata/Satellogic/data/tifs/sentinel2/*"
   ]
  },
  {
   "metadata": {},
   "cell_type": "code",
   "outputs": [],
   "execution_count": null,
   "source": [
    "from dataset import search_matches\n",
    "\n",
    "\n",
    "# now supports S2 + S1\n",
    "matches = []\n",
    "for row, item in sample.iterrows():\n",
    "\tprint(item.json_path)\n",
    "\tsent1_matches = find_sentinel_matches(row, item.date, item.geometry.bounds, \"sentinel-1-grd\")\n",
    "\tsent2_matches = find_sentinel_matches(row, item.date, item.geometry.bounds, \"sentinel-2-l2a\")\n",
    "\t\n",
    "\tmatches.append(sent1_matches + sent2_matches)"
   ]
  },
  {
   "cell_type": "code",
   "execution_count": null,
   "metadata": {},
   "outputs": [],
   "source": [
    "matches"
   ]
  },
  {
   "cell_type": "code",
   "execution_count": null,
   "metadata": {},
   "outputs": [],
   "source": [
    "import rasterio as rio\n",
    "\n",
    "for match in matches:\n",
    "\tif match is None: continue\n",
    "\ts2_image, sat_image = match\n",
    "\tfig, axs = plt.subplots(1, 2, figsize=(5, 3))\n",
    "\taxs[0].imshow((rio.open(sat_image).read()[:3,...].transpose(1, 2, 0) / 4000).clip(0, 1))\n",
    "\taxs[0].axis('off')\n",
    "\taxs[1].imshow((rio.open(s2_image).read()[(3,2,1),...].transpose(1, 2, 0) / 4000).clip(0, 1))\n",
    "\taxs[1].axis('off')\n",
    "\tplt.show()\n",
    "\n"
   ]
  },
  {
   "cell_type": "code",
   "execution_count": null,
   "metadata": {},
   "outputs": [],
   "source": []
  }
 ],
 "metadata": {
  "kernelspec": {
   "display_name": "Python 3 (ipykernel)",
   "language": "python",
   "name": "python3"
  },
  "language_info": {
   "codemirror_mode": {
    "name": "ipython",
    "version": 3
   },
   "file_extension": ".py",
   "mimetype": "text/x-python",
   "name": "python",
   "nbconvert_exporter": "python",
   "pygments_lexer": "ipython3",
   "version": "3.10.12"
  }
 },
 "nbformat": 4,
 "nbformat_minor": 4
}
