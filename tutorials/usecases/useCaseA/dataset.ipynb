{
 "cells": [
  {
   "cell_type": "raw",
   "metadata": {},
   "source": [
    "%load_ext autoreload\n",
    "%autoreload 2"
   ]
  },
  {
   "cell_type": "code",
   "metadata": {
    "ExecuteTime": {
     "end_time": "2025-05-27T09:01:46.838564Z",
     "start_time": "2025-05-27T09:01:46.833991Z"
    }
   },
   "source": [
    "import eotdl\n",
    "\n",
    "print(eotdl.__version__)\n"
   ],
   "outputs": [
    {
     "name": "stdout",
     "output_type": "stream",
     "text": [
      "2025.04.22-3\n"
     ]
    }
   ],
   "execution_count": 434
  },
  {
   "cell_type": "markdown",
   "metadata": {},
   "source": [
    "In this notebook we generate the dataset for the use case\n",
    "\n",
    "1. Generate list of Satellogic images to be used (containing bb and acquisition time)\n",
    "2. Explore available S1/S2 images with different criteria\n",
    "\t- bounding box overlap\n",
    "\t- acquisition time overlap\n",
    "3. Download matching S1/S2 at given resolution\n",
    "4. Generate metadata and ingest to EOTDL "
   ]
  },
  {
   "cell_type": "code",
   "metadata": {
    "ExecuteTime": {
     "end_time": "2025-05-27T09:01:53.450889Z",
     "start_time": "2025-05-27T09:01:46.845594Z"
    }
   },
   "source": [
    "import geopandas as gpd\n",
    "\n",
    "gdf = gpd.read_parquet('~/Desktop/EarthPulse_Local_Data/data/satellogic-earthview-items.parquet')\n",
    "gdf.head()\n"
   ],
   "outputs": [
    {
     "data": {
      "text/plain": [
       "                                           json_path zone          region  \\\n",
       "0  data/json/zone=04N/region=603411_2346301/date=...  04N  603411_2346301   \n",
       "1  data/json/zone=04N/region=603411_2346685/date=...  04N  603411_2346685   \n",
       "2  data/json/zone=04N/region=603411_2347069/date=...  04N  603411_2347069   \n",
       "3  data/json/zone=04N/region=603411_2347453/date=...  04N  603411_2347453   \n",
       "4  data/json/zone=04N/region=603411_2347837/date=...  04N  603411_2347837   \n",
       "\n",
       "        date                                           geometry  \n",
       "0 2022-09-15  POLYGON ((-157.99991 21.21181, -157.99988 21.2...  \n",
       "1 2022-09-15  POLYGON ((-157.99988 21.21528, -157.99986 21.2...  \n",
       "2 2022-09-15  POLYGON ((-157.99986 21.21875, -157.99984 21.2...  \n",
       "3 2022-09-15  POLYGON ((-157.99984 21.22221, -157.99981 21.2...  \n",
       "4 2022-09-15  POLYGON ((-157.99981 21.22568, -157.99979 21.2...  "
      ],
      "text/html": [
       "<div>\n",
       "<style scoped>\n",
       "    .dataframe tbody tr th:only-of-type {\n",
       "        vertical-align: middle;\n",
       "    }\n",
       "\n",
       "    .dataframe tbody tr th {\n",
       "        vertical-align: top;\n",
       "    }\n",
       "\n",
       "    .dataframe thead th {\n",
       "        text-align: right;\n",
       "    }\n",
       "</style>\n",
       "<table border=\"1\" class=\"dataframe\">\n",
       "  <thead>\n",
       "    <tr style=\"text-align: right;\">\n",
       "      <th></th>\n",
       "      <th>json_path</th>\n",
       "      <th>zone</th>\n",
       "      <th>region</th>\n",
       "      <th>date</th>\n",
       "      <th>geometry</th>\n",
       "    </tr>\n",
       "  </thead>\n",
       "  <tbody>\n",
       "    <tr>\n",
       "      <th>0</th>\n",
       "      <td>data/json/zone=04N/region=603411_2346301/date=...</td>\n",
       "      <td>04N</td>\n",
       "      <td>603411_2346301</td>\n",
       "      <td>2022-09-15</td>\n",
       "      <td>POLYGON ((-157.99991 21.21181, -157.99988 21.2...</td>\n",
       "    </tr>\n",
       "    <tr>\n",
       "      <th>1</th>\n",
       "      <td>data/json/zone=04N/region=603411_2346685/date=...</td>\n",
       "      <td>04N</td>\n",
       "      <td>603411_2346685</td>\n",
       "      <td>2022-09-15</td>\n",
       "      <td>POLYGON ((-157.99988 21.21528, -157.99986 21.2...</td>\n",
       "    </tr>\n",
       "    <tr>\n",
       "      <th>2</th>\n",
       "      <td>data/json/zone=04N/region=603411_2347069/date=...</td>\n",
       "      <td>04N</td>\n",
       "      <td>603411_2347069</td>\n",
       "      <td>2022-09-15</td>\n",
       "      <td>POLYGON ((-157.99986 21.21875, -157.99984 21.2...</td>\n",
       "    </tr>\n",
       "    <tr>\n",
       "      <th>3</th>\n",
       "      <td>data/json/zone=04N/region=603411_2347453/date=...</td>\n",
       "      <td>04N</td>\n",
       "      <td>603411_2347453</td>\n",
       "      <td>2022-09-15</td>\n",
       "      <td>POLYGON ((-157.99984 21.22221, -157.99981 21.2...</td>\n",
       "    </tr>\n",
       "    <tr>\n",
       "      <th>4</th>\n",
       "      <td>data/json/zone=04N/region=603411_2347837/date=...</td>\n",
       "      <td>04N</td>\n",
       "      <td>603411_2347837</td>\n",
       "      <td>2022-09-15</td>\n",
       "      <td>POLYGON ((-157.99981 21.22568, -157.99979 21.2...</td>\n",
       "    </tr>\n",
       "  </tbody>\n",
       "</table>\n",
       "</div>"
      ]
     },
     "execution_count": 435,
     "metadata": {},
     "output_type": "execute_result"
    }
   ],
   "execution_count": 435
  },
  {
   "cell_type": "code",
   "metadata": {
    "ExecuteTime": {
     "end_time": "2025-05-27T09:01:53.453893Z",
     "start_time": "2025-05-27T09:01:53.451815Z"
    }
   },
   "source": [
    "gdf.shape"
   ],
   "outputs": [
    {
     "data": {
      "text/plain": [
       "(7095985, 5)"
      ]
     },
     "execution_count": 436,
     "metadata": {},
     "output_type": "execute_result"
    }
   ],
   "execution_count": 436
  },
  {
   "cell_type": "code",
   "metadata": {
    "ExecuteTime": {
     "end_time": "2025-05-27T09:01:54.232229Z",
     "start_time": "2025-05-27T09:01:53.454337Z"
    }
   },
   "source": [
    "from find_matches import search_matches_by_sentinel\n",
    "from eotdl.tools import bbox_from_centroid\n",
    "\n",
    "sample =  gdf.sample(1)\n",
    "\n",
    "# Prepare sample details\n",
    "date = sample.date.iloc[0]\n",
    "json_path = sample.json_path.iloc[0]\n",
    "centroid = sample.geometry.iloc[0].centroid\n",
    "\n",
    "_, s1_matches = search_matches_by_sentinel((_, date, centroid), collection_id=\"sentinel-1-grd\")\n",
    "_, s2_matches = search_matches_by_sentinel((_, date, centroid), collection_id=\"sentinel-2-l2a\")\n",
    "\n",
    "# todo: resample if no s1 matches or no s2 matches after cloud filter?\n",
    "\n",
    "print(f\"s1_matches: {s1_matches}\\n\")\n",
    "print(f\"s2_matches {s2_matches}\\n\")"
   ],
   "outputs": [
    {
     "name": "stdout",
     "output_type": "stream",
     "text": [
      "s1_matches: [{'id': 'S1A_IW_GRDH_1SDV_20220811T130248_20220811T130313_044505_054F9E_FE0E', 'properties': {'datetime': '2022-08-11T13:02:48Z'}}, {'id': 'S1A_IW_GRDH_1SDV_20220811T010140_20220811T010205_044498_054F5D_AAA9', 'properties': {'datetime': '2022-08-11T01:01:40Z'}}]\n",
      "\n",
      "s2_matches [{'id': 'S2A_MSIL2A_20220811T173921_N0400_R098_T13SDV_20220812T013858', 'properties': {'datetime': '2022-08-11T17:54:23Z', 'eo:cloud_cover': 24.68}}]\n",
      "\n"
     ]
    }
   ],
   "execution_count": 437
  },
  {
   "cell_type": "code",
   "metadata": {
    "ExecuteTime": {
     "end_time": "2025-05-27T09:01:54.260392Z",
     "start_time": "2025-05-27T09:01:54.233292Z"
    }
   },
   "source": [
    "import shutil\n",
    "import os\n",
    "\n",
    "from download_images import download_images_to_fastdata, download_sat_image\n",
    "\n",
    "# Remove and recreate the sample folder structure\n",
    "shutil.rmtree('sample', ignore_errors=True)\n",
    "os.makedirs('sample/satellogic', exist_ok=True)\n",
    "os.makedirs('sample/sentinel1', exist_ok=True)\n",
    "os.makedirs('sample/sentinel2', exist_ok=True)\n",
    "\n",
    "print(\"collecting...\")\n",
    "\n",
    "# Base name for all files\n",
    "base_name = json_path.split('/')[-1].replace('_metadata.json', '')\n",
    "satellogic_name = f\"{base_name}_TOA.tif\"\n",
    "sent1_name = f\"{base_name}_S1GRD.tiff\"\n",
    "sent2_name = f\"{base_name}_S2L2A.tiff\"\n",
    "\n",
    "# Source directory (local dataset location)\n",
    "local_data_path = os.path.expanduser(\"~/Desktop/EarthPulse_Local_Data/data\")\n",
    "\n",
    "# Source paths\n",
    "src_sat = f\"{local_data_path}/tifs/satellogic/{satellogic_name}\"\n",
    "src_s1 = f\"{local_data_path}/tifs/sentinel1/{sent1_name}\"\n",
    "src_s2 = f\"{local_data_path}/tifs/sentinel2/{sent2_name}\"\n",
    "\n",
    "# Destination paths\n",
    "dst_sat = f\"sample/satellogic/{satellogic_name}\"\n",
    "dst_s1 = f\"sample/sentinel1/{sent1_name}\"\n",
    "dst_s2 = f\"sample/sentinel2/{sent2_name}\"\n",
    "\n",
    "# download s1, s2, and hr to /fastdata/data/tifs\n",
    "download_images_to_fastdata((s1_matches, s2_matches, date, json_path, centroid))\n",
    "\n",
    "# copy s1/s2/hr images from /fastdata/data/tifs to /sample local dir\n",
    "shutil.copy2(src_sat, dst_sat)\n",
    "if os.path.exists(src_s2):\n",
    "\tshutil.copy2(src_s1, dst_s1)\n",
    "if os.path.exists(src_s2):\n",
    "\tshutil.copy2(src_s2, dst_s2)\n",
    "\n",
    "print(\"✅ All files copied successfully.\")\n",
    "    "
   ],
   "outputs": [
    {
     "name": "stdout",
     "output_type": "stream",
     "text": [
      "collecting...\n"
     ]
    },
    {
     "ename": "FileNotFoundError",
     "evalue": "[Errno 2] No such file or directory: '/Users/benastahl/Desktop/EarthPulse_Local_Data/data/json/zone=13N/region=463235_3976142/date=2022-08-12/20220812_202535_SN30_13N_463235_3976142_metadata.json'",
     "output_type": "error",
     "traceback": [
      "\u001B[31m---------------------------------------------------------------------------\u001B[39m",
      "\u001B[31mFileNotFoundError\u001B[39m                         Traceback (most recent call last)",
      "\u001B[36mCell\u001B[39m\u001B[36m \u001B[39m\u001B[32mIn[438]\u001B[39m\u001B[32m, line 35\u001B[39m\n\u001B[32m     32\u001B[39m dst_s2 = \u001B[33mf\u001B[39m\u001B[33m\"\u001B[39m\u001B[33msample/sentinel2/\u001B[39m\u001B[38;5;132;01m{\u001B[39;00msent2_name\u001B[38;5;132;01m}\u001B[39;00m\u001B[33m\"\u001B[39m\n\u001B[32m     34\u001B[39m \u001B[38;5;66;03m# download s1, s2, and hr to /fastdata/data/tifs\u001B[39;00m\n\u001B[32m---> \u001B[39m\u001B[32m35\u001B[39m \u001B[43mdownload_images_to_fastdata\u001B[49m\u001B[43m(\u001B[49m\u001B[43m(\u001B[49m\u001B[43ms1_matches\u001B[49m\u001B[43m,\u001B[49m\u001B[43m \u001B[49m\u001B[43ms2_matches\u001B[49m\u001B[43m,\u001B[49m\u001B[43m \u001B[49m\u001B[43mdate\u001B[49m\u001B[43m,\u001B[49m\u001B[43m \u001B[49m\u001B[43mjson_path\u001B[49m\u001B[43m,\u001B[49m\u001B[43m \u001B[49m\u001B[43mcentroid\u001B[49m\u001B[43m)\u001B[49m\u001B[43m)\u001B[49m\n\u001B[32m     37\u001B[39m \u001B[38;5;66;03m# copy s1/s2/hr images from /fastdata/data/tifs to /sample local dir\u001B[39;00m\n\u001B[32m     38\u001B[39m shutil.copy2(src_sat, dst_sat)\n",
      "\u001B[36mFile \u001B[39m\u001B[32m~/PycharmProjects/EarthPulse/eotdl/tutorials/usecases/useCaseA/download_images.py:117\u001B[39m, in \u001B[36mdownload_images_to_fastdata\u001B[39m\u001B[34m(args)\u001B[39m\n\u001B[32m    114\u001B[39m json_path = json_path.replace(\u001B[33m'\u001B[39m\u001B[33mdata/\u001B[39m\u001B[33m'\u001B[39m, path)\n\u001B[32m    116\u001B[39m \u001B[38;5;66;03m# satellogic (hr) download. only downloads if path doesn't already exist.\u001B[39;00m\n\u001B[32m--> \u001B[39m\u001B[32m117\u001B[39m dst_path_sat = \u001B[43mdownload_sat_image\u001B[49m\u001B[43m(\u001B[49m\u001B[43mjson_path\u001B[49m\u001B[43m=\u001B[49m\u001B[43mjson_path\u001B[49m\u001B[43m,\u001B[49m\u001B[43m \u001B[49m\u001B[43moutput_path\u001B[49m\u001B[43m=\u001B[49m\u001B[43mdst_path\u001B[49m\u001B[43m \u001B[49m\u001B[43m+\u001B[49m\u001B[43m \u001B[49m\u001B[33;43m\"\u001B[39;49m\u001B[33;43mtifs/satellogic\u001B[39;49m\u001B[33;43m\"\u001B[39;49m\u001B[43m)\u001B[49m\n\u001B[32m    119\u001B[39m custom_bbox = bbox_from_centroid(x=centroid.y, y=centroid.x, pixel_size=\u001B[32m10\u001B[39m, width=WIDTH, height=HEIGHT)\n\u001B[32m    121\u001B[39m \u001B[38;5;66;03m### FILTERING SECTION ###\u001B[39;00m\n\u001B[32m    122\u001B[39m \n\u001B[32m    123\u001B[39m \u001B[38;5;66;03m# filter sentinel matches by cloud cover BEFORE download (s1 doesn't have cloud cover)\u001B[39;00m\n",
      "\u001B[36mFile \u001B[39m\u001B[32m~/PycharmProjects/EarthPulse/eotdl/tutorials/usecases/useCaseA/download_images.py:57\u001B[39m, in \u001B[36mdownload_sat_image\u001B[39m\u001B[34m(json_path, output_path)\u001B[39m\n\u001B[32m     55\u001B[39m \u001B[38;5;28;01mdef\u001B[39;00m\u001B[38;5;250m \u001B[39m\u001B[34mdownload_sat_image\u001B[39m(json_path, output_path):\n\u001B[32m     56\u001B[39m     \u001B[38;5;66;03m# get path to metadata file\u001B[39;00m\n\u001B[32m---> \u001B[39m\u001B[32m57\u001B[39m     \u001B[38;5;28;01mwith\u001B[39;00m \u001B[38;5;28;43mopen\u001B[39;49m\u001B[43m(\u001B[49m\u001B[43mjson_path\u001B[49m\u001B[43m,\u001B[49m\u001B[43m \u001B[49m\u001B[33;43m'\u001B[39;49m\u001B[33;43mr\u001B[39;49m\u001B[33;43m'\u001B[39;49m\u001B[43m)\u001B[49m \u001B[38;5;28;01mas\u001B[39;00m f:\n\u001B[32m     58\u001B[39m         metadata = json.load(f)\n\u001B[32m     60\u001B[39m     \u001B[38;5;66;03m# get download link from metadata\u001B[39;00m\n",
      "\u001B[31mFileNotFoundError\u001B[39m: [Errno 2] No such file or directory: '/Users/benastahl/Desktop/EarthPulse_Local_Data/data/json/zone=13N/region=463235_3976142/date=2022-08-12/20220812_202535_SN30_13N_463235_3976142_metadata.json'"
     ]
    }
   ],
   "execution_count": 438
  },
  {
   "cell_type": "code",
   "metadata": {},
   "source": [
    "import matplotlib.pyplot as plt\n",
    "import rasterio as rio\n",
    "import numpy as np\n",
    "\n",
    "fig, axs = plt.subplots(1, 3, figsize=(12, 4))\n",
    "\n",
    "# Satellogic (HR)\n",
    "axs[0].imshow((rio.open(dst_sat).read()[:3, ...].transpose(1, 2, 0) / 3000).clip(0, 1))\n",
    "axs[0].set_title(\"Satellogic (HR)\")\n",
    "axs[0].axis('off')\n",
    "\n",
    "if os.path.exists(dst_s2):\n",
    "\t# Sentinel-2 (RGB: bands 4, 3, 2)\n",
    "\taxs[1].imshow((rio.open(dst_s2).read()[(3, 2, 1), ...].transpose(1, 2, 0) / 3000).clip(0, 1))\n",
    "axs[1].set_title(\"Sentinel-2 (RGB)\")\n",
    "axs[1].axis('off')\n",
    "\n",
    "if os.path.exists(dst_s1):\n",
    "\t# Sentinel-1 (bands 3, 2, 1 if available; fallback to band 1 grayscale)\n",
    "\twith rio.open(dst_s1) as src:\n",
    "\t\tband = src.read(1).astype(np.float32)\n",
    "\t\n",
    "\t\t# Optional: remove very high outliers for better contrast\n",
    "\t\tband = np.clip(band, 0, np.percentile(band, 99))\n",
    "\t\n",
    "\t\t# Normalize to 0–1\n",
    "\t\tband = (band - band.min()) / (band.max() - band.min() + 1e-5)\n",
    "\t\n",
    "\taxs[2].imshow(band, cmap='gray')\n",
    "axs[2].set_title(\"Sentinel-1 (normalized)\")\n",
    "axs[2].axis('off')\n",
    "\n",
    "plt.tight_layout()\n",
    "plt.show()\n"
   ],
   "outputs": [],
   "execution_count": null
  },
  {
   "cell_type": "code",
   "metadata": {},
   "source": [
    "import matplotlib.pyplot as plt\n",
    "\n",
    "\n",
    "# plot histogram with number of images per zone\n",
    "fig = plt.figure(figsize=(15, 3))\n",
    "gdf['zone'].value_counts().plot(kind='bar', ax=fig.gca(), grid=True)\n",
    "plt.show()\n"
   ],
   "outputs": [],
   "execution_count": null
  },
  {
   "cell_type": "code",
   "metadata": {},
   "source": [
    "len(gdf['zone'].unique()), len(gdf['region'].unique())"
   ],
   "outputs": [],
   "execution_count": null
  },
  {
   "cell_type": "code",
   "metadata": {},
   "source": [
    "gdf['zone'].value_counts().min()"
   ],
   "outputs": [],
   "execution_count": null
  },
  {
   "cell_type": "code",
   "metadata": {},
   "source": [
    "# plot histogram with number of images per month (all images are from 2022)\n",
    "fig = plt.figure(figsize=(15, 3))\n",
    "gdf['date'].dt.month.value_counts().plot(kind='bar', ax=fig.gca(), grid=True)\n",
    "plt.show()\n"
   ],
   "outputs": [],
   "execution_count": null
  },
  {
   "cell_type": "code",
   "metadata": {},
   "source": [
    "zones = sorted(gdf['zone'].unique())\n",
    "zone_gdf = gdf[gdf['zone'] == zones[4]]\n",
    "n = min(5, len(zone_gdf))\n",
    "sample = zone_gdf.sample(n, random_state=2025)\n",
    "sample"
   ],
   "outputs": [],
   "execution_count": null
  }
 ],
 "metadata": {
  "kernelspec": {
   "display_name": "Python 3 (ipykernel)",
   "language": "python",
   "name": "python3"
  },
  "language_info": {
   "codemirror_mode": {
    "name": "ipython",
    "version": 3
   },
   "file_extension": ".py",
   "mimetype": "text/x-python",
   "name": "python",
   "nbconvert_exporter": "python",
   "pygments_lexer": "ipython3",
   "version": "3.10.12"
  }
 },
 "nbformat": 4,
 "nbformat_minor": 4
}
