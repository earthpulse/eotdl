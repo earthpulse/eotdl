{
 "cells": [
  {
   "cell_type": "code",
   "execution_count": 1,
   "metadata": {},
   "outputs": [
    {
     "data": {
      "text/plain": [
       "(1000000, 7)"
      ]
     },
     "execution_count": 1,
     "metadata": {},
     "output_type": "execute_result"
    }
   ],
   "source": [
    "import geopandas as gpd\n",
    "\n",
    "# gdf = gpd.read_parquet('outputs/satellogic-earthview-items.parquet')\n",
    "gdf = gpd.read_parquet('outputs/satellogic-earthview-items-with-matches.parquet')\n",
    "gdf.shape"
   ]
  },
  {
   "cell_type": "code",
   "execution_count": 65,
   "metadata": {},
   "outputs": [
    {
     "data": {
      "text/plain": [
       "json_path     data/json/zone=14N/region=386613_2891668/date=...\n",
       "zone                                                        14N\n",
       "region                                           386613_2891668\n",
       "date                                        2022-11-12 00:00:00\n",
       "geometry      POLYGON ((-100.130416800567 26.136431441465, -...\n",
       "s2_matches    [{'id': 'S2A_MSIL2A_20221120T171621_N0400_R112...\n",
       "s1_matches    [{'id': 'S1A_IW_GRDH_1SDV_20221122T005052_2022...\n",
       "Name: 873503, dtype: object"
      ]
     },
     "execution_count": 65,
     "metadata": {},
     "output_type": "execute_result"
    }
   ],
   "source": [
    "sample = gdf.iloc[123]\n",
    "sample"
   ]
  },
  {
   "cell_type": "code",
   "execution_count": 66,
   "metadata": {},
   "outputs": [
    {
     "data": {
      "text/plain": [
       "[{'id': 'S2B_MSIL2A_20221125T171639_N0400_R112_T14RLP_20221125T193955',\n",
       "  'properties': {'datetime': '2022-11-25T17:26:46Z', 'eo:cloud_cover': 75.0}},\n",
       " {'id': 'S2B_MSIL2A_20221125T171639_N0400_R112_T14RLQ_20221125T193955',\n",
       "  'properties': {'datetime': '2022-11-25T17:26:31Z', 'eo:cloud_cover': 99.25}},\n",
       " {'id': 'S2A_MSIL2A_20221120T171621_N0400_R112_T14RLP_20221120T215053',\n",
       "  'properties': {'datetime': '2022-11-20T17:26:47Z', 'eo:cloud_cover': 94.56}},\n",
       " {'id': 'S2A_MSIL2A_20221120T171621_N0400_R112_T14RLQ_20221120T215053',\n",
       "  'properties': {'datetime': '2022-11-20T17:26:32Z', 'eo:cloud_cover': 99.95}},\n",
       " {'id': 'S2B_MSIL2A_20221115T171559_N0400_R112_T14RLP_20221115T194629',\n",
       "  'properties': {'datetime': '2022-11-15T17:26:46Z', 'eo:cloud_cover': 0.73}},\n",
       " {'id': 'S2B_MSIL2A_20221115T171559_N0400_R112_T14RLQ_20221115T194629',\n",
       "  'properties': {'datetime': '2022-11-15T17:26:31Z', 'eo:cloud_cover': 10.35}},\n",
       " {'id': 'S2A_MSIL2A_20221110T171541_N0400_R112_T14RLP_20221110T215153',\n",
       "  'properties': {'datetime': '2022-11-10T17:26:50Z', 'eo:cloud_cover': 10.3}},\n",
       " {'id': 'S2A_MSIL2A_20221110T171541_N0400_R112_T14RLQ_20221110T215153',\n",
       "  'properties': {'datetime': '2022-11-10T17:26:35Z', 'eo:cloud_cover': 0.01}},\n",
       " {'id': 'S2B_MSIL2A_20221105T171509_N0400_R112_T14RLP_20221105T195504',\n",
       "  'properties': {'datetime': '2022-11-05T17:26:44Z', 'eo:cloud_cover': 0.0}},\n",
       " {'id': 'S2B_MSIL2A_20221105T171509_N0400_R112_T14RLQ_20221105T195504',\n",
       "  'properties': {'datetime': '2022-11-05T17:26:30Z', 'eo:cloud_cover': 0.0}},\n",
       " {'id': 'S2A_MSIL2A_20221031T171441_N0400_R112_T14RLP_20221031T221957',\n",
       "  'properties': {'datetime': '2022-10-31T17:26:50Z', 'eo:cloud_cover': 65.2}},\n",
       " {'id': 'S2A_MSIL2A_20221031T171441_N0400_R112_T14RLQ_20221031T221957',\n",
       "  'properties': {'datetime': '2022-10-31T17:26:36Z', 'eo:cloud_cover': 92.01}}]"
      ]
     },
     "execution_count": 66,
     "metadata": {},
     "output_type": "execute_result"
    }
   ],
   "source": [
    "from eotdl.access import find_sentinel_matches_by_centroid\n",
    "\n",
    "centroid = sample.geometry.centroid\n",
    "matches = find_sentinel_matches_by_centroid(centroid, sample.date, 30, 384, 384, 'sentinel-2-l2a')\n",
    "# matches = sample.s2_matches\n",
    "matches"
   ]
  },
  {
   "cell_type": "code",
   "execution_count": 67,
   "metadata": {},
   "outputs": [
    {
     "data": {
      "text/plain": [
       "array([{'id': 'S2A_MSIL2A_20221120T171621_N0400_R112_T14RLP_20221120T215053', 'properties': {'datetime': '2022-11-20T17:26:47Z', 'eo:cloud_cover': 94.56}},\n",
       "       {'id': 'S2A_MSIL2A_20221120T171621_N0400_R112_T14RLQ_20221120T215053', 'properties': {'datetime': '2022-11-20T17:26:32Z', 'eo:cloud_cover': 99.95}},\n",
       "       {'id': 'S2B_MSIL2A_20221115T171559_N0400_R112_T14RLP_20221115T194629', 'properties': {'datetime': '2022-11-15T17:26:46Z', 'eo:cloud_cover': 0.73}},\n",
       "       {'id': 'S2B_MSIL2A_20221115T171559_N0400_R112_T14RLQ_20221115T194629', 'properties': {'datetime': '2022-11-15T17:26:31Z', 'eo:cloud_cover': 10.35}},\n",
       "       {'id': 'S2A_MSIL2A_20221110T171541_N0400_R112_T14RLP_20221110T215153', 'properties': {'datetime': '2022-11-10T17:26:50Z', 'eo:cloud_cover': 10.3}},\n",
       "       {'id': 'S2A_MSIL2A_20221110T171541_N0400_R112_T14RLQ_20221110T215153', 'properties': {'datetime': '2022-11-10T17:26:35Z', 'eo:cloud_cover': 0.01}},\n",
       "       {'id': 'S2B_MSIL2A_20221105T171509_N0400_R112_T14RLP_20221105T195504', 'properties': {'datetime': '2022-11-05T17:26:44Z', 'eo:cloud_cover': 0.0}},\n",
       "       {'id': 'S2B_MSIL2A_20221105T171509_N0400_R112_T14RLQ_20221105T195504', 'properties': {'datetime': '2022-11-05T17:26:30Z', 'eo:cloud_cover': 0.0}}],\n",
       "      dtype=object)"
      ]
     },
     "execution_count": 67,
     "metadata": {},
     "output_type": "execute_result"
    }
   ],
   "source": [
    "matches = sample.s2_matches\n",
    "matches"
   ]
  },
  {
   "cell_type": "code",
   "execution_count": 68,
   "metadata": {},
   "outputs": [
    {
     "data": {
      "text/plain": [
       "'2022-11-10T17:26:35Z'"
      ]
     },
     "execution_count": 68,
     "metadata": {},
     "output_type": "execute_result"
    }
   ],
   "source": [
    "from datetime import datetime\n",
    "\n",
    "s2_matches_filtered = [r for r in matches if r['properties']['eo:cloud_cover'] <= 10]\n",
    "closest_match = min(s2_matches_filtered, key=lambda x: abs(datetime.fromisoformat(x['properties']['datetime'].replace('Z','')) - sample.date))\n",
    "s2_date = closest_match['properties']['datetime']\n",
    "s2_date"
   ]
  },
  {
   "cell_type": "code",
   "execution_count": 69,
   "metadata": {},
   "outputs": [],
   "source": [
    "from eotdl.access import download_sentinel_imagery\n",
    "from eotdl.tools import bbox_from_centroid\n",
    "\n",
    "custom_bbox = bbox_from_centroid(x=centroid.y, y=centroid.x, pixel_size=10, width=384, height=384)\n",
    "download_sentinel_imagery('outputs/kk', s2_date, custom_bbox, 'sentinel-2-l2a', 'kk')"
   ]
  },
  {
   "cell_type": "code",
   "execution_count": null,
   "metadata": {},
   "outputs": [],
   "source": []
  }
 ],
 "metadata": {
  "kernelspec": {
   "display_name": ".venv",
   "language": "python",
   "name": "python3"
  },
  "language_info": {
   "codemirror_mode": {
    "name": "ipython",
    "version": 3
   },
   "file_extension": ".py",
   "mimetype": "text/x-python",
   "name": "python",
   "nbconvert_exporter": "python",
   "pygments_lexer": "ipython3",
   "version": "3.12.7"
  }
 },
 "nbformat": 4,
 "nbformat_minor": 2
}
