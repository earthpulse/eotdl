{
 "cells": [
  {
   "cell_type": "code",
   "execution_count": 59,
   "metadata": {},
   "outputs": [
    {
     "data": {
      "text/html": [
       "<div>\n",
       "<style scoped>\n",
       "    .dataframe tbody tr th:only-of-type {\n",
       "        vertical-align: middle;\n",
       "    }\n",
       "\n",
       "    .dataframe tbody tr th {\n",
       "        vertical-align: top;\n",
       "    }\n",
       "\n",
       "    .dataframe thead th {\n",
       "        text-align: right;\n",
       "    }\n",
       "</style>\n",
       "<table border=\"1\" class=\"dataframe\">\n",
       "  <thead>\n",
       "    <tr style=\"text-align: right;\">\n",
       "      <th></th>\n",
       "      <th>json_path</th>\n",
       "      <th>zone</th>\n",
       "      <th>region</th>\n",
       "      <th>date</th>\n",
       "      <th>geometry</th>\n",
       "      <th>s2_matches</th>\n",
       "      <th>s1_matches</th>\n",
       "    </tr>\n",
       "  </thead>\n",
       "  <tbody>\n",
       "    <tr>\n",
       "      <th>6292276</th>\n",
       "      <td>data/json/zone=51S/region=357067_6579845/date=...</td>\n",
       "      <td>51S</td>\n",
       "      <td>357067_6579845</td>\n",
       "      <td>2022-10-26</td>\n",
       "      <td>POLYGON ((121.50829 -30.90962, 121.50835 -30.9...</td>\n",
       "      <td>[{'id': 'S2A_MSIL2A_20221101T015631_N0400_R117...</td>\n",
       "      <td>[]</td>\n",
       "    </tr>\n",
       "    <tr>\n",
       "      <th>5793006</th>\n",
       "      <td>data/json/zone=46N/region=374867_2457086/date=...</td>\n",
       "      <td>46N</td>\n",
       "      <td>374867_2457086</td>\n",
       "      <td>2022-12-25</td>\n",
       "      <td>POLYGON ((91.7897 22.2112, 91.78967 22.21467, ...</td>\n",
       "      <td>[{'id': 'S2B_MSIL2A_20230103T042149_N0509_R090...</td>\n",
       "      <td>[{'id': 'S1A_IW_GRDH_1SDV_20221230T120414_2022...</td>\n",
       "    </tr>\n",
       "    <tr>\n",
       "      <th>3933716</th>\n",
       "      <td>data/json/zone=38N/region=601805_4299370/date=...</td>\n",
       "      <td>38N</td>\n",
       "      <td>601805_4299370</td>\n",
       "      <td>2022-10-05</td>\n",
       "      <td>POLYGON ((46.17736 38.83375, 46.17741 38.83721...</td>\n",
       "      <td>[{'id': 'S2B_MSIL2A_20221015T073859_N0400_R092...</td>\n",
       "      <td>[{'id': 'S1A_IW_GRDH_1SDV_20221011T145333_2022...</td>\n",
       "    </tr>\n",
       "    <tr>\n",
       "      <th>1746111</th>\n",
       "      <td>data/json/zone=20S/region=598796_7170926/date=...</td>\n",
       "      <td>20S</td>\n",
       "      <td>598796_7170926</td>\n",
       "      <td>2022-09-03</td>\n",
       "      <td>POLYGON ((-62.01249 -25.57924, -62.01252 -25.5...</td>\n",
       "      <td>[{'id': 'S2A_MSIL2A_20220911T140721_N0400_R110...</td>\n",
       "      <td>[]</td>\n",
       "    </tr>\n",
       "    <tr>\n",
       "      <th>6011504</th>\n",
       "      <td>data/json/zone=50N/region=698978_4416263/date=...</td>\n",
       "      <td>50N</td>\n",
       "      <td>698978_4416263</td>\n",
       "      <td>2022-09-04</td>\n",
       "      <td>POLYGON ((119.33101 39.86955, 119.33112 39.873...</td>\n",
       "      <td>[{'id': 'S2A_MSIL2A_20220913T024541_N0400_R132...</td>\n",
       "      <td>[]</td>\n",
       "    </tr>\n",
       "  </tbody>\n",
       "</table>\n",
       "</div>"
      ],
      "text/plain": [
       "                                                 json_path zone  \\\n",
       "6292276  data/json/zone=51S/region=357067_6579845/date=...  51S   \n",
       "5793006  data/json/zone=46N/region=374867_2457086/date=...  46N   \n",
       "3933716  data/json/zone=38N/region=601805_4299370/date=...  38N   \n",
       "1746111  data/json/zone=20S/region=598796_7170926/date=...  20S   \n",
       "6011504  data/json/zone=50N/region=698978_4416263/date=...  50N   \n",
       "\n",
       "                 region       date  \\\n",
       "6292276  357067_6579845 2022-10-26   \n",
       "5793006  374867_2457086 2022-12-25   \n",
       "3933716  601805_4299370 2022-10-05   \n",
       "1746111  598796_7170926 2022-09-03   \n",
       "6011504  698978_4416263 2022-09-04   \n",
       "\n",
       "                                                  geometry  \\\n",
       "6292276  POLYGON ((121.50829 -30.90962, 121.50835 -30.9...   \n",
       "5793006  POLYGON ((91.7897 22.2112, 91.78967 22.21467, ...   \n",
       "3933716  POLYGON ((46.17736 38.83375, 46.17741 38.83721...   \n",
       "1746111  POLYGON ((-62.01249 -25.57924, -62.01252 -25.5...   \n",
       "6011504  POLYGON ((119.33101 39.86955, 119.33112 39.873...   \n",
       "\n",
       "                                                s2_matches  \\\n",
       "6292276  [{'id': 'S2A_MSIL2A_20221101T015631_N0400_R117...   \n",
       "5793006  [{'id': 'S2B_MSIL2A_20230103T042149_N0509_R090...   \n",
       "3933716  [{'id': 'S2B_MSIL2A_20221015T073859_N0400_R092...   \n",
       "1746111  [{'id': 'S2A_MSIL2A_20220911T140721_N0400_R110...   \n",
       "6011504  [{'id': 'S2A_MSIL2A_20220913T024541_N0400_R132...   \n",
       "\n",
       "                                                s1_matches  \n",
       "6292276                                                 []  \n",
       "5793006  [{'id': 'S1A_IW_GRDH_1SDV_20221230T120414_2022...  \n",
       "3933716  [{'id': 'S1A_IW_GRDH_1SDV_20221011T145333_2022...  \n",
       "1746111                                                 []  \n",
       "6011504                                                 []  "
      ]
     },
     "execution_count": 59,
     "metadata": {},
     "output_type": "execute_result"
    }
   ],
   "source": [
    "import geopandas as gpd\n",
    "\n",
    "# gdf = gpd.read_parquet('outputs/satellogic-earthview-items.parquet')\n",
    "gdf = gpd.read_parquet('outputs/satellogic-earthview-items-with-matches.parquet')\n",
    "gdf.head()"
   ]
  },
  {
   "cell_type": "code",
   "execution_count": 65,
   "metadata": {},
   "outputs": [
    {
     "data": {
      "text/plain": [
       "json_path     data/json/zone=14N/region=386613_2891668/date=...\n",
       "zone                                                        14N\n",
       "region                                           386613_2891668\n",
       "date                                        2022-11-12 00:00:00\n",
       "geometry      POLYGON ((-100.130416800567 26.136431441465, -...\n",
       "s2_matches    [{'id': 'S2A_MSIL2A_20221120T171621_N0400_R112...\n",
       "s1_matches    [{'id': 'S1A_IW_GRDH_1SDV_20221122T005052_2022...\n",
       "Name: 873503, dtype: object"
      ]
     },
     "execution_count": 65,
     "metadata": {},
     "output_type": "execute_result"
    }
   ],
   "source": [
    "sample = gdf.iloc[123]\n",
    "sample"
   ]
  },
  {
   "cell_type": "code",
   "execution_count": 66,
   "metadata": {},
   "outputs": [
    {
     "data": {
      "text/plain": [
       "[{'id': 'S2B_MSIL2A_20221125T171639_N0400_R112_T14RLP_20221125T193955',\n",
       "  'properties': {'datetime': '2022-11-25T17:26:46Z', 'eo:cloud_cover': 75.0}},\n",
       " {'id': 'S2B_MSIL2A_20221125T171639_N0400_R112_T14RLQ_20221125T193955',\n",
       "  'properties': {'datetime': '2022-11-25T17:26:31Z', 'eo:cloud_cover': 99.25}},\n",
       " {'id': 'S2A_MSIL2A_20221120T171621_N0400_R112_T14RLP_20221120T215053',\n",
       "  'properties': {'datetime': '2022-11-20T17:26:47Z', 'eo:cloud_cover': 94.56}},\n",
       " {'id': 'S2A_MSIL2A_20221120T171621_N0400_R112_T14RLQ_20221120T215053',\n",
       "  'properties': {'datetime': '2022-11-20T17:26:32Z', 'eo:cloud_cover': 99.95}},\n",
       " {'id': 'S2B_MSIL2A_20221115T171559_N0400_R112_T14RLP_20221115T194629',\n",
       "  'properties': {'datetime': '2022-11-15T17:26:46Z', 'eo:cloud_cover': 0.73}},\n",
       " {'id': 'S2B_MSIL2A_20221115T171559_N0400_R112_T14RLQ_20221115T194629',\n",
       "  'properties': {'datetime': '2022-11-15T17:26:31Z', 'eo:cloud_cover': 10.35}},\n",
       " {'id': 'S2A_MSIL2A_20221110T171541_N0400_R112_T14RLP_20221110T215153',\n",
       "  'properties': {'datetime': '2022-11-10T17:26:50Z', 'eo:cloud_cover': 10.3}},\n",
       " {'id': 'S2A_MSIL2A_20221110T171541_N0400_R112_T14RLQ_20221110T215153',\n",
       "  'properties': {'datetime': '2022-11-10T17:26:35Z', 'eo:cloud_cover': 0.01}},\n",
       " {'id': 'S2B_MSIL2A_20221105T171509_N0400_R112_T14RLP_20221105T195504',\n",
       "  'properties': {'datetime': '2022-11-05T17:26:44Z', 'eo:cloud_cover': 0.0}},\n",
       " {'id': 'S2B_MSIL2A_20221105T171509_N0400_R112_T14RLQ_20221105T195504',\n",
       "  'properties': {'datetime': '2022-11-05T17:26:30Z', 'eo:cloud_cover': 0.0}},\n",
       " {'id': 'S2A_MSIL2A_20221031T171441_N0400_R112_T14RLP_20221031T221957',\n",
       "  'properties': {'datetime': '2022-10-31T17:26:50Z', 'eo:cloud_cover': 65.2}},\n",
       " {'id': 'S2A_MSIL2A_20221031T171441_N0400_R112_T14RLQ_20221031T221957',\n",
       "  'properties': {'datetime': '2022-10-31T17:26:36Z', 'eo:cloud_cover': 92.01}}]"
      ]
     },
     "execution_count": 66,
     "metadata": {},
     "output_type": "execute_result"
    }
   ],
   "source": [
    "from eotdl.access import find_sentinel_matches_by_centroid\n",
    "\n",
    "centroid = sample.geometry.centroid\n",
    "matches = find_sentinel_matches_by_centroid(centroid, sample.date, 30, 384, 384, 'sentinel-2-l2a')\n",
    "# matches = sample.s2_matches\n",
    "matches"
   ]
  },
  {
   "cell_type": "code",
   "execution_count": 67,
   "metadata": {},
   "outputs": [
    {
     "data": {
      "text/plain": [
       "array([{'id': 'S2A_MSIL2A_20221120T171621_N0400_R112_T14RLP_20221120T215053', 'properties': {'datetime': '2022-11-20T17:26:47Z', 'eo:cloud_cover': 94.56}},\n",
       "       {'id': 'S2A_MSIL2A_20221120T171621_N0400_R112_T14RLQ_20221120T215053', 'properties': {'datetime': '2022-11-20T17:26:32Z', 'eo:cloud_cover': 99.95}},\n",
       "       {'id': 'S2B_MSIL2A_20221115T171559_N0400_R112_T14RLP_20221115T194629', 'properties': {'datetime': '2022-11-15T17:26:46Z', 'eo:cloud_cover': 0.73}},\n",
       "       {'id': 'S2B_MSIL2A_20221115T171559_N0400_R112_T14RLQ_20221115T194629', 'properties': {'datetime': '2022-11-15T17:26:31Z', 'eo:cloud_cover': 10.35}},\n",
       "       {'id': 'S2A_MSIL2A_20221110T171541_N0400_R112_T14RLP_20221110T215153', 'properties': {'datetime': '2022-11-10T17:26:50Z', 'eo:cloud_cover': 10.3}},\n",
       "       {'id': 'S2A_MSIL2A_20221110T171541_N0400_R112_T14RLQ_20221110T215153', 'properties': {'datetime': '2022-11-10T17:26:35Z', 'eo:cloud_cover': 0.01}},\n",
       "       {'id': 'S2B_MSIL2A_20221105T171509_N0400_R112_T14RLP_20221105T195504', 'properties': {'datetime': '2022-11-05T17:26:44Z', 'eo:cloud_cover': 0.0}},\n",
       "       {'id': 'S2B_MSIL2A_20221105T171509_N0400_R112_T14RLQ_20221105T195504', 'properties': {'datetime': '2022-11-05T17:26:30Z', 'eo:cloud_cover': 0.0}}],\n",
       "      dtype=object)"
      ]
     },
     "execution_count": 67,
     "metadata": {},
     "output_type": "execute_result"
    }
   ],
   "source": [
    "matches = sample.s2_matches\n",
    "matches"
   ]
  },
  {
   "cell_type": "code",
   "execution_count": 68,
   "metadata": {},
   "outputs": [
    {
     "data": {
      "text/plain": [
       "'2022-11-10T17:26:35Z'"
      ]
     },
     "execution_count": 68,
     "metadata": {},
     "output_type": "execute_result"
    }
   ],
   "source": [
    "from datetime import datetime\n",
    "\n",
    "s2_matches_filtered = [r for r in matches if r['properties']['eo:cloud_cover'] <= 10]\n",
    "closest_match = min(s2_matches_filtered, key=lambda x: abs(datetime.fromisoformat(x['properties']['datetime'].replace('Z','')) - sample.date))\n",
    "s2_date = closest_match['properties']['datetime']\n",
    "s2_date"
   ]
  },
  {
   "cell_type": "code",
   "execution_count": 69,
   "metadata": {},
   "outputs": [],
   "source": [
    "from eotdl.access import download_sentinel_imagery\n",
    "from eotdl.tools import bbox_from_centroid\n",
    "\n",
    "custom_bbox = bbox_from_centroid(x=centroid.y, y=centroid.x, pixel_size=10, width=384, height=384)\n",
    "download_sentinel_imagery('outputs/kk', s2_date, custom_bbox, 'sentinel-2-l2a', 'kk')"
   ]
  },
  {
   "cell_type": "code",
   "execution_count": null,
   "metadata": {},
   "outputs": [],
   "source": []
  }
 ],
 "metadata": {
  "kernelspec": {
   "display_name": ".venv",
   "language": "python",
   "name": "python3"
  },
  "language_info": {
   "codemirror_mode": {
    "name": "ipython",
    "version": 3
   },
   "file_extension": ".py",
   "mimetype": "text/x-python",
   "name": "python",
   "nbconvert_exporter": "python",
   "pygments_lexer": "ipython3",
   "version": "3.12.7"
  }
 },
 "nbformat": 4,
 "nbformat_minor": 2
}
