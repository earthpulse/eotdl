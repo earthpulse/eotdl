{
 "cells": [
  {
   "cell_type": "code",
   "execution_count": 41,
   "metadata": {},
   "outputs": [
    {
     "data": {
      "text/html": [
       "<div>\n",
       "<style scoped>\n",
       "    .dataframe tbody tr th:only-of-type {\n",
       "        vertical-align: middle;\n",
       "    }\n",
       "\n",
       "    .dataframe tbody tr th {\n",
       "        vertical-align: top;\n",
       "    }\n",
       "\n",
       "    .dataframe thead th {\n",
       "        text-align: right;\n",
       "    }\n",
       "</style>\n",
       "<table border=\"1\" class=\"dataframe\">\n",
       "  <thead>\n",
       "    <tr style=\"text-align: right;\">\n",
       "      <th></th>\n",
       "      <th>json_path</th>\n",
       "      <th>zone</th>\n",
       "      <th>region</th>\n",
       "      <th>date</th>\n",
       "      <th>geometry</th>\n",
       "      <th>s2_matches</th>\n",
       "      <th>s1_matches</th>\n",
       "    </tr>\n",
       "  </thead>\n",
       "  <tbody>\n",
       "    <tr>\n",
       "      <th>6292276</th>\n",
       "      <td>data/json/zone=51S/region=357067_6579845/date=...</td>\n",
       "      <td>51S</td>\n",
       "      <td>357067_6579845</td>\n",
       "      <td>2022-10-26</td>\n",
       "      <td>POLYGON ((121.50829 -30.90962, 121.50835 -30.9...</td>\n",
       "      <td>[{'id': 'S2B_MSIL2A_20221106T015619_N0400_R117...</td>\n",
       "      <td>[]</td>\n",
       "    </tr>\n",
       "    <tr>\n",
       "      <th>5793006</th>\n",
       "      <td>data/json/zone=46N/region=374867_2457086/date=...</td>\n",
       "      <td>46N</td>\n",
       "      <td>374867_2457086</td>\n",
       "      <td>2022-12-25</td>\n",
       "      <td>POLYGON ((91.7897 22.2112, 91.78967 22.21467, ...</td>\n",
       "      <td>[{'id': 'S2A_MSIL2A_20230108T042151_N0509_R090...</td>\n",
       "      <td>[{'id': 'S1A_IW_GRDH_1SDV_20230108T234835_2023...</td>\n",
       "    </tr>\n",
       "    <tr>\n",
       "      <th>3933716</th>\n",
       "      <td>data/json/zone=38N/region=601805_4299370/date=...</td>\n",
       "      <td>38N</td>\n",
       "      <td>601805_4299370</td>\n",
       "      <td>2022-10-05</td>\n",
       "      <td>POLYGON ((46.17736 38.83375, 46.17741 38.83721...</td>\n",
       "      <td>[{'id': 'S2A_MSIL2A_20221020T073931_N0400_R092...</td>\n",
       "      <td>[{'id': 'S1A_IW_GRDH_1SDV_20221017T030130_2022...</td>\n",
       "    </tr>\n",
       "  </tbody>\n",
       "</table>\n",
       "</div>"
      ],
      "text/plain": [
       "                                                 json_path zone  \\\n",
       "6292276  data/json/zone=51S/region=357067_6579845/date=...  51S   \n",
       "5793006  data/json/zone=46N/region=374867_2457086/date=...  46N   \n",
       "3933716  data/json/zone=38N/region=601805_4299370/date=...  38N   \n",
       "\n",
       "                 region       date  \\\n",
       "6292276  357067_6579845 2022-10-26   \n",
       "5793006  374867_2457086 2022-12-25   \n",
       "3933716  601805_4299370 2022-10-05   \n",
       "\n",
       "                                                  geometry  \\\n",
       "6292276  POLYGON ((121.50829 -30.90962, 121.50835 -30.9...   \n",
       "5793006  POLYGON ((91.7897 22.2112, 91.78967 22.21467, ...   \n",
       "3933716  POLYGON ((46.17736 38.83375, 46.17741 38.83721...   \n",
       "\n",
       "                                                s2_matches  \\\n",
       "6292276  [{'id': 'S2B_MSIL2A_20221106T015619_N0400_R117...   \n",
       "5793006  [{'id': 'S2A_MSIL2A_20230108T042151_N0509_R090...   \n",
       "3933716  [{'id': 'S2A_MSIL2A_20221020T073931_N0400_R092...   \n",
       "\n",
       "                                                s1_matches  \n",
       "6292276                                                 []  \n",
       "5793006  [{'id': 'S1A_IW_GRDH_1SDV_20230108T234835_2023...  \n",
       "3933716  [{'id': 'S1A_IW_GRDH_1SDV_20221017T030130_2022...  "
      ]
     },
     "execution_count": 41,
     "metadata": {},
     "output_type": "execute_result"
    }
   ],
   "source": [
    "import geopandas as gpd\n",
    "\n",
    "# gdf = gpd.read_parquet('outputs/satellogic-earthview-items.parquet')\n",
    "gdf = gpd.read_parquet('outputs/satellogic-earthview-items-with-matches.parquet')\n",
    "gdf.head()"
   ]
  },
  {
   "cell_type": "code",
   "execution_count": 52,
   "metadata": {},
   "outputs": [
    {
     "data": {
      "text/plain": [
       "json_path     data/json/zone=38N/region=601805_4299370/date=...\n",
       "zone                                                        38N\n",
       "region                                           601805_4299370\n",
       "date                                        2022-10-05 00:00:00\n",
       "geometry      POLYGON ((46.177355725778 38.833747049158, 46....\n",
       "s2_matches    [{'id': 'S2A_MSIL2A_20221020T073931_N0400_R092...\n",
       "s1_matches    [{'id': 'S1A_IW_GRDH_1SDV_20221017T030130_2022...\n",
       "Name: 3933716, dtype: object"
      ]
     },
     "execution_count": 52,
     "metadata": {},
     "output_type": "execute_result"
    }
   ],
   "source": [
    "sample = gdf.iloc[2]\n",
    "sample"
   ]
  },
  {
   "cell_type": "code",
   "execution_count": 53,
   "metadata": {},
   "outputs": [
    {
     "data": {
      "text/plain": [
       "[{'id': 'S2A_MSIL2A_20221020T073931_N0400_R092_T38SNH_20221020T110405',\n",
       "  'properties': {'datetime': '2022-10-20T07:49:17Z', 'eo:cloud_cover': 63.35}},\n",
       " {'id': 'S2A_MSIL2A_20221020T073931_N0400_R092_T38SPH_20221020T110405',\n",
       "  'properties': {'datetime': '2022-10-20T07:49:14Z', 'eo:cloud_cover': 61.05}},\n",
       " {'id': 'S2A_MSIL2A_20221020T073931_N0400_R092_T38SNJ_20221020T110405',\n",
       "  'properties': {'datetime': '2022-10-20T07:49:02Z', 'eo:cloud_cover': 48.1}},\n",
       " {'id': 'S2A_MSIL2A_20221020T073931_N0400_R092_T38SPJ_20221020T110405',\n",
       "  'properties': {'datetime': '2022-10-20T07:48:59Z', 'eo:cloud_cover': 64.92}},\n",
       " {'id': 'S2B_MSIL2A_20221018T074919_N0400_R135_T38SNH_20221018T092230',\n",
       "  'properties': {'datetime': '2022-10-18T07:59:11Z', 'eo:cloud_cover': 13.75}},\n",
       " {'id': 'S2B_MSIL2A_20221018T074919_N0400_R135_T38SPH_20221018T092230',\n",
       "  'properties': {'datetime': '2022-10-18T07:59:04Z', 'eo:cloud_cover': 14.87}},\n",
       " {'id': 'S2B_MSIL2A_20221018T074919_N0400_R135_T38SNJ_20221018T092230',\n",
       "  'properties': {'datetime': '2022-10-18T07:58:57Z', 'eo:cloud_cover': 30.4}},\n",
       " {'id': 'S2B_MSIL2A_20221018T074919_N0400_R135_T38SPJ_20221018T092230',\n",
       "  'properties': {'datetime': '2022-10-18T07:58:52Z', 'eo:cloud_cover': 80.02}},\n",
       " {'id': 'S2B_MSIL2A_20221015T073859_N0400_R092_T38SNH_20221015T091714',\n",
       "  'properties': {'datetime': '2022-10-15T07:49:14Z', 'eo:cloud_cover': 58.44}},\n",
       " {'id': 'S2B_MSIL2A_20221015T073859_N0400_R092_T38SPH_20221015T091714',\n",
       "  'properties': {'datetime': '2022-10-15T07:49:11Z', 'eo:cloud_cover': 16.55}},\n",
       " {'id': 'S2B_MSIL2A_20221015T073859_N0400_R092_T38SNJ_20221015T091714',\n",
       "  'properties': {'datetime': '2022-10-15T07:49:00Z', 'eo:cloud_cover': 28.55}},\n",
       " {'id': 'S2B_MSIL2A_20221015T073859_N0400_R092_T38SPJ_20221015T091714',\n",
       "  'properties': {'datetime': '2022-10-15T07:48:57Z', 'eo:cloud_cover': 62.05}},\n",
       " {'id': 'S2A_MSIL2A_20221013T074851_N0400_R135_T38SNH_20221013T111905',\n",
       "  'properties': {'datetime': '2022-10-13T07:59:16Z', 'eo:cloud_cover': 17.45}},\n",
       " {'id': 'S2A_MSIL2A_20221013T074851_N0400_R135_T38SPH_20221013T111905',\n",
       "  'properties': {'datetime': '2022-10-13T07:59:10Z', 'eo:cloud_cover': 45.49}},\n",
       " {'id': 'S2A_MSIL2A_20221013T074851_N0400_R135_T38SNJ_20221013T111905',\n",
       "  'properties': {'datetime': '2022-10-13T07:59:02Z', 'eo:cloud_cover': 69.45}},\n",
       " {'id': 'S2A_MSIL2A_20221013T074851_N0400_R135_T38SPJ_20221013T111905',\n",
       "  'properties': {'datetime': '2022-10-13T07:58:58Z', 'eo:cloud_cover': 78.0}},\n",
       " {'id': 'S2A_MSIL2A_20221010T073831_N0400_R092_T38SNH_20221010T110559',\n",
       "  'properties': {'datetime': '2022-10-10T07:49:21Z', 'eo:cloud_cover': 0.09}},\n",
       " {'id': 'S2A_MSIL2A_20221010T073831_N0400_R092_T38SPH_20221010T110559',\n",
       "  'properties': {'datetime': '2022-10-10T07:49:18Z', 'eo:cloud_cover': 2.64}},\n",
       " {'id': 'S2A_MSIL2A_20221010T073831_N0400_R092_T38SNJ_20221010T110559',\n",
       "  'properties': {'datetime': '2022-10-10T07:49:06Z', 'eo:cloud_cover': 8.78}},\n",
       " {'id': 'S2A_MSIL2A_20221010T073831_N0400_R092_T38SPJ_20221010T110559',\n",
       "  'properties': {'datetime': '2022-10-10T07:49:03Z', 'eo:cloud_cover': 11.4}},\n",
       " {'id': 'S2B_MSIL2A_20221008T074809_N0400_R135_T38SNH_20221008T091851',\n",
       "  'properties': {'datetime': '2022-10-08T07:59:09Z', 'eo:cloud_cover': 0.0}},\n",
       " {'id': 'S2B_MSIL2A_20221008T074809_N0400_R135_T38SPH_20221008T091851',\n",
       "  'properties': {'datetime': '2022-10-08T07:59:02Z', 'eo:cloud_cover': 3.1}},\n",
       " {'id': 'S2B_MSIL2A_20221008T074809_N0400_R135_T38SNJ_20221008T091851',\n",
       "  'properties': {'datetime': '2022-10-08T07:58:55Z', 'eo:cloud_cover': 0.88}},\n",
       " {'id': 'S2B_MSIL2A_20221008T074809_N0400_R135_T38SPJ_20221008T091851',\n",
       "  'properties': {'datetime': '2022-10-08T07:58:51Z', 'eo:cloud_cover': 39.88}},\n",
       " {'id': 'S2B_MSIL2A_20221005T073739_N0400_R092_T38SNH_20221005T091545',\n",
       "  'properties': {'datetime': '2022-10-05T07:49:13Z', 'eo:cloud_cover': 0.0}},\n",
       " {'id': 'S2B_MSIL2A_20221005T073739_N0400_R092_T38SPH_20221005T091545',\n",
       "  'properties': {'datetime': '2022-10-05T07:49:10Z', 'eo:cloud_cover': 0.0}},\n",
       " {'id': 'S2B_MSIL2A_20221005T073739_N0400_R092_T38SNJ_20221005T091545',\n",
       "  'properties': {'datetime': '2022-10-05T07:48:58Z', 'eo:cloud_cover': 0.18}},\n",
       " {'id': 'S2B_MSIL2A_20221005T073739_N0400_R092_T38SPJ_20221005T091545',\n",
       "  'properties': {'datetime': '2022-10-05T07:48:55Z', 'eo:cloud_cover': 0.06}},\n",
       " {'id': 'S2A_MSIL2A_20221003T074751_N0400_R135_T38SNH_20221003T111457',\n",
       "  'properties': {'datetime': '2022-10-03T07:59:18Z', 'eo:cloud_cover': 0.0}},\n",
       " {'id': 'S2A_MSIL2A_20221003T074751_N0400_R135_T38SPH_20221003T111457',\n",
       "  'properties': {'datetime': '2022-10-03T07:59:12Z', 'eo:cloud_cover': 0.0}},\n",
       " {'id': 'S2A_MSIL2A_20221003T074751_N0400_R135_T38SNJ_20221003T111457',\n",
       "  'properties': {'datetime': '2022-10-03T07:59:04Z', 'eo:cloud_cover': 0.42}},\n",
       " {'id': 'S2A_MSIL2A_20221003T074751_N0400_R135_T38SPJ_20221003T111457',\n",
       "  'properties': {'datetime': '2022-10-03T07:59:00Z', 'eo:cloud_cover': 0.88}},\n",
       " {'id': 'S2A_MSIL2A_20220930T073721_N0400_R092_T38SNH_20220930T112357',\n",
       "  'properties': {'datetime': '2022-09-30T07:49:23Z', 'eo:cloud_cover': 0.0}},\n",
       " {'id': 'S2A_MSIL2A_20220930T073721_N0400_R092_T38SPH_20220930T112357',\n",
       "  'properties': {'datetime': '2022-09-30T07:49:19Z', 'eo:cloud_cover': 0.0}},\n",
       " {'id': 'S2A_MSIL2A_20220930T073721_N0400_R092_T38SNJ_20220930T112357',\n",
       "  'properties': {'datetime': '2022-09-30T07:49:08Z', 'eo:cloud_cover': 0.0}},\n",
       " {'id': 'S2A_MSIL2A_20220930T073721_N0400_R092_T38SPJ_20220930T112357',\n",
       "  'properties': {'datetime': '2022-09-30T07:49:05Z', 'eo:cloud_cover': 0.1}},\n",
       " {'id': 'S2B_MSIL2A_20220928T074709_N0400_R135_T38SNH_20220928T091847',\n",
       "  'properties': {'datetime': '2022-09-28T07:59:11Z', 'eo:cloud_cover': 0.0}},\n",
       " {'id': 'S2B_MSIL2A_20220928T074709_N0400_R135_T38SPH_20220928T091847',\n",
       "  'properties': {'datetime': '2022-09-28T07:59:05Z', 'eo:cloud_cover': 0.0}},\n",
       " {'id': 'S2B_MSIL2A_20220928T074709_N0400_R135_T38SNJ_20220928T091847',\n",
       "  'properties': {'datetime': '2022-09-28T07:58:57Z', 'eo:cloud_cover': 0.0}},\n",
       " {'id': 'S2B_MSIL2A_20220928T074709_N0400_R135_T38SPJ_20220928T091847',\n",
       "  'properties': {'datetime': '2022-09-28T07:58:53Z', 'eo:cloud_cover': 0.0}},\n",
       " {'id': 'S2B_MSIL2A_20220925T073639_N0400_R092_T38SNH_20220925T091642',\n",
       "  'properties': {'datetime': '2022-09-25T07:49:16Z', 'eo:cloud_cover': 0.99}},\n",
       " {'id': 'S2B_MSIL2A_20220925T073639_N0400_R092_T38SPH_20220925T091642',\n",
       "  'properties': {'datetime': '2022-09-25T07:49:13Z', 'eo:cloud_cover': 27.51}},\n",
       " {'id': 'S2B_MSIL2A_20220925T073639_N0400_R092_T38SNJ_20220925T091642',\n",
       "  'properties': {'datetime': '2022-09-25T07:49:01Z', 'eo:cloud_cover': 42.47}},\n",
       " {'id': 'S2B_MSIL2A_20220925T073639_N0400_R092_T38SPJ_20220925T091642',\n",
       "  'properties': {'datetime': '2022-09-25T07:48:58Z', 'eo:cloud_cover': 92.54}},\n",
       " {'id': 'S2A_MSIL2A_20220923T074641_N0400_R135_T38SNH_20220923T111404',\n",
       "  'properties': {'datetime': '2022-09-23T07:59:18Z', 'eo:cloud_cover': 0.22}},\n",
       " {'id': 'S2A_MSIL2A_20220923T074641_N0400_R135_T38SPH_20220923T111404',\n",
       "  'properties': {'datetime': '2022-09-23T07:59:12Z', 'eo:cloud_cover': 0.08}},\n",
       " {'id': 'S2A_MSIL2A_20220923T074641_N0400_R135_T38SNJ_20220923T111404',\n",
       "  'properties': {'datetime': '2022-09-23T07:59:04Z', 'eo:cloud_cover': 3.86}},\n",
       " {'id': 'S2A_MSIL2A_20220923T074641_N0400_R135_T38SPJ_20220923T111404',\n",
       "  'properties': {'datetime': '2022-09-23T07:59:00Z', 'eo:cloud_cover': 3.69}},\n",
       " {'id': 'S2A_MSIL2A_20220920T073621_N0400_R092_T38SNH_20220920T111654',\n",
       "  'properties': {'datetime': '2022-09-20T07:49:23Z', 'eo:cloud_cover': 0.0}},\n",
       " {'id': 'S2A_MSIL2A_20220920T073621_N0400_R092_T38SPH_20220920T111654',\n",
       "  'properties': {'datetime': '2022-09-20T07:49:20Z', 'eo:cloud_cover': 0.87}},\n",
       " {'id': 'S2A_MSIL2A_20220920T073621_N0400_R092_T38SNJ_20220920T111654',\n",
       "  'properties': {'datetime': '2022-09-20T07:49:08Z', 'eo:cloud_cover': 1.81}},\n",
       " {'id': 'S2A_MSIL2A_20220920T073621_N0400_R092_T38SPJ_20220920T111654',\n",
       "  'properties': {'datetime': '2022-09-20T07:49:05Z', 'eo:cloud_cover': 0.88}}]"
      ]
     },
     "execution_count": 53,
     "metadata": {},
     "output_type": "execute_result"
    }
   ],
   "source": [
    "from eotdl.access import find_sentinel_matches_by_centroid\n",
    "\n",
    "centroid = sample.geometry.centroid\n",
    "matches = find_sentinel_matches_by_centroid(centroid, sample.date, 30, 384, 384, 'sentinel-2-l2a')\n",
    "# matches = sample.s2_matches\n",
    "matches"
   ]
  },
  {
   "cell_type": "code",
   "execution_count": 54,
   "metadata": {},
   "outputs": [
    {
     "data": {
      "text/plain": [
       "array([{'id': 'S2A_MSIL2A_20221020T073931_N0400_R092_T38SNH_20221020T110405', 'properties': {'datetime': '2022-10-20T07:49:17Z', 'eo:cloud_cover': 63.35}},\n",
       "       {'id': 'S2A_MSIL2A_20221020T073931_N0400_R092_T38SPH_20221020T110405', 'properties': {'datetime': '2022-10-20T07:49:14Z', 'eo:cloud_cover': 61.05}},\n",
       "       {'id': 'S2A_MSIL2A_20221020T073931_N0400_R092_T38SNJ_20221020T110405', 'properties': {'datetime': '2022-10-20T07:49:02Z', 'eo:cloud_cover': 48.1}},\n",
       "       {'id': 'S2A_MSIL2A_20221020T073931_N0400_R092_T38SPJ_20221020T110405', 'properties': {'datetime': '2022-10-20T07:48:59Z', 'eo:cloud_cover': 64.92}},\n",
       "       {'id': 'S2B_MSIL2A_20221018T074919_N0400_R135_T38SNH_20221018T092230', 'properties': {'datetime': '2022-10-18T07:59:11Z', 'eo:cloud_cover': 13.75}},\n",
       "       {'id': 'S2B_MSIL2A_20221018T074919_N0400_R135_T38SPH_20221018T092230', 'properties': {'datetime': '2022-10-18T07:59:04Z', 'eo:cloud_cover': 14.87}},\n",
       "       {'id': 'S2B_MSIL2A_20221018T074919_N0400_R135_T38SNJ_20221018T092230', 'properties': {'datetime': '2022-10-18T07:58:57Z', 'eo:cloud_cover': 30.4}},\n",
       "       {'id': 'S2B_MSIL2A_20221018T074919_N0400_R135_T38SPJ_20221018T092230', 'properties': {'datetime': '2022-10-18T07:58:52Z', 'eo:cloud_cover': 80.02}},\n",
       "       {'id': 'S2B_MSIL2A_20221015T073859_N0400_R092_T38SNH_20221015T091714', 'properties': {'datetime': '2022-10-15T07:49:14Z', 'eo:cloud_cover': 58.44}},\n",
       "       {'id': 'S2B_MSIL2A_20221015T073859_N0400_R092_T38SPH_20221015T091714', 'properties': {'datetime': '2022-10-15T07:49:11Z', 'eo:cloud_cover': 16.55}},\n",
       "       {'id': 'S2B_MSIL2A_20221015T073859_N0400_R092_T38SNJ_20221015T091714', 'properties': {'datetime': '2022-10-15T07:49:00Z', 'eo:cloud_cover': 28.55}},\n",
       "       {'id': 'S2B_MSIL2A_20221015T073859_N0400_R092_T38SPJ_20221015T091714', 'properties': {'datetime': '2022-10-15T07:48:57Z', 'eo:cloud_cover': 62.05}},\n",
       "       {'id': 'S2A_MSIL2A_20221013T074851_N0400_R135_T38SNH_20221013T111905', 'properties': {'datetime': '2022-10-13T07:59:16Z', 'eo:cloud_cover': 17.45}},\n",
       "       {'id': 'S2A_MSIL2A_20221013T074851_N0400_R135_T38SPH_20221013T111905', 'properties': {'datetime': '2022-10-13T07:59:10Z', 'eo:cloud_cover': 45.49}},\n",
       "       {'id': 'S2A_MSIL2A_20221013T074851_N0400_R135_T38SNJ_20221013T111905', 'properties': {'datetime': '2022-10-13T07:59:02Z', 'eo:cloud_cover': 69.45}},\n",
       "       {'id': 'S2A_MSIL2A_20221013T074851_N0400_R135_T38SPJ_20221013T111905', 'properties': {'datetime': '2022-10-13T07:58:58Z', 'eo:cloud_cover': 78.0}},\n",
       "       {'id': 'S2A_MSIL2A_20221010T073831_N0400_R092_T38SNH_20221010T110559', 'properties': {'datetime': '2022-10-10T07:49:21Z', 'eo:cloud_cover': 0.09}},\n",
       "       {'id': 'S2A_MSIL2A_20221010T073831_N0400_R092_T38SPH_20221010T110559', 'properties': {'datetime': '2022-10-10T07:49:18Z', 'eo:cloud_cover': 2.64}},\n",
       "       {'id': 'S2A_MSIL2A_20221010T073831_N0400_R092_T38SNJ_20221010T110559', 'properties': {'datetime': '2022-10-10T07:49:06Z', 'eo:cloud_cover': 8.78}},\n",
       "       {'id': 'S2A_MSIL2A_20221010T073831_N0400_R092_T38SPJ_20221010T110559', 'properties': {'datetime': '2022-10-10T07:49:03Z', 'eo:cloud_cover': 11.4}},\n",
       "       {'id': 'S2B_MSIL2A_20221008T074809_N0400_R135_T38SNH_20221008T091851', 'properties': {'datetime': '2022-10-08T07:59:09Z', 'eo:cloud_cover': 0.0}},\n",
       "       {'id': 'S2B_MSIL2A_20221008T074809_N0400_R135_T38SPH_20221008T091851', 'properties': {'datetime': '2022-10-08T07:59:02Z', 'eo:cloud_cover': 3.1}},\n",
       "       {'id': 'S2B_MSIL2A_20221008T074809_N0400_R135_T38SNJ_20221008T091851', 'properties': {'datetime': '2022-10-08T07:58:55Z', 'eo:cloud_cover': 0.88}},\n",
       "       {'id': 'S2B_MSIL2A_20221008T074809_N0400_R135_T38SPJ_20221008T091851', 'properties': {'datetime': '2022-10-08T07:58:51Z', 'eo:cloud_cover': 39.88}},\n",
       "       {'id': 'S2B_MSIL2A_20221005T073739_N0400_R092_T38SNH_20221005T091545', 'properties': {'datetime': '2022-10-05T07:49:13Z', 'eo:cloud_cover': 0.0}},\n",
       "       {'id': 'S2B_MSIL2A_20221005T073739_N0400_R092_T38SPH_20221005T091545', 'properties': {'datetime': '2022-10-05T07:49:10Z', 'eo:cloud_cover': 0.0}},\n",
       "       {'id': 'S2B_MSIL2A_20221005T073739_N0400_R092_T38SNJ_20221005T091545', 'properties': {'datetime': '2022-10-05T07:48:58Z', 'eo:cloud_cover': 0.18}},\n",
       "       {'id': 'S2B_MSIL2A_20221005T073739_N0400_R092_T38SPJ_20221005T091545', 'properties': {'datetime': '2022-10-05T07:48:55Z', 'eo:cloud_cover': 0.06}},\n",
       "       {'id': 'S2A_MSIL2A_20221003T074751_N0400_R135_T38SNH_20221003T111457', 'properties': {'datetime': '2022-10-03T07:59:18Z', 'eo:cloud_cover': 0.0}},\n",
       "       {'id': 'S2A_MSIL2A_20221003T074751_N0400_R135_T38SPH_20221003T111457', 'properties': {'datetime': '2022-10-03T07:59:12Z', 'eo:cloud_cover': 0.0}},\n",
       "       {'id': 'S2A_MSIL2A_20221003T074751_N0400_R135_T38SNJ_20221003T111457', 'properties': {'datetime': '2022-10-03T07:59:04Z', 'eo:cloud_cover': 0.42}},\n",
       "       {'id': 'S2A_MSIL2A_20221003T074751_N0400_R135_T38SPJ_20221003T111457', 'properties': {'datetime': '2022-10-03T07:59:00Z', 'eo:cloud_cover': 0.88}},\n",
       "       {'id': 'S2A_MSIL2A_20220930T073721_N0400_R092_T38SNH_20220930T112357', 'properties': {'datetime': '2022-09-30T07:49:23Z', 'eo:cloud_cover': 0.0}},\n",
       "       {'id': 'S2A_MSIL2A_20220930T073721_N0400_R092_T38SPH_20220930T112357', 'properties': {'datetime': '2022-09-30T07:49:19Z', 'eo:cloud_cover': 0.0}},\n",
       "       {'id': 'S2A_MSIL2A_20220930T073721_N0400_R092_T38SNJ_20220930T112357', 'properties': {'datetime': '2022-09-30T07:49:08Z', 'eo:cloud_cover': 0.0}},\n",
       "       {'id': 'S2A_MSIL2A_20220930T073721_N0400_R092_T38SPJ_20220930T112357', 'properties': {'datetime': '2022-09-30T07:49:05Z', 'eo:cloud_cover': 0.1}},\n",
       "       {'id': 'S2B_MSIL2A_20220928T074709_N0400_R135_T38SNH_20220928T091847', 'properties': {'datetime': '2022-09-28T07:59:11Z', 'eo:cloud_cover': 0.0}},\n",
       "       {'id': 'S2B_MSIL2A_20220928T074709_N0400_R135_T38SPH_20220928T091847', 'properties': {'datetime': '2022-09-28T07:59:05Z', 'eo:cloud_cover': 0.0}},\n",
       "       {'id': 'S2B_MSIL2A_20220928T074709_N0400_R135_T38SNJ_20220928T091847', 'properties': {'datetime': '2022-09-28T07:58:57Z', 'eo:cloud_cover': 0.0}},\n",
       "       {'id': 'S2B_MSIL2A_20220928T074709_N0400_R135_T38SPJ_20220928T091847', 'properties': {'datetime': '2022-09-28T07:58:53Z', 'eo:cloud_cover': 0.0}},\n",
       "       {'id': 'S2B_MSIL2A_20220925T073639_N0400_R092_T38SNH_20220925T091642', 'properties': {'datetime': '2022-09-25T07:49:16Z', 'eo:cloud_cover': 0.99}},\n",
       "       {'id': 'S2B_MSIL2A_20220925T073639_N0400_R092_T38SPH_20220925T091642', 'properties': {'datetime': '2022-09-25T07:49:13Z', 'eo:cloud_cover': 27.51}},\n",
       "       {'id': 'S2B_MSIL2A_20220925T073639_N0400_R092_T38SNJ_20220925T091642', 'properties': {'datetime': '2022-09-25T07:49:01Z', 'eo:cloud_cover': 42.47}},\n",
       "       {'id': 'S2B_MSIL2A_20220925T073639_N0400_R092_T38SPJ_20220925T091642', 'properties': {'datetime': '2022-09-25T07:48:58Z', 'eo:cloud_cover': 92.54}},\n",
       "       {'id': 'S2A_MSIL2A_20220923T074641_N0400_R135_T38SNH_20220923T111404', 'properties': {'datetime': '2022-09-23T07:59:18Z', 'eo:cloud_cover': 0.22}},\n",
       "       {'id': 'S2A_MSIL2A_20220923T074641_N0400_R135_T38SPH_20220923T111404', 'properties': {'datetime': '2022-09-23T07:59:12Z', 'eo:cloud_cover': 0.08}},\n",
       "       {'id': 'S2A_MSIL2A_20220923T074641_N0400_R135_T38SNJ_20220923T111404', 'properties': {'datetime': '2022-09-23T07:59:04Z', 'eo:cloud_cover': 3.86}},\n",
       "       {'id': 'S2A_MSIL2A_20220923T074641_N0400_R135_T38SPJ_20220923T111404', 'properties': {'datetime': '2022-09-23T07:59:00Z', 'eo:cloud_cover': 3.69}},\n",
       "       {'id': 'S2A_MSIL2A_20220920T073621_N0400_R092_T38SNH_20220920T111654', 'properties': {'datetime': '2022-09-20T07:49:23Z', 'eo:cloud_cover': 0.0}},\n",
       "       {'id': 'S2A_MSIL2A_20220920T073621_N0400_R092_T38SPH_20220920T111654', 'properties': {'datetime': '2022-09-20T07:49:20Z', 'eo:cloud_cover': 0.87}},\n",
       "       {'id': 'S2A_MSIL2A_20220920T073621_N0400_R092_T38SNJ_20220920T111654', 'properties': {'datetime': '2022-09-20T07:49:08Z', 'eo:cloud_cover': 1.81}},\n",
       "       {'id': 'S2A_MSIL2A_20220920T073621_N0400_R092_T38SPJ_20220920T111654', 'properties': {'datetime': '2022-09-20T07:49:05Z', 'eo:cloud_cover': 0.88}}],\n",
       "      dtype=object)"
      ]
     },
     "execution_count": 54,
     "metadata": {},
     "output_type": "execute_result"
    }
   ],
   "source": [
    "matches = sample.s2_matches\n",
    "matches"
   ]
  },
  {
   "cell_type": "code",
   "execution_count": 55,
   "metadata": {},
   "outputs": [
    {
     "data": {
      "text/plain": [
       "'2022-10-05T07:48:55Z'"
      ]
     },
     "execution_count": 55,
     "metadata": {},
     "output_type": "execute_result"
    }
   ],
   "source": [
    "from datetime import datetime\n",
    "\n",
    "s2_matches_filtered = [r for r in matches if r['properties']['eo:cloud_cover'] <= 10]\n",
    "closest_match = min(s2_matches_filtered, key=lambda x: abs(datetime.fromisoformat(x['properties']['datetime'].replace('Z','')) - sample.date))\n",
    "s2_date = closest_match['properties']['datetime']\n",
    "s2_date"
   ]
  },
  {
   "cell_type": "code",
   "execution_count": 56,
   "metadata": {},
   "outputs": [],
   "source": [
    "from eotdl.access import download_sentinel_imagery\n",
    "from eotdl.tools import bbox_from_centroid\n",
    "\n",
    "custom_bbox = bbox_from_centroid(x=centroid.y, y=centroid.x, pixel_size=10, width=384, height=384)\n",
    "download_sentinel_imagery('outputs/kk', s2_date, custom_bbox, 'sentinel-2-l2a', 'kk')"
   ]
  },
  {
   "cell_type": "code",
   "execution_count": null,
   "metadata": {},
   "outputs": [],
   "source": []
  }
 ],
 "metadata": {
  "kernelspec": {
   "display_name": ".venv",
   "language": "python",
   "name": "python3"
  },
  "language_info": {
   "codemirror_mode": {
    "name": "ipython",
    "version": 3
   },
   "file_extension": ".py",
   "mimetype": "text/x-python",
   "name": "python",
   "nbconvert_exporter": "python",
   "pygments_lexer": "ipython3",
   "version": "3.12.7"
  }
 },
 "nbformat": 4,
 "nbformat_minor": 2
}
