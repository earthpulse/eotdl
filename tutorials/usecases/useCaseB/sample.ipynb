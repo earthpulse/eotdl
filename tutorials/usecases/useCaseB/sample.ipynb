{
 "cells": [
  {
   "cell_type": "markdown",
   "metadata": {},
   "source": [
    "Copy a sample of the dataset from use case A."
   ]
  },
  {
   "cell_type": "code",
   "execution_count": 18,
   "metadata": {},
   "outputs": [],
   "source": [
    "from glob import glob\n",
    "import numpy as np\n",
    "import os\n",
    "import shutil\n",
    "from tqdm import tqdm"
   ]
  },
  {
   "cell_type": "code",
   "execution_count": 13,
   "metadata": {},
   "outputs": [
    {
     "data": {
      "text/plain": [
       "298377"
      ]
     },
     "execution_count": 13,
     "metadata": {},
     "output_type": "execute_result"
    }
   ],
   "source": [
    "path = \"/fastdata/Satellogic/data/tifs\"\n",
    "\n",
    "hr_paths = glob(path + \"/satellogic/*.tif\")\n",
    "len(hr_paths)"
   ]
  },
  {
   "cell_type": "code",
   "execution_count": 14,
   "metadata": {},
   "outputs": [
    {
     "data": {
      "text/plain": [
       "20000"
      ]
     },
     "execution_count": 14,
     "metadata": {},
     "output_type": "execute_result"
    }
   ],
   "source": [
    "hr_paths = np.random.choice(hr_paths, size=20_000, replace=False)\n",
    "len(hr_paths)"
   ]
  },
  {
   "cell_type": "code",
   "execution_count": 15,
   "metadata": {},
   "outputs": [
    {
     "data": {
      "text/plain": [
       "2579"
      ]
     },
     "execution_count": 15,
     "metadata": {},
     "output_type": "execute_result"
    }
   ],
   "source": [
    "remove = []\n",
    "for path in hr_paths:\n",
    "    lr_path = path.replace(\"satellogic\", \"sentinel2\").replace(\"_TOA.tif\", \"_S2L2A.tiff\")\n",
    "    if not os.path.exists(lr_path):\n",
    "        remove.append(path)\n",
    "len(remove)"
   ]
  },
  {
   "cell_type": "code",
   "execution_count": 16,
   "metadata": {},
   "outputs": [
    {
     "data": {
      "text/plain": [
       "(17421, 17421)"
      ]
     },
     "execution_count": 16,
     "metadata": {},
     "output_type": "execute_result"
    }
   ],
   "source": [
    "hr_paths = [p for p in hr_paths if p not in remove]\n",
    "lr_paths = [\n",
    "    f.replace(\"satellogic\", \"sentinel2\").replace(\"_TOA.tif\", \"_S2L2A.tiff\")\n",
    "    for f in hr_paths\n",
    "]\n",
    "\n",
    "len(hr_paths), len(lr_paths)"
   ]
  },
  {
   "cell_type": "code",
   "execution_count": 25,
   "metadata": {},
   "outputs": [
    {
     "name": "stderr",
     "output_type": "stream",
     "text": [
      "100%|██████████| 17421/17421 [01:16<00:00, 227.80it/s]\n"
     ]
    }
   ],
   "source": [
    "ds_path = \"/fastdata/superres\"\n",
    "os.makedirs(ds_path + '/satellogic', exist_ok=True)\n",
    "os.makedirs(ds_path + '/sentinel2', exist_ok=True)\n",
    "\n",
    "for hr_path, lr_path in tqdm(zip(hr_paths, lr_paths), total=len(hr_paths)):\n",
    "    shutil.copy(hr_path, ds_path + '/satellogic')\n",
    "    shutil.copy(lr_path, ds_path + '/sentinel2')"
   ]
  },
  {
   "cell_type": "code",
   "execution_count": null,
   "metadata": {},
   "outputs": [],
   "source": []
  }
 ],
 "metadata": {
  "kernelspec": {
   "display_name": ".venv",
   "language": "python",
   "name": "python3"
  },
  "language_info": {
   "codemirror_mode": {
    "name": "ipython",
    "version": 3
   },
   "file_extension": ".py",
   "mimetype": "text/x-python",
   "name": "python",
   "nbconvert_exporter": "python",
   "pygments_lexer": "ipython3",
   "version": "3.12.7"
  }
 },
 "nbformat": 4,
 "nbformat_minor": 2
}
