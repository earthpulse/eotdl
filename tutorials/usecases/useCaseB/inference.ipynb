{
 "cells": [
  {
   "cell_type": "code",
   "execution_count": 1,
   "metadata": {},
   "outputs": [],
   "source": [
    "from src.module import ESRTModule\n",
    "\n",
    "checkpoint = 'checkpoint.ckpt'\n",
    "\n",
    "module = ESRTModule.load_from_checkpoint(checkpoint)\n",
    "\n",
    "module.eval();"
   ]
  },
  {
   "cell_type": "code",
   "execution_count": null,
   "metadata": {},
   "outputs": [],
   "source": [
    "from src.dm import ESRTDatamodule\n",
    "\n",
    "dm = ESRTDatamodule(\n",
    "    path = \"/fastdata/superres\",\n",
    "    upscale = 2,\n",
    "    batch_size = 5,\n",
    ")\n",
    "\n",
    "dm.setup()"
   ]
  },
  {
   "cell_type": "code",
   "execution_count": null,
   "metadata": {},
   "outputs": [],
   "source": [
    "import matplotlib.pyplot as plt\n",
    "import torch\n",
    "\n",
    "batch = next(iter(dm.val_dataloader(shuffle=True)))\n",
    "lr_images, hr_images = batch\n",
    "\n",
    "with torch.no_grad():   \n",
    "    preds = module(lr_images.to(module.device)).cpu()\n",
    "\n",
    "fig, axes = plt.subplots(3, 5, figsize=(20, 8))\n",
    "for i in range(5):\n",
    "    hr_img = hr_images[i].permute(1, 2, 0)\n",
    "    axes[0, i].imshow(hr_img[..., :3])\n",
    "    axes[0, i].axis('off')\n",
    "for i in range(5):\n",
    "    lr_img = lr_images[i].permute(1, 2, 0)\n",
    "    axes[1, i].imshow(lr_img[..., :3])\n",
    "    axes[1, i].axis('off')\n",
    "for i in range(5):\n",
    "    pred_img = preds[i].permute(1, 2, 0)\n",
    "    axes[2, i].imshow(pred_img[..., :3])\n",
    "    axes[2, i].axis('off')\n",
    "\n",
    "plt.tight_layout()\n",
    "plt.show()"
   ]
  }
 ],
 "metadata": {
  "kernelspec": {
   "display_name": ".venv",
   "language": "python",
   "name": "python3"
  },
  "language_info": {
   "codemirror_mode": {
    "name": "ipython",
    "version": 3
   },
   "file_extension": ".py",
   "mimetype": "text/x-python",
   "name": "python",
   "nbconvert_exporter": "python",
   "pygments_lexer": "ipython3",
   "version": "3.12.7"
  }
 },
 "nbformat": 4,
 "nbformat_minor": 2
}
