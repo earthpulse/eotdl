{
 "cells": [
  {
   "cell_type": "code",
   "execution_count": 1,
   "metadata": {},
   "outputs": [],
   "source": [
    "%load_ext autoreload\n",
    "%autoreload 2"
   ]
  },
  {
   "cell_type": "code",
   "execution_count": 3,
   "metadata": {},
   "outputs": [
    {
     "data": {
      "text/plain": [
       "'2024.11.07'"
      ]
     },
     "execution_count": 3,
     "metadata": {},
     "output_type": "execute_result"
    }
   ],
   "source": [
    "import eotdl\n",
    "\n",
    "eotdl.__version__"
   ]
  },
  {
   "cell_type": "markdown",
   "metadata": {},
   "source": [
    "In this notebook we generate the dataset for the use case\n",
    "\n",
    "1. Generate list of Satellogic images to be used (containing bb and acquisition time)\n",
    "2. Explore available S1/S2 images with different criteria\n",
    "\t- bounding box overlap\n",
    "\t- acquisition time overlap\n",
    "3. Download matching S1/S2 at given resolution\n",
    "4. Generate metadata and ingest to EOTDL "
   ]
  },
  {
   "cell_type": "code",
   "execution_count": 16,
   "metadata": {},
   "outputs": [
    {
     "ename": "ImportError",
     "evalue": "Missing optional dependency 'pyarrow.parquet'. pyarrow is required for Parquet support.  \"\n        \"Use pip or conda to install pyarrow.parquet.",
     "output_type": "error",
     "traceback": [
      "\u001b[0;31m---------------------------------------------------------------------------\u001b[0m",
      "\u001b[0;31mImportError\u001b[0m                               Traceback (most recent call last)",
      "Cell \u001b[0;32mIn[16], line 3\u001b[0m\n\u001b[1;32m      1\u001b[0m \u001b[38;5;28;01mimport\u001b[39;00m \u001b[38;5;21;01mgeopandas\u001b[39;00m \u001b[38;5;28;01mas\u001b[39;00m \u001b[38;5;21;01mgpd\u001b[39;00m\n\u001b[0;32m----> 3\u001b[0m gdf \u001b[38;5;241m=\u001b[39m \u001b[43mgpd\u001b[49m\u001b[38;5;241;43m.\u001b[39;49m\u001b[43mread_parquet\u001b[49m\u001b[43m(\u001b[49m\u001b[38;5;124;43m'\u001b[39;49m\u001b[38;5;124;43msatellogic-earthview-items.parquet\u001b[39;49m\u001b[38;5;124;43m'\u001b[39;49m\u001b[43m)\u001b[49m\n\u001b[1;32m      5\u001b[0m gdf\u001b[38;5;241m.\u001b[39mhead()\n",
      "File \u001b[0;32m~/miniconda3/envs/eotdl/lib/python3.8/site-packages/geopandas/io/arrow.py:586\u001b[0m, in \u001b[0;36m_read_parquet\u001b[0;34m(path, columns, storage_options, **kwargs)\u001b[0m\n\u001b[1;32m    523\u001b[0m \u001b[38;5;28;01mdef\u001b[39;00m \u001b[38;5;21m_read_parquet\u001b[39m(path, columns\u001b[38;5;241m=\u001b[39m\u001b[38;5;28;01mNone\u001b[39;00m, storage_options\u001b[38;5;241m=\u001b[39m\u001b[38;5;28;01mNone\u001b[39;00m, \u001b[38;5;241m*\u001b[39m\u001b[38;5;241m*\u001b[39mkwargs):\n\u001b[1;32m    524\u001b[0m \u001b[38;5;250m    \u001b[39m\u001b[38;5;124;03m\"\"\"\u001b[39;00m\n\u001b[1;32m    525\u001b[0m \u001b[38;5;124;03m    Load a Parquet object from the file path, returning a GeoDataFrame.\u001b[39;00m\n\u001b[1;32m    526\u001b[0m \n\u001b[0;32m   (...)\u001b[0m\n\u001b[1;32m    583\u001b[0m \u001b[38;5;124;03m    ... )  # doctest: +SKIP\u001b[39;00m\n\u001b[1;32m    584\u001b[0m \u001b[38;5;124;03m    \"\"\"\u001b[39;00m\n\u001b[0;32m--> 586\u001b[0m     parquet \u001b[38;5;241m=\u001b[39m \u001b[43mimport_optional_dependency\u001b[49m\u001b[43m(\u001b[49m\n\u001b[1;32m    587\u001b[0m \u001b[43m        \u001b[49m\u001b[38;5;124;43m\"\u001b[39;49m\u001b[38;5;124;43mpyarrow.parquet\u001b[39;49m\u001b[38;5;124;43m\"\u001b[39;49m\u001b[43m,\u001b[49m\u001b[43m \u001b[49m\u001b[43mextra\u001b[49m\u001b[38;5;241;43m=\u001b[39;49m\u001b[38;5;124;43m\"\u001b[39;49m\u001b[38;5;124;43mpyarrow is required for Parquet support.\u001b[39;49m\u001b[38;5;124;43m\"\u001b[39;49m\n\u001b[1;32m    588\u001b[0m \u001b[43m    \u001b[49m\u001b[43m)\u001b[49m\n\u001b[1;32m    589\u001b[0m     \u001b[38;5;66;03m# TODO(https://github.com/pandas-dev/pandas/pull/41194): see if pandas\u001b[39;00m\n\u001b[1;32m    590\u001b[0m     \u001b[38;5;66;03m# adds filesystem as a keyword and match that.\u001b[39;00m\n\u001b[1;32m    591\u001b[0m     filesystem \u001b[38;5;241m=\u001b[39m kwargs\u001b[38;5;241m.\u001b[39mpop(\u001b[38;5;124m\"\u001b[39m\u001b[38;5;124mfilesystem\u001b[39m\u001b[38;5;124m\"\u001b[39m, \u001b[38;5;28;01mNone\u001b[39;00m)\n",
      "File \u001b[0;32m~/miniconda3/envs/eotdl/lib/python3.8/site-packages/geopandas/_compat.py:239\u001b[0m, in \u001b[0;36mimport_optional_dependency\u001b[0;34m(name, extra)\u001b[0m\n\u001b[1;32m    236\u001b[0m     module \u001b[38;5;241m=\u001b[39m importlib\u001b[38;5;241m.\u001b[39mimport_module(name)\n\u001b[1;32m    238\u001b[0m \u001b[38;5;28;01mexcept\u001b[39;00m \u001b[38;5;167;01mImportError\u001b[39;00m:\n\u001b[0;32m--> 239\u001b[0m     \u001b[38;5;28;01mraise\u001b[39;00m \u001b[38;5;167;01mImportError\u001b[39;00m(msg) \u001b[38;5;28;01mfrom\u001b[39;00m \u001b[38;5;28;01mNone\u001b[39;00m\n\u001b[1;32m    241\u001b[0m \u001b[38;5;28;01mreturn\u001b[39;00m module\n",
      "\u001b[0;31mImportError\u001b[0m: Missing optional dependency 'pyarrow.parquet'. pyarrow is required for Parquet support.  \"\n        \"Use pip or conda to install pyarrow.parquet."
     ]
    }
   ],
   "source": [
    "import geopandas as gpd\n",
    "\n",
    "gdf = gpd.read_parquet('satellogic-earthview-items.parquet')\n",
    "\n",
    "gdf.head()"
   ]
  },
  {
   "cell_type": "code",
   "execution_count": 14,
   "metadata": {},
   "outputs": [
    {
     "data": {
      "text/html": [
       "<div>\n",
       "<style scoped>\n",
       "    .dataframe tbody tr th:only-of-type {\n",
       "        vertical-align: middle;\n",
       "    }\n",
       "\n",
       "    .dataframe tbody tr th {\n",
       "        vertical-align: top;\n",
       "    }\n",
       "\n",
       "    .dataframe thead th {\n",
       "        text-align: right;\n",
       "    }\n",
       "</style>\n",
       "<table border=\"1\" class=\"dataframe\">\n",
       "  <thead>\n",
       "    <tr style=\"text-align: right;\">\n",
       "      <th></th>\n",
       "      <th>json_path</th>\n",
       "      <th>zone</th>\n",
       "      <th>region</th>\n",
       "      <th>date</th>\n",
       "      <th>geometry</th>\n",
       "    </tr>\n",
       "  </thead>\n",
       "  <tbody>\n",
       "    <tr>\n",
       "      <th>6359888</th>\n",
       "      <td>data/json/zone=52N/region=459797_5663847/date=...</td>\n",
       "      <td>52N</td>\n",
       "      <td>459797_5663847</td>\n",
       "      <td>2022-08-17</td>\n",
       "      <td>POLYGON ((128.43105 51.12126, 128.431 51.12471...</td>\n",
       "    </tr>\n",
       "    <tr>\n",
       "      <th>215988</th>\n",
       "      <td>data/json/zone=11N/region=382331_3724370/date=...</td>\n",
       "      <td>11N</td>\n",
       "      <td>382331_3724370</td>\n",
       "      <td>2022-08-19</td>\n",
       "      <td>POLYGON ((-118.26482 33.64927, -118.26487 33.6...</td>\n",
       "    </tr>\n",
       "    <tr>\n",
       "      <th>2974338</th>\n",
       "      <td>data/json/zone=33N/region=513218_5942952/date=...</td>\n",
       "      <td>33N</td>\n",
       "      <td>513218_5942952</td>\n",
       "      <td>2022-07-20</td>\n",
       "      <td>POLYGON ((15.2057 53.63172, 15.20571 53.63518,...</td>\n",
       "    </tr>\n",
       "    <tr>\n",
       "      <th>1772806</th>\n",
       "      <td>data/json/zone=21S/region=318055_6186838/date=...</td>\n",
       "      <td>21S</td>\n",
       "      <td>318055_6186838</td>\n",
       "      <td>2022-10-04</td>\n",
       "      <td>POLYGON ((-58.97634 -34.44749, -58.97626 -34.4...</td>\n",
       "    </tr>\n",
       "    <tr>\n",
       "      <th>1568382</th>\n",
       "      <td>data/json/zone=19S/region=548665_3929270/date=...</td>\n",
       "      <td>19S</td>\n",
       "      <td>548665_3929270</td>\n",
       "      <td>2022-09-22</td>\n",
       "      <td>POLYGON ((-68.2373 -54.78482, -68.23737 -54.78...</td>\n",
       "    </tr>\n",
       "    <tr>\n",
       "      <th>2659472</th>\n",
       "      <td>data/json/zone=31N/region=323352_4603510/date=...</td>\n",
       "      <td>31N</td>\n",
       "      <td>323352_4603510</td>\n",
       "      <td>2022-07-03</td>\n",
       "      <td>POLYGON ((0.88621 41.56039, 0.88609 41.56384, ...</td>\n",
       "    </tr>\n",
       "    <tr>\n",
       "      <th>5831807</th>\n",
       "      <td>data/json/zone=46N/region=381011_2484734/date=...</td>\n",
       "      <td>46N</td>\n",
       "      <td>381011_2484734</td>\n",
       "      <td>2022-12-27</td>\n",
       "      <td>POLYGON ((91.84725 22.46136, 91.84722 22.46482...</td>\n",
       "    </tr>\n",
       "    <tr>\n",
       "      <th>4175206</th>\n",
       "      <td>data/json/zone=39N/region=476124_2742046/date=...</td>\n",
       "      <td>39N</td>\n",
       "      <td>476124_2742046</td>\n",
       "      <td>2022-10-10</td>\n",
       "      <td>POLYGON ((50.76759 24.78952, 50.76759 24.79299...</td>\n",
       "    </tr>\n",
       "    <tr>\n",
       "      <th>2495235</th>\n",
       "      <td>data/json/zone=30N/region=344790_4527000/date=...</td>\n",
       "      <td>30N</td>\n",
       "      <td>344790_4527000</td>\n",
       "      <td>2022-08-22</td>\n",
       "      <td>POLYGON ((-4.83746 40.87599, -4.83755 40.87945...</td>\n",
       "    </tr>\n",
       "    <tr>\n",
       "      <th>2362734</th>\n",
       "      <td>data/json/zone=29N/region=796457_1461650/date=...</td>\n",
       "      <td>29N</td>\n",
       "      <td>796457_1461650</td>\n",
       "      <td>2022-11-02</td>\n",
       "      <td>POLYGON ((-6.26135 13.20354, -6.26131 13.20701...</td>\n",
       "    </tr>\n",
       "  </tbody>\n",
       "</table>\n",
       "</div>"
      ],
      "text/plain": [
       "                                                 json_path zone  \\\n",
       "6359888  data/json/zone=52N/region=459797_5663847/date=...  52N   \n",
       "215988   data/json/zone=11N/region=382331_3724370/date=...  11N   \n",
       "2974338  data/json/zone=33N/region=513218_5942952/date=...  33N   \n",
       "1772806  data/json/zone=21S/region=318055_6186838/date=...  21S   \n",
       "1568382  data/json/zone=19S/region=548665_3929270/date=...  19S   \n",
       "2659472  data/json/zone=31N/region=323352_4603510/date=...  31N   \n",
       "5831807  data/json/zone=46N/region=381011_2484734/date=...  46N   \n",
       "4175206  data/json/zone=39N/region=476124_2742046/date=...  39N   \n",
       "2495235  data/json/zone=30N/region=344790_4527000/date=...  30N   \n",
       "2362734  data/json/zone=29N/region=796457_1461650/date=...  29N   \n",
       "\n",
       "                 region       date  \\\n",
       "6359888  459797_5663847 2022-08-17   \n",
       "215988   382331_3724370 2022-08-19   \n",
       "2974338  513218_5942952 2022-07-20   \n",
       "1772806  318055_6186838 2022-10-04   \n",
       "1568382  548665_3929270 2022-09-22   \n",
       "2659472  323352_4603510 2022-07-03   \n",
       "5831807  381011_2484734 2022-12-27   \n",
       "4175206  476124_2742046 2022-10-10   \n",
       "2495235  344790_4527000 2022-08-22   \n",
       "2362734  796457_1461650 2022-11-02   \n",
       "\n",
       "                                                  geometry  \n",
       "6359888  POLYGON ((128.43105 51.12126, 128.431 51.12471...  \n",
       "215988   POLYGON ((-118.26482 33.64927, -118.26487 33.6...  \n",
       "2974338  POLYGON ((15.2057 53.63172, 15.20571 53.63518,...  \n",
       "1772806  POLYGON ((-58.97634 -34.44749, -58.97626 -34.4...  \n",
       "1568382  POLYGON ((-68.2373 -54.78482, -68.23737 -54.78...  \n",
       "2659472  POLYGON ((0.88621 41.56039, 0.88609 41.56384, ...  \n",
       "5831807  POLYGON ((91.84725 22.46136, 91.84722 22.46482...  \n",
       "4175206  POLYGON ((50.76759 24.78952, 50.76759 24.79299...  \n",
       "2495235  POLYGON ((-4.83746 40.87599, -4.83755 40.87945...  \n",
       "2362734  POLYGON ((-6.26135 13.20354, -6.26131 13.20701...  "
      ]
     },
     "execution_count": 14,
     "metadata": {},
     "output_type": "execute_result"
    }
   ],
   "source": [
    "sample = gdf.sample(10)\n",
    "sample"
   ]
  },
  {
   "cell_type": "code",
   "execution_count": 13,
   "metadata": {},
   "outputs": [
    {
     "data": {
      "text/plain": [
       "('sentinel-1-grd', 'sentinel-2-l1c', 'sentinel-2-l2a', 'dem')"
      ]
     },
     "execution_count": 13,
     "metadata": {},
     "output_type": "execute_result"
    }
   ],
   "source": [
    "from eotdl.access import SUPPORTED_SENSORS\n",
    "\n",
    "SUPPORTED_SENSORS"
   ]
  },
  {
   "cell_type": "code",
   "execution_count": 15,
   "metadata": {},
   "outputs": [
    {
     "ename": "NameError",
     "evalue": "name 'sample' is not defined",
     "output_type": "error",
     "traceback": [
      "\u001b[0;31m---------------------------------------------------------------------------\u001b[0m",
      "\u001b[0;31mNameError\u001b[0m                                 Traceback (most recent call last)",
      "Cell \u001b[0;32mIn[15], line 4\u001b[0m\n\u001b[1;32m      1\u001b[0m \u001b[38;5;28;01mfrom\u001b[39;00m \u001b[38;5;21;01meotdl\u001b[39;00m\u001b[38;5;21;01m.\u001b[39;00m\u001b[38;5;21;01maccess\u001b[39;00m \u001b[38;5;28;01mimport\u001b[39;00m search_sentinel_imagery\n\u001b[1;32m      3\u001b[0m matches \u001b[38;5;241m=\u001b[39m []\n\u001b[0;32m----> 4\u001b[0m \u001b[38;5;28;01mfor\u001b[39;00m item \u001b[38;5;129;01min\u001b[39;00m \u001b[43msample\u001b[49m:\n\u001b[1;32m      5\u001b[0m \tdates \u001b[38;5;241m=\u001b[39m item\u001b[38;5;241m.\u001b[39mdate\n\u001b[1;32m      6\u001b[0m \tbb \u001b[38;5;241m=\u001b[39m item\u001b[38;5;241m.\u001b[39mgeometry\n",
      "\u001b[0;31mNameError\u001b[0m: name 'sample' is not defined"
     ]
    }
   ],
   "source": [
    "from eotdl.access import search_sentinel_imagery\n",
    "\n",
    "matches = []\n",
    "for item in sample:\n",
    "\tdates = item.date\n",
    "\tbb = item.geometry\n",
    "\tr = search_sentinel_imagery(dates, bb, 'sentinel-2-l2a')\n",
    "\tlist(r)"
   ]
  },
  {
   "cell_type": "code",
   "execution_count": null,
   "metadata": {},
   "outputs": [],
   "source": []
  }
 ],
 "metadata": {
  "kernelspec": {
   "display_name": ".venv",
   "language": "python",
   "name": "python3"
  },
  "language_info": {
   "codemirror_mode": {
    "name": "ipython",
    "version": 3
   },
   "file_extension": ".py",
   "mimetype": "text/x-python",
   "name": "python",
   "nbconvert_exporter": "python",
   "pygments_lexer": "ipython3",
   "version": "3.12.7"
  }
 },
 "nbformat": 4,
 "nbformat_minor": 2
}
