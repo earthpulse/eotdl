{
 "cells": [
  {
   "cell_type": "markdown",
   "metadata": {},
   "source": [
    "# Data access"
   ]
  },
  {
   "cell_type": "markdown",
   "metadata": {},
   "source": [
    "## Data preparation"
   ]
  },
  {
   "cell_type": "markdown",
   "metadata": {},
   "source": [
    "First, we need to download Sentinel-2 images containing ships that will make up the segementation dataset.\n",
    "\n",
    "For the purpose of selecting the different images and then generating the segmentation masks in a subsquent step, we use CSV files files containing those fields a the date of acquisition of the corresponding Sentinel-2 images :\n",
    "| Field\t            | Description |\n",
    "| :---------------- | :-------- |\n",
    "| Type of mobile\t| Describes what type of target this message is received from (class A AIS Vessel, Class B AIS vessel, etc) |\n",
    "| MMSI\t            | MMSI number of vessel  |\n",
    "| Latitude\t        | Latitude of the vessel in degrees (from -90° to 90°) |\n",
    "| Longitude\t        | Longitude of the vessel in degrees (from -180° to 180°) |\n",
    "| Heading\t        | Heading of the vessel in degrees (from 0° to 359°) |\n",
    "| Width\t            | Width of the vessel (meters) |\n",
    "| Length\t        | Length of the vessel (meters)|"
   ]
  },
  {
   "cell_type": "markdown",
   "metadata": {},
   "source": [
    "This function encapsulates the wholeprocess of downloading a 256 x 256 image centered around a ship. The function bbox_from_centroid enables us to generate the bounding box corresponding to a fixed size images in order to make an AI-ready database. This bounding box is then used to download the Sentinel-2 L2A image at the right date."
   ]
  },
  {
   "cell_type": "code",
   "execution_count": 3,
   "metadata": {},
   "outputs": [],
   "source": [
    "from eotdl.access import download_sentinel_imagery\n",
    "from eotdl.tools import bbox_from_centroid\n",
    "from pathlib import Path\n",
    "\n",
    "def rename_image(image_name, output_dir, date):\n",
    "    image_path = Path(output_dir) / f\"{image_name}.tif\"\n",
    "\n",
    "    # bug in the naming convention in some cases, cf issue #241\n",
    "    downloaded_image_path = Path(output_dir) / f\"{image_name}_{date}.tif\"\n",
    "    if downloaded_image_path.exists():\n",
    "        # Rename image\n",
    "        downloaded_image_path.rename(image_path)\n",
    "\n",
    "        # Rename json\n",
    "        downloaded_json_path = Path(output_dir) / f\"{image_name}_{date}.json\"\n",
    "        json_path = Path(output_dir) / f\"{image_name}.json\"\n",
    "        downloaded_json_path.rename(json_path)\n",
    "\n",
    "    return image_path\n",
    "\n",
    "\n",
    "def download_boat_tile(row, date, output_dir, sensor=\"sentinel-2-l2a\", image_size=128):\n",
    "    \n",
    "    if row[\"Type of mobile\"] in [\"Class A\", \"Class B\"] and row[\"Length\"] >= 15 and not row.isnull().values.any():\n",
    "        \n",
    "        # Get the bouding box\n",
    "        y = row[\"Longitude\"]\n",
    "        x = row[\"Latitude\"]\n",
    "        bbox = bbox_from_centroid(x=x, y=y, pixel_size=10, width=image_size, height=image_size) \n",
    "        image_name = f\"ship_{int(row['MMSI'])}_{date}\"\n",
    "\n",
    "        # Download the image\n",
    "        download_sentinel_imagery(\n",
    "            output=output_dir,\n",
    "            time_interval=date,\n",
    "            bounding_box=bbox,\n",
    "            sensor=sensor,\n",
    "            name=image_name\n",
    "        )        \n",
    "        \n",
    "        image_path = rename_image(image_name, output_dir, date)\n",
    "        \n",
    "        # Check that the image is downloaded\n",
    "        if not image_path.exists():\n",
    "            image_name = None\n",
    "        \n",
    "        return image_name\n",
    "            \n"
   ]
  },
  {
   "cell_type": "markdown",
   "metadata": {},
   "source": [
    "In the case, we have chosen 2 differents files whose associated Sentinel-2 images we want to download  "
   ]
  },
  {
   "cell_type": "code",
   "execution_count": 4,
   "metadata": {},
   "outputs": [],
   "source": [
    "ais_csv = {\n",
    "    # date: ais_csv_path\n",
    "    \"2022-08-12\": \"data/ais/crop_S2A_MSIL1C_20220812T103031_N0400_R108_T32UNF_20220812T155113.SAFE.csv\",\n",
    "    \"2022-08-25\": \"data/ais/crop_S2A_MSIL1C_20220825T103641_N0400_R008_T32VPH_20220825T173926.SAFE.csv\",\n",
    "}\n",
    "\n",
    "sensor = 'sentinel-2-l2a'"
   ]
  },
  {
   "cell_type": "markdown",
   "metadata": {},
   "source": [
    "## Data Download"
   ]
  },
  {
   "cell_type": "code",
   "execution_count": 5,
   "metadata": {},
   "outputs": [
    {
     "name": "stdout",
     "output_type": "stream",
     "text": [
      "Downloading images for crop_S2A_MSIL1C_20220812T103031_N0400_R108_T32UNF_20220812T155113.SAFE.csv :\n",
      "Downloading images for crop_S2A_MSIL1C_20220825T103641_N0400_R008_T32VPH_20220825T173926.SAFE.csv :\n"
     ]
    }
   ],
   "source": [
    "import pandas as pd\n",
    "from functools import partial\n",
    "\n",
    "for date, ais_csv_path in ais_csv.items():\n",
    "    print(f\"Downloading images for {Path(ais_csv_path).name} :\")\n",
    "    ais_df = pd.read_csv(ais_csv_path)\n",
    "    output_dir = Path(\"data/sentinel_2\") \n",
    "\n",
    "    # Download boat images found in the csv\n",
    "    download_function = partial(download_boat_tile, date=date, output_dir=output_dir)\n",
    "    ais_df[\"ImageId\"] = ais_df.apply(download_function, axis=1)\n",
    "\n",
    "    # Remove lines for which no image is found\n",
    "    ais_df = ais_df.dropna(axis=0, subset=[\"ImageId\"])\n",
    "\n",
    "    # Save csv with the upadated image paths\n",
    "    ais_df.to_csv(output_dir / Path(ais_csv_path).name, index=False)"
   ]
  },
  {
   "cell_type": "code",
   "execution_count": null,
   "metadata": {},
   "outputs": [],
   "source": []
  }
 ],
 "metadata": {
  "kernelspec": {
   "display_name": "eotdl",
   "language": "python",
   "name": "python3"
  },
  "language_info": {
   "codemirror_mode": {
    "name": "ipython",
    "version": 3
   },
   "file_extension": ".py",
   "mimetype": "text/x-python",
   "name": "python",
   "nbconvert_exporter": "python",
   "pygments_lexer": "ipython3",
   "version": "3.12.4"
  }
 },
 "nbformat": 4,
 "nbformat_minor": 2
}
