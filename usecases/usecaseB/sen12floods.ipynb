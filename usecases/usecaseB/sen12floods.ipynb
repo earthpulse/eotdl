{
 "cells": [
  {
   "attachments": {},
   "cell_type": "markdown",
   "metadata": {},
   "source": [
    "<img src=\"data:image/png;base64, iVBORw0KGgoAAAANSUhEUgAAAd8AAABeCAYAAABimx6RAAABKWlDQ1BJQ0MgUHJvZmlsZQAAeJxj\n",
    "YGAycHRxcmUSYGDIzSspCnJ3UoiIjFJgv8DAwcDNIMxgzGCdmFxc4BgQ4MMABHn5eakMGODbNQZG\n",
    "EH1ZF2QWpjxewJVcUFQCpP8AsVFKanEyAwOjAZCdXV5SABRnnANkiyRlg9kbQOyikCBnIPsIkM2X\n",
    "DmFfAbGTIOwnIHYR0BNA9heQ+nQwm4kDbA6ELQNil6RWgOxlcM4vqCzKTM8oUTAyMDBQcEzJT0pV\n",
    "CK4sLknNLVbwzEvOLyrIL0osSU0BqoW4DwwEIQpBIaZhaGlpoUmivwkCUDxAWJ8DweHLKHYGIYYA\n",
    "yaVFZVAmI5MxYT7CjDkSDAz+SxkYWP4gxEx6GRgW6DAw8E9FiKkZMjAI6DMw7JsDAMOvUG/9wUzu\n",
    "AAAA+mVYSWZNTQAqAAAACAAIAQYAAwAAAAEAAgAAARIAAwAAAAEAAQAAARoABQAAAAEAAABuARsA\n",
    "BQAAAAEAAAB2ASgAAwAAAAEAAgAAATEAAgAAAB0AAAB+ATIAAgAAABQAAACch2kABAAAAAEAAACw\n",
    "AAAAAAAAAEgAAAABAAAASAAAAAFBZG9iZSBQaG90b3Nob3AgQ0MgKFdpbmRvd3MpAAAyMDIxOjA5\n",
    "OjEwIDEzOjMwOjUxAAAEkAAABwAAAAQwMjIxkAQAAgAAABQAAADmoAIABAAAAAEAAAHfoAMABAAA\n",
    "AAEAAABeAAAAADIwMjE6MDk6MTAgMTM6MTE6MDAAWj+FnAAAuFpJREFUeJzs/Xm8ZddR3o1/q9ba\n",
    "59x7e9bY6pZas9TyJFuSbWxwGMLgmIBjkvCSAQIBkhDCEN5PIANJSMJgQt6E2AGSkAAJQxgCxJiQ\n",
    "N8zz4FkeNUsttbqlVrfU4733nL1W1ftHrX3Oube7ZQ1tzO+XXtC+6ttn2HvttVZVPfXUU+LuXBwX\n",
    "x8VhgOJeAQUMkQTmoDL8wDHcFRFDvIIk3B13QVU/yfdwcfxJGw6Ig0tBPFMd0rBMzHERxB0QMMNV\n",
    "KQKZirS1JRRcDLERJoKKgTtI+iTe2f8ZI56Mtf9WxMJeugrezgQzQ1XjHBBQBBzMDURRATAMR0nU\n",
    "6iQVLp4WF8ef2LHoGH7incS54RWJgw/AtQcMldJeV5H4B1yYGV4R/2O6zovj/5fGcHALCgKqRvVC\n",
    "j4MIIgVTKOqgigFZDBGJDzDHpYPaxXoTcBf84tH9xzdcZ/Nd1XEtUA2kB8LY9m4IgrrEGSCgqig1\n",
    "PsMUtTC8pCmOIxcPi4vj4hiGxcG2EP2ePtXzA9/7Dj958jTaFb7oiz+XV91xnYA2T1YAwwxEfGa0\n",
    "L46LY/NwDKHidDiV903O+EdWnT88eYiiYVhVElMvjEwwEZJNIWVeNtrKZ26/jJctrUj1gkhCXUA+\n",
    "2Xf1f8DweDa4Iw6mhd9bLf6rx49yuJxmmirbSuaU9nR0uDeHqzlQZo6q03VjvmzrXj5ly7LgkD+J\n",
    "t3RxXBwfd7g7InLeny9+DHCzI9LgZBmiisx/+k/v8B/96V9DvGAkfu+37+bXf+8H8LKOdiPcY3Ol\n",
    "JEDCvV40wBfHxtFQZUGJ+KjHq/LBE6f54fIkmjoMQ1xw6yEVIFM0MXZhIs5H6kmWV+ElS3tRUQTh\n",
    "ou394xm+MMmmEem+48RjvMunIIaSWBtNya5gE5ImDGswRUE1QeqgrvFLpw/z2pW9GOOL2MXF8Sdj\n",
    "BHy7EWY2s0+w4QXaFpjDxjL7nVnhvg8/hGhpkYkzGm/FvCDdEkZcR0qCGTPDG5HzxXFxhN11KsPK\n",
    "VhOEDk3Cr05OUSyBVEwFl9qSiGN8BOqFPsf7syUeWTuDWmoG15CLoOUfwzC8PT2xgJV/b7rqH55M\n",
    "cTcSSm+V7BHHqnS4O4ku3iMZF8F8gpM4zRTRMaL1ovG9OP7kjLMNqmEWudbNhvhCjjD6gxEO2NkM\n",
    "VDNPHD5K8YiMLVV2796JaMZrI1YAtTqqzAzvxcj34hiGNOKeDaSdZjA/ND3tj8mEThMTBC2Gi1IU\n",
    "RI1aK4qSDbILq2pckpaYf4heDHv/WIYGvA+gFQS6qqyOEn12JtlRh+SVjFC8x5NiUuIskYokwSUj\n",
    "VrlEx7g76umi8b04/mSMzQZVxFHV9vs5m3AwwJ+Y77Z2OCoiipnx+JNHEaskyWgV9lx9FUIQTQcS\n",
    "RkqpRcx20fBeHJtGcAdSc+AkBT+gOMGiNxihwWJGEFfcFJUMrkzEMK0su7NvtIWiwbCnQvl4X31x\n",
    "XIBhzKJfSaxjrJdCkUKuAgY1QRXBayWJYFbjnFqomDDvMVFuGm8hvKaLke/F8Sd6RLQ7GMfNPy/k\n",
    "GKJf99I+3zlx4hRnSsXVo+QIuP76K8JAm88Cj3k0fnE7XRwbR6yahqogQdITOLnek1xwCgVBJYxp\n",
    "J0AqpBZtdaIkEqUaVy1vJxNlbyTILZq+OD6RQ3HRVj5UWXLl3ukaakG2VAd1YWSOte2fRKi1kkTD\n",
    "OIuQ6ZAs7JYuqsouGt+L45M/rP2ZQ3LQg2vLo0bkYNSF19oFi369/c8swqZFriI8cN8hxzuE4E6I\n",
    "CDfeeFW8SeelRZ8IZ+Di+P+PIQv/EQSpiJbu79ep7iiKJQMVskb0ZAbT5FStuIFXR7vMFqbgCuIb\n",
    "jPrFipVP4PBWLubgYpgbh+t0lm+3Vm7Yp0ZXd0FcsMDHqALqiglIrSwvJ4obKvmi8b04PtljXkMn\n",
    "YuA9M1hGMiKtjKfBwVgsbLlAbBMBkDncvMhsPPDQYRxrB14BE264ZU8LjOvFQ+/ieA7DZmQrIQ5v\n",
    "gKNlGk6bCKMa1cDeVyRFlCXFNhzO2yYFMlQMRXAz2LT8Lq7HCz9cWnpJQOgwFZ7pe5KHaEZGSKpo\n",
    "iaqJQDAiZVYtnrWKQzWW3Xht3i4ZofpFnOzi+KQPQwb0zBXzDnBMoDpz5SgR8CmooDjeyoNe7Bg+\n",
    "YzF4jWjYefT+JwJe1oq40o0S1+67shnouaG+eOhdHOcfQcsL1nMczjXBI1aoHoItvTjJwUaJ6oYn\n",
    "pRPFRehTvPfSlHkl20XE6YmcIq1CYHMlwMVx4Yb4gF6Eg55deGK6Ti+BWpRaqRLPkOSYK8kdtXg2\n",
    "aVDASsKVVUEMwUguF+t8L45P7hgCWtwxKkkDan7i0HF+7Vff5Q/e/wSeCl/1FV/M1ddtk4gemmTb\n",
    "BS438gY/R15OePTAk4AhhAzgZTsuxdIa1BVSSshFyPnieI5DGoLiBNx4vF9jnEb0XlpRCkhf8aRo\n",
    "X7EkJHfMIrK61BOlg+zzDLJp5B0/saV4/4cP2fjf7+6f8aOpIqmjmNHlTPUaOV8XNFV6FzoXNEUt\n",
    "dq9OBnblUSBmkjCzi8b34vjkDvFm+DCSKOaKCHzdN3yf33PPI1ifSbrOPR87zE/99LdG9MBMt+DF\n",
    "f//CISVNg3VQXX38iadxemrtUJS9+7aSfAueDLxAq+nb/DkXx8UxjEHbGVFMKurG+8rED+VMYZ3k\n",
    "GfWInDwJI4S+00BcXOg0sU5lr+RgI7SIlyF/DBcN7yd4GI66NkSsY3U4gFSwWgFhmoXOC70rGajS\n",
    "lJyLYVkwF/bmJZCEmJCSXoSdL45P8hiIKJJCrNELBw8/wcMPPIKZQZpSJSDmiiJeZ1Jvn4jhHpxU\n",
    "Mzh85ClS6kCCEHPd1bvbdwtIELEW2dgXx8WxecggTUgA0OYd0gtWp3Q2Ck2N0Pmlc6FYRRHSQOip\n",
    "lZEJ1y5vi3yxa5Qa2aag7CL0/AkZUQMRM60CT0+nkBNaozZbRBCckYFXIauHsVZF3HCBsStqzu7c\n",
    "tZLEBkV/Eu/r4rg4WFTqEa+IZsSU9V6RlEPEHNhzzZUoFp4jdkEN3nBYzaMGY/VMz7HV07glUs6A\n",
    "c+31lzVmtM/ILhcPuovjWYeEAbbGUxBxnvQe7zLeDmpTITUHkxzpDHenCuScMIE94+V4TdNbquc4\n",
    "uS9Gvp+A4bHXS2OYH1o/TQqtjSBVCS3nC9JFjbZUb8ZVkBR6AZKE65eXAcFVGnfl4rg4PqljQakn\n",
    "lCtYPV092qwZiRGg3Hbb1fEaG+pxL5zRG5jTs0OrGg88eMClGwFNOpKeG2+8pkHTOpecO8dBd9Eg\n",
    "XxzD8FZGN9SJisNjk1VyibaAVYioyT2YzsVwg5QyIor3hZEqu6Qjwt0Am88n5XLR8F7gISGgnVvE\n",
    "etwmuAkuFm0ePchyyR2rDrXiqq1DlVPMyAZaCkspnvfQoGFmfOd6tJ/Ywu0XcjDN3zOvCX2xn/mJ\n",
    "Hs/9ms4935+ce5pfy/P//s338RzXkS8WYxRc4I/e9WFQx00JHUfhT73uzsjFam3KMRfykBnyzu2+\n",
    "k3Lg3sfx6cB2jEPvxlv2yDAtATade7yYa3uhz/25ve+PW5ThkycC8Vzn8fnO9vN9PuJzVry40qtx\n",
    "aG0NSQn3QnZl6oKQmZqRZ4IbjhSoXWJpUujzJPpIMzCnmQm/XPAx+4L21wVk6AV91osaL2YNXaD1\n",
    "54Sz7Y7LCFHHpUl8ekJSPGNxRUeRw8cKmUQRx3LmRka8enSJJHdkqP8dPn84MAZM+hNx+Ifu7bMf\n",
    "TOf63vl7lMXqqBDjX7z2iJYWP+eP24jNDudz5F7OLbivC9c6/+3snphLe/s5/v7Cru9cizLq1OI1\n",
    "jojPrmfz9Z17TjeDKBuf01wYwxaeU0tczYprM+7wkQ892vSSp1Q3MNi2I8vwmud3vxvFOc4e7XcO\n",
    "Tg0VIlMefOjxJnEp1N7osrJ37+4NiTbh3Ovsxay5F2q4F993/u/Xs9bgxtfaWQ0u5q9bfP055vGc\n",
    "C/IFIBQDon+etfZcP+/Z5nHxM+Rcv9/4A5g7iOfPqZ7HiZaQiInt5WRXDjGlmpGaZKoqFKlkg6Jg\n",
    "Kkg1UqeYF3aJ8sq8Q4x5bW/Up2+8xxd71s3mXWBTQjl+LbJxUp5L6uV5LuezP2uzkMjiPNs599/m\n",
    "916IEe1CBdxwm9sblYCYox+kUwughlqIaYyBKlNuX96GSaU2oY5s7epmAgMOInX2ZYvDB5WPhQXw\n",
    "/G8g8WzeyPPNVwTZxTb83X0ukL/484WO8x1GZ4+hh+P5/33x/jccALNr3WygAI9ygmE/CGz4+3O/\n",
    "kUbsaCy8s1Wi5gdlzKPM7mXYdLPrm8m7bJ4b41xTFe8fanXj52L3oPj4nqY/wKMHDkenoJpJOibn\n",
    "hOh0/nnP41CPOVc2O26L942DeWmEGENFefTRY2iC3nvyKHHlpZfGfLjj9EEU4+yuS7P7XZj3hR/x\n",
    "mnNc+rkds+fuuS86VRv37iKasbHpw8b9Fs7X7JBh8xq1hdfrwnvYsFZnh2H7E06cz17+8Z6ay0aS\n",
    "0qIT2j7wOUV8z7Y+zumo+Jw9jLS5WfgIJbR6sU33NNzYeQ56AZKFwL4TOcITfY+7Y6IRJXlEUp3I\n",
    "DKZEgkmbDK5OS5wWm0nxD05f3XQAPBvZaqPTfe51NZv3xTVr81pXbyxr9+b8LzyjAV6f/2T+IT5f\n",
    "94MTs9lXG87ZczVXGWRmz55n5bmf8+dyvp/r/or+3u4eZw/zILJatIIU4vpHwLQRNOO5ZrQ6d6zs\n",
    "RC2Rmk490qSF4nMKIgX3IbLYuJgCPrHZz+czNnotep5/GxbPwr/N3mPneM/we2VxUV3olMdzY7Mu\n",
    "NmGHcx+CQ9ShZy2yYWO4a3uPsjkP+WIjeRNHXYL0MfuuYUHTHK/5dwzdfYaNE9Jq7XC2di8qZx1k\n",
    "55qqeD8zprL4phIfDKFDFFwmHDlyNIyzFMxhZbljz57dGz7zQilctQuIxg2ASuSgHz90hFpaHWWF\n",
    "PVdd2g4cA7pYnHWjAdu8ThYPKxkOIJF5oL/BYKYFx2tYRx/fc58b/PleGBzQxc+I61x0/oZDc/F1\n",
    "897GZyFKbb1sPMQX1rIQB87gjABiw4EaB29TRnxWAzwYgOHxzu7P2hoyx/XjM3qfLRc//DSzmcF1\n",
    "obGJaY7mwnOiOVqmuBrYZoW1xTNoGAt/V0EkWgF+bLrqx7QnSUZcAtmRqAutHj2l1zSYz5IE08Qu\n",
    "UbaiQfkZjKPMGdGbCYPnRg8X18emuWn3XDc7PhD3KwNK1dY5siA+MbC1dT5H2Fz3XJhJs87OoLYf\n",
    "NgbX5ztnF53mjWf9uQKZs8d8reLDGTy87zlGxrNuZYJbKO8NN6cigY6JIFTWBZZI1OJ4UmoRLjHo\n",
    "ZghbxqggrdSo1h7IWM2ITNgMDc4Pz7kBfj5jI2xcZpt7aBM3mybbZDzdcQ/Ci9k8qpp735sODFNq\n",
    "7du1l4XvuoAH9ezSGtzQ7isihqGXa9MjNtvw+uGAnW+Q4eAdoo4ocZkbc4/osrZDwoaDrC2g59E3\n",
    "Vn1ovh1GNLy5uPa4JsNsjhqYlbhevBncWFzu7QA668AxFnvZzg+E2t7vmBjUICrM77/gw7WYI4w4\n",
    "fnx9fuArXLZzx7NBCmc9l41/6uzPeT1dr9jQUYYKBoePnEATVFFQ5/pr9iIYagruVAspwM3fu3jv\n",
    "IsMzC4JGhPi1GeJGmWTeO3jueKUN6+PZxsa9NV9H8/U5j1jNp7PvE5nvqcHJNdN2HbKAwrTvEJvt\n",
    "T3edXV+slfn3+bCnLRyN+G/BpIazMhzw57kfa2ulNickoswaDNFquApiz46QLT7/6mV2bcO1zvaf\n",
    "hkGAMOqqikmcdYuRrxEOp2nFS8CLQxerYY0tCrUs/h0G21aavyZMdUSRSlHIOdO3s2I9OQlBqzPJ\n",
    "8XzUhVuWd4TzIvNdKwvR/yL6Mpw5Ztb+DGfV3PAuOg4Rxcb/JXNKLM75eq5xzrq3SM4rJpXiPUZI\n",
    "rKrH8x2cE/EFFA1mjme8zmeGeEAzjGB9Y/PoOHw8b+uyzM7FuXO4eP4Pz3yY/+GZFMyG+txKpSBE\n",
    "SWM4WBvXy7mGtBUwIEYirV3gUIAk0egiuYNkMoWJKbqc0KaOd1te5jUrO8SkwdfE/lazQkod5lM0\n",
    "FczGlMLsQc02mbHBAL+wYUBuhqpFG+1QdK+o0vq32uz3SGmvj6W7eJhWm8SGp28H3ISUurZhM5Ef\n",
    "/MSRPuaRQWUe+ers76qLyknzKGARWh56xw4/49/nG8TVIYWmq6tQLNSWjPi5eNA825gdaqaoGMGX\n",
    "3OgcqM6dCtVGkXfC+WnQi4i1DTlf9MOG34hi+KwXr7vj2grVkyCznIkA0TrNW07s8ceOMq1TRLzJ\n",
    "S1b2XnXZWZ9/3s0isrBeNj/7czuNIdzhs4Nh2jvPPPMMQoryJnOuv+FyHME1POCUZPbxm53IRYOE\n",
    "xroQD/KYSIqDqrUamxvHeVvCOTfi+Ti5w8FUZ8Zx0clzr6iMMJ+2Q7mg2owp3tZr6z3bDruZ4Wuf\n",
    "OawPkdijZlDdZq0fVTSQA/MWBbfnpNG/lLQIbZ4byVEXTGldfXS2tsQckm6IfD8etBx/0izyijWu\n",
    "1Fo31t6aUcVnNbYyPMPBMHtEgGoaLQGLt/U9u2rma21AGNreoEV5nhHg6dNTSjKyZKxUDKMTQTSx\n",
    "5Imq7VprSBBWUXaNR9AMcaJFkyobYOfF+wNmzyT2gbSzdW6AZ/t2mKdWApORudMEkFpTk7anRBLi\n",
    "StYOaWiIeeQ4vRngkFBsz4hzR77B/g5HR23+3E0cqQ0p0mEP5JljOuyNcA4rG6PXiogxT53kueNP\n",
    "InkQoIY1ODy/j49uLjgTZg16bnveHZJAS0tYEsYi1MkUT0pGuHPrrpgjCPjHg1uS45AF1dx+tg+V\n",
    "SjzqyM+5BEsr/v+FJrI1DOUCUX7uUdAM8ELO1gcjeu58hsqIGRQmhsoY8ylCBzKlmpM0tILjz4tL\n",
    "wC/C5/OHNY94h3sxE8JHHfKmsUgWDevw93m0P0Qsw8IaYL44nJNm3J2szWuSwXF5bjkPRUAhzWCn\n",
    "Sq2G6vD+FA6YjNp1KaoRGanQTkzDTNDUoh+L3qLDddIOMm0HSDhXA1Tl8drhA4fDd8ib4mCKpkrp\n",
    "BUmJnB2vhVtuvTK8ywUP/3x9c+MZzeH0oSjj2aZHJIAytYhq7r/ngEu3TK3TiG5FuPHmPfHcZ0iB\n",
    "YtpKBnRjDnrxEBzmNuagrZOhVGm2lwaehbR18KyP8jz3HXjkfF5kvjcY1lJte8MQiSg/SGaJOSxZ\n",
    "UY09F89y+Dxr54PjnmYOtKMLRqiJDgzGUQydoT0wkHmGiGF+z/MRKlBg2hoMDPWv2poJtHNhERLf\n",
    "nPrYsC8WYHedEZwGE7vgOLmT2r1GpNRSDgPRCg0rUQVJLfLVQQ1tcKDOTqstIk6O8oCuURCyVTpN\n",
    "YDZbT1VDuEFVIClUkNKza5Q31BZJu8i0aZ0sRvYzp0Xm3A1t0q0bImW3WRpIDGxTasCR6Mrj4fyb\n",
    "Ras8s9I4Rmlh/Wu7fW2I2cYLVJoBbrOBEBrIOuz/dia0G4tUQ6zVxRTZ8GmL+EkY5/gz8EnciZpp\n",
    "FdQ9kIbheZjP1ukwT882hn/POePT5lxAsJ6LDYwAcnWmGDl11FpwhJvG20A0fFLm54EOHu/igRE5\n",
    "m1ZXNvvzAk6ETSNyiNq8rjn87A2CZpEcY8KQZ5pHMYNXM/yR+cZuXtFgPIQRScfzCOSCjTlsNVtw\n",
    "zCd0mEfVPItk4t8HSHExohnuT5gfvMPCmS+KjaSejY7Ic8tJz8e86buQ0vyaaXnXIYLStomGf/f4\n",
    "sohsWiQvurgp4hAK5KFFftTZs3Pq7Hs2zGMD49wEZMqH7z7sqOFeqLaKasfLX7FPZg7fx8n1Ls5n\n",
    "zFOBDe0IzzUi8h2+4qEHD+ImYYQ8jNONN+0RFuFgb7mvhWezeA3nv77NTsPmA+WFjfN/p84gyI25\n",
    "M8V8iE7mz2aAvP0sp2I4tGVhjUpzPuKPaJRc1KbsM+gOw7DGPt4+bEiLx0F8Lodmcb0/1329eQ8t\n",
    "vl/bM1x0lmbGXdj0+kgfzCHQOWQ539e+YW/GsRl5YoBj6+uMXJhiqDuWor7XNHK4noRenForhrNV\n",
    "Ml77SHV4mU3hIjFqcf6G21i87sX018azC3zYK05LKdqGXLd4oG5ovCY1Q6iaSS33ea7ncK71OKAA\n",
    "1pgngxEeoGlUZutmiIoXz6D55y6mRIx5VJxasDa3G7M5UKIX8gCrb5q/866lBmMPr02qm04RQ0Va\n",
    "z16nSiJJrBUDrpOO2/OyJAwhUk0NZCebCEpBvOO977nHHzl4kB/6wV/mySOnGS+PeOPnvJ43vekO\n",
    "7rjjOmGWaIZ5K5rnemAMm3/wxOY5CtEWDVhM5P0PPEL1Ff/d3/8w7/ujj/LwgcOcOrlO31cCJheW\n",
    "xyMuv+wSXnn79bzpCz6N5S0uN910Q+N9tOhOSovsUnjtEtcdDzw1zdWPf+XDyyJCmkcriwYXqYhF\n",
    "BHH/fY9z4JHj/qu//tvc98BhjhxZZTopOD1JhS1LK1x+xXZefvuNfP6feQNbVkbcfPPuFhzUZuQC\n",
    "Fg6S0zrCUlz3LHqO+3o+wwFxwT1RE2hj7QbTKeEeUXighjb7vocfOeEPP3KQX/5f7+Leex7i+DNr\n",
    "TCcBTaZs7Ni5hWv3XcXn/9nP5mWvulz2XX0Zql17tg2qpmMIo72G4kvAsRVvUo1Ox90f+AiiY2qZ\n",
    "Mspj6nTCK27fj3mPSBeR8yyKGrbxfFQmDUYOQksQqfoGT6VNUeVi7noOyR14+CmQiusUaiKPlCv3\n",
    "XNaudYDsmZOAWlnWvR876O9594d48N7HOP7MGnWikCtbtozZd+3VvOxVN/PaT7lVRl07zFvNskkm\n",
    "VUBrbN7NC+/jjGjMnXApDVVq11hj0Q9OVkQWglFAMsmjtGtIYSRfwzRz/2TdT3WZ+44f557+DMdL\n",
    "4ZlamDQXaIvDbu24enkLd27dyXIyXpa3irOOyPLsmh3FJdIVSqQRhibxPtilDffYIFMB9xJHs3ex\n",
    "JttrXeZPPCLW+VzNaye1gR8tEmv5Z6N1WfV5Dg8Lh9ZTxathSelIsyglvgjw2qLujKXoq5s8N+dR\n",
    "G0K1kK6ZGexAfVwEqXCgTHFxsihFIhUj0uDkGoalE2uIkrKrGK8a7RCEMNaAegMOZvM2rIBYwyKB\n",
    "IvXS6obxttcSf1RO++qk8sDkNA+vn+AoidOlQDLEOrLCDhJXirB36xauHW9jO84rlrZJkoDlvU10\n",
    "oKHx/UM98yICGOdiRNRIDcrY0MfWYSrQtQNnuBUVpeCk9mzFnT/yky7TxH3TMxxeO8OR2nPUY6cX\n",
    "N5JltqYRO4Grxx13LO+gG8GnjHYIUggw3WZGUzxKujLMEJDzDtn4moSgs8ULhjboPGMyCQTQEprD\n",
    "Ttwlyw0pXHxg2tZhI8i897338s53vtd/6qd/FZFErT0pjcALn/UZd/Dvvv/rZebhOS2q+fiHf0TR\n",
    "Cx5g+/INnrYVRJR7P3rIf+4dv807f/EPOX5iFfeANpJEnkZSRlLCSpm3atJM7Qs7t2/n87/gNXzJ\n",
    "X/rT3HDT5aKkBe9rng8LEtHzjOPbQR8LnBk8Wwto7nE3Hrj/mB84eJjve/sv8NB9B6hUquUG21Xc\n",
    "MqKLUJBSpj0pKVtWEl/8f30OX/gFnyK37L8GfIq1COT9776Xb/im7/PVtcKrXn4D//Af/GW56dar\n",
    "GcCbRc/wXFHY4pzHfIWB+Zmf+y3/19/1k/R1hd17t/J9/+7vyLXX7kbocenACvfc/6R/13f9GB94\n",
    "/0epdRSHtkX+KODKrkE7cRiIRbT0uW+8g6/52j8nN9ywG299b2drRQqQ+Df/z8/7f/vxX8Z0hHtB\n",
    "tWDuTNcza36SnFaw2jPWEV1WnERSx6UwIzFZh2isX3VmTokJJIPP/uxX8x3/8itkjlYsQrobncfB\n",
    "LAF8yzf8R/+FX3s3QqQw9l12Jb/0G985w++kBTIqcO9HHuPHf+yX/Nd/425OnJlQ6kZURlvao1iP\n",
    "OGxbXuINn/Yyvv4bv1iuvT5y2WYRNcoGh6LwnGqafcGQteu6d/2k/7+nn+Zdq2eYWqUq5JLIXeUz\n",
    "t2/n05b28NJxkhZmtrx04u5+4r9/7An+9/Q0TzfCT9SiGtMEoyogLbclRrIwHJdU5fPG2/m0XVfw\n",
    "8lEng/ZhSZVsjSCTYr3IELVIalFWM6Wz6xjIndF6zQWkz/zS6nH/rycOUtwQM7xdl5Bjzjxqsjsq\n",
    "X77lRj770u1hg1xIbrg6VTRgR4hD1SuVCjLiD0+d8B89dogT2rOOoFYQRrFeXaktHz4u8Jd2XsYX\n",
    "7LpUwoMVaIREVGbp7s0jxPmFLznwYT+QjeQRtRnzqFtNmKrTiVNMUHNepWPevudW8XbP2q59dqYt\n",
    "rFuzIb0kuBXQilvHe/oTvjZN/OKZJ/nwZI0zWSgqdFOlaEG6cCTxStVoIlLdGFk4cju852WjZT59\n",
    "y24uyR13jVdEaBFkg4zVNFwAyTOYPejtC0u13XNtyJlGLEjFGKEN8w4n5z1rx/2odvzBU0/yEVvl\n",
    "KSpVRySF3qMjkKngVFJp/ZCzMyqJKpmVusanjrfwGZdexhvSJTLsEW8zJrN5fH7jPz510P/r9OnW\n",
    "BAY8kgjtWUypkoCo/8WV79x2LW/YslVE9SxnU7w6rj2/9psf8K/72z8QjYAJbLvUVbKMERvzQz/6\n",
    "tfKaO2+deaLz6Hcx8t3494FgNBjbIde5GPWihXvvfcq//wd+jl//1bsZckuLZSyBXDaikQ1QZkB4\n",
    "1Zw8qtTiCEaXRnzTN30Jn/K66+XWW26Ye2FDvo6BBn+uiH1zJDS/z7gEa3kWbZ8mPPDAIe5/4JD/\n",
    "8+/4EZ55epWUEn1ti4M+DEJOmE9IttwYtVNEHfNwECqVTGU8HvPNf/dLues1++Tmm67HxfnCN/1j\n",
    "f+jgQXpTRj7h59/xVrn5pj0gKbIMQ051AzS9sX4zHKA0y3VUcT7rM77FnzpyDMkjCmv8yi99t+y7\n",
    "5jIc5ZEHHue7/9XP+O/81nuRvEI1x7yGBy3WXBCaQVSqR9QguUetw73n6772LXzN176lXYTGIrWM\n",
    "Kxx6/IT/mT/zDZSa2zQbVgWlpSUa3OemuE6onhhl6K2iNRRlihlJ+zDADYrq0oi1fkqXBDyxPFbe\n",
    "+94fkDlM2pyvZ6t3dfiLf+4f+cceeoJaHdT5tLv284M/8vdiFVTDtPLh9x/07/2e/8a77z4A0qNp\n",
    "TKmrqIyAAZ6u7b8LIxWm5miqSOkYdyO+5m9/Hn/9b75FYke0Uga05dyeW827D/uDRlZx4ydOPuH/\n",
    "/swRpqZ0lvAce9pFoXfeduU+7hhvldorqTPunkz9p44+zu/YOkVBvaCekRz5LE8SZTHakywjmijT\n",
    "qGmc5NqgwsyST/k7267ihi1jbvdt4mkBfnSlEp2rohJhMBwL+9AGOLBFmQ0pe7hO/a8d+UggJC1Y\n",
    "EHOQHBFyI1W5KSMU9Sm/cvXtUmRKR2vjRiQzA2ErDFwFo+ehYv7Vhz9EzUuxjrU2CcEhTWCoQ/Uc\n",
    "sKtN+JE9L2UfiGtCDTw54lFONMvxNmp3rUJOwrvKCf+Hhx6jzzD1HiHTSUSoahWv0qB1qG0f//lu\n",
    "G9946V4J7kobAzeEmUWZOWHgVDGyKbjw62XNf/7oo7xXe7JBz4Rly6y70mWlSGn0lDGJniowtsJJ\n",
    "dXbYKOBx6ZioMCqVq8T47JVdvHzrFl472iVYiZzqwGfw1GzuYHyHwKc5G1XR1Fj4ZMSixd6AJP5B\n",
    "v+aHz6zx02cOcriAp0yvNRy9gWujUF2RYrhWkiSMQiZTlIZQZfIk9tsbRzv53B1X8NLxsiSpGDrj\n",
    "dyy2ZHz2ETycHzz6qP/o9GTkeBuqUZOitaVHq2EjRXpjZ4V/sed6XtWtiLd1NCAEAmTXHvPEj//I\n",
    "byDiZHdEMrWPWqSgZxu1dg6diBSczCyYXbi4zRBekCViYYjWhsc3A4HxwIOP8tu/96B/77/+MaoF\n",
    "41UTLb8Q+QdzwTWh6mA9uUvU5pG5TyIKqwmVMcUNrPAvv/sn+YzPuN2//u9+CbfcdLmoKCK1HVS6\n",
    "AFs++/UPBBRIs6guRhxOH33gYf7FP/kRv/tDh2KjJehrJWlPXzMjHUWJRYGOZZwSMAwCLqgbSKVj\n",
    "TF8Clv32t/4Yd7ziBv8H/+wvo4g8dOgxzDOdJ9Cl5qmnjR7UeQ3vEA22xU/BNfPYw09w7JkjoBmr\n",
    "U1JKWC888shRPvahR/0ffet/ZH3qkJepFkY3SXi2yVuXH4mSD6vrKCMsgTCiakeHsbJt1yw6j1KN\n",
    "uSN8pn9G+r53NOO+3qDSFuWlirZNp6qojZBUseKMLdPnKeJOpgNvLGWiKfmkn7LUCX2fGOWe5fHW\n",
    "cPji4piTrxYRm4F8FJvWRHn62BlqrSTJFC/ccM1V7bvgwYee8n/yT/4Dd3/oYZwoPxFXSpmiOgok\n",
    "pvaBjmhG1cBHTKySVDDL2FJo9v7bf/NLPHHohP+jf/5lAhOcFcR6omPSxrz++Z7vECEH+UUoovzO\n",
    "8VMgW+l0GkgR67gqMi2QEveecl6Rp9yr1T949CT/cf0JjI6qNlAs4zvMsJyYemXsTq4dfXKk9shY\n",
    "6CskMlIdtGdK5m0nnuJN013ITvzlsl1A6d3oBJK1g8/TLIeIzJeyKagbLhJwsAiqhQfXnmZUl1jz\n",
    "Ejk3F5KCWaXIiGSF5B0uU0rKmGSgkkhtG6dY+95K59paMyrqyqOnV+nzFqoHokbpsNwChlpJmjD3\n",
    "2Mv0qCzhveBLlWQZSxb3NAjY+EBEjGgvawQancFqihvuLLWDsUneZGGkmbVaWK6K5Igo9+kITxms\n",
    "YqQWVQ+pHBnkHyLaxdHq5JT4g+kZf3h1lf+w9ihGcF+qO6pjpmp0CdassNRKcSpTqjvJlHVNLDHm\n",
    "DD0jMtWN5I6nnseK8pOrJ/j1M8f5skvE37i8U8Qr1aLun4FzxXA+xd8CKREkwcSFrnEFjIQ6/KGd\n",
    "dFl1fuD4kzzYRQoydQmznpF09FJwETLBqBZKNF4RMHOqJtBwJFzHpFqZLlW8wM/5Sd5/+BTfuOdK\n",
    "f213uYjUWBNVopoEntUAD4S4yC9nEMeHFI4GbN4SvZCU1BumcKMsc3veJrMCMXeCCR5zksU7VODw\n",
    "4SfBFNWCyBS0a4flCHxCkozTIy3yPTs9PeTMBoM15EVjubtnBjag4dx772H/f9763/m9P7wXzeG2\n",
    "xQaZoGzB2kJWaNDsCuMcJVHrpWf1zBSry2g2qvW4VVIS3EaIFn7rdz7EmcmUf/DNf5H9+6+jenQO\n",
    "CbZdXNNwwM3JEgMNv7QDusFjWOQ4aqUmJRn8zu98yL/h7/4Aq+tnSJ6QNEUshRfmmU5g6hOW6Rhv\n",
    "GTNeHgGOV+H06hmmfaWqkOkw7xnlRGGKWuZdH7iPr/yyf8WXf9Xnu9cRbuu4wpZuhZtv3gcYDHDd\n",
    "gA6c54AeHB1BMc8tAqpgCWeCMqYUwbXnx3/0t/wnfvLXSSZYF6zTMLpxKHaaGC9nVpZHiCln1npW\n",
    "1wSTqBMvXhl5JY2UT3/DbSKsY4zDBKu0Jw9PHTztSZcjn0202dJUwTLGOprGDebrMbcW0Sm1U9S6\n",
    "QDVdZ3lOPGMidLlSTUla6fuO2156TcyBEqVMUmcGeGBFzxxEKi6OT4UnnzmNJrBaSJrZd+MlUOGn\n",
    "f+J/+1u/5xdZ05O4JqTvQKe4J1SM5bzM9dfu5Oo9V7JlPKJLzpNHT3Hvgcc5cuQ4VaLcIK0LNRuM\n",
    "O378Z3+XW6/b7X/hyz8rfDLtZvDUgBoNz3Hzc46XDY5w1E9nzzxFj8sEUydZZeTLFCvUzuis48HJ\n",
    "U9zX7/WfOXaEX9YzIDk6SlnCU8vT1lVERngtbAH6FPnNXBRP0PexHqJkSSkS8G7vyjsmx1g7skba\n",
    "PvKXbM0S0WdzKiTyzd6W7gDH0pwHk0bUUgn1JzL391Mm2pMlUbySxXDLWAej2jdEq8zyrdst6IOD\n",
    "spSYYpIjNeKA9BF1kehlygPTp6FMo5IAx3I4GEkTppHDE4XkQdoRKchoSmIprtOUKiUckdYsfSg7\n",
    "jOr4iJyfLs6oISdVBCOR2kmq08oEo+tG1KG+D+eyrVtJCEXDkZ2gjKqFnjB9IBQIU6uMNOHJed+Z\n",
    "M/77Z57if/SncV+iqrFiiV4LbhMSI6wmxm3dT/OIrjieMsWmqCrJ1jF1qgSKpGZ4GqGpMkU4IJW3\n",
    "PvMY23D/1JWdkpLMIXAb9jsMQUxC6XVKV0aMk+CqTCmMNPOu9TP+R6dO8t+nZyBBqhWTjtTy+NUK\n",
    "yRJZLFICGJ4SqRaSAZJRN2o/CsJZP6VPSioaetoVHh8Z33zkGb710rF/zvJ2wSv9UFr1nMY8GGuF\n",
    "Hcy1FwLxMxzXoShTef3WbVERQct7qzAzvQ4ZenBleTwiahCHjS7gGehZ6bahMhG8w6Wf5W42Qsxz\n",
    "gzuPHMFsqNECd8UwHnjwsH/T1/9bHjnwFJIDchTtI/8jW6hmXH3Vlfy5t3wqf/qz78LLqtz2kpsi\n",
    "wpGAOO6/71EmE/Hv/48/wx/8zv1M+mnUsckEI6P0vOuPPsQv/c8b/OZbr5YwIsNGnxUaIDLcQ9zP\n",
    "4N0M92MDBCcRlas7P/Pzv+/f9k9/JLxZ6ajqwJggnBd2LC/zmZ9xF3/1r34u4yWTW27Z14xgj3vH\n",
    "vfc97shUfuHn/tB/7hf+kFPH14JkoMv0aZVUx5w8fYq3/6ufxulJ3RK1r6xcskTy1pR70/yf62Ce\n",
    "/b4RUNR7EGH1VPFqguoIlwmdbuFtb/tZ/1//631oqkxSpnOwqnSaeNUd1/M3v/bNXHHlJXL9tVeF\n",
    "MUTApxx47Cnu/egT/oP/+Wd44CPHqAhf+zVfzDXXX8XAjarNqQhSR+La66+QN7/5U/zQoacRh6xQ\n",
    "bYxk4w/edXcYw2poSlxz1RVcfe1liHQkM6Ya0DO0fGFjZ4Z4SBypxeDaa3fxVV/956OUv3mci4jG\n",
    "UP84j3yDoPTgQ4fcmQRBhqiLve6Ga/lX3/0T/sM/+f9SvaI2RmyCC+zstvGnP/dO3vQFn8ZrX3+j\n",
    "aOoircCopU+MhHLPxw77f3j7f+fXfvvdTDuNnF9fEYV//fZf4PO+6A1s3ZlQT+Egzoh1w/46T+Q7\n",
    "ix7DGfvw9IQf7lprxmnFNTGVCSKZkSnYGh+SzGPHHuGDOkGsQ8wYS6aXHhMh144qy40YJPQWz8MA\n",
    "tFBcGYtSvA8D3SJP0SlkIVXjV/UMl0yfpk52+svHInhGZC32iTXnUSzca2GW81UWORnOxHqeXFsN\n",
    "8+oAKZSoBLQo1tCVKrHnBdht2tJDzaluhsAHON+72Kle6RjxWJ2SJDGh0tmIkA/NVHNcO5AQx8iS\n",
    "mUrPrmnhWl2RYpUkjqmRLCLf6inSJwOXwCJ4cK08evoUPZXEqKELNahxLqCZJVcmZgFF44hXLpXc\n",
    "lq6hVRgDpq1UraXyCkLXuDO/W1f9ntXj/ML0FFod73rUx6yjJE+oZiZeUSqaFCnKqFS6lJhO19Gk\n",
    "eJ+pKcxEMoisrNIVZ5IyKjZDp96z9jSvXdlBRxDKgg0WspnWYP6hzKorIzwXqIopjHD+oD/jP/P0\n",
    "Q/wemSzhcCg9RqZaRPoqimhh6tDh9F1mqY+iVVQoTBh5jjJFczR3JGtIpxrZPc4G7/m3zxxgp9zo\n",
    "rx4vS/cclNKGc3VYkTbItC0MpcMcRgJrNZjgnfdc1Y0iceI6OwtnMHfgLxHJ/oUvfgPf8Z0/CQhm\n",
    "CUUC6i2Fr/2mP8+dd94GDCVInOPgH6DgjdBt1JZJHEiSeeC+p/2rvvxf8dQzTyOpiw2UC7Umsna8\n",
    "9NYr+cf/5CvoRsj+265txm8EHjTvtie5+aZ9uLh839u/iY989FH/kR/6Jf7nL/0hSEJVsBK1iD/0\n",
    "X97BG9/4Gn/JbVeLargMsiHaZeF+5jWwcUBLMBo1FoOa8FP/7Tf9277jv1KTMJLMFCd5+LeXb93K\n",
    "3/v7X8KtL7uWm268UrIKAacWqitJCgjcdstecS/c9vevl7d80Rv4yEcf8u/6zp/kxKl1UlrCkrVL\n",
    "KIhvwWtBUuWq3Zc1IxpsTNE5hAHng07aszDHpIPa8773Poiqh7RdXaLqKr/yvz+MyjKVng7FS+X2\n",
    "V1zPd33X17Dv+kskSjJavs3Du5WUuWHfVVy3b4983hvv4P4HDrJ2+gzbdq3EopMo8xlIIJBBC3v3\n",
    "XM6/+M6vlMilxaGFV377dx/03/uDd4NviTo5K/ztv/Nm3vzm14traUjI4nNbIPC1dRG336Buj5BX\n",
    "ZBA/GZjKi0S1ZuDcIVUevPdxTEZQKpLC8fqZ//ab/NpvvQ/TLta/F9BlvuqvfgZ//W/9Wdm1YwtY\n",
    "g80tDBISUfMw9/v3XyX/+vu/jl9853v9W//+f2DiDiNDbMqpfpUfeNvP+bf8478sRZw8g6nyhtTC\n",
    "4s/NzziiO6WgjDxT+0TNSudNrMR6PGWqKgfFOcA647KMUSnZ6GtwLDpLTKU5uVYiYlRvHr7S0xHu\n",
    "BWQZt7noqFoZTYUJRtWAXH9i7QQvG22PPqcuWFpCvSDazfbaYCMHYjK0fK5GJDVmxENMcFHUAg2o\n",
    "oig1mPtSEROyVqpB1cTeUcIImDiHmRsyJa3iJ1IF2tq+HVzvsa7QiVDTBLUQQgkuVYrUUCOziU/Z\n",
    "rct4gZxSY7oqg+qVLpQUhrgMzUgKB2uBnIO3ooAnkrcyOyXqQ1Uj1ePCiid6n4CukFxBw9F0AiWI\n",
    "dI02Yx9s5bUzxg9PTwR7OyeW6gq99ZBBavAeRpqCkV2NXoKoVkrBx4lUHNSoLmRPVCkYQm7lZ7S8\n",
    "ruBMpHBp2kpHC75SJC0iMPQZEZOGNdYsiGVSMqorH+gn/rbHH+ZgWmIsa9SkUCo1RdSLlxbhO8Wj\n",
    "frw45EllOsoUnK44qZ0VbsKIRKnWOH+BqLorOYGbc8yN/3z8EXTndf7K8Yqcixz3bEOG5HozwNZg\n",
    "KpEckXyFinM1iaUc2gFFK7nVkM/qMwQ08hjGrbfezBvf+PqWP60IU5bziG/5R1/Gy152DUjf3jpE\n",
    "uecauvBzqIOrAdOQuPdjh/0bvvY7OXb8GJrjwfY58mBbl4Tv+Zdfxnd811fJS19+vdy6/7owvDJq\n",
    "i64yK54mFoh4bNSX7N8jX/VVb5R/8e1fSmehHCPJqJYwH/HjP/6/F4rOFwUyNtd96sLv2vVLH//i\n",
    "wjvf8W7/59/5wyCZ7DlgYpkgvs5f/KI/zX/+0W+SN7/lU+XWGyPSnjcwyC0lsITXLrxvdWp1brll\n",
    "D1/4hX9K/stPfLP8tS/703iZkKpHjhyorGFMoY649oYrF/KAc53ojbWG53km6uFFpo67P/gg5iPA\n",
    "SDk8s+pnQNeQWjBZ41v/8Zfx7W/9Srn2+sskyaBC1uIRj9pEvDGoCaLPrTft5RUv38+N1+4DJ5AI\n",
    "G4GPZhC/eRNi8MAJQs4xiDW/+7vvRaULZ8eC1fzKu14akQgtX8/cARv8z6FWMH5fcUocEK0cy4fv\n",
    "2bA+afM4RL9xmD3y8CGgoFmwGqb+f/3+e7HkcQBaRavw7d/6lXzTN/8l2bVjJ1a7mYYtLVIyC6fL\n",
    "mbZoAHDnCz7/DvmWb/mLZJ8AU6L0veOd//M9WNXWN1QxEjyXg6Gx8NFgAT9ZC5gh9OCF3iqewjhY\n",
    "CVk8LcbIO0oqVK2kEvNRLWGNSZ4GUtqs0YpQxclewZ2MY97jBGEwmVBSFG+MTRj6Mf+7Yw9wdznj\n",
    "pqXByjme3aAtLsMTiepHB2yI8NtvTvRzwiZeYo0iLb+aZnKQKgEN79FxqDCRqM1gIDXWgcWaGHgl\n",
    "anCywYFmkOq4NTwYHqjhA6+xObB7uyVK6mfEmfj+gSAqGxylMODx9yfKesi0egZzktts7ZkoKvNI\n",
    "TN3Z6R2vGu8KL2SQ67R2qjhMJcqkopTIeVc95T948lEUR0uUQvXWR1rAK659GFabkluNs6rijVRn\n",
    "pdIL9BLKdKY9nWXUhfXkFDEsgXqlF+Py9RzSl8KMdyEEqqNDl5SB89MYykkAE95fT/n3HX6Yg11B\n",
    "0gS8IwmodHSilFSp4pGnNsiqwfUwx7uElspSjbW5XKCkKKoqbogGzK8+cDycqcFEKill7imFw/0a\n",
    "Sdc3nQPPbTg2C34Hx8cHxbicYGTcrmNek3aJyby+2IdApD3jjCeQnjvvukFedefN/JW/8pl+8PGn\n",
    "ufyK7eScuOuO/RKLvhkvgM0lRm1h0KIOaYQKI5RFwPnYfY/xtu99B48degZhRCmGdkqqlX3XXM73\n",
    "vu0buPXWvQKFahE1aYPuguhUN8FuwbwN6DGxf/917N9/tdz70cP+Ez/1qy3355g5v/5bH+A7Wke6\n",
    "jepcm5jN7SFETXCT6pMgiLz3A/f7P/in30dPFwdPraiOyF749u/+W+zfv1tuuvE6Bs3e+BxtfnfL\n",
    "MUsQDtwtiCdNGT2pcdtN13HL398nb3jdy/ybvu77OFmDTKZkkMgpvfyl1zfiWI5kSFqEzc+3UGie\n",
    "9/CLygMPPwYtR1b6yqhTiq1ANZbHS/z7H/w6XvPqmyQUmWj5+vni1Ka2ZWakFAZRhgMwzSPwGdFL\n",
    "gKZsJuSWJ8ztsw3RaOjx4EcPxb3FaUPuoNOpiO5kUC6SodZc5s9yFjEJQKKFG8RBCDS0xjmXk7JQ\n",
    "smHKYwcfD1KPFVIa4aKkOgXv2LErcccrb+cbvvHPiVvPTFVKh/xs+xYPsXX3BM3YIIUq4YT95S/9\n",
    "HPm5n/5N/8hDjweZxhPPnDnDBz5wn7/qVbeKpHlJycdnYg4FGwnRyuOTNfokjAzwhGkJYAGNfesV\n",
    "Ty06s0rOiUof15oUq1GPbt4QrqavLRI5WAcGfT6XHCIb3symgWal90IiCFOP52Xec/I0r7h0Gzhh\n",
    "YDbVyM/KssSAHEa+CJ6dh/upnxy3HGpDLjyFP6MSbpfVWIfBc3JuWVppUfFw2CtF47Vdq40bHMlH\n",
    "beqHs83gQEuVXH3QxAhEXAeDHZH0npEykq45gIv590DVXCQiRIJQJAJSnGM1nNaqhewFo4vnlgyt\n",
    "Ti9KZ4Ynx0nscRCCqR3TFapqEHOV2kHuJKok7jn9DE9IIrGO6XIw1TWis2WHnkxCSOqhJ43j1VhK\n",
    "UTUyIlJoWnuKGomOkiqK0lkh5WWoU6rAyJXP276NVy9tEXchyaidfelsGxEwHT2Frmb+kOP+o08+\n",
    "xb1pDZGOWis5OdUFV4uI1gIin2qT37US8K0qZsKyZFal4klYnThLNXZBOPYpdAFUZk56whEbUXyK\n",
    "auIdpw/zpq3721N77qpy3s6dKt7YI8MZJEyAkRvSC6/YsauRUH2G8Ii0PdXCbVWZQJOcSwp33HGL\n",
    "fMEX3iWvfc1L5dV37Y+getAs5uyIN7rbeMs7TYcTMA6g8AsxhN/97Xv9t3/nI7g7VQo5KWo9r3jF\n",
    "Pv7N27+RW27ZI4NiVMjCdu2wHUTxG1W7RSrzm3aidrSAJf7CX/hschphYkgkiTh+4hT333toFrEv\n",
    "Ki35Jvh8KPmwttEV4d4HH+Pv/O23US0TtLNCSpmklbd9/9/jz37Ba+Wmm/Y0/dThgbSSgU2KMTNt\n",
    "0oAQGO7ZmsDIGz7j5fJPv+Or6FIGH4eTJJUk8LKX3wyNIiD67EZ3GPHQZX7PIjx17GnMa0hISqav\n",
    "BVhjvLzEj//EN8ur7rpJsHCezpcSmSuizbvgzO/PgRJSn0IT9A+oMRQCh2foTZEng0859MQxRGvr\n",
    "7pLouo49e66YfXZIoG5GK86+ro3/PWjADojB5jzPgoqTwGOPPRPf4a1esZ8g3vGSW/fxi7/wr+Xt\n",
    "b/8aueHGq7np5utaJG5t/S1Iacpcxzt+U4EcCEFbd1/yVz+XrB3m67ivgQp/8LsfOcuvfTY1p0F5\n",
    "Z8iTVhGeXF8lG0xk+PfQjBaXaAJOippMCeizr0aSLiQELbrtZFsiN1lHEyiDWL+EyMAQ1CQpOKXl\n",
    "qIWqTTPZE1IVMejM+IXVI3ywP+XglCZn2VKWDUtjBqFWg0TBUyS5TnmP931EU7QI0XyWR3OXmEdz\n",
    "PI9BnKtWdjBL8rb9nR06b3NibY8jTWpfYFDPskU4cYB4iei5cQWu67a2f/MNz2bG7B/OJ29nWYX3\n",
    "+Gk/JpWqheQ0RnY4I9UBEUYSgYYUIxXjijReWMMt8AjfgXndfEgdfvTMSf9fq0eYqOM6/7eUBC01\n",
    "SnPavrNaSTUg8VGD3k1DWUurgHehSyDxrM1CureUKUlHJIEd1Xj9yiVoCNbGPIg2HeU2d9Z0oVtu\n",
    "NXnmvf60//7Tx/mgTxDpggWtDePwoKCl9pymWpHSOBpNw7lidGSmXlEzxgU0C4UyC8riLG2v13AG\n",
    "Iv/ck6Ujec/HvPCe6cQBVNt1Ds7lec68c424uviucVEm6oytcnnuGmGwPYpzWHeFMYPm62CcxDPa\n",
    "aPXRUDyDBAS8uWuNyDD5UfAugGtpMDUgiY9+9HF/29t/EuRMFGU3ge9X3HYz3/ZP/yb7b9ktYVgL\n",
    "Qx1wHBxxqMWi75nn6bRBkQqmmKeImFS4df+lctP1eyIz1fUMjNG+N99YYtJYpAu/iaR4wE2qFaTn\n",
    "/vuO+Nvf/vN+8vQJcKGqNWiw8u3f8Tf49D/1EhFibswgpUHKLuD2Ra3qYe42GBBpnUFE435dufnW\n",
    "vVy15/KAgQWGDkMrWwY1Vws1sE353sWfm8fQ17ZW5/SpCUkSUAKOxkl5Cz/0w9/MLS/ZzWgQKBlq\n",
    "19rnDpc9OArxb5GOGNISc3nC3ObEmqD/GhDlQ27D4dDPr1kzx44doy/GuIuIe9fOHQ1FmEeW+qxO\n",
    "R6MhbkonzJ/HeQhpElCqm/H4k8fAu1laADFedsP1/NiP/RPZsXMJR9HWLWiIRvC84HQM0dx8vgYH\n",
    "TxGi27bxOW96jWga9KoreM9DDz052/ibn+PG8rGNEfzw2uTKgRoknixB8qmDtKYIpTFRXZWRWUS+\n",
    "5hRPGFM8x88ihQlTRGHUdnVtFncKc1nBlicWU8ydThLSF5Jk1rpABNydp7Pz0TMBv2ur5S0NKEvD\n",
    "IUnBPIhS0cWrUj3x+NpaEIwkjHFqLfhcbNYCr5eCCBSfkKuwTdKs5W+poenL4FBrlC6aBRHukbVT\n",
    "ER5Ug02GtyGkWMszJ5zehRuXtobhX0AmjBpzK9bKlGPhGhUy5NKxnpzcDNGgNhAKW95U+azVjo7w\n",
    "LnHDeGlmZGVhXc+bs2h0RxLnZBIeVmdJwWuieMFTZlrX6ROBXljksU0TvTi5OisGe6pycxWuM8N0\n",
    "FbS0fcpMF9m8p3SZWiYI8IXbruTOpRUZ1nX1SD+hAbUPuU2p83MPg8cnhZ+fnsYtYSqICSV3CIUk\n",
    "glj01Xaiu5MmaXYARDucys5p4Vo6rvPMlmpYbuhVm3dLQbDCDfUCSmvoAHimdyX5iCPT6XxOBx3p\n",
    "9lzPNeYiU02Bq43aShSrVLaWzC2SeeXSDin6LJ3UWJDQmXficdy0iU4P+sQ1vJSm7LT5AJsxFM0j\n",
    "fRciXEDhvvue4Nu+7T9jNfJY4h0k49Kdy3zbP/vr3LL/cim9kjsIwfaemWyihDpQLLRu4YALdSNn\n",
    "gqhGjZ9NQDscuHL3Lj5672NgXbi8KCkX2TCB55jUmNeEaCEitZ5Djx/lN37lg6HwQw9lBKnw1V/9\n",
    "Bbz5C17XGCNd2xQV84owapumzCLEReO4aEDcWwmST1AdA8bNt+6WM6fDKxPtEQuVpxtvvpoZW/cc\n",
    "EdL5a33noiYHDz7NdFLCY261iGKJ73nr1/CK268TjTMkyC05yngGB2CIdIeSjsUI3z0K5efoRNsw\n",
    "g6gFy20+GoGHOSTtAocPHWV1WulylAZkYM+eK2aNGnwBOn82YpksyD/Ga2PxD1D5uecnNS1n46lj\n",
    "x3DP4MFGvebyS/lPP/UPZLTcQB2DXpTs4WAO3YjmhMMBbq9N3cxabblRCkjOGIUd28fs27WTB44+\n",
    "TZcqxZVDjz4dEpGWAjLbQAzbWD42jCoBqQ0Pba0WRJWJVLqipI7oEiM92cYz1aleBZfE2ASXCVUz\n",
    "yz1MNJHc2eLKbhJLljiOcyz1rBGRiVGp6iQLWM9S1If2XhilMS5GV2M/1eyYdfzG6Sd5+UrnLx3v\n",
    "aJn4KPcJqDbqhSFcuU4TPUJnxgOTE6gYtQIqVElkb2WIHkhV50qhslRHjHWNvakTkR48kKowdBGF\n",
    "mtTIJWsHFR6crM4O1EHkBG+5ORG0SUVWiWekUoMn0VZ71kFTPvLjIik4Ko1iEBk74wiFkWTOlCmj\n",
    "hj6UgbciEoYXa6WKwsQLVy0tMfAWaI0AIF47NJzILbVzYG3C2BXrA4rVlrd3tkUwVPow6taTvWMF\n",
    "5cu3XMG+bR2v111S1Eg18YF6yld75Z7Tp/nN6TM8ktaYkOm8MpoWsiR2VOelO5Yi8ncLNKWRbSP2\n",
    "jLShSytXbaTG9/cn/QeOHw2nKVdyrbh3pL5HZAm8UnPkoAXHU9rAmv5s2crn7LqJcTrJq9IuKQof\n",
    "mJ7wB08Z/74+TumIFASKixAiHtaEYyokw/0UpDGlFh7t10G2xLmhrQNeu4EGRpx1hg7nt3kgDskJ\n",
    "iL1WJHVMtOd1K7tRH6Rn43nN+6fPRzO+gxB1+xKNwv3mvBHbu59FvptlJcMcxuZQD692qJ969OAz\n",
    "/tEPP4wJZF2ipydX5d98/9fI/v17ASF3se0CEx/Y1HOCz2JeM/JopbEKx0AJaCSNkVKDZh4sBNDW\n",
    "wq0M5K+NMN78MIs7sAqihlfFpfDAgwf5tm/7TxjG2EYBywCveMm1fP6b7hKXyAUOUY6qMHQ5GSKi\n",
    "RaHzQVt443cTs+dxLzS93VOnT4BHj2WTdbZt39Fg/MF4zCG1zYtjo2GZ358qrK6uzvLkQyvGl912\n",
    "A/tvu1ySRZ1aaLCmIIZIPIshRzvL7eoiOW1u9OayoUM3qlg/w7MLBnRm1uLODFVnWjuvtWJZSV6p\n",
    "Ltx041Uzw7s4zk8ss00/2bBWF+dnaJs4zI8k5+H7j1Itk1JbZ5b5R9/+FWxb7oIw4QI6bVn/vPC5\n",
    "1j5HF57vQgPu5k7nJEG00dhHl111KQ8dPUZfEkmUU2dORa5S41Bb7P+8Ocod/p6I9Sqp8L6y6o/g\n",
    "oB51kbli3hHqYmP6FHwM0ylal0GdM2kKFcZi1GS8kS18xo4r2T7qeGVekSDoKB/rT/qh4vzQ0Yc4\n",
    "OOpYKhJ1oyyx1FemWkl5RF8mdKnDk9GboYwZpSn3WCZZx2wRkcK4tYPOm/hA1wiKnUR955MTi5rq\n",
    "6DrAGKN3J6fIV1pOTUoRJvTcZEuhDU2DNEXAKqhiIo2Ek3DvsaQc6icsSltKIyGZzZEW9yD9JIGd\n",
    "feJ6OkEgtyh8yKUjzQgRdcHmLeJS5+DaKdat0GnGGn8huVCkki2F+hgFapQAjRR25iVgjjS5RcXB\n",
    "vBOcQFVEe46WE0waj0TNUamYj1Hp8apkC5JYSRm85ytX9vIXtl8e5F1tcpfJuF2WRUfw+i1beMVk\n",
    "5KUk3nPmGX557STPjBSq8aVbdvO6tF0qBXxoJBCehtnQmjS4G6GoW3h3Pe3vPH6aM6wjTYuhR+mo\n",
    "lKyRuSFUo8aaqHjrAe7cUhNfcfkVfNrSZRKQ/qXhdJG4q9sld146Zffpq/3vn3yMJVOmqZWUUnB1\n",
    "ssVaK650SVnvjZ0oZ2x9Ac0dgs+NRvdcZ4cHRBoOm0MRQ7JSa6FLiX0ry030ho3Q6qaRNx9m8d8b\n",
    "o4Q4TIfI8xx6zq2wXJonqh5F0vd97AD/8rt/DHNBpaOnRyaZr/7aN3HHy18SBJgQG4mH58zINyIN\n",
    "atlgrEKpKqJgj8iDrtWPgub4vIcPP8EAmyJCSoqwFKWbG+4TFtnNosF4NXc0Zd73vof8iadOAUav\n",
    "0QSgy1v4p9/+ldx0057IUwmY97PIipmmtA0eyezQPGd0GpBBe1lEXPff/zBWaUSFStIldm7bHpuT\n",
    "gfy0GTo9n8gGs+8H4T3vecDjMC8B2deeV73yFq67NhwhaZBdcAIGfWFta2Bzn1hd+Hxtzlo7WBeX\n",
    "h4eBivfPpeQGw+ck7n7fh0HHJOupDlmdO+66dcHYbP7MjUboXIb3rGV6jugxzmZF1Hnk4SccmWA2\n",
    "jnnHeenLbgpdWOsRHRHViXN4KvagbLiOwVmcG88h0q+IzlW2Lr1kJ9EKUyBl1tfWIqeJx4G+8FmL\n",
    "DsiiIXYP0Qs1QtGpizWVvLGgqWRPWDK6qlSJXsmeKkUqW4pQk3LJmvEPd9/E8lh4GStSVakKiYpq\n",
    "5WWj7fKyDLv33OI/+sRj/K5Mya5U7ak5og2zniwjjEquialqcCSsI4nxYL/GLUsjkue5Qy3gtF7P\n",
    "XujFGYlSgNRlHvFJ2+sBP06laYtbI9XVFgWbkKXjSq3RucZCocwleqday78O8pVJE7hwaH2CdkEO\n",
    "G7gBQx9f3FsgkXAt9Ag7k7R2hxBhXSOQDfKKA0u9lUV5C2qOTNdDSa4ElBqMh3Zbw/pcEAEaV6OX\n",
    "vq2fRcLpvIFDpGsUkRHHpjBiSiHhKVTHnGnUJ1OZdoa6kqpTWWbvlhHiU0gZLHLpQkvrNLLYq7ud\n",
    "UsbwuuVt3FVWPZcpfep4/XhFnKi39+H17XxGC141nJlWsma1o68jft2P0ZMYJcdLDmqlhoqYEpLg\n",
    "mUKp41C608SrreMvXbGXVy5tEadHLM8QhkE8CMksp8SVDifaeZM9BEKccF48O+MqTBCWMxxXY0tN\n",
    "DcGLbm3ePMGZVvqmscF5b5GvC3QSSOAoL3PJ5DTbvPUtbojKENxuHjozPhuCC9twSM09rbThEJhf\n",
    "VCNQiIE7KhlFOPTEaX/04FPRZ9d61Cq7Lut40+fdJXEY1yCBtEgh8p957nkIs+ghvsfb4R15M7xr\n",
    "+6+27jXK/fc9xIGHj4ZwR9tEo7FS61RmJKsN96CzPyIeUXUSPnbPg/z773snaER9YoJ6x1//m2/i\n",
    "JbdcI0MzZ/NJiInb8BnDblooi9n04BZ/zkhs3jxfFcq089JkH8Ewr9xww16GiJG2wM61OBZ/xusa\n",
    "W7L97oMfuD9kPEmIOipjXnnndRsSHTJgR7PrbzmVTcZrtraG95xjxHs2vj8iz2iPJs0j+uAHHwaP\n",
    "vF9OTjXjFbffOPu+xTz55mhw/hwXf557fs5ltDXFen/ogYMM285Rtqx07Ny5tTmFjbXckJZY6/H+\n",
    "xc+NdTDM2fCdTf1HmtyhtWYTS82wAlanSBpyU8O1bVw/i3MxW8PqUVGgyvFJaBYXPAh5rUxookFa\n",
    "LDpE0xLOhVd6cW6bJr5t783cubJNXpKXhaSkQMrBMm5dkIKS8bLcyV/Zs4/rWk4vG+HEEXuw0oNL\n",
    "66gTz2rU5uWDk+NECd5g3OLPIBQimhm1e8zAobU1f8rBNFM92rVhfWi8S8HU8RyL1THcJlw13kZw\n",
    "Npryl0TUI0SkLA0mFIt5fjpo00wt5ioNIevwXFLwPAxBvHClBHFucAjcPUhHXtq8xhlojW1TpdA7\n",
    "HK4lalFzNAYQoPOIxEMHORTlxoR2wKXScafukHCwhhRRnMUbep5TmVplSw6nXNxCl9qdJInscWab\n",
    "Z2pTg1NfJ5UEKTOdra8I3gsxP4FGNBaPVl49WpK7VrbK68ajuCZLrdyQQHYs8r7SQj43QnYV5b3l\n",
    "Gf/Zpw/iRRihoU6GN5VcjZ7PWhmZYTWRstFVuNOUL758L3eOO8kepEUTCfVDB9ypQ75+NAITpkmb\n",
    "A5io0hoXSkuCtk58boVlU3aNl2e9x+OybZb3XdzDwzhXcKOamHgNvfl+wu1L27ljeUdQh2z+3M41\n",
    "dBYtyOLhtvEAWRznzrXRPFhph1TBHP7zD/58wK66RsoC3vF1X//nueXWa/AazQnmbGYDn8Oyc9hw\n",
    "8wEb5QizUgUxsnRBSnLnHb/4fq+lgK7OSGQ33XA9+19yzYbPPLtWuTE6LWT0Tp0wf+rJ041MUFAy\n",
    "W1ZGvOlzXxUljK6t2DzPdOBnfYfl2edus2PjM1crU2vlQx/8GEk7Simz19540945bP5x4IzzPS+R\n",
    "yqOPHcEV3PvYQO7sv+16MZnODsX5OxYNmp1zEW3+1fkg4gHidodaWx58IVq9/95HW2lVeKM5CV2y\n",
    "WSetjc3pn+PNb7iueT560ZDP2enw8INPonSz57LniksbczUgqSD95OhANIPaN87NENDN91AgOKHA\n",
    "1XwsjXWfXQhGbLx3lMfNYJyvjn7jvIpIiPq35fPEZB0tQT6qCLUZ8ZBECBYpNVMsUd0xErcx4ut3\n",
    "X8ftS2MZyiKqx3wpHpGJOKpGjyF0vEJX5Et3XBPrUUPMXklgISbQYiCGBue9xeccmKyBDeSpVgUw\n",
    "7Ju2bKyxVQ1nOsqs5dBATx7Jr9QEGLTl9XKtM7/RcG4cb5l1FYrGI8CQf0uBzOFBwjpcJ/5kDuPV\n",
    "iTYI0akyn+NRdVL1Gdv6hrTMzMkWGnTiC4estmuJkYHOlaf6QibYwPE8YKLBjC7hhUbKzo0Rwu7a\n",
    "RdMk1U17eIGt32qyR5LCWSIRoqs9lozqNiM+qU/JNkJTNE94x9OH+d1+zUdFMTWs9pAIZwooUpDG\n",
    "4bCayaYRdTLCabVeRJc084gaU0NsQuc+1lL2imni3f0a2kptshVUg6hEIwGKQ2UMKTNRZ48qX3LF\n",
    "NbxmvCJCh3jQsPC21prGfcKxJDx15hTHEqhVzKYRdXtwbiS1vgFKIDGaKNJz3dJWZkHXEKSgM7R1\n",
    "syO/2fAOz6HzsCeqyqu2XsqU1nlNz0atFofOfywebpv++VnHIEofizMM04j77j3oH/jQAzg9VpXE\n",
    "mJXlEa+64wZBDGkbdiCrhOLcosGa5xOHv88kLH24IUfcQ4xDM7/9W/f6j/zIL4JkEssUpmSEr/v6\n",
    "P8cGSTDfBGPO/mlo5Wa8/e0/i+VpiK0ruBt/+Ys/h+tv3odIyDQG6tQ8QNlsbJ/L3MWYR8uRy/7I\n",
    "xw4yS+wTyrV33rF/ZhTnsMi5IvnNQxeMaebxQ0db0XcmpYQziFKMNhq1s+zbc7uf8+Vj58po8xIl\n",
    "XVicjx863kouIhecR4k9V10RMJ4/97k8/3Ul5hyCBTEDDcfA3Tl4+AhGdGgC2LtnD3NUpNXqcT7n\n",
    "ZPP3zf/bW1cJDYwaACPFgUcwhUUSo9HcuYyZOtfYWNtt1oJphMcn01CaqotleTTSCpgLQs+4U5IL\n",
    "2w2+8fI93LI0EieMWLIBnh0g1TDyE5TOhubpcPVoxG6geDDWCwqacLHWxi/muCiRe3V4snExQp1J\n",
    "wyjCgvMJSgcNej/er9FbRRhIi4ISkalpFAKaa6vpzVhy9o23xLz5fK6BeI0LpZ0DyWHdUihd0aZd\n",
    "E2IVEaU0icQwaWEsqwjXLy8TCxWGPrQDsWbxUM4MiIfwnnLcj6ZK0fnhLe25uIQxBsUllMOmybhs\n",
    "pNEZraEcTpTD1NZm1ZtDYY3YeN1oRLUhyo25iTUXrwvTFczojo7foeePnjnGu8sJt6pxFrTYwXA6\n",
    "lKFm3lJbwxQmEHu0phCI8TD50gfy6M2ZULOIgIHfPvZ0CL14xdqacMqM8R38i8blcaMrzv996V5e\n",
    "ncahrLcABTfJB2iz9q7paf+l46f8e848wdDKM3L+CfUchtqjrK60f0+WuWoqpLTGQDQ+l6EdnvGw\n",
    "Y8HYkkbDBTCSRF8nIJneYWSVK7vU5q4tDFq+/hzCVM+hYejzGyKAFD704QewMg61kZwoNuXTXncX\n",
    "t9xyDd68C2MotaCRHAiVEBlC/MVPnucXh9Kb4XC4//5HufvuR/xf/PMfa7WIRvUCTf7wyiu2StRt\n",
    "9i0n0yDeDYdni4oV7r/vcT50932xSdTxPpFU+LNvvkuygDeFmmDPxQSHE+GcMyf+nCYOBpLb/fc9\n",
    "ysCejT/Clbt3zedhYU5izhdh5nMTr4Z/W12fBOTbOq2srKxw7bVXt+Pl+UeUz3ecfU2Rvzl27BiS\n",
    "FaZRbL979w5cfCZI/mLHZsh8Xq4zb1Bx6Imj8eKsSHX27rv0RX8vBCg63IE0TN/MOP7MKbxG95ZS\n",
    "jG3bg3m5UbRmcdiG9eXuaI6+rwCP2VqU8Sgzw6HSlHUdLENvkEsQhT5Lt7G/2y4D6UklGhvgg2Go\n",
    "uCWKOkvFIDdVKEm8otsq+9OKH7LV5hsJ2NCw3GaqTwzzbs50qP8R4lBruBvN+QzUNuQOe4z71k7R\n",
    "pWhOYBaN7qkeBqsdii4Rr6TWxHxXCpsr3oRttPGtiGYEnYUAEG483q8xkegl6+36VZSpEi3nmrM0\n",
    "0chJJ5wrV7ZF+0AE10E8YW50ByPcMgF4VTrrOCMVKRrEZRtUrWjEIKKtqDldTtAbNy9tW1gv7flA\n",
    "5GZ9YPYL5hkDrlnaQTlzjBkps/ZIGof6mIfzUWUoBzWKFP7H9AR3HznDX9tRfGVlhdd1nXhKszTA\n",
    "1GtE1QzGvmOp6SmQLAhMAsV6NAXx1HE6TQ2Od/5ocsZ/qz8Zzy5SwuGcBUMhzHXKWCnUFM/xzWk7\n",
    "rxrvElGoNWRRU/UoObMeUsd71o/7E9MpP3/iSQ5kY+KQXfFkSJHQkpCo5a60VGjtw4nolM8b7+E1\n",
    "6RKJpi2xZs/lRLtKW1CAG0V6UhlRcqFXIzOmN2Pkyi0y4jWjHWIGrn1zAHxhbWw8h1688R3ObFkw\n",
    "Zp752Z/5jabg5JQSEd2Xf+nnkhqD1ulJ3mEUVDTUoBZgm/kZPQgYBKQRkpNpFi1+4EMH/K3f8V+5\n",
    "++7H8FFPQikmJA1f763f/be46abd7fMGTVlnppREQFHiCZeAYk+eMJ8WosNLDYbzDddfxc237GVG\n",
    "QNNWSkRqkNNQ4nJ+ws/5x/w95sZTx06Fp9TKgbqkFDstyOUskopmPJRzEq0W/x7OwSOPPMr6Wmnf\n",
    "qbgYO3dticiXUGSKt5+d471QYzNxSER49MCTVMtI7VvvWNi755KAPUVmEcwLvZaN87PAMYDWOlAp\n",
    "DkePHkVlFI6bC0Oz+xgv5LnG+5SmXz3MKUpW46mjJ/EkVOtRMpdfekn8e3M25s1L5u/dGA8bZgHJ\n",
    "F+Bw7WkKNa3yyOm1MXURilWWTFhDGOFcs9xyewECk7DW5q0d4A3gM3NIKRSKRGftIW9aXuFXzpyh\n",
    "q2Aauc2hEj2ifWlRbhjWtbRgZDd1vfEBFWjRYeeJR9fWERFKX/Ck0ShAhSQJr03aQaCqoVW51IQr\n",
    "NEvUEcsMQk2aWkmWzfICLvDI6mlWSJHvbU5YNaMjZAqbmC6hax4w6s5O589itrcW10VBJM+EHkSV\n",
    "QyXaS4JRCcb/7AkHQhuknWTUEgJEl6+MN6yioRO54o2UN68Plqp4cq7tpxxMS814tq5QnunTOmpL\n",
    "VFPGPmHKGku2wpoYj6TKPz91iNetdaQdV/trxlvERJAeuhlYNeyX1g1NhxLEENdJTUlKaqTcZIgV\n",
    "pTIpztOaouvYtMS6FJhKQPk90a2oqJPJiBdef8lOaJ89IB7vqWe8Xy3cM13n/aeP8qA4q0noUzgr\n",
    "SylTkkMRpPWfNosGJYGQ94h2iMOetVVeuWcFkjXnrzVWGc6mTXHIgHm5VLaIMslGVqG3npEu0/kU\n",
    "T5VP3XIlYRsCNZANZYd61jl9AYxv1ENGB6S4aJeeBx48HPXCUtFkjLqO7Ts6GRrTD/c3UL1nDRg2\n",
    "MapD3GyI9qIZ9z33PsQf/sHD/jM/+SscOHQEKz3SjfCamZgxzgW3EW/73r/D/v3XiKRJHLJJGFi5\n",
    "i4fpLMr0jKrwznf+DqQKPkaaStOf+fzXUGsmJadaHweADx5vbYbrPGzw5zSN8V5V5eSJMwEVSSzj\n",
    "pW7ErbdeHxve53nFwRZtYOGZbXjQ8dnhdfVTWilAq8sW57p9u2etKDcjDvPOPxd+DJHnMKqX6M5i\n",
    "FZeOW2+5ISI2WTTYL2xuNzoktmG+BrjtyYNPse6gJU6dZIUbb76q4TMXYh50YW0HKefkqdVm+Cui\n",
    "ylVXXz6LEhFZSC88C4mssU3v6U/6WgXLOsuRVhVyyz314oyqMHVn1JqP7+mWcQ3HUyWHupTEtw15\n",
    "VMebYYROQsw+q+BW2DMak89EKVWVyM2qhQRitPAU3BrjV8MNoUlCygLUPDgAEckRUCnCsQq9VLTV\n",
    "t6aWFPLapBGl6eYaiBg7ZUxWj2tkHjEKoDbFdRTnqziK8YCtMcVIXcZK1INmi0hJBDqDglASdFXY\n",
    "Kk6aFqRLUf7ktM04OIdBChoQlaG5/DPTnuKFbB2epiEWUaN3skP0CiaaKoxSGP5LRoP8aoiVVG+I\n",
    "HkIatA6EiKyS8Wq2ypu37fW3rz9BLsuY9vQ16tBXbJjHOHuXfUtEqKIUSyQKv18nvO+pR3jL0na/\n",
    "fdcOXt/tEGlOmTI0S9AGP0dryOSJQZQIKdSUwaL97ITK2JV3nT4S3ZpKj3aZKNh2sgmiGgIe5nQI\n",
    "eKGj478/cYT/ko94XwprOE9LZVXBEZwCS6kpcRFKXTmaUYhHV6xaW9010boxe0D6IRnb8dWX7OfO\n",
    "0UiKVVSiw9XQeQk2pvWiVWfYtkrHdaNdvDn1fGj9BOQxfTFW6Pic0W5uHK1AC5qGD3EfUl5nB0gv\n",
    "3vhqqBktkk8+9tHHWVutEVFKB77K9q2XgI78no8ewlmTW/ffDDrAtaGDHAY4JuDeex4BEYqp3/Ph\n",
    "h/jgBx7k3nuf4NGDBzl5ajqTE3NJpFSx1slipJlOM9/7tr/Jp3/mS0QwzLrQfvXarjMmduOhFgQa\n",
    "M+HuD94bn20VJBi4n/VZr5SU2iGgS+3UGCLFFx75xsOZQ+r33/cw65MoXYoV71x62a45fCec9fmL\n",
    "D3aRCRmGuNV2uvChDz7qoiV8aO8wS9xww+7Z6xfn4hM1NkevIs67/+gBF08s4ayr00nhVbfva5yA\n",
    "etZ7XujYWLK28DuEhx465KFVPUa9pwA333zNBfneYQS3IfgJuPPMiVNRzKVRgnL99VeFUlBshLPM\n",
    "/bzaYNCsXiAOasfTo6YgRRzoAhSVaAgvoXAlo45SIr+7e7wtOvgQrf1SO0dpJTNDQ4CQXwwHMYtE\n",
    "tC2ZLnUUoswoWwCjlgVqlHp4GpyDEMgfSniGEkKGhuQS2sqxu6DHUMk85OvBPm7dbkhNc3soixHB\n",
    "iqAJqsG1IyWamLTDT1sjBamtTGzIl4ez/HRtkfW0J+WOXAqkWBvqIcQvIuSaIEWN7zXjJYmAYDhg\n",
    "h1IgaHQe5vsnzOsD01NBRJXKyMYUKyDSFJ6clFL0AfboNJYAvAR3M4XRS2KYJ5IY1Zk3bJCureHC\n",
    "zVvHXHsm81iaYBqInDr0NoK0jpKw2rGm4OYs1eiN3Lf03XqC/1JPs/vwMf7WJXv90rSVV49XpOqE\n",
    "ZKO45hZtmw0pxlgv7iOEKUqQBkfNUb63r6xJz4oaa2VKEiXsppJNKCjZjZKcVI1pqvxRKki1WEsE\n",
    "f0AkugUlF7xA8dBWVnFqcrREQq6KtmjXqB1odcQi356S8/XLu/js7SviLuSGqkXuPM2yWwPiNBCw\n",
    "BrpQEnj10pK8enkPcPUs1TjYvWg32CxAQ6qHTXyuapcXbXznkdLcsz/y5AmvPm9uLbLE08+c5i1v\n",
    "+eaAKxg5KaCYLo1xL2iq1BqQcG3tAKuFKotZH6pI6hg5Fp6lkATTaZAuUibXwi23XsV3fvvf4LaX\n",
    "XiO4Y00cpNoqSVcWrlwX7gGG2lNV49DhE1hT9kq6gqpzy62bD+KyAF1//BrT840Z12pGxBhRLdR/\n",
    "MlFsvvvKnfEtQ03/7FSe537iszZGvqohJ5kkcunve9/9iOYG2Qmixh133dbmIJRpk+gGI/WJGvOy\n",
    "GecDH/wotU7x3AVUKMIrbn/pBf2++cLfCNUP0f2D9z0GeQx9QVJi69bErl07aKcLG+He5zM2QZIN\n",
    "fnzi8EnC805UiwP/2huunMG2iGzIFc/HYt53juKsT0MVqFea/GmM7ImiFfeoV52UQtbIK6/ZBOlG\n",
    "UZrkPlMi8gan4hpw4EBUawfqIBuZakhKFiLBqaVC1QYZxh42a1AxREeaNqMzYQuin+1AIgKjc+VA\n",
    "v+rPaCWLMnFjicwZCssoU/FgmFrFUsItamev966laSVkHvEGoxMRCYkqFVrm83CdYip0KTOxStcl\n",
    "vDqdhQlNDRZ2CVbb1RpZSm0NV2RmfRbIlt4RZYgxl0XgpDnZKlUzLlMG8qFZQ0JqjXwoiomxt0+8\n",
    "crQzMIJmHLwRw7wZYveISnHDxcl0vFJ2yd+4NPtbjx7gJBOWLLMmibEKvY+b+IYh7vSdMimCaiJb\n",
    "wL81rTG2ZY5k4a0njvGWdIbpJZf7p3bLUnRC8qWZvrpoRmrwapBMT2HEaC57W+G9/TP+WO3RkbKG\n",
    "kWVEkRodjpqRSkTHqeTakiEejP0E6gPxsGDmJHGUEX2t5JQQK5SUyb2xrpWc+mh4kwVKRvoQjPLU\n",
    "sVTh67dfzZXLFgZfaDhCC1Z8SCEKQ29saevGm3MSiUxHGORk56hHtJOMJZDMB9IFvrAXL3jku5EG\n",
    "nzCf8p733BulRVVbg4LmrTPGZYJqohQHhbXp6aijbV4krkH08ISyjPmENBSUWwI3TBXJjpXKmExV\n",
    "uHrPlfzf3/wW9u3dzS37r4qIVxwlN1nMlTYZi8ZruG6gRVlIYnV1tR3MRi2JS68aYbUnpW7hXYsw\n",
    "4gszvPNhs0jm4GPHXJqWrZUeJHHDDVfEZtYGv89OsDlb+FyRr7ujQ62wGQ89+Pjs2oP9Wbht/zVi\n",
    "bq02+1xdf17c2Px55/r8j917iK5bwkqhTzCSiqY+bjVO03PC+c/nWjfU4m54X8zXgQNPhQCBgFjh\n",
    "yksvncFP80P2+Y8N3+U5SGQoDz3wuEf7MwULYO/mm/fOHi9Dfvesr11oBBF3hmE8OZ22QzEiTWvR\n",
    "28DurRpw7VgTtUy51Dpu77YJFboUOWmXyLdLy8GKRiwX2caWqvAwGpqEZ+p6sB6qBzGxlRkFebTV\n",
    "euJtrUFXy+yw2yBk0P67irSmA4JpZiJCrYVR7phoZZlELyEnaSpocZK2uXLl6i1b2y4cUKiBSRuO\n",
    "pLdoMeHcU874SY263inGWBKrXug0nInsilkYapFEssLu8QqYUzWRZ6UpG51UaYZx6B2dTTjQr5M1\n",
    "UTz6Vw+tB5LQzrMhPxtkssta0BLleMMabP5Kg7ojOpdZDqqn0OXMp3crcvLy3f72Y0fpuwnVJ0gZ\n",
    "07kwTUJWh1rpqoJ0GEaxSqchhjLxNcY+YmrGT+tJDhyp5Muu8NcubReTHqwLo+PgSSkU1JVOopWr\n",
    "SuuxlUCmmdPjRuUsylSMzmMN92KtP3Pk49UV1xLPLgVMXJth7rTDrOXLvZKTMKVnpInkPVOEEYJ5\n",
    "x0jBJiAp2Na9dbxMer7i0j28bsuuENijzBbgDG5eqMfdsOUkcsE6REkisa6btgVEtDvj1tDQHoba\n",
    "/o3n8+J5dQHYzhsJISJw4JFDmCfwQs4j+loQWUd9jDCm9EJqsnApJWo1UnZsYGO74tLKv3OOf28e\n",
    "11BqkKVy1Z7LeN2n3sEX/flPZ2k0lZtvvZqQeEtYqbimOOxk6CI03xwbD/N5BHnffY9SWzcOdSWl\n",
    "Cdt3bG+CF+3yGmlm47n/YqLE+Xvf/957ooVWi8ocuOPOl0RdXKxL5uSdIRKeR77nLDtq93v40FMt\n",
    "FxewU85KqWuo7Gq5sLNh4Rc7zvV5i0IXqnDkyWfAosBdSSyNRly154rZ64Ote7ahfb7XupF0Nf9d\n",
    "dePxg0cC5tOAFvZeedmzfv7ZYh3n/86ZYybzZhiPPHx4gcUtLC8vs2PnFuJgWIyqFr9zsScxDR0S\n",
    "kigPrJ8K2oXRtJKb7nOLjGjoWDCkE7vWFdQoTpRGRDuhJj06fEPbF7BwkNQ4j8x4vEzoyBhTQFqn\n",
    "Ice1IOT4bI/nJ8CyDJz6pnY2u7EmzdgWtLhwdDKJ62giPNH+smeUQmghuudE5Kfts3av7EC8QOvU\n",
    "E6Yx5jH0gaWpEMOIzLpGvXPnEjnK5v8H+zvqQyG2W03CtXkJm8GFabb/52uJ9ny8GXzjffVpf0Yr\n",
    "0xyG2CQEO9RbrAEkj3jKW1OCXanDWx38fE/LBhhz9n3tu7sFdawvXLpMtu9I/u3HHmGlW6KkCIAS\n",
    "hQnCWDt66cmVpq7W0WtlxRLr7ngG6SpSnPfKGY4++SS+O/lrR0syqEtZY4Y3EdnQc8nhiEQjBucZ\n",
    "r60U1BlrQONiCaRDbdIiR2skMgsnLmfMKsXDOAmZUuKZqpeWiauh/x3lMYwr9DnR1XWKdNFYwYQV\n",
    "rfyl5Uu4c8sW7lreJmKOZagkOmceycrAPzmHgz+beQt5UiQo22QqLUXAgpM0nMuz9bDxfF4cFwB2\n",
    "HqQCm5SYjTjyxBmEgmkIVAB01lGZ4IyQHLnVdhoENFSHw3FghkV+a0vKrGxfYsfOJW686Wpe+vLr\n",
    "eN3rXkWXi9x087Uz1t/ca4mfmtNCa6k525SzjOZixBol6m5T0DFC1GBefcVuhp6MYaDqhZi62Rja\n",
    "zIFyzwMHo3DcHE8dWp2bb71KQJuedYNr8Zk4w3Afm2UOB4fIJIgwJ85MEK1YH4zapdEWbrj+mpi1\n",
    "s+qUL/w4F9vYXTh9ep3ee7rWSGPXjhUgylxENt73ix2DURumKXKImUcOHiaqS6Ic7YZr97CRZbwZ\n",
    "5Xk+19OiPeZQ1iMPHW4tmcMcX3XFjnZuz/W0Nzt0ZyvMhRJV73DYDLXovmNNZWluHcIwVq1Ur4w8\n",
    "c0XXMcEYD4hPUsSkXcPgqbd10Qzy0D9ba0QNT6yfwYl8mhhkL7PoGQlRDNeo2a0C22SAhcNJn0e+\n",
    "TSpQImIQ4MH1M1hrUlD7Gg51l5lQ6OooIO2h77EKppVtuQIjaDlRDEzDmA51riaGesfjZRrCC0mp\n",
    "xRiJRucmH/r+CrUZRZrDftPyykyvdwFAb6mj9ryceE8zmOpL9K0NYkTeQyvEuLbkA7rTHDqD65ZX\n",
    "oFZMEioD6WmhSmNwDoZJdBoTOioWEOMzt+ySlaT+7556lPuSkVIi9UqnwQrOjWOxWoFkmDkTD0nO\n",
    "9TplbJkqQplW7h1N+a9PPQJXXO2f0m2VKPXMYBU3RbNjKU5PiEYiosJT/SrSHLDa1rIJuE+Z58mV\n",
    "ypTkI0rKJJuCQw7hCEwNLe1cq44niVKl2spUxahZUatMNZNM2YHzGaMVPmvXFbw6bxVvimLh2FUy\n",
    "ofMtzfBGOu9cwdMgXxlSrXPTHI5Rajne+UqYG+GQHN2IimweFwx2FkktHHdK02NVGeGtafvP/Pd/\n",
    "xpGjx3j4gac5cvQoqydP0ldD6zIaSmds27bM5Vdu59b917GypZPcwU03XTeU5c0264yx2jh4s4na\n",
    "FC3MFKeedQzlUYAUDHHRUeSNKNRqjEaNraYDLK6zA+rCjPk1HDryDO7Bwu3rlCw62/zD2GhkYdHw\n",
    "bmY9x6cLjz52mOl0Cqlxx5OzY+fSwmde+LKizWOocV38licPH20Es3B0AK7eezlBZAGQDXbkxYzN\n",
    "8I83OMmBY0+fQrXHfIRQue76vbN6zBc/L3PHDwARDj5+JKJNCSWivVddOn+d+wxOPN/1L352FuWp\n",
    "fh26ULyqCrmGUR1mu6oxqkLNwtQKl+ctjH1wRNqxMjsPF5CUBmtri2wRMDE+bKf93rJOSSl6wjY4\n",
    "2vIghBHlO7hTxBnXzG7y3MiEFY4DkYVd3LDtA2W1sZqNMSMmYmhdKBVyb3EL4HB5Ua6V5fBtGptc\n",
    "JDHUSXhTRMITLnDo9OmYl1rpUsb7HlKa5binVJJF/tokiD4r49Fcz1sWjlVvh3fLYw+G1kQ43vdU\n",
    "CcJZpylylwx4YRj3YGcHe9qScMtoR0TgQ81ym6ON1SDDfQ3nIQyxl1sYltcs75Cvu/JG/5WTj/I/\n",
    "+ymWU3Rpas9gXYK9rF4YyZheeqCSWuCTxZl2Hct1wvsls//p09x1xQpJu2ifqhH9zymsjlaLtrFA\n",
    "39em1DnUNA+R7gC9x98TCRUDW6VmoXNH6Jga5KpNuEWpnTdnNQRQaheOYK2VrW5cJ8t89q5LuG40\n",
    "5q7xdhEL2Dpk4DqqRcWLtQ5mjrb0wLCnNtbRLwZlaahAgBnsPjg+AW4FZBI5+sBYPt64QLDz8J/R\n",
    "6GD1dJMl8x6hkHSFW/dfKfv9aj7t9Y2I5T0q0Z8xNlKafdZi7nKgPqBDQ4UQp58rhrR6upnXYQt5\n",
    "kvnrNsB/i2M4x2RONY/39UBAdCtLOYQE2uEzeEMvJBo7KwfKHIp0gWeeDLJXrSHBtjJa4qabrp1F\n",
    "DItGdfEZLEIcIfCeGXLJ7ol+mtxVkGJ4y2Psu+by80IiF3IMjOLw/H2WO0Tg9MkSDeIkNW8xc+vN\n",
    "uwOGa+0E58/sReTVB9x01jVifmAdPnTSp6WE6H0HVhLX3nSpbJiTFqEsqu08r/sf3mMBBz928AmS\n",
    "jJrDV7l235Vxhz60UNz4TM5VSjbvqwxPScVrRAriHgbYpdW3JsR7qgrWC7lTrh6NGCDSeDoNqHWY\n",
    "q7XF31MzonhELqqGTTKPp2DU9nWdTkbUHGIUeJ0hT0WEruVq96dt0cVn1uhPN9xf7K24mkenE1Bn\n",
    "JJHvzQX6UWJUSiPK0PLTGcS4wuZQ6NCcojYm9qCAB7S0k/Jov96MqoIbJTcyGRm3CSl3eI3oy80Z\n",
    "ubLcF2w8wi0aMwwHdozWBrJFtJHxNQ7163hvdF2mWEQQ0emolb0RXYHU6mx9LS9LQN7mCwtNUZ3n\n",
    "sochzfBXIBWD3HZIc1JePV6Wte17/HXTwvcfP8iRNEF9mWyJdSnhOOFY7cmpic+YBvvYCwkossw4\n",
    "GT9bj3L7mR3+6csauSsTkCHidjCnpERuqlxTzfPevgamFXWhtp8m1lTVwhgn6RCDok6aKuPsFOnj\n",
    "GfuUUZ/wFOmEJavc3Geuz2NevmM7l42W+ZTRFpECNdrPh5GUiliHaTyzWp2USkNWI4KP1N1gChbP\n",
    "GJshCkH2tZaSSBvRKYuyPq2CpKEam7lhpp3zprjGT/QCYqexEDMuUG0KHgeLsISqQ024htKIE63G\n",
    "YsN10IgnA3Q9JKnDCA+boguNZcmzco3FSMCkoqa46uxgD9nAxmDzzV5Nu+7mgYu3g0iUnikqGsXr\n",
    "qkwmk9alYvHwfe4kq3NFXHOYfP6gxZQTa5NW5wigbN+xMtt/zy0KCwfIWrsvGuvyfXd/LA5YjZxa\n",
    "RXnJbTdsqgtObHYOLsQQGVSWojQs8nVxUL7rPR8JYq30iGfce175qpcAhmr3cT/7uY5BPclVwEpj\n",
    "9MYeevDhR4Mc2FW0RL32LTfvY/HZbnj2zwMF3zivBfMOVeXQkacQi3pMkrLvusvjelqrxsUabWC2\n",
    "bjbXcIvA3f0JP5qgk+jIlRFqi77Um0EfDvMuDp2do1E4RDQIdcYuY+N9t+hSdaHq0zN/eOrRaAnn\n",
    "hqQRUynkGqVAOY0oXpDQOaQS17Jv+05SlShB8mgq4oCSZpGCN7N11Gpr7RgQaU1GVwxjENix9lwi\n",
    "LXFFO+gdJxWBHHXB5jQRklb7a5HrPlhWIWfUajs4g42cLfLVtfYBdVtEvZdUZc94RaTU4KvUdmZJ\n",
    "y3XHxTfnIvKHUpVD6+uw1NGXGvXRA+mvpcQiIozOXqbCSvVwlGR5VgrT2mqxkdg5iJPEYa8ONWvA\n",
    "2GZIMpyKmvPp42Wpo46do5H/9oln+IX+KOs5k2rHxHs60VaKWagoOVvr9CXhgIhRq1EQ3nnmKT59\n",
    "6Xq0EfSqBboSIiGhDR2ASrw3It8U8LFHSiR7xsVI7i0KHV4Hu0pllMckVZZtjW15he3mXCE72L4t\n",
    "s6/bxrYkwDp3LV0iIeQCrXdhZG16kM7aWopUlnrCmJLSiN4znRTE50Y08vARmMzsh8us5nyYY2+O\n",
    "qTR0pQqoWPS2TrGanXkP72Evic8Nr2s8swtkfId2cVEfOB6P8WjeNIt6SETHDYkb8eaBKjTDe7Zh\n",
    "mmv/xhylWTSXF75zIFSl1riZMMQIQreA3p0bBhAGKKsp1Vgvic5TdorFl5883gd8UXOIEsw+64Ub\n",
    "3o0s2EAK7n/oMXy9IF1jaXrHlVfsOufnnHsU3KMAXoja64FZ+ZEPPEzxEalWPDlJe+6885YFdnRz\n",
    "ci6w4R2ud+a8DEah5VI/8MEHWvw1NzS337l/BnHGr6JM5MWQ2gbDGz8zi23QHrvvCKZCqmNMe7bK\n",
    "mF1Xbm+mqa0xpzkuzy/ynSERInjtkNTz9LEpk745hyZIhhtuuHp2f0OkvPisN0POIRoTdaTmSkYp\n",
    "Vkm0rkEpQQnGp0jkEnsXxt5jouxLW6OxvAc0WykkMqU1R5jtq+YUVimIZ7IaH+xP+S9NTuB5Ga/r\n",
    "uCSyjahSWNIRE19FfERKOdoOeiFj7NEQE7HaU1JHCuAPoJGFmo60Oyc05BCTJKqU1lnMoVamnbC1\n",
    "JiZScSlUrVzVbWv7PkGOLkUjbarM1kiGs7aWhcPeoXUNUhB8MpllnDNJ2GJClQ6shIFMyh4Z+oU3\n",
    "lutAxmJoFBFwcPZE9YDmPTkHmMK0MMqZaTuwsyjecuyjGiiFa5xZl5jzqrxdfAPSUonOUUOkFhYu\n",
    "1P4iRTEgAZUSjlJDBUJ/Pu7/9vGS3HHFNexf3eI/fPQgh0c19I/NMLUmaOTUGtrOVhOiI5x1qia6\n",
    "Au8up3m3rfldviTgwbEaDEz1uC8Shcoo5SBKJg/lQS2kqhSdkloZZW7r28R5c7eDv3f5HjGJktJc\n",
    "BM894l0453TgPSYZ9S2hLd2yOWHOgk0vnUWaspVVokovha6Zu45AA2nyoD4zrMGmrghpcb/JkCII\n",
    "pKQ0O5e0Ea5Moh1hVUiD91FbUNE4LspZke+LoeguDG2HZJS1rKwIOW2hWkFSZVJ67v3YgaZLOhdK\n",
    "G8ieQ24t1KfikB3ytS1lMFvgA7V79sAXHt5wMEbD7ME7fPbhw+tMUDFyjs+dTkNxRnGePHomHmYq\n",
    "RKFCP89dfZyxmYm82YB6g0NdoF9VLwpeo8ermXHt9ZfNIceBZLHpvobLGAgyIXoyyH2GBvZ9Dx2I\n",
    "Qn2NebIK11+3d3YPm39eqLG4gIO92hio7dnf/9DjC06UktSodbIB8l28541Q33Mfc8MbP4dGCw48\n",
    "8vDjuFkreYArrtzZNtB8e7T03zzyfa7fOxAS0QZJdTx0/0GvXkBDb5hSueXWa2U+9xvX9vDfi+tm\n",
    "xr5354n1Pg69lpOqIlALQ62htPfnFmkZQk3TBlkG6SyUxGqTCqwgQ3ehELwXz7gWrFY+cLrnqGZS\n",
    "vw7aSi8IKHGiQWAbavyrFMC5mY6XLO8QB/qU6RzEolwHa5WVbU8dqRM/rjXm2RxPoaJhVpGcyTU6\n",
    "1SZJiBupOFfocuQSa3xGJwrVKK3mNnp/K27GPX3xoxpddipGlojEJmYsuzN1p3prNFGgurFHFW8R\n",
    "77CW2+nUAIN2/VIQDeMlRTk+nZJzaBePTOg8Oht5qWDONDUueOvydpku0TdmdgkSTVs/Q663Btzb\n",
    "8pPeUnFIQcQiQBnKHyUcr0KP25QkUDHeuHKJfP1VN/CKmumsUr3HqpDEQlBElSJDjrzHSAH7i9IL\n",
    "3Dt5OlATi1xuxWYOyYDZdZ5YEvDGB5haQWuUEGXPkdM26CWEUDpRrDeKJNQ71Hssh9NtUql0mE+J\n",
    "apYm2DIEl96gfJ+TOF1bc5HG9M41rLR7I77JQM0dVKwiEDOJpiNOc0CtNWbwmB+zPjp36TSQIJtG\n",
    "GqRoq0oaDgpl6C4qIhsMr7co/QIZXxpuHszmyy+7Em+5K6spmlqTfYBPBG1t3eLPHEobzpMh4lgo\n",
    "EQKQEFijTRoLh6C2A12G3fAcby82UXgujnLDdVfRqdB1idIUrg4/9UzA3DXUWcS7aKb8PKPEzQZ4\n",
    "mLe4aeW977svFIQ8DKaq8tKXXHfO71m0kdKgk3nnHsdsOMAD+nji0MmGQhRcLIrUtcrQ8/gTmfud\n",
    "OUgez8waZCgiHD70dIA+0uFeWFpa4pprLo8N5EO9pLLYkeiFLNvw12T2c/gsN+PRx46gqqR2nXv3\n",
    "7mz51TKP3M+5vp77vcdQvBoPP3CYtKAtvrI05tLLtjU49VykqvlnDY4qDPsk8fBklTwNxbehvnfx\n",
    "e81D3arziAK39/Cy0RYZ5lQ1N6JTiraHKHisP5WAIOPeE++frvt/WT3EuGQkacDAGnXkZIcaKkPS\n",
    "R5SrxSgqvGHLDpSKSGHcevYNYgbW+CsDTNe7hX3RQfs46pahIUIISNThusT3bdUufAZVioRhL0mi\n",
    "nrURM1tFE791ap0prZywOH2K+tSUNbLJMshTKpaVZMKVSx3JgmEN80h9eA4RVMRh3Zrf8bFywg8l\n",
    "o9Taoq/W51clIjYxsrVuOwnEC5cmiWYFUuMaZlHXEJDMSUAsrMVAh4Vpg94blxdzJXlGNGNeI5Ch\n",
    "8qndVvnSK67mFkBzu2YXiobKd6yhYM83Hy7In8DdJ06EwUtxfiZv9RruA+6CiXP5eIxbdBTKkpA0\n",
    "ZFVLOC4DL0GjEc4jshqqV15RRmgfDS+MFOVYPhBhtbXSrIiug9cWfAlTjF4S6sLUvJ01FnveBjRn\n",
    "McgIoxy/a9lajSAmHJd1RBIF4wPTqb97vfpPPHPIf/rY0/4/1076e+oZV82QDbeCitGjzasdzjBv\n",
    "5X7SYseYxwsAOy/kPS2IUbfeto9f/c33ojm6/9Ta8+B9B9i/fw+0Yv3FAvJzwWuwYBDaN4WnPod8\n",
    "N8J/L5yMo4vwojrbt3YcPX4a1THQs7q+yn33PMjNt97YLiTylS/0OzcylyPiQ+C+ew+EvJyOqGUd\n",
    "kcodd76UjWzmwdFZ/MSF3MIM5myHhBeEjhOn1uLfG9i3srTM1XuvOCfE+YkaM4i7PbWDBw+xvtqa\n",
    "AbQE5bZt28DqrERlbnx90+FzYYaIc/iJo8G0bnDSvmv3tJrqfAGQgEVSURz+jz18CLdM9VDjufyS\n",
    "HbOFHA0u5nO0ucxpcFSHMaHyeL/O6bExLuG144prbXDRvHtQQagiXOZNalFDmjAAxyjFSZJiDbb1\n",
    "U8zJGkfqh/tT/u+OPMrpriOndZKPsFrpk9FpF4db8JewCLOwJGytwh0rlzClMqKbZYB0EGtYMGQQ\n",
    "mtCjGh53FRhVp6QgIalJEJoaOqRWQYWnmLTI3+m84AnUezyNgOiSNErw0Oq6/4+1x0FyXCtCVyKv\n",
    "aSXmd+pGJ8EYLxr9Ym9Z3haRsC8YXrcFpSug5bYdA0tMJVMGcqQ1uNkqoq0DmsVkdQQimCSzr9tC\n",
    "9B4Kh8TMmjHwFo3ZDCnzanhKqAR/GBG6akgiZCBNm5Fv0KeN0RQonyXn1XlF0mW3+D988h7OdAJW\n",
    "URmjZSCuRUck86ghxiuucFwB6bHWV32zEpsbaDVWunCS8KizVh9K/AbUpqE4CJWOe2vPu8tJf3Xe\n",
    "JuYgXdTTqgXGkGSo3iaCEwd8HE4a0Xpy1Er1qvWMtGt7IdrERq/hZ29wP+zXKD8SlCU+fPqE/+yp\n",
    "J/nduspp6aJdJIW0JuQKb1h+xr9o62W8YmWruAtdi8Yl64YoafN3XrCTLBjb4T297lNfjiKYr0f7\n",
    "vwS/+svvb3leDx1TmFHez18/OUCNwz8OPX3bXzfdytnQ6XOAJyMUalr24RpfffW14SladLYUF+75\n",
    "yCEH0AWWtflmtaFzzMvCvQzs1Pm1GUiJ3wMPPHyQ4MX0pDQipUTXFRkg9IAP43pnnz9DCRYbFSi0\n",
    "QxyBA48eZm19vcF4Ub94+a5tzAW7zhfFX+ja30WgzpC8zHpfEArmPZC5eu+lDVpqgvlNbGDoAbzx\n",
    "vs8ewY7/+Nc/g68t8fhTz7S1FA7dtdfvRn3ze1/oXNh8DTSE4uFHjoQDFQkj9u2+rF17vCZqa+MX\n",
    "4anPDbFXQ5AZJDsS48laWOnTwmcsXKtI1O+6YFLoROh0wkfXq+OOSxCL3BLiKRoN0ERILGrwXYz3\n",
    "1VP+Y08c5P6U6KwwImO2jmj06h4IUNEfNyF52hiiidfmZW4dL8nIxrgpeI83LeMwaPP1KwKrfW0C\n",
    "F2FkJtJKOKq1yN4YEWphU+0A5cH1M62yUsAzbh3BDelbRJY40E/9e56+j1MtFVBLGM6iEkZUE4aT\n",
    "NYxKSUFwS165ZDCiTYeatl6GSQ9UKWBtRcIAlqCoZaLNI+4UFaq1TkQNuXBCYKaKc/Pycvv8ZtQ1\n",
    "iEBCEBXREIVRnJRCESyEWSp4H053Q+homtezQKWJo8yYu1V45VKWu/JWtASrOGq+ra3cdp8p0pl4\n",
    "CJKctqg8UYRapgwk2aHzk4hDl0il51Jzpl7DwbEKnuiZkgqoK32C4kaqhUlK3H3qNH0TC5Ea50BE\n",
    "o/Nz071SvMelYgh/tH7Sf+v4qv/VQx/2/+vAPf7O0097amTNIFZ2BAl1EKkJBM6HM3i2PQWvNtNX\n",
    "/8DkjP/vM0f9655+mN+qzkQS2ZuCmYSzOkmZX+tXeeuxh/n96bpLu/+SmUHw5yPKXgDjO0SMNtv0\n",
    "27ZmCXh5DBqKU+953/3cf9/Blu8ThNIOms2H6OKEDMzPhdKHDUIDBpTZfw+R4eDpPdfbi0gxJsvd\n",
    "ef2n3YJgaKoz6PO//cSvgvTgLVfYmqMPEOFmYzCLWGheF9qi5cFTTi2HnaLrDBOOPHmC8v+19+ZR\n",
    "nl1Xfe9nn3Pu71fVk6TW3K1ZsiTjSci2jDEmBowDJEBIMGAgJoYXQ1hvMdgGgxMMODhZK15AmBIm\n",
    "22/lPWxjEUYvA0neC+AY2WBLNniQ1bJaLamlbrW6W63urq763Xv2fn/sc+69v6rqQVK3rfdW7bV6\n",
    "VXXVr+5w7rl7+O69v1tXcM3rBTU33HDtGmRgLGOUYB6uLOc3V6xOEuIveSRw5Y7t5XhCnUm8Vs7C\n",
    "9rDV61EQmZw59OgREwKiiRS8Mvv66y8vn3eyFaGiI4PTNV4P7V+iqgBLDsxgzKs6nzMe/v/EkRMs\n",
    "LS0XmN/Pc+11V6wDwz+1tRjzxBaXg70HDpKlkMt0xs4rLimcuFXmIcV6GyIe/dVJQxIDkhueyN5L\n",
    "qtDDs25syyFiGRooCesidzfCex7dzadXTlht3wthGUW9Uld87J1KS8iRO5eX7Zce3ssdMiNYSxOh\n",
    "zRDDFCH7qD+BmFu8xC+jbfD+TVO+8fxLSeo9uzXR3Bf42fz9eaBnPq9enOwiio9mC8GRr86UVjIK\n",
    "LKiRc+bD3WHu1WWrwKbn6GuxXMfelc7evu9zfFIamtig1pKiEsxosiMGmZpiyFhpCcsoCx0s9K2P\n",
    "o30gWgbYuEOEgpaKZgE+u/z44FSUK0vqv7PgbWAqXhyUUVDYsuD6LZtDs2JKljhUEJNJEss6C5Yz\n",
    "H1tZst87smQ/+uAe+5XDD9pHV46YD3RvibEDg2xOzSskn2+LQiOkLnpEPinV7CWHbyU1k4vzNlGq\n",
    "t0gTPA9qBin4mFZfHC+6zeKR44sWLpTrm4YJgZWgnn4MRsOETpQ2zEidV6VLDMSsvGfpAHcuLZmJ\n",
    "X0t1HiQ73CwWUOm8cjxPuGv5kP3Bwcf56eO72SOB3ZMT/B8HH+Svl4+a9xupOy0FlvfUTnWahLED\n",
    "peb7pk55290qP3fsUUxC4a7IEDosGKIJkannfi3ykDT81qP3c2f7hFloSb1dGnTOat39tLWrWfV4\n",
    "igES5cYbr+SKHZf0ClRtxuNPrHDi2NRqpEn1sqiVxnn0/3EkNx/xQFWIRZmWxn2swsD+Ntfik9Nf\n",
    "vxffeFDSIJL5mle9EJ9XKT2R+Kd37eWez+3zqjURx/Dpyv2v9WwGoxz92tRAfKKQM8R48Y3nv+G+\n",
    "XYfs4OEjxLCIiU+E2rp12p9vuNaTUEiuOnf1RhHhzk/eY4FAS+3nVG583tVznz3TArWnIn3BWDm8\n",
    "dpkQG+76xD0gRmbmlJra8vwX3ITmSmFX/74q61qANzxbR9Wsfw7+61gcu/pM3PnxdS8msCiSz919\n",
    "v9Vcqw86MK571g4h+ISZ8T08FREoDkgtshD27z/s91JGnF1zww76bMqq09TUTP1+yCH5zz6Rl+xA\n",
    "8uNG8WIyJJYJMMX4K0RL3kqROjrL/K/Y8aOP3cMv7X3Q/m7W2idWnE09mPfLfmr5Cbuza+3fH77X\n",
    "fvixe9mdOsQ20cWOmUWnWc+GWsKSX3QnjRPnByXIlI6WV8RtLE5wPnbxEaNqzo6kBSaW0bMLwbmm\n",
    "G/P8djaHwuvTnllLDBMkeOeEmdDEhplEfvHhXexa6uw+lszvHR60YH9w5Kj9wP6/5+7geWzLigWP\n",
    "SldMyVGZYUTzwh5/3sJUIjEbF2rkqmazzKNWfj2DPgOTTKLWXSgPauu5yQJpCBkNqWq4UgBYpumI\n",
    "sqBKyHU0niDmLSvBrCCLHWghKlEvNgsxcjQbv3DiHj4hy7z/+BHecng3v/bYPvvYyoo5H7KRxHkL\n",
    "LLReEKeJnI0Pt8fsznwUzaWfu8tYKv3kvuMQlFZAyMyicaEZXaiT3Pz+FSdTEQsk6txh49ZN2zEC\n",
    "KcCMQkCiDu8HgxQKM2IQZgG6EPnpQ7v5s6Xj9rezJyxKph3ZSgvCx2atffhEZz/72G574+FHuKN7\n",
    "3H+fYGKR/THxX4/s5Y7lJQPIYeZZ/6pHC7JkUlEp/38IeLeABT56/Kj9ypE9RIxllBgnLIcJJg3o\n",
    "Cil6IGOaiCHThRn3hpa7jp7AWdaG6v31an3M7GwwXPnie+QIgmHW8fXf8GX8xjv/0OnHaOjiCr/0\n",
    "y7/Nu979VhT13FSoRkX6HGU1wGNjVvOc89/X/CFD7tcCtcBo9VzgU9+A/40EUA2kkOWC8863g4cf\n",
    "g+DDrWe5433v+Uv7qZ/+DgnBZwzDqVtCpCxKrrCpVZagCs8oRsfu+x7lN/7THzBbMSRMnHXJlrjo\n",
    "ou2jnF846bmGdVqdt/Xitk9+/B6ydEw0kKMXI7zk1ueW+65tJdXReeq585MvcVWsftyQ/Jyfv/fh\n",
    "Uik7tDk95zlXlkl2BQqvOfH6jHpDWoYIFOvmKK23JVR4d8gV+9+7I1V7xP2lv/++R4qjFhDtaCaR\n",
    "yy8/HzPrC7DG9/BkJeO5qtpf+sTxjoNHjxDSAmJeIVzHOta9XQ1u/drzFBeD4nvJPfVFbdDglbE+\n",
    "3SdiuXPqPTwSkzKEvnQcsaiRLsCyRH5PDvL+xx7nYg0siNp5dKht5nBQ9jOjMfHnlQ1LM6Y5ckI6\n",
    "JhYglRRJhiCLLMkyW7IxSw4Jb1Lj1Zdu5/ksikPIbSnmcaNTO/g9R+dYUBe87gKgMWG5CWhXBtRH\n",
    "ZaKNF7YoNBFmydVjZMqnRfmeY5/j+gPK1tjYCVH2dsssNxMIXkKVOq96zoVRapIgtIG26UAnTCx7\n",
    "vjQEcs5Igou1zDE270etk6e8ahawQuchglXqRYMDKy0qAqZMJOKNYC0qEcWpkM0yOQRCNjaHKbdM\n",
    "tkmljizxqaMKQEsioqVatgVb4M6VY/a+xx4jxkWWovhQQ53wOyf28/sn9vEiFuy2bedxxXQbljIv\n",
    "SVtlZplPLC/bihnvfPw+jpSWLivjDWed+cAaa33akN+kG9G8ws5mW+moKW2kdAT1IlFPEme8YVP5\n",
    "krSZRvfRFfie0CC2Qg6CafQ5vGKQA40ETIXjorzt8P081yIfa7ba5ZsnXBCmPN7NuG9pmY/nIzwo\n",
    "vkbZWphMITsxh4RlZtrykZnwguPHeGnaBrEhWKZ0+Hgvs3WEQtACwZHoAGbKJ3XF3n34YWZpgmjL\n",
    "JAidtiwS6USZhgW6nMlBkSg+7VIcUfjQicd4nV1a0F3tA4hxf379evYIiquyyd7/9PXfcKv89rv/\n",
    "2DTPaIMSNfLRv7mPOz9xn73wS6/y5kafEE2t4jSzMvC+9NziUfXY6NR+YjPrWWswJ+9Gght7Kzyx\n",
    "4gn7U4nDwvU4ICFz443X8XVffyvvfe+HkLgCM0GazO2/9xe85rVfbTdet8MnARXIxa9vSOSPF9lf\n",
    "nJLfkYiyQmBaLlvYtWsff/zHH7M/+/OPY6Els0ySrWALPeXgmPziZIa3ynyE5p7rrt37CBpom0jM\n",
    "Hdlm7LjuYgYCkoyNHJezaoBHl2hG6Vl0tGHfIwfdEcHNqhls2Trt94MUOkBEHZYNFCPWOvmKFgbV\n",
    "4DA9pcd5/MwHlCQUJKb2iDv72f27H/FiDXOClR0XXoRJLu1qJ1/nMxUfL+ZvvVlgz649LMYps+xE\n",
    "H51mrrvxSi8lqfAr+F4s/wkjAgxvrbACDxoP5mN0wTMiQUJphRmqnoNmogSfIRu9arwrqRRDiTkR\n",
    "Y+Ax8f75h7Qhygmvkg2ubHLGB7i3yqyhRKUryGyRlBKtCI2dYBImLKeME3RmvnfLxbwgbZVc0OYg\n",
    "DnFbCNQRf31aMYCqj/pbEWWrweEkpNaLwTpRUm5Y1hUmccqMGQmh6TISEm3oPKKaGXtSocKXGaSG\n",
    "oEIbhaSdQ+8MLXvagaUOMgRp6SzQxkjILU2MtFm5ZDL1UZdl8EHNTVcyBinEDHV++UxgosY+9baj\n",
    "nCIzNRrUSVbaGTJNnms2IWpLkMhlYj3xQ3ExHTpXhViGVEhA1AkwxIR9syU+G49hGlhIHbM88bGB\n",
    "KXLCjP8lyoePPoou7WdTO2FBsCZGjuVlVqK752aO7qUgXmwWhWwzNBrSdZhMfCqSLJHYzK1bzqML\n",
    "mWBGDEbG+Q9qhXgXjEZbNCRu3bRFXvb4ov0PW3bnKbfMIkw7h5rbAJZl0POxJeVIiMLdqnxGjyBH\n",
    "3OnuLBJiybkbdDLx+oK2Q1OD2TLLtpVpnGF0/ObyY1y7sM1evrBFiF6vY7hTrQXtFCtFf6X4ToJw\n",
    "aGnGLukgz7AwRUOC2TG/NlvgRPC4cWINuXTwTAgclZYHYsvHV47Yi6fneep1pLNX24azoGFHUKU5\n",
    "dyYWuOnma3jhLc8CAk2YknPGiPybn/h1PvWZR8xnmw5wdQiMqARD/3KYBW91IJbvfbNXCj5oMYR7\n",
    "Pv8QH/zgHXbXnXf7nLEy0uz0MjLO0mHaAC2vfvXLJaUZ2nmlnmmEYLztre9m167dTrGn2l//6taU\n",
    "agR927SYlMIPm4L4uMNdux7gfbf/lf32u/8QlYAx9cIAazFd5rlf4tDwejmD9QzCuj8zYf8jh5xY\n",
    "o/U5pAuTRUJekeHv4jmNfCtcWi+vOk2HDh/BI1IGpq1cqUXrhJw6pNp7Fy20eJ7SizBiWCZoaY0g\n",
    "Y1afZ01nDPc10I0ObGoP7NlHpY9LIXLpZRe44V2zlE8Nkvc2GqVMp+Oezz1iKzpz5IPIYhPYseOi\n",
    "URFPdZmsv4YKMZuZH09wRCAG9syOIVlLG0ggBq+gre1GKu6guOetRPOiv6QCNkULvAueG/WBehEL\n",
    "xQEq/Y1iQo6BqD5PFzZhE4OgBQKeEEyJOsM0cpts5pYtWwElSut9m6VPUygjCkt43++PEtHfzBa5\n",
    "VB2iLMO7iQaddTQSybklkopz6/2/yWmzSgVzQGkRi6gYGjJNBqOhk0QXIOSOECIyEUQbAsYJIo1m\n",
    "GjUWCLRZaSRwjUzIQUBlUNj1udTrF/BCL2UC/F131I6QsRiRnEnAzAShxSYNuXOGp4RiZVLT5TL1\n",
    "/S5W4Gp32rylywvmkIwFv7e/PXHMfv/xx1AajwK71L9LMTujlPMbJ6Z5woq0HA2ZAxxnlqQvqAp9\n",
    "ntOYlvZOEaHpvJguYmWU4yLbu44tyWg6T2UYENWrolGh6zqSiacZyh7++vMuJYTApuzPfGIRbOoB\n",
    "S1YmQUjWEGyZxoQu4G1k4Mnj0iOWJPtAISg9+cueMw8By8vE3LDZZogWNnITfu3QvdzRLVmPH4kh\n",
    "CoE8MFkFEM3FqBsffeJRWvNoVcmk2QqWFujCAlEzqXNWsBXrMG1po7FiRmJKaxNibLw6vJSprLYT\n",
    "Q/vi05YKFxcDZDMI3lP34z/+3Y5CtNDECQS4/6F93P7+/8Fn7t5nDhM77GCj5Pcw4qnMrYw4RGuK\n",
    "Bzze4Ix6ichH/+Zu+77X/Qd705t+k+/73l/k43fuMo+cy4y1U8hg2MAsEoIi1nDzzVfwta+8xQ1a\n",
    "Cn1T/Z137eKvPnS3GYm+AFIGzt3VvZi+Qg1o+V0xbrt27be3/sy77Xff998QaQpNnRJwisUYNnHL\n",
    "lz6bWuE9eFBr72c9o9znGsQ4fGQJVNDkRqiZCFdde8UQnY9y72fb8EIJ2up1lesXMbZt2+IFFBqI\n",
    "UchdcCrAbISgBDG6UqRjuHMz0BBGVx7WYHSueCVSR0auXo95A2z91337HqcrOdlsyjVXXX6SWoGn\n",
    "ti7BxNMNETBj7+79CI2PiMzG9gu29ftorihtZIxHXlJvpLXkSg8uraA4G5SI0Zq3n9R9SPm0u771\n",
    "/YqlMrjDkiMwvjqxN9gli9wXGLmnbiwjLOQEdNB1tFYGKUhGVOnShEt1hX9x6eV8SdgsaPA8WYgE\n",
    "nVBpifpUUR/tl/uyDgvCsxd8/nY2cyUvXrGcy9e590ACnXXOfKSRHLzv08zbW0JuHB1ACdZCjnQx\n",
    "0nUrZBUkKF0IbFJlljxj2RUXSENg56ZFIvRFSFaLqmrkC06ZWpC5jjJSLwJdRyp91E0MaEhk7cqM\n",
    "cieZkOzO0o6Jt8YI3k7lAV69kkJIqIaa7/P99gT3BJ+5LAEklmMV2kt1TwFQlqXFopDFIEwxovck\n",
    "W3KiDAPBe5G7ADG746NkTFsSisqMV063ctt0q+QUiy4DglfJE4yYkud+tWZTM9NgfA1TZhaxpJAn\n",
    "WPShC4mIMcNYBhbozKugY9mDkcYHU9CBNGiivIqC0vjwC0DixFMpUcnRHTcJiQeAXStH0K6iHaX9\n",
    "qg+6nIYzO2kzIsJndRmNRsreX6zRjXNqlW7iDoRqhyXX6anVMi1r5nzh6vA5hfhmPGN9/PWsaNqa\n",
    "M3QuzIl7nRGe85zL5B99423EmFH1ql8JE97//g/xB7/3V+y6dw+lJbs3MCerUu5ZsBSECdiEz+/a\n",
    "b//6Te+0f/m6n+PgweNIhFk+xs++9Z2Oz0lec5zV4gvROYwk1o9ARIXX/+A3y6QRlruOGBbI2b3z\n",
    "n//53+UDf3SH5TwUiFVmLhhym742MMCecN+9++32933IvuPb38Lf/d19aJtAIahvtTr4O5ty/kWb\n",
    "3eEIYaRIV0PLayPe8To+cP+DzJY7lNa9SALbL9hWLkyHDWnVATp34lWg9RxD65WIV6zGJBzYf8hZ\n",
    "lrRUVpKKU5LdMcmenwkCD+89wOv/1a/ac5/7/fbS237YHtx7ZGS+cHh2bq18Hd0T9f326P7DUPL3\n",
    "AePqa3YgQr/eJ6syP7msco6EUe7auG/3I1gMnnGJwo5LLnaFOmpDs1IAss4C9k5uLP2le7R1JEEN\n",
    "U+cP9nvE+2ALfB6scixbf+8ENxoRBWu8IMus/E32PxJvD9HgkdKiGVmWmYgR4oSkBrrCRANtiExz\n",
    "x1suuoHnsSAWgztGZpi50tPeCStr1cPrHod5gWbHV23xPHgIwUk7xA2B05Rqmc9bVrzMlTUtU3nK\n",
    "mMbCXEGbOue41qJjokPWKU0J2eic0AuTQMxGlo4ozsFNl7lq01Zv8Srv8pCTtcFRC+bnCEZSOGFS\n",
    "YNiakhI0W4nmnYM7C0wAkcCKZa5YPM/1UOE+94RvwqykUnGDEgnceeK4vefQISd1MO/pNg2FUhHE\n",
    "zNvlenIajwRNPPeadebIY0EOGglkjKk6qcgsCNIJIQoSfN7v+Rq4bfuFXjyqnuZw2LZlItEdfHOU\n",
    "QkIFoSO3bNom/3j7DrbbCmHWQFyisxaxQjySQWKpwpbGc6XFwdKSKfc3dOZGXX09oqnnXcGNLUCM\n",
    "SOvQdGctKSSOLM987KGW/Vafo7hOCERidmPcmrKiwc8sQytpxggRuq4lihdlTbvonM7JWbfEhE0t\n",
    "ZD1BpJ0rkDxHrUb0Crz/v+84CIHXve5bOH/rFqxQ25l5eP+e9/4pP/Nz77VPf3aveV9VojKQDMVK\n",
    "GdOZk5wHnzaCwa57dvP2f/d/2T97zU/xX//sL9CwGQ0eBQXZxEP3HyovSOwju3GryloZoMoonoQ3\n",
    "UW664Up+9M3/nIUQ6fIJYlDaPMMk8eaf/A1+67f/b/v85x9xwybdKIqs0Zci5ee7dj3IRz92r73p\n",
    "Db/OT//su1meOa2ahITIMqJOcZez89M2yUixkyDNaI39Glc/yHnDoOW8RaGHqZ9nlI++7por/PeM\n",
    "mbbOZGjDU5WxISs5ewI3XHuVQ6k2hdihdPzO+/6nmTikbAxOh4FDnFF56JFHedu//S/2da96i33o\n",
    "rz6JifLE8SV++qd+jYqWeAXjqgipXEMs03iOHj3BwRNLzmWsiUDk6mddgve3jvpzWevgnEzGDoyZ\n",
    "DakIvD9z78OPgs5K0ZRx7dUXgpT93xcRjpy3/pvcK41cjo3BwZzJuuzQZHCj7t52vQYnH6g5YHde\n",
    "fW/64I3CdV1ASClGOpTWFPo2NGNBxauCZcrMhM46z9XikeUmy/y77TfxpZsWxWLZ//2gCD9GJIwc\n",
    "izDnZGS0NJTC+QvCpeq0fJ1UiHBwplzd+Z9HjCziE4xEyMHTLRVnSiYFkvaBIw2NG4+uRWTFW2eI\n",
    "ZPGRm8kSM1rIPtShYYaG6hCF3oHs94RBLfaUMohgz8pybZftq3RDFFTbvoo5mkecHcokRHYQHaks\n",
    "TpOFklsWT0MEc8heJZNzZE+y8rduuBwhclpRC4m5CbRlI4kaK+apHyvOXpQ6scenGXnyXGiTD0do\n",
    "6EjW8PqtO7mt2SJWaGCRcm8k30dSi9HcuVUM7TwSfPHCorz2guvRaHQaSCFAWCEVI1cCZ2qrUqzX\n",
    "2+//WKLz6iZTUBDz9i5xfCC1mRCnjkIEY5Nmbtt2AV7fEkpQNiB8g/Pk99LgbWGNecLQUQSliXh/\n",
    "tjhXeYiRbB05gXWeFiDA1ZK4dfECMWlq5DWXhhzLWcIY66Dn8nLUvJslbr7pEnnHf/wBpnirQygD\n",
    "0tvc8cm7dvOab//3/MRPvtP+/tN77J5d9xev3FtHDPegYmz41Kfutw988C77ju/4OfuWb32r/c57\n",
    "/yezGSSZgLSkABpauq7jld/wgjXQlKyjiNe7jxoFVkPx0luvkq9+xZcQZFpoGR34NFF+6Zd/j//9\n",
    "B3/RPvyXu+zezz6KE7rVZXWDd/euh7n9fR+2H/mR37Tv/Z63cc/uBzxss+w9ctZx8XkX81WvvB6v\n",
    "mslkNabThuuvv/qkSMBYxoZhyC843PHZTz1oWOf3X3rVbr75KtDSznBOje68DIVdEUP46le+iEAi\n",
    "suJEDWr86Qc/zp2fuNce3vtYacPza39k3yH+/u/32Ou+91ft6/7hT9jvvv//QbUqeMM08fG/2dXT\n",
    "yY3pKEegwRDJZrhv10NeyNF1pNAg1nLDs3aWGCz1L8+TkfFaenTpjpBhBAk8fOBIyb9mLER2XnWZ\n",
    "Q1S96NxXMQ80TKTv9YzqUdBnZk/YocZIUrlyPeoqi+0vfYiAtyB5ZOGFbSo+1hPx4iiVTBajFS0c\n",
    "dG4qwT8bTJiJocmrgC0UZZknGIHNeYW3n38tX77gM3WDRTqqQ3oKVMWqAvSWGsSIErhaGvmnmy+g\n",
    "QVmg8JoTCKXSScv6VeL6pO7cY9qzQzlhvkdkYl5YGFkkW0ZR3rb9GrbrIq10RMuljUQw60gI0Rq2\n",
    "SuDKtElCnddbDUDpJces5gk8eRgCnSh7V5bokEIWAqHLWO5Kq5EQohvWSAMIQTts0uH1zbniaWV9\n",
    "Rn3tCkJLG9tiQwKteZFb8BItd7ZshX70YnmGtW6iKQ5VGEyPO3ySyaWWwqv9FSGzbJv59mY7OxdC\n",
    "WW8BFdoypN4PNwoOcBRBzE9pkiHDNY3w2nAeTTRaFcQWPLoODW2pS6h8wmJgIVKYSNHQ+rQuoSc6\n",
    "itoQCIV/2T84k8KrYB1XtcLPXXI9L24WRfq+28Dg5JbrB4rrhxK5ookoHWqCSEY7I7dGE3ztNAoz\n",
    "6wgJ2pKOyQlEI9+4Zfvo/c/lVVxfj5yVamdXqO71e6RX5jqV0VEvve0mefs7vsfe8sbfdkL0EGnS\n",
    "ZtrckmSBD/7JR/jTD9zBlsUttv3C87no4s3EGNHO2P/oER5/Yoknjh4vBnlGkAmIM6OkXBrpQmYh\n",
    "LfKTb/9uXvCcy92n62963Hp0qrzmkPc0AxHlxpuu5od+6Dt58IH/zL27H8JMyNaVPG3mwUcO8AP/\n",
    "6heYLKjtvPQKLr50E2bGsaMzHtn/GEeOHEfNWxAsboa8RAwLJW8dePELr+Pf/Mx3ytt+5nfMdIJZ\n",
    "pgmBi7dv7sFQf5BnZiArRF0//rG77oEUMO3I1jCJxq0vub64wvMe2bkzwuORheVxiXHlVdskTbFu\n",
    "5hW1pAW6vMI//863c+klF9m1V1+IhAl7HznAow8fYKVQCloQ2hVITYfoFM0egX3Zy55biEwokVY1\n",
    "wKNLsdavJUz4/D0HzDSCzGizsSkldu68EBEtcz/PoFXtJNJXp9exjkFYXprx+LHjCJkoDdmM62+8\n",
    "rFfQ83uzFhR4u9gA1npkFwh0oeFIgE2d/yx7YTi1xxUz52bGkCAkKnexOlVfGQkTbFgrC07835EL\n",
    "jR6IdV5JbZBmPoIvKgiZLIHnKrz+4mfx4oWtAl3hGQ400rijyYBorVknoVeAYs4EFRBCyHz5tq38\n",
    "ydIh7g9KY4V9CO9fTxJR7ZyAojgVvqWDR/TUBETGJww60f2yzIgKP7V4OVdNF7hC4ZBkRFLpu/Vp\n",
    "NDkkgnTsmCVKhy6hcIO7DzRC6MogdeoaWcP9ugTS0qlPL5YYvLbAEiqtT3qS5I6MCJdr5PnhPNEC\n",
    "uTYl+tCyHoaCeXFR6BYIcYXXL17Iu5ceR4XC+BRAPE0jIZbBBU6qk1TpzKugsxoxO9Wo4MQSyTIq\n",
    "DY0quTNShByMLkx5zSTxkq0XcOt0k3TMSDbBgvVcz2JSeJvLHlIp/ASlwFEjEjteFLZKu31m33pY\n",
    "ub09QogRTYLkFSaxoStpATEjRy8Wk1IklbopGjpHC6J/xgrPgkpbBivARDahssxXhfP5pgt2cus0\n",
    "SrAyq12gVtn7vqvX785twFsCX7Z4Ph9fPkRrHSFHYkplr2UsR688JxJUkNACE1I74zkWuXbrtpLy\n",
    "ycVhLK/xOrr1rBhfkco9XEgl8OpgEQFpMRb4x//wZbIw3WRveuOvsDwzQiyQgZ3wYiMSR5aUx5ce\n",
    "YveDCyX/NQPxCroQJhBOENnsRV3akEImWyRFeMVX3MYPveGbufmGy4uLmMtbUg3u2PCuNcCuF/Jc\n",
    "0Y6VwpBn3XSRvOPn/zfe/GPvtrvv/bwn3E1IEjFrMZSl5Zb7HnqIe+93erpcInhwj1niBOw4qVlg\n",
    "pT3K1k2b+cEf+ad85UueLddfdwUry0uAEpOgauy8cgfKzItebEyqvr7zMFfCHobHuutzD6PtMsQJ\n",
    "jXhO5qodl3gNrIaSk1x97HPQ64v0DpDPWU5cceVlfNM33sbtt99RhnB0SMpobjh04HEOPHoYlRVi\n",
    "jOTcECR54cXMaKaN54llhcWFCT/5r1/Li1787JJf9CKaIR8P9C1lxVFUZc/9DzuldIjEANsvuKhf\n",
    "ixCdzWzd3OuTEOf+9YKxe3fvAQJGIqunF669Yad4dDP0pc/1XVuNJKCYKGIZk/b4yoypOjxI9lxb\n",
    "K9bDnX1hh03oyFAMqpjQipKQYmRLLaglQnaF3UhAzeeZqk1K4Rs00Y3JkrUkSbx2eiEvOW+RF6QF\n",
    "MYNWE5MIxII+rFOpP78vhq8mXjzkTEYN18Qkb73oenvD/j0cSy3aGFETbXQGrVQHEyT8fSvnUPWi\n",
    "rWiQJbphsZZpTrQp8pbF7dx43lZ2xgW5edMm+/SJY2gSoGPGlAlg6pSNO6aLUKrJa680NdLzSfHF\n",
    "kQ1kmxHzBCIcnxmkSJN9mMJMtQxKcF47rwhWYogEMRaCzyU2K2BxkN4hKTRaEALRAiTly/Q8ecmF\n",
    "W7l6U7R37j/A7mZKxBnGuhB8TjFCU1JvbfReVEpdgIkPcGizT/wxvNgUoG0CUxWiZV6/eAHP3bKZ\n",
    "FzZTUe1obFKerUGWoQjNpKy/9Ovhaa9MFwPRFKTly5oLpbmgsU1PbOJdsz1E2wQh02lLipuhUzR0\n",
    "qGaCRJQWsyk5KsESRud968Uoq1g/Q1gJXNiu8N0XXM41mya8KMUywcIHhkTtysjDta+1D8bIEDI3\n",
    "LCxy2fHAI0RyFKzNdBMhtaBRmWpCNKHBaMyf54Ua+b7LruW5KYozyw0DNk4mZznyrYrcE/z+Si94\n",
    "AUGEV37NC+T/fM/b7Sff/Kvcd+8jrhSjY+YSFLMZkQnZWkQa1HxMU0oL3r9oi17pF6eodjRMueV5\n",
    "O/ixH/suXnDrteLjtHAdFcDoi+k5nWFxPVXHBSYq6YdDOw033ngF7/iF18o7f+vP7Y/+6G+9Ry2f\n",
    "cKaWEIkWCNZhEmg1E6KP3JLo+aiAohaZtcf42pe/mB9+0z+TG591lc9UJdBZhBDJnbdd3fZlL/AI\n",
    "H6gw6qn6cNfrJVNV9u/fSwxT90AlMZWISikeCXh+5zSOydmQIQdfDbAr5B/4/lfLX/73T9tjR45g\n",
    "UbFZIjWJzIzcCUiiy96W0VnrG3qiaBdYXBS++zXfzLd911fIzssv7rOA/ejJOamRZDFwohw49AgJ\n",
    "n3yS28B112/DK3FLOxPj2c1PTvrnQIHdgIMHjllSH3CQYsvmScOVV13iDhA1t1pGA5pHeH2Lb3EE\n",
    "TTsIgmjmwW4Zy5kQYk/234gbhcKeXvprM00EJXHZzNjXGBONrMTARBWLQurMIejohl+zz0bNZoSQ\n",
    "mXSBlZiQ3LEUZ7w0bOG1268lh8zz04JkWqLghrdEF2cEpBTjYsVR6qiwsV//zZNN8h+uuNbesfdz\n",
    "7JEJs26FLUxYLiQLbcg0GsjZ++5NFJIPeZcQaAqXeUyRW5jwLy68jFum5wn4OLivWNzJ7Suf6QvU\n",
    "prllOcJC12Cp4+XbLoFSbBbqPsaNTkWa3aEyokyw5OMXt4WJF2mFZd95MWGasTwjJifciOYD6oXA\n",
    "P1i8xIvRyoxl6hml7gkAd56DQCfLCBNevnCpnHfpot21POODT+xjX+ycFSt6SstEaSNMu8AMh9ND\n",
    "5/p4Zl45bsF7zHNu6WJiMSs3WOL7Lryal27aJrOSx+3nntfrKdzkfv/D731UQrUBExIgTHp494Vp\n",
    "m7x4u3HDiWC/eXA/e0OkC4LqsTKTvfHhMjrDZ7J3RIsos75lLojDAlEbViYzLlnp+KbF83n+eZdx\n",
    "W7Mo2kMqRitGgzsvooKGkgYq+k5KVCz4UJHnLW6TH9++YG869FksC91EmGqklQUam7FsXZlDnMk2\n",
    "YUde5o0X3cyLJknwydp42mogRlpXRzxV2rxBapKpLLwFvF/Wp4ZgruhceTiP6a5de7ln18P2q790\n",
    "Ow8+/DiIFGJ9b2aIYcIs+2zdkCv3sPSR9AXnb+VVr3oR3/YdX8NNN14mrpyaoqjqjbNO1HI6A7PO\n",
    "79VJtB2KFGIUPvY3n+bfvu2/2L33HUSDE/mbLiDxOMKkH5coTAidIg1MUuZFL76FN77p27jupkul\n",
    "UXcUNGdCjPzJH99hb3/7u+jayC23Xs8b3/ytcvOzrurXdkwQceoIeBgSD/Drv/7f7F3vfC9dnpIk\n",
    "8JrXvoIf+eFvk+I7jgrRTh9dP3WZz6UPLGaGdoG9B/bx/a/7Zduz90GwBtWy3kEHPvUSpxmJnZec\n",
    "z/f9y3/CV/6Dm+Xyyy/2FHohzxzay0bX3++FDjWf3GIGH/nre+y3/tPtGIHFTRPe8IbXccOzzxcI\n",
    "RcWcPt9+8vst0UDdhALHj3X8zJt/1Q4cyoTY8k3f/OX8k1d/hTj8uzotMioKca+2FFy5WTWBd+zf\n",
    "Yx/Ix/15d1692eEkAkG9XzKWaMsUNlnLr1xyM3ccO8yfHz/Kw6nziKxEdCdCx1Q999YpRI2sxExD\n",
    "QrVluyovb87nldsvZXPquJFFiaHpDZIX3dRCN8+pnW79Sqxa5pyCFOpHATqJzpGric93x+1vnniC\n",
    "P1o6wJ7YkqVhwRxu7rIRUmSmyuY2MovQNYHUKqIrfOVkkVdfcA3bJHLtNEnWwhNtsKtbsr947DD/\n",
    "vTvoOdKC3C2ExLdsvoRbzz+Pa2QirtpcUbu/YEM+o8fNHeIPOfORrrN3PXYfB7vsLSedJ8ln5vNg\n",
    "Iw2dzdiima/dciXPW9zMLZum4rUZfkzD9WYWdym9HjkNaWadlby3T3u6Y/kxe0SVvzz8GJ8KM5xh\n",
    "WJhA34pWyWs6dYSsk0yTPfWQEF4gkVedt4OLpsIL4zYJobaGlXdYala3XmZxnOYqeofpQ/UzJRoq\n",
    "CE8ZmiKBu2aHbfeK8uePH+SzsfO6hABWSGh8MJCgojAL/RhDgpBz5lab8pJt27lp2yZuiVuknxWD\n",
    "lkcSylrWWfA1gTPYLa+iH5zsyrn/odlR+5VH72dfaIAlkgldCDQWaa3DaHhl2sK3bL+Q502mEmio\n",
    "s+qH9Tm5nAXjeyqp5X7l4dl8r+pnPvMAAB/4wF/bRz5yH/sf3cfS8RVyNlIKmEYWF4Tzzp9w9TVX\n",
    "8fKvfAlf+sKdctONVzhJd+21U8FiLf8fXhBGC3EyWY+Scaww+nFrlQHKBm/0c599yP7w9/+Kv/7I\n",
    "Z3jksUeZLUc0r7AwSaQU2b59OzfeeAX/6JtexpVXbpMbb7jGj16cE0qZvPdCZlewONdzCFoMf4Et\n",
    "+7U7/ZrX/GrfbywCpfQ9WInoyqgtj+yKR1tSB+ci8h2OX8jzS7e8j1iLPPDwQe6+5xF713/+I/bs\n",
    "eZylpSXUZiw0Cyxs3sTV117EK77mFl71yhfKFTsvJij+HEYGy8pIQGc2C3PPqkrd7iJO3hFonUAF\n",
    "SmVuLuv11J2QcducR/kdWOz3vqsmv+6cfYDGuMhv7ljQQ52GGyeiK6Q3PHSP/W1YIZtPm9FiUDSU\n",
    "KC0bofRqzkhc3wnvverZYgKfbpdtue345PJx7j3+BPfHTNNGjoQOsjIFFiVxxcKUnQq3br+UbSg3\n",
    "N1vdpy6BBWXovPcE2/z+OYPlm1PO1CjBuw28P95K3rjDTNjTzuxgVv7++FE+deIYB3PLkZg5oc4y\n",
    "NCFwhcIFmwIvm17Idds2cyVTicELy5IV4ylShllECBmzgZN5JSiLmvySsqFRCTlCVC9oKgjf+H2p\n",
    "Fe0mTvAQKO+4AKW6mUg/OEJN8FS/kgs64dSzrmtUPLBcbbycHz6VwiuQUBGKzvlILEIX+RjH7eHl\n",
    "GZ87foT7dJljrXJUhC4rQZTUwJZOuSg1XBMbrt1yITvilOcvbpaGlk6VxMR7mrtMSCPH0MqFFZja\n",
    "De2q94yRT1I2g1oAZgRJvXFu6Wgs8bcrR6y1wK7ZEXYfO8LenDkogRUCWGZiiRRbLpSGy9OU5023\n",
    "cdXiAi+cbJbaaRLwFi4N5vA8XrAVyztUv5+7wHJtPd+Udl5gKAGzGXetHLNdy8ZHjj/OobZFQsdi\n",
    "mPC8hU3cdt5mXticL5K9j7/23p9OTw/1IOfM+JacT0nqV0VoxbhIMC8MqDlAjT1nrUfO3hNcC0e8\n",
    "WtFL4EVy8ZxieUk91+zVZaFiQU8pXzduvTEbtpCUfEyFEUSGF9a7RsqkGaRX8GaFNs9AKt0JEaTt\n",
    "jZ4XUlQlrb3x9Zxl7tfldDSHw3MsvZr9CD4vgHOoJtTcQL82T5c+8cmJotYRZFLyvkawiV9S7Lxe\n",
    "wARCV5yShEkuTk+DWeejHh1O6W9jyJHCvLZ3+Hi1jKPkur+QrsBEkdXUh09WBvTBr2fYRTPMJoiM\n",
    "OKi17JuT5N175TtiVapH/q4HPmUPBGMlwpZOmIVCZ2c1B+bFV66ujVtsyn/ccYN4hXukK2zBHYGY\n",
    "waL30bbFyYwihE4hRro+t+YXIOpsW/75DiEVCka/tsJ2fPr9ZfOGXKW08hRCFQ1K6JwLOadMUyuw\n",
    "yY6KRVfOIt7KNSi/UPiYPaWlhVNdjH59irmEEmFqUKQQWKh1Q5RkiSzDjF2Zu+ZBqTvRDqgGgsww\n",
    "maCtEpL0eoqSK+xRFQ8ssUKJKzKcw09e9kiBuTW3ns+ue7emF8rnnOiDsodD7xDQV/aaR9OIE1SI\n",
    "gWW6KEQios6CJyV9Y6XSPTMjmhMl+bj40Xu1JsSr+n78Tjg+EoQyQrWDMCmD8AyC0eF5ejPvDOjE\n",
    "cazKZNYzzylo8JbOkK3MbKZHxmux7LxUvTCKwitw0T9Pv26VGSAeqDi6jISMSURKh0BFV1t8HrOW\n",
    "dIGv8ZnNFTjr3M6D1DyFf+8Pwj2kWHB7qEYjDMQUokAZdF0XfRTRgvRFXZRKQ+vbZcrtPA1bMlYW\n",
    "g9KosPfgmVfYdI6Ny+pLVCHyYghLgmSgWKzfjwyv1XXS3phDg4R2dE0nv7GBDKI6CG68/boVf+08\n",
    "ypwXLWs6P33j3Ehww2sGlYIgdPjbW5wnCcVpiwUZ8IIzyH3PaMlm9JDuyddmreEFBkNWFKy/KE2B\n",
    "m+hh06cq4xdvPOCjAICOBJWvEvzNH9Nvzh0LGN4fRbJAUD7ZHrejahB8TN1KyZJG3NmLnhLDzIjB\n",
    "m+AuSRGfcWuu78TzkFGk6CY3Ccnq9RqWfI5skKqs3Gn2ObMewaUSo1XnExixaZ1+L/WfEP8rh9kd\n",
    "fg1ELIGYlai1OMcEciG2oOiFgAzPEKUR6Z2AYAMhRrU5AaeslODnHWhFA4G6T12CwzX+axlf8xBN\n",
    "DU6yYXifpzRSzGwZhSpl/cS7JmKsVBxDnFjPMZy8/Eyd5KcqeKdYjb1Z8UDHn22tHVDVfpQp0Dvf\n",
    "kYqglHVXvzaTwBB4uHbwYZXeF+zY3Kr3as0jDmt+JjLQ6zhhijdGQYDgAUsoBtNfZ6XvPi81KsM7\n",
    "U9GH6NFNDZjCcNK1rW2rkKVVz1DK34iAWEMlUVEzpFAmO3tJ0zvMQOkIsEI5WtJDZ1gnci7wxTkZ\n",
    "b2CzXHouh5FuA2yTqX2gdXCCX6Bj+77RCqtMiexMlTGb1KnOfaZyJpBB/Vp7at3Y1oi5wGa0c/c5\n",
    "P49Whr8vL1GPDlM3oKyrjE93bRXaXMt6Ffuc4mrSkXGl9LmMggfHRft1Ak8vlBrQ/lpdBgVe+0VX\n",
    "H68+gzM9/9rjBCoxyhBxnj0ZM2T1TpoMpCcuY8hu9VeoVsMAomClX/NIowVi9uddDZfgEapZZQJy\n",
    "UPCKtKmczcBt+NzeRYe93a9RKVgJFcUS8XYldQfJSQgK4vNUts6q6Gj8PD16t95gWC0ULL9zxGt4\n",
    "Xu4Mx+LMxgLxljsePfMxdWesUZ55d4TR6/K561pv/62W1YQ1NS3WN4rJfF99NY7rHX/NuWp0Vp59\n",
    "vU/RSuqTaaWj8iRIYTKr+rEyu0nZF1UHddVgFAU0jgbrnqr/f6oywuT6+46S3OkUt2kdRsjidJtq\n",
    "AyKlbtjGDIJ+jCFNMNYnvm5r9diZ6vX6PHpyn+JwKNafz0RBdc0+ebJyzo3vagXjsAxltmqNamok\n",
    "6UO8K9H/kB9MZQxcIaTue1kHD229F+NsGJLxcXvyf/NI0bmcxw99UKJCA4TCcDR4XFXR+3CIVLwk\n",
    "7Y3hPENS7qM0tPb6DZt5vftdbUjrJh2cm3otw3CB1X93LmQgYRnOx7hFTRu8HSgwdgyGv5W56xva\n",
    "qgYPv3725OcvcWQoOadQ0Ysh7z0+/9Ndi2ps548zb+TX/m78ld4o+H8K2YRmljN0MXlBn9G3fIRa\n",
    "ZlFaj1Zi4Q824/KFBcdw+uCovjuuVEK/HoNBNlEajFY8F2y4wTKBnLO/h9m8D1af/JqNP12fcW8w\n",
    "qKkpz88GIs7vpR49MmZ76/p1NctIaP13xahJDP3xq9a0olCFsgcKRaHDtoMzvZ6ztK5xxC3J/G9G\n",
    "UaRWx7cc28Kqd3V+f4/XR8t15Loe9TMhFR0RSDlA8L1cSBdRdQ5xkTDSmwO9ahLvP7Zyz317jI9v\n",
    "KpHu0yPjqYY7mF+/mRVjVtC/WPq4I0wsYTF5AR6x3wur12i1nhsbzLXI5en35aAb5hGbRETMJ4N5\n",
    "hXU5dgx9a5ZVB6+s65m+AV/AyNdf7JylTDBKhe95qHwdejGdAMCMXrmOlefqwQXzL+HTl9XHqg+7\n",
    "wkreXlShnASkwRPtlbk/mBBSr8zGnvlcQY6NX7pqCEZQETUfFea8/9UybETpj1MNyTjyHZR7jcrP\n",
    "rQE2q8ZyVfFYYUJzR8ahLefZHtZvXIi0+vuqTIYcNye9/mqg5w21zDkmft56/qfvvK1WrPX5e747\n",
    "rPrdCBJb5eG7KJQI1CTw6MoJLGdmjVc2e5QitDV6i6AhklToxI3IzslmlBmhQGiqXrDWX1dBnqqD\n",
    "kK0W/QmNJSc30BKlCYWmU7BYqB3Dydf/pGu0zs/q8/EZxk7jF0LwXL0kKsNSdSb933jvUIrodM0x\n",
    "V6M7QYKzaFr24iLKDFYpXFH9aNOxQzhMXati4rCpSUIsj96leUdx2Beja1hlYOr3dX28B9sdryhe\n",
    "iS/QF131UHwMZZBHMXjiujZGAXIfPKiGngtATUlaaTHNiS76e6q4NHPX9GTEoI+mTRyFEREfeFHS\n",
    "Xaa+d0xH+q3WvIzQvPHUuAHhi72+G/MbjNfzTByH+tnVQZ2aV90bLZky8EIjnbYesuNr7c/I1/xM\n",
    "UYJzmPN1mfcWAzEOPashjFuCqvJxAzz0tK7dlPNQ89PLz538etf+7OSw7KjadhVkOjYYw2f996u9\n",
    "rbEMf1d6/iyOWrbWV1rrQcerYe/5QoAaPZxb6Hk4/rhobYDVh/OW3NI4Tzp3TUPefPXane76VztP\n",
    "8zIycOu1Kj2te593Ej2L1TBUYVc469R7q99Poph17JodI5oQVbDQ4CzGmak0tGJesBQaz9/mGT5e\n",
    "b4kg27HgM44IeYTmjFudYrna1D8jEyeGqEBM6GHQocArWMl/PYX9YyXKEmQ+d0fuxwciDSJemOTv\n",
    "RBq9CPXZVUeTXrf4Mx+ioTlHHutzonUNvNgxDsVuBOb1zPwzoXzOCG6Aif3fjfe4r/VQXzGW1QZi\n",
    "zkHAJ00Fk76f22BuqlqfmqjnQ0a5SenXRLUb7f/gufn+1pQUYjHuNff8NB1Q6J9DRWj6Yj1xQLcv\n",
    "NgyFdU2YW7thfca1FB7Nr7YNp9fVa2UeFZuPfMUKQCQNURRU0JhJ5j3ltWSv5xqv19/btZPLOY98\n",
    "oUaO3qozz9ZEUUIwRGRrld96cOO5gkdXy+oXYv3z1gc29rZrLmIMu9fPnn7ZVyttEwbDe9rId623\n",
    "un7ku3aNz7bhHeew+3Yt1r7TYwdl7Uu2/su19u9PHfmOv64v42rjsy8Vhl6d4x3DvGtzzqUy07LD\n",
    "gBZQSRxYmVENdjQI2X83Q53jWQIxZzfEQbgI4blhu6iq8+WW9pdBEcfR9c2v79g/rrD1uGCl7skK\n",
    "jT75NSnPRegPOt63vUHvR1+WdZHVe7ljTmS890Y537EjX40UQE/+Uvah1ePC/HNZ+7PabrO67WZ8\n",
    "3oqWja9n/PVUOd9QPG53cMY+x4BEwOj5AN4ZIlSY2Q1vHeBRnbnx+UJ/rqeT4x1LjXzrNdYe3Rqh\n",
    "u9NT12rQD1VPjZHTsaz3Pq8H25+JnOx5UK+9HErLfOVQ2+r6FKNf35MxvGvv6ByJb4Ah2hnDrPNQ\n",
    "21gx6ZpjwDyU8MWQtecd8rWrlep8xd2w1Kd2HNYv+Bkrv5M92JNtyLGM888n+/uzK8OzrDSkT0ZO\n",
    "di/rpQZO9rszl3NneGF8XeudY51CK4acr0jsjV4C9mlLINFqZiV0xXiFno9ZS8tQVSwXqBW+XR91\n",
    "F0abaDWaUK9VqHnX8jmg9M3N31cxvOEpVFyd7FnN/bw6huNhKb1hHK/XGMhb68Cvd46a3/QIrbQi\n",
    "Vbsw9yenemYjBbz65zK/zvXr6nf1VJEvFGjZKEp/dKwg8w65DcZiOK/X09S6mbGO6W3F+DpLQd4Z\n",
    "Jy9PIdUZqPupGmIt1JDzFwGUPmzPra6fTlwv+Brngev/z0RWG+s1X+t2dx+2/5s1aQcbvRerHMiT\n",
    "yRcs8oUnE32Mv87LF8vonlxqJZ5/P5YzUiyj45wbOdlw+S+kzEd550LOznHP1EE61zKu4JVeBw5R\n",
    "inBQlBbxcXjSlWlFQluL6MxbUDKZiHBZmsxNd8phYN861dqFUYjrunEd5SbznzvbItR1MNb28I+j\n",
    "37E8ifep2oCx8Ss/P1U0+mSOPT7+yRG0k0tFBtYYB3ztx3nV/i76+1p9Dav0lM1fJ2XP2Zpe2aco\n",
    "Mv+tiDt/YbBSc0iKAN5+tP4arRd8nc55Oemlne5zMi6qgqGyGs7EuTuVnPOc78ku4plnRJ8pcraN\n",
    "8HzuZEPOTL64+3OVcixRnIogZD7TtXZYIkkyrZZJNZ06+UJpYpXotC6xFLNclhaIqljyQsbSmdsb\n",
    "4DOVXkF+EdbnXDita5CkVd+P1+cp3fNpUKqzJauCrlOe+6R/vOa/X5DYbBXKcZKff9FkDC0P/z97\n",
    "R96QDdmQZ6Q4b66/ptG8CLTrlC54b+QEIVkkCAR1ir1M7icShVKgc8V0i08/ohhzOzV0vyEbsiHn\n",
    "VjaM74ZsyDNYap63igZ4aLZEisP4wTYXNgkLSOhINGAON58gYwhXNlOf7GIGEpmFeUjxXLWZbciG\n",
    "bMj6smF8N2RDnslSDK9SxqBZ5KHZCULXFS7l0tiiPgUqG2gZMNGZsohzhm+KAzGDasfEwtCesqpN\n",
    "a8MAb8iGnHvZML4bsiHPYKmUfKF0XqoYD2rrTEFByDGSQ217CKh0BJkCM5J5hfRiNr6k2VxAZkVC\n",
    "AtGhPWWV4X1m5No2ZEP+/y0bxndDNuQZLJXZyHtR3RDvX1lGoqARJjOjEegMoijJGlRnKD7Xtg2B\n",
    "y7vKilcGZBoOUW9EvhuyIV802TC+G7Ihz2QpbTwWBMSj3ye6zociZEVjQtW5cSWXfsfgUHOTvVb3\n",
    "0mZKFnMGpspbLQwtRKsi3o3Id0M25NzLhvHdkA15Jsuo11QUPtU+bnsnVph3KqF8oZ0MblGDzggE\n",
    "ZsXQXhRTP1B8blziOj2oG7IhG/KFkQ3juyEb8gwXwflwc4AuJ6JEn9mb8SH3KZEjztAkQldYE6IE\n",
    "pmpcOV3s6Qm9r1WdCnHD3m7IhnzRZMP4bsiGPIPFpPMoNxgBONAuo9k7iyQa0RTtMiqQY2HpswVA\n",
    "SEFYtpadi5tpxSfE1PItmyOY3JAN2ZAvtGwY3w3ZkGewOBMzPlRDlUPtMhqVLF6IlVCiRKIKQX34\n",
    "QgpKlgCaiQIXhEWffjSm8DtLzIEbsiEb8tRkw/huyIY8g2Wu7lgCW6TxqTNqCBM6U7okkCFKQqNi\n",
    "FpnGQDZ4tk5pgxIs9BN8/FhgJxnisSEbsiHnXmSjrWBDNuT/A2KAdHz2xJL99dIT3HX0MEtNIHap\n",
    "VEErYh1Coo0zpjTcMF3kq7ZexJdOt4hhtGJMRmMpTzYXekM2ZEPOvWwY3w3ZkGeyWAaJZCCYIZIx\n",
    "ElLmuHry18oUnpFhpcy+lQ4DcuGA9uHfVgz2hmzIhnyx5P8F6GgQr5lDfQkAAAAASUVORK5CYII=\"\n",
    "style=\"width: 20%; display: block; margin-left: 0px; margin-right: auto;\">"
   ]
  },
  {
   "cell_type": "code",
   "execution_count": null,
   "metadata": {},
   "outputs": [],
   "source": [
    "%load_ext autoreload\n",
    "%autoreload 2"
   ]
  },
  {
   "attachments": {},
   "cell_type": "markdown",
   "metadata": {},
   "source": [
    "<h1 style=\"text-align:center;font-size:02.2vw;\">SEN12-FLOOD dataset</h1>"
   ]
  },
  {
   "attachments": {},
   "cell_type": "markdown",
   "metadata": {},
   "source": [
    "In this use case we are going to develop a Data Fusion dataset for flood detection consisting of S1-S2-DEM triplets with manually labelled water masks for flooding detection. This dataset will be built upon the already existing `SEN12-FLOOD` dataset, which will be improved with DEM data and additional samples for recent floods and new geographical areas (mainly Europe and Asia)."
   ]
  },
  {
   "attachments": {},
   "cell_type": "markdown",
   "metadata": {},
   "source": [
    "# Dataset"
   ]
  },
  {
   "attachments": {},
   "cell_type": "markdown",
   "metadata": {},
   "source": [
    "`SEN12-FLOOD` is a set of multimodal (SAR + multispectral) satellite image time-series for flood\n",
    "classification.\n",
    "The observed areas correspond to 337 locations (cities and their surroundings ) in West and SouthEast Africa, Middle-East, and Australia where a flood event occurred during the considered period.\n",
    "The period of acquisition goes from December 2018 to May 2019.\n",
    "\n",
    "For each location, the following data are provided:\n",
    "- Time series of Sentinel-2 multispectral images. These images are composed of 12 bands,\n",
    "at 10m ground-sampling distance and are provided with Level 2A atmospheric correction.\n",
    "- Time series of Sentinel-1 Synthetic Aperture Radar (SAR) images. The images are provided\n",
    "with radiometric calibration and range doppler terrain correction based on the SRTM digital\n",
    "elevation model. For one acquisition, two raster images are available corresponding to the\n",
    "polarimetry channels VV and VH.\n",
    "- Time series of binary labels for each image / date: flood or no flood.\n",
    "The original dataset was split into 262 sequences for the train and 68 sequences for the test.\n",
    "\n",
    "[Source](https://radiantearth.blob.core.windows.net/mlhub/sen12floods/documentation.pdf)"
   ]
  },
  {
   "attachments": {},
   "cell_type": "markdown",
   "metadata": {},
   "source": [
    "# Imports"
   ]
  },
  {
   "cell_type": "code",
   "execution_count": null,
   "metadata": {},
   "outputs": [],
   "source": [
    "import pandas as pd\n",
    "import geopandas as gpd\n",
    "\n",
    "from matplotlib import pyplot as plt\n",
    "from shapely.geometry import box\n",
    "\n",
    "from os.path import join\n",
    "from os import getenv\n",
    "\n",
    "%load_ext dotenv\n",
    "%dotenv"
   ]
  },
  {
   "attachments": {},
   "cell_type": "markdown",
   "metadata": {},
   "source": [
    "# Set up Radiant MLHub Python Client"
   ]
  },
  {
   "attachments": {},
   "cell_type": "markdown",
   "metadata": {},
   "source": [
    "\n",
    "The [Radiant MLHub Python Client](https://radiant-mlhub.readthedocs.io/en/latest/) can be used to search datasets on Radiant MLHub and easily download them to your local environment. In this use case, we will use it to download the `sen12floods` dataset."
   ]
  },
  {
   "attachments": {},
   "cell_type": "markdown",
   "metadata": {},
   "source": [
    "### Python Client Quick-Start guide\n",
    "1. Get a Radiant MLHub API Key from your [Settings](https://mlhub.earth/profile) page.\n",
    "2. Install and configure the MLHub Python Client from the command line:\n",
    "\n",
    "```\n",
    "$ mlhub configure\n",
    "API Key: Enter your API key here...\n",
    "Wrote profile to /Users/youruser/.mlhub/profiles\n",
    "```"
   ]
  },
  {
   "attachments": {},
   "cell_type": "markdown",
   "metadata": {},
   "source": [
    "# Download the dataset"
   ]
  },
  {
   "attachments": {},
   "cell_type": "markdown",
   "metadata": {},
   "source": [
    "As said, the dataset can be easily downlaoded directly from Radiant MLHub with few code lines."
   ]
  },
  {
   "cell_type": "code",
   "execution_count": null,
   "metadata": {},
   "outputs": [],
   "source": [
    "from radiant_mlhub import Dataset\n",
    "\n",
    "ds = Dataset.fetch('sen12floods')\n",
    "\n",
    "# By default, the dataset will be downloaded as 'sen12floods.tar.gz' and extracted in the 'sen12floods' directory \n",
    "# If desired, you can pass a custom output directory as output_dir to the ds.download function\n",
    "%time ds.download()\n",
    "\n",
    "# Remove the .tar file\n",
    "!rm sen12floods.tar.gz"
   ]
  },
  {
   "attachments": {},
   "cell_type": "markdown",
   "metadata": {},
   "source": [
    "# Explore the dataset"
   ]
  },
  {
   "attachments": {},
   "cell_type": "markdown",
   "metadata": {},
   "source": [
    "In order to enrich the dataset with new sequences and images, for both existing and new locations and from 2019 to 2022, it is useful to know the number of images per location and per Sentinel mission. So, we have to explore the dataset a bit."
   ]
  },
  {
   "attachments": {},
   "cell_type": "markdown",
   "metadata": {},
   "source": [
    "### Get the number of images by existing location"
   ]
  },
  {
   "attachments": {},
   "cell_type": "markdown",
   "metadata": {},
   "source": [
    "Let's dive into the dataset. First of all, we need to know the amount of images already available for each existing location. We will use this information later.\n",
    "\n",
    "To do so we are going to use [PySTAC](https://pystac.readthedocs.io/en/stable/), a library for working with [SpatioTemporal Asset Catalogs (STAC)](https://stacspec.org/en) in Python 3, and the eotdl library."
   ]
  },
  {
   "cell_type": "code",
   "execution_count": null,
   "metadata": {},
   "outputs": [],
   "source": [
    "from eotdl import stac_items_to_gdf, get_images_by_location"
   ]
  },
  {
   "cell_type": "code",
   "execution_count": null,
   "metadata": {},
   "outputs": [],
   "source": [
    "from pystac import Catalog\n",
    "\n",
    "ROOT = getenv('ROOT_WORK')\n",
    "# ROOT = 'sen12floods'   # Set here the local path to the sen12floods directory from the downloaded dataset"
   ]
  },
  {
   "cell_type": "code",
   "execution_count": null,
   "metadata": {},
   "outputs": [],
   "source": [
    "root_catalog = Catalog.from_file(join(ROOT, 'catalog.json'))"
   ]
  },
  {
   "attachments": {},
   "cell_type": "markdown",
   "metadata": {},
   "source": [
    "Sentinel-1"
   ]
  },
  {
   "cell_type": "code",
   "execution_count": null,
   "metadata": {},
   "outputs": [],
   "source": [
    "s1_source_pystac = root_catalog.get_child('sen12floods_s1_source')   # Access the sen12floods_s1_source pystac.Collection\n",
    "s1_items = s1_source_pystac.get_all_items()   # Get a pystac.ItemCollection from the Collection\n",
    "s1_gdf = stac_items_to_gdf(s1_items)   # Convert the ItemCollection into a GeoDataFrame\n",
    "s1_gdf"
   ]
  },
  {
   "cell_type": "code",
   "execution_count": null,
   "metadata": {},
   "outputs": [],
   "source": [
    "s1_images = get_images_by_location(s1_gdf)   # Count and get the date of all the images available for a unique location\n",
    "s1_images.head()"
   ]
  },
  {
   "attachments": {},
   "cell_type": "markdown",
   "metadata": {},
   "source": [
    "Sentinel-2"
   ]
  },
  {
   "cell_type": "code",
   "execution_count": null,
   "metadata": {},
   "outputs": [],
   "source": [
    "s2_source_pystac = root_catalog.get_child('sen12floods_s2_source')\n",
    "s2_items = s2_source_pystac.get_all_items()\n",
    "s2_gdf = stac_items_to_gdf(s2_items)\n",
    "s2_gdf"
   ]
  },
  {
   "cell_type": "code",
   "execution_count": null,
   "metadata": {},
   "outputs": [],
   "source": [
    "s2_images = get_images_by_location(s2_gdf)\n",
    "s2_images.head()"
   ]
  },
  {
   "cell_type": "code",
   "execution_count": null,
   "metadata": {},
   "outputs": [],
   "source": [
    "print(f'Number of unique locations in Sentinel1 (SAR) data : {s1_gdf.location_id.nunique()}')\n",
    "print(f'Number of images in Sentinel1 (SAR) : {len(s1_gdf.index)}')\n",
    "print(f'Average images in Sentinel1 (SAR) by unique location: {round(len(s1_gdf.index)/s1_gdf.location_id.nunique(), 2)}')\n",
    "print('')\n",
    "print(f'Number of unique locations in Sentinel2 (optical) data : {s2_gdf.location_id.nunique()}')\n",
    "print(f'Number of images in Sentinel2 (optical) : {len(s2_gdf.index)}')\n",
    "print(f'Average images in Sentinel2 (optical) by unique location: {round(len(s2_gdf.index)/s2_gdf.location_id.nunique(), 2)}')\n",
    "\n",
    "s1_gdf.shape,s2_gdf.shape"
   ]
  },
  {
   "attachments": {},
   "cell_type": "markdown",
   "metadata": {},
   "source": [
    "# Get new locations"
   ]
  },
  {
   "attachments": {},
   "cell_type": "markdown",
   "metadata": {},
   "source": [
    "If we wan to to improve the existing dataset with additional samples for new locations, we need firstly to know where and when flooding events have occured in order to know which imagery data we need to download. To do so, we are going to use the [Global Archive of large floods](https://floodobservatory.colorado.edu/Archives/index.html) from the [Darmouth flood overvatory](https://floodobservatory.colorado.edu/), which has data from 1985 to 2021. "
   ]
  },
  {
   "attachments": {},
   "cell_type": "markdown",
   "metadata": {},
   "source": [
    "## Clean the archive"
   ]
  },
  {
   "cell_type": "code",
   "execution_count": null,
   "metadata": {},
   "outputs": [],
   "source": [
    "archive_url = 'https://floodobservatory.colorado.edu/temp/FloodArchive.txt'\n",
    "\n",
    "flood_archive_df = pd.read_csv(archive_url, sep='\\t', encoding = \"ISO-8859-1\")\n",
    "flood_archive_df.head()"
   ]
  },
  {
   "attachments": {},
   "cell_type": "markdown",
   "metadata": {},
   "source": [
    "As said, the dataset contains data from 1985 to 2021, so let's clean it to the desired time lapse, which is 2018-2022. Firstly, but, we need to transform the `Began` and `Ended` columns, as them format is not the desired."
   ]
  },
  {
   "cell_type": "code",
   "execution_count": null,
   "metadata": {},
   "outputs": [],
   "source": [
    "from datetime import datetime\n",
    "\n",
    "flood_archive_df['Began'] = flood_archive_df['Began'].apply(lambda x: datetime.strptime(str(x), '%Y%m%d'))\n",
    "flood_archive_df['Ended'] = flood_archive_df['Ended'].apply(lambda x: datetime.strptime(str(x), '%Y%m%d'))\n",
    "\n",
    "flood_archive_df = flood_archive_df[(flood_archive_df['Began'] >= '2018-01-01') & (flood_archive_df['Began'] <= '2021-12-31')]"
   ]
  },
  {
   "attachments": {},
   "cell_type": "markdown",
   "metadata": {},
   "source": [
    "Now we have what we want."
   ]
  },
  {
   "cell_type": "code",
   "execution_count": null,
   "metadata": {},
   "outputs": [],
   "source": [
    "flood_archive_df"
   ]
  },
  {
   "attachments": {},
   "cell_type": "markdown",
   "metadata": {},
   "source": [
    "## Create the spatial dataset"
   ]
  },
  {
   "attachments": {},
   "cell_type": "markdown",
   "metadata": {},
   "source": [
    "It's time to convert the DataFrame into a GeoDataFrame with coordinates."
   ]
  },
  {
   "cell_type": "code",
   "execution_count": null,
   "metadata": {},
   "outputs": [],
   "source": [
    "_flood_archive_gdf = gpd.GeoDataFrame(\n",
    "    flood_archive_df, geometry=gpd.points_from_xy(flood_archive_df.long, flood_archive_df.lat))\n",
    "\n",
    "_flood_archive_gdf = _flood_archive_gdf.set_crs(4326)"
   ]
  },
  {
   "attachments": {},
   "cell_type": "markdown",
   "metadata": {},
   "source": [
    "Now, we must filter the locations by continent, as we only want Europe and Asia for new locations. Eventhough, we are going to maintain events for Africa and Australia, as we also want to know if there have been new flooding events in the locations already existing in the dataset."
   ]
  },
  {
   "cell_type": "code",
   "execution_count": null,
   "metadata": {},
   "outputs": [],
   "source": [
    "world = gpd.read_file(gpd.datasets.get_path('naturalearth_lowres'))\n",
    "\n",
    "aoi = world[(world.continent.isin(['Europe', 'Asia', 'Africa'])) | (world.name == 'Australia')]\n",
    "\n",
    "flood_archive_gdf = gpd.clip(_flood_archive_gdf, aoi)\n",
    "\n",
    "print(f'The dataset contains {len(flood_archive_gdf.index)} flooding events along Europe, Asia, Africa and Australia.')"
   ]
  },
  {
   "attachments": {},
   "cell_type": "markdown",
   "metadata": {},
   "source": [
    "## Calculate the bounding box for new locations"
   ]
  },
  {
   "attachments": {},
   "cell_type": "markdown",
   "metadata": {},
   "source": [
    "Now that we have the flooding events archive as a GeoDataFrame, we need to generate the bounding box of each location in order to get the corresponding imagery data. To accomplish that, and knowing that the size of the existing bounding boxes vary between locations, we are going to do the following:\n",
    "1. Calculate the mean size of the bounding boxes.\n",
    "2. Generate the bounding box of every new location with the obtained mean size.\n",
    "\n",
    "Firstly, in order to calculate the mean size of the bounding boxes we are going to calculate the average difference between maximum and minimum coordinates, so we will need the bounding box of every existing location.\n",
    "\n",
    "Let's get it."
   ]
  },
  {
   "cell_type": "code",
   "execution_count": null,
   "metadata": {},
   "outputs": [],
   "source": [
    "# As the bounding boxes between Sentinel-1 and Sentinel-2 are equal,\n",
    "# we just need them from one dataset and not from both\n",
    "s1_gdf_unique = s1_gdf.drop_duplicates(subset='location_id')\n",
    "\n",
    "# Calculate a temporary column called bounding_box to get the bounding box as a list,\n",
    "# and not as a shapely.geometry object. This way is easier to digest.\n",
    "s1_gdf_unique['bounding_box'] = s1_gdf_unique.apply (lambda row: row.geometry.bounds, axis=1)\n",
    "\n",
    "bbox_by_existing_location = s1_gdf_unique.set_index('location_id').to_dict()['bounding_box']\n",
    "\n",
    "del s1_gdf_unique\n"
   ]
  },
  {
   "cell_type": "code",
   "execution_count": null,
   "metadata": {},
   "outputs": [],
   "source": [
    "print(bbox_by_existing_location)"
   ]
  },
  {
   "attachments": {},
   "cell_type": "markdown",
   "metadata": {},
   "source": [
    "Now we are able to calculate the mean difference between the maximum and minimum coordinates of the existing bounding boxes."
   ]
  },
  {
   "cell_type": "code",
   "execution_count": null,
   "metadata": {},
   "outputs": [],
   "source": [
    "from eotdl import calculate_average_coordinates_distance\n",
    "\n",
    "mean_long_diff, mean_lat_diff = calculate_average_coordinates_distance(bbox_by_existing_location)\n",
    "\n",
    "print(f'The average Longitude difference is : {mean_long_diff}')\n",
    "print(f'The average Latitude difference is : {mean_lat_diff}')"
   ]
  },
  {
   "attachments": {},
   "cell_type": "markdown",
   "metadata": {},
   "source": [
    "## Search new flooding events in existing locations"
   ]
  },
  {
   "attachments": {},
   "cell_type": "markdown",
   "metadata": {},
   "source": [
    "As said, another point of this use case is to improve the existing dataset with samples of new flooding events that have occured in the existing locations, between 2019 and 2022. Nevertheless, before generating the bounding boxes we need to make sure that we need all the new locations in the GeoDataFrame or we can drop some of them, if they are not needed. To do so, we need to check if any point in the new locations GeoDataFrame intersects with any existing bounding box, and that's why we keeped locations from Africa and Australia. If a point does not match with any existing location, we can drop it from the dataframe, as it is not necessary to maintain. \n",
    "\n",
    "First of all, we need to get the events located in Africa and Australia."
   ]
  },
  {
   "cell_type": "code",
   "execution_count": null,
   "metadata": {},
   "outputs": [],
   "source": [
    "world = gpd.read_file(gpd.datasets.get_path('naturalearth_lowres'))\n",
    "aoi = world[(world.continent == 'Africa') | (world.name == 'Australia')]\n",
    "\n",
    "africa_australia_events = gpd.clip(flood_archive_gdf, aoi)"
   ]
  },
  {
   "attachments": {},
   "cell_type": "markdown",
   "metadata": {},
   "source": [
    "Now we can check if there have been any new flooding event in any of the existing location."
   ]
  },
  {
   "cell_type": "code",
   "execution_count": null,
   "metadata": {},
   "outputs": [],
   "source": [
    "import warnings\n",
    "\n",
    "from shapely.geometry import Polygon\n",
    "\n",
    "with warnings.catch_warnings():\n",
    "    warnings.simplefilter('ignore')\n",
    "\n",
    "    intersections = list()\n",
    "    for id, bbox in bbox_by_existing_location.items():\n",
    "        poly = gpd.GeoSeries(Polygon(box(*bbox))).set_crs(4326)\n",
    "        intersection = africa_australia_events.intersects(poly)\n",
    "        _gdf = africa_australia_events[intersection]\n",
    "        n_intersections = len(_gdf.index)\n",
    "        if n_intersections != 0:\n",
    "            intersections.append(id)\n",
    "\n",
    "print(f'There are a total number of {len(intersections)} new flooding events in the existing locations')"
   ]
  },
  {
   "attachments": {},
   "cell_type": "markdown",
   "metadata": {},
   "source": [
    "Regarding to the results of the analysis, and according to the used archive, there have not been new flooding events in the existing locations. In this way, having contrasted the existing data with the data of new events we find that since there have been no new events in the locations of the dataset, it is not necessary to add more samples for said locations. So, we can delete the flooding events in Africa and Australia from the GeoDataFrame."
   ]
  },
  {
   "cell_type": "code",
   "execution_count": null,
   "metadata": {},
   "outputs": [],
   "source": [
    "aoi = world[(world.continent.isin(['Europe', 'Asia']))]\n",
    "\n",
    "flood_archive_gdf = gpd.clip(flood_archive_gdf, aoi)"
   ]
  },
  {
   "attachments": {},
   "cell_type": "markdown",
   "metadata": {},
   "source": [
    "## Generate the bounding box for every new location"
   ]
  },
  {
   "attachments": {},
   "cell_type": "markdown",
   "metadata": {},
   "source": [
    "Now that we are sure that we have the needed GeoDataFrame and that the calculated bounding boxes seem to be correct, we have to generate a list with dictionaries for every new location, with the following information:\n",
    "* location_id `key`: we have to assign an unique ID to each new location, so we have to get the latest location ID from the dataset.\n",
    "* bounding_box `value 1`: generated bounding box of the new location.\n",
    "* time_interval `value 2`: time that the flooding event took."
   ]
  },
  {
   "cell_type": "code",
   "execution_count": null,
   "metadata": {},
   "outputs": [],
   "source": [
    "from eotdl import generate_new_locations_bounding_boxes\n",
    "\n",
    "# Get the latest location ID from the existing locations\n",
    "keys = [ int(k) for k in bbox_by_existing_location.keys()]\n",
    "latest_id = max(keys)\n",
    "\n",
    "# Get the dict for new locations\n",
    "bbox_by_new_location = generate_new_locations_bounding_boxes(flood_archive_gdf,\n",
    "                                                             (mean_long_diff, mean_lat_diff),\n",
    "                                                             latest_id)\n",
    "    \n",
    "print(bbox_by_new_location)"
   ]
  },
  {
   "attachments": {},
   "cell_type": "markdown",
   "metadata": {},
   "source": [
    "# Check available data from Sentinel Hub services"
   ]
  },
  {
   "attachments": {},
   "cell_type": "markdown",
   "metadata": {},
   "source": [
    "As said before, the main goal of this use case is to improve the existing SEN12-FLOOD dataset. In order to accomplish that, we are going to use DEM data and additional samples for recent floods and new areas.\n",
    "\n",
    "Firs of all, we need to configure the SH client from the EO-TDL library in order to provide [Sentinel Hub services](https://www.sentinel-hub.com/) such as satellite data collections, including Sentinel, Landsat, MODIS, DEM, and custom collections produced by users. It requires Sentinel Hub account, so please see [configuration instructions](https://sentinelhub-py.readthedocs.io/en/latest/configure.html) how to set up your configuration."
   ]
  },
  {
   "cell_type": "code",
   "execution_count": null,
   "metadata": {},
   "outputs": [],
   "source": [
    "from eotdl import SHClient\n",
    "\n",
    "sh_client_id = getenv('SH_CLIENT_ID')\n",
    "sh_client_secret = getenv('SH_CLIENT_SECRET')"
   ]
  },
  {
   "cell_type": "code",
   "execution_count": null,
   "metadata": {},
   "outputs": [],
   "source": [
    "client = SHClient(sh_client_id=sh_client_id, \n",
    "                  sh_client_secret=sh_client_secret)"
   ]
  },
  {
   "attachments": {},
   "cell_type": "markdown",
   "metadata": {},
   "source": [
    "## Sentinel-1 and Sentinel-2"
   ]
  },
  {
   "cell_type": "code",
   "execution_count": null,
   "metadata": {},
   "outputs": [],
   "source": [
    "from eotdl import get_available_data_by_location"
   ]
  },
  {
   "attachments": {},
   "cell_type": "markdown",
   "metadata": {},
   "source": [
    "#### Sentinel-1"
   ]
  },
  {
   "cell_type": "code",
   "execution_count": null,
   "metadata": {},
   "outputs": [],
   "source": [
    "%%time\n",
    "\n",
    "sentinel_1_available_data, sentinel_1_locations_without_data = get_available_data_by_location(bbox_by_new_location, client, 'sentinel-1')\n",
    "\n",
    "print(list(sentinel_1_available_data.values())[0])\n",
    "print(f'There are a total number of {len(sentinel_1_available_data)} Sentinel-1 available images for new locations.')"
   ]
  },
  {
   "attachments": {},
   "cell_type": "markdown",
   "metadata": {},
   "source": [
    "#### Sentinel-2"
   ]
  },
  {
   "cell_type": "code",
   "execution_count": null,
   "metadata": {},
   "outputs": [],
   "source": [
    "%%time\n",
    "\n",
    "sentinel_2_available_data, sentinel_2_locations_without_data = get_available_data_by_location(bbox_by_new_location, client, 'sentinel-2')\n",
    "\n",
    "print(list(sentinel_2_available_data.values())[0])\n",
    "print(f'There are a total number of {len(sentinel_2_available_data)} Sentinel-2 available images for new locations.')"
   ]
  },
  {
   "attachments": {},
   "cell_type": "markdown",
   "metadata": {},
   "source": [
    "## DEM"
   ]
  },
  {
   "attachments": {},
   "cell_type": "markdown",
   "metadata": {},
   "source": [
    "As DEM data is static, it does not make sense to check its availability in a time lapse or in a given location, as it is global. "
   ]
  },
  {
   "attachments": {},
   "cell_type": "markdown",
   "metadata": {},
   "source": [
    "# Download data from Sentinel Hub services"
   ]
  },
  {
   "attachments": {},
   "cell_type": "markdown",
   "metadata": {},
   "source": [
    "Now, we are able to create a request for each location. In order to efficiently download data for all requests in parallel, we are going to extract the download information and pass it to the EO-TDL client, which is able to download data. "
   ]
  },
  {
   "attachments": {},
   "cell_type": "markdown",
   "metadata": {},
   "source": [
    "## Sentinel-1 and Sentinel-2"
   ]
  },
  {
   "attachments": {},
   "cell_type": "markdown",
   "metadata": {},
   "source": [
    "As said before, there is no need to download new Sentinel-1 and Sentinel-1 data for the existing locations, because of the fact that according to the downloaded flooding archive there have not occured new flooding events in those locations. So, we only need to download Sentinel imagery for the new locations from the archive."
   ]
  },
  {
   "attachments": {},
   "cell_type": "markdown",
   "metadata": {},
   "source": [
    "#### Sentinel-1"
   ]
  },
  {
   "cell_type": "code",
   "execution_count": null,
   "metadata": {},
   "outputs": [],
   "source": [
    "%load_ext autoreload\n",
    "%autoreload 2"
   ]
  },
  {
   "cell_type": "code",
   "execution_count": null,
   "metadata": {},
   "outputs": [],
   "source": [
    "ROOT = getenv('ROOT_DOWNLOAD')"
   ]
  },
  {
   "cell_type": "code",
   "execution_count": null,
   "metadata": {},
   "outputs": [],
   "source": [
    "from eotdl import sentinel_1_download_parameters\n",
    "\n",
    "sentinel_1_download_parameters.data_to_download = sentinel_1_available_data\n",
    "# The path to the output folder can be changed, if needed\n",
    "sentinel_1_download_parameters.data_folder = join(ROOT, 'sen12floods_s1_new_source') \n",
    "\n",
    "process_requests = client.request_bulk_data(sentinel_1_download_parameters)"
   ]
  },
  {
   "cell_type": "code",
   "execution_count": null,
   "metadata": {},
   "outputs": [],
   "source": [
    "%%time\n",
    "\n",
    "data = client.download_data(process_requests[0:20])"
   ]
  },
  {
   "attachments": {},
   "cell_type": "markdown",
   "metadata": {},
   "source": [
    "#### Sentinel-2"
   ]
  },
  {
   "cell_type": "code",
   "execution_count": null,
   "metadata": {},
   "outputs": [],
   "source": [
    "from eotdl import sentinel_2_download_parameters\n",
    "\n",
    "sentinel_2_download_parameters.data_to_download = sentinel_2_available_data\n",
    "sentinel_2_download_parameters.data_folder = join(ROOT, 'sen12floods_s2_new_source')\n",
    "\n",
    "process_requests = client.request_bulk_data(sentinel_2_download_parameters)"
   ]
  },
  {
   "cell_type": "code",
   "execution_count": null,
   "metadata": {},
   "outputs": [],
   "source": [
    "%%time\n",
    "\n",
    "data = client.download_data(process_requests[0:20])"
   ]
  },
  {
   "attachments": {},
   "cell_type": "markdown",
   "metadata": {},
   "source": [
    "## DEM"
   ]
  },
  {
   "attachments": {},
   "cell_type": "markdown",
   "metadata": {},
   "source": [
    "As we are going to download DEM data for all locations, both new and existing, we can merge the bounding boxes dictionaries into one and pass it to the request."
   ]
  },
  {
   "cell_type": "code",
   "execution_count": null,
   "metadata": {},
   "outputs": [],
   "source": [
    "bbox_by_location = bbox_by_existing_location\n",
    "bbox_by_location.update(bbox_by_new_location)"
   ]
  },
  {
   "cell_type": "code",
   "execution_count": null,
   "metadata": {},
   "outputs": [],
   "source": [
    "print(bbox_by_location)"
   ]
  },
  {
   "cell_type": "code",
   "execution_count": null,
   "metadata": {},
   "outputs": [],
   "source": [
    "from eotdl import dem_download_parameters\n",
    "\n",
    "dem_download_parameters.data_to_download = bbox_by_location\n",
    "# dem_download_parameters.data_folder = 'sen12floods_dem_source'\n",
    "dem_download_parameters.data_folder = join(ROOT, 'sen12floods_dem_source')\n",
    "\n",
    "process_requests = client.request_bulk_data(dem_download_parameters)"
   ]
  },
  {
   "cell_type": "code",
   "execution_count": null,
   "metadata": {},
   "outputs": [],
   "source": [
    "%%time\n",
    "\n",
    "data = client.download_data(process_requests[0:20])"
   ]
  },
  {
   "attachments": {},
   "cell_type": "markdown",
   "metadata": {},
   "source": [
    "# Format downloaded data"
   ]
  },
  {
   "attachments": {},
   "cell_type": "markdown",
   "metadata": {},
   "source": [
    "In order to maintain a logic structure and ensure that the set is diregible by the EO-TDL environment, we must make sure that the project structure is compatible with the `STAC` convention, as we are going to generate the metadata of every downloaded item and collection.\n",
    "\n",
    "The first task we have to do is extract every image band as a separate file."
   ]
  },
  {
   "cell_type": "code",
   "execution_count": null,
   "metadata": {},
   "outputs": [],
   "source": [
    "from eotdl import SHFolderFormatter\n",
    "\n",
    "formatter = SHFolderFormatter(ROOT)\n",
    "\n",
    "formatter.format_folders()"
   ]
  },
  {
   "attachments": {},
   "cell_type": "markdown",
   "metadata": {},
   "source": [
    "# Generate STAC metadata"
   ]
  },
  {
   "cell_type": "code",
   "execution_count": 1,
   "metadata": {},
   "outputs": [],
   "source": [
    "%load_ext autoreload\n",
    "%autoreload 2\n",
    "\n",
    "%load_ext dotenv\n",
    "%dotenv\n",
    "\n",
    "from eotdl.curation.stac.stac import STACGenerator\n",
    "from eotdl.curation.stac.assets import BandsAssetGenerator\n",
    "from os import getenv\n"
   ]
  },
  {
   "cell_type": "code",
   "execution_count": 2,
   "metadata": {},
   "outputs": [],
   "source": [
    "ROOT = getenv('ROOT_EUROSAT')"
   ]
  },
  {
   "cell_type": "code",
   "execution_count": null,
   "metadata": {},
   "outputs": [],
   "source": [
    "stac_generator = STACGenerator()\n",
    "\n",
    "\n",
    "extensions = {'SAR': 'sar', 'SENTINEL-2': 'eo'}\n",
    "bands = {'SAR': ('VV', 'VH'), 'SENTINEL-2': ('B01', 'B02', 'B03', 'B04', 'B05', 'B06', 'B07', 'B08', 'B09', 'B11', 'B12')}\n",
    "\n",
    "df = stac_generator.get_stac_dataframe(ROOT, bands, extensions=extensions)\n",
    "df.head()"
   ]
  },
  {
   "cell_type": "code",
   "execution_count": 4,
   "metadata": {},
   "outputs": [
    {
     "data": {
      "text/html": [
       "<div>\n",
       "<style scoped>\n",
       "    .dataframe tbody tr th:only-of-type {\n",
       "        vertical-align: middle;\n",
       "    }\n",
       "\n",
       "    .dataframe tbody tr th {\n",
       "        vertical-align: top;\n",
       "    }\n",
       "\n",
       "    .dataframe thead th {\n",
       "        text-align: right;\n",
       "    }\n",
       "</style>\n",
       "<table border=\"1\" class=\"dataframe\">\n",
       "  <thead>\n",
       "    <tr style=\"text-align: right;\">\n",
       "      <th></th>\n",
       "      <th>image</th>\n",
       "      <th>label</th>\n",
       "      <th>ix</th>\n",
       "      <th>collection</th>\n",
       "      <th>extensions</th>\n",
       "      <th>bands</th>\n",
       "    </tr>\n",
       "  </thead>\n",
       "  <tbody>\n",
       "    <tr>\n",
       "      <th>0</th>\n",
       "      <td>/Users/fran/Documents/datasets/EuroSAT/2750/Pe...</td>\n",
       "      <td>PermanentCrop</td>\n",
       "      <td>0</td>\n",
       "      <td>/Users/fran/Documents/datasets/EuroSAT/2750/Pe...</td>\n",
       "      <td>eo</td>\n",
       "      <td>(B02, B03, B04)</td>\n",
       "    </tr>\n",
       "    <tr>\n",
       "      <th>1</th>\n",
       "      <td>/Users/fran/Documents/datasets/EuroSAT/2750/An...</td>\n",
       "      <td>AnnualCrop</td>\n",
       "      <td>1</td>\n",
       "      <td>/Users/fran/Documents/datasets/EuroSAT/2750/An...</td>\n",
       "      <td>eo</td>\n",
       "      <td>(B02, B03, B04)</td>\n",
       "    </tr>\n",
       "    <tr>\n",
       "      <th>2</th>\n",
       "      <td>/Users/fran/Documents/datasets/EuroSAT/2750/An...</td>\n",
       "      <td>AnnualCrop</td>\n",
       "      <td>1</td>\n",
       "      <td>/Users/fran/Documents/datasets/EuroSAT/2750/An...</td>\n",
       "      <td>eo</td>\n",
       "      <td>(B02, B03, B04)</td>\n",
       "    </tr>\n",
       "    <tr>\n",
       "      <th>3</th>\n",
       "      <td>/Users/fran/Documents/datasets/EuroSAT/2750/Re...</td>\n",
       "      <td>Residential</td>\n",
       "      <td>3</td>\n",
       "      <td>/Users/fran/Documents/datasets/EuroSAT/2750/Re...</td>\n",
       "      <td>eo</td>\n",
       "      <td>(B02, B03, B04)</td>\n",
       "    </tr>\n",
       "    <tr>\n",
       "      <th>4</th>\n",
       "      <td>/Users/fran/Documents/datasets/EuroSAT/2750/Ri...</td>\n",
       "      <td>River</td>\n",
       "      <td>4</td>\n",
       "      <td>/Users/fran/Documents/datasets/EuroSAT/2750/River</td>\n",
       "      <td>eo</td>\n",
       "      <td>(B02, B03, B04)</td>\n",
       "    </tr>\n",
       "  </tbody>\n",
       "</table>\n",
       "</div>"
      ],
      "text/plain": [
       "                                               image          label  ix  \\\n",
       "0  /Users/fran/Documents/datasets/EuroSAT/2750/Pe...  PermanentCrop   0   \n",
       "1  /Users/fran/Documents/datasets/EuroSAT/2750/An...     AnnualCrop   1   \n",
       "2  /Users/fran/Documents/datasets/EuroSAT/2750/An...     AnnualCrop   1   \n",
       "3  /Users/fran/Documents/datasets/EuroSAT/2750/Re...    Residential   3   \n",
       "4  /Users/fran/Documents/datasets/EuroSAT/2750/Ri...          River   4   \n",
       "\n",
       "                                          collection extensions  \\\n",
       "0  /Users/fran/Documents/datasets/EuroSAT/2750/Pe...         eo   \n",
       "1  /Users/fran/Documents/datasets/EuroSAT/2750/An...         eo   \n",
       "2  /Users/fran/Documents/datasets/EuroSAT/2750/An...         eo   \n",
       "3  /Users/fran/Documents/datasets/EuroSAT/2750/Re...         eo   \n",
       "4  /Users/fran/Documents/datasets/EuroSAT/2750/River         eo   \n",
       "\n",
       "             bands  \n",
       "0  (B02, B03, B04)  \n",
       "1  (B02, B03, B04)  \n",
       "2  (B02, B03, B04)  \n",
       "3  (B02, B03, B04)  \n",
       "4  (B02, B03, B04)  "
      ]
     },
     "execution_count": 4,
     "metadata": {},
     "output_type": "execute_result"
    }
   ],
   "source": [
    "from eotdl.curation.stac.parsers import UnestructuredParser\n",
    "\n",
    "stac_generator = STACGenerator(image_format='jpg', item_parser=UnestructuredParser)\n",
    "\n",
    "df = stac_generator.get_stac_dataframe(ROOT)\n",
    "\n",
    "# Update the bands column to a list with (B2, B3, B4) in all rows\n",
    "df['bands'] = df['bands'].apply(lambda x: ('B02', 'B03', 'B04'))\n",
    "# Update the extensions column to 'eo' in all rows\n",
    "df['extensions'] = 'eo'\n",
    "df.head()"
   ]
  },
  {
   "cell_type": "code",
   "execution_count": 5,
   "metadata": {},
   "outputs": [
    {
     "name": "stderr",
     "output_type": "stream",
     "text": [
      "/Users/fran/miniconda3/envs/sen12floods/lib/python3.11/site-packages/rasterio/__init__.py:304: NotGeoreferencedWarning: Dataset has no geotransform, gcps, or rpcs. The identity matrix will be returned.\n",
      "  dataset = DatasetReader(path, driver=driver, sharing=sharing, **kwargs)\n"
     ]
    }
   ],
   "source": [
    "stac_generator.generate_stac_metadata(df, \n",
    "                                      id='EuroSAT',\n",
    "                                      description='EuroSAT dataset',\n",
    "                                      output_folder='eurosat')"
   ]
  },
  {
   "attachments": {},
   "cell_type": "markdown",
   "metadata": {},
   "source": [
    "Now, we can add the ml-extension."
   ]
  },
  {
   "cell_type": "code",
   "execution_count": null,
   "metadata": {},
   "outputs": [],
   "source": [
    "from eotdl.curation.stac.ml_dataset import add_ml_extension\n",
    "\n",
    "add_ml_extension('eurosat/catalog.json',\n",
    "                 name='Test ML Dataset',\n",
    "                 tasks=['image classification', 'segmentation'],\n",
    "                 inputs_type=['satellite imagery'],\n",
    "                 annotations_type='raster',\n",
    "                 version='0.1.0')"
   ]
  }
 ],
 "metadata": {
  "kernelspec": {
   "display_name": "Python 3 (ipykernel)",
   "language": "python",
   "name": "python3"
  },
  "language_info": {
   "codemirror_mode": {
    "name": "ipython",
    "version": 3
   },
   "file_extension": ".py",
   "mimetype": "text/x-python",
   "name": "python",
   "nbconvert_exporter": "python",
   "pygments_lexer": "ipython3",
   "version": "3.11.3"
  }
 },
 "nbformat": 4,
 "nbformat_minor": 2
}
