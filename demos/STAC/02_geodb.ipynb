{
 "cells": [
  {
   "cell_type": "code",
   "execution_count": null,
   "metadata": {},
   "outputs": [],
   "source": [
    "from xcube_geodb.core.geodb import GeoDBClient\n",
    "from python_dotenv import load_dotenv\n",
    "import os\n",
    "\n",
    "load_dotenv()\n",
    "\n",
    "g = GeoDBClient(\n",
    "  server_url=os.environ['SERVER_URL'],\n",
    "  server_port=os.environ['SERVER_PORT'],\n",
    "  client_id=os.environ['CLIENT_ID'],\n",
    "  client_secret=os.environ['CLIENT_SECRET'],\n",
    "  auth_aud=os.environ['AUTH_DOMAIN'],\n",
    ")\n",
    "\n",
    "g.whoami"
   ]
  }
 ],
 "metadata": {
  "language_info": {
   "name": "python"
  },
  "orig_nbformat": 4
 },
 "nbformat": 4,
 "nbformat_minor": 2
}
