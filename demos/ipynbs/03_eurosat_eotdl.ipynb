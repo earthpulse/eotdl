{
 "cells": [
  {
   "attachments": {},
   "cell_type": "markdown",
   "metadata": {},
   "source": [
    "# EuroSAT STAC generation with the EO-TDL lib"
   ]
  },
  {
   "attachments": {},
   "cell_type": "markdown",
   "metadata": {},
   "source": [
    "In this demo we will do the following:\n",
    " * Generate STAC metadata for the [EuroSAT](https://github.com/phelber/EuroSAT) dataset using the EO-TDL lib\n",
    " * Convert the STAC metadata into a STACDataFrame\n",
    " * Ingest the STACDataFrame with GeoDB"
   ]
  },
  {
   "cell_type": "code",
   "execution_count": 2,
   "metadata": {},
   "outputs": [
    {
     "name": "stdout",
     "output_type": "stream",
     "text": [
      "The autoreload extension is already loaded. To reload it, use:\n",
      "  %reload_ext autoreload\n",
      "The dotenv extension is already loaded. To reload it, use:\n",
      "  %reload_ext dotenv\n"
     ]
    }
   ],
   "source": [
    "%load_ext autoreload\n",
    "%autoreload 2\n",
    "\n",
    "%load_ext dotenv\n",
    "%dotenv\n",
    "from eotdl.curation.stac.stac import STACGenerator\n",
    "from eotdl.curation.stac.parsers import UnestructuredParser\n",
    "from os import getenv\n",
    "from os.path import join, dirname"
   ]
  },
  {
   "cell_type": "code",
   "execution_count": 3,
   "metadata": {},
   "outputs": [
    {
     "data": {
      "text/html": [
       "<div>\n",
       "<style scoped>\n",
       "    .dataframe tbody tr th:only-of-type {\n",
       "        vertical-align: middle;\n",
       "    }\n",
       "\n",
       "    .dataframe tbody tr th {\n",
       "        vertical-align: top;\n",
       "    }\n",
       "\n",
       "    .dataframe thead th {\n",
       "        text-align: right;\n",
       "    }\n",
       "</style>\n",
       "<table border=\"1\" class=\"dataframe\">\n",
       "  <thead>\n",
       "    <tr style=\"text-align: right;\">\n",
       "      <th></th>\n",
       "      <th>image</th>\n",
       "      <th>label</th>\n",
       "      <th>ix</th>\n",
       "      <th>collection</th>\n",
       "      <th>extensions</th>\n",
       "      <th>bands</th>\n",
       "    </tr>\n",
       "  </thead>\n",
       "  <tbody>\n",
       "    <tr>\n",
       "      <th>0</th>\n",
       "      <td>/Users/fran/Documents/datasets/EuroSAT-RGB/Eur...</td>\n",
       "      <td>Forest</td>\n",
       "      <td>0</td>\n",
       "      <td>/Users/fran/Documents/datasets/EuroSAT-RGB/Eur...</td>\n",
       "      <td>None</td>\n",
       "      <td>None</td>\n",
       "    </tr>\n",
       "    <tr>\n",
       "      <th>1</th>\n",
       "      <td>/Users/fran/Documents/datasets/EuroSAT-RGB/Eur...</td>\n",
       "      <td>Forest</td>\n",
       "      <td>0</td>\n",
       "      <td>/Users/fran/Documents/datasets/EuroSAT-RGB/Eur...</td>\n",
       "      <td>None</td>\n",
       "      <td>None</td>\n",
       "    </tr>\n",
       "    <tr>\n",
       "      <th>2</th>\n",
       "      <td>/Users/fran/Documents/datasets/EuroSAT-RGB/Eur...</td>\n",
       "      <td>Forest</td>\n",
       "      <td>0</td>\n",
       "      <td>/Users/fran/Documents/datasets/EuroSAT-RGB/Eur...</td>\n",
       "      <td>None</td>\n",
       "      <td>None</td>\n",
       "    </tr>\n",
       "    <tr>\n",
       "      <th>3</th>\n",
       "      <td>/Users/fran/Documents/datasets/EuroSAT-RGB/Eur...</td>\n",
       "      <td>Forest</td>\n",
       "      <td>0</td>\n",
       "      <td>/Users/fran/Documents/datasets/EuroSAT-RGB/Eur...</td>\n",
       "      <td>None</td>\n",
       "      <td>None</td>\n",
       "    </tr>\n",
       "    <tr>\n",
       "      <th>4</th>\n",
       "      <td>/Users/fran/Documents/datasets/EuroSAT-RGB/Eur...</td>\n",
       "      <td>Forest</td>\n",
       "      <td>0</td>\n",
       "      <td>/Users/fran/Documents/datasets/EuroSAT-RGB/Eur...</td>\n",
       "      <td>None</td>\n",
       "      <td>None</td>\n",
       "    </tr>\n",
       "  </tbody>\n",
       "</table>\n",
       "</div>"
      ],
      "text/plain": [
       "                                               image   label  ix  \\\n",
       "0  /Users/fran/Documents/datasets/EuroSAT-RGB/Eur...  Forest   0   \n",
       "1  /Users/fran/Documents/datasets/EuroSAT-RGB/Eur...  Forest   0   \n",
       "2  /Users/fran/Documents/datasets/EuroSAT-RGB/Eur...  Forest   0   \n",
       "3  /Users/fran/Documents/datasets/EuroSAT-RGB/Eur...  Forest   0   \n",
       "4  /Users/fran/Documents/datasets/EuroSAT-RGB/Eur...  Forest   0   \n",
       "\n",
       "                                          collection extensions bands  \n",
       "0  /Users/fran/Documents/datasets/EuroSAT-RGB/Eur...       None  None  \n",
       "1  /Users/fran/Documents/datasets/EuroSAT-RGB/Eur...       None  None  \n",
       "2  /Users/fran/Documents/datasets/EuroSAT-RGB/Eur...       None  None  \n",
       "3  /Users/fran/Documents/datasets/EuroSAT-RGB/Eur...       None  None  \n",
       "4  /Users/fran/Documents/datasets/EuroSAT-RGB/Eur...       None  None  "
      ]
     },
     "execution_count": 3,
     "metadata": {},
     "output_type": "execute_result"
    }
   ],
   "source": [
    "stac_generator = STACGenerator(image_format='jpg', item_parser=UnestructuredParser)\n",
    "\n",
    "ROOT = '/Users/fran/Documents/datasets/EuroSAT-RGB/EuroSAT-RGB/'   # Path to the root folder of the dataset, change it to your path\n",
    "\n",
    "df = stac_generator.get_stac_dataframe(ROOT)\n",
    "df.head()"
   ]
  },
  {
   "cell_type": "code",
   "execution_count": 4,
   "metadata": {},
   "outputs": [
    {
     "name": "stdout",
     "output_type": "stream",
     "text": [
      "Generating source collection...\n"
     ]
    },
    {
     "name": "stderr",
     "output_type": "stream",
     "text": [
      "  0%|          | 0/27000 [00:00<?, ?it/s]/Users/fran/miniconda3/envs/sen12floods/lib/python3.11/site-packages/rasterio/__init__.py:304: NotGeoreferencedWarning: Dataset has no geotransform, gcps, or rpcs. The identity matrix will be returned.\n",
      "  dataset = DatasetReader(path, driver=driver, sharing=sharing, **kwargs)\n",
      "100%|██████████| 27000/27000 [02:08<00:00, 210.23it/s]\n"
     ]
    },
    {
     "name": "stdout",
     "output_type": "stream",
     "text": [
      "Validating and saving catalog...\n"
     ]
    }
   ],
   "source": [
    "output = join(dirname(dirname(ROOT)), 'EuroSAT-RGB-STAC')\n",
    "stac_generator.generate_stac_metadata(id='eurosat-rgb', description='EuroSAT-RGB dataset', stac_dataframe=df, output_folder=output)"
   ]
  },
  {
   "cell_type": "code",
   "execution_count": 5,
   "metadata": {},
   "outputs": [
    {
     "name": "stdout",
     "output_type": "stream",
     "text": [
      "Generating labels collection...\n"
     ]
    },
    {
     "name": "stderr",
     "output_type": "stream",
     "text": [
      "27000it [00:58, 458.07it/s]\n"
     ]
    }
   ],
   "source": [
    "catalog = join(output, 'catalog.json')\n",
    "stac_generator.generate_stac_labels(catalog)"
   ]
  },
  {
   "attachments": {},
   "cell_type": "markdown",
   "metadata": {},
   "source": [
    "## STAC to DataFrame and viceversa"
   ]
  },
  {
   "cell_type": "code",
   "execution_count": 6,
   "metadata": {},
   "outputs": [
    {
     "data": {
      "text/html": [
       "<div>\n",
       "<style scoped>\n",
       "    .dataframe tbody tr th:only-of-type {\n",
       "        vertical-align: middle;\n",
       "    }\n",
       "\n",
       "    .dataframe tbody tr th {\n",
       "        vertical-align: top;\n",
       "    }\n",
       "\n",
       "    .dataframe thead th {\n",
       "        text-align: right;\n",
       "    }\n",
       "</style>\n",
       "<table border=\"1\" class=\"dataframe\">\n",
       "  <thead>\n",
       "    <tr style=\"text-align: right;\">\n",
       "      <th></th>\n",
       "      <th>type</th>\n",
       "      <th>id</th>\n",
       "      <th>stac_version</th>\n",
       "      <th>description</th>\n",
       "      <th>links</th>\n",
       "      <th>stac_extensions</th>\n",
       "      <th>extent</th>\n",
       "      <th>license</th>\n",
       "      <th>properties</th>\n",
       "      <th>geometry</th>\n",
       "      <th>assets</th>\n",
       "      <th>bbox</th>\n",
       "      <th>collection</th>\n",
       "    </tr>\n",
       "  </thead>\n",
       "  <tbody>\n",
       "    <tr>\n",
       "      <th>0</th>\n",
       "      <td>Catalog</td>\n",
       "      <td>eurosat</td>\n",
       "      <td>1.0.0</td>\n",
       "      <td>EuroSAT dataset</td>\n",
       "      <td>[{'rel': 'RelType.SELF', 'href': '/Users/fran/...</td>\n",
       "      <td>[]</td>\n",
       "      <td>NaN</td>\n",
       "      <td>NaN</td>\n",
       "      <td>NaN</td>\n",
       "      <td>POLYGON EMPTY</td>\n",
       "      <td>NaN</td>\n",
       "      <td>NaN</td>\n",
       "      <td>NaN</td>\n",
       "    </tr>\n",
       "    <tr>\n",
       "      <th>1</th>\n",
       "      <td>Collection</td>\n",
       "      <td>AnnualCrop</td>\n",
       "      <td>1.0.0</td>\n",
       "      <td>Collection</td>\n",
       "      <td>[{'rel': 'RelType.ROOT', 'href': '../catalog.j...</td>\n",
       "      <td>[]</td>\n",
       "      <td>{'spatial': {'bbox': [[0, 0, 0, 0]]}, 'tempora...</td>\n",
       "      <td>proprietary</td>\n",
       "      <td>NaN</td>\n",
       "      <td>POLYGON EMPTY</td>\n",
       "      <td>NaN</td>\n",
       "      <td>NaN</td>\n",
       "      <td>NaN</td>\n",
       "    </tr>\n",
       "    <tr>\n",
       "      <th>2</th>\n",
       "      <td>Collection</td>\n",
       "      <td>Pasture</td>\n",
       "      <td>1.0.0</td>\n",
       "      <td>Collection</td>\n",
       "      <td>[{'rel': 'RelType.ROOT', 'href': '../catalog.j...</td>\n",
       "      <td>[]</td>\n",
       "      <td>{'spatial': {'bbox': [[0, 0, 0, 0]]}, 'tempora...</td>\n",
       "      <td>proprietary</td>\n",
       "      <td>NaN</td>\n",
       "      <td>POLYGON EMPTY</td>\n",
       "      <td>NaN</td>\n",
       "      <td>NaN</td>\n",
       "      <td>NaN</td>\n",
       "    </tr>\n",
       "    <tr>\n",
       "      <th>3</th>\n",
       "      <td>Collection</td>\n",
       "      <td>River</td>\n",
       "      <td>1.0.0</td>\n",
       "      <td>Collection</td>\n",
       "      <td>[{'rel': 'RelType.ROOT', 'href': '../catalog.j...</td>\n",
       "      <td>[]</td>\n",
       "      <td>{'spatial': {'bbox': [[0, 0, 0, 0]]}, 'tempora...</td>\n",
       "      <td>proprietary</td>\n",
       "      <td>NaN</td>\n",
       "      <td>POLYGON EMPTY</td>\n",
       "      <td>NaN</td>\n",
       "      <td>NaN</td>\n",
       "      <td>NaN</td>\n",
       "    </tr>\n",
       "    <tr>\n",
       "      <th>4</th>\n",
       "      <td>Collection</td>\n",
       "      <td>PermanentCrop</td>\n",
       "      <td>1.0.0</td>\n",
       "      <td>Collection</td>\n",
       "      <td>[{'rel': 'RelType.ROOT', 'href': '../catalog.j...</td>\n",
       "      <td>[]</td>\n",
       "      <td>{'spatial': {'bbox': [[0, 0, 0, 0]]}, 'tempora...</td>\n",
       "      <td>proprietary</td>\n",
       "      <td>NaN</td>\n",
       "      <td>POLYGON EMPTY</td>\n",
       "      <td>NaN</td>\n",
       "      <td>NaN</td>\n",
       "      <td>NaN</td>\n",
       "    </tr>\n",
       "  </tbody>\n",
       "</table>\n",
       "</div>"
      ],
      "text/plain": [
       "         type             id stac_version      description  \\\n",
       "0     Catalog        eurosat        1.0.0  EuroSAT dataset   \n",
       "1  Collection     AnnualCrop        1.0.0       Collection   \n",
       "2  Collection        Pasture        1.0.0       Collection   \n",
       "3  Collection          River        1.0.0       Collection   \n",
       "4  Collection  PermanentCrop        1.0.0       Collection   \n",
       "\n",
       "                                               links stac_extensions  \\\n",
       "0  [{'rel': 'RelType.SELF', 'href': '/Users/fran/...              []   \n",
       "1  [{'rel': 'RelType.ROOT', 'href': '../catalog.j...              []   \n",
       "2  [{'rel': 'RelType.ROOT', 'href': '../catalog.j...              []   \n",
       "3  [{'rel': 'RelType.ROOT', 'href': '../catalog.j...              []   \n",
       "4  [{'rel': 'RelType.ROOT', 'href': '../catalog.j...              []   \n",
       "\n",
       "                                              extent      license properties  \\\n",
       "0                                                NaN          NaN        NaN   \n",
       "1  {'spatial': {'bbox': [[0, 0, 0, 0]]}, 'tempora...  proprietary        NaN   \n",
       "2  {'spatial': {'bbox': [[0, 0, 0, 0]]}, 'tempora...  proprietary        NaN   \n",
       "3  {'spatial': {'bbox': [[0, 0, 0, 0]]}, 'tempora...  proprietary        NaN   \n",
       "4  {'spatial': {'bbox': [[0, 0, 0, 0]]}, 'tempora...  proprietary        NaN   \n",
       "\n",
       "        geometry assets bbox collection  \n",
       "0  POLYGON EMPTY    NaN  NaN        NaN  \n",
       "1  POLYGON EMPTY    NaN  NaN        NaN  \n",
       "2  POLYGON EMPTY    NaN  NaN        NaN  \n",
       "3  POLYGON EMPTY    NaN  NaN        NaN  \n",
       "4  POLYGON EMPTY    NaN  NaN        NaN  "
      ]
     },
     "execution_count": 6,
     "metadata": {},
     "output_type": "execute_result"
    }
   ],
   "source": [
    "from eotdl import read_stac\n",
    "\n",
    "path = 'eurosat_stac/catalog.json'\n",
    "df = read_stac(path)\n",
    "# df = STACDataFrame.from_stac_file(path)   # Alternative way to read a STAC file\n",
    "df.head()"
   ]
  },
  {
   "attachments": {},
   "cell_type": "markdown",
   "metadata": {},
   "source": [
    "Now, we can convert the STACDataframe into STAC metadata again if we want."
   ]
  },
  {
   "cell_type": "code",
   "execution_count": 7,
   "metadata": {},
   "outputs": [],
   "source": [
    "df.to_stac()"
   ]
  },
  {
   "attachments": {},
   "cell_type": "markdown",
   "metadata": {},
   "source": [
    "## GeoDB ingestion"
   ]
  },
  {
   "attachments": {},
   "cell_type": "markdown",
   "metadata": {},
   "source": [
    "Also, we can ingest it with [GeoDB](https://xcube-geodb.readthedocs.io/en/latest/core.html). By doing this, we are converting our STACDataFrame into a Collection in GeoDB."
   ]
  },
  {
   "cell_type": "code",
   "execution_count": 8,
   "metadata": {},
   "outputs": [
    {
     "name": "stdout",
     "output_type": "stream",
     "text": [
      "Processing rows from 0 to 61\n"
     ]
    }
   ],
   "source": [
    "from eotdl import STACDataFrame\n",
    "from dotenv import load_dotenv\n",
    "import os\n",
    "\n",
    "load_dotenv()\n",
    "\n",
    "server_url=os.environ['SERVER_URL']\n",
    "server_port=os.environ['SERVER_PORT']\n",
    "client_id=os.environ['CLIENT_ID']\n",
    "client_secret=os.environ['CLIENT_SECRET']\n",
    "auth_aud=os.environ['AUTH_DOMAIN']\n",
    "collection = 'eurosat_stac_test'\n",
    "\n",
    "df.to_geodb(server_url, server_port, client_id, client_secret, auth_aud, collection)"
   ]
  },
  {
   "attachments": {},
   "cell_type": "markdown",
   "metadata": {},
   "source": [
    "Later on, we can go back and create STAC metadata from a GeoDB Collection"
   ]
  },
  {
   "cell_type": "code",
   "execution_count": 9,
   "metadata": {},
   "outputs": [
    {
     "data": {
      "text/html": [
       "<div>\n",
       "<style scoped>\n",
       "    .dataframe tbody tr th:only-of-type {\n",
       "        vertical-align: middle;\n",
       "    }\n",
       "\n",
       "    .dataframe tbody tr th {\n",
       "        vertical-align: top;\n",
       "    }\n",
       "\n",
       "    .dataframe thead th {\n",
       "        text-align: right;\n",
       "    }\n",
       "</style>\n",
       "<table border=\"1\" class=\"dataframe\">\n",
       "  <thead>\n",
       "    <tr style=\"text-align: right;\">\n",
       "      <th></th>\n",
       "      <th>id</th>\n",
       "      <th>created_at</th>\n",
       "      <th>modified_at</th>\n",
       "      <th>geometry</th>\n",
       "      <th>type</th>\n",
       "      <th>stac_id</th>\n",
       "      <th>stac_version</th>\n",
       "      <th>description</th>\n",
       "      <th>links</th>\n",
       "      <th>stac_extensions</th>\n",
       "      <th>extent</th>\n",
       "      <th>license</th>\n",
       "      <th>properties</th>\n",
       "      <th>assets</th>\n",
       "      <th>bbox</th>\n",
       "      <th>collection</th>\n",
       "    </tr>\n",
       "  </thead>\n",
       "  <tbody>\n",
       "    <tr>\n",
       "      <th>0</th>\n",
       "      <td>1</td>\n",
       "      <td>2023-06-12T11:04:49.660889+00:00</td>\n",
       "      <td>None</td>\n",
       "      <td>POLYGON EMPTY</td>\n",
       "      <td>Catalog</td>\n",
       "      <td>eurosat</td>\n",
       "      <td>1.0.0</td>\n",
       "      <td>EuroSAT dataset</td>\n",
       "      <td>[{'rel': 'self', 'href': '/Users/fran/Document...</td>\n",
       "      <td>[]</td>\n",
       "      <td></td>\n",
       "      <td></td>\n",
       "      <td></td>\n",
       "      <td></td>\n",
       "      <td></td>\n",
       "      <td></td>\n",
       "    </tr>\n",
       "    <tr>\n",
       "      <th>1</th>\n",
       "      <td>2</td>\n",
       "      <td>2023-06-12T11:04:49.660889+00:00</td>\n",
       "      <td>None</td>\n",
       "      <td>POLYGON EMPTY</td>\n",
       "      <td>Collection</td>\n",
       "      <td>AnnualCrop</td>\n",
       "      <td>1.0.0</td>\n",
       "      <td>Collection</td>\n",
       "      <td>[{'rel': 'root', 'href': '../catalog.json', 't...</td>\n",
       "      <td>[]</td>\n",
       "      <td>{'spatial': {'bbox': [[0, 0, 0, 0]]}, 'tempora...</td>\n",
       "      <td>proprietary</td>\n",
       "      <td></td>\n",
       "      <td></td>\n",
       "      <td></td>\n",
       "      <td></td>\n",
       "    </tr>\n",
       "    <tr>\n",
       "      <th>2</th>\n",
       "      <td>3</td>\n",
       "      <td>2023-06-12T11:04:49.660889+00:00</td>\n",
       "      <td>None</td>\n",
       "      <td>POLYGON EMPTY</td>\n",
       "      <td>Collection</td>\n",
       "      <td>Pasture</td>\n",
       "      <td>1.0.0</td>\n",
       "      <td>Collection</td>\n",
       "      <td>[{'rel': 'root', 'href': '../catalog.json', 't...</td>\n",
       "      <td>[]</td>\n",
       "      <td>{'spatial': {'bbox': [[0, 0, 0, 0]]}, 'tempora...</td>\n",
       "      <td>proprietary</td>\n",
       "      <td></td>\n",
       "      <td></td>\n",
       "      <td></td>\n",
       "      <td></td>\n",
       "    </tr>\n",
       "    <tr>\n",
       "      <th>3</th>\n",
       "      <td>4</td>\n",
       "      <td>2023-06-12T11:04:49.660889+00:00</td>\n",
       "      <td>None</td>\n",
       "      <td>POLYGON EMPTY</td>\n",
       "      <td>Collection</td>\n",
       "      <td>River</td>\n",
       "      <td>1.0.0</td>\n",
       "      <td>Collection</td>\n",
       "      <td>[{'rel': 'root', 'href': '../catalog.json', 't...</td>\n",
       "      <td>[]</td>\n",
       "      <td>{'spatial': {'bbox': [[0, 0, 0, 0]]}, 'tempora...</td>\n",
       "      <td>proprietary</td>\n",
       "      <td></td>\n",
       "      <td></td>\n",
       "      <td></td>\n",
       "      <td></td>\n",
       "    </tr>\n",
       "    <tr>\n",
       "      <th>4</th>\n",
       "      <td>5</td>\n",
       "      <td>2023-06-12T11:04:49.660889+00:00</td>\n",
       "      <td>None</td>\n",
       "      <td>POLYGON EMPTY</td>\n",
       "      <td>Collection</td>\n",
       "      <td>PermanentCrop</td>\n",
       "      <td>1.0.0</td>\n",
       "      <td>Collection</td>\n",
       "      <td>[{'rel': 'root', 'href': '../catalog.json', 't...</td>\n",
       "      <td>[]</td>\n",
       "      <td>{'spatial': {'bbox': [[0, 0, 0, 0]]}, 'tempora...</td>\n",
       "      <td>proprietary</td>\n",
       "      <td></td>\n",
       "      <td></td>\n",
       "      <td></td>\n",
       "      <td></td>\n",
       "    </tr>\n",
       "  </tbody>\n",
       "</table>\n",
       "</div>"
      ],
      "text/plain": [
       "   id                        created_at modified_at       geometry  \\\n",
       "0   1  2023-06-12T11:04:49.660889+00:00        None  POLYGON EMPTY   \n",
       "1   2  2023-06-12T11:04:49.660889+00:00        None  POLYGON EMPTY   \n",
       "2   3  2023-06-12T11:04:49.660889+00:00        None  POLYGON EMPTY   \n",
       "3   4  2023-06-12T11:04:49.660889+00:00        None  POLYGON EMPTY   \n",
       "4   5  2023-06-12T11:04:49.660889+00:00        None  POLYGON EMPTY   \n",
       "\n",
       "         type        stac_id stac_version      description  \\\n",
       "0     Catalog        eurosat        1.0.0  EuroSAT dataset   \n",
       "1  Collection     AnnualCrop        1.0.0       Collection   \n",
       "2  Collection        Pasture        1.0.0       Collection   \n",
       "3  Collection          River        1.0.0       Collection   \n",
       "4  Collection  PermanentCrop        1.0.0       Collection   \n",
       "\n",
       "                                               links stac_extensions  \\\n",
       "0  [{'rel': 'self', 'href': '/Users/fran/Document...              []   \n",
       "1  [{'rel': 'root', 'href': '../catalog.json', 't...              []   \n",
       "2  [{'rel': 'root', 'href': '../catalog.json', 't...              []   \n",
       "3  [{'rel': 'root', 'href': '../catalog.json', 't...              []   \n",
       "4  [{'rel': 'root', 'href': '../catalog.json', 't...              []   \n",
       "\n",
       "                                              extent      license properties  \\\n",
       "0                                                                              \n",
       "1  {'spatial': {'bbox': [[0, 0, 0, 0]]}, 'tempora...  proprietary              \n",
       "2  {'spatial': {'bbox': [[0, 0, 0, 0]]}, 'tempora...  proprietary              \n",
       "3  {'spatial': {'bbox': [[0, 0, 0, 0]]}, 'tempora...  proprietary              \n",
       "4  {'spatial': {'bbox': [[0, 0, 0, 0]]}, 'tempora...  proprietary              \n",
       "\n",
       "  assets bbox collection  \n",
       "0                         \n",
       "1                         \n",
       "2                         \n",
       "3                         \n",
       "4                         "
      ]
     },
     "execution_count": 9,
     "metadata": {},
     "output_type": "execute_result"
    }
   ],
   "source": [
    "df_ = STACDataFrame.from_geodb(server_url, server_port, client_id, client_secret, auth_aud, collection)\n",
    "df_.head()"
   ]
  },
  {
   "attachments": {},
   "cell_type": "markdown",
   "metadata": {},
   "source": [
    "And create the STAC metadata from the STACDataFrame."
   ]
  },
  {
   "cell_type": "code",
   "execution_count": null,
   "metadata": {},
   "outputs": [],
   "source": [
    "df_.to_stac()"
   ]
  }
 ],
 "metadata": {
  "kernelspec": {
   "display_name": "sen12floods",
   "language": "python",
   "name": "python3"
  },
  "language_info": {
   "codemirror_mode": {
    "name": "ipython",
    "version": 3
   },
   "file_extension": ".py",
   "mimetype": "text/x-python",
   "name": "python",
   "nbconvert_exporter": "python",
   "pygments_lexer": "ipython3",
   "version": "3.11.3"
  },
  "orig_nbformat": 4
 },
 "nbformat": 4,
 "nbformat_minor": 2
}
