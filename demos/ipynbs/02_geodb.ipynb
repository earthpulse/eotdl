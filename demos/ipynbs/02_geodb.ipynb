{
 "cells": [
  {
   "cell_type": "code",
   "execution_count": 9,
   "metadata": {},
   "outputs": [
    {
     "data": {
      "text/plain": [
       "'geodb_juanpedro_ep'"
      ]
     },
     "execution_count": 9,
     "metadata": {},
     "output_type": "execute_result"
    }
   ],
   "source": [
    "from xcube_geodb.core.geodb import GeoDBClient\n",
    "from dotenv import load_dotenv\n",
    "import os\n",
    "\n",
    "load_dotenv()\n",
    "\n",
    "g = GeoDBClient(\n",
    "  server_url=os.environ['SERVER_URL'],\n",
    "  server_port=os.environ['SERVER_PORT'],\n",
    "  client_id=os.environ['CLIENT_ID'],\n",
    "  client_secret=os.environ['CLIENT_SECRET'],\n",
    "  auth_aud=os.environ['AUTH_DOMAIN'],\n",
    ")\n",
    "\n",
    "g.whoami"
   ]
  },
  {
   "cell_type": "code",
   "execution_count": null,
   "metadata": {},
   "outputs": [],
   "source": []
  }
 ],
 "metadata": {
  "kernelspec": {
   "display_name": "Python 3 (ipykernel)",
   "language": "python",
   "name": "python3"
  },
  "language_info": {
   "codemirror_mode": {
    "name": "ipython",
    "version": 3
   },
   "file_extension": ".py",
   "mimetype": "text/x-python",
   "name": "python",
   "nbconvert_exporter": "python",
   "pygments_lexer": "ipython3",
   "version": "3.10.11"
  }
 },
 "nbformat": 4,
 "nbformat_minor": 2
}
