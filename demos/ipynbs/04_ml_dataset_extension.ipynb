{
 "cells": [
  {
   "attachments": {},
   "cell_type": "markdown",
   "metadata": {},
   "source": [
    "# ML Dataset STAC extension"
   ]
  },
  {
   "attachments": {},
   "cell_type": "markdown",
   "metadata": {},
   "source": [
    "Here we explore how to use the ml-dataset extension"
   ]
  },
  {
   "cell_type": "code",
   "execution_count": 1,
   "metadata": {},
   "outputs": [],
   "source": [
    "%load_ext autoreload\n",
    "%autoreload 2"
   ]
  },
  {
   "cell_type": "code",
   "execution_count": 2,
   "metadata": {},
   "outputs": [],
   "source": [
    "import pystac\n",
    "\n",
    "catalog = pystac.read_file('data/EuroSAT-STAC-sample/catalog.json')"
   ]
  },
  {
   "cell_type": "code",
   "execution_count": 3,
   "metadata": {},
   "outputs": [
    {
     "name": "stdout",
     "output_type": "stream",
     "text": [
      "Generating splits...\n",
      "Total size: 100\n",
      "Train size: 80\n",
      "Test size: 10\n",
      "Validation size: 10\n",
      "Generating Training split...\n"
     ]
    },
    {
     "name": "stderr",
     "output_type": "stream",
     "text": [
      "100%|██████████| 80/80 [00:00<00:00, 7929.30it/s]\n"
     ]
    },
    {
     "name": "stdout",
     "output_type": "stream",
     "text": [
      "Generating Validation split...\n"
     ]
    },
    {
     "name": "stderr",
     "output_type": "stream",
     "text": [
      "100%|██████████| 10/10 [00:00<00:00, 9339.35it/s]\n"
     ]
    },
    {
     "name": "stdout",
     "output_type": "stream",
     "text": [
      "Generating Test split...\n"
     ]
    },
    {
     "name": "stderr",
     "output_type": "stream",
     "text": [
      "100%|██████████| 10/10 [00:00<00:00, 8025.84it/s]"
     ]
    },
    {
     "name": "stdout",
     "output_type": "stream",
     "text": [
      "Success on splits generation!\n",
      "Validating and saving...\n"
     ]
    },
    {
     "name": "stderr",
     "output_type": "stream",
     "text": [
      "\n"
     ]
    },
    {
     "name": "stdout",
     "output_type": "stream",
     "text": [
      "Success!\n"
     ]
    }
   ],
   "source": [
    "from eotdl.curation.stac.ml_dataset import add_ml_extension\n",
    "\n",
    "add_ml_extension(catalog,\n",
    "                 destination='data/EuroSAT-STAC-sample-ML',\n",
    "                 splits=True,\n",
    "                 name='EuroSAT Q2',\n",
    "                 tasks=['image classification', 'segmentation'],\n",
    "                 inputs_type=['satellite imagery'],\n",
    "                 annotations_type='raster',\n",
    "                 version='0.1.0')"
   ]
  },
  {
   "cell_type": "code",
   "execution_count": 4,
   "metadata": {},
   "outputs": [
    {
     "ename": "FileNotFoundError",
     "evalue": "[Errno 2] No such file or directory: 'data/EuroSAT-STAC-ML/catalog.json'",
     "output_type": "error",
     "traceback": [
      "\u001b[0;31m---------------------------------------------------------------------------\u001b[0m",
      "\u001b[0;31mFileNotFoundError\u001b[0m                         Traceback (most recent call last)",
      "\u001b[1;32m/Users/fran/Documents/Projects/eotdl/demos/ipynbs/04_ml_dataset_extension.ipynb Cell 6\u001b[0m line \u001b[0;36m5\n\u001b[1;32m      <a href='vscode-notebook-cell:/Users/fran/Documents/Projects/eotdl/demos/ipynbs/04_ml_dataset_extension.ipynb#W6sZmlsZQ%3D%3D?line=0'>1</a>\u001b[0m \u001b[39mfrom\u001b[39;00m \u001b[39meotdl\u001b[39;00m\u001b[39m.\u001b[39;00m\u001b[39mcuration\u001b[39;00m\u001b[39m.\u001b[39;00m\u001b[39mstac\u001b[39;00m\u001b[39m.\u001b[39;00m\u001b[39mml_dataset\u001b[39;00m \u001b[39mimport\u001b[39;00m MLDatasetQualityMetrics\n\u001b[1;32m      <a href='vscode-notebook-cell:/Users/fran/Documents/Projects/eotdl/demos/ipynbs/04_ml_dataset_extension.ipynb#W6sZmlsZQ%3D%3D?line=2'>3</a>\u001b[0m catalog \u001b[39m=\u001b[39m \u001b[39m'\u001b[39m\u001b[39mdata/EuroSAT-STAC-ML/catalog.json\u001b[39m\u001b[39m'\u001b[39m\n\u001b[0;32m----> <a href='vscode-notebook-cell:/Users/fran/Documents/Projects/eotdl/demos/ipynbs/04_ml_dataset_extension.ipynb#W6sZmlsZQ%3D%3D?line=4'>5</a>\u001b[0m MLDatasetQualityMetrics\u001b[39m.\u001b[39mcalculate(catalog)\n",
      "File \u001b[0;32m~/Documents/Projects/eotdl/demos/ipynbs/eotdl/curation/stac/ml_dataset.py:276\u001b[0m, in \u001b[0;36mMLDatasetQualityMetrics.calculate\u001b[0;34m(self, catalog)\u001b[0m\n\u001b[1;32m    273\u001b[0m \u001b[39m\u001b[39m\u001b[39m\"\"\" \"\"\"\u001b[39;00m\n\u001b[1;32m    275\u001b[0m \u001b[39mif\u001b[39;00m \u001b[39misinstance\u001b[39m(catalog, \u001b[39mstr\u001b[39m):\n\u001b[0;32m--> 276\u001b[0m     catalog \u001b[39m=\u001b[39m MLDatasetExtension(pystac\u001b[39m.\u001b[39mread_file(catalog))\n\u001b[1;32m    277\u001b[0m \u001b[39m# Check the catalog has the extension\u001b[39;00m\n\u001b[1;32m    278\u001b[0m \u001b[39mif\u001b[39;00m \u001b[39mnot\u001b[39;00m MLDatasetExtension\u001b[39m.\u001b[39mhas_extension(catalog):\n",
      "File \u001b[0;32m~/miniconda3/envs/sen12floods/lib/python3.11/site-packages/pystac/__init__.py:161\u001b[0m, in \u001b[0;36mread_file\u001b[0;34m(href, stac_io)\u001b[0m\n\u001b[1;32m    159\u001b[0m \u001b[39mif\u001b[39;00m stac_io \u001b[39mis\u001b[39;00m \u001b[39mNone\u001b[39;00m:\n\u001b[1;32m    160\u001b[0m     stac_io \u001b[39m=\u001b[39m StacIO\u001b[39m.\u001b[39mdefault()\n\u001b[0;32m--> 161\u001b[0m \u001b[39mreturn\u001b[39;00m stac_io\u001b[39m.\u001b[39mread_stac_object(href)\n",
      "File \u001b[0;32m~/miniconda3/envs/sen12floods/lib/python3.11/site-packages/pystac/stac_io.py:234\u001b[0m, in \u001b[0;36mStacIO.read_stac_object\u001b[0;34m(self, source, root, *args, **kwargs)\u001b[0m\n\u001b[1;32m    208\u001b[0m \u001b[39mdef\u001b[39;00m \u001b[39mread_stac_object\u001b[39m(\n\u001b[1;32m    209\u001b[0m     \u001b[39mself\u001b[39m,\n\u001b[1;32m    210\u001b[0m     source: HREF,\n\u001b[0;32m   (...)\u001b[0m\n\u001b[1;32m    213\u001b[0m     \u001b[39m*\u001b[39m\u001b[39m*\u001b[39mkwargs: Any,\n\u001b[1;32m    214\u001b[0m ) \u001b[39m-\u001b[39m\u001b[39m>\u001b[39m STACObject:\n\u001b[1;32m    215\u001b[0m \u001b[39m    \u001b[39m\u001b[39m\"\"\"Read a STACObject from a JSON file at the given source.\u001b[39;00m\n\u001b[1;32m    216\u001b[0m \n\u001b[1;32m    217\u001b[0m \u001b[39m    See :func:`StacIO.read_text <pystac.StacIO.read_text>` for usage of\u001b[39;00m\n\u001b[0;32m   (...)\u001b[0m\n\u001b[1;32m    232\u001b[0m \u001b[39m        contained in the file at the given uri.\u001b[39;00m\n\u001b[1;32m    233\u001b[0m \u001b[39m    \"\"\"\u001b[39;00m\n\u001b[0;32m--> 234\u001b[0m     d \u001b[39m=\u001b[39m \u001b[39mself\u001b[39m\u001b[39m.\u001b[39mread_json(source, \u001b[39m*\u001b[39margs, \u001b[39m*\u001b[39m\u001b[39m*\u001b[39mkwargs)\n\u001b[1;32m    235\u001b[0m     \u001b[39mreturn\u001b[39;00m \u001b[39mself\u001b[39m\u001b[39m.\u001b[39mstac_object_from_dict(\n\u001b[1;32m    236\u001b[0m         d, href\u001b[39m=\u001b[39msource, root\u001b[39m=\u001b[39mroot, preserve_dict\u001b[39m=\u001b[39m\u001b[39mFalse\u001b[39;00m\n\u001b[1;32m    237\u001b[0m     )\n",
      "File \u001b[0;32m~/miniconda3/envs/sen12floods/lib/python3.11/site-packages/pystac/stac_io.py:205\u001b[0m, in \u001b[0;36mStacIO.read_json\u001b[0;34m(self, source, *args, **kwargs)\u001b[0m\n\u001b[1;32m    188\u001b[0m \u001b[39mdef\u001b[39;00m \u001b[39mread_json\u001b[39m(\u001b[39mself\u001b[39m, source: HREF, \u001b[39m*\u001b[39margs: Any, \u001b[39m*\u001b[39m\u001b[39m*\u001b[39mkwargs: Any) \u001b[39m-\u001b[39m\u001b[39m>\u001b[39m Dict[\u001b[39mstr\u001b[39m, Any]:\n\u001b[1;32m    189\u001b[0m \u001b[39m    \u001b[39m\u001b[39m\"\"\"Read a dict from the given source.\u001b[39;00m\n\u001b[1;32m    190\u001b[0m \n\u001b[1;32m    191\u001b[0m \u001b[39m    See :func:`StacIO.read_text <pystac.StacIO.read_text>` for usage of\u001b[39;00m\n\u001b[0;32m   (...)\u001b[0m\n\u001b[1;32m    203\u001b[0m \u001b[39m        given source.\u001b[39;00m\n\u001b[1;32m    204\u001b[0m \u001b[39m    \"\"\"\u001b[39;00m\n\u001b[0;32m--> 205\u001b[0m     txt \u001b[39m=\u001b[39m \u001b[39mself\u001b[39m\u001b[39m.\u001b[39mread_text(source, \u001b[39m*\u001b[39margs, \u001b[39m*\u001b[39m\u001b[39m*\u001b[39mkwargs)\n\u001b[1;32m    206\u001b[0m     \u001b[39mreturn\u001b[39;00m \u001b[39mself\u001b[39m\u001b[39m.\u001b[39mjson_loads(txt)\n",
      "File \u001b[0;32m~/miniconda3/envs/sen12floods/lib/python3.11/site-packages/pystac/stac_io.py:282\u001b[0m, in \u001b[0;36mDefaultStacIO.read_text\u001b[0;34m(self, source, *_, **__)\u001b[0m\n\u001b[1;32m    277\u001b[0m \u001b[39m\u001b[39m\u001b[39m\"\"\"A concrete implementation of :meth:`StacIO.read_text\u001b[39;00m\n\u001b[1;32m    278\u001b[0m \u001b[39m<pystac.StacIO.read_text>`. Converts the ``source`` argument to a string (if it\u001b[39;00m\n\u001b[1;32m    279\u001b[0m \u001b[39mis not already) and delegates to :meth:`DefaultStacIO.read_text_from_href` for\u001b[39;00m\n\u001b[1;32m    280\u001b[0m \u001b[39mopening and reading the file.\"\"\"\u001b[39;00m\n\u001b[1;32m    281\u001b[0m href \u001b[39m=\u001b[39m \u001b[39mstr\u001b[39m(os\u001b[39m.\u001b[39mfspath(source))\n\u001b[0;32m--> 282\u001b[0m \u001b[39mreturn\u001b[39;00m \u001b[39mself\u001b[39m\u001b[39m.\u001b[39mread_text_from_href(href)\n",
      "File \u001b[0;32m~/miniconda3/envs/sen12floods/lib/python3.11/site-packages/pystac/stac_io.py:305\u001b[0m, in \u001b[0;36mDefaultStacIO.read_text_from_href\u001b[0;34m(self, href)\u001b[0m\n\u001b[1;32m    303\u001b[0m         \u001b[39mraise\u001b[39;00m \u001b[39mException\u001b[39;00m(\u001b[39m\"\u001b[39m\u001b[39mCould not read uri \u001b[39m\u001b[39m{}\u001b[39;00m\u001b[39m\"\u001b[39m\u001b[39m.\u001b[39mformat(href)) \u001b[39mfrom\u001b[39;00m \u001b[39me\u001b[39;00m\n\u001b[1;32m    304\u001b[0m \u001b[39melse\u001b[39;00m:\n\u001b[0;32m--> 305\u001b[0m     \u001b[39mwith\u001b[39;00m \u001b[39mopen\u001b[39m(href, encoding\u001b[39m=\u001b[39m\u001b[39m\"\u001b[39m\u001b[39mutf-8\u001b[39m\u001b[39m\"\u001b[39m) \u001b[39mas\u001b[39;00m f:\n\u001b[1;32m    306\u001b[0m         href_contents \u001b[39m=\u001b[39m f\u001b[39m.\u001b[39mread()\n\u001b[1;32m    307\u001b[0m \u001b[39mreturn\u001b[39;00m href_contents\n",
      "\u001b[0;31mFileNotFoundError\u001b[0m: [Errno 2] No such file or directory: 'data/EuroSAT-STAC-ML/catalog.json'"
     ]
    }
   ],
   "source": [
    "from eotdl.curation.stac.ml_dataset import MLDatasetQualityMetrics\n",
    "\n",
    "catalog = 'data/EuroSAT-STAC-sample-ML/catalog.json'\n",
    "\n",
    "MLDatasetQualityMetrics.calculate(catalog)"
   ]
  }
 ],
 "metadata": {
  "kernelspec": {
   "display_name": "sen12floods",
   "language": "python",
   "name": "python3"
  },
  "language_info": {
   "codemirror_mode": {
    "name": "ipython",
    "version": 3
   },
   "file_extension": ".py",
   "mimetype": "text/x-python",
   "name": "python",
   "nbconvert_exporter": "python",
   "pygments_lexer": "ipython3",
   "version": "3.11.3"
  },
  "orig_nbformat": 4
 },
 "nbformat": 4,
 "nbformat_minor": 2
}
