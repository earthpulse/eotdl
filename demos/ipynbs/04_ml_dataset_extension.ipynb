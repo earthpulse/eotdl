{
 "cells": [
  {
   "attachments": {},
   "cell_type": "markdown",
   "metadata": {},
   "source": [
    "# ML Dataset STAC extension"
   ]
  },
  {
   "attachments": {},
   "cell_type": "markdown",
   "metadata": {},
   "source": [
    "Here we explore how to use the ml-dataset extension"
   ]
  },
  {
   "cell_type": "code",
   "execution_count": null,
   "metadata": {},
   "outputs": [],
   "source": [
    "!pip uninstall -y pystac\n",
    "!pip install git+https://github.com/earthpulse/pystac.git@ml-dataset"
   ]
  },
  {
   "cell_type": "code",
   "execution_count": 21,
   "metadata": {},
   "outputs": [],
   "source": [
    "import pystac\n",
    "from pystac.extensions.ml_dataset import MLDatasetExtension"
   ]
  },
  {
   "cell_type": "code",
   "execution_count": 22,
   "metadata": {},
   "outputs": [
    {
     "name": "stdout",
     "output_type": "stream",
     "text": [
      "The autoreload extension is already loaded. To reload it, use:\n",
      "  %reload_ext autoreload\n"
     ]
    }
   ],
   "source": [
    "%load_ext autoreload\n",
    "%autoreload 2"
   ]
  },
  {
   "cell_type": "code",
   "execution_count": 23,
   "metadata": {},
   "outputs": [],
   "source": [
    "catalog = pystac.read_file(\n",
    "    \"https://raw.githubusercontent.com/radiantearth/stac-spec/master/examples/catalog.json\"\n",
    ")"
   ]
  },
  {
   "cell_type": "code",
   "execution_count": 24,
   "metadata": {},
   "outputs": [
    {
     "name": "stdout",
     "output_type": "stream",
     "text": [
      "Implements Extension: False\n"
     ]
    }
   ],
   "source": [
    "print(f\"Implements Extension: {MLDatasetExtension.has_extension(catalog)}\")"
   ]
  },
  {
   "cell_type": "code",
   "execution_count": 25,
   "metadata": {},
   "outputs": [],
   "source": [
    "catalog_ml_dataset = MLDatasetExtension.ext(catalog, add_if_missing=True)"
   ]
  },
  {
   "cell_type": "code",
   "execution_count": 26,
   "metadata": {},
   "outputs": [],
   "source": [
    "split_training = pystac.Link(\n",
    "    rel=\"child\",\n",
    "    target=\"flood-detection-training/catalog.json\",\n",
    "    media_type=\"application/json\",\n",
    "    title=\"flood-detection-training\",\n",
    ")\n",
    "\n",
    "split_validation = pystac.Link(\n",
    "    rel=\"child\",\n",
    "    target=\"flood-detection-validation/catalog.json\",\n",
    "    media_type=\"application/json\",\n",
    "    title=\"flood-detection-validation\",\n",
    ")\n"
   ]
  },
  {
   "cell_type": "code",
   "execution_count": 27,
   "metadata": {},
   "outputs": [],
   "source": [
    "catalog_ml_dataset.name = 'Test ML Dataset'\n",
    "catalog_ml_dataset.tasks = ['image classification', 'segmentation']\n",
    "catalog_ml_dataset.inputs_type = ['satellite imagery']\n",
    "catalog_ml_dataset.annotations_type = 'raster'\n",
    "catalog_ml_dataset.quality = 'L0'\n",
    "catalog_ml_dataset.version = '0.1.0'\n",
    "catalog_ml_dataset.add_splits((split_training, split_validation))"
   ]
  },
  {
   "cell_type": "code",
   "execution_count": 28,
   "metadata": {},
   "outputs": [
    {
     "name": "stdout",
     "output_type": "stream",
     "text": [
      "{'type': 'Catalog', 'id': 'examples', 'stac_version': '1.0.0', 'description': 'This catalog is a simple demonstration of an example catalog that is used to organize a hierarchy of collections and their items.', 'links': [{'rel': 'self', 'href': 'https://raw.githubusercontent.com/radiantearth/stac-spec/master/examples/catalog.json', 'type': 'application/json'}, {'rel': 'root', 'href': './catalog.json', 'type': 'application/json', 'title': 'Example Catalog'}, {'rel': 'child', 'href': './extensions-collection/collection.json', 'type': 'application/json', 'title': 'Collection Demonstrating STAC Extensions'}, {'rel': 'child', 'href': './collection-only/collection.json', 'type': 'application/json', 'title': 'Collection with no items (standalone)'}, {'rel': 'child', 'href': './collection-only/collection-with-schemas.json', 'type': 'application/json', 'title': 'Collection with no items (standalone with JSON Schemas)'}, {'rel': 'item', 'href': './collectionless-item.json', 'type': 'application/json', 'title': 'Collection with no items (standalone)'}], 'stac_extensions': ['https://raw.githubusercontent.com/earthpulse/ml-dataset/main/json-schema/schema.json'], 'ml-dataset:splits': [{'rel': 'child', 'href': 'flood-detection-training/catalog.json', 'type': 'application/json', 'title': 'flood-detection-training'}, {'rel': 'child', 'href': 'flood-detection-validation/catalog.json', 'type': 'application/json', 'title': 'flood-detection-validation'}], 'ml-dataset:name': 'Test ML Dataset', 'ml-dataset:tasks': ['image classification', 'segmentation'], 'ml-dataset:inputs-type': 'satellite imagery', 'ml-dataset:annotations-type': 'raster', 'ml-dataset:quality': 'L0', 'ml-dataset:version': '0.1.0', 'title': 'Example Catalog'}\n"
     ]
    }
   ],
   "source": [
    "print(catalog_ml_dataset.to_dict())"
   ]
  },
  {
   "cell_type": "code",
   "execution_count": 29,
   "metadata": {},
   "outputs": [],
   "source": [
    "catalog_ml_dataset.save(dest_href='flood-detection')"
   ]
  },
  {
   "cell_type": "code",
   "execution_count": 30,
   "metadata": {},
   "outputs": [
    {
     "ename": "STACValidationError",
     "evalue": "Validation failed for Catalog at https://raw.githubusercontent.com/radiantearth/stac-spec/master/examples/catalog.json with ID examples against schema at https://raw.githubusercontent.com/earthpulse/ml-dataset/main/json-schema/schema.json for STAC extension 'https://raw.githubusercontent.com/earthpulse/ml-dataset/main/json-schema/schema.json'",
     "output_type": "error",
     "traceback": [
      "\u001b[0;31m---------------------------------------------------------------------------\u001b[0m",
      "\u001b[0;31mValidationError\u001b[0m                           Traceback (most recent call last)",
      "\u001b[0;31mValidationError\u001b[0m: 'satellite imagery' is not of type 'array'\n\nFailed validating 'type' in schema[0]['allOf'][0]['properties']['ml-dataset:inputs-type']:\n    {'items': {'enum': ['text', 'image', 'satellite imagery', 'video'],\n               'type': 'string'},\n     'title': 'ML Dataset Inputs type',\n     'type': 'array'}\n\nOn instance['ml-dataset:inputs-type']:\n    'satellite imagery'",
      "\nThe above exception was the direct cause of the following exception:\n",
      "\u001b[0;31mSTACValidationError\u001b[0m                       Traceback (most recent call last)",
      "Cell \u001b[0;32mIn[30], line 1\u001b[0m\n\u001b[0;32m----> 1\u001b[0m catalog_ml_dataset\u001b[39m.\u001b[39mvalidate()\n",
      "File \u001b[0;32m~/miniconda3/envs/sen12floods/lib/python3.11/site-packages/pystac/stac_object.py:80\u001b[0m, in \u001b[0;36mSTACObject.validate\u001b[0;34m(self)\u001b[0m\n\u001b[1;32m     69\u001b[0m \u001b[39m\"\"\"Validate this STACObject.\u001b[39;00m\n\u001b[1;32m     70\u001b[0m \n\u001b[1;32m     71\u001b[0m \u001b[39mReturns a list of validation results, which depends on the validation\u001b[39;00m\n\u001b[0;32m   (...)\u001b[0m\n\u001b[1;32m     76\u001b[0m \u001b[39m    STACValidationError\u001b[39;00m\n\u001b[1;32m     77\u001b[0m \u001b[39m\"\"\"\u001b[39;00m\n\u001b[1;32m     78\u001b[0m \u001b[39mimport\u001b[39;00m \u001b[39mpystac\u001b[39;00m\u001b[39m.\u001b[39;00m\u001b[39mvalidation\u001b[39;00m\n\u001b[0;32m---> 80\u001b[0m \u001b[39mreturn\u001b[39;00m pystac\u001b[39m.\u001b[39mvalidation\u001b[39m.\u001b[39mvalidate(\u001b[39mself\u001b[39m)\n",
      "File \u001b[0;32m~/miniconda3/envs/sen12floods/lib/python3.11/site-packages/pystac/validation/__init__.py:32\u001b[0m, in \u001b[0;36mvalidate\u001b[0;34m(stac_object)\u001b[0m\n\u001b[1;32m     18\u001b[0m \u001b[39mdef\u001b[39;00m \u001b[39mvalidate\u001b[39m(stac_object: STACObject) \u001b[39m-\u001b[39m\u001b[39m>\u001b[39m List[Any]:\n\u001b[1;32m     19\u001b[0m     \u001b[39m\"\"\"Validates a :class:`~pystac.STACObject`.\u001b[39;00m\n\u001b[1;32m     20\u001b[0m \n\u001b[1;32m     21\u001b[0m \u001b[39m    Args:\u001b[39;00m\n\u001b[0;32m   (...)\u001b[0m\n\u001b[1;32m     30\u001b[0m \u001b[39m        STACValidationError\u001b[39;00m\n\u001b[1;32m     31\u001b[0m \u001b[39m    \"\"\"\u001b[39;00m\n\u001b[0;32m---> 32\u001b[0m     \u001b[39mreturn\u001b[39;00m validate_dict(\n\u001b[1;32m     33\u001b[0m         stac_dict\u001b[39m=\u001b[39mstac_object\u001b[39m.\u001b[39mto_dict(),\n\u001b[1;32m     34\u001b[0m         stac_object_type\u001b[39m=\u001b[39mstac_object\u001b[39m.\u001b[39mSTAC_OBJECT_TYPE,\n\u001b[1;32m     35\u001b[0m         stac_version\u001b[39m=\u001b[39mpystac\u001b[39m.\u001b[39mget_stac_version(),\n\u001b[1;32m     36\u001b[0m         extensions\u001b[39m=\u001b[39mstac_object\u001b[39m.\u001b[39mstac_extensions,\n\u001b[1;32m     37\u001b[0m         href\u001b[39m=\u001b[39mstac_object\u001b[39m.\u001b[39mget_self_href(),\n\u001b[1;32m     38\u001b[0m     )\n",
      "File \u001b[0;32m~/miniconda3/envs/sen12floods/lib/python3.11/site-packages/pystac/validation/__init__.py:103\u001b[0m, in \u001b[0;36mvalidate_dict\u001b[0;34m(stac_dict, stac_object_type, stac_version, extensions, href)\u001b[0m\n\u001b[1;32m     95\u001b[0m         \u001b[39mreturn\u001b[39;00m OldExtensionSchemaUriMap\u001b[39m.\u001b[39mget_extension_schema_uri(\n\u001b[1;32m     96\u001b[0m             ext,\n\u001b[1;32m     97\u001b[0m             stac_object_type,  \u001b[39m# type:ignore\u001b[39;00m\n\u001b[1;32m     98\u001b[0m             stac_version_id,\n\u001b[1;32m     99\u001b[0m         )\n\u001b[1;32m    101\u001b[0m     extensions \u001b[39m=\u001b[39m [uri \u001b[39mfor\u001b[39;00m uri \u001b[39min\u001b[39;00m \u001b[39mmap\u001b[39m(_get_uri, extensions) \u001b[39mif\u001b[39;00m uri \u001b[39mis\u001b[39;00m \u001b[39mnot\u001b[39;00m \u001b[39mNone\u001b[39;00m]\n\u001b[0;32m--> 103\u001b[0m \u001b[39mreturn\u001b[39;00m RegisteredValidator\u001b[39m.\u001b[39mget_validator()\u001b[39m.\u001b[39mvalidate(\n\u001b[1;32m    104\u001b[0m     stac_dict, stac_object_type, stac_version, extensions, href\n\u001b[1;32m    105\u001b[0m )\n",
      "File \u001b[0;32m~/miniconda3/envs/sen12floods/lib/python3.11/site-packages/pystac/validation/stac_validator.py:109\u001b[0m, in \u001b[0;36mSTACValidator.validate\u001b[0;34m(self, stac_dict, stac_object_type, stac_version, extensions, href)\u001b[0m\n\u001b[1;32m    106\u001b[0m     results\u001b[39m.\u001b[39mappend(core_result)\n\u001b[1;32m    108\u001b[0m \u001b[39mfor\u001b[39;00m extension_id \u001b[39min\u001b[39;00m extensions:\n\u001b[0;32m--> 109\u001b[0m     ext_result \u001b[39m=\u001b[39m \u001b[39mself\u001b[39m\u001b[39m.\u001b[39mvalidate_extension(\n\u001b[1;32m    110\u001b[0m         json_dict, stac_object_type, stac_version, extension_id, href\n\u001b[1;32m    111\u001b[0m     )\n\u001b[1;32m    112\u001b[0m     \u001b[39mif\u001b[39;00m ext_result \u001b[39mis\u001b[39;00m \u001b[39mnot\u001b[39;00m \u001b[39mNone\u001b[39;00m:\n\u001b[1;32m    113\u001b[0m         results\u001b[39m.\u001b[39mappend(ext_result)\n",
      "File \u001b[0;32m~/miniconda3/envs/sen12floods/lib/python3.11/site-packages/pystac/validation/stac_validator.py:289\u001b[0m, in \u001b[0;36mJsonSchemaSTACValidator.validate_extension\u001b[0;34m(self, stac_dict, stac_object_type, stac_version, extension_id, href)\u001b[0m\n\u001b[1;32m    286\u001b[0m     \u001b[39mreturn\u001b[39;00m \u001b[39mNone\u001b[39;00m\n\u001b[1;32m    287\u001b[0m schema_uri \u001b[39m=\u001b[39m pystac\u001b[39m.\u001b[39mutils\u001b[39m.\u001b[39mmake_absolute_href(schema_uri, href)\n\u001b[0;32m--> 289\u001b[0m \u001b[39mself\u001b[39m\u001b[39m.\u001b[39m_validate_from_uri(\n\u001b[1;32m    290\u001b[0m     stac_dict, stac_object_type, schema_uri, extension_id, href\n\u001b[1;32m    291\u001b[0m )\n\u001b[1;32m    292\u001b[0m \u001b[39mreturn\u001b[39;00m schema_uri\n",
      "File \u001b[0;32m~/miniconda3/envs/sen12floods/lib/python3.11/site-packages/pystac/validation/stac_validator.py:191\u001b[0m, in \u001b[0;36mJsonSchemaSTACValidator._validate_from_uri\u001b[0;34m(self, stac_dict, stac_object_type, schema_uri, extension_id, href)\u001b[0m\n\u001b[1;32m    183\u001b[0m     msg \u001b[39m=\u001b[39m \u001b[39mself\u001b[39m\u001b[39m.\u001b[39m_get_error_message(\n\u001b[1;32m    184\u001b[0m         schema_uri,\n\u001b[1;32m    185\u001b[0m         stac_object_type,\n\u001b[0;32m   (...)\u001b[0m\n\u001b[1;32m    188\u001b[0m         stac_dict\u001b[39m.\u001b[39mget(\u001b[39m\"\u001b[39m\u001b[39mid\u001b[39m\u001b[39m\"\u001b[39m, \u001b[39mNone\u001b[39;00m),\n\u001b[1;32m    189\u001b[0m     )\n\u001b[1;32m    190\u001b[0m     best \u001b[39m=\u001b[39m jsonschema\u001b[39m.\u001b[39mexceptions\u001b[39m.\u001b[39mbest_match(errors)\n\u001b[0;32m--> 191\u001b[0m     \u001b[39mraise\u001b[39;00m pystac\u001b[39m.\u001b[39mSTACValidationError(msg, source\u001b[39m=\u001b[39merrors) \u001b[39mfrom\u001b[39;00m \u001b[39mbest\u001b[39;00m\n\u001b[1;32m    192\u001b[0m \u001b[39mfor\u001b[39;00m uri \u001b[39min\u001b[39;00m resolver\u001b[39m.\u001b[39mstore:\n\u001b[1;32m    193\u001b[0m     \u001b[39mif\u001b[39;00m uri \u001b[39mnot\u001b[39;00m \u001b[39min\u001b[39;00m \u001b[39mself\u001b[39m\u001b[39m.\u001b[39mschema_cache:\n",
      "\u001b[0;31mSTACValidationError\u001b[0m: Validation failed for Catalog at https://raw.githubusercontent.com/radiantearth/stac-spec/master/examples/catalog.json with ID examples against schema at https://raw.githubusercontent.com/earthpulse/ml-dataset/main/json-schema/schema.json for STAC extension 'https://raw.githubusercontent.com/earthpulse/ml-dataset/main/json-schema/schema.json'"
     ]
    }
   ],
   "source": [
    "catalog_ml_dataset.validate()"
   ]
  }
 ],
 "metadata": {
  "kernelspec": {
   "display_name": "sen12floods",
   "language": "python",
   "name": "python3"
  },
  "language_info": {
   "codemirror_mode": {
    "name": "ipython",
    "version": 3
   },
   "file_extension": ".py",
   "mimetype": "text/x-python",
   "name": "python",
   "nbconvert_exporter": "python",
   "pygments_lexer": "ipython3",
   "version": "3.11.3"
  },
  "orig_nbformat": 4
 },
 "nbformat": 4,
 "nbformat_minor": 2
}
