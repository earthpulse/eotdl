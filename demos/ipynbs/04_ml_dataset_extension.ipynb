{
 "cells": [
  {
   "attachments": {},
   "cell_type": "markdown",
   "metadata": {},
   "source": [
    "# ML Dataset STAC extension"
   ]
  },
  {
   "attachments": {},
   "cell_type": "markdown",
   "metadata": {},
   "source": [
    "Here we explore how to use the ml-dataset extension"
   ]
  },
  {
   "cell_type": "code",
   "execution_count": null,
   "metadata": {},
   "outputs": [],
   "source": [
    "!pip uninstall -y pystac\n",
    "!pip install git+https://github.com/earthpulse/pystac.git@ml-dataset   # Use this branch until PR is merged"
   ]
  },
  {
   "cell_type": "code",
   "execution_count": 1,
   "metadata": {},
   "outputs": [],
   "source": [
    "import pystac\n",
    "from pystac.extensions.ml_dataset import MLDatasetExtension"
   ]
  },
  {
   "cell_type": "code",
   "execution_count": 2,
   "metadata": {},
   "outputs": [],
   "source": [
    "%load_ext autoreload\n",
    "%autoreload 2"
   ]
  },
  {
   "cell_type": "code",
   "execution_count": 3,
   "metadata": {},
   "outputs": [],
   "source": [
    "catalog = pystac.read_file(\n",
    "    \"https://raw.githubusercontent.com/radiantearth/stac-spec/master/examples/catalog.json\"\n",
    ")"
   ]
  },
  {
   "cell_type": "code",
   "execution_count": 4,
   "metadata": {},
   "outputs": [
    {
     "name": "stdout",
     "output_type": "stream",
     "text": [
      "Implements Extension: False\n"
     ]
    }
   ],
   "source": [
    "print(f\"Implements Extension: {MLDatasetExtension.has_extension(catalog)}\")"
   ]
  },
  {
   "cell_type": "code",
   "execution_count": 5,
   "metadata": {},
   "outputs": [],
   "source": [
    "catalog_ml_dataset = MLDatasetExtension.ext(catalog, add_if_missing=True)"
   ]
  },
  {
   "cell_type": "code",
   "execution_count": 6,
   "metadata": {},
   "outputs": [],
   "source": [
    "split_training = pystac.Link(\n",
    "    rel=\"child\",\n",
    "    target=\"flood-detection-training/catalog.json\",\n",
    "    media_type=\"application/json\",\n",
    "    title=\"flood-detection-training\",\n",
    ")\n",
    "\n",
    "split_validation = pystac.Link(\n",
    "    rel=\"child\",\n",
    "    target=\"flood-detection-validation/catalog.json\",\n",
    "    media_type=\"application/json\",\n",
    "    title=\"flood-detection-validation\",\n",
    ")\n"
   ]
  },
  {
   "cell_type": "code",
   "execution_count": 7,
   "metadata": {},
   "outputs": [],
   "source": [
    "catalog_ml_dataset.name = 'Test ML Dataset'\n",
    "catalog_ml_dataset.tasks = ['image classification', 'segmentation']\n",
    "catalog_ml_dataset.inputs_type = ['satellite imagery']\n",
    "catalog_ml_dataset.annotations_type = 'raster'\n",
    "catalog_ml_dataset.quality = 'L0'\n",
    "catalog_ml_dataset.version = '0.1.0'\n",
    "catalog_ml_dataset.add_splits((split_training, split_validation))"
   ]
  },
  {
   "cell_type": "code",
   "execution_count": 8,
   "metadata": {},
   "outputs": [
    {
     "name": "stdout",
     "output_type": "stream",
     "text": [
      "{'type': 'Catalog', 'id': 'examples', 'stac_version': '1.0.0', 'description': 'This catalog is a simple demonstration of an example catalog that is used to organize a hierarchy of collections and their items.', 'links': [{'rel': 'self', 'href': 'https://raw.githubusercontent.com/radiantearth/stac-spec/master/examples/catalog.json', 'type': 'application/json'}, {'rel': 'root', 'href': './catalog.json', 'type': 'application/json', 'title': 'Example Catalog'}, {'rel': 'child', 'href': './extensions-collection/collection.json', 'type': 'application/json', 'title': 'Collection Demonstrating STAC Extensions'}, {'rel': 'child', 'href': './collection-only/collection.json', 'type': 'application/json', 'title': 'Collection with no items (standalone)'}, {'rel': 'child', 'href': './collection-only/collection-with-schemas.json', 'type': 'application/json', 'title': 'Collection with no items (standalone with JSON Schemas)'}, {'rel': 'item', 'href': './collectionless-item.json', 'type': 'application/json', 'title': 'Collection with no items (standalone)'}], 'stac_extensions': ['https://raw.githubusercontent.com/earthpulse/ml-dataset/main/json-schema/schema.json'], 'ml-dataset:splits': [{'rel': 'child', 'href': 'flood-detection-training/catalog.json', 'type': 'application/json', 'title': 'flood-detection-training'}, {'rel': 'child', 'href': 'flood-detection-validation/catalog.json', 'type': 'application/json', 'title': 'flood-detection-validation'}], 'ml-dataset:name': 'Test ML Dataset', 'ml-dataset:tasks': ['image classification', 'segmentation'], 'ml-dataset:inputs-type': ['satellite imagery'], 'ml-dataset:annotations-type': 'raster', 'ml-dataset:quality': 'L0', 'ml-dataset:version': '0.1.0', 'title': 'Example Catalog'}\n"
     ]
    }
   ],
   "source": [
    "print(catalog_ml_dataset.to_dict())"
   ]
  },
  {
   "cell_type": "code",
   "execution_count": 9,
   "metadata": {},
   "outputs": [],
   "source": [
    "catalog_ml_dataset.save(dest_href='flood-detection')"
   ]
  },
  {
   "cell_type": "code",
   "execution_count": 10,
   "metadata": {},
   "outputs": [
    {
     "data": {
      "text/plain": [
       "['https://schemas.stacspec.org/v1.0.0/catalog-spec/json-schema/catalog.json',\n",
       " 'https://raw.githubusercontent.com/earthpulse/ml-dataset/main/json-schema/schema.json']"
      ]
     },
     "execution_count": 10,
     "metadata": {},
     "output_type": "execute_result"
    }
   ],
   "source": [
    "catalog_ml_dataset.validate()"
   ]
  }
 ],
 "metadata": {
  "kernelspec": {
   "display_name": "sen12floods",
   "language": "python",
   "name": "python3"
  },
  "language_info": {
   "codemirror_mode": {
    "name": "ipython",
    "version": 3
   },
   "file_extension": ".py",
   "mimetype": "text/x-python",
   "name": "python",
   "nbconvert_exporter": "python",
   "pygments_lexer": "ipython3",
   "version": "3.11.3"
  },
  "orig_nbformat": 4
 },
 "nbformat": 4,
 "nbformat_minor": 2
}
