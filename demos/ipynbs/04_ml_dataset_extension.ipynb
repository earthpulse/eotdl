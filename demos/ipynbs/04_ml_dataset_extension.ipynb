{
 "cells": [
  {
   "attachments": {},
   "cell_type": "markdown",
   "metadata": {},
   "source": [
    "# ML Dataset STAC extension"
   ]
  },
  {
   "attachments": {},
   "cell_type": "markdown",
   "metadata": {},
   "source": [
    "Here we explore how to use the ml-dataset extension"
   ]
  },
  {
   "cell_type": "code",
   "execution_count": 1,
   "metadata": {},
   "outputs": [],
   "source": [
    "%load_ext autoreload\n",
    "%autoreload 2"
   ]
  },
  {
   "cell_type": "code",
   "execution_count": 5,
   "metadata": {},
   "outputs": [],
   "source": [
    "import pystac\n",
    "\n",
    "catalog = pystac.read_file('data/EuroSAT-STAC-sample/catalog.json')"
   ]
  },
  {
   "cell_type": "code",
   "execution_count": 6,
   "metadata": {},
   "outputs": [
    {
     "name": "stdout",
     "output_type": "stream",
     "text": [
      "Generating splits...\n",
      "Total size: 100\n",
      "Train size: 80\n",
      "Test size: 10\n",
      "Validation size: 10\n",
      "Generating Training split...\n"
     ]
    },
    {
     "name": "stderr",
     "output_type": "stream",
     "text": [
      "100%|██████████| 80/80 [00:00<00:00, 8467.14it/s]\n"
     ]
    },
    {
     "name": "stdout",
     "output_type": "stream",
     "text": [
      "Generating Validation split...\n"
     ]
    },
    {
     "name": "stderr",
     "output_type": "stream",
     "text": [
      "100%|██████████| 10/10 [00:00<00:00, 10485.76it/s]\n"
     ]
    },
    {
     "name": "stdout",
     "output_type": "stream",
     "text": [
      "Generating Test split...\n"
     ]
    },
    {
     "name": "stderr",
     "output_type": "stream",
     "text": [
      "100%|██████████| 10/10 [00:00<00:00, 7698.80it/s]"
     ]
    },
    {
     "name": "stdout",
     "output_type": "stream",
     "text": [
      "Success on splits generation!\n",
      "Validating and saving...\n"
     ]
    },
    {
     "name": "stderr",
     "output_type": "stream",
     "text": [
      "\n"
     ]
    },
    {
     "name": "stdout",
     "output_type": "stream",
     "text": [
      "Success!\n"
     ]
    }
   ],
   "source": [
    "from eotdl.curation.stac.ml_dataset import add_ml_extension\n",
    "\n",
    "add_ml_extension(catalog,\n",
    "                 destination='data/EuroSAT-STAC-sample-ML',\n",
    "                 splits=True,\n",
    "                 name='EuroSAT Q2',\n",
    "                 tasks=['image classification', 'segmentation'],\n",
    "                 inputs_type=['satellite imagery'],\n",
    "                 annotations_type='raster',\n",
    "                 version='0.1.0')"
   ]
  },
  {
   "cell_type": "code",
   "execution_count": 10,
   "metadata": {},
   "outputs": [
    {
     "name": "stdout",
     "output_type": "stream",
     "text": [
      "Looking for spatial duplicates...\n"
     ]
    },
    {
     "name": "stderr",
     "output_type": "stream",
     "text": [
      "400it [00:00, 318413.66it/s]\n"
     ]
    },
    {
     "name": "stdout",
     "output_type": "stream",
     "text": [
      "Calculating classes balance...\n"
     ]
    },
    {
     "name": "stderr",
     "output_type": "stream",
     "text": [
      "400it [00:00, 326278.02it/s]"
     ]
    },
    {
     "name": "stdout",
     "output_type": "stream",
     "text": [
      "{'name': 'label', 'values': [{'class': 'HerbaceousVegetation', 'total': 10, 'percentage': 10}, {'class': 'AnnualCrop', 'total': 9, 'percentage': 9}, {'class': 'Forest', 'total': 13, 'percentage': 13}, {'class': 'Residential', 'total': 5, 'percentage': 5}, {'class': 'Industrial', 'total': 15, 'percentage': 15}, {'class': 'PermanentCrop', 'total': 12, 'percentage': 12}, {'class': 'SeaLake', 'total': 8, 'percentage': 8}, {'class': 'Highway', 'total': 9, 'percentage': 9}, {'class': 'Pasture', 'total': 10, 'percentage': 10}, {'class': 'River', 'total': 9, 'percentage': 9}]}\n"
     ]
    },
    {
     "name": "stderr",
     "output_type": "stream",
     "text": [
      "\n"
     ]
    }
   ],
   "source": [
    "from eotdl.curation.stac.ml_dataset import MLDatasetQualityMetrics\n",
    "\n",
    "catalog = 'data/EuroSAT-STAC-sample-ML/catalog.json'\n",
    "\n",
    "MLDatasetQualityMetrics.calculate(catalog)"
   ]
  }
 ],
 "metadata": {
  "kernelspec": {
   "display_name": "sen12floods",
   "language": "python",
   "name": "python3"
  },
  "language_info": {
   "codemirror_mode": {
    "name": "ipython",
    "version": 3
   },
   "file_extension": ".py",
   "mimetype": "text/x-python",
   "name": "python",
   "nbconvert_exporter": "python",
   "pygments_lexer": "ipython3",
   "version": "3.11.3"
  },
  "orig_nbformat": 4
 },
 "nbformat": 4,
 "nbformat_minor": 2
}
