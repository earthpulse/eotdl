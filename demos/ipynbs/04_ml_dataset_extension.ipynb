{
 "cells": [
  {
   "attachments": {},
   "cell_type": "markdown",
   "metadata": {},
   "source": [
    "# ML Dataset STAC extension"
   ]
  },
  {
   "attachments": {},
   "cell_type": "markdown",
   "metadata": {},
   "source": [
    "Here we explore how to use the ml-dataset extension"
   ]
  },
  {
   "cell_type": "code",
   "execution_count": 19,
   "metadata": {},
   "outputs": [
    {
     "name": "stdout",
     "output_type": "stream",
     "text": [
      "Found existing installation: pystac 1.7.3\n",
      "Uninstalling pystac-1.7.3:\n",
      "  Successfully uninstalled pystac-1.7.3\n",
      "Collecting git+https://github.com/earthpulse/pystac.git@ml-dataset\n",
      "  Cloning https://github.com/earthpulse/pystac.git (to revision ml-dataset) to /private/var/folders/bb/d_59_md170v8ht3ncwr4v3vm0000gp/T/pip-req-build-4smv17ay\n",
      "  Running command git clone --filter=blob:none --quiet https://github.com/earthpulse/pystac.git /private/var/folders/bb/d_59_md170v8ht3ncwr4v3vm0000gp/T/pip-req-build-4smv17ay\n",
      "  Running command git checkout -b ml-dataset --track origin/ml-dataset\n",
      "  Switched to a new branch 'ml-dataset'\n",
      "  branch 'ml-dataset' set up to track 'origin/ml-dataset'.\n",
      "  Resolved https://github.com/earthpulse/pystac.git to commit 717824f06ebb7fb67397c5af375a668ae7e2896d\n",
      "  Installing build dependencies ... \u001b[?25ldone\n",
      "\u001b[?25h  Getting requirements to build wheel ... \u001b[?25ldone\n",
      "\u001b[?25h  Installing backend dependencies ... \u001b[?25ldone\n",
      "\u001b[?25h  Preparing metadata (pyproject.toml) ... \u001b[?25ldone\n",
      "\u001b[?25hRequirement already satisfied: python-dateutil>=2.7.0 in /Users/fran/miniconda3/envs/sen12floods/lib/python3.11/site-packages (from pystac==1.7.3) (2.8.2)\n",
      "Requirement already satisfied: six>=1.5 in /Users/fran/miniconda3/envs/sen12floods/lib/python3.11/site-packages (from python-dateutil>=2.7.0->pystac==1.7.3) (1.16.0)\n",
      "Building wheels for collected packages: pystac\n",
      "  Building wheel for pystac (pyproject.toml) ... \u001b[?25ldone\n",
      "\u001b[?25h  Created wheel for pystac: filename=pystac-1.7.3-py3-none-any.whl size=159060 sha256=725f3079f283850e5f138f9c51f5d0f3f59ff336842d044aa05671249175963f\n",
      "  Stored in directory: /private/var/folders/bb/d_59_md170v8ht3ncwr4v3vm0000gp/T/pip-ephem-wheel-cache-jdjr9667/wheels/1d/f1/db/d6e29235d43bc22a07489c672554489afb1778f7b6235b38f5\n",
      "Successfully built pystac\n",
      "Installing collected packages: pystac\n",
      "Successfully installed pystac-1.7.3\n"
     ]
    }
   ],
   "source": [
    "!pip uninstall -y pystac\n",
    "!pip install git+https://github.com/earthpulse/pystac.git@ml-dataset"
   ]
  },
  {
   "cell_type": "code",
   "execution_count": 30,
   "metadata": {},
   "outputs": [],
   "source": [
    "import pystac\n",
    "from pystac.extensions.ml_dataset import MLDatasetExtension"
   ]
  },
  {
   "cell_type": "code",
   "execution_count": 31,
   "metadata": {},
   "outputs": [
    {
     "name": "stdout",
     "output_type": "stream",
     "text": [
      "The autoreload extension is already loaded. To reload it, use:\n",
      "  %reload_ext autoreload\n"
     ]
    }
   ],
   "source": [
    "%load_ext autoreload\n",
    "%autoreload 2"
   ]
  },
  {
   "cell_type": "code",
   "execution_count": 32,
   "metadata": {},
   "outputs": [],
   "source": [
    "catalog = pystac.read_file(\n",
    "    \"https://raw.githubusercontent.com/radiantearth/stac-spec/master/examples/catalog.json\"\n",
    ")"
   ]
  },
  {
   "cell_type": "code",
   "execution_count": 33,
   "metadata": {},
   "outputs": [
    {
     "name": "stdout",
     "output_type": "stream",
     "text": [
      "Implements Extension: False\n"
     ]
    }
   ],
   "source": [
    "print(f\"Implements Extension: {MLDatasetExtension.has_extension(catalog)}\")"
   ]
  },
  {
   "cell_type": "code",
   "execution_count": 34,
   "metadata": {},
   "outputs": [],
   "source": [
    "catalog_ml_dataset = MLDatasetExtension.ext(catalog, add_if_missing=True)"
   ]
  },
  {
   "cell_type": "code",
   "execution_count": 35,
   "metadata": {},
   "outputs": [],
   "source": [
    "split_training = pystac.Link(\n",
    "    rel=\"child\",\n",
    "    target=\"flood-detection-training/catalog.json\",\n",
    "    media_type=\"application/json\",\n",
    "    title=\"flood-detection-training\",\n",
    ")\n",
    "\n",
    "split_validation = pystac.Link(\n",
    "    rel=\"child\",\n",
    "    target=\"flood-detection-validation/catalog.json\",\n",
    "    media_type=\"application/json\",\n",
    "    title=\"flood-detection-validation\",\n",
    ")\n"
   ]
  },
  {
   "cell_type": "code",
   "execution_count": 36,
   "metadata": {},
   "outputs": [],
   "source": [
    "catalog_ml_dataset.name = 'Test ML Dataset'\n",
    "catalog_ml_dataset.tasks = ['classification', 'segmentation']\n",
    "catalog_ml_dataset.inputs_type = 'satellite imagery'\n",
    "catalog_ml_dataset.annotations_type = 'raster'\n",
    "catalog_ml_dataset.quality = 'L0'\n",
    "catalog_ml_dataset.version = '0.1.0'\n",
    "catalog_ml_dataset.add_splits((split_training, split_validation))"
   ]
  },
  {
   "cell_type": "code",
   "execution_count": 37,
   "metadata": {},
   "outputs": [
    {
     "name": "stdout",
     "output_type": "stream",
     "text": [
      "{'type': 'Catalog', 'id': 'examples', 'stac_version': '1.0.0', 'description': 'This catalog is a simple demonstration of an example catalog that is used to organize a hierarchy of collections and their items.', 'links': [{'rel': 'self', 'href': 'https://raw.githubusercontent.com/radiantearth/stac-spec/master/examples/catalog.json', 'type': 'application/json'}, {'rel': 'root', 'href': './catalog.json', 'type': 'application/json', 'title': 'Example Catalog'}, {'rel': 'child', 'href': './extensions-collection/collection.json', 'type': 'application/json', 'title': 'Collection Demonstrating STAC Extensions'}, {'rel': 'child', 'href': './collection-only/collection.json', 'type': 'application/json', 'title': 'Collection with no items (standalone)'}, {'rel': 'child', 'href': './collection-only/collection-with-schemas.json', 'type': 'application/json', 'title': 'Collection with no items (standalone with JSON Schemas)'}, {'rel': 'item', 'href': './collectionless-item.json', 'type': 'application/json', 'title': 'Collection with no items (standalone)'}], 'stac_extensions': ['https://raw.githubusercontent.com/earthpulse/ml-dataset/main/json-schema/schema.json'], 'ml-dataset:splits': [{'rel': 'child', 'href': 'flood-detection-training/catalog.json', 'type': 'application/json', 'title': 'flood-detection-training'}, {'rel': 'child', 'href': 'flood-detection-validation/catalog.json', 'type': 'application/json', 'title': 'flood-detection-validation'}], 'ml-dataset:name': 'Test ML Dataset', 'ml-dataset:tasks': ['classification', 'segmentation'], 'ml-dataset:inputs_type': 'satellite imagery', 'ml-dataset:annotations_type': 'raster', 'ml-dataset:quality': 'L0', 'ml-dataset:version': '0.1.0', 'title': 'Example Catalog'}\n"
     ]
    }
   ],
   "source": [
    "print(catalog_ml_dataset.to_dict())"
   ]
  },
  {
   "cell_type": "code",
   "execution_count": 38,
   "metadata": {},
   "outputs": [],
   "source": [
    "catalog_ml_dataset.save(dest_href='flood-detection')"
   ]
  },
  {
   "cell_type": "code",
   "execution_count": 39,
   "metadata": {},
   "outputs": [
    {
     "data": {
      "text/plain": [
       "['https://schemas.stacspec.org/v1.0.0/catalog-spec/json-schema/catalog.json',\n",
       " 'https://raw.githubusercontent.com/earthpulse/ml-dataset/main/json-schema/schema.json']"
      ]
     },
     "execution_count": 39,
     "metadata": {},
     "output_type": "execute_result"
    }
   ],
   "source": [
    "catalog_ml_dataset.validate()"
   ]
  }
 ],
 "metadata": {
  "kernelspec": {
   "display_name": "sen12floods",
   "language": "python",
   "name": "python3"
  },
  "language_info": {
   "codemirror_mode": {
    "name": "ipython",
    "version": 3
   },
   "file_extension": ".py",
   "mimetype": "text/x-python",
   "name": "python",
   "nbconvert_exporter": "python",
   "pygments_lexer": "ipython3",
   "version": "3.11.3"
  },
  "orig_nbformat": 4
 },
 "nbformat": 4,
 "nbformat_minor": 2
}
